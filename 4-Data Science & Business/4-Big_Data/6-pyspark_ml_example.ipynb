{
 "cells": [
  {
   "cell_type": "markdown",
   "id": "16da6c54",
   "metadata": {},
   "source": [
    "### Examples Of Pyspark ML"
   ]
  },
  {
   "cell_type": "markdown",
   "id": "a1ea9080",
   "metadata": {},
   "source": [
    "#### INICIAMOS SESION"
   ]
  },
  {
   "cell_type": "code",
   "execution_count": 1,
   "id": "303fe4d4",
   "metadata": {},
   "outputs": [],
   "source": [
    "from pyspark.sql import SparkSession\n",
    "spark = SparkSession.builder.appName('dataframe').getOrCreate()"
   ]
  },
  {
   "cell_type": "code",
   "execution_count": 2,
   "id": "d169bafa",
   "metadata": {},
   "outputs": [
    {
     "data": {
      "text/html": [
       "\n",
       "            <div>\n",
       "                <p><b>SparkSession - in-memory</b></p>\n",
       "                \n",
       "        <div>\n",
       "            <p><b>SparkContext</b></p>\n",
       "\n",
       "            <p><a href=\"http://LAPTOP-2U44DDTC.mshome.net:4045\">Spark UI</a></p>\n",
       "\n",
       "            <dl>\n",
       "              <dt>Version</dt>\n",
       "                <dd><code>v3.2.0</code></dd>\n",
       "              <dt>Master</dt>\n",
       "                <dd><code>local[*]</code></dd>\n",
       "              <dt>AppName</dt>\n",
       "                <dd><code>dataframe</code></dd>\n",
       "            </dl>\n",
       "        </div>\n",
       "        \n",
       "            </div>\n",
       "        "
      ],
      "text/plain": [
       "<pyspark.sql.session.SparkSession at 0x1f5565d73c8>"
      ]
     },
     "execution_count": 2,
     "metadata": {},
     "output_type": "execute_result"
    }
   ],
   "source": [
    "spark"
   ]
  },
  {
   "cell_type": "markdown",
   "id": "adcb937a",
   "metadata": {},
   "source": [
    "CARGAMOS CSV"
   ]
  },
  {
   "cell_type": "code",
   "execution_count": 3,
   "id": "eeda85c9",
   "metadata": {},
   "outputs": [],
   "source": [
    "training = spark.read.csv('data/test1.csv', header=True, inferSchema=True)"
   ]
  },
  {
   "cell_type": "code",
   "execution_count": 4,
   "id": "067ae507",
   "metadata": {},
   "outputs": [
    {
     "name": "stdout",
     "output_type": "stream",
     "text": [
      "+---------+---+----------+------+\n",
      "|     Name|age|Experience|Salary|\n",
      "+---------+---+----------+------+\n",
      "|    Krish| 31|        10| 30000|\n",
      "|Sudhanshu| 30|         8| 25000|\n",
      "|    Sunny| 29|         4| 20000|\n",
      "|     Paul| 24|         3| 20000|\n",
      "|   Harsha| 21|         1| 15000|\n",
      "|  Shubham| 23|         2| 18000|\n",
      "+---------+---+----------+------+\n",
      "\n"
     ]
    }
   ],
   "source": [
    "training.show()"
   ]
  },
  {
   "cell_type": "markdown",
   "id": "f0cca85d",
   "metadata": {},
   "source": [
    "En PySpark se trabaja de forma diferente. Tendremos que agrupar nuestras variables independientes de forma que queden todas en una columna y dentro de una lista, por lo que crearemos un vector de ensamblaje o \"vector assembler\", de tal modo que queden así esas variables independientes:\n",
    "- [Age, Experience]\n",
    "\n",
    "Lo que haremos con estas dos, será tratarlas como una nueva variable independiente:\n",
    "- [Age, Experience] ----> nueva_variable_independiente"
   ]
  },
  {
   "cell_type": "code",
   "execution_count": 5,
   "id": "c0acbafa",
   "metadata": {},
   "outputs": [],
   "source": [
    "from pyspark.ml.feature import VectorAssembler "
   ]
  },
  {
   "cell_type": "code",
   "execution_count": 6,
   "id": "5c6b5e23",
   "metadata": {},
   "outputs": [],
   "source": [
    "feature_assembler = VectorAssembler(inputCols=['age', 'Experience'], outputCol='Independent features') # 1:46:27 del vídeo"
   ]
  },
  {
   "cell_type": "code",
   "execution_count": 7,
   "id": "613ce56a",
   "metadata": {},
   "outputs": [],
   "source": [
    "output = feature_assembler.transform(training)"
   ]
  },
  {
   "cell_type": "markdown",
   "id": "e33b6c83",
   "metadata": {},
   "source": [
    "Veremos que se crea una nueva columna cuyos valores se corresponden a unos array con el contenido de aquellas variables independientes que hemos agrupado. Esto será nuestro input feature o lo que solíamos definir como train."
   ]
  },
  {
   "cell_type": "code",
   "execution_count": 8,
   "id": "bd4f7737",
   "metadata": {},
   "outputs": [
    {
     "name": "stdout",
     "output_type": "stream",
     "text": [
      "+---------+---+----------+------+--------------------+\n",
      "|     Name|age|Experience|Salary|Independent features|\n",
      "+---------+---+----------+------+--------------------+\n",
      "|    Krish| 31|        10| 30000|         [31.0,10.0]|\n",
      "|Sudhanshu| 30|         8| 25000|          [30.0,8.0]|\n",
      "|    Sunny| 29|         4| 20000|          [29.0,4.0]|\n",
      "|     Paul| 24|         3| 20000|          [24.0,3.0]|\n",
      "|   Harsha| 21|         1| 15000|          [21.0,1.0]|\n",
      "|  Shubham| 23|         2| 18000|          [23.0,2.0]|\n",
      "+---------+---+----------+------+--------------------+\n",
      "\n"
     ]
    }
   ],
   "source": [
    "output.show()"
   ]
  },
  {
   "cell_type": "markdown",
   "id": "0a3e423c",
   "metadata": {},
   "source": [
    "Seleccionamos las columnas que nos interesan para nuestro modelo: el train (Independent Features) y el test (Salary)"
   ]
  },
  {
   "cell_type": "code",
   "execution_count": 11,
   "id": "2a20a95f",
   "metadata": {},
   "outputs": [
    {
     "name": "stdout",
     "output_type": "stream",
     "text": [
      "+--------------------+------+\n",
      "|Independent features|Salary|\n",
      "+--------------------+------+\n",
      "|         [31.0,10.0]| 30000|\n",
      "|          [30.0,8.0]| 25000|\n",
      "|          [29.0,4.0]| 20000|\n",
      "|          [24.0,3.0]| 20000|\n",
      "|          [21.0,1.0]| 15000|\n",
      "|          [23.0,2.0]| 18000|\n",
      "+--------------------+------+\n",
      "\n"
     ]
    }
   ],
   "source": [
    "finalized_data = output.select('Independent features', 'Salary')\n",
    "finalized_data.show()"
   ]
  },
  {
   "cell_type": "markdown",
   "id": "42ac525f",
   "metadata": {},
   "source": [
    "A continuación, entrenaremos un modelo de regresión lineal."
   ]
  },
  {
   "cell_type": "code",
   "execution_count": 9,
   "id": "18f3867d",
   "metadata": {},
   "outputs": [],
   "source": [
    "from pyspark.ml.regression import LinearRegression"
   ]
  },
  {
   "cell_type": "code",
   "execution_count": 12,
   "id": "73e6554e",
   "metadata": {},
   "outputs": [],
   "source": [
    "train, test = finalized_data.randomSplit([0.75, 0.25])\n",
    "regressor = LinearRegression(featuresCol='Independent features', labelCol='Salary')\n",
    "regressor = regressor.fit(train)"
   ]
  },
  {
   "cell_type": "code",
   "execution_count": 13,
   "id": "60b0e7ee",
   "metadata": {},
   "outputs": [
    {
     "data": {
      "text/plain": [
       "DenseVector([2666.6667, -2000.0])"
      ]
     },
     "execution_count": 13,
     "metadata": {},
     "output_type": "execute_result"
    }
   ],
   "source": [
    "regressor.coefficients"
   ]
  },
  {
   "cell_type": "code",
   "execution_count": 14,
   "id": "9b1f2bb2",
   "metadata": {},
   "outputs": [
    {
     "data": {
      "text/plain": [
       "-38833.33333337073"
      ]
     },
     "execution_count": 14,
     "metadata": {},
     "output_type": "execute_result"
    }
   ],
   "source": [
    "regressor.intercept"
   ]
  },
  {
   "cell_type": "code",
   "execution_count": 15,
   "id": "e3dcd8fa",
   "metadata": {},
   "outputs": [],
   "source": [
    "prediction = regressor.evaluate(test)"
   ]
  },
  {
   "cell_type": "code",
   "execution_count": 16,
   "id": "30861e4b",
   "metadata": {},
   "outputs": [
    {
     "name": "stderr",
     "output_type": "stream",
     "text": [
      "c:\\Users\\Miguel Angel\\AppData\\Local\\Programs\\Python\\Python37\\lib\\site-packages\\pyspark\\sql\\context.py:127: FutureWarning: Deprecated in 3.0.0. Use SparkSession.builder.getOrCreate() instead.\n",
      "  FutureWarning\n"
     ]
    },
    {
     "name": "stdout",
     "output_type": "stream",
     "text": [
      "+--------------------+------+------------------+\n",
      "|Independent features|Salary|        prediction|\n",
      "+--------------------+------+------------------+\n",
      "|          [29.0,4.0]| 20000| 30500.00000000719|\n",
      "|         [31.0,10.0]| 30000|23833.333333330404|\n",
      "+--------------------+------+------------------+\n",
      "\n"
     ]
    }
   ],
   "source": [
    "prediction.predictions.show()"
   ]
  },
  {
   "cell_type": "code",
   "execution_count": 17,
   "id": "96cee169",
   "metadata": {},
   "outputs": [
    {
     "data": {
      "text/plain": [
       "(8333.333333338393, 74138888.88898243)"
      ]
     },
     "execution_count": 17,
     "metadata": {},
     "output_type": "execute_result"
    }
   ],
   "source": [
    "# Errores\n",
    "\n",
    "prediction.meanAbsoluteError, prediction.meanSquaredError"
   ]
  },
  {
   "cell_type": "code",
   "execution_count": null,
   "id": "589b8a68",
   "metadata": {},
   "outputs": [],
   "source": []
  }
 ],
 "metadata": {
  "kernelspec": {
   "display_name": "Python 3.7.4 64-bit",
   "language": "python",
   "name": "python3"
  },
  "language_info": {
   "codemirror_mode": {
    "name": "ipython",
    "version": 3
   },
   "file_extension": ".py",
   "mimetype": "text/x-python",
   "name": "python",
   "nbconvert_exporter": "python",
   "pygments_lexer": "ipython3",
   "version": "3.7.4"
  },
  "vscode": {
   "interpreter": {
    "hash": "90139cb9a825bf3d63f6f6704e828dbd1ff7edbd4d0c6e906a71235d6efc74af"
   }
  }
 },
 "nbformat": 4,
 "nbformat_minor": 5
}
