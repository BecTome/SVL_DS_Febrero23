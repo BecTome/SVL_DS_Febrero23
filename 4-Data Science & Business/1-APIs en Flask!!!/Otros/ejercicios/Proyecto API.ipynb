{
 "cells": [
  {
   "cell_type": "markdown",
   "metadata": {},
   "source": [
    "## Proyecto APIs\n",
    "En este ejercicio tendrás que subir el modelo de la competición de Kaggle de tratamiento de imágenes a una API, mediante Flask. Habrá que:\n",
    "\n",
    "1. Exportar el modelo para desplegarlo en la API\n",
    "2. Configurar el entorno de ejecución con los paquetes necesarios\n",
    "3. Subir a PythonAnywhere\n",
    "4. Una vez esté público, probar a subir imágenes para su reconocimiento\n",
    "5. (Opcional) diseña un front mediante el cual se pueda adjuntar imágenes y desde el mismo front llamar a la API y mostrar al usuario por pantalla el output del modelo.\n",
    "\n",
    "https://towardsdatascience.com/deploying-keras-models-using-tensorflow-serving-and-flask-508ba00f1037"
   ]
  }
 ],
 "metadata": {
  "kernelspec": {
   "display_name": "Python 3",
   "language": "python",
   "name": "python3"
  },
  "language_info": {
   "codemirror_mode": {
    "name": "ipython",
    "version": 3
   },
   "file_extension": ".py",
   "mimetype": "text/x-python",
   "name": "python",
   "nbconvert_exporter": "python",
   "pygments_lexer": "ipython3",
   "version": "3.8.5"
  }
 },
 "nbformat": 4,
 "nbformat_minor": 4
}
