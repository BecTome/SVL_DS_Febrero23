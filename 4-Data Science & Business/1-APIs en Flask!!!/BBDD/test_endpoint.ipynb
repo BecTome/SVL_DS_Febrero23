{
 "cells": [
  {
   "cell_type": "code",
   "execution_count": 1,
   "metadata": {},
   "outputs": [
    {
     "name": "stdout",
     "output_type": "stream",
     "text": [
      "<h1>API de libros</h1><p>Esta es la página de inicio</p>\n"
     ]
    }
   ],
   "source": [
    "import requests\n",
    "\n",
    "url = \"http://127.0.0.1:5000\"\n",
    "endpoint = \"/\"\n",
    "r = requests.get(url + endpoint)\n",
    "print(r.text)"
   ]
  },
  {
   "cell_type": "code",
   "execution_count": 2,
   "metadata": {},
   "outputs": [
    {
     "data": {
      "text/plain": [
       "'<h1>API de libros</h1><p>Esta es la página de inicio</p>'"
      ]
     },
     "execution_count": 2,
     "metadata": {},
     "output_type": "execute_result"
    }
   ],
   "source": [
    "def consume_endpoint(endpoint, url=\"http://127.0.0.1:5000\", json=None, method=\"GET\"):\n",
    "    if method==\"GET\":\n",
    "        r = requests.get(url + endpoint, json=json)\n",
    "    elif method == \"POST\":\n",
    "        r = requests.post(url + endpoint, json=json)\n",
    "    return r\n",
    "\n",
    "r = consume_endpoint(\"/\")\n",
    "r.text"
   ]
  },
  {
   "cell_type": "code",
   "execution_count": 3,
   "metadata": {},
   "outputs": [
    {
     "data": {
      "text/plain": [
       "{'author': 'Ursula K. Le Guin',\n",
       " 'first_sentence': 'With a clamor of bells that set the swallows soaring, the Festival of Summer came to the city Omelas, bright-towered by the sea.',\n",
       " 'id': 1,\n",
       " 'published': '1973',\n",
       " 'title': 'The Ones Who Walk Away From Omelas'}"
      ]
     },
     "execution_count": 3,
     "metadata": {},
     "output_type": "execute_result"
    }
   ],
   "source": [
    "r = consume_endpoint(\"/v2/books\", json={\"title\": \"The Ones Who Walk Away From Omelas\"})\n",
    "r.json()"
   ]
  },
  {
   "cell_type": "code",
   "execution_count": 17,
   "metadata": {},
   "outputs": [
    {
     "data": {
      "text/plain": [
       "{'Message': 'Book already in Database'}"
      ]
     },
     "execution_count": 17,
     "metadata": {},
     "output_type": "execute_result"
    }
   ],
   "source": [
    "new_book = {\n",
    "                \"author\": \"Manuel Perez\",\n",
    "                \"first_sentence\": \"Como dijo Elon Musk...\",\n",
    "                \"published\": \"2023\",\n",
    "                \"title\": \"No eres rico porque no quieres\"\n",
    "            }\n",
    "r = consume_endpoint(\"/v2/books/create\", json=new_book, method=\"POST\")\n",
    "r.json()"
   ]
  },
  {
   "cell_type": "code",
   "execution_count": 18,
   "metadata": {},
   "outputs": [
    {
     "data": {
      "text/plain": [
       "[{'author': 'Vernor Vinge',\n",
       "  'first_sentence': 'The coldsleep itself was dreamless.',\n",
       "  'id': 0,\n",
       "  'published': '1992',\n",
       "  'title': 'A Fire Upon the Deep'},\n",
       " {'author': 'Ursula K. Le Guin',\n",
       "  'first_sentence': 'With a clamor of bells that set the swallows soaring, the Festival of Summer came to the city Omelas, bright-towered by the sea.',\n",
       "  'id': 1,\n",
       "  'published': '1973',\n",
       "  'title': 'The Ones Who Walk Away From Omelas'}]"
      ]
     },
     "execution_count": 18,
     "metadata": {},
     "output_type": "execute_result"
    }
   ],
   "source": [
    "r = consume_endpoint(\"/books/all\")\n",
    "r.json()"
   ]
  },
  {
   "cell_type": "code",
   "execution_count": 4,
   "metadata": {},
   "outputs": [
    {
     "data": {
      "text/plain": [
       "[{'author': 'Vernor Vinge',\n",
       "  'first_sentence': 'The coldsleep itself was dreamless.',\n",
       "  'id': 0,\n",
       "  'published': '1992',\n",
       "  'title': 'A Fire Upon the Deep'},\n",
       " {'author': 'Ursula K. Le Guin',\n",
       "  'first_sentence': 'With a clamor of bells that set the swallows soaring, the Festival of Summer came to the city Omelas, bright-towered by the sea.',\n",
       "  'id': 1,\n",
       "  'published': '1973',\n",
       "  'title': 'The Ones Who Walk Away From Omelas'},\n",
       " {'author': 'Samuel R. Delany',\n",
       "  'first_sentence': 'to wound the autumnal city.',\n",
       "  'id': 2,\n",
       "  'published': '1975',\n",
       "  'title': 'Dhalgren'}]"
      ]
     },
     "execution_count": 4,
     "metadata": {},
     "output_type": "execute_result"
    }
   ],
   "source": [
    "# consume_endpoint(\"/books/delete/0\")\n",
    "r = consume_endpoint(\"/books/all\")\n",
    "r.json()"
   ]
  }
 ],
 "metadata": {
  "kernelspec": {
   "display_name": "Python 3",
   "language": "python",
   "name": "python3"
  },
  "language_info": {
   "codemirror_mode": {
    "name": "ipython",
    "version": 3
   },
   "file_extension": ".py",
   "mimetype": "text/x-python",
   "name": "python",
   "nbconvert_exporter": "python",
   "pygments_lexer": "ipython3",
   "version": "3.10.8"
  },
  "orig_nbformat": 4
 },
 "nbformat": 4,
 "nbformat_minor": 2
}
