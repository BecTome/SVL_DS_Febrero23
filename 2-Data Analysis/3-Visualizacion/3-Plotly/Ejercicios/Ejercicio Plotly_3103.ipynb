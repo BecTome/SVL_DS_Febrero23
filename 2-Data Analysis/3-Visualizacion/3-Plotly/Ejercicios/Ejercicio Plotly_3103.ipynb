{
 "cells": [
  {
   "cell_type": "markdown",
   "metadata": {
    "id": "fBwh3Bypimha"
   },
   "source": [
    "# Interactive Visualization Lab - Superstore Dataset\n",
    "\n",
    "Completa el siguiente conjunto de ejercicios para consolidar tus conocimientos sobre la visualización interactiva utilizando Plotly."
   ]
  },
  {
   "cell_type": "markdown",
   "metadata": {},
   "source": [
    "## 0. Leer los datos."
   ]
  },
  {
   "cell_type": "code",
   "execution_count": 3,
   "metadata": {},
   "outputs": [
    {
     "data": {
      "text/html": [
       "<div>\n",
       "<style scoped>\n",
       "    .dataframe tbody tr th:only-of-type {\n",
       "        vertical-align: middle;\n",
       "    }\n",
       "\n",
       "    .dataframe tbody tr th {\n",
       "        vertical-align: top;\n",
       "    }\n",
       "\n",
       "    .dataframe thead th {\n",
       "        text-align: right;\n",
       "    }\n",
       "</style>\n",
       "<table border=\"1\" class=\"dataframe\">\n",
       "  <thead>\n",
       "    <tr style=\"text-align: right;\">\n",
       "      <th></th>\n",
       "      <th>Order ID</th>\n",
       "      <th>Order Date</th>\n",
       "      <th>Ship Date</th>\n",
       "      <th>Ship Mode</th>\n",
       "      <th>Customer ID</th>\n",
       "      <th>Customer Name</th>\n",
       "      <th>Segment</th>\n",
       "      <th>Country</th>\n",
       "      <th>City</th>\n",
       "      <th>State</th>\n",
       "      <th>Postal Code</th>\n",
       "      <th>Region</th>\n",
       "      <th>Product ID</th>\n",
       "      <th>Category</th>\n",
       "      <th>Sub-Category</th>\n",
       "      <th>Product Name</th>\n",
       "      <th>Sales</th>\n",
       "      <th>Quantity</th>\n",
       "      <th>Discount</th>\n",
       "      <th>Profit</th>\n",
       "    </tr>\n",
       "  </thead>\n",
       "  <tbody>\n",
       "    <tr>\n",
       "      <th>0</th>\n",
       "      <td>CA-2016-152156</td>\n",
       "      <td>2016-11-08</td>\n",
       "      <td>2016-11-11</td>\n",
       "      <td>Second Class</td>\n",
       "      <td>CG-12520</td>\n",
       "      <td>Claire Gute</td>\n",
       "      <td>Consumer</td>\n",
       "      <td>United States</td>\n",
       "      <td>Henderson</td>\n",
       "      <td>Kentucky</td>\n",
       "      <td>42420</td>\n",
       "      <td>South</td>\n",
       "      <td>FUR-BO-10001798</td>\n",
       "      <td>Furniture</td>\n",
       "      <td>Bookcases</td>\n",
       "      <td>Bush Somerset Collection Bookcase</td>\n",
       "      <td>261.9600</td>\n",
       "      <td>2</td>\n",
       "      <td>0.00</td>\n",
       "      <td>41.9136</td>\n",
       "    </tr>\n",
       "    <tr>\n",
       "      <th>1</th>\n",
       "      <td>CA-2016-152156</td>\n",
       "      <td>2016-11-08</td>\n",
       "      <td>2016-11-11</td>\n",
       "      <td>Second Class</td>\n",
       "      <td>CG-12520</td>\n",
       "      <td>Claire Gute</td>\n",
       "      <td>Consumer</td>\n",
       "      <td>United States</td>\n",
       "      <td>Henderson</td>\n",
       "      <td>Kentucky</td>\n",
       "      <td>42420</td>\n",
       "      <td>South</td>\n",
       "      <td>FUR-CH-10000454</td>\n",
       "      <td>Furniture</td>\n",
       "      <td>Chairs</td>\n",
       "      <td>Hon Deluxe Fabric Upholstered Stacking Chairs,...</td>\n",
       "      <td>731.9400</td>\n",
       "      <td>3</td>\n",
       "      <td>0.00</td>\n",
       "      <td>219.5820</td>\n",
       "    </tr>\n",
       "    <tr>\n",
       "      <th>2</th>\n",
       "      <td>CA-2016-138688</td>\n",
       "      <td>2016-06-12</td>\n",
       "      <td>2016-06-16</td>\n",
       "      <td>Second Class</td>\n",
       "      <td>DV-13045</td>\n",
       "      <td>Darrin Van Huff</td>\n",
       "      <td>Corporate</td>\n",
       "      <td>United States</td>\n",
       "      <td>Los Angeles</td>\n",
       "      <td>California</td>\n",
       "      <td>90036</td>\n",
       "      <td>West</td>\n",
       "      <td>OFF-LA-10000240</td>\n",
       "      <td>Office Supplies</td>\n",
       "      <td>Labels</td>\n",
       "      <td>Self-Adhesive Address Labels for Typewriters b...</td>\n",
       "      <td>14.6200</td>\n",
       "      <td>2</td>\n",
       "      <td>0.00</td>\n",
       "      <td>6.8714</td>\n",
       "    </tr>\n",
       "    <tr>\n",
       "      <th>3</th>\n",
       "      <td>US-2015-108966</td>\n",
       "      <td>2015-10-11</td>\n",
       "      <td>2015-10-18</td>\n",
       "      <td>Standard Class</td>\n",
       "      <td>SO-20335</td>\n",
       "      <td>Sean O'Donnell</td>\n",
       "      <td>Consumer</td>\n",
       "      <td>United States</td>\n",
       "      <td>Fort Lauderdale</td>\n",
       "      <td>Florida</td>\n",
       "      <td>33311</td>\n",
       "      <td>South</td>\n",
       "      <td>FUR-TA-10000577</td>\n",
       "      <td>Furniture</td>\n",
       "      <td>Tables</td>\n",
       "      <td>Bretford CR4500 Series Slim Rectangular Table</td>\n",
       "      <td>957.5775</td>\n",
       "      <td>5</td>\n",
       "      <td>0.45</td>\n",
       "      <td>-383.0310</td>\n",
       "    </tr>\n",
       "    <tr>\n",
       "      <th>4</th>\n",
       "      <td>US-2015-108966</td>\n",
       "      <td>2015-10-11</td>\n",
       "      <td>2015-10-18</td>\n",
       "      <td>Standard Class</td>\n",
       "      <td>SO-20335</td>\n",
       "      <td>Sean O'Donnell</td>\n",
       "      <td>Consumer</td>\n",
       "      <td>United States</td>\n",
       "      <td>Fort Lauderdale</td>\n",
       "      <td>Florida</td>\n",
       "      <td>33311</td>\n",
       "      <td>South</td>\n",
       "      <td>OFF-ST-10000760</td>\n",
       "      <td>Office Supplies</td>\n",
       "      <td>Storage</td>\n",
       "      <td>Eldon Fold 'N Roll Cart System</td>\n",
       "      <td>22.3680</td>\n",
       "      <td>2</td>\n",
       "      <td>0.20</td>\n",
       "      <td>2.5164</td>\n",
       "    </tr>\n",
       "    <tr>\n",
       "      <th>...</th>\n",
       "      <td>...</td>\n",
       "      <td>...</td>\n",
       "      <td>...</td>\n",
       "      <td>...</td>\n",
       "      <td>...</td>\n",
       "      <td>...</td>\n",
       "      <td>...</td>\n",
       "      <td>...</td>\n",
       "      <td>...</td>\n",
       "      <td>...</td>\n",
       "      <td>...</td>\n",
       "      <td>...</td>\n",
       "      <td>...</td>\n",
       "      <td>...</td>\n",
       "      <td>...</td>\n",
       "      <td>...</td>\n",
       "      <td>...</td>\n",
       "      <td>...</td>\n",
       "      <td>...</td>\n",
       "      <td>...</td>\n",
       "    </tr>\n",
       "    <tr>\n",
       "      <th>9989</th>\n",
       "      <td>CA-2014-110422</td>\n",
       "      <td>2014-01-21</td>\n",
       "      <td>2014-01-23</td>\n",
       "      <td>Second Class</td>\n",
       "      <td>TB-21400</td>\n",
       "      <td>Tom Boeckenhauer</td>\n",
       "      <td>Consumer</td>\n",
       "      <td>United States</td>\n",
       "      <td>Miami</td>\n",
       "      <td>Florida</td>\n",
       "      <td>33180</td>\n",
       "      <td>South</td>\n",
       "      <td>FUR-FU-10001889</td>\n",
       "      <td>Furniture</td>\n",
       "      <td>Furnishings</td>\n",
       "      <td>Ultra Door Pull Handle</td>\n",
       "      <td>25.2480</td>\n",
       "      <td>3</td>\n",
       "      <td>0.20</td>\n",
       "      <td>4.1028</td>\n",
       "    </tr>\n",
       "    <tr>\n",
       "      <th>9990</th>\n",
       "      <td>CA-2017-121258</td>\n",
       "      <td>2017-02-26</td>\n",
       "      <td>2017-03-03</td>\n",
       "      <td>Standard Class</td>\n",
       "      <td>DB-13060</td>\n",
       "      <td>Dave Brooks</td>\n",
       "      <td>Consumer</td>\n",
       "      <td>United States</td>\n",
       "      <td>Costa Mesa</td>\n",
       "      <td>California</td>\n",
       "      <td>92627</td>\n",
       "      <td>West</td>\n",
       "      <td>FUR-FU-10000747</td>\n",
       "      <td>Furniture</td>\n",
       "      <td>Furnishings</td>\n",
       "      <td>Tenex B1-RE Series Chair Mats for Low Pile Car...</td>\n",
       "      <td>91.9600</td>\n",
       "      <td>2</td>\n",
       "      <td>0.00</td>\n",
       "      <td>15.6332</td>\n",
       "    </tr>\n",
       "    <tr>\n",
       "      <th>9991</th>\n",
       "      <td>CA-2017-121258</td>\n",
       "      <td>2017-02-26</td>\n",
       "      <td>2017-03-03</td>\n",
       "      <td>Standard Class</td>\n",
       "      <td>DB-13060</td>\n",
       "      <td>Dave Brooks</td>\n",
       "      <td>Consumer</td>\n",
       "      <td>United States</td>\n",
       "      <td>Costa Mesa</td>\n",
       "      <td>California</td>\n",
       "      <td>92627</td>\n",
       "      <td>West</td>\n",
       "      <td>TEC-PH-10003645</td>\n",
       "      <td>Technology</td>\n",
       "      <td>Phones</td>\n",
       "      <td>Aastra 57i VoIP phone</td>\n",
       "      <td>258.5760</td>\n",
       "      <td>2</td>\n",
       "      <td>0.20</td>\n",
       "      <td>19.3932</td>\n",
       "    </tr>\n",
       "    <tr>\n",
       "      <th>9992</th>\n",
       "      <td>CA-2017-121258</td>\n",
       "      <td>2017-02-26</td>\n",
       "      <td>2017-03-03</td>\n",
       "      <td>Standard Class</td>\n",
       "      <td>DB-13060</td>\n",
       "      <td>Dave Brooks</td>\n",
       "      <td>Consumer</td>\n",
       "      <td>United States</td>\n",
       "      <td>Costa Mesa</td>\n",
       "      <td>California</td>\n",
       "      <td>92627</td>\n",
       "      <td>West</td>\n",
       "      <td>OFF-PA-10004041</td>\n",
       "      <td>Office Supplies</td>\n",
       "      <td>Paper</td>\n",
       "      <td>It's Hot Message Books with Stickers, 2 3/4\" x 5\"</td>\n",
       "      <td>29.6000</td>\n",
       "      <td>4</td>\n",
       "      <td>0.00</td>\n",
       "      <td>13.3200</td>\n",
       "    </tr>\n",
       "    <tr>\n",
       "      <th>9993</th>\n",
       "      <td>CA-2017-119914</td>\n",
       "      <td>2017-05-04</td>\n",
       "      <td>2017-05-09</td>\n",
       "      <td>Second Class</td>\n",
       "      <td>CC-12220</td>\n",
       "      <td>Chris Cortes</td>\n",
       "      <td>Consumer</td>\n",
       "      <td>United States</td>\n",
       "      <td>Westminster</td>\n",
       "      <td>California</td>\n",
       "      <td>92683</td>\n",
       "      <td>West</td>\n",
       "      <td>OFF-AP-10002684</td>\n",
       "      <td>Office Supplies</td>\n",
       "      <td>Appliances</td>\n",
       "      <td>Acco 7-Outlet Masterpiece Power Center, Wihtou...</td>\n",
       "      <td>243.1600</td>\n",
       "      <td>2</td>\n",
       "      <td>0.00</td>\n",
       "      <td>72.9480</td>\n",
       "    </tr>\n",
       "  </tbody>\n",
       "</table>\n",
       "<p>9994 rows × 20 columns</p>\n",
       "</div>"
      ],
      "text/plain": [
       "            Order ID Order Date  Ship Date       Ship Mode Customer ID  \\\n",
       "0     CA-2016-152156 2016-11-08 2016-11-11    Second Class    CG-12520   \n",
       "1     CA-2016-152156 2016-11-08 2016-11-11    Second Class    CG-12520   \n",
       "2     CA-2016-138688 2016-06-12 2016-06-16    Second Class    DV-13045   \n",
       "3     US-2015-108966 2015-10-11 2015-10-18  Standard Class    SO-20335   \n",
       "4     US-2015-108966 2015-10-11 2015-10-18  Standard Class    SO-20335   \n",
       "...              ...        ...        ...             ...         ...   \n",
       "9989  CA-2014-110422 2014-01-21 2014-01-23    Second Class    TB-21400   \n",
       "9990  CA-2017-121258 2017-02-26 2017-03-03  Standard Class    DB-13060   \n",
       "9991  CA-2017-121258 2017-02-26 2017-03-03  Standard Class    DB-13060   \n",
       "9992  CA-2017-121258 2017-02-26 2017-03-03  Standard Class    DB-13060   \n",
       "9993  CA-2017-119914 2017-05-04 2017-05-09    Second Class    CC-12220   \n",
       "\n",
       "         Customer Name    Segment        Country             City       State  \\\n",
       "0          Claire Gute   Consumer  United States        Henderson    Kentucky   \n",
       "1          Claire Gute   Consumer  United States        Henderson    Kentucky   \n",
       "2      Darrin Van Huff  Corporate  United States      Los Angeles  California   \n",
       "3       Sean O'Donnell   Consumer  United States  Fort Lauderdale     Florida   \n",
       "4       Sean O'Donnell   Consumer  United States  Fort Lauderdale     Florida   \n",
       "...                ...        ...            ...              ...         ...   \n",
       "9989  Tom Boeckenhauer   Consumer  United States            Miami     Florida   \n",
       "9990       Dave Brooks   Consumer  United States       Costa Mesa  California   \n",
       "9991       Dave Brooks   Consumer  United States       Costa Mesa  California   \n",
       "9992       Dave Brooks   Consumer  United States       Costa Mesa  California   \n",
       "9993      Chris Cortes   Consumer  United States      Westminster  California   \n",
       "\n",
       "      Postal Code Region       Product ID         Category Sub-Category  \\\n",
       "0           42420  South  FUR-BO-10001798        Furniture    Bookcases   \n",
       "1           42420  South  FUR-CH-10000454        Furniture       Chairs   \n",
       "2           90036   West  OFF-LA-10000240  Office Supplies       Labels   \n",
       "3           33311  South  FUR-TA-10000577        Furniture       Tables   \n",
       "4           33311  South  OFF-ST-10000760  Office Supplies      Storage   \n",
       "...           ...    ...              ...              ...          ...   \n",
       "9989        33180  South  FUR-FU-10001889        Furniture  Furnishings   \n",
       "9990        92627   West  FUR-FU-10000747        Furniture  Furnishings   \n",
       "9991        92627   West  TEC-PH-10003645       Technology       Phones   \n",
       "9992        92627   West  OFF-PA-10004041  Office Supplies        Paper   \n",
       "9993        92683   West  OFF-AP-10002684  Office Supplies   Appliances   \n",
       "\n",
       "                                           Product Name     Sales  Quantity  \\\n",
       "0                     Bush Somerset Collection Bookcase  261.9600         2   \n",
       "1     Hon Deluxe Fabric Upholstered Stacking Chairs,...  731.9400         3   \n",
       "2     Self-Adhesive Address Labels for Typewriters b...   14.6200         2   \n",
       "3         Bretford CR4500 Series Slim Rectangular Table  957.5775         5   \n",
       "4                        Eldon Fold 'N Roll Cart System   22.3680         2   \n",
       "...                                                 ...       ...       ...   \n",
       "9989                             Ultra Door Pull Handle   25.2480         3   \n",
       "9990  Tenex B1-RE Series Chair Mats for Low Pile Car...   91.9600         2   \n",
       "9991                              Aastra 57i VoIP phone  258.5760         2   \n",
       "9992  It's Hot Message Books with Stickers, 2 3/4\" x 5\"   29.6000         4   \n",
       "9993  Acco 7-Outlet Masterpiece Power Center, Wihtou...  243.1600         2   \n",
       "\n",
       "      Discount    Profit  \n",
       "0         0.00   41.9136  \n",
       "1         0.00  219.5820  \n",
       "2         0.00    6.8714  \n",
       "3         0.45 -383.0310  \n",
       "4         0.20    2.5164  \n",
       "...        ...       ...  \n",
       "9989      0.20    4.1028  \n",
       "9990      0.00   15.6332  \n",
       "9991      0.20   19.3932  \n",
       "9992      0.00   13.3200  \n",
       "9993      0.00   72.9480  \n",
       "\n",
       "[9994 rows x 20 columns]"
      ]
     },
     "execution_count": 3,
     "metadata": {},
     "output_type": "execute_result"
    }
   ],
   "source": [
    "import pandas as pd\n",
    "df = pd.read_excel(\"data/Sample - Superstore.xlsx\")\n",
    "df[\"Order Date\"] = pd.to_datetime(df[\"Order Date\"], format=\"%Y-%m-%d\")\n",
    "df"
   ]
  },
  {
   "cell_type": "code",
   "execution_count": 2,
   "metadata": {},
   "outputs": [
    {
     "data": {
      "text/html": [
       "<div>\n",
       "<style scoped>\n",
       "    .dataframe tbody tr th:only-of-type {\n",
       "        vertical-align: middle;\n",
       "    }\n",
       "\n",
       "    .dataframe tbody tr th {\n",
       "        vertical-align: top;\n",
       "    }\n",
       "\n",
       "    .dataframe thead th {\n",
       "        text-align: right;\n",
       "    }\n",
       "</style>\n",
       "<table border=\"1\" class=\"dataframe\">\n",
       "  <thead>\n",
       "    <tr style=\"text-align: right;\">\n",
       "      <th></th>\n",
       "      <th>Postal Code</th>\n",
       "      <th>Sales</th>\n",
       "      <th>Quantity</th>\n",
       "      <th>Discount</th>\n",
       "      <th>Profit</th>\n",
       "    </tr>\n",
       "  </thead>\n",
       "  <tbody>\n",
       "    <tr>\n",
       "      <th>count</th>\n",
       "      <td>9994.000000</td>\n",
       "      <td>9994.000000</td>\n",
       "      <td>9994.000000</td>\n",
       "      <td>9994.000000</td>\n",
       "      <td>9994.000000</td>\n",
       "    </tr>\n",
       "    <tr>\n",
       "      <th>mean</th>\n",
       "      <td>55190.379428</td>\n",
       "      <td>229.858001</td>\n",
       "      <td>3.789574</td>\n",
       "      <td>0.156203</td>\n",
       "      <td>28.656896</td>\n",
       "    </tr>\n",
       "    <tr>\n",
       "      <th>std</th>\n",
       "      <td>32063.693350</td>\n",
       "      <td>623.245101</td>\n",
       "      <td>2.225110</td>\n",
       "      <td>0.206452</td>\n",
       "      <td>234.260108</td>\n",
       "    </tr>\n",
       "    <tr>\n",
       "      <th>min</th>\n",
       "      <td>1040.000000</td>\n",
       "      <td>0.444000</td>\n",
       "      <td>1.000000</td>\n",
       "      <td>0.000000</td>\n",
       "      <td>-6599.978000</td>\n",
       "    </tr>\n",
       "    <tr>\n",
       "      <th>25%</th>\n",
       "      <td>23223.000000</td>\n",
       "      <td>17.280000</td>\n",
       "      <td>2.000000</td>\n",
       "      <td>0.000000</td>\n",
       "      <td>1.728750</td>\n",
       "    </tr>\n",
       "    <tr>\n",
       "      <th>50%</th>\n",
       "      <td>56430.500000</td>\n",
       "      <td>54.490000</td>\n",
       "      <td>3.000000</td>\n",
       "      <td>0.200000</td>\n",
       "      <td>8.666500</td>\n",
       "    </tr>\n",
       "    <tr>\n",
       "      <th>75%</th>\n",
       "      <td>90008.000000</td>\n",
       "      <td>209.940000</td>\n",
       "      <td>5.000000</td>\n",
       "      <td>0.200000</td>\n",
       "      <td>29.364000</td>\n",
       "    </tr>\n",
       "    <tr>\n",
       "      <th>max</th>\n",
       "      <td>99301.000000</td>\n",
       "      <td>22638.480000</td>\n",
       "      <td>14.000000</td>\n",
       "      <td>0.800000</td>\n",
       "      <td>8399.976000</td>\n",
       "    </tr>\n",
       "  </tbody>\n",
       "</table>\n",
       "</div>"
      ],
      "text/plain": [
       "        Postal Code         Sales     Quantity     Discount       Profit\n",
       "count   9994.000000   9994.000000  9994.000000  9994.000000  9994.000000\n",
       "mean   55190.379428    229.858001     3.789574     0.156203    28.656896\n",
       "std    32063.693350    623.245101     2.225110     0.206452   234.260108\n",
       "min     1040.000000      0.444000     1.000000     0.000000 -6599.978000\n",
       "25%    23223.000000     17.280000     2.000000     0.000000     1.728750\n",
       "50%    56430.500000     54.490000     3.000000     0.200000     8.666500\n",
       "75%    90008.000000    209.940000     5.000000     0.200000    29.364000\n",
       "max    99301.000000  22638.480000    14.000000     0.800000  8399.976000"
      ]
     },
     "execution_count": 2,
     "metadata": {},
     "output_type": "execute_result"
    }
   ],
   "source": [
    "df.describe()"
   ]
  },
  {
   "cell_type": "markdown",
   "metadata": {
    "id": "0vbpV0ARimho"
   },
   "source": [
    "## 1. Crea un gráfico de barras interactivo que muestre las ventas totales por Estado en 2014."
   ]
  },
  {
   "cell_type": "code",
   "execution_count": 25,
   "metadata": {},
   "outputs": [
    {
     "data": {
      "text/html": [
       "<div>\n",
       "<style scoped>\n",
       "    .dataframe tbody tr th:only-of-type {\n",
       "        vertical-align: middle;\n",
       "    }\n",
       "\n",
       "    .dataframe tbody tr th {\n",
       "        vertical-align: top;\n",
       "    }\n",
       "\n",
       "    .dataframe thead th {\n",
       "        text-align: right;\n",
       "    }\n",
       "</style>\n",
       "<table border=\"1\" class=\"dataframe\">\n",
       "  <thead>\n",
       "    <tr style=\"text-align: right;\">\n",
       "      <th></th>\n",
       "      <th>State</th>\n",
       "      <th>Sales</th>\n",
       "      <th>Profit</th>\n",
       "    </tr>\n",
       "  </thead>\n",
       "  <tbody>\n",
       "    <tr>\n",
       "      <th>0</th>\n",
       "      <td>Alabama</td>\n",
       "      <td>6139.0900</td>\n",
       "      <td>1250.7324</td>\n",
       "    </tr>\n",
       "    <tr>\n",
       "      <th>1</th>\n",
       "      <td>Arizona</td>\n",
       "      <td>8295.2350</td>\n",
       "      <td>-903.1981</td>\n",
       "    </tr>\n",
       "    <tr>\n",
       "      <th>2</th>\n",
       "      <td>Arkansas</td>\n",
       "      <td>6302.6900</td>\n",
       "      <td>2031.6858</td>\n",
       "    </tr>\n",
       "    <tr>\n",
       "      <th>3</th>\n",
       "      <td>California</td>\n",
       "      <td>91303.5310</td>\n",
       "      <td>12637.9491</td>\n",
       "    </tr>\n",
       "    <tr>\n",
       "      <th>4</th>\n",
       "      <td>Colorado</td>\n",
       "      <td>6502.2940</td>\n",
       "      <td>438.1889</td>\n",
       "    </tr>\n",
       "    <tr>\n",
       "      <th>5</th>\n",
       "      <td>Connecticut</td>\n",
       "      <td>2794.0200</td>\n",
       "      <td>745.3332</td>\n",
       "    </tr>\n",
       "    <tr>\n",
       "      <th>6</th>\n",
       "      <td>Delaware</td>\n",
       "      <td>4786.0300</td>\n",
       "      <td>1338.5933</td>\n",
       "    </tr>\n",
       "    <tr>\n",
       "      <th>7</th>\n",
       "      <td>Florida</td>\n",
       "      <td>34248.2605</td>\n",
       "      <td>-1412.7599</td>\n",
       "    </tr>\n",
       "    <tr>\n",
       "      <th>8</th>\n",
       "      <td>Georgia</td>\n",
       "      <td>4540.1000</td>\n",
       "      <td>1491.7121</td>\n",
       "    </tr>\n",
       "    <tr>\n",
       "      <th>9</th>\n",
       "      <td>Idaho</td>\n",
       "      <td>465.2160</td>\n",
       "      <td>62.0510</td>\n",
       "    </tr>\n",
       "    <tr>\n",
       "      <th>10</th>\n",
       "      <td>Illinois</td>\n",
       "      <td>16202.7070</td>\n",
       "      <td>-2043.7367</td>\n",
       "    </tr>\n",
       "    <tr>\n",
       "      <th>11</th>\n",
       "      <td>Indiana</td>\n",
       "      <td>2936.8100</td>\n",
       "      <td>868.1476</td>\n",
       "    </tr>\n",
       "    <tr>\n",
       "      <th>12</th>\n",
       "      <td>Iowa</td>\n",
       "      <td>1190.8400</td>\n",
       "      <td>109.5012</td>\n",
       "    </tr>\n",
       "    <tr>\n",
       "      <th>13</th>\n",
       "      <td>Kansas</td>\n",
       "      <td>1319.7900</td>\n",
       "      <td>266.1984</td>\n",
       "    </tr>\n",
       "    <tr>\n",
       "      <th>14</th>\n",
       "      <td>Kentucky</td>\n",
       "      <td>8280.4600</td>\n",
       "      <td>2309.3975</td>\n",
       "    </tr>\n",
       "    <tr>\n",
       "      <th>15</th>\n",
       "      <td>Louisiana</td>\n",
       "      <td>2534.9200</td>\n",
       "      <td>606.8026</td>\n",
       "    </tr>\n",
       "    <tr>\n",
       "      <th>16</th>\n",
       "      <td>Maine</td>\n",
       "      <td>617.1200</td>\n",
       "      <td>256.9266</td>\n",
       "    </tr>\n",
       "    <tr>\n",
       "      <th>17</th>\n",
       "      <td>Maryland</td>\n",
       "      <td>1701.2500</td>\n",
       "      <td>484.9964</td>\n",
       "    </tr>\n",
       "    <tr>\n",
       "      <th>18</th>\n",
       "      <td>Massachusetts</td>\n",
       "      <td>9900.1060</td>\n",
       "      <td>2060.9684</td>\n",
       "    </tr>\n",
       "    <tr>\n",
       "      <th>19</th>\n",
       "      <td>Michigan</td>\n",
       "      <td>6172.2510</td>\n",
       "      <td>1817.1087</td>\n",
       "    </tr>\n",
       "    <tr>\n",
       "      <th>20</th>\n",
       "      <td>Minnesota</td>\n",
       "      <td>15883.3300</td>\n",
       "      <td>6237.3607</td>\n",
       "    </tr>\n",
       "    <tr>\n",
       "      <th>21</th>\n",
       "      <td>Mississippi</td>\n",
       "      <td>2055.1600</td>\n",
       "      <td>545.5312</td>\n",
       "    </tr>\n",
       "    <tr>\n",
       "      <th>22</th>\n",
       "      <td>Missouri</td>\n",
       "      <td>1648.0300</td>\n",
       "      <td>444.2582</td>\n",
       "    </tr>\n",
       "    <tr>\n",
       "      <th>23</th>\n",
       "      <td>Montana</td>\n",
       "      <td>424.4880</td>\n",
       "      <td>129.8492</td>\n",
       "    </tr>\n",
       "    <tr>\n",
       "      <th>24</th>\n",
       "      <td>Nebraska</td>\n",
       "      <td>210.0200</td>\n",
       "      <td>58.1679</td>\n",
       "    </tr>\n",
       "    <tr>\n",
       "      <th>25</th>\n",
       "      <td>Nevada</td>\n",
       "      <td>2561.2100</td>\n",
       "      <td>250.2724</td>\n",
       "    </tr>\n",
       "    <tr>\n",
       "      <th>26</th>\n",
       "      <td>New Hampshire</td>\n",
       "      <td>504.4800</td>\n",
       "      <td>108.5950</td>\n",
       "    </tr>\n",
       "    <tr>\n",
       "      <th>27</th>\n",
       "      <td>New Jersey</td>\n",
       "      <td>4192.2800</td>\n",
       "      <td>1244.1990</td>\n",
       "    </tr>\n",
       "    <tr>\n",
       "      <th>28</th>\n",
       "      <td>New Mexico</td>\n",
       "      <td>708.0120</td>\n",
       "      <td>156.0515</td>\n",
       "    </tr>\n",
       "    <tr>\n",
       "      <th>29</th>\n",
       "      <td>New York</td>\n",
       "      <td>64788.4870</td>\n",
       "      <td>13748.9448</td>\n",
       "    </tr>\n",
       "    <tr>\n",
       "      <th>30</th>\n",
       "      <td>North Carolina</td>\n",
       "      <td>8620.7410</td>\n",
       "      <td>-1415.0991</td>\n",
       "    </tr>\n",
       "    <tr>\n",
       "      <th>31</th>\n",
       "      <td>Ohio</td>\n",
       "      <td>14134.8500</td>\n",
       "      <td>-2131.0641</td>\n",
       "    </tr>\n",
       "    <tr>\n",
       "      <th>32</th>\n",
       "      <td>Oklahoma</td>\n",
       "      <td>2639.3500</td>\n",
       "      <td>762.0691</td>\n",
       "    </tr>\n",
       "    <tr>\n",
       "      <th>33</th>\n",
       "      <td>Oregon</td>\n",
       "      <td>4807.7830</td>\n",
       "      <td>-135.4049</td>\n",
       "    </tr>\n",
       "    <tr>\n",
       "      <th>34</th>\n",
       "      <td>Pennsylvania</td>\n",
       "      <td>20246.1480</td>\n",
       "      <td>-2361.8177</td>\n",
       "    </tr>\n",
       "    <tr>\n",
       "      <th>35</th>\n",
       "      <td>Rhode Island</td>\n",
       "      <td>5015.6860</td>\n",
       "      <td>1563.9346</td>\n",
       "    </tr>\n",
       "    <tr>\n",
       "      <th>36</th>\n",
       "      <td>South Carolina</td>\n",
       "      <td>2270.8600</td>\n",
       "      <td>466.4175</td>\n",
       "    </tr>\n",
       "    <tr>\n",
       "      <th>37</th>\n",
       "      <td>South Dakota</td>\n",
       "      <td>162.1500</td>\n",
       "      <td>48.7566</td>\n",
       "    </tr>\n",
       "    <tr>\n",
       "      <th>38</th>\n",
       "      <td>Tennessee</td>\n",
       "      <td>3051.5120</td>\n",
       "      <td>50.0298</td>\n",
       "    </tr>\n",
       "    <tr>\n",
       "      <th>39</th>\n",
       "      <td>Texas</td>\n",
       "      <td>50625.1766</td>\n",
       "      <td>-9135.0140</td>\n",
       "    </tr>\n",
       "    <tr>\n",
       "      <th>40</th>\n",
       "      <td>Utah</td>\n",
       "      <td>2943.6880</td>\n",
       "      <td>822.6556</td>\n",
       "    </tr>\n",
       "    <tr>\n",
       "      <th>41</th>\n",
       "      <td>Virginia</td>\n",
       "      <td>25802.0500</td>\n",
       "      <td>5954.6701</td>\n",
       "    </tr>\n",
       "    <tr>\n",
       "      <th>42</th>\n",
       "      <td>Washington</td>\n",
       "      <td>29871.5760</td>\n",
       "      <td>6607.2765</td>\n",
       "    </tr>\n",
       "    <tr>\n",
       "      <th>43</th>\n",
       "      <td>Wisconsin</td>\n",
       "      <td>4847.7100</td>\n",
       "      <td>1106.7357</td>\n",
       "    </tr>\n",
       "  </tbody>\n",
       "</table>\n",
       "</div>"
      ],
      "text/plain": [
       "             State       Sales      Profit\n",
       "0          Alabama   6139.0900   1250.7324\n",
       "1          Arizona   8295.2350   -903.1981\n",
       "2         Arkansas   6302.6900   2031.6858\n",
       "3       California  91303.5310  12637.9491\n",
       "4         Colorado   6502.2940    438.1889\n",
       "5      Connecticut   2794.0200    745.3332\n",
       "6         Delaware   4786.0300   1338.5933\n",
       "7          Florida  34248.2605  -1412.7599\n",
       "8          Georgia   4540.1000   1491.7121\n",
       "9            Idaho    465.2160     62.0510\n",
       "10        Illinois  16202.7070  -2043.7367\n",
       "11         Indiana   2936.8100    868.1476\n",
       "12            Iowa   1190.8400    109.5012\n",
       "13          Kansas   1319.7900    266.1984\n",
       "14        Kentucky   8280.4600   2309.3975\n",
       "15       Louisiana   2534.9200    606.8026\n",
       "16           Maine    617.1200    256.9266\n",
       "17        Maryland   1701.2500    484.9964\n",
       "18   Massachusetts   9900.1060   2060.9684\n",
       "19        Michigan   6172.2510   1817.1087\n",
       "20       Minnesota  15883.3300   6237.3607\n",
       "21     Mississippi   2055.1600    545.5312\n",
       "22        Missouri   1648.0300    444.2582\n",
       "23         Montana    424.4880    129.8492\n",
       "24        Nebraska    210.0200     58.1679\n",
       "25          Nevada   2561.2100    250.2724\n",
       "26   New Hampshire    504.4800    108.5950\n",
       "27      New Jersey   4192.2800   1244.1990\n",
       "28      New Mexico    708.0120    156.0515\n",
       "29        New York  64788.4870  13748.9448\n",
       "30  North Carolina   8620.7410  -1415.0991\n",
       "31            Ohio  14134.8500  -2131.0641\n",
       "32        Oklahoma   2639.3500    762.0691\n",
       "33          Oregon   4807.7830   -135.4049\n",
       "34    Pennsylvania  20246.1480  -2361.8177\n",
       "35    Rhode Island   5015.6860   1563.9346\n",
       "36  South Carolina   2270.8600    466.4175\n",
       "37    South Dakota    162.1500     48.7566\n",
       "38       Tennessee   3051.5120     50.0298\n",
       "39           Texas  50625.1766  -9135.0140\n",
       "40            Utah   2943.6880    822.6556\n",
       "41        Virginia  25802.0500   5954.6701\n",
       "42      Washington  29871.5760   6607.2765\n",
       "43       Wisconsin   4847.7100   1106.7357"
      ]
     },
     "execution_count": 25,
     "metadata": {},
     "output_type": "execute_result"
    }
   ],
   "source": [
    "df2014 = df.loc[df[\"Order Date\"].dt.year == 2014, :]\n",
    "df2014_sales = df2014.groupby(\"State\")[[\"Sales\", \"Profit\"]].sum().reset_index()\n",
    "df2014_sales"
   ]
  },
  {
   "cell_type": "code",
   "execution_count": 26,
   "metadata": {},
   "outputs": [
    {
     "data": {
      "application/vnd.plotly.v1+json": {
       "config": {
        "plotlyServerURL": "https://plot.ly"
       },
       "data": [
        {
         "alignmentgroup": "True",
         "hovertemplate": "State=%{x}<br>Sales=%{y}<extra></extra>",
         "legendgroup": "",
         "marker": {
          "color": "#636efa",
          "pattern": {
           "shape": ""
          }
         },
         "name": "",
         "offsetgroup": "",
         "orientation": "v",
         "showlegend": false,
         "textposition": "auto",
         "type": "bar",
         "x": [
          "California",
          "New York",
          "Texas",
          "Florida",
          "Washington",
          "Virginia",
          "Pennsylvania",
          "Illinois",
          "Minnesota",
          "Ohio",
          "Massachusetts",
          "North Carolina",
          "Arizona",
          "Kentucky",
          "Colorado",
          "Arkansas",
          "Michigan",
          "Alabama",
          "Rhode Island",
          "Wisconsin",
          "Oregon",
          "Delaware",
          "Georgia",
          "New Jersey",
          "Tennessee",
          "Utah",
          "Indiana",
          "Connecticut",
          "Oklahoma",
          "Nevada",
          "Louisiana",
          "South Carolina",
          "Mississippi",
          "Maryland",
          "Missouri",
          "Kansas",
          "Iowa",
          "New Mexico",
          "Maine",
          "New Hampshire",
          "Idaho",
          "Montana",
          "Nebraska",
          "South Dakota"
         ],
         "xaxis": "x",
         "y": [
          91303.531,
          64788.487,
          50625.1766,
          34248.2605,
          29871.576,
          25802.05,
          20246.148,
          16202.707,
          15883.330000000002,
          14134.85,
          9900.106,
          8620.741,
          8295.235,
          8280.460000000001,
          6502.294000000001,
          6302.6900000000005,
          6172.251,
          6139.09,
          5015.686,
          4847.71,
          4807.783,
          4786.03,
          4540.1,
          4192.28,
          3051.512,
          2943.688,
          2936.81,
          2794.02,
          2639.35,
          2561.21,
          2534.92,
          2270.8599999999997,
          2055.16,
          1701.25,
          1648.03,
          1319.79,
          1190.84,
          708.012,
          617.12,
          504.48,
          465.216,
          424.488,
          210.01999999999998,
          162.15
         ],
         "yaxis": "y"
        }
       ],
       "layout": {
        "barmode": "stack",
        "legend": {
         "tracegroupgap": 0
        },
        "template": {
         "data": {
          "bar": [
           {
            "error_x": {
             "color": "#2a3f5f"
            },
            "error_y": {
             "color": "#2a3f5f"
            },
            "marker": {
             "line": {
              "color": "#E5ECF6",
              "width": 0.5
             },
             "pattern": {
              "fillmode": "overlay",
              "size": 10,
              "solidity": 0.2
             }
            },
            "type": "bar"
           }
          ],
          "barpolar": [
           {
            "marker": {
             "line": {
              "color": "#E5ECF6",
              "width": 0.5
             },
             "pattern": {
              "fillmode": "overlay",
              "size": 10,
              "solidity": 0.2
             }
            },
            "type": "barpolar"
           }
          ],
          "carpet": [
           {
            "aaxis": {
             "endlinecolor": "#2a3f5f",
             "gridcolor": "white",
             "linecolor": "white",
             "minorgridcolor": "white",
             "startlinecolor": "#2a3f5f"
            },
            "baxis": {
             "endlinecolor": "#2a3f5f",
             "gridcolor": "white",
             "linecolor": "white",
             "minorgridcolor": "white",
             "startlinecolor": "#2a3f5f"
            },
            "type": "carpet"
           }
          ],
          "choropleth": [
           {
            "colorbar": {
             "outlinewidth": 0,
             "ticks": ""
            },
            "type": "choropleth"
           }
          ],
          "contour": [
           {
            "colorbar": {
             "outlinewidth": 0,
             "ticks": ""
            },
            "colorscale": [
             [
              0,
              "#0d0887"
             ],
             [
              0.1111111111111111,
              "#46039f"
             ],
             [
              0.2222222222222222,
              "#7201a8"
             ],
             [
              0.3333333333333333,
              "#9c179e"
             ],
             [
              0.4444444444444444,
              "#bd3786"
             ],
             [
              0.5555555555555556,
              "#d8576b"
             ],
             [
              0.6666666666666666,
              "#ed7953"
             ],
             [
              0.7777777777777778,
              "#fb9f3a"
             ],
             [
              0.8888888888888888,
              "#fdca26"
             ],
             [
              1,
              "#f0f921"
             ]
            ],
            "type": "contour"
           }
          ],
          "contourcarpet": [
           {
            "colorbar": {
             "outlinewidth": 0,
             "ticks": ""
            },
            "type": "contourcarpet"
           }
          ],
          "heatmap": [
           {
            "colorbar": {
             "outlinewidth": 0,
             "ticks": ""
            },
            "colorscale": [
             [
              0,
              "#0d0887"
             ],
             [
              0.1111111111111111,
              "#46039f"
             ],
             [
              0.2222222222222222,
              "#7201a8"
             ],
             [
              0.3333333333333333,
              "#9c179e"
             ],
             [
              0.4444444444444444,
              "#bd3786"
             ],
             [
              0.5555555555555556,
              "#d8576b"
             ],
             [
              0.6666666666666666,
              "#ed7953"
             ],
             [
              0.7777777777777778,
              "#fb9f3a"
             ],
             [
              0.8888888888888888,
              "#fdca26"
             ],
             [
              1,
              "#f0f921"
             ]
            ],
            "type": "heatmap"
           }
          ],
          "heatmapgl": [
           {
            "colorbar": {
             "outlinewidth": 0,
             "ticks": ""
            },
            "colorscale": [
             [
              0,
              "#0d0887"
             ],
             [
              0.1111111111111111,
              "#46039f"
             ],
             [
              0.2222222222222222,
              "#7201a8"
             ],
             [
              0.3333333333333333,
              "#9c179e"
             ],
             [
              0.4444444444444444,
              "#bd3786"
             ],
             [
              0.5555555555555556,
              "#d8576b"
             ],
             [
              0.6666666666666666,
              "#ed7953"
             ],
             [
              0.7777777777777778,
              "#fb9f3a"
             ],
             [
              0.8888888888888888,
              "#fdca26"
             ],
             [
              1,
              "#f0f921"
             ]
            ],
            "type": "heatmapgl"
           }
          ],
          "histogram": [
           {
            "marker": {
             "pattern": {
              "fillmode": "overlay",
              "size": 10,
              "solidity": 0.2
             }
            },
            "type": "histogram"
           }
          ],
          "histogram2d": [
           {
            "colorbar": {
             "outlinewidth": 0,
             "ticks": ""
            },
            "colorscale": [
             [
              0,
              "#0d0887"
             ],
             [
              0.1111111111111111,
              "#46039f"
             ],
             [
              0.2222222222222222,
              "#7201a8"
             ],
             [
              0.3333333333333333,
              "#9c179e"
             ],
             [
              0.4444444444444444,
              "#bd3786"
             ],
             [
              0.5555555555555556,
              "#d8576b"
             ],
             [
              0.6666666666666666,
              "#ed7953"
             ],
             [
              0.7777777777777778,
              "#fb9f3a"
             ],
             [
              0.8888888888888888,
              "#fdca26"
             ],
             [
              1,
              "#f0f921"
             ]
            ],
            "type": "histogram2d"
           }
          ],
          "histogram2dcontour": [
           {
            "colorbar": {
             "outlinewidth": 0,
             "ticks": ""
            },
            "colorscale": [
             [
              0,
              "#0d0887"
             ],
             [
              0.1111111111111111,
              "#46039f"
             ],
             [
              0.2222222222222222,
              "#7201a8"
             ],
             [
              0.3333333333333333,
              "#9c179e"
             ],
             [
              0.4444444444444444,
              "#bd3786"
             ],
             [
              0.5555555555555556,
              "#d8576b"
             ],
             [
              0.6666666666666666,
              "#ed7953"
             ],
             [
              0.7777777777777778,
              "#fb9f3a"
             ],
             [
              0.8888888888888888,
              "#fdca26"
             ],
             [
              1,
              "#f0f921"
             ]
            ],
            "type": "histogram2dcontour"
           }
          ],
          "mesh3d": [
           {
            "colorbar": {
             "outlinewidth": 0,
             "ticks": ""
            },
            "type": "mesh3d"
           }
          ],
          "parcoords": [
           {
            "line": {
             "colorbar": {
              "outlinewidth": 0,
              "ticks": ""
             }
            },
            "type": "parcoords"
           }
          ],
          "pie": [
           {
            "automargin": true,
            "type": "pie"
           }
          ],
          "scatter": [
           {
            "fillpattern": {
             "fillmode": "overlay",
             "size": 10,
             "solidity": 0.2
            },
            "type": "scatter"
           }
          ],
          "scatter3d": [
           {
            "line": {
             "colorbar": {
              "outlinewidth": 0,
              "ticks": ""
             }
            },
            "marker": {
             "colorbar": {
              "outlinewidth": 0,
              "ticks": ""
             }
            },
            "type": "scatter3d"
           }
          ],
          "scattercarpet": [
           {
            "marker": {
             "colorbar": {
              "outlinewidth": 0,
              "ticks": ""
             }
            },
            "type": "scattercarpet"
           }
          ],
          "scattergeo": [
           {
            "marker": {
             "colorbar": {
              "outlinewidth": 0,
              "ticks": ""
             }
            },
            "type": "scattergeo"
           }
          ],
          "scattergl": [
           {
            "marker": {
             "colorbar": {
              "outlinewidth": 0,
              "ticks": ""
             }
            },
            "type": "scattergl"
           }
          ],
          "scattermapbox": [
           {
            "marker": {
             "colorbar": {
              "outlinewidth": 0,
              "ticks": ""
             }
            },
            "type": "scattermapbox"
           }
          ],
          "scatterpolar": [
           {
            "marker": {
             "colorbar": {
              "outlinewidth": 0,
              "ticks": ""
             }
            },
            "type": "scatterpolar"
           }
          ],
          "scatterpolargl": [
           {
            "marker": {
             "colorbar": {
              "outlinewidth": 0,
              "ticks": ""
             }
            },
            "type": "scatterpolargl"
           }
          ],
          "scatterternary": [
           {
            "marker": {
             "colorbar": {
              "outlinewidth": 0,
              "ticks": ""
             }
            },
            "type": "scatterternary"
           }
          ],
          "surface": [
           {
            "colorbar": {
             "outlinewidth": 0,
             "ticks": ""
            },
            "colorscale": [
             [
              0,
              "#0d0887"
             ],
             [
              0.1111111111111111,
              "#46039f"
             ],
             [
              0.2222222222222222,
              "#7201a8"
             ],
             [
              0.3333333333333333,
              "#9c179e"
             ],
             [
              0.4444444444444444,
              "#bd3786"
             ],
             [
              0.5555555555555556,
              "#d8576b"
             ],
             [
              0.6666666666666666,
              "#ed7953"
             ],
             [
              0.7777777777777778,
              "#fb9f3a"
             ],
             [
              0.8888888888888888,
              "#fdca26"
             ],
             [
              1,
              "#f0f921"
             ]
            ],
            "type": "surface"
           }
          ],
          "table": [
           {
            "cells": {
             "fill": {
              "color": "#EBF0F8"
             },
             "line": {
              "color": "white"
             }
            },
            "header": {
             "fill": {
              "color": "#C8D4E3"
             },
             "line": {
              "color": "white"
             }
            },
            "type": "table"
           }
          ]
         },
         "layout": {
          "annotationdefaults": {
           "arrowcolor": "#2a3f5f",
           "arrowhead": 0,
           "arrowwidth": 1
          },
          "autotypenumbers": "strict",
          "coloraxis": {
           "colorbar": {
            "outlinewidth": 0,
            "ticks": ""
           }
          },
          "colorscale": {
           "diverging": [
            [
             0,
             "#8e0152"
            ],
            [
             0.1,
             "#c51b7d"
            ],
            [
             0.2,
             "#de77ae"
            ],
            [
             0.3,
             "#f1b6da"
            ],
            [
             0.4,
             "#fde0ef"
            ],
            [
             0.5,
             "#f7f7f7"
            ],
            [
             0.6,
             "#e6f5d0"
            ],
            [
             0.7,
             "#b8e186"
            ],
            [
             0.8,
             "#7fbc41"
            ],
            [
             0.9,
             "#4d9221"
            ],
            [
             1,
             "#276419"
            ]
           ],
           "sequential": [
            [
             0,
             "#0d0887"
            ],
            [
             0.1111111111111111,
             "#46039f"
            ],
            [
             0.2222222222222222,
             "#7201a8"
            ],
            [
             0.3333333333333333,
             "#9c179e"
            ],
            [
             0.4444444444444444,
             "#bd3786"
            ],
            [
             0.5555555555555556,
             "#d8576b"
            ],
            [
             0.6666666666666666,
             "#ed7953"
            ],
            [
             0.7777777777777778,
             "#fb9f3a"
            ],
            [
             0.8888888888888888,
             "#fdca26"
            ],
            [
             1,
             "#f0f921"
            ]
           ],
           "sequentialminus": [
            [
             0,
             "#0d0887"
            ],
            [
             0.1111111111111111,
             "#46039f"
            ],
            [
             0.2222222222222222,
             "#7201a8"
            ],
            [
             0.3333333333333333,
             "#9c179e"
            ],
            [
             0.4444444444444444,
             "#bd3786"
            ],
            [
             0.5555555555555556,
             "#d8576b"
            ],
            [
             0.6666666666666666,
             "#ed7953"
            ],
            [
             0.7777777777777778,
             "#fb9f3a"
            ],
            [
             0.8888888888888888,
             "#fdca26"
            ],
            [
             1,
             "#f0f921"
            ]
           ]
          },
          "colorway": [
           "#636efa",
           "#EF553B",
           "#00cc96",
           "#ab63fa",
           "#FFA15A",
           "#19d3f3",
           "#FF6692",
           "#B6E880",
           "#FF97FF",
           "#FECB52"
          ],
          "font": {
           "color": "#2a3f5f"
          },
          "geo": {
           "bgcolor": "white",
           "lakecolor": "white",
           "landcolor": "#E5ECF6",
           "showlakes": true,
           "showland": true,
           "subunitcolor": "white"
          },
          "hoverlabel": {
           "align": "left"
          },
          "hovermode": "closest",
          "mapbox": {
           "style": "light"
          },
          "paper_bgcolor": "white",
          "plot_bgcolor": "#E5ECF6",
          "polar": {
           "angularaxis": {
            "gridcolor": "white",
            "linecolor": "white",
            "ticks": ""
           },
           "bgcolor": "#E5ECF6",
           "radialaxis": {
            "gridcolor": "white",
            "linecolor": "white",
            "ticks": ""
           }
          },
          "scene": {
           "xaxis": {
            "backgroundcolor": "#E5ECF6",
            "gridcolor": "white",
            "gridwidth": 2,
            "linecolor": "white",
            "showbackground": true,
            "ticks": "",
            "zerolinecolor": "white"
           },
           "yaxis": {
            "backgroundcolor": "#E5ECF6",
            "gridcolor": "white",
            "gridwidth": 2,
            "linecolor": "white",
            "showbackground": true,
            "ticks": "",
            "zerolinecolor": "white"
           },
           "zaxis": {
            "backgroundcolor": "#E5ECF6",
            "gridcolor": "white",
            "gridwidth": 2,
            "linecolor": "white",
            "showbackground": true,
            "ticks": "",
            "zerolinecolor": "white"
           }
          },
          "shapedefaults": {
           "line": {
            "color": "#2a3f5f"
           }
          },
          "ternary": {
           "aaxis": {
            "gridcolor": "white",
            "linecolor": "white",
            "ticks": ""
           },
           "baxis": {
            "gridcolor": "white",
            "linecolor": "white",
            "ticks": ""
           },
           "bgcolor": "#E5ECF6",
           "caxis": {
            "gridcolor": "white",
            "linecolor": "white",
            "ticks": ""
           }
          },
          "title": {
           "x": 0.05
          },
          "xaxis": {
           "automargin": true,
           "gridcolor": "white",
           "linecolor": "white",
           "ticks": "",
           "title": {
            "standoff": 15
           },
           "zerolinecolor": "white",
           "zerolinewidth": 2
          },
          "yaxis": {
           "automargin": true,
           "gridcolor": "white",
           "linecolor": "white",
           "ticks": "",
           "title": {
            "standoff": 15
           },
           "zerolinecolor": "white",
           "zerolinewidth": 2
          }
         }
        },
        "title": {
         "text": "Ventas por Estado en 2014"
        },
        "xaxis": {
         "anchor": "y",
         "domain": [
          0,
          1
         ],
         "title": {
          "text": "State"
         }
        },
        "yaxis": {
         "anchor": "x",
         "domain": [
          0,
          1
         ],
         "title": {
          "text": "Sales"
         }
        }
       }
      }
     },
     "metadata": {},
     "output_type": "display_data"
    }
   ],
   "source": [
    "import plotly.express as px\n",
    "\n",
    "fig = px.bar(df2014_sales.sort_values(by=\"Sales\", ascending=False), \n",
    "             x=\"State\", y=\"Sales\", \n",
    "             barmode=\"stack\", \n",
    "             title=\"Ventas por Estado en 2014\")\n",
    "fig"
   ]
  },
  {
   "cell_type": "code",
   "execution_count": 27,
   "metadata": {},
   "outputs": [
    {
     "data": {
      "application/vnd.plotly.v1+json": {
       "config": {
        "plotlyServerURL": "https://plot.ly"
       },
       "data": [
        {
         "name": "Sales/State",
         "text": [
          "California",
          "New York",
          "Texas",
          "Florida",
          "Washington",
          "Virginia",
          "Pennsylvania",
          "Illinois",
          "Minnesota",
          "Ohio",
          "Massachusetts",
          "North Carolina",
          "Arizona",
          "Kentucky",
          "Colorado",
          "Arkansas",
          "Michigan",
          "Alabama",
          "Rhode Island",
          "Wisconsin",
          "Oregon",
          "Delaware",
          "Georgia",
          "New Jersey",
          "Tennessee",
          "Utah",
          "Indiana",
          "Connecticut",
          "Oklahoma",
          "Nevada",
          "Louisiana",
          "South Carolina",
          "Mississippi",
          "Maryland",
          "Missouri",
          "Kansas",
          "Iowa",
          "New Mexico",
          "Maine",
          "New Hampshire",
          "Idaho",
          "Montana",
          "Nebraska",
          "South Dakota"
         ],
         "type": "bar",
         "x": [
          "California",
          "New York",
          "Texas",
          "Florida",
          "Washington",
          "Virginia",
          "Pennsylvania",
          "Illinois",
          "Minnesota",
          "Ohio",
          "Massachusetts",
          "North Carolina",
          "Arizona",
          "Kentucky",
          "Colorado",
          "Arkansas",
          "Michigan",
          "Alabama",
          "Rhode Island",
          "Wisconsin",
          "Oregon",
          "Delaware",
          "Georgia",
          "New Jersey",
          "Tennessee",
          "Utah",
          "Indiana",
          "Connecticut",
          "Oklahoma",
          "Nevada",
          "Louisiana",
          "South Carolina",
          "Mississippi",
          "Maryland",
          "Missouri",
          "Kansas",
          "Iowa",
          "New Mexico",
          "Maine",
          "New Hampshire",
          "Idaho",
          "Montana",
          "Nebraska",
          "South Dakota"
         ],
         "y": [
          91303.531,
          64788.487,
          50625.1766,
          34248.2605,
          29871.576,
          25802.05,
          20246.148,
          16202.707,
          15883.330000000002,
          14134.85,
          9900.106,
          8620.741,
          8295.235,
          8280.460000000001,
          6502.294000000001,
          6302.6900000000005,
          6172.251,
          6139.09,
          5015.686,
          4847.71,
          4807.783,
          4786.03,
          4540.1,
          4192.28,
          3051.512,
          2943.688,
          2936.81,
          2794.02,
          2639.35,
          2561.21,
          2534.92,
          2270.8599999999997,
          2055.16,
          1701.25,
          1648.03,
          1319.79,
          1190.84,
          708.012,
          617.12,
          504.48,
          465.216,
          424.488,
          210.01999999999998,
          162.15
         ]
        }
       ],
       "layout": {
        "template": {
         "data": {
          "bar": [
           {
            "error_x": {
             "color": "#2a3f5f"
            },
            "error_y": {
             "color": "#2a3f5f"
            },
            "marker": {
             "line": {
              "color": "#E5ECF6",
              "width": 0.5
             },
             "pattern": {
              "fillmode": "overlay",
              "size": 10,
              "solidity": 0.2
             }
            },
            "type": "bar"
           }
          ],
          "barpolar": [
           {
            "marker": {
             "line": {
              "color": "#E5ECF6",
              "width": 0.5
             },
             "pattern": {
              "fillmode": "overlay",
              "size": 10,
              "solidity": 0.2
             }
            },
            "type": "barpolar"
           }
          ],
          "carpet": [
           {
            "aaxis": {
             "endlinecolor": "#2a3f5f",
             "gridcolor": "white",
             "linecolor": "white",
             "minorgridcolor": "white",
             "startlinecolor": "#2a3f5f"
            },
            "baxis": {
             "endlinecolor": "#2a3f5f",
             "gridcolor": "white",
             "linecolor": "white",
             "minorgridcolor": "white",
             "startlinecolor": "#2a3f5f"
            },
            "type": "carpet"
           }
          ],
          "choropleth": [
           {
            "colorbar": {
             "outlinewidth": 0,
             "ticks": ""
            },
            "type": "choropleth"
           }
          ],
          "contour": [
           {
            "colorbar": {
             "outlinewidth": 0,
             "ticks": ""
            },
            "colorscale": [
             [
              0,
              "#0d0887"
             ],
             [
              0.1111111111111111,
              "#46039f"
             ],
             [
              0.2222222222222222,
              "#7201a8"
             ],
             [
              0.3333333333333333,
              "#9c179e"
             ],
             [
              0.4444444444444444,
              "#bd3786"
             ],
             [
              0.5555555555555556,
              "#d8576b"
             ],
             [
              0.6666666666666666,
              "#ed7953"
             ],
             [
              0.7777777777777778,
              "#fb9f3a"
             ],
             [
              0.8888888888888888,
              "#fdca26"
             ],
             [
              1,
              "#f0f921"
             ]
            ],
            "type": "contour"
           }
          ],
          "contourcarpet": [
           {
            "colorbar": {
             "outlinewidth": 0,
             "ticks": ""
            },
            "type": "contourcarpet"
           }
          ],
          "heatmap": [
           {
            "colorbar": {
             "outlinewidth": 0,
             "ticks": ""
            },
            "colorscale": [
             [
              0,
              "#0d0887"
             ],
             [
              0.1111111111111111,
              "#46039f"
             ],
             [
              0.2222222222222222,
              "#7201a8"
             ],
             [
              0.3333333333333333,
              "#9c179e"
             ],
             [
              0.4444444444444444,
              "#bd3786"
             ],
             [
              0.5555555555555556,
              "#d8576b"
             ],
             [
              0.6666666666666666,
              "#ed7953"
             ],
             [
              0.7777777777777778,
              "#fb9f3a"
             ],
             [
              0.8888888888888888,
              "#fdca26"
             ],
             [
              1,
              "#f0f921"
             ]
            ],
            "type": "heatmap"
           }
          ],
          "heatmapgl": [
           {
            "colorbar": {
             "outlinewidth": 0,
             "ticks": ""
            },
            "colorscale": [
             [
              0,
              "#0d0887"
             ],
             [
              0.1111111111111111,
              "#46039f"
             ],
             [
              0.2222222222222222,
              "#7201a8"
             ],
             [
              0.3333333333333333,
              "#9c179e"
             ],
             [
              0.4444444444444444,
              "#bd3786"
             ],
             [
              0.5555555555555556,
              "#d8576b"
             ],
             [
              0.6666666666666666,
              "#ed7953"
             ],
             [
              0.7777777777777778,
              "#fb9f3a"
             ],
             [
              0.8888888888888888,
              "#fdca26"
             ],
             [
              1,
              "#f0f921"
             ]
            ],
            "type": "heatmapgl"
           }
          ],
          "histogram": [
           {
            "marker": {
             "pattern": {
              "fillmode": "overlay",
              "size": 10,
              "solidity": 0.2
             }
            },
            "type": "histogram"
           }
          ],
          "histogram2d": [
           {
            "colorbar": {
             "outlinewidth": 0,
             "ticks": ""
            },
            "colorscale": [
             [
              0,
              "#0d0887"
             ],
             [
              0.1111111111111111,
              "#46039f"
             ],
             [
              0.2222222222222222,
              "#7201a8"
             ],
             [
              0.3333333333333333,
              "#9c179e"
             ],
             [
              0.4444444444444444,
              "#bd3786"
             ],
             [
              0.5555555555555556,
              "#d8576b"
             ],
             [
              0.6666666666666666,
              "#ed7953"
             ],
             [
              0.7777777777777778,
              "#fb9f3a"
             ],
             [
              0.8888888888888888,
              "#fdca26"
             ],
             [
              1,
              "#f0f921"
             ]
            ],
            "type": "histogram2d"
           }
          ],
          "histogram2dcontour": [
           {
            "colorbar": {
             "outlinewidth": 0,
             "ticks": ""
            },
            "colorscale": [
             [
              0,
              "#0d0887"
             ],
             [
              0.1111111111111111,
              "#46039f"
             ],
             [
              0.2222222222222222,
              "#7201a8"
             ],
             [
              0.3333333333333333,
              "#9c179e"
             ],
             [
              0.4444444444444444,
              "#bd3786"
             ],
             [
              0.5555555555555556,
              "#d8576b"
             ],
             [
              0.6666666666666666,
              "#ed7953"
             ],
             [
              0.7777777777777778,
              "#fb9f3a"
             ],
             [
              0.8888888888888888,
              "#fdca26"
             ],
             [
              1,
              "#f0f921"
             ]
            ],
            "type": "histogram2dcontour"
           }
          ],
          "mesh3d": [
           {
            "colorbar": {
             "outlinewidth": 0,
             "ticks": ""
            },
            "type": "mesh3d"
           }
          ],
          "parcoords": [
           {
            "line": {
             "colorbar": {
              "outlinewidth": 0,
              "ticks": ""
             }
            },
            "type": "parcoords"
           }
          ],
          "pie": [
           {
            "automargin": true,
            "type": "pie"
           }
          ],
          "scatter": [
           {
            "fillpattern": {
             "fillmode": "overlay",
             "size": 10,
             "solidity": 0.2
            },
            "type": "scatter"
           }
          ],
          "scatter3d": [
           {
            "line": {
             "colorbar": {
              "outlinewidth": 0,
              "ticks": ""
             }
            },
            "marker": {
             "colorbar": {
              "outlinewidth": 0,
              "ticks": ""
             }
            },
            "type": "scatter3d"
           }
          ],
          "scattercarpet": [
           {
            "marker": {
             "colorbar": {
              "outlinewidth": 0,
              "ticks": ""
             }
            },
            "type": "scattercarpet"
           }
          ],
          "scattergeo": [
           {
            "marker": {
             "colorbar": {
              "outlinewidth": 0,
              "ticks": ""
             }
            },
            "type": "scattergeo"
           }
          ],
          "scattergl": [
           {
            "marker": {
             "colorbar": {
              "outlinewidth": 0,
              "ticks": ""
             }
            },
            "type": "scattergl"
           }
          ],
          "scattermapbox": [
           {
            "marker": {
             "colorbar": {
              "outlinewidth": 0,
              "ticks": ""
             }
            },
            "type": "scattermapbox"
           }
          ],
          "scatterpolar": [
           {
            "marker": {
             "colorbar": {
              "outlinewidth": 0,
              "ticks": ""
             }
            },
            "type": "scatterpolar"
           }
          ],
          "scatterpolargl": [
           {
            "marker": {
             "colorbar": {
              "outlinewidth": 0,
              "ticks": ""
             }
            },
            "type": "scatterpolargl"
           }
          ],
          "scatterternary": [
           {
            "marker": {
             "colorbar": {
              "outlinewidth": 0,
              "ticks": ""
             }
            },
            "type": "scatterternary"
           }
          ],
          "surface": [
           {
            "colorbar": {
             "outlinewidth": 0,
             "ticks": ""
            },
            "colorscale": [
             [
              0,
              "#0d0887"
             ],
             [
              0.1111111111111111,
              "#46039f"
             ],
             [
              0.2222222222222222,
              "#7201a8"
             ],
             [
              0.3333333333333333,
              "#9c179e"
             ],
             [
              0.4444444444444444,
              "#bd3786"
             ],
             [
              0.5555555555555556,
              "#d8576b"
             ],
             [
              0.6666666666666666,
              "#ed7953"
             ],
             [
              0.7777777777777778,
              "#fb9f3a"
             ],
             [
              0.8888888888888888,
              "#fdca26"
             ],
             [
              1,
              "#f0f921"
             ]
            ],
            "type": "surface"
           }
          ],
          "table": [
           {
            "cells": {
             "fill": {
              "color": "#EBF0F8"
             },
             "line": {
              "color": "white"
             }
            },
            "header": {
             "fill": {
              "color": "#C8D4E3"
             },
             "line": {
              "color": "white"
             }
            },
            "type": "table"
           }
          ]
         },
         "layout": {
          "annotationdefaults": {
           "arrowcolor": "#2a3f5f",
           "arrowhead": 0,
           "arrowwidth": 1
          },
          "autotypenumbers": "strict",
          "coloraxis": {
           "colorbar": {
            "outlinewidth": 0,
            "ticks": ""
           }
          },
          "colorscale": {
           "diverging": [
            [
             0,
             "#8e0152"
            ],
            [
             0.1,
             "#c51b7d"
            ],
            [
             0.2,
             "#de77ae"
            ],
            [
             0.3,
             "#f1b6da"
            ],
            [
             0.4,
             "#fde0ef"
            ],
            [
             0.5,
             "#f7f7f7"
            ],
            [
             0.6,
             "#e6f5d0"
            ],
            [
             0.7,
             "#b8e186"
            ],
            [
             0.8,
             "#7fbc41"
            ],
            [
             0.9,
             "#4d9221"
            ],
            [
             1,
             "#276419"
            ]
           ],
           "sequential": [
            [
             0,
             "#0d0887"
            ],
            [
             0.1111111111111111,
             "#46039f"
            ],
            [
             0.2222222222222222,
             "#7201a8"
            ],
            [
             0.3333333333333333,
             "#9c179e"
            ],
            [
             0.4444444444444444,
             "#bd3786"
            ],
            [
             0.5555555555555556,
             "#d8576b"
            ],
            [
             0.6666666666666666,
             "#ed7953"
            ],
            [
             0.7777777777777778,
             "#fb9f3a"
            ],
            [
             0.8888888888888888,
             "#fdca26"
            ],
            [
             1,
             "#f0f921"
            ]
           ],
           "sequentialminus": [
            [
             0,
             "#0d0887"
            ],
            [
             0.1111111111111111,
             "#46039f"
            ],
            [
             0.2222222222222222,
             "#7201a8"
            ],
            [
             0.3333333333333333,
             "#9c179e"
            ],
            [
             0.4444444444444444,
             "#bd3786"
            ],
            [
             0.5555555555555556,
             "#d8576b"
            ],
            [
             0.6666666666666666,
             "#ed7953"
            ],
            [
             0.7777777777777778,
             "#fb9f3a"
            ],
            [
             0.8888888888888888,
             "#fdca26"
            ],
            [
             1,
             "#f0f921"
            ]
           ]
          },
          "colorway": [
           "#636efa",
           "#EF553B",
           "#00cc96",
           "#ab63fa",
           "#FFA15A",
           "#19d3f3",
           "#FF6692",
           "#B6E880",
           "#FF97FF",
           "#FECB52"
          ],
          "font": {
           "color": "#2a3f5f"
          },
          "geo": {
           "bgcolor": "white",
           "lakecolor": "white",
           "landcolor": "#E5ECF6",
           "showlakes": true,
           "showland": true,
           "subunitcolor": "white"
          },
          "hoverlabel": {
           "align": "left"
          },
          "hovermode": "closest",
          "mapbox": {
           "style": "light"
          },
          "paper_bgcolor": "white",
          "plot_bgcolor": "#E5ECF6",
          "polar": {
           "angularaxis": {
            "gridcolor": "white",
            "linecolor": "white",
            "ticks": ""
           },
           "bgcolor": "#E5ECF6",
           "radialaxis": {
            "gridcolor": "white",
            "linecolor": "white",
            "ticks": ""
           }
          },
          "scene": {
           "xaxis": {
            "backgroundcolor": "#E5ECF6",
            "gridcolor": "white",
            "gridwidth": 2,
            "linecolor": "white",
            "showbackground": true,
            "ticks": "",
            "zerolinecolor": "white"
           },
           "yaxis": {
            "backgroundcolor": "#E5ECF6",
            "gridcolor": "white",
            "gridwidth": 2,
            "linecolor": "white",
            "showbackground": true,
            "ticks": "",
            "zerolinecolor": "white"
           },
           "zaxis": {
            "backgroundcolor": "#E5ECF6",
            "gridcolor": "white",
            "gridwidth": 2,
            "linecolor": "white",
            "showbackground": true,
            "ticks": "",
            "zerolinecolor": "white"
           }
          },
          "shapedefaults": {
           "line": {
            "color": "#2a3f5f"
           }
          },
          "ternary": {
           "aaxis": {
            "gridcolor": "white",
            "linecolor": "white",
            "ticks": ""
           },
           "baxis": {
            "gridcolor": "white",
            "linecolor": "white",
            "ticks": ""
           },
           "bgcolor": "#E5ECF6",
           "caxis": {
            "gridcolor": "white",
            "linecolor": "white",
            "ticks": ""
           }
          },
          "title": {
           "x": 0.05
          },
          "xaxis": {
           "automargin": true,
           "gridcolor": "white",
           "linecolor": "white",
           "ticks": "",
           "title": {
            "standoff": 15
           },
           "zerolinecolor": "white",
           "zerolinewidth": 2
          },
          "yaxis": {
           "automargin": true,
           "gridcolor": "white",
           "linecolor": "white",
           "ticks": "",
           "title": {
            "standoff": 15
           },
           "zerolinecolor": "white",
           "zerolinewidth": 2
          }
         }
        },
        "title": {
         "text": "Ventas por Estado en 2014"
        },
        "xaxis": {
         "title": {
          "text": "State"
         }
        },
        "yaxis": {
         "title": {
          "text": "Sales"
         }
        }
       }
      }
     },
     "metadata": {},
     "output_type": "display_data"
    }
   ],
   "source": [
    "import plotly.graph_objects as go\n",
    "\n",
    "df_plot = df2014_sales.sort_values(by=\"Sales\", ascending=False)\n",
    "trace = go.Bar(x=df_plot[\"State\"],\n",
    "               y=df_plot[\"Sales\"],\n",
    "               text=df_plot[\"State\"],\n",
    "               name=\"Sales/State\")\n",
    "layout = go.Layout({\"title\": \"Ventas por Estado en 2014\", \n",
    "                    \"xaxis\":{\"title\":\"State\"}, \n",
    "                    \"yaxis\": {\"title\":\"Sales\"}})\n",
    "fig = go.Figure(data=[trace], layout=layout)\n",
    "\n",
    "fig"
   ]
  },
  {
   "cell_type": "markdown",
   "metadata": {
    "id": "ORjGPnb_imh0"
   },
   "source": [
    "## 2. Crea un gráfico de líneas interactivo que muestre las ventas y los beneficios en 2014."
   ]
  },
  {
   "cell_type": "code",
   "execution_count": 33,
   "metadata": {},
   "outputs": [
    {
     "data": {
      "text/html": [
       "<div>\n",
       "<style scoped>\n",
       "    .dataframe tbody tr th:only-of-type {\n",
       "        vertical-align: middle;\n",
       "    }\n",
       "\n",
       "    .dataframe tbody tr th {\n",
       "        vertical-align: top;\n",
       "    }\n",
       "\n",
       "    .dataframe thead th {\n",
       "        text-align: right;\n",
       "    }\n",
       "</style>\n",
       "<table border=\"1\" class=\"dataframe\">\n",
       "  <thead>\n",
       "    <tr style=\"text-align: right;\">\n",
       "      <th></th>\n",
       "      <th>Month</th>\n",
       "      <th>Sales</th>\n",
       "      <th>Profit</th>\n",
       "    </tr>\n",
       "  </thead>\n",
       "  <tbody>\n",
       "    <tr>\n",
       "      <th>0</th>\n",
       "      <td>1</td>\n",
       "      <td>14236.8950</td>\n",
       "      <td>2450.1907</td>\n",
       "    </tr>\n",
       "    <tr>\n",
       "      <th>1</th>\n",
       "      <td>2</td>\n",
       "      <td>4519.8920</td>\n",
       "      <td>862.3084</td>\n",
       "    </tr>\n",
       "    <tr>\n",
       "      <th>2</th>\n",
       "      <td>3</td>\n",
       "      <td>55691.0090</td>\n",
       "      <td>498.7299</td>\n",
       "    </tr>\n",
       "    <tr>\n",
       "      <th>3</th>\n",
       "      <td>4</td>\n",
       "      <td>28295.3450</td>\n",
       "      <td>3488.8352</td>\n",
       "    </tr>\n",
       "    <tr>\n",
       "      <th>4</th>\n",
       "      <td>5</td>\n",
       "      <td>23648.2870</td>\n",
       "      <td>2738.7096</td>\n",
       "    </tr>\n",
       "    <tr>\n",
       "      <th>5</th>\n",
       "      <td>6</td>\n",
       "      <td>34595.1276</td>\n",
       "      <td>4976.5244</td>\n",
       "    </tr>\n",
       "    <tr>\n",
       "      <th>6</th>\n",
       "      <td>7</td>\n",
       "      <td>33946.3930</td>\n",
       "      <td>-841.4826</td>\n",
       "    </tr>\n",
       "    <tr>\n",
       "      <th>7</th>\n",
       "      <td>8</td>\n",
       "      <td>27909.4685</td>\n",
       "      <td>5318.1050</td>\n",
       "    </tr>\n",
       "    <tr>\n",
       "      <th>8</th>\n",
       "      <td>9</td>\n",
       "      <td>81777.3508</td>\n",
       "      <td>8328.0994</td>\n",
       "    </tr>\n",
       "    <tr>\n",
       "      <th>9</th>\n",
       "      <td>10</td>\n",
       "      <td>31453.3930</td>\n",
       "      <td>3448.2573</td>\n",
       "    </tr>\n",
       "    <tr>\n",
       "      <th>10</th>\n",
       "      <td>11</td>\n",
       "      <td>78628.7167</td>\n",
       "      <td>9292.1269</td>\n",
       "    </tr>\n",
       "    <tr>\n",
       "      <th>11</th>\n",
       "      <td>12</td>\n",
       "      <td>69545.6205</td>\n",
       "      <td>8983.5699</td>\n",
       "    </tr>\n",
       "  </tbody>\n",
       "</table>\n",
       "</div>"
      ],
      "text/plain": [
       "    Month       Sales     Profit\n",
       "0       1  14236.8950  2450.1907\n",
       "1       2   4519.8920   862.3084\n",
       "2       3  55691.0090   498.7299\n",
       "3       4  28295.3450  3488.8352\n",
       "4       5  23648.2870  2738.7096\n",
       "5       6  34595.1276  4976.5244\n",
       "6       7  33946.3930  -841.4826\n",
       "7       8  27909.4685  5318.1050\n",
       "8       9  81777.3508  8328.0994\n",
       "9      10  31453.3930  3448.2573\n",
       "10     11  78628.7167  9292.1269\n",
       "11     12  69545.6205  8983.5699"
      ]
     },
     "execution_count": 33,
     "metadata": {},
     "output_type": "execute_result"
    }
   ],
   "source": [
    "df2014_bymonth = df2014.groupby(df2014[\"Order Date\"].dt.month)[[\"Sales\", \"Profit\"]].sum()\n",
    "df2014_bymonth.index.name = \"Month\"\n",
    "df2014_bymonth = df2014_bymonth.reset_index()\n",
    "df2014_bymonth"
   ]
  },
  {
   "cell_type": "code",
   "execution_count": 60,
   "metadata": {},
   "outputs": [],
   "source": [
    "fig = px.line(df2014_bymonth, x=\"Month\", y=[\"Sales\", \"Profit\"],\n",
    "        markers=True, title=\"Ventas vs Beneficios en 2014\")"
   ]
  },
  {
   "cell_type": "code",
   "execution_count": 41,
   "metadata": {},
   "outputs": [],
   "source": [
    "from plotly.offline import iplot"
   ]
  },
  {
   "cell_type": "code",
   "execution_count": 58,
   "metadata": {},
   "outputs": [
    {
     "data": {
      "application/vnd.plotly.v1+json": {
       "config": {
        "linkText": "Export to plot.ly",
        "plotlyServerURL": "https://plot.ly",
        "showLink": false
       },
       "data": [
        {
         "mode": "markers+lines",
         "name": "Sales",
         "type": "scatter",
         "x": [
          1,
          2,
          3,
          4,
          5,
          6,
          7,
          8,
          9,
          10,
          11,
          12
         ],
         "y": [
          14236.895,
          4519.892,
          55691.009000000005,
          28295.345,
          23648.287,
          34595.1276,
          33946.393,
          27909.4685,
          81777.3508,
          31453.393,
          78628.7167,
          69545.6205
         ]
        },
        {
         "mode": "markers+lines",
         "name": "Profit",
         "type": "scatter",
         "x": [
          1,
          2,
          3,
          4,
          5,
          6,
          7,
          8,
          9,
          10,
          11,
          12
         ],
         "y": [
          2450.1906999999997,
          862.3084,
          498.72989999999766,
          3488.8352,
          2738.7095999999997,
          4976.524399999998,
          -841.4826000000024,
          5318.105,
          8328.099399999996,
          3448.257299999999,
          9292.126899999997,
          8983.569899999999
         ]
        }
       ],
       "layout": {
        "template": {
         "data": {
          "bar": [
           {
            "error_x": {
             "color": "#2a3f5f"
            },
            "error_y": {
             "color": "#2a3f5f"
            },
            "marker": {
             "line": {
              "color": "#E5ECF6",
              "width": 0.5
             },
             "pattern": {
              "fillmode": "overlay",
              "size": 10,
              "solidity": 0.2
             }
            },
            "type": "bar"
           }
          ],
          "barpolar": [
           {
            "marker": {
             "line": {
              "color": "#E5ECF6",
              "width": 0.5
             },
             "pattern": {
              "fillmode": "overlay",
              "size": 10,
              "solidity": 0.2
             }
            },
            "type": "barpolar"
           }
          ],
          "carpet": [
           {
            "aaxis": {
             "endlinecolor": "#2a3f5f",
             "gridcolor": "white",
             "linecolor": "white",
             "minorgridcolor": "white",
             "startlinecolor": "#2a3f5f"
            },
            "baxis": {
             "endlinecolor": "#2a3f5f",
             "gridcolor": "white",
             "linecolor": "white",
             "minorgridcolor": "white",
             "startlinecolor": "#2a3f5f"
            },
            "type": "carpet"
           }
          ],
          "choropleth": [
           {
            "colorbar": {
             "outlinewidth": 0,
             "ticks": ""
            },
            "type": "choropleth"
           }
          ],
          "contour": [
           {
            "colorbar": {
             "outlinewidth": 0,
             "ticks": ""
            },
            "colorscale": [
             [
              0,
              "#0d0887"
             ],
             [
              0.1111111111111111,
              "#46039f"
             ],
             [
              0.2222222222222222,
              "#7201a8"
             ],
             [
              0.3333333333333333,
              "#9c179e"
             ],
             [
              0.4444444444444444,
              "#bd3786"
             ],
             [
              0.5555555555555556,
              "#d8576b"
             ],
             [
              0.6666666666666666,
              "#ed7953"
             ],
             [
              0.7777777777777778,
              "#fb9f3a"
             ],
             [
              0.8888888888888888,
              "#fdca26"
             ],
             [
              1,
              "#f0f921"
             ]
            ],
            "type": "contour"
           }
          ],
          "contourcarpet": [
           {
            "colorbar": {
             "outlinewidth": 0,
             "ticks": ""
            },
            "type": "contourcarpet"
           }
          ],
          "heatmap": [
           {
            "colorbar": {
             "outlinewidth": 0,
             "ticks": ""
            },
            "colorscale": [
             [
              0,
              "#0d0887"
             ],
             [
              0.1111111111111111,
              "#46039f"
             ],
             [
              0.2222222222222222,
              "#7201a8"
             ],
             [
              0.3333333333333333,
              "#9c179e"
             ],
             [
              0.4444444444444444,
              "#bd3786"
             ],
             [
              0.5555555555555556,
              "#d8576b"
             ],
             [
              0.6666666666666666,
              "#ed7953"
             ],
             [
              0.7777777777777778,
              "#fb9f3a"
             ],
             [
              0.8888888888888888,
              "#fdca26"
             ],
             [
              1,
              "#f0f921"
             ]
            ],
            "type": "heatmap"
           }
          ],
          "heatmapgl": [
           {
            "colorbar": {
             "outlinewidth": 0,
             "ticks": ""
            },
            "colorscale": [
             [
              0,
              "#0d0887"
             ],
             [
              0.1111111111111111,
              "#46039f"
             ],
             [
              0.2222222222222222,
              "#7201a8"
             ],
             [
              0.3333333333333333,
              "#9c179e"
             ],
             [
              0.4444444444444444,
              "#bd3786"
             ],
             [
              0.5555555555555556,
              "#d8576b"
             ],
             [
              0.6666666666666666,
              "#ed7953"
             ],
             [
              0.7777777777777778,
              "#fb9f3a"
             ],
             [
              0.8888888888888888,
              "#fdca26"
             ],
             [
              1,
              "#f0f921"
             ]
            ],
            "type": "heatmapgl"
           }
          ],
          "histogram": [
           {
            "marker": {
             "pattern": {
              "fillmode": "overlay",
              "size": 10,
              "solidity": 0.2
             }
            },
            "type": "histogram"
           }
          ],
          "histogram2d": [
           {
            "colorbar": {
             "outlinewidth": 0,
             "ticks": ""
            },
            "colorscale": [
             [
              0,
              "#0d0887"
             ],
             [
              0.1111111111111111,
              "#46039f"
             ],
             [
              0.2222222222222222,
              "#7201a8"
             ],
             [
              0.3333333333333333,
              "#9c179e"
             ],
             [
              0.4444444444444444,
              "#bd3786"
             ],
             [
              0.5555555555555556,
              "#d8576b"
             ],
             [
              0.6666666666666666,
              "#ed7953"
             ],
             [
              0.7777777777777778,
              "#fb9f3a"
             ],
             [
              0.8888888888888888,
              "#fdca26"
             ],
             [
              1,
              "#f0f921"
             ]
            ],
            "type": "histogram2d"
           }
          ],
          "histogram2dcontour": [
           {
            "colorbar": {
             "outlinewidth": 0,
             "ticks": ""
            },
            "colorscale": [
             [
              0,
              "#0d0887"
             ],
             [
              0.1111111111111111,
              "#46039f"
             ],
             [
              0.2222222222222222,
              "#7201a8"
             ],
             [
              0.3333333333333333,
              "#9c179e"
             ],
             [
              0.4444444444444444,
              "#bd3786"
             ],
             [
              0.5555555555555556,
              "#d8576b"
             ],
             [
              0.6666666666666666,
              "#ed7953"
             ],
             [
              0.7777777777777778,
              "#fb9f3a"
             ],
             [
              0.8888888888888888,
              "#fdca26"
             ],
             [
              1,
              "#f0f921"
             ]
            ],
            "type": "histogram2dcontour"
           }
          ],
          "mesh3d": [
           {
            "colorbar": {
             "outlinewidth": 0,
             "ticks": ""
            },
            "type": "mesh3d"
           }
          ],
          "parcoords": [
           {
            "line": {
             "colorbar": {
              "outlinewidth": 0,
              "ticks": ""
             }
            },
            "type": "parcoords"
           }
          ],
          "pie": [
           {
            "automargin": true,
            "type": "pie"
           }
          ],
          "scatter": [
           {
            "fillpattern": {
             "fillmode": "overlay",
             "size": 10,
             "solidity": 0.2
            },
            "type": "scatter"
           }
          ],
          "scatter3d": [
           {
            "line": {
             "colorbar": {
              "outlinewidth": 0,
              "ticks": ""
             }
            },
            "marker": {
             "colorbar": {
              "outlinewidth": 0,
              "ticks": ""
             }
            },
            "type": "scatter3d"
           }
          ],
          "scattercarpet": [
           {
            "marker": {
             "colorbar": {
              "outlinewidth": 0,
              "ticks": ""
             }
            },
            "type": "scattercarpet"
           }
          ],
          "scattergeo": [
           {
            "marker": {
             "colorbar": {
              "outlinewidth": 0,
              "ticks": ""
             }
            },
            "type": "scattergeo"
           }
          ],
          "scattergl": [
           {
            "marker": {
             "colorbar": {
              "outlinewidth": 0,
              "ticks": ""
             }
            },
            "type": "scattergl"
           }
          ],
          "scattermapbox": [
           {
            "marker": {
             "colorbar": {
              "outlinewidth": 0,
              "ticks": ""
             }
            },
            "type": "scattermapbox"
           }
          ],
          "scatterpolar": [
           {
            "marker": {
             "colorbar": {
              "outlinewidth": 0,
              "ticks": ""
             }
            },
            "type": "scatterpolar"
           }
          ],
          "scatterpolargl": [
           {
            "marker": {
             "colorbar": {
              "outlinewidth": 0,
              "ticks": ""
             }
            },
            "type": "scatterpolargl"
           }
          ],
          "scatterternary": [
           {
            "marker": {
             "colorbar": {
              "outlinewidth": 0,
              "ticks": ""
             }
            },
            "type": "scatterternary"
           }
          ],
          "surface": [
           {
            "colorbar": {
             "outlinewidth": 0,
             "ticks": ""
            },
            "colorscale": [
             [
              0,
              "#0d0887"
             ],
             [
              0.1111111111111111,
              "#46039f"
             ],
             [
              0.2222222222222222,
              "#7201a8"
             ],
             [
              0.3333333333333333,
              "#9c179e"
             ],
             [
              0.4444444444444444,
              "#bd3786"
             ],
             [
              0.5555555555555556,
              "#d8576b"
             ],
             [
              0.6666666666666666,
              "#ed7953"
             ],
             [
              0.7777777777777778,
              "#fb9f3a"
             ],
             [
              0.8888888888888888,
              "#fdca26"
             ],
             [
              1,
              "#f0f921"
             ]
            ],
            "type": "surface"
           }
          ],
          "table": [
           {
            "cells": {
             "fill": {
              "color": "#EBF0F8"
             },
             "line": {
              "color": "white"
             }
            },
            "header": {
             "fill": {
              "color": "#C8D4E3"
             },
             "line": {
              "color": "white"
             }
            },
            "type": "table"
           }
          ]
         },
         "layout": {
          "annotationdefaults": {
           "arrowcolor": "#2a3f5f",
           "arrowhead": 0,
           "arrowwidth": 1
          },
          "autotypenumbers": "strict",
          "coloraxis": {
           "colorbar": {
            "outlinewidth": 0,
            "ticks": ""
           }
          },
          "colorscale": {
           "diverging": [
            [
             0,
             "#8e0152"
            ],
            [
             0.1,
             "#c51b7d"
            ],
            [
             0.2,
             "#de77ae"
            ],
            [
             0.3,
             "#f1b6da"
            ],
            [
             0.4,
             "#fde0ef"
            ],
            [
             0.5,
             "#f7f7f7"
            ],
            [
             0.6,
             "#e6f5d0"
            ],
            [
             0.7,
             "#b8e186"
            ],
            [
             0.8,
             "#7fbc41"
            ],
            [
             0.9,
             "#4d9221"
            ],
            [
             1,
             "#276419"
            ]
           ],
           "sequential": [
            [
             0,
             "#0d0887"
            ],
            [
             0.1111111111111111,
             "#46039f"
            ],
            [
             0.2222222222222222,
             "#7201a8"
            ],
            [
             0.3333333333333333,
             "#9c179e"
            ],
            [
             0.4444444444444444,
             "#bd3786"
            ],
            [
             0.5555555555555556,
             "#d8576b"
            ],
            [
             0.6666666666666666,
             "#ed7953"
            ],
            [
             0.7777777777777778,
             "#fb9f3a"
            ],
            [
             0.8888888888888888,
             "#fdca26"
            ],
            [
             1,
             "#f0f921"
            ]
           ],
           "sequentialminus": [
            [
             0,
             "#0d0887"
            ],
            [
             0.1111111111111111,
             "#46039f"
            ],
            [
             0.2222222222222222,
             "#7201a8"
            ],
            [
             0.3333333333333333,
             "#9c179e"
            ],
            [
             0.4444444444444444,
             "#bd3786"
            ],
            [
             0.5555555555555556,
             "#d8576b"
            ],
            [
             0.6666666666666666,
             "#ed7953"
            ],
            [
             0.7777777777777778,
             "#fb9f3a"
            ],
            [
             0.8888888888888888,
             "#fdca26"
            ],
            [
             1,
             "#f0f921"
            ]
           ]
          },
          "colorway": [
           "#636efa",
           "#EF553B",
           "#00cc96",
           "#ab63fa",
           "#FFA15A",
           "#19d3f3",
           "#FF6692",
           "#B6E880",
           "#FF97FF",
           "#FECB52"
          ],
          "font": {
           "color": "#2a3f5f"
          },
          "geo": {
           "bgcolor": "white",
           "lakecolor": "white",
           "landcolor": "#E5ECF6",
           "showlakes": true,
           "showland": true,
           "subunitcolor": "white"
          },
          "hoverlabel": {
           "align": "left"
          },
          "hovermode": "closest",
          "mapbox": {
           "style": "light"
          },
          "paper_bgcolor": "white",
          "plot_bgcolor": "#E5ECF6",
          "polar": {
           "angularaxis": {
            "gridcolor": "white",
            "linecolor": "white",
            "ticks": ""
           },
           "bgcolor": "#E5ECF6",
           "radialaxis": {
            "gridcolor": "white",
            "linecolor": "white",
            "ticks": ""
           }
          },
          "scene": {
           "xaxis": {
            "backgroundcolor": "#E5ECF6",
            "gridcolor": "white",
            "gridwidth": 2,
            "linecolor": "white",
            "showbackground": true,
            "ticks": "",
            "zerolinecolor": "white"
           },
           "yaxis": {
            "backgroundcolor": "#E5ECF6",
            "gridcolor": "white",
            "gridwidth": 2,
            "linecolor": "white",
            "showbackground": true,
            "ticks": "",
            "zerolinecolor": "white"
           },
           "zaxis": {
            "backgroundcolor": "#E5ECF6",
            "gridcolor": "white",
            "gridwidth": 2,
            "linecolor": "white",
            "showbackground": true,
            "ticks": "",
            "zerolinecolor": "white"
           }
          },
          "shapedefaults": {
           "line": {
            "color": "#2a3f5f"
           }
          },
          "ternary": {
           "aaxis": {
            "gridcolor": "white",
            "linecolor": "white",
            "ticks": ""
           },
           "baxis": {
            "gridcolor": "white",
            "linecolor": "white",
            "ticks": ""
           },
           "bgcolor": "#E5ECF6",
           "caxis": {
            "gridcolor": "white",
            "linecolor": "white",
            "ticks": ""
           }
          },
          "title": {
           "x": 0.05
          },
          "xaxis": {
           "automargin": true,
           "gridcolor": "white",
           "linecolor": "white",
           "ticks": "",
           "title": {
            "standoff": 15
           },
           "zerolinecolor": "white",
           "zerolinewidth": 2
          },
          "yaxis": {
           "automargin": true,
           "gridcolor": "white",
           "linecolor": "white",
           "ticks": "",
           "title": {
            "standoff": 15
           },
           "zerolinecolor": "white",
           "zerolinewidth": 2
          }
         }
        },
        "title": {
         "text": "Ventas vs Beneficios en 2014"
        },
        "xaxis": {
         "title": {
          "text": "Month"
         }
        },
        "yaxis": {
         "title": {
          "text": "Amount"
         }
        }
       }
      }
     },
     "metadata": {},
     "output_type": "display_data"
    }
   ],
   "source": [
    "trace1 = {\"type\": \"scatter\",\n",
    "         \"mode\": \"markers+lines\",\n",
    "         \"x\": df2014_bymonth[\"Month\"].tolist(),\n",
    "         \"y\": df2014_bymonth[\"Sales\"].tolist(),\n",
    "         \"name\": \"Sales\"}\n",
    "\n",
    "trace2 = {\"type\": \"scatter\",\n",
    "         \"mode\": \"markers+lines\",\n",
    "         \"x\": df2014_bymonth[\"Month\"].tolist(),\n",
    "         \"y\": df2014_bymonth[\"Profit\"].tolist(),\n",
    "         \"name\": \"Profit\"}\n",
    "\n",
    "layout = {\"title\":\"Ventas vs Beneficios en 2014\", \"xaxis\":{\"title\": \"Month\"}, \"yaxis\":{\"title\": \"Amount\"}}\n",
    "\n",
    "fig = {\"data\": [trace1, trace2], \"layout\": layout}\n",
    "\n",
    "iplot(fig)"
   ]
  },
  {
   "cell_type": "code",
   "execution_count": 59,
   "metadata": {},
   "outputs": [],
   "source": [
    "import json\n",
    "with open(\"plotly.json\", \"w\") as f:\n",
    "    json.dump(fig, f)"
   ]
  },
  {
   "cell_type": "markdown",
   "metadata": {
    "id": "XeZgfB8Dimh3"
   },
   "source": [
    "## 3. Crea un conjunto de 3 histogramas interactivos que muestren las distribuciones de cantidad por pedido para los siguientes estados: California, Nueva York y Texas."
   ]
  },
  {
   "cell_type": "code",
   "execution_count": 126,
   "metadata": {},
   "outputs": [
    {
     "data": {
      "application/vnd.plotly.v1+json": {
       "config": {
        "plotlyServerURL": "https://plot.ly"
       },
       "data": [
        {
         "name": "California",
         "type": "histogram",
         "x": [
          2,
          7,
          4,
          6,
          3,
          5,
          9,
          4,
          2,
          3,
          4,
          2,
          3,
          2,
          2,
          6,
          3,
          4,
          5,
          1,
          3,
          2,
          1,
          3,
          2,
          3,
          3,
          1,
          4,
          2,
          3,
          6,
          14,
          3,
          3,
          3,
          7,
          7,
          4,
          6,
          1,
          3,
          2,
          7,
          8,
          7,
          4,
          6,
          3,
          2,
          2,
          1,
          13,
          2,
          4,
          7,
          3,
          3,
          2,
          1,
          5,
          2,
          6,
          1,
          1,
          2,
          4,
          2,
          3,
          3,
          4,
          7,
          3,
          5,
          3,
          5,
          7,
          1,
          9,
          1,
          13,
          2,
          8,
          5,
          4,
          1,
          2,
          3,
          2,
          4,
          6,
          7,
          5,
          6,
          3,
          2,
          5,
          5,
          8,
          4,
          2,
          9,
          3,
          2,
          3,
          2,
          1,
          3,
          2,
          2,
          2,
          4,
          5,
          3,
          7,
          3,
          14,
          4,
          2,
          4,
          2,
          3,
          5,
          8,
          5,
          3,
          5,
          4,
          2,
          7,
          1,
          5,
          3,
          3,
          2,
          10,
          4,
          3,
          4,
          9,
          3,
          3,
          4,
          1,
          2,
          2,
          2,
          4,
          5,
          1,
          2,
          2,
          2,
          7,
          4,
          3,
          4,
          4,
          2,
          2,
          2,
          6,
          2,
          2,
          4,
          3,
          12,
          6,
          7,
          3,
          3,
          2,
          2,
          2,
          4,
          2,
          2,
          4,
          2,
          2,
          2,
          3,
          5,
          3,
          4,
          5,
          2,
          3,
          12,
          1,
          4,
          2,
          4,
          7,
          3,
          1,
          9,
          2,
          5,
          4,
          3,
          1,
          3,
          3,
          2,
          1,
          2,
          2,
          3,
          2,
          4,
          1,
          2,
          1,
          1,
          3,
          5,
          4,
          4,
          8,
          3,
          4,
          4,
          9,
          8,
          2,
          1,
          2,
          6,
          12,
          3,
          3,
          1,
          6,
          4,
          5,
          3,
          5,
          1,
          2,
          2,
          2,
          7,
          3,
          2,
          3,
          2,
          6,
          8,
          5,
          4,
          3,
          8,
          3,
          5,
          3,
          1,
          2,
          5,
          2,
          4,
          3,
          3,
          2,
          5,
          5,
          14,
          2,
          3,
          3,
          4,
          4,
          7,
          3,
          7,
          3,
          3,
          5,
          2,
          2,
          4,
          6,
          2,
          8,
          9,
          7,
          2,
          3,
          4,
          2,
          6,
          3,
          5,
          3,
          1,
          2,
          3,
          5,
          3,
          5,
          1,
          4,
          3,
          2,
          2,
          2,
          7,
          5,
          3,
          2,
          2,
          3,
          3,
          3,
          1,
          3,
          2,
          7,
          5,
          6,
          2,
          2,
          1,
          5,
          14,
          2,
          3,
          2,
          5,
          8,
          2,
          9,
          2,
          2,
          4,
          6,
          3,
          9,
          5,
          5,
          7,
          7,
          7,
          3,
          2,
          3,
          2,
          3,
          5,
          2,
          1,
          4,
          3,
          3,
          2,
          1,
          4,
          3,
          3,
          2,
          3,
          5,
          8,
          3,
          6,
          3,
          4,
          5,
          7,
          2,
          2,
          4,
          6,
          5,
          2,
          4,
          6,
          3,
          5,
          2,
          13,
          3,
          4,
          3,
          9,
          3,
          4,
          3,
          5,
          3,
          7,
          3,
          6,
          2,
          1,
          3,
          3,
          5,
          4,
          3,
          4,
          2,
          1,
          7,
          3,
          1,
          6,
          1,
          3,
          3,
          2,
          3,
          1,
          13,
          2,
          4,
          4,
          1,
          4,
          2,
          2,
          1,
          7,
          2,
          2,
          2,
          1,
          3,
          2,
          5,
          5,
          6,
          3,
          3,
          3,
          2,
          7,
          2,
          1,
          3,
          7,
          2,
          1,
          3,
          5,
          2,
          5,
          6,
          2,
          2,
          3,
          6,
          7,
          5,
          1,
          3,
          1,
          5,
          4,
          9,
          4,
          4,
          2,
          2,
          2,
          2,
          6,
          9,
          7,
          10,
          5,
          3,
          8,
          5,
          2,
          3,
          2,
          1,
          8,
          2,
          5,
          2,
          5,
          7,
          4,
          3,
          6,
          3,
          2,
          1,
          2,
          4,
          5,
          8,
          3,
          6,
          4,
          6,
          3,
          4,
          1,
          1,
          3,
          1,
          2,
          3,
          6,
          2,
          13,
          2,
          5,
          3,
          1,
          4,
          3,
          9,
          5,
          7,
          3,
          2,
          5,
          2,
          2,
          6,
          3,
          11,
          2,
          2,
          3,
          5,
          5,
          2,
          1,
          5,
          3,
          2,
          4,
          2,
          14,
          4,
          7,
          3,
          3,
          6,
          5,
          3,
          3,
          1,
          3,
          5,
          4,
          3,
          7,
          3,
          4,
          1,
          8,
          2,
          7,
          4,
          2,
          3,
          2,
          5,
          2,
          2,
          2,
          1,
          9,
          1,
          7,
          3,
          14,
          5,
          4,
          4,
          2,
          2,
          5,
          2,
          1,
          4,
          5,
          7,
          4,
          3,
          3,
          2,
          2,
          8,
          2,
          10,
          2,
          2,
          2,
          2,
          8,
          2,
          3,
          2,
          2,
          5,
          4,
          5,
          2,
          5,
          3,
          9,
          2,
          3,
          1,
          4,
          8,
          1,
          2,
          8,
          5,
          8,
          5,
          9,
          6,
          3,
          1,
          2,
          7,
          3,
          8,
          5,
          6,
          3,
          5,
          5,
          1,
          3,
          2,
          3,
          5,
          2,
          9,
          3,
          4,
          4,
          4,
          3,
          9,
          3,
          5,
          5,
          3,
          2,
          2,
          6,
          2,
          2,
          9,
          2,
          4,
          2,
          2,
          2,
          8,
          7,
          4,
          2,
          3,
          2,
          9,
          1,
          2,
          5,
          1,
          2,
          2,
          2,
          7,
          6,
          2,
          6,
          5,
          2,
          8,
          4,
          4,
          4,
          5,
          2,
          2,
          6,
          7,
          2,
          4,
          4,
          2,
          2,
          1,
          1,
          2,
          2,
          1,
          5,
          12,
          2,
          1,
          1,
          2,
          8,
          2,
          2,
          1,
          5,
          1,
          4,
          2,
          3,
          3,
          5,
          2,
          4,
          2,
          5,
          3,
          3,
          2,
          5,
          2,
          2,
          2,
          6,
          6,
          7,
          6,
          1,
          3,
          4,
          2,
          2,
          2,
          6,
          5,
          1,
          5,
          4,
          2,
          9,
          1,
          7,
          2,
          4,
          3,
          2,
          6,
          8,
          14,
          5,
          5,
          2,
          3,
          3,
          3,
          3,
          9,
          4,
          5,
          1,
          3,
          11,
          5,
          4,
          5,
          4,
          6,
          3,
          3,
          9,
          6,
          5,
          7,
          3,
          2,
          3,
          3,
          5,
          2,
          2,
          3,
          7,
          8,
          5,
          7,
          7,
          3,
          1,
          4,
          2,
          7,
          2,
          5,
          9,
          2,
          5,
          3,
          8,
          2,
          4,
          3,
          3,
          2,
          9,
          1,
          3,
          4,
          3,
          2,
          7,
          4,
          3,
          3,
          4,
          2,
          3,
          3,
          2,
          3,
          3,
          6,
          6,
          2,
          4,
          4,
          2,
          5,
          3,
          5,
          3,
          3,
          4,
          3,
          2,
          2,
          6,
          2,
          5,
          2,
          1,
          3,
          5,
          2,
          5,
          4,
          2,
          2,
          5,
          7,
          2,
          12,
          3,
          2,
          3,
          3,
          3,
          9,
          6,
          2,
          2,
          5,
          7,
          2,
          3,
          3,
          1,
          1,
          3,
          4,
          3,
          2,
          2,
          3,
          3,
          3,
          3,
          3,
          5,
          3,
          2,
          2,
          7,
          5,
          6,
          3,
          3,
          7,
          2,
          2,
          3,
          2,
          3,
          3,
          8,
          6,
          3,
          5,
          3,
          6,
          1,
          3,
          4,
          3,
          2,
          5,
          4,
          1,
          5,
          3,
          2,
          3,
          7,
          7,
          2,
          7,
          6,
          3,
          3,
          3,
          2,
          1,
          3,
          3,
          3,
          4,
          3,
          3,
          4,
          1,
          2,
          10,
          3,
          3,
          4,
          5,
          2,
          4,
          2,
          3,
          3,
          3,
          3,
          4,
          9,
          5,
          2,
          4,
          1,
          5,
          3,
          5,
          2,
          2,
          2,
          7,
          3,
          1,
          1,
          1,
          2,
          2,
          3,
          3,
          4,
          1,
          5,
          1,
          2,
          3,
          3,
          2,
          2,
          3,
          4,
          3,
          1,
          8,
          3,
          4,
          9,
          5,
          4,
          3,
          5,
          5,
          6,
          5,
          4,
          2,
          3,
          1,
          3,
          8,
          2,
          2,
          2,
          4,
          4,
          2,
          3,
          2,
          2,
          2,
          2,
          2,
          7,
          3,
          3,
          3,
          5,
          5,
          3,
          3,
          2,
          2,
          5,
          1,
          7,
          1,
          3,
          2,
          2,
          3,
          2,
          6,
          5,
          4,
          5,
          4,
          7,
          4,
          2,
          3,
          2,
          4,
          5,
          6,
          3,
          4,
          3,
          2,
          6,
          2,
          5,
          1,
          2,
          2,
          3,
          6,
          3,
          3,
          2,
          5,
          12,
          5,
          5,
          1,
          3,
          4,
          1,
          3,
          1,
          3,
          5,
          6,
          5,
          3,
          5,
          3,
          6,
          8,
          3,
          3,
          3,
          3,
          1,
          2,
          4,
          2,
          2,
          4,
          4,
          2,
          5,
          6,
          4,
          12,
          2,
          1,
          3,
          7,
          6,
          3,
          2,
          5,
          9,
          2,
          5,
          3,
          2,
          2,
          4,
          4,
          2,
          5,
          3,
          6,
          3,
          5,
          5,
          2,
          5,
          1,
          2,
          6,
          2,
          2,
          2,
          3,
          2,
          1,
          2,
          4,
          3,
          7,
          7,
          3,
          5,
          4,
          1,
          3,
          4,
          3,
          3,
          4,
          7,
          1,
          1,
          3,
          1,
          3,
          1,
          4,
          4,
          7,
          1,
          2,
          1,
          2,
          2,
          4,
          2,
          3,
          2,
          1,
          5,
          4,
          4,
          4,
          4,
          5,
          4,
          7,
          5,
          2,
          3,
          2,
          7,
          2,
          9,
          9,
          2,
          3,
          3,
          3,
          3,
          3,
          5,
          1,
          9,
          3,
          4,
          5,
          4,
          1,
          2,
          3,
          3,
          3,
          12,
          2,
          4,
          1,
          5,
          4,
          4,
          5,
          5,
          4,
          3,
          4,
          9,
          2,
          4,
          3,
          6,
          3,
          1,
          2,
          4,
          3,
          7,
          7,
          3,
          4,
          3,
          3,
          6,
          3,
          3,
          5,
          8,
          2,
          7,
          3,
          1,
          3,
          3,
          3,
          3,
          5,
          3,
          3,
          8,
          1,
          1,
          3,
          2,
          3,
          6,
          5,
          2,
          1,
          4,
          2,
          4,
          2,
          3,
          4,
          4,
          2,
          2,
          6,
          10,
          4,
          4,
          2,
          5,
          1,
          9,
          3,
          2,
          1,
          1,
          9,
          5,
          5,
          5,
          3,
          6,
          4,
          8,
          3,
          3,
          3,
          3,
          3,
          5,
          6,
          5,
          4,
          4,
          5,
          1,
          3,
          2,
          2,
          5,
          2,
          8,
          2,
          7,
          7,
          6,
          4,
          7,
          2,
          3,
          5,
          10,
          2,
          1,
          2,
          5,
          5,
          1,
          8,
          3,
          3,
          5,
          3,
          7,
          4,
          6,
          3,
          3,
          2,
          6,
          4,
          6,
          8,
          1,
          2,
          7,
          6,
          4,
          4,
          2,
          2,
          3,
          2,
          3,
          3,
          8,
          5,
          2,
          3,
          3,
          3,
          9,
          4,
          3,
          2,
          1,
          6,
          5,
          1,
          2,
          5,
          1,
          2,
          5,
          1,
          5,
          5,
          2,
          4,
          4,
          3,
          2,
          5,
          11,
          8,
          3,
          2,
          5,
          3,
          2,
          9,
          2,
          9,
          3,
          3,
          5,
          1,
          3,
          4,
          5,
          7,
          3,
          4,
          3,
          7,
          1,
          5,
          2,
          3,
          4,
          5,
          2,
          1,
          3,
          2,
          3,
          5,
          2,
          7,
          2,
          3,
          3,
          1,
          4,
          5,
          2,
          1,
          4,
          5,
          3,
          9,
          7,
          3,
          2,
          2,
          7,
          6,
          1,
          2,
          9,
          3,
          1,
          2,
          4,
          1,
          4,
          3,
          10,
          3,
          3,
          5,
          3,
          3,
          5,
          2,
          2,
          11,
          3,
          3,
          2,
          4,
          2,
          3,
          7,
          4,
          6,
          3,
          3,
          7,
          7,
          7,
          6,
          2,
          7,
          5,
          2,
          3,
          7,
          2,
          4,
          2,
          3,
          4,
          9,
          2,
          9,
          7,
          4,
          2,
          3,
          2,
          4,
          7,
          1,
          7,
          5,
          3,
          3,
          3,
          11,
          3,
          7,
          1,
          3,
          5,
          3,
          5,
          5,
          3,
          2,
          3,
          8,
          3,
          6,
          5,
          5,
          2,
          3,
          4,
          2,
          2,
          8,
          2,
          8,
          4,
          1,
          2,
          6,
          2,
          3,
          4,
          4,
          3,
          3,
          3,
          2,
          1,
          2,
          2,
          6,
          3,
          6,
          3,
          3,
          3,
          2,
          9,
          4,
          3,
          2,
          4,
          3,
          3,
          4,
          7,
          3,
          1,
          5,
          5,
          4,
          3,
          3,
          2,
          4,
          2,
          4,
          5,
          3,
          6,
          4,
          6,
          4,
          3,
          2,
          1,
          4,
          2,
          2,
          3,
          1,
          3,
          3,
          3,
          2,
          2,
          2,
          8,
          5,
          3,
          3,
          3,
          3,
          2,
          2,
          2,
          2,
          2,
          4,
          2,
          2,
          5,
          2,
          3,
          8,
          3,
          2,
          2,
          2,
          3,
          2,
          3,
          9,
          3,
          8,
          2,
          10,
          4,
          5,
          4,
          5,
          3,
          1,
          4,
          1,
          5,
          12,
          6,
          7,
          1,
          3,
          5,
          2,
          9,
          5,
          3,
          2,
          3,
          6,
          2,
          2,
          3,
          3,
          2,
          7,
          7,
          6,
          3,
          5,
          2,
          3,
          11,
          2,
          2,
          2,
          4,
          3,
          3,
          7,
          3,
          3,
          4,
          4,
          7,
          5,
          6,
          7,
          3,
          3,
          7,
          1,
          6,
          4,
          5,
          2,
          6,
          2,
          5,
          2,
          8,
          3,
          4,
          3,
          5,
          3,
          2,
          4,
          9,
          6,
          3,
          4,
          2,
          5,
          3,
          2,
          1,
          6,
          6,
          2,
          3,
          2,
          4,
          4,
          5,
          2,
          2,
          2,
          2,
          2,
          2,
          3,
          3,
          2,
          3,
          2,
          7,
          2,
          3,
          2,
          5,
          3,
          4,
          3,
          2,
          5,
          5,
          4,
          3,
          3,
          2,
          1,
          5,
          2,
          3,
          7,
          3,
          5,
          5,
          4,
          2,
          7,
          2,
          5,
          2,
          5,
          1,
          4,
          3,
          3,
          3,
          3,
          6,
          5,
          2,
          2,
          2,
          1,
          2,
          2,
          5,
          5,
          4,
          4,
          3,
          2,
          3,
          3,
          2,
          6,
          2,
          5,
          2,
          11,
          3,
          2,
          9,
          9,
          3,
          3,
          3,
          4,
          7,
          8,
          5,
          2,
          5,
          2,
          3,
          3,
          1,
          2,
          7,
          5,
          5,
          5,
          3,
          3,
          2,
          5,
          5,
          5,
          3,
          2,
          2,
          4,
          2,
          2,
          7,
          3,
          4,
          4,
          6,
          3,
          2,
          5,
          7,
          5,
          7,
          1,
          5,
          2,
          4,
          1,
          3,
          2,
          1,
          3,
          3,
          3,
          3,
          3,
          4,
          2,
          1,
          1,
          5,
          2,
          5,
          6,
          1,
          8,
          3,
          2,
          3,
          5,
          7,
          4,
          3,
          9,
          9,
          3,
          4,
          7,
          3,
          1,
          6,
          1,
          2,
          5,
          3,
          1,
          2,
          1,
          2,
          2,
          4,
          6,
          8,
          2,
          3,
          4,
          5,
          1,
          6,
          3,
          5,
          3,
          7,
          8,
          2,
          7,
          2,
          5,
          6,
          5,
          3,
          3,
          2,
          2,
          3,
          6,
          3,
          2,
          3,
          1,
          6,
          6,
          8,
          3,
          6,
          1,
          3,
          4,
          2,
          2,
          3,
          2,
          3,
          5,
          3,
          2,
          3,
          3,
          4,
          9,
          2,
          2,
          2,
          8,
          9,
          2,
          6,
          5,
          9,
          2,
          3,
          3,
          2,
          3,
          3,
          7,
          3,
          5,
          4,
          2,
          9,
          3,
          6,
          8,
          2,
          1,
          6,
          6,
          2,
          3,
          4,
          3,
          2,
          3,
          3,
          3,
          2,
          3,
          2,
          8,
          2,
          6,
          5,
          3,
          5,
          2,
          2,
          5,
          5,
          6,
          7,
          3,
          3,
          4,
          3,
          4,
          5,
          2,
          1,
          3,
          8,
          2,
          4,
          5,
          5,
          5,
          2,
          4,
          2,
          2,
          3,
          2,
          7,
          3,
          3,
          5,
          3,
          2,
          3,
          3,
          3,
          5,
          2,
          4,
          7,
          2,
          14,
          9,
          5,
          2,
          1,
          3,
          2,
          5,
          7,
          2,
          2,
          7,
          4,
          14,
          1,
          2,
          2,
          4,
          2
         ],
         "xaxis": "x",
         "yaxis": "y"
        },
        {
         "name": "New York",
         "type": "histogram",
         "x": [
          7,
          5,
          6,
          5,
          5,
          2,
          2,
          4,
          1,
          1,
          7,
          2,
          1,
          4,
          6,
          8,
          3,
          5,
          6,
          4,
          3,
          3,
          5,
          2,
          1,
          2,
          6,
          4,
          1,
          1,
          2,
          1,
          4,
          4,
          6,
          2,
          4,
          5,
          2,
          3,
          2,
          8,
          4,
          2,
          3,
          1,
          3,
          3,
          3,
          6,
          3,
          3,
          4,
          1,
          3,
          5,
          5,
          2,
          2,
          5,
          3,
          5,
          4,
          6,
          2,
          7,
          4,
          7,
          3,
          2,
          2,
          9,
          1,
          3,
          7,
          10,
          2,
          8,
          5,
          3,
          2,
          4,
          2,
          4,
          5,
          8,
          1,
          6,
          2,
          3,
          8,
          2,
          3,
          3,
          2,
          3,
          7,
          2,
          7,
          9,
          3,
          4,
          4,
          2,
          3,
          2,
          10,
          2,
          2,
          7,
          3,
          5,
          2,
          5,
          3,
          8,
          4,
          7,
          3,
          3,
          1,
          5,
          2,
          2,
          3,
          2,
          4,
          3,
          3,
          7,
          3,
          6,
          5,
          3,
          2,
          7,
          7,
          3,
          2,
          3,
          5,
          5,
          2,
          3,
          2,
          2,
          3,
          4,
          2,
          8,
          1,
          2,
          7,
          1,
          3,
          5,
          2,
          3,
          3,
          4,
          6,
          1,
          3,
          7,
          7,
          2,
          4,
          3,
          1,
          1,
          4,
          3,
          2,
          2,
          2,
          4,
          3,
          4,
          6,
          9,
          13,
          2,
          3,
          3,
          2,
          4,
          3,
          2,
          3,
          8,
          3,
          5,
          4,
          2,
          4,
          1,
          2,
          2,
          2,
          4,
          7,
          2,
          6,
          3,
          7,
          2,
          4,
          1,
          6,
          3,
          6,
          7,
          1,
          4,
          5,
          3,
          2,
          9,
          2,
          2,
          3,
          2,
          5,
          3,
          3,
          4,
          13,
          2,
          1,
          5,
          4,
          2,
          9,
          2,
          2,
          5,
          5,
          4,
          8,
          4,
          2,
          3,
          1,
          1,
          8,
          3,
          6,
          2,
          4,
          1,
          3,
          7,
          4,
          2,
          5,
          2,
          2,
          2,
          1,
          1,
          8,
          3,
          6,
          5,
          3,
          2,
          3,
          4,
          4,
          5,
          5,
          3,
          2,
          4,
          2,
          1,
          3,
          3,
          9,
          2,
          3,
          5,
          2,
          7,
          3,
          4,
          5,
          5,
          8,
          4,
          1,
          1,
          1,
          1,
          1,
          1,
          4,
          5,
          1,
          7,
          4,
          5,
          3,
          1,
          2,
          4,
          4,
          7,
          4,
          3,
          7,
          4,
          1,
          7,
          9,
          4,
          2,
          2,
          5,
          7,
          5,
          6,
          3,
          3,
          8,
          8,
          1,
          6,
          3,
          5,
          2,
          1,
          1,
          3,
          4,
          4,
          7,
          2,
          1,
          2,
          8,
          7,
          1,
          2,
          7,
          3,
          3,
          1,
          4,
          4,
          8,
          5,
          1,
          4,
          3,
          3,
          4,
          11,
          2,
          6,
          9,
          2,
          3,
          3,
          4,
          1,
          1,
          4,
          3,
          2,
          5,
          11,
          3,
          5,
          2,
          4,
          5,
          4,
          3,
          1,
          1,
          1,
          3,
          2,
          3,
          4,
          1,
          5,
          2,
          11,
          3,
          1,
          3,
          3,
          6,
          4,
          2,
          3,
          3,
          5,
          2,
          2,
          2,
          3,
          2,
          5,
          1,
          3,
          3,
          2,
          1,
          5,
          3,
          3,
          3,
          11,
          6,
          5,
          2,
          3,
          3,
          3,
          3,
          4,
          3,
          3,
          5,
          4,
          2,
          3,
          7,
          5,
          2,
          14,
          3,
          7,
          2,
          4,
          5,
          3,
          2,
          10,
          3,
          3,
          3,
          4,
          1,
          1,
          3,
          4,
          9,
          3,
          2,
          3,
          3,
          3,
          2,
          6,
          6,
          2,
          9,
          3,
          3,
          3,
          2,
          2,
          1,
          7,
          2,
          4,
          2,
          5,
          8,
          7,
          2,
          3,
          3,
          10,
          3,
          2,
          2,
          3,
          3,
          2,
          3,
          3,
          3,
          3,
          2,
          3,
          4,
          3,
          3,
          3,
          1,
          2,
          6,
          7,
          4,
          7,
          2,
          2,
          2,
          2,
          9,
          2,
          3,
          7,
          2,
          3,
          3,
          3,
          3,
          3,
          3,
          9,
          2,
          2,
          2,
          5,
          7,
          6,
          2,
          5,
          4,
          2,
          3,
          11,
          1,
          3,
          2,
          7,
          5,
          2,
          5,
          3,
          2,
          3,
          9,
          4,
          3,
          3,
          4,
          2,
          2,
          1,
          3,
          3,
          1,
          4,
          3,
          3,
          1,
          3,
          3,
          6,
          3,
          5,
          3,
          3,
          2,
          5,
          2,
          6,
          5,
          4,
          2,
          3,
          3,
          1,
          3,
          7,
          9,
          9,
          7,
          4,
          2,
          1,
          3,
          9,
          7,
          4,
          3,
          5,
          6,
          8,
          1,
          3,
          1,
          3,
          3,
          2,
          2,
          1,
          2,
          5,
          1,
          3,
          5,
          5,
          6,
          2,
          4,
          1,
          8,
          5,
          3,
          2,
          2,
          1,
          5,
          4,
          5,
          6,
          2,
          5,
          1,
          4,
          1,
          2,
          1,
          13,
          3,
          6,
          5,
          2,
          3,
          2,
          6,
          2,
          3,
          2,
          3,
          2,
          5,
          4,
          3,
          3,
          6,
          5,
          2,
          5,
          5,
          6,
          7,
          1,
          3,
          3,
          3,
          2,
          7,
          3,
          3,
          9,
          3,
          5,
          10,
          3,
          9,
          4,
          3,
          2,
          3,
          4,
          3,
          4,
          9,
          4,
          4,
          1,
          2,
          2,
          4,
          5,
          7,
          2,
          4,
          6,
          5,
          3,
          2,
          2,
          4,
          2,
          5,
          2,
          1,
          2,
          2,
          2,
          5,
          2,
          5,
          4,
          3,
          6,
          2,
          3,
          3,
          3,
          2,
          9,
          2,
          4,
          2,
          1,
          3,
          2,
          11,
          2,
          5,
          3,
          3,
          4,
          3,
          6,
          14,
          3,
          2,
          3,
          6,
          6,
          9,
          3,
          8,
          4,
          3,
          4,
          1,
          1,
          3,
          4,
          5,
          4,
          2,
          4,
          5,
          1,
          2,
          1,
          1,
          2,
          2,
          4,
          3,
          3,
          2,
          2,
          6,
          4,
          1,
          2,
          5,
          5,
          3,
          2,
          5,
          3,
          1,
          7,
          2,
          6,
          4,
          5,
          3,
          5,
          3,
          3,
          4,
          3,
          10,
          4,
          9,
          2,
          4,
          14,
          3,
          6,
          3,
          3,
          1,
          5,
          1,
          3,
          2,
          3,
          2,
          4,
          9,
          3,
          4,
          7,
          1,
          7,
          12,
          2,
          5,
          4,
          3,
          5,
          7,
          3,
          3,
          4,
          3,
          2,
          5,
          2,
          1,
          7,
          6,
          4,
          2,
          3,
          2,
          3,
          3,
          3,
          3,
          2,
          3,
          2,
          3,
          6,
          2,
          5,
          9,
          6,
          2,
          2,
          4,
          2,
          2,
          5,
          2,
          3,
          3,
          3,
          3,
          3,
          8,
          3,
          2,
          2,
          2,
          5,
          2,
          3,
          8,
          2,
          2,
          3,
          3,
          1,
          5,
          5,
          2,
          3,
          2,
          2,
          3,
          2,
          6,
          2,
          3,
          4,
          2,
          3,
          2,
          4,
          6,
          3,
          6,
          3,
          4,
          3,
          3,
          6,
          2,
          3,
          2,
          5,
          9,
          1,
          3,
          2,
          2,
          3,
          4,
          6,
          4,
          3,
          2,
          3,
          1,
          3,
          1,
          2,
          2,
          5,
          3,
          4,
          3,
          5,
          3,
          3,
          1,
          3,
          3,
          2,
          4,
          5,
          5,
          8,
          1,
          3,
          2,
          1,
          1,
          4,
          5,
          7,
          3,
          5,
          2,
          4,
          3,
          2,
          3,
          2,
          8,
          5,
          9,
          6,
          2,
          6,
          9,
          6,
          4,
          5,
          2,
          3,
          4,
          2,
          2,
          2,
          3,
          2,
          3,
          3,
          7,
          8,
          7,
          2,
          1,
          2,
          5,
          4,
          5,
          3,
          2,
          3,
          4,
          2,
          3,
          3,
          2,
          6,
          2,
          2,
          2,
          2,
          7,
          13,
          2,
          2,
          3,
          2,
          4,
          2,
          2,
          4,
          3,
          5,
          2,
          2,
          4,
          6,
          2,
          2,
          4,
          3,
          2,
          6,
          2,
          3,
          3,
          3,
          2,
          2,
          4,
          1,
          3,
          9,
          2,
          2,
          7,
          1,
          3,
          4,
          3,
          2,
          4,
          2,
          3,
          11,
          6,
          4,
          2,
          1,
          3,
          5,
          1,
          7,
          1,
          3,
          7,
          6,
          3,
          4,
          8,
          2,
          2,
          4,
          2,
          5,
          3,
          1,
          7,
          2,
          6,
          4,
          5,
          2,
          2,
          6,
          1,
          9,
          2,
          6,
          9,
          1,
          6,
          5,
          2,
          3,
          6,
          2,
          2,
          2,
          2,
          1,
          2,
          5,
          9,
          1,
          7,
          2,
          9,
          14,
          7,
          2,
          2,
          3,
          1,
          5,
          5,
          1,
          2,
          2,
          3,
          6,
          3,
          3,
          6,
          3,
          1,
          4,
          4,
          3,
          1,
          4,
          3,
          3,
          13,
          3,
          2,
          2,
          1,
          1,
          2,
          3,
          2,
          3,
          2,
          5,
          7,
          3,
          1,
          2,
          7,
          2,
          1,
          1,
          3,
          1,
          8,
          2,
          4,
          3,
          5,
          4,
          7,
          5,
          4,
          2,
          10,
          4
         ],
         "xaxis": "x2",
         "yaxis": "y2"
        },
        {
         "name": "Texas",
         "type": "histogram",
         "x": [
          5,
          3,
          3,
          7,
          5,
          9,
          3,
          3,
          4,
          3,
          3,
          3,
          5,
          7,
          3,
          3,
          8,
          3,
          9,
          6,
          5,
          3,
          4,
          3,
          3,
          2,
          2,
          2,
          3,
          7,
          5,
          7,
          4,
          5,
          3,
          3,
          3,
          4,
          3,
          4,
          4,
          2,
          6,
          8,
          2,
          1,
          2,
          2,
          1,
          2,
          9,
          2,
          1,
          4,
          3,
          2,
          3,
          3,
          4,
          7,
          14,
          5,
          3,
          3,
          3,
          3,
          3,
          3,
          3,
          3,
          2,
          1,
          5,
          1,
          1,
          4,
          4,
          3,
          2,
          5,
          4,
          2,
          4,
          3,
          3,
          1,
          2,
          2,
          2,
          4,
          3,
          2,
          2,
          1,
          3,
          3,
          6,
          2,
          5,
          12,
          3,
          5,
          2,
          2,
          3,
          9,
          4,
          4,
          2,
          5,
          3,
          1,
          3,
          7,
          7,
          3,
          2,
          3,
          11,
          1,
          2,
          7,
          3,
          4,
          3,
          5,
          4,
          2,
          6,
          4,
          7,
          1,
          5,
          3,
          9,
          3,
          3,
          5,
          4,
          4,
          2,
          2,
          6,
          3,
          4,
          3,
          5,
          7,
          5,
          4,
          1,
          4,
          2,
          5,
          3,
          3,
          2,
          3,
          3,
          3,
          4,
          2,
          3,
          2,
          6,
          3,
          4,
          2,
          3,
          2,
          11,
          6,
          6,
          2,
          4,
          7,
          2,
          4,
          3,
          3,
          7,
          4,
          2,
          5,
          4,
          4,
          3,
          2,
          7,
          3,
          9,
          3,
          4,
          2,
          5,
          4,
          3,
          2,
          3,
          2,
          1,
          3,
          2,
          1,
          5,
          4,
          3,
          3,
          3,
          2,
          5,
          1,
          7,
          2,
          3,
          4,
          2,
          1,
          3,
          5,
          2,
          5,
          7,
          4,
          4,
          7,
          4,
          1,
          2,
          5,
          5,
          4,
          9,
          9,
          2,
          3,
          6,
          2,
          8,
          7,
          2,
          3,
          1,
          5,
          2,
          3,
          3,
          3,
          1,
          3,
          4,
          2,
          7,
          3,
          5,
          7,
          5,
          2,
          2,
          2,
          8,
          2,
          2,
          2,
          2,
          2,
          1,
          3,
          2,
          4,
          8,
          3,
          7,
          2,
          8,
          3,
          5,
          2,
          4,
          2,
          2,
          2,
          4,
          4,
          4,
          5,
          3,
          1,
          2,
          2,
          3,
          2,
          7,
          5,
          3,
          3,
          7,
          3,
          6,
          3,
          7,
          3,
          1,
          2,
          5,
          7,
          3,
          5,
          3,
          4,
          8,
          3,
          2,
          3,
          3,
          2,
          5,
          5,
          1,
          3,
          5,
          8,
          2,
          3,
          3,
          2,
          3,
          9,
          6,
          3,
          2,
          1,
          4,
          2,
          2,
          6,
          4,
          2,
          3,
          2,
          4,
          4,
          3,
          2,
          2,
          7,
          6,
          8,
          8,
          4,
          1,
          1,
          2,
          6,
          4,
          3,
          2,
          3,
          7,
          8,
          7,
          5,
          2,
          1,
          5,
          1,
          3,
          10,
          3,
          5,
          3,
          7,
          3,
          3,
          2,
          2,
          3,
          5,
          1,
          7,
          3,
          3,
          2,
          2,
          2,
          2,
          6,
          8,
          10,
          3,
          3,
          3,
          4,
          7,
          2,
          8,
          3,
          9,
          4,
          2,
          1,
          1,
          8,
          2,
          3,
          3,
          6,
          3,
          1,
          1,
          4,
          5,
          7,
          1,
          2,
          5,
          9,
          9,
          3,
          6,
          1,
          8,
          3,
          7,
          3,
          5,
          2,
          2,
          2,
          1,
          5,
          3,
          7,
          2,
          5,
          2,
          4,
          5,
          9,
          3,
          5,
          6,
          1,
          2,
          2,
          3,
          6,
          3,
          9,
          3,
          10,
          7,
          5,
          2,
          2,
          2,
          1,
          2,
          7,
          2,
          3,
          4,
          5,
          3,
          4,
          3,
          7,
          8,
          6,
          6,
          2,
          5,
          3,
          1,
          3,
          7,
          3,
          2,
          9,
          5,
          3,
          9,
          5,
          5,
          2,
          2,
          2,
          1,
          3,
          3,
          2,
          3,
          6,
          2,
          3,
          1,
          3,
          7,
          3,
          3,
          2,
          1,
          4,
          3,
          6,
          2,
          5,
          6,
          2,
          2,
          3,
          5,
          6,
          2,
          1,
          5,
          4,
          2,
          5,
          1,
          3,
          7,
          2,
          5,
          8,
          2,
          7,
          2,
          1,
          3,
          4,
          2,
          3,
          1,
          6,
          3,
          7,
          1,
          1,
          5,
          2,
          2,
          3,
          1,
          7,
          4,
          5,
          6,
          6,
          2,
          4,
          2,
          4,
          3,
          7,
          3,
          1,
          5,
          1,
          4,
          4,
          3,
          2,
          4,
          7,
          1,
          8,
          2,
          2,
          2,
          9,
          5,
          6,
          9,
          2,
          1,
          6,
          2,
          5,
          4,
          3,
          6,
          3,
          5,
          5,
          5,
          7,
          4,
          1,
          3,
          4,
          5,
          3,
          5,
          5,
          4,
          2,
          8,
          1,
          2,
          5,
          5,
          3,
          1,
          2,
          4,
          5,
          1,
          1,
          2,
          10,
          2,
          3,
          2,
          3,
          3,
          5,
          4,
          5,
          2,
          3,
          3,
          3,
          1,
          4,
          7,
          2,
          5,
          2,
          4,
          5,
          5,
          5,
          3,
          2,
          1,
          5,
          3,
          3,
          2,
          5,
          3,
          6,
          1,
          3,
          2,
          2,
          2,
          2,
          1,
          2,
          2,
          9,
          2,
          1,
          5,
          4,
          2,
          2,
          3,
          5,
          5,
          3,
          8,
          3,
          2,
          3,
          4,
          2,
          4,
          2,
          3,
          2,
          6,
          3,
          3,
          2,
          2,
          2,
          3,
          3,
          5,
          5,
          6,
          3,
          5,
          2,
          2,
          6,
          7,
          5,
          1,
          3,
          3,
          4,
          2,
          5,
          7,
          7,
          3,
          2,
          3,
          7,
          5,
          4,
          1,
          4,
          4,
          2,
          3,
          2,
          2,
          4,
          2,
          4,
          2,
          3,
          3,
          2,
          2,
          1,
          10,
          1,
          6,
          9,
          7,
          2,
          5,
          3,
          5,
          6,
          6,
          3,
          2,
          3,
          5,
          5,
          1,
          6,
          3,
          5,
          3,
          2,
          9,
          2,
          5,
          5,
          4,
          4,
          5,
          14,
          2,
          1,
          6,
          4,
          5,
          4,
          2,
          5,
          3,
          2,
          3,
          3,
          3,
          5,
          3,
          3,
          3,
          2,
          3,
          4,
          2,
          3,
          3,
          3,
          2,
          7,
          3,
          2,
          2,
          2,
          2,
          5,
          3,
          1,
          1,
          3,
          7,
          4,
          5,
          4,
          10,
          3,
          4,
          2,
          5,
          2,
          4,
          3,
          5,
          3,
          3,
          8,
          3,
          1,
          4,
          9,
          5,
          3,
          2,
          6,
          3,
          4,
          3,
          9,
          3,
          3,
          2,
          3,
          4,
          3,
          5,
          3,
          2,
          2,
          5,
          2,
          3,
          5,
          5,
          5,
          4,
          6,
          7,
          5,
          8,
          5,
          8,
          4,
          2,
          8,
          3,
          2,
          9,
          2,
          2,
          2,
          3,
          5,
          5,
          8,
          2,
          6,
          7,
          4,
          5,
          7,
          5,
          2,
          1,
          2,
          6,
          4,
          4,
          2,
          6,
          4,
          2,
          3,
          5,
          5,
          5,
          4,
          2,
          7,
          2,
          1,
          2,
          1,
          2,
          2,
          7,
          2,
          3,
          2,
          5,
          7,
          2,
          3,
          3,
          2,
          5,
          10,
          2,
          3,
          2,
          7,
          2,
          3,
          4,
          3,
          7,
          2,
          1,
          6,
          2,
          4,
          3,
          3,
          3,
          1,
          2,
          4,
          3,
          2,
          1,
          2,
          3,
          3,
          1,
          2,
          4,
          1,
          3,
          4,
          5,
          2,
          2,
          6,
          8,
          5,
          1,
          4,
          2,
          10,
          9,
          1,
          2,
          2,
          3,
          5,
          2,
          3,
          2,
          1,
          2,
          5,
          5,
          5,
          8,
          2,
          3,
          3,
          2,
          1,
          9,
          3,
          5,
          5,
          8,
          3,
          4,
          9,
          5,
          2,
          5,
          3,
          1,
          2,
          6,
          2,
          1,
          3,
          4,
          7,
          1,
          4,
          2,
          3,
          2,
          5,
          7,
          2,
          4,
          2
         ],
         "xaxis": "x3",
         "yaxis": "y3"
        }
       ],
       "layout": {
        "template": {
         "data": {
          "bar": [
           {
            "error_x": {
             "color": "#2a3f5f"
            },
            "error_y": {
             "color": "#2a3f5f"
            },
            "marker": {
             "line": {
              "color": "#E5ECF6",
              "width": 0.5
             },
             "pattern": {
              "fillmode": "overlay",
              "size": 10,
              "solidity": 0.2
             }
            },
            "type": "bar"
           }
          ],
          "barpolar": [
           {
            "marker": {
             "line": {
              "color": "#E5ECF6",
              "width": 0.5
             },
             "pattern": {
              "fillmode": "overlay",
              "size": 10,
              "solidity": 0.2
             }
            },
            "type": "barpolar"
           }
          ],
          "carpet": [
           {
            "aaxis": {
             "endlinecolor": "#2a3f5f",
             "gridcolor": "white",
             "linecolor": "white",
             "minorgridcolor": "white",
             "startlinecolor": "#2a3f5f"
            },
            "baxis": {
             "endlinecolor": "#2a3f5f",
             "gridcolor": "white",
             "linecolor": "white",
             "minorgridcolor": "white",
             "startlinecolor": "#2a3f5f"
            },
            "type": "carpet"
           }
          ],
          "choropleth": [
           {
            "colorbar": {
             "outlinewidth": 0,
             "ticks": ""
            },
            "type": "choropleth"
           }
          ],
          "contour": [
           {
            "colorbar": {
             "outlinewidth": 0,
             "ticks": ""
            },
            "colorscale": [
             [
              0,
              "#0d0887"
             ],
             [
              0.1111111111111111,
              "#46039f"
             ],
             [
              0.2222222222222222,
              "#7201a8"
             ],
             [
              0.3333333333333333,
              "#9c179e"
             ],
             [
              0.4444444444444444,
              "#bd3786"
             ],
             [
              0.5555555555555556,
              "#d8576b"
             ],
             [
              0.6666666666666666,
              "#ed7953"
             ],
             [
              0.7777777777777778,
              "#fb9f3a"
             ],
             [
              0.8888888888888888,
              "#fdca26"
             ],
             [
              1,
              "#f0f921"
             ]
            ],
            "type": "contour"
           }
          ],
          "contourcarpet": [
           {
            "colorbar": {
             "outlinewidth": 0,
             "ticks": ""
            },
            "type": "contourcarpet"
           }
          ],
          "heatmap": [
           {
            "colorbar": {
             "outlinewidth": 0,
             "ticks": ""
            },
            "colorscale": [
             [
              0,
              "#0d0887"
             ],
             [
              0.1111111111111111,
              "#46039f"
             ],
             [
              0.2222222222222222,
              "#7201a8"
             ],
             [
              0.3333333333333333,
              "#9c179e"
             ],
             [
              0.4444444444444444,
              "#bd3786"
             ],
             [
              0.5555555555555556,
              "#d8576b"
             ],
             [
              0.6666666666666666,
              "#ed7953"
             ],
             [
              0.7777777777777778,
              "#fb9f3a"
             ],
             [
              0.8888888888888888,
              "#fdca26"
             ],
             [
              1,
              "#f0f921"
             ]
            ],
            "type": "heatmap"
           }
          ],
          "heatmapgl": [
           {
            "colorbar": {
             "outlinewidth": 0,
             "ticks": ""
            },
            "colorscale": [
             [
              0,
              "#0d0887"
             ],
             [
              0.1111111111111111,
              "#46039f"
             ],
             [
              0.2222222222222222,
              "#7201a8"
             ],
             [
              0.3333333333333333,
              "#9c179e"
             ],
             [
              0.4444444444444444,
              "#bd3786"
             ],
             [
              0.5555555555555556,
              "#d8576b"
             ],
             [
              0.6666666666666666,
              "#ed7953"
             ],
             [
              0.7777777777777778,
              "#fb9f3a"
             ],
             [
              0.8888888888888888,
              "#fdca26"
             ],
             [
              1,
              "#f0f921"
             ]
            ],
            "type": "heatmapgl"
           }
          ],
          "histogram": [
           {
            "marker": {
             "pattern": {
              "fillmode": "overlay",
              "size": 10,
              "solidity": 0.2
             }
            },
            "type": "histogram"
           }
          ],
          "histogram2d": [
           {
            "colorbar": {
             "outlinewidth": 0,
             "ticks": ""
            },
            "colorscale": [
             [
              0,
              "#0d0887"
             ],
             [
              0.1111111111111111,
              "#46039f"
             ],
             [
              0.2222222222222222,
              "#7201a8"
             ],
             [
              0.3333333333333333,
              "#9c179e"
             ],
             [
              0.4444444444444444,
              "#bd3786"
             ],
             [
              0.5555555555555556,
              "#d8576b"
             ],
             [
              0.6666666666666666,
              "#ed7953"
             ],
             [
              0.7777777777777778,
              "#fb9f3a"
             ],
             [
              0.8888888888888888,
              "#fdca26"
             ],
             [
              1,
              "#f0f921"
             ]
            ],
            "type": "histogram2d"
           }
          ],
          "histogram2dcontour": [
           {
            "colorbar": {
             "outlinewidth": 0,
             "ticks": ""
            },
            "colorscale": [
             [
              0,
              "#0d0887"
             ],
             [
              0.1111111111111111,
              "#46039f"
             ],
             [
              0.2222222222222222,
              "#7201a8"
             ],
             [
              0.3333333333333333,
              "#9c179e"
             ],
             [
              0.4444444444444444,
              "#bd3786"
             ],
             [
              0.5555555555555556,
              "#d8576b"
             ],
             [
              0.6666666666666666,
              "#ed7953"
             ],
             [
              0.7777777777777778,
              "#fb9f3a"
             ],
             [
              0.8888888888888888,
              "#fdca26"
             ],
             [
              1,
              "#f0f921"
             ]
            ],
            "type": "histogram2dcontour"
           }
          ],
          "mesh3d": [
           {
            "colorbar": {
             "outlinewidth": 0,
             "ticks": ""
            },
            "type": "mesh3d"
           }
          ],
          "parcoords": [
           {
            "line": {
             "colorbar": {
              "outlinewidth": 0,
              "ticks": ""
             }
            },
            "type": "parcoords"
           }
          ],
          "pie": [
           {
            "automargin": true,
            "type": "pie"
           }
          ],
          "scatter": [
           {
            "fillpattern": {
             "fillmode": "overlay",
             "size": 10,
             "solidity": 0.2
            },
            "type": "scatter"
           }
          ],
          "scatter3d": [
           {
            "line": {
             "colorbar": {
              "outlinewidth": 0,
              "ticks": ""
             }
            },
            "marker": {
             "colorbar": {
              "outlinewidth": 0,
              "ticks": ""
             }
            },
            "type": "scatter3d"
           }
          ],
          "scattercarpet": [
           {
            "marker": {
             "colorbar": {
              "outlinewidth": 0,
              "ticks": ""
             }
            },
            "type": "scattercarpet"
           }
          ],
          "scattergeo": [
           {
            "marker": {
             "colorbar": {
              "outlinewidth": 0,
              "ticks": ""
             }
            },
            "type": "scattergeo"
           }
          ],
          "scattergl": [
           {
            "marker": {
             "colorbar": {
              "outlinewidth": 0,
              "ticks": ""
             }
            },
            "type": "scattergl"
           }
          ],
          "scattermapbox": [
           {
            "marker": {
             "colorbar": {
              "outlinewidth": 0,
              "ticks": ""
             }
            },
            "type": "scattermapbox"
           }
          ],
          "scatterpolar": [
           {
            "marker": {
             "colorbar": {
              "outlinewidth": 0,
              "ticks": ""
             }
            },
            "type": "scatterpolar"
           }
          ],
          "scatterpolargl": [
           {
            "marker": {
             "colorbar": {
              "outlinewidth": 0,
              "ticks": ""
             }
            },
            "type": "scatterpolargl"
           }
          ],
          "scatterternary": [
           {
            "marker": {
             "colorbar": {
              "outlinewidth": 0,
              "ticks": ""
             }
            },
            "type": "scatterternary"
           }
          ],
          "surface": [
           {
            "colorbar": {
             "outlinewidth": 0,
             "ticks": ""
            },
            "colorscale": [
             [
              0,
              "#0d0887"
             ],
             [
              0.1111111111111111,
              "#46039f"
             ],
             [
              0.2222222222222222,
              "#7201a8"
             ],
             [
              0.3333333333333333,
              "#9c179e"
             ],
             [
              0.4444444444444444,
              "#bd3786"
             ],
             [
              0.5555555555555556,
              "#d8576b"
             ],
             [
              0.6666666666666666,
              "#ed7953"
             ],
             [
              0.7777777777777778,
              "#fb9f3a"
             ],
             [
              0.8888888888888888,
              "#fdca26"
             ],
             [
              1,
              "#f0f921"
             ]
            ],
            "type": "surface"
           }
          ],
          "table": [
           {
            "cells": {
             "fill": {
              "color": "#EBF0F8"
             },
             "line": {
              "color": "white"
             }
            },
            "header": {
             "fill": {
              "color": "#C8D4E3"
             },
             "line": {
              "color": "white"
             }
            },
            "type": "table"
           }
          ]
         },
         "layout": {
          "annotationdefaults": {
           "arrowcolor": "#2a3f5f",
           "arrowhead": 0,
           "arrowwidth": 1
          },
          "autotypenumbers": "strict",
          "coloraxis": {
           "colorbar": {
            "outlinewidth": 0,
            "ticks": ""
           }
          },
          "colorscale": {
           "diverging": [
            [
             0,
             "#8e0152"
            ],
            [
             0.1,
             "#c51b7d"
            ],
            [
             0.2,
             "#de77ae"
            ],
            [
             0.3,
             "#f1b6da"
            ],
            [
             0.4,
             "#fde0ef"
            ],
            [
             0.5,
             "#f7f7f7"
            ],
            [
             0.6,
             "#e6f5d0"
            ],
            [
             0.7,
             "#b8e186"
            ],
            [
             0.8,
             "#7fbc41"
            ],
            [
             0.9,
             "#4d9221"
            ],
            [
             1,
             "#276419"
            ]
           ],
           "sequential": [
            [
             0,
             "#0d0887"
            ],
            [
             0.1111111111111111,
             "#46039f"
            ],
            [
             0.2222222222222222,
             "#7201a8"
            ],
            [
             0.3333333333333333,
             "#9c179e"
            ],
            [
             0.4444444444444444,
             "#bd3786"
            ],
            [
             0.5555555555555556,
             "#d8576b"
            ],
            [
             0.6666666666666666,
             "#ed7953"
            ],
            [
             0.7777777777777778,
             "#fb9f3a"
            ],
            [
             0.8888888888888888,
             "#fdca26"
            ],
            [
             1,
             "#f0f921"
            ]
           ],
           "sequentialminus": [
            [
             0,
             "#0d0887"
            ],
            [
             0.1111111111111111,
             "#46039f"
            ],
            [
             0.2222222222222222,
             "#7201a8"
            ],
            [
             0.3333333333333333,
             "#9c179e"
            ],
            [
             0.4444444444444444,
             "#bd3786"
            ],
            [
             0.5555555555555556,
             "#d8576b"
            ],
            [
             0.6666666666666666,
             "#ed7953"
            ],
            [
             0.7777777777777778,
             "#fb9f3a"
            ],
            [
             0.8888888888888888,
             "#fdca26"
            ],
            [
             1,
             "#f0f921"
            ]
           ]
          },
          "colorway": [
           "#636efa",
           "#EF553B",
           "#00cc96",
           "#ab63fa",
           "#FFA15A",
           "#19d3f3",
           "#FF6692",
           "#B6E880",
           "#FF97FF",
           "#FECB52"
          ],
          "font": {
           "color": "#2a3f5f"
          },
          "geo": {
           "bgcolor": "white",
           "lakecolor": "white",
           "landcolor": "#E5ECF6",
           "showlakes": true,
           "showland": true,
           "subunitcolor": "white"
          },
          "hoverlabel": {
           "align": "left"
          },
          "hovermode": "closest",
          "mapbox": {
           "style": "light"
          },
          "paper_bgcolor": "white",
          "plot_bgcolor": "#E5ECF6",
          "polar": {
           "angularaxis": {
            "gridcolor": "white",
            "linecolor": "white",
            "ticks": ""
           },
           "bgcolor": "#E5ECF6",
           "radialaxis": {
            "gridcolor": "white",
            "linecolor": "white",
            "ticks": ""
           }
          },
          "scene": {
           "xaxis": {
            "backgroundcolor": "#E5ECF6",
            "gridcolor": "white",
            "gridwidth": 2,
            "linecolor": "white",
            "showbackground": true,
            "ticks": "",
            "zerolinecolor": "white"
           },
           "yaxis": {
            "backgroundcolor": "#E5ECF6",
            "gridcolor": "white",
            "gridwidth": 2,
            "linecolor": "white",
            "showbackground": true,
            "ticks": "",
            "zerolinecolor": "white"
           },
           "zaxis": {
            "backgroundcolor": "#E5ECF6",
            "gridcolor": "white",
            "gridwidth": 2,
            "linecolor": "white",
            "showbackground": true,
            "ticks": "",
            "zerolinecolor": "white"
           }
          },
          "shapedefaults": {
           "line": {
            "color": "#2a3f5f"
           }
          },
          "ternary": {
           "aaxis": {
            "gridcolor": "white",
            "linecolor": "white",
            "ticks": ""
           },
           "baxis": {
            "gridcolor": "white",
            "linecolor": "white",
            "ticks": ""
           },
           "bgcolor": "#E5ECF6",
           "caxis": {
            "gridcolor": "white",
            "linecolor": "white",
            "ticks": ""
           }
          },
          "title": {
           "x": 0.05
          },
          "xaxis": {
           "automargin": true,
           "gridcolor": "white",
           "linecolor": "white",
           "ticks": "",
           "title": {
            "standoff": 15
           },
           "zerolinecolor": "white",
           "zerolinewidth": 2
          },
          "yaxis": {
           "automargin": true,
           "gridcolor": "white",
           "linecolor": "white",
           "ticks": "",
           "title": {
            "standoff": 15
           },
           "zerolinecolor": "white",
           "zerolinewidth": 2
          }
         }
        },
        "title": {
         "text": "Distribucion de Quantity por Estado"
        },
        "xaxis": {
         "anchor": "y",
         "domain": [
          0,
          0.2888888888888889
         ]
        },
        "xaxis2": {
         "anchor": "y2",
         "domain": [
          0.35555555555555557,
          0.6444444444444445
         ]
        },
        "xaxis3": {
         "anchor": "y3",
         "domain": [
          0.7111111111111111,
          1
         ]
        },
        "yaxis": {
         "anchor": "x",
         "domain": [
          0,
          1
         ]
        },
        "yaxis2": {
         "anchor": "x2",
         "domain": [
          0,
          1
         ],
         "matches": "y",
         "showticklabels": false
        },
        "yaxis3": {
         "anchor": "x3",
         "domain": [
          0,
          1
         ],
         "matches": "y",
         "showticklabels": false
        }
       }
      }
     },
     "metadata": {},
     "output_type": "display_data"
    }
   ],
   "source": [
    "df_cal = df.loc[df[\"State\"] == \"California\", :]\n",
    "df_ny = df.loc[df[\"State\"] == \"New York\", :]\n",
    "df_tx = df.loc[df[\"State\"] == \"Texas\", :]\n",
    "\n",
    "from plotly.subplots import make_subplots\n",
    "fig = make_subplots(1, 3, shared_yaxes=True)\n",
    "fig.add_histogram(x=df_cal[\"Quantity\"], name=\"California\", col=1, row=1, xaxis=\"x1\")\n",
    "fig.add_histogram(x=df_ny[\"Quantity\"], name=\"New York\", col=2, row=1)\n",
    "fig.add_histogram(x=df_tx[\"Quantity\"], name=\"Texas\", col=3, row=1)\n",
    "# fig_2 = px.histogram(df_ny, x=\"Quantity\")\n",
    "fig.update_layout({\"title\": \"Distribucion de Quantity por Estado\"})"
   ]
  },
  {
   "cell_type": "code",
   "execution_count": 123,
   "metadata": {},
   "outputs": [
    {
     "data": {
      "application/vnd.plotly.v1+json": {
       "config": {
        "plotlyServerURL": "https://plot.ly"
       },
       "data": [
        {
         "name": "California",
         "nbinsx": 100,
         "type": "histogram",
         "x": [
          2,
          7,
          4,
          6,
          3,
          5,
          9,
          4,
          2,
          3,
          4,
          2,
          3,
          2,
          2,
          6,
          3,
          4,
          5,
          1,
          3,
          2,
          1,
          3,
          2,
          3,
          3,
          1,
          4,
          2,
          3,
          6,
          14,
          3,
          3,
          3,
          7,
          7,
          4,
          6,
          1,
          3,
          2,
          7,
          8,
          7,
          4,
          6,
          3,
          2,
          2,
          1,
          13,
          2,
          4,
          7,
          3,
          3,
          2,
          1,
          5,
          2,
          6,
          1,
          1,
          2,
          4,
          2,
          3,
          3,
          4,
          7,
          3,
          5,
          3,
          5,
          7,
          1,
          9,
          1,
          13,
          2,
          8,
          5,
          4,
          1,
          2,
          3,
          2,
          4,
          6,
          7,
          5,
          6,
          3,
          2,
          5,
          5,
          8,
          4,
          2,
          9,
          3,
          2,
          3,
          2,
          1,
          3,
          2,
          2,
          2,
          4,
          5,
          3,
          7,
          3,
          14,
          4,
          2,
          4,
          2,
          3,
          5,
          8,
          5,
          3,
          5,
          4,
          2,
          7,
          1,
          5,
          3,
          3,
          2,
          10,
          4,
          3,
          4,
          9,
          3,
          3,
          4,
          1,
          2,
          2,
          2,
          4,
          5,
          1,
          2,
          2,
          2,
          7,
          4,
          3,
          4,
          4,
          2,
          2,
          2,
          6,
          2,
          2,
          4,
          3,
          12,
          6,
          7,
          3,
          3,
          2,
          2,
          2,
          4,
          2,
          2,
          4,
          2,
          2,
          2,
          3,
          5,
          3,
          4,
          5,
          2,
          3,
          12,
          1,
          4,
          2,
          4,
          7,
          3,
          1,
          9,
          2,
          5,
          4,
          3,
          1,
          3,
          3,
          2,
          1,
          2,
          2,
          3,
          2,
          4,
          1,
          2,
          1,
          1,
          3,
          5,
          4,
          4,
          8,
          3,
          4,
          4,
          9,
          8,
          2,
          1,
          2,
          6,
          12,
          3,
          3,
          1,
          6,
          4,
          5,
          3,
          5,
          1,
          2,
          2,
          2,
          7,
          3,
          2,
          3,
          2,
          6,
          8,
          5,
          4,
          3,
          8,
          3,
          5,
          3,
          1,
          2,
          5,
          2,
          4,
          3,
          3,
          2,
          5,
          5,
          14,
          2,
          3,
          3,
          4,
          4,
          7,
          3,
          7,
          3,
          3,
          5,
          2,
          2,
          4,
          6,
          2,
          8,
          9,
          7,
          2,
          3,
          4,
          2,
          6,
          3,
          5,
          3,
          1,
          2,
          3,
          5,
          3,
          5,
          1,
          4,
          3,
          2,
          2,
          2,
          7,
          5,
          3,
          2,
          2,
          3,
          3,
          3,
          1,
          3,
          2,
          7,
          5,
          6,
          2,
          2,
          1,
          5,
          14,
          2,
          3,
          2,
          5,
          8,
          2,
          9,
          2,
          2,
          4,
          6,
          3,
          9,
          5,
          5,
          7,
          7,
          7,
          3,
          2,
          3,
          2,
          3,
          5,
          2,
          1,
          4,
          3,
          3,
          2,
          1,
          4,
          3,
          3,
          2,
          3,
          5,
          8,
          3,
          6,
          3,
          4,
          5,
          7,
          2,
          2,
          4,
          6,
          5,
          2,
          4,
          6,
          3,
          5,
          2,
          13,
          3,
          4,
          3,
          9,
          3,
          4,
          3,
          5,
          3,
          7,
          3,
          6,
          2,
          1,
          3,
          3,
          5,
          4,
          3,
          4,
          2,
          1,
          7,
          3,
          1,
          6,
          1,
          3,
          3,
          2,
          3,
          1,
          13,
          2,
          4,
          4,
          1,
          4,
          2,
          2,
          1,
          7,
          2,
          2,
          2,
          1,
          3,
          2,
          5,
          5,
          6,
          3,
          3,
          3,
          2,
          7,
          2,
          1,
          3,
          7,
          2,
          1,
          3,
          5,
          2,
          5,
          6,
          2,
          2,
          3,
          6,
          7,
          5,
          1,
          3,
          1,
          5,
          4,
          9,
          4,
          4,
          2,
          2,
          2,
          2,
          6,
          9,
          7,
          10,
          5,
          3,
          8,
          5,
          2,
          3,
          2,
          1,
          8,
          2,
          5,
          2,
          5,
          7,
          4,
          3,
          6,
          3,
          2,
          1,
          2,
          4,
          5,
          8,
          3,
          6,
          4,
          6,
          3,
          4,
          1,
          1,
          3,
          1,
          2,
          3,
          6,
          2,
          13,
          2,
          5,
          3,
          1,
          4,
          3,
          9,
          5,
          7,
          3,
          2,
          5,
          2,
          2,
          6,
          3,
          11,
          2,
          2,
          3,
          5,
          5,
          2,
          1,
          5,
          3,
          2,
          4,
          2,
          14,
          4,
          7,
          3,
          3,
          6,
          5,
          3,
          3,
          1,
          3,
          5,
          4,
          3,
          7,
          3,
          4,
          1,
          8,
          2,
          7,
          4,
          2,
          3,
          2,
          5,
          2,
          2,
          2,
          1,
          9,
          1,
          7,
          3,
          14,
          5,
          4,
          4,
          2,
          2,
          5,
          2,
          1,
          4,
          5,
          7,
          4,
          3,
          3,
          2,
          2,
          8,
          2,
          10,
          2,
          2,
          2,
          2,
          8,
          2,
          3,
          2,
          2,
          5,
          4,
          5,
          2,
          5,
          3,
          9,
          2,
          3,
          1,
          4,
          8,
          1,
          2,
          8,
          5,
          8,
          5,
          9,
          6,
          3,
          1,
          2,
          7,
          3,
          8,
          5,
          6,
          3,
          5,
          5,
          1,
          3,
          2,
          3,
          5,
          2,
          9,
          3,
          4,
          4,
          4,
          3,
          9,
          3,
          5,
          5,
          3,
          2,
          2,
          6,
          2,
          2,
          9,
          2,
          4,
          2,
          2,
          2,
          8,
          7,
          4,
          2,
          3,
          2,
          9,
          1,
          2,
          5,
          1,
          2,
          2,
          2,
          7,
          6,
          2,
          6,
          5,
          2,
          8,
          4,
          4,
          4,
          5,
          2,
          2,
          6,
          7,
          2,
          4,
          4,
          2,
          2,
          1,
          1,
          2,
          2,
          1,
          5,
          12,
          2,
          1,
          1,
          2,
          8,
          2,
          2,
          1,
          5,
          1,
          4,
          2,
          3,
          3,
          5,
          2,
          4,
          2,
          5,
          3,
          3,
          2,
          5,
          2,
          2,
          2,
          6,
          6,
          7,
          6,
          1,
          3,
          4,
          2,
          2,
          2,
          6,
          5,
          1,
          5,
          4,
          2,
          9,
          1,
          7,
          2,
          4,
          3,
          2,
          6,
          8,
          14,
          5,
          5,
          2,
          3,
          3,
          3,
          3,
          9,
          4,
          5,
          1,
          3,
          11,
          5,
          4,
          5,
          4,
          6,
          3,
          3,
          9,
          6,
          5,
          7,
          3,
          2,
          3,
          3,
          5,
          2,
          2,
          3,
          7,
          8,
          5,
          7,
          7,
          3,
          1,
          4,
          2,
          7,
          2,
          5,
          9,
          2,
          5,
          3,
          8,
          2,
          4,
          3,
          3,
          2,
          9,
          1,
          3,
          4,
          3,
          2,
          7,
          4,
          3,
          3,
          4,
          2,
          3,
          3,
          2,
          3,
          3,
          6,
          6,
          2,
          4,
          4,
          2,
          5,
          3,
          5,
          3,
          3,
          4,
          3,
          2,
          2,
          6,
          2,
          5,
          2,
          1,
          3,
          5,
          2,
          5,
          4,
          2,
          2,
          5,
          7,
          2,
          12,
          3,
          2,
          3,
          3,
          3,
          9,
          6,
          2,
          2,
          5,
          7,
          2,
          3,
          3,
          1,
          1,
          3,
          4,
          3,
          2,
          2,
          3,
          3,
          3,
          3,
          3,
          5,
          3,
          2,
          2,
          7,
          5,
          6,
          3,
          3,
          7,
          2,
          2,
          3,
          2,
          3,
          3,
          8,
          6,
          3,
          5,
          3,
          6,
          1,
          3,
          4,
          3,
          2,
          5,
          4,
          1,
          5,
          3,
          2,
          3,
          7,
          7,
          2,
          7,
          6,
          3,
          3,
          3,
          2,
          1,
          3,
          3,
          3,
          4,
          3,
          3,
          4,
          1,
          2,
          10,
          3,
          3,
          4,
          5,
          2,
          4,
          2,
          3,
          3,
          3,
          3,
          4,
          9,
          5,
          2,
          4,
          1,
          5,
          3,
          5,
          2,
          2,
          2,
          7,
          3,
          1,
          1,
          1,
          2,
          2,
          3,
          3,
          4,
          1,
          5,
          1,
          2,
          3,
          3,
          2,
          2,
          3,
          4,
          3,
          1,
          8,
          3,
          4,
          9,
          5,
          4,
          3,
          5,
          5,
          6,
          5,
          4,
          2,
          3,
          1,
          3,
          8,
          2,
          2,
          2,
          4,
          4,
          2,
          3,
          2,
          2,
          2,
          2,
          2,
          7,
          3,
          3,
          3,
          5,
          5,
          3,
          3,
          2,
          2,
          5,
          1,
          7,
          1,
          3,
          2,
          2,
          3,
          2,
          6,
          5,
          4,
          5,
          4,
          7,
          4,
          2,
          3,
          2,
          4,
          5,
          6,
          3,
          4,
          3,
          2,
          6,
          2,
          5,
          1,
          2,
          2,
          3,
          6,
          3,
          3,
          2,
          5,
          12,
          5,
          5,
          1,
          3,
          4,
          1,
          3,
          1,
          3,
          5,
          6,
          5,
          3,
          5,
          3,
          6,
          8,
          3,
          3,
          3,
          3,
          1,
          2,
          4,
          2,
          2,
          4,
          4,
          2,
          5,
          6,
          4,
          12,
          2,
          1,
          3,
          7,
          6,
          3,
          2,
          5,
          9,
          2,
          5,
          3,
          2,
          2,
          4,
          4,
          2,
          5,
          3,
          6,
          3,
          5,
          5,
          2,
          5,
          1,
          2,
          6,
          2,
          2,
          2,
          3,
          2,
          1,
          2,
          4,
          3,
          7,
          7,
          3,
          5,
          4,
          1,
          3,
          4,
          3,
          3,
          4,
          7,
          1,
          1,
          3,
          1,
          3,
          1,
          4,
          4,
          7,
          1,
          2,
          1,
          2,
          2,
          4,
          2,
          3,
          2,
          1,
          5,
          4,
          4,
          4,
          4,
          5,
          4,
          7,
          5,
          2,
          3,
          2,
          7,
          2,
          9,
          9,
          2,
          3,
          3,
          3,
          3,
          3,
          5,
          1,
          9,
          3,
          4,
          5,
          4,
          1,
          2,
          3,
          3,
          3,
          12,
          2,
          4,
          1,
          5,
          4,
          4,
          5,
          5,
          4,
          3,
          4,
          9,
          2,
          4,
          3,
          6,
          3,
          1,
          2,
          4,
          3,
          7,
          7,
          3,
          4,
          3,
          3,
          6,
          3,
          3,
          5,
          8,
          2,
          7,
          3,
          1,
          3,
          3,
          3,
          3,
          5,
          3,
          3,
          8,
          1,
          1,
          3,
          2,
          3,
          6,
          5,
          2,
          1,
          4,
          2,
          4,
          2,
          3,
          4,
          4,
          2,
          2,
          6,
          10,
          4,
          4,
          2,
          5,
          1,
          9,
          3,
          2,
          1,
          1,
          9,
          5,
          5,
          5,
          3,
          6,
          4,
          8,
          3,
          3,
          3,
          3,
          3,
          5,
          6,
          5,
          4,
          4,
          5,
          1,
          3,
          2,
          2,
          5,
          2,
          8,
          2,
          7,
          7,
          6,
          4,
          7,
          2,
          3,
          5,
          10,
          2,
          1,
          2,
          5,
          5,
          1,
          8,
          3,
          3,
          5,
          3,
          7,
          4,
          6,
          3,
          3,
          2,
          6,
          4,
          6,
          8,
          1,
          2,
          7,
          6,
          4,
          4,
          2,
          2,
          3,
          2,
          3,
          3,
          8,
          5,
          2,
          3,
          3,
          3,
          9,
          4,
          3,
          2,
          1,
          6,
          5,
          1,
          2,
          5,
          1,
          2,
          5,
          1,
          5,
          5,
          2,
          4,
          4,
          3,
          2,
          5,
          11,
          8,
          3,
          2,
          5,
          3,
          2,
          9,
          2,
          9,
          3,
          3,
          5,
          1,
          3,
          4,
          5,
          7,
          3,
          4,
          3,
          7,
          1,
          5,
          2,
          3,
          4,
          5,
          2,
          1,
          3,
          2,
          3,
          5,
          2,
          7,
          2,
          3,
          3,
          1,
          4,
          5,
          2,
          1,
          4,
          5,
          3,
          9,
          7,
          3,
          2,
          2,
          7,
          6,
          1,
          2,
          9,
          3,
          1,
          2,
          4,
          1,
          4,
          3,
          10,
          3,
          3,
          5,
          3,
          3,
          5,
          2,
          2,
          11,
          3,
          3,
          2,
          4,
          2,
          3,
          7,
          4,
          6,
          3,
          3,
          7,
          7,
          7,
          6,
          2,
          7,
          5,
          2,
          3,
          7,
          2,
          4,
          2,
          3,
          4,
          9,
          2,
          9,
          7,
          4,
          2,
          3,
          2,
          4,
          7,
          1,
          7,
          5,
          3,
          3,
          3,
          11,
          3,
          7,
          1,
          3,
          5,
          3,
          5,
          5,
          3,
          2,
          3,
          8,
          3,
          6,
          5,
          5,
          2,
          3,
          4,
          2,
          2,
          8,
          2,
          8,
          4,
          1,
          2,
          6,
          2,
          3,
          4,
          4,
          3,
          3,
          3,
          2,
          1,
          2,
          2,
          6,
          3,
          6,
          3,
          3,
          3,
          2,
          9,
          4,
          3,
          2,
          4,
          3,
          3,
          4,
          7,
          3,
          1,
          5,
          5,
          4,
          3,
          3,
          2,
          4,
          2,
          4,
          5,
          3,
          6,
          4,
          6,
          4,
          3,
          2,
          1,
          4,
          2,
          2,
          3,
          1,
          3,
          3,
          3,
          2,
          2,
          2,
          8,
          5,
          3,
          3,
          3,
          3,
          2,
          2,
          2,
          2,
          2,
          4,
          2,
          2,
          5,
          2,
          3,
          8,
          3,
          2,
          2,
          2,
          3,
          2,
          3,
          9,
          3,
          8,
          2,
          10,
          4,
          5,
          4,
          5,
          3,
          1,
          4,
          1,
          5,
          12,
          6,
          7,
          1,
          3,
          5,
          2,
          9,
          5,
          3,
          2,
          3,
          6,
          2,
          2,
          3,
          3,
          2,
          7,
          7,
          6,
          3,
          5,
          2,
          3,
          11,
          2,
          2,
          2,
          4,
          3,
          3,
          7,
          3,
          3,
          4,
          4,
          7,
          5,
          6,
          7,
          3,
          3,
          7,
          1,
          6,
          4,
          5,
          2,
          6,
          2,
          5,
          2,
          8,
          3,
          4,
          3,
          5,
          3,
          2,
          4,
          9,
          6,
          3,
          4,
          2,
          5,
          3,
          2,
          1,
          6,
          6,
          2,
          3,
          2,
          4,
          4,
          5,
          2,
          2,
          2,
          2,
          2,
          2,
          3,
          3,
          2,
          3,
          2,
          7,
          2,
          3,
          2,
          5,
          3,
          4,
          3,
          2,
          5,
          5,
          4,
          3,
          3,
          2,
          1,
          5,
          2,
          3,
          7,
          3,
          5,
          5,
          4,
          2,
          7,
          2,
          5,
          2,
          5,
          1,
          4,
          3,
          3,
          3,
          3,
          6,
          5,
          2,
          2,
          2,
          1,
          2,
          2,
          5,
          5,
          4,
          4,
          3,
          2,
          3,
          3,
          2,
          6,
          2,
          5,
          2,
          11,
          3,
          2,
          9,
          9,
          3,
          3,
          3,
          4,
          7,
          8,
          5,
          2,
          5,
          2,
          3,
          3,
          1,
          2,
          7,
          5,
          5,
          5,
          3,
          3,
          2,
          5,
          5,
          5,
          3,
          2,
          2,
          4,
          2,
          2,
          7,
          3,
          4,
          4,
          6,
          3,
          2,
          5,
          7,
          5,
          7,
          1,
          5,
          2,
          4,
          1,
          3,
          2,
          1,
          3,
          3,
          3,
          3,
          3,
          4,
          2,
          1,
          1,
          5,
          2,
          5,
          6,
          1,
          8,
          3,
          2,
          3,
          5,
          7,
          4,
          3,
          9,
          9,
          3,
          4,
          7,
          3,
          1,
          6,
          1,
          2,
          5,
          3,
          1,
          2,
          1,
          2,
          2,
          4,
          6,
          8,
          2,
          3,
          4,
          5,
          1,
          6,
          3,
          5,
          3,
          7,
          8,
          2,
          7,
          2,
          5,
          6,
          5,
          3,
          3,
          2,
          2,
          3,
          6,
          3,
          2,
          3,
          1,
          6,
          6,
          8,
          3,
          6,
          1,
          3,
          4,
          2,
          2,
          3,
          2,
          3,
          5,
          3,
          2,
          3,
          3,
          4,
          9,
          2,
          2,
          2,
          8,
          9,
          2,
          6,
          5,
          9,
          2,
          3,
          3,
          2,
          3,
          3,
          7,
          3,
          5,
          4,
          2,
          9,
          3,
          6,
          8,
          2,
          1,
          6,
          6,
          2,
          3,
          4,
          3,
          2,
          3,
          3,
          3,
          2,
          3,
          2,
          8,
          2,
          6,
          5,
          3,
          5,
          2,
          2,
          5,
          5,
          6,
          7,
          3,
          3,
          4,
          3,
          4,
          5,
          2,
          1,
          3,
          8,
          2,
          4,
          5,
          5,
          5,
          2,
          4,
          2,
          2,
          3,
          2,
          7,
          3,
          3,
          5,
          3,
          2,
          3,
          3,
          3,
          5,
          2,
          4,
          7,
          2,
          14,
          9,
          5,
          2,
          1,
          3,
          2,
          5,
          7,
          2,
          2,
          7,
          4,
          14,
          1,
          2,
          2,
          4,
          2
         ],
         "xaxis": "x",
         "yaxis": "y"
        },
        {
         "name": "New York",
         "nbinsx": 100,
         "type": "histogram",
         "x": [
          7,
          5,
          6,
          5,
          5,
          2,
          2,
          4,
          1,
          1,
          7,
          2,
          1,
          4,
          6,
          8,
          3,
          5,
          6,
          4,
          3,
          3,
          5,
          2,
          1,
          2,
          6,
          4,
          1,
          1,
          2,
          1,
          4,
          4,
          6,
          2,
          4,
          5,
          2,
          3,
          2,
          8,
          4,
          2,
          3,
          1,
          3,
          3,
          3,
          6,
          3,
          3,
          4,
          1,
          3,
          5,
          5,
          2,
          2,
          5,
          3,
          5,
          4,
          6,
          2,
          7,
          4,
          7,
          3,
          2,
          2,
          9,
          1,
          3,
          7,
          10,
          2,
          8,
          5,
          3,
          2,
          4,
          2,
          4,
          5,
          8,
          1,
          6,
          2,
          3,
          8,
          2,
          3,
          3,
          2,
          3,
          7,
          2,
          7,
          9,
          3,
          4,
          4,
          2,
          3,
          2,
          10,
          2,
          2,
          7,
          3,
          5,
          2,
          5,
          3,
          8,
          4,
          7,
          3,
          3,
          1,
          5,
          2,
          2,
          3,
          2,
          4,
          3,
          3,
          7,
          3,
          6,
          5,
          3,
          2,
          7,
          7,
          3,
          2,
          3,
          5,
          5,
          2,
          3,
          2,
          2,
          3,
          4,
          2,
          8,
          1,
          2,
          7,
          1,
          3,
          5,
          2,
          3,
          3,
          4,
          6,
          1,
          3,
          7,
          7,
          2,
          4,
          3,
          1,
          1,
          4,
          3,
          2,
          2,
          2,
          4,
          3,
          4,
          6,
          9,
          13,
          2,
          3,
          3,
          2,
          4,
          3,
          2,
          3,
          8,
          3,
          5,
          4,
          2,
          4,
          1,
          2,
          2,
          2,
          4,
          7,
          2,
          6,
          3,
          7,
          2,
          4,
          1,
          6,
          3,
          6,
          7,
          1,
          4,
          5,
          3,
          2,
          9,
          2,
          2,
          3,
          2,
          5,
          3,
          3,
          4,
          13,
          2,
          1,
          5,
          4,
          2,
          9,
          2,
          2,
          5,
          5,
          4,
          8,
          4,
          2,
          3,
          1,
          1,
          8,
          3,
          6,
          2,
          4,
          1,
          3,
          7,
          4,
          2,
          5,
          2,
          2,
          2,
          1,
          1,
          8,
          3,
          6,
          5,
          3,
          2,
          3,
          4,
          4,
          5,
          5,
          3,
          2,
          4,
          2,
          1,
          3,
          3,
          9,
          2,
          3,
          5,
          2,
          7,
          3,
          4,
          5,
          5,
          8,
          4,
          1,
          1,
          1,
          1,
          1,
          1,
          4,
          5,
          1,
          7,
          4,
          5,
          3,
          1,
          2,
          4,
          4,
          7,
          4,
          3,
          7,
          4,
          1,
          7,
          9,
          4,
          2,
          2,
          5,
          7,
          5,
          6,
          3,
          3,
          8,
          8,
          1,
          6,
          3,
          5,
          2,
          1,
          1,
          3,
          4,
          4,
          7,
          2,
          1,
          2,
          8,
          7,
          1,
          2,
          7,
          3,
          3,
          1,
          4,
          4,
          8,
          5,
          1,
          4,
          3,
          3,
          4,
          11,
          2,
          6,
          9,
          2,
          3,
          3,
          4,
          1,
          1,
          4,
          3,
          2,
          5,
          11,
          3,
          5,
          2,
          4,
          5,
          4,
          3,
          1,
          1,
          1,
          3,
          2,
          3,
          4,
          1,
          5,
          2,
          11,
          3,
          1,
          3,
          3,
          6,
          4,
          2,
          3,
          3,
          5,
          2,
          2,
          2,
          3,
          2,
          5,
          1,
          3,
          3,
          2,
          1,
          5,
          3,
          3,
          3,
          11,
          6,
          5,
          2,
          3,
          3,
          3,
          3,
          4,
          3,
          3,
          5,
          4,
          2,
          3,
          7,
          5,
          2,
          14,
          3,
          7,
          2,
          4,
          5,
          3,
          2,
          10,
          3,
          3,
          3,
          4,
          1,
          1,
          3,
          4,
          9,
          3,
          2,
          3,
          3,
          3,
          2,
          6,
          6,
          2,
          9,
          3,
          3,
          3,
          2,
          2,
          1,
          7,
          2,
          4,
          2,
          5,
          8,
          7,
          2,
          3,
          3,
          10,
          3,
          2,
          2,
          3,
          3,
          2,
          3,
          3,
          3,
          3,
          2,
          3,
          4,
          3,
          3,
          3,
          1,
          2,
          6,
          7,
          4,
          7,
          2,
          2,
          2,
          2,
          9,
          2,
          3,
          7,
          2,
          3,
          3,
          3,
          3,
          3,
          3,
          9,
          2,
          2,
          2,
          5,
          7,
          6,
          2,
          5,
          4,
          2,
          3,
          11,
          1,
          3,
          2,
          7,
          5,
          2,
          5,
          3,
          2,
          3,
          9,
          4,
          3,
          3,
          4,
          2,
          2,
          1,
          3,
          3,
          1,
          4,
          3,
          3,
          1,
          3,
          3,
          6,
          3,
          5,
          3,
          3,
          2,
          5,
          2,
          6,
          5,
          4,
          2,
          3,
          3,
          1,
          3,
          7,
          9,
          9,
          7,
          4,
          2,
          1,
          3,
          9,
          7,
          4,
          3,
          5,
          6,
          8,
          1,
          3,
          1,
          3,
          3,
          2,
          2,
          1,
          2,
          5,
          1,
          3,
          5,
          5,
          6,
          2,
          4,
          1,
          8,
          5,
          3,
          2,
          2,
          1,
          5,
          4,
          5,
          6,
          2,
          5,
          1,
          4,
          1,
          2,
          1,
          13,
          3,
          6,
          5,
          2,
          3,
          2,
          6,
          2,
          3,
          2,
          3,
          2,
          5,
          4,
          3,
          3,
          6,
          5,
          2,
          5,
          5,
          6,
          7,
          1,
          3,
          3,
          3,
          2,
          7,
          3,
          3,
          9,
          3,
          5,
          10,
          3,
          9,
          4,
          3,
          2,
          3,
          4,
          3,
          4,
          9,
          4,
          4,
          1,
          2,
          2,
          4,
          5,
          7,
          2,
          4,
          6,
          5,
          3,
          2,
          2,
          4,
          2,
          5,
          2,
          1,
          2,
          2,
          2,
          5,
          2,
          5,
          4,
          3,
          6,
          2,
          3,
          3,
          3,
          2,
          9,
          2,
          4,
          2,
          1,
          3,
          2,
          11,
          2,
          5,
          3,
          3,
          4,
          3,
          6,
          14,
          3,
          2,
          3,
          6,
          6,
          9,
          3,
          8,
          4,
          3,
          4,
          1,
          1,
          3,
          4,
          5,
          4,
          2,
          4,
          5,
          1,
          2,
          1,
          1,
          2,
          2,
          4,
          3,
          3,
          2,
          2,
          6,
          4,
          1,
          2,
          5,
          5,
          3,
          2,
          5,
          3,
          1,
          7,
          2,
          6,
          4,
          5,
          3,
          5,
          3,
          3,
          4,
          3,
          10,
          4,
          9,
          2,
          4,
          14,
          3,
          6,
          3,
          3,
          1,
          5,
          1,
          3,
          2,
          3,
          2,
          4,
          9,
          3,
          4,
          7,
          1,
          7,
          12,
          2,
          5,
          4,
          3,
          5,
          7,
          3,
          3,
          4,
          3,
          2,
          5,
          2,
          1,
          7,
          6,
          4,
          2,
          3,
          2,
          3,
          3,
          3,
          3,
          2,
          3,
          2,
          3,
          6,
          2,
          5,
          9,
          6,
          2,
          2,
          4,
          2,
          2,
          5,
          2,
          3,
          3,
          3,
          3,
          3,
          8,
          3,
          2,
          2,
          2,
          5,
          2,
          3,
          8,
          2,
          2,
          3,
          3,
          1,
          5,
          5,
          2,
          3,
          2,
          2,
          3,
          2,
          6,
          2,
          3,
          4,
          2,
          3,
          2,
          4,
          6,
          3,
          6,
          3,
          4,
          3,
          3,
          6,
          2,
          3,
          2,
          5,
          9,
          1,
          3,
          2,
          2,
          3,
          4,
          6,
          4,
          3,
          2,
          3,
          1,
          3,
          1,
          2,
          2,
          5,
          3,
          4,
          3,
          5,
          3,
          3,
          1,
          3,
          3,
          2,
          4,
          5,
          5,
          8,
          1,
          3,
          2,
          1,
          1,
          4,
          5,
          7,
          3,
          5,
          2,
          4,
          3,
          2,
          3,
          2,
          8,
          5,
          9,
          6,
          2,
          6,
          9,
          6,
          4,
          5,
          2,
          3,
          4,
          2,
          2,
          2,
          3,
          2,
          3,
          3,
          7,
          8,
          7,
          2,
          1,
          2,
          5,
          4,
          5,
          3,
          2,
          3,
          4,
          2,
          3,
          3,
          2,
          6,
          2,
          2,
          2,
          2,
          7,
          13,
          2,
          2,
          3,
          2,
          4,
          2,
          2,
          4,
          3,
          5,
          2,
          2,
          4,
          6,
          2,
          2,
          4,
          3,
          2,
          6,
          2,
          3,
          3,
          3,
          2,
          2,
          4,
          1,
          3,
          9,
          2,
          2,
          7,
          1,
          3,
          4,
          3,
          2,
          4,
          2,
          3,
          11,
          6,
          4,
          2,
          1,
          3,
          5,
          1,
          7,
          1,
          3,
          7,
          6,
          3,
          4,
          8,
          2,
          2,
          4,
          2,
          5,
          3,
          1,
          7,
          2,
          6,
          4,
          5,
          2,
          2,
          6,
          1,
          9,
          2,
          6,
          9,
          1,
          6,
          5,
          2,
          3,
          6,
          2,
          2,
          2,
          2,
          1,
          2,
          5,
          9,
          1,
          7,
          2,
          9,
          14,
          7,
          2,
          2,
          3,
          1,
          5,
          5,
          1,
          2,
          2,
          3,
          6,
          3,
          3,
          6,
          3,
          1,
          4,
          4,
          3,
          1,
          4,
          3,
          3,
          13,
          3,
          2,
          2,
          1,
          1,
          2,
          3,
          2,
          3,
          2,
          5,
          7,
          3,
          1,
          2,
          7,
          2,
          1,
          1,
          3,
          1,
          8,
          2,
          4,
          3,
          5,
          4,
          7,
          5,
          4,
          2,
          10,
          4
         ],
         "xaxis": "x2",
         "yaxis": "y2"
        },
        {
         "name": "Texas",
         "nbinsx": 100,
         "type": "histogram",
         "x": [
          5,
          3,
          3,
          7,
          5,
          9,
          3,
          3,
          4,
          3,
          3,
          3,
          5,
          7,
          3,
          3,
          8,
          3,
          9,
          6,
          5,
          3,
          4,
          3,
          3,
          2,
          2,
          2,
          3,
          7,
          5,
          7,
          4,
          5,
          3,
          3,
          3,
          4,
          3,
          4,
          4,
          2,
          6,
          8,
          2,
          1,
          2,
          2,
          1,
          2,
          9,
          2,
          1,
          4,
          3,
          2,
          3,
          3,
          4,
          7,
          14,
          5,
          3,
          3,
          3,
          3,
          3,
          3,
          3,
          3,
          2,
          1,
          5,
          1,
          1,
          4,
          4,
          3,
          2,
          5,
          4,
          2,
          4,
          3,
          3,
          1,
          2,
          2,
          2,
          4,
          3,
          2,
          2,
          1,
          3,
          3,
          6,
          2,
          5,
          12,
          3,
          5,
          2,
          2,
          3,
          9,
          4,
          4,
          2,
          5,
          3,
          1,
          3,
          7,
          7,
          3,
          2,
          3,
          11,
          1,
          2,
          7,
          3,
          4,
          3,
          5,
          4,
          2,
          6,
          4,
          7,
          1,
          5,
          3,
          9,
          3,
          3,
          5,
          4,
          4,
          2,
          2,
          6,
          3,
          4,
          3,
          5,
          7,
          5,
          4,
          1,
          4,
          2,
          5,
          3,
          3,
          2,
          3,
          3,
          3,
          4,
          2,
          3,
          2,
          6,
          3,
          4,
          2,
          3,
          2,
          11,
          6,
          6,
          2,
          4,
          7,
          2,
          4,
          3,
          3,
          7,
          4,
          2,
          5,
          4,
          4,
          3,
          2,
          7,
          3,
          9,
          3,
          4,
          2,
          5,
          4,
          3,
          2,
          3,
          2,
          1,
          3,
          2,
          1,
          5,
          4,
          3,
          3,
          3,
          2,
          5,
          1,
          7,
          2,
          3,
          4,
          2,
          1,
          3,
          5,
          2,
          5,
          7,
          4,
          4,
          7,
          4,
          1,
          2,
          5,
          5,
          4,
          9,
          9,
          2,
          3,
          6,
          2,
          8,
          7,
          2,
          3,
          1,
          5,
          2,
          3,
          3,
          3,
          1,
          3,
          4,
          2,
          7,
          3,
          5,
          7,
          5,
          2,
          2,
          2,
          8,
          2,
          2,
          2,
          2,
          2,
          1,
          3,
          2,
          4,
          8,
          3,
          7,
          2,
          8,
          3,
          5,
          2,
          4,
          2,
          2,
          2,
          4,
          4,
          4,
          5,
          3,
          1,
          2,
          2,
          3,
          2,
          7,
          5,
          3,
          3,
          7,
          3,
          6,
          3,
          7,
          3,
          1,
          2,
          5,
          7,
          3,
          5,
          3,
          4,
          8,
          3,
          2,
          3,
          3,
          2,
          5,
          5,
          1,
          3,
          5,
          8,
          2,
          3,
          3,
          2,
          3,
          9,
          6,
          3,
          2,
          1,
          4,
          2,
          2,
          6,
          4,
          2,
          3,
          2,
          4,
          4,
          3,
          2,
          2,
          7,
          6,
          8,
          8,
          4,
          1,
          1,
          2,
          6,
          4,
          3,
          2,
          3,
          7,
          8,
          7,
          5,
          2,
          1,
          5,
          1,
          3,
          10,
          3,
          5,
          3,
          7,
          3,
          3,
          2,
          2,
          3,
          5,
          1,
          7,
          3,
          3,
          2,
          2,
          2,
          2,
          6,
          8,
          10,
          3,
          3,
          3,
          4,
          7,
          2,
          8,
          3,
          9,
          4,
          2,
          1,
          1,
          8,
          2,
          3,
          3,
          6,
          3,
          1,
          1,
          4,
          5,
          7,
          1,
          2,
          5,
          9,
          9,
          3,
          6,
          1,
          8,
          3,
          7,
          3,
          5,
          2,
          2,
          2,
          1,
          5,
          3,
          7,
          2,
          5,
          2,
          4,
          5,
          9,
          3,
          5,
          6,
          1,
          2,
          2,
          3,
          6,
          3,
          9,
          3,
          10,
          7,
          5,
          2,
          2,
          2,
          1,
          2,
          7,
          2,
          3,
          4,
          5,
          3,
          4,
          3,
          7,
          8,
          6,
          6,
          2,
          5,
          3,
          1,
          3,
          7,
          3,
          2,
          9,
          5,
          3,
          9,
          5,
          5,
          2,
          2,
          2,
          1,
          3,
          3,
          2,
          3,
          6,
          2,
          3,
          1,
          3,
          7,
          3,
          3,
          2,
          1,
          4,
          3,
          6,
          2,
          5,
          6,
          2,
          2,
          3,
          5,
          6,
          2,
          1,
          5,
          4,
          2,
          5,
          1,
          3,
          7,
          2,
          5,
          8,
          2,
          7,
          2,
          1,
          3,
          4,
          2,
          3,
          1,
          6,
          3,
          7,
          1,
          1,
          5,
          2,
          2,
          3,
          1,
          7,
          4,
          5,
          6,
          6,
          2,
          4,
          2,
          4,
          3,
          7,
          3,
          1,
          5,
          1,
          4,
          4,
          3,
          2,
          4,
          7,
          1,
          8,
          2,
          2,
          2,
          9,
          5,
          6,
          9,
          2,
          1,
          6,
          2,
          5,
          4,
          3,
          6,
          3,
          5,
          5,
          5,
          7,
          4,
          1,
          3,
          4,
          5,
          3,
          5,
          5,
          4,
          2,
          8,
          1,
          2,
          5,
          5,
          3,
          1,
          2,
          4,
          5,
          1,
          1,
          2,
          10,
          2,
          3,
          2,
          3,
          3,
          5,
          4,
          5,
          2,
          3,
          3,
          3,
          1,
          4,
          7,
          2,
          5,
          2,
          4,
          5,
          5,
          5,
          3,
          2,
          1,
          5,
          3,
          3,
          2,
          5,
          3,
          6,
          1,
          3,
          2,
          2,
          2,
          2,
          1,
          2,
          2,
          9,
          2,
          1,
          5,
          4,
          2,
          2,
          3,
          5,
          5,
          3,
          8,
          3,
          2,
          3,
          4,
          2,
          4,
          2,
          3,
          2,
          6,
          3,
          3,
          2,
          2,
          2,
          3,
          3,
          5,
          5,
          6,
          3,
          5,
          2,
          2,
          6,
          7,
          5,
          1,
          3,
          3,
          4,
          2,
          5,
          7,
          7,
          3,
          2,
          3,
          7,
          5,
          4,
          1,
          4,
          4,
          2,
          3,
          2,
          2,
          4,
          2,
          4,
          2,
          3,
          3,
          2,
          2,
          1,
          10,
          1,
          6,
          9,
          7,
          2,
          5,
          3,
          5,
          6,
          6,
          3,
          2,
          3,
          5,
          5,
          1,
          6,
          3,
          5,
          3,
          2,
          9,
          2,
          5,
          5,
          4,
          4,
          5,
          14,
          2,
          1,
          6,
          4,
          5,
          4,
          2,
          5,
          3,
          2,
          3,
          3,
          3,
          5,
          3,
          3,
          3,
          2,
          3,
          4,
          2,
          3,
          3,
          3,
          2,
          7,
          3,
          2,
          2,
          2,
          2,
          5,
          3,
          1,
          1,
          3,
          7,
          4,
          5,
          4,
          10,
          3,
          4,
          2,
          5,
          2,
          4,
          3,
          5,
          3,
          3,
          8,
          3,
          1,
          4,
          9,
          5,
          3,
          2,
          6,
          3,
          4,
          3,
          9,
          3,
          3,
          2,
          3,
          4,
          3,
          5,
          3,
          2,
          2,
          5,
          2,
          3,
          5,
          5,
          5,
          4,
          6,
          7,
          5,
          8,
          5,
          8,
          4,
          2,
          8,
          3,
          2,
          9,
          2,
          2,
          2,
          3,
          5,
          5,
          8,
          2,
          6,
          7,
          4,
          5,
          7,
          5,
          2,
          1,
          2,
          6,
          4,
          4,
          2,
          6,
          4,
          2,
          3,
          5,
          5,
          5,
          4,
          2,
          7,
          2,
          1,
          2,
          1,
          2,
          2,
          7,
          2,
          3,
          2,
          5,
          7,
          2,
          3,
          3,
          2,
          5,
          10,
          2,
          3,
          2,
          7,
          2,
          3,
          4,
          3,
          7,
          2,
          1,
          6,
          2,
          4,
          3,
          3,
          3,
          1,
          2,
          4,
          3,
          2,
          1,
          2,
          3,
          3,
          1,
          2,
          4,
          1,
          3,
          4,
          5,
          2,
          2,
          6,
          8,
          5,
          1,
          4,
          2,
          10,
          9,
          1,
          2,
          2,
          3,
          5,
          2,
          3,
          2,
          1,
          2,
          5,
          5,
          5,
          8,
          2,
          3,
          3,
          2,
          1,
          9,
          3,
          5,
          5,
          8,
          3,
          4,
          9,
          5,
          2,
          5,
          3,
          1,
          2,
          6,
          2,
          1,
          3,
          4,
          7,
          1,
          4,
          2,
          3,
          2,
          5,
          7,
          2,
          4,
          2
         ],
         "xaxis": "x3",
         "yaxis": "y3"
        }
       ],
       "layout": {
        "template": {
         "data": {
          "bar": [
           {
            "error_x": {
             "color": "#2a3f5f"
            },
            "error_y": {
             "color": "#2a3f5f"
            },
            "marker": {
             "line": {
              "color": "#E5ECF6",
              "width": 0.5
             },
             "pattern": {
              "fillmode": "overlay",
              "size": 10,
              "solidity": 0.2
             }
            },
            "type": "bar"
           }
          ],
          "barpolar": [
           {
            "marker": {
             "line": {
              "color": "#E5ECF6",
              "width": 0.5
             },
             "pattern": {
              "fillmode": "overlay",
              "size": 10,
              "solidity": 0.2
             }
            },
            "type": "barpolar"
           }
          ],
          "carpet": [
           {
            "aaxis": {
             "endlinecolor": "#2a3f5f",
             "gridcolor": "white",
             "linecolor": "white",
             "minorgridcolor": "white",
             "startlinecolor": "#2a3f5f"
            },
            "baxis": {
             "endlinecolor": "#2a3f5f",
             "gridcolor": "white",
             "linecolor": "white",
             "minorgridcolor": "white",
             "startlinecolor": "#2a3f5f"
            },
            "type": "carpet"
           }
          ],
          "choropleth": [
           {
            "colorbar": {
             "outlinewidth": 0,
             "ticks": ""
            },
            "type": "choropleth"
           }
          ],
          "contour": [
           {
            "colorbar": {
             "outlinewidth": 0,
             "ticks": ""
            },
            "colorscale": [
             [
              0,
              "#0d0887"
             ],
             [
              0.1111111111111111,
              "#46039f"
             ],
             [
              0.2222222222222222,
              "#7201a8"
             ],
             [
              0.3333333333333333,
              "#9c179e"
             ],
             [
              0.4444444444444444,
              "#bd3786"
             ],
             [
              0.5555555555555556,
              "#d8576b"
             ],
             [
              0.6666666666666666,
              "#ed7953"
             ],
             [
              0.7777777777777778,
              "#fb9f3a"
             ],
             [
              0.8888888888888888,
              "#fdca26"
             ],
             [
              1,
              "#f0f921"
             ]
            ],
            "type": "contour"
           }
          ],
          "contourcarpet": [
           {
            "colorbar": {
             "outlinewidth": 0,
             "ticks": ""
            },
            "type": "contourcarpet"
           }
          ],
          "heatmap": [
           {
            "colorbar": {
             "outlinewidth": 0,
             "ticks": ""
            },
            "colorscale": [
             [
              0,
              "#0d0887"
             ],
             [
              0.1111111111111111,
              "#46039f"
             ],
             [
              0.2222222222222222,
              "#7201a8"
             ],
             [
              0.3333333333333333,
              "#9c179e"
             ],
             [
              0.4444444444444444,
              "#bd3786"
             ],
             [
              0.5555555555555556,
              "#d8576b"
             ],
             [
              0.6666666666666666,
              "#ed7953"
             ],
             [
              0.7777777777777778,
              "#fb9f3a"
             ],
             [
              0.8888888888888888,
              "#fdca26"
             ],
             [
              1,
              "#f0f921"
             ]
            ],
            "type": "heatmap"
           }
          ],
          "heatmapgl": [
           {
            "colorbar": {
             "outlinewidth": 0,
             "ticks": ""
            },
            "colorscale": [
             [
              0,
              "#0d0887"
             ],
             [
              0.1111111111111111,
              "#46039f"
             ],
             [
              0.2222222222222222,
              "#7201a8"
             ],
             [
              0.3333333333333333,
              "#9c179e"
             ],
             [
              0.4444444444444444,
              "#bd3786"
             ],
             [
              0.5555555555555556,
              "#d8576b"
             ],
             [
              0.6666666666666666,
              "#ed7953"
             ],
             [
              0.7777777777777778,
              "#fb9f3a"
             ],
             [
              0.8888888888888888,
              "#fdca26"
             ],
             [
              1,
              "#f0f921"
             ]
            ],
            "type": "heatmapgl"
           }
          ],
          "histogram": [
           {
            "marker": {
             "pattern": {
              "fillmode": "overlay",
              "size": 10,
              "solidity": 0.2
             }
            },
            "type": "histogram"
           }
          ],
          "histogram2d": [
           {
            "colorbar": {
             "outlinewidth": 0,
             "ticks": ""
            },
            "colorscale": [
             [
              0,
              "#0d0887"
             ],
             [
              0.1111111111111111,
              "#46039f"
             ],
             [
              0.2222222222222222,
              "#7201a8"
             ],
             [
              0.3333333333333333,
              "#9c179e"
             ],
             [
              0.4444444444444444,
              "#bd3786"
             ],
             [
              0.5555555555555556,
              "#d8576b"
             ],
             [
              0.6666666666666666,
              "#ed7953"
             ],
             [
              0.7777777777777778,
              "#fb9f3a"
             ],
             [
              0.8888888888888888,
              "#fdca26"
             ],
             [
              1,
              "#f0f921"
             ]
            ],
            "type": "histogram2d"
           }
          ],
          "histogram2dcontour": [
           {
            "colorbar": {
             "outlinewidth": 0,
             "ticks": ""
            },
            "colorscale": [
             [
              0,
              "#0d0887"
             ],
             [
              0.1111111111111111,
              "#46039f"
             ],
             [
              0.2222222222222222,
              "#7201a8"
             ],
             [
              0.3333333333333333,
              "#9c179e"
             ],
             [
              0.4444444444444444,
              "#bd3786"
             ],
             [
              0.5555555555555556,
              "#d8576b"
             ],
             [
              0.6666666666666666,
              "#ed7953"
             ],
             [
              0.7777777777777778,
              "#fb9f3a"
             ],
             [
              0.8888888888888888,
              "#fdca26"
             ],
             [
              1,
              "#f0f921"
             ]
            ],
            "type": "histogram2dcontour"
           }
          ],
          "mesh3d": [
           {
            "colorbar": {
             "outlinewidth": 0,
             "ticks": ""
            },
            "type": "mesh3d"
           }
          ],
          "parcoords": [
           {
            "line": {
             "colorbar": {
              "outlinewidth": 0,
              "ticks": ""
             }
            },
            "type": "parcoords"
           }
          ],
          "pie": [
           {
            "automargin": true,
            "type": "pie"
           }
          ],
          "scatter": [
           {
            "fillpattern": {
             "fillmode": "overlay",
             "size": 10,
             "solidity": 0.2
            },
            "type": "scatter"
           }
          ],
          "scatter3d": [
           {
            "line": {
             "colorbar": {
              "outlinewidth": 0,
              "ticks": ""
             }
            },
            "marker": {
             "colorbar": {
              "outlinewidth": 0,
              "ticks": ""
             }
            },
            "type": "scatter3d"
           }
          ],
          "scattercarpet": [
           {
            "marker": {
             "colorbar": {
              "outlinewidth": 0,
              "ticks": ""
             }
            },
            "type": "scattercarpet"
           }
          ],
          "scattergeo": [
           {
            "marker": {
             "colorbar": {
              "outlinewidth": 0,
              "ticks": ""
             }
            },
            "type": "scattergeo"
           }
          ],
          "scattergl": [
           {
            "marker": {
             "colorbar": {
              "outlinewidth": 0,
              "ticks": ""
             }
            },
            "type": "scattergl"
           }
          ],
          "scattermapbox": [
           {
            "marker": {
             "colorbar": {
              "outlinewidth": 0,
              "ticks": ""
             }
            },
            "type": "scattermapbox"
           }
          ],
          "scatterpolar": [
           {
            "marker": {
             "colorbar": {
              "outlinewidth": 0,
              "ticks": ""
             }
            },
            "type": "scatterpolar"
           }
          ],
          "scatterpolargl": [
           {
            "marker": {
             "colorbar": {
              "outlinewidth": 0,
              "ticks": ""
             }
            },
            "type": "scatterpolargl"
           }
          ],
          "scatterternary": [
           {
            "marker": {
             "colorbar": {
              "outlinewidth": 0,
              "ticks": ""
             }
            },
            "type": "scatterternary"
           }
          ],
          "surface": [
           {
            "colorbar": {
             "outlinewidth": 0,
             "ticks": ""
            },
            "colorscale": [
             [
              0,
              "#0d0887"
             ],
             [
              0.1111111111111111,
              "#46039f"
             ],
             [
              0.2222222222222222,
              "#7201a8"
             ],
             [
              0.3333333333333333,
              "#9c179e"
             ],
             [
              0.4444444444444444,
              "#bd3786"
             ],
             [
              0.5555555555555556,
              "#d8576b"
             ],
             [
              0.6666666666666666,
              "#ed7953"
             ],
             [
              0.7777777777777778,
              "#fb9f3a"
             ],
             [
              0.8888888888888888,
              "#fdca26"
             ],
             [
              1,
              "#f0f921"
             ]
            ],
            "type": "surface"
           }
          ],
          "table": [
           {
            "cells": {
             "fill": {
              "color": "#EBF0F8"
             },
             "line": {
              "color": "white"
             }
            },
            "header": {
             "fill": {
              "color": "#C8D4E3"
             },
             "line": {
              "color": "white"
             }
            },
            "type": "table"
           }
          ]
         },
         "layout": {
          "annotationdefaults": {
           "arrowcolor": "#2a3f5f",
           "arrowhead": 0,
           "arrowwidth": 1
          },
          "autotypenumbers": "strict",
          "coloraxis": {
           "colorbar": {
            "outlinewidth": 0,
            "ticks": ""
           }
          },
          "colorscale": {
           "diverging": [
            [
             0,
             "#8e0152"
            ],
            [
             0.1,
             "#c51b7d"
            ],
            [
             0.2,
             "#de77ae"
            ],
            [
             0.3,
             "#f1b6da"
            ],
            [
             0.4,
             "#fde0ef"
            ],
            [
             0.5,
             "#f7f7f7"
            ],
            [
             0.6,
             "#e6f5d0"
            ],
            [
             0.7,
             "#b8e186"
            ],
            [
             0.8,
             "#7fbc41"
            ],
            [
             0.9,
             "#4d9221"
            ],
            [
             1,
             "#276419"
            ]
           ],
           "sequential": [
            [
             0,
             "#0d0887"
            ],
            [
             0.1111111111111111,
             "#46039f"
            ],
            [
             0.2222222222222222,
             "#7201a8"
            ],
            [
             0.3333333333333333,
             "#9c179e"
            ],
            [
             0.4444444444444444,
             "#bd3786"
            ],
            [
             0.5555555555555556,
             "#d8576b"
            ],
            [
             0.6666666666666666,
             "#ed7953"
            ],
            [
             0.7777777777777778,
             "#fb9f3a"
            ],
            [
             0.8888888888888888,
             "#fdca26"
            ],
            [
             1,
             "#f0f921"
            ]
           ],
           "sequentialminus": [
            [
             0,
             "#0d0887"
            ],
            [
             0.1111111111111111,
             "#46039f"
            ],
            [
             0.2222222222222222,
             "#7201a8"
            ],
            [
             0.3333333333333333,
             "#9c179e"
            ],
            [
             0.4444444444444444,
             "#bd3786"
            ],
            [
             0.5555555555555556,
             "#d8576b"
            ],
            [
             0.6666666666666666,
             "#ed7953"
            ],
            [
             0.7777777777777778,
             "#fb9f3a"
            ],
            [
             0.8888888888888888,
             "#fdca26"
            ],
            [
             1,
             "#f0f921"
            ]
           ]
          },
          "colorway": [
           "#636efa",
           "#EF553B",
           "#00cc96",
           "#ab63fa",
           "#FFA15A",
           "#19d3f3",
           "#FF6692",
           "#B6E880",
           "#FF97FF",
           "#FECB52"
          ],
          "font": {
           "color": "#2a3f5f"
          },
          "geo": {
           "bgcolor": "white",
           "lakecolor": "white",
           "landcolor": "#E5ECF6",
           "showlakes": true,
           "showland": true,
           "subunitcolor": "white"
          },
          "hoverlabel": {
           "align": "left"
          },
          "hovermode": "closest",
          "mapbox": {
           "style": "light"
          },
          "paper_bgcolor": "white",
          "plot_bgcolor": "#E5ECF6",
          "polar": {
           "angularaxis": {
            "gridcolor": "white",
            "linecolor": "white",
            "ticks": ""
           },
           "bgcolor": "#E5ECF6",
           "radialaxis": {
            "gridcolor": "white",
            "linecolor": "white",
            "ticks": ""
           }
          },
          "scene": {
           "xaxis": {
            "backgroundcolor": "#E5ECF6",
            "gridcolor": "white",
            "gridwidth": 2,
            "linecolor": "white",
            "showbackground": true,
            "ticks": "",
            "zerolinecolor": "white"
           },
           "yaxis": {
            "backgroundcolor": "#E5ECF6",
            "gridcolor": "white",
            "gridwidth": 2,
            "linecolor": "white",
            "showbackground": true,
            "ticks": "",
            "zerolinecolor": "white"
           },
           "zaxis": {
            "backgroundcolor": "#E5ECF6",
            "gridcolor": "white",
            "gridwidth": 2,
            "linecolor": "white",
            "showbackground": true,
            "ticks": "",
            "zerolinecolor": "white"
           }
          },
          "shapedefaults": {
           "line": {
            "color": "#2a3f5f"
           }
          },
          "ternary": {
           "aaxis": {
            "gridcolor": "white",
            "linecolor": "white",
            "ticks": ""
           },
           "baxis": {
            "gridcolor": "white",
            "linecolor": "white",
            "ticks": ""
           },
           "bgcolor": "#E5ECF6",
           "caxis": {
            "gridcolor": "white",
            "linecolor": "white",
            "ticks": ""
           }
          },
          "title": {
           "x": 0.05
          },
          "xaxis": {
           "automargin": true,
           "gridcolor": "white",
           "linecolor": "white",
           "ticks": "",
           "title": {
            "standoff": 15
           },
           "zerolinecolor": "white",
           "zerolinewidth": 2
          },
          "yaxis": {
           "automargin": true,
           "gridcolor": "white",
           "linecolor": "white",
           "ticks": "",
           "title": {
            "standoff": 15
           },
           "zerolinecolor": "white",
           "zerolinewidth": 2
          }
         }
        },
        "title": {
         "text": "Distribucion de Quantity"
        },
        "xaxis": {
         "anchor": "y",
         "domain": [
          0,
          0.45
         ]
        },
        "xaxis2": {
         "anchor": "y",
         "domain": [
          0,
          0.45
         ]
        },
        "xaxis3": {
         "anchor": "y3",
         "domain": [
          0.5,
          0.95
         ]
        },
        "yaxis": {
         "anchor": "x",
         "domain": [
          0,
          0.45
         ]
        },
        "yaxis2": {
         "anchor": "x2",
         "domain": [
          0.5,
          1
         ]
        },
        "yaxis3": {
         "anchor": "x3",
         "domain": [
          0,
          1
         ]
        }
       }
      }
     },
     "metadata": {},
     "output_type": "display_data"
    }
   ],
   "source": [
    "trace1 = {\"type\": \"histogram\",\n",
    "          \"x\": df_cal[\"Quantity\"],\n",
    "          \"name\": \"California\",\n",
    "          \"nbinsx\":100,\n",
    "          \"xaxis\":\"x1\",\n",
    "          \"yaxis\":\"y1\"}\n",
    "\n",
    "trace2 = {\"type\": \"histogram\",\n",
    "          \"x\": df_ny[\"Quantity\"],\n",
    "          \"name\":\"New York\",\n",
    "          \"nbinsx\":100,\n",
    "          \"xaxis\":\"x2\",\n",
    "          \"yaxis\":\"y2\"} # Actualiza el valor de yaxis para que sea 'y1'\n",
    "\n",
    "trace3 = {\"type\": \"histogram\",\n",
    "          \"x\": df_tx[\"Quantity\"],\n",
    "          \"name\": \"Texas\",\n",
    "          \"nbinsx\":100,\n",
    "          \"xaxis\":\"x3\",\n",
    "          \"yaxis\":\"y3\"}\n",
    "\n",
    "data = [trace1, trace2, trace3]\n",
    "layout = go.Layout(\n",
    "    xaxis=dict(\n",
    "        domain=[0, 0.45],\n",
    "        anchor='y1'\n",
    "    ),\n",
    "    yaxis=dict(\n",
    "        domain=[0, 0.45],\n",
    "        anchor='x1'\n",
    "    ),\n",
    "    xaxis2=dict(\n",
    "        domain=[0, 0.45],\n",
    "        anchor='y1'\n",
    "    ),\n",
    "    yaxis2=dict(\n",
    "        domain=[0.5, 1],\n",
    "        anchor='x2'\n",
    "    ),\n",
    "    xaxis3=dict(\n",
    "        domain=[0.5, .95],\n",
    "        anchor='y3'\n",
    "    ),\n",
    "    yaxis3=dict(\n",
    "        domain=[0, 1],\n",
    "        anchor='x3'\n",
    "    ),\n",
    "    title = 'Distribucion de Quantity'\n",
    ")\n",
    "fig = go.Figure(data=data, layout=layout)\n",
    "fig"
   ]
  },
  {
   "cell_type": "markdown",
   "metadata": {
    "id": "KRcREZg5imh7"
   },
   "source": [
    "## 4. Crea un gráfico de barras apiladas interactivo que muestre los ingresos por estado (barras) para cada una de las categorías de productos para California, Nueva York y Texas."
   ]
  },
  {
   "cell_type": "code",
   "execution_count": 134,
   "metadata": {},
   "outputs": [
    {
     "data": {
      "text/html": [
       "<div>\n",
       "<style scoped>\n",
       "    .dataframe tbody tr th:only-of-type {\n",
       "        vertical-align: middle;\n",
       "    }\n",
       "\n",
       "    .dataframe tbody tr th {\n",
       "        vertical-align: top;\n",
       "    }\n",
       "\n",
       "    .dataframe thead th {\n",
       "        text-align: right;\n",
       "    }\n",
       "</style>\n",
       "<table border=\"1\" class=\"dataframe\">\n",
       "  <thead>\n",
       "    <tr style=\"text-align: right;\">\n",
       "      <th></th>\n",
       "      <th>Category</th>\n",
       "      <th>Sales</th>\n",
       "    </tr>\n",
       "    <tr>\n",
       "      <th>State</th>\n",
       "      <th></th>\n",
       "      <th></th>\n",
       "    </tr>\n",
       "  </thead>\n",
       "  <tbody>\n",
       "    <tr>\n",
       "      <th>Alabama</th>\n",
       "      <td>Furniture</td>\n",
       "      <td>6332.480</td>\n",
       "    </tr>\n",
       "    <tr>\n",
       "      <th>Alabama</th>\n",
       "      <td>Office Supplies</td>\n",
       "      <td>4209.080</td>\n",
       "    </tr>\n",
       "    <tr>\n",
       "      <th>Alabama</th>\n",
       "      <td>Technology</td>\n",
       "      <td>8969.080</td>\n",
       "    </tr>\n",
       "    <tr>\n",
       "      <th>Arizona</th>\n",
       "      <td>Furniture</td>\n",
       "      <td>13525.291</td>\n",
       "    </tr>\n",
       "    <tr>\n",
       "      <th>Arizona</th>\n",
       "      <td>Office Supplies</td>\n",
       "      <td>10005.825</td>\n",
       "    </tr>\n",
       "    <tr>\n",
       "      <th>...</th>\n",
       "      <td>...</td>\n",
       "      <td>...</td>\n",
       "    </tr>\n",
       "    <tr>\n",
       "      <th>West Virginia</th>\n",
       "      <td>Office Supplies</td>\n",
       "      <td>536.480</td>\n",
       "    </tr>\n",
       "    <tr>\n",
       "      <th>Wisconsin</th>\n",
       "      <td>Furniture</td>\n",
       "      <td>17256.610</td>\n",
       "    </tr>\n",
       "    <tr>\n",
       "      <th>Wisconsin</th>\n",
       "      <td>Office Supplies</td>\n",
       "      <td>6059.840</td>\n",
       "    </tr>\n",
       "    <tr>\n",
       "      <th>Wisconsin</th>\n",
       "      <td>Technology</td>\n",
       "      <td>8798.160</td>\n",
       "    </tr>\n",
       "    <tr>\n",
       "      <th>Wyoming</th>\n",
       "      <td>Furniture</td>\n",
       "      <td>1603.136</td>\n",
       "    </tr>\n",
       "  </tbody>\n",
       "</table>\n",
       "<p>142 rows × 2 columns</p>\n",
       "</div>"
      ],
      "text/plain": [
       "                      Category      Sales\n",
       "State                                    \n",
       "Alabama              Furniture   6332.480\n",
       "Alabama        Office Supplies   4209.080\n",
       "Alabama             Technology   8969.080\n",
       "Arizona              Furniture  13525.291\n",
       "Arizona        Office Supplies  10005.825\n",
       "...                        ...        ...\n",
       "West Virginia  Office Supplies    536.480\n",
       "Wisconsin            Furniture  17256.610\n",
       "Wisconsin      Office Supplies   6059.840\n",
       "Wisconsin           Technology   8798.160\n",
       "Wyoming              Furniture   1603.136\n",
       "\n",
       "[142 rows x 2 columns]"
      ]
     },
     "execution_count": 134,
     "metadata": {},
     "output_type": "execute_result"
    }
   ],
   "source": [
    "df_cat = df.copy()\n",
    "df_cat = df_cat.groupby([\"State\", \"Category\"])[\"Sales\"].sum().reset_index(level=1)\n",
    "df_cat"
   ]
  },
  {
   "cell_type": "code",
   "execution_count": 136,
   "metadata": {},
   "outputs": [
    {
     "data": {
      "application/vnd.plotly.v1+json": {
       "config": {
        "plotlyServerURL": "https://plot.ly"
       },
       "data": [
        {
         "name": "California",
         "type": "bar",
         "x": [
          "Furniture",
          "Office Supplies",
          "Technology"
         ],
         "y": [
          156064.60150000002,
          142351.948,
          159271.082
         ]
        },
        {
         "name": "New York",
         "type": "bar",
         "x": [
          "Furniture",
          "Office Supplies",
          "Technology"
         ],
         "y": [
          93372.729,
          90020.042,
          127483.5
         ]
        },
        {
         "name": "Texas",
         "type": "bar",
         "x": [
          "Furniture",
          "Office Supplies",
          "Technology"
         ],
         "y": [
          60593.2918,
          44490.53,
          65104.224
         ]
        }
       ],
       "layout": {
        "barmode": "stack",
        "template": {
         "data": {
          "bar": [
           {
            "error_x": {
             "color": "#2a3f5f"
            },
            "error_y": {
             "color": "#2a3f5f"
            },
            "marker": {
             "line": {
              "color": "#E5ECF6",
              "width": 0.5
             },
             "pattern": {
              "fillmode": "overlay",
              "size": 10,
              "solidity": 0.2
             }
            },
            "type": "bar"
           }
          ],
          "barpolar": [
           {
            "marker": {
             "line": {
              "color": "#E5ECF6",
              "width": 0.5
             },
             "pattern": {
              "fillmode": "overlay",
              "size": 10,
              "solidity": 0.2
             }
            },
            "type": "barpolar"
           }
          ],
          "carpet": [
           {
            "aaxis": {
             "endlinecolor": "#2a3f5f",
             "gridcolor": "white",
             "linecolor": "white",
             "minorgridcolor": "white",
             "startlinecolor": "#2a3f5f"
            },
            "baxis": {
             "endlinecolor": "#2a3f5f",
             "gridcolor": "white",
             "linecolor": "white",
             "minorgridcolor": "white",
             "startlinecolor": "#2a3f5f"
            },
            "type": "carpet"
           }
          ],
          "choropleth": [
           {
            "colorbar": {
             "outlinewidth": 0,
             "ticks": ""
            },
            "type": "choropleth"
           }
          ],
          "contour": [
           {
            "colorbar": {
             "outlinewidth": 0,
             "ticks": ""
            },
            "colorscale": [
             [
              0,
              "#0d0887"
             ],
             [
              0.1111111111111111,
              "#46039f"
             ],
             [
              0.2222222222222222,
              "#7201a8"
             ],
             [
              0.3333333333333333,
              "#9c179e"
             ],
             [
              0.4444444444444444,
              "#bd3786"
             ],
             [
              0.5555555555555556,
              "#d8576b"
             ],
             [
              0.6666666666666666,
              "#ed7953"
             ],
             [
              0.7777777777777778,
              "#fb9f3a"
             ],
             [
              0.8888888888888888,
              "#fdca26"
             ],
             [
              1,
              "#f0f921"
             ]
            ],
            "type": "contour"
           }
          ],
          "contourcarpet": [
           {
            "colorbar": {
             "outlinewidth": 0,
             "ticks": ""
            },
            "type": "contourcarpet"
           }
          ],
          "heatmap": [
           {
            "colorbar": {
             "outlinewidth": 0,
             "ticks": ""
            },
            "colorscale": [
             [
              0,
              "#0d0887"
             ],
             [
              0.1111111111111111,
              "#46039f"
             ],
             [
              0.2222222222222222,
              "#7201a8"
             ],
             [
              0.3333333333333333,
              "#9c179e"
             ],
             [
              0.4444444444444444,
              "#bd3786"
             ],
             [
              0.5555555555555556,
              "#d8576b"
             ],
             [
              0.6666666666666666,
              "#ed7953"
             ],
             [
              0.7777777777777778,
              "#fb9f3a"
             ],
             [
              0.8888888888888888,
              "#fdca26"
             ],
             [
              1,
              "#f0f921"
             ]
            ],
            "type": "heatmap"
           }
          ],
          "heatmapgl": [
           {
            "colorbar": {
             "outlinewidth": 0,
             "ticks": ""
            },
            "colorscale": [
             [
              0,
              "#0d0887"
             ],
             [
              0.1111111111111111,
              "#46039f"
             ],
             [
              0.2222222222222222,
              "#7201a8"
             ],
             [
              0.3333333333333333,
              "#9c179e"
             ],
             [
              0.4444444444444444,
              "#bd3786"
             ],
             [
              0.5555555555555556,
              "#d8576b"
             ],
             [
              0.6666666666666666,
              "#ed7953"
             ],
             [
              0.7777777777777778,
              "#fb9f3a"
             ],
             [
              0.8888888888888888,
              "#fdca26"
             ],
             [
              1,
              "#f0f921"
             ]
            ],
            "type": "heatmapgl"
           }
          ],
          "histogram": [
           {
            "marker": {
             "pattern": {
              "fillmode": "overlay",
              "size": 10,
              "solidity": 0.2
             }
            },
            "type": "histogram"
           }
          ],
          "histogram2d": [
           {
            "colorbar": {
             "outlinewidth": 0,
             "ticks": ""
            },
            "colorscale": [
             [
              0,
              "#0d0887"
             ],
             [
              0.1111111111111111,
              "#46039f"
             ],
             [
              0.2222222222222222,
              "#7201a8"
             ],
             [
              0.3333333333333333,
              "#9c179e"
             ],
             [
              0.4444444444444444,
              "#bd3786"
             ],
             [
              0.5555555555555556,
              "#d8576b"
             ],
             [
              0.6666666666666666,
              "#ed7953"
             ],
             [
              0.7777777777777778,
              "#fb9f3a"
             ],
             [
              0.8888888888888888,
              "#fdca26"
             ],
             [
              1,
              "#f0f921"
             ]
            ],
            "type": "histogram2d"
           }
          ],
          "histogram2dcontour": [
           {
            "colorbar": {
             "outlinewidth": 0,
             "ticks": ""
            },
            "colorscale": [
             [
              0,
              "#0d0887"
             ],
             [
              0.1111111111111111,
              "#46039f"
             ],
             [
              0.2222222222222222,
              "#7201a8"
             ],
             [
              0.3333333333333333,
              "#9c179e"
             ],
             [
              0.4444444444444444,
              "#bd3786"
             ],
             [
              0.5555555555555556,
              "#d8576b"
             ],
             [
              0.6666666666666666,
              "#ed7953"
             ],
             [
              0.7777777777777778,
              "#fb9f3a"
             ],
             [
              0.8888888888888888,
              "#fdca26"
             ],
             [
              1,
              "#f0f921"
             ]
            ],
            "type": "histogram2dcontour"
           }
          ],
          "mesh3d": [
           {
            "colorbar": {
             "outlinewidth": 0,
             "ticks": ""
            },
            "type": "mesh3d"
           }
          ],
          "parcoords": [
           {
            "line": {
             "colorbar": {
              "outlinewidth": 0,
              "ticks": ""
             }
            },
            "type": "parcoords"
           }
          ],
          "pie": [
           {
            "automargin": true,
            "type": "pie"
           }
          ],
          "scatter": [
           {
            "fillpattern": {
             "fillmode": "overlay",
             "size": 10,
             "solidity": 0.2
            },
            "type": "scatter"
           }
          ],
          "scatter3d": [
           {
            "line": {
             "colorbar": {
              "outlinewidth": 0,
              "ticks": ""
             }
            },
            "marker": {
             "colorbar": {
              "outlinewidth": 0,
              "ticks": ""
             }
            },
            "type": "scatter3d"
           }
          ],
          "scattercarpet": [
           {
            "marker": {
             "colorbar": {
              "outlinewidth": 0,
              "ticks": ""
             }
            },
            "type": "scattercarpet"
           }
          ],
          "scattergeo": [
           {
            "marker": {
             "colorbar": {
              "outlinewidth": 0,
              "ticks": ""
             }
            },
            "type": "scattergeo"
           }
          ],
          "scattergl": [
           {
            "marker": {
             "colorbar": {
              "outlinewidth": 0,
              "ticks": ""
             }
            },
            "type": "scattergl"
           }
          ],
          "scattermapbox": [
           {
            "marker": {
             "colorbar": {
              "outlinewidth": 0,
              "ticks": ""
             }
            },
            "type": "scattermapbox"
           }
          ],
          "scatterpolar": [
           {
            "marker": {
             "colorbar": {
              "outlinewidth": 0,
              "ticks": ""
             }
            },
            "type": "scatterpolar"
           }
          ],
          "scatterpolargl": [
           {
            "marker": {
             "colorbar": {
              "outlinewidth": 0,
              "ticks": ""
             }
            },
            "type": "scatterpolargl"
           }
          ],
          "scatterternary": [
           {
            "marker": {
             "colorbar": {
              "outlinewidth": 0,
              "ticks": ""
             }
            },
            "type": "scatterternary"
           }
          ],
          "surface": [
           {
            "colorbar": {
             "outlinewidth": 0,
             "ticks": ""
            },
            "colorscale": [
             [
              0,
              "#0d0887"
             ],
             [
              0.1111111111111111,
              "#46039f"
             ],
             [
              0.2222222222222222,
              "#7201a8"
             ],
             [
              0.3333333333333333,
              "#9c179e"
             ],
             [
              0.4444444444444444,
              "#bd3786"
             ],
             [
              0.5555555555555556,
              "#d8576b"
             ],
             [
              0.6666666666666666,
              "#ed7953"
             ],
             [
              0.7777777777777778,
              "#fb9f3a"
             ],
             [
              0.8888888888888888,
              "#fdca26"
             ],
             [
              1,
              "#f0f921"
             ]
            ],
            "type": "surface"
           }
          ],
          "table": [
           {
            "cells": {
             "fill": {
              "color": "#EBF0F8"
             },
             "line": {
              "color": "white"
             }
            },
            "header": {
             "fill": {
              "color": "#C8D4E3"
             },
             "line": {
              "color": "white"
             }
            },
            "type": "table"
           }
          ]
         },
         "layout": {
          "annotationdefaults": {
           "arrowcolor": "#2a3f5f",
           "arrowhead": 0,
           "arrowwidth": 1
          },
          "autotypenumbers": "strict",
          "coloraxis": {
           "colorbar": {
            "outlinewidth": 0,
            "ticks": ""
           }
          },
          "colorscale": {
           "diverging": [
            [
             0,
             "#8e0152"
            ],
            [
             0.1,
             "#c51b7d"
            ],
            [
             0.2,
             "#de77ae"
            ],
            [
             0.3,
             "#f1b6da"
            ],
            [
             0.4,
             "#fde0ef"
            ],
            [
             0.5,
             "#f7f7f7"
            ],
            [
             0.6,
             "#e6f5d0"
            ],
            [
             0.7,
             "#b8e186"
            ],
            [
             0.8,
             "#7fbc41"
            ],
            [
             0.9,
             "#4d9221"
            ],
            [
             1,
             "#276419"
            ]
           ],
           "sequential": [
            [
             0,
             "#0d0887"
            ],
            [
             0.1111111111111111,
             "#46039f"
            ],
            [
             0.2222222222222222,
             "#7201a8"
            ],
            [
             0.3333333333333333,
             "#9c179e"
            ],
            [
             0.4444444444444444,
             "#bd3786"
            ],
            [
             0.5555555555555556,
             "#d8576b"
            ],
            [
             0.6666666666666666,
             "#ed7953"
            ],
            [
             0.7777777777777778,
             "#fb9f3a"
            ],
            [
             0.8888888888888888,
             "#fdca26"
            ],
            [
             1,
             "#f0f921"
            ]
           ],
           "sequentialminus": [
            [
             0,
             "#0d0887"
            ],
            [
             0.1111111111111111,
             "#46039f"
            ],
            [
             0.2222222222222222,
             "#7201a8"
            ],
            [
             0.3333333333333333,
             "#9c179e"
            ],
            [
             0.4444444444444444,
             "#bd3786"
            ],
            [
             0.5555555555555556,
             "#d8576b"
            ],
            [
             0.6666666666666666,
             "#ed7953"
            ],
            [
             0.7777777777777778,
             "#fb9f3a"
            ],
            [
             0.8888888888888888,
             "#fdca26"
            ],
            [
             1,
             "#f0f921"
            ]
           ]
          },
          "colorway": [
           "#636efa",
           "#EF553B",
           "#00cc96",
           "#ab63fa",
           "#FFA15A",
           "#19d3f3",
           "#FF6692",
           "#B6E880",
           "#FF97FF",
           "#FECB52"
          ],
          "font": {
           "color": "#2a3f5f"
          },
          "geo": {
           "bgcolor": "white",
           "lakecolor": "white",
           "landcolor": "#E5ECF6",
           "showlakes": true,
           "showland": true,
           "subunitcolor": "white"
          },
          "hoverlabel": {
           "align": "left"
          },
          "hovermode": "closest",
          "mapbox": {
           "style": "light"
          },
          "paper_bgcolor": "white",
          "plot_bgcolor": "#E5ECF6",
          "polar": {
           "angularaxis": {
            "gridcolor": "white",
            "linecolor": "white",
            "ticks": ""
           },
           "bgcolor": "#E5ECF6",
           "radialaxis": {
            "gridcolor": "white",
            "linecolor": "white",
            "ticks": ""
           }
          },
          "scene": {
           "xaxis": {
            "backgroundcolor": "#E5ECF6",
            "gridcolor": "white",
            "gridwidth": 2,
            "linecolor": "white",
            "showbackground": true,
            "ticks": "",
            "zerolinecolor": "white"
           },
           "yaxis": {
            "backgroundcolor": "#E5ECF6",
            "gridcolor": "white",
            "gridwidth": 2,
            "linecolor": "white",
            "showbackground": true,
            "ticks": "",
            "zerolinecolor": "white"
           },
           "zaxis": {
            "backgroundcolor": "#E5ECF6",
            "gridcolor": "white",
            "gridwidth": 2,
            "linecolor": "white",
            "showbackground": true,
            "ticks": "",
            "zerolinecolor": "white"
           }
          },
          "shapedefaults": {
           "line": {
            "color": "#2a3f5f"
           }
          },
          "ternary": {
           "aaxis": {
            "gridcolor": "white",
            "linecolor": "white",
            "ticks": ""
           },
           "baxis": {
            "gridcolor": "white",
            "linecolor": "white",
            "ticks": ""
           },
           "bgcolor": "#E5ECF6",
           "caxis": {
            "gridcolor": "white",
            "linecolor": "white",
            "ticks": ""
           }
          },
          "title": {
           "x": 0.05
          },
          "xaxis": {
           "automargin": true,
           "gridcolor": "white",
           "linecolor": "white",
           "ticks": "",
           "title": {
            "standoff": 15
           },
           "zerolinecolor": "white",
           "zerolinewidth": 2
          },
          "yaxis": {
           "automargin": true,
           "gridcolor": "white",
           "linecolor": "white",
           "ticks": "",
           "title": {
            "standoff": 15
           },
           "zerolinecolor": "white",
           "zerolinewidth": 2
          }
         }
        },
        "title": {
         "text": "papas"
        }
       }
      }
     },
     "metadata": {},
     "output_type": "display_data"
    }
   ],
   "source": [
    "trace1 = {\"type\": \"bar\",\n",
    "          \"y\": df_cat.loc[\"California\", \"Sales\"],\n",
    "          \"x\": df_cat.loc[\"California\", \"Category\"],\n",
    "          \"name\": \"California\"}\n",
    "\n",
    "trace2 = {\"type\": \"bar\",\n",
    "          \"y\": df_cat.loc[\"New York\", \"Sales\"],\n",
    "          \"x\": df_cat.loc[\"New York\", \"Category\"],\n",
    "          \"name\":\"New York\"} # Actualiza el valor de yaxis para que sea 'y1'\n",
    "\n",
    "trace3 = {\"type\": \"bar\",\n",
    "          \"y\": df_cat.loc[\"Texas\", \"Sales\"],\n",
    "          \"x\": df_cat.loc[\"Texas\", \"Category\"],\n",
    "          \"name\": \"Texas\"}\n",
    "\n",
    "layout = go.Layout(barmode=\"stack\", title=\"papas\")\n",
    "\n",
    "fig = go.Figure(data=[trace1, trace2, trace3], layout=layout)\n",
    "fig"
   ]
  },
  {
   "cell_type": "markdown",
   "metadata": {
    "id": "a1XDvjVAimiG"
   },
   "source": [
    "## 5. Crea un gráfico de líneas interactivo que muestre la venta por día para California."
   ]
  },
  {
   "cell_type": "code",
   "execution_count": 151,
   "metadata": {},
   "outputs": [
    {
     "data": {
      "application/vnd.plotly.v1+json": {
       "config": {
        "plotlyServerURL": "https://plot.ly"
       },
       "data": [
        {
         "hovertemplate": "Order Date=%{x}<br>Sales=%{y}<extra></extra>",
         "legendgroup": "",
         "line": {
          "color": "#636efa",
          "dash": "solid"
         },
         "marker": {
          "symbol": "circle"
         },
         "mode": "markers+lines",
         "name": "",
         "orientation": "v",
         "showlegend": false,
         "type": "scatter",
         "x": [
          1,
          2,
          3,
          4,
          5,
          6,
          7,
          8,
          9,
          10,
          11,
          12
         ],
         "xaxis": "x",
         "y": [
          16385.035,
          11458.092999999999,
          40280.536,
          31716.157,
          29517.879500000003,
          32605.250500000002,
          41907.711,
          38157.579000000005,
          48271.2915,
          37357.894,
          54559.938500000004,
          75470.2665
         ],
         "yaxis": "y"
        }
       ],
       "layout": {
        "legend": {
         "tracegroupgap": 0
        },
        "margin": {
         "t": 60
        },
        "template": {
         "data": {
          "bar": [
           {
            "error_x": {
             "color": "#2a3f5f"
            },
            "error_y": {
             "color": "#2a3f5f"
            },
            "marker": {
             "line": {
              "color": "#E5ECF6",
              "width": 0.5
             },
             "pattern": {
              "fillmode": "overlay",
              "size": 10,
              "solidity": 0.2
             }
            },
            "type": "bar"
           }
          ],
          "barpolar": [
           {
            "marker": {
             "line": {
              "color": "#E5ECF6",
              "width": 0.5
             },
             "pattern": {
              "fillmode": "overlay",
              "size": 10,
              "solidity": 0.2
             }
            },
            "type": "barpolar"
           }
          ],
          "carpet": [
           {
            "aaxis": {
             "endlinecolor": "#2a3f5f",
             "gridcolor": "white",
             "linecolor": "white",
             "minorgridcolor": "white",
             "startlinecolor": "#2a3f5f"
            },
            "baxis": {
             "endlinecolor": "#2a3f5f",
             "gridcolor": "white",
             "linecolor": "white",
             "minorgridcolor": "white",
             "startlinecolor": "#2a3f5f"
            },
            "type": "carpet"
           }
          ],
          "choropleth": [
           {
            "colorbar": {
             "outlinewidth": 0,
             "ticks": ""
            },
            "type": "choropleth"
           }
          ],
          "contour": [
           {
            "colorbar": {
             "outlinewidth": 0,
             "ticks": ""
            },
            "colorscale": [
             [
              0,
              "#0d0887"
             ],
             [
              0.1111111111111111,
              "#46039f"
             ],
             [
              0.2222222222222222,
              "#7201a8"
             ],
             [
              0.3333333333333333,
              "#9c179e"
             ],
             [
              0.4444444444444444,
              "#bd3786"
             ],
             [
              0.5555555555555556,
              "#d8576b"
             ],
             [
              0.6666666666666666,
              "#ed7953"
             ],
             [
              0.7777777777777778,
              "#fb9f3a"
             ],
             [
              0.8888888888888888,
              "#fdca26"
             ],
             [
              1,
              "#f0f921"
             ]
            ],
            "type": "contour"
           }
          ],
          "contourcarpet": [
           {
            "colorbar": {
             "outlinewidth": 0,
             "ticks": ""
            },
            "type": "contourcarpet"
           }
          ],
          "heatmap": [
           {
            "colorbar": {
             "outlinewidth": 0,
             "ticks": ""
            },
            "colorscale": [
             [
              0,
              "#0d0887"
             ],
             [
              0.1111111111111111,
              "#46039f"
             ],
             [
              0.2222222222222222,
              "#7201a8"
             ],
             [
              0.3333333333333333,
              "#9c179e"
             ],
             [
              0.4444444444444444,
              "#bd3786"
             ],
             [
              0.5555555555555556,
              "#d8576b"
             ],
             [
              0.6666666666666666,
              "#ed7953"
             ],
             [
              0.7777777777777778,
              "#fb9f3a"
             ],
             [
              0.8888888888888888,
              "#fdca26"
             ],
             [
              1,
              "#f0f921"
             ]
            ],
            "type": "heatmap"
           }
          ],
          "heatmapgl": [
           {
            "colorbar": {
             "outlinewidth": 0,
             "ticks": ""
            },
            "colorscale": [
             [
              0,
              "#0d0887"
             ],
             [
              0.1111111111111111,
              "#46039f"
             ],
             [
              0.2222222222222222,
              "#7201a8"
             ],
             [
              0.3333333333333333,
              "#9c179e"
             ],
             [
              0.4444444444444444,
              "#bd3786"
             ],
             [
              0.5555555555555556,
              "#d8576b"
             ],
             [
              0.6666666666666666,
              "#ed7953"
             ],
             [
              0.7777777777777778,
              "#fb9f3a"
             ],
             [
              0.8888888888888888,
              "#fdca26"
             ],
             [
              1,
              "#f0f921"
             ]
            ],
            "type": "heatmapgl"
           }
          ],
          "histogram": [
           {
            "marker": {
             "pattern": {
              "fillmode": "overlay",
              "size": 10,
              "solidity": 0.2
             }
            },
            "type": "histogram"
           }
          ],
          "histogram2d": [
           {
            "colorbar": {
             "outlinewidth": 0,
             "ticks": ""
            },
            "colorscale": [
             [
              0,
              "#0d0887"
             ],
             [
              0.1111111111111111,
              "#46039f"
             ],
             [
              0.2222222222222222,
              "#7201a8"
             ],
             [
              0.3333333333333333,
              "#9c179e"
             ],
             [
              0.4444444444444444,
              "#bd3786"
             ],
             [
              0.5555555555555556,
              "#d8576b"
             ],
             [
              0.6666666666666666,
              "#ed7953"
             ],
             [
              0.7777777777777778,
              "#fb9f3a"
             ],
             [
              0.8888888888888888,
              "#fdca26"
             ],
             [
              1,
              "#f0f921"
             ]
            ],
            "type": "histogram2d"
           }
          ],
          "histogram2dcontour": [
           {
            "colorbar": {
             "outlinewidth": 0,
             "ticks": ""
            },
            "colorscale": [
             [
              0,
              "#0d0887"
             ],
             [
              0.1111111111111111,
              "#46039f"
             ],
             [
              0.2222222222222222,
              "#7201a8"
             ],
             [
              0.3333333333333333,
              "#9c179e"
             ],
             [
              0.4444444444444444,
              "#bd3786"
             ],
             [
              0.5555555555555556,
              "#d8576b"
             ],
             [
              0.6666666666666666,
              "#ed7953"
             ],
             [
              0.7777777777777778,
              "#fb9f3a"
             ],
             [
              0.8888888888888888,
              "#fdca26"
             ],
             [
              1,
              "#f0f921"
             ]
            ],
            "type": "histogram2dcontour"
           }
          ],
          "mesh3d": [
           {
            "colorbar": {
             "outlinewidth": 0,
             "ticks": ""
            },
            "type": "mesh3d"
           }
          ],
          "parcoords": [
           {
            "line": {
             "colorbar": {
              "outlinewidth": 0,
              "ticks": ""
             }
            },
            "type": "parcoords"
           }
          ],
          "pie": [
           {
            "automargin": true,
            "type": "pie"
           }
          ],
          "scatter": [
           {
            "fillpattern": {
             "fillmode": "overlay",
             "size": 10,
             "solidity": 0.2
            },
            "type": "scatter"
           }
          ],
          "scatter3d": [
           {
            "line": {
             "colorbar": {
              "outlinewidth": 0,
              "ticks": ""
             }
            },
            "marker": {
             "colorbar": {
              "outlinewidth": 0,
              "ticks": ""
             }
            },
            "type": "scatter3d"
           }
          ],
          "scattercarpet": [
           {
            "marker": {
             "colorbar": {
              "outlinewidth": 0,
              "ticks": ""
             }
            },
            "type": "scattercarpet"
           }
          ],
          "scattergeo": [
           {
            "marker": {
             "colorbar": {
              "outlinewidth": 0,
              "ticks": ""
             }
            },
            "type": "scattergeo"
           }
          ],
          "scattergl": [
           {
            "marker": {
             "colorbar": {
              "outlinewidth": 0,
              "ticks": ""
             }
            },
            "type": "scattergl"
           }
          ],
          "scattermapbox": [
           {
            "marker": {
             "colorbar": {
              "outlinewidth": 0,
              "ticks": ""
             }
            },
            "type": "scattermapbox"
           }
          ],
          "scatterpolar": [
           {
            "marker": {
             "colorbar": {
              "outlinewidth": 0,
              "ticks": ""
             }
            },
            "type": "scatterpolar"
           }
          ],
          "scatterpolargl": [
           {
            "marker": {
             "colorbar": {
              "outlinewidth": 0,
              "ticks": ""
             }
            },
            "type": "scatterpolargl"
           }
          ],
          "scatterternary": [
           {
            "marker": {
             "colorbar": {
              "outlinewidth": 0,
              "ticks": ""
             }
            },
            "type": "scatterternary"
           }
          ],
          "surface": [
           {
            "colorbar": {
             "outlinewidth": 0,
             "ticks": ""
            },
            "colorscale": [
             [
              0,
              "#0d0887"
             ],
             [
              0.1111111111111111,
              "#46039f"
             ],
             [
              0.2222222222222222,
              "#7201a8"
             ],
             [
              0.3333333333333333,
              "#9c179e"
             ],
             [
              0.4444444444444444,
              "#bd3786"
             ],
             [
              0.5555555555555556,
              "#d8576b"
             ],
             [
              0.6666666666666666,
              "#ed7953"
             ],
             [
              0.7777777777777778,
              "#fb9f3a"
             ],
             [
              0.8888888888888888,
              "#fdca26"
             ],
             [
              1,
              "#f0f921"
             ]
            ],
            "type": "surface"
           }
          ],
          "table": [
           {
            "cells": {
             "fill": {
              "color": "#EBF0F8"
             },
             "line": {
              "color": "white"
             }
            },
            "header": {
             "fill": {
              "color": "#C8D4E3"
             },
             "line": {
              "color": "white"
             }
            },
            "type": "table"
           }
          ]
         },
         "layout": {
          "annotationdefaults": {
           "arrowcolor": "#2a3f5f",
           "arrowhead": 0,
           "arrowwidth": 1
          },
          "autotypenumbers": "strict",
          "coloraxis": {
           "colorbar": {
            "outlinewidth": 0,
            "ticks": ""
           }
          },
          "colorscale": {
           "diverging": [
            [
             0,
             "#8e0152"
            ],
            [
             0.1,
             "#c51b7d"
            ],
            [
             0.2,
             "#de77ae"
            ],
            [
             0.3,
             "#f1b6da"
            ],
            [
             0.4,
             "#fde0ef"
            ],
            [
             0.5,
             "#f7f7f7"
            ],
            [
             0.6,
             "#e6f5d0"
            ],
            [
             0.7,
             "#b8e186"
            ],
            [
             0.8,
             "#7fbc41"
            ],
            [
             0.9,
             "#4d9221"
            ],
            [
             1,
             "#276419"
            ]
           ],
           "sequential": [
            [
             0,
             "#0d0887"
            ],
            [
             0.1111111111111111,
             "#46039f"
            ],
            [
             0.2222222222222222,
             "#7201a8"
            ],
            [
             0.3333333333333333,
             "#9c179e"
            ],
            [
             0.4444444444444444,
             "#bd3786"
            ],
            [
             0.5555555555555556,
             "#d8576b"
            ],
            [
             0.6666666666666666,
             "#ed7953"
            ],
            [
             0.7777777777777778,
             "#fb9f3a"
            ],
            [
             0.8888888888888888,
             "#fdca26"
            ],
            [
             1,
             "#f0f921"
            ]
           ],
           "sequentialminus": [
            [
             0,
             "#0d0887"
            ],
            [
             0.1111111111111111,
             "#46039f"
            ],
            [
             0.2222222222222222,
             "#7201a8"
            ],
            [
             0.3333333333333333,
             "#9c179e"
            ],
            [
             0.4444444444444444,
             "#bd3786"
            ],
            [
             0.5555555555555556,
             "#d8576b"
            ],
            [
             0.6666666666666666,
             "#ed7953"
            ],
            [
             0.7777777777777778,
             "#fb9f3a"
            ],
            [
             0.8888888888888888,
             "#fdca26"
            ],
            [
             1,
             "#f0f921"
            ]
           ]
          },
          "colorway": [
           "#636efa",
           "#EF553B",
           "#00cc96",
           "#ab63fa",
           "#FFA15A",
           "#19d3f3",
           "#FF6692",
           "#B6E880",
           "#FF97FF",
           "#FECB52"
          ],
          "font": {
           "color": "#2a3f5f"
          },
          "geo": {
           "bgcolor": "white",
           "lakecolor": "white",
           "landcolor": "#E5ECF6",
           "showlakes": true,
           "showland": true,
           "subunitcolor": "white"
          },
          "hoverlabel": {
           "align": "left"
          },
          "hovermode": "closest",
          "mapbox": {
           "style": "light"
          },
          "paper_bgcolor": "white",
          "plot_bgcolor": "#E5ECF6",
          "polar": {
           "angularaxis": {
            "gridcolor": "white",
            "linecolor": "white",
            "ticks": ""
           },
           "bgcolor": "#E5ECF6",
           "radialaxis": {
            "gridcolor": "white",
            "linecolor": "white",
            "ticks": ""
           }
          },
          "scene": {
           "xaxis": {
            "backgroundcolor": "#E5ECF6",
            "gridcolor": "white",
            "gridwidth": 2,
            "linecolor": "white",
            "showbackground": true,
            "ticks": "",
            "zerolinecolor": "white"
           },
           "yaxis": {
            "backgroundcolor": "#E5ECF6",
            "gridcolor": "white",
            "gridwidth": 2,
            "linecolor": "white",
            "showbackground": true,
            "ticks": "",
            "zerolinecolor": "white"
           },
           "zaxis": {
            "backgroundcolor": "#E5ECF6",
            "gridcolor": "white",
            "gridwidth": 2,
            "linecolor": "white",
            "showbackground": true,
            "ticks": "",
            "zerolinecolor": "white"
           }
          },
          "shapedefaults": {
           "line": {
            "color": "#2a3f5f"
           }
          },
          "ternary": {
           "aaxis": {
            "gridcolor": "white",
            "linecolor": "white",
            "ticks": ""
           },
           "baxis": {
            "gridcolor": "white",
            "linecolor": "white",
            "ticks": ""
           },
           "bgcolor": "#E5ECF6",
           "caxis": {
            "gridcolor": "white",
            "linecolor": "white",
            "ticks": ""
           }
          },
          "title": {
           "x": 0.05
          },
          "xaxis": {
           "automargin": true,
           "gridcolor": "white",
           "linecolor": "white",
           "ticks": "",
           "title": {
            "standoff": 15
           },
           "zerolinecolor": "white",
           "zerolinewidth": 2
          },
          "yaxis": {
           "automargin": true,
           "gridcolor": "white",
           "linecolor": "white",
           "ticks": "",
           "title": {
            "standoff": 15
           },
           "zerolinecolor": "white",
           "zerolinewidth": 2
          }
         }
        },
        "xaxis": {
         "anchor": "y",
         "domain": [
          0,
          1
         ],
         "title": {
          "text": "Order Date"
         }
        },
        "yaxis": {
         "anchor": "x",
         "domain": [
          0,
          1
         ],
         "title": {
          "text": "Sales"
         }
        }
       }
      }
     },
     "metadata": {},
     "output_type": "display_data"
    }
   ],
   "source": [
    "df_cal_day = df_cal.groupby(df_cal[\"Order Date\"].dt.month)[\"Sales\"].sum().sort_index().reset_index()\n",
    "px.line(df_cal_day, x=\"Order Date\", y=\"Sales\", markers=True)"
   ]
  },
  {
   "cell_type": "code",
   "execution_count": 155,
   "metadata": {},
   "outputs": [
    {
     "data": {
      "text/html": [
       "<div>\n",
       "<style scoped>\n",
       "    .dataframe tbody tr th:only-of-type {\n",
       "        vertical-align: middle;\n",
       "    }\n",
       "\n",
       "    .dataframe tbody tr th {\n",
       "        vertical-align: top;\n",
       "    }\n",
       "\n",
       "    .dataframe thead th {\n",
       "        text-align: right;\n",
       "    }\n",
       "</style>\n",
       "<table border=\"1\" class=\"dataframe\">\n",
       "  <thead>\n",
       "    <tr style=\"text-align: right;\">\n",
       "      <th></th>\n",
       "      <th>Order Date</th>\n",
       "      <th>Sales</th>\n",
       "    </tr>\n",
       "    <tr>\n",
       "      <th>Category</th>\n",
       "      <th></th>\n",
       "      <th></th>\n",
       "    </tr>\n",
       "  </thead>\n",
       "  <tbody>\n",
       "    <tr>\n",
       "      <th>Furniture</th>\n",
       "      <td>1</td>\n",
       "      <td>6838.2870</td>\n",
       "    </tr>\n",
       "    <tr>\n",
       "      <th>Office Supplies</th>\n",
       "      <td>1</td>\n",
       "      <td>5811.0680</td>\n",
       "    </tr>\n",
       "    <tr>\n",
       "      <th>Technology</th>\n",
       "      <td>1</td>\n",
       "      <td>3735.6800</td>\n",
       "    </tr>\n",
       "    <tr>\n",
       "      <th>Furniture</th>\n",
       "      <td>2</td>\n",
       "      <td>2636.7070</td>\n",
       "    </tr>\n",
       "    <tr>\n",
       "      <th>Office Supplies</th>\n",
       "      <td>2</td>\n",
       "      <td>5167.6680</td>\n",
       "    </tr>\n",
       "    <tr>\n",
       "      <th>Technology</th>\n",
       "      <td>2</td>\n",
       "      <td>3653.7180</td>\n",
       "    </tr>\n",
       "    <tr>\n",
       "      <th>Furniture</th>\n",
       "      <td>3</td>\n",
       "      <td>8037.8840</td>\n",
       "    </tr>\n",
       "    <tr>\n",
       "      <th>Office Supplies</th>\n",
       "      <td>3</td>\n",
       "      <td>14419.7020</td>\n",
       "    </tr>\n",
       "    <tr>\n",
       "      <th>Technology</th>\n",
       "      <td>3</td>\n",
       "      <td>17822.9500</td>\n",
       "    </tr>\n",
       "    <tr>\n",
       "      <th>Furniture</th>\n",
       "      <td>4</td>\n",
       "      <td>10228.0870</td>\n",
       "    </tr>\n",
       "    <tr>\n",
       "      <th>Office Supplies</th>\n",
       "      <td>4</td>\n",
       "      <td>7183.4640</td>\n",
       "    </tr>\n",
       "    <tr>\n",
       "      <th>Technology</th>\n",
       "      <td>4</td>\n",
       "      <td>14304.6060</td>\n",
       "    </tr>\n",
       "    <tr>\n",
       "      <th>Furniture</th>\n",
       "      <td>5</td>\n",
       "      <td>8401.3095</td>\n",
       "    </tr>\n",
       "    <tr>\n",
       "      <th>Office Supplies</th>\n",
       "      <td>5</td>\n",
       "      <td>5531.1600</td>\n",
       "    </tr>\n",
       "    <tr>\n",
       "      <th>Technology</th>\n",
       "      <td>5</td>\n",
       "      <td>15585.4100</td>\n",
       "    </tr>\n",
       "    <tr>\n",
       "      <th>Furniture</th>\n",
       "      <td>6</td>\n",
       "      <td>12068.5065</td>\n",
       "    </tr>\n",
       "    <tr>\n",
       "      <th>Office Supplies</th>\n",
       "      <td>6</td>\n",
       "      <td>6868.6040</td>\n",
       "    </tr>\n",
       "    <tr>\n",
       "      <th>Technology</th>\n",
       "      <td>6</td>\n",
       "      <td>13668.1400</td>\n",
       "    </tr>\n",
       "    <tr>\n",
       "      <th>Furniture</th>\n",
       "      <td>7</td>\n",
       "      <td>12629.4030</td>\n",
       "    </tr>\n",
       "    <tr>\n",
       "      <th>Office Supplies</th>\n",
       "      <td>7</td>\n",
       "      <td>13731.9700</td>\n",
       "    </tr>\n",
       "    <tr>\n",
       "      <th>Technology</th>\n",
       "      <td>7</td>\n",
       "      <td>15546.3380</td>\n",
       "    </tr>\n",
       "    <tr>\n",
       "      <th>Furniture</th>\n",
       "      <td>8</td>\n",
       "      <td>13566.9530</td>\n",
       "    </tr>\n",
       "    <tr>\n",
       "      <th>Office Supplies</th>\n",
       "      <td>8</td>\n",
       "      <td>14707.3180</td>\n",
       "    </tr>\n",
       "    <tr>\n",
       "      <th>Technology</th>\n",
       "      <td>8</td>\n",
       "      <td>9883.3080</td>\n",
       "    </tr>\n",
       "    <tr>\n",
       "      <th>Furniture</th>\n",
       "      <td>9</td>\n",
       "      <td>18761.5575</td>\n",
       "    </tr>\n",
       "    <tr>\n",
       "      <th>Office Supplies</th>\n",
       "      <td>9</td>\n",
       "      <td>16145.8540</td>\n",
       "    </tr>\n",
       "    <tr>\n",
       "      <th>Technology</th>\n",
       "      <td>9</td>\n",
       "      <td>13363.8800</td>\n",
       "    </tr>\n",
       "    <tr>\n",
       "      <th>Furniture</th>\n",
       "      <td>10</td>\n",
       "      <td>11462.7780</td>\n",
       "    </tr>\n",
       "    <tr>\n",
       "      <th>Office Supplies</th>\n",
       "      <td>10</td>\n",
       "      <td>17675.2120</td>\n",
       "    </tr>\n",
       "    <tr>\n",
       "      <th>Technology</th>\n",
       "      <td>10</td>\n",
       "      <td>8219.9040</td>\n",
       "    </tr>\n",
       "    <tr>\n",
       "      <th>Furniture</th>\n",
       "      <td>11</td>\n",
       "      <td>21456.4045</td>\n",
       "    </tr>\n",
       "    <tr>\n",
       "      <th>Office Supplies</th>\n",
       "      <td>11</td>\n",
       "      <td>15601.0460</td>\n",
       "    </tr>\n",
       "    <tr>\n",
       "      <th>Technology</th>\n",
       "      <td>11</td>\n",
       "      <td>17502.4880</td>\n",
       "    </tr>\n",
       "    <tr>\n",
       "      <th>Furniture</th>\n",
       "      <td>12</td>\n",
       "      <td>29976.7245</td>\n",
       "    </tr>\n",
       "    <tr>\n",
       "      <th>Office Supplies</th>\n",
       "      <td>12</td>\n",
       "      <td>19508.8820</td>\n",
       "    </tr>\n",
       "    <tr>\n",
       "      <th>Technology</th>\n",
       "      <td>12</td>\n",
       "      <td>25984.6600</td>\n",
       "    </tr>\n",
       "  </tbody>\n",
       "</table>\n",
       "</div>"
      ],
      "text/plain": [
       "                 Order Date       Sales\n",
       "Category                               \n",
       "Furniture                 1   6838.2870\n",
       "Office Supplies           1   5811.0680\n",
       "Technology                1   3735.6800\n",
       "Furniture                 2   2636.7070\n",
       "Office Supplies           2   5167.6680\n",
       "Technology                2   3653.7180\n",
       "Furniture                 3   8037.8840\n",
       "Office Supplies           3  14419.7020\n",
       "Technology                3  17822.9500\n",
       "Furniture                 4  10228.0870\n",
       "Office Supplies           4   7183.4640\n",
       "Technology                4  14304.6060\n",
       "Furniture                 5   8401.3095\n",
       "Office Supplies           5   5531.1600\n",
       "Technology                5  15585.4100\n",
       "Furniture                 6  12068.5065\n",
       "Office Supplies           6   6868.6040\n",
       "Technology                6  13668.1400\n",
       "Furniture                 7  12629.4030\n",
       "Office Supplies           7  13731.9700\n",
       "Technology                7  15546.3380\n",
       "Furniture                 8  13566.9530\n",
       "Office Supplies           8  14707.3180\n",
       "Technology                8   9883.3080\n",
       "Furniture                 9  18761.5575\n",
       "Office Supplies           9  16145.8540\n",
       "Technology                9  13363.8800\n",
       "Furniture                10  11462.7780\n",
       "Office Supplies          10  17675.2120\n",
       "Technology               10   8219.9040\n",
       "Furniture                11  21456.4045\n",
       "Office Supplies          11  15601.0460\n",
       "Technology               11  17502.4880\n",
       "Furniture                12  29976.7245\n",
       "Office Supplies          12  19508.8820\n",
       "Technology               12  25984.6600"
      ]
     },
     "execution_count": 155,
     "metadata": {},
     "output_type": "execute_result"
    }
   ],
   "source": [
    "df_cal_cat_month = df_cal.groupby([df_cal[\"Order Date\"].dt.month, \"Category\"])[\"Sales\"].sum().sort_index().reset_index(level=0)\n",
    "df_cal_cat_month"
   ]
  },
  {
   "cell_type": "code",
   "execution_count": 158,
   "metadata": {},
   "outputs": [
    {
     "data": {
      "application/vnd.plotly.v1+json": {
       "config": {
        "plotlyServerURL": "https://plot.ly"
       },
       "data": [
        {
         "mode": "lines+markers",
         "name": "Furniture",
         "type": "scatter",
         "x": [
          1,
          2,
          3,
          4,
          5,
          6,
          7,
          8,
          9,
          10,
          11,
          12
         ],
         "y": [
          6838.287,
          2636.707,
          8037.884,
          10228.087,
          8401.309500000001,
          12068.5065,
          12629.403,
          13566.953000000001,
          18761.5575,
          11462.778,
          21456.4045,
          29976.7245
         ]
        },
        {
         "mode": "lines+markers",
         "name": "Office Supplies",
         "type": "scatter",
         "x": [
          1,
          2,
          3,
          4,
          5,
          6,
          7,
          8,
          9,
          10,
          11,
          12
         ],
         "y": [
          5811.068,
          5167.668,
          14419.702,
          7183.464,
          5531.16,
          6868.604,
          13731.97,
          14707.318,
          16145.854,
          17675.212,
          15601.046,
          19508.882
         ]
        },
        {
         "mode": "lines+markers",
         "name": "Technology",
         "type": "scatter",
         "x": [
          1,
          2,
          3,
          4,
          5,
          6,
          7,
          8,
          9,
          10,
          11,
          12
         ],
         "y": [
          3735.6800000000003,
          3653.7180000000003,
          17822.95,
          14304.606,
          15585.41,
          13668.14,
          15546.338000000002,
          9883.308,
          13363.880000000001,
          8219.904,
          17502.488,
          25984.66
         ]
        }
       ],
       "layout": {
        "barmode": "stack",
        "template": {
         "data": {
          "bar": [
           {
            "error_x": {
             "color": "#2a3f5f"
            },
            "error_y": {
             "color": "#2a3f5f"
            },
            "marker": {
             "line": {
              "color": "#E5ECF6",
              "width": 0.5
             },
             "pattern": {
              "fillmode": "overlay",
              "size": 10,
              "solidity": 0.2
             }
            },
            "type": "bar"
           }
          ],
          "barpolar": [
           {
            "marker": {
             "line": {
              "color": "#E5ECF6",
              "width": 0.5
             },
             "pattern": {
              "fillmode": "overlay",
              "size": 10,
              "solidity": 0.2
             }
            },
            "type": "barpolar"
           }
          ],
          "carpet": [
           {
            "aaxis": {
             "endlinecolor": "#2a3f5f",
             "gridcolor": "white",
             "linecolor": "white",
             "minorgridcolor": "white",
             "startlinecolor": "#2a3f5f"
            },
            "baxis": {
             "endlinecolor": "#2a3f5f",
             "gridcolor": "white",
             "linecolor": "white",
             "minorgridcolor": "white",
             "startlinecolor": "#2a3f5f"
            },
            "type": "carpet"
           }
          ],
          "choropleth": [
           {
            "colorbar": {
             "outlinewidth": 0,
             "ticks": ""
            },
            "type": "choropleth"
           }
          ],
          "contour": [
           {
            "colorbar": {
             "outlinewidth": 0,
             "ticks": ""
            },
            "colorscale": [
             [
              0,
              "#0d0887"
             ],
             [
              0.1111111111111111,
              "#46039f"
             ],
             [
              0.2222222222222222,
              "#7201a8"
             ],
             [
              0.3333333333333333,
              "#9c179e"
             ],
             [
              0.4444444444444444,
              "#bd3786"
             ],
             [
              0.5555555555555556,
              "#d8576b"
             ],
             [
              0.6666666666666666,
              "#ed7953"
             ],
             [
              0.7777777777777778,
              "#fb9f3a"
             ],
             [
              0.8888888888888888,
              "#fdca26"
             ],
             [
              1,
              "#f0f921"
             ]
            ],
            "type": "contour"
           }
          ],
          "contourcarpet": [
           {
            "colorbar": {
             "outlinewidth": 0,
             "ticks": ""
            },
            "type": "contourcarpet"
           }
          ],
          "heatmap": [
           {
            "colorbar": {
             "outlinewidth": 0,
             "ticks": ""
            },
            "colorscale": [
             [
              0,
              "#0d0887"
             ],
             [
              0.1111111111111111,
              "#46039f"
             ],
             [
              0.2222222222222222,
              "#7201a8"
             ],
             [
              0.3333333333333333,
              "#9c179e"
             ],
             [
              0.4444444444444444,
              "#bd3786"
             ],
             [
              0.5555555555555556,
              "#d8576b"
             ],
             [
              0.6666666666666666,
              "#ed7953"
             ],
             [
              0.7777777777777778,
              "#fb9f3a"
             ],
             [
              0.8888888888888888,
              "#fdca26"
             ],
             [
              1,
              "#f0f921"
             ]
            ],
            "type": "heatmap"
           }
          ],
          "heatmapgl": [
           {
            "colorbar": {
             "outlinewidth": 0,
             "ticks": ""
            },
            "colorscale": [
             [
              0,
              "#0d0887"
             ],
             [
              0.1111111111111111,
              "#46039f"
             ],
             [
              0.2222222222222222,
              "#7201a8"
             ],
             [
              0.3333333333333333,
              "#9c179e"
             ],
             [
              0.4444444444444444,
              "#bd3786"
             ],
             [
              0.5555555555555556,
              "#d8576b"
             ],
             [
              0.6666666666666666,
              "#ed7953"
             ],
             [
              0.7777777777777778,
              "#fb9f3a"
             ],
             [
              0.8888888888888888,
              "#fdca26"
             ],
             [
              1,
              "#f0f921"
             ]
            ],
            "type": "heatmapgl"
           }
          ],
          "histogram": [
           {
            "marker": {
             "pattern": {
              "fillmode": "overlay",
              "size": 10,
              "solidity": 0.2
             }
            },
            "type": "histogram"
           }
          ],
          "histogram2d": [
           {
            "colorbar": {
             "outlinewidth": 0,
             "ticks": ""
            },
            "colorscale": [
             [
              0,
              "#0d0887"
             ],
             [
              0.1111111111111111,
              "#46039f"
             ],
             [
              0.2222222222222222,
              "#7201a8"
             ],
             [
              0.3333333333333333,
              "#9c179e"
             ],
             [
              0.4444444444444444,
              "#bd3786"
             ],
             [
              0.5555555555555556,
              "#d8576b"
             ],
             [
              0.6666666666666666,
              "#ed7953"
             ],
             [
              0.7777777777777778,
              "#fb9f3a"
             ],
             [
              0.8888888888888888,
              "#fdca26"
             ],
             [
              1,
              "#f0f921"
             ]
            ],
            "type": "histogram2d"
           }
          ],
          "histogram2dcontour": [
           {
            "colorbar": {
             "outlinewidth": 0,
             "ticks": ""
            },
            "colorscale": [
             [
              0,
              "#0d0887"
             ],
             [
              0.1111111111111111,
              "#46039f"
             ],
             [
              0.2222222222222222,
              "#7201a8"
             ],
             [
              0.3333333333333333,
              "#9c179e"
             ],
             [
              0.4444444444444444,
              "#bd3786"
             ],
             [
              0.5555555555555556,
              "#d8576b"
             ],
             [
              0.6666666666666666,
              "#ed7953"
             ],
             [
              0.7777777777777778,
              "#fb9f3a"
             ],
             [
              0.8888888888888888,
              "#fdca26"
             ],
             [
              1,
              "#f0f921"
             ]
            ],
            "type": "histogram2dcontour"
           }
          ],
          "mesh3d": [
           {
            "colorbar": {
             "outlinewidth": 0,
             "ticks": ""
            },
            "type": "mesh3d"
           }
          ],
          "parcoords": [
           {
            "line": {
             "colorbar": {
              "outlinewidth": 0,
              "ticks": ""
             }
            },
            "type": "parcoords"
           }
          ],
          "pie": [
           {
            "automargin": true,
            "type": "pie"
           }
          ],
          "scatter": [
           {
            "fillpattern": {
             "fillmode": "overlay",
             "size": 10,
             "solidity": 0.2
            },
            "type": "scatter"
           }
          ],
          "scatter3d": [
           {
            "line": {
             "colorbar": {
              "outlinewidth": 0,
              "ticks": ""
             }
            },
            "marker": {
             "colorbar": {
              "outlinewidth": 0,
              "ticks": ""
             }
            },
            "type": "scatter3d"
           }
          ],
          "scattercarpet": [
           {
            "marker": {
             "colorbar": {
              "outlinewidth": 0,
              "ticks": ""
             }
            },
            "type": "scattercarpet"
           }
          ],
          "scattergeo": [
           {
            "marker": {
             "colorbar": {
              "outlinewidth": 0,
              "ticks": ""
             }
            },
            "type": "scattergeo"
           }
          ],
          "scattergl": [
           {
            "marker": {
             "colorbar": {
              "outlinewidth": 0,
              "ticks": ""
             }
            },
            "type": "scattergl"
           }
          ],
          "scattermapbox": [
           {
            "marker": {
             "colorbar": {
              "outlinewidth": 0,
              "ticks": ""
             }
            },
            "type": "scattermapbox"
           }
          ],
          "scatterpolar": [
           {
            "marker": {
             "colorbar": {
              "outlinewidth": 0,
              "ticks": ""
             }
            },
            "type": "scatterpolar"
           }
          ],
          "scatterpolargl": [
           {
            "marker": {
             "colorbar": {
              "outlinewidth": 0,
              "ticks": ""
             }
            },
            "type": "scatterpolargl"
           }
          ],
          "scatterternary": [
           {
            "marker": {
             "colorbar": {
              "outlinewidth": 0,
              "ticks": ""
             }
            },
            "type": "scatterternary"
           }
          ],
          "surface": [
           {
            "colorbar": {
             "outlinewidth": 0,
             "ticks": ""
            },
            "colorscale": [
             [
              0,
              "#0d0887"
             ],
             [
              0.1111111111111111,
              "#46039f"
             ],
             [
              0.2222222222222222,
              "#7201a8"
             ],
             [
              0.3333333333333333,
              "#9c179e"
             ],
             [
              0.4444444444444444,
              "#bd3786"
             ],
             [
              0.5555555555555556,
              "#d8576b"
             ],
             [
              0.6666666666666666,
              "#ed7953"
             ],
             [
              0.7777777777777778,
              "#fb9f3a"
             ],
             [
              0.8888888888888888,
              "#fdca26"
             ],
             [
              1,
              "#f0f921"
             ]
            ],
            "type": "surface"
           }
          ],
          "table": [
           {
            "cells": {
             "fill": {
              "color": "#EBF0F8"
             },
             "line": {
              "color": "white"
             }
            },
            "header": {
             "fill": {
              "color": "#C8D4E3"
             },
             "line": {
              "color": "white"
             }
            },
            "type": "table"
           }
          ]
         },
         "layout": {
          "annotationdefaults": {
           "arrowcolor": "#2a3f5f",
           "arrowhead": 0,
           "arrowwidth": 1
          },
          "autotypenumbers": "strict",
          "coloraxis": {
           "colorbar": {
            "outlinewidth": 0,
            "ticks": ""
           }
          },
          "colorscale": {
           "diverging": [
            [
             0,
             "#8e0152"
            ],
            [
             0.1,
             "#c51b7d"
            ],
            [
             0.2,
             "#de77ae"
            ],
            [
             0.3,
             "#f1b6da"
            ],
            [
             0.4,
             "#fde0ef"
            ],
            [
             0.5,
             "#f7f7f7"
            ],
            [
             0.6,
             "#e6f5d0"
            ],
            [
             0.7,
             "#b8e186"
            ],
            [
             0.8,
             "#7fbc41"
            ],
            [
             0.9,
             "#4d9221"
            ],
            [
             1,
             "#276419"
            ]
           ],
           "sequential": [
            [
             0,
             "#0d0887"
            ],
            [
             0.1111111111111111,
             "#46039f"
            ],
            [
             0.2222222222222222,
             "#7201a8"
            ],
            [
             0.3333333333333333,
             "#9c179e"
            ],
            [
             0.4444444444444444,
             "#bd3786"
            ],
            [
             0.5555555555555556,
             "#d8576b"
            ],
            [
             0.6666666666666666,
             "#ed7953"
            ],
            [
             0.7777777777777778,
             "#fb9f3a"
            ],
            [
             0.8888888888888888,
             "#fdca26"
            ],
            [
             1,
             "#f0f921"
            ]
           ],
           "sequentialminus": [
            [
             0,
             "#0d0887"
            ],
            [
             0.1111111111111111,
             "#46039f"
            ],
            [
             0.2222222222222222,
             "#7201a8"
            ],
            [
             0.3333333333333333,
             "#9c179e"
            ],
            [
             0.4444444444444444,
             "#bd3786"
            ],
            [
             0.5555555555555556,
             "#d8576b"
            ],
            [
             0.6666666666666666,
             "#ed7953"
            ],
            [
             0.7777777777777778,
             "#fb9f3a"
            ],
            [
             0.8888888888888888,
             "#fdca26"
            ],
            [
             1,
             "#f0f921"
            ]
           ]
          },
          "colorway": [
           "#636efa",
           "#EF553B",
           "#00cc96",
           "#ab63fa",
           "#FFA15A",
           "#19d3f3",
           "#FF6692",
           "#B6E880",
           "#FF97FF",
           "#FECB52"
          ],
          "font": {
           "color": "#2a3f5f"
          },
          "geo": {
           "bgcolor": "white",
           "lakecolor": "white",
           "landcolor": "#E5ECF6",
           "showlakes": true,
           "showland": true,
           "subunitcolor": "white"
          },
          "hoverlabel": {
           "align": "left"
          },
          "hovermode": "closest",
          "mapbox": {
           "style": "light"
          },
          "paper_bgcolor": "white",
          "plot_bgcolor": "#E5ECF6",
          "polar": {
           "angularaxis": {
            "gridcolor": "white",
            "linecolor": "white",
            "ticks": ""
           },
           "bgcolor": "#E5ECF6",
           "radialaxis": {
            "gridcolor": "white",
            "linecolor": "white",
            "ticks": ""
           }
          },
          "scene": {
           "xaxis": {
            "backgroundcolor": "#E5ECF6",
            "gridcolor": "white",
            "gridwidth": 2,
            "linecolor": "white",
            "showbackground": true,
            "ticks": "",
            "zerolinecolor": "white"
           },
           "yaxis": {
            "backgroundcolor": "#E5ECF6",
            "gridcolor": "white",
            "gridwidth": 2,
            "linecolor": "white",
            "showbackground": true,
            "ticks": "",
            "zerolinecolor": "white"
           },
           "zaxis": {
            "backgroundcolor": "#E5ECF6",
            "gridcolor": "white",
            "gridwidth": 2,
            "linecolor": "white",
            "showbackground": true,
            "ticks": "",
            "zerolinecolor": "white"
           }
          },
          "shapedefaults": {
           "line": {
            "color": "#2a3f5f"
           }
          },
          "ternary": {
           "aaxis": {
            "gridcolor": "white",
            "linecolor": "white",
            "ticks": ""
           },
           "baxis": {
            "gridcolor": "white",
            "linecolor": "white",
            "ticks": ""
           },
           "bgcolor": "#E5ECF6",
           "caxis": {
            "gridcolor": "white",
            "linecolor": "white",
            "ticks": ""
           }
          },
          "title": {
           "x": 0.05
          },
          "xaxis": {
           "automargin": true,
           "gridcolor": "white",
           "linecolor": "white",
           "ticks": "",
           "title": {
            "standoff": 15
           },
           "zerolinecolor": "white",
           "zerolinewidth": 2
          },
          "yaxis": {
           "automargin": true,
           "gridcolor": "white",
           "linecolor": "white",
           "ticks": "",
           "title": {
            "standoff": 15
           },
           "zerolinecolor": "white",
           "zerolinewidth": 2
          }
         }
        },
        "title": {
         "text": "papas"
        }
       }
      }
     },
     "metadata": {},
     "output_type": "display_data"
    }
   ],
   "source": [
    "trace1 = {\"type\": \"scatter\",\n",
    "          \"mode\": \"lines+markers\",\n",
    "          \"y\": df_cal_cat_month.loc[\"Furniture\", \"Sales\"],\n",
    "          \"x\": df_cal_cat_month.loc[\"Furniture\", \"Order Date\"],\n",
    "          \"name\": \"Furniture\"}\n",
    "\n",
    "trace2 = {\"type\": \"scatter\",\n",
    "          \"mode\": \"lines+markers\",\n",
    "          \"y\": df_cal_cat_month.loc[\"Office Supplies\", \"Sales\"],\n",
    "          \"x\": df_cal_cat_month.loc[\"Office Supplies\", \"Order Date\"],\n",
    "          \"name\": \"Office Supplies\"}\n",
    "\n",
    "trace3 = {\"type\": \"scatter\",\n",
    "          \"mode\": \"lines+markers\",\n",
    "          \"y\": df_cal_cat_month.loc[\"Technology\", \"Sales\"],\n",
    "          \"x\": df_cal_cat_month.loc[\"Technology\", \"Order Date\"],\n",
    "          \"name\": \"Technology\"}\n",
    "\n",
    "layout = go.Layout(barmode=\"stack\", title=\"papas\")\n",
    "\n",
    "fig = go.Figure(data=[trace1, trace2, trace3], layout=layout)\n",
    "fig"
   ]
  }
 ],
 "metadata": {
  "colab": {
   "name": "widgets_plotly_superstore_enunciado.ipynb",
   "provenance": []
  },
  "kernelspec": {
   "display_name": "Python 3.7.9 64-bit",
   "language": "python",
   "name": "python3"
  },
  "language_info": {
   "codemirror_mode": {
    "name": "ipython",
    "version": 3
   },
   "file_extension": ".py",
   "mimetype": "text/x-python",
   "name": "python",
   "nbconvert_exporter": "python",
   "pygments_lexer": "ipython3",
   "version": "3.10.8"
  },
  "vscode": {
   "interpreter": {
    "hash": "ec2a379ed5c25334a484232182c9d38ef8bd9861e2542d0c517568c4f99a9a7c"
   }
  }
 },
 "nbformat": 4,
 "nbformat_minor": 4
}
