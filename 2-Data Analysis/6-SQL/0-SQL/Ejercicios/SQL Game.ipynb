{
 "cells": [
  {
   "attachments": {},
   "cell_type": "markdown",
   "metadata": {},
   "source": [
    "![imagen](img/sql_murder.png)\n",
    "\n",
    "# Ejercicio SQL Murder\n",
    "Para este ejercicio vas a ponerte la gabardina y el sombrero ya que tendrás que investigar un asesinato en *SQL City*. \n",
    "\n",
    "Aplicarás los conecptos básicos de SQL y aprenderás a manejarte con un modelo de datos, mientras resuelves un caso de asesinato :)\n",
    "\n",
    "Este espectacular juego está creado por **Joon Park y Cathy He**, y podrás encontrar todos los detalles en [su web](http://mystery.knightlab.com)\n",
    "\n",
    "Para realizar el ejercicio tienes dos opciones, o bien desde la propia web, donde encontrarás un intérprete de sentencias SQL interactivo. Si usas esta opción te recomiendo que vayas apuntando las queries y sus outputs. O la otra opción es [acudir a su GitHub](https://github.com/NUKnightLab/sql-mysteries), descargarte la base de datos y realizar las queries desde Jupyter. Probablemente la primera opción te sea más cómoda\n",
    "\n",
    "\n",
    "### Enunciado\n",
    "A crime has taken place and the detective needs your help. The detective gave you the crime scene report, but you somehow lost it. You vaguely remember that the crime was a **murder** that occurred sometime on **Jan.15, 2018** and that it took place in **SQL City**. Start by retrieving the corresponding crime scene report from the police department’s database.\n",
    "\n",
    "\n",
    "### Modelo de datos\n",
    "![imagen](./img/sql_game_schemma.png)\n",
    "\n",
    "¡Suerte Sherlock!"
   ]
  },
  {
   "cell_type": "markdown",
   "metadata": {},
   "source": []
  }
 ],
 "metadata": {
  "kernelspec": {
   "display_name": "Python 3",
   "language": "python",
   "name": "python3"
  },
  "language_info": {
   "codemirror_mode": {
    "name": "ipython",
    "version": 3
   },
   "file_extension": ".py",
   "mimetype": "text/x-python",
   "name": "python",
   "nbconvert_exporter": "python",
   "pygments_lexer": "ipython3",
   "version": "3.8.3"
  }
 },
 "nbformat": 4,
 "nbformat_minor": 4
}
