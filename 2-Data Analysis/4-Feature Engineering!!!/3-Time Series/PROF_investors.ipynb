{
 "cells": [
  {
   "cell_type": "markdown",
   "metadata": {
    "id": "Lc7athr5Nh9L"
   },
   "source": [
    "# Investor - Flow of Funds - US"
   ]
  },
  {
   "cell_type": "markdown",
   "metadata": {
    "id": "ZNbRgpVONh9M"
   },
   "source": [
    "### Introduction:\n",
    "\n",
    "Special thanks to: https://github.com/rgrp for sharing the dataset.\n",
    "\n",
    "### Step 1. Import the necessary libraries"
   ]
  },
  {
   "cell_type": "code",
   "execution_count": 10,
   "metadata": {
    "id": "4VChPM19Nh9N"
   },
   "outputs": [],
   "source": [
    "import pandas as pd\n",
    "import numpy as np\n",
    "\n",
    "# visualization\n",
    "import matplotlib.pyplot as plt\n",
    "\n",
    "%matplotlib inline"
   ]
  },
  {
   "cell_type": "markdown",
   "metadata": {
    "id": "nFZZliu8Nh9R"
   },
   "source": [
    "### Step 2. Import the dataset from this [address](https://raw.githubusercontent.com/datasets/investor-flow-of-funds-us/master/data/weekly.csv). "
   ]
  },
  {
   "cell_type": "markdown",
   "metadata": {
    "id": "KLBzLsKYNh9S"
   },
   "source": [
    "### Step 3. Assign it to a variable called df"
   ]
  },
  {
   "cell_type": "code",
   "execution_count": 11,
   "metadata": {
    "id": "-1djSCgBNh9T",
    "outputId": "b43916b6-164f-44bc-c187-3820d0ed7094"
   },
   "outputs": [
    {
     "data": {
      "text/html": [
       "<div>\n",
       "<style scoped>\n",
       "    .dataframe tbody tr th:only-of-type {\n",
       "        vertical-align: middle;\n",
       "    }\n",
       "\n",
       "    .dataframe tbody tr th {\n",
       "        vertical-align: top;\n",
       "    }\n",
       "\n",
       "    .dataframe thead th {\n",
       "        text-align: right;\n",
       "    }\n",
       "</style>\n",
       "<table border=\"1\" class=\"dataframe\">\n",
       "  <thead>\n",
       "    <tr style=\"text-align: right;\">\n",
       "      <th></th>\n",
       "      <th>Date</th>\n",
       "      <th>Total Equity</th>\n",
       "      <th>Domestic Equity</th>\n",
       "      <th>World Equity</th>\n",
       "      <th>Hybrid</th>\n",
       "      <th>Total Bond</th>\n",
       "      <th>Taxable Bond</th>\n",
       "      <th>Municipal Bond</th>\n",
       "      <th>Total</th>\n",
       "    </tr>\n",
       "  </thead>\n",
       "  <tbody>\n",
       "    <tr>\n",
       "      <th>0</th>\n",
       "      <td>2012-12-05</td>\n",
       "      <td>-7426</td>\n",
       "      <td>-6060</td>\n",
       "      <td>-1367</td>\n",
       "      <td>-74</td>\n",
       "      <td>5317</td>\n",
       "      <td>4210</td>\n",
       "      <td>1107</td>\n",
       "      <td>-2183</td>\n",
       "    </tr>\n",
       "    <tr>\n",
       "      <th>1</th>\n",
       "      <td>2012-12-12</td>\n",
       "      <td>-8783</td>\n",
       "      <td>-7520</td>\n",
       "      <td>-1263</td>\n",
       "      <td>123</td>\n",
       "      <td>1818</td>\n",
       "      <td>1598</td>\n",
       "      <td>219</td>\n",
       "      <td>-6842</td>\n",
       "    </tr>\n",
       "    <tr>\n",
       "      <th>2</th>\n",
       "      <td>2012-12-19</td>\n",
       "      <td>-5496</td>\n",
       "      <td>-5470</td>\n",
       "      <td>-26</td>\n",
       "      <td>-73</td>\n",
       "      <td>103</td>\n",
       "      <td>3472</td>\n",
       "      <td>-3369</td>\n",
       "      <td>-5466</td>\n",
       "    </tr>\n",
       "    <tr>\n",
       "      <th>3</th>\n",
       "      <td>2012-12-26</td>\n",
       "      <td>-4451</td>\n",
       "      <td>-4076</td>\n",
       "      <td>-375</td>\n",
       "      <td>550</td>\n",
       "      <td>2610</td>\n",
       "      <td>3333</td>\n",
       "      <td>-722</td>\n",
       "      <td>-1291</td>\n",
       "    </tr>\n",
       "    <tr>\n",
       "      <th>4</th>\n",
       "      <td>2013-01-02</td>\n",
       "      <td>-11156</td>\n",
       "      <td>-9622</td>\n",
       "      <td>-1533</td>\n",
       "      <td>-158</td>\n",
       "      <td>2383</td>\n",
       "      <td>2103</td>\n",
       "      <td>280</td>\n",
       "      <td>-8931</td>\n",
       "    </tr>\n",
       "  </tbody>\n",
       "</table>\n",
       "</div>"
      ],
      "text/plain": [
       "         Date  Total Equity  Domestic Equity  World Equity  Hybrid  \\\n",
       "0  2012-12-05         -7426            -6060         -1367     -74   \n",
       "1  2012-12-12         -8783            -7520         -1263     123   \n",
       "2  2012-12-19         -5496            -5470           -26     -73   \n",
       "3  2012-12-26         -4451            -4076          -375     550   \n",
       "4  2013-01-02        -11156            -9622         -1533    -158   \n",
       "\n",
       "   Total Bond  Taxable Bond  Municipal Bond  Total  \n",
       "0        5317          4210            1107  -2183  \n",
       "1        1818          1598             219  -6842  \n",
       "2         103          3472           -3369  -5466  \n",
       "3        2610          3333            -722  -1291  \n",
       "4        2383          2103             280  -8931  "
      ]
     },
     "execution_count": 11,
     "metadata": {},
     "output_type": "execute_result"
    }
   ],
   "source": [
    "url = 'https://raw.githubusercontent.com/datasets/investor-flow-of-funds-us/master/data/weekly.csv'\n",
    "df = pd.read_csv(url)\n",
    "df.head()"
   ]
  },
  {
   "cell_type": "markdown",
   "metadata": {
    "id": "f-2jnOqWNh9X"
   },
   "source": [
    "### Step 4.  What is the frequency of the dataset?"
   ]
  },
  {
   "cell_type": "code",
   "execution_count": 12,
   "metadata": {
    "id": "b9K3wOPINh9Y"
   },
   "outputs": [],
   "source": [
    "# weekly data"
   ]
  },
  {
   "cell_type": "markdown",
   "metadata": {
    "id": "vkWutWn5Nh9b"
   },
   "source": [
    "### Step 5. Set the column Date as the index."
   ]
  },
  {
   "cell_type": "code",
   "execution_count": 13,
   "metadata": {},
   "outputs": [
    {
     "data": {
      "text/html": [
       "<div>\n",
       "<style scoped>\n",
       "    .dataframe tbody tr th:only-of-type {\n",
       "        vertical-align: middle;\n",
       "    }\n",
       "\n",
       "    .dataframe tbody tr th {\n",
       "        vertical-align: top;\n",
       "    }\n",
       "\n",
       "    .dataframe thead th {\n",
       "        text-align: right;\n",
       "    }\n",
       "</style>\n",
       "<table border=\"1\" class=\"dataframe\">\n",
       "  <thead>\n",
       "    <tr style=\"text-align: right;\">\n",
       "      <th></th>\n",
       "      <th>Total Equity</th>\n",
       "      <th>Domestic Equity</th>\n",
       "      <th>World Equity</th>\n",
       "      <th>Hybrid</th>\n",
       "      <th>Total Bond</th>\n",
       "      <th>Taxable Bond</th>\n",
       "      <th>Municipal Bond</th>\n",
       "      <th>Total</th>\n",
       "    </tr>\n",
       "    <tr>\n",
       "      <th>Date</th>\n",
       "      <th></th>\n",
       "      <th></th>\n",
       "      <th></th>\n",
       "      <th></th>\n",
       "      <th></th>\n",
       "      <th></th>\n",
       "      <th></th>\n",
       "      <th></th>\n",
       "    </tr>\n",
       "  </thead>\n",
       "  <tbody>\n",
       "    <tr>\n",
       "      <th>2012-12-05</th>\n",
       "      <td>-7426</td>\n",
       "      <td>-6060</td>\n",
       "      <td>-1367</td>\n",
       "      <td>-74</td>\n",
       "      <td>5317</td>\n",
       "      <td>4210</td>\n",
       "      <td>1107</td>\n",
       "      <td>-2183</td>\n",
       "    </tr>\n",
       "    <tr>\n",
       "      <th>2012-12-12</th>\n",
       "      <td>-8783</td>\n",
       "      <td>-7520</td>\n",
       "      <td>-1263</td>\n",
       "      <td>123</td>\n",
       "      <td>1818</td>\n",
       "      <td>1598</td>\n",
       "      <td>219</td>\n",
       "      <td>-6842</td>\n",
       "    </tr>\n",
       "    <tr>\n",
       "      <th>2012-12-19</th>\n",
       "      <td>-5496</td>\n",
       "      <td>-5470</td>\n",
       "      <td>-26</td>\n",
       "      <td>-73</td>\n",
       "      <td>103</td>\n",
       "      <td>3472</td>\n",
       "      <td>-3369</td>\n",
       "      <td>-5466</td>\n",
       "    </tr>\n",
       "    <tr>\n",
       "      <th>2012-12-26</th>\n",
       "      <td>-4451</td>\n",
       "      <td>-4076</td>\n",
       "      <td>-375</td>\n",
       "      <td>550</td>\n",
       "      <td>2610</td>\n",
       "      <td>3333</td>\n",
       "      <td>-722</td>\n",
       "      <td>-1291</td>\n",
       "    </tr>\n",
       "    <tr>\n",
       "      <th>2013-01-02</th>\n",
       "      <td>-11156</td>\n",
       "      <td>-9622</td>\n",
       "      <td>-1533</td>\n",
       "      <td>-158</td>\n",
       "      <td>2383</td>\n",
       "      <td>2103</td>\n",
       "      <td>280</td>\n",
       "      <td>-8931</td>\n",
       "    </tr>\n",
       "  </tbody>\n",
       "</table>\n",
       "</div>"
      ],
      "text/plain": [
       "            Total Equity  Domestic Equity  World Equity  Hybrid  Total Bond  \\\n",
       "Date                                                                          \n",
       "2012-12-05         -7426            -6060         -1367     -74        5317   \n",
       "2012-12-12         -8783            -7520         -1263     123        1818   \n",
       "2012-12-19         -5496            -5470           -26     -73         103   \n",
       "2012-12-26         -4451            -4076          -375     550        2610   \n",
       "2013-01-02        -11156            -9622         -1533    -158        2383   \n",
       "\n",
       "            Taxable Bond  Municipal Bond  Total  \n",
       "Date                                             \n",
       "2012-12-05          4210            1107  -2183  \n",
       "2012-12-12          1598             219  -6842  \n",
       "2012-12-19          3472           -3369  -5466  \n",
       "2012-12-26          3333            -722  -1291  \n",
       "2013-01-02          2103             280  -8931  "
      ]
     },
     "execution_count": 13,
     "metadata": {},
     "output_type": "execute_result"
    }
   ],
   "source": [
    "\n",
    "df.set_index('Date', inplace=True)\n",
    "df.head()"
   ]
  },
  {
   "cell_type": "markdown",
   "metadata": {
    "id": "1TMBPzCQNh9f"
   },
   "source": [
    "### Step 6. What is the type of the index?"
   ]
  },
  {
   "cell_type": "code",
   "execution_count": 14,
   "metadata": {
    "id": "0ZRG6OeaNh9f",
    "outputId": "1543a6cd-cb88-4abc-acae-8111eab61f41"
   },
   "outputs": [
    {
     "data": {
      "text/plain": [
       "Index(['2012-12-05', '2012-12-12', '2012-12-19', '2012-12-26', '2013-01-02',\n",
       "       '2013-01-09', '2014-04-02', '2014-04-09', '2014-04-16', '2014-04-23',\n",
       "       '2014-04-30', '2014-05-07', '2014-05-14', '2014-05-21', '2014-05-28',\n",
       "       '2014-06-04', '2014-06-11', '2014-06-18', '2014-06-25', '2014-07-02',\n",
       "       '2014-07-09', '2014-07-30', '2014-08-06', '2014-08-13', '2014-08-20',\n",
       "       '2014-08-27', '2014-09-03', '2014-09-10', '2014-11-05', '2014-11-12',\n",
       "       '2014-11-19', '2014-11-25', '2015-01-07', '2015-01-14', '2015-01-21',\n",
       "       '2015-01-28', '2015-02-04', '2015-02-11', '2015-03-04', '2015-03-11',\n",
       "       '2015-03-18', '2015-03-25', '2015-04-01', '2015-04-08'],\n",
       "      dtype='object', name='Date')"
      ]
     },
     "execution_count": 14,
     "metadata": {},
     "output_type": "execute_result"
    }
   ],
   "source": [
    "# it is a 'object' type\n",
    "df.index"
   ]
  },
  {
   "cell_type": "markdown",
   "metadata": {
    "id": "3DEVNdKCNh9i"
   },
   "source": [
    "### Step 7. Set the index to a DatetimeIndex type"
   ]
  },
  {
   "cell_type": "code",
   "execution_count": 15,
   "metadata": {
    "id": "J6DgO75KNh9j",
    "outputId": "c30202ba-b9ef-4cc9-996e-8ee1f853fa40"
   },
   "outputs": [
    {
     "data": {
      "text/plain": [
       "DatetimeIndex(['2012-12-05', '2012-12-12', '2012-12-19', '2012-12-26',\n",
       "               '2013-01-02', '2013-01-09', '2014-04-02', '2014-04-09',\n",
       "               '2014-04-16', '2014-04-23', '2014-04-30', '2014-05-07',\n",
       "               '2014-05-14', '2014-05-21', '2014-05-28', '2014-06-04',\n",
       "               '2014-06-11', '2014-06-18', '2014-06-25', '2014-07-02',\n",
       "               '2014-07-09', '2014-07-30', '2014-08-06', '2014-08-13',\n",
       "               '2014-08-20', '2014-08-27', '2014-09-03', '2014-09-10',\n",
       "               '2014-11-05', '2014-11-12', '2014-11-19', '2014-11-25',\n",
       "               '2015-01-07', '2015-01-14', '2015-01-21', '2015-01-28',\n",
       "               '2015-02-04', '2015-02-11', '2015-03-04', '2015-03-11',\n",
       "               '2015-03-18', '2015-03-25', '2015-04-01', '2015-04-08'],\n",
       "              dtype='datetime64[ns]', name='Date', freq=None)"
      ]
     },
     "execution_count": 15,
     "metadata": {},
     "output_type": "execute_result"
    }
   ],
   "source": [
    "df.index = pd.to_datetime(df.index)\n",
    "df.index"
   ]
  },
  {
   "cell_type": "markdown",
   "metadata": {
    "id": "Qr5rkEOgNh9n"
   },
   "source": [
    "### Step 8.  Change the frequency to monthly, sum the values and assign it to monthly."
   ]
  },
  {
   "cell_type": "code",
   "execution_count": 17,
   "metadata": {
    "id": "zIjFbFArNh9n",
    "outputId": "44b2d6bb-b7f7-448a-9f14-5bb648061b2a"
   },
   "outputs": [
    {
     "data": {
      "text/html": [
       "<div>\n",
       "<style scoped>\n",
       "    .dataframe tbody tr th:only-of-type {\n",
       "        vertical-align: middle;\n",
       "    }\n",
       "\n",
       "    .dataframe tbody tr th {\n",
       "        vertical-align: top;\n",
       "    }\n",
       "\n",
       "    .dataframe thead th {\n",
       "        text-align: right;\n",
       "    }\n",
       "</style>\n",
       "<table border=\"1\" class=\"dataframe\">\n",
       "  <thead>\n",
       "    <tr style=\"text-align: right;\">\n",
       "      <th></th>\n",
       "      <th>Total Equity</th>\n",
       "      <th>Domestic Equity</th>\n",
       "      <th>World Equity</th>\n",
       "      <th>Hybrid</th>\n",
       "      <th>Total Bond</th>\n",
       "      <th>Taxable Bond</th>\n",
       "      <th>Municipal Bond</th>\n",
       "      <th>Total</th>\n",
       "    </tr>\n",
       "    <tr>\n",
       "      <th>Date</th>\n",
       "      <th></th>\n",
       "      <th></th>\n",
       "      <th></th>\n",
       "      <th></th>\n",
       "      <th></th>\n",
       "      <th></th>\n",
       "      <th></th>\n",
       "      <th></th>\n",
       "    </tr>\n",
       "  </thead>\n",
       "  <tbody>\n",
       "    <tr>\n",
       "      <th>2012-12-31</th>\n",
       "      <td>-26156</td>\n",
       "      <td>-23126</td>\n",
       "      <td>-3031</td>\n",
       "      <td>526</td>\n",
       "      <td>9848</td>\n",
       "      <td>12613</td>\n",
       "      <td>-2765</td>\n",
       "      <td>-15782</td>\n",
       "    </tr>\n",
       "    <tr>\n",
       "      <th>2013-01-31</th>\n",
       "      <td>3661</td>\n",
       "      <td>-1627</td>\n",
       "      <td>5288</td>\n",
       "      <td>2730</td>\n",
       "      <td>12149</td>\n",
       "      <td>9414</td>\n",
       "      <td>2735</td>\n",
       "      <td>18540</td>\n",
       "    </tr>\n",
       "    <tr>\n",
       "      <th>2013-02-28</th>\n",
       "      <td>0</td>\n",
       "      <td>0</td>\n",
       "      <td>0</td>\n",
       "      <td>0</td>\n",
       "      <td>0</td>\n",
       "      <td>0</td>\n",
       "      <td>0</td>\n",
       "      <td>0</td>\n",
       "    </tr>\n",
       "    <tr>\n",
       "      <th>2013-03-31</th>\n",
       "      <td>0</td>\n",
       "      <td>0</td>\n",
       "      <td>0</td>\n",
       "      <td>0</td>\n",
       "      <td>0</td>\n",
       "      <td>0</td>\n",
       "      <td>0</td>\n",
       "      <td>0</td>\n",
       "    </tr>\n",
       "    <tr>\n",
       "      <th>2013-04-30</th>\n",
       "      <td>0</td>\n",
       "      <td>0</td>\n",
       "      <td>0</td>\n",
       "      <td>0</td>\n",
       "      <td>0</td>\n",
       "      <td>0</td>\n",
       "      <td>0</td>\n",
       "      <td>0</td>\n",
       "    </tr>\n",
       "  </tbody>\n",
       "</table>\n",
       "</div>"
      ],
      "text/plain": [
       "            Total Equity  Domestic Equity  World Equity  Hybrid  Total Bond  \\\n",
       "Date                                                                          \n",
       "2012-12-31        -26156           -23126         -3031     526        9848   \n",
       "2013-01-31          3661            -1627          5288    2730       12149   \n",
       "2013-02-28             0                0             0       0           0   \n",
       "2013-03-31             0                0             0       0           0   \n",
       "2013-04-30             0                0             0       0           0   \n",
       "\n",
       "            Taxable Bond  Municipal Bond  Total  \n",
       "Date                                             \n",
       "2012-12-31         12613           -2765 -15782  \n",
       "2013-01-31          9414            2735  18540  \n",
       "2013-02-28             0               0      0  \n",
       "2013-03-31             0               0      0  \n",
       "2013-04-30             0               0      0  "
      ]
     },
     "execution_count": 17,
     "metadata": {},
     "output_type": "execute_result"
    }
   ],
   "source": [
    "df_month = df.resample('M').sum()\n",
    "df_month.head()"
   ]
  },
  {
   "cell_type": "markdown",
   "metadata": {
    "id": "vDWqRFg5Nh9q"
   },
   "source": [
    "### Step 9. You will notice that it filled the dataFrame with months that don't have any data with zeros. Let's drop these rows."
   ]
  },
  {
   "cell_type": "code",
   "execution_count": 22,
   "metadata": {
    "id": "3rcsQmxVNh9r",
    "outputId": "97ee033d-b987-4cb6-de86-f90345855596"
   },
   "outputs": [
    {
     "data": {
      "text/html": [
       "<div>\n",
       "<style scoped>\n",
       "    .dataframe tbody tr th:only-of-type {\n",
       "        vertical-align: middle;\n",
       "    }\n",
       "\n",
       "    .dataframe tbody tr th {\n",
       "        vertical-align: top;\n",
       "    }\n",
       "\n",
       "    .dataframe thead th {\n",
       "        text-align: right;\n",
       "    }\n",
       "</style>\n",
       "<table border=\"1\" class=\"dataframe\">\n",
       "  <thead>\n",
       "    <tr style=\"text-align: right;\">\n",
       "      <th></th>\n",
       "      <th>Total Equity</th>\n",
       "      <th>Domestic Equity</th>\n",
       "      <th>World Equity</th>\n",
       "      <th>Hybrid</th>\n",
       "      <th>Total Bond</th>\n",
       "      <th>Taxable Bond</th>\n",
       "      <th>Municipal Bond</th>\n",
       "      <th>Total</th>\n",
       "    </tr>\n",
       "    <tr>\n",
       "      <th>Date</th>\n",
       "      <th></th>\n",
       "      <th></th>\n",
       "      <th></th>\n",
       "      <th></th>\n",
       "      <th></th>\n",
       "      <th></th>\n",
       "      <th></th>\n",
       "      <th></th>\n",
       "    </tr>\n",
       "  </thead>\n",
       "  <tbody>\n",
       "    <tr>\n",
       "      <th>2012-12-31</th>\n",
       "      <td>-26156</td>\n",
       "      <td>-23126</td>\n",
       "      <td>-3031</td>\n",
       "      <td>526</td>\n",
       "      <td>9848</td>\n",
       "      <td>12613</td>\n",
       "      <td>-2765</td>\n",
       "      <td>-15782</td>\n",
       "    </tr>\n",
       "    <tr>\n",
       "      <th>2013-01-31</th>\n",
       "      <td>3661</td>\n",
       "      <td>-1627</td>\n",
       "      <td>5288</td>\n",
       "      <td>2730</td>\n",
       "      <td>12149</td>\n",
       "      <td>9414</td>\n",
       "      <td>2735</td>\n",
       "      <td>18540</td>\n",
       "    </tr>\n",
       "    <tr>\n",
       "      <th>2014-04-30</th>\n",
       "      <td>10842</td>\n",
       "      <td>1048</td>\n",
       "      <td>9794</td>\n",
       "      <td>4931</td>\n",
       "      <td>8493</td>\n",
       "      <td>7193</td>\n",
       "      <td>1300</td>\n",
       "      <td>24267</td>\n",
       "    </tr>\n",
       "    <tr>\n",
       "      <th>2014-05-31</th>\n",
       "      <td>-2203</td>\n",
       "      <td>-8720</td>\n",
       "      <td>6518</td>\n",
       "      <td>3172</td>\n",
       "      <td>13767</td>\n",
       "      <td>10192</td>\n",
       "      <td>3576</td>\n",
       "      <td>14736</td>\n",
       "    </tr>\n",
       "    <tr>\n",
       "      <th>2014-06-30</th>\n",
       "      <td>2319</td>\n",
       "      <td>-6546</td>\n",
       "      <td>8865</td>\n",
       "      <td>4588</td>\n",
       "      <td>9715</td>\n",
       "      <td>7551</td>\n",
       "      <td>2163</td>\n",
       "      <td>16621</td>\n",
       "    </tr>\n",
       "  </tbody>\n",
       "</table>\n",
       "</div>"
      ],
      "text/plain": [
       "            Total Equity  Domestic Equity  World Equity  Hybrid  Total Bond  \\\n",
       "Date                                                                          \n",
       "2012-12-31        -26156           -23126         -3031     526        9848   \n",
       "2013-01-31          3661            -1627          5288    2730       12149   \n",
       "2014-04-30         10842             1048          9794    4931        8493   \n",
       "2014-05-31         -2203            -8720          6518    3172       13767   \n",
       "2014-06-30          2319            -6546          8865    4588        9715   \n",
       "\n",
       "            Taxable Bond  Municipal Bond  Total  \n",
       "Date                                             \n",
       "2012-12-31         12613           -2765 -15782  \n",
       "2013-01-31          9414            2735  18540  \n",
       "2014-04-30          7193            1300  24267  \n",
       "2014-05-31         10192            3576  14736  \n",
       "2014-06-30          7551            2163  16621  "
      ]
     },
     "execution_count": 22,
     "metadata": {},
     "output_type": "execute_result"
    }
   ],
   "source": [
    "df_month = df_month.loc[~(df_month==0).all(axis=1)]\n",
    "df_month.head()"
   ]
  },
  {
   "cell_type": "markdown",
   "metadata": {
    "id": "J9sItS6qNh9u"
   },
   "source": [
    "### Step 10. Good, now we have the monthly data. Now change the frequency to year."
   ]
  },
  {
   "cell_type": "code",
   "execution_count": 23,
   "metadata": {
    "id": "KliiNQjNNh9u",
    "outputId": "49cd9c48-3ca9-4ba1-94d5-89dd4ad25391"
   },
   "outputs": [
    {
     "data": {
      "text/html": [
       "<div>\n",
       "<style scoped>\n",
       "    .dataframe tbody tr th:only-of-type {\n",
       "        vertical-align: middle;\n",
       "    }\n",
       "\n",
       "    .dataframe tbody tr th {\n",
       "        vertical-align: top;\n",
       "    }\n",
       "\n",
       "    .dataframe thead th {\n",
       "        text-align: right;\n",
       "    }\n",
       "</style>\n",
       "<table border=\"1\" class=\"dataframe\">\n",
       "  <thead>\n",
       "    <tr style=\"text-align: right;\">\n",
       "      <th></th>\n",
       "      <th>Total Equity</th>\n",
       "      <th>Domestic Equity</th>\n",
       "      <th>World Equity</th>\n",
       "      <th>Hybrid</th>\n",
       "      <th>Total Bond</th>\n",
       "      <th>Taxable Bond</th>\n",
       "      <th>Municipal Bond</th>\n",
       "      <th>Total</th>\n",
       "    </tr>\n",
       "    <tr>\n",
       "      <th>Date</th>\n",
       "      <th></th>\n",
       "      <th></th>\n",
       "      <th></th>\n",
       "      <th></th>\n",
       "      <th></th>\n",
       "      <th></th>\n",
       "      <th></th>\n",
       "      <th></th>\n",
       "    </tr>\n",
       "  </thead>\n",
       "  <tbody>\n",
       "    <tr>\n",
       "      <th>2012-12-31</th>\n",
       "      <td>-26156</td>\n",
       "      <td>-23126</td>\n",
       "      <td>-3031</td>\n",
       "      <td>526</td>\n",
       "      <td>9848</td>\n",
       "      <td>12613</td>\n",
       "      <td>-2765</td>\n",
       "      <td>-15782</td>\n",
       "    </tr>\n",
       "    <tr>\n",
       "      <th>2013-12-31</th>\n",
       "      <td>3661</td>\n",
       "      <td>-1627</td>\n",
       "      <td>5288</td>\n",
       "      <td>2730</td>\n",
       "      <td>12149</td>\n",
       "      <td>9414</td>\n",
       "      <td>2735</td>\n",
       "      <td>18540</td>\n",
       "    </tr>\n",
       "    <tr>\n",
       "      <th>2014-12-31</th>\n",
       "      <td>330</td>\n",
       "      <td>-44689</td>\n",
       "      <td>45021</td>\n",
       "      <td>19570</td>\n",
       "      <td>59890</td>\n",
       "      <td>44994</td>\n",
       "      <td>14896</td>\n",
       "      <td>79787</td>\n",
       "    </tr>\n",
       "    <tr>\n",
       "      <th>2015-12-31</th>\n",
       "      <td>15049</td>\n",
       "      <td>-10459</td>\n",
       "      <td>25508</td>\n",
       "      <td>7280</td>\n",
       "      <td>26028</td>\n",
       "      <td>17986</td>\n",
       "      <td>8041</td>\n",
       "      <td>48357</td>\n",
       "    </tr>\n",
       "  </tbody>\n",
       "</table>\n",
       "</div>"
      ],
      "text/plain": [
       "            Total Equity  Domestic Equity  World Equity  Hybrid  Total Bond  \\\n",
       "Date                                                                          \n",
       "2012-12-31        -26156           -23126         -3031     526        9848   \n",
       "2013-12-31          3661            -1627          5288    2730       12149   \n",
       "2014-12-31           330           -44689         45021   19570       59890   \n",
       "2015-12-31         15049           -10459         25508    7280       26028   \n",
       "\n",
       "            Taxable Bond  Municipal Bond  Total  \n",
       "Date                                             \n",
       "2012-12-31         12613           -2765 -15782  \n",
       "2013-12-31          9414            2735  18540  \n",
       "2014-12-31         44994           14896  79787  \n",
       "2015-12-31         17986            8041  48357  "
      ]
     },
     "execution_count": 23,
     "metadata": {},
     "output_type": "execute_result"
    }
   ],
   "source": [
    "df_year = df_month.resample('Y').sum()\n",
    "df_year.head()"
   ]
  },
  {
   "cell_type": "markdown",
   "metadata": {
    "id": "sQebyJkSNh9x"
   },
   "source": [
    "### BONUS: Create your own question and answer it."
   ]
  },
  {
   "cell_type": "code",
   "execution_count": null,
   "metadata": {
    "id": "YTGdiv48Nh9y"
   },
   "outputs": [],
   "source": []
  }
 ],
 "metadata": {
  "colab": {
   "name": "Solutions_investors.ipynb",
   "provenance": []
  },
  "kernelspec": {
   "display_name": "Python 3",
   "language": "python",
   "name": "python3"
  },
  "language_info": {
   "codemirror_mode": {
    "name": "ipython",
    "version": 3
   },
   "file_extension": ".py",
   "mimetype": "text/x-python",
   "name": "python",
   "nbconvert_exporter": "python",
   "pygments_lexer": "ipython3",
   "version": "3.8.3"
  }
 },
 "nbformat": 4,
 "nbformat_minor": 4
}
