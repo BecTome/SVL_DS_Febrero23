{
 "cells": [
  {
   "cell_type": "markdown",
   "metadata": {},
   "source": [
    "# Ejercicios Regex 2"
   ]
  },
  {
   "cell_type": "markdown",
   "metadata": {},
   "source": [
    "<img src=\"./img/sopa.jpg\" width=700 height=300>"
   ]
  },
  {
   "cell_type": "code",
   "execution_count": 1,
   "metadata": {},
   "outputs": [],
   "source": [
    "import re"
   ]
  },
  {
   "cell_type": "markdown",
   "metadata": {},
   "source": [
    "# Ejercicio 1: Extrae los emails"
   ]
  },
  {
   "cell_type": "markdown",
   "metadata": {},
   "source": [
    "El output tiene que ser de la forma\n",
    "\n",
    "```\n",
    "email1;email2;email3;...\n",
    "```"
   ]
  },
  {
   "cell_type": "code",
   "execution_count": 3,
   "metadata": {},
   "outputs": [],
   "source": [
    "text = '''\n",
    "19\n",
    "HackerRank is more than just a company\n",
    "    We are a tight group of hackers, bootstrappers, entrepreneurial thinkers and innovators. We are building an engaged community of problem solvers. Imagine the intelligence and value that a room would hold if it contained hackers/problem solvers from around the world? We're building this online.\n",
    "Hypothesis: Every hacker loves a particular type of challenge presented in a certain set of difficulty. If we build a large collection of real world challenges in different domains with an engaging interface, it is going to be incredible! Join us to create history.\n",
    "Available Positions\n",
    "Product Hacker product@hackerrank.com\n",
    "Challenge Curator\n",
    "Product Evangelist\n",
    "Product Designer\n",
    "Content Creator\n",
    "ACM World Finals Hacker\n",
    "Backend C++ Hacker\n",
    "Mail us at hackers@hackerrank.com to chat more. Or you can write to us at interviewstreet@hackerrank.com!\n",
    "HACKERRANK PERKS\n",
    "Working for a startup is hard work, but there are plenty of benefits of working for a small, fun, growing team.\n",
    "[Image] Perk: Get tools for the jobAll the Right ToolsWe know that everyone's perfect workspace is unique to them. We will get you set up with whatever equipment you need to start hacking - a new 15” Macbook Pro or iMac, or a computer of your choice plus a display if you need it. Additionally, if you require any software or other tools, we've got it covered.[Image] Perk: Flexible HoursFlexible HoursBecause we work so hard, we encourage our employees to keep flexible hours and don't require them to track their time. A morning scrum and open communication ensures that the job gets done on time, and we rely on the honor system so that you can work on your own pace.[Image] Perk: HealthcareWellness SupportTo work hard, you have to be healthy. We will cover your health, dental, and visual insurance with no wait period. That means instant benefits from the day you're hired.[Image] Perk: Choice of LocationLocation, Location, LocationWe are the first Indian company to be backed by Y-Combinator, and as a result we have a thriving office in Bangalore and a growing office in Mountain View, CA. Depending on your residency or visa status, we will get you situated in one of our two offices, both of which are located in the heart of their country's tech industry.[Image] Perk: Choice of LocationCreative SupportIf you have a cool side project that you want to launch, we will pay for EC2/heroku servers to get it off the ground. Side projects fuel creativity and learning, which are crucial to the HackerRank culture.\n",
    "CULTURE\n",
    "The culture of a startup is reflective of the founders' DNA. Larry Page & Sergey Brin were PhD's from Stanford and that's why Google is filled with high scoring graders from top schools and is very hard to get in if you're not a CS major. Similarly, the hacker culture at Facebook is inspired by Zuckerberg, a hacker, the design culture by Steve Jobs and so on.\n",
    "The adjective to describe the environment/founders here is relentless hardworkers. It might be a general trait of a startup but I'm pretty sure it's a notch higher here and defines the culture. This is what has taken us this far. It's not working in weekends or allnighters that count, but the effort that goes into building something intellectually engaging for hackers and making it fun is high.\n",
    "You'll have to embrace randomness and chaos. There's some level of discipline (eg: daily scrums) but only so much. We push boundaries everyday, stretch our limits but no one complains because there's a feeling of doing something great at the end of the day, every single day.\n",
    "'''"
   ]
  },
  {
   "cell_type": "code",
   "execution_count": 5,
   "metadata": {},
   "outputs": [
    {
     "data": {
      "text/plain": [
       "['product@hackerrank.com',\n",
       " 'hackers@hackerrank.com',\n",
       " 'interviewstreet@hackerrank.com']"
      ]
     },
     "execution_count": 5,
     "metadata": {},
     "output_type": "execute_result"
    }
   ],
   "source": [
    "ls_emails = re.findall('[\\w\\.]+@[\\w\\.]+', text)\n",
    "ls_emails"
   ]
  },
  {
   "cell_type": "code",
   "execution_count": 6,
   "metadata": {},
   "outputs": [
    {
     "data": {
      "text/plain": [
       "'product@hackerrank.com;hackers@hackerrank.com;interviewstreet@hackerrank.com'"
      ]
     },
     "execution_count": 6,
     "metadata": {},
     "output_type": "execute_result"
    }
   ],
   "source": [
    "';'.join(ls_emails)"
   ]
  },
  {
   "cell_type": "markdown",
   "metadata": {},
   "source": [
    "# Ejercicio 2"
   ]
  },
  {
   "cell_type": "markdown",
   "metadata": {},
   "source": [
    "El profesor le ha asignado a Charlie la tarea de eliminar los enlaces y el nombre del texto de las páginas html.\n",
    "Un enlace html tiene la forma,\n",
    "\n",
    "```\n",
    "<a href=\"http://www.hackerrank.com\">HackerRank</a>\n",
    "```\n",
    "\n",
    "Donde `a` es la etiqueta y `href` es un atributo que contiene el enlace que le interesa a Charlie. El nombre del texto es `HackerRank`.\n",
    "\n",
    "Charlie se da cuenta de que el nombre del texto a veces se puede ocultar dentro de varias etiquetas.\n",
    "\n",
    "```\n",
    "<a href=\"http://www.hackerrank.com\"><h1><b>HackerRank</b></h1></a>\n",
    "```\n",
    "\n",
    "Aquí, el nombre del texto está oculto dentro de las etiquetas `h1` y `b`.\n",
    "\n",
    "Ayuda a Charlie a enumerar todos los enlaces y el nombre de texto de los enlaces.\n",
    "\n",
    "**IMPORTANTE**: El output debe ser del tipo \n",
    "\n",
    "```\n",
    "web1,Nombre1\n",
    "web2,Nombre2\n",
    "web3,Nombre3\n",
    "```"
   ]
  },
  {
   "cell_type": "code",
   "execution_count": 9,
   "metadata": {},
   "outputs": [],
   "source": [
    "# Primer texto\n",
    "\n",
    "txt1 = '''\n",
    "<p><a href=\"http://www.quackit.com/html/tutorial/html_links.cfm\">Example Link</a></p>\n",
    "<div class=\"more-info\"><a href=\"http://www.quackit.com/html/examples/html_links_examples.cfm\">More Link Examples...</a></div>\n",
    "'''"
   ]
  },
  {
   "cell_type": "code",
   "execution_count": 20,
   "metadata": {},
   "outputs": [
    {
     "data": {
      "text/plain": [
       "[('http://www.quackit.com/html/tutorial/html_links.cfm', 'Example Link'),\n",
       " ('http://www.quackit.com/html/examples/html_links_examples.cfm',\n",
       "  'More Link Examples...')]"
      ]
     },
     "execution_count": 20,
     "metadata": {},
     "output_type": "execute_result"
    }
   ],
   "source": [
    "re.findall('<a href=\"(htt.*)\">(.*)</a.*', txt1)"
   ]
  },
  {
   "cell_type": "code",
   "execution_count": 22,
   "metadata": {},
   "outputs": [],
   "source": [
    "# Segundo texto\n",
    "\n",
    "txt2 = '''\n",
    "<div class=\"portal\" role=\"navigation\" id='p-navigation'>\n",
    "<h3>Navigation</h3>\n",
    "<div class=\"body\">\n",
    "<ul>\n",
    " <li id=\"n-mainpage-description\"><a href=\"/wiki/Main_Page\" title=\"Visit the main page [z]\" accesskey=\"z\">Main page</a></li>\n",
    " <li id=\"n-contents\"><a href=\"/wiki/Portal:Contents\" title=\"Guides to browsing Wikipedia\">Contents</a></li>\n",
    " <li id=\"n-featuredcontent\"><a href=\"/wiki/Portal:Featured_content\" title=\"Featured content  the best of Wikipedia\">Featured content</a></li>\n",
    "<li id=\"n-currentevents\"><a href=\"/wiki/Portal:Current_events\" title=\"Find background information on current events\">Current events</a></li>\n",
    "<li id=\"n-randompage\"><a href=\"/wiki/Special:Random\" title=\"Load a random article [x]\" accesskey=\"x\">Random article</a></li>\n",
    "<li id=\"n-sitesupport\"><a href=\"//donate.wikimedia.org/wiki/Special:FundraiserRedirector?utm_source=donate&utm_medium=sidebar&utm_campaign=C13_en.wikipedia.org&uselang=en\" title=\"Support us\">Donate to Wikipedia</a></li>\n",
    "</ul>\n",
    "</div>\n",
    "</div> \n",
    "'''"
   ]
  },
  {
   "cell_type": "code",
   "execution_count": 28,
   "metadata": {},
   "outputs": [
    {
     "data": {
      "text/plain": [
       "[('/wiki/Main_Page', 'Main page'),\n",
       " ('/wiki/Portal:Contents', 'Contents'),\n",
       " ('/wiki/Portal:Featured_content', 'Featured content'),\n",
       " ('/wiki/Portal:Current_events', 'Current events'),\n",
       " ('/wiki/Special:Random', 'Random article'),\n",
       " ('//donate.wikimedia.org/wiki/Special:FundraiserRedirector?utm_source=donate&utm_medium=sidebar&utm_campaign=C13_en.wikipedia.org&uselang=en',\n",
       "  'Donate to Wikipedia')]"
      ]
     },
     "execution_count": 28,
     "metadata": {},
     "output_type": "execute_result"
    }
   ],
   "source": [
    "ls_a_tags = re.findall('href=\\\"([^\\\"]*).*\">(.*)<\\/a', txt2)\n",
    "\n",
    "ls_a_tags"
   ]
  },
  {
   "cell_type": "code",
   "execution_count": 82,
   "metadata": {},
   "outputs": [],
   "source": [
    "txt3 = '''\n",
    "<div class=\"portal\" role=\"navigation\" id='p-navigation'>\n",
    "<h3>Navigation</h3>\n",
    "<div class=\"body\">\n",
    "<ul>\n",
    " <li id=\"n-mainpage-description\"><a href=\"/wiki/Main_Page\" title=\"Visit the main page [z]\" accesskey=\"z\"><br><p>Main page</p></br></a></li>\n",
    " <li id=\"n-contents\"><a href=\"/wiki/Portal:Contents\" title=\"Guides to browsing Wikipedia\"><br><p><h1>Ejemplo con 3 subetiquetas</h1></p></br></a></li>\n",
    " <li id=\"n-featuredcontent\"><a href=\"/wiki/Portal:Featured_content\" title=\"Featured content  the best of Wikipedia\">Featured content</a></li>\n",
    "<li id=\"n-currentevents\"><a href=\"/wiki/Portal:Current_events\" title=\"Find background information on current events\">Current events</a></li>\n",
    "<li id=\"n-randompage\"><a href=\"/wiki/Special:Random\" title=\"Load a random article [x]\" accesskey=\"x\">Random article</a></li>\n",
    "<li id=\"n-sitesupport\"><a href=\"//donate.wikimedia.org/wiki/Special:FundraiserRedirector?utm_source=donate&utm_medium=sidebar&utm_campaign=C13_en.wikipedia.org&uselang=en\" title=\"Support us\">Donate to Wikipedia</a></li>\n",
    "</ul>\n",
    "</div>\n",
    "</div> \n",
    "'''"
   ]
  },
  {
   "cell_type": "code",
   "execution_count": 83,
   "metadata": {},
   "outputs": [
    {
     "data": {
      "text/plain": [
       "[('/wiki/Main_Page', '<br><p>Main page</p></br>'),\n",
       " ('/wiki/Portal:Contents',\n",
       "  '<br><p><h1>Ejemplo con 3 subetiquetas</h1></p></br>'),\n",
       " ('/wiki/Portal:Featured_content', 'Featured content'),\n",
       " ('/wiki/Portal:Current_events', 'Current events'),\n",
       " ('/wiki/Special:Random', 'Random article'),\n",
       " ('//donate.wikimedia.org/wiki/Special:FundraiserRedirector?utm_source=donate&utm_medium=sidebar&utm_campaign=C13_en.wikipedia.org&uselang=en',\n",
       "  'Donate to Wikipedia')]"
      ]
     },
     "execution_count": 83,
     "metadata": {},
     "output_type": "execute_result"
    }
   ],
   "source": [
    "ls_a_tags = re.findall('href=\\\"([^\\\"]*).*\">(.*)<\\/a', txt3)\n",
    "\n",
    "ls_a_tags"
   ]
  },
  {
   "cell_type": "code",
   "execution_count": 84,
   "metadata": {},
   "outputs": [
    {
     "data": {
      "text/plain": [
       "['Ejemplo con 3 subetiquetas']"
      ]
     },
     "execution_count": 84,
     "metadata": {},
     "output_type": "execute_result"
    }
   ],
   "source": [
    "re.findall('>([^<][^<]+)<.*', ls_a_tags[1][1])"
   ]
  },
  {
   "cell_type": "code",
   "execution_count": 85,
   "metadata": {},
   "outputs": [
    {
     "data": {
      "text/plain": [
       "['Main page',\n",
       " 'Ejemplo con 3 subetiquetas',\n",
       " 'Featured content',\n",
       " 'Current events',\n",
       " 'Random article',\n",
       " 'Donate to Wikipedia']"
      ]
     },
     "execution_count": 85,
     "metadata": {},
     "output_type": "execute_result"
    }
   ],
   "source": [
    "names = []\n",
    "for x, y in ls_a_tags:\n",
    "    try:\n",
    "        out = re.search('>([^<][^<]+)<.*', y).group(1)\n",
    "    except:\n",
    "        out = y\n",
    "\n",
    "    names.append(out)\n",
    "names"
   ]
  },
  {
   "cell_type": "markdown",
   "metadata": {},
   "source": [
    "# Ejercicio 3"
   ]
  },
  {
   "cell_type": "markdown",
   "metadata": {},
   "source": [
    "Los paréntesis ( ) alrededor de una expresión regular pueden agrupar esa parte de la expresión regular. Esto nos permite aplicar diferentes cuantificadores ({2,5}, {1}, etc) a ese grupo.\n",
    "\n",
    "Estos paréntesis también crean una captura numerada. Almacena la parte de la cadena que coincide con la parte de la expresión regular entre paréntesis.\n",
    "\n",
    "Tienes un string de prueba. Tu tarea es escribir una expresión regular que coincida con la siguiente condición:\n",
    "\n",
    "- debe tener 3 o más repeticiones consecutivas de ok."
   ]
  },
  {
   "cell_type": "code",
   "execution_count": 88,
   "metadata": {},
   "outputs": [],
   "source": [
    "text1 = 'okokok cya!'\n",
    "text2 = 'yajaja kulunguele okoklahoma cokokoko'\n",
    "text3 = 'yajaja kulunguele okoklahoma cokoko'"
   ]
  },
  {
   "cell_type": "code",
   "execution_count": 90,
   "metadata": {},
   "outputs": [
    {
     "data": {
      "text/plain": [
       "'okokok'"
      ]
     },
     "execution_count": 90,
     "metadata": {},
     "output_type": "execute_result"
    }
   ],
   "source": [
    "re.search('(ok){3,}', text1).group()"
   ]
  },
  {
   "cell_type": "code",
   "execution_count": 93,
   "metadata": {},
   "outputs": [],
   "source": [
    "def ok_rep(x):\n",
    "    return bool(re.search('(ok){3,}', x))"
   ]
  },
  {
   "cell_type": "code",
   "execution_count": 94,
   "metadata": {},
   "outputs": [
    {
     "name": "stdout",
     "output_type": "stream",
     "text": [
      "True\n",
      "True\n",
      "False\n"
     ]
    }
   ],
   "source": [
    "print(ok_rep(text1))\n",
    "print(ok_rep(text2))\n",
    "print(ok_rep(text3))"
   ]
  },
  {
   "cell_type": "markdown",
   "metadata": {},
   "source": []
  }
 ],
 "metadata": {
  "kernelspec": {
   "display_name": "Python 3.10.8 64-bit",
   "language": "python",
   "name": "python3"
  },
  "language_info": {
   "codemirror_mode": {
    "name": "ipython",
    "version": 3
   },
   "file_extension": ".py",
   "mimetype": "text/x-python",
   "name": "python",
   "nbconvert_exporter": "python",
   "pygments_lexer": "ipython3",
   "version": "3.10.8"
  },
  "orig_nbformat": 4,
  "vscode": {
   "interpreter": {
    "hash": "7600a12950a547366bb7a6732117e300ffd26224351912980486e1126c5d0f9a"
   }
  }
 },
 "nbformat": 4,
 "nbformat_minor": 2
}
