{
 "cells": [
  {
   "cell_type": "code",
   "execution_count": 64,
   "metadata": {},
   "outputs": [],
   "source": [
    "import re"
   ]
  },
  {
   "cell_type": "markdown",
   "metadata": {},
   "source": [
    "`\\w`. Cualquier letra mayuscula o minuscula, dígito o guion bajo.\n",
    "\n",
    "re.search(r'Co\\wk\\we', 'Cookie').group()\n",
    "\n",
    "\n",
    "`\\W`. Todo lo que no recoge `\\w`, caracteres como: @,."
   ]
  },
  {
   "cell_type": "code",
   "execution_count": null,
   "metadata": {},
   "outputs": [],
   "source": [
    "print(\"Lowercase w:\", re.search(r'Co\\wk\\we', 'Co9kie').group())"
   ]
  },
  {
   "cell_type": "code",
   "execution_count": 19,
   "metadata": {},
   "outputs": [
    {
     "name": "stdout",
     "output_type": "stream",
     "text": [
      "Uppercase W: C.ke\n"
     ]
    }
   ],
   "source": [
    "print(\"Uppercase W:\", re.search(r'C\\Wke', 'C.ke').group())"
   ]
  },
  {
   "cell_type": "markdown",
   "metadata": {},
   "source": [
    "`\\s` match de cualquier tipo de un espacio: espacios, tabulaciones, saltos de linea\n",
    "\n",
    "`\\S` todo lo que no sea `\\s`: letras, números, caracteres como punto, @..."
   ]
  },
  {
   "cell_type": "code",
   "execution_count": 32,
   "metadata": {},
   "outputs": [
    {
     "name": "stdout",
     "output_type": "stream",
     "text": [
      "Lowercase s: Eat cake\n",
      "Lowercase s: Eat\n",
      "cake\n",
      "Uppercase S: cookie\n",
      "Uppercase S: cook@e\n"
     ]
    }
   ],
   "source": [
    "print(\"Lowercase s:\", re.search(r'Eat\\scake', 'Eat cake').group())\n",
    "print(\"Lowercase s:\", re.search(r'Eat\\scake', 'Eat\\ncake').group())\n",
    "print(\"Uppercase S:\", re.search(r'cook\\Se', \"Let's eat cookie\").group())\n",
    "print(\"Uppercase S:\", re.search(r'cook\\Se', \"Let's eat cook@e\").group())"
   ]
  },
  {
   "cell_type": "markdown",
   "metadata": {},
   "source": [
    "`\\d`: cualquier dígito decimal\n",
    "\n",
    "`\\D`: cualquiera que NO sea un dígito decimal"
   ]
  },
  {
   "cell_type": "code",
   "execution_count": 35,
   "metadata": {},
   "outputs": [
    {
     "name": "stdout",
     "output_type": "stream",
     "text": [
      "How many cookies do you want?  100\n",
      "How many cookies do you want?   chocolate cookies\n"
     ]
    }
   ],
   "source": [
    "# El + es para repeticiones.\n",
    "print(\"How many cookies do you want? \", re.search(r'\\d+', '100 cookies').group())\n",
    "print(\"How many cookies do you want? \", re.search(r'\\D+', '100 chocolate cookies').group())"
   ]
  },
  {
   "cell_type": "markdown",
   "metadata": {},
   "source": [
    "`\\t` - Lowercase t. Matches tab.\n",
    "\n",
    "`\\n` - Lowercase n. Matches newline.\n",
    "\n",
    "`\\r` - Lowercase r. Matches return.\n",
    "\n",
    "`\\A` - Uppercase a. Matches only at the start of the string. Works across multiple lines as well.\n",
    "\n",
    "`\\Z` - Uppercase z. Matches only at the end of the string.\n",
    "\n",
    "`\\b` - Lowercase b. Matches only the beginning or end of the word."
   ]
  },
  {
   "cell_type": "code",
   "execution_count": null,
   "metadata": {},
   "outputs": [],
   "source": [
    "# Example for \\t. Devuelve ambos strings con la tabulación\n",
    "print(\"\\\\t (TAB) example: \", re.search(r'Eat\\tcake', 'Eat    cake').group())\n",
    "\n",
    "# Example for \\b. \n",
    "print(\"\\\\b match gives: \",re.search(r'\\b[A-E]ookie', 'Cookie').group())"
   ]
  },
  {
   "cell_type": "markdown",
   "metadata": {},
   "source": [
    "### Repetittions\n",
    "Sirve para cuando tenemos cadenas largas.\n",
    "\n",
    "`+` es útil para ver si el caracter aparece una o más veces en el string."
   ]
  },
  {
   "cell_type": "code",
   "execution_count": 42,
   "metadata": {},
   "outputs": [
    {
     "data": {
      "text/plain": [
       "'Cokie'"
      ]
     },
     "execution_count": 42,
     "metadata": {},
     "output_type": "execute_result"
    }
   ],
   "source": [
    "# Busca cuando aparezca la 'o' al menos una vez seguida.\n",
    "re.search(r'Co+kie', 'Cooookie Coooo Cooookie').group()\n",
    "re.search(r'Co+kie', 'Cokie').group()"
   ]
  },
  {
   "cell_type": "markdown",
   "metadata": {},
   "source": [
    "`*` comprueba si el caracter aparece 0 o más veces en el string"
   ]
  },
  {
   "cell_type": "code",
   "execution_count": 43,
   "metadata": {},
   "outputs": [
    {
     "data": {
      "text/plain": [
       "'Cookie'"
      ]
     },
     "execution_count": 43,
     "metadata": {},
     "output_type": "execute_result"
    }
   ],
   "source": [
    "re.search(r'Ca*o*kie', 'Cookie').group()"
   ]
  },
  {
   "cell_type": "markdown",
   "metadata": {},
   "source": [
    "`?` comprueba si el caracter aparece 0 o más veces en el string, pero no va a haber otro sustituyéndolo."
   ]
  },
  {
   "cell_type": "code",
   "execution_count": 47,
   "metadata": {},
   "outputs": [
    {
     "name": "stdout",
     "output_type": "stream",
     "text": [
      "Color\n",
      "Colour\n"
     ]
    }
   ],
   "source": [
    "print(re.search(r'Colou?r', 'Color').group())\n",
    "print(re.search(r'Colou?r', 'Colour').group())"
   ]
  },
  {
   "cell_type": "markdown",
   "metadata": {},
   "source": [
    "`{}` para que se repita un número exacto de veces. Puede ser útil para comprobar números de teléfono.\n",
    "\n",
    "`{x}` - Repeat exactly x number of times.\n",
    "\n",
    "`{x,}` - Repeat at least x times or more.\n",
    "\n",
    "`{x, y}` - Repeat at least x times but no more than y times.\n"
   ]
  },
  {
   "cell_type": "code",
   "execution_count": 63,
   "metadata": {},
   "outputs": [
    {
     "name": "stdout",
     "output_type": "stream",
     "text": [
      "098765432\n",
      "0987654321\n",
      "0987654321\n"
     ]
    }
   ],
   "source": [
    "# Si es menor, devuelve ese numero menor igualmente\n",
    "print(re.search(r'\\d{9}', '098765432').group())\n",
    "\n",
    "print(re.search(r'\\d{9,10}', '0987654321').group())\n",
    "print(re.search(r'\\d{9,10}', '09876543211111').group())"
   ]
  }
 ],
 "metadata": {
  "kernelspec": {
   "display_name": "Python 3",
   "language": "python",
   "name": "python3"
  },
  "language_info": {
   "codemirror_mode": {
    "name": "ipython",
    "version": 3
   },
   "file_extension": ".py",
   "mimetype": "text/x-python",
   "name": "python",
   "nbconvert_exporter": "python",
   "pygments_lexer": "ipython3",
   "version": "3.8.5"
  }
 },
 "nbformat": 4,
 "nbformat_minor": 4
}
