{
 "cells": [
  {
   "cell_type": "markdown",
   "metadata": {},
   "source": [
    "# Regular Expressions (RegEx)"
   ]
  },
  {
   "cell_type": "markdown",
   "metadata": {},
   "source": [
    "A regular expression, regex or regexp is a sequence of characters that define a search pattern."
   ]
  },
  {
   "cell_type": "markdown",
   "metadata": {},
   "source": [
    "![regex](https://miro.medium.com/max/1200/1*ZVlIZ1ZYC6rASz-dYPzhZQ.jpeg)"
   ]
  },
  {
   "cell_type": "markdown",
   "metadata": {},
   "source": [
    "**references**\n",
    "\n",
    "- https://docs.python.org/3/howto/regex.html\n",
    "- https://www.datacamp.com/community/tutorials/python-regular-expression-tutorial\n",
    "- https://www.dataquest.io/blog/regular-expressions-data-scientists/\n",
    "- https://www.kaggle.com/rtatman/fraudulent-email-corpus\n",
    "\n",
    "**may save your life**\n",
    "\n",
    "- https://regex101.com/"
   ]
  },
  {
   "cell_type": "markdown",
   "metadata": {},
   "source": [
    "### First things first"
   ]
  },
  {
   "cell_type": "markdown",
   "metadata": {},
   "source": [
    "For the standard case **import re** should be enough. For the later case **pip3/pip install regex** should install it."
   ]
  },
  {
   "cell_type": "code",
   "execution_count": 7,
   "metadata": {},
   "outputs": [],
   "source": [
    "import re\n",
    "import numpy as np\n",
    "import pandas as pd"
   ]
  },
  {
   "cell_type": "markdown",
   "metadata": {},
   "source": [
    "## Sintax\n",
    "### Special Characters:\n",
    "- `.` Matches any character except a newline.\n",
    "- `^` Matches the start of the string.\n",
    "- `$` Matches the end of the string or just before the newline at the end of the string.\n",
    "- `*` Matches 0 or more repetitions of the preceding RE.\n",
    "- `+` Matches 1 or more repetitions of the preceding RE.\n",
    "- `?` Matches 0 or 1 repetitions of the preceding RE.\n",
    "- `?<=` Matches Lookbehind --> https://www.regular-expressions.info/lookaround.html\n",
    "- NOTA: re.M -> modo multilinea"
   ]
  },
  {
   "cell_type": "markdown",
   "metadata": {},
   "source": [
    "### Special Sequences:\n",
    "\n",
    "- **Literals** `a` \n",
    "- **Alternation** `a|b`\n",
    "- **Character sets** `[ab]`, `[^ab]` <- we use the hat between brackets to indicate that we want the opposite\n",
    "- **Wildcards** `.`\n",
    "- **Escape special characters** `\\` (?,*,+,^,$)\n",
    "- **Ranges** `[a-d]`, `[1-9]`, `[A-D]`\n",
    "\n",
    "- **Quantifiers** `{2}`, `{2,}`, `{2,4}`, `?`, `*`, `+`\n",
    "- **Grouping** `()`\n",
    "- **Anchors** `^`, `$`\n",
    "- **Character classes** `\\w`, `\\d`, `\\s`, `\\n`, `\\W`, `\\D`, `\\S`\n",
    "\n",
    "**\\w** - Matches any alphanumeric character (digits and alphabets). Equivalent to `[a-zA-Z0-9_]`. By the way, underscore _ is also considered an alphanumeric character. \n",
    "\n",
    "**\\d** - Matches any digit. Equivalent to `[0-9]` \n",
    "\n",
    "**\\s** - Matches where a string contains any whitespace character. Equivalent to `[ \\t\\n\\r\\f\\v]`\n",
    "\n",
    "**\\W** - Matches any non-alphanumeric character. Equivalent to `[^a-zA-Z0-9_]`\n",
    "\n",
    "**\\D** - Matches any non digit. Equivalent to `[^0-9]` \n",
    "\n",
    "**\\S** - Matches where a string contains any non-whitespace character. Equivalent to `[^ \\t\\n\\r\\f\\v]`\n",
    "\n"
   ]
  },
  {
   "cell_type": "markdown",
   "metadata": {},
   "source": [
    "### Methods"
   ]
  },
  {
   "cell_type": "markdown",
   "metadata": {},
   "source": [
    "### re.sub(pattern, repl, string, count=0)\n",
    "Replaces one or many matches with a string"
   ]
  },
  {
   "cell_type": "code",
   "execution_count": 8,
   "metadata": {},
   "outputs": [],
   "source": [
    "txt = \"gabriel, DDio & CClara are TA's??\""
   ]
  },
  {
   "cell_type": "code",
   "execution_count": 9,
   "metadata": {},
   "outputs": [],
   "source": [
    "a = '2'"
   ]
  },
  {
   "cell_type": "code",
   "execution_count": 10,
   "metadata": {},
   "outputs": [
    {
     "data": {
      "text/plain": [
       "\"gabriel, 222io & 22lara are 22's??\""
      ]
     },
     "execution_count": 10,
     "metadata": {},
     "output_type": "execute_result"
    }
   ],
   "source": [
    "txt = \"gabriel, DDDio & CClara are TA's??\"\n",
    "re.sub('[A-Z]', a, txt)"
   ]
  },
  {
   "cell_type": "code",
   "execution_count": 11,
   "metadata": {},
   "outputs": [
    {
     "data": {
      "text/plain": [
       "\"gabriel, 2Dio & 2lara are 2's??\""
      ]
     },
     "execution_count": 11,
     "metadata": {},
     "output_type": "execute_result"
    }
   ],
   "source": [
    "re.sub('[A-Z]{2}', a, txt)"
   ]
  },
  {
   "cell_type": "code",
   "execution_count": 12,
   "metadata": {},
   "outputs": [
    {
     "data": {
      "text/plain": [
       "\"gabriel, 2Dio & 2lara are 2's??\""
      ]
     },
     "execution_count": 12,
     "metadata": {},
     "output_type": "execute_result"
    }
   ],
   "source": [
    "#re.sub\n",
    "#Literals\n",
    "#{2} 2 occurencies of [A-Z] substituted by a\n",
    "txt = \"gabriel, DDDio & CClara are TA's??\"\n",
    "txt = re.sub('[A-Z]{2}', a, txt)\n",
    "txt"
   ]
  },
  {
   "cell_type": "code",
   "execution_count": 13,
   "metadata": {},
   "outputs": [
    {
     "data": {
      "text/plain": [
       "\"gabriel, 2io & 2lara are 2's??\""
      ]
     },
     "execution_count": 13,
     "metadata": {},
     "output_type": "execute_result"
    }
   ],
   "source": [
    "#Ranges\n",
    "re.sub('[A-Z]','',txt)"
   ]
  },
  {
   "cell_type": "code",
   "execution_count": 14,
   "metadata": {},
   "outputs": [
    {
     "data": {
      "text/plain": [
       "\"gabriel, 2Dio & 2lara are 2's.\""
      ]
     },
     "execution_count": 14,
     "metadata": {},
     "output_type": "execute_result"
    }
   ],
   "source": [
    "#Escape special character, quantifiers\n",
    "re.sub('\\?{2}','.',txt)"
   ]
  },
  {
   "cell_type": "markdown",
   "metadata": {},
   "source": [
    "### re.search(pattern, string, flags=0)\n",
    "Scan through a string, looking for any location where this RE matches. If the search is succesful, `re.search()` returns a match object. Otherwise, it returns `None`."
   ]
  },
  {
   "cell_type": "code",
   "execution_count": 21,
   "metadata": {},
   "outputs": [
    {
     "data": {
      "text/plain": [
       "(0, 17)"
      ]
     },
     "execution_count": 21,
     "metadata": {},
     "output_type": "execute_result"
    }
   ],
   "source": [
    "#re.search\n",
    "txt = \"The rain in Spain and the sun in England, Tower\"\n",
    "x = re.search(\"^The.*Spain\", txt) \n",
    "x.span()"
   ]
  },
  {
   "cell_type": "code",
   "execution_count": 29,
   "metadata": {},
   "outputs": [
    {
     "name": "stdout",
     "output_type": "stream",
     "text": [
      "<re.Match object; span=(12, 17), match='Spain'>\n",
      "(12, 17)\n",
      "12\n",
      "17\n",
      "The rain in Spain\n",
      "Spain\n"
     ]
    }
   ],
   "source": [
    "txt = \"The rain in Spain\"\n",
    "#\\b everything starts with \"S\" and have any character next.\n",
    "# w+ for getting all the string\n",
    "x = re.search(r\"\\bS\\w+\", txt)\n",
    "print(x)\n",
    "print(x.span())\n",
    "#returns a tuple containing the start-, and end positions of the match\n",
    "print(x.start())\n",
    "#contains the start position of the match\n",
    "print(x.end())\n",
    "#contains the end position of the match\n",
    "print(x.string)\n",
    "#print the string passed into the function (variable 'txt')\n",
    "print(x.group())\n",
    "#Print the part of the string where there was a match"
   ]
  },
  {
   "cell_type": "code",
   "execution_count": 28,
   "metadata": {},
   "outputs": [
    {
     "name": "stdout",
     "output_type": "stream",
     "text": [
      "S\n",
      "p\n"
     ]
    }
   ],
   "source": [
    "for i in range(x.span()[0], x.span()[1]):\n",
    "    print(x.string[i])"
   ]
  },
  {
   "cell_type": "code",
   "execution_count": 32,
   "metadata": {},
   "outputs": [
    {
     "name": "stdout",
     "output_type": "stream",
     "text": [
      "rain in\n",
      "None\n",
      "The\n",
      "None\n"
     ]
    }
   ],
   "source": [
    "print(re.search(r'r\\w+\\s\\w+', txt).group())\n",
    "print(re.search(r'R\\w+', txt))\n",
    "print(re.search(r'T\\w*', txt).group())\n",
    "print(re.search(r'^t\\w*', txt))"
   ]
  },
  {
   "cell_type": "markdown",
   "metadata": {},
   "source": [
    "### re.match(pattern, string)\n",
    "Determine if the RE matches at the beginning of the string."
   ]
  },
  {
   "cell_type": "code",
   "execution_count": 126,
   "metadata": {},
   "outputs": [
    {
     "name": "stdout",
     "output_type": "stream",
     "text": [
      "Match!\n"
     ]
    }
   ],
   "source": [
    "#re.match\n",
    "pattern = r\"Cookie\"\n",
    "sequence = \"I want a Cookie\"\n",
    "sequence2= \"Cookie, I want you!\"\n",
    "if re.match(pattern, sequence2):\n",
    "    print(\"Match!\")\n",
    "else: \n",
    "    print(\"Not a match!\")"
   ]
  },
  {
   "cell_type": "code",
   "execution_count": 35,
   "metadata": {},
   "outputs": [
    {
     "name": "stdout",
     "output_type": "stream",
     "text": [
      "None\n",
      "None\n",
      "The\n",
      "The\n"
     ]
    }
   ],
   "source": [
    "txt = \"The rain in Spain\"\n",
    "#matches at the beginning of the string\n",
    "print(re.match(r'r\\w*', txt))\n",
    "print(re.match(r'^r\\w*', txt))\n",
    "\n",
    "print(re.search(r'^T\\w*', txt).group()) # search with ^ is the same as match\n",
    "\n",
    "print(re.match(r'T\\w*', txt).group())"
   ]
  },
  {
   "cell_type": "code",
   "execution_count": 42,
   "metadata": {},
   "outputs": [
    {
     "name": "stdout",
     "output_type": "stream",
     "text": [
      "support@thebridge.com\n",
      "support\n",
      "thebridge.com\n"
     ]
    }
   ],
   "source": [
    "email_address = 'Please contact us at: support@thebridge.com'\n",
    "matchi = re.search(r'(\\w+)@([\\w\\.]+)', email_address)\n",
    "if matchi:\n",
    "    print(matchi.group(0)) # The whole matched text\n",
    "    print(matchi.group(1)) # The username (group 1)\n",
    "    print(matchi.group(2)) # The host (group 2)"
   ]
  },
  {
   "cell_type": "markdown",
   "metadata": {},
   "source": [
    "### re.fullmatch(pattern, string)"
   ]
  },
  {
   "cell_type": "code",
   "execution_count": 276,
   "metadata": {},
   "outputs": [
    {
     "name": "stdout",
     "output_type": "stream",
     "text": [
      "Andrea is not desired name\n",
      "Ariadna is not desired name\n",
      "Estela is not desired name\n",
      "Anais is not desired name\n",
      "Xeles is not desired name\n",
      "Maria is desired name\n",
      "Mar is not desired name\n"
     ]
    }
   ],
   "source": [
    "class_names = [\"Andrea\", \"Ariadna\", \"Estela\", \"Anais\", \"Xeles\", \"Maria\", \"Mar\"]\n",
    "for name in class_names:\n",
    "    if re.fullmatch(\"Maria\", name):\n",
    "        print(f\"{name} is desired name\")\n",
    "    else:\n",
    "        print(f\"{name} is not desired name\")"
   ]
  },
  {
   "cell_type": "markdown",
   "metadata": {},
   "source": [
    "### re.findall (pattern, string)\n",
    "Find all substrings where the RE matches, and returns them as a list."
   ]
  },
  {
   "cell_type": "code",
   "execution_count": 138,
   "metadata": {},
   "outputs": [
    {
     "data": {
      "text/plain": [
       "['support.data@data-science.com', 'xyz@thebridge.com']"
      ]
     },
     "execution_count": 138,
     "metadata": {},
     "output_type": "execute_result"
    }
   ],
   "source": [
    "#re.findall\n",
    "email_address = \"Please contact us at: support.data@data-science.com, xyz@thebridge.com\"\n",
    "\n",
    "#'addresses' is a list that stores all the possible match\n",
    "addresses = re.findall(r'\\w+\\.?\\w+@[\\w\\.-]+', email_address)\n",
    "addresses"
   ]
  },
  {
   "cell_type": "code",
   "execution_count": 140,
   "metadata": {},
   "outputs": [
    {
     "name": "stdout",
     "output_type": "stream",
     "text": [
      "['P', 'l', 's', 'c', 'n', 't', 'c', 't', 's', 't', ':', 's', 'p', 'p', 'r', 't', '.', 'd', 't', '@', 'd', 't', '-', 's', 'c', 'n', 'c', '.', 'c', 'm', ',', 'x', 'y', 'z', '@', 't', 'h', 'b', 'r', 'd', 'g', '.', 'c', 'm']\n",
      "[' contact']\n",
      "['Please']\n"
     ]
    }
   ],
   "source": [
    "print(re.findall('[^aeiou\\s]',email_address))\n",
    "print(re.findall('\\sc\\w*',email_address))\n",
    "print(re.findall('^P\\w*',email_address))"
   ]
  },
  {
   "cell_type": "code",
   "execution_count": 141,
   "metadata": {},
   "outputs": [],
   "source": [
    "with open('info.txt', 'r') as file:\n",
    "    client_info = file.read()"
   ]
  },
  {
   "cell_type": "code",
   "execution_count": 159,
   "metadata": {},
   "outputs": [
    {
     "name": "stdout",
     "output_type": "stream",
     "text": [
      "['sit.amet.metus@egestasnunc.ca', 'arcu.Aliquam.ultrices@vestibulumneceuismod.co.uk', 'Nulla.eu.neque@Fuscealiquetmagna.com', 'Nullam.velit@non.ca', 'In@gravidamolestiearcu.co.uk']\n"
     ]
    }
   ],
   "source": [
    "emails_clients=re.findall(r\"[\\w.]+@[\\w.]+\", client_info)\n",
    "print(emails_clients[:5])"
   ]
  },
  {
   "cell_type": "code",
   "execution_count": 174,
   "metadata": {},
   "outputs": [],
   "source": [
    "client_numbers_normal = re.findall(r\"[0-9]{2}-\\d{3}-\\d{3}-\\d{3}\", client_info)"
   ]
  },
  {
   "cell_type": "code",
   "execution_count": 178,
   "metadata": {},
   "outputs": [
    {
     "name": "stdout",
     "output_type": "stream",
     "text": [
      "['34-739-941-941', '34-278-870-242', '34-999-876-292', '34-345-887-949', '34-905-089-682']\n"
     ]
    }
   ],
   "source": [
    "print(client_numbers_normal[:5])"
   ]
  },
  {
   "cell_type": "code",
   "execution_count": 172,
   "metadata": {},
   "outputs": [],
   "source": [
    "client_numbers = re.findall(r\"(([0-9]{2}-)\\d{3}-\\d{3}-\\d{3})\", client_info)"
   ]
  },
  {
   "cell_type": "code",
   "execution_count": 177,
   "metadata": {},
   "outputs": [
    {
     "name": "stdout",
     "output_type": "stream",
     "text": [
      "[('34-739-941-941', '34-'), ('34-278-870-242', '34-'), ('34-999-876-292', '34-'), ('34-345-887-949', '34-'), ('34-905-089-682', '34-')]\n"
     ]
    }
   ],
   "source": [
    "print(client_numbers[:5])"
   ]
  },
  {
   "cell_type": "markdown",
   "metadata": {},
   "source": [
    "### re.split(pattern, string, maxsplit=0)\n",
    "Returns a list where the string has been split at each match"
   ]
  },
  {
   "cell_type": "code",
   "execution_count": 19,
   "metadata": {},
   "outputs": [],
   "source": [
    "#re.split\n",
    "sente = \"Hello,\\n Please, contact me the sooner.\\n Thank you,\\n Me\""
   ]
  },
  {
   "cell_type": "code",
   "execution_count": 179,
   "metadata": {},
   "outputs": [
    {
     "data": {
      "text/plain": [
       "['Hello,', ' Please, contact me the sooner.', ' Thank you,', ' Me']"
      ]
     },
     "execution_count": 179,
     "metadata": {},
     "output_type": "execute_result"
    }
   ],
   "source": [
    "reg = re.split(\"\\n\", sente)\n",
    "reg"
   ]
  },
  {
   "cell_type": "code",
   "execution_count": 181,
   "metadata": {},
   "outputs": [
    {
     "data": {
      "text/plain": [
       "'Hello, Please, contact me the sooner. Thank you, Me'"
      ]
     },
     "execution_count": 181,
     "metadata": {},
     "output_type": "execute_result"
    }
   ],
   "source": [
    "\"\".join(reg)"
   ]
  },
  {
   "cell_type": "markdown",
   "metadata": {},
   "source": [
    "https://stackoverflow.com/questions/10804732/what-is-the-difference-between-and-in-regex"
   ]
  },
  {
   "cell_type": "code",
   "execution_count": 190,
   "metadata": {},
   "outputs": [
    {
     "name": "stdout",
     "output_type": "stream",
     "text": [
      "['Wyoming Dudley sit.amet.metus@egestasnunc.ca 2518 Nulla Road 34-739-941-941', ' Aristotle Grant arcu.Aliquam.ultrices@vestibulumneceuismod.co.uk 8453 Nostra, St. 34-278-870-242', ' Zephania Copeland Nulla.eu.neque@Fuscealiquetmagna.com P.O. Box 733, 3179 Ligula. Av. 34-999-876-292']\n"
     ]
    }
   ],
   "source": [
    "client_list = re.split(r\"(?<=[0-9]{2}-\\d{3}-\\d{3}-\\d{3})\",client_info)\n",
    "print(client_list[:3])"
   ]
  },
  {
   "cell_type": "markdown",
   "metadata": {},
   "source": [
    "### re.compile(pattern\n",
    "Compiles a RE into a regular expression object."
   ]
  },
  {
   "cell_type": "code",
   "execution_count": 193,
   "metadata": {},
   "outputs": [],
   "source": [
    "name_check = re.compile(r\"[^A-Za-z ]\")"
   ]
  },
  {
   "cell_type": "code",
   "execution_count": 194,
   "metadata": {},
   "outputs": [
    {
     "name": "stdout",
     "output_type": "stream",
     "text": [
      "Please insert your name:Clara Piniella\n",
      "Please enter your name correctly!\n",
      "Please insert your name:clara+piniella\n",
      "Please enter your name correctly!\n",
      "Please insert your name:Clara.piniella\n",
      "Please enter your name correctly!\n",
      "Please insert your name:7835djfa\n",
      "Please enter your name correctly!\n",
      "Please insert your name:898593*+\n",
      "Finally mate, I thought you'd never do it\n"
     ]
    }
   ],
   "source": [
    "name = input(\"Please insert your name:\")\n",
    "while name_check.search(name):\n",
    "    # it loops while if finds a match\n",
    "    print(\"Please enter your name correctly!\")\n",
    "    name = input(\"Please insert your name:\")\n",
    "print(\"Finally mate, I thought you'd never do it\")"
   ]
  },
  {
   "cell_type": "markdown",
   "metadata": {},
   "source": [
    "-----------------------------------------------------------------------------------------------------------\n"
   ]
  },
  {
   "cell_type": "markdown",
   "metadata": {},
   "source": [
    "## Some practice \n",
    "Now is your turn."
   ]
  },
  {
   "cell_type": "markdown",
   "metadata": {},
   "source": [
    "#### Simple validation of a username\n",
    "https://www.codewars.com/kata/56a3f08aa9a6cc9b75000023\n",
    "    \n",
    "Write a simple regex to validate a username. Allowed characters are:\n",
    "\n",
    "- lowercase letters,\n",
    "- numbers,\n",
    "- underscore\n",
    "\n",
    "Length should be between 4 and 16 characters (both included).\n"
   ]
  },
  {
   "cell_type": "code",
   "execution_count": 282,
   "metadata": {},
   "outputs": [
    {
     "name": "stdout",
     "output_type": "stream",
     "text": [
      "Enter a username: cla_piniella\n",
      "Finally mate, I thought you'd never do it\n"
     ]
    }
   ],
   "source": [
    "# Maria team\n",
    "def validate_usr(username):\n",
    "    namecheck = re.compile(r\"[^a-z0-9_]{4,16}\")\n",
    "    while namecheck.search(username):\n",
    "        print(\"Please enter your name correctly!\")\n",
    "        username = input(\"Please insert your name:\")\n",
    "    print(\"Finally mate, I thought you'd never do it\")\n",
    "    \n",
    "validate_usr(username=input(\"Enter a username: \"))"
   ]
  },
  {
   "cell_type": "code",
   "execution_count": 243,
   "metadata": {},
   "outputs": [
    {
     "data": {
      "text/plain": [
       "True"
      ]
     },
     "execution_count": 243,
     "metadata": {},
     "output_type": "execute_result"
    }
   ],
   "source": [
    "# Alex team\n",
    "def validate_usr(username):\n",
    "    str_list = re.findall(\"[a-z]|[0-9]|_\",username)\n",
    "    compare = \"\"\n",
    "    compare = compare.join(str_list)\n",
    "    if compare == username and len(compare)<=16 and len(compare)>4:\n",
    "        return True\n",
    "    else:\n",
    "        return False\n",
    "\n",
    "username = \"clara\"\n",
    "test = validate_usr(username)\n",
    "test"
   ]
  },
  {
   "cell_type": "code",
   "execution_count": 25,
   "metadata": {},
   "outputs": [],
   "source": [
    "# your solution"
   ]
  },
  {
   "cell_type": "code",
   "execution_count": 199,
   "metadata": {},
   "outputs": [],
   "source": [
    "def validate_usr(username):\n",
    "    if re.match(r'^[a-z\\d_]{4,16}$', username):\n",
    "        return True\n",
    "    else:\n",
    "        return False"
   ]
  },
  {
   "cell_type": "code",
   "execution_count": 205,
   "metadata": {},
   "outputs": [],
   "source": [
    "validate_user = lambda string: bool(re.match('^[a-z\\d_]{4,16}$', string))"
   ]
  },
  {
   "cell_type": "code",
   "execution_count": 250,
   "metadata": {},
   "outputs": [],
   "source": [
    "check_usernames = [\"unusuario\", \"UNUSUARIO\", \"UN_usuario\", \"un_usuario76\", \"8934_38875aa\"]"
   ]
  },
  {
   "cell_type": "code",
   "execution_count": 251,
   "metadata": {},
   "outputs": [],
   "source": [
    "check_usernamesbool = [validate_user(e) for e in check_usernames]"
   ]
  },
  {
   "cell_type": "code",
   "execution_count": 252,
   "metadata": {},
   "outputs": [
    {
     "data": {
      "text/plain": [
       "[True, False, False, True, True]"
      ]
     },
     "execution_count": 252,
     "metadata": {},
     "output_type": "execute_result"
    }
   ],
   "source": [
    "check_usernamesbool"
   ]
  },
  {
   "cell_type": "markdown",
   "metadata": {},
   "source": [
    "#### Regex validate PIN code \n",
    "\n",
    "https://www.codewars.com/kata/55f8a9c06c018a0d6e000132\n",
    "\n",
    "ATM machines allow 4 or 6 digit PIN codes and PIN codes cannot contain anything but exactly 4 digits or exactly 6 digits.\n",
    "\n",
    "If the function is passed a valid PIN string, return true, else return false.\n",
    "\n",
    "Examples:\n",
    "```python\n",
    "\"1234\"   -->  True\n",
    "\"12345\"  -->  False\n",
    "\"a234\"   -->  False\n",
    "```"
   ]
  },
  {
   "cell_type": "code",
   "execution_count": null,
   "metadata": {},
   "outputs": [],
   "source": [
    "# Javi Gil team"
   ]
  },
  {
   "cell_type": "code",
   "execution_count": 264,
   "metadata": {},
   "outputs": [
    {
     "name": "stdout",
     "output_type": "stream",
     "text": [
      "Please insert your pin:893758954\n",
      "venga zoquete a ver si saca el regex regex\n",
      "Please insert your pin:17718\n",
      "Finally mate, I thought you'd never do it\n"
     ]
    }
   ],
   "source": [
    "pin = re.compile(r\"^[0-9]{4,6}$\")\n",
    "enter_pin= input(\"Please insert your pin:\")\n",
    "while not (pin.search(enter_pin)):\n",
    "    # it loops while if finds a match\n",
    "    print(\"venga zoquete a ver si saca el regex regex\")\n",
    "    enter_pin = input(\"Please insert your pin:\")\n",
    "print(\"Finally mate, I thought you'd never do it\")\n",
    "\n",
    "# esta no valdría porque coge los de 5"
   ]
  },
  {
   "cell_type": "code",
   "execution_count": null,
   "metadata": {},
   "outputs": [],
   "source": [
    "# Alfon team"
   ]
  },
  {
   "cell_type": "code",
   "execution_count": 265,
   "metadata": {},
   "outputs": [
    {
     "name": "stdout",
     "output_type": "stream",
     "text": [
      "Insert a number98725973289075\n",
      "'Pin incorrecto'\n",
      "Dame un pinclara\n",
      "'Pin incorrecto'\n",
      "Dame un pin83789\n",
      "'Pin incorrecto'\n",
      "Dame un pin3546\n",
      "Pin correcto\n"
     ]
    }
   ],
   "source": [
    "pin_check = re.compile(r\"^[0-9]{4}$|^[0-9]{6}$\")\n",
    "\n",
    "def validate_usr(pin):\n",
    "    while not pin_check.search(pin):\n",
    "        print(\"'Pin incorrecto'\")\n",
    "        pin = input('Dame un pin')\n",
    "    print(\"Pin correcto\")\n",
    "\n",
    "\n",
    "validate_usr(pin=input(\"Insert a number\"))\n",
    "\n",
    "#aprobado!"
   ]
  },
  {
   "cell_type": "code",
   "execution_count": 27,
   "metadata": {},
   "outputs": [],
   "source": [
    "# your solution"
   ]
  },
  {
   "cell_type": "code",
   "execution_count": 267,
   "metadata": {},
   "outputs": [],
   "source": [
    "def validate_pin(pin):\n",
    "    if re.fullmatch(\"\\d{4}|\\d{6}\", str(pin)):\n",
    "        return True\n",
    "    else:\n",
    "        return False"
   ]
  },
  {
   "cell_type": "code",
   "execution_count": 268,
   "metadata": {},
   "outputs": [],
   "source": [
    "pin = 7847"
   ]
  },
  {
   "cell_type": "code",
   "execution_count": 269,
   "metadata": {},
   "outputs": [],
   "source": [
    "pins = [\"8475\", 8735, 9858473485, \"fklajkfd\", pin]"
   ]
  },
  {
   "cell_type": "code",
   "execution_count": 270,
   "metadata": {},
   "outputs": [],
   "source": [
    "checkpins = [validate_pin(pi) for pi in pins]"
   ]
  },
  {
   "cell_type": "code",
   "execution_count": 271,
   "metadata": {},
   "outputs": [
    {
     "data": {
      "text/plain": [
       "[True, True, False, False, True]"
      ]
     },
     "execution_count": 271,
     "metadata": {},
     "output_type": "execute_result"
    }
   ],
   "source": [
    "checkpins"
   ]
  },
  {
   "cell_type": "code",
   "execution_count": 273,
   "metadata": {},
   "outputs": [
    {
     "data": {
      "text/plain": [
       "['8475', 8735, 7847]"
      ]
     },
     "execution_count": 273,
     "metadata": {},
     "output_type": "execute_result"
    }
   ],
   "source": [
    "list(filter(validate_pin, pins))"
   ]
  },
  {
   "cell_type": "markdown",
   "metadata": {},
   "source": [
    "-----------------------------------------------------------------------------------------------------------"
   ]
  },
  {
   "cell_type": "markdown",
   "metadata": {},
   "source": [
    "# The FBI challenge"
   ]
  },
  {
   "cell_type": "markdown",
   "metadata": {},
   "source": [
    "- https://www.fbi.gov/scams-and-safety/common-fraud-schemes/nigerian-letter-or-419-fraud\n",
    "- https://www.kaggle.com/rtatman/fraudulent-email-corpus"
   ]
  },
  {
   "cell_type": "markdown",
   "metadata": {},
   "source": [
    "It's your first day at the FBI office and your boss has just send you an `txt` file: `emails.txt`, she asked you to make some analysis but first of all, you need to get a dataframe like the following. You'll need some python knowledge and some regex for that goal. "
   ]
  },
  {
   "cell_type": "code",
   "execution_count": 47,
   "metadata": {},
   "outputs": [
    {
     "data": {
      "text/html": [
       "<div>\n",
       "<style scoped>\n",
       "    .dataframe tbody tr th:only-of-type {\n",
       "        vertical-align: middle;\n",
       "    }\n",
       "\n",
       "    .dataframe tbody tr th {\n",
       "        vertical-align: top;\n",
       "    }\n",
       "\n",
       "    .dataframe thead th {\n",
       "        text-align: right;\n",
       "    }\n",
       "</style>\n",
       "<table border=\"1\" class=\"dataframe\">\n",
       "  <thead>\n",
       "    <tr style=\"text-align: right;\">\n",
       "      <th></th>\n",
       "      <th>sender_email</th>\n",
       "      <th>sender_name</th>\n",
       "      <th>date_sent</th>\n",
       "      <th>time_sent</th>\n",
       "      <th>subject</th>\n",
       "    </tr>\n",
       "  </thead>\n",
       "  <tbody>\n",
       "    <tr>\n",
       "      <th>0</th>\n",
       "      <td>james_ngola2002@maktoob.com</td>\n",
       "      <td>\"MR. JAMES NGOLA.\"</td>\n",
       "      <td>31 Oct 2002</td>\n",
       "      <td>02:38:20</td>\n",
       "      <td>URGENT BUSINESS ASSISTANCE AND PARTNERSHIP</td>\n",
       "    </tr>\n",
       "    <tr>\n",
       "      <th>1</th>\n",
       "      <td>bensul2004nng@spinfinder.com</td>\n",
       "      <td>\"Mr. Ben Suleman\"</td>\n",
       "      <td>31 Oct 2002</td>\n",
       "      <td>05:10:00</td>\n",
       "      <td>URGENT ASSISTANCE /RELATIONSHIP (P)</td>\n",
       "    </tr>\n",
       "    <tr>\n",
       "      <th>2</th>\n",
       "      <td>obong_715@epatra.com</td>\n",
       "      <td>\"PRINCE OBONG ELEME\"</td>\n",
       "      <td>31 Oct 2002</td>\n",
       "      <td>22:17:55</td>\n",
       "      <td>GOOD DAY TO YOU</td>\n",
       "    </tr>\n",
       "    <tr>\n",
       "      <th>3</th>\n",
       "      <td>obong_715@epatra.com</td>\n",
       "      <td>\"PRINCE OBONG ELEME\"</td>\n",
       "      <td>31 Oct 2002</td>\n",
       "      <td>22:44:20</td>\n",
       "      <td>GOOD DAY TO YOU</td>\n",
       "    </tr>\n",
       "    <tr>\n",
       "      <th>4</th>\n",
       "      <td>m_abacha03@www.com</td>\n",
       "      <td>\"Maryam Abacha\"</td>\n",
       "      <td>1 Nov 2002</td>\n",
       "      <td>01:45:04</td>\n",
       "      <td>I Need Your Assistance.</td>\n",
       "    </tr>\n",
       "  </tbody>\n",
       "</table>\n",
       "</div>"
      ],
      "text/plain": [
       "                   sender_email             sender_name    date_sent  \\\n",
       "0   james_ngola2002@maktoob.com     \"MR. JAMES NGOLA.\"   31 Oct 2002   \n",
       "1  bensul2004nng@spinfinder.com      \"Mr. Ben Suleman\"   31 Oct 2002   \n",
       "2          obong_715@epatra.com   \"PRINCE OBONG ELEME\"   31 Oct 2002   \n",
       "3          obong_715@epatra.com   \"PRINCE OBONG ELEME\"   31 Oct 2002   \n",
       "4            m_abacha03@www.com        \"Maryam Abacha\"    1 Nov 2002   \n",
       "\n",
       "  time_sent                                     subject  \n",
       "0  02:38:20  URGENT BUSINESS ASSISTANCE AND PARTNERSHIP  \n",
       "1  05:10:00         URGENT ASSISTANCE /RELATIONSHIP (P)  \n",
       "2  22:17:55                             GOOD DAY TO YOU  \n",
       "3  22:44:20                             GOOD DAY TO YOU  \n",
       "4  01:45:04                     I Need Your Assistance.  "
      ]
     },
     "execution_count": 47,
     "metadata": {},
     "output_type": "execute_result"
    }
   ],
   "source": [
    "df.head()"
   ]
  },
  {
   "cell_type": "markdown",
   "metadata": {},
   "source": [
    "---------------------------------------------------------------------------------------------------------------------------"
   ]
  },
  {
   "cell_type": "markdown",
   "metadata": {},
   "source": [
    "#### Since we are good people, here you have a proposed solution"
   ]
  },
  {
   "cell_type": "code",
   "execution_count": 69,
   "metadata": {},
   "outputs": [],
   "source": [
    "emails_info={}"
   ]
  },
  {
   "cell_type": "code",
   "execution_count": 70,
   "metadata": {},
   "outputs": [],
   "source": [
    "fh = open(\"emails.txt\", \"r\").read()"
   ]
  },
  {
   "cell_type": "code",
   "execution_count": 71,
   "metadata": {},
   "outputs": [
    {
     "data": {
      "text/plain": [
       "3977"
      ]
     },
     "execution_count": 71,
     "metadata": {},
     "output_type": "execute_result"
    }
   ],
   "source": [
    "fh.count(\"From r\")"
   ]
  },
  {
   "cell_type": "code",
   "execution_count": 72,
   "metadata": {},
   "outputs": [],
   "source": [
    "contents = re.split(r\"From r\", fh)"
   ]
  },
  {
   "cell_type": "code",
   "execution_count": 73,
   "metadata": {
    "scrolled": true
   },
   "outputs": [
    {
     "data": {
      "text/plain": [
       "''"
      ]
     },
     "execution_count": 73,
     "metadata": {},
     "output_type": "execute_result"
    }
   ],
   "source": [
    "contents[0]"
   ]
  },
  {
   "cell_type": "code",
   "execution_count": 74,
   "metadata": {},
   "outputs": [
    {
     "data": {
      "text/plain": [
       "''"
      ]
     },
     "execution_count": 74,
     "metadata": {},
     "output_type": "execute_result"
    }
   ],
   "source": [
    "contents.pop(0)"
   ]
  },
  {
   "cell_type": "markdown",
   "metadata": {},
   "source": [
    "- sender_email\n",
    "- sender_name\n",
    "- date_sent\n",
    "- time_sent\n",
    "- subject"
   ]
  },
  {
   "cell_type": "markdown",
   "metadata": {},
   "source": [
    "\n",
    "### Info Sender"
   ]
  },
  {
   "cell_type": "code",
   "execution_count": 75,
   "metadata": {},
   "outputs": [],
   "source": [
    "\n",
    "info_sender=[]\n",
    "for i,e in enumerate(contents):\n",
    "    try:\n",
    "        info_sender.append(re.search(\"From:.*\", e).group())\n",
    "    except: \n",
    "        info_sender.append(\"not found\")"
   ]
  },
  {
   "cell_type": "code",
   "execution_count": 78,
   "metadata": {},
   "outputs": [
    {
     "data": {
      "text/plain": [
       "3977"
      ]
     },
     "execution_count": 78,
     "metadata": {},
     "output_type": "execute_result"
    }
   ],
   "source": [
    "len(info_sender)"
   ]
  },
  {
   "cell_type": "code",
   "execution_count": 38,
   "metadata": {},
   "outputs": [
    {
     "data": {
      "text/plain": [
       "3977"
      ]
     },
     "execution_count": 38,
     "metadata": {},
     "output_type": "execute_result"
    }
   ],
   "source": [
    "#sender_email\n",
    "emails_info['sender_email']=[]\n",
    "for line in info_sender:\n",
    "    res=re.findall(r'[\\w\\.]+@[\\w\\.-]+', line)\n",
    "    if res:\n",
    "        emails_info['sender_email'].append(res[0])\n",
    "    else:\n",
    "        emails_info['sender_email'].append(np.nan)\n",
    "        \n",
    "len(emails_info['sender_email'])"
   ]
  },
  {
   "cell_type": "code",
   "execution_count": 39,
   "metadata": {},
   "outputs": [
    {
     "data": {
      "text/plain": [
       "3977"
      ]
     },
     "execution_count": 39,
     "metadata": {},
     "output_type": "execute_result"
    }
   ],
   "source": [
    "#sender name\n",
    "emails_info['sender_name']=[]\n",
    "for line in info_sender:\n",
    "    res=re.findall(r':.*<', line)\n",
    "    if res:\n",
    "        emails_info['sender_name'].append(res[0][1:-1])\n",
    "    else:\n",
    "        emails_info['sender_name'].append(np.nan)\n",
    "len(emails_info['sender_name'])"
   ]
  },
  {
   "cell_type": "markdown",
   "metadata": {},
   "source": [
    "### Info Dates"
   ]
  },
  {
   "cell_type": "code",
   "execution_count": 40,
   "metadata": {},
   "outputs": [
    {
     "data": {
      "text/plain": [
       "3977"
      ]
     },
     "execution_count": 40,
     "metadata": {},
     "output_type": "execute_result"
    }
   ],
   "source": [
    "#DATES\n",
    "dates=[]\n",
    "for i,e in enumerate(contents):\n",
    "    try:\n",
    "        dates.append(re.search(\"Date:.*\", e).group())\n",
    "    except: \n",
    "        dates.append(\"not found\")\n",
    "len(dates)"
   ]
  },
  {
   "cell_type": "code",
   "execution_count": 41,
   "metadata": {},
   "outputs": [
    {
     "data": {
      "text/plain": [
       "3977"
      ]
     },
     "execution_count": 41,
     "metadata": {},
     "output_type": "execute_result"
    }
   ],
   "source": [
    "#email date\n",
    "emails_info['date_sent']=[]\n",
    "for dat in dates:\n",
    "    res=re.findall(r\"\\d+\\s\\w{3}\\s\\d+\", dat)\n",
    "    if res:\n",
    "        emails_info['date_sent'].append(res[0])\n",
    "    else:\n",
    "        emails_info['date_sent'].append(np.nan)\n",
    "\n",
    "len(emails_info['date_sent'])"
   ]
  },
  {
   "cell_type": "code",
   "execution_count": 42,
   "metadata": {},
   "outputs": [
    {
     "data": {
      "text/plain": [
       "3977"
      ]
     },
     "execution_count": 42,
     "metadata": {},
     "output_type": "execute_result"
    }
   ],
   "source": [
    "emails_info['time_sent']=[]\n",
    "for dat in dates:\n",
    "    res=re.findall(r\"\\d{2}:\\d{2}:\\d{2}\", dat)\n",
    "    if res:\n",
    "        emails_info['time_sent'].append(res[0])\n",
    "    else:\n",
    "        emails_info['time_sent'].append(np.nan)\n",
    "\n",
    "len(emails_info['time_sent'])"
   ]
  },
  {
   "cell_type": "markdown",
   "metadata": {},
   "source": [
    "### Subject"
   ]
  },
  {
   "cell_type": "code",
   "execution_count": 43,
   "metadata": {},
   "outputs": [
    {
     "data": {
      "text/plain": [
       "3977"
      ]
     },
     "execution_count": 43,
     "metadata": {},
     "output_type": "execute_result"
    }
   ],
   "source": [
    "subject=[]\n",
    "for i,e in enumerate(contents):\n",
    "    try:\n",
    "        subject.append(re.search(\"Subject:.*\", e).group())\n",
    "    except: \n",
    "        subject.append(\"not found\")\n",
    "len(subject)"
   ]
  },
  {
   "cell_type": "code",
   "execution_count": 44,
   "metadata": {},
   "outputs": [
    {
     "data": {
      "text/plain": [
       "3977"
      ]
     },
     "execution_count": 44,
     "metadata": {},
     "output_type": "execute_result"
    }
   ],
   "source": [
    "emails_info['subject']=[]\n",
    "for sub in subject:\n",
    "    res=re.findall(r\":.*\", sub)\n",
    "    if res:\n",
    "        emails_info['subject'].append(res[0][2:])\n",
    "    else:\n",
    "        emails_info['subject'].append(np.nan)\n",
    "\n",
    "len(emails_info['subject'])"
   ]
  },
  {
   "cell_type": "markdown",
   "metadata": {},
   "source": [
    "### Creating DataFrame"
   ]
  },
  {
   "cell_type": "code",
   "execution_count": 45,
   "metadata": {},
   "outputs": [
    {
     "data": {
      "text/plain": [
       "sender_email    476\n",
       "sender_name     837\n",
       "date_sent       614\n",
       "time_sent       618\n",
       "subject          27\n",
       "dtype: int64"
      ]
     },
     "execution_count": 45,
     "metadata": {},
     "output_type": "execute_result"
    }
   ],
   "source": [
    "df=pd.DataFrame(emails_info)\n",
    "df.isnull().sum()"
   ]
  },
  {
   "cell_type": "code",
   "execution_count": 46,
   "metadata": {},
   "outputs": [
    {
     "data": {
      "text/html": [
       "<div>\n",
       "<style scoped>\n",
       "    .dataframe tbody tr th:only-of-type {\n",
       "        vertical-align: middle;\n",
       "    }\n",
       "\n",
       "    .dataframe tbody tr th {\n",
       "        vertical-align: top;\n",
       "    }\n",
       "\n",
       "    .dataframe thead th {\n",
       "        text-align: right;\n",
       "    }\n",
       "</style>\n",
       "<table border=\"1\" class=\"dataframe\">\n",
       "  <thead>\n",
       "    <tr style=\"text-align: right;\">\n",
       "      <th></th>\n",
       "      <th>sender_email</th>\n",
       "      <th>sender_name</th>\n",
       "      <th>date_sent</th>\n",
       "      <th>time_sent</th>\n",
       "      <th>subject</th>\n",
       "    </tr>\n",
       "  </thead>\n",
       "  <tbody>\n",
       "    <tr>\n",
       "      <th>0</th>\n",
       "      <td>james_ngola2002@maktoob.com</td>\n",
       "      <td>\"MR. JAMES NGOLA.\"</td>\n",
       "      <td>31 Oct 2002</td>\n",
       "      <td>02:38:20</td>\n",
       "      <td>URGENT BUSINESS ASSISTANCE AND PARTNERSHIP</td>\n",
       "    </tr>\n",
       "    <tr>\n",
       "      <th>1</th>\n",
       "      <td>bensul2004nng@spinfinder.com</td>\n",
       "      <td>\"Mr. Ben Suleman\"</td>\n",
       "      <td>31 Oct 2002</td>\n",
       "      <td>05:10:00</td>\n",
       "      <td>URGENT ASSISTANCE /RELATIONSHIP (P)</td>\n",
       "    </tr>\n",
       "    <tr>\n",
       "      <th>2</th>\n",
       "      <td>obong_715@epatra.com</td>\n",
       "      <td>\"PRINCE OBONG ELEME\"</td>\n",
       "      <td>31 Oct 2002</td>\n",
       "      <td>22:17:55</td>\n",
       "      <td>GOOD DAY TO YOU</td>\n",
       "    </tr>\n",
       "    <tr>\n",
       "      <th>3</th>\n",
       "      <td>obong_715@epatra.com</td>\n",
       "      <td>\"PRINCE OBONG ELEME\"</td>\n",
       "      <td>31 Oct 2002</td>\n",
       "      <td>22:44:20</td>\n",
       "      <td>GOOD DAY TO YOU</td>\n",
       "    </tr>\n",
       "    <tr>\n",
       "      <th>4</th>\n",
       "      <td>m_abacha03@www.com</td>\n",
       "      <td>\"Maryam Abacha\"</td>\n",
       "      <td>1 Nov 2002</td>\n",
       "      <td>01:45:04</td>\n",
       "      <td>I Need Your Assistance.</td>\n",
       "    </tr>\n",
       "  </tbody>\n",
       "</table>\n",
       "</div>"
      ],
      "text/plain": [
       "                   sender_email             sender_name    date_sent  \\\n",
       "0   james_ngola2002@maktoob.com     \"MR. JAMES NGOLA.\"   31 Oct 2002   \n",
       "1  bensul2004nng@spinfinder.com      \"Mr. Ben Suleman\"   31 Oct 2002   \n",
       "2          obong_715@epatra.com   \"PRINCE OBONG ELEME\"   31 Oct 2002   \n",
       "3          obong_715@epatra.com   \"PRINCE OBONG ELEME\"   31 Oct 2002   \n",
       "4            m_abacha03@www.com        \"Maryam Abacha\"    1 Nov 2002   \n",
       "\n",
       "  time_sent                                     subject  \n",
       "0  02:38:20  URGENT BUSINESS ASSISTANCE AND PARTNERSHIP  \n",
       "1  05:10:00         URGENT ASSISTANCE /RELATIONSHIP (P)  \n",
       "2  22:17:55                             GOOD DAY TO YOU  \n",
       "3  22:44:20                             GOOD DAY TO YOU  \n",
       "4  01:45:04                     I Need Your Assistance.  "
      ]
     },
     "execution_count": 46,
     "metadata": {},
     "output_type": "execute_result"
    }
   ],
   "source": [
    "df.head()"
   ]
  },
  {
   "cell_type": "markdown",
   "metadata": {},
   "source": [
    "### ¡Now you can start your analysis!"
   ]
  },
  {
   "cell_type": "code",
   "execution_count": null,
   "metadata": {},
   "outputs": [],
   "source": []
  },
  {
   "cell_type": "code",
   "execution_count": null,
   "metadata": {},
   "outputs": [],
   "source": []
  }
 ],
 "metadata": {
  "kernelspec": {
   "display_name": "Python 3",
   "language": "python",
   "name": "python3"
  },
  "language_info": {
   "codemirror_mode": {
    "name": "ipython",
    "version": 3
   },
   "file_extension": ".py",
   "mimetype": "text/x-python",
   "name": "python",
   "nbconvert_exporter": "python",
   "pygments_lexer": "ipython3",
   "version": "3.8.5"
  }
 },
 "nbformat": 4,
 "nbformat_minor": 4
}
