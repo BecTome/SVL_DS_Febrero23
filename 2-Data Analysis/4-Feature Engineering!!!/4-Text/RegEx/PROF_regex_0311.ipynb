{
 "cells": [
  {
   "cell_type": "markdown",
   "metadata": {},
   "source": [
    "# Regular Expressions (RegEx)"
   ]
  },
  {
   "cell_type": "markdown",
   "metadata": {},
   "source": [
    "A regular expression, regex or regexp is a sequence of characters that define a search pattern."
   ]
  },
  {
   "cell_type": "markdown",
   "metadata": {},
   "source": [
    "![regex](https://miro.medium.com/max/1200/1*ZVlIZ1ZYC6rASz-dYPzhZQ.jpeg)"
   ]
  },
  {
   "cell_type": "markdown",
   "metadata": {},
   "source": [
    "**references**\n",
    "\n",
    "- https://docs.python.org/3/howto/regex.html\n",
    "- https://www.datacamp.com/community/tutorials/python-regular-expression-tutorial\n",
    "- https://www.dataquest.io/blog/regular-expressions-data-scientists/\n",
    "- https://www.kaggle.com/rtatman/fraudulent-email-corpus\n",
    "\n",
    "**may save your life**\n",
    "\n",
    "- https://regex101.com/"
   ]
  },
  {
   "cell_type": "markdown",
   "metadata": {},
   "source": [
    "### First things first"
   ]
  },
  {
   "cell_type": "markdown",
   "metadata": {},
   "source": [
    "For the standard case **import re** should be enough. For the later case **pip3/pip install regex** should install it."
   ]
  },
  {
   "cell_type": "code",
   "execution_count": 1,
   "metadata": {},
   "outputs": [],
   "source": [
    "import re\n",
    "import numpy as np\n",
    "import pandas as pd"
   ]
  },
  {
   "cell_type": "markdown",
   "metadata": {},
   "source": [
    "## Sintax\n",
    "### Special Characters:\n",
    "- `.` Matches any character except a newline.\n",
    "- `^` Matches the start of the string.\n",
    "- `$` Matches the end of the string or just before the newline at the end of the string.\n",
    "- `*` Matches 0 or more repetitions of the preceding RE.\n",
    "- `+` Matches 1 or more repetitions of the preceding RE.\n",
    "- `?` Matches 0 or 1 repetitions of the preceding RE.\n",
    "- `?<=` Matches Lookbehind --> https://www.regular-expressions.info/lookaround.html\n",
    "- NOTA: re.M -> modo multilinea"
   ]
  },
  {
   "cell_type": "markdown",
   "metadata": {},
   "source": [
    "### Special Sequences:\n",
    "\n",
    "- **Literals** `a` \n",
    "- **Alternation** `a|b`\n",
    "- **Character sets** `[ab]`, `[^ab]` <- we use the hat between brackets to indicate that we want the opposite\n",
    "- **Wildcards** `.`\n",
    "- **Escape special characters** `\\` (?,*,+,^,$)\n",
    "- **Ranges** `[a-d]`, `[1-9]`, `[A-D]`\n",
    "\n",
    "- **Quantifiers** `{2}`, `{2,}`, `{2,4}`, `?`, `*`, `+`\n",
    "- **Grouping** `()`\n",
    "- **Anchors** `^`, `$`\n",
    "- **Character classes** `\\w`, `\\d`, `\\s`, `\\n`, `\\W`, `\\D`, `\\S`\n",
    "\n",
    "**\\w** - Matches any alphanumeric character (digits and alphabets). Equivalent to `[a-zA-Z0-9_]`. By the way, underscore _ is also considered an alphanumeric character. \n",
    "\n",
    "**\\d** - Matches any digit. Equivalent to `[0-9]` \n",
    "\n",
    "**\\s** - Matches where a string contains any whitespace character. Equivalent to `[ \\t\\n\\r\\f\\v]`\n",
    "\n",
    "**\\W** - Matches any non-alphanumeric character. Equivalent to `[^a-zA-Z0-9_]`\n",
    "\n",
    "**\\D** - Matches any non digit. Equivalent to `[^0-9]` \n",
    "\n",
    "**\\S** - Matches where a string contains any non-whitespace character. Equivalent to `[^ \\t\\n\\r\\f\\v]`\n",
    "\n"
   ]
  },
  {
   "cell_type": "markdown",
   "metadata": {},
   "source": [
    "### Methods"
   ]
  },
  {
   "cell_type": "markdown",
   "metadata": {},
   "source": [
    "### re.sub(pattern, repl, string, count=0)\n",
    "Replaces one or many matches with a string"
   ]
  },
  {
   "cell_type": "code",
   "execution_count": 4,
   "metadata": {},
   "outputs": [],
   "source": [
    "txt = \"gabriel, DDio & CClara are TA's??\""
   ]
  },
  {
   "cell_type": "code",
   "execution_count": 16,
   "metadata": {},
   "outputs": [],
   "source": [
    "txt_mod = re.sub('(D.*)', 'DWORD', txt)"
   ]
  },
  {
   "cell_type": "code",
   "execution_count": 18,
   "metadata": {},
   "outputs": [
    {
     "data": {
      "text/plain": [
       "'gabriel, DWORD'"
      ]
     },
     "execution_count": 18,
     "metadata": {},
     "output_type": "execute_result"
    }
   ],
   "source": [
    "txt_mod"
   ]
  },
  {
   "cell_type": "code",
   "execution_count": 15,
   "metadata": {},
   "outputs": [
    {
     "data": {
      "text/plain": [
       "\"gabriel, DDio & CClara are TA's??\""
      ]
     },
     "execution_count": 15,
     "metadata": {},
     "output_type": "execute_result"
    }
   ],
   "source": [
    "txt"
   ]
  },
  {
   "cell_type": "code",
   "execution_count": null,
   "metadata": {},
   "outputs": [],
   "source": []
  },
  {
   "cell_type": "code",
   "execution_count": 21,
   "metadata": {},
   "outputs": [],
   "source": [
    "a = '2'"
   ]
  },
  {
   "cell_type": "code",
   "execution_count": 163,
   "metadata": {},
   "outputs": [
    {
     "data": {
      "text/plain": [
       "\"2& CClara are TA's??\""
      ]
     },
     "execution_count": 163,
     "metadata": {},
     "output_type": "execute_result"
    }
   ],
   "source": [
    "txt = \"gabriel, DDDio & CClara are TA's??\"\n",
    "re.sub('a(?=\\&)', '2', txt)"
   ]
  },
  {
   "cell_type": "code",
   "execution_count": 22,
   "metadata": {},
   "outputs": [
    {
     "data": {
      "text/plain": [
       "\"gabriel, 2Dio & 2lara are 2's??\""
      ]
     },
     "execution_count": 22,
     "metadata": {},
     "output_type": "execute_result"
    }
   ],
   "source": [
    "re.sub('[A-Z]{2}', a, txt)"
   ]
  },
  {
   "cell_type": "code",
   "execution_count": 20,
   "metadata": {},
   "outputs": [
    {
     "data": {
      "text/plain": [
       "\"gabriel, 2Dio & 2lara are 2's??\""
      ]
     },
     "execution_count": 20,
     "metadata": {},
     "output_type": "execute_result"
    }
   ],
   "source": [
    "#re.sub\n",
    "#Literals\n",
    "#{2} 2 occurencies of [A-Z] substituted by a\n",
    "txt = \"gabriel, DDDio & CClara are TA's??\"\n",
    "txt = re.sub('[A-Z]{2}', a, txt)\n",
    "txt"
   ]
  },
  {
   "cell_type": "code",
   "execution_count": 23,
   "metadata": {},
   "outputs": [
    {
     "data": {
      "text/plain": [
       "\"gabriel, io & lara are 's??\""
      ]
     },
     "execution_count": 23,
     "metadata": {},
     "output_type": "execute_result"
    }
   ],
   "source": [
    "#Ranges\n",
    "txt = \"gabriel, DDDio & CClara are TA's??\"\n",
    "re.sub('[A-Z]','',txt)"
   ]
  },
  {
   "cell_type": "code",
   "execution_count": 68,
   "metadata": {},
   "outputs": [
    {
     "data": {
      "text/plain": [
       "\"gabriel, DDDio & CClara are TA's.\""
      ]
     },
     "execution_count": 68,
     "metadata": {},
     "output_type": "execute_result"
    }
   ],
   "source": [
    "#Escape special character, quantifiers\n",
    "re.sub('\\?{2}','.',txt)"
   ]
  },
  {
   "cell_type": "code",
   "execution_count": 28,
   "metadata": {},
   "outputs": [
    {
     "name": "stdout",
     "output_type": "stream",
     "text": [
      "c:\\Users\\alber\\Documents\\GitHub\\TheBridge\\SVL_DS_Septiembre22\\2-Data Analysis\\4-Feature Engineering!!!\\4-Text\\RegEx\n",
      "c:\\Users\\alber\\Documents\\GitHub\\TheBridge\\SVL_DS_Septiembre22\\2-Data Analysis\\4-Feature Engineering\\4-Text\\RegEx\n"
     ]
    }
   ],
   "source": [
    "import os\n",
    "path = os.getcwd()\n",
    "print(path)\n",
    "print(re.sub('\\!', '', path))"
   ]
  },
  {
   "cell_type": "code",
   "execution_count": 34,
   "metadata": {},
   "outputs": [
    {
     "data": {
      "text/plain": [
       "'c:\\\\Users\\\\alber\\\\Documents\\\\GitHub\\\\TheBridge\\\\SVL_DS_Septiembre22\\\\2-Data Analysis\\\\4-Feature Engineering!!!\\\\4-Text\\\\RegEx'"
      ]
     },
     "execution_count": 34,
     "metadata": {},
     "output_type": "execute_result"
    }
   ],
   "source": [
    "path"
   ]
  },
  {
   "cell_type": "code",
   "execution_count": 31,
   "metadata": {},
   "outputs": [
    {
     "name": "stdout",
     "output_type": "stream",
     "text": [
      "Hola\n",
      "Adios\n"
     ]
    }
   ],
   "source": [
    "print('Hola\\nAdios')"
   ]
  },
  {
   "cell_type": "code",
   "execution_count": 35,
   "metadata": {},
   "outputs": [
    {
     "name": "stdout",
     "output_type": "stream",
     "text": [
      "El salto de línea se escribe  con \\n\n",
      "Y eso es lo que hay\n"
     ]
    }
   ],
   "source": [
    "print(\"El salto de línea se escribe  con \\\\n\\nY eso es lo que hay\")"
   ]
  },
  {
   "cell_type": "code",
   "execution_count": 43,
   "metadata": {},
   "outputs": [
    {
     "data": {
      "text/plain": [
       "'c:\\\\Users\\\\alber\\\\Documents\\\\GitHub\\\\TheBridge'"
      ]
     },
     "execution_count": 43,
     "metadata": {},
     "output_type": "execute_result"
    }
   ],
   "source": [
    "re.sub('\\\\\\\\SVL_DS_Septiembre22.+', '', path)"
   ]
  },
  {
   "cell_type": "markdown",
   "metadata": {},
   "source": [
    "### re.search(pattern, string, flags=0)\n",
    "Scan through a string, looking for any location where this RE matches. If the search is succesful, `re.search()` returns a match object. Otherwise, it returns `None`.\n",
    "\n",
    "`re.search()` method either returns None (if the pattern doesn’t match), or a re.MatchObject that contains information about the matching part of the string. This method stops after the first match, so this is best suited for testing a regular expression more than extracting data."
   ]
  },
  {
   "cell_type": "code",
   "execution_count": 51,
   "metadata": {},
   "outputs": [
    {
     "data": {
      "text/plain": [
       "(0, 17)"
      ]
     },
     "execution_count": 51,
     "metadata": {},
     "output_type": "execute_result"
    }
   ],
   "source": [
    "#re.search\n",
    "txt = \"The rain in Spain and the sun in England, Tower\"\n",
    "x = re.search(\"^The.*Spain\", txt) \n",
    "x.span()"
   ]
  },
  {
   "cell_type": "code",
   "execution_count": 62,
   "metadata": {},
   "outputs": [
    {
     "name": "stdout",
     "output_type": "stream",
     "text": [
      "<re.Match object; span=(12, 17), match='Spain'>\n",
      "(12, 17)\n",
      "12\n",
      "17\n",
      "The rain in Spain\n",
      "Spain\n"
     ]
    }
   ],
   "source": [
    "txt = \"The rain in Spain\"\n",
    "#\\b everything starts with \"S\" and have any character next.\n",
    "# w+ for getting all the string\n",
    "x = re.search(r\"\\bS\\w+\", txt)\n",
    "print(x)\n",
    "print(x.span())\n",
    "#returns a tuple containing the start-, and end positions of the match\n",
    "print(x.start())\n",
    "#contains the start position of the match\n",
    "print(x.end())\n",
    "#contains the end position of the match\n",
    "print(x.string)\n",
    "#print the string passed into the function (variable 'txt')\n",
    "print(x.group())\n",
    "#Print the part of the string where there was a match"
   ]
  },
  {
   "cell_type": "code",
   "execution_count": 65,
   "metadata": {},
   "outputs": [
    {
     "name": "stdout",
     "output_type": "stream",
     "text": [
      "No hay una palabra que empiece por S\n"
     ]
    }
   ],
   "source": [
    "txt2 = \"Hola soy Yo\"\n",
    "if re.search(r\"\\bS\\w+\", txt2):\n",
    "    print(\"Hay una palabra que empieza por S\")\n",
    "else:\n",
    "    print(\"No hay una palabra que empiece por S\")"
   ]
  },
  {
   "cell_type": "code",
   "execution_count": 68,
   "metadata": {},
   "outputs": [
    {
     "name": "stdout",
     "output_type": "stream",
     "text": [
      "Hola Alberto\n"
     ]
    }
   ],
   "source": [
    "passw = input(\"Introduzca nombre:\")\n",
    "while True:\n",
    "    if re.search('^[A-Z][a-z]+$', passw):\n",
    "        print(\"Hola {}\".format(passw))\n",
    "        break\n",
    "    else:\n",
    "        passw = input(\"Incorrecto, introduzca nombre válido:\")"
   ]
  },
  {
   "cell_type": "code",
   "execution_count": 69,
   "metadata": {},
   "outputs": [
    {
     "name": "stdout",
     "output_type": "stream",
     "text": [
      "S\n",
      "p\n",
      "a\n",
      "i\n",
      "n\n"
     ]
    }
   ],
   "source": [
    "for i in range(x.start(), x.end()):\n",
    "    print(x.string[i])"
   ]
  },
  {
   "cell_type": "code",
   "execution_count": 105,
   "metadata": {},
   "outputs": [
    {
     "name": "stdout",
     "output_type": "stream",
     "text": [
      "Hola \\n que tal\n",
      "Hola \n",
      " que tal\n"
     ]
    }
   ],
   "source": [
    "print(r\"Hola \\n que tal\")\n",
    "print(\"Hola \\n que tal\")"
   ]
  },
  {
   "cell_type": "code",
   "execution_count": 71,
   "metadata": {},
   "outputs": [
    {
     "name": "stdout",
     "output_type": "stream",
     "text": [
      "The rain in Spain\n",
      "rain in\n",
      "None\n",
      "The\n",
      "None\n"
     ]
    }
   ],
   "source": [
    "print(txt)\n",
    "print(re.search(r'r\\w+\\s\\w+', txt).group())\n",
    "print(re.search(r'R\\w+', txt))\n",
    "print(re.search(r'T\\w*', txt).group())\n",
    "print(re.search(r'^t\\w*', txt))"
   ]
  },
  {
   "cell_type": "code",
   "execution_count": 72,
   "metadata": {},
   "outputs": [
    {
     "name": "stdout",
     "output_type": "stream",
     "text": [
      "P. \n"
     ]
    }
   ],
   "source": [
    "txt3 = \"Me llamo P. Perez\"\n",
    "print(re.search(r'\\w+\\.\\s', txt3).group())"
   ]
  },
  {
   "cell_type": "markdown",
   "metadata": {},
   "source": [
    "### re.match(pattern, string)\n",
    "Determine if the RE matches at the beginning of the string.\n",
    "\n",
    "There is a difference between the use of both functions. Both return the first match of a substring found in the string, but `re.match()` searches only from the beginning of the string and return match object if found. But if a match of substring is found somewhere in the middle of the string, it returns none. \n",
    "While `re.search()` searches for the whole string even if the string contains multi-lines and tries to find a match of the substring in all the lines of string."
   ]
  },
  {
   "cell_type": "code",
   "execution_count": 77,
   "metadata": {},
   "outputs": [
    {
     "name": "stdout",
     "output_type": "stream",
     "text": [
      "Match!\n"
     ]
    }
   ],
   "source": [
    "#re.match\n",
    "pattern = r\"\\w{2}\"\n",
    "sequence = \"I want a Cookie\"\n",
    "sequence2= \"Cookie, I want you!\"\n",
    "if re.match(pattern, sequence2):\n",
    "    print(\"Match!\")\n",
    "else: \n",
    "    print(\"Not a match!\")"
   ]
  },
  {
   "cell_type": "code",
   "execution_count": 87,
   "metadata": {},
   "outputs": [
    {
     "name": "stdout",
     "output_type": "stream",
     "text": [
      "None\n",
      "None\n",
      "The\n",
      "The\n"
     ]
    }
   ],
   "source": [
    "txt = \"The rain in Spain\"\n",
    "#matches at the beginning of the string\n",
    "print(re.match(r'r\\w*', txt))\n",
    "print(re.match(r'^r\\w*', txt))\n",
    "\n",
    "print(re.search(r'^T\\w*', txt).group()) # search with ^ is the same as match\n",
    "\n",
    "print(re.match(r'T\\w*', txt).group())"
   ]
  },
  {
   "cell_type": "code",
   "execution_count": 89,
   "metadata": {},
   "outputs": [
    {
     "data": {
      "text/plain": [
       "<re.Match object; span=(0, 2), match='El'>"
      ]
     },
     "execution_count": 89,
     "metadata": {},
     "output_type": "execute_result"
    }
   ],
   "source": [
    "re.match(r'E\\w+', text)"
   ]
  },
  {
   "cell_type": "code",
   "execution_count": 90,
   "metadata": {},
   "outputs": [
    {
     "data": {
      "text/plain": [
       "<re.Match object; span=(0, 2), match='El'>"
      ]
     },
     "execution_count": 90,
     "metadata": {},
     "output_type": "execute_result"
    }
   ],
   "source": [
    "re.search(r'^E\\w+', text)"
   ]
  },
  {
   "cell_type": "code",
   "execution_count": 88,
   "metadata": {},
   "outputs": [
    {
     "name": "stdout",
     "output_type": "stream",
     "text": [
      "False\n"
     ]
    }
   ],
   "source": [
    "text = 'El caballo blanco de Santiago'\n",
    "\n",
    "print(re.match(r'E\\w+', text) == re.search(r'^E\\w+', text))"
   ]
  },
  {
   "cell_type": "code",
   "execution_count": 91,
   "metadata": {},
   "outputs": [
    {
     "data": {
      "text/plain": [
       "'El'"
      ]
     },
     "execution_count": 91,
     "metadata": {},
     "output_type": "execute_result"
    }
   ],
   "source": [
    "re.match(r'E\\w+', text).group()"
   ]
  },
  {
   "cell_type": "code",
   "execution_count": 92,
   "metadata": {},
   "outputs": [
    {
     "data": {
      "text/plain": [
       "'El'"
      ]
     },
     "execution_count": 92,
     "metadata": {},
     "output_type": "execute_result"
    }
   ],
   "source": [
    "re.search(r'^E\\w+', text).group()"
   ]
  },
  {
   "cell_type": "code",
   "execution_count": 95,
   "metadata": {},
   "outputs": [
    {
     "data": {
      "text/plain": [
       "True"
      ]
     },
     "execution_count": 95,
     "metadata": {},
     "output_type": "execute_result"
    }
   ],
   "source": [
    "re.match(r'E\\w+', text).group() == re.search(r'^E\\w+', text).group()"
   ]
  },
  {
   "cell_type": "code",
   "execution_count": 116,
   "metadata": {},
   "outputs": [
    {
     "data": {
      "text/plain": [
       "<re.Match object; span=(0, 2), match='El'>"
      ]
     },
     "execution_count": 116,
     "metadata": {},
     "output_type": "execute_result"
    }
   ],
   "source": [
    "re.search(r'^E\\w+', text)"
   ]
  },
  {
   "cell_type": "code",
   "execution_count": 96,
   "metadata": {},
   "outputs": [
    {
     "name": "stdout",
     "output_type": "stream",
     "text": [
      "support@thebridge.com\n",
      "support\n",
      "thebridge.com\n"
     ]
    }
   ],
   "source": [
    "email_address = 'Please contact us at: support@thebridge.com'\n",
    "matchi = re.search(r'(\\w+)@([\\w\\.]+)', email_address)\n",
    "if matchi:\n",
    "    print(matchi.group(0)) # The whole matched text\n",
    "    print(matchi.group(1)) # The username (group 1)\n",
    "    print(matchi.group(2)) # The host (group 2)"
   ]
  },
  {
   "cell_type": "code",
   "execution_count": 98,
   "metadata": {},
   "outputs": [
    {
     "data": {
      "text/plain": [
       "'support@thebridge.com'"
      ]
     },
     "execution_count": 98,
     "metadata": {},
     "output_type": "execute_result"
    }
   ],
   "source": [
    "matchi.group()"
   ]
  },
  {
   "cell_type": "code",
   "execution_count": 97,
   "metadata": {},
   "outputs": [
    {
     "data": {
      "text/plain": [
       "('support', 'thebridge.com')"
      ]
     },
     "execution_count": 97,
     "metadata": {},
     "output_type": "execute_result"
    }
   ],
   "source": [
    "matchi.groups()"
   ]
  },
  {
   "cell_type": "code",
   "execution_count": 102,
   "metadata": {},
   "outputs": [],
   "source": [
    "email_address = 'Please contact us at: support@thebridge.com'\n",
    "matchi = re.match(r'(\\w+)@([\\w\\.]+)', email_address)\n",
    "if matchi:\n",
    "    print(matchi.group(0)) # The whole matched text\n",
    "    print(matchi.group(1)) # The username (group 1)\n",
    "    print(matchi.group(2)) # The host (group 2)"
   ]
  },
  {
   "cell_type": "code",
   "execution_count": 100,
   "metadata": {},
   "outputs": [
    {
     "data": {
      "text/plain": [
       "NoneType"
      ]
     },
     "execution_count": 100,
     "metadata": {},
     "output_type": "execute_result"
    }
   ],
   "source": [
    "type(matchi)"
   ]
  },
  {
   "cell_type": "markdown",
   "metadata": {},
   "source": [
    "### re.fullmatch(pattern, string)"
   ]
  },
  {
   "cell_type": "markdown",
   "metadata": {},
   "source": [
    "the difference between `re.match()` and `re.fullmatch()` is that `re.match()` matches only at the beginning but `re.fullmatch()` tries to match at the end as well."
   ]
  },
  {
   "cell_type": "code",
   "execution_count": 104,
   "metadata": {},
   "outputs": [
    {
     "name": "stdout",
     "output_type": "stream",
     "text": [
      "Andrea is not desired name\n",
      "Ariadna is not desired name\n",
      "Estela is not desired name\n",
      "Anais is not desired name\n",
      "Xeles is not desired name\n",
      "Maria is desired name\n",
      "Mar is not desired name\n",
      "Mariano is not desired name\n"
     ]
    }
   ],
   "source": [
    "class_names = [\"Andrea\", \"Ariadna\", \"Estela\", \"Anais\", \"Xeles\", \"Maria\", \"Mar\", \"Mariano\"]\n",
    "for name in class_names:\n",
    "    if re.fullmatch(\"Maria\", name):\n",
    "        print(f\"{name} is desired name\")\n",
    "    else:\n",
    "        print(f\"{name} is not desired name\")"
   ]
  },
  {
   "cell_type": "code",
   "execution_count": 141,
   "metadata": {},
   "outputs": [
    {
     "name": "stdout",
     "output_type": "stream",
     "text": [
      "SEARCH:\n",
      "nombre_apellido@dominio.com\n",
      "nombre_apellido@dominio.com\n",
      "nombre_apellido@dominio.com\n",
      "\n",
      "\n",
      "\n",
      "MATCH:\n",
      "nombre_apellido@dominio.com\n",
      "None\n",
      "nombre_apellido@dominio.com\n",
      "\n",
      "\n",
      "\n",
      "FULLMATCH:\n",
      "nombre_apellido@dominio.com\n",
      "None\n",
      "None\n"
     ]
    }
   ],
   "source": [
    "txt = 'nombre_apellido@dominio.com'\n",
    "txt2 = 'Email: nombre_apellido@dominio.com'\n",
    "txt3 = 'nombre_apellido@dominio.com es mi email'\n",
    "\n",
    "# Primero aplicamos el search\n",
    "print(\"SEARCH:\")\n",
    "\n",
    "for tx in [txt, txt2, txt3]:\n",
    "    matchi = re.search(r'(\\w+)@([\\w\\.]+)', tx)\n",
    "    if matchi:\n",
    "        print(matchi.group())\n",
    "    else:\n",
    "        print(\"None\")\n",
    "\n",
    "print(\"\\n\\n\")\n",
    "\n",
    "print(\"MATCH:\")\n",
    "\n",
    "for tx in [txt, txt2, txt3]:\n",
    "    matchi = re.match(r'(\\w+)@([\\w\\.]+)', tx)\n",
    "    if matchi:\n",
    "        print(matchi.group())\n",
    "    else:\n",
    "        print(\"None\")\n",
    "\n",
    "print('\\n'*2)\n",
    "\n",
    "print(\"FULLMATCH:\")\n",
    "\n",
    "for tx in [txt, txt2, txt3]:\n",
    "    matchi = re.fullmatch(r'(\\w+)@([\\w\\.]+)', tx)\n",
    "    if matchi:\n",
    "        print(matchi.group())\n",
    "    else:\n",
    "        print(\"None\")"
   ]
  },
  {
   "cell_type": "markdown",
   "metadata": {},
   "source": [
    "### re.findall (pattern, string)\n",
    "Find all substrings where the RE matches, and returns them as a list."
   ]
  },
  {
   "cell_type": "code",
   "execution_count": 111,
   "metadata": {},
   "outputs": [
    {
     "data": {
      "text/plain": [
       "['support.data@data', 'xyz@thebridge.com']"
      ]
     },
     "execution_count": 111,
     "metadata": {},
     "output_type": "execute_result"
    }
   ],
   "source": [
    "#re.findall\n",
    "email_address = \"Please contact us at: support.data@data-science.com, xyz@thebridge.com\"\n",
    "\n",
    "#'addresses' is a list that stores all the possible match\n",
    "addresses = re.findall(r'\\w+\\.?\\w+@[\\w\\.-]+', email_address)\n",
    "addresses"
   ]
  },
  {
   "cell_type": "code",
   "execution_count": 114,
   "metadata": {},
   "outputs": [
    {
     "name": "stdout",
     "output_type": "stream",
     "text": [
      "['P', 'l', 's', 'c', 'n', 't', 'c', 't', 's', 't', ':', 's', 'p', 'p', 'r', 't', '.', 'd', 't', '@', 'd', 't', '-', 's', 'c', 'n', 'c', '.', 'c', 'm', ',', 'x', 'y', 'z', '@', 't', 'h', 'b', 'r', 'd', 'g', '.', 'c', 'm']\n",
      "[' contact']\n",
      "['Please']\n"
     ]
    }
   ],
   "source": [
    "print(re.findall('[^aeiou\\s]',email_address))\n",
    "print(re.findall('\\sc\\w*',email_address))\n",
    "print(re.findall('^P\\w*',email_address))"
   ]
  },
  {
   "cell_type": "code",
   "execution_count": 116,
   "metadata": {},
   "outputs": [],
   "source": [
    "with open('Ejercicios/info.txt', 'r') as file:\n",
    "    client_info = file.read()"
   ]
  },
  {
   "cell_type": "code",
   "execution_count": 117,
   "metadata": {},
   "outputs": [
    {
     "data": {
      "text/plain": [
       "'Wyoming Dudley sit.amet.metus@egestasnunc.ca 2518 Nulla Road 34-739-941-941 Aristotle Grant arcu.Aliquam.ultrices@vestibulumneceuismod.co.uk 8453 Nostra, St. 34-278-870-242 Zephania Copeland Nulla.eu.neque@Fuscealiquetmagna.com P.O. Box 733, 3179 Ligula. Av. 34-999-876-292 Scarlett Ortiz Nullam.velit@non.ca 6082 Massa Road 34-345-887-949 Ocean Bell In@gravidamolestiearcu.co.uk P.O. Box 370, 440 Suspendisse Rd. 34-905-089-682 Meghan Henson non.bibendum@ipsumdolorsit.edu Ap #393-8999 Maecenas Rd. 34-773-463-479 Cole Cantrell rutrum.Fusce.dolor@purusNullamscelerisque.ca Ap #897-8561 Vitae, Rd. 34-017-915-525 Leandra Shaw quam.quis@ac.net P.O. Box 345, 1982 Ipsum Road 34-274-204-840 Michelle Rollins Nulla.eu.neque@idmollis.com 2891 Eget St. 34-575-459-881 Pamela Webster lacus.Cras@quisaccumsan.net 1418 Non Avenue 34-249-358-256 Kieran Aguilar commodo.at@sit.org 393-8798 Phasellus Rd. 34-299-478-659 Harrison Bartlett libero.et.tristique@sodaleseliterat.com Ap #803-4228 Accumsan Rd. 34-094-099-748 Skyler Lancaster porttitor@Integervitaenibh.net P.O. Box 728, 7203 Sed, Av. 34-236-498-114 Xenos Foley Nam.tempor@inmagna.com Ap #400-1688 Libero. Rd. 34-541-455-803 Sebastian Blanchard ac@augueeu.co.uk Ap #453-9113 Nisi Street 34-274-768-546 Herman Key sagittis.lobortis.mauris@atvelitCras.com Ap #270-5853 Risus. Rd. 34-850-484-655 Ulric Harvey Curae.Donec.tincidunt@est.edu Ap #445-6354 Quam. Avenue 34-193-830-599 Deacon Morris senectus.et.netus@ullamcorper.com P.O. Box 524, 5640 Gravida Rd. 34-768-704-320 Raven Hendricks Cras.interdum.Nunc@eratsemper.org Ap #921-9419 In Av. 34-960-058-312 Ferris Norman nascetur@tortoratrisus.com 6318 Aliquam Rd. 34-835-461-291 Reece Burks aliquam@doloregestas.com 995-1345 Sed St. 34-524-499-405 Keegan Simmons ornare@vitae.net P.O. Box 425, 1287 Pellentesque. Street 34-553-655-405 Ava Huber ultricies.ligula.Nullam@malesuada.com Ap #476-3742 Eget, Street 34-193-752-726 Clinton Odom ut.aliquam@imperdietnonvestibulum.ca 5215 Dictum Avenue 34-165-726-657 Amanda Meyer felis.purus@idsapienCras.com 557-4354 Parturient Ave 34-172-146-895 Kadeem Kennedy Integer.urna@non.edu 6159 Elementum, St. 34-309-707-078 Dylan Mcintosh ligula@consequatlectus.co.uk 6191 Tempus St. 34-289-368-945 Lavinia Knox lectus@lacus.com Ap #355-6742 Donec Road 34-432-424-781 Breanna Horton Integer@facilisismagnatellus.com 685-129 Mauris St. 34-880-153-396 Zelenia Simmons egestas.ligula@pedeSuspendisse.co.uk 284-9669 Et St. 34-876-903-767 Tarik Keith est.mollis.non@Donectincidunt.edu 1514 Nulla Street 34-508-574-378 Garrett Orr euismod.ac.fermentum@gravida.ca Ap #301-3913 Libero. Avenue 34-219-498-365 Quynn Hart Nam.interdum.enim@egetmassa.co.uk 4552 Erat Rd. 34-413-279-781 Marvin Everett non.egestas.a@ipsum.edu Ap #332-4113 Felis Ave 34-789-736-506 Bernard Murray malesuada.fames.ac@laciniaorciconsectetuer.net 9212 Tempus Avenue 34-701-997-370 Abraham Trujillo mollis.dui.in@arcu.com 754-3604 Amet, Av. 34-912-146-256 Tanner English taciti@consequat.co.uk Ap #415-5232 Facilisis, Av. 34-550-871-297 Flavia Ramos tellus.faucibus.leo@Pellentesqueultricies.net Ap #340-7466 Donec Avenue 34-818-230-259 Jescie Rice massa.Vestibulum.accumsan@Namnulla.com 3221 Quisque Avenue 34-707-183-700 Quincy Morin justo@fermentumfermentumarcu.org 313-9676 Neque. Rd. 34-006-975-807 Russell Stevens nulla@odioNam.ca 6870 Vulputate, Ave 34-975-336-347 Joel Madden magna@dolornonummy.org P.O. Box 297, 7863 Pede, Road 34-208-023-425 Brady Reed litora.torquent@ipsum.com P.O. Box 285, 4196 Turpis St. 34-810-185-675 Tyrone Juarez parturient@massa.org 6028 Pharetra Street 34-318-817-026 Jescie Short auctor@euerosNam.edu Ap #295-8545 Egestas Rd. 34-229-857-982 Wyoming Gill egestas.Duis.ac@dictumeleifendnunc.edu P.O. Box 590, 9155 Arcu Rd. 34-415-168-417 Conan Schmidt augue.scelerisque@dictum.co.uk Ap #718-6336 Fermentum St. 34-595-803-021 Brody Vega arcu.Vestibulum@turpisegestasFusce.ca 1187 Malesuada St. 34-620-827-404 Sade Morgan lorem.eget.mollis@parturientmontesnascetur.org P.O. Box 104, 7033 Lectus. St. 34-711-768-527 Mary Madden iaculis@Nullamsuscipitest.ca P.O. Box 438, 166 Turpis Avenue 34-159-329-878 Micah Weeks vestibulum@Etiamvestibulummassa.com P.O. Box 504, 3384 Eget Street 34-619-616-824 Zena Reed rutrum.lorem.ac@fringillaporttitorvulputate.org 5351 Justo. Road 34-865-861-872 Eaton Ortiz ac@urnaUt.net P.O. Box 110, 4145 Varius. St. 34-294-644-638 Keith Trujillo magna.Praesent.interdum@Suspendisse.co.uk 553-5099 Lacus, Road 34-439-853-222 Dylan Walls tincidunt@metusAeneansed.edu 197-1551 Vivamus Street 34-215-852-041 Buckminster Huber et@maurisidsapien.org P.O. Box 663, 9678 Diam Av. 34-425-519-500 Wynne Welch velit.egestas.lacinia@nonummyFusce.com Ap #798-3605 Sed St. 34-152-386-570 Beverly Mccormick Proin@luctusvulputate.org 953-395 Egestas St. 34-114-918-271 Quinlan Morrow eget.magna@cursus.edu Ap #839-6857 Ut, Av. 34-578-430-713 Ira Hampton et.risus.Quisque@mollisduiin.edu 878-4520 Sapien, St. 34-198-215-014 Abel Fuller In.at.pede@porttitor.ca Ap #862-5882 Etiam Rd. 34-081-000-664 Kaseem Thornton id@non.co.uk 408-1137 Ut, Street 34-215-712-522 Nathan Lowery dui.Cras.pellentesque@Morbinonsapien.com Ap #814-4168 Nec, Road 34-247-057-497 Ora Massey Vivamus@nullaatsem.ca 102-2852 Nam Road 34-091-856-589 Lunea Medina faucibus@arcuiaculisenim.co.uk P.O. Box 815, 9937 Natoque Ave 34-972-416-447 Imani Knapp dapibus@nonummyipsum.com 7935 Fringilla Avenue 34-371-921-059 George Melendez purus@velit.net 249-1083 Feugiat. Road 34-103-486-092 Arsenio Leach ipsum.leo@ornareelitelit.co.uk P.O. Box 378, 125 Blandit Road 34-093-803-387 Chelsea Lopez nec.eleifend@augue.net 4663 Malesuada. Avenue 34-887-264-237 Jordan Fernandez magnis.dis@nuncest.ca P.O. Box 487, 1132 Diam Avenue 34-396-708-852 Mason Beard vulputate@noncursusnon.co.uk P.O. Box 418, 5259 Lacus. St. 34-935-106-187 Cynthia Cline enim.commodo.hendrerit@tempor.com Ap #830-3526 Ultricies Rd. 34-719-648-197 Kylynn Berger dictum.placerat.augue@sed.co.uk 686-6237 Ut, Av. 34-287-491-518 Raphael Bright massa.rutrum.magna@enim.ca Ap #142-8892 Eget Street 34-190-000-222 Aurora Hensley tristique.neque@Donecegestas.co.uk 244-6510 Augue. Ave 34-632-106-215 Lionel Branch Fusce.aliquet.magna@vel.edu 879-5517 Enim. Ave 34-236-373-612 Chancellor Faulkner et@vulputateposuere.net Ap #494-8635 Nonummy Street 34-103-834-289 Chelsea Oliver risus.Donec@eu.com P.O. Box 852, 7236 Non, Ave 34-247-496-116 Rhonda Tran Aliquam.auctor@Integer.edu 917-6654 Aptent Rd. 34-685-891-953 Merrill Kirby ac@sapien.co.uk Ap #515-8375 Sed, Avenue 34-382-619-851 Nayda Mccall dictum.cursus.Nunc@semmollisdui.edu P.O. Box 954, 2668 Gravida Ave 34-988-032-549 Katell Gross lacus.Aliquam.rutrum@sedhendrerita.co.uk 210-1289 Urna Avenue 34-827-702-441 Grace Rosa venenatis@odioNaminterdum.com Ap #126-662 Nisl. Avenue 34-962-483-735 Dorian Skinner ac@interdumNunc.org Ap #108-4751 Luctus. Rd. 34-045-897-696 Tatiana Charles lorem.auctor.quis@convallis.edu 9598 Nunc Road 34-536-831-838 Britanni Deleon Aenean@magna.edu 5681 Diam. St. 34-008-550-220 Nyssa Rivera arcu@Quisqueimperdiet.ca 568-8885 Aliquam Ave 34-502-109-187 Gloria Copeland habitant.morbi.tristique@nectempusmauris.co.uk P.O. Box 321, 2754 Vel Avenue 34-259-454-764 Zahir Arnold dui.augue.eu@Cras.ca Ap #447-4118 Tempus, St. 34-648-926-885 Basil Shaw ligula.tortor.dictum@velsapien.ca Ap #387-2486 Rhoncus. Road 34-131-055-768 Otto Dawson urna.Nunc@purusmauris.co.uk P.O. Box 486, 8468 Mi Rd. 34-824-680-101 Stone Whitaker Nullam.vitae@necenim.ca P.O. Box 247, 2644 Nascetur Street 34-390-299-105 Elton Lynch sagittis.placerat@ProinultricesDuis.ca 204-9070 Ullamcorper St. 34-022-795-481 Micah Copeland dignissim@lacus.co.uk 8710 Eleifend. Avenue 34-033-595-405 Colton Compton ac@euismodest.co.uk 5334 Turpis. St. 34-058-465-887 Shelby Oconnor Nunc.ut@vitaeerat.edu Ap #891-5687 Nonummy Street 34-857-529-653 Libby Noble at@velit.co.uk 3369 Sem Street 34-621-918-403 Myra Lowe arcu.vel@elita.ca Ap #201-9675 Vivamus Av. 34-715-306-812 Jasmine Peterson et@Intincidunt.org P.O. Box 551, 2211 Lacus. Rd. 34-680-520-067 Zahir Goodwin Aliquam@congueInscelerisque.org Ap #588-4151 Proin St. 34-870-684-275'"
      ]
     },
     "execution_count": 117,
     "metadata": {},
     "output_type": "execute_result"
    }
   ],
   "source": [
    "client_info"
   ]
  },
  {
   "cell_type": "code",
   "execution_count": 122,
   "metadata": {},
   "outputs": [
    {
     "name": "stdout",
     "output_type": "stream",
     "text": [
      "['sit.amet.metus@egestasnunc.ca', 'arcu.Aliquam.ultrices@vestibulumneceuismod.co.uk', 'Nulla.eu.neque@Fuscealiquetmagna.com', 'Nullam.velit@non.ca', 'In@gravidamolestiearcu.co.uk']\n"
     ]
    }
   ],
   "source": [
    "emails_clients=re.findall(r\"[\\w\\.-]+@[\\w\\.-]+\", client_info)\n",
    "print(emails_clients[:5])"
   ]
  },
  {
   "cell_type": "code",
   "execution_count": 123,
   "metadata": {},
   "outputs": [
    {
     "data": {
      "text/plain": [
       "100"
      ]
     },
     "execution_count": 123,
     "metadata": {},
     "output_type": "execute_result"
    }
   ],
   "source": [
    "len(emails_clients)"
   ]
  },
  {
   "cell_type": "code",
   "execution_count": 126,
   "metadata": {},
   "outputs": [],
   "source": [
    "client_numbers_normal = re.findall(r\"\\d{2}-\\d{3}-\\d{3}-\\d{3}\", client_info)"
   ]
  },
  {
   "cell_type": "markdown",
   "metadata": {},
   "source": [
    "\\d = [0-9]\n",
    "\n",
    "\n",
    "\\w = [a-zA-Z0-9_]"
   ]
  },
  {
   "cell_type": "code",
   "execution_count": 127,
   "metadata": {},
   "outputs": [
    {
     "name": "stdout",
     "output_type": "stream",
     "text": [
      "['34-739-941-941', '34-278-870-242', '34-999-876-292', '34-345-887-949', '34-905-089-682']\n"
     ]
    }
   ],
   "source": [
    "print(client_numbers_normal[:5])"
   ]
  },
  {
   "cell_type": "code",
   "execution_count": 134,
   "metadata": {},
   "outputs": [],
   "source": [
    "client_numbers = re.findall(r\"[0-9]{2}-\\d{3}-\\d{3}-\\d{3}\", client_info)\n",
    "client_suff = re.findall(r\"(([0-9]{2}-)\\d{3}-\\d{3}(-\\d{3}))\", client_info)"
   ]
  },
  {
   "cell_type": "code",
   "execution_count": 129,
   "metadata": {},
   "outputs": [
    {
     "name": "stdout",
     "output_type": "stream",
     "text": [
      "['34-739-941-941', '34-278-870-242', '34-999-876-292', '34-345-887-949', '34-905-089-682']\n"
     ]
    }
   ],
   "source": [
    "print(client_numbers[:5])"
   ]
  },
  {
   "cell_type": "code",
   "execution_count": 135,
   "metadata": {},
   "outputs": [
    {
     "data": {
      "text/plain": [
       "[('34-739-941-941', '34-', '-941'),\n",
       " ('34-278-870-242', '34-', '-242'),\n",
       " ('34-999-876-292', '34-', '-292'),\n",
       " ('34-345-887-949', '34-', '-949'),\n",
       " ('34-905-089-682', '34-', '-682')]"
      ]
     },
     "execution_count": 135,
     "metadata": {},
     "output_type": "execute_result"
    }
   ],
   "source": [
    "client_suff[:5]"
   ]
  },
  {
   "cell_type": "markdown",
   "metadata": {},
   "source": [
    "### re.split(pattern, string, maxsplit=0)\n",
    "Returns a list where the string has been split at each match"
   ]
  },
  {
   "cell_type": "code",
   "execution_count": 136,
   "metadata": {},
   "outputs": [],
   "source": [
    "#re.split\n",
    "sente = \"Hello,\\n Please, contact me the sooner.\\n Thank you,\\n Me\""
   ]
  },
  {
   "cell_type": "code",
   "execution_count": 140,
   "metadata": {},
   "outputs": [
    {
     "data": {
      "text/plain": [
       "['Hello,', ' Please, contact me the sooner.', ' Thank you,', ' Me']"
      ]
     },
     "execution_count": 140,
     "metadata": {},
     "output_type": "execute_result"
    }
   ],
   "source": [
    "reg = re.split(\"\\n\", sente)\n",
    "reg"
   ]
  },
  {
   "cell_type": "code",
   "execution_count": 143,
   "metadata": {},
   "outputs": [
    {
     "data": {
      "text/plain": [
       "'Hello,\\n Please, contact me the sooner.\\n Thank you,\\n Me'"
      ]
     },
     "execution_count": 143,
     "metadata": {},
     "output_type": "execute_result"
    }
   ],
   "source": [
    "\"\\n\".join(reg)"
   ]
  },
  {
   "cell_type": "markdown",
   "metadata": {},
   "source": [
    "https://stackoverflow.com/questions/10804732/what-is-the-difference-between-and-in-regex"
   ]
  },
  {
   "cell_type": "code",
   "execution_count": 54,
   "metadata": {},
   "outputs": [
    {
     "data": {
      "text/plain": [
       "'Wyoming Dudley sit.amet.metus@egestasnunc.ca 2518 Nulla Road 34-739-941-941 Aristotle Grant arcu.Aliquam.ultrices@vestibulumneceuismod.co.uk 8453 Nostra, St. 34-278-870-242 Zephania Copeland Nulla.eu.neque@Fuscealiquetmagna.com P.O. Box 733, 3179 Ligula. Av. 34-999-876-292 Scarlett Ortiz Nullam.velit@non.ca 6082 Massa Road 34-345-887-949 Ocean Bell In@gravidamolestiearcu.co.uk P.O. Box 370, 440 Suspendisse Rd. 34-905-089-682 Meghan Henson non.bibendum@ipsumdolorsit.edu Ap #393-8999 Maecenas Rd. 34-773-463-479 Cole Cantrell rutrum.Fusce.dolor@purusNullamscelerisque.ca Ap #897-8561 Vitae, Rd. 34-017-915-525 Leandra Shaw quam.quis@ac.net P.O. Box 345, 1982 Ipsum Road 34-274-204-840 Michelle Rollins Nulla.eu.neque@idmollis.com 2891 Eget St. 34-575-459-881 Pamela Webster lacus.Cras@quisaccumsan.net 1418 Non Avenue 34-249-358-256 Kieran Aguilar commodo.at@sit.org 393-8798 Phasellus Rd. 34-299-478-659 Harrison Bartlett libero.et.tristique@sodaleseliterat.com Ap #803-4228 Accumsan Rd. 34-094-0'"
      ]
     },
     "execution_count": 54,
     "metadata": {},
     "output_type": "execute_result"
    }
   ],
   "source": [
    "client_info[:1000]"
   ]
  },
  {
   "cell_type": "markdown",
   "metadata": {},
   "source": [
    "- ?:  is for non capturing group\n",
    "- ?=  is for positive look ahead\n",
    "- ?!  is for negative look ahead\n",
    "- ?<= is for positive look behind\n",
    "- ?<! is for negative look behind"
   ]
  },
  {
   "cell_type": "code",
   "execution_count": 152,
   "metadata": {},
   "outputs": [
    {
     "name": "stdout",
     "output_type": "stream",
     "text": [
      "['Wyoming Dudley sit.amet.metus@egestasnunc.ca 2518 Nulla Road 34-739-941-941', ' Aristotle Grant arcu.Aliquam.ultrices@vestibulumneceuismod.co.uk 8453 Nostra, St. 34-278-870-242', ' Zephania Copeland Nulla.eu.neque@Fuscealiquetmagna.com P.O. Box 733, 3179 Ligula. Av. 34-999-876-292']\n"
     ]
    }
   ],
   "source": [
    "# No incluye el valor por el que hace el split\n",
    "client_list = re.split(r\"(?<=[0-9]{2}-\\d{3}-\\d{3}-\\d{3})\",client_info)\n",
    "print(client_list[:3])"
   ]
  },
  {
   "cell_type": "code",
   "execution_count": 47,
   "metadata": {},
   "outputs": [
    {
     "name": "stdout",
     "output_type": "stream",
     "text": [
      "['Wyoming Dudley sit.amet.metus@egestasnunc.ca 2518 Nulla Road ', '34-739-941-941 Aristotle Grant arcu.Aliquam.ultrices@vestibulumneceuismod.co.uk 8453 Nostra, St. ', '34-278-870-242 Zephania Copeland Nulla.eu.neque@Fuscealiquetmagna.com P.O. Box 733, 3179 Ligula. Av. ']\n"
     ]
    }
   ],
   "source": [
    "# Incluye el valor del split solo hacia delante\n",
    "client_list = re.split(r\"(?=[0-9]{2}-\\d{3}-\\d{3}-\\d{3})\",client_info)\n",
    "print(client_list[:3])"
   ]
  },
  {
   "cell_type": "code",
   "execution_count": 153,
   "metadata": {},
   "outputs": [
    {
     "name": "stdout",
     "output_type": "stream",
     "text": [
      "['', 'W', 'y', 'o', 'm', 'i', 'n', 'g', ' ', 'D', 'u', 'd', 'l', 'e', 'y', ' ', 's', 'i', 't', '.', 'a', 'm', 'e', 't', '.', 'm', 'e', 't', 'u', 's', '@', 'e', 'g', 'e', 's', 't', 'a', 's', 'n', 'u', 'n', 'c', '.', 'c', 'a', ' ', '2', '5', '1', '8', ' ', 'N', 'u', 'l', 'l', 'a', ' ', 'R', 'o', 'a', 'd', ' 3', '4', '-', '7', '3', '9', '-', '9', '4', '1', '-', '9', '4', '1', ' ', 'A', 'r', 'i', 's', 't', 'o', 't', 'l', 'e', ' ', 'G', 'r', 'a', 'n', 't', ' ', 'a', 'r', 'c', 'u', '.', 'A', 'l', 'i']\n"
     ]
    }
   ],
   "source": [
    "# Todos los valores por los que no hay match\n",
    "client_list = re.split(r\"(?![0-9]{2}-\\d{3}-\\d{3}-\\d{3})\",client_info)\n",
    "print(client_list[:100])"
   ]
  },
  {
   "cell_type": "code",
   "execution_count": 52,
   "metadata": {},
   "outputs": [
    {
     "name": "stdout",
     "output_type": "stream",
     "text": [
      "['Wyoming Dudley sit.amet.metus@egestasnunc.ca 2518 Nulla Road 34-739-941-941', ' Aristotle Grant arcu.Aliquam.ultrices@vestibulumneceuismod.co.uk 8453 Nostra, St. 34-278-870-242', ' Zephania Copeland Nulla.eu.neque@Fuscealiquetmagna.com P.O. Box 733, 3179 Ligula. Av. 34-999-876-292']\n"
     ]
    }
   ],
   "source": [
    "# Coge el valor y los anteriores\n",
    "client_list = re.split(r\"(?<=[0-9]{2}-\\d{3}-\\d{3}-\\d{3})\",client_info)\n",
    "print(client_list[:3])"
   ]
  },
  {
   "cell_type": "markdown",
   "metadata": {},
   "source": [
    "### re.compile(pattern\n",
    "Compiles a RE into a regular expression object."
   ]
  },
  {
   "cell_type": "code",
   "execution_count": 166,
   "metadata": {},
   "outputs": [],
   "source": [
    "name_check = re.compile(r\"[^a-z ]\", re.IGNORECASE) #,  re.IGNORECASE"
   ]
  },
  {
   "cell_type": "code",
   "execution_count": 167,
   "metadata": {},
   "outputs": [
    {
     "data": {
      "text/plain": [
       "re.compile(r'[^a-z ]', re.IGNORECASE|re.UNICODE)"
      ]
     },
     "execution_count": 167,
     "metadata": {},
     "output_type": "execute_result"
    }
   ],
   "source": [
    "name_check"
   ]
  },
  {
   "cell_type": "code",
   "execution_count": 169,
   "metadata": {},
   "outputs": [
    {
     "data": {
      "text/plain": [
       "'-'"
      ]
     },
     "execution_count": 169,
     "metadata": {},
     "output_type": "execute_result"
    }
   ],
   "source": [
    "name_check.search('Adios-').group()"
   ]
  },
  {
   "cell_type": "code",
   "execution_count": 170,
   "metadata": {},
   "outputs": [
    {
     "name": "stdout",
     "output_type": "stream",
     "text": [
      "Please enter your name correctly!\n",
      "Finally mate, I thought you'd never do it\n"
     ]
    }
   ],
   "source": [
    "name = input(\"Please insert your name:\")\n",
    "while name_check.search(name):\n",
    "    # it loops while if finds a match\n",
    "    print(\"Please enter your name correctly!\")\n",
    "    name = input(\"Please insert your name:\")\n",
    "print(\"Finally mate, I thought you'd never do it\")"
   ]
  },
  {
   "cell_type": "markdown",
   "metadata": {},
   "source": [
    "-----------------------------------------------------------------------------------------------------------\n"
   ]
  },
  {
   "cell_type": "markdown",
   "metadata": {},
   "source": [
    "## Some practice \n",
    "Now is your turn."
   ]
  },
  {
   "cell_type": "markdown",
   "metadata": {},
   "source": [
    "#### Simple validation of a username\n",
    "https://www.codewars.com/kata/56a3f08aa9a6cc9b75000023\n",
    "    \n",
    "Write a simple regex to validate a username. Allowed characters are:\n",
    "\n",
    "- lowercase letters,\n",
    "- numbers,\n",
    "- underscore\n",
    "\n",
    "Length should be between 4 and 16 characters (both included).\n"
   ]
  },
  {
   "cell_type": "code",
   "execution_count": 173,
   "metadata": {},
   "outputs": [
    {
     "data": {
      "text/plain": [
       "False"
      ]
     },
     "execution_count": 173,
     "metadata": {},
     "output_type": "execute_result"
    }
   ],
   "source": [
    "bool(None)"
   ]
  },
  {
   "cell_type": "code",
   "execution_count": 197,
   "metadata": {},
   "outputs": [
    {
     "data": {
      "text/plain": [
       "False"
      ]
     },
     "execution_count": 197,
     "metadata": {},
     "output_type": "execute_result"
    }
   ],
   "source": [
    "def user(text):\n",
    "    return (bool(re.search('^[a-z0-9_]+$', text)))&(4 <= len(text) <=  16)\n",
    "\n",
    "user(\"aLberto1234____\")"
   ]
  },
  {
   "cell_type": "code",
   "execution_count": 190,
   "metadata": {},
   "outputs": [
    {
     "data": {
      "text/plain": [
       "<re.Match object; span=(0, 10), match='holaquetal'>"
      ]
     },
     "execution_count": 190,
     "metadata": {},
     "output_type": "execute_result"
    }
   ],
   "source": [
    "username = \"holaquetal\"\n",
    "re.fullmatch(r\"[a-z\\d_]{4,16}\", username)"
   ]
  },
  {
   "cell_type": "code",
   "execution_count": null,
   "metadata": {},
   "outputs": [],
   "source": []
  },
  {
   "cell_type": "code",
   "execution_count": null,
   "metadata": {},
   "outputs": [],
   "source": []
  },
  {
   "cell_type": "code",
   "execution_count": 191,
   "metadata": {},
   "outputs": [
    {
     "data": {
      "text/plain": [
       "True"
      ]
     },
     "execution_count": 191,
     "metadata": {},
     "output_type": "execute_result"
    }
   ],
   "source": [
    "# Fran\n",
    "def validate_usr(username):\n",
    "    import re\n",
    "    str_list = re.findall(\"[a-z0-9_]\",username)\n",
    "    compare = \"\"\n",
    "    compare = compare.join(str_list)\n",
    "    if compare == username and len(compare)<=16 and len(compare)>=4:\n",
    "        return True\n",
    "    else:\n",
    "        return False\n",
    "\n",
    "validate_usr('user_name123')"
   ]
  },
  {
   "cell_type": "code",
   "execution_count": 192,
   "metadata": {},
   "outputs": [
    {
     "data": {
      "text/plain": [
       "True"
      ]
     },
     "execution_count": 192,
     "metadata": {},
     "output_type": "execute_result"
    }
   ],
   "source": [
    "# Selu\n",
    "\n",
    "def validate_usr(username):\n",
    "    # import re\n",
    "    check = re.compile(r'^[a-z0-9_]{4,16}$')\n",
    "    if check.search(username):\n",
    "        return True\n",
    "    else:\n",
    "        return False\n",
    "\n",
    "validate_usr('user_name123')"
   ]
  },
  {
   "cell_type": "code",
   "execution_count": 193,
   "metadata": {},
   "outputs": [
    {
     "data": {
      "text/plain": [
       "True"
      ]
     },
     "execution_count": 193,
     "metadata": {},
     "output_type": "execute_result"
    }
   ],
   "source": [
    "# Ouissam\n",
    "import re\n",
    "def validate_usr(username):\n",
    "    pattern = re.compile(r\"[a-z0-9_]{4,16}\")\n",
    "    if re.fullmatch(pattern, username):\n",
    "        return True\n",
    "    else:\n",
    "        return False\n",
    "\n",
    "validate_usr('user_name123')"
   ]
  },
  {
   "cell_type": "code",
   "execution_count": 194,
   "metadata": {},
   "outputs": [
    {
     "data": {
      "text/plain": [
       "True"
      ]
     },
     "execution_count": 194,
     "metadata": {},
     "output_type": "execute_result"
    }
   ],
   "source": [
    "# Mario\n",
    "def validate_usr(username):\n",
    "    return bool(re.fullmatch('[a-z0-9_]{4,16}', username))\n",
    "\n",
    "validate_usr('user_name123')"
   ]
  },
  {
   "cell_type": "code",
   "execution_count": 188,
   "metadata": {},
   "outputs": [
    {
     "data": {
      "text/plain": [
       "True"
      ]
     },
     "execution_count": 188,
     "metadata": {},
     "output_type": "execute_result"
    }
   ],
   "source": [
    "# Nani\n",
    "def validate_usr(username):\n",
    "    if re.match(r\"[a-z\\d_]{4,16}$\",username):\n",
    "        return True\n",
    "    else:\n",
    "        return False\n",
    "\n",
    "validate_usr('user_name123')"
   ]
  },
  {
   "cell_type": "markdown",
   "metadata": {},
   "source": [
    "#### Regex validate PIN code \n",
    "\n",
    "https://www.codewars.com/kata/55f8a9c06c018a0d6e000132\n",
    "\n",
    "ATM machines allow 4 or 6 digit PIN codes and PIN codes cannot contain anything but exactly 4 digits or exactly 6 digits.\n",
    "\n",
    "If the function is passed a valid PIN string, return true, else return false.\n",
    "\n",
    "Examples:\n",
    "```python\n",
    "\"1234\"   -->  True\n",
    "\"12345\"  -->  False\n",
    "\"a234\"   -->  False\n",
    "```"
   ]
  },
  {
   "cell_type": "code",
   "execution_count": 196,
   "metadata": {},
   "outputs": [
    {
     "name": "stdout",
     "output_type": "stream",
     "text": [
      "True\n",
      "False\n"
     ]
    }
   ],
   "source": [
    "# Fran\n",
    "\n",
    "def validate_pin(pin):\n",
    "    import re\n",
    "    if len(pin) in [4, 6]:\n",
    "        return bool(re.fullmatch(r\"[0-9]+\", pin))\n",
    "    else:\n",
    "        return False\n",
    "\n",
    "print(validate_pin('456789'))\n",
    "print(validate_pin('45678'))"
   ]
  },
  {
   "cell_type": "code",
   "execution_count": 197,
   "metadata": {},
   "outputs": [
    {
     "name": "stdout",
     "output_type": "stream",
     "text": [
      "True\n",
      "False\n"
     ]
    }
   ],
   "source": [
    "# Ouissam\n",
    "\n",
    "import re\n",
    "def validate_pin(pin):\n",
    "    pattern1 = re.compile(r\"[0-9]{4}\")\n",
    "    pattern2 = re.compile(r\"[0-9]{6}\")\n",
    "\n",
    "    if re.fullmatch(pattern1, pin) or re.fullmatch(pattern2, pin):\n",
    "        return True\n",
    "    else: \n",
    "        return False\n",
    "\n",
    "print(validate_pin('456789'))\n",
    "print(validate_pin('45678'))"
   ]
  },
  {
   "cell_type": "code",
   "execution_count": 200,
   "metadata": {},
   "outputs": [
    {
     "name": "stdout",
     "output_type": "stream",
     "text": [
      "True\n",
      "False\n"
     ]
    }
   ],
   "source": [
    "# Selu\n",
    "\n",
    "def validate_pin(pin):\n",
    "    #return true or false\n",
    "    if re.fullmatch((r\"\\d{4}|\\d{6}\"), pin):\n",
    "        return True\n",
    "    else:\n",
    "        return False\n",
    "\n",
    "print(validate_pin('456789'))\n",
    "print(validate_pin('45678'))"
   ]
  },
  {
   "cell_type": "code",
   "execution_count": 199,
   "metadata": {},
   "outputs": [
    {
     "name": "stdout",
     "output_type": "stream",
     "text": [
      "True\n",
      "False\n"
     ]
    }
   ],
   "source": [
    "# Nani\n",
    "\n",
    "def validate_pin(pin):\n",
    "    if re.fullmatch(r\"\\d{4}|\\d{6}\", pin):\n",
    "        return True\n",
    "    else:\n",
    "        return False\n",
    "\n",
    "print(validate_pin('456789'))\n",
    "print(validate_pin('45678'))"
   ]
  },
  {
   "cell_type": "code",
   "execution_count": 201,
   "metadata": {},
   "outputs": [
    {
     "name": "stdout",
     "output_type": "stream",
     "text": [
      "True\n",
      "False\n"
     ]
    }
   ],
   "source": [
    "# Mario\n",
    "\n",
    "def validate_pin(pin):\n",
    "    return bool(re.fullmatch(\"[0-9]{4}|[0-9]{6}\", pin))\n",
    "\n",
    "print(validate_pin('456789'))\n",
    "print(validate_pin('45678'))"
   ]
  },
  {
   "cell_type": "markdown",
   "metadata": {},
   "source": [
    "-----------------------------------------------------------------------------------------------------------"
   ]
  },
  {
   "cell_type": "markdown",
   "metadata": {},
   "source": [
    "# The FBI challenge"
   ]
  },
  {
   "cell_type": "markdown",
   "metadata": {},
   "source": [
    "- https://www.fbi.gov/scams-and-safety/common-fraud-schemes/nigerian-letter-or-419-fraud\n",
    "- https://www.kaggle.com/rtatman/fraudulent-email-corpus"
   ]
  },
  {
   "cell_type": "markdown",
   "metadata": {},
   "source": [
    "It's your first day at the FBI office and your boss has just send you an `txt` file: `emails.txt`, she asked you to make some analysis but first of all, you need to get a dataframe like the following. You'll need some python knowledge and some regex for that goal. "
   ]
  },
  {
   "cell_type": "code",
   "execution_count": 47,
   "metadata": {},
   "outputs": [
    {
     "data": {
      "text/html": [
       "<div>\n",
       "<style scoped>\n",
       "    .dataframe tbody tr th:only-of-type {\n",
       "        vertical-align: middle;\n",
       "    }\n",
       "\n",
       "    .dataframe tbody tr th {\n",
       "        vertical-align: top;\n",
       "    }\n",
       "\n",
       "    .dataframe thead th {\n",
       "        text-align: right;\n",
       "    }\n",
       "</style>\n",
       "<table border=\"1\" class=\"dataframe\">\n",
       "  <thead>\n",
       "    <tr style=\"text-align: right;\">\n",
       "      <th></th>\n",
       "      <th>sender_email</th>\n",
       "      <th>sender_name</th>\n",
       "      <th>date_sent</th>\n",
       "      <th>time_sent</th>\n",
       "      <th>subject</th>\n",
       "    </tr>\n",
       "  </thead>\n",
       "  <tbody>\n",
       "    <tr>\n",
       "      <th>0</th>\n",
       "      <td>james_ngola2002@maktoob.com</td>\n",
       "      <td>\"MR. JAMES NGOLA.\"</td>\n",
       "      <td>31 Oct 2002</td>\n",
       "      <td>02:38:20</td>\n",
       "      <td>URGENT BUSINESS ASSISTANCE AND PARTNERSHIP</td>\n",
       "    </tr>\n",
       "    <tr>\n",
       "      <th>1</th>\n",
       "      <td>bensul2004nng@spinfinder.com</td>\n",
       "      <td>\"Mr. Ben Suleman\"</td>\n",
       "      <td>31 Oct 2002</td>\n",
       "      <td>05:10:00</td>\n",
       "      <td>URGENT ASSISTANCE /RELATIONSHIP (P)</td>\n",
       "    </tr>\n",
       "    <tr>\n",
       "      <th>2</th>\n",
       "      <td>obong_715@epatra.com</td>\n",
       "      <td>\"PRINCE OBONG ELEME\"</td>\n",
       "      <td>31 Oct 2002</td>\n",
       "      <td>22:17:55</td>\n",
       "      <td>GOOD DAY TO YOU</td>\n",
       "    </tr>\n",
       "    <tr>\n",
       "      <th>3</th>\n",
       "      <td>obong_715@epatra.com</td>\n",
       "      <td>\"PRINCE OBONG ELEME\"</td>\n",
       "      <td>31 Oct 2002</td>\n",
       "      <td>22:44:20</td>\n",
       "      <td>GOOD DAY TO YOU</td>\n",
       "    </tr>\n",
       "    <tr>\n",
       "      <th>4</th>\n",
       "      <td>m_abacha03@www.com</td>\n",
       "      <td>\"Maryam Abacha\"</td>\n",
       "      <td>1 Nov 2002</td>\n",
       "      <td>01:45:04</td>\n",
       "      <td>I Need Your Assistance.</td>\n",
       "    </tr>\n",
       "  </tbody>\n",
       "</table>\n",
       "</div>"
      ],
      "text/plain": [
       "                   sender_email             sender_name    date_sent  \\\n",
       "0   james_ngola2002@maktoob.com     \"MR. JAMES NGOLA.\"   31 Oct 2002   \n",
       "1  bensul2004nng@spinfinder.com      \"Mr. Ben Suleman\"   31 Oct 2002   \n",
       "2          obong_715@epatra.com   \"PRINCE OBONG ELEME\"   31 Oct 2002   \n",
       "3          obong_715@epatra.com   \"PRINCE OBONG ELEME\"   31 Oct 2002   \n",
       "4            m_abacha03@www.com        \"Maryam Abacha\"    1 Nov 2002   \n",
       "\n",
       "  time_sent                                     subject  \n",
       "0  02:38:20  URGENT BUSINESS ASSISTANCE AND PARTNERSHIP  \n",
       "1  05:10:00         URGENT ASSISTANCE /RELATIONSHIP (P)  \n",
       "2  22:17:55                             GOOD DAY TO YOU  \n",
       "3  22:44:20                             GOOD DAY TO YOU  \n",
       "4  01:45:04                     I Need Your Assistance.  "
      ]
     },
     "execution_count": 47,
     "metadata": {},
     "output_type": "execute_result"
    }
   ],
   "source": [
    "df.head()"
   ]
  },
  {
   "cell_type": "markdown",
   "metadata": {},
   "source": [
    "---------------------------------------------------------------------------------------------------------------------------"
   ]
  },
  {
   "cell_type": "markdown",
   "metadata": {},
   "source": [
    "#### Since we are good people, here you have a proposed solution"
   ]
  },
  {
   "cell_type": "code",
   "execution_count": 69,
   "metadata": {},
   "outputs": [],
   "source": [
    "emails_info={}"
   ]
  },
  {
   "cell_type": "code",
   "execution_count": 70,
   "metadata": {},
   "outputs": [],
   "source": [
    "fh = open(\"emails.txt\", \"r\").read()"
   ]
  },
  {
   "cell_type": "code",
   "execution_count": 71,
   "metadata": {},
   "outputs": [
    {
     "data": {
      "text/plain": [
       "3977"
      ]
     },
     "execution_count": 71,
     "metadata": {},
     "output_type": "execute_result"
    }
   ],
   "source": [
    "fh.count(\"From r\")"
   ]
  },
  {
   "cell_type": "code",
   "execution_count": 72,
   "metadata": {},
   "outputs": [],
   "source": [
    "contents = re.split(r\"From r\", fh)"
   ]
  },
  {
   "cell_type": "code",
   "execution_count": 73,
   "metadata": {
    "scrolled": true
   },
   "outputs": [
    {
     "data": {
      "text/plain": [
       "''"
      ]
     },
     "execution_count": 73,
     "metadata": {},
     "output_type": "execute_result"
    }
   ],
   "source": [
    "contents[0]"
   ]
  },
  {
   "cell_type": "code",
   "execution_count": 74,
   "metadata": {},
   "outputs": [
    {
     "data": {
      "text/plain": [
       "''"
      ]
     },
     "execution_count": 74,
     "metadata": {},
     "output_type": "execute_result"
    }
   ],
   "source": [
    "contents.pop(0)"
   ]
  },
  {
   "cell_type": "markdown",
   "metadata": {},
   "source": [
    "- sender_email\n",
    "- sender_name\n",
    "- date_sent\n",
    "- time_sent\n",
    "- subject"
   ]
  },
  {
   "cell_type": "markdown",
   "metadata": {},
   "source": [
    "\n",
    "### Info Sender"
   ]
  },
  {
   "cell_type": "code",
   "execution_count": 75,
   "metadata": {},
   "outputs": [],
   "source": [
    "\n",
    "info_sender=[]\n",
    "for i,e in enumerate(contents):\n",
    "    try:\n",
    "        info_sender.append(re.search(\"From:.*\", e).group())\n",
    "    except: \n",
    "        info_sender.append(\"not found\")"
   ]
  },
  {
   "cell_type": "code",
   "execution_count": 78,
   "metadata": {},
   "outputs": [
    {
     "data": {
      "text/plain": [
       "3977"
      ]
     },
     "execution_count": 78,
     "metadata": {},
     "output_type": "execute_result"
    }
   ],
   "source": [
    "len(info_sender)"
   ]
  },
  {
   "cell_type": "code",
   "execution_count": 38,
   "metadata": {},
   "outputs": [
    {
     "data": {
      "text/plain": [
       "3977"
      ]
     },
     "execution_count": 38,
     "metadata": {},
     "output_type": "execute_result"
    }
   ],
   "source": [
    "#sender_email\n",
    "emails_info['sender_email']=[]\n",
    "for line in info_sender:\n",
    "    res=re.findall(r'[\\w\\.]+@[\\w\\.-]+', line)\n",
    "    if res:\n",
    "        emails_info['sender_email'].append(res[0])\n",
    "    else:\n",
    "        emails_info['sender_email'].append(np.nan)\n",
    "        \n",
    "len(emails_info['sender_email'])"
   ]
  },
  {
   "cell_type": "code",
   "execution_count": 39,
   "metadata": {},
   "outputs": [
    {
     "data": {
      "text/plain": [
       "3977"
      ]
     },
     "execution_count": 39,
     "metadata": {},
     "output_type": "execute_result"
    }
   ],
   "source": [
    "#sender name\n",
    "emails_info['sender_name']=[]\n",
    "for line in info_sender:\n",
    "    res=re.findall(r':.*<', line)\n",
    "    if res:\n",
    "        emails_info['sender_name'].append(res[0][1:-1])\n",
    "    else:\n",
    "        emails_info['sender_name'].append(np.nan)\n",
    "len(emails_info['sender_name'])"
   ]
  },
  {
   "cell_type": "markdown",
   "metadata": {},
   "source": [
    "### Info Dates"
   ]
  },
  {
   "cell_type": "code",
   "execution_count": 40,
   "metadata": {},
   "outputs": [
    {
     "data": {
      "text/plain": [
       "3977"
      ]
     },
     "execution_count": 40,
     "metadata": {},
     "output_type": "execute_result"
    }
   ],
   "source": [
    "#DATES\n",
    "dates=[]\n",
    "for i,e in enumerate(contents):\n",
    "    try:\n",
    "        dates.append(re.search(\"Date:.*\", e).group())\n",
    "    except: \n",
    "        dates.append(\"not found\")\n",
    "len(dates)"
   ]
  },
  {
   "cell_type": "code",
   "execution_count": 41,
   "metadata": {},
   "outputs": [
    {
     "data": {
      "text/plain": [
       "3977"
      ]
     },
     "execution_count": 41,
     "metadata": {},
     "output_type": "execute_result"
    }
   ],
   "source": [
    "#email date\n",
    "emails_info['date_sent']=[]\n",
    "for dat in dates:\n",
    "    res=re.findall(r\"\\d+\\s\\w{3}\\s\\d+\", dat)\n",
    "    if res:\n",
    "        emails_info['date_sent'].append(res[0])\n",
    "    else:\n",
    "        emails_info['date_sent'].append(np.nan)\n",
    "\n",
    "len(emails_info['date_sent'])"
   ]
  },
  {
   "cell_type": "code",
   "execution_count": 42,
   "metadata": {},
   "outputs": [
    {
     "data": {
      "text/plain": [
       "3977"
      ]
     },
     "execution_count": 42,
     "metadata": {},
     "output_type": "execute_result"
    }
   ],
   "source": [
    "emails_info['time_sent']=[]\n",
    "for dat in dates:\n",
    "    res=re.findall(r\"\\d{2}:\\d{2}:\\d{2}\", dat)\n",
    "    if res:\n",
    "        emails_info['time_sent'].append(res[0])\n",
    "    else:\n",
    "        emails_info['time_sent'].append(np.nan)\n",
    "\n",
    "len(emails_info['time_sent'])"
   ]
  },
  {
   "cell_type": "markdown",
   "metadata": {},
   "source": [
    "### Subject"
   ]
  },
  {
   "cell_type": "code",
   "execution_count": 43,
   "metadata": {},
   "outputs": [
    {
     "data": {
      "text/plain": [
       "3977"
      ]
     },
     "execution_count": 43,
     "metadata": {},
     "output_type": "execute_result"
    }
   ],
   "source": [
    "subject=[]\n",
    "for i,e in enumerate(contents):\n",
    "    try:\n",
    "        subject.append(re.search(\"Subject:.*\", e).group())\n",
    "    except: \n",
    "        subject.append(\"not found\")\n",
    "len(subject)"
   ]
  },
  {
   "cell_type": "code",
   "execution_count": 44,
   "metadata": {},
   "outputs": [
    {
     "data": {
      "text/plain": [
       "3977"
      ]
     },
     "execution_count": 44,
     "metadata": {},
     "output_type": "execute_result"
    }
   ],
   "source": [
    "emails_info['subject']=[]\n",
    "for sub in subject:\n",
    "    res=re.findall(r\":.*\", sub)\n",
    "    if res:\n",
    "        emails_info['subject'].append(res[0][2:])\n",
    "    else:\n",
    "        emails_info['subject'].append(np.nan)\n",
    "\n",
    "len(emails_info['subject'])"
   ]
  },
  {
   "cell_type": "markdown",
   "metadata": {},
   "source": [
    "### Creating DataFrame"
   ]
  },
  {
   "cell_type": "code",
   "execution_count": 45,
   "metadata": {},
   "outputs": [
    {
     "data": {
      "text/plain": [
       "sender_email    476\n",
       "sender_name     837\n",
       "date_sent       614\n",
       "time_sent       618\n",
       "subject          27\n",
       "dtype: int64"
      ]
     },
     "execution_count": 45,
     "metadata": {},
     "output_type": "execute_result"
    }
   ],
   "source": [
    "df=pd.DataFrame(emails_info)\n",
    "df.isnull().sum()"
   ]
  },
  {
   "cell_type": "code",
   "execution_count": 46,
   "metadata": {},
   "outputs": [
    {
     "data": {
      "text/html": [
       "<div>\n",
       "<style scoped>\n",
       "    .dataframe tbody tr th:only-of-type {\n",
       "        vertical-align: middle;\n",
       "    }\n",
       "\n",
       "    .dataframe tbody tr th {\n",
       "        vertical-align: top;\n",
       "    }\n",
       "\n",
       "    .dataframe thead th {\n",
       "        text-align: right;\n",
       "    }\n",
       "</style>\n",
       "<table border=\"1\" class=\"dataframe\">\n",
       "  <thead>\n",
       "    <tr style=\"text-align: right;\">\n",
       "      <th></th>\n",
       "      <th>sender_email</th>\n",
       "      <th>sender_name</th>\n",
       "      <th>date_sent</th>\n",
       "      <th>time_sent</th>\n",
       "      <th>subject</th>\n",
       "    </tr>\n",
       "  </thead>\n",
       "  <tbody>\n",
       "    <tr>\n",
       "      <th>0</th>\n",
       "      <td>james_ngola2002@maktoob.com</td>\n",
       "      <td>\"MR. JAMES NGOLA.\"</td>\n",
       "      <td>31 Oct 2002</td>\n",
       "      <td>02:38:20</td>\n",
       "      <td>URGENT BUSINESS ASSISTANCE AND PARTNERSHIP</td>\n",
       "    </tr>\n",
       "    <tr>\n",
       "      <th>1</th>\n",
       "      <td>bensul2004nng@spinfinder.com</td>\n",
       "      <td>\"Mr. Ben Suleman\"</td>\n",
       "      <td>31 Oct 2002</td>\n",
       "      <td>05:10:00</td>\n",
       "      <td>URGENT ASSISTANCE /RELATIONSHIP (P)</td>\n",
       "    </tr>\n",
       "    <tr>\n",
       "      <th>2</th>\n",
       "      <td>obong_715@epatra.com</td>\n",
       "      <td>\"PRINCE OBONG ELEME\"</td>\n",
       "      <td>31 Oct 2002</td>\n",
       "      <td>22:17:55</td>\n",
       "      <td>GOOD DAY TO YOU</td>\n",
       "    </tr>\n",
       "    <tr>\n",
       "      <th>3</th>\n",
       "      <td>obong_715@epatra.com</td>\n",
       "      <td>\"PRINCE OBONG ELEME\"</td>\n",
       "      <td>31 Oct 2002</td>\n",
       "      <td>22:44:20</td>\n",
       "      <td>GOOD DAY TO YOU</td>\n",
       "    </tr>\n",
       "    <tr>\n",
       "      <th>4</th>\n",
       "      <td>m_abacha03@www.com</td>\n",
       "      <td>\"Maryam Abacha\"</td>\n",
       "      <td>1 Nov 2002</td>\n",
       "      <td>01:45:04</td>\n",
       "      <td>I Need Your Assistance.</td>\n",
       "    </tr>\n",
       "  </tbody>\n",
       "</table>\n",
       "</div>"
      ],
      "text/plain": [
       "                   sender_email             sender_name    date_sent  \\\n",
       "0   james_ngola2002@maktoob.com     \"MR. JAMES NGOLA.\"   31 Oct 2002   \n",
       "1  bensul2004nng@spinfinder.com      \"Mr. Ben Suleman\"   31 Oct 2002   \n",
       "2          obong_715@epatra.com   \"PRINCE OBONG ELEME\"   31 Oct 2002   \n",
       "3          obong_715@epatra.com   \"PRINCE OBONG ELEME\"   31 Oct 2002   \n",
       "4            m_abacha03@www.com        \"Maryam Abacha\"    1 Nov 2002   \n",
       "\n",
       "  time_sent                                     subject  \n",
       "0  02:38:20  URGENT BUSINESS ASSISTANCE AND PARTNERSHIP  \n",
       "1  05:10:00         URGENT ASSISTANCE /RELATIONSHIP (P)  \n",
       "2  22:17:55                             GOOD DAY TO YOU  \n",
       "3  22:44:20                             GOOD DAY TO YOU  \n",
       "4  01:45:04                     I Need Your Assistance.  "
      ]
     },
     "execution_count": 46,
     "metadata": {},
     "output_type": "execute_result"
    }
   ],
   "source": [
    "df.head()"
   ]
  },
  {
   "cell_type": "markdown",
   "metadata": {},
   "source": [
    "### ¡Now you can start your analysis!"
   ]
  },
  {
   "cell_type": "code",
   "execution_count": null,
   "metadata": {},
   "outputs": [],
   "source": []
  },
  {
   "cell_type": "code",
   "execution_count": null,
   "metadata": {},
   "outputs": [],
   "source": []
  }
 ],
 "metadata": {
  "kernelspec": {
   "display_name": "Python 3.10.8 64-bit",
   "language": "python",
   "name": "python3"
  },
  "language_info": {
   "codemirror_mode": {
    "name": "ipython",
    "version": 3
   },
   "file_extension": ".py",
   "mimetype": "text/x-python",
   "name": "python",
   "nbconvert_exporter": "python",
   "pygments_lexer": "ipython3",
   "version": "3.10.8"
  },
  "vscode": {
   "interpreter": {
    "hash": "7600a12950a547366bb7a6732117e300ffd26224351912980486e1126c5d0f9a"
   }
  }
 },
 "nbformat": 4,
 "nbformat_minor": 4
}
