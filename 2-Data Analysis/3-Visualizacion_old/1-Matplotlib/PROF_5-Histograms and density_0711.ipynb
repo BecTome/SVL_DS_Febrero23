{
 "cells": [
  {
   "cell_type": "markdown",
   "metadata": {
    "colab_type": "text",
    "id": "Y-C_w4xZ0U2G"
   },
   "source": [
    "# Histograms, Binnings, and Density"
   ]
  },
  {
   "cell_type": "markdown",
   "metadata": {
    "colab_type": "text",
    "id": "6vMugtnS0U2G"
   },
   "source": [
    "A simple histogram can be a great first step in understanding a dataset.\n",
    "Earlier, we saw a preview of Matplotlib's histogram function (see [Comparisons, Masks, and Boolean Logic](02.06-Boolean-Arrays-and-Masks.ipynb)), which creates a basic histogram in one line, once the normal boiler-plate imports are done:"
   ]
  },
  {
   "cell_type": "code",
   "execution_count": 1,
   "metadata": {
    "colab": {},
    "colab_type": "code",
    "id": "ojCjBbF-0U2H"
   },
   "outputs": [
    {
     "name": "stderr",
     "output_type": "stream",
     "text": [
      "C:\\Users\\alber\\AppData\\Local\\Temp\\ipykernel_104396\\1860642311.py:4: MatplotlibDeprecationWarning: The seaborn styles shipped by Matplotlib are deprecated since 3.6, as they no longer correspond to the styles shipped by seaborn. However, they will remain available as 'seaborn-v0_8-<style>'. Alternatively, directly use the seaborn API instead.\n",
      "  plt.style.use('seaborn-white')\n"
     ]
    }
   ],
   "source": [
    "%matplotlib inline\n",
    "import numpy as np\n",
    "import matplotlib.pyplot as plt\n",
    "plt.style.use('seaborn-white')\n",
    "\n",
    "data = np.random.randn(1000)"
   ]
  },
  {
   "cell_type": "code",
   "execution_count": 2,
   "metadata": {},
   "outputs": [
    {
     "data": {
      "text/plain": [
       "array([-7.54571783e-02,  1.95655174e+00,  2.99092866e-01,  2.67538323e-01,\n",
       "        1.34005244e+00,  1.40198549e-01, -9.85820327e-01, -2.51629013e+00,\n",
       "        7.69280991e-01,  1.30350086e+00, -3.31029078e-01, -2.17291592e+00,\n",
       "       -9.01115454e-01,  1.37387144e+00,  1.90389947e-01, -1.15303053e+00,\n",
       "        3.59690095e-01, -7.75040939e-01,  1.36547155e+00, -1.80021984e-02,\n",
       "       -1.14361212e+00, -3.02183690e-01, -9.44105251e-01, -1.23800978e-01,\n",
       "       -5.55757711e-01, -4.76874378e-02,  1.94079496e+00, -1.54842639e+00,\n",
       "       -2.20456696e+00, -1.88891131e+00,  2.45442695e-03,  7.80248619e-01,\n",
       "       -4.18752873e-01, -3.30826468e-02,  1.25628156e-02,  4.98936174e-01,\n",
       "       -6.58335028e-01, -2.73930589e+00, -8.89350940e-01,  7.30043202e-01,\n",
       "        1.67047641e+00,  3.27555979e-01, -3.09248546e-01,  9.30437495e-01,\n",
       "        6.05922430e-01,  1.31969402e+00,  2.62926193e-02,  4.08430808e-01,\n",
       "        7.35765401e-01, -1.74916493e+00,  1.60225560e+00, -8.70270684e-01,\n",
       "        1.42137983e+00,  1.53522035e+00,  3.13958458e-01, -2.21523233e-01,\n",
       "       -8.25476020e-01,  1.53423082e+00,  1.71140248e-01,  1.56079626e+00,\n",
       "        1.43984227e+00,  5.48244908e-01,  6.47525163e-01,  1.97589478e+00,\n",
       "       -1.00447322e+00,  8.53948277e-01, -2.04595125e-02,  6.30824281e-01,\n",
       "       -7.96696033e-01,  6.60149604e-02, -3.60063155e-01, -9.08754451e-01,\n",
       "        3.24942000e-01,  1.19078638e+00,  1.47522928e+00,  1.43826232e+00,\n",
       "       -1.02967799e+00,  7.01469549e-01,  1.14094071e+00, -2.45132591e-01,\n",
       "        2.64981968e-01, -5.28252733e-01, -1.68744145e+00,  1.38443281e-01,\n",
       "       -3.08718148e-01, -5.66650622e-01,  4.82161342e-01, -4.08883166e-01,\n",
       "        7.93585972e-01, -2.07674349e-01, -5.06176414e-01, -2.68549004e+00,\n",
       "        1.94061525e-01, -2.86742847e-01, -1.48221783e+00,  1.27919012e-01,\n",
       "        1.77698135e+00,  6.26407396e-01, -9.58587284e-01, -7.99534079e-01,\n",
       "        2.00749939e-01,  2.67882090e-01,  2.76779840e-01,  5.11951047e-01,\n",
       "        1.20791167e-01,  1.30481453e+00, -6.67806255e-01, -6.36073865e-01,\n",
       "       -5.29740050e-01, -6.73105921e-01,  7.45526256e-01,  1.00174143e+00,\n",
       "        3.98245620e-01,  8.30472020e-01,  4.17164347e-01, -3.75413600e-01,\n",
       "       -7.12164620e-01, -1.47132720e+00, -1.21847211e+00, -1.86696337e-01,\n",
       "        7.90518137e-01,  6.81641700e-01,  3.59718826e-01,  8.90194984e-01,\n",
       "       -7.50846296e-02,  3.21283832e-01, -3.99088597e-01,  1.03375256e+00,\n",
       "       -2.26473522e+00, -4.25201612e-01, -6.70897455e-01,  8.30619155e-01,\n",
       "        1.45391509e+00,  8.10903933e-01,  4.69305220e-01,  1.49224942e-01,\n",
       "        3.51882113e-02, -1.65860262e-01,  1.75935577e-01, -8.54768601e-01,\n",
       "        1.37272138e-01, -2.85588675e-01, -4.76613299e-01, -1.39491598e+00,\n",
       "        2.17570816e-01, -9.81365697e-01,  1.15576243e-01,  7.23621940e-01,\n",
       "        8.98800221e-01,  3.09607751e-01,  3.42053934e-01, -3.95292810e-01,\n",
       "        2.09710104e-03,  4.84513916e-01,  3.20647197e-02, -1.26694556e-01,\n",
       "       -6.23473294e-01, -1.58765542e-01,  1.92413043e-01,  1.28476002e+00,\n",
       "       -1.44402537e+00, -2.29871599e-01, -1.34230551e-02,  8.67604328e-01,\n",
       "        2.93559641e-01, -3.83035745e-02,  2.30507772e+00, -7.52953640e-01,\n",
       "        1.74280474e-01, -2.18701334e+00,  1.40586541e+00, -3.44529183e-01,\n",
       "        1.44712491e+00, -2.18794323e-02, -7.87969754e-02,  1.35439424e+00,\n",
       "        5.82222966e-01,  1.11669249e-01, -8.79335003e-01, -6.73483543e-01,\n",
       "       -3.04746941e+00,  7.29999163e-01,  4.78827834e-01, -1.15676368e-01,\n",
       "        1.08281970e+00,  4.36921852e-01, -6.11192442e-01, -1.45617005e+00,\n",
       "        6.97554713e-01,  5.85623636e-02,  1.27092121e-01,  8.93981565e-01,\n",
       "        1.81694071e-01,  1.68668045e+00, -1.66627110e+00,  5.23558556e-02,\n",
       "       -6.76667014e-01, -4.85632234e-01,  1.32542207e+00, -1.66183959e+00,\n",
       "        6.27502512e-01, -1.04901431e+00, -1.73602161e+00,  1.07076314e+00,\n",
       "        1.00664555e-01, -1.01811130e+00,  2.08117355e-01,  1.68216145e+00,\n",
       "        3.42185571e-01, -2.16929199e+00, -7.57457573e-01,  6.43584406e-01,\n",
       "        1.30878283e-01,  7.80389290e-01, -1.71537267e+00,  1.50548410e+00,\n",
       "        9.18008402e-02,  2.49056922e+00, -5.90665807e-01,  1.31803067e+00,\n",
       "       -2.84027710e+00,  1.76469336e+00,  1.27561370e+00, -8.01278744e-01,\n",
       "        5.59114437e-01,  1.06946092e+00, -5.45961794e-01,  2.58368538e-01,\n",
       "        1.20428461e+00, -7.61428544e-01, -7.73331528e-01,  1.41300445e+00,\n",
       "       -1.05139948e+00,  7.40792897e-01, -9.42585888e-01,  1.96046404e-01,\n",
       "        7.26946048e-02,  1.92073996e+00, -1.10065728e+00,  1.34162972e+00,\n",
       "        4.89180097e-01, -6.92781135e-01,  4.07962942e-01,  1.17947586e+00,\n",
       "        1.95353735e+00,  8.74310972e-02,  2.11301316e+00,  3.77198529e-01,\n",
       "       -1.36576737e+00, -1.10389732e+00, -6.41948531e-01,  4.75059157e-02,\n",
       "        4.85371905e-01,  2.59725724e-01, -2.21532872e-02,  1.03096561e+00,\n",
       "       -7.61315556e-01,  1.93016856e+00,  6.72509001e-01,  6.88123319e-01,\n",
       "        3.52836147e-01,  3.98990738e-01, -1.00070946e+00, -3.05885663e-01,\n",
       "       -1.12847011e+00, -4.68170029e-01,  7.83136864e-01,  7.57462292e-01,\n",
       "       -8.55734751e-01, -1.69713113e+00, -3.44339026e-01, -2.80570505e-01,\n",
       "       -2.34776013e-01,  7.08169300e-01,  2.81084396e-01,  3.26105613e-01,\n",
       "        3.63308850e-02, -2.25395796e-01, -8.95545528e-02, -4.16084562e-01,\n",
       "       -2.10275120e-01, -1.27841197e+00, -1.05165926e+00,  1.27812756e+00,\n",
       "       -2.84558838e-01,  1.02524278e+00, -8.77129659e-01, -4.30533664e-01,\n",
       "        5.88494134e-01, -8.21953335e-01, -1.44817674e+00, -1.85490374e+00,\n",
       "        5.11598589e-01, -9.21073781e-01,  1.52569399e-01,  1.21535640e+00,\n",
       "        7.06150295e-01, -5.09075973e-01,  3.00881001e-01, -1.17722404e+00,\n",
       "        3.49679595e-01, -8.40459524e-02, -1.51455715e-01, -7.28765068e-01,\n",
       "        8.83788938e-01, -2.73308750e-01,  7.09035135e-01, -1.13115918e+00,\n",
       "       -1.59911662e+00, -6.49528358e-01,  2.34299517e-01,  7.45526391e-02,\n",
       "        6.81675462e-01, -1.23212893e+00, -1.79099130e+00, -7.29112258e-01,\n",
       "       -1.12450384e+00, -5.85789895e-01, -1.52259526e+00,  1.08828805e+00,\n",
       "        1.06232245e+00,  3.30318577e-01, -2.20707860e-01, -3.95208120e-01,\n",
       "        1.97891988e-01,  1.09792364e+00,  5.29329431e-01,  7.30423210e-01,\n",
       "       -6.17933103e-01, -2.80791505e-01, -2.73335080e-01, -1.88478092e-01,\n",
       "        1.10910661e+00, -5.97126229e-01,  3.55965970e-01,  7.64355390e-01,\n",
       "        9.01987308e-01,  5.77206243e-01, -2.97806297e-01,  1.47972870e-02,\n",
       "        9.64079454e-01, -2.39139012e+00, -3.92674436e-01, -7.68696114e-01,\n",
       "       -6.57714884e-01,  9.36542274e-01, -1.11818494e-01,  7.00079070e-01,\n",
       "       -1.29814767e+00, -2.28966267e-01, -2.02364718e-01, -1.73614854e-01,\n",
       "        1.14854214e+00,  8.90948850e-01,  1.05877704e+00, -1.07252514e+00,\n",
       "       -1.53885601e+00,  2.51203756e+00, -4.67028430e-01, -2.49183876e-01,\n",
       "        3.90151079e-01, -3.38791904e-01,  1.33756644e+00,  1.35526453e+00,\n",
       "        1.05033217e+00,  1.64675687e-02, -5.55813774e-01,  4.97480813e-01,\n",
       "        3.21455135e-02,  4.99776774e-01, -4.85665056e-01, -1.36876868e+00,\n",
       "        1.48014744e+00, -7.44693410e-01,  8.72035324e-01, -2.58085248e-01,\n",
       "       -1.63726277e+00,  1.61171509e+00,  5.55963956e-01,  9.74193168e-01,\n",
       "       -2.54569489e+00, -1.72200341e-01, -6.49926504e-01,  9.03406394e-01,\n",
       "       -1.13467642e-03,  1.12457140e+00, -9.46028863e-01,  6.11820163e-01,\n",
       "        1.47470943e-01, -1.32454434e+00, -5.04217238e-02,  3.89351519e-01,\n",
       "        1.29144384e+00, -7.63875077e-01, -1.90482657e+00,  4.28708983e-01,\n",
       "       -1.42263617e+00,  9.25059755e-01, -4.38059624e-02,  6.16357380e-01,\n",
       "       -1.72859567e+00,  1.27776066e-01, -9.12459119e-01,  8.99970552e-01,\n",
       "       -1.02304576e+00, -1.17505042e+00, -3.38790829e-01,  3.24563061e+00,\n",
       "       -7.74483260e-02, -1.79922696e+00, -9.34059571e-01,  4.62220155e-01,\n",
       "       -6.22182164e-01,  8.83119184e-02,  8.81523546e-01,  2.70129737e+00,\n",
       "        3.22903930e-01, -1.15452713e+00, -5.45038039e-01,  3.25658134e-01,\n",
       "        7.48641472e-01,  8.83758097e-02,  1.76342991e+00, -8.28533534e-01,\n",
       "        3.37873697e-01, -6.42616343e-03, -1.26168962e+00,  4.76888990e-01,\n",
       "        1.67384960e+00, -3.79214599e-01, -2.92362707e-01, -1.42111523e+00,\n",
       "       -1.27230834e+00, -5.00056731e-01, -3.14966263e-01, -7.80640417e-01,\n",
       "       -1.58869048e+00, -5.72527245e-01,  9.00398978e-01, -2.05935590e-01,\n",
       "       -1.58734110e+00,  1.84176016e-01,  1.83646096e+00,  1.31774186e+00,\n",
       "        1.47338628e-01, -3.90270445e-02,  1.10197715e+00, -2.28194803e+00,\n",
       "        9.70223258e-01, -2.45163056e+00, -8.58001998e-02,  1.49271577e+00,\n",
       "        1.13050072e+00,  7.12552970e-01,  9.77246804e-02,  1.11242775e+00,\n",
       "        6.63068274e-01, -1.26950648e+00,  1.18498617e+00,  9.03641657e-02,\n",
       "        7.35321367e-01, -3.86406285e-01,  8.71724315e-01, -1.38211316e+00,\n",
       "        7.50935246e-01,  1.96512185e-01, -7.18214079e-01,  2.90944054e-01,\n",
       "       -3.94726223e-01,  7.24525289e-01,  3.39527155e-01, -1.55172968e-01,\n",
       "        5.33314416e-01, -2.24264415e-01,  8.91753173e-02, -5.06481439e-01,\n",
       "       -1.16883365e+00, -1.69626350e-01,  1.61852155e+00, -7.28301586e-01,\n",
       "        9.80465510e-01, -9.62032237e-01,  2.22654918e+00,  1.02888023e-01,\n",
       "       -8.00427704e-01, -1.15113436e+00,  1.06500419e+00, -1.13362483e-01,\n",
       "       -4.95724374e-01, -1.26233772e+00,  1.83855194e+00,  2.11695651e+00,\n",
       "        1.92473009e-01, -5.96133620e-01, -1.27850987e+00,  6.92568395e-01,\n",
       "       -8.08650967e-01,  1.90858954e+00, -3.06512057e-01, -4.61851286e-01,\n",
       "       -1.34898596e-01,  9.54956888e-01, -1.05305607e+00, -1.07414626e+00,\n",
       "       -8.70810116e-01,  5.11041341e-02, -3.68567457e+00,  8.24510186e-01,\n",
       "       -9.49023741e-01, -7.88969620e-01,  1.20521982e+00,  9.40740888e-01,\n",
       "       -2.11338501e+00,  2.35662867e+00,  8.13751476e-01,  1.24573421e+00,\n",
       "       -2.10867558e+00, -5.65866761e-01, -2.28576447e-01, -3.33399491e-01,\n",
       "        8.01993627e-01, -3.23890957e-01,  8.32746439e-02, -1.66066175e-01,\n",
       "       -1.92547386e-01, -2.15339785e-01, -8.94906069e-01,  1.82009466e+00,\n",
       "       -2.51551187e-01, -5.51954450e-01, -8.29468523e-01, -5.55769840e-01,\n",
       "        1.23086249e+00, -5.19050657e-02,  1.57857240e+00, -3.27360506e-01,\n",
       "        1.85190471e+00,  3.40514771e-01, -1.05266157e+00, -7.27877571e-01,\n",
       "       -8.01611910e-01,  2.16452688e+00,  1.51267427e-01, -1.04664012e+00,\n",
       "       -5.88570009e-01, -5.88650604e-01,  2.40136466e+00, -4.79718296e-01,\n",
       "        2.20436061e-03,  5.81254675e-01, -1.04736266e+00,  6.34767032e-01,\n",
       "        1.22614849e-01,  1.08461916e-01, -1.02949484e+00, -1.79196546e+00,\n",
       "        1.64724117e-01,  2.85501954e-01,  7.61161923e-01,  1.88575245e-01,\n",
       "       -8.98734712e-01,  8.67888244e-01, -2.29577917e-01,  4.10855962e-01,\n",
       "        5.64006133e-01,  7.34667395e-01, -1.84381293e-01,  2.90289894e-01,\n",
       "       -1.26227376e+00,  7.98546451e-01,  8.44124777e-01, -1.52811669e-02,\n",
       "        9.85547290e-01, -9.44323715e-01,  1.24308275e+00,  5.12865404e-01,\n",
       "       -6.87962059e-01, -3.61118058e-01, -1.70963328e+00,  4.04720589e-01,\n",
       "        1.23772233e+00, -5.86837350e-01, -1.07537046e+00, -5.10569894e-01,\n",
       "        6.81235354e-01,  1.01470648e+00,  6.04612610e-01, -4.55238412e-01,\n",
       "        7.27932196e-01, -9.03596767e-02, -1.58672506e+00,  2.83821984e+00,\n",
       "       -2.44370182e-01,  9.00812095e-02,  7.73483462e-02,  4.27919213e-02,\n",
       "        2.19108582e+00,  3.79422694e-01, -7.20657645e-01,  6.21544026e-01,\n",
       "        8.24946738e-02, -7.18270851e-02,  2.12808260e-01, -8.63419290e-01,\n",
       "       -4.68365400e-01, -7.01408390e-01,  6.79350890e-01,  3.77077940e-01,\n",
       "       -1.08275487e+00,  5.54066384e-01,  5.61051606e-01, -7.09223115e-01,\n",
       "        2.74818285e-01, -1.07541545e+00,  1.21950695e+00, -2.25005824e-01,\n",
       "        2.87997690e-01, -2.14213189e-01, -5.57113745e-01,  2.23306866e+00,\n",
       "       -4.08111679e-01, -2.65594233e-01, -2.17123127e-01,  2.13222601e+00,\n",
       "       -3.27116969e-01, -7.00533920e-01,  7.29135680e-01,  2.81613638e-01,\n",
       "       -8.14784040e-01,  2.80576695e-01,  5.77219629e-01, -6.83295386e-01,\n",
       "        1.16774531e+00, -1.25590886e-01, -8.92222498e-01, -2.43949996e+00,\n",
       "       -5.36825499e-01,  2.67963332e-01,  1.40527464e+00, -1.65803253e+00,\n",
       "       -1.63357925e+00, -4.31802547e-01,  6.02747741e-01,  2.79004546e-02,\n",
       "       -1.60020539e-01, -2.23534315e+00, -2.15888744e+00, -1.70110242e-02,\n",
       "       -2.40405993e-01,  1.12162121e+00,  5.76515493e-01,  2.05631150e+00,\n",
       "       -9.44618532e-01, -9.84868439e-01, -5.17802152e-01,  2.07794678e+00,\n",
       "        6.14294518e-02,  1.48568248e+00,  3.50833698e-01,  5.65816260e-01,\n",
       "       -2.50633925e-01,  9.66741073e-01,  1.96172060e+00, -9.11468376e-01,\n",
       "       -3.20513650e-01, -3.57081282e-01,  6.73881654e-01, -1.44108100e+00,\n",
       "       -7.90897806e-02, -8.91323071e-01,  3.26016136e-01,  3.29349411e-02,\n",
       "       -4.33638013e-01,  2.83220440e+00,  7.37641569e-01,  7.70334650e-01,\n",
       "        6.02843765e-01,  6.16851526e-01, -1.13576269e+00, -1.69379669e-01,\n",
       "       -3.42147364e-01,  2.42154849e-01, -1.35354481e+00, -1.93109800e-01,\n",
       "        8.64638982e-01, -1.58314375e+00, -2.16972054e-01,  2.88758032e-01,\n",
       "       -1.00836149e+00,  1.26223043e+00, -3.26812734e-01, -1.24325912e+00,\n",
       "        1.60758590e+00,  1.03644554e+00, -1.53514335e+00, -8.06698255e-01,\n",
       "       -9.91722514e-01, -9.88538427e-01,  8.19113740e-01,  1.02512081e-01,\n",
       "       -2.68127125e-01,  6.51124916e-01,  1.45319513e-01,  1.43763321e+00,\n",
       "        6.50228238e-01,  1.15000834e+00,  1.76251010e-01, -9.24986347e-01,\n",
       "        1.16163601e+00, -2.04038045e+00,  3.76497280e-01, -1.59676782e-01,\n",
       "       -2.47380764e+00,  1.01199223e+00,  9.22732972e-01, -1.33316767e+00,\n",
       "        1.03724242e+00, -3.77197455e-01, -4.88918143e-01, -1.73888077e+00,\n",
       "       -2.18648217e+00, -8.48802784e-01,  7.23822883e-02, -8.66266741e-01,\n",
       "        7.86395403e-01,  1.15723840e+00, -1.12325913e+00,  1.29755560e+00,\n",
       "        1.17440223e+00, -1.82778403e+00,  9.51124697e-01,  1.69462978e+00,\n",
       "        6.07146909e-01, -1.90259069e+00, -4.38424648e-01, -1.13777247e-01,\n",
       "       -1.80976718e+00, -1.09713299e+00, -1.70826781e+00,  1.97898859e+00,\n",
       "       -6.76290010e-01,  3.29480553e-01, -1.45966059e-01, -5.84058889e-01,\n",
       "        5.11819473e-02, -4.71967310e-01, -7.01945931e-01, -1.82571356e-01,\n",
       "       -7.23013317e-01,  1.86496907e+00,  3.58818540e-01,  9.27248835e-01,\n",
       "       -3.41890742e-01, -3.68436951e-01, -1.33216927e-01,  1.20080393e-01,\n",
       "       -1.32382333e+00,  3.96555607e-01,  8.28926951e-01,  9.58555573e-01,\n",
       "        1.19413390e+00,  3.79702602e-01, -5.86128574e-02,  1.37144357e+00,\n",
       "       -8.36022099e-01, -8.14883398e-01,  2.63271441e-01, -6.88421701e-01,\n",
       "        7.75576884e-01,  7.31514608e-01,  6.70574870e-01, -2.23499456e+00,\n",
       "       -9.07393590e-01, -7.72014654e-01, -7.85158783e-01, -1.03206509e+00,\n",
       "       -1.47689229e+00, -3.96574396e-01, -9.30137907e-02, -1.18032394e+00,\n",
       "       -3.91970115e-01,  1.32510429e-01,  1.29092305e+00,  9.31681005e-01,\n",
       "        6.53057085e-01, -1.21750853e+00, -4.06654073e-01, -5.19533167e-01,\n",
       "        6.12905136e-01,  3.95220625e-01,  4.72056833e-01, -1.53283622e+00,\n",
       "        1.54540361e-01,  1.35051415e+00, -2.43587550e+00, -1.45446588e+00,\n",
       "        3.67367303e-01, -5.39550957e-01, -6.93401457e-01, -1.89711796e+00,\n",
       "       -4.41760080e-01, -9.73374038e-01,  8.71083095e-01,  9.90976787e-01,\n",
       "        7.64535968e-01,  6.75476844e-01,  3.31480323e-01, -1.80010777e+00,\n",
       "        1.71308981e+00,  1.26237062e+00,  1.70151696e+00, -3.57356525e-01,\n",
       "       -7.71883560e-01,  5.59691101e-01,  3.12524934e-01, -1.14502681e+00,\n",
       "        7.76341868e-02,  1.08004963e+00,  4.21992615e-01,  2.46787179e-01,\n",
       "       -3.79758993e-01, -4.14420394e-01,  5.01362427e-01,  7.36630555e-01,\n",
       "       -1.59626358e-01, -2.53226654e+00, -3.73362398e-01,  1.18986316e+00,\n",
       "        1.48842740e-01,  2.44786137e-02,  3.85964776e-01, -1.27878810e+00,\n",
       "       -1.12245111e+00, -2.88317240e-01, -4.31364859e-01, -3.08658106e+00,\n",
       "        6.01094100e-01, -8.87446551e-01,  8.00626492e-01,  3.22389110e-01,\n",
       "       -1.32487534e-01, -5.62957477e-01,  2.18760404e-01, -2.62015843e-01,\n",
       "       -6.86732504e-01,  1.74380868e+00,  1.22952693e-01, -8.26748021e-01,\n",
       "        1.13372788e-01,  1.78291647e+00,  6.39320135e-01, -1.19736102e+00,\n",
       "       -1.43021098e-01,  7.14270473e-01,  1.07667966e-01, -4.30267486e-01,\n",
       "       -5.34012930e-01,  1.09613793e+00, -1.52035177e+00,  1.97395864e+00,\n",
       "        7.48069449e-01, -4.59691489e-01,  4.49969681e-01,  1.91017587e-02,\n",
       "       -9.58599935e-01, -1.36352188e+00, -9.75247741e-01, -7.11935111e-01,\n",
       "        5.51083072e-01,  2.37409859e+00,  5.90313596e-01,  7.35380012e-01,\n",
       "        2.06075371e+00, -1.08053423e+00, -3.33420595e-01,  1.72065548e+00,\n",
       "        1.83477760e+00,  1.76487721e+00,  5.22562501e-02,  1.19251363e+00,\n",
       "        5.65464195e-01, -1.92402160e+00, -6.58307344e-01,  5.52133714e-01,\n",
       "       -4.72253171e-02, -1.76246816e+00,  5.02981418e-01, -5.94521537e-01,\n",
       "        6.15639817e-02, -1.04204649e+00,  2.44836969e-01, -1.30288784e+00,\n",
       "       -4.27184477e-01,  7.80107624e-02,  1.58470925e-01, -3.11904552e-01,\n",
       "       -1.90843210e-01, -8.37510742e-01,  8.96291429e-01,  8.85664468e-01,\n",
       "        1.29364054e+00,  4.77613556e-01, -1.35882104e-01, -8.09675186e-01,\n",
       "       -2.86901755e-01,  2.73878306e-01,  8.03381470e-01, -1.12519652e+00,\n",
       "        6.34172600e-02, -6.37757687e-01, -8.18101407e-01, -2.65359043e-02,\n",
       "        5.08784284e-01,  2.32548472e-01, -1.86145434e+00,  1.94874810e+00,\n",
       "       -4.47103603e-01,  5.88895566e-01, -7.76763282e-02,  1.03714054e+00,\n",
       "       -1.86779013e+00, -1.88454413e-01,  1.28453835e+00, -5.70131250e-01,\n",
       "        1.10565293e+00,  7.72391127e-01,  1.65069529e-01, -9.85143081e-01,\n",
       "       -5.34418319e-01,  1.01057490e+00,  5.59533574e-01,  1.54529808e+00,\n",
       "        8.14745107e-01, -2.33945217e-02,  1.26841031e+00,  4.17996943e-02,\n",
       "       -1.59610776e-01,  6.22602489e-02, -1.47795013e+00,  4.41824559e-01,\n",
       "        1.68448849e+00, -4.16328005e-02,  2.30532994e+00, -1.92761992e+00,\n",
       "        1.68273753e+00, -5.51358423e-01,  3.81382788e-01, -1.66530262e+00,\n",
       "        2.79423410e-01,  1.29434066e+00,  2.68659658e-01,  7.56131729e-01,\n",
       "        2.48009881e-01,  1.03314717e+00,  5.02959944e-01, -2.20038971e-01,\n",
       "       -1.33910967e+00, -2.39518855e-01, -5.46776877e-01,  9.08630262e-02,\n",
       "        2.54316402e-01, -3.24099230e-01,  2.33824771e+00,  8.12690416e-01,\n",
       "       -7.17474549e-01,  3.83785957e-01, -3.44953388e-01,  1.69607559e+00,\n",
       "       -3.68788886e-01, -2.60602594e-01, -1.51280576e+00, -1.16349488e+00,\n",
       "        1.03777466e+00,  6.89777202e-01,  4.47475492e-01,  1.93663132e+00,\n",
       "       -1.36767555e+00,  1.25319550e+00, -3.41475452e-01, -1.08321968e+00,\n",
       "        3.58234790e-01, -1.31545009e+00,  1.23677526e+00, -5.99916915e-01,\n",
       "       -7.39266084e-01, -1.46582842e+00, -3.90403446e-01,  2.30868992e-02,\n",
       "        1.28782192e+00,  1.54858648e-02,  4.40532241e-01, -2.29828937e-01,\n",
       "       -8.47547464e-01, -4.73222823e-01, -2.86162590e-01,  5.27512635e-01,\n",
       "       -1.22899143e+00, -5.34989191e-01, -1.07280450e+00, -1.02163774e+00])"
      ]
     },
     "execution_count": 2,
     "metadata": {},
     "output_type": "execute_result"
    }
   ],
   "source": [
    "data"
   ]
  },
  {
   "cell_type": "code",
   "execution_count": 14,
   "metadata": {
    "colab": {
     "base_uri": "https://localhost:8080/",
     "height": 273
    },
    "colab_type": "code",
    "collapsed": false,
    "id": "K_oqUj7K0U2I",
    "jupyter": {
     "outputs_hidden": false
    },
    "outputId": "d46aa15c-5d3f-4ab2-d533-cd0fa9e7764f"
   },
   "outputs": [
    {
     "data": {
      "image/png": "[encoded data removed]",
      "text/plain": [
       "<Figure size 432x288 with 1 Axes>"
      ]
     },
     "metadata": {},
     "output_type": "display_data"
    }
   ],
   "source": [
    "plt.hist(data);"
   ]
  },
  {
   "cell_type": "code",
   "execution_count": 4,
   "metadata": {},
   "outputs": [
    {
     "data": {
      "text/plain": [
       "array([5, 0, 3, 3, 7, 9, 3, 5, 2, 4, 7, 6, 8, 8, 1, 6, 7, 7, 8, 1, 5, 9,\n",
       "       8, 9, 4, 3, 0, 3, 5, 0, 2, 3, 8, 1, 3, 3, 3, 7, 0, 1, 9, 9, 0, 4,\n",
       "       7, 3, 2, 7, 2, 0, 0, 4, 5, 5, 6, 8, 4, 1, 4, 9, 8, 1, 1, 7, 9, 9,\n",
       "       3, 6, 7, 2, 0, 3, 5, 9, 4, 4, 6, 4, 4, 3, 4, 4, 8, 4, 3, 7, 5, 5,\n",
       "       0, 1, 5, 9, 3, 0, 5, 0, 1, 2, 4, 2])"
      ]
     },
     "execution_count": 4,
     "metadata": {},
     "output_type": "execute_result"
    }
   ],
   "source": [
    "np.random.seed(0)\n",
    "data2 = np.random.randint(0, 10, 100)\n",
    "data2"
   ]
  },
  {
   "cell_type": "code",
   "execution_count": 5,
   "metadata": {},
   "outputs": [
    {
     "data": {
      "text/plain": [
       "array([0, 0, 0, 0, 0, 0, 0, 0, 0, 0, 0, 1, 1, 1, 1, 1, 1, 1, 1, 1, 2, 2,\n",
       "       2, 2, 2, 2, 2, 3, 3, 3, 3, 3, 3, 3, 3, 3, 3, 3, 3, 3, 3, 3, 4, 4,\n",
       "       4, 4, 4, 4, 4, 4, 4, 4, 4, 4, 4, 4, 5, 5, 5, 5, 5, 5, 5, 5, 5, 5,\n",
       "       5, 6, 6, 6, 6, 6, 7, 7, 7, 7, 7, 7, 7, 7, 7, 7, 8, 8, 8, 8, 8, 8,\n",
       "       8, 8, 9, 9, 9, 9, 9, 9, 9, 9, 9, 9])"
      ]
     },
     "execution_count": 5,
     "metadata": {},
     "output_type": "execute_result"
    }
   ],
   "source": [
    "np.sort(data2)"
   ]
  },
  {
   "cell_type": "code",
   "execution_count": 8,
   "metadata": {},
   "outputs": [
    {
     "data": {
      "text/plain": [
       "(array([11.,  9.,  7., 15., 14., 11.,  5., 10.,  8., 10.]),\n",
       " array([0. , 0.9, 1.8, 2.7, 3.6, 4.5, 5.4, 6.3, 7.2, 8.1, 9. ]),\n",
       " <BarContainer object of 10 artists>)"
      ]
     },
     "execution_count": 8,
     "metadata": {},
     "output_type": "execute_result"
    },
    {
     "data": {
      "image/png": "[encoded data removed]",
      "text/plain": [
       "<Figure size 640x480 with 1 Axes>"
      ]
     },
     "metadata": {},
     "output_type": "display_data"
    }
   ],
   "source": [
    "plt.hist(data2)"
   ]
  },
  {
   "cell_type": "markdown",
   "metadata": {
    "colab_type": "text",
    "id": "ZNMo4mBW0U2J"
   },
   "source": [
    "The ``hist()`` function has many options to tune both the calculation and the display; \n",
    "here's an example of a more customized histogram:"
   ]
  },
  {
   "cell_type": "code",
   "execution_count": 47,
   "metadata": {
    "colab": {
     "base_uri": "https://localhost:8080/",
     "height": 273
    },
    "colab_type": "code",
    "collapsed": false,
    "id": "-XxbzM6O0U2J",
    "jupyter": {
     "outputs_hidden": false
    },
    "outputId": "1b237d64-84b9-476d-82d7-461fa1ca6850"
   },
   "outputs": [
    {
     "data": {
      "image/png": "[encoded data removed]",
      "text/plain": [
       "<Figure size 640x480 with 1 Axes>"
      ]
     },
     "metadata": {},
     "output_type": "display_data"
    }
   ],
   "source": [
    "plt.hist(data, bins=30, alpha=.5,\n",
    "         histtype='bar', color='steelblue',\n",
    "         edgecolor='none');\n",
    "\n",
    "plt.hist(data + 3, bins=30, alpha=.5,\n",
    "         histtype='bar', color='yellow',\n",
    "         edgecolor='none');"
   ]
  },
  {
   "cell_type": "code",
   "execution_count": 36,
   "metadata": {},
   "outputs": [
    {
     "data": {
      "text/plain": [
       "(array([ 1.,  0.,  2.,  1.,  4.,  6., 12., 10., 22., 26., 35., 56., 74.,\n",
       "        70., 96., 78., 96., 85., 76., 77., 47., 46., 23., 22., 16.,  9.,\n",
       "         6.,  1.,  2.,  1.]),\n",
       " array([-3.68567457, -3.45463106, -3.22358756, -2.99254405, -2.76150055,\n",
       "        -2.53045704, -2.29941353, -2.06837003, -1.83732652, -1.60628302,\n",
       "        -1.37523951, -1.144196  , -0.9131525 , -0.68210899, -0.45106549,\n",
       "        -0.22002198,  0.01102153,  0.24206503,  0.47310854,  0.70415204,\n",
       "         0.93519555,  1.16623906,  1.39728256,  1.62832607,  1.85936957,\n",
       "         2.09041308,  2.32145659,  2.55250009,  2.7835436 ,  3.0145871 ,\n",
       "         3.24563061]),\n",
       " [<matplotlib.patches.Polygon at 0x1c6c609a9e0>])"
      ]
     },
     "execution_count": 36,
     "metadata": {},
     "output_type": "execute_result"
    },
    {
     "data": {
      "image/png": "[encoded data removed]",
      "text/plain": [
       "<Figure size 640x480 with 1 Axes>"
      ]
     },
     "metadata": {},
     "output_type": "display_data"
    }
   ],
   "source": [
    "plt.hist(data, bins=30, alpha=.5,\n",
    "         histtype='step')\n"
   ]
  },
  {
   "cell_type": "markdown",
   "metadata": {
    "colab_type": "text",
    "id": "cUfVoLz40U2K"
   },
   "source": [
    "The ``plt.hist`` docstring has more information on other customization options available.\n",
    "Transparency ``alpha`` is very useful when comparing histograms of several distributions:"
   ]
  },
  {
   "cell_type": "code",
   "execution_count": 42,
   "metadata": {
    "colab": {
     "base_uri": "https://localhost:8080/",
     "height": 273
    },
    "colab_type": "code",
    "collapsed": false,
    "id": "Ufxj8fiF0U2K",
    "jupyter": {
     "outputs_hidden": false
    },
    "outputId": "686e3b04-8fe2-412f-e5b8-76f429686f45"
   },
   "outputs": [
    {
     "data": {
      "image/png": "[encoded data removed]",
      "text/plain": [
       "<Figure size 640x480 with 1 Axes>"
      ]
     },
     "metadata": {},
     "output_type": "display_data"
    }
   ],
   "source": [
    "x1 = np.random.normal(0, 0.8, 1000)\n",
    "x2 = np.random.normal(-2, 1, 1000)\n",
    "x3 = np.random.normal(3, 2, 1000)\n",
    "\n",
    "kwargs = dict(histtype='bar', alpha=0.3, bins=40)\n",
    "kwargs = {'histtype':'bar', 'alpha':0.3, 'bins':40}\n",
    "\n",
    "plt.hist(x1, histtype='bar', alpha=0.3, bins=40)\n",
    "plt.hist(x2, histtype='bar', alpha=0.3, bins=40)\n",
    "plt.hist(x3, histtype='bar', alpha=0.3, bins=40);"
   ]
  },
  {
   "cell_type": "markdown",
   "metadata": {
    "colab_type": "text",
    "id": "3JWU7L-z0U2M"
   },
   "source": [
    "If you would like to simply compute the histogram (that is, count the number of points in a given bin) and not display it, the ``np.histogram()`` function is available:"
   ]
  },
  {
   "cell_type": "code",
   "execution_count": 17,
   "metadata": {
    "colab": {},
    "colab_type": "code",
    "collapsed": false,
    "id": "ZFkGjxpT0U2M",
    "jupyter": {
     "outputs_hidden": false
    },
    "outputId": "f9d714a5-2db8-4270-c581-50da10791fc6"
   },
   "outputs": [
    {
     "name": "stdout",
     "output_type": "stream",
     "text": [
      "[ 20 176 496 279  29]\n"
     ]
    }
   ],
   "source": [
    "counts, bin_edges = np.histogram(data, bins=5)\n",
    "print(counts)"
   ]
  },
  {
   "cell_type": "code",
   "execution_count": 44,
   "metadata": {},
   "outputs": [],
   "source": [
    "counts, bin_edges = np.histogram(data, bins=5)"
   ]
  },
  {
   "cell_type": "code",
   "execution_count": 48,
   "metadata": {},
   "outputs": [],
   "source": [
    "import pandas as pd"
   ]
  },
  {
   "cell_type": "code",
   "execution_count": 51,
   "metadata": {},
   "outputs": [
    {
     "data": {
      "text/plain": [
       "[(-3.6856745709547476, -2.29941353467151),\n",
       " (-2.29941353467151, -0.9131524983882726),\n",
       " (-0.9131524983882726, 0.4731085378949653),\n",
       " (0.4731085378949653, 1.8593695741782024),\n",
       " (1.8593695741782024, 3.245630610461439)]"
      ]
     },
     "execution_count": 51,
     "metadata": {},
     "output_type": "execute_result"
    }
   ],
   "source": [
    "list(zip(bin_edges, bin_edges[1:]))"
   ]
  },
  {
   "cell_type": "code",
   "execution_count": 52,
   "metadata": {},
   "outputs": [
    {
     "data": {
      "text/html": [
       "<div>\n",
       "<style scoped>\n",
       "    .dataframe tbody tr th:only-of-type {\n",
       "        vertical-align: middle;\n",
       "    }\n",
       "\n",
       "    .dataframe tbody tr th {\n",
       "        vertical-align: top;\n",
       "    }\n",
       "\n",
       "    .dataframe thead th {\n",
       "        text-align: right;\n",
       "    }\n",
       "</style>\n",
       "<table border=\"1\" class=\"dataframe\">\n",
       "  <thead>\n",
       "    <tr style=\"text-align: right;\">\n",
       "      <th></th>\n",
       "      <th>Intervalo (izq)</th>\n",
       "      <th>counts</th>\n",
       "    </tr>\n",
       "  </thead>\n",
       "  <tbody>\n",
       "    <tr>\n",
       "      <th>0</th>\n",
       "      <td>(-3.6856745709547476, -2.29941353467151)</td>\n",
       "      <td>14</td>\n",
       "    </tr>\n",
       "    <tr>\n",
       "      <th>1</th>\n",
       "      <td>(-2.29941353467151, -0.9131524983882726)</td>\n",
       "      <td>161</td>\n",
       "    </tr>\n",
       "    <tr>\n",
       "      <th>2</th>\n",
       "      <td>(-0.9131524983882726, 0.4731085378949653)</td>\n",
       "      <td>499</td>\n",
       "    </tr>\n",
       "    <tr>\n",
       "      <th>3</th>\n",
       "      <td>(0.4731085378949653, 1.8593695741782024)</td>\n",
       "      <td>291</td>\n",
       "    </tr>\n",
       "    <tr>\n",
       "      <th>4</th>\n",
       "      <td>(1.8593695741782024, 3.245630610461439)</td>\n",
       "      <td>35</td>\n",
       "    </tr>\n",
       "  </tbody>\n",
       "</table>\n",
       "</div>"
      ],
      "text/plain": [
       "                             Intervalo (izq)  counts\n",
       "0   (-3.6856745709547476, -2.29941353467151)      14\n",
       "1   (-2.29941353467151, -0.9131524983882726)     161\n",
       "2  (-0.9131524983882726, 0.4731085378949653)     499\n",
       "3   (0.4731085378949653, 1.8593695741782024)     291\n",
       "4    (1.8593695741782024, 3.245630610461439)      35"
      ]
     },
     "execution_count": 52,
     "metadata": {},
     "output_type": "execute_result"
    }
   ],
   "source": [
    "pd.DataFrame({'Intervalo (izq)':list(zip(bin_edges, bin_edges[1:])), 'counts': counts})"
   ]
  },
  {
   "cell_type": "markdown",
   "metadata": {
    "colab_type": "text",
    "id": "ShcOcBx60U2N"
   },
   "source": [
    "## Two-Dimensional Histograms and Binnings\n",
    "\n",
    "Just as we create histograms in one dimension by dividing the number-line into bins, we can also create histograms in two-dimensions by dividing points among two-dimensional bins.\n",
    "We'll take a brief look at several ways to do this here.\n",
    "We'll start by defining some data—an ``x`` and ``y`` array drawn from a multivariate Gaussian distribution:"
   ]
  },
  {
   "cell_type": "code",
   "execution_count": 53,
   "metadata": {
    "colab": {},
    "colab_type": "code",
    "collapsed": false,
    "id": "C-QZ_iuW0U2N",
    "jupyter": {
     "outputs_hidden": false
    }
   },
   "outputs": [],
   "source": [
    "mean = [0, 0]\n",
    "cov = [[1, 1], [1, 2]]\n",
    "x, y = np.random.multivariate_normal(mean, cov, 10000).T"
   ]
  },
  {
   "cell_type": "code",
   "execution_count": 59,
   "metadata": {},
   "outputs": [
    {
     "data": {
      "image/png": "[encoded data removed]",
      "text/plain": [
       "<Figure size 640x480 with 1 Axes>"
      ]
     },
     "metadata": {},
     "output_type": "display_data"
    }
   ],
   "source": [
    "plt.hist(x, alpha=0.5, color='blue')\n",
    "plt.hist(y, alpha=0.5, color='green');"
   ]
  },
  {
   "cell_type": "markdown",
   "metadata": {
    "colab_type": "text",
    "id": "Q1VuQlMf0U2P"
   },
   "source": [
    "### ``plt.hist2d``: Two-dimensional histogram\n",
    "\n",
    "One straightforward way to plot a two-dimensional histogram is to use Matplotlib's ``plt.hist2d`` function:"
   ]
  },
  {
   "cell_type": "code",
   "execution_count": 62,
   "metadata": {
    "colab": {},
    "colab_type": "code",
    "collapsed": false,
    "id": "pbNv12zQ0U2P",
    "jupyter": {
     "outputs_hidden": false
    },
    "outputId": "8b08dea5-4430-40ab-f8be-e0e9716ba3cf"
   },
   "outputs": [
    {
     "data": {
      "image/png": "[encoded data removed]",
      "text/plain": [
       "<Figure size 640x480 with 2 Axes>"
      ]
     },
     "metadata": {},
     "output_type": "display_data"
    }
   ],
   "source": [
    "plt.hist2d(x + 50, y, bins=30, cmap='Blues')\n",
    "cb = plt.colorbar()\n",
    "cb.set_label('counts in bin')"
   ]
  },
  {
   "cell_type": "markdown",
   "metadata": {
    "colab_type": "text",
    "id": "7ViPYof40U2Q"
   },
   "source": [
    "Just as with ``plt.hist``, ``plt.hist2d`` has a number of extra options to fine-tune the plot and the binning, which are nicely outlined in the function docstring.\n",
    "Further, just as ``plt.hist`` has a counterpart in ``np.histogram``, ``plt.hist2d`` has a counterpart in ``np.histogram2d``, which can be used as follows:"
   ]
  },
  {
   "cell_type": "code",
   "execution_count": 20,
   "metadata": {
    "colab": {},
    "colab_type": "code",
    "collapsed": false,
    "id": "BgiBlR7d0U2Q",
    "jupyter": {
     "outputs_hidden": false
    }
   },
   "outputs": [],
   "source": [
    "counts, xedges, yedges = np.histogram2d(x, y, bins=30)"
   ]
  },
  {
   "cell_type": "markdown",
   "metadata": {
    "colab_type": "text",
    "id": "O6pgLxpI0U2R"
   },
   "source": [
    "For the generalization of this histogram binning in dimensions higher than two, see the ``np.histogramdd`` function."
   ]
  },
  {
   "cell_type": "markdown",
   "metadata": {
    "colab_type": "text",
    "id": "_UbnczsI0U2T"
   },
   "source": [
    "### ``plt.hexbin``: Hexagonal binnings\n",
    "\n",
    "The two-dimensional histogram creates a tesselation of squares across the axes.\n",
    "Another natural shape for such a tesselation is the regular hexagon.\n",
    "For this purpose, Matplotlib provides the ``plt.hexbin`` routine, which will represents a two-dimensional dataset binned within a grid of hexagons:"
   ]
  },
  {
   "cell_type": "code",
   "execution_count": 21,
   "metadata": {
    "colab": {},
    "colab_type": "code",
    "collapsed": false,
    "id": "WpvIhfLO0U2T",
    "jupyter": {
     "outputs_hidden": false
    },
    "outputId": "f16a8c65-9ec5-46a4-a797-e32999272357"
   },
   "outputs": [
    {
     "data": {
      "image/png": "[encoded data removed]",
      "text/plain": [
       "<Figure size 432x288 with 2 Axes>"
      ]
     },
     "metadata": {},
     "output_type": "display_data"
    }
   ],
   "source": [
    "plt.hexbin(x, y, gridsize=30, cmap='Blues')\n",
    "cb = plt.colorbar(label='count in bin')"
   ]
  },
  {
   "cell_type": "markdown",
   "metadata": {
    "colab_type": "text",
    "id": "O88qiHmH0U2U"
   },
   "source": [
    "``plt.hexbin`` has a number of interesting options, including the ability to specify weights for each point, and to change the output in each bin to any NumPy aggregate (mean of weights, standard deviation of weights, etc.)."
   ]
  },
  {
   "cell_type": "markdown",
   "metadata": {
    "colab_type": "text",
    "id": "9_7IknUo0U2U"
   },
   "source": [
    "### Kernel density estimation\n",
    "\n",
    "Another common method of evaluating densities in multiple dimensions is *kernel density estimation* (KDE).\n",
    "This will be discussed more fully in [In-Depth: Kernel Density Estimation](05.13-Kernel-Density-Estimation.ipynb), but for now we'll simply mention that KDE can be thought of as a way to \"smear out\" the points in space and add up the result to obtain a smooth function.\n",
    "One extremely quick and simple KDE implementation exists in the ``scipy.stats`` package.\n",
    "Here is a quick example of using the KDE on this data:"
   ]
  },
  {
   "cell_type": "code",
   "execution_count": 22,
   "metadata": {
    "colab": {},
    "colab_type": "code",
    "collapsed": false,
    "id": "wiVPxdPi0U2V",
    "jupyter": {
     "outputs_hidden": false
    },
    "outputId": "1269ab39-4592-4aad-9ee2-d3e36a40a495"
   },
   "outputs": [
    {
     "data": {
      "image/png": "[encoded data removed]",
      "text/plain": [
       "<Figure size 432x288 with 2 Axes>"
      ]
     },
     "metadata": {},
     "output_type": "display_data"
    }
   ],
   "source": [
    "from scipy.stats import gaussian_kde\n",
    "\n",
    "# fit an array of size [Ndim, Nsamples]\n",
    "data = np.vstack([x, y])\n",
    "kde = gaussian_kde(data)\n",
    "\n",
    "# evaluate on a regular grid\n",
    "xgrid = np.linspace(-3.5, 3.5, 40)\n",
    "ygrid = np.linspace(-6, 6, 40)\n",
    "Xgrid, Ygrid = np.meshgrid(xgrid, ygrid) # Xgrid.shape=40x40\n",
    "Z = kde.evaluate(np.vstack([Xgrid.ravel(), Ygrid.ravel()])) # ravel returns continuous flatten\n",
    "\n",
    "# Plot the result as an image\n",
    "plt.imshow(Z.reshape(Xgrid.shape),\n",
    "           origin='lower', aspect='auto',\n",
    "           extent=[-3.5, 3.5, -6, 6],\n",
    "           cmap='Blues')\n",
    "\n",
    "cb = plt.colorbar()\n",
    "cb.set_label(\"density\")"
   ]
  },
  {
   "cell_type": "markdown",
   "metadata": {
    "colab_type": "text",
    "id": "xa-lbM-H0U2W"
   },
   "source": [
    "KDE has a smoothing length that effectively slides the knob between detail and smoothness (one example of the ubiquitous bias–variance trade-off).\n",
    "The literature on choosing an appropriate smoothing length is vast: ``gaussian_kde`` uses a rule-of-thumb to attempt to find a nearly optimal smoothing length for the input data.\n",
    "\n",
    "Other KDE implementations are available within the SciPy ecosystem, each with its own strengths and weaknesses; see, for example, ``sklearn.neighbors.KernelDensity`` and ``statsmodels.nonparametric.kernel_density.KDEMultivariate``.\n",
    "For visualizations based on KDE, using Matplotlib tends to be overly verbose.\n",
    "The Seaborn library, discussed in [Visualization With Seaborn](04.14-Visualization-With-Seaborn.ipynb), provides a much more terse API for creating KDE-based visualizations."
   ]
  },
  {
   "cell_type": "markdown",
   "metadata": {},
   "source": [
    "# Ejercicio"
   ]
  },
  {
   "cell_type": "code",
   "execution_count": 64,
   "metadata": {},
   "outputs": [
    {
     "data": {
      "text/plain": [
       "(array([ 84, 743, 173], dtype=int64),\n",
       " array([-3.68567457, -1.37523951,  0.93519555,  3.24563061]))"
      ]
     },
     "execution_count": 64,
     "metadata": {},
     "output_type": "execute_result"
    }
   ],
   "source": [
    "np.histogram(data, bins=3)"
   ]
  },
  {
   "cell_type": "code",
   "execution_count": 72,
   "metadata": {},
   "outputs": [],
   "source": [
    "import pandas as pd\n",
    "df = pd.read_csv('./data/births.csv')\n",
    "df.dropna(inplace=True)"
   ]
  },
  {
   "cell_type": "code",
   "execution_count": 73,
   "metadata": {},
   "outputs": [
    {
     "data": {
      "image/png": "[encoded data removed]",
      "text/plain": [
       "<Figure size 640x480 with 1 Axes>"
      ]
     },
     "metadata": {},
     "output_type": "display_data"
    }
   ],
   "source": [
    "hist = plt.hist(df['births'], bins=50);"
   ]
  },
  {
   "cell_type": "code",
   "execution_count": 74,
   "metadata": {},
   "outputs": [
    {
     "data": {
      "text/html": [
       "<div>\n",
       "<style scoped>\n",
       "    .dataframe tbody tr th:only-of-type {\n",
       "        vertical-align: middle;\n",
       "    }\n",
       "\n",
       "    .dataframe tbody tr th {\n",
       "        vertical-align: top;\n",
       "    }\n",
       "\n",
       "    .dataframe thead th {\n",
       "        text-align: right;\n",
       "    }\n",
       "</style>\n",
       "<table border=\"1\" class=\"dataframe\">\n",
       "  <thead>\n",
       "    <tr style=\"text-align: right;\">\n",
       "      <th></th>\n",
       "      <th>year</th>\n",
       "      <th>month</th>\n",
       "      <th>day</th>\n",
       "      <th>gender</th>\n",
       "      <th>births</th>\n",
       "    </tr>\n",
       "  </thead>\n",
       "  <tbody>\n",
       "    <tr>\n",
       "      <th>62</th>\n",
       "      <td>1969</td>\n",
       "      <td>1</td>\n",
       "      <td>99.0</td>\n",
       "      <td>F</td>\n",
       "      <td>26</td>\n",
       "    </tr>\n",
       "    <tr>\n",
       "      <th>63</th>\n",
       "      <td>1969</td>\n",
       "      <td>1</td>\n",
       "      <td>99.0</td>\n",
       "      <td>M</td>\n",
       "      <td>38</td>\n",
       "    </tr>\n",
       "    <tr>\n",
       "      <th>120</th>\n",
       "      <td>1969</td>\n",
       "      <td>2</td>\n",
       "      <td>29.0</td>\n",
       "      <td>F</td>\n",
       "      <td>50</td>\n",
       "    </tr>\n",
       "    <tr>\n",
       "      <th>121</th>\n",
       "      <td>1969</td>\n",
       "      <td>2</td>\n",
       "      <td>29.0</td>\n",
       "      <td>M</td>\n",
       "      <td>16</td>\n",
       "    </tr>\n",
       "    <tr>\n",
       "      <th>122</th>\n",
       "      <td>1969</td>\n",
       "      <td>2</td>\n",
       "      <td>30.0</td>\n",
       "      <td>F</td>\n",
       "      <td>24</td>\n",
       "    </tr>\n",
       "    <tr>\n",
       "      <th>...</th>\n",
       "      <td>...</td>\n",
       "      <td>...</td>\n",
       "      <td>...</td>\n",
       "      <td>...</td>\n",
       "      <td>...</td>\n",
       "    </tr>\n",
       "    <tr>\n",
       "      <th>14572</th>\n",
       "      <td>1988</td>\n",
       "      <td>4</td>\n",
       "      <td>99.0</td>\n",
       "      <td>F</td>\n",
       "      <td>1</td>\n",
       "    </tr>\n",
       "    <tr>\n",
       "      <th>14635</th>\n",
       "      <td>1988</td>\n",
       "      <td>5</td>\n",
       "      <td>99.0</td>\n",
       "      <td>F</td>\n",
       "      <td>1</td>\n",
       "    </tr>\n",
       "    <tr>\n",
       "      <th>14696</th>\n",
       "      <td>1988</td>\n",
       "      <td>6</td>\n",
       "      <td>99.0</td>\n",
       "      <td>F</td>\n",
       "      <td>1</td>\n",
       "    </tr>\n",
       "    <tr>\n",
       "      <th>14697</th>\n",
       "      <td>1988</td>\n",
       "      <td>6</td>\n",
       "      <td>99.0</td>\n",
       "      <td>M</td>\n",
       "      <td>1</td>\n",
       "    </tr>\n",
       "    <tr>\n",
       "      <th>14944</th>\n",
       "      <td>1988</td>\n",
       "      <td>10</td>\n",
       "      <td>99.0</td>\n",
       "      <td>M</td>\n",
       "      <td>1</td>\n",
       "    </tr>\n",
       "  </tbody>\n",
       "</table>\n",
       "<p>457 rows × 5 columns</p>\n",
       "</div>"
      ],
      "text/plain": [
       "       year  month   day gender  births\n",
       "62     1969      1  99.0      F      26\n",
       "63     1969      1  99.0      M      38\n",
       "120    1969      2  29.0      F      50\n",
       "121    1969      2  29.0      M      16\n",
       "122    1969      2  30.0      F      24\n",
       "...     ...    ...   ...    ...     ...\n",
       "14572  1988      4  99.0      F       1\n",
       "14635  1988      5  99.0      F       1\n",
       "14696  1988      6  99.0      F       1\n",
       "14697  1988      6  99.0      M       1\n",
       "14944  1988     10  99.0      M       1\n",
       "\n",
       "[457 rows x 5 columns]"
      ]
     },
     "execution_count": 74,
     "metadata": {},
     "output_type": "execute_result"
    }
   ],
   "source": [
    "df[df['births'].between(0, 400)]"
   ]
  },
  {
   "cell_type": "code",
   "execution_count": 75,
   "metadata": {},
   "outputs": [
    {
     "name": "stdout",
     "output_type": "stream",
     "text": [
      "(15067, 5)\n",
      "(14610, 5)\n"
     ]
    }
   ],
   "source": [
    "print(df.shape)\n",
    "df = df[~df['births'].between(0, 400)]\n",
    "print(df.shape)"
   ]
  },
  {
   "cell_type": "code",
   "execution_count": 34,
   "metadata": {},
   "outputs": [
    {
     "data": {
      "text/plain": [
       "(array([  3,   7,  15,  32,  57,  95,  94, 129, 148, 192, 231, 221, 333,\n",
       "        403, 474, 490, 546, 567, 598, 547, 598, 544, 504, 547, 514, 552,\n",
       "        543, 505, 566, 541, 549, 476, 463, 427, 385, 352, 290, 240, 191,\n",
       "        170, 132, 105,  63,  57,  38,  34,  18,  11,   5,   8], dtype=int64),\n",
       " array([3249.  , 3314.56, 3380.12, 3445.68, 3511.24, 3576.8 , 3642.36,\n",
       "        3707.92, 3773.48, 3839.04, 3904.6 , 3970.16, 4035.72, 4101.28,\n",
       "        4166.84, 4232.4 , 4297.96, 4363.52, 4429.08, 4494.64, 4560.2 ,\n",
       "        4625.76, 4691.32, 4756.88, 4822.44, 4888.  , 4953.56, 5019.12,\n",
       "        5084.68, 5150.24, 5215.8 , 5281.36, 5346.92, 5412.48, 5478.04,\n",
       "        5543.6 , 5609.16, 5674.72, 5740.28, 5805.84, 5871.4 , 5936.96,\n",
       "        6002.52, 6068.08, 6133.64, 6199.2 , 6264.76, 6330.32, 6395.88,\n",
       "        6461.44, 6527.  ]))"
      ]
     },
     "execution_count": 34,
     "metadata": {},
     "output_type": "execute_result"
    }
   ],
   "source": [
    "np.histogram(df['births'], bins=50)"
   ]
  },
  {
   "cell_type": "code",
   "execution_count": 77,
   "metadata": {},
   "outputs": [
    {
     "data": {
      "image/png": "[encoded data removed]",
      "text/plain": [
       "<Figure size 640x480 with 1 Axes>"
      ]
     },
     "metadata": {},
     "output_type": "display_data"
    }
   ],
   "source": [
    "plt.hist(df['births'], bins=100);"
   ]
  },
  {
   "cell_type": "code",
   "execution_count": 82,
   "metadata": {},
   "outputs": [
    {
     "data": {
      "image/png": "[encoded data removed]",
      "text/plain": [
       "<Figure size 640x480 with 1 Axes>"
      ]
     },
     "metadata": {},
     "output_type": "display_data"
    }
   ],
   "source": [
    "plt.hist(df.loc[df['gender'] == 'F', 'births'], color='steelblue', alpha=.5, bins=100)\n",
    "plt.hist(df.loc[df['gender'] == 'M', 'births'], color='yellow', alpha=.5, bins=100);"
   ]
  },
  {
   "cell_type": "code",
   "execution_count": 83,
   "metadata": {},
   "outputs": [
    {
     "data": {
      "text/plain": [
       "Index(['year', 'month', 'day', 'gender', 'births'], dtype='object')"
      ]
     },
     "execution_count": 83,
     "metadata": {},
     "output_type": "execute_result"
    }
   ],
   "source": [
    "df.columns"
   ]
  },
  {
   "cell_type": "code",
   "execution_count": 86,
   "metadata": {},
   "outputs": [
    {
     "data": {
      "text/plain": [
       "<AxesSubplot: xlabel='month'>"
      ]
     },
     "execution_count": 86,
     "metadata": {},
     "output_type": "execute_result"
    },
    {
     "data": {
      "image/png": "[encoded data removed]",
      "text/plain": [
       "<Figure size 640x480 with 1 Axes>"
      ]
     },
     "metadata": {},
     "output_type": "display_data"
    }
   ],
   "source": [
    "df.loc[df['gender'] == 'F'].groupby('month').births.sum().plot()"
   ]
  },
  {
   "cell_type": "code",
   "execution_count": 89,
   "metadata": {},
   "outputs": [
    {
     "data": {
      "text/plain": [
       "<AxesSubplot: xlabel='year'>"
      ]
     },
     "execution_count": 89,
     "metadata": {},
     "output_type": "execute_result"
    },
    {
     "data": {
      "image/png": "[encoded data removed]",
      "text/plain": [
       "<Figure size 640x480 with 1 Axes>"
      ]
     },
     "metadata": {},
     "output_type": "display_data"
    }
   ],
   "source": [
    "df.groupby('year').births.sum().plot()"
   ]
  }
 ],
 "metadata": {
  "colab": {
   "name": "EDA-Intro-visualization_MatplotLib.ipynb",
   "provenance": []
  },
  "kernelspec": {
   "display_name": "Python 3.10.8 64-bit",
   "language": "python",
   "name": "python3"
  },
  "language_info": {
   "codemirror_mode": {
    "name": "ipython",
    "version": 3
   },
   "file_extension": ".py",
   "mimetype": "text/x-python",
   "name": "python",
   "nbconvert_exporter": "python",
   "pygments_lexer": "ipython3",
   "version": "3.10.8"
  },
  "vscode": {
   "interpreter": {
    "hash": "7600a12950a547366bb7a6732117e300ffd26224351912980486e1126c5d0f9a"
   }
  }
 },
 "nbformat": 4,
 "nbformat_minor": 4
}
