{
 "cells": [
  {
   "cell_type": "markdown",
   "metadata": {},
   "source": [
    "# Power BI\n",
    "## Canada Sales Data\n",
    "\n",
    "### 1. Hoja Revenue\n",
    "![](./img/hoja1.png)\n",
    "##### 1.1 Carga el Excel (pestaña CA Sales)\n",
    "##### 1.2 Pon un título, desde el menú de arriba Insertar\n",
    "##### 1.3 Añade una imagen de Canada sacada de Google desde el menu Insertar\n",
    "##### 1.4 Añade un 100% stacked bar plot, donde se vea, para cada mes, el reparto proporcional del revenue entre todas las provincias\n",
    "##### 1.5 Donut de Revenue por manufacturer. Oculta las etiquetas del donut. Que se vea la leyenda\n",
    "##### 1.6 Donut de revenue por province. Que se vean las etiquetas y la leyenda\n",
    "##### 1.7 Tabla de productos (nombre e ID) y revenue. Quita decimales y ordena por revenue de manera descendente\n",
    "##### 1.8 Gráfica múltiple. Barras de Revenue por año. Divididas por segmento. Añade además una línea con las Units. Hay que usar el gráfico de barras apilado con línea\n",
    "##### 1.9 Prueba a cambiar el tema desde la pestaña de arriba Ver."
   ]
  },
  {
   "cell_type": "markdown",
   "metadata": {},
   "source": [
    "### 2. Hoja Units\n",
    "![](./img/hoja2.png)\n",
    "##### 2.1 Cambia el fondo de pantalla a negro. Haz click en cualquier punto de la hoja, y desde el menú de visualizaciones, formato, cambiar el color.\n",
    "##### 2.2 Mapa de Units vs Province. Pon el tipo de mapa oscuro, y que aparezca la leyenda de colores encima. Que el tamaño de la burbuja esté en función de Units. Añadir etiquetas\n",
    "##### 2.4 Filtros. Añade dos filtros (segmentación de datos). Uno con el segmento y otro con la categoría. Que ambos sean un menú desplegable. Modifica los colores de los textos y fondos para que se vea bien\n",
    "##### 2.5 Funnel. Monta un funnel de Units vs Manufacturer. Cambia los colores para verlo bien. Que todos sean azules, menos Aliqui, destácalo de otro color.\n",
    "##### 2.6 Treemap. Monta un treemap de Units vs Manufacturer"
   ]
  },
  {
   "cell_type": "markdown",
   "metadata": {},
   "source": [
    "### 3. Hoja Data Evolution\n",
    "![](./img/hoja3.png)\n",
    "##### 3.1 Tabla. Crea una tabla con tres campos: Manufacturer, Revenue y CountryZip. Ordena por Revenue.\n",
    "##### 3.2 Tabla pivotante (Matrix), para ver las Units por Manufacturer y Año.\n",
    "##### 3.3 Evolutivo. Crea un gráfico de líneas con el evolutivo de Units por Date. Arrastra el Date entero y selecciona en la gráfica el modo detallado, para poder hacer zoom en cada año, trimestres o mes. Juega con el zoom de la fecha en la gráfica.\n",
    "##### 3.4 Crea un botón para ir directo a la pestaña Revenue\n",
    "##### 3.5 Crea otro botón para volver hacia atrás.\n",
    "##### 3.6 Pon el icono de preguntas y respuestas (encontrarás en Visualizaciones también). Prueba por ejemplo Units vs Province."
   ]
  },
  {
   "cell_type": "markdown",
   "metadata": {},
   "source": [
    "### 4. Hoja Units Play\n",
    "![](./img/hoja4.png)\n",
    "##### Crea un scatter plot de Revenue vs Units, cuyo tamaño y detalles sean el Segment, los colores el campo Category, y en el eje de reproducción esté el Año."
   ]
  },
  {
   "cell_type": "markdown",
   "metadata": {},
   "source": [
    "### 5. Hoja Waterfall\n",
    "![](./img/hoja5.png)\n",
    "##### 5.1 Prueba a añadir un filtro que solo afecte a esta página. Despliega filtros (al lado de visualizaciones) y filtra la categoría Rural.\n",
    "##### 5.2 Crea un KPI que sea la suma del revenue, y en el fondo del KPI aparezca la evolución a lo largo de los años.\n",
    "##### 5.3 Crea otro KPI con las Units, su evolutivo de fondo y la etiqueta debajo del KPI.\n",
    "##### 5.4 Crea un gráfico de barras en el que se refleje Units vs Province\n",
    "##### 5.5 Waterfall. Esta gráfica te da un evolutivo de una medida, pero en vez de ser una linea, se trata de subidas y bajadas en rojo y verde. Primero tienes que crear una medida rápida (menú Inicio), que sea el cambio año a año de Revenue, respecto al campo Date. Una vez tengas esto, a continuación selecciona el gráfico de cascada para representar la medida y la fecha"
   ]
  }
 ],
 "metadata": {
  "kernelspec": {
   "display_name": "Python 3",
   "language": "python",
   "name": "python3"
  },
  "language_info": {
   "codemirror_mode": {
    "name": "ipython",
    "version": 3
   },
   "file_extension": ".py",
   "mimetype": "text/x-python",
   "name": "python",
   "nbconvert_exporter": "python",
   "pygments_lexer": "ipython3",
   "version": "3.8.5"
  }
 },
 "nbformat": 4,
 "nbformat_minor": 4
}
