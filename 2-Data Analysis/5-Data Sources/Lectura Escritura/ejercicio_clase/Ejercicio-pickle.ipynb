{
 "cells": [
  {
   "cell_type": "code",
   "execution_count": 2,
   "metadata": {},
   "outputs": [],
   "source": [
    "import pickle"
   ]
  },
  {
   "cell_type": "code",
   "execution_count": 6,
   "metadata": {},
   "outputs": [
    {
     "ename": "AttributeError",
     "evalue": "Can't get attribute 'add_numbers' on <module '__main__'>",
     "output_type": "error",
     "traceback": [
      "\u001b[1;31m---------------------------------------------------------------------------\u001b[0m",
      "\u001b[1;31mAttributeError\u001b[0m                            Traceback (most recent call last)",
      "\u001b[1;32mc:\\Users\\alber\\Documents\\GitHub\\TheBridge\\Cursos\\SVL_DS_Febrero23\\2-Data Analysis\\5-Data Sources\\Lectura Escritura\\ejercicio_clase\\Ejercicio-pickle.ipynb Cell 2\u001b[0m in \u001b[0;36m2\n\u001b[0;32m      <a href='vscode-notebook-cell:/c%3A/Users/alber/Documents/GitHub/TheBridge/Cursos/SVL_DS_Febrero23/2-Data%20Analysis/5-Data%20Sources/Lectura%20Escritura/ejercicio_clase/Ejercicio-pickle.ipynb#W1sZmlsZQ%3D%3D?line=0'>1</a>\u001b[0m \u001b[39mwith\u001b[39;00m \u001b[39mopen\u001b[39m(\u001b[39m\"\u001b[39m\u001b[39mbinarios/addnumbers\u001b[39m\u001b[39m\"\u001b[39m, \u001b[39m\"\u001b[39m\u001b[39mrb\u001b[39m\u001b[39m\"\u001b[39m) \u001b[39mas\u001b[39;00m file:\n\u001b[1;32m----> <a href='vscode-notebook-cell:/c%3A/Users/alber/Documents/GitHub/TheBridge/Cursos/SVL_DS_Febrero23/2-Data%20Analysis/5-Data%20Sources/Lectura%20Escritura/ejercicio_clase/Ejercicio-pickle.ipynb#W1sZmlsZQ%3D%3D?line=1'>2</a>\u001b[0m     f \u001b[39m=\u001b[39m pickle\u001b[39m.\u001b[39;49mload(file)\n\u001b[0;32m      <a href='vscode-notebook-cell:/c%3A/Users/alber/Documents/GitHub/TheBridge/Cursos/SVL_DS_Febrero23/2-Data%20Analysis/5-Data%20Sources/Lectura%20Escritura/ejercicio_clase/Ejercicio-pickle.ipynb#W1sZmlsZQ%3D%3D?line=3'>4</a>\u001b[0m f\n",
      "\u001b[1;31mAttributeError\u001b[0m: Can't get attribute 'add_numbers' on <module '__main__'>"
     ]
    }
   ],
   "source": [
    "with open(\"binarios/addnumbers\", \"rb\") as file:\n",
    "    f = pickle.load(file)\n",
    "\n",
    "f"
   ]
  },
  {
   "cell_type": "code",
   "execution_count": 11,
   "metadata": {},
   "outputs": [
    {
     "data": {
      "text/plain": [
       "array([[' ', ' ', ' ', ' ', '⛴', ' ', ' ', ' ', ' ', ' '],\n",
       "       [' ', ' ', ' ', ' ', ' ', ' ', '⛴', '⛴', '⛴', ' '],\n",
       "       [' ', ' ', '⛴', ' ', ' ', ' ', ' ', ' ', ' ', ' '],\n",
       "       [' ', ' ', ' ', ' ', ' ', ' ', ' ', ' ', ' ', ' '],\n",
       "       ['⛴', ' ', ' ', ' ', ' ', ' ', ' ', ' ', ' ', ' '],\n",
       "       ['⛴', '⛴', ' ', '⛴', ' ', ' ', ' ', ' ', '⛴', ' '],\n",
       "       ['⛴', '⛴', '⛴', ' ', ' ', ' ', ' ', ' ', ' ', ' '],\n",
       "       ['⛴', ' ', '⛴', ' ', ' ', ' ', ' ', '⛴', ' ', ' '],\n",
       "       [' ', ' ', '⛴', ' ', ' ', ' ', ' ', '⛴', ' ', ' '],\n",
       "       [' ', ' ', ' ', ' ', ' ', ' ', ' ', '⛴', '⛴', ' ']], dtype='<U1')"
      ]
     },
     "execution_count": 11,
     "metadata": {},
     "output_type": "execute_result"
    }
   ],
   "source": [
    "with open(\"binarios/tablero\", \"rb\") as file:\n",
    "    f = pickle.load(file)\n",
    "\n",
    "f"
   ]
  },
  {
   "cell_type": "code",
   "execution_count": null,
   "metadata": {},
   "outputs": [],
   "source": []
  }
 ],
 "metadata": {
  "kernelspec": {
   "display_name": "Python 3",
   "language": "python",
   "name": "python3"
  },
  "language_info": {
   "codemirror_mode": {
    "name": "ipython",
    "version": 3
   },
   "file_extension": ".py",
   "mimetype": "text/x-python",
   "name": "python",
   "nbconvert_exporter": "python",
   "pygments_lexer": "ipython3",
   "version": "3.10.8"
  },
  "orig_nbformat": 4
 },
 "nbformat": 4,
 "nbformat_minor": 2
}
