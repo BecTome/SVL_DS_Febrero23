{
 "cells": [
  {
   "cell_type": "markdown",
   "metadata": {},
   "source": [
    "# REST APIs con Python"
   ]
  },
  {
   "cell_type": "markdown",
   "metadata": {},
   "source": [
    "Hay una cantidad increíble de datos disponibles en la web. Muchos servicios web, como YouTube y GitHub, hacen que sus datos sean accesibles a aplicaciones de terceros a través de una interfaz de programación de aplicaciones (API). Una de las formas más populares de construir APIs es con el estilo de arquitectura REST. Python proporciona algunas herramientas excelentes no sólo para obtener datos de las APIs REST, sino también para construir tus propias APIs REST en Python.\n",
    "\n",
    "Utilizando Python y las APIs REST, puedes recuperar, analizar, actualizar y manipular los datos proporcionados por cualquier servicio web que te interese."
   ]
  },
  {
   "cell_type": "markdown",
   "metadata": {},
   "source": [
    "## Arquitectura REST y servicios Web REST"
   ]
  },
  {
   "cell_type": "markdown",
   "metadata": {},
   "source": [
    "REST significa [representational state transfer](https://en.wikipedia.org/wiki/Representational_state_transfer) y es un estilo de arquitectura de software que define un patrón para las comunicaciones entre cliente y servidor a través de una red. REST proporciona un conjunto de restricciones para que la arquitectura del software promueva el rendimiento, la escalabilidad, la simplicidad y la fiabilidad del sistema."
   ]
  },
  {
   "cell_type": "markdown",
   "metadata": {},
   "source": [
    "Un servicio web REST es cualquier servicio web que se adhiere a las restricciones de la arquitectura REST. Estos servicios web exponen sus datos al mundo exterior a través de una API. Las APIs REST proporcionan acceso a los datos del servicio web a través de URLs web públicas.\n",
    "\n",
    "Por ejemplo, esta es una de las URL de la API REST de GitHub:\n",
    "\n",
    "```\n",
    "https://api.github.com/users/<nombredeusuario>\n",
    "```\n",
    "\n",
    "Esta URL te permite acceder a información sobre un usuario específico de GitHub. El acceso a los datos de una API REST se realiza enviando una solicitud HTTP a una URL específica y procesando la respuesta.\n"
   ]
  },
  {
   "cell_type": "markdown",
   "metadata": {},
   "source": [
    "## Métodos HTTP"
   ]
  },
  {
   "cell_type": "markdown",
   "metadata": {},
   "source": [
    "Las APIs REST escuchan métodos HTTP como GET, POST y DELETE para saber qué operaciones realizar en los recursos del servicio web. Un recurso es cualquier dato disponible en el servicio web al que se puede acceder y manipular con peticiones HTTP a la API REST. El método HTTP indica a la API qué acción debe realizar sobre el recurso.\n",
    "\n",
    "Aunque hay muchos métodos HTTP, los cinco métodos que se enumeran a continuación son los más utilizados con las APIs REST:"
   ]
  },
  {
   "cell_type": "markdown",
   "metadata": {},
   "source": [
    "<table class=\"table table-hover\">\n",
    "<thead>\n",
    "<tr>\n",
    "<th>HTTP method</th>\n",
    "<th>Description</th>\n",
    "</tr>\n",
    "</thead>\n",
    "<tbody>\n",
    "<tr>\n",
    "<td><code>GET</code></td>\n",
    "<td>Retrieve an existing resource.</td>\n",
    "</tr>\n",
    "<tr>\n",
    "<td><code>POST</code></td>\n",
    "<td>Create a new resource.</td>\n",
    "</tr>\n",
    "<tr>\n",
    "<td><code>PUT</code></td>\n",
    "<td>Update an existing resource.</td>\n",
    "</tr>\n",
    "<tr>\n",
    "<td><code>PATCH</code></td>\n",
    "<td>Partially update an existing resource.</td>\n",
    "</tr>\n",
    "<tr>\n",
    "<td><code>DELETE</code></td>\n",
    "<td>Delete a resource.</td>\n",
    "</tr>\n",
    "</tbody>\n",
    "</table>"
   ]
  },
  {
   "cell_type": "markdown",
   "metadata": {},
   "source": [
    "## Códigos de status"
   ]
  },
  {
   "cell_type": "markdown",
   "metadata": {},
   "source": [
    "Una vez que una API REST recibe y procesa una solicitud HTTP, devolverá una respuesta HTTP. En esta respuesta se incluye un código de estado HTTP. Este código proporciona información sobre los resultados de la solicitud. Una aplicación que envíe solicitudes a la API puede comprobar el código de estado y realizar acciones basadas en el resultado. Estas acciones pueden incluir la gestión de errores o la visualización de un mensaje de éxito a un usuario.\n",
    "\n",
    "A continuación se muestra una lista de los códigos de estado más comunes devueltos por las APIs de REST:\n",
    "\n",
    "<div class=\"table-responsive\">\n",
    "<table class=\"table table-hover\">\n",
    "<thead>\n",
    "<tr>\n",
    "<th>Code</th>\n",
    "<th>Meaning</th>\n",
    "<th>Description</th>\n",
    "</tr>\n",
    "</thead>\n",
    "<tbody>\n",
    "<tr>\n",
    "<td><code>200</code></td>\n",
    "<td>OK</td>\n",
    "<td>The requested action was successful.</td>\n",
    "</tr>\n",
    "<tr>\n",
    "<td><code>201</code></td>\n",
    "<td>Created</td>\n",
    "<td>A new resource was created.</td>\n",
    "</tr>\n",
    "<tr>\n",
    "<td><code>202</code></td>\n",
    "<td>Accepted</td>\n",
    "<td>The request was received, but no modification has been made yet.</td>\n",
    "</tr>\n",
    "<tr>\n",
    "<td><code>204</code></td>\n",
    "<td>No Content</td>\n",
    "<td>The request was successful, but the response has no content.</td>\n",
    "</tr>\n",
    "<tr>\n",
    "<td><code>400</code></td>\n",
    "<td>Bad Request</td>\n",
    "<td>The request was malformed.</td>\n",
    "</tr>\n",
    "<tr>\n",
    "<td><code>401</code></td>\n",
    "<td>Unauthorized</td>\n",
    "<td>The client is not authorized to perform the requested action.</td>\n",
    "</tr>\n",
    "<tr>\n",
    "<td><code>404</code></td>\n",
    "<td>Not Found</td>\n",
    "<td>The requested resource was not found.</td>\n",
    "</tr>\n",
    "<tr>\n",
    "<td><code>415</code></td>\n",
    "<td>Unsupported Media Type</td>\n",
    "<td>The request data format is not supported by the server.</td>\n",
    "</tr>\n",
    "<tr>\n",
    "<td><code>422</code></td>\n",
    "<td>Unprocessable Entity</td>\n",
    "<td>The request data was properly formatted but contained invalid or missing data.</td>\n",
    "</tr>\n",
    "<tr>\n",
    "<td><code>500</code></td>\n",
    "<td>Internal Server Error</td>\n",
    "<td>The server threw an error when processing the request.</td>\n",
    "</tr>\n",
    "</tbody>\n",
    "</table>\n",
    "</div>"
   ]
  },
  {
   "cell_type": "markdown",
   "metadata": {},
   "source": [
    "## API Endpoints"
   ]
  },
  {
   "cell_type": "markdown",
   "metadata": {},
   "source": [
    "Una API REST expone un conjunto de URLs públicas que las aplicaciones cliente utilizan para acceder a los recursos de un servicio web. Estas URL, en el contexto de una API, se denominan `endpoints`.\n",
    "\n",
    "Para ayudar a aclarar esto, eche un vistazo a la siguiente tabla. En esta tabla, verá los puntos finales de la API para un hipotético sistema CRM. Estos endpoints son para un recurso de cliente que representa clientes potenciales en el sistema:\n",
    "\n",
    "<div class=\"table-responsive\">\n",
    "<table class=\"table table-hover\">\n",
    "<thead>\n",
    "<tr>\n",
    "<th>HTTP method</th>\n",
    "<th>API endpoint</th>\n",
    "<th>Description</th>\n",
    "</tr>\n",
    "</thead>\n",
    "<tbody>\n",
    "<tr>\n",
    "<td><code>GET</code></td>\n",
    "<td><code>/customers</code></td>\n",
    "<td>Get a list of customers.</td>\n",
    "</tr>\n",
    "<tr>\n",
    "<td><code>GET</code></td>\n",
    "<td><code>/customers/&lt;customer_id&gt;</code></td>\n",
    "<td>Get a single customer.</td>\n",
    "</tr>\n",
    "<tr>\n",
    "<td><code>POST</code></td>\n",
    "<td><code>/customers</code></td>\n",
    "<td>Create a new customer.</td>\n",
    "</tr>\n",
    "<tr>\n",
    "<td><code>PUT</code></td>\n",
    "<td><code>/customers/&lt;customer_id&gt;</code></td>\n",
    "<td>Update a customer.</td>\n",
    "</tr>\n",
    "<tr>\n",
    "<td><code>PATCH</code></td>\n",
    "<td><code>/customers/&lt;customer_id&gt;</code></td>\n",
    "<td>Partially update a customer.</td>\n",
    "</tr>\n",
    "<tr>\n",
    "<td><code>DELETE</code></td>\n",
    "<td><code>/customers/&lt;customer_id&gt;</code></td>\n",
    "<td>Delete a customer.</td>\n",
    "</tr>\n",
    "</tbody>\n",
    "</table>\n",
    "</div>"
   ]
  },
  {
   "cell_type": "markdown",
   "metadata": {},
   "source": [
    "**Nota**: Se omite por brevedad, pero la URL completa sería del tipo `https://api.example.com/customers`"
   ]
  },
  {
   "cell_type": "markdown",
   "metadata": {},
   "source": [
    "Observará que algunos endpoints tienen `<customer_id>` al final. Esta notación significa que debe añadir un customer_id numérico a la URL para indicar a la API REST con qué cliente desea trabajar.\n",
    "\n",
    "Los endpoints enumerados anteriormente representan sólo un recurso del sistema. Las API REST listas para la producción suelen tener decenas o incluso cientos de endpoints diferentes para gestionar los recursos del servicio web."
   ]
  },
  {
   "cell_type": "markdown",
   "metadata": {},
   "source": [
    "## Consumir APIs con Python"
   ]
  },
  {
   "cell_type": "markdown",
   "metadata": {},
   "source": [
    "Para escribir código que interactúe con las APIs REST, la mayoría de los desarrolladores de Python recurren ala librería `requests` para enviar solicitudes HTTP. Esta librería abstrae las complejidades de hacer peticiones HTTP. \n",
    "\n",
    "Para empezar a usar `requests`, necesitas instalarla primero. Puedes usar pip:\n"
   ]
  },
  {
   "cell_type": "code",
   "execution_count": null,
   "metadata": {},
   "outputs": [],
   "source": [
    "!pip install requests"
   ]
  },
  {
   "cell_type": "markdown",
   "metadata": {},
   "source": [
    "### GET"
   ]
  },
  {
   "cell_type": "markdown",
   "metadata": {},
   "source": [
    "GET es uno de los métodos HTTP más comunes que utilizará cuando trabaje con APIs REST. Este método le permite recuperar recursos de una determinada API. GET es una operación de **sólo lectura**, por lo que no debe utilizarla para modificar un recurso existente.\n",
    "\n",
    "Para probar GET y los demás métodos de esta sección, utilizarás un servicio llamado JSONPlaceholder. Este servicio gratuito proporciona puntos finales de API falsos que devuelven respuestas que las solicitudes pueden procesar.\n",
    "\n",
    "Para probarlo, inicia el REPL de Python y ejecuta los siguientes comandos para enviar una solicitud GET a un punto final de JSONPlaceholder:"
   ]
  },
  {
   "cell_type": "code",
   "execution_count": 1,
   "metadata": {},
   "outputs": [
    {
     "data": {
      "text/plain": [
       "{'userId': 1, 'id': 1, 'title': 'delectus aut autem', 'completed': False}"
      ]
     },
     "execution_count": 1,
     "metadata": {},
     "output_type": "execute_result"
    }
   ],
   "source": [
    "import requests\n",
    "api_url = \"https://jsonplaceholder.typicode.com/todos/1\"\n",
    "response = requests.get(api_url)\n",
    "response.json()"
   ]
  },
  {
   "cell_type": "markdown",
   "metadata": {},
   "source": [
    "Este código llama a `requests.get()` para enviar una petición GET a `/todos/1`, que responde con el elemento todo con el ID 1. A continuación, puede llamar a `.json()` en el objeto de respuesta para ver los datos devueltos por la API.\n",
    "\n",
    "Los datos de la respuesta están formateados como JSON, un almacén de clave-valor similar a un diccionario de Python. Es un formato de datos muy popular y el formato de intercambio de facto para la mayoría de las APIs REST.\n",
    "\n",
    "Además de ver los datos JSON de la API, también puede ver otras cosas sobre la respuesta:"
   ]
  },
  {
   "cell_type": "code",
   "execution_count": 3,
   "metadata": {},
   "outputs": [
    {
     "name": "stdout",
     "output_type": "stream",
     "text": [
      "200\n",
      "application/json; charset=utf-8\n",
      "{'Date': 'Wed, 20 Apr 2022 16:12:09 GMT', 'Content-Type': 'application/json; charset=utf-8', 'Transfer-Encoding': 'chunked', 'Connection': 'keep-alive', 'X-Powered-By': 'Express', 'X-Ratelimit-Limit': '1000', 'X-Ratelimit-Remaining': '999', 'X-Ratelimit-Reset': '1649752797', 'Vary': 'Origin, Accept-Encoding', 'Access-Control-Allow-Credentials': 'true', 'Cache-Control': 'max-age=43200', 'Pragma': 'no-cache', 'Expires': '-1', 'X-Content-Type-Options': 'nosniff', 'Etag': 'W/\"53-hfEnumeNh6YirfjyjaujcOPPT+s\"', 'Via': '1.1 vegur', 'CF-Cache-Status': 'HIT', 'Age': '5296', 'Expect-CT': 'max-age=604800, report-uri=\"https://report-uri.cloudflare.com/cdn-cgi/beacon/expect-ct\"', 'Report-To': '{\"endpoints\":[{\"url\":\"https:\\\\/\\\\/a.nel.cloudflare.com\\\\/report\\\\/v3?s=rnUg13XOrmVBiO72vao%2FE6xzNppL3vSLx%2Bylmr45nA33U%2BDaZR6ontXiQGEuSu%2FOQyKaUvDaVmQC6Up%2BbTY7FkiJTSYoFu0nu8nFDazl9%2Fhxj1LgAc%2BPRj0gmdnftMYhC58di369RQVFAjTXmxwU\"}],\"group\":\"cf-nel\",\"max_age\":604800}', 'NEL': '{\"success_fraction\":0,\"report_to\":\"cf-nel\",\"max_age\":604800}', 'Server': 'cloudflare', 'CF-RAY': '6fef28eefcf814ed-MAD', 'Content-Encoding': 'gzip', 'alt-svc': 'h3=\":443\"; ma=86400, h3-29=\":443\"; ma=86400'}\n"
     ]
    }
   ],
   "source": [
    "print(response.status_code)\n",
    "print(response.headers[\"Content-Type\"])\n",
    "print(response.headers)"
   ]
  },
  {
   "cell_type": "markdown",
   "metadata": {},
   "source": [
    "Aquí se accede a `response.status_code` para ver el código de estado HTTP. También puedes ver las cabeceras HTTP de la respuesta con `response.headers`. Este diccionario contiene metadatos sobre la respuesta, como el Content-Type de la respuesta."
   ]
  },
  {
   "cell_type": "markdown",
   "metadata": {},
   "source": [
    "### POST"
   ]
  },
  {
   "cell_type": "markdown",
   "metadata": {},
   "source": [
    "Aquí se llama a `requests.post()` para crear una nueva tarea en el sistema.\n",
    "\n",
    "1. Se crea un diccionario que contiene los datos de la tarea\n",
    "2. Pasa este diccionario al argumento de la palabra clave json de `requests.post()`\n",
    "3. Al hacer esto, requests.post() automáticamente establece el encabezado HTTP Content-Type de la solicitud a application/json. También serializa todo en una cadena JSON, que añade al cuerpo de la petición."
   ]
  },
  {
   "cell_type": "code",
   "execution_count": 6,
   "metadata": {},
   "outputs": [
    {
     "name": "stdout",
     "output_type": "stream",
     "text": [
      "{'userId': 1, 'title': 'Buy milk', 'completed': False, 'id': 201}\n",
      "201\n"
     ]
    }
   ],
   "source": [
    "api_url = \"https://jsonplaceholder.typicode.com/todos\"\n",
    "todo = {\"userId\": 1, \"title\": \"Buy milk\", \"completed\": False}\n",
    "response = requests.post(api_url, json=todo)\n",
    "print(response.json())\n",
    "print(response.status_code)"
   ]
  },
  {
   "cell_type": "markdown",
   "metadata": {},
   "source": [
    "Si no utiliza el argumento `json` en la función para suministrar los datos JSON, deberá establecer el `Content-Type` correspondiente y serializar el JSON manualmente. Aquí hay una versión equivalente al código anterior:"
   ]
  },
  {
   "cell_type": "code",
   "execution_count": 7,
   "metadata": {},
   "outputs": [
    {
     "name": "stdout",
     "output_type": "stream",
     "text": [
      "{'userId': 1, 'title': 'Buy milk', 'completed': False, 'id': 201}\n",
      "201\n"
     ]
    }
   ],
   "source": [
    "import json\n",
    "api_url = \"https://jsonplaceholder.typicode.com/todos\"\n",
    "todo = {\"userId\": 1, \"title\": \"Buy milk\", \"completed\": False}\n",
    "headers =  {\"Content-Type\":\"application/json\"}\n",
    "response = requests.post(api_url, data=json.dumps(todo), headers=headers)\n",
    "\n",
    "print(response.json())\n",
    "print(response.status_code)"
   ]
  },
  {
   "cell_type": "markdown",
   "metadata": {},
   "source": [
    "### PUT"
   ]
  },
  {
   "cell_type": "code",
   "execution_count": 11,
   "metadata": {},
   "outputs": [
    {
     "name": "stdout",
     "output_type": "stream",
     "text": [
      "{'userId': 1, 'id': 10, 'title': 'illo est ratione doloremque quia maiores aut', 'completed': True}\n"
     ]
    }
   ],
   "source": [
    "api_url = \"https://jsonplaceholder.typicode.com/todos/10\"\n",
    "response = requests.get(api_url)\n",
    "print(response.json())"
   ]
  },
  {
   "cell_type": "code",
   "execution_count": 12,
   "metadata": {},
   "outputs": [
    {
     "name": "stdout",
     "output_type": "stream",
     "text": [
      "{'userId': 1, 'title': 'Wash car', 'completed': True, 'id': 10}\n",
      "200\n"
     ]
    }
   ],
   "source": [
    "todo = {\"userId\": 1, \"title\": \"Wash car\", \"completed\": True}\n",
    "response = requests.put(api_url, json=todo)\n",
    "print(response.json())\n",
    "print(response.status_code)"
   ]
  },
  {
   "cell_type": "markdown",
   "metadata": {},
   "source": [
    "### PATCH"
   ]
  },
  {
   "cell_type": "code",
   "execution_count": 14,
   "metadata": {},
   "outputs": [
    {
     "name": "stdout",
     "output_type": "stream",
     "text": [
      "{'userId': 1, 'id': 10, 'title': 'Mow lawn', 'completed': True}\n",
      "200\n"
     ]
    }
   ],
   "source": [
    "api_url = \"https://jsonplaceholder.typicode.com/todos/10\"\n",
    "todo = {\"title\": \"Mow lawn\"}\n",
    "response = requests.patch(api_url, json=todo)\n",
    "print(response.json())\n",
    "print(response.status_code)"
   ]
  },
  {
   "cell_type": "markdown",
   "metadata": {},
   "source": [
    "### DELETE"
   ]
  },
  {
   "cell_type": "code",
   "execution_count": 15,
   "metadata": {},
   "outputs": [
    {
     "data": {
      "text/plain": [
       "{}"
      ]
     },
     "execution_count": 15,
     "metadata": {},
     "output_type": "execute_result"
    }
   ],
   "source": [
    "api_url = \"https://jsonplaceholder.typicode.com/todos/10\"\n",
    "response = requests.delete(api_url)\n",
    "response.json()"
   ]
  },
  {
   "cell_type": "markdown",
   "metadata": {},
   "source": [
    "## Ejemplo: Datos Sevici"
   ]
  },
  {
   "cell_type": "markdown",
   "metadata": {},
   "source": [
    "Hoy en día, una gran cantidad de sitios web facilitan acceso a sus datos a través de API RESTs. Un ejemplo es la siguiente web con información geográfica sobre distintos aspectos de nuestra ciudad."
   ]
  },
  {
   "cell_type": "code",
   "execution_count": 16,
   "metadata": {},
   "outputs": [],
   "source": [
    "# En la web encontramos la especificación de la API que nos interesa\n",
    "url = 'https://services1.arcgis.com/hcmP7kr0Cx3AcTJk/arcgis/rest/services/Estaciones_Sevici/FeatureServer/0/query?where=1%3D1&outFields=*&outSR=4326&f=json'\n",
    "r = requests.get(url)\n",
    "\n",
    "# Escribimos el json para poder pasarlo por un Beautifier (https://codebeautify.org/jsonviewer) \n",
    "# que nos permite visualizarlo de manera sencilla\n",
    "with open(\"sevici.json\", \"w\") as f:\n",
    "    json.dump(r.json(), f)"
   ]
  },
  {
   "cell_type": "markdown",
   "metadata": {},
   "source": [
    "El formato de los datos no es muy amigable pero con un poco de exploración encontramos la información que nos interesa"
   ]
  },
  {
   "cell_type": "code",
   "execution_count": 27,
   "metadata": {},
   "outputs": [
    {
     "name": "stdout",
     "output_type": "stream",
     "text": [
      "{'attributes': {'FID': 1, 'id_estacio': 1, 'Direccion': 'Glorieta Olimpica', 'Aproximaci': 'Concejal Alberto Jiménez-Becerril', 'Lat_Y': 37.412983, 'Lon_X': -5.988933, 'CreationDate': 1412457692379, 'Creator': 'Ayto.Sevilla', 'EditDate': 1412457692379, 'Editor': 'Ayto.Sevilla'}, 'geometry': {'x': -5.988933251932231, 'y': 37.412983041853934}}\n",
      "{'FID': 1, 'id_estacio': 1, 'Direccion': 'Glorieta Olimpica', 'Aproximaci': 'Concejal Alberto Jiménez-Becerril', 'Lat_Y': 37.412983, 'Lon_X': -5.988933, 'CreationDate': 1412457692379, 'Creator': 'Ayto.Sevilla', 'EditDate': 1412457692379, 'Editor': 'Ayto.Sevilla'}\n"
     ]
    }
   ],
   "source": [
    "# Guardamos la respuesta en un diccionario\n",
    "raw_data = r.json()\n",
    "print(raw_data[\"features\"][0])\n",
    "\n",
    "data = [x[\"attributes\"] for x in raw_data[\"features\"]]\n",
    "print(data[0])"
   ]
  },
  {
   "cell_type": "markdown",
   "metadata": {},
   "source": [
    "Ahora podemos escribir los datos en un dataframe de pandas que nos permita usar todo lo que hemos aprendido hasta ahora"
   ]
  },
  {
   "cell_type": "code",
   "execution_count": 28,
   "metadata": {},
   "outputs": [
    {
     "data": {
      "text/html": [
       "<div>\n",
       "<style scoped>\n",
       "    .dataframe tbody tr th:only-of-type {\n",
       "        vertical-align: middle;\n",
       "    }\n",
       "\n",
       "    .dataframe tbody tr th {\n",
       "        vertical-align: top;\n",
       "    }\n",
       "\n",
       "    .dataframe thead th {\n",
       "        text-align: right;\n",
       "    }\n",
       "</style>\n",
       "<table border=\"1\" class=\"dataframe\">\n",
       "  <thead>\n",
       "    <tr style=\"text-align: right;\">\n",
       "      <th></th>\n",
       "      <th>FID</th>\n",
       "      <th>id_estacio</th>\n",
       "      <th>Direccion</th>\n",
       "      <th>Aproximaci</th>\n",
       "      <th>Lat_Y</th>\n",
       "      <th>Lon_X</th>\n",
       "      <th>CreationDate</th>\n",
       "      <th>Creator</th>\n",
       "      <th>EditDate</th>\n",
       "      <th>Editor</th>\n",
       "    </tr>\n",
       "  </thead>\n",
       "  <tbody>\n",
       "    <tr>\n",
       "      <th>0</th>\n",
       "      <td>1</td>\n",
       "      <td>1</td>\n",
       "      <td>Glorieta Olimpica</td>\n",
       "      <td>Concejal Alberto Jiménez-Becerril</td>\n",
       "      <td>37.412983</td>\n",
       "      <td>-5.988933</td>\n",
       "      <td>1412457692379</td>\n",
       "      <td>Ayto.Sevilla</td>\n",
       "      <td>1412457692379</td>\n",
       "      <td>Ayto.Sevilla</td>\n",
       "    </tr>\n",
       "    <tr>\n",
       "      <th>1</th>\n",
       "      <td>2</td>\n",
       "      <td>2</td>\n",
       "      <td>Gran Plaza</td>\n",
       "      <td>Calle Marquez de Pickman</td>\n",
       "      <td>37.381664</td>\n",
       "      <td>-5.965183</td>\n",
       "      <td>1412457692379</td>\n",
       "      <td>Ayto.Sevilla</td>\n",
       "      <td>1412457692379</td>\n",
       "      <td>Ayto.Sevilla</td>\n",
       "    </tr>\n",
       "    <tr>\n",
       "      <th>2</th>\n",
       "      <td>3</td>\n",
       "      <td>3</td>\n",
       "      <td>Puerta de la Barqueta</td>\n",
       "      <td>Puente de la Barqueta</td>\n",
       "      <td>37.405640</td>\n",
       "      <td>-5.998514</td>\n",
       "      <td>1412457692379</td>\n",
       "      <td>Ayto.Sevilla</td>\n",
       "      <td>1412457692379</td>\n",
       "      <td>Ayto.Sevilla</td>\n",
       "    </tr>\n",
       "    <tr>\n",
       "      <th>3</th>\n",
       "      <td>4</td>\n",
       "      <td>4</td>\n",
       "      <td>Calle Leonardo Da Vinci</td>\n",
       "      <td>Calle Thomas Alba Edison</td>\n",
       "      <td>37.410126</td>\n",
       "      <td>-6.005659</td>\n",
       "      <td>1412457692379</td>\n",
       "      <td>Ayto.Sevilla</td>\n",
       "      <td>1412457692379</td>\n",
       "      <td>Ayto.Sevilla</td>\n",
       "    </tr>\n",
       "    <tr>\n",
       "      <th>4</th>\n",
       "      <td>5</td>\n",
       "      <td>131</td>\n",
       "      <td>Calle Tabladilla</td>\n",
       "      <td>Calle Cardenal Ilundaín</td>\n",
       "      <td>37.364746</td>\n",
       "      <td>-5.981396</td>\n",
       "      <td>1412457692379</td>\n",
       "      <td>Ayto.Sevilla</td>\n",
       "      <td>1412457692379</td>\n",
       "      <td>Ayto.Sevilla</td>\n",
       "    </tr>\n",
       "    <tr>\n",
       "      <th>...</th>\n",
       "      <td>...</td>\n",
       "      <td>...</td>\n",
       "      <td>...</td>\n",
       "      <td>...</td>\n",
       "      <td>...</td>\n",
       "      <td>...</td>\n",
       "      <td>...</td>\n",
       "      <td>...</td>\n",
       "      <td>...</td>\n",
       "      <td>...</td>\n",
       "    </tr>\n",
       "    <tr>\n",
       "      <th>255</th>\n",
       "      <td>256</td>\n",
       "      <td>256</td>\n",
       "      <td>Plaza Miguel Montoro</td>\n",
       "      <td>Calle Pero Mingo</td>\n",
       "      <td>37.385987</td>\n",
       "      <td>-5.910274</td>\n",
       "      <td>1412457692379</td>\n",
       "      <td>Ayto.Sevilla</td>\n",
       "      <td>1412457692379</td>\n",
       "      <td>Ayto.Sevilla</td>\n",
       "    </tr>\n",
       "    <tr>\n",
       "      <th>256</th>\n",
       "      <td>257</td>\n",
       "      <td>257</td>\n",
       "      <td>Plaza Torres de Albarracín</td>\n",
       "      <td>Plaza Corazón de María</td>\n",
       "      <td>37.384210</td>\n",
       "      <td>-5.909692</td>\n",
       "      <td>1412457692379</td>\n",
       "      <td>Ayto.Sevilla</td>\n",
       "      <td>1412457692379</td>\n",
       "      <td>Ayto.Sevilla</td>\n",
       "    </tr>\n",
       "    <tr>\n",
       "      <th>257</th>\n",
       "      <td>258</td>\n",
       "      <td>258</td>\n",
       "      <td>Calle Estaca de Vares</td>\n",
       "      <td>Calle Creus</td>\n",
       "      <td>37.383797</td>\n",
       "      <td>-5.914633</td>\n",
       "      <td>1412457692379</td>\n",
       "      <td>Ayto.Sevilla</td>\n",
       "      <td>1412457692379</td>\n",
       "      <td>Ayto.Sevilla</td>\n",
       "    </tr>\n",
       "    <tr>\n",
       "      <th>258</th>\n",
       "      <td>259</td>\n",
       "      <td>259</td>\n",
       "      <td>Calle 8 de Marzo</td>\n",
       "      <td>Calle Aguila Perdicera</td>\n",
       "      <td>37.367181</td>\n",
       "      <td>-5.954483</td>\n",
       "      <td>1412457692379</td>\n",
       "      <td>Ayto.Sevilla</td>\n",
       "      <td>1412457692379</td>\n",
       "      <td>Ayto.Sevilla</td>\n",
       "    </tr>\n",
       "    <tr>\n",
       "      <th>259</th>\n",
       "      <td>260</td>\n",
       "      <td>260</td>\n",
       "      <td>Avenida de la Revoltosa</td>\n",
       "      <td>Centro Deportivo Amate</td>\n",
       "      <td>37.378641</td>\n",
       "      <td>-5.948474</td>\n",
       "      <td>1412457692379</td>\n",
       "      <td>Ayto.Sevilla</td>\n",
       "      <td>1412457692379</td>\n",
       "      <td>Ayto.Sevilla</td>\n",
       "    </tr>\n",
       "  </tbody>\n",
       "</table>\n",
       "<p>260 rows × 10 columns</p>\n",
       "</div>"
      ],
      "text/plain": [
       "     FID  id_estacio                   Direccion  \\\n",
       "0      1           1           Glorieta Olimpica   \n",
       "1      2           2                  Gran Plaza   \n",
       "2      3           3       Puerta de la Barqueta   \n",
       "3      4           4     Calle Leonardo Da Vinci   \n",
       "4      5         131            Calle Tabladilla   \n",
       "..   ...         ...                         ...   \n",
       "255  256         256        Plaza Miguel Montoro   \n",
       "256  257         257  Plaza Torres de Albarracín   \n",
       "257  258         258       Calle Estaca de Vares   \n",
       "258  259         259            Calle 8 de Marzo   \n",
       "259  260         260     Avenida de la Revoltosa   \n",
       "\n",
       "                            Aproximaci      Lat_Y     Lon_X   CreationDate  \\\n",
       "0    Concejal Alberto Jiménez-Becerril  37.412983 -5.988933  1412457692379   \n",
       "1             Calle Marquez de Pickman  37.381664 -5.965183  1412457692379   \n",
       "2                Puente de la Barqueta  37.405640 -5.998514  1412457692379   \n",
       "3             Calle Thomas Alba Edison  37.410126 -6.005659  1412457692379   \n",
       "4              Calle Cardenal Ilundaín  37.364746 -5.981396  1412457692379   \n",
       "..                                 ...        ...       ...            ...   \n",
       "255                   Calle Pero Mingo  37.385987 -5.910274  1412457692379   \n",
       "256             Plaza Corazón de María  37.384210 -5.909692  1412457692379   \n",
       "257                        Calle Creus  37.383797 -5.914633  1412457692379   \n",
       "258             Calle Aguila Perdicera  37.367181 -5.954483  1412457692379   \n",
       "259             Centro Deportivo Amate  37.378641 -5.948474  1412457692379   \n",
       "\n",
       "          Creator       EditDate        Editor  \n",
       "0    Ayto.Sevilla  1412457692379  Ayto.Sevilla  \n",
       "1    Ayto.Sevilla  1412457692379  Ayto.Sevilla  \n",
       "2    Ayto.Sevilla  1412457692379  Ayto.Sevilla  \n",
       "3    Ayto.Sevilla  1412457692379  Ayto.Sevilla  \n",
       "4    Ayto.Sevilla  1412457692379  Ayto.Sevilla  \n",
       "..            ...            ...           ...  \n",
       "255  Ayto.Sevilla  1412457692379  Ayto.Sevilla  \n",
       "256  Ayto.Sevilla  1412457692379  Ayto.Sevilla  \n",
       "257  Ayto.Sevilla  1412457692379  Ayto.Sevilla  \n",
       "258  Ayto.Sevilla  1412457692379  Ayto.Sevilla  \n",
       "259  Ayto.Sevilla  1412457692379  Ayto.Sevilla  \n",
       "\n",
       "[260 rows x 10 columns]"
      ]
     },
     "execution_count": 28,
     "metadata": {},
     "output_type": "execute_result"
    }
   ],
   "source": [
    "import pandas as pd\n",
    "df = pd.DataFrame(data)\n",
    "df"
   ]
  },
  {
   "cell_type": "markdown",
   "metadata": {},
   "source": [
    "Parece que el lugar en el que es más necesario especificar la aproximación es en la Calle Asunción"
   ]
  },
  {
   "cell_type": "code",
   "execution_count": 30,
   "metadata": {},
   "outputs": [
    {
     "data": {
      "text/plain": [
       "Aproximaci\n",
       "Calle Asunción                    3\n",
       "Calle Profesor García González    2\n",
       "Calle Pino Montano                2\n",
       "Calle Albert Einstein             2\n",
       "Calle Fray Isidoro de Sevilla     2\n",
       "                                 ..\n",
       "Calle Flor de Salvia              1\n",
       "Calle Fuenteovejuna               1\n",
       "Calle Gonzalo de Bilbao           1\n",
       "Calle González Cuadrado           1\n",
       "Virgen de la Victoria             1\n",
       "Name: FID, Length: 242, dtype: int64"
      ]
     },
     "execution_count": 30,
     "metadata": {},
     "output_type": "execute_result"
    }
   ],
   "source": [
    "df.groupby('Aproximaci')['FID'].count().sort_values(ascending=False)"
   ]
  },
  {
   "cell_type": "markdown",
   "metadata": {},
   "source": [
    "Podemos sacar las posiciones de las estaciones que más nos interesen"
   ]
  },
  {
   "cell_type": "code",
   "execution_count": 33,
   "metadata": {},
   "outputs": [
    {
     "data": {
      "text/plain": [
       "array([37.412983, -5.988933], dtype=object)"
      ]
     },
     "execution_count": 33,
     "metadata": {},
     "output_type": "execute_result"
    }
   ],
   "source": [
    "df.loc[0, [\"Lat_Y\", \"Lon_X\"]].values"
   ]
  },
  {
   "cell_type": "markdown",
   "metadata": {},
   "source": [
    "Con el módulo `geopy` se puede encontrar la distancia geodésica (camino más corto sobre la superficie terrestre) entre dos estaciones de sevici"
   ]
  },
  {
   "cell_type": "code",
   "execution_count": 40,
   "metadata": {},
   "outputs": [
    {
     "name": "stdout",
     "output_type": "stream",
     "text": [
      "La distancia entre Glorieta Olimpica y Puerta de la Barqueta es de 1.18 km\n"
     ]
    }
   ],
   "source": [
    "from geopy.distance import geodesic\n",
    "point1 = df.loc[0, [\"Lat_Y\", \"Lon_X\"]].values\n",
    "name1 = df.loc[0, [\"Direccion\"]].values[0]\n",
    "point2 = df.loc[2, [\"Lat_Y\", \"Lon_X\"]].values\n",
    "name2 = df.loc[2, [\"Direccion\"]].values[0]\n",
    "d = geodesic(point1, point2).km\n",
    "\n",
    "print(f\"La distancia entre {name1} y {name2} es de {d:.2f} km\")"
   ]
  },
  {
   "cell_type": "markdown",
   "metadata": {},
   "source": [
    "## Ejemplo 2: OpenStreet Maps"
   ]
  },
  {
   "cell_type": "code",
   "execution_count": 41,
   "metadata": {},
   "outputs": [
    {
     "name": "stdout",
     "output_type": "stream",
     "text": [
      "<Response [200]>\n"
     ]
    }
   ],
   "source": [
    "import requests\n",
    "import json\n",
    "import pandas as pd\n",
    "overpass_url = \"http://overpass-api.de/api/interpreter\"\n",
    "overpass_query = \"\"\"\n",
    "[out:json];\n",
    "node[\"amenity\"=\"restaurant\"]\n",
    "  (37.3953289, -5.9914891, 37.3998008, -5.9916412); \n",
    "out;\n",
    "\"\"\"\n",
    "response = requests.get(overpass_url, \n",
    "                        params={'data': overpass_query})\n",
    "print(response)\n",
    "data = response.json()"
   ]
  },
  {
   "cell_type": "code",
   "execution_count": 43,
   "metadata": {},
   "outputs": [
    {
     "data": {
      "text/html": [
       "<div>\n",
       "<style scoped>\n",
       "    .dataframe tbody tr th:only-of-type {\n",
       "        vertical-align: middle;\n",
       "    }\n",
       "\n",
       "    .dataframe tbody tr th {\n",
       "        vertical-align: top;\n",
       "    }\n",
       "\n",
       "    .dataframe thead th {\n",
       "        text-align: right;\n",
       "    }\n",
       "</style>\n",
       "<table border=\"1\" class=\"dataframe\">\n",
       "  <thead>\n",
       "    <tr style=\"text-align: right;\">\n",
       "      <th></th>\n",
       "      <th>lat</th>\n",
       "      <th>lon</th>\n",
       "      <th>name</th>\n",
       "      <th>address</th>\n",
       "    </tr>\n",
       "  </thead>\n",
       "  <tbody>\n",
       "    <tr>\n",
       "      <th>0</th>\n",
       "      <td>37.398354</td>\n",
       "      <td>-5.994309</td>\n",
       "      <td>Pomodoro</td>\n",
       "      <td>Alameda de Hércules 29</td>\n",
       "    </tr>\n",
       "    <tr>\n",
       "      <th>3</th>\n",
       "      <td>37.396208</td>\n",
       "      <td>-5.974479</td>\n",
       "      <td>Berenice Bristot</td>\n",
       "      <td>Calle Samaniego 13</td>\n",
       "    </tr>\n",
       "    <tr>\n",
       "      <th>4</th>\n",
       "      <td>37.399295</td>\n",
       "      <td>-5.992308</td>\n",
       "      <td>Gibi Tapas</td>\n",
       "      <td>Calle Peris Mencheta 21</td>\n",
       "    </tr>\n",
       "    <tr>\n",
       "      <th>5</th>\n",
       "      <td>37.399596</td>\n",
       "      <td>-5.992796</td>\n",
       "      <td>La Mata 24</td>\n",
       "      <td>Calle Mata 24</td>\n",
       "    </tr>\n",
       "    <tr>\n",
       "      <th>11</th>\n",
       "      <td>37.395875</td>\n",
       "      <td>-5.995603</td>\n",
       "      <td>La Azotea</td>\n",
       "      <td>Calle Jesús del Gran Poder 31</td>\n",
       "    </tr>\n",
       "    <tr>\n",
       "      <th>12</th>\n",
       "      <td>37.397908</td>\n",
       "      <td>-5.992154</td>\n",
       "      <td>Bierkraft</td>\n",
       "      <td>Calle Correduría 35</td>\n",
       "    </tr>\n",
       "    <tr>\n",
       "      <th>13</th>\n",
       "      <td>37.397889</td>\n",
       "      <td>-5.991953</td>\n",
       "      <td>Sushi &amp; Brothers</td>\n",
       "      <td>Calle Correduría 46</td>\n",
       "    </tr>\n",
       "    <tr>\n",
       "      <th>14</th>\n",
       "      <td>37.397744</td>\n",
       "      <td>-5.992250</td>\n",
       "      <td>HOB. House of Burger</td>\n",
       "      <td>Calle Correduría 38</td>\n",
       "    </tr>\n",
       "    <tr>\n",
       "      <th>15</th>\n",
       "      <td>37.399744</td>\n",
       "      <td>-5.984416</td>\n",
       "      <td>Domino's Pizza</td>\n",
       "      <td>Ronda de Capuchinos 2</td>\n",
       "    </tr>\n",
       "    <tr>\n",
       "      <th>19</th>\n",
       "      <td>37.396253</td>\n",
       "      <td>-5.973160</td>\n",
       "      <td>Parrilla Argentina Malambo's</td>\n",
       "      <td>Calle Doctor Pedro Vallina 11</td>\n",
       "    </tr>\n",
       "    <tr>\n",
       "      <th>20</th>\n",
       "      <td>37.397897</td>\n",
       "      <td>-5.993441</td>\n",
       "      <td>Arte y Sabor</td>\n",
       "      <td>Alameda de Hércules 85</td>\n",
       "    </tr>\n",
       "    <tr>\n",
       "      <th>23</th>\n",
       "      <td>37.396771</td>\n",
       "      <td>-5.995897</td>\n",
       "      <td>D'mercao</td>\n",
       "      <td>Calle Conde Barajas 23</td>\n",
       "    </tr>\n",
       "    <tr>\n",
       "      <th>24</th>\n",
       "      <td>37.397723</td>\n",
       "      <td>-5.991412</td>\n",
       "      <td>La Locanda</td>\n",
       "      <td>Calle Feria 50</td>\n",
       "    </tr>\n",
       "    <tr>\n",
       "      <th>25</th>\n",
       "      <td>37.397844</td>\n",
       "      <td>-5.997565</td>\n",
       "      <td>Antigua Abacería de San Lorenzo</td>\n",
       "      <td>Calle Teodosio 53</td>\n",
       "    </tr>\n",
       "    <tr>\n",
       "      <th>27</th>\n",
       "      <td>37.399006</td>\n",
       "      <td>-5.984736</td>\n",
       "      <td>El Obrador De Pasta</td>\n",
       "      <td>Calle San Hermenegildo 6A</td>\n",
       "    </tr>\n",
       "    <tr>\n",
       "      <th>32</th>\n",
       "      <td>37.398366</td>\n",
       "      <td>-5.991666</td>\n",
       "      <td>El Enano Verde</td>\n",
       "      <td>Calle Feria 61</td>\n",
       "    </tr>\n",
       "    <tr>\n",
       "      <th>33</th>\n",
       "      <td>37.396823</td>\n",
       "      <td>-5.996465</td>\n",
       "      <td>Az-Zait</td>\n",
       "      <td>Plaza de San Lorenzo 1</td>\n",
       "    </tr>\n",
       "    <tr>\n",
       "      <th>37</th>\n",
       "      <td>37.398184</td>\n",
       "      <td>-5.979926</td>\n",
       "      <td>Verdetariano</td>\n",
       "      <td>Calle Carretera de Carmona 10 Local 3</td>\n",
       "    </tr>\n",
       "    <tr>\n",
       "      <th>38</th>\n",
       "      <td>37.398230</td>\n",
       "      <td>-5.987800</td>\n",
       "      <td>Kok Tu Cocina</td>\n",
       "      <td>Calle San Luis 46</td>\n",
       "    </tr>\n",
       "    <tr>\n",
       "      <th>99</th>\n",
       "      <td>37.398687</td>\n",
       "      <td>-5.991237</td>\n",
       "      <td>Bodega Mateo Ruiz</td>\n",
       "      <td>Calle Palacios Malaver 33</td>\n",
       "    </tr>\n",
       "    <tr>\n",
       "      <th>100</th>\n",
       "      <td>37.396598</td>\n",
       "      <td>-5.995240</td>\n",
       "      <td>La Tienda de la Azotea</td>\n",
       "      <td>Calle Conde Barajas 13</td>\n",
       "    </tr>\n",
       "  </tbody>\n",
       "</table>\n",
       "</div>"
      ],
      "text/plain": [
       "           lat       lon                             name  \\\n",
       "0    37.398354 -5.994309                         Pomodoro   \n",
       "3    37.396208 -5.974479                 Berenice Bristot   \n",
       "4    37.399295 -5.992308                       Gibi Tapas   \n",
       "5    37.399596 -5.992796                       La Mata 24   \n",
       "11   37.395875 -5.995603                        La Azotea   \n",
       "12   37.397908 -5.992154                        Bierkraft   \n",
       "13   37.397889 -5.991953                 Sushi & Brothers   \n",
       "14   37.397744 -5.992250             HOB. House of Burger   \n",
       "15   37.399744 -5.984416                   Domino's Pizza   \n",
       "19   37.396253 -5.973160     Parrilla Argentina Malambo's   \n",
       "20   37.397897 -5.993441                     Arte y Sabor   \n",
       "23   37.396771 -5.995897                         D'mercao   \n",
       "24   37.397723 -5.991412                       La Locanda   \n",
       "25   37.397844 -5.997565  Antigua Abacería de San Lorenzo   \n",
       "27   37.399006 -5.984736              El Obrador De Pasta   \n",
       "32   37.398366 -5.991666                   El Enano Verde   \n",
       "33   37.396823 -5.996465                          Az-Zait   \n",
       "37   37.398184 -5.979926                     Verdetariano   \n",
       "38   37.398230 -5.987800                    Kok Tu Cocina   \n",
       "99   37.398687 -5.991237                Bodega Mateo Ruiz   \n",
       "100  37.396598 -5.995240           La Tienda de la Azotea   \n",
       "\n",
       "                                   address  \n",
       "0                   Alameda de Hércules 29  \n",
       "3                       Calle Samaniego 13  \n",
       "4                  Calle Peris Mencheta 21  \n",
       "5                            Calle Mata 24  \n",
       "11           Calle Jesús del Gran Poder 31  \n",
       "12                     Calle Correduría 35  \n",
       "13                     Calle Correduría 46  \n",
       "14                     Calle Correduría 38  \n",
       "15                   Ronda de Capuchinos 2  \n",
       "19           Calle Doctor Pedro Vallina 11  \n",
       "20                  Alameda de Hércules 85  \n",
       "23                  Calle Conde Barajas 23  \n",
       "24                          Calle Feria 50  \n",
       "25                       Calle Teodosio 53  \n",
       "27               Calle San Hermenegildo 6A  \n",
       "32                          Calle Feria 61  \n",
       "33                  Plaza de San Lorenzo 1  \n",
       "37   Calle Carretera de Carmona 10 Local 3  \n",
       "38                       Calle San Luis 46  \n",
       "99               Calle Palacios Malaver 33  \n",
       "100                 Calle Conde Barajas 13  "
      ]
     },
     "execution_count": 43,
     "metadata": {},
     "output_type": "execute_result"
    }
   ],
   "source": [
    "elements = data['elements']\n",
    "places = {'lat': [], 'lon': [], 'name': [], 'address': []}\n",
    "for i in elements:\n",
    "    try:\n",
    "        latitude = i['lat']\n",
    "        longitude = i['lon']\n",
    "        name = i['tags']['name']\n",
    "        street = i['tags']['addr:street']\n",
    "        number = i['tags']['addr:housenumber']\n",
    "        \n",
    "        \n",
    "        places['lat'].append(latitude)\n",
    "        places['lon'].append(longitude)\n",
    "        places['name'].append(name)\n",
    "        places['address'].append(street + ' ' + str(number))\n",
    "        \n",
    "    except:\n",
    "        continue\n",
    "\n",
    "\n",
    "df = pd.DataFrame(places)\n",
    "df[(df['lon']<-4)&(df['lon']>-7)]"
   ]
  }
 ],
 "metadata": {
  "interpreter": {
   "hash": "bbecac44435c2c981f643c81cfe05fa1d6ef605eda7f5952ee2b272fedf4993e"
  },
  "kernelspec": {
   "display_name": "Python 3.7.4 64-bit",
   "language": "python",
   "name": "python3"
  },
  "language_info": {
   "codemirror_mode": {
    "name": "ipython",
    "version": 3
   },
   "file_extension": ".py",
   "mimetype": "text/x-python",
   "name": "python",
   "nbconvert_exporter": "python",
   "pygments_lexer": "ipython3",
   "version": "3.7.4"
  },
  "orig_nbformat": 4
 },
 "nbformat": 4,
 "nbformat_minor": 2
}
