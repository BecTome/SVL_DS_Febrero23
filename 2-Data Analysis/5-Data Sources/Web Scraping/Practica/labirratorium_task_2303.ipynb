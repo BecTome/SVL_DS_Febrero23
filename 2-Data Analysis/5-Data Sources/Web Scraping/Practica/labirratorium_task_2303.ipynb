{
  "cells": [
    {
      "attachments": {},
      "cell_type": "markdown",
      "metadata": {
        "id": "QyPiRC5a9RZ2"
      },
      "source": [
        "###  Pasos a seguir en el proceso de 'scraping':\n",
        "\n",
        "1. Encuentra la URL que quieres 'escrapear'.\n",
        "2. Inspecciona la página (código fuente).\n",
        "3. Localiza los datos que necesitas obtener.\n",
        "4. Desarrolla tu código en Python.\n",
        "    1. Crea tu sopa\n",
        "    2. Busca los elementos que cotienen los datos y extráelos\n",
        "5. Ejecuta tu código y obten los datos.\n",
        "6. Almacena los datos en el formato requerido."
      ]
    },
    {
      "cell_type": "code",
      "execution_count": 1,
      "metadata": {
        "id": "dDcNNE0z9RZ8"
      },
      "outputs": [],
      "source": [
        "# Importamos librerías\n",
        "import requests\n",
        "from bs4 import BeautifulSoup as bs\n",
        "import pandas as pd"
      ]
    },
    {
      "cell_type": "markdown",
      "metadata": {
        "id": "C3PbnMEH9RZ9"
      },
      "source": [
        "## Caso 1: Scraping de un catálogo: Labirratorium"
      ]
    },
    {
      "cell_type": "code",
      "execution_count": 2,
      "metadata": {
        "id": "qMIaXLf-9RZ-"
      },
      "outputs": [],
      "source": [
        "URL = \"https://www.labirratorium.com/es/67-cervezas-por-estilo?page=\""
      ]
    },
    {
      "cell_type": "markdown",
      "metadata": {
        "id": "p_S9x1Yu9RZ-"
      },
      "source": [
        "Queremos obtener un dataFrame con todas las cervezas del catálogo y sus características descritas. Analizamos la página para ver qué tenemos que hacer para conseguirlo"
      ]
    },
    {
      "cell_type": "code",
      "execution_count": 3,
      "metadata": {
        "id": "6GfrzXyX9RZ-"
      },
      "outputs": [],
      "source": [
        "# La web tiene 49 páginas con 12 cervezas listadas en cada página."
      ]
    },
    {
      "cell_type": "markdown",
      "metadata": {
        "id": "0sFxJNuY9RZ_"
      },
      "source": [
        "Hacemos la consulta (request) y creamos la SOPA inicial:"
      ]
    },
    {
      "cell_type": "code",
      "execution_count": 9,
      "metadata": {
        "id": "IYDGo8oT9RZ_"
      },
      "outputs": [
        {
          "data": {
            "text/plain": [
              "bs4.BeautifulSoup"
            ]
          },
          "execution_count": 9,
          "metadata": {},
          "output_type": "execute_result"
        }
      ],
      "source": [
        "web_html = requests.get(URL).content\n",
        "soup = bs(web_html, \"lxml\")\n",
        "type(soup)"
      ]
    },
    {
      "cell_type": "code",
      "execution_count": 31,
      "metadata": {},
      "outputs": [
        {
          "data": {
            "text/plain": [
              "'https://www.labirratorium.com/es/inicio/831-arriaca-boris-brew-vikingathor-.html'"
            ]
          },
          "execution_count": 31,
          "metadata": {},
          "output_type": "execute_result"
        }
      ],
      "source": [
        "ls_href_tags[0][\"href\"]"
      ]
    },
    {
      "cell_type": "code",
      "execution_count": 34,
      "metadata": {},
      "outputs": [
        {
          "data": {
            "text/plain": [
              "['https://www.labirratorium.com/es/inicio/831-arriaca-boris-brew-vikingathor-.html',\n",
              " 'https://www.labirratorium.com/es/cerveza-lambic/284-boon-kriek-2013.html',\n",
              " 'https://www.labirratorium.com/es/cervezas-alemanas/225-stortebeker-schwarz-bier.html',\n",
              " 'https://www.labirratorium.com/es/botella-33cl/199-orval.html',\n",
              " 'https://www.labirratorium.com/es/cervezas-alemanas/184-augustiner-lagerbier-hell.html',\n",
              " 'https://www.labirratorium.com/es/inicio/183-schneider-eisbock.html',\n",
              " 'https://www.labirratorium.com/es/inicio/181-schlenkerla-rauchbier-weizen.html',\n",
              " 'https://www.labirratorium.com/es/inicio/173-samuel-adams-boston-lager.html',\n",
              " 'https://www.labirratorium.com/es/inicio/82-westmalle-dubbel.html',\n",
              " 'https://www.labirratorium.com/es/inicio/75-duchesse-de-bourgogne.html',\n",
              " 'https://www.labirratorium.com/es/inicio/61-tripel-karmeliet33.html',\n",
              " 'https://www.labirratorium.com/es/inicio/21-weihenstephaner-vitus.html']"
            ]
          },
          "execution_count": 34,
          "metadata": {},
          "output_type": "execute_result"
        }
      ],
      "source": [
        "ls_href_tags = soup.find_all(\"a\", class_=\"thumbnail product-thumbnail\")\n",
        "ls_hrefs = [tag[\"href\"] for tag in ls_href_tags]\n",
        "# ls_hrefs = []\n",
        "# for tag in ls_href_tags:\n",
        "#     ls_hrefs.append(tag[\"href\"])\n",
        "\n",
        "ls_hrefs\n"
      ]
    },
    {
      "cell_type": "markdown",
      "metadata": {},
      "source": [
        "Nombre,\tprecio,\tdescripcion corta, descripción larga, ruta imagen, marca, barcode,\tEstilo, Origen, % Alc., % Alc. Exacto, Volumen (Cl), Tipo Fermentación, IBU, IBU Exacto, Color, Envase"
      ]
    },
    {
      "cell_type": "code",
      "execution_count": 38,
      "metadata": {},
      "outputs": [],
      "source": [
        "first_url = ls_hrefs[0]\n",
        "first_data = requests.get(first_url).content\n",
        "first_soup = bs(first_data, \"lxml\")"
      ]
    },
    {
      "cell_type": "code",
      "execution_count": 67,
      "metadata": {},
      "outputs": [
        {
          "name": "stdout",
          "output_type": "stream",
          "text": [
            "SanFrutos Vikingathor Boris Brew\n",
            "3.35\n",
            "Indian Dunkel\n",
            "https://www.labirratorium.com/27941-large_default/arriaca-boris-brew-vikingathor-.jpg\n",
            "Cerveza de 8.2% ABV intensa, oscura y muy lupulada. Con aroma intenso a maltas tostadas, caramelo, fruta madura, resina e hierbas aromáticas. Delicioso armargor, dulzor equilibrado y sensación de calidez. Refrescante y lupulada. \n",
            "Una receta de Boris de Mesones.\n",
            "Vikingathor ya ha sido galardonada con anterioridad con las Medallas de Plata cosechadas en el European Beer Star de 2011 y 2012 y la Medalla de Plata en el Asia Beer Cup 2013.\n",
            "\n",
            "\n"
          ]
        },
        {
          "data": {
            "text/plain": [
              "{'Nombre': 'SanFrutos Vikingathor Boris Brew',\n",
              " 'Precio': '3.35',\n",
              " 'Desc Corta': 'Indian Dunkel',\n",
              " 'Imagen': 'https://www.labirratorium.com/27941-large_default/arriaca-boris-brew-vikingathor-.jpg',\n",
              " 'Desc Larga': 'Cerveza de 8.2% ABV intensa, oscura y muy lupulada. Con aroma intenso a maltas tostadas, caramelo, fruta madura, resina e hierbas aromáticas. Delicioso armargor, dulzor equilibrado y sensación de calidez. Refrescante y lupulada.\\xa0\\nUna receta de Boris de Mesones.\\nVikingathor ya ha sido galardonada con anterioridad con las\\xa0Medallas de Plata\\xa0cosechadas en el\\xa0European Beer Star\\xa0de 2011 y 2012 y la\\xa0Medalla de Plata\\xa0en el\\xa0Asia Beer Cup\\xa02013.\\n\\n',\n",
              " 'Estilo': 'DUNKEL',\n",
              " 'Origen': 'Segovia',\n",
              " '% Alc.': 'ALTO (6-9%)',\n",
              " '% Alc. Exacto': '8.2',\n",
              " 'Volumen (cl)': '33 Cl',\n",
              " 'Tipo Fermentación': 'Lager (Baja Fermentación)',\n",
              " 'IBU': '50-75 Amargor alto',\n",
              " 'IBU Exacto': '75',\n",
              " 'Color': 'Marrón',\n",
              " 'Envase': 'Botella'}"
            ]
          },
          "execution_count": 67,
          "metadata": {},
          "output_type": "execute_result"
        }
      ],
      "source": [
        "first_name = first_soup.find(\"h1\", class_=\"h1 product-detail-name\").string\n",
        "print(first_name)\n",
        "\n",
        "div_main_info = first_soup.find(\"div\", class_= \"col-form_id-form_15874367062488778 col-md-6 col-lg-6 col-xl-6\")\n",
        "first_price = div_main_info.find(\"span\", itemprop=\"price\")[\"content\"]\n",
        "print(first_price)\n",
        "\n",
        "first_short_description = div_main_info.find(\"div\", itemprop=\"description\").p.string\n",
        "print(first_short_description)\n",
        "\n",
        "div_img_cover = first_soup.find(\"div\", class_=\"product-cover\")\n",
        "first_img = div_img_cover.find(\"img\", itemprop=\"image\")[\"src\"]\n",
        "print(first_img)\n",
        "\n",
        "first_long_description = first_soup.find(\"div\", class_=\"product-description\").text\n",
        "print(first_long_description)\n",
        "\n",
        "data_sheet = first_soup.find(\"dl\", class_=\"data-sheet\")\n",
        "# first_estilo=\n",
        "\n",
        "ls_names = [tag.string for tag in data_sheet.find_all(\"dt\")]\n",
        "ls_values = [tag.string for tag in data_sheet.find_all(\"dd\")]\n",
        "\n",
        "first_d_props = dict(zip(ls_names, ls_values))\n",
        "\n",
        "first_d_total = {\"Nombre\": first_name, \n",
        "                 \"Precio\": first_price, \n",
        "                 \"Desc Corta\": first_short_description,\n",
        "                 \"Imagen\": first_img,\n",
        "                 \"Desc Larga\": first_long_description}\n",
        "\n",
        "first_d_total.update(first_d_props)\n",
        "\n",
        "first_d_total\n"
      ]
    },
    {
      "cell_type": "code",
      "execution_count": 45,
      "metadata": {},
      "outputs": [
        {
          "data": {
            "text/plain": [
              "'3.35'"
            ]
          },
          "execution_count": 45,
          "metadata": {},
          "output_type": "execute_result"
        }
      ],
      "source": []
    },
    {
      "cell_type": "markdown",
      "metadata": {
        "id": "BQy1OuPr9RaF"
      },
      "source": [
        "Ya tenemos todos los datos que queremos de la cerveza: Agrupamos todo en una lista:"
      ]
    },
    {
      "cell_type": "markdown",
      "metadata": {
        "id": "fkQqvgLS9RaG"
      },
      "source": [
        "### Ya sabemos obtener todos los datos que nos interesan de una cerveza, ahora tenemos que aplicar esta lógica para obtener todas las demás "
      ]
    },
    {
      "cell_type": "markdown",
      "metadata": {
        "id": "hk8euclh9RaG"
      },
      "source": [
        "Construir un DataFrame con \n",
        "\n",
        "Nombre,\tprecio,\tdescripcion corta, descripción larga, ruta imagen, marca, barcode,\tEstilo, Origen, % Alc., % Alc. Exacto, Volumen (Cl), Tipo Fermentación, IBU, IBU Exacto, Color, Envase"
      ]
    },
    {
      "cell_type": "code",
      "execution_count": null,
      "metadata": {
        "id": "3NAHdR_M9RaG",
        "outputId": "e8c9ce8b-d4f6-4ce2-ec45-e7e8fbe23731"
      },
      "outputs": [],
      "source": []
    }
  ],
  "metadata": {
    "colab": {
      "name": "labirratorium_task Juan Jose Rodriguez.ipynb",
      "provenance": []
    },
    "hide_input": false,
    "interpreter": {
      "hash": "7c77fdb427e7cbc9bc1367dd530fc2b36aacdbbde1ac83c85833b10dfa8b831c"
    },
    "kernelspec": {
      "display_name": "Python 3.7.4 64-bit",
      "name": "python3"
    },
    "language_info": {
      "codemirror_mode": {
        "name": "ipython",
        "version": 3
      },
      "file_extension": ".py",
      "mimetype": "text/x-python",
      "name": "python",
      "nbconvert_exporter": "python",
      "pygments_lexer": "ipython3",
      "version": "3.10.8"
    },
    "metadata": {
      "interpreter": {
        "hash": "5c4d2f1fdcd3716c7a5eea90ad07be30193490dd4e63617705244f5fd89ea793"
      }
    },
    "varInspector": {
      "cols": {
        "lenName": 16,
        "lenType": 16,
        "lenVar": 40
      },
      "kernels_config": {
        "python": {
          "delete_cmd_postfix": "",
          "delete_cmd_prefix": "del ",
          "library": "var_list.py",
          "varRefreshCmd": "print(var_dic_list())"
        },
        "r": {
          "delete_cmd_postfix": ") ",
          "delete_cmd_prefix": "rm(",
          "library": "var_list.r",
          "varRefreshCmd": "cat(var_dic_list()) "
        }
      },
      "types_to_exclude": [
        "module",
        "function",
        "builtin_function_or_method",
        "instance",
        "_Feature"
      ],
      "window_display": false
    }
  },
  "nbformat": 4,
  "nbformat_minor": 0
}
