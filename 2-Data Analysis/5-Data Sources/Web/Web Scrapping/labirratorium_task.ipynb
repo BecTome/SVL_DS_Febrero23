{
  "cells": [
    {
      "cell_type": "markdown",
      "metadata": {
        "id": "QyPiRC5a9RZ2"
      },
      "source": [
        "###  Pasos a seguir en el proceso de 'scraping':\n",
        "\n",
        "1. Encuentra la URL que quieres 'escrapear'.\n",
        "2. Inspecciona la página (código fuente).\n",
        "3. Localiza los datos que necesitas obtener.\n",
        "4. Desarrolla tu código en Python.\n",
        "    1. Crea tu sopa\n",
        "    2. Busca los elementos que cotienen los datos y extráelos\n",
        "5. Ejecuta tu código y obten los datos.\n",
        "6. Alamacena los datos en el formato requerido."
      ]
    },
    {
      "cell_type": "code",
      "execution_count": null,
      "metadata": {
        "id": "dDcNNE0z9RZ8"
      },
      "outputs": [],
      "source": [
        "# Importamos librerías\n",
        "import requests\n",
        "from bs4 import BeautifulSoup as bs\n",
        "import pandas as pd"
      ]
    },
    {
      "cell_type": "markdown",
      "metadata": {
        "id": "C3PbnMEH9RZ9"
      },
      "source": [
        "## Caso 1: Scraping de un catálogo: Labirratorium"
      ]
    },
    {
      "cell_type": "code",
      "execution_count": null,
      "metadata": {
        "id": "qMIaXLf-9RZ-"
      },
      "outputs": [],
      "source": [
        "URL = \"https://www.labirratorium.com/es/67-cervezas-por-estilo?page=\""
      ]
    },
    {
      "cell_type": "markdown",
      "metadata": {
        "id": "p_S9x1Yu9RZ-"
      },
      "source": [
        "Queremos obtener un dataFrame con todas las cervezas del catálogo y sus características descritas. Analizamos la página para ver qué tenemos que hacer para conseguirlo"
      ]
    },
    {
      "cell_type": "code",
      "execution_count": null,
      "metadata": {
        "id": "6GfrzXyX9RZ-"
      },
      "outputs": [],
      "source": [
        "# La web tiene XX páginas con XX cervezas listadas en cada página."
      ]
    },
    {
      "cell_type": "markdown",
      "metadata": {
        "id": "0sFxJNuY9RZ_"
      },
      "source": [
        "Hacemos la consulta (request) y creamos la SOPA inicial:"
      ]
    },
    {
      "cell_type": "code",
      "execution_count": null,
      "metadata": {
        "id": "IYDGo8oT9RZ_"
      },
      "outputs": [],
      "source": []
    },
    {
      "cell_type": "markdown",
      "metadata": {
        "id": "BQy1OuPr9RaF"
      },
      "source": [
        "Ya tenemos todos los datos que queremos de la cerveza: Agrupamos todo en una lista:"
      ]
    },
    {
      "cell_type": "markdown",
      "metadata": {
        "id": "fkQqvgLS9RaG"
      },
      "source": [
        "### Ya sabemos obtener todos los datos que nos interesan de una cerveza, ahora tenemos que aplicar esta lógica para obtener todas las demás "
      ]
    },
    {
      "cell_type": "markdown",
      "metadata": {
        "id": "hk8euclh9RaG"
      },
      "source": [
        "Construir un DataFrame con \n",
        "\n",
        "Nombre,\tprecio,\tdescripcion corta, descripción larga, ruta imagen, marca, barcode,\tEstilo, Origen, % Alc., % Alc. Exacto, Volumen (Cl), Tipo Fermentación, IBU, IBU Exacto, Color, Envase"
      ]
    },
    {
      "cell_type": "code",
      "execution_count": null,
      "metadata": {
        "id": "3NAHdR_M9RaG",
        "outputId": "e8c9ce8b-d4f6-4ce2-ec45-e7e8fbe23731"
      },
      "outputs": [],
      "source": []
    }
  ],
  "metadata": {
    "colab": {
      "name": "labirratorium_task Juan Jose Rodriguez.ipynb",
      "provenance": []
    },
    "hide_input": false,
    "interpreter": {
      "hash": "7c77fdb427e7cbc9bc1367dd530fc2b36aacdbbde1ac83c85833b10dfa8b831c"
    },
    "kernelspec": {
      "display_name": "Python 3.7.4 64-bit",
      "name": "python3"
    },
    "language_info": {
      "codemirror_mode": {
        "name": "ipython",
        "version": 3
      },
      "file_extension": ".py",
      "mimetype": "text/x-python",
      "name": "python",
      "nbconvert_exporter": "python",
      "pygments_lexer": "ipython3",
      "version": "3.7.4"
    },
    "metadata": {
      "interpreter": {
        "hash": "5c4d2f1fdcd3716c7a5eea90ad07be30193490dd4e63617705244f5fd89ea793"
      }
    },
    "varInspector": {
      "cols": {
        "lenName": 16,
        "lenType": 16,
        "lenVar": 40
      },
      "kernels_config": {
        "python": {
          "delete_cmd_postfix": "",
          "delete_cmd_prefix": "del ",
          "library": "var_list.py",
          "varRefreshCmd": "print(var_dic_list())"
        },
        "r": {
          "delete_cmd_postfix": ") ",
          "delete_cmd_prefix": "rm(",
          "library": "var_list.r",
          "varRefreshCmd": "cat(var_dic_list()) "
        }
      },
      "types_to_exclude": [
        "module",
        "function",
        "builtin_function_or_method",
        "instance",
        "_Feature"
      ],
      "window_display": false
    }
  },
  "nbformat": 4,
  "nbformat_minor": 0
}
