{
 "cells": [
  {
   "cell_type": "code",
   "execution_count": null,
   "metadata": {},
   "outputs": [],
   "source": [
    "import argparse\n",
    "import json\n",
    "import os\n",
    "import time\n",
    "import requests\n",
    "from requests.auth import HTTPBasicAuth\n",
    "\n",
    "idealista_url = \"https://api.idealista.com/oauth/token\"\n",
    "payload = {\"grant_type\": \"client_credentials\"}\n",
    "r = requests.post(idealista_url,\n",
    "                  auth=HTTPBasicAuth(\"9imfkl9ugl3ofiv9b95i7am1w98yzpu7\", \"8nZfatljCytZ\"),\n",
    "                  data=payload)\n",
    "print(r.text)\n",
    "token_response = json.loads(r.text)\n",
    "token_value = token_response[\"access_token\"]\n",
    "print(\"Token: \" + token_value)\n",
    "\n",
    "country = 'es'\n",
    "center = '40.42938099999995,-3.7097526269835726'\n",
    "numPage = '1'\n",
    "distance = '1000'\n",
    "propertyType = 'homes'\n",
    "operation = 'rent'\n",
    "\n",
    "api_url = \"http://api.idealista.com/3.5/es/search?center=\"+center+\"&country=\"+country+\"&distance=\"+distance+\"&propertyType=\"+propertyType+\"&operation=\"+operation\n",
    "print(api_url)\n",
    "\n",
    "headers = {\"Authorization\": \"Bearer \" + token_value}\n",
    "r = requests.post(api_url, headers=headers)\n",
    "#print(r.text)\n",
    "search_json = r.text\n",
    "search_response = json.loads(search_json)\n",
    "search_pretty = json.dumps(search_response, indent=4, sort_keys=True)\n",
    "print(search_pretty)"
   ]
  }
 ],
 "metadata": {
  "kernelspec": {
   "display_name": "Python 3",
   "language": "python",
   "name": "python3"
  },
  "language_info": {
   "codemirror_mode": {
    "name": "ipython",
    "version": 3
   },
   "file_extension": ".py",
   "mimetype": "text/x-python",
   "name": "python",
   "nbconvert_exporter": "python",
   "pygments_lexer": "ipython3",
   "version": "3.6.5"
  }
 },
 "nbformat": 4,
 "nbformat_minor": 2
}
