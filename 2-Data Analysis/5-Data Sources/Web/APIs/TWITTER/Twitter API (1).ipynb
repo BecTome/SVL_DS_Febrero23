{
 "cells": [
  {
   "cell_type": "code",
   "execution_count": null,
   "metadata": {},
   "outputs": [],
   "source": [
    "pwd"
   ]
  },
  {
   "cell_type": "code",
   "execution_count": null,
   "metadata": {},
   "outputs": [],
   "source": [
    "# Copiar el archivo oauth.py en el directorio que se muestra en la ejecución anterior\n",
    "%run \"oauth.py\""
   ]
  },
  {
   "cell_type": "code",
   "execution_count": null,
   "metadata": {},
   "outputs": [],
   "source": [
    "# Aquí introducimos nuestras claves de Twitter\n",
    "def oauth() :\n",
    "    return { \"consumer_key\" : \"XXXX\",\n",
    "        \"consumer_secret\" : \"XXXX\",\n",
    "        \"token_key\" : \"XXXX\",\n",
    "        \"token_secret\" : \"XXXX\" }"
   ]
  },
  {
   "cell_type": "code",
   "execution_count": null,
   "metadata": {},
   "outputs": [],
   "source": [
    "# Esta función va a generar los parámetros necesarios para generar la URL\n",
    "def augment(url, parameters) :\n",
    "    secrets = oauth()\n",
    "    consumer = OAuthConsumer(secrets['consumer_key'], secrets['consumer_secret'])\n",
    "    token = OAuthToken(secrets['token_key'],secrets['token_secret'])\n",
    "\n",
    "    oauth_request = OAuthRequest.from_consumer_and_token(consumer, \n",
    "        token=token, http_method='GET', http_url=url, parameters=parameters)\n",
    "    oauth_request.sign_request(OAuthSignatureMethod_HMAC_SHA1(), consumer, token)\n",
    "    return oauth_request.to_url()"
   ]
  },
  {
   "cell_type": "code",
   "execution_count": null,
   "metadata": {},
   "outputs": [],
   "source": [
    "import urllib\n",
    "import json\n",
    "TWITTER_URL = 'https://api.twitter.com/1.1/statuses/user_timeline.json'\n",
    "\n",
    "# Cuenta de Twitter de la que vamos a extraer los últimos 2 tweets\n",
    "acct = 'eoi'\n",
    "\n",
    "# Cantidad de tweets que deseamos extraer\n",
    "n_tweets = 2\n",
    "\n",
    "# Creamos la URL\n",
    "url = augment(TWITTER_URL,\n",
    "    {'screen_name': acct, 'count': n_tweets,'include_rts':'True','tweet_mode':'extended'} )\n",
    "print(url)\n",
    "\n",
    "# Nos conectamos a la URL anterior y extraemos el json que nos devuelve la API \n",
    "connection = urllib.request.urlopen(url)\n",
    "\n",
    "# Datos de línea de tiempo de la cuenta seleccionada\n",
    "data = connection.read().decode()\n",
    "js = json.loads(data)\n",
    "\n",
    "# Imprimimos el json\n",
    "#print(json.dumps(js,indent=4))\n",
    "\n",
    "# Además de los datos, nos devuelve una cabecera de respuesta HTTP\n",
    "headers = dict(connection.getheaders())\n",
    "# De la cabecera podemos extraer las peticiones restantes que tenemos\n",
    "print('Remaining', headers['x-rate-limit-remaining'])\n",
    "\n",
    "# Por último imprimimos los tweets\n",
    "for k in range(0,n_tweets):\n",
    "    tweet = js[k][\"full_text\"]\n",
    "    print('\\nTweet ' + str(k+1) + ': '+ tweet)"
   ]
  },
  {
   "cell_type": "markdown",
   "metadata": {},
   "source": [
    "Llamamos a otra API para obtener la lista de amigos de un usuario"
   ]
  },
  {
   "cell_type": "code",
   "execution_count": null,
   "metadata": {},
   "outputs": [],
   "source": [
    "import urllib.request, urllib.parse, urllib.error\n",
    "import json\n",
    "\n",
    "\n",
    "TWITTER_URL = 'https://api.twitter.com/1.1/friends/list.json'\n",
    "\n",
    "\n",
    "while True:\n",
    "    print('')\n",
    "    acct = input('Enter Twitter Account:')\n",
    "    if (len(acct) < 1): break\n",
    "    url = augment(TWITTER_URL,\n",
    "                        {'screen_name': acct, 'count': '5'})\n",
    "    #print('Retrieving', url)\n",
    "    connection = urllib.request.urlopen(url)\n",
    "    data = connection.read().decode()\n",
    "\n",
    "    js = json.loads(data)\n",
    "    print(json.dumps(js, indent=2))\n",
    "\n",
    "    headers = dict(connection.getheaders())\n",
    "    print('Remaining', headers['x-rate-limit-remaining'])\n",
    "\n",
    "    for u in js['users']:\n",
    "        print(u['screen_name'])"
   ]
  }
 ],
 "metadata": {
  "kernelspec": {
   "display_name": "Python 3",
   "language": "python",
   "name": "python3"
  },
  "language_info": {
   "codemirror_mode": {
    "name": "ipython",
    "version": 3
   },
   "file_extension": ".py",
   "mimetype": "text/x-python",
   "name": "python",
   "nbconvert_exporter": "python",
   "pygments_lexer": "ipython3",
   "version": "3.6.6"
  }
 },
 "nbformat": 4,
 "nbformat_minor": 2
}
