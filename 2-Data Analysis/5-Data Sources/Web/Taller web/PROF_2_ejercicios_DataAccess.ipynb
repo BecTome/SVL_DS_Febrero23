{
  "nbformat": 4,
  "nbformat_minor": 0,
  "metadata": {
    "kernelspec": {
      "display_name": "Python 3",
      "language": "python",
      "name": "python3"
    },
    "language_info": {
      "codemirror_mode": {
        "name": "ipython",
        "version": 3
      },
      "file_extension": ".py",
      "mimetype": "text/x-python",
      "name": "python",
      "nbconvert_exporter": "python",
      "pygments_lexer": "ipython3",
      "version": "3.6.9"
    },
    "colab": {
      "name": "W2-1.1.WorkOut_DataAccessso-soluciones.ipynb",
      "provenance": []
    }
  },
  "cells": [
    {
      "cell_type": "markdown",
      "metadata": {
        "id": "B_M-NJ15czmv"
      },
      "source": [
        "# Ejemplo de WebScraping con Python\n",
        "## Obtener Ibex35 bolsa de Madrid"
      ]
    },
    {
      "cell_type": "code",
      "metadata": {
        "ExecuteTime": {
          "end_time": "2019-01-27T17:53:23.662759Z",
          "start_time": "2019-01-27T17:53:23.651938Z"
        },
        "id": "schrzkJaczmx"
      },
      "source": [
        "# import libraries\n",
        "import requests\n",
        "from bs4 import BeautifulSoup\n",
        "import csv\n",
        "from datetime import datetime"
      ],
      "execution_count": null,
      "outputs": []
    },
    {
      "cell_type": "code",
      "metadata": {
        "ExecuteTime": {
          "end_time": "2019-01-27T17:38:57.659158Z",
          "start_time": "2019-01-27T17:38:57.655785Z"
        },
        "id": "46MGbTwYczm1"
      },
      "source": [
        "# indicar la ruta\n",
        "url_page = 'http://www.bolsamadrid.es/esp/aspx/Indices/Resumen.aspx'"
      ],
      "execution_count": null,
      "outputs": []
    },
    {
      "cell_type": "code",
      "metadata": {
        "ExecuteTime": {
          "end_time": "2019-01-27T17:40:11.127856Z",
          "start_time": "2019-01-27T17:40:10.642601Z"
        },
        "id": "Rl2SvArCczm4"
      },
      "source": [
        "# tarda 480 milisegundos\n",
        "page = requests.get(url_page).text \n",
        "soup = BeautifulSoup(page, \"lxml\")"
      ],
      "execution_count": null,
      "outputs": []
    },
    {
      "cell_type": "code",
      "metadata": {
        "ExecuteTime": {
          "end_time": "2019-01-27T17:42:00.515429Z",
          "start_time": "2019-01-27T17:42:00.504178Z"
        },
        "id": "uWNcHNkMczm7",
        "outputId": "86d46e47-61d4-4e62-df2e-dd852762abea",
        "colab": {
          "base_uri": "https://localhost:8080/",
          "height": 1000
        }
      },
      "source": [
        "# Obtenemos la tabla por un ID específico\n",
        "tabla = soup.find('table', attrs={'id': 'ctl00_Contenido_tblÍndices'})\n",
        "tabla"
      ],
      "execution_count": null,
      "outputs": [
        {
          "output_type": "execute_result",
          "data": {
            "text/plain": [
              "<table align=\"Center\" cellpadding=\"3\" cellspacing=\"0\" class=\"TblPort\" id=\"ctl00_Contenido_tblÍndices\" style=\"margin-bottom: 20px;\" width=\"85%\">\n",
              "<tr align=\"center\">\n",
              "<th scope=\"col\">Nombre</th><th scope=\"col\">Anterior</th><th scope=\"col\">Último</th><th scope=\"col\">% Dif.</th><th scope=\"col\">Máximo</th><th scope=\"col\">Mínimo</th><th scope=\"col\">Fecha</th><th scope=\"col\">Hora</th><th class=\"Ult\" scope=\"col\">% Dif.<br/>Año 2020</th>\n",
              "</tr><tr align=\"right\">\n",
              "<td align=\"left\" class=\"DifFlSb\">IBEX 35®</td><td>6.730,90</td><td>6.783,10</td><td class=\"DifClSb\">0,78</td><td>6.807,40</td><td>6.715,40</td><td align=\"center\">08/05/2020</td><td align=\"center\">17:38:00</td><td class=\"DifClBj Ult\">-28,97</td>\n",
              "</tr><tr align=\"right\">\n",
              "<td align=\"left\" class=\"DifFlSb\">IBEX 35® con Dividendos</td><td>19.770,60</td><td>19.923,90</td><td class=\"DifClSb\">0,78</td><td>19.995,30</td><td>19.725,10</td><td align=\"center\">08/05/2020</td><td align=\"center\">17:38:00</td><td class=\"DifClBj Ult\">-28,31</td>\n",
              "</tr><tr align=\"right\">\n",
              "<td align=\"left\" class=\"DifFlSb\">IBEX MEDIUM CAP®</td><td>10.114,60</td><td>10.220,40</td><td class=\"DifClSb\">1,05</td><td>10.220,40</td><td>10.134,40</td><td align=\"center\">08/05/2020</td><td align=\"center\">17:38:00</td><td class=\"DifClBj Ult\">-27,43</td>\n",
              "</tr><tr align=\"right\">\n",
              "<td align=\"left\" class=\"DifFlSb\">IBEX SMALL CAP®</td><td>5.784,20</td><td>5.824,40</td><td class=\"DifClSb\">0,69</td><td>5.856,80</td><td>5.806,70</td><td align=\"center\">08/05/2020</td><td align=\"center\">17:38:01</td><td class=\"DifClBj Ult\">-14,46</td>\n",
              "</tr><tr align=\"right\">\n",
              "<td align=\"left\" class=\"DifFlSb\">IBEX 35® Bancos</td><td>272,70</td><td>276,40</td><td class=\"DifClSb\">1,36</td><td>277,30</td><td>269,20</td><td align=\"center\">08/05/2020</td><td align=\"center\">17:38:01</td><td class=\"DifClBj Ult\">-46,59</td>\n",
              "</tr><tr align=\"right\">\n",
              "<td align=\"left\" class=\"DifFlBj\">IBEX 35® Energía</td><td>1.129,00</td><td>1.128,40</td><td class=\"DifClBj\">-0,05</td><td>1.140,20</td><td>1.124,60</td><td align=\"center\">08/05/2020</td><td align=\"center\">17:38:01</td><td class=\"DifClBj Ult\">-16,53</td>\n",
              "</tr><tr align=\"right\">\n",
              "<td align=\"left\" class=\"DifFlSb\">IBEX 35® Construcción</td><td>1.222,40</td><td>1.267,40</td><td class=\"DifClSb\">3,68</td><td>1.271,00</td><td>1.242,50</td><td align=\"center\">08/05/2020</td><td align=\"center\">17:38:01</td><td class=\"DifClBj Ult\">-20,03</td>\n",
              "</tr><tr align=\"right\">\n",
              "<td align=\"left\" class=\"DifFlSb\">IBEX TOP Dividendo®</td><td>1.900,50</td><td>1.912,30</td><td class=\"DifClSb\">0,62</td><td>1.923,30</td><td>1.899,00</td><td align=\"center\">08/05/2020</td><td align=\"center\">17:38:00</td><td class=\"DifClBj Ult\">-33,45</td>\n",
              "</tr><tr align=\"right\">\n",
              "<td align=\"left\" class=\"DifFlSb\">IBEX 35® con Dividendos Netos</td><td>16.672,20</td><td>16.801,50</td><td class=\"DifClSb\">0,78</td><td>16.861,70</td><td>16.633,80</td><td align=\"center\">08/05/2020</td><td align=\"center\">17:38:00</td><td class=\"DifClBj Ult\">-28,43</td>\n",
              "</tr><tr align=\"right\">\n",
              "<td align=\"left\" class=\"DifFlBj\">IBEX 35® Inverso</td><td>3.207,30</td><td>3.182,40</td><td class=\"DifClBj\">-0,78</td><td>3.214,70</td><td>3.170,80</td><td align=\"center\">08/05/2020</td><td align=\"center\">17:38:00</td><td class=\"DifClSb Ult\">29,82</td>\n",
              "</tr><tr align=\"right\">\n",
              "<td align=\"left\" class=\"DifFlBj\">IBEX 35® Doble Inverso</td><td>549,00</td><td>540,50</td><td class=\"DifClBj\">-1,55</td><td>551,50</td><td>536,50</td><td align=\"center\">08/05/2020</td><td align=\"center\">17:38:00</td><td class=\"DifClSb Ult\">57,95</td>\n",
              "</tr><tr align=\"right\">\n",
              "<td align=\"left\" class=\"DifFlBj\">IBEX 35® Inverso X3</td><td>38,60</td><td>37,70</td><td class=\"DifClBj\">-2,33</td><td>38,90</td><td>37,30</td><td align=\"center\">08/05/2020</td><td align=\"center\">17:38:00</td><td class=\"DifClSb Ult\">79,52</td>\n",
              "</tr><tr align=\"right\">\n",
              "<td align=\"left\" class=\"DifFlBj\">IBEX 35® Inverso X5</td><td>14.216,20</td><td>13.664,60</td><td class=\"DifClBj\">-3,88</td><td>14.379,30</td><td>13.407,80</td><td align=\"center\">08/05/2020</td><td align=\"center\">17:38:00</td><td class=\"DifClSb Ult\">95,28</td>\n",
              "</tr><tr align=\"right\">\n",
              "<td align=\"left\" class=\"DifFlBj\">IBEX 35® Inverso X10</td><td>34,70</td><td>32,00</td><td class=\"DifClBj\">-7,78</td><td>35,50</td><td>30,80</td><td align=\"center\">08/05/2020</td><td align=\"center\">17:38:00</td><td class=\"DifClBj Ult\">-71,50</td>\n",
              "</tr><tr align=\"right\">\n",
              "<td align=\"left\" class=\"DifFlSb\">IBEX 35® Doble Apalancado</td><td>2.546,40</td><td>2.585,90</td><td class=\"DifClSb\">1,55</td><td>2.604,30</td><td>2.534,70</td><td align=\"center\">08/05/2020</td><td align=\"center\">17:38:00</td><td class=\"DifClBj Ult\">-53,43</td>\n",
              "</tr><tr align=\"right\">\n",
              "<td align=\"left\" class=\"DifFlSb\">IBEX 35® Doble Apalancado Bruto</td><td>11.018,00</td><td>11.188,80</td><td class=\"DifClSb\">1,55</td><td>11.268,40</td><td>10.967,20</td><td align=\"center\">08/05/2020</td><td align=\"center\">17:38:00</td><td class=\"DifClBj Ult\">-52,57</td>\n",
              "</tr><tr align=\"right\">\n",
              "<td align=\"left\" class=\"DifFlSb\">IBEX 35® Doble Apalancado Neto</td><td>9.301,70</td><td>9.445,90</td><td class=\"DifClSb\">1,55</td><td>9.513,10</td><td>9.258,80</td><td align=\"center\">08/05/2020</td><td align=\"center\">17:38:00</td><td class=\"DifClBj Ult\">-52,73</td>\n",
              "</tr><tr align=\"right\">\n",
              "<td align=\"left\" class=\"DifFlSb\">IBEX 35® Apalancado X3</td><td>305,30</td><td>312,40</td><td class=\"DifClSb\">2,33</td><td>315,70</td><td>303,20</td><td align=\"center\">08/05/2020</td><td align=\"center\">17:38:00</td><td class=\"DifClBj Ult\">-72,19</td>\n",
              "</tr><tr align=\"right\">\n",
              "<td align=\"left\" class=\"DifFlSb\">IBEX 35® Apalancado Neto X3</td><td>3.262,90</td><td>3.338,80</td><td class=\"DifClSb\">2,33</td><td>3.374,10</td><td>3.240,30</td><td align=\"center\">08/05/2020</td><td align=\"center\">17:38:00</td><td class=\"DifClBj Ult\">-71,59</td>\n",
              "</tr><tr align=\"right\">\n",
              "<td align=\"left\" class=\"DifFlSb\">IBEX 35® Apalancado Neto X5</td><td>150,80</td><td>156,60</td><td class=\"DifClSb\">3,85</td><td>159,40</td><td>149,10</td><td align=\"center\">08/05/2020</td><td align=\"center\">17:38:00</td><td class=\"DifClBj Ult\">-93,21</td>\n",
              "</tr><tr align=\"right\">\n",
              "<td align=\"left\" class=\"DifFlSb\">IBEX 35® Apalancado Neto X10</td><td>271,00</td><td>292,00</td><td class=\"DifClSb\">7,75</td><td>301,80</td><td>264,70</td><td align=\"center\">08/05/2020</td><td align=\"center\">17:38:00</td><td class=\"DifClBj Ult\">-84,33</td>\n",
              "</tr><tr align=\"right\">\n",
              "<td align=\"left\" class=\"DifFlSb\">IBEX 35® Capped Net Return</td><td>16.717,90</td><td>16.847,50</td><td class=\"DifClSb\">0,78</td><td>16.907,80</td><td>16.679,40</td><td align=\"center\">08/05/2020</td><td align=\"center\">17:38:01</td><td class=\"DifClBj Ult\">-28,43</td>\n",
              "</tr><tr align=\"right\">\n",
              "<td align=\"left\" class=\"DifFlIg\">IBEX 35® Impacto Div</td><td>79,30</td><td>79,30</td><td class=\"DifClIg\">- </td><td>79,30</td><td>79,30</td><td align=\"center\">08/05/2020</td><td align=\"center\">17:38:00</td><td class=\"DifClIg Ult\">- </td>\n",
              "</tr><tr align=\"right\">\n",
              "<td align=\"left\" class=\"DifFlSb\">IBEX 35® Volatilidad Objetivo 10% Estándar</td><td>163,10</td><td>163,40</td><td class=\"DifClSb\">0,18</td><td>163,50</td><td>163,00</td><td align=\"center\">08/05/2020</td><td align=\"center\">17:38:00</td><td class=\"DifClBj Ult\">-13,22</td>\n",
              "</tr><tr align=\"right\">\n",
              "<td align=\"left\" class=\"DifFlSb\">IBEX 35® Volatilidad Objetivo 12% Estándar</td><td>164,60</td><td>164,90</td><td class=\"DifClSb\">0,18</td><td>165,10</td><td>164,50</td><td align=\"center\">08/05/2020</td><td align=\"center\">17:38:00</td><td class=\"DifClBj Ult\">-16,04</td>\n",
              "</tr><tr align=\"right\">\n",
              "<td align=\"left\" class=\"DifFlSb\">IBEX 35® Volatilidad Objetivo 15% Estándar</td><td>163,60</td><td>164,00</td><td class=\"DifClSb\">0,24</td><td>164,20</td><td>163,50</td><td align=\"center\">08/05/2020</td><td align=\"center\">17:38:00</td><td class=\"DifClBj Ult\">-19,57</td>\n",
              "</tr><tr align=\"right\">\n",
              "<td align=\"left\" class=\"DifFlSb\">IBEX 35® Volatilidad Objetivo 18% Estándar</td><td>159,50</td><td>160,00</td><td class=\"DifClSb\">0,31</td><td>160,20</td><td>159,40</td><td align=\"center\">08/05/2020</td><td align=\"center\">17:38:00</td><td class=\"DifClBj Ult\">-23,04</td>\n",
              "</tr><tr align=\"right\">\n",
              "<td align=\"left\" class=\"DifFlSb\">IBEX 35® Volatilidad Objetivo 10% Financiado</td><td>118,00</td><td>118,20</td><td class=\"DifClSb\">0,17</td><td>118,30</td><td>117,90</td><td align=\"center\">08/05/2020</td><td align=\"center\">17:38:00</td><td class=\"DifClBj Ult\">-13,09</td>\n",
              "</tr><tr align=\"right\">\n",
              "<td align=\"left\" class=\"DifFlSb\">IBEX 35® Volatilidad Objetivo 12% Financiado</td><td>117,00</td><td>117,20</td><td class=\"DifClSb\">0,17</td><td>117,30</td><td>116,90</td><td align=\"center\">08/05/2020</td><td align=\"center\">17:38:00</td><td class=\"DifClBj Ult\">-15,87</td>\n",
              "</tr><tr align=\"right\">\n",
              "<td align=\"left\" class=\"DifFlSb\">IBEX 35® Volatilidad Objetivo 15% Financiado</td><td>119,70</td><td>120,00</td><td class=\"DifClSb\">0,25</td><td>120,10</td><td>119,60</td><td align=\"center\">08/05/2020</td><td align=\"center\">17:38:00</td><td class=\"DifClBj Ult\">-19,68</td>\n",
              "</tr><tr align=\"right\">\n",
              "<td align=\"left\" class=\"DifFlSb\">IBEX 35® Volatilidad Objetivo 18% Financiado</td><td>112,00</td><td>112,30</td><td class=\"DifClSb\">0,27</td><td>112,50</td><td>111,90</td><td align=\"center\">08/05/2020</td><td align=\"center\">17:38:00</td><td class=\"DifClBj Ult\">-22,92</td>\n",
              "</tr><tr align=\"right\">\n",
              "<td align=\"left\" class=\"DifFlBj\">VIBEX®</td><td>27,68</td><td>25,91</td><td class=\"DifClBj\">-6,39</td><td>25,91</td><td>25,91</td><td align=\"center\">08/05/2020</td><td align=\"center\"> </td><td class=\"DifClSb Ult\">107,45</td>\n",
              "</tr><tr align=\"right\">\n",
              "<td align=\"left\" class=\"DifFlBj\">IBEX 35® Skew</td><td>7,02</td><td>6,25</td><td class=\"DifClBj\">-10,97</td><td>6,25</td><td>6,25</td><td align=\"center\">08/05/2020</td><td align=\"center\"> </td><td class=\"DifClSb Ult\">22,55</td>\n",
              "</tr><tr align=\"right\">\n",
              "<td align=\"left\" class=\"DifFlSb\">IBEX 35® BuyWrite</td><td>1.496,80</td><td>1.505,39</td><td class=\"DifClSb\">0,57</td><td>1.505,39</td><td>1.505,39</td><td align=\"center\">08/05/2020</td><td align=\"center\"> </td><td class=\"DifClBj Ult\">-8,42</td>\n",
              "</tr><tr align=\"right\">\n",
              "<td align=\"left\" class=\"DifFlSb\">IBEX 35® PutWrite</td><td>1.215,45</td><td>1.219,48</td><td class=\"DifClSb\">0,33</td><td>1.219,48</td><td>1.219,48</td><td align=\"center\">08/05/2020</td><td align=\"center\"> </td><td class=\"DifClBj Ult\">-25,72</td>\n",
              "</tr><tr align=\"right\">\n",
              "<td align=\"left\" class=\"DifFlSb\">IBEX 35® Protective Put</td><td>580,73</td><td>581,83</td><td class=\"DifClSb\">0,19</td><td>581,83</td><td>581,83</td><td align=\"center\">08/05/2020</td><td align=\"center\"> </td><td class=\"DifClBj Ult\">-2,99</td>\n",
              "</tr><tr align=\"right\">\n",
              "<td align=\"left\" class=\"DifFlSb\">IBEX 35® Venta de Strangle</td><td>1.568,20</td><td>1.574,17</td><td class=\"DifClSb\">0,38</td><td>1.574,17</td><td>1.574,17</td><td align=\"center\">08/05/2020</td><td align=\"center\"> </td><td class=\"DifClBj Ult\">-23,49</td>\n",
              "</tr><tr align=\"right\">\n",
              "<td align=\"left\" class=\"DifFlSb\">IBEX TOP Dividendo® Rentabilidad</td><td>4.825,80</td><td>4.855,80</td><td class=\"DifClSb\">0,62</td><td>4.883,70</td><td>4.822,00</td><td align=\"center\">08/05/2020</td><td align=\"center\">17:38:00</td><td class=\"DifClBj Ult\">-32,14</td>\n",
              "</tr><tr align=\"right\">\n",
              "<td align=\"left\" class=\"DifFlSb\">IBEX TOP Dividendo® Rentabilidad Neta</td><td>4.040,80</td><td>4.065,90</td><td class=\"DifClSb\">0,62</td><td>4.089,20</td><td>4.037,60</td><td align=\"center\">08/05/2020</td><td align=\"center\">17:38:00</td><td class=\"DifClBj Ult\">-32,39</td>\n",
              "</tr><tr align=\"right\">\n",
              "<td align=\"left\" class=\"DifFlSb\">IBEX MEDIUM CAP® con Dividendos</td><td>11.092,20</td><td>11.208,20</td><td class=\"DifClSb\">1,05</td><td>11.208,20</td><td>11.113,90</td><td align=\"center\">08/05/2020</td><td align=\"center\">17:38:00</td><td class=\"DifClBj Ult\">-26,55</td>\n",
              "</tr><tr align=\"right\">\n",
              "<td align=\"left\" class=\"DifFlSb\">IBEX MEDIUM CAP® con Dividendos Netos</td><td>10.365,10</td><td>10.473,50</td><td class=\"DifClSb\">1,05</td><td>10.473,50</td><td>10.385,40</td><td align=\"center\">08/05/2020</td><td align=\"center\">17:38:00</td><td class=\"DifClBj Ult\">-26,72</td>\n",
              "</tr><tr align=\"right\">\n",
              "<td align=\"left\" class=\"DifFlSb\">IBEX SMALL CAP® con Dividendos</td><td>8.421,00</td><td>8.479,60</td><td class=\"DifClSb\">0,70</td><td>8.526,80</td><td>8.453,90</td><td align=\"center\">08/05/2020</td><td align=\"center\">17:38:01</td><td class=\"DifClBj Ult\">-13,86</td>\n",
              "</tr><tr align=\"right\">\n",
              "<td align=\"left\" class=\"DifFlSb\">IBEX SMALL CAP® con Dividendos Netos</td><td>8.131,50</td><td>8.188,00</td><td class=\"DifClSb\">0,69</td><td>8.233,60</td><td>8.163,20</td><td align=\"center\">08/05/2020</td><td align=\"center\">17:38:01</td><td class=\"DifClBj Ult\">-13,97</td>\n",
              "</tr><tr align=\"right\">\n",
              "<td align=\"left\" class=\"DifFlSb\">IBEX MAB® 15</td><td>1.451,40</td><td>1.481,20</td><td class=\"DifClSb\">2,05</td><td>1.492,40</td><td>1.455,90</td><td align=\"center\">08/05/2020</td><td align=\"center\">17:39:00</td><td class=\"DifClBj Ult\">-1,33</td>\n",
              "</tr><tr align=\"right\">\n",
              "<td align=\"left\" class=\"DifFlSb\">IBEX MAB® All Share</td><td>1.237,10</td><td>1.252,80</td><td class=\"DifClSb\">1,27</td><td>1.260,30</td><td>1.239,70</td><td align=\"center\">08/05/2020</td><td align=\"center\">17:39:00</td><td class=\"DifClBj Ult\">-2,53</td>\n",
              "</tr><tr align=\"right\">\n",
              "<td align=\"left\" class=\"DifFlSb\">FTSE4Good IBEX</td><td>6.924,10</td><td>6.985,80</td><td class=\"DifClSb\">0,89</td><td>7.007,00</td><td>6.915,90</td><td align=\"center\">08/05/2020</td><td align=\"center\">17:38:01</td><td class=\"DifClBj Ult\">-28,65</td>\n",
              "</tr><tr align=\"right\">\n",
              "<td align=\"left\" class=\"DifFlSb\">FTSE4Good IBEX Total Return</td><td>14.901,30</td><td>15.034,10</td><td class=\"DifClSb\">0,89</td><td>15.079,80</td><td>14.883,70</td><td align=\"center\">08/05/2020</td><td align=\"center\">17:38:01</td><td class=\"DifClBj Ult\">-27,87</td>\n",
              "</tr><tr align=\"right\">\n",
              "<td align=\"left\" class=\"DifFlSb\">FTSE4Good IBEX Net Return</td><td>13.275,30</td><td>13.393,50</td><td class=\"DifClSb\">0,89</td><td>13.434,20</td><td>13.259,50</td><td align=\"center\">08/05/2020</td><td align=\"center\">17:38:01</td><td class=\"DifClBj Ult\">-28,02</td>\n",
              "</tr><tr align=\"right\">\n",
              "<td align=\"left\" class=\"DifFlSb\">FTSE Latibex All Share</td><td>1.326,30</td><td>1.372,50</td><td class=\"DifClSb\">3,48</td><td>1.372,50</td><td>1.325,70</td><td align=\"center\">08/05/2020</td><td align=\"center\">17:38:01</td><td class=\"DifClBj Ult\">-45,81</td>\n",
              "</tr><tr align=\"right\">\n",
              "<td align=\"left\" class=\"DifFlSb\">FTSE Latibex TOP</td><td>2.917,20</td><td>3.002,10</td><td class=\"DifClSb\">2,91</td><td>3.002,10</td><td>2.917,20</td><td align=\"center\">08/05/2020</td><td align=\"center\">17:38:01</td><td class=\"DifClBj Ult\">-44,32</td>\n",
              "</tr><tr align=\"right\">\n",
              "<td align=\"left\" class=\"DifFlSb\">FTSE Latibex BRASIL</td><td>5.830,20</td><td>6.054,70</td><td class=\"DifClSb\">3,85</td><td>6.054,70</td><td>5.830,20</td><td align=\"center\">08/05/2020</td><td align=\"center\">17:38:01</td><td class=\"DifClBj Ult\">-50,75</td>\n",
              "</tr><tr align=\"right\">\n",
              "<td align=\"left\" class=\"DifFlSb\">I.G.B.M.</td><td>666,00</td><td>670,73</td><td class=\"DifClSb\">0,71</td><td>672,95</td><td>664,67</td><td align=\"center\">08/05/2020</td><td align=\"center\">17:38:01</td><td class=\"DifClBj Ult\">-29,47</td>\n",
              "</tr><tr align=\"right\">\n",
              "<td align=\"left\" class=\"DifFlSb\">I.G.B.M. Total</td><td>2.733,13</td><td>2.752,52</td><td class=\"DifClSb\">0,71</td><td>2.752,52</td><td>2.752,52</td><td align=\"center\">08/05/2020</td><td align=\"center\">17:38:01</td><td class=\"DifClBj Ult\">-28,73</td>\n",
              "</tr><tr align=\"right\">\n",
              "<td align=\"left\" class=\"DifFlSb\">BCN GLOBAL 100 (Base 1986)</td><td>491,41</td><td>494,22</td><td class=\"DifClSb\">0,57</td><td>496,69</td><td>489,65</td><td align=\"center\">08/05/2020</td><td align=\"center\">17:38:00</td><td class=\"DifClBj Ult\">-31,85</td>\n",
              "</tr><tr align=\"right\">\n",
              "<td align=\"left\" class=\"DifFlSb\">BCN GLOBAL 100 (Base 1963)</td><td>1.263,01</td><td>1.270,23</td><td class=\"DifClSb\">0,57</td><td>1.276,58</td><td>1.258,48</td><td align=\"center\">08/05/2020</td><td align=\"center\">17:38:00</td><td class=\"DifClBj Ult\">-31,85</td>\n",
              "</tr><tr align=\"right\">\n",
              "<td align=\"left\" class=\"DifFlSb\">BCN MID 50</td><td>17.741,78</td><td>17.827,22</td><td class=\"DifClSb\">0,48</td><td>17.944,10</td><td>17.797,49</td><td align=\"center\">08/05/2020</td><td align=\"center\">17:38:01</td><td class=\"DifClBj Ult\">-22,77</td>\n",
              "</tr><tr align=\"right\">\n",
              "<td align=\"left\" class=\"DifFlSb\">BCN PROFIT-30</td><td>8.414,81</td><td>8.475,24</td><td class=\"DifClSb\">0,72</td><td>8.505,53</td><td>8.370,47</td><td align=\"center\">08/05/2020</td><td align=\"center\">17:38:01</td><td class=\"DifClBj Ult\">-36,44</td>\n",
              "</tr><tr align=\"right\">\n",
              "<td align=\"left\" class=\"DifFlSb\">BCN ROE-30</td><td>14.246,03</td><td>14.411,57</td><td class=\"DifClSb\">1,16</td><td>14.432,12</td><td>14.275,47</td><td align=\"center\">08/05/2020</td><td align=\"center\">17:38:01</td><td class=\"DifClBj Ult\">-31,34</td>\n",
              "</tr><tr align=\"right\">\n",
              "<td align=\"left\" class=\"DifFlSb\">BCN PER-30</td><td>13.052,13</td><td>13.196,22</td><td class=\"DifClSb\">1,10</td><td>13.205,67</td><td>13.016,43</td><td align=\"center\">08/05/2020</td><td align=\"center\">17:38:01</td><td class=\"DifClBj Ult\">-39,13</td>\n",
              "</tr><tr align=\"right\">\n",
              "<td align=\"left\" class=\"DifFlSb\">BCN INDEXCAT</td><td>16.901,74</td><td>17.218,66</td><td class=\"DifClSb\">1,88</td><td>17.247,64</td><td>16.960,63</td><td align=\"center\">08/05/2020</td><td align=\"center\">17:38:01</td><td class=\"DifClBj Ult\">-23,03</td>\n",
              "</tr><tr align=\"right\">\n",
              "<td align=\"left\" class=\"DifFlSb\">BCN TOP EURO</td><td>706,40</td><td>711,77</td><td class=\"DifClSb\">0,76</td><td>714,21</td><td>704,56</td><td align=\"center\">08/05/2020</td><td align=\"center\">17:38:01</td><td class=\"DifClBj Ult\">-28,82</td>\n",
              "</tr><tr align=\"right\">\n",
              "<td align=\"left\" class=\"DifFlBj\">BCN TOP 5</td><td>705,62</td><td>704,75</td><td class=\"DifClBj\">-0,12</td><td>712,20</td><td>697,41</td><td align=\"center\">08/05/2020</td><td align=\"center\">17:38:01</td><td class=\"DifClBj Ult\">-29,53</td>\n",
              "</tr><tr align=\"right\">\n",
              "<td align=\"left\" class=\"DifFlSb\">BILBAO</td><td>1.061,46</td><td>1.068,60</td><td class=\"DifClSb\">0,67</td><td>1.072,74</td><td>1.058,28</td><td align=\"center\">08/05/2020</td><td align=\"center\">17:38:00</td><td class=\"DifClBj Ult\">-28,06</td>\n",
              "</tr><tr align=\"right\">\n",
              "<td align=\"left\" class=\"DifFlSb\">VALENCIA</td><td>895,58</td><td>897,73</td><td class=\"DifClSb\">0,24</td><td>905,28</td><td>890,94</td><td align=\"center\">08/05/2020</td><td align=\"center\">17:38:00</td><td class=\"DifClBj Ult\">-29,00</td>\n",
              "</tr><tr align=\"right\">\n",
              "<td align=\"left\" class=\"DifFlBj\">Índice TEF Apalancado X3</td><td>399,70</td><td>380,40</td><td class=\"DifClBj\">-4,83</td><td>420,70</td><td>369,20</td><td align=\"center\">08/05/2020</td><td align=\"center\">17:38:01</td><td class=\"DifClBj Ult\">-78,28</td>\n",
              "</tr><tr align=\"right\">\n",
              "<td align=\"left\" class=\"DifFlSb\">Índice SAN Apalancado X3</td><td>170,40</td><td>180,60</td><td class=\"DifClSb\">5,99</td><td>183,20</td><td>166,00</td><td align=\"center\">08/05/2020</td><td align=\"center\">17:38:01</td><td class=\"DifClBj Ult\">-90,71</td>\n",
              "</tr><tr align=\"right\">\n",
              "<td align=\"left\" class=\"DifFlSb\">Índice BBVA Apalancado X3</td><td>144,50</td><td>150,00</td><td class=\"DifClSb\">3,81</td><td>151,30</td><td>136,90</td><td align=\"center\">08/05/2020</td><td align=\"center\">17:38:00</td><td class=\"DifClBj Ult\">-89,52</td>\n",
              "</tr><tr align=\"right\">\n",
              "<td align=\"left\" class=\"DifFlBj\">Índice ITX Apalancado X3</td><td>2.550,00</td><td>2.464,90</td><td class=\"DifClBj\">-3,34</td><td>2.621,90</td><td>2.353,60</td><td align=\"center\">08/05/2020</td><td align=\"center\">17:38:01</td><td class=\"DifClBj Ult\">-69,53</td>\n",
              "</tr><tr align=\"right\">\n",
              "<td align=\"left\" class=\"DifFlBj\">Índice TEF Apalancado X5</td><td>1.363,00</td><td>1.253,20</td><td class=\"DifClBj\">-8,06</td><td>1.482,30</td><td>1.189,60</td><td align=\"center\">08/05/2020</td><td align=\"center\">17:38:01</td><td class=\"DifClSb Ult\">652,10</td>\n",
              "</tr><tr align=\"right\">\n",
              "<td align=\"left\" class=\"DifFlSb\">Índice SAN Apalancado X5</td><td>1.682,00</td><td>1.849,40</td><td class=\"DifClSb\">9,95</td><td>1.892,30</td><td>1.609,00</td><td align=\"center\">08/05/2020</td><td align=\"center\">17:38:01</td><td class=\"DifClSb Ult\">556,28</td>\n",
              "</tr><tr align=\"right\">\n",
              "<td align=\"left\" class=\"DifFlSb\">Índice BBVA Apalancado X5</td><td>203,00</td><td>215,80</td><td class=\"DifClSb\">6,31</td><td>218,80</td><td>185,30</td><td align=\"center\">08/05/2020</td><td align=\"center\">17:38:00</td><td class=\"DifClSb Ult\">337,73</td>\n",
              "</tr><tr align=\"right\">\n",
              "<td align=\"left\" class=\"DifFlBj\">Índice ITX Apalancado X5</td><td>221,20</td><td>208,90</td><td class=\"DifClBj\">-5,56</td><td>231,60</td><td>192,80</td><td align=\"center\">08/05/2020</td><td align=\"center\">17:38:01</td><td class=\"DifClBj Ult\">-91,53</td>\n",
              "</tr><tr align=\"right\">\n",
              "<td align=\"left\" class=\"DifFlSb\">Índice TEF Inverso X3</td><td>4.872,60</td><td>5.105,60</td><td class=\"DifClSb\">4,78</td><td>5.242,10</td><td>4.614,30</td><td align=\"center\">08/05/2020</td><td align=\"center\">17:38:01</td><td class=\"DifClSb Ult\">43,55</td>\n",
              "</tr><tr align=\"right\">\n",
              "<td align=\"left\" class=\"DifFlBj\">Índice SAN Inverso X3</td><td>1.666,70</td><td>1.566,30</td><td class=\"DifClBj\">-6,02</td><td>1.709,30</td><td>1.540,80</td><td align=\"center\">08/05/2020</td><td align=\"center\">17:38:01</td><td class=\"DifClSb Ult\">174,31</td>\n",
              "</tr><tr align=\"right\">\n",
              "<td align=\"left\" class=\"DifFlBj\">Índice BBVA Inverso X3</td><td>2.458,60</td><td>2.364,20</td><td class=\"DifClBj\">-3,84</td><td>2.586,10</td><td>2.342,30</td><td align=\"center\">08/05/2020</td><td align=\"center\">17:38:00</td><td class=\"DifClSb Ult\">86,73</td>\n",
              "</tr><tr align=\"right\">\n",
              "<td align=\"left\" class=\"DifFlSb\">Índice ITX Inverso X3</td><td>1.458,30</td><td>1.506,20</td><td class=\"DifClSb\">3,28</td><td>1.569,80</td><td>1.416,40</td><td align=\"center\">08/05/2020</td><td align=\"center\">17:38:01</td><td class=\"DifClSb Ult\">39,58</td>\n",
              "</tr><tr align=\"right\">\n",
              "<td align=\"left\" class=\"DifFlSb\">Índice TEF Inverso X5</td><td>674,80</td><td>728,60</td><td class=\"DifClSb\">7,97</td><td>760,10</td><td>615,20</td><td align=\"center\">08/05/2020</td><td align=\"center\">17:38:01</td><td class=\"DifClSb Ult\">25,45</td>\n",
              "</tr><tr align=\"right\">\n",
              "<td align=\"left\" class=\"DifFlBj\">Índice SAN Inverso X5</td><td>3.703,70</td><td>3.331,90</td><td class=\"DifClBj\">-10,04</td><td>3.861,30</td><td>3.237,40</td><td align=\"center\">08/05/2020</td><td align=\"center\">17:38:01</td><td class=\"DifClSb Ult\">770,16</td>\n",
              "</tr><tr align=\"right\">\n",
              "<td align=\"left\" class=\"DifFlBj\">Índice BBVA Inverso X5</td><td>75,80</td><td>71,00</td><td class=\"DifClBj\">-6,33</td><td>82,40</td><td>69,80</td><td align=\"center\">08/05/2020</td><td align=\"center\">17:38:00</td><td class=\"DifClSb Ult\">24,78</td>\n",
              "</tr><tr align=\"right\">\n",
              "<td align=\"left\" class=\"DifFlSb\">Índice ITX Inverso X5</td><td>86,40</td><td>91,10</td><td class=\"DifClSb\">5,44</td><td>97,40</td><td>82,30</td><td align=\"center\">08/05/2020</td><td align=\"center\">17:38:01</td><td class=\"DifClSb Ult\">4,00</td>\n",
              "</tr>\n",
              "</table>"
            ]
          },
          "metadata": {
            "tags": []
          },
          "execution_count": 4
        }
      ]
    },
    {
      "cell_type": "code",
      "metadata": {
        "ExecuteTime": {
          "end_time": "2019-01-27T17:55:08.443093Z",
          "start_time": "2019-01-27T17:55:08.436365Z"
        },
        "id": "sgn70Cmrczm9",
        "outputId": "44e706dc-747f-44d8-e6c0-27a2cc1983ca",
        "colab": {
          "base_uri": "https://localhost:8080/",
          "height": 51
        }
      },
      "source": [
        "name=\"\"\n",
        "price=\"\"\n",
        "nroFila=0\n",
        "for fila in tabla.find_all(\"tr\"):\n",
        "    if nroFila==1:\n",
        "        nroCelda=0\n",
        "        for celda in fila.find_all('td'):\n",
        "            if nroCelda==0:\n",
        "                name=celda.text\n",
        "                print(\"Indice:\", name)\n",
        "            if nroCelda==2:\n",
        "                price=celda.text\n",
        "                print(\"Valor:\", price)\n",
        "            nroCelda=nroCelda+1\n",
        "    nroFila=nroFila+1"
      ],
      "execution_count": null,
      "outputs": [
        {
          "output_type": "stream",
          "text": [
            "Indice: IBEX 35®\n",
            "Valor: 6.783,10\n"
          ],
          "name": "stdout"
        }
      ]
    },
    {
      "cell_type": "code",
      "metadata": {
        "ExecuteTime": {
          "end_time": "2019-01-27T17:56:28.279786Z",
          "start_time": "2019-01-27T17:56:28.271938Z"
        },
        "id": "sArKQ8EFcznA"
      },
      "source": [
        "# Abrimos el csv con append para que pueda agregar contenidos al final del archivo\n",
        "with open('bolsa_ibex35.csv', 'a') as csv_file:\n",
        "    writer = csv.writer(csv_file)\n",
        "    writer.writerow([name, price, datetime.now()])"
      ],
      "execution_count": null,
      "outputs": []
    },
    {
      "cell_type": "markdown",
      "metadata": {
        "id": "sFXeqRp6cznD"
      },
      "source": [
        "El artículo completo en www.aprendemachinelearning.com"
      ]
    },
    {
      "cell_type": "markdown",
      "metadata": {
        "id": "Yw5PwaK-cznD"
      },
      "source": [
        "## Acediendo a datos de twitter\n",
        "\n",
        "Vamos a acceder a los datos de twitter utilizando la API de Twitter, y la libreria tweepy, y vamos a guardar los datos en un fichero CSV."
      ]
    },
    {
      "cell_type": "markdown",
      "metadata": {
        "id": "MOxvP6LucznE"
      },
      "source": [
        "Para ello en primer lugar teneis que crear una aplicación en el área de desarrolladores de twitter, lo que nos permitirá acceder la API Key, el secret API Key, y Los Tokens de acceso\n"
      ]
    },
    {
      "cell_type": "markdown",
      "metadata": {
        "id": "Kv9Dg4UDcznE"
      },
      "source": [
        "1. Importar las librerias necesarias"
      ]
    },
    {
      "cell_type": "code",
      "metadata": {
        "id": "mMdSU4AncznF"
      },
      "source": [
        "import tweepy  \n",
        "import time\n",
        "import csv\n",
        " \n"
      ],
      "execution_count": null,
      "outputs": []
    },
    {
      "cell_type": "markdown",
      "metadata": {
        "id": "sH1-PzLlcznH"
      },
      "source": [
        "2. Crear las variables con los tokens y los Ids de las APIs"
      ]
    },
    {
      "cell_type": "code",
      "metadata": {
        "id": "wClSkivecznH"
      },
      "source": [
        "access_token = \"12085582-j0ie7G8xec7LaPIalqYljlUK2mh64PqDhxTu1UtNr\"  \n",
        "access_token_secret = \"D9OjFAZ7DgKVo4jwhMKWjOK56BIWyTs59YGxBsFe8NygE\"  \n",
        "consumer_key = \"rG4ptSFnS0xEpGZh29KIfwD4e\"  \n",
        "consumer_secret = \"6FcFiGERa5u63JvzCbbA9UNHdxBubrVP6wKy6cFwoySHUZOcvT\"  \n"
      ],
      "execution_count": null,
      "outputs": []
    },
    {
      "cell_type": "markdown",
      "metadata": {
        "id": "hlWyRWNFcznJ"
      },
      "source": [
        "3. Autenticarse con tweepy, y crear un objeto API de tweepy"
      ]
    },
    {
      "cell_type": "code",
      "metadata": {
        "id": "eKZrcgsXcznK",
        "outputId": "1c6aa3ad-4545-449b-9473-6178898a49f0"
      },
      "source": [
        " \n",
        "auth = tweepy.OAuthHandler(consumer_key, consumer_secret)  \n",
        "auth.set_access_token(access_token, access_token_secret)  \n",
        "api = tweepy.API(auth,wait_on_rate_limit=True)\n",
        "api.verify_credentials()"
      ],
      "execution_count": null,
      "outputs": [
        {
          "output_type": "execute_result",
          "data": {
            "text/plain": [
              "User(_api=<tweepy.api.API object at 0x1107dfcf8>, _json={'id': 12085582, 'id_str': '12085582', 'name': 'diegodl', 'screen_name': 'diegodl', 'location': '', 'description': 'Datos, música y cualquier otra cosa. Profesor @TheBridge_Tech', 'url': None, 'entities': {'description': {'urls': []}}, 'protected': False, 'followers_count': 280, 'friends_count': 543, 'listed_count': 15, 'created_at': 'Thu Jan 10 21:02:13 +0000 2008', 'favourites_count': 545, 'utc_offset': None, 'time_zone': None, 'geo_enabled': True, 'verified': False, 'statuses_count': 2560, 'lang': None, 'status': {'created_at': 'Sun Dec 15 21:00:25 +0000 2019', 'id': 1206318113580564483, 'id_str': '1206318113580564483', 'text': 'RT @joaquinmencia: https://t.co/McGcsE9RWr', 'truncated': False, 'entities': {'hashtags': [], 'symbols': [], 'user_mentions': [{'screen_name': 'joaquinmencia', 'name': 'J.', 'id': 14460582, 'id_str': '14460582', 'indices': [3, 17]}], 'urls': [], 'media': [{'id': 1205895342312632322, 'id_str': '1205895342312632322', 'indices': [19, 42], 'media_url': 'http://pbs.twimg.com/ext_tw_video_thumb/1205895342312632322/pu/img/34MiOCP6G7LYBQDQ.jpg', 'media_url_https': 'https://pbs.twimg.com/ext_tw_video_thumb/1205895342312632322/pu/img/34MiOCP6G7LYBQDQ.jpg', 'url': 'https://t.co/McGcsE9RWr', 'display_url': 'pic.twitter.com/McGcsE9RWr', 'expanded_url': 'https://twitter.com/crookedmedia/status/1205895531840593920/video/1', 'type': 'photo', 'sizes': {'thumb': {'w': 150, 'h': 150, 'resize': 'crop'}, 'medium': {'w': 1200, 'h': 675, 'resize': 'fit'}, 'small': {'w': 680, 'h': 383, 'resize': 'fit'}, 'large': {'w': 1280, 'h': 720, 'resize': 'fit'}}, 'source_status_id': 1205895531840593920, 'source_status_id_str': '1205895531840593920', 'source_user_id': 804015436979277824, 'source_user_id_str': '804015436979277824', 'features': {}}]}, 'extended_entities': {'media': [{'id': 1205895342312632322, 'id_str': '1205895342312632322', 'indices': [19, 42], 'media_url': 'http://pbs.twimg.com/ext_tw_video_thumb/1205895342312632322/pu/img/34MiOCP6G7LYBQDQ.jpg', 'media_url_https': 'https://pbs.twimg.com/ext_tw_video_thumb/1205895342312632322/pu/img/34MiOCP6G7LYBQDQ.jpg', 'url': 'https://t.co/McGcsE9RWr', 'display_url': 'pic.twitter.com/McGcsE9RWr', 'expanded_url': 'https://twitter.com/crookedmedia/status/1205895531840593920/video/1', 'type': 'video', 'sizes': {'thumb': {'w': 150, 'h': 150, 'resize': 'crop'}, 'medium': {'w': 1200, 'h': 675, 'resize': 'fit'}, 'small': {'w': 680, 'h': 383, 'resize': 'fit'}, 'large': {'w': 1280, 'h': 720, 'resize': 'fit'}}, 'source_status_id': 1205895531840593920, 'source_status_id_str': '1205895531840593920', 'source_user_id': 804015436979277824, 'source_user_id_str': '804015436979277824', 'video_info': {'aspect_ratio': [16, 9], 'duration_millis': 98557, 'variants': [{'bitrate': 832000, 'content_type': 'video/mp4', 'url': 'https://video.twimg.com/ext_tw_video/1205895342312632322/pu/vid/640x360/yXxu75rz4_L-H0oM.mp4?tag=10'}, {'content_type': 'application/x-mpegURL', 'url': 'https://video.twimg.com/ext_tw_video/1205895342312632322/pu/pl/t4IPo1yBqIcdmpE_.m3u8?tag=10'}, {'bitrate': 256000, 'content_type': 'video/mp4', 'url': 'https://video.twimg.com/ext_tw_video/1205895342312632322/pu/vid/480x270/oL-ntNB_t22D8Fqo.mp4?tag=10'}, {'bitrate': 2176000, 'content_type': 'video/mp4', 'url': 'https://video.twimg.com/ext_tw_video/1205895342312632322/pu/vid/1280x720/a_9UHVH_mPZlmLrB.mp4?tag=10'}]}, 'features': {}, 'additional_media_info': {'monetizable': False}}]}, 'source': '<a href=\"https://mobile.twitter.com\" rel=\"nofollow\">Twitter Web App</a>', 'in_reply_to_status_id': None, 'in_reply_to_status_id_str': None, 'in_reply_to_user_id': None, 'in_reply_to_user_id_str': None, 'in_reply_to_screen_name': None, 'geo': None, 'coordinates': None, 'place': None, 'contributors': None, 'retweeted_status': {'created_at': 'Sun Dec 15 20:57:05 +0000 2019', 'id': 1206317276988952580, 'id_str': '1206317276988952580', 'text': 'https://t.co/McGcsE9RWr', 'truncated': False, 'entities': {'hashtags': [], 'symbols': [], 'user_mentions': [], 'urls': [], 'media': [{'id': 1205895342312632322, 'id_str': '1205895342312632322', 'indices': [0, 23], 'media_url': 'http://pbs.twimg.com/ext_tw_video_thumb/1205895342312632322/pu/img/34MiOCP6G7LYBQDQ.jpg', 'media_url_https': 'https://pbs.twimg.com/ext_tw_video_thumb/1205895342312632322/pu/img/34MiOCP6G7LYBQDQ.jpg', 'url': 'https://t.co/McGcsE9RWr', 'display_url': 'pic.twitter.com/McGcsE9RWr', 'expanded_url': 'https://twitter.com/crookedmedia/status/1205895531840593920/video/1', 'type': 'photo', 'sizes': {'thumb': {'w': 150, 'h': 150, 'resize': 'crop'}, 'medium': {'w': 1200, 'h': 675, 'resize': 'fit'}, 'small': {'w': 680, 'h': 383, 'resize': 'fit'}, 'large': {'w': 1280, 'h': 720, 'resize': 'fit'}}, 'source_status_id': 1205895531840593920, 'source_status_id_str': '1205895531840593920', 'source_user_id': 804015436979277824, 'source_user_id_str': '804015436979277824', 'features': {}}]}, 'extended_entities': {'media': [{'id': 1205895342312632322, 'id_str': '1205895342312632322', 'indices': [0, 23], 'media_url': 'http://pbs.twimg.com/ext_tw_video_thumb/1205895342312632322/pu/img/34MiOCP6G7LYBQDQ.jpg', 'media_url_https': 'https://pbs.twimg.com/ext_tw_video_thumb/1205895342312632322/pu/img/34MiOCP6G7LYBQDQ.jpg', 'url': 'https://t.co/McGcsE9RWr', 'display_url': 'pic.twitter.com/McGcsE9RWr', 'expanded_url': 'https://twitter.com/crookedmedia/status/1205895531840593920/video/1', 'type': 'video', 'sizes': {'thumb': {'w': 150, 'h': 150, 'resize': 'crop'}, 'medium': {'w': 1200, 'h': 675, 'resize': 'fit'}, 'small': {'w': 680, 'h': 383, 'resize': 'fit'}, 'large': {'w': 1280, 'h': 720, 'resize': 'fit'}}, 'source_status_id': 1205895531840593920, 'source_status_id_str': '1205895531840593920', 'source_user_id': 804015436979277824, 'source_user_id_str': '804015436979277824', 'video_info': {'aspect_ratio': [16, 9], 'duration_millis': 98557, 'variants': [{'bitrate': 832000, 'content_type': 'video/mp4', 'url': 'https://video.twimg.com/ext_tw_video/1205895342312632322/pu/vid/640x360/yXxu75rz4_L-H0oM.mp4?tag=10'}, {'content_type': 'application/x-mpegURL', 'url': 'https://video.twimg.com/ext_tw_video/1205895342312632322/pu/pl/t4IPo1yBqIcdmpE_.m3u8?tag=10'}, {'bitrate': 256000, 'content_type': 'video/mp4', 'url': 'https://video.twimg.com/ext_tw_video/1205895342312632322/pu/vid/480x270/oL-ntNB_t22D8Fqo.mp4?tag=10'}, {'bitrate': 2176000, 'content_type': 'video/mp4', 'url': 'https://video.twimg.com/ext_tw_video/1205895342312632322/pu/vid/1280x720/a_9UHVH_mPZlmLrB.mp4?tag=10'}]}, 'features': {}, 'additional_media_info': {'monetizable': False}}]}, 'source': '<a href=\"http://twitter.com/download/iphone\" rel=\"nofollow\">Twitter for iPhone</a>', 'in_reply_to_status_id': None, 'in_reply_to_status_id_str': None, 'in_reply_to_user_id': None, 'in_reply_to_user_id_str': None, 'in_reply_to_screen_name': None, 'geo': None, 'coordinates': None, 'place': None, 'contributors': None, 'is_quote_status': False, 'retweet_count': 1, 'favorite_count': 2, 'favorited': False, 'retweeted': True, 'possibly_sensitive': False, 'lang': 'und'}, 'is_quote_status': False, 'retweet_count': 1, 'favorite_count': 0, 'favorited': False, 'retweeted': True, 'possibly_sensitive': False, 'lang': 'und'}, 'contributors_enabled': False, 'is_translator': False, 'is_translation_enabled': False, 'profile_background_color': 'C0DEED', 'profile_background_image_url': 'http://abs.twimg.com/images/themes/theme1/bg.png', 'profile_background_image_url_https': 'https://abs.twimg.com/images/themes/theme1/bg.png', 'profile_background_tile': False, 'profile_image_url': 'http://pbs.twimg.com/profile_images/427227927/profile_normal.JPG', 'profile_image_url_https': 'https://pbs.twimg.com/profile_images/427227927/profile_normal.JPG', 'profile_link_color': '1DA1F2', 'profile_sidebar_border_color': 'C0DEED', 'profile_sidebar_fill_color': 'DDEEF6', 'profile_text_color': '333333', 'profile_use_background_image': True, 'has_extended_profile': False, 'default_profile': True, 'default_profile_image': False, 'can_media_tag': True, 'followed_by': False, 'following': False, 'follow_request_sent': False, 'notifications': False, 'translator_type': 'none', 'suspended': False, 'needs_phone_verification': False}, id=12085582, id_str='12085582', name='diegodl', screen_name='diegodl', location='', description='Datos, música y cualquier otra cosa. Profesor @TheBridge_Tech', url=None, entities={'description': {'urls': []}}, protected=False, followers_count=280, friends_count=543, listed_count=15, created_at=datetime.datetime(2008, 1, 10, 21, 2, 13), favourites_count=545, utc_offset=None, time_zone=None, geo_enabled=True, verified=False, statuses_count=2560, lang=None, status=Status(_api=<tweepy.api.API object at 0x1107dfcf8>, _json={'created_at': 'Sun Dec 15 21:00:25 +0000 2019', 'id': 1206318113580564483, 'id_str': '1206318113580564483', 'text': 'RT @joaquinmencia: https://t.co/McGcsE9RWr', 'truncated': False, 'entities': {'hashtags': [], 'symbols': [], 'user_mentions': [{'screen_name': 'joaquinmencia', 'name': 'J.', 'id': 14460582, 'id_str': '14460582', 'indices': [3, 17]}], 'urls': [], 'media': [{'id': 1205895342312632322, 'id_str': '1205895342312632322', 'indices': [19, 42], 'media_url': 'http://pbs.twimg.com/ext_tw_video_thumb/1205895342312632322/pu/img/34MiOCP6G7LYBQDQ.jpg', 'media_url_https': 'https://pbs.twimg.com/ext_tw_video_thumb/1205895342312632322/pu/img/34MiOCP6G7LYBQDQ.jpg', 'url': 'https://t.co/McGcsE9RWr', 'display_url': 'pic.twitter.com/McGcsE9RWr', 'expanded_url': 'https://twitter.com/crookedmedia/status/1205895531840593920/video/1', 'type': 'photo', 'sizes': {'thumb': {'w': 150, 'h': 150, 'resize': 'crop'}, 'medium': {'w': 1200, 'h': 675, 'resize': 'fit'}, 'small': {'w': 680, 'h': 383, 'resize': 'fit'}, 'large': {'w': 1280, 'h': 720, 'resize': 'fit'}}, 'source_status_id': 1205895531840593920, 'source_status_id_str': '1205895531840593920', 'source_user_id': 804015436979277824, 'source_user_id_str': '804015436979277824', 'features': {}}]}, 'extended_entities': {'media': [{'id': 1205895342312632322, 'id_str': '1205895342312632322', 'indices': [19, 42], 'media_url': 'http://pbs.twimg.com/ext_tw_video_thumb/1205895342312632322/pu/img/34MiOCP6G7LYBQDQ.jpg', 'media_url_https': 'https://pbs.twimg.com/ext_tw_video_thumb/1205895342312632322/pu/img/34MiOCP6G7LYBQDQ.jpg', 'url': 'https://t.co/McGcsE9RWr', 'display_url': 'pic.twitter.com/McGcsE9RWr', 'expanded_url': 'https://twitter.com/crookedmedia/status/1205895531840593920/video/1', 'type': 'video', 'sizes': {'thumb': {'w': 150, 'h': 150, 'resize': 'crop'}, 'medium': {'w': 1200, 'h': 675, 'resize': 'fit'}, 'small': {'w': 680, 'h': 383, 'resize': 'fit'}, 'large': {'w': 1280, 'h': 720, 'resize': 'fit'}}, 'source_status_id': 1205895531840593920, 'source_status_id_str': '1205895531840593920', 'source_user_id': 804015436979277824, 'source_user_id_str': '804015436979277824', 'video_info': {'aspect_ratio': [16, 9], 'duration_millis': 98557, 'variants': [{'bitrate': 832000, 'content_type': 'video/mp4', 'url': 'https://video.twimg.com/ext_tw_video/1205895342312632322/pu/vid/640x360/yXxu75rz4_L-H0oM.mp4?tag=10'}, {'content_type': 'application/x-mpegURL', 'url': 'https://video.twimg.com/ext_tw_video/1205895342312632322/pu/pl/t4IPo1yBqIcdmpE_.m3u8?tag=10'}, {'bitrate': 256000, 'content_type': 'video/mp4', 'url': 'https://video.twimg.com/ext_tw_video/1205895342312632322/pu/vid/480x270/oL-ntNB_t22D8Fqo.mp4?tag=10'}, {'bitrate': 2176000, 'content_type': 'video/mp4', 'url': 'https://video.twimg.com/ext_tw_video/1205895342312632322/pu/vid/1280x720/a_9UHVH_mPZlmLrB.mp4?tag=10'}]}, 'features': {}, 'additional_media_info': {'monetizable': False}}]}, 'source': '<a href=\"https://mobile.twitter.com\" rel=\"nofollow\">Twitter Web App</a>', 'in_reply_to_status_id': None, 'in_reply_to_status_id_str': None, 'in_reply_to_user_id': None, 'in_reply_to_user_id_str': None, 'in_reply_to_screen_name': None, 'geo': None, 'coordinates': None, 'place': None, 'contributors': None, 'retweeted_status': {'created_at': 'Sun Dec 15 20:57:05 +0000 2019', 'id': 1206317276988952580, 'id_str': '1206317276988952580', 'text': 'https://t.co/McGcsE9RWr', 'truncated': False, 'entities': {'hashtags': [], 'symbols': [], 'user_mentions': [], 'urls': [], 'media': [{'id': 1205895342312632322, 'id_str': '1205895342312632322', 'indices': [0, 23], 'media_url': 'http://pbs.twimg.com/ext_tw_video_thumb/1205895342312632322/pu/img/34MiOCP6G7LYBQDQ.jpg', 'media_url_https': 'https://pbs.twimg.com/ext_tw_video_thumb/1205895342312632322/pu/img/34MiOCP6G7LYBQDQ.jpg', 'url': 'https://t.co/McGcsE9RWr', 'display_url': 'pic.twitter.com/McGcsE9RWr', 'expanded_url': 'https://twitter.com/crookedmedia/status/1205895531840593920/video/1', 'type': 'photo', 'sizes': {'thumb': {'w': 150, 'h': 150, 'resize': 'crop'}, 'medium': {'w': 1200, 'h': 675, 'resize': 'fit'}, 'small': {'w': 680, 'h': 383, 'resize': 'fit'}, 'large': {'w': 1280, 'h': 720, 'resize': 'fit'}}, 'source_status_id': 1205895531840593920, 'source_status_id_str': '1205895531840593920', 'source_user_id': 804015436979277824, 'source_user_id_str': '804015436979277824', 'features': {}}]}, 'extended_entities': {'media': [{'id': 1205895342312632322, 'id_str': '1205895342312632322', 'indices': [0, 23], 'media_url': 'http://pbs.twimg.com/ext_tw_video_thumb/1205895342312632322/pu/img/34MiOCP6G7LYBQDQ.jpg', 'media_url_https': 'https://pbs.twimg.com/ext_tw_video_thumb/1205895342312632322/pu/img/34MiOCP6G7LYBQDQ.jpg', 'url': 'https://t.co/McGcsE9RWr', 'display_url': 'pic.twitter.com/McGcsE9RWr', 'expanded_url': 'https://twitter.com/crookedmedia/status/1205895531840593920/video/1', 'type': 'video', 'sizes': {'thumb': {'w': 150, 'h': 150, 'resize': 'crop'}, 'medium': {'w': 1200, 'h': 675, 'resize': 'fit'}, 'small': {'w': 680, 'h': 383, 'resize': 'fit'}, 'large': {'w': 1280, 'h': 720, 'resize': 'fit'}}, 'source_status_id': 1205895531840593920, 'source_status_id_str': '1205895531840593920', 'source_user_id': 804015436979277824, 'source_user_id_str': '804015436979277824', 'video_info': {'aspect_ratio': [16, 9], 'duration_millis': 98557, 'variants': [{'bitrate': 832000, 'content_type': 'video/mp4', 'url': 'https://video.twimg.com/ext_tw_video/1205895342312632322/pu/vid/640x360/yXxu75rz4_L-H0oM.mp4?tag=10'}, {'content_type': 'application/x-mpegURL', 'url': 'https://video.twimg.com/ext_tw_video/1205895342312632322/pu/pl/t4IPo1yBqIcdmpE_.m3u8?tag=10'}, {'bitrate': 256000, 'content_type': 'video/mp4', 'url': 'https://video.twimg.com/ext_tw_video/1205895342312632322/pu/vid/480x270/oL-ntNB_t22D8Fqo.mp4?tag=10'}, {'bitrate': 2176000, 'content_type': 'video/mp4', 'url': 'https://video.twimg.com/ext_tw_video/1205895342312632322/pu/vid/1280x720/a_9UHVH_mPZlmLrB.mp4?tag=10'}]}, 'features': {}, 'additional_media_info': {'monetizable': False}}]}, 'source': '<a href=\"http://twitter.com/download/iphone\" rel=\"nofollow\">Twitter for iPhone</a>', 'in_reply_to_status_id': None, 'in_reply_to_status_id_str': None, 'in_reply_to_user_id': None, 'in_reply_to_user_id_str': None, 'in_reply_to_screen_name': None, 'geo': None, 'coordinates': None, 'place': None, 'contributors': None, 'is_quote_status': False, 'retweet_count': 1, 'favorite_count': 2, 'favorited': False, 'retweeted': True, 'possibly_sensitive': False, 'lang': 'und'}, 'is_quote_status': False, 'retweet_count': 1, 'favorite_count': 0, 'favorited': False, 'retweeted': True, 'possibly_sensitive': False, 'lang': 'und'}, created_at=datetime.datetime(2019, 12, 15, 21, 0, 25), id=1206318113580564483, id_str='1206318113580564483', text='RT @joaquinmencia: https://t.co/McGcsE9RWr', truncated=False, entities={'hashtags': [], 'symbols': [], 'user_mentions': [{'screen_name': 'joaquinmencia', 'name': 'J.', 'id': 14460582, 'id_str': '14460582', 'indices': [3, 17]}], 'urls': [], 'media': [{'id': 1205895342312632322, 'id_str': '1205895342312632322', 'indices': [19, 42], 'media_url': 'http://pbs.twimg.com/ext_tw_video_thumb/1205895342312632322/pu/img/34MiOCP6G7LYBQDQ.jpg', 'media_url_https': 'https://pbs.twimg.com/ext_tw_video_thumb/1205895342312632322/pu/img/34MiOCP6G7LYBQDQ.jpg', 'url': 'https://t.co/McGcsE9RWr', 'display_url': 'pic.twitter.com/McGcsE9RWr', 'expanded_url': 'https://twitter.com/crookedmedia/status/1205895531840593920/video/1', 'type': 'photo', 'sizes': {'thumb': {'w': 150, 'h': 150, 'resize': 'crop'}, 'medium': {'w': 1200, 'h': 675, 'resize': 'fit'}, 'small': {'w': 680, 'h': 383, 'resize': 'fit'}, 'large': {'w': 1280, 'h': 720, 'resize': 'fit'}}, 'source_status_id': 1205895531840593920, 'source_status_id_str': '1205895531840593920', 'source_user_id': 804015436979277824, 'source_user_id_str': '804015436979277824', 'features': {}}]}, extended_entities={'media': [{'id': 1205895342312632322, 'id_str': '1205895342312632322', 'indices': [19, 42], 'media_url': 'http://pbs.twimg.com/ext_tw_video_thumb/1205895342312632322/pu/img/34MiOCP6G7LYBQDQ.jpg', 'media_url_https': 'https://pbs.twimg.com/ext_tw_video_thumb/1205895342312632322/pu/img/34MiOCP6G7LYBQDQ.jpg', 'url': 'https://t.co/McGcsE9RWr', 'display_url': 'pic.twitter.com/McGcsE9RWr', 'expanded_url': 'https://twitter.com/crookedmedia/status/1205895531840593920/video/1', 'type': 'video', 'sizes': {'thumb': {'w': 150, 'h': 150, 'resize': 'crop'}, 'medium': {'w': 1200, 'h': 675, 'resize': 'fit'}, 'small': {'w': 680, 'h': 383, 'resize': 'fit'}, 'large': {'w': 1280, 'h': 720, 'resize': 'fit'}}, 'source_status_id': 1205895531840593920, 'source_status_id_str': '1205895531840593920', 'source_user_id': 804015436979277824, 'source_user_id_str': '804015436979277824', 'video_info': {'aspect_ratio': [16, 9], 'duration_millis': 98557, 'variants': [{'bitrate': 832000, 'content_type': 'video/mp4', 'url': 'https://video.twimg.com/ext_tw_video/1205895342312632322/pu/vid/640x360/yXxu75rz4_L-H0oM.mp4?tag=10'}, {'content_type': 'application/x-mpegURL', 'url': 'https://video.twimg.com/ext_tw_video/1205895342312632322/pu/pl/t4IPo1yBqIcdmpE_.m3u8?tag=10'}, {'bitrate': 256000, 'content_type': 'video/mp4', 'url': 'https://video.twimg.com/ext_tw_video/1205895342312632322/pu/vid/480x270/oL-ntNB_t22D8Fqo.mp4?tag=10'}, {'bitrate': 2176000, 'content_type': 'video/mp4', 'url': 'https://video.twimg.com/ext_tw_video/1205895342312632322/pu/vid/1280x720/a_9UHVH_mPZlmLrB.mp4?tag=10'}]}, 'features': {}, 'additional_media_info': {'monetizable': False}}]}, source='Twitter Web App', source_url='https://mobile.twitter.com', in_reply_to_status_id=None, in_reply_to_status_id_str=None, in_reply_to_user_id=None, in_reply_to_user_id_str=None, in_reply_to_screen_name=None, geo=None, coordinates=None, place=None, contributors=None, retweeted_status=Status(_api=<tweepy.api.API object at 0x1107dfcf8>, _json={'created_at': 'Sun Dec 15 20:57:05 +0000 2019', 'id': 1206317276988952580, 'id_str': '1206317276988952580', 'text': 'https://t.co/McGcsE9RWr', 'truncated': False, 'entities': {'hashtags': [], 'symbols': [], 'user_mentions': [], 'urls': [], 'media': [{'id': 1205895342312632322, 'id_str': '1205895342312632322', 'indices': [0, 23], 'media_url': 'http://pbs.twimg.com/ext_tw_video_thumb/1205895342312632322/pu/img/34MiOCP6G7LYBQDQ.jpg', 'media_url_https': 'https://pbs.twimg.com/ext_tw_video_thumb/1205895342312632322/pu/img/34MiOCP6G7LYBQDQ.jpg', 'url': 'https://t.co/McGcsE9RWr', 'display_url': 'pic.twitter.com/McGcsE9RWr', 'expanded_url': 'https://twitter.com/crookedmedia/status/1205895531840593920/video/1', 'type': 'photo', 'sizes': {'thumb': {'w': 150, 'h': 150, 'resize': 'crop'}, 'medium': {'w': 1200, 'h': 675, 'resize': 'fit'}, 'small': {'w': 680, 'h': 383, 'resize': 'fit'}, 'large': {'w': 1280, 'h': 720, 'resize': 'fit'}}, 'source_status_id': 1205895531840593920, 'source_status_id_str': '1205895531840593920', 'source_user_id': 804015436979277824, 'source_user_id_str': '804015436979277824', 'features': {}}]}, 'extended_entities': {'media': [{'id': 1205895342312632322, 'id_str': '1205895342312632322', 'indices': [0, 23], 'media_url': 'http://pbs.twimg.com/ext_tw_video_thumb/1205895342312632322/pu/img/34MiOCP6G7LYBQDQ.jpg', 'media_url_https': 'https://pbs.twimg.com/ext_tw_video_thumb/1205895342312632322/pu/img/34MiOCP6G7LYBQDQ.jpg', 'url': 'https://t.co/McGcsE9RWr', 'display_url': 'pic.twitter.com/McGcsE9RWr', 'expanded_url': 'https://twitter.com/crookedmedia/status/1205895531840593920/video/1', 'type': 'video', 'sizes': {'thumb': {'w': 150, 'h': 150, 'resize': 'crop'}, 'medium': {'w': 1200, 'h': 675, 'resize': 'fit'}, 'small': {'w': 680, 'h': 383, 'resize': 'fit'}, 'large': {'w': 1280, 'h': 720, 'resize': 'fit'}}, 'source_status_id': 1205895531840593920, 'source_status_id_str': '1205895531840593920', 'source_user_id': 804015436979277824, 'source_user_id_str': '804015436979277824', 'video_info': {'aspect_ratio': [16, 9], 'duration_millis': 98557, 'variants': [{'bitrate': 832000, 'content_type': 'video/mp4', 'url': 'https://video.twimg.com/ext_tw_video/1205895342312632322/pu/vid/640x360/yXxu75rz4_L-H0oM.mp4?tag=10'}, {'content_type': 'application/x-mpegURL', 'url': 'https://video.twimg.com/ext_tw_video/1205895342312632322/pu/pl/t4IPo1yBqIcdmpE_.m3u8?tag=10'}, {'bitrate': 256000, 'content_type': 'video/mp4', 'url': 'https://video.twimg.com/ext_tw_video/1205895342312632322/pu/vid/480x270/oL-ntNB_t22D8Fqo.mp4?tag=10'}, {'bitrate': 2176000, 'content_type': 'video/mp4', 'url': 'https://video.twimg.com/ext_tw_video/1205895342312632322/pu/vid/1280x720/a_9UHVH_mPZlmLrB.mp4?tag=10'}]}, 'features': {}, 'additional_media_info': {'monetizable': False}}]}, 'source': '<a href=\"http://twitter.com/download/iphone\" rel=\"nofollow\">Twitter for iPhone</a>', 'in_reply_to_status_id': None, 'in_reply_to_status_id_str': None, 'in_reply_to_user_id': None, 'in_reply_to_user_id_str': None, 'in_reply_to_screen_name': None, 'geo': None, 'coordinates': None, 'place': None, 'contributors': None, 'is_quote_status': False, 'retweet_count': 1, 'favorite_count': 2, 'favorited': False, 'retweeted': True, 'possibly_sensitive': False, 'lang': 'und'}, created_at=datetime.datetime(2019, 12, 15, 20, 57, 5), id=1206317276988952580, id_str='1206317276988952580', text='https://t.co/McGcsE9RWr', truncated=False, entities={'hashtags': [], 'symbols': [], 'user_mentions': [], 'urls': [], 'media': [{'id': 1205895342312632322, 'id_str': '1205895342312632322', 'indices': [0, 23], 'media_url': 'http://pbs.twimg.com/ext_tw_video_thumb/1205895342312632322/pu/img/34MiOCP6G7LYBQDQ.jpg', 'media_url_https': 'https://pbs.twimg.com/ext_tw_video_thumb/1205895342312632322/pu/img/34MiOCP6G7LYBQDQ.jpg', 'url': 'https://t.co/McGcsE9RWr', 'display_url': 'pic.twitter.com/McGcsE9RWr', 'expanded_url': 'https://twitter.com/crookedmedia/status/1205895531840593920/video/1', 'type': 'photo', 'sizes': {'thumb': {'w': 150, 'h': 150, 'resize': 'crop'}, 'medium': {'w': 1200, 'h': 675, 'resize': 'fit'}, 'small': {'w': 680, 'h': 383, 'resize': 'fit'}, 'large': {'w': 1280, 'h': 720, 'resize': 'fit'}}, 'source_status_id': 1205895531840593920, 'source_status_id_str': '1205895531840593920', 'source_user_id': 804015436979277824, 'source_user_id_str': '804015436979277824', 'features': {}}]}, extended_entities={'media': [{'id': 1205895342312632322, 'id_str': '1205895342312632322', 'indices': [0, 23], 'media_url': 'http://pbs.twimg.com/ext_tw_video_thumb/1205895342312632322/pu/img/34MiOCP6G7LYBQDQ.jpg', 'media_url_https': 'https://pbs.twimg.com/ext_tw_video_thumb/1205895342312632322/pu/img/34MiOCP6G7LYBQDQ.jpg', 'url': 'https://t.co/McGcsE9RWr', 'display_url': 'pic.twitter.com/McGcsE9RWr', 'expanded_url': 'https://twitter.com/crookedmedia/status/1205895531840593920/video/1', 'type': 'video', 'sizes': {'thumb': {'w': 150, 'h': 150, 'resize': 'crop'}, 'medium': {'w': 1200, 'h': 675, 'resize': 'fit'}, 'small': {'w': 680, 'h': 383, 'resize': 'fit'}, 'large': {'w': 1280, 'h': 720, 'resize': 'fit'}}, 'source_status_id': 1205895531840593920, 'source_status_id_str': '1205895531840593920', 'source_user_id': 804015436979277824, 'source_user_id_str': '804015436979277824', 'video_info': {'aspect_ratio': [16, 9], 'duration_millis': 98557, 'variants': [{'bitrate': 832000, 'content_type': 'video/mp4', 'url': 'https://video.twimg.com/ext_tw_video/1205895342312632322/pu/vid/640x360/yXxu75rz4_L-H0oM.mp4?tag=10'}, {'content_type': 'application/x-mpegURL', 'url': 'https://video.twimg.com/ext_tw_video/1205895342312632322/pu/pl/t4IPo1yBqIcdmpE_.m3u8?tag=10'}, {'bitrate': 256000, 'content_type': 'video/mp4', 'url': 'https://video.twimg.com/ext_tw_video/1205895342312632322/pu/vid/480x270/oL-ntNB_t22D8Fqo.mp4?tag=10'}, {'bitrate': 2176000, 'content_type': 'video/mp4', 'url': 'https://video.twimg.com/ext_tw_video/1205895342312632322/pu/vid/1280x720/a_9UHVH_mPZlmLrB.mp4?tag=10'}]}, 'features': {}, 'additional_media_info': {'monetizable': False}}]}, source='Twitter for iPhone', source_url='http://twitter.com/download/iphone', in_reply_to_status_id=None, in_reply_to_status_id_str=None, in_reply_to_user_id=None, in_reply_to_user_id_str=None, in_reply_to_screen_name=None, geo=None, coordinates=None, place=None, contributors=None, is_quote_status=False, retweet_count=1, favorite_count=2, favorited=False, retweeted=True, possibly_sensitive=False, lang='und'), is_quote_status=False, retweet_count=1, favorite_count=0, favorited=False, retweeted=True, possibly_sensitive=False, lang='und'), contributors_enabled=False, is_translator=False, is_translation_enabled=False, profile_background_color='C0DEED', profile_background_image_url='http://abs.twimg.com/images/themes/theme1/bg.png', profile_background_image_url_https='https://abs.twimg.com/images/themes/theme1/bg.png', profile_background_tile=False, profile_image_url='http://pbs.twimg.com/profile_images/427227927/profile_normal.JPG', profile_image_url_https='https://pbs.twimg.com/profile_images/427227927/profile_normal.JPG', profile_link_color='1DA1F2', profile_sidebar_border_color='C0DEED', profile_sidebar_fill_color='DDEEF6', profile_text_color='333333', profile_use_background_image=True, has_extended_profile=False, default_profile=True, default_profile_image=False, can_media_tag=True, followed_by=False, following=False, follow_request_sent=False, notifications=False, translator_type='none', suspended=False, needs_phone_verification=False)"
            ]
          },
          "metadata": {
            "tags": []
          },
          "execution_count": 9
        }
      ]
    },
    {
      "cell_type": "markdown",
      "metadata": {
        "id": "mRWHTCKzcznM"
      },
      "source": [
        "4. Abrir un fichero csv en modo append e incluir una busqueda por un hastag "
      ]
    },
    {
      "cell_type": "code",
      "metadata": {
        "id": "cRkPFjKtcznM"
      },
      "source": [
        "csvFile = open('cop25.csv', 'a')\n",
        "#Use csv Writer\n",
        "csvWriter = csv.writer(csvFile)\n",
        "\n",
        "for tweet in tweepy.Cursor(api.search,q=\"#cop25\",count=5000,\n",
        "                           lang=\"en\",\n",
        "                           since=\"2019-10-12\").items():\n",
        "    print (tweet.created_at, tweet.text)\n",
        "    csvWriter.writerow([tweet.created_at, tweet.text.encode('utf-8')])"
      ],
      "execution_count": null,
      "outputs": []
    },
    {
      "cell_type": "code",
      "metadata": {
        "id": "-lWoypYicznP"
      },
      "source": [
        "csvFile = open('final_balonmano.csv', 'a')\n",
        "#Use csv Writer\n",
        "csvWriter = csv.writer(csvFile)\n",
        "\n",
        "for tweet in tweepy.Cursor(api.search,q=\"#GuerrerasTVE\",count=5000,\n",
        "                           lang=\"es\",\n",
        "                           since=\"2019-10-12\").items():\n",
        "    print (tweet.created_at, tweet.text)\n",
        "    csvWriter.writerow([tweet.created_at, tweet.text.encode('utf-8')])"
      ],
      "execution_count": null,
      "outputs": []
    }
  ]
}