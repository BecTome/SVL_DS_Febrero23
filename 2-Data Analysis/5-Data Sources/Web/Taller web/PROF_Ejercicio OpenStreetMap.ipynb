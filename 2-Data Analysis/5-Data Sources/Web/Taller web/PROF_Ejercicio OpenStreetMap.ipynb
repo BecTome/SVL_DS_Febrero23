{
 "cells": [
  {
   "cell_type": "markdown",
   "metadata": {},
   "source": [
    "# Ejercicio OpenStreetMap\n",
    "Para este ejercicio vas a trabar con Overpass, que es la API que utiliza los datos de OpenStreetMap. Tras obtener datos geográficos mediante la API, tendrás que representarlos con Plotly.\n",
    "\n",
    "Hay que obtener los siguientes datos de cada ubicación conseguida en OpenStreetMap\n",
    "* tipo de amenity\n",
    "* latitud\n",
    "* longitud\n",
    "* nombre\n",
    "* direccion\n",
    "\n",
    "**NOTA**: En este Notebook utilizarás gráficas de Plotly, y JupyterLab de momento no lo soporta, a no ser que instales una extensión. Para solucionar esto, abre el Notebook desde Jupyter normal:\n",
    "\n",
    "![imagen](./img/jupyter.png)\n",
    "\n",
    "Tienes en [este enlace](https://wiki.openstreetmap.org/wiki/Key:amenity#Healthcare) la lista de *amenities* que vas a usar en el notebook."
   ]
  },
  {
   "cell_type": "markdown",
   "metadata": {},
   "source": [
    "## Instalación\n",
    "Si no tienes instalado Plotly, abre un terminal y escribe:\n",
    "```\n",
    "pip install plotly\n",
    "```\n",
    "\n",
    "Importa las librerias que vamos a usar en el Notebook"
   ]
  },
  {
   "cell_type": "code",
   "execution_count": 49,
   "metadata": {},
   "outputs": [],
   "source": [
    "import requests\n",
    "import json\n",
    "import pandas as pd"
   ]
  },
  {
   "cell_type": "markdown",
   "metadata": {},
   "source": [
    "Ataca a la API de OpenStreetmap con el siguiente código de ejemplo"
   ]
  },
  {
   "cell_type": "code",
   "execution_count": 74,
   "metadata": {},
   "outputs": [
    {
     "name": "stdout",
     "output_type": "stream",
     "text": [
      "<Response [200]>\n"
     ]
    }
   ],
   "source": [
    "overpass_url = \"http://overpass-api.de/api/interpreter\"\n",
    "overpass_query = \"\"\"\n",
    "[out:json];\n",
    "node[\"amenity\"=\"ice_cream\"]\n",
    "  (40.420801, -3.694702,40.423754, -3.688167); \n",
    "out;\n",
    "\"\"\"\n",
    "response = requests.get(overpass_url, \n",
    "                        params={'data': overpass_query})\n",
    "print(response)\n",
    "data = response.json()"
   ]
  },
  {
   "cell_type": "markdown",
   "metadata": {},
   "source": [
    "Con el siguiente código podrás adaptar el JSON que devuelve la API, a un formato DataFrame más amigable"
   ]
  },
  {
   "cell_type": "code",
   "execution_count": 110,
   "metadata": {},
   "outputs": [],
   "source": [
    "def json_to_df(data):\n",
    "    elements = data['elements']\n",
    "    places = {'tipo': [], 'lat': [], 'lon': [], 'name': [], 'address': []}\n",
    "    \n",
    "    for i in elements:\n",
    "        \n",
    "        tipo = i.get('tags', None).get('amenity', None)\n",
    "        latitude = i.get('lat', None)\n",
    "        longitude = i.get('lon', None)\n",
    "        name = i.get('tags', {}).get('name', \"NO NAME\")\n",
    "        street = i.get('tags', {}).get('addr:street', \"NO STREET\")\n",
    "        number = i.get('tags', {}).get('addr:housenumber', 9999)\n",
    "\n",
    "        places['tipo'].append(tipo)\n",
    "        places['lat'].append(latitude)\n",
    "        places['lon'].append(longitude)\n",
    "        places['name'].append(name)\n",
    "        places['address'].append(street + ' ' + str(number))\n",
    "\n",
    "            \n",
    "    return pd.DataFrame(places)"
   ]
  },
  {
   "cell_type": "markdown",
   "metadata": {},
   "source": [
    "Utilizarás esta función para representar los datos en un mapa de Matplotlib"
   ]
  },
  {
   "cell_type": "code",
   "execution_count": 76,
   "metadata": {},
   "outputs": [],
   "source": [
    "import plotly.express as px\n",
    "\n",
    "mapbox_access_token = \"pk.eyJ1IjoiZGFvcnRpIiwiYSI6ImNrZnF6M3FlczA3cDEyem16YTNzZmV4M2EifQ.846iF0sMSAXv0kwkwUTYjg\"\n",
    "\n",
    "def pinta_mapa(df):\n",
    "    fig = px.scatter_mapbox(df,\n",
    "                            lat=\"lat\",\n",
    "                            lon=\"lon\",\n",
    "                            color = \"tipo\",\n",
    "                      color_continuous_scale=px.colors.cyclical.IceFire, size_max=15, zoom=11)\n",
    "    fig.update_layout(\n",
    "        mapbox=dict(\n",
    "            accesstoken=mapbox_access_token\n",
    "        )\n",
    "    )\n",
    "\n",
    "    fig.show()"
   ]
  },
  {
   "cell_type": "markdown",
   "metadata": {},
   "source": [
    "Como ejemplo, si quiero ver cuántos restaurantes tengo cerca de The Bridge:"
   ]
  },
  {
   "cell_type": "code",
   "execution_count": 85,
   "metadata": {},
   "outputs": [
    {
     "name": "stdout",
     "output_type": "stream",
     "text": [
      "<Response [200]>\n"
     ]
    },
    {
     "data": {
      "text/html": [
       "<div>\n",
       "<style scoped>\n",
       "    .dataframe tbody tr th:only-of-type {\n",
       "        vertical-align: middle;\n",
       "    }\n",
       "\n",
       "    .dataframe tbody tr th {\n",
       "        vertical-align: top;\n",
       "    }\n",
       "\n",
       "    .dataframe thead th {\n",
       "        text-align: right;\n",
       "    }\n",
       "</style>\n",
       "<table border=\"1\" class=\"dataframe\">\n",
       "  <thead>\n",
       "    <tr style=\"text-align: right;\">\n",
       "      <th></th>\n",
       "      <th>tipo</th>\n",
       "      <th>lat</th>\n",
       "      <th>lon</th>\n",
       "      <th>name</th>\n",
       "      <th>address</th>\n",
       "    </tr>\n",
       "  </thead>\n",
       "  <tbody>\n",
       "    <tr>\n",
       "      <th>0</th>\n",
       "      <td>restaurant</td>\n",
       "      <td>40.423086</td>\n",
       "      <td>-3.693547</td>\n",
       "      <td>La Castafiore</td>\n",
       "      <td>NO STREET 9999</td>\n",
       "    </tr>\n",
       "    <tr>\n",
       "      <th>1</th>\n",
       "      <td>restaurant</td>\n",
       "      <td>40.422607</td>\n",
       "      <td>-3.693256</td>\n",
       "      <td>Sake Dining Himawari</td>\n",
       "      <td>NO STREET 9999</td>\n",
       "    </tr>\n",
       "    <tr>\n",
       "      <th>2</th>\n",
       "      <td>restaurant</td>\n",
       "      <td>40.423315</td>\n",
       "      <td>-3.692506</td>\n",
       "      <td>Ainhoa</td>\n",
       "      <td>Calle de Doña Bárbara de Braganza 12</td>\n",
       "    </tr>\n",
       "    <tr>\n",
       "      <th>3</th>\n",
       "      <td>restaurant</td>\n",
       "      <td>40.421960</td>\n",
       "      <td>-3.694270</td>\n",
       "      <td>La Kitchen</td>\n",
       "      <td>NO STREET 9999</td>\n",
       "    </tr>\n",
       "    <tr>\n",
       "      <th>4</th>\n",
       "      <td>restaurant</td>\n",
       "      <td>40.421956</td>\n",
       "      <td>-3.693905</td>\n",
       "      <td>En La Gloria</td>\n",
       "      <td>Calle de Prim 9</td>\n",
       "    </tr>\n",
       "    <tr>\n",
       "      <th>5</th>\n",
       "      <td>restaurant</td>\n",
       "      <td>40.423695</td>\n",
       "      <td>-3.691651</td>\n",
       "      <td>Café Espejo</td>\n",
       "      <td>NO STREET 9999</td>\n",
       "    </tr>\n",
       "    <tr>\n",
       "      <th>6</th>\n",
       "      <td>restaurant</td>\n",
       "      <td>40.421951</td>\n",
       "      <td>-3.693535</td>\n",
       "      <td>Tampu</td>\n",
       "      <td>Calle de Prim 13</td>\n",
       "    </tr>\n",
       "    <tr>\n",
       "      <th>7</th>\n",
       "      <td>restaurant</td>\n",
       "      <td>40.422266</td>\n",
       "      <td>-3.694097</td>\n",
       "      <td>Casa Gades</td>\n",
       "      <td>Calle del Conde de Xiquena 4</td>\n",
       "    </tr>\n",
       "    <tr>\n",
       "      <th>8</th>\n",
       "      <td>restaurant</td>\n",
       "      <td>40.423151</td>\n",
       "      <td>-3.694062</td>\n",
       "      <td>El Cano de Xiquena</td>\n",
       "      <td>NO STREET 9999</td>\n",
       "    </tr>\n",
       "    <tr>\n",
       "      <th>9</th>\n",
       "      <td>restaurant</td>\n",
       "      <td>40.423345</td>\n",
       "      <td>-3.692632</td>\n",
       "      <td>El Gato Persa</td>\n",
       "      <td>Calle de Doña Bárbara de Braganza 10</td>\n",
       "    </tr>\n",
       "    <tr>\n",
       "      <th>10</th>\n",
       "      <td>restaurant</td>\n",
       "      <td>40.422441</td>\n",
       "      <td>-3.694220</td>\n",
       "      <td>Cannibal Raw Bar</td>\n",
       "      <td>Calle del Almirante 12</td>\n",
       "    </tr>\n",
       "    <tr>\n",
       "      <th>11</th>\n",
       "      <td>restaurant</td>\n",
       "      <td>40.422395</td>\n",
       "      <td>-3.691137</td>\n",
       "      <td>MasQMenos</td>\n",
       "      <td>NO STREET 9999</td>\n",
       "    </tr>\n",
       "    <tr>\n",
       "      <th>12</th>\n",
       "      <td>restaurant</td>\n",
       "      <td>40.421872</td>\n",
       "      <td>-3.690240</td>\n",
       "      <td>Banzai</td>\n",
       "      <td>NO STREET 9999</td>\n",
       "    </tr>\n",
       "    <tr>\n",
       "      <th>13</th>\n",
       "      <td>restaurant</td>\n",
       "      <td>40.421130</td>\n",
       "      <td>-3.689796</td>\n",
       "      <td>dokidoki</td>\n",
       "      <td>NO STREET 9999</td>\n",
       "    </tr>\n",
       "    <tr>\n",
       "      <th>14</th>\n",
       "      <td>restaurant</td>\n",
       "      <td>40.423600</td>\n",
       "      <td>-3.693725</td>\n",
       "      <td>Luke</td>\n",
       "      <td>Calle de Doña Bárbara de Braganza 2</td>\n",
       "    </tr>\n",
       "    <tr>\n",
       "      <th>15</th>\n",
       "      <td>restaurant</td>\n",
       "      <td>40.422141</td>\n",
       "      <td>-3.690864</td>\n",
       "      <td>Thai Garden 2112</td>\n",
       "      <td>Calle de Recoletos 4</td>\n",
       "    </tr>\n",
       "    <tr>\n",
       "      <th>16</th>\n",
       "      <td>restaurant</td>\n",
       "      <td>40.422379</td>\n",
       "      <td>-3.689518</td>\n",
       "      <td>Flavia</td>\n",
       "      <td>Calle de Gil de Santivañes 2</td>\n",
       "    </tr>\n",
       "    <tr>\n",
       "      <th>17</th>\n",
       "      <td>restaurant</td>\n",
       "      <td>40.422151</td>\n",
       "      <td>-3.690570</td>\n",
       "      <td>Al-Mounia</td>\n",
       "      <td>NO STREET 9999</td>\n",
       "    </tr>\n",
       "    <tr>\n",
       "      <th>18</th>\n",
       "      <td>restaurant</td>\n",
       "      <td>40.422777</td>\n",
       "      <td>-3.689781</td>\n",
       "      <td>SQD Meat Point</td>\n",
       "      <td>Calle de Villanueva 2</td>\n",
       "    </tr>\n",
       "    <tr>\n",
       "      <th>19</th>\n",
       "      <td>restaurant</td>\n",
       "      <td>40.422991</td>\n",
       "      <td>-3.693652</td>\n",
       "      <td>Noteolvides</td>\n",
       "      <td>Calle del Marqués de Monasterio 6</td>\n",
       "    </tr>\n",
       "    <tr>\n",
       "      <th>20</th>\n",
       "      <td>restaurant</td>\n",
       "      <td>40.422255</td>\n",
       "      <td>-3.694251</td>\n",
       "      <td>Merci</td>\n",
       "      <td>Calle del Conde de Xiquena 3</td>\n",
       "    </tr>\n",
       "    <tr>\n",
       "      <th>21</th>\n",
       "      <td>restaurant</td>\n",
       "      <td>40.422576</td>\n",
       "      <td>-3.694493</td>\n",
       "      <td>Mortadella</td>\n",
       "      <td>Calle del Almirante 11</td>\n",
       "    </tr>\n",
       "    <tr>\n",
       "      <th>22</th>\n",
       "      <td>restaurant</td>\n",
       "      <td>40.422081</td>\n",
       "      <td>-3.690748</td>\n",
       "      <td>New York Burger</td>\n",
       "      <td>Calle de Recoletos 4</td>\n",
       "    </tr>\n",
       "    <tr>\n",
       "      <th>23</th>\n",
       "      <td>restaurant</td>\n",
       "      <td>40.421821</td>\n",
       "      <td>-3.689824</td>\n",
       "      <td>Mestizo</td>\n",
       "      <td>Calle de Recoletos 13</td>\n",
       "    </tr>\n",
       "    <tr>\n",
       "      <th>24</th>\n",
       "      <td>restaurant</td>\n",
       "      <td>40.420818</td>\n",
       "      <td>-3.688803</td>\n",
       "      <td>Sushi Shop</td>\n",
       "      <td>Calle de Serrano 1</td>\n",
       "    </tr>\n",
       "    <tr>\n",
       "      <th>25</th>\n",
       "      <td>restaurant</td>\n",
       "      <td>40.422809</td>\n",
       "      <td>-3.694127</td>\n",
       "      <td>Restaurante la Buena Vida</td>\n",
       "      <td>NO STREET 9999</td>\n",
       "    </tr>\n",
       "    <tr>\n",
       "      <th>26</th>\n",
       "      <td>restaurant</td>\n",
       "      <td>40.422426</td>\n",
       "      <td>-3.693418</td>\n",
       "      <td>Delirant</td>\n",
       "      <td>Calle del Almirante 20</td>\n",
       "    </tr>\n",
       "    <tr>\n",
       "      <th>27</th>\n",
       "      <td>restaurant</td>\n",
       "      <td>40.422211</td>\n",
       "      <td>-3.690702</td>\n",
       "      <td>Pelotari</td>\n",
       "      <td>NO STREET 9999</td>\n",
       "    </tr>\n",
       "    <tr>\n",
       "      <th>28</th>\n",
       "      <td>restaurant</td>\n",
       "      <td>40.422235</td>\n",
       "      <td>-3.690743</td>\n",
       "      <td>El Pelotari</td>\n",
       "      <td>NO STREET 9999</td>\n",
       "    </tr>\n",
       "  </tbody>\n",
       "</table>\n",
       "</div>"
      ],
      "text/plain": [
       "          tipo        lat       lon                       name  \\\n",
       "0   restaurant  40.423086 -3.693547              La Castafiore   \n",
       "1   restaurant  40.422607 -3.693256       Sake Dining Himawari   \n",
       "2   restaurant  40.423315 -3.692506                     Ainhoa   \n",
       "3   restaurant  40.421960 -3.694270                 La Kitchen   \n",
       "4   restaurant  40.421956 -3.693905               En La Gloria   \n",
       "5   restaurant  40.423695 -3.691651                Café Espejo   \n",
       "6   restaurant  40.421951 -3.693535                      Tampu   \n",
       "7   restaurant  40.422266 -3.694097                 Casa Gades   \n",
       "8   restaurant  40.423151 -3.694062         El Cano de Xiquena   \n",
       "9   restaurant  40.423345 -3.692632              El Gato Persa   \n",
       "10  restaurant  40.422441 -3.694220           Cannibal Raw Bar   \n",
       "11  restaurant  40.422395 -3.691137                  MasQMenos   \n",
       "12  restaurant  40.421872 -3.690240                     Banzai   \n",
       "13  restaurant  40.421130 -3.689796                   dokidoki   \n",
       "14  restaurant  40.423600 -3.693725                       Luke   \n",
       "15  restaurant  40.422141 -3.690864           Thai Garden 2112   \n",
       "16  restaurant  40.422379 -3.689518                     Flavia   \n",
       "17  restaurant  40.422151 -3.690570                  Al-Mounia   \n",
       "18  restaurant  40.422777 -3.689781             SQD Meat Point   \n",
       "19  restaurant  40.422991 -3.693652                Noteolvides   \n",
       "20  restaurant  40.422255 -3.694251                      Merci   \n",
       "21  restaurant  40.422576 -3.694493                 Mortadella   \n",
       "22  restaurant  40.422081 -3.690748            New York Burger   \n",
       "23  restaurant  40.421821 -3.689824                    Mestizo   \n",
       "24  restaurant  40.420818 -3.688803                 Sushi Shop   \n",
       "25  restaurant  40.422809 -3.694127  Restaurante la Buena Vida   \n",
       "26  restaurant  40.422426 -3.693418                   Delirant   \n",
       "27  restaurant  40.422211 -3.690702                   Pelotari   \n",
       "28  restaurant  40.422235 -3.690743                El Pelotari   \n",
       "\n",
       "                                 address  \n",
       "0                         NO STREET 9999  \n",
       "1                         NO STREET 9999  \n",
       "2   Calle de Doña Bárbara de Braganza 12  \n",
       "3                         NO STREET 9999  \n",
       "4                        Calle de Prim 9  \n",
       "5                         NO STREET 9999  \n",
       "6                       Calle de Prim 13  \n",
       "7           Calle del Conde de Xiquena 4  \n",
       "8                         NO STREET 9999  \n",
       "9   Calle de Doña Bárbara de Braganza 10  \n",
       "10                Calle del Almirante 12  \n",
       "11                        NO STREET 9999  \n",
       "12                        NO STREET 9999  \n",
       "13                        NO STREET 9999  \n",
       "14   Calle de Doña Bárbara de Braganza 2  \n",
       "15                  Calle de Recoletos 4  \n",
       "16          Calle de Gil de Santivañes 2  \n",
       "17                        NO STREET 9999  \n",
       "18                 Calle de Villanueva 2  \n",
       "19     Calle del Marqués de Monasterio 6  \n",
       "20          Calle del Conde de Xiquena 3  \n",
       "21                Calle del Almirante 11  \n",
       "22                  Calle de Recoletos 4  \n",
       "23                 Calle de Recoletos 13  \n",
       "24                    Calle de Serrano 1  \n",
       "25                        NO STREET 9999  \n",
       "26                Calle del Almirante 20  \n",
       "27                        NO STREET 9999  \n",
       "28                        NO STREET 9999  "
      ]
     },
     "execution_count": 85,
     "metadata": {},
     "output_type": "execute_result"
    }
   ],
   "source": [
    "overpass_url = \"http://overpass-api.de/api/interpreter\"\n",
    "overpass_query = \"\"\"\n",
    "[out:json];\n",
    "node[\"amenity\"=\"restaurant\"]\n",
    "  (40.420801, -3.694702,40.423754, -3.688167); \n",
    "out;\n",
    "\"\"\"\n",
    "response = requests.get(overpass_url, \n",
    "                        params={'data': overpass_query})\n",
    "print(response)\n",
    "data = response.json()\n",
    "df = json_to_df(data)\n",
    "df"
   ]
  },
  {
   "cell_type": "code",
   "execution_count": 86,
   "metadata": {},
   "outputs": [
    {
     "data": {
      "application/vnd.plotly.v1+json": {
       "config": {
        "plotlyServerURL": "https://plot.ly"
       },
       "data": [
        {
         "hovertemplate": "tipo=restaurant<br>lat=%{lat}<br>lon=%{lon}<extra></extra>",
         "lat": [
          40.4230858,
          40.4226068,
          40.4233148,
          40.4219603,
          40.4219559,
          40.4236949,
          40.4219515,
          40.422266,
          40.4231514,
          40.4233452,
          40.4224409,
          40.422395,
          40.4218723,
          40.4211297,
          40.4236005,
          40.4221408,
          40.4223791,
          40.4221513,
          40.4227772,
          40.4229908,
          40.4222548,
          40.422576,
          40.4220813,
          40.4218211,
          40.4208179,
          40.422809,
          40.422426,
          40.422211,
          40.4222351
         ],
         "legendgroup": "restaurant",
         "lon": [
          -3.6935468,
          -3.6932565,
          -3.6925055,
          -3.6942702,
          -3.6939049,
          -3.6916509,
          -3.6935347,
          -3.694097,
          -3.6940615,
          -3.6926318,
          -3.6942202,
          -3.6911375,
          -3.6902405,
          -3.6897958,
          -3.6937246,
          -3.6908645,
          -3.6895175,
          -3.6905695,
          -3.6897814,
          -3.6936524,
          -3.6942512,
          -3.694493,
          -3.6907483,
          -3.6898244,
          -3.6888032,
          -3.6941271,
          -3.6934185,
          -3.6907019,
          -3.6907431
         ],
         "marker": {
          "color": "#636efa"
         },
         "mode": "markers",
         "name": "restaurant",
         "showlegend": true,
         "subplot": "mapbox",
         "type": "scattermapbox"
        }
       ],
       "layout": {
        "legend": {
         "title": {
          "text": "tipo"
         },
         "tracegroupgap": 0
        },
        "mapbox": {
         "accesstoken": "pk.eyJ1IjoiZGFvcnRpIiwiYSI6ImNrZnF6M3FlczA3cDEyem16YTNzZmV4M2EifQ.846iF0sMSAXv0kwkwUTYjg",
         "center": {
          "lat": 40.422429048275866,
          "lon": -3.692209462068965
         },
         "domain": {
          "x": [
           0,
           1
          ],
          "y": [
           0,
           1
          ]
         },
         "zoom": 11
        },
        "margin": {
         "t": 60
        },
        "template": {
         "data": {
          "bar": [
           {
            "error_x": {
             "color": "#2a3f5f"
            },
            "error_y": {
             "color": "#2a3f5f"
            },
            "marker": {
             "line": {
              "color": "#E5ECF6",
              "width": 0.5
             }
            },
            "type": "bar"
           }
          ],
          "barpolar": [
           {
            "marker": {
             "line": {
              "color": "#E5ECF6",
              "width": 0.5
             }
            },
            "type": "barpolar"
           }
          ],
          "carpet": [
           {
            "aaxis": {
             "endlinecolor": "#2a3f5f",
             "gridcolor": "white",
             "linecolor": "white",
             "minorgridcolor": "white",
             "startlinecolor": "#2a3f5f"
            },
            "baxis": {
             "endlinecolor": "#2a3f5f",
             "gridcolor": "white",
             "linecolor": "white",
             "minorgridcolor": "white",
             "startlinecolor": "#2a3f5f"
            },
            "type": "carpet"
           }
          ],
          "choropleth": [
           {
            "colorbar": {
             "outlinewidth": 0,
             "ticks": ""
            },
            "type": "choropleth"
           }
          ],
          "contour": [
           {
            "colorbar": {
             "outlinewidth": 0,
             "ticks": ""
            },
            "colorscale": [
             [
              0,
              "#0d0887"
             ],
             [
              0.1111111111111111,
              "#46039f"
             ],
             [
              0.2222222222222222,
              "#7201a8"
             ],
             [
              0.3333333333333333,
              "#9c179e"
             ],
             [
              0.4444444444444444,
              "#bd3786"
             ],
             [
              0.5555555555555556,
              "#d8576b"
             ],
             [
              0.6666666666666666,
              "#ed7953"
             ],
             [
              0.7777777777777778,
              "#fb9f3a"
             ],
             [
              0.8888888888888888,
              "#fdca26"
             ],
             [
              1,
              "#f0f921"
             ]
            ],
            "type": "contour"
           }
          ],
          "contourcarpet": [
           {
            "colorbar": {
             "outlinewidth": 0,
             "ticks": ""
            },
            "type": "contourcarpet"
           }
          ],
          "heatmap": [
           {
            "colorbar": {
             "outlinewidth": 0,
             "ticks": ""
            },
            "colorscale": [
             [
              0,
              "#0d0887"
             ],
             [
              0.1111111111111111,
              "#46039f"
             ],
             [
              0.2222222222222222,
              "#7201a8"
             ],
             [
              0.3333333333333333,
              "#9c179e"
             ],
             [
              0.4444444444444444,
              "#bd3786"
             ],
             [
              0.5555555555555556,
              "#d8576b"
             ],
             [
              0.6666666666666666,
              "#ed7953"
             ],
             [
              0.7777777777777778,
              "#fb9f3a"
             ],
             [
              0.8888888888888888,
              "#fdca26"
             ],
             [
              1,
              "#f0f921"
             ]
            ],
            "type": "heatmap"
           }
          ],
          "heatmapgl": [
           {
            "colorbar": {
             "outlinewidth": 0,
             "ticks": ""
            },
            "colorscale": [
             [
              0,
              "#0d0887"
             ],
             [
              0.1111111111111111,
              "#46039f"
             ],
             [
              0.2222222222222222,
              "#7201a8"
             ],
             [
              0.3333333333333333,
              "#9c179e"
             ],
             [
              0.4444444444444444,
              "#bd3786"
             ],
             [
              0.5555555555555556,
              "#d8576b"
             ],
             [
              0.6666666666666666,
              "#ed7953"
             ],
             [
              0.7777777777777778,
              "#fb9f3a"
             ],
             [
              0.8888888888888888,
              "#fdca26"
             ],
             [
              1,
              "#f0f921"
             ]
            ],
            "type": "heatmapgl"
           }
          ],
          "histogram": [
           {
            "marker": {
             "colorbar": {
              "outlinewidth": 0,
              "ticks": ""
             }
            },
            "type": "histogram"
           }
          ],
          "histogram2d": [
           {
            "colorbar": {
             "outlinewidth": 0,
             "ticks": ""
            },
            "colorscale": [
             [
              0,
              "#0d0887"
             ],
             [
              0.1111111111111111,
              "#46039f"
             ],
             [
              0.2222222222222222,
              "#7201a8"
             ],
             [
              0.3333333333333333,
              "#9c179e"
             ],
             [
              0.4444444444444444,
              "#bd3786"
             ],
             [
              0.5555555555555556,
              "#d8576b"
             ],
             [
              0.6666666666666666,
              "#ed7953"
             ],
             [
              0.7777777777777778,
              "#fb9f3a"
             ],
             [
              0.8888888888888888,
              "#fdca26"
             ],
             [
              1,
              "#f0f921"
             ]
            ],
            "type": "histogram2d"
           }
          ],
          "histogram2dcontour": [
           {
            "colorbar": {
             "outlinewidth": 0,
             "ticks": ""
            },
            "colorscale": [
             [
              0,
              "#0d0887"
             ],
             [
              0.1111111111111111,
              "#46039f"
             ],
             [
              0.2222222222222222,
              "#7201a8"
             ],
             [
              0.3333333333333333,
              "#9c179e"
             ],
             [
              0.4444444444444444,
              "#bd3786"
             ],
             [
              0.5555555555555556,
              "#d8576b"
             ],
             [
              0.6666666666666666,
              "#ed7953"
             ],
             [
              0.7777777777777778,
              "#fb9f3a"
             ],
             [
              0.8888888888888888,
              "#fdca26"
             ],
             [
              1,
              "#f0f921"
             ]
            ],
            "type": "histogram2dcontour"
           }
          ],
          "mesh3d": [
           {
            "colorbar": {
             "outlinewidth": 0,
             "ticks": ""
            },
            "type": "mesh3d"
           }
          ],
          "parcoords": [
           {
            "line": {
             "colorbar": {
              "outlinewidth": 0,
              "ticks": ""
             }
            },
            "type": "parcoords"
           }
          ],
          "pie": [
           {
            "automargin": true,
            "type": "pie"
           }
          ],
          "scatter": [
           {
            "marker": {
             "colorbar": {
              "outlinewidth": 0,
              "ticks": ""
             }
            },
            "type": "scatter"
           }
          ],
          "scatter3d": [
           {
            "line": {
             "colorbar": {
              "outlinewidth": 0,
              "ticks": ""
             }
            },
            "marker": {
             "colorbar": {
              "outlinewidth": 0,
              "ticks": ""
             }
            },
            "type": "scatter3d"
           }
          ],
          "scattercarpet": [
           {
            "marker": {
             "colorbar": {
              "outlinewidth": 0,
              "ticks": ""
             }
            },
            "type": "scattercarpet"
           }
          ],
          "scattergeo": [
           {
            "marker": {
             "colorbar": {
              "outlinewidth": 0,
              "ticks": ""
             }
            },
            "type": "scattergeo"
           }
          ],
          "scattergl": [
           {
            "marker": {
             "colorbar": {
              "outlinewidth": 0,
              "ticks": ""
             }
            },
            "type": "scattergl"
           }
          ],
          "scattermapbox": [
           {
            "marker": {
             "colorbar": {
              "outlinewidth": 0,
              "ticks": ""
             }
            },
            "type": "scattermapbox"
           }
          ],
          "scatterpolar": [
           {
            "marker": {
             "colorbar": {
              "outlinewidth": 0,
              "ticks": ""
             }
            },
            "type": "scatterpolar"
           }
          ],
          "scatterpolargl": [
           {
            "marker": {
             "colorbar": {
              "outlinewidth": 0,
              "ticks": ""
             }
            },
            "type": "scatterpolargl"
           }
          ],
          "scatterternary": [
           {
            "marker": {
             "colorbar": {
              "outlinewidth": 0,
              "ticks": ""
             }
            },
            "type": "scatterternary"
           }
          ],
          "surface": [
           {
            "colorbar": {
             "outlinewidth": 0,
             "ticks": ""
            },
            "colorscale": [
             [
              0,
              "#0d0887"
             ],
             [
              0.1111111111111111,
              "#46039f"
             ],
             [
              0.2222222222222222,
              "#7201a8"
             ],
             [
              0.3333333333333333,
              "#9c179e"
             ],
             [
              0.4444444444444444,
              "#bd3786"
             ],
             [
              0.5555555555555556,
              "#d8576b"
             ],
             [
              0.6666666666666666,
              "#ed7953"
             ],
             [
              0.7777777777777778,
              "#fb9f3a"
             ],
             [
              0.8888888888888888,
              "#fdca26"
             ],
             [
              1,
              "#f0f921"
             ]
            ],
            "type": "surface"
           }
          ],
          "table": [
           {
            "cells": {
             "fill": {
              "color": "#EBF0F8"
             },
             "line": {
              "color": "white"
             }
            },
            "header": {
             "fill": {
              "color": "#C8D4E3"
             },
             "line": {
              "color": "white"
             }
            },
            "type": "table"
           }
          ]
         },
         "layout": {
          "annotationdefaults": {
           "arrowcolor": "#2a3f5f",
           "arrowhead": 0,
           "arrowwidth": 1
          },
          "coloraxis": {
           "colorbar": {
            "outlinewidth": 0,
            "ticks": ""
           }
          },
          "colorscale": {
           "diverging": [
            [
             0,
             "#8e0152"
            ],
            [
             0.1,
             "#c51b7d"
            ],
            [
             0.2,
             "#de77ae"
            ],
            [
             0.3,
             "#f1b6da"
            ],
            [
             0.4,
             "#fde0ef"
            ],
            [
             0.5,
             "#f7f7f7"
            ],
            [
             0.6,
             "#e6f5d0"
            ],
            [
             0.7,
             "#b8e186"
            ],
            [
             0.8,
             "#7fbc41"
            ],
            [
             0.9,
             "#4d9221"
            ],
            [
             1,
             "#276419"
            ]
           ],
           "sequential": [
            [
             0,
             "#0d0887"
            ],
            [
             0.1111111111111111,
             "#46039f"
            ],
            [
             0.2222222222222222,
             "#7201a8"
            ],
            [
             0.3333333333333333,
             "#9c179e"
            ],
            [
             0.4444444444444444,
             "#bd3786"
            ],
            [
             0.5555555555555556,
             "#d8576b"
            ],
            [
             0.6666666666666666,
             "#ed7953"
            ],
            [
             0.7777777777777778,
             "#fb9f3a"
            ],
            [
             0.8888888888888888,
             "#fdca26"
            ],
            [
             1,
             "#f0f921"
            ]
           ],
           "sequentialminus": [
            [
             0,
             "#0d0887"
            ],
            [
             0.1111111111111111,
             "#46039f"
            ],
            [
             0.2222222222222222,
             "#7201a8"
            ],
            [
             0.3333333333333333,
             "#9c179e"
            ],
            [
             0.4444444444444444,
             "#bd3786"
            ],
            [
             0.5555555555555556,
             "#d8576b"
            ],
            [
             0.6666666666666666,
             "#ed7953"
            ],
            [
             0.7777777777777778,
             "#fb9f3a"
            ],
            [
             0.8888888888888888,
             "#fdca26"
            ],
            [
             1,
             "#f0f921"
            ]
           ]
          },
          "colorway": [
           "#636efa",
           "#EF553B",
           "#00cc96",
           "#ab63fa",
           "#FFA15A",
           "#19d3f3",
           "#FF6692",
           "#B6E880",
           "#FF97FF",
           "#FECB52"
          ],
          "font": {
           "color": "#2a3f5f"
          },
          "geo": {
           "bgcolor": "white",
           "lakecolor": "white",
           "landcolor": "#E5ECF6",
           "showlakes": true,
           "showland": true,
           "subunitcolor": "white"
          },
          "hoverlabel": {
           "align": "left"
          },
          "hovermode": "closest",
          "mapbox": {
           "style": "light"
          },
          "paper_bgcolor": "white",
          "plot_bgcolor": "#E5ECF6",
          "polar": {
           "angularaxis": {
            "gridcolor": "white",
            "linecolor": "white",
            "ticks": ""
           },
           "bgcolor": "#E5ECF6",
           "radialaxis": {
            "gridcolor": "white",
            "linecolor": "white",
            "ticks": ""
           }
          },
          "scene": {
           "xaxis": {
            "backgroundcolor": "#E5ECF6",
            "gridcolor": "white",
            "gridwidth": 2,
            "linecolor": "white",
            "showbackground": true,
            "ticks": "",
            "zerolinecolor": "white"
           },
           "yaxis": {
            "backgroundcolor": "#E5ECF6",
            "gridcolor": "white",
            "gridwidth": 2,
            "linecolor": "white",
            "showbackground": true,
            "ticks": "",
            "zerolinecolor": "white"
           },
           "zaxis": {
            "backgroundcolor": "#E5ECF6",
            "gridcolor": "white",
            "gridwidth": 2,
            "linecolor": "white",
            "showbackground": true,
            "ticks": "",
            "zerolinecolor": "white"
           }
          },
          "shapedefaults": {
           "line": {
            "color": "#2a3f5f"
           }
          },
          "ternary": {
           "aaxis": {
            "gridcolor": "white",
            "linecolor": "white",
            "ticks": ""
           },
           "baxis": {
            "gridcolor": "white",
            "linecolor": "white",
            "ticks": ""
           },
           "bgcolor": "#E5ECF6",
           "caxis": {
            "gridcolor": "white",
            "linecolor": "white",
            "ticks": ""
           }
          },
          "title": {
           "x": 0.05
          },
          "xaxis": {
           "automargin": true,
           "gridcolor": "white",
           "linecolor": "white",
           "ticks": "",
           "title": {
            "standoff": 15
           },
           "zerolinecolor": "white",
           "zerolinewidth": 2
          },
          "yaxis": {
           "automargin": true,
           "gridcolor": "white",
           "linecolor": "white",
           "ticks": "",
           "title": {
            "standoff": 15
           },
           "zerolinecolor": "white",
           "zerolinewidth": 2
          }
         }
        }
       }
      },
      "text/html": [
       "<div>                            <div id=\"5c01223c-fbb1-4e13-adb6-bddc005f4a70\" class=\"plotly-graph-div\" style=\"height:525px; width:100%;\"></div>            <script type=\"text/javascript\">                require([\"plotly\"], function(Plotly) {                    window.PLOTLYENV=window.PLOTLYENV || {};                                    if (document.getElementById(\"5c01223c-fbb1-4e13-adb6-bddc005f4a70\")) {                    Plotly.newPlot(                        \"5c01223c-fbb1-4e13-adb6-bddc005f4a70\",                        [{\"hovertemplate\": \"tipo=restaurant<br>lat=%{lat}<br>lon=%{lon}<extra></extra>\", \"lat\": [40.4230858, 40.4226068, 40.4233148, 40.4219603, 40.4219559, 40.4236949, 40.4219515, 40.422266, 40.4231514, 40.4233452, 40.4224409, 40.422395, 40.4218723, 40.4211297, 40.4236005, 40.4221408, 40.4223791, 40.4221513, 40.4227772, 40.4229908, 40.4222548, 40.422576, 40.4220813, 40.4218211, 40.4208179, 40.422809, 40.422426, 40.422211, 40.4222351], \"legendgroup\": \"restaurant\", \"lon\": [-3.6935468, -3.6932565, -3.6925055, -3.6942702, -3.6939049, -3.6916509, -3.6935347, -3.694097, -3.6940615, -3.6926318, -3.6942202, -3.6911375, -3.6902405, -3.6897958, -3.6937246, -3.6908645, -3.6895175, -3.6905695, -3.6897814, -3.6936524, -3.6942512, -3.694493, -3.6907483, -3.6898244, -3.6888032, -3.6941271, -3.6934185, -3.6907019, -3.6907431], \"marker\": {\"color\": \"#636efa\"}, \"mode\": \"markers\", \"name\": \"restaurant\", \"showlegend\": true, \"subplot\": \"mapbox\", \"type\": \"scattermapbox\"}],                        {\"legend\": {\"title\": {\"text\": \"tipo\"}, \"tracegroupgap\": 0}, \"mapbox\": {\"accesstoken\": \"pk.eyJ1IjoiZGFvcnRpIiwiYSI6ImNrZnF6M3FlczA3cDEyem16YTNzZmV4M2EifQ.846iF0sMSAXv0kwkwUTYjg\", \"center\": {\"lat\": 40.422429048275866, \"lon\": -3.692209462068965}, \"domain\": {\"x\": [0.0, 1.0], \"y\": [0.0, 1.0]}, \"zoom\": 11}, \"margin\": {\"t\": 60}, \"template\": {\"data\": {\"bar\": [{\"error_x\": {\"color\": \"#2a3f5f\"}, \"error_y\": {\"color\": \"#2a3f5f\"}, \"marker\": {\"line\": {\"color\": \"#E5ECF6\", \"width\": 0.5}}, \"type\": \"bar\"}], \"barpolar\": [{\"marker\": {\"line\": {\"color\": \"#E5ECF6\", \"width\": 0.5}}, \"type\": \"barpolar\"}], \"carpet\": [{\"aaxis\": {\"endlinecolor\": \"#2a3f5f\", \"gridcolor\": \"white\", \"linecolor\": \"white\", \"minorgridcolor\": \"white\", \"startlinecolor\": \"#2a3f5f\"}, \"baxis\": {\"endlinecolor\": \"#2a3f5f\", \"gridcolor\": \"white\", \"linecolor\": \"white\", \"minorgridcolor\": \"white\", \"startlinecolor\": \"#2a3f5f\"}, \"type\": \"carpet\"}], \"choropleth\": [{\"colorbar\": {\"outlinewidth\": 0, \"ticks\": \"\"}, \"type\": \"choropleth\"}], \"contour\": [{\"colorbar\": {\"outlinewidth\": 0, \"ticks\": \"\"}, \"colorscale\": [[0.0, \"#0d0887\"], [0.1111111111111111, \"#46039f\"], [0.2222222222222222, \"#7201a8\"], [0.3333333333333333, \"#9c179e\"], [0.4444444444444444, \"#bd3786\"], [0.5555555555555556, \"#d8576b\"], [0.6666666666666666, \"#ed7953\"], [0.7777777777777778, \"#fb9f3a\"], [0.8888888888888888, \"#fdca26\"], [1.0, \"#f0f921\"]], \"type\": \"contour\"}], \"contourcarpet\": [{\"colorbar\": {\"outlinewidth\": 0, \"ticks\": \"\"}, \"type\": \"contourcarpet\"}], \"heatmap\": [{\"colorbar\": {\"outlinewidth\": 0, \"ticks\": \"\"}, \"colorscale\": [[0.0, \"#0d0887\"], [0.1111111111111111, \"#46039f\"], [0.2222222222222222, \"#7201a8\"], [0.3333333333333333, \"#9c179e\"], [0.4444444444444444, \"#bd3786\"], [0.5555555555555556, \"#d8576b\"], [0.6666666666666666, \"#ed7953\"], [0.7777777777777778, \"#fb9f3a\"], [0.8888888888888888, \"#fdca26\"], [1.0, \"#f0f921\"]], \"type\": \"heatmap\"}], \"heatmapgl\": [{\"colorbar\": {\"outlinewidth\": 0, \"ticks\": \"\"}, \"colorscale\": [[0.0, \"#0d0887\"], [0.1111111111111111, \"#46039f\"], [0.2222222222222222, \"#7201a8\"], [0.3333333333333333, \"#9c179e\"], [0.4444444444444444, \"#bd3786\"], [0.5555555555555556, \"#d8576b\"], [0.6666666666666666, \"#ed7953\"], [0.7777777777777778, \"#fb9f3a\"], [0.8888888888888888, \"#fdca26\"], [1.0, \"#f0f921\"]], \"type\": \"heatmapgl\"}], \"histogram\": [{\"marker\": {\"colorbar\": {\"outlinewidth\": 0, \"ticks\": \"\"}}, \"type\": \"histogram\"}], \"histogram2d\": [{\"colorbar\": {\"outlinewidth\": 0, \"ticks\": \"\"}, \"colorscale\": [[0.0, \"#0d0887\"], [0.1111111111111111, \"#46039f\"], [0.2222222222222222, \"#7201a8\"], [0.3333333333333333, \"#9c179e\"], [0.4444444444444444, \"#bd3786\"], [0.5555555555555556, \"#d8576b\"], [0.6666666666666666, \"#ed7953\"], [0.7777777777777778, \"#fb9f3a\"], [0.8888888888888888, \"#fdca26\"], [1.0, \"#f0f921\"]], \"type\": \"histogram2d\"}], \"histogram2dcontour\": [{\"colorbar\": {\"outlinewidth\": 0, \"ticks\": \"\"}, \"colorscale\": [[0.0, \"#0d0887\"], [0.1111111111111111, \"#46039f\"], [0.2222222222222222, \"#7201a8\"], [0.3333333333333333, \"#9c179e\"], [0.4444444444444444, \"#bd3786\"], [0.5555555555555556, \"#d8576b\"], [0.6666666666666666, \"#ed7953\"], [0.7777777777777778, \"#fb9f3a\"], [0.8888888888888888, \"#fdca26\"], [1.0, \"#f0f921\"]], \"type\": \"histogram2dcontour\"}], \"mesh3d\": [{\"colorbar\": {\"outlinewidth\": 0, \"ticks\": \"\"}, \"type\": \"mesh3d\"}], \"parcoords\": [{\"line\": {\"colorbar\": {\"outlinewidth\": 0, \"ticks\": \"\"}}, \"type\": \"parcoords\"}], \"pie\": [{\"automargin\": true, \"type\": \"pie\"}], \"scatter\": [{\"marker\": {\"colorbar\": {\"outlinewidth\": 0, \"ticks\": \"\"}}, \"type\": \"scatter\"}], \"scatter3d\": [{\"line\": {\"colorbar\": {\"outlinewidth\": 0, \"ticks\": \"\"}}, \"marker\": {\"colorbar\": {\"outlinewidth\": 0, \"ticks\": \"\"}}, \"type\": \"scatter3d\"}], \"scattercarpet\": [{\"marker\": {\"colorbar\": {\"outlinewidth\": 0, \"ticks\": \"\"}}, \"type\": \"scattercarpet\"}], \"scattergeo\": [{\"marker\": {\"colorbar\": {\"outlinewidth\": 0, \"ticks\": \"\"}}, \"type\": \"scattergeo\"}], \"scattergl\": [{\"marker\": {\"colorbar\": {\"outlinewidth\": 0, \"ticks\": \"\"}}, \"type\": \"scattergl\"}], \"scattermapbox\": [{\"marker\": {\"colorbar\": {\"outlinewidth\": 0, \"ticks\": \"\"}}, \"type\": \"scattermapbox\"}], \"scatterpolar\": [{\"marker\": {\"colorbar\": {\"outlinewidth\": 0, \"ticks\": \"\"}}, \"type\": \"scatterpolar\"}], \"scatterpolargl\": [{\"marker\": {\"colorbar\": {\"outlinewidth\": 0, \"ticks\": \"\"}}, \"type\": \"scatterpolargl\"}], \"scatterternary\": [{\"marker\": {\"colorbar\": {\"outlinewidth\": 0, \"ticks\": \"\"}}, \"type\": \"scatterternary\"}], \"surface\": [{\"colorbar\": {\"outlinewidth\": 0, \"ticks\": \"\"}, \"colorscale\": [[0.0, \"#0d0887\"], [0.1111111111111111, \"#46039f\"], [0.2222222222222222, \"#7201a8\"], [0.3333333333333333, \"#9c179e\"], [0.4444444444444444, \"#bd3786\"], [0.5555555555555556, \"#d8576b\"], [0.6666666666666666, \"#ed7953\"], [0.7777777777777778, \"#fb9f3a\"], [0.8888888888888888, \"#fdca26\"], [1.0, \"#f0f921\"]], \"type\": \"surface\"}], \"table\": [{\"cells\": {\"fill\": {\"color\": \"#EBF0F8\"}, \"line\": {\"color\": \"white\"}}, \"header\": {\"fill\": {\"color\": \"#C8D4E3\"}, \"line\": {\"color\": \"white\"}}, \"type\": \"table\"}]}, \"layout\": {\"annotationdefaults\": {\"arrowcolor\": \"#2a3f5f\", \"arrowhead\": 0, \"arrowwidth\": 1}, \"coloraxis\": {\"colorbar\": {\"outlinewidth\": 0, \"ticks\": \"\"}}, \"colorscale\": {\"diverging\": [[0, \"#8e0152\"], [0.1, \"#c51b7d\"], [0.2, \"#de77ae\"], [0.3, \"#f1b6da\"], [0.4, \"#fde0ef\"], [0.5, \"#f7f7f7\"], [0.6, \"#e6f5d0\"], [0.7, \"#b8e186\"], [0.8, \"#7fbc41\"], [0.9, \"#4d9221\"], [1, \"#276419\"]], \"sequential\": [[0.0, \"#0d0887\"], [0.1111111111111111, \"#46039f\"], [0.2222222222222222, \"#7201a8\"], [0.3333333333333333, \"#9c179e\"], [0.4444444444444444, \"#bd3786\"], [0.5555555555555556, \"#d8576b\"], [0.6666666666666666, \"#ed7953\"], [0.7777777777777778, \"#fb9f3a\"], [0.8888888888888888, \"#fdca26\"], [1.0, \"#f0f921\"]], \"sequentialminus\": [[0.0, \"#0d0887\"], [0.1111111111111111, \"#46039f\"], [0.2222222222222222, \"#7201a8\"], [0.3333333333333333, \"#9c179e\"], [0.4444444444444444, \"#bd3786\"], [0.5555555555555556, \"#d8576b\"], [0.6666666666666666, \"#ed7953\"], [0.7777777777777778, \"#fb9f3a\"], [0.8888888888888888, \"#fdca26\"], [1.0, \"#f0f921\"]]}, \"colorway\": [\"#636efa\", \"#EF553B\", \"#00cc96\", \"#ab63fa\", \"#FFA15A\", \"#19d3f3\", \"#FF6692\", \"#B6E880\", \"#FF97FF\", \"#FECB52\"], \"font\": {\"color\": \"#2a3f5f\"}, \"geo\": {\"bgcolor\": \"white\", \"lakecolor\": \"white\", \"landcolor\": \"#E5ECF6\", \"showlakes\": true, \"showland\": true, \"subunitcolor\": \"white\"}, \"hoverlabel\": {\"align\": \"left\"}, \"hovermode\": \"closest\", \"mapbox\": {\"style\": \"light\"}, \"paper_bgcolor\": \"white\", \"plot_bgcolor\": \"#E5ECF6\", \"polar\": {\"angularaxis\": {\"gridcolor\": \"white\", \"linecolor\": \"white\", \"ticks\": \"\"}, \"bgcolor\": \"#E5ECF6\", \"radialaxis\": {\"gridcolor\": \"white\", \"linecolor\": \"white\", \"ticks\": \"\"}}, \"scene\": {\"xaxis\": {\"backgroundcolor\": \"#E5ECF6\", \"gridcolor\": \"white\", \"gridwidth\": 2, \"linecolor\": \"white\", \"showbackground\": true, \"ticks\": \"\", \"zerolinecolor\": \"white\"}, \"yaxis\": {\"backgroundcolor\": \"#E5ECF6\", \"gridcolor\": \"white\", \"gridwidth\": 2, \"linecolor\": \"white\", \"showbackground\": true, \"ticks\": \"\", \"zerolinecolor\": \"white\"}, \"zaxis\": {\"backgroundcolor\": \"#E5ECF6\", \"gridcolor\": \"white\", \"gridwidth\": 2, \"linecolor\": \"white\", \"showbackground\": true, \"ticks\": \"\", \"zerolinecolor\": \"white\"}}, \"shapedefaults\": {\"line\": {\"color\": \"#2a3f5f\"}}, \"ternary\": {\"aaxis\": {\"gridcolor\": \"white\", \"linecolor\": \"white\", \"ticks\": \"\"}, \"baxis\": {\"gridcolor\": \"white\", \"linecolor\": \"white\", \"ticks\": \"\"}, \"bgcolor\": \"#E5ECF6\", \"caxis\": {\"gridcolor\": \"white\", \"linecolor\": \"white\", \"ticks\": \"\"}}, \"title\": {\"x\": 0.05}, \"xaxis\": {\"automargin\": true, \"gridcolor\": \"white\", \"linecolor\": \"white\", \"ticks\": \"\", \"title\": {\"standoff\": 15}, \"zerolinecolor\": \"white\", \"zerolinewidth\": 2}, \"yaxis\": {\"automargin\": true, \"gridcolor\": \"white\", \"linecolor\": \"white\", \"ticks\": \"\", \"title\": {\"standoff\": 15}, \"zerolinecolor\": \"white\", \"zerolinewidth\": 2}}}},                        {\"responsive\": true}                    ).then(function(){\n",
       "                            \n",
       "var gd = document.getElementById('5c01223c-fbb1-4e13-adb6-bddc005f4a70');\n",
       "var x = new MutationObserver(function (mutations, observer) {{\n",
       "        var display = window.getComputedStyle(gd).display;\n",
       "        if (!display || display === 'none') {{\n",
       "            console.log([gd, 'removed!']);\n",
       "            Plotly.purge(gd);\n",
       "            observer.disconnect();\n",
       "        }}\n",
       "}});\n",
       "\n",
       "// Listen for the removal of the full notebook cells\n",
       "var notebookContainer = gd.closest('#notebook-container');\n",
       "if (notebookContainer) {{\n",
       "    x.observe(notebookContainer, {childList: true});\n",
       "}}\n",
       "\n",
       "// Listen for the clearing of the current output cell\n",
       "var outputEl = gd.closest('.output');\n",
       "if (outputEl) {{\n",
       "    x.observe(outputEl, {childList: true});\n",
       "}}\n",
       "\n",
       "                        })                };                });            </script>        </div>"
      ]
     },
     "metadata": {},
     "output_type": "display_data"
    }
   ],
   "source": [
    "pinta_mapa(df)"
   ]
  },
  {
   "cell_type": "markdown",
   "metadata": {},
   "source": [
    "## Ejercicio 1\n",
    "### Búsqueda de aparcamiento\n",
    "Para este caso de uso imagina que vas a Madrid de viaje y estás buscando posibles parkings donde dejar el coche, crea un DataFrame con todos los parkings (de OpenStreetMap) de la ciudad de Madrid. Para ello define una cuadrícula con dos coordenadas sobre Madrid.\n",
    "\n",
    "Representa en un mapa los resultados"
   ]
  },
  {
   "cell_type": "code",
   "execution_count": 67,
   "metadata": {},
   "outputs": [
    {
     "name": "stdout",
     "output_type": "stream",
     "text": [
      "<Response [200]>\n"
     ]
    },
    {
     "data": {
      "text/html": [
       "<div>\n",
       "<style scoped>\n",
       "    .dataframe tbody tr th:only-of-type {\n",
       "        vertical-align: middle;\n",
       "    }\n",
       "\n",
       "    .dataframe tbody tr th {\n",
       "        vertical-align: top;\n",
       "    }\n",
       "\n",
       "    .dataframe thead th {\n",
       "        text-align: right;\n",
       "    }\n",
       "</style>\n",
       "<table border=\"1\" class=\"dataframe\">\n",
       "  <thead>\n",
       "    <tr style=\"text-align: right;\">\n",
       "      <th></th>\n",
       "      <th>tipo</th>\n",
       "      <th>lat</th>\n",
       "      <th>lon</th>\n",
       "      <th>name</th>\n",
       "      <th>address</th>\n",
       "    </tr>\n",
       "  </thead>\n",
       "  <tbody>\n",
       "    <tr>\n",
       "      <th>0</th>\n",
       "      <td>parking</td>\n",
       "      <td>40.426712</td>\n",
       "      <td>-3.714370</td>\n",
       "      <td>Princesa 25</td>\n",
       "      <td>NO STREET 9999</td>\n",
       "    </tr>\n",
       "    <tr>\n",
       "      <th>1</th>\n",
       "      <td>parking</td>\n",
       "      <td>40.414469</td>\n",
       "      <td>-3.703549</td>\n",
       "      <td>Parking Benavente</td>\n",
       "      <td>NO STREET 9999</td>\n",
       "    </tr>\n",
       "    <tr>\n",
       "      <th>2</th>\n",
       "      <td>parking</td>\n",
       "      <td>40.406444</td>\n",
       "      <td>-3.708171</td>\n",
       "      <td>None</td>\n",
       "      <td>NO STREET 9999</td>\n",
       "    </tr>\n",
       "    <tr>\n",
       "      <th>3</th>\n",
       "      <td>parking</td>\n",
       "      <td>40.424873</td>\n",
       "      <td>-3.709731</td>\n",
       "      <td>Garage REIM</td>\n",
       "      <td>NO STREET 9999</td>\n",
       "    </tr>\n",
       "    <tr>\n",
       "      <th>4</th>\n",
       "      <td>parking</td>\n",
       "      <td>40.416691</td>\n",
       "      <td>-3.709364</td>\n",
       "      <td>None</td>\n",
       "      <td>NO STREET 9999</td>\n",
       "    </tr>\n",
       "    <tr>\n",
       "      <th>...</th>\n",
       "      <td>...</td>\n",
       "      <td>...</td>\n",
       "      <td>...</td>\n",
       "      <td>...</td>\n",
       "      <td>...</td>\n",
       "    </tr>\n",
       "    <tr>\n",
       "      <th>247</th>\n",
       "      <td>parking</td>\n",
       "      <td>40.407682</td>\n",
       "      <td>-3.668754</td>\n",
       "      <td>None</td>\n",
       "      <td>NO STREET 9999</td>\n",
       "    </tr>\n",
       "    <tr>\n",
       "      <th>248</th>\n",
       "      <td>parking</td>\n",
       "      <td>40.407720</td>\n",
       "      <td>-3.667630</td>\n",
       "      <td>None</td>\n",
       "      <td>NO STREET 9999</td>\n",
       "    </tr>\n",
       "    <tr>\n",
       "      <th>249</th>\n",
       "      <td>parking</td>\n",
       "      <td>40.428078</td>\n",
       "      <td>-3.670952</td>\n",
       "      <td>None</td>\n",
       "      <td>NO STREET 9999</td>\n",
       "    </tr>\n",
       "    <tr>\n",
       "      <th>250</th>\n",
       "      <td>parking</td>\n",
       "      <td>40.407473</td>\n",
       "      <td>-3.639311</td>\n",
       "      <td>None</td>\n",
       "      <td>NO STREET 9999</td>\n",
       "    </tr>\n",
       "    <tr>\n",
       "      <th>251</th>\n",
       "      <td>parking</td>\n",
       "      <td>40.407044</td>\n",
       "      <td>-3.639156</td>\n",
       "      <td>None</td>\n",
       "      <td>NO STREET 9999</td>\n",
       "    </tr>\n",
       "  </tbody>\n",
       "</table>\n",
       "<p>252 rows × 5 columns</p>\n",
       "</div>"
      ],
      "text/plain": [
       "        tipo        lat       lon               name         address\n",
       "0    parking  40.426712 -3.714370        Princesa 25  NO STREET 9999\n",
       "1    parking  40.414469 -3.703549  Parking Benavente  NO STREET 9999\n",
       "2    parking  40.406444 -3.708171               None  NO STREET 9999\n",
       "3    parking  40.424873 -3.709731        Garage REIM  NO STREET 9999\n",
       "4    parking  40.416691 -3.709364               None  NO STREET 9999\n",
       "..       ...        ...       ...                ...             ...\n",
       "247  parking  40.407682 -3.668754               None  NO STREET 9999\n",
       "248  parking  40.407720 -3.667630               None  NO STREET 9999\n",
       "249  parking  40.428078 -3.670952               None  NO STREET 9999\n",
       "250  parking  40.407473 -3.639311               None  NO STREET 9999\n",
       "251  parking  40.407044 -3.639156               None  NO STREET 9999\n",
       "\n",
       "[252 rows x 5 columns]"
      ]
     },
     "execution_count": 67,
     "metadata": {},
     "output_type": "execute_result"
    }
   ],
   "source": [
    "overpass_query = \"\"\"\n",
    "[out:json];\n",
    "node[\"amenity\"=\"parking\"]\n",
    "  (40.396013, -3.746999, 40.480011, -3.625910); \n",
    "out;\n",
    "\"\"\"\n",
    "response = requests.get(overpass_url, \n",
    "                        params={'data': overpass_query})\n",
    "print(response)\n",
    "data = response.json()\n",
    "df = json_to_df(data)\n",
    "df"
   ]
  },
  {
   "cell_type": "code",
   "execution_count": 68,
   "metadata": {},
   "outputs": [
    {
     "data": {
      "application/vnd.plotly.v1+json": {
       "config": {
        "plotlyServerURL": "https://plot.ly"
       },
       "data": [
        {
         "hovertemplate": "tipo=parking<br>lat=%{lat}<br>lon=%{lon}<extra></extra>",
         "lat": [
          40.4267119,
          40.4144691,
          40.4064435,
          40.4248729,
          40.4166909,
          40.447447,
          40.4208663,
          40.425196,
          40.4181801,
          40.4254701,
          40.429999,
          40.4369215,
          40.4238355,
          40.4113632,
          40.4489118,
          40.4186092,
          40.4184039,
          40.4171049,
          40.414601,
          40.4151678,
          40.4616781,
          40.4213614,
          40.4228861,
          40.4251093,
          40.4249207,
          40.4159676,
          40.4182133,
          40.4235936,
          40.4704451,
          40.4070303,
          40.4438769,
          40.4146629,
          40.4372482,
          40.4313885,
          40.4572456,
          40.4737197,
          40.4296172,
          40.4443858,
          40.4392759,
          40.4215869,
          40.4232971,
          40.424383,
          40.4212208,
          40.426279,
          40.4281139,
          40.4237726,
          40.4302255,
          40.424334,
          40.4157019,
          40.4331999,
          40.4236326,
          40.4242164,
          40.4344682,
          40.4298584,
          40.4302749,
          40.4178386,
          40.4218833,
          40.4054695,
          40.4749383,
          40.4752941,
          40.4524541,
          40.4234469,
          40.4257537,
          40.4223326,
          40.4575187,
          40.4021464,
          40.4341725,
          40.4187841,
          40.3963102,
          40.4354542,
          40.4589254,
          40.4497032,
          40.4104738,
          40.4351473,
          40.40685,
          40.4286309,
          40.4082765,
          40.4110793,
          40.4089332,
          40.4575776,
          40.4579713,
          40.4226229,
          40.442213,
          40.3965405,
          40.4256169,
          40.4714418,
          40.4251733,
          40.4290523,
          40.429501,
          40.4306021,
          40.4298603,
          40.4219137,
          40.4051769,
          40.4553691,
          40.4125009,
          40.4199462,
          40.4116152,
          40.4123953,
          40.4132474,
          40.417317,
          40.4165286,
          40.4203534,
          40.4208681,
          40.4208926,
          40.420433,
          40.4189272,
          40.4357478,
          40.4461985,
          40.4590003,
          40.423132,
          40.4680112,
          40.4588682,
          40.4351363,
          40.4603486,
          40.4034571,
          40.4218195,
          40.4386118,
          40.4114189,
          40.455782,
          40.4288456,
          40.4232022,
          40.4234038,
          40.4240876,
          40.4249357,
          40.4258426,
          40.4270344,
          40.4278736,
          40.420073,
          40.4208966,
          40.4213423,
          40.420223,
          40.4203417,
          40.420348,
          40.4219367,
          40.4225746,
          40.4251922,
          40.4273725,
          40.4274338,
          40.4277116,
          40.4096841,
          40.4319183,
          40.4155329,
          40.453226,
          40.4297065,
          40.4311342,
          40.4313875,
          40.4289017,
          40.4296481,
          40.4279522,
          40.4263353,
          40.426461,
          40.4242126,
          40.4530785,
          40.4531797,
          40.4122844,
          40.3969179,
          40.413135,
          40.4148227,
          40.4361728,
          40.4209259,
          40.4219305,
          40.4600984,
          40.4082524,
          40.4226672,
          40.445211,
          40.4421937,
          40.4424832,
          40.4445578,
          40.4449193,
          40.4182052,
          40.4425404,
          40.4416726,
          40.4343038,
          40.4350422,
          40.4421902,
          40.4425143,
          40.4445825,
          40.4449486,
          40.4757223,
          40.4108305,
          40.4088834,
          40.4573585,
          40.4689091,
          40.4372977,
          40.4734774,
          40.4194262,
          40.4203651,
          40.4045062,
          40.4293318,
          40.4632024,
          40.4272235,
          40.4202895,
          40.4190647,
          40.421789,
          40.4285326,
          40.4354093,
          40.4130215,
          40.437242,
          40.4265474,
          40.4634719,
          40.4769086,
          40.4772544,
          40.4040522,
          40.4034608,
          40.437818,
          40.4244219,
          40.4115442,
          40.4770338,
          40.4019737,
          40.3980961,
          40.4372369,
          40.4329415,
          40.4202075,
          40.4577833,
          40.4722906,
          40.430327,
          40.4154442,
          40.4280878,
          40.4316672,
          40.4538528,
          40.4328576,
          40.4294136,
          40.4525273,
          40.4299457,
          40.4741545,
          40.4052293,
          40.463368,
          40.461952,
          40.4633315,
          40.4481631,
          40.4470285,
          40.4289322,
          40.4487931,
          40.4314155,
          40.4345805,
          40.4068226,
          40.4172562,
          40.4540292,
          40.4050094,
          40.4069256,
          40.4499609,
          40.4021188,
          40.40363,
          40.4086595,
          40.4058054,
          40.4344726,
          40.4020976,
          40.4076817,
          40.4077197,
          40.428078,
          40.4074727,
          40.4070442
         ],
         "legendgroup": "parking",
         "lon": [
          -3.7143698,
          -3.7035492,
          -3.7081711,
          -3.7097305,
          -3.7093643,
          -3.6278558,
          -3.6991932,
          -3.7128977,
          -3.6911976,
          -3.6890623,
          -3.6885639,
          -3.6893064,
          -3.674871,
          -3.6649415,
          -3.7020989,
          -3.7031858,
          -3.7113577,
          -3.7129798,
          -3.710864,
          -3.7072429,
          -3.6405651,
          -3.7053475,
          -3.7088024,
          -3.6924042,
          -3.6921427,
          -3.7033376,
          -3.7066603,
          -3.6759304,
          -3.6589792,
          -3.6902221,
          -3.7269026,
          -3.7007388,
          -3.675782,
          -3.7000094,
          -3.6913445,
          -3.6371498,
          -3.7027445,
          -3.6669736,
          -3.7335048,
          -3.7090555,
          -3.6719385,
          -3.6714637,
          -3.6964615,
          -3.7003811,
          -3.7027219,
          -3.6993327,
          -3.7057628,
          -3.6893101,
          -3.6954851,
          -3.7010438,
          -3.673465,
          -3.6734211,
          -3.6924429,
          -3.6932034,
          -3.7146864,
          -3.670412,
          -3.6973754,
          -3.6876209,
          -3.6509315,
          -3.6487096,
          -3.6870689,
          -3.7000809,
          -3.6936724,
          -3.7209506,
          -3.6931553,
          -3.705415,
          -3.6704777,
          -3.6747216,
          -3.6921004,
          -3.6867638,
          -3.6765599,
          -3.7023081,
          -3.7385885,
          -3.71802,
          -3.7041761,
          -3.6622388,
          -3.7233934,
          -3.6936166,
          -3.6937217,
          -3.6784432,
          -3.6785309,
          -3.6842342,
          -3.6774507,
          -3.6754196,
          -3.678704,
          -3.6826004,
          -3.6613603,
          -3.6618136,
          -3.6617879,
          -3.6675198,
          -3.6679102,
          -3.6964904,
          -3.6977579,
          -3.7043539,
          -3.671032,
          -3.6924652,
          -3.6692808,
          -3.6684172,
          -3.6683936,
          -3.6650739,
          -3.6583748,
          -3.6705442,
          -3.6704932,
          -3.6717324,
          -3.6717672,
          -3.6739351,
          -3.6870285,
          -3.7041122,
          -3.6716519,
          -3.7059762,
          -3.6896068,
          -3.6789669,
          -3.6766073,
          -3.6872682,
          -3.6905523,
          -3.6564014,
          -3.7051274,
          -3.6679368,
          -3.6896898,
          -3.659639,
          -3.6578232,
          -3.657541,
          -3.6577798,
          -3.6566211,
          -3.6570385,
          -3.6992717,
          -3.6633116,
          -3.6622001,
          -3.6622635,
          -3.6553731,
          -3.6537688,
          -3.6543483,
          -3.6532773,
          -3.650523,
          -3.6533718,
          -3.6510568,
          -3.6491274,
          -3.6491947,
          -3.6488445,
          -3.7031838,
          -3.6834365,
          -3.6956261,
          -3.6939509,
          -3.6596366,
          -3.6578476,
          -3.6584502,
          -3.6596222,
          -3.6596216,
          -3.6578858,
          -3.6524633,
          -3.6528792,
          -3.6756743,
          -3.7349548,
          -3.7340106,
          -3.6711705,
          -3.684188,
          -3.675961,
          -3.668156,
          -3.6378207,
          -3.6301979,
          -3.6312675,
          -3.6961801,
          -3.7035647,
          -3.7119163,
          -3.7063727,
          -3.7270661,
          -3.7270921,
          -3.7274632,
          -3.7275342,
          -3.6987464,
          -3.6649609,
          -3.6662663,
          -3.6476773,
          -3.6464058,
          -3.7267861,
          -3.7268452,
          -3.7272204,
          -3.727288,
          -3.6491079,
          -3.709685,
          -3.7060845,
          -3.6724653,
          -3.6864593,
          -3.6915252,
          -3.7010499,
          -3.676339,
          -3.6762651,
          -3.7143927,
          -3.6722959,
          -3.696544,
          -3.6989699,
          -3.6878407,
          -3.676286,
          -3.6760852,
          -3.6971401,
          -3.7136863,
          -3.7031323,
          -3.7128671,
          -3.6879804,
          -3.6863605,
          -3.6482399,
          -3.6484867,
          -3.676206,
          -3.6761316,
          -3.6508978,
          -3.7154758,
          -3.6977507,
          -3.6715207,
          -3.7009771,
          -3.6944514,
          -3.7101802,
          -3.6858319,
          -3.6957932,
          -3.6943843,
          -3.6789958,
          -3.6794221,
          -3.7274399,
          -3.6824481,
          -3.6498864,
          -3.7179906,
          -3.7343907,
          -3.7200726,
          -3.6916703,
          -3.7185756,
          -3.7050055,
          -3.6788362,
          -3.6434195,
          -3.6448544,
          -3.6403161,
          -3.6976002,
          -3.7139406,
          -3.7097642,
          -3.7118017,
          -3.7358731,
          -3.6924892,
          -3.6733194,
          -3.6730636,
          -3.6842016,
          -3.7469523,
          -3.6962837,
          -3.7100254,
          -3.6478765,
          -3.6508099,
          -3.714725,
          -3.6696735,
          -3.6710468,
          -3.6779064,
          -3.6687538,
          -3.6676297,
          -3.6709517,
          -3.6393107,
          -3.6391564
         ],
         "marker": {
          "color": "#636efa"
         },
         "mode": "markers",
         "name": "parking",
         "showlegend": true,
         "subplot": "mapbox",
         "type": "scattermapbox"
        }
       ],
       "layout": {
        "legend": {
         "title": {
          "text": "tipo"
         },
         "tracegroupgap": 0
        },
        "mapbox": {
         "accesstoken": "pk.eyJ1IjoiZGFvcnRpIiwiYSI6ImNrZnF6M3FlczA3cDEyem16YTNzZmV4M2EifQ.846iF0sMSAXv0kwkwUTYjg",
         "center": {
          "lat": 40.42988034365079,
          "lon": -3.6848593123015894
         },
         "domain": {
          "x": [
           0,
           1
          ],
          "y": [
           0,
           1
          ]
         },
         "zoom": 11
        },
        "margin": {
         "t": 60
        },
        "template": {
         "data": {
          "bar": [
           {
            "error_x": {
             "color": "#2a3f5f"
            },
            "error_y": {
             "color": "#2a3f5f"
            },
            "marker": {
             "line": {
              "color": "#E5ECF6",
              "width": 0.5
             }
            },
            "type": "bar"
           }
          ],
          "barpolar": [
           {
            "marker": {
             "line": {
              "color": "#E5ECF6",
              "width": 0.5
             }
            },
            "type": "barpolar"
           }
          ],
          "carpet": [
           {
            "aaxis": {
             "endlinecolor": "#2a3f5f",
             "gridcolor": "white",
             "linecolor": "white",
             "minorgridcolor": "white",
             "startlinecolor": "#2a3f5f"
            },
            "baxis": {
             "endlinecolor": "#2a3f5f",
             "gridcolor": "white",
             "linecolor": "white",
             "minorgridcolor": "white",
             "startlinecolor": "#2a3f5f"
            },
            "type": "carpet"
           }
          ],
          "choropleth": [
           {
            "colorbar": {
             "outlinewidth": 0,
             "ticks": ""
            },
            "type": "choropleth"
           }
          ],
          "contour": [
           {
            "colorbar": {
             "outlinewidth": 0,
             "ticks": ""
            },
            "colorscale": [
             [
              0,
              "#0d0887"
             ],
             [
              0.1111111111111111,
              "#46039f"
             ],
             [
              0.2222222222222222,
              "#7201a8"
             ],
             [
              0.3333333333333333,
              "#9c179e"
             ],
             [
              0.4444444444444444,
              "#bd3786"
             ],
             [
              0.5555555555555556,
              "#d8576b"
             ],
             [
              0.6666666666666666,
              "#ed7953"
             ],
             [
              0.7777777777777778,
              "#fb9f3a"
             ],
             [
              0.8888888888888888,
              "#fdca26"
             ],
             [
              1,
              "#f0f921"
             ]
            ],
            "type": "contour"
           }
          ],
          "contourcarpet": [
           {
            "colorbar": {
             "outlinewidth": 0,
             "ticks": ""
            },
            "type": "contourcarpet"
           }
          ],
          "heatmap": [
           {
            "colorbar": {
             "outlinewidth": 0,
             "ticks": ""
            },
            "colorscale": [
             [
              0,
              "#0d0887"
             ],
             [
              0.1111111111111111,
              "#46039f"
             ],
             [
              0.2222222222222222,
              "#7201a8"
             ],
             [
              0.3333333333333333,
              "#9c179e"
             ],
             [
              0.4444444444444444,
              "#bd3786"
             ],
             [
              0.5555555555555556,
              "#d8576b"
             ],
             [
              0.6666666666666666,
              "#ed7953"
             ],
             [
              0.7777777777777778,
              "#fb9f3a"
             ],
             [
              0.8888888888888888,
              "#fdca26"
             ],
             [
              1,
              "#f0f921"
             ]
            ],
            "type": "heatmap"
           }
          ],
          "heatmapgl": [
           {
            "colorbar": {
             "outlinewidth": 0,
             "ticks": ""
            },
            "colorscale": [
             [
              0,
              "#0d0887"
             ],
             [
              0.1111111111111111,
              "#46039f"
             ],
             [
              0.2222222222222222,
              "#7201a8"
             ],
             [
              0.3333333333333333,
              "#9c179e"
             ],
             [
              0.4444444444444444,
              "#bd3786"
             ],
             [
              0.5555555555555556,
              "#d8576b"
             ],
             [
              0.6666666666666666,
              "#ed7953"
             ],
             [
              0.7777777777777778,
              "#fb9f3a"
             ],
             [
              0.8888888888888888,
              "#fdca26"
             ],
             [
              1,
              "#f0f921"
             ]
            ],
            "type": "heatmapgl"
           }
          ],
          "histogram": [
           {
            "marker": {
             "colorbar": {
              "outlinewidth": 0,
              "ticks": ""
             }
            },
            "type": "histogram"
           }
          ],
          "histogram2d": [
           {
            "colorbar": {
             "outlinewidth": 0,
             "ticks": ""
            },
            "colorscale": [
             [
              0,
              "#0d0887"
             ],
             [
              0.1111111111111111,
              "#46039f"
             ],
             [
              0.2222222222222222,
              "#7201a8"
             ],
             [
              0.3333333333333333,
              "#9c179e"
             ],
             [
              0.4444444444444444,
              "#bd3786"
             ],
             [
              0.5555555555555556,
              "#d8576b"
             ],
             [
              0.6666666666666666,
              "#ed7953"
             ],
             [
              0.7777777777777778,
              "#fb9f3a"
             ],
             [
              0.8888888888888888,
              "#fdca26"
             ],
             [
              1,
              "#f0f921"
             ]
            ],
            "type": "histogram2d"
           }
          ],
          "histogram2dcontour": [
           {
            "colorbar": {
             "outlinewidth": 0,
             "ticks": ""
            },
            "colorscale": [
             [
              0,
              "#0d0887"
             ],
             [
              0.1111111111111111,
              "#46039f"
             ],
             [
              0.2222222222222222,
              "#7201a8"
             ],
             [
              0.3333333333333333,
              "#9c179e"
             ],
             [
              0.4444444444444444,
              "#bd3786"
             ],
             [
              0.5555555555555556,
              "#d8576b"
             ],
             [
              0.6666666666666666,
              "#ed7953"
             ],
             [
              0.7777777777777778,
              "#fb9f3a"
             ],
             [
              0.8888888888888888,
              "#fdca26"
             ],
             [
              1,
              "#f0f921"
             ]
            ],
            "type": "histogram2dcontour"
           }
          ],
          "mesh3d": [
           {
            "colorbar": {
             "outlinewidth": 0,
             "ticks": ""
            },
            "type": "mesh3d"
           }
          ],
          "parcoords": [
           {
            "line": {
             "colorbar": {
              "outlinewidth": 0,
              "ticks": ""
             }
            },
            "type": "parcoords"
           }
          ],
          "pie": [
           {
            "automargin": true,
            "type": "pie"
           }
          ],
          "scatter": [
           {
            "marker": {
             "colorbar": {
              "outlinewidth": 0,
              "ticks": ""
             }
            },
            "type": "scatter"
           }
          ],
          "scatter3d": [
           {
            "line": {
             "colorbar": {
              "outlinewidth": 0,
              "ticks": ""
             }
            },
            "marker": {
             "colorbar": {
              "outlinewidth": 0,
              "ticks": ""
             }
            },
            "type": "scatter3d"
           }
          ],
          "scattercarpet": [
           {
            "marker": {
             "colorbar": {
              "outlinewidth": 0,
              "ticks": ""
             }
            },
            "type": "scattercarpet"
           }
          ],
          "scattergeo": [
           {
            "marker": {
             "colorbar": {
              "outlinewidth": 0,
              "ticks": ""
             }
            },
            "type": "scattergeo"
           }
          ],
          "scattergl": [
           {
            "marker": {
             "colorbar": {
              "outlinewidth": 0,
              "ticks": ""
             }
            },
            "type": "scattergl"
           }
          ],
          "scattermapbox": [
           {
            "marker": {
             "colorbar": {
              "outlinewidth": 0,
              "ticks": ""
             }
            },
            "type": "scattermapbox"
           }
          ],
          "scatterpolar": [
           {
            "marker": {
             "colorbar": {
              "outlinewidth": 0,
              "ticks": ""
             }
            },
            "type": "scatterpolar"
           }
          ],
          "scatterpolargl": [
           {
            "marker": {
             "colorbar": {
              "outlinewidth": 0,
              "ticks": ""
             }
            },
            "type": "scatterpolargl"
           }
          ],
          "scatterternary": [
           {
            "marker": {
             "colorbar": {
              "outlinewidth": 0,
              "ticks": ""
             }
            },
            "type": "scatterternary"
           }
          ],
          "surface": [
           {
            "colorbar": {
             "outlinewidth": 0,
             "ticks": ""
            },
            "colorscale": [
             [
              0,
              "#0d0887"
             ],
             [
              0.1111111111111111,
              "#46039f"
             ],
             [
              0.2222222222222222,
              "#7201a8"
             ],
             [
              0.3333333333333333,
              "#9c179e"
             ],
             [
              0.4444444444444444,
              "#bd3786"
             ],
             [
              0.5555555555555556,
              "#d8576b"
             ],
             [
              0.6666666666666666,
              "#ed7953"
             ],
             [
              0.7777777777777778,
              "#fb9f3a"
             ],
             [
              0.8888888888888888,
              "#fdca26"
             ],
             [
              1,
              "#f0f921"
             ]
            ],
            "type": "surface"
           }
          ],
          "table": [
           {
            "cells": {
             "fill": {
              "color": "#EBF0F8"
             },
             "line": {
              "color": "white"
             }
            },
            "header": {
             "fill": {
              "color": "#C8D4E3"
             },
             "line": {
              "color": "white"
             }
            },
            "type": "table"
           }
          ]
         },
         "layout": {
          "annotationdefaults": {
           "arrowcolor": "#2a3f5f",
           "arrowhead": 0,
           "arrowwidth": 1
          },
          "coloraxis": {
           "colorbar": {
            "outlinewidth": 0,
            "ticks": ""
           }
          },
          "colorscale": {
           "diverging": [
            [
             0,
             "#8e0152"
            ],
            [
             0.1,
             "#c51b7d"
            ],
            [
             0.2,
             "#de77ae"
            ],
            [
             0.3,
             "#f1b6da"
            ],
            [
             0.4,
             "#fde0ef"
            ],
            [
             0.5,
             "#f7f7f7"
            ],
            [
             0.6,
             "#e6f5d0"
            ],
            [
             0.7,
             "#b8e186"
            ],
            [
             0.8,
             "#7fbc41"
            ],
            [
             0.9,
             "#4d9221"
            ],
            [
             1,
             "#276419"
            ]
           ],
           "sequential": [
            [
             0,
             "#0d0887"
            ],
            [
             0.1111111111111111,
             "#46039f"
            ],
            [
             0.2222222222222222,
             "#7201a8"
            ],
            [
             0.3333333333333333,
             "#9c179e"
            ],
            [
             0.4444444444444444,
             "#bd3786"
            ],
            [
             0.5555555555555556,
             "#d8576b"
            ],
            [
             0.6666666666666666,
             "#ed7953"
            ],
            [
             0.7777777777777778,
             "#fb9f3a"
            ],
            [
             0.8888888888888888,
             "#fdca26"
            ],
            [
             1,
             "#f0f921"
            ]
           ],
           "sequentialminus": [
            [
             0,
             "#0d0887"
            ],
            [
             0.1111111111111111,
             "#46039f"
            ],
            [
             0.2222222222222222,
             "#7201a8"
            ],
            [
             0.3333333333333333,
             "#9c179e"
            ],
            [
             0.4444444444444444,
             "#bd3786"
            ],
            [
             0.5555555555555556,
             "#d8576b"
            ],
            [
             0.6666666666666666,
             "#ed7953"
            ],
            [
             0.7777777777777778,
             "#fb9f3a"
            ],
            [
             0.8888888888888888,
             "#fdca26"
            ],
            [
             1,
             "#f0f921"
            ]
           ]
          },
          "colorway": [
           "#636efa",
           "#EF553B",
           "#00cc96",
           "#ab63fa",
           "#FFA15A",
           "#19d3f3",
           "#FF6692",
           "#B6E880",
           "#FF97FF",
           "#FECB52"
          ],
          "font": {
           "color": "#2a3f5f"
          },
          "geo": {
           "bgcolor": "white",
           "lakecolor": "white",
           "landcolor": "#E5ECF6",
           "showlakes": true,
           "showland": true,
           "subunitcolor": "white"
          },
          "hoverlabel": {
           "align": "left"
          },
          "hovermode": "closest",
          "mapbox": {
           "style": "light"
          },
          "paper_bgcolor": "white",
          "plot_bgcolor": "#E5ECF6",
          "polar": {
           "angularaxis": {
            "gridcolor": "white",
            "linecolor": "white",
            "ticks": ""
           },
           "bgcolor": "#E5ECF6",
           "radialaxis": {
            "gridcolor": "white",
            "linecolor": "white",
            "ticks": ""
           }
          },
          "scene": {
           "xaxis": {
            "backgroundcolor": "#E5ECF6",
            "gridcolor": "white",
            "gridwidth": 2,
            "linecolor": "white",
            "showbackground": true,
            "ticks": "",
            "zerolinecolor": "white"
           },
           "yaxis": {
            "backgroundcolor": "#E5ECF6",
            "gridcolor": "white",
            "gridwidth": 2,
            "linecolor": "white",
            "showbackground": true,
            "ticks": "",
            "zerolinecolor": "white"
           },
           "zaxis": {
            "backgroundcolor": "#E5ECF6",
            "gridcolor": "white",
            "gridwidth": 2,
            "linecolor": "white",
            "showbackground": true,
            "ticks": "",
            "zerolinecolor": "white"
           }
          },
          "shapedefaults": {
           "line": {
            "color": "#2a3f5f"
           }
          },
          "ternary": {
           "aaxis": {
            "gridcolor": "white",
            "linecolor": "white",
            "ticks": ""
           },
           "baxis": {
            "gridcolor": "white",
            "linecolor": "white",
            "ticks": ""
           },
           "bgcolor": "#E5ECF6",
           "caxis": {
            "gridcolor": "white",
            "linecolor": "white",
            "ticks": ""
           }
          },
          "title": {
           "x": 0.05
          },
          "xaxis": {
           "automargin": true,
           "gridcolor": "white",
           "linecolor": "white",
           "ticks": "",
           "title": {
            "standoff": 15
           },
           "zerolinecolor": "white",
           "zerolinewidth": 2
          },
          "yaxis": {
           "automargin": true,
           "gridcolor": "white",
           "linecolor": "white",
           "ticks": "",
           "title": {
            "standoff": 15
           },
           "zerolinecolor": "white",
           "zerolinewidth": 2
          }
         }
        }
       }
      },
      "text/html": [
       "<div>                            <div id=\"00316753-456a-44c8-8916-5427225e2f1b\" class=\"plotly-graph-div\" style=\"height:525px; width:100%;\"></div>            <script type=\"text/javascript\">                require([\"plotly\"], function(Plotly) {                    window.PLOTLYENV=window.PLOTLYENV || {};                                    if (document.getElementById(\"00316753-456a-44c8-8916-5427225e2f1b\")) {                    Plotly.newPlot(                        \"00316753-456a-44c8-8916-5427225e2f1b\",                        [{\"hovertemplate\": \"tipo=parking<br>lat=%{lat}<br>lon=%{lon}<extra></extra>\", \"lat\": [40.4267119, 40.4144691, 40.4064435, 40.4248729, 40.4166909, 40.447447, 40.4208663, 40.425196, 40.4181801, 40.4254701, 40.429999, 40.4369215, 40.4238355, 40.4113632, 40.4489118, 40.4186092, 40.4184039, 40.4171049, 40.414601, 40.4151678, 40.4616781, 40.4213614, 40.4228861, 40.4251093, 40.4249207, 40.4159676, 40.4182133, 40.4235936, 40.4704451, 40.4070303, 40.4438769, 40.4146629, 40.4372482, 40.4313885, 40.4572456, 40.4737197, 40.4296172, 40.4443858, 40.4392759, 40.4215869, 40.4232971, 40.424383, 40.4212208, 40.426279, 40.4281139, 40.4237726, 40.4302255, 40.424334, 40.4157019, 40.4331999, 40.4236326, 40.4242164, 40.4344682, 40.4298584, 40.4302749, 40.4178386, 40.4218833, 40.4054695, 40.4749383, 40.4752941, 40.4524541, 40.4234469, 40.4257537, 40.4223326, 40.4575187, 40.4021464, 40.4341725, 40.4187841, 40.3963102, 40.4354542, 40.4589254, 40.4497032, 40.4104738, 40.4351473, 40.40685, 40.4286309, 40.4082765, 40.4110793, 40.4089332, 40.4575776, 40.4579713, 40.4226229, 40.442213, 40.3965405, 40.4256169, 40.4714418, 40.4251733, 40.4290523, 40.429501, 40.4306021, 40.4298603, 40.4219137, 40.4051769, 40.4553691, 40.4125009, 40.4199462, 40.4116152, 40.4123953, 40.4132474, 40.417317, 40.4165286, 40.4203534, 40.4208681, 40.4208926, 40.420433, 40.4189272, 40.4357478, 40.4461985, 40.4590003, 40.423132, 40.4680112, 40.4588682, 40.4351363, 40.4603486, 40.4034571, 40.4218195, 40.4386118, 40.4114189, 40.455782, 40.4288456, 40.4232022, 40.4234038, 40.4240876, 40.4249357, 40.4258426, 40.4270344, 40.4278736, 40.420073, 40.4208966, 40.4213423, 40.420223, 40.4203417, 40.420348, 40.4219367, 40.4225746, 40.4251922, 40.4273725, 40.4274338, 40.4277116, 40.4096841, 40.4319183, 40.4155329, 40.453226, 40.4297065, 40.4311342, 40.4313875, 40.4289017, 40.4296481, 40.4279522, 40.4263353, 40.426461, 40.4242126, 40.4530785, 40.4531797, 40.4122844, 40.3969179, 40.413135, 40.4148227, 40.4361728, 40.4209259, 40.4219305, 40.4600984, 40.4082524, 40.4226672, 40.445211, 40.4421937, 40.4424832, 40.4445578, 40.4449193, 40.4182052, 40.4425404, 40.4416726, 40.4343038, 40.4350422, 40.4421902, 40.4425143, 40.4445825, 40.4449486, 40.4757223, 40.4108305, 40.4088834, 40.4573585, 40.4689091, 40.4372977, 40.4734774, 40.4194262, 40.4203651, 40.4045062, 40.4293318, 40.4632024, 40.4272235, 40.4202895, 40.4190647, 40.421789, 40.4285326, 40.4354093, 40.4130215, 40.437242, 40.4265474, 40.4634719, 40.4769086, 40.4772544, 40.4040522, 40.4034608, 40.437818, 40.4244219, 40.4115442, 40.4770338, 40.4019737, 40.3980961, 40.4372369, 40.4329415, 40.4202075, 40.4577833, 40.4722906, 40.430327, 40.4154442, 40.4280878, 40.4316672, 40.4538528, 40.4328576, 40.4294136, 40.4525273, 40.4299457, 40.4741545, 40.4052293, 40.463368, 40.461952, 40.4633315, 40.4481631, 40.4470285, 40.4289322, 40.4487931, 40.4314155, 40.4345805, 40.4068226, 40.4172562, 40.4540292, 40.4050094, 40.4069256, 40.4499609, 40.4021188, 40.40363, 40.4086595, 40.4058054, 40.4344726, 40.4020976, 40.4076817, 40.4077197, 40.428078, 40.4074727, 40.4070442], \"legendgroup\": \"parking\", \"lon\": [-3.7143698, -3.7035492, -3.7081711, -3.7097305, -3.7093643, -3.6278558, -3.6991932, -3.7128977, -3.6911976, -3.6890623, -3.6885639, -3.6893064, -3.674871, -3.6649415, -3.7020989, -3.7031858, -3.7113577, -3.7129798, -3.710864, -3.7072429, -3.6405651, -3.7053475, -3.7088024, -3.6924042, -3.6921427, -3.7033376, -3.7066603, -3.6759304, -3.6589792, -3.6902221, -3.7269026, -3.7007388, -3.675782, -3.7000094, -3.6913445, -3.6371498, -3.7027445, -3.6669736, -3.7335048, -3.7090555, -3.6719385, -3.6714637, -3.6964615, -3.7003811, -3.7027219, -3.6993327, -3.7057628, -3.6893101, -3.6954851, -3.7010438, -3.673465, -3.6734211, -3.6924429, -3.6932034, -3.7146864, -3.670412, -3.6973754, -3.6876209, -3.6509315, -3.6487096, -3.6870689, -3.7000809, -3.6936724, -3.7209506, -3.6931553, -3.705415, -3.6704777, -3.6747216, -3.6921004, -3.6867638, -3.6765599, -3.7023081, -3.7385885, -3.71802, -3.7041761, -3.6622388, -3.7233934, -3.6936166, -3.6937217, -3.6784432, -3.6785309, -3.6842342, -3.6774507, -3.6754196, -3.678704, -3.6826004, -3.6613603, -3.6618136, -3.6617879, -3.6675198, -3.6679102, -3.6964904, -3.6977579, -3.7043539, -3.671032, -3.6924652, -3.6692808, -3.6684172, -3.6683936, -3.6650739, -3.6583748, -3.6705442, -3.6704932, -3.6717324, -3.6717672, -3.6739351, -3.6870285, -3.7041122, -3.6716519, -3.7059762, -3.6896068, -3.6789669, -3.6766073, -3.6872682, -3.6905523, -3.6564014, -3.7051274, -3.6679368, -3.6896898, -3.659639, -3.6578232, -3.657541, -3.6577798, -3.6566211, -3.6570385, -3.6992717, -3.6633116, -3.6622001, -3.6622635, -3.6553731, -3.6537688, -3.6543483, -3.6532773, -3.650523, -3.6533718, -3.6510568, -3.6491274, -3.6491947, -3.6488445, -3.7031838, -3.6834365, -3.6956261, -3.6939509, -3.6596366, -3.6578476, -3.6584502, -3.6596222, -3.6596216, -3.6578858, -3.6524633, -3.6528792, -3.6756743, -3.7349548, -3.7340106, -3.6711705, -3.684188, -3.675961, -3.668156, -3.6378207, -3.6301979, -3.6312675, -3.6961801, -3.7035647, -3.7119163, -3.7063727, -3.7270661, -3.7270921, -3.7274632, -3.7275342, -3.6987464, -3.6649609, -3.6662663, -3.6476773, -3.6464058, -3.7267861, -3.7268452, -3.7272204, -3.727288, -3.6491079, -3.709685, -3.7060845, -3.6724653, -3.6864593, -3.6915252, -3.7010499, -3.676339, -3.6762651, -3.7143927, -3.6722959, -3.696544, -3.6989699, -3.6878407, -3.676286, -3.6760852, -3.6971401, -3.7136863, -3.7031323, -3.7128671, -3.6879804, -3.6863605, -3.6482399, -3.6484867, -3.676206, -3.6761316, -3.6508978, -3.7154758, -3.6977507, -3.6715207, -3.7009771, -3.6944514, -3.7101802, -3.6858319, -3.6957932, -3.6943843, -3.6789958, -3.6794221, -3.7274399, -3.6824481, -3.6498864, -3.7179906, -3.7343907, -3.7200726, -3.6916703, -3.7185756, -3.7050055, -3.6788362, -3.6434195, -3.6448544, -3.6403161, -3.6976002, -3.7139406, -3.7097642, -3.7118017, -3.7358731, -3.6924892, -3.6733194, -3.6730636, -3.6842016, -3.7469523, -3.6962837, -3.7100254, -3.6478765, -3.6508099, -3.714725, -3.6696735, -3.6710468, -3.6779064, -3.6687538, -3.6676297, -3.6709517, -3.6393107, -3.6391564], \"marker\": {\"color\": \"#636efa\"}, \"mode\": \"markers\", \"name\": \"parking\", \"showlegend\": true, \"subplot\": \"mapbox\", \"type\": \"scattermapbox\"}],                        {\"legend\": {\"title\": {\"text\": \"tipo\"}, \"tracegroupgap\": 0}, \"mapbox\": {\"accesstoken\": \"pk.eyJ1IjoiZGFvcnRpIiwiYSI6ImNrZnF6M3FlczA3cDEyem16YTNzZmV4M2EifQ.846iF0sMSAXv0kwkwUTYjg\", \"center\": {\"lat\": 40.42988034365079, \"lon\": -3.6848593123015894}, \"domain\": {\"x\": [0.0, 1.0], \"y\": [0.0, 1.0]}, \"zoom\": 11}, \"margin\": {\"t\": 60}, \"template\": {\"data\": {\"bar\": [{\"error_x\": {\"color\": \"#2a3f5f\"}, \"error_y\": {\"color\": \"#2a3f5f\"}, \"marker\": {\"line\": {\"color\": \"#E5ECF6\", \"width\": 0.5}}, \"type\": \"bar\"}], \"barpolar\": [{\"marker\": {\"line\": {\"color\": \"#E5ECF6\", \"width\": 0.5}}, \"type\": \"barpolar\"}], \"carpet\": [{\"aaxis\": {\"endlinecolor\": \"#2a3f5f\", \"gridcolor\": \"white\", \"linecolor\": \"white\", \"minorgridcolor\": \"white\", \"startlinecolor\": \"#2a3f5f\"}, \"baxis\": {\"endlinecolor\": \"#2a3f5f\", \"gridcolor\": \"white\", \"linecolor\": \"white\", \"minorgridcolor\": \"white\", \"startlinecolor\": \"#2a3f5f\"}, \"type\": \"carpet\"}], \"choropleth\": [{\"colorbar\": {\"outlinewidth\": 0, \"ticks\": \"\"}, \"type\": \"choropleth\"}], \"contour\": [{\"colorbar\": {\"outlinewidth\": 0, \"ticks\": \"\"}, \"colorscale\": [[0.0, \"#0d0887\"], [0.1111111111111111, \"#46039f\"], [0.2222222222222222, \"#7201a8\"], [0.3333333333333333, \"#9c179e\"], [0.4444444444444444, \"#bd3786\"], [0.5555555555555556, \"#d8576b\"], [0.6666666666666666, \"#ed7953\"], [0.7777777777777778, \"#fb9f3a\"], [0.8888888888888888, \"#fdca26\"], [1.0, \"#f0f921\"]], \"type\": \"contour\"}], \"contourcarpet\": [{\"colorbar\": {\"outlinewidth\": 0, \"ticks\": \"\"}, \"type\": \"contourcarpet\"}], \"heatmap\": [{\"colorbar\": {\"outlinewidth\": 0, \"ticks\": \"\"}, \"colorscale\": [[0.0, \"#0d0887\"], [0.1111111111111111, \"#46039f\"], [0.2222222222222222, \"#7201a8\"], [0.3333333333333333, \"#9c179e\"], [0.4444444444444444, \"#bd3786\"], [0.5555555555555556, \"#d8576b\"], [0.6666666666666666, \"#ed7953\"], [0.7777777777777778, \"#fb9f3a\"], [0.8888888888888888, \"#fdca26\"], [1.0, \"#f0f921\"]], \"type\": \"heatmap\"}], \"heatmapgl\": [{\"colorbar\": {\"outlinewidth\": 0, \"ticks\": \"\"}, \"colorscale\": [[0.0, \"#0d0887\"], [0.1111111111111111, \"#46039f\"], [0.2222222222222222, \"#7201a8\"], [0.3333333333333333, \"#9c179e\"], [0.4444444444444444, \"#bd3786\"], [0.5555555555555556, \"#d8576b\"], [0.6666666666666666, \"#ed7953\"], [0.7777777777777778, \"#fb9f3a\"], [0.8888888888888888, \"#fdca26\"], [1.0, \"#f0f921\"]], \"type\": \"heatmapgl\"}], \"histogram\": [{\"marker\": {\"colorbar\": {\"outlinewidth\": 0, \"ticks\": \"\"}}, \"type\": \"histogram\"}], \"histogram2d\": [{\"colorbar\": {\"outlinewidth\": 0, \"ticks\": \"\"}, \"colorscale\": [[0.0, \"#0d0887\"], [0.1111111111111111, \"#46039f\"], [0.2222222222222222, \"#7201a8\"], [0.3333333333333333, \"#9c179e\"], [0.4444444444444444, \"#bd3786\"], [0.5555555555555556, \"#d8576b\"], [0.6666666666666666, \"#ed7953\"], [0.7777777777777778, \"#fb9f3a\"], [0.8888888888888888, \"#fdca26\"], [1.0, \"#f0f921\"]], \"type\": \"histogram2d\"}], \"histogram2dcontour\": [{\"colorbar\": {\"outlinewidth\": 0, \"ticks\": \"\"}, \"colorscale\": [[0.0, \"#0d0887\"], [0.1111111111111111, \"#46039f\"], [0.2222222222222222, \"#7201a8\"], [0.3333333333333333, \"#9c179e\"], [0.4444444444444444, \"#bd3786\"], [0.5555555555555556, \"#d8576b\"], [0.6666666666666666, \"#ed7953\"], [0.7777777777777778, \"#fb9f3a\"], [0.8888888888888888, \"#fdca26\"], [1.0, \"#f0f921\"]], \"type\": \"histogram2dcontour\"}], \"mesh3d\": [{\"colorbar\": {\"outlinewidth\": 0, \"ticks\": \"\"}, \"type\": \"mesh3d\"}], \"parcoords\": [{\"line\": {\"colorbar\": {\"outlinewidth\": 0, \"ticks\": \"\"}}, \"type\": \"parcoords\"}], \"pie\": [{\"automargin\": true, \"type\": \"pie\"}], \"scatter\": [{\"marker\": {\"colorbar\": {\"outlinewidth\": 0, \"ticks\": \"\"}}, \"type\": \"scatter\"}], \"scatter3d\": [{\"line\": {\"colorbar\": {\"outlinewidth\": 0, \"ticks\": \"\"}}, \"marker\": {\"colorbar\": {\"outlinewidth\": 0, \"ticks\": \"\"}}, \"type\": \"scatter3d\"}], \"scattercarpet\": [{\"marker\": {\"colorbar\": {\"outlinewidth\": 0, \"ticks\": \"\"}}, \"type\": \"scattercarpet\"}], \"scattergeo\": [{\"marker\": {\"colorbar\": {\"outlinewidth\": 0, \"ticks\": \"\"}}, \"type\": \"scattergeo\"}], \"scattergl\": [{\"marker\": {\"colorbar\": {\"outlinewidth\": 0, \"ticks\": \"\"}}, \"type\": \"scattergl\"}], \"scattermapbox\": [{\"marker\": {\"colorbar\": {\"outlinewidth\": 0, \"ticks\": \"\"}}, \"type\": \"scattermapbox\"}], \"scatterpolar\": [{\"marker\": {\"colorbar\": {\"outlinewidth\": 0, \"ticks\": \"\"}}, \"type\": \"scatterpolar\"}], \"scatterpolargl\": [{\"marker\": {\"colorbar\": {\"outlinewidth\": 0, \"ticks\": \"\"}}, \"type\": \"scatterpolargl\"}], \"scatterternary\": [{\"marker\": {\"colorbar\": {\"outlinewidth\": 0, \"ticks\": \"\"}}, \"type\": \"scatterternary\"}], \"surface\": [{\"colorbar\": {\"outlinewidth\": 0, \"ticks\": \"\"}, \"colorscale\": [[0.0, \"#0d0887\"], [0.1111111111111111, \"#46039f\"], [0.2222222222222222, \"#7201a8\"], [0.3333333333333333, \"#9c179e\"], [0.4444444444444444, \"#bd3786\"], [0.5555555555555556, \"#d8576b\"], [0.6666666666666666, \"#ed7953\"], [0.7777777777777778, \"#fb9f3a\"], [0.8888888888888888, \"#fdca26\"], [1.0, \"#f0f921\"]], \"type\": \"surface\"}], \"table\": [{\"cells\": {\"fill\": {\"color\": \"#EBF0F8\"}, \"line\": {\"color\": \"white\"}}, \"header\": {\"fill\": {\"color\": \"#C8D4E3\"}, \"line\": {\"color\": \"white\"}}, \"type\": \"table\"}]}, \"layout\": {\"annotationdefaults\": {\"arrowcolor\": \"#2a3f5f\", \"arrowhead\": 0, \"arrowwidth\": 1}, \"coloraxis\": {\"colorbar\": {\"outlinewidth\": 0, \"ticks\": \"\"}}, \"colorscale\": {\"diverging\": [[0, \"#8e0152\"], [0.1, \"#c51b7d\"], [0.2, \"#de77ae\"], [0.3, \"#f1b6da\"], [0.4, \"#fde0ef\"], [0.5, \"#f7f7f7\"], [0.6, \"#e6f5d0\"], [0.7, \"#b8e186\"], [0.8, \"#7fbc41\"], [0.9, \"#4d9221\"], [1, \"#276419\"]], \"sequential\": [[0.0, \"#0d0887\"], [0.1111111111111111, \"#46039f\"], [0.2222222222222222, \"#7201a8\"], [0.3333333333333333, \"#9c179e\"], [0.4444444444444444, \"#bd3786\"], [0.5555555555555556, \"#d8576b\"], [0.6666666666666666, \"#ed7953\"], [0.7777777777777778, \"#fb9f3a\"], [0.8888888888888888, \"#fdca26\"], [1.0, \"#f0f921\"]], \"sequentialminus\": [[0.0, \"#0d0887\"], [0.1111111111111111, \"#46039f\"], [0.2222222222222222, \"#7201a8\"], [0.3333333333333333, \"#9c179e\"], [0.4444444444444444, \"#bd3786\"], [0.5555555555555556, \"#d8576b\"], [0.6666666666666666, \"#ed7953\"], [0.7777777777777778, \"#fb9f3a\"], [0.8888888888888888, \"#fdca26\"], [1.0, \"#f0f921\"]]}, \"colorway\": [\"#636efa\", \"#EF553B\", \"#00cc96\", \"#ab63fa\", \"#FFA15A\", \"#19d3f3\", \"#FF6692\", \"#B6E880\", \"#FF97FF\", \"#FECB52\"], \"font\": {\"color\": \"#2a3f5f\"}, \"geo\": {\"bgcolor\": \"white\", \"lakecolor\": \"white\", \"landcolor\": \"#E5ECF6\", \"showlakes\": true, \"showland\": true, \"subunitcolor\": \"white\"}, \"hoverlabel\": {\"align\": \"left\"}, \"hovermode\": \"closest\", \"mapbox\": {\"style\": \"light\"}, \"paper_bgcolor\": \"white\", \"plot_bgcolor\": \"#E5ECF6\", \"polar\": {\"angularaxis\": {\"gridcolor\": \"white\", \"linecolor\": \"white\", \"ticks\": \"\"}, \"bgcolor\": \"#E5ECF6\", \"radialaxis\": {\"gridcolor\": \"white\", \"linecolor\": \"white\", \"ticks\": \"\"}}, \"scene\": {\"xaxis\": {\"backgroundcolor\": \"#E5ECF6\", \"gridcolor\": \"white\", \"gridwidth\": 2, \"linecolor\": \"white\", \"showbackground\": true, \"ticks\": \"\", \"zerolinecolor\": \"white\"}, \"yaxis\": {\"backgroundcolor\": \"#E5ECF6\", \"gridcolor\": \"white\", \"gridwidth\": 2, \"linecolor\": \"white\", \"showbackground\": true, \"ticks\": \"\", \"zerolinecolor\": \"white\"}, \"zaxis\": {\"backgroundcolor\": \"#E5ECF6\", \"gridcolor\": \"white\", \"gridwidth\": 2, \"linecolor\": \"white\", \"showbackground\": true, \"ticks\": \"\", \"zerolinecolor\": \"white\"}}, \"shapedefaults\": {\"line\": {\"color\": \"#2a3f5f\"}}, \"ternary\": {\"aaxis\": {\"gridcolor\": \"white\", \"linecolor\": \"white\", \"ticks\": \"\"}, \"baxis\": {\"gridcolor\": \"white\", \"linecolor\": \"white\", \"ticks\": \"\"}, \"bgcolor\": \"#E5ECF6\", \"caxis\": {\"gridcolor\": \"white\", \"linecolor\": \"white\", \"ticks\": \"\"}}, \"title\": {\"x\": 0.05}, \"xaxis\": {\"automargin\": true, \"gridcolor\": \"white\", \"linecolor\": \"white\", \"ticks\": \"\", \"title\": {\"standoff\": 15}, \"zerolinecolor\": \"white\", \"zerolinewidth\": 2}, \"yaxis\": {\"automargin\": true, \"gridcolor\": \"white\", \"linecolor\": \"white\", \"ticks\": \"\", \"title\": {\"standoff\": 15}, \"zerolinecolor\": \"white\", \"zerolinewidth\": 2}}}},                        {\"responsive\": true}                    ).then(function(){\n",
       "                            \n",
       "var gd = document.getElementById('00316753-456a-44c8-8916-5427225e2f1b');\n",
       "var x = new MutationObserver(function (mutations, observer) {{\n",
       "        var display = window.getComputedStyle(gd).display;\n",
       "        if (!display || display === 'none') {{\n",
       "            console.log([gd, 'removed!']);\n",
       "            Plotly.purge(gd);\n",
       "            observer.disconnect();\n",
       "        }}\n",
       "}});\n",
       "\n",
       "// Listen for the removal of the full notebook cells\n",
       "var notebookContainer = gd.closest('#notebook-container');\n",
       "if (notebookContainer) {{\n",
       "    x.observe(notebookContainer, {childList: true});\n",
       "}}\n",
       "\n",
       "// Listen for the clearing of the current output cell\n",
       "var outputEl = gd.closest('.output');\n",
       "if (outputEl) {{\n",
       "    x.observe(outputEl, {childList: true});\n",
       "}}\n",
       "\n",
       "                        })                };                });            </script>        </div>"
      ]
     },
     "metadata": {},
     "output_type": "display_data"
    }
   ],
   "source": [
    "pinta_mapa(df)"
   ]
  },
  {
   "cell_type": "markdown",
   "metadata": {},
   "source": [
    "## Mudanza\n",
    "Imagina que te quieres mudar al Berrueco, pero antes te gustaría obtener algún indicador de si hay civilización por esa zona. Mira a ver si existe gasolineras y/o colegios por la zona. Define, al igual que en el caso anterior, un rectángulo mediante dos coordenadas. Busca la manera de realizar una única petición a la API.\n",
    "\n",
    "Representa después en un mapa, por color los colegios y gasolineras"
   ]
  },
  {
   "cell_type": "code",
   "execution_count": 95,
   "metadata": {},
   "outputs": [
    {
     "name": "stdout",
     "output_type": "stream",
     "text": [
      "<Response [200]>\n"
     ]
    },
    {
     "data": {
      "text/html": [
       "<div>\n",
       "<style scoped>\n",
       "    .dataframe tbody tr th:only-of-type {\n",
       "        vertical-align: middle;\n",
       "    }\n",
       "\n",
       "    .dataframe tbody tr th {\n",
       "        vertical-align: top;\n",
       "    }\n",
       "\n",
       "    .dataframe thead th {\n",
       "        text-align: right;\n",
       "    }\n",
       "</style>\n",
       "<table border=\"1\" class=\"dataframe\">\n",
       "  <thead>\n",
       "    <tr style=\"text-align: right;\">\n",
       "      <th></th>\n",
       "      <th>tipo</th>\n",
       "      <th>lat</th>\n",
       "      <th>lon</th>\n",
       "      <th>name</th>\n",
       "      <th>address</th>\n",
       "    </tr>\n",
       "  </thead>\n",
       "  <tbody>\n",
       "    <tr>\n",
       "      <th>0</th>\n",
       "      <td>school</td>\n",
       "      <td>40.867720</td>\n",
       "      <td>-3.614696</td>\n",
       "      <td>Escuela infantil de La Cabrera</td>\n",
       "      <td>NO STREET 9999</td>\n",
       "    </tr>\n",
       "    <tr>\n",
       "      <th>1</th>\n",
       "      <td>school</td>\n",
       "      <td>40.855890</td>\n",
       "      <td>-3.483306</td>\n",
       "      <td>Patones</td>\n",
       "      <td>NO STREET 9999</td>\n",
       "    </tr>\n",
       "    <tr>\n",
       "      <th>2</th>\n",
       "      <td>school</td>\n",
       "      <td>40.872876</td>\n",
       "      <td>-3.606421</td>\n",
       "      <td>La Cabrera</td>\n",
       "      <td>NO STREET 9999</td>\n",
       "    </tr>\n",
       "    <tr>\n",
       "      <th>3</th>\n",
       "      <td>school</td>\n",
       "      <td>40.864566</td>\n",
       "      <td>-3.614058</td>\n",
       "      <td>Eq. Aten.Temprana La Cabrera-Lozoyuela</td>\n",
       "      <td>NO STREET 9999</td>\n",
       "    </tr>\n",
       "    <tr>\n",
       "      <th>4</th>\n",
       "      <td>school</td>\n",
       "      <td>40.872395</td>\n",
       "      <td>-3.608802</td>\n",
       "      <td>C.A.P. De La Cabrera</td>\n",
       "      <td>NO STREET 9999</td>\n",
       "    </tr>\n",
       "    <tr>\n",
       "      <th>5</th>\n",
       "      <td>school</td>\n",
       "      <td>40.863864</td>\n",
       "      <td>-3.615523</td>\n",
       "      <td>Equipo General La Cabrera</td>\n",
       "      <td>NO STREET 9999</td>\n",
       "    </tr>\n",
       "    <tr>\n",
       "      <th>6</th>\n",
       "      <td>school</td>\n",
       "      <td>40.872395</td>\n",
       "      <td>-3.608802</td>\n",
       "      <td>C.A.P. De La Cabrera</td>\n",
       "      <td>NO STREET 9999</td>\n",
       "    </tr>\n",
       "    <tr>\n",
       "      <th>7</th>\n",
       "      <td>school</td>\n",
       "      <td>40.887438</td>\n",
       "      <td>-3.560797</td>\n",
       "      <td>Colegio</td>\n",
       "      <td>NO STREET 9999</td>\n",
       "    </tr>\n",
       "  </tbody>\n",
       "</table>\n",
       "</div>"
      ],
      "text/plain": [
       "     tipo        lat       lon                                    name  \\\n",
       "0  school  40.867720 -3.614696          Escuela infantil de La Cabrera   \n",
       "1  school  40.855890 -3.483306                                 Patones   \n",
       "2  school  40.872876 -3.606421                              La Cabrera   \n",
       "3  school  40.864566 -3.614058  Eq. Aten.Temprana La Cabrera-Lozoyuela   \n",
       "4  school  40.872395 -3.608802                    C.A.P. De La Cabrera   \n",
       "5  school  40.863864 -3.615523               Equipo General La Cabrera   \n",
       "6  school  40.872395 -3.608802                    C.A.P. De La Cabrera   \n",
       "7  school  40.887438 -3.560797                                 Colegio   \n",
       "\n",
       "          address  \n",
       "0  NO STREET 9999  \n",
       "1  NO STREET 9999  \n",
       "2  NO STREET 9999  \n",
       "3  NO STREET 9999  \n",
       "4  NO STREET 9999  \n",
       "5  NO STREET 9999  \n",
       "6  NO STREET 9999  \n",
       "7  NO STREET 9999  "
      ]
     },
     "execution_count": 95,
     "metadata": {},
     "output_type": "execute_result"
    }
   ],
   "source": [
    "overpass_query = \"\"\"\n",
    "[out:json];\n",
    "node[\"amenity\"=\"fuel|school\"]\n",
    "  (40.851838, -3.627774, 40.941457, -3.481755);\n",
    "out;\n",
    "node[\"amenity\"=\"school\"]\n",
    "  (40.851838, -3.627774, 40.941457, -3.481755);\n",
    "out;\n",
    "\"\"\"\n",
    "response = requests.get(overpass_url, \n",
    "                        params={'data': overpass_query})\n",
    "print(response)\n",
    "data = response.json()\n",
    "df = json_to_df(data)\n",
    "df"
   ]
  },
  {
   "cell_type": "code",
   "execution_count": 71,
   "metadata": {},
   "outputs": [
    {
     "data": {
      "application/vnd.plotly.v1+json": {
       "config": {
        "plotlyServerURL": "https://plot.ly"
       },
       "data": [
        {
         "hovertemplate": "tipo=fuel<br>lat=%{lat}<br>lon=%{lon}<extra></extra>",
         "lat": [
          40.9053756,
          40.906677,
          40.856872,
          40.8758331
         ],
         "legendgroup": "fuel",
         "lon": [
          -3.6075875,
          -3.610172,
          -3.6128941,
          -3.602389
         ],
         "marker": {
          "color": "#636efa"
         },
         "mode": "markers",
         "name": "fuel",
         "showlegend": true,
         "subplot": "mapbox",
         "type": "scattermapbox"
        },
        {
         "hovertemplate": "tipo=school<br>lat=%{lat}<br>lon=%{lon}<extra></extra>",
         "lat": [
          40.86772,
          40.8558899,
          40.8728757,
          40.864566,
          40.8723948,
          40.8638645,
          40.8723948,
          40.8874382
         ],
         "legendgroup": "school",
         "lon": [
          -3.6146961,
          -3.483306,
          -3.6064211,
          -3.6140581,
          -3.608802,
          -3.615523,
          -3.6088021,
          -3.5607974
         ],
         "marker": {
          "color": "#EF553B"
         },
         "mode": "markers",
         "name": "school",
         "showlegend": true,
         "subplot": "mapbox",
         "type": "scattermapbox"
        }
       ],
       "layout": {
        "legend": {
         "title": {
          "text": "tipo"
         },
         "tracegroupgap": 0
        },
        "mapbox": {
         "accesstoken": "pk.eyJ1IjoiZGFvcnRpIiwiYSI6ImNrZnF6M3FlczA3cDEyem16YTNzZmV4M2EifQ.846iF0sMSAXv0kwkwUTYjg",
         "center": {
          "lat": 40.87515846666667,
          "lon": -3.595454033333333
         },
         "domain": {
          "x": [
           0,
           1
          ],
          "y": [
           0,
           1
          ]
         },
         "zoom": 11
        },
        "margin": {
         "t": 60
        },
        "template": {
         "data": {
          "bar": [
           {
            "error_x": {
             "color": "#2a3f5f"
            },
            "error_y": {
             "color": "#2a3f5f"
            },
            "marker": {
             "line": {
              "color": "#E5ECF6",
              "width": 0.5
             }
            },
            "type": "bar"
           }
          ],
          "barpolar": [
           {
            "marker": {
             "line": {
              "color": "#E5ECF6",
              "width": 0.5
             }
            },
            "type": "barpolar"
           }
          ],
          "carpet": [
           {
            "aaxis": {
             "endlinecolor": "#2a3f5f",
             "gridcolor": "white",
             "linecolor": "white",
             "minorgridcolor": "white",
             "startlinecolor": "#2a3f5f"
            },
            "baxis": {
             "endlinecolor": "#2a3f5f",
             "gridcolor": "white",
             "linecolor": "white",
             "minorgridcolor": "white",
             "startlinecolor": "#2a3f5f"
            },
            "type": "carpet"
           }
          ],
          "choropleth": [
           {
            "colorbar": {
             "outlinewidth": 0,
             "ticks": ""
            },
            "type": "choropleth"
           }
          ],
          "contour": [
           {
            "colorbar": {
             "outlinewidth": 0,
             "ticks": ""
            },
            "colorscale": [
             [
              0,
              "#0d0887"
             ],
             [
              0.1111111111111111,
              "#46039f"
             ],
             [
              0.2222222222222222,
              "#7201a8"
             ],
             [
              0.3333333333333333,
              "#9c179e"
             ],
             [
              0.4444444444444444,
              "#bd3786"
             ],
             [
              0.5555555555555556,
              "#d8576b"
             ],
             [
              0.6666666666666666,
              "#ed7953"
             ],
             [
              0.7777777777777778,
              "#fb9f3a"
             ],
             [
              0.8888888888888888,
              "#fdca26"
             ],
             [
              1,
              "#f0f921"
             ]
            ],
            "type": "contour"
           }
          ],
          "contourcarpet": [
           {
            "colorbar": {
             "outlinewidth": 0,
             "ticks": ""
            },
            "type": "contourcarpet"
           }
          ],
          "heatmap": [
           {
            "colorbar": {
             "outlinewidth": 0,
             "ticks": ""
            },
            "colorscale": [
             [
              0,
              "#0d0887"
             ],
             [
              0.1111111111111111,
              "#46039f"
             ],
             [
              0.2222222222222222,
              "#7201a8"
             ],
             [
              0.3333333333333333,
              "#9c179e"
             ],
             [
              0.4444444444444444,
              "#bd3786"
             ],
             [
              0.5555555555555556,
              "#d8576b"
             ],
             [
              0.6666666666666666,
              "#ed7953"
             ],
             [
              0.7777777777777778,
              "#fb9f3a"
             ],
             [
              0.8888888888888888,
              "#fdca26"
             ],
             [
              1,
              "#f0f921"
             ]
            ],
            "type": "heatmap"
           }
          ],
          "heatmapgl": [
           {
            "colorbar": {
             "outlinewidth": 0,
             "ticks": ""
            },
            "colorscale": [
             [
              0,
              "#0d0887"
             ],
             [
              0.1111111111111111,
              "#46039f"
             ],
             [
              0.2222222222222222,
              "#7201a8"
             ],
             [
              0.3333333333333333,
              "#9c179e"
             ],
             [
              0.4444444444444444,
              "#bd3786"
             ],
             [
              0.5555555555555556,
              "#d8576b"
             ],
             [
              0.6666666666666666,
              "#ed7953"
             ],
             [
              0.7777777777777778,
              "#fb9f3a"
             ],
             [
              0.8888888888888888,
              "#fdca26"
             ],
             [
              1,
              "#f0f921"
             ]
            ],
            "type": "heatmapgl"
           }
          ],
          "histogram": [
           {
            "marker": {
             "colorbar": {
              "outlinewidth": 0,
              "ticks": ""
             }
            },
            "type": "histogram"
           }
          ],
          "histogram2d": [
           {
            "colorbar": {
             "outlinewidth": 0,
             "ticks": ""
            },
            "colorscale": [
             [
              0,
              "#0d0887"
             ],
             [
              0.1111111111111111,
              "#46039f"
             ],
             [
              0.2222222222222222,
              "#7201a8"
             ],
             [
              0.3333333333333333,
              "#9c179e"
             ],
             [
              0.4444444444444444,
              "#bd3786"
             ],
             [
              0.5555555555555556,
              "#d8576b"
             ],
             [
              0.6666666666666666,
              "#ed7953"
             ],
             [
              0.7777777777777778,
              "#fb9f3a"
             ],
             [
              0.8888888888888888,
              "#fdca26"
             ],
             [
              1,
              "#f0f921"
             ]
            ],
            "type": "histogram2d"
           }
          ],
          "histogram2dcontour": [
           {
            "colorbar": {
             "outlinewidth": 0,
             "ticks": ""
            },
            "colorscale": [
             [
              0,
              "#0d0887"
             ],
             [
              0.1111111111111111,
              "#46039f"
             ],
             [
              0.2222222222222222,
              "#7201a8"
             ],
             [
              0.3333333333333333,
              "#9c179e"
             ],
             [
              0.4444444444444444,
              "#bd3786"
             ],
             [
              0.5555555555555556,
              "#d8576b"
             ],
             [
              0.6666666666666666,
              "#ed7953"
             ],
             [
              0.7777777777777778,
              "#fb9f3a"
             ],
             [
              0.8888888888888888,
              "#fdca26"
             ],
             [
              1,
              "#f0f921"
             ]
            ],
            "type": "histogram2dcontour"
           }
          ],
          "mesh3d": [
           {
            "colorbar": {
             "outlinewidth": 0,
             "ticks": ""
            },
            "type": "mesh3d"
           }
          ],
          "parcoords": [
           {
            "line": {
             "colorbar": {
              "outlinewidth": 0,
              "ticks": ""
             }
            },
            "type": "parcoords"
           }
          ],
          "pie": [
           {
            "automargin": true,
            "type": "pie"
           }
          ],
          "scatter": [
           {
            "marker": {
             "colorbar": {
              "outlinewidth": 0,
              "ticks": ""
             }
            },
            "type": "scatter"
           }
          ],
          "scatter3d": [
           {
            "line": {
             "colorbar": {
              "outlinewidth": 0,
              "ticks": ""
             }
            },
            "marker": {
             "colorbar": {
              "outlinewidth": 0,
              "ticks": ""
             }
            },
            "type": "scatter3d"
           }
          ],
          "scattercarpet": [
           {
            "marker": {
             "colorbar": {
              "outlinewidth": 0,
              "ticks": ""
             }
            },
            "type": "scattercarpet"
           }
          ],
          "scattergeo": [
           {
            "marker": {
             "colorbar": {
              "outlinewidth": 0,
              "ticks": ""
             }
            },
            "type": "scattergeo"
           }
          ],
          "scattergl": [
           {
            "marker": {
             "colorbar": {
              "outlinewidth": 0,
              "ticks": ""
             }
            },
            "type": "scattergl"
           }
          ],
          "scattermapbox": [
           {
            "marker": {
             "colorbar": {
              "outlinewidth": 0,
              "ticks": ""
             }
            },
            "type": "scattermapbox"
           }
          ],
          "scatterpolar": [
           {
            "marker": {
             "colorbar": {
              "outlinewidth": 0,
              "ticks": ""
             }
            },
            "type": "scatterpolar"
           }
          ],
          "scatterpolargl": [
           {
            "marker": {
             "colorbar": {
              "outlinewidth": 0,
              "ticks": ""
             }
            },
            "type": "scatterpolargl"
           }
          ],
          "scatterternary": [
           {
            "marker": {
             "colorbar": {
              "outlinewidth": 0,
              "ticks": ""
             }
            },
            "type": "scatterternary"
           }
          ],
          "surface": [
           {
            "colorbar": {
             "outlinewidth": 0,
             "ticks": ""
            },
            "colorscale": [
             [
              0,
              "#0d0887"
             ],
             [
              0.1111111111111111,
              "#46039f"
             ],
             [
              0.2222222222222222,
              "#7201a8"
             ],
             [
              0.3333333333333333,
              "#9c179e"
             ],
             [
              0.4444444444444444,
              "#bd3786"
             ],
             [
              0.5555555555555556,
              "#d8576b"
             ],
             [
              0.6666666666666666,
              "#ed7953"
             ],
             [
              0.7777777777777778,
              "#fb9f3a"
             ],
             [
              0.8888888888888888,
              "#fdca26"
             ],
             [
              1,
              "#f0f921"
             ]
            ],
            "type": "surface"
           }
          ],
          "table": [
           {
            "cells": {
             "fill": {
              "color": "#EBF0F8"
             },
             "line": {
              "color": "white"
             }
            },
            "header": {
             "fill": {
              "color": "#C8D4E3"
             },
             "line": {
              "color": "white"
             }
            },
            "type": "table"
           }
          ]
         },
         "layout": {
          "annotationdefaults": {
           "arrowcolor": "#2a3f5f",
           "arrowhead": 0,
           "arrowwidth": 1
          },
          "coloraxis": {
           "colorbar": {
            "outlinewidth": 0,
            "ticks": ""
           }
          },
          "colorscale": {
           "diverging": [
            [
             0,
             "#8e0152"
            ],
            [
             0.1,
             "#c51b7d"
            ],
            [
             0.2,
             "#de77ae"
            ],
            [
             0.3,
             "#f1b6da"
            ],
            [
             0.4,
             "#fde0ef"
            ],
            [
             0.5,
             "#f7f7f7"
            ],
            [
             0.6,
             "#e6f5d0"
            ],
            [
             0.7,
             "#b8e186"
            ],
            [
             0.8,
             "#7fbc41"
            ],
            [
             0.9,
             "#4d9221"
            ],
            [
             1,
             "#276419"
            ]
           ],
           "sequential": [
            [
             0,
             "#0d0887"
            ],
            [
             0.1111111111111111,
             "#46039f"
            ],
            [
             0.2222222222222222,
             "#7201a8"
            ],
            [
             0.3333333333333333,
             "#9c179e"
            ],
            [
             0.4444444444444444,
             "#bd3786"
            ],
            [
             0.5555555555555556,
             "#d8576b"
            ],
            [
             0.6666666666666666,
             "#ed7953"
            ],
            [
             0.7777777777777778,
             "#fb9f3a"
            ],
            [
             0.8888888888888888,
             "#fdca26"
            ],
            [
             1,
             "#f0f921"
            ]
           ],
           "sequentialminus": [
            [
             0,
             "#0d0887"
            ],
            [
             0.1111111111111111,
             "#46039f"
            ],
            [
             0.2222222222222222,
             "#7201a8"
            ],
            [
             0.3333333333333333,
             "#9c179e"
            ],
            [
             0.4444444444444444,
             "#bd3786"
            ],
            [
             0.5555555555555556,
             "#d8576b"
            ],
            [
             0.6666666666666666,
             "#ed7953"
            ],
            [
             0.7777777777777778,
             "#fb9f3a"
            ],
            [
             0.8888888888888888,
             "#fdca26"
            ],
            [
             1,
             "#f0f921"
            ]
           ]
          },
          "colorway": [
           "#636efa",
           "#EF553B",
           "#00cc96",
           "#ab63fa",
           "#FFA15A",
           "#19d3f3",
           "#FF6692",
           "#B6E880",
           "#FF97FF",
           "#FECB52"
          ],
          "font": {
           "color": "#2a3f5f"
          },
          "geo": {
           "bgcolor": "white",
           "lakecolor": "white",
           "landcolor": "#E5ECF6",
           "showlakes": true,
           "showland": true,
           "subunitcolor": "white"
          },
          "hoverlabel": {
           "align": "left"
          },
          "hovermode": "closest",
          "mapbox": {
           "style": "light"
          },
          "paper_bgcolor": "white",
          "plot_bgcolor": "#E5ECF6",
          "polar": {
           "angularaxis": {
            "gridcolor": "white",
            "linecolor": "white",
            "ticks": ""
           },
           "bgcolor": "#E5ECF6",
           "radialaxis": {
            "gridcolor": "white",
            "linecolor": "white",
            "ticks": ""
           }
          },
          "scene": {
           "xaxis": {
            "backgroundcolor": "#E5ECF6",
            "gridcolor": "white",
            "gridwidth": 2,
            "linecolor": "white",
            "showbackground": true,
            "ticks": "",
            "zerolinecolor": "white"
           },
           "yaxis": {
            "backgroundcolor": "#E5ECF6",
            "gridcolor": "white",
            "gridwidth": 2,
            "linecolor": "white",
            "showbackground": true,
            "ticks": "",
            "zerolinecolor": "white"
           },
           "zaxis": {
            "backgroundcolor": "#E5ECF6",
            "gridcolor": "white",
            "gridwidth": 2,
            "linecolor": "white",
            "showbackground": true,
            "ticks": "",
            "zerolinecolor": "white"
           }
          },
          "shapedefaults": {
           "line": {
            "color": "#2a3f5f"
           }
          },
          "ternary": {
           "aaxis": {
            "gridcolor": "white",
            "linecolor": "white",
            "ticks": ""
           },
           "baxis": {
            "gridcolor": "white",
            "linecolor": "white",
            "ticks": ""
           },
           "bgcolor": "#E5ECF6",
           "caxis": {
            "gridcolor": "white",
            "linecolor": "white",
            "ticks": ""
           }
          },
          "title": {
           "x": 0.05
          },
          "xaxis": {
           "automargin": true,
           "gridcolor": "white",
           "linecolor": "white",
           "ticks": "",
           "title": {
            "standoff": 15
           },
           "zerolinecolor": "white",
           "zerolinewidth": 2
          },
          "yaxis": {
           "automargin": true,
           "gridcolor": "white",
           "linecolor": "white",
           "ticks": "",
           "title": {
            "standoff": 15
           },
           "zerolinecolor": "white",
           "zerolinewidth": 2
          }
         }
        }
       }
      },
      "text/html": [
       "<div>                            <div id=\"0c88ac12-cd17-488b-9e1e-96be864aa064\" class=\"plotly-graph-div\" style=\"height:525px; width:100%;\"></div>            <script type=\"text/javascript\">                require([\"plotly\"], function(Plotly) {                    window.PLOTLYENV=window.PLOTLYENV || {};                                    if (document.getElementById(\"0c88ac12-cd17-488b-9e1e-96be864aa064\")) {                    Plotly.newPlot(                        \"0c88ac12-cd17-488b-9e1e-96be864aa064\",                        [{\"hovertemplate\": \"tipo=fuel<br>lat=%{lat}<br>lon=%{lon}<extra></extra>\", \"lat\": [40.9053756, 40.906677, 40.856872, 40.8758331], \"legendgroup\": \"fuel\", \"lon\": [-3.6075875, -3.610172, -3.6128941, -3.602389], \"marker\": {\"color\": \"#636efa\"}, \"mode\": \"markers\", \"name\": \"fuel\", \"showlegend\": true, \"subplot\": \"mapbox\", \"type\": \"scattermapbox\"}, {\"hovertemplate\": \"tipo=school<br>lat=%{lat}<br>lon=%{lon}<extra></extra>\", \"lat\": [40.86772, 40.8558899, 40.8728757, 40.864566, 40.8723948, 40.8638645, 40.8723948, 40.8874382], \"legendgroup\": \"school\", \"lon\": [-3.6146961, -3.483306, -3.6064211, -3.6140581, -3.608802, -3.615523, -3.6088021, -3.5607974], \"marker\": {\"color\": \"#EF553B\"}, \"mode\": \"markers\", \"name\": \"school\", \"showlegend\": true, \"subplot\": \"mapbox\", \"type\": \"scattermapbox\"}],                        {\"legend\": {\"title\": {\"text\": \"tipo\"}, \"tracegroupgap\": 0}, \"mapbox\": {\"accesstoken\": \"pk.eyJ1IjoiZGFvcnRpIiwiYSI6ImNrZnF6M3FlczA3cDEyem16YTNzZmV4M2EifQ.846iF0sMSAXv0kwkwUTYjg\", \"center\": {\"lat\": 40.87515846666667, \"lon\": -3.595454033333333}, \"domain\": {\"x\": [0.0, 1.0], \"y\": [0.0, 1.0]}, \"zoom\": 11}, \"margin\": {\"t\": 60}, \"template\": {\"data\": {\"bar\": [{\"error_x\": {\"color\": \"#2a3f5f\"}, \"error_y\": {\"color\": \"#2a3f5f\"}, \"marker\": {\"line\": {\"color\": \"#E5ECF6\", \"width\": 0.5}}, \"type\": \"bar\"}], \"barpolar\": [{\"marker\": {\"line\": {\"color\": \"#E5ECF6\", \"width\": 0.5}}, \"type\": \"barpolar\"}], \"carpet\": [{\"aaxis\": {\"endlinecolor\": \"#2a3f5f\", \"gridcolor\": \"white\", \"linecolor\": \"white\", \"minorgridcolor\": \"white\", \"startlinecolor\": \"#2a3f5f\"}, \"baxis\": {\"endlinecolor\": \"#2a3f5f\", \"gridcolor\": \"white\", \"linecolor\": \"white\", \"minorgridcolor\": \"white\", \"startlinecolor\": \"#2a3f5f\"}, \"type\": \"carpet\"}], \"choropleth\": [{\"colorbar\": {\"outlinewidth\": 0, \"ticks\": \"\"}, \"type\": \"choropleth\"}], \"contour\": [{\"colorbar\": {\"outlinewidth\": 0, \"ticks\": \"\"}, \"colorscale\": [[0.0, \"#0d0887\"], [0.1111111111111111, \"#46039f\"], [0.2222222222222222, \"#7201a8\"], [0.3333333333333333, \"#9c179e\"], [0.4444444444444444, \"#bd3786\"], [0.5555555555555556, \"#d8576b\"], [0.6666666666666666, \"#ed7953\"], [0.7777777777777778, \"#fb9f3a\"], [0.8888888888888888, \"#fdca26\"], [1.0, \"#f0f921\"]], \"type\": \"contour\"}], \"contourcarpet\": [{\"colorbar\": {\"outlinewidth\": 0, \"ticks\": \"\"}, \"type\": \"contourcarpet\"}], \"heatmap\": [{\"colorbar\": {\"outlinewidth\": 0, \"ticks\": \"\"}, \"colorscale\": [[0.0, \"#0d0887\"], [0.1111111111111111, \"#46039f\"], [0.2222222222222222, \"#7201a8\"], [0.3333333333333333, \"#9c179e\"], [0.4444444444444444, \"#bd3786\"], [0.5555555555555556, \"#d8576b\"], [0.6666666666666666, \"#ed7953\"], [0.7777777777777778, \"#fb9f3a\"], [0.8888888888888888, \"#fdca26\"], [1.0, \"#f0f921\"]], \"type\": \"heatmap\"}], \"heatmapgl\": [{\"colorbar\": {\"outlinewidth\": 0, \"ticks\": \"\"}, \"colorscale\": [[0.0, \"#0d0887\"], [0.1111111111111111, \"#46039f\"], [0.2222222222222222, \"#7201a8\"], [0.3333333333333333, \"#9c179e\"], [0.4444444444444444, \"#bd3786\"], [0.5555555555555556, \"#d8576b\"], [0.6666666666666666, \"#ed7953\"], [0.7777777777777778, \"#fb9f3a\"], [0.8888888888888888, \"#fdca26\"], [1.0, \"#f0f921\"]], \"type\": \"heatmapgl\"}], \"histogram\": [{\"marker\": {\"colorbar\": {\"outlinewidth\": 0, \"ticks\": \"\"}}, \"type\": \"histogram\"}], \"histogram2d\": [{\"colorbar\": {\"outlinewidth\": 0, \"ticks\": \"\"}, \"colorscale\": [[0.0, \"#0d0887\"], [0.1111111111111111, \"#46039f\"], [0.2222222222222222, \"#7201a8\"], [0.3333333333333333, \"#9c179e\"], [0.4444444444444444, \"#bd3786\"], [0.5555555555555556, \"#d8576b\"], [0.6666666666666666, \"#ed7953\"], [0.7777777777777778, \"#fb9f3a\"], [0.8888888888888888, \"#fdca26\"], [1.0, \"#f0f921\"]], \"type\": \"histogram2d\"}], \"histogram2dcontour\": [{\"colorbar\": {\"outlinewidth\": 0, \"ticks\": \"\"}, \"colorscale\": [[0.0, \"#0d0887\"], [0.1111111111111111, \"#46039f\"], [0.2222222222222222, \"#7201a8\"], [0.3333333333333333, \"#9c179e\"], [0.4444444444444444, \"#bd3786\"], [0.5555555555555556, \"#d8576b\"], [0.6666666666666666, \"#ed7953\"], [0.7777777777777778, \"#fb9f3a\"], [0.8888888888888888, \"#fdca26\"], [1.0, \"#f0f921\"]], \"type\": \"histogram2dcontour\"}], \"mesh3d\": [{\"colorbar\": {\"outlinewidth\": 0, \"ticks\": \"\"}, \"type\": \"mesh3d\"}], \"parcoords\": [{\"line\": {\"colorbar\": {\"outlinewidth\": 0, \"ticks\": \"\"}}, \"type\": \"parcoords\"}], \"pie\": [{\"automargin\": true, \"type\": \"pie\"}], \"scatter\": [{\"marker\": {\"colorbar\": {\"outlinewidth\": 0, \"ticks\": \"\"}}, \"type\": \"scatter\"}], \"scatter3d\": [{\"line\": {\"colorbar\": {\"outlinewidth\": 0, \"ticks\": \"\"}}, \"marker\": {\"colorbar\": {\"outlinewidth\": 0, \"ticks\": \"\"}}, \"type\": \"scatter3d\"}], \"scattercarpet\": [{\"marker\": {\"colorbar\": {\"outlinewidth\": 0, \"ticks\": \"\"}}, \"type\": \"scattercarpet\"}], \"scattergeo\": [{\"marker\": {\"colorbar\": {\"outlinewidth\": 0, \"ticks\": \"\"}}, \"type\": \"scattergeo\"}], \"scattergl\": [{\"marker\": {\"colorbar\": {\"outlinewidth\": 0, \"ticks\": \"\"}}, \"type\": \"scattergl\"}], \"scattermapbox\": [{\"marker\": {\"colorbar\": {\"outlinewidth\": 0, \"ticks\": \"\"}}, \"type\": \"scattermapbox\"}], \"scatterpolar\": [{\"marker\": {\"colorbar\": {\"outlinewidth\": 0, \"ticks\": \"\"}}, \"type\": \"scatterpolar\"}], \"scatterpolargl\": [{\"marker\": {\"colorbar\": {\"outlinewidth\": 0, \"ticks\": \"\"}}, \"type\": \"scatterpolargl\"}], \"scatterternary\": [{\"marker\": {\"colorbar\": {\"outlinewidth\": 0, \"ticks\": \"\"}}, \"type\": \"scatterternary\"}], \"surface\": [{\"colorbar\": {\"outlinewidth\": 0, \"ticks\": \"\"}, \"colorscale\": [[0.0, \"#0d0887\"], [0.1111111111111111, \"#46039f\"], [0.2222222222222222, \"#7201a8\"], [0.3333333333333333, \"#9c179e\"], [0.4444444444444444, \"#bd3786\"], [0.5555555555555556, \"#d8576b\"], [0.6666666666666666, \"#ed7953\"], [0.7777777777777778, \"#fb9f3a\"], [0.8888888888888888, \"#fdca26\"], [1.0, \"#f0f921\"]], \"type\": \"surface\"}], \"table\": [{\"cells\": {\"fill\": {\"color\": \"#EBF0F8\"}, \"line\": {\"color\": \"white\"}}, \"header\": {\"fill\": {\"color\": \"#C8D4E3\"}, \"line\": {\"color\": \"white\"}}, \"type\": \"table\"}]}, \"layout\": {\"annotationdefaults\": {\"arrowcolor\": \"#2a3f5f\", \"arrowhead\": 0, \"arrowwidth\": 1}, \"coloraxis\": {\"colorbar\": {\"outlinewidth\": 0, \"ticks\": \"\"}}, \"colorscale\": {\"diverging\": [[0, \"#8e0152\"], [0.1, \"#c51b7d\"], [0.2, \"#de77ae\"], [0.3, \"#f1b6da\"], [0.4, \"#fde0ef\"], [0.5, \"#f7f7f7\"], [0.6, \"#e6f5d0\"], [0.7, \"#b8e186\"], [0.8, \"#7fbc41\"], [0.9, \"#4d9221\"], [1, \"#276419\"]], \"sequential\": [[0.0, \"#0d0887\"], [0.1111111111111111, \"#46039f\"], [0.2222222222222222, \"#7201a8\"], [0.3333333333333333, \"#9c179e\"], [0.4444444444444444, \"#bd3786\"], [0.5555555555555556, \"#d8576b\"], [0.6666666666666666, \"#ed7953\"], [0.7777777777777778, \"#fb9f3a\"], [0.8888888888888888, \"#fdca26\"], [1.0, \"#f0f921\"]], \"sequentialminus\": [[0.0, \"#0d0887\"], [0.1111111111111111, \"#46039f\"], [0.2222222222222222, \"#7201a8\"], [0.3333333333333333, \"#9c179e\"], [0.4444444444444444, \"#bd3786\"], [0.5555555555555556, \"#d8576b\"], [0.6666666666666666, \"#ed7953\"], [0.7777777777777778, \"#fb9f3a\"], [0.8888888888888888, \"#fdca26\"], [1.0, \"#f0f921\"]]}, \"colorway\": [\"#636efa\", \"#EF553B\", \"#00cc96\", \"#ab63fa\", \"#FFA15A\", \"#19d3f3\", \"#FF6692\", \"#B6E880\", \"#FF97FF\", \"#FECB52\"], \"font\": {\"color\": \"#2a3f5f\"}, \"geo\": {\"bgcolor\": \"white\", \"lakecolor\": \"white\", \"landcolor\": \"#E5ECF6\", \"showlakes\": true, \"showland\": true, \"subunitcolor\": \"white\"}, \"hoverlabel\": {\"align\": \"left\"}, \"hovermode\": \"closest\", \"mapbox\": {\"style\": \"light\"}, \"paper_bgcolor\": \"white\", \"plot_bgcolor\": \"#E5ECF6\", \"polar\": {\"angularaxis\": {\"gridcolor\": \"white\", \"linecolor\": \"white\", \"ticks\": \"\"}, \"bgcolor\": \"#E5ECF6\", \"radialaxis\": {\"gridcolor\": \"white\", \"linecolor\": \"white\", \"ticks\": \"\"}}, \"scene\": {\"xaxis\": {\"backgroundcolor\": \"#E5ECF6\", \"gridcolor\": \"white\", \"gridwidth\": 2, \"linecolor\": \"white\", \"showbackground\": true, \"ticks\": \"\", \"zerolinecolor\": \"white\"}, \"yaxis\": {\"backgroundcolor\": \"#E5ECF6\", \"gridcolor\": \"white\", \"gridwidth\": 2, \"linecolor\": \"white\", \"showbackground\": true, \"ticks\": \"\", \"zerolinecolor\": \"white\"}, \"zaxis\": {\"backgroundcolor\": \"#E5ECF6\", \"gridcolor\": \"white\", \"gridwidth\": 2, \"linecolor\": \"white\", \"showbackground\": true, \"ticks\": \"\", \"zerolinecolor\": \"white\"}}, \"shapedefaults\": {\"line\": {\"color\": \"#2a3f5f\"}}, \"ternary\": {\"aaxis\": {\"gridcolor\": \"white\", \"linecolor\": \"white\", \"ticks\": \"\"}, \"baxis\": {\"gridcolor\": \"white\", \"linecolor\": \"white\", \"ticks\": \"\"}, \"bgcolor\": \"#E5ECF6\", \"caxis\": {\"gridcolor\": \"white\", \"linecolor\": \"white\", \"ticks\": \"\"}}, \"title\": {\"x\": 0.05}, \"xaxis\": {\"automargin\": true, \"gridcolor\": \"white\", \"linecolor\": \"white\", \"ticks\": \"\", \"title\": {\"standoff\": 15}, \"zerolinecolor\": \"white\", \"zerolinewidth\": 2}, \"yaxis\": {\"automargin\": true, \"gridcolor\": \"white\", \"linecolor\": \"white\", \"ticks\": \"\", \"title\": {\"standoff\": 15}, \"zerolinecolor\": \"white\", \"zerolinewidth\": 2}}}},                        {\"responsive\": true}                    ).then(function(){\n",
       "                            \n",
       "var gd = document.getElementById('0c88ac12-cd17-488b-9e1e-96be864aa064');\n",
       "var x = new MutationObserver(function (mutations, observer) {{\n",
       "        var display = window.getComputedStyle(gd).display;\n",
       "        if (!display || display === 'none') {{\n",
       "            console.log([gd, 'removed!']);\n",
       "            Plotly.purge(gd);\n",
       "            observer.disconnect();\n",
       "        }}\n",
       "}});\n",
       "\n",
       "// Listen for the removal of the full notebook cells\n",
       "var notebookContainer = gd.closest('#notebook-container');\n",
       "if (notebookContainer) {{\n",
       "    x.observe(notebookContainer, {childList: true});\n",
       "}}\n",
       "\n",
       "// Listen for the clearing of the current output cell\n",
       "var outputEl = gd.closest('.output');\n",
       "if (outputEl) {{\n",
       "    x.observe(outputEl, {childList: true});\n",
       "}}\n",
       "\n",
       "                        })                };                });            </script>        </div>"
      ]
     },
     "metadata": {},
     "output_type": "display_data"
    }
   ],
   "source": [
    "pinta_mapa(df)"
   ]
  },
  {
   "cell_type": "markdown",
   "metadata": {},
   "source": [
    "## Zonas COVID\n",
    "Imagina que trabajas en el ayuntamiento de tu barrio/pueblo/ciudad, y por motivos del COVID tienes que identificar:\n",
    "1. Todas las zonas abiertas de uso común (zonas de barbacoas, fuentes de agua y parques infantiles (kindergarten)), para cerrarlas.\n",
    "2. Todos los hospitales y clínicas de la zona.\n",
    "\n",
    "Como no sabes muy bien qué puntos serán, utilizas la API de OpenStreetMap. Representa todo en un único mapa"
   ]
  },
  {
   "cell_type": "code",
   "execution_count": 92,
   "metadata": {},
   "outputs": [
    {
     "name": "stdout",
     "output_type": "stream",
     "text": [
      "<Response [200]>\n"
     ]
    },
    {
     "data": {
      "text/html": [
       "<div>\n",
       "<style scoped>\n",
       "    .dataframe tbody tr th:only-of-type {\n",
       "        vertical-align: middle;\n",
       "    }\n",
       "\n",
       "    .dataframe tbody tr th {\n",
       "        vertical-align: top;\n",
       "    }\n",
       "\n",
       "    .dataframe thead th {\n",
       "        text-align: right;\n",
       "    }\n",
       "</style>\n",
       "<table border=\"1\" class=\"dataframe\">\n",
       "  <thead>\n",
       "    <tr style=\"text-align: right;\">\n",
       "      <th></th>\n",
       "      <th>tipo</th>\n",
       "      <th>lat</th>\n",
       "      <th>lon</th>\n",
       "      <th>name</th>\n",
       "      <th>address</th>\n",
       "    </tr>\n",
       "  </thead>\n",
       "  <tbody>\n",
       "    <tr>\n",
       "      <th>0</th>\n",
       "      <td>drinking_water</td>\n",
       "      <td>40.436855</td>\n",
       "      <td>-3.819278</td>\n",
       "      <td>Fuente de la Poza</td>\n",
       "      <td>NO STREET 9999</td>\n",
       "    </tr>\n",
       "    <tr>\n",
       "      <th>1</th>\n",
       "      <td>drinking_water</td>\n",
       "      <td>40.440148</td>\n",
       "      <td>-3.765316</td>\n",
       "      <td>None</td>\n",
       "      <td>NO STREET 9999</td>\n",
       "    </tr>\n",
       "    <tr>\n",
       "      <th>2</th>\n",
       "      <td>drinking_water</td>\n",
       "      <td>40.454084</td>\n",
       "      <td>-3.808987</td>\n",
       "      <td>None</td>\n",
       "      <td>NO STREET 9999</td>\n",
       "    </tr>\n",
       "    <tr>\n",
       "      <th>3</th>\n",
       "      <td>drinking_water</td>\n",
       "      <td>40.447745</td>\n",
       "      <td>-3.789207</td>\n",
       "      <td>None</td>\n",
       "      <td>NO STREET 9999</td>\n",
       "    </tr>\n",
       "    <tr>\n",
       "      <th>4</th>\n",
       "      <td>drinking_water</td>\n",
       "      <td>40.449560</td>\n",
       "      <td>-3.787557</td>\n",
       "      <td>None</td>\n",
       "      <td>NO STREET 9999</td>\n",
       "    </tr>\n",
       "    <tr>\n",
       "      <th>...</th>\n",
       "      <td>...</td>\n",
       "      <td>...</td>\n",
       "      <td>...</td>\n",
       "      <td>...</td>\n",
       "      <td>...</td>\n",
       "    </tr>\n",
       "    <tr>\n",
       "      <th>112</th>\n",
       "      <td>kindergarten</td>\n",
       "      <td>40.454846</td>\n",
       "      <td>-3.795735</td>\n",
       "      <td>Mi Pequeña Granja</td>\n",
       "      <td>NO STREET 9999</td>\n",
       "    </tr>\n",
       "    <tr>\n",
       "      <th>113</th>\n",
       "      <td>kindergarten</td>\n",
       "      <td>40.461235</td>\n",
       "      <td>-3.787613</td>\n",
       "      <td>Pentapolín</td>\n",
       "      <td>NO STREET 9999</td>\n",
       "    </tr>\n",
       "    <tr>\n",
       "      <th>114</th>\n",
       "      <td>kindergarten</td>\n",
       "      <td>40.460623</td>\n",
       "      <td>-3.783490</td>\n",
       "      <td>Alaria</td>\n",
       "      <td>NO STREET 9999</td>\n",
       "    </tr>\n",
       "    <tr>\n",
       "      <th>115</th>\n",
       "      <td>kindergarten</td>\n",
       "      <td>40.460337</td>\n",
       "      <td>-3.783349</td>\n",
       "      <td>El Osito de Papel</td>\n",
       "      <td>NO STREET 9999</td>\n",
       "    </tr>\n",
       "    <tr>\n",
       "      <th>116</th>\n",
       "      <td>kindergarten</td>\n",
       "      <td>40.443265</td>\n",
       "      <td>-3.785001</td>\n",
       "      <td>Kiddu</td>\n",
       "      <td>NO STREET 9999</td>\n",
       "    </tr>\n",
       "  </tbody>\n",
       "</table>\n",
       "<p>117 rows × 5 columns</p>\n",
       "</div>"
      ],
      "text/plain": [
       "               tipo        lat       lon               name         address\n",
       "0    drinking_water  40.436855 -3.819278  Fuente de la Poza  NO STREET 9999\n",
       "1    drinking_water  40.440148 -3.765316               None  NO STREET 9999\n",
       "2    drinking_water  40.454084 -3.808987               None  NO STREET 9999\n",
       "3    drinking_water  40.447745 -3.789207               None  NO STREET 9999\n",
       "4    drinking_water  40.449560 -3.787557               None  NO STREET 9999\n",
       "..              ...        ...       ...                ...             ...\n",
       "112    kindergarten  40.454846 -3.795735  Mi Pequeña Granja  NO STREET 9999\n",
       "113    kindergarten  40.461235 -3.787613         Pentapolín  NO STREET 9999\n",
       "114    kindergarten  40.460623 -3.783490             Alaria  NO STREET 9999\n",
       "115    kindergarten  40.460337 -3.783349  El Osito de Papel  NO STREET 9999\n",
       "116    kindergarten  40.443265 -3.785001              Kiddu  NO STREET 9999\n",
       "\n",
       "[117 rows x 5 columns]"
      ]
     },
     "execution_count": 92,
     "metadata": {},
     "output_type": "execute_result"
    }
   ],
   "source": [
    "overpass_query = \"\"\"\n",
    "[out:json];\n",
    "node[\"amenity\"=\"bbq\"]\n",
    "  (40.430292, -3.829166, 40.465285, -3.764212);\n",
    "out;\n",
    "node[\"amenity\"=\"drinking_water\"]\n",
    "  (40.430292, -3.829166, 40.465285, -3.764212);\n",
    "out;\n",
    "node[\"amenity\"=\"hospital\"]\n",
    "  (40.430292, -3.829166, 40.465285, -3.764212);\n",
    "out;\n",
    "node[\"amenity\"=\"clinic\"]\n",
    "  (40.430292, -3.829166, 40.465285, -3.764212);\n",
    "out;\n",
    "node[\"amenity\"=\"kindergarten\"]\n",
    "  (40.430292, -3.829166, 40.465285, -3.764212);\n",
    "out;\n",
    "\"\"\"\n",
    "response = requests.get(overpass_url, \n",
    "                        params={'data': overpass_query})\n",
    "print(response)\n",
    "data = response.json()\n",
    "df = json_to_df(data)\n",
    "df"
   ]
  },
  {
   "cell_type": "code",
   "execution_count": 93,
   "metadata": {},
   "outputs": [
    {
     "data": {
      "application/vnd.plotly.v1+json": {
       "config": {
        "plotlyServerURL": "https://plot.ly"
       },
       "data": [
        {
         "hovertemplate": "tipo=drinking_water<br>lat=%{lat}<br>lon=%{lon}<extra></extra>",
         "lat": [
          40.436855,
          40.4401477,
          40.454084,
          40.4477453,
          40.4495597,
          40.450262,
          40.451191,
          40.4522311,
          40.4527338,
          40.4527671,
          40.4530499,
          40.4533844,
          40.4544427,
          40.4561177,
          40.4567962,
          40.4577754,
          40.4587109,
          40.459001,
          40.4594249,
          40.4606112,
          40.4618897,
          40.4620442,
          40.4492799,
          40.4497577,
          40.449861,
          40.4500939,
          40.4501866,
          40.450413,
          40.4504186,
          40.4507046,
          40.4509135,
          40.4510048,
          40.4513687,
          40.4515356,
          40.4516383,
          40.4519364,
          40.4520844,
          40.4521156,
          40.4534702,
          40.4543398,
          40.4544603,
          40.457309,
          40.4408617,
          40.4529528,
          40.4446304,
          40.4354206,
          40.4489957,
          40.4529723,
          40.4354417,
          40.4366217,
          40.4349093,
          40.4509953,
          40.4504927,
          40.4515778,
          40.434767,
          40.434684,
          40.4390604,
          40.4429124,
          40.4521992,
          40.4529701,
          40.4530041,
          40.43258,
          40.4434368,
          40.4401649,
          40.4427019,
          40.4395133,
          40.4477302,
          40.4354916,
          40.4465162,
          40.4488956,
          40.4384182,
          40.4552837,
          40.4405524,
          40.4402659,
          40.441708
         ],
         "legendgroup": "drinking_water",
         "lon": [
          -3.8192777,
          -3.765316,
          -3.8089868,
          -3.7892071,
          -3.7875568,
          -3.7900143,
          -3.782137,
          -3.7923778,
          -3.7828561,
          -3.7794478,
          -3.7902693,
          -3.7883204,
          -3.7903483,
          -3.7819559,
          -3.7831914,
          -3.7802169,
          -3.7853399,
          -3.7966934,
          -3.7794198,
          -3.7865102,
          -3.7803463,
          -3.7812268,
          -3.7693691,
          -3.7740248,
          -3.7656286,
          -3.7724746,
          -3.7739799,
          -3.771261,
          -3.7709395,
          -3.7739981,
          -3.7697779,
          -3.7777305,
          -3.7771221,
          -3.7705752,
          -3.7686139,
          -3.7787755,
          -3.7702592,
          -3.7739966,
          -3.7760326,
          -3.7651854,
          -3.7788297,
          -3.7655521,
          -3.8072827,
          -3.8079484,
          -3.8131941,
          -3.8007491,
          -3.8042881,
          -3.8079735,
          -3.8025858,
          -3.8007385,
          -3.8044125,
          -3.7950022,
          -3.7947449,
          -3.7946218,
          -3.8141441,
          -3.8143451,
          -3.817311,
          -3.8145289,
          -3.8087892,
          -3.7705908,
          -3.7706177,
          -3.793128,
          -3.8140783,
          -3.8163059,
          -3.8142452,
          -3.8167443,
          -3.8128739,
          -3.801606,
          -3.8056919,
          -3.8029214,
          -3.8053137,
          -3.7665483,
          -3.7835739,
          -3.8024438,
          -3.7959121
         ],
         "marker": {
          "color": "#636efa"
         },
         "mode": "markers",
         "name": "drinking_water",
         "showlegend": true,
         "subplot": "mapbox",
         "type": "scattermapbox"
        },
        {
         "hovertemplate": "tipo=clinic<br>lat=%{lat}<br>lon=%{lon}<extra></extra>",
         "lat": [
          40.4390019,
          40.4387882,
          40.4351166,
          40.4461506,
          40.4473515,
          40.4351343,
          40.4463442,
          40.4391582,
          40.4359778,
          40.4338867,
          40.4337088,
          40.4359377,
          40.435637,
          40.4414572,
          40.434941,
          40.4482077,
          40.43253,
          40.4322485,
          40.4320823,
          40.4450316,
          40.4339243,
          40.4449717,
          40.4382793,
          40.4518661
         ],
         "legendgroup": "clinic",
         "lon": [
          -3.80238,
          -3.816941,
          -3.8108456,
          -3.8009814,
          -3.801251,
          -3.8042632,
          -3.8008886,
          -3.7906175,
          -3.8141764,
          -3.8069784,
          -3.8077001,
          -3.8128319,
          -3.8099455,
          -3.8031649,
          -3.8034373,
          -3.784649,
          -3.8082496,
          -3.807748,
          -3.8037059,
          -3.7844374,
          -3.8061754,
          -3.7898467,
          -3.7941449,
          -3.7848343
         ],
         "marker": {
          "color": "#EF553B"
         },
         "mode": "markers",
         "name": "clinic",
         "showlegend": true,
         "subplot": "mapbox",
         "type": "scattermapbox"
        },
        {
         "hovertemplate": "tipo=kindergarten<br>lat=%{lat}<br>lon=%{lon}<extra></extra>",
         "lat": [
          40.4583377,
          40.4581755,
          40.4309856,
          40.438013,
          40.4494617,
          40.4366891,
          40.4368901,
          40.4374922,
          40.4379602,
          40.4600873,
          40.4602341,
          40.4600023,
          40.4598941,
          40.4548461,
          40.4612347,
          40.4606231,
          40.4603371,
          40.4432646
         ],
         "legendgroup": "kindergarten",
         "lon": [
          -3.7763869,
          -3.8041005,
          -3.816502,
          -3.7971127,
          -3.7820985,
          -3.7937526,
          -3.7968149,
          -3.8116243,
          -3.8081354,
          -3.7801104,
          -3.7818613,
          -3.7806991,
          -3.7820542,
          -3.7957349,
          -3.787613,
          -3.7834897,
          -3.7833486,
          -3.7850005
         ],
         "marker": {
          "color": "#00cc96"
         },
         "mode": "markers",
         "name": "kindergarten",
         "showlegend": true,
         "subplot": "mapbox",
         "type": "scattermapbox"
        }
       ],
       "layout": {
        "legend": {
         "title": {
          "text": "tipo"
         },
         "tracegroupgap": 0
        },
        "mapbox": {
         "accesstoken": "pk.eyJ1IjoiZGFvcnRpIiwiYSI6ImNrZnF6M3FlczA3cDEyem16YTNzZmV4M2EifQ.846iF0sMSAXv0kwkwUTYjg",
         "center": {
          "lat": 40.44696330256412,
          "lon": -3.7926241957264972
         },
         "domain": {
          "x": [
           0,
           1
          ],
          "y": [
           0,
           1
          ]
         },
         "zoom": 11
        },
        "margin": {
         "t": 60
        },
        "template": {
         "data": {
          "bar": [
           {
            "error_x": {
             "color": "#2a3f5f"
            },
            "error_y": {
             "color": "#2a3f5f"
            },
            "marker": {
             "line": {
              "color": "#E5ECF6",
              "width": 0.5
             }
            },
            "type": "bar"
           }
          ],
          "barpolar": [
           {
            "marker": {
             "line": {
              "color": "#E5ECF6",
              "width": 0.5
             }
            },
            "type": "barpolar"
           }
          ],
          "carpet": [
           {
            "aaxis": {
             "endlinecolor": "#2a3f5f",
             "gridcolor": "white",
             "linecolor": "white",
             "minorgridcolor": "white",
             "startlinecolor": "#2a3f5f"
            },
            "baxis": {
             "endlinecolor": "#2a3f5f",
             "gridcolor": "white",
             "linecolor": "white",
             "minorgridcolor": "white",
             "startlinecolor": "#2a3f5f"
            },
            "type": "carpet"
           }
          ],
          "choropleth": [
           {
            "colorbar": {
             "outlinewidth": 0,
             "ticks": ""
            },
            "type": "choropleth"
           }
          ],
          "contour": [
           {
            "colorbar": {
             "outlinewidth": 0,
             "ticks": ""
            },
            "colorscale": [
             [
              0,
              "#0d0887"
             ],
             [
              0.1111111111111111,
              "#46039f"
             ],
             [
              0.2222222222222222,
              "#7201a8"
             ],
             [
              0.3333333333333333,
              "#9c179e"
             ],
             [
              0.4444444444444444,
              "#bd3786"
             ],
             [
              0.5555555555555556,
              "#d8576b"
             ],
             [
              0.6666666666666666,
              "#ed7953"
             ],
             [
              0.7777777777777778,
              "#fb9f3a"
             ],
             [
              0.8888888888888888,
              "#fdca26"
             ],
             [
              1,
              "#f0f921"
             ]
            ],
            "type": "contour"
           }
          ],
          "contourcarpet": [
           {
            "colorbar": {
             "outlinewidth": 0,
             "ticks": ""
            },
            "type": "contourcarpet"
           }
          ],
          "heatmap": [
           {
            "colorbar": {
             "outlinewidth": 0,
             "ticks": ""
            },
            "colorscale": [
             [
              0,
              "#0d0887"
             ],
             [
              0.1111111111111111,
              "#46039f"
             ],
             [
              0.2222222222222222,
              "#7201a8"
             ],
             [
              0.3333333333333333,
              "#9c179e"
             ],
             [
              0.4444444444444444,
              "#bd3786"
             ],
             [
              0.5555555555555556,
              "#d8576b"
             ],
             [
              0.6666666666666666,
              "#ed7953"
             ],
             [
              0.7777777777777778,
              "#fb9f3a"
             ],
             [
              0.8888888888888888,
              "#fdca26"
             ],
             [
              1,
              "#f0f921"
             ]
            ],
            "type": "heatmap"
           }
          ],
          "heatmapgl": [
           {
            "colorbar": {
             "outlinewidth": 0,
             "ticks": ""
            },
            "colorscale": [
             [
              0,
              "#0d0887"
             ],
             [
              0.1111111111111111,
              "#46039f"
             ],
             [
              0.2222222222222222,
              "#7201a8"
             ],
             [
              0.3333333333333333,
              "#9c179e"
             ],
             [
              0.4444444444444444,
              "#bd3786"
             ],
             [
              0.5555555555555556,
              "#d8576b"
             ],
             [
              0.6666666666666666,
              "#ed7953"
             ],
             [
              0.7777777777777778,
              "#fb9f3a"
             ],
             [
              0.8888888888888888,
              "#fdca26"
             ],
             [
              1,
              "#f0f921"
             ]
            ],
            "type": "heatmapgl"
           }
          ],
          "histogram": [
           {
            "marker": {
             "colorbar": {
              "outlinewidth": 0,
              "ticks": ""
             }
            },
            "type": "histogram"
           }
          ],
          "histogram2d": [
           {
            "colorbar": {
             "outlinewidth": 0,
             "ticks": ""
            },
            "colorscale": [
             [
              0,
              "#0d0887"
             ],
             [
              0.1111111111111111,
              "#46039f"
             ],
             [
              0.2222222222222222,
              "#7201a8"
             ],
             [
              0.3333333333333333,
              "#9c179e"
             ],
             [
              0.4444444444444444,
              "#bd3786"
             ],
             [
              0.5555555555555556,
              "#d8576b"
             ],
             [
              0.6666666666666666,
              "#ed7953"
             ],
             [
              0.7777777777777778,
              "#fb9f3a"
             ],
             [
              0.8888888888888888,
              "#fdca26"
             ],
             [
              1,
              "#f0f921"
             ]
            ],
            "type": "histogram2d"
           }
          ],
          "histogram2dcontour": [
           {
            "colorbar": {
             "outlinewidth": 0,
             "ticks": ""
            },
            "colorscale": [
             [
              0,
              "#0d0887"
             ],
             [
              0.1111111111111111,
              "#46039f"
             ],
             [
              0.2222222222222222,
              "#7201a8"
             ],
             [
              0.3333333333333333,
              "#9c179e"
             ],
             [
              0.4444444444444444,
              "#bd3786"
             ],
             [
              0.5555555555555556,
              "#d8576b"
             ],
             [
              0.6666666666666666,
              "#ed7953"
             ],
             [
              0.7777777777777778,
              "#fb9f3a"
             ],
             [
              0.8888888888888888,
              "#fdca26"
             ],
             [
              1,
              "#f0f921"
             ]
            ],
            "type": "histogram2dcontour"
           }
          ],
          "mesh3d": [
           {
            "colorbar": {
             "outlinewidth": 0,
             "ticks": ""
            },
            "type": "mesh3d"
           }
          ],
          "parcoords": [
           {
            "line": {
             "colorbar": {
              "outlinewidth": 0,
              "ticks": ""
             }
            },
            "type": "parcoords"
           }
          ],
          "pie": [
           {
            "automargin": true,
            "type": "pie"
           }
          ],
          "scatter": [
           {
            "marker": {
             "colorbar": {
              "outlinewidth": 0,
              "ticks": ""
             }
            },
            "type": "scatter"
           }
          ],
          "scatter3d": [
           {
            "line": {
             "colorbar": {
              "outlinewidth": 0,
              "ticks": ""
             }
            },
            "marker": {
             "colorbar": {
              "outlinewidth": 0,
              "ticks": ""
             }
            },
            "type": "scatter3d"
           }
          ],
          "scattercarpet": [
           {
            "marker": {
             "colorbar": {
              "outlinewidth": 0,
              "ticks": ""
             }
            },
            "type": "scattercarpet"
           }
          ],
          "scattergeo": [
           {
            "marker": {
             "colorbar": {
              "outlinewidth": 0,
              "ticks": ""
             }
            },
            "type": "scattergeo"
           }
          ],
          "scattergl": [
           {
            "marker": {
             "colorbar": {
              "outlinewidth": 0,
              "ticks": ""
             }
            },
            "type": "scattergl"
           }
          ],
          "scattermapbox": [
           {
            "marker": {
             "colorbar": {
              "outlinewidth": 0,
              "ticks": ""
             }
            },
            "type": "scattermapbox"
           }
          ],
          "scatterpolar": [
           {
            "marker": {
             "colorbar": {
              "outlinewidth": 0,
              "ticks": ""
             }
            },
            "type": "scatterpolar"
           }
          ],
          "scatterpolargl": [
           {
            "marker": {
             "colorbar": {
              "outlinewidth": 0,
              "ticks": ""
             }
            },
            "type": "scatterpolargl"
           }
          ],
          "scatterternary": [
           {
            "marker": {
             "colorbar": {
              "outlinewidth": 0,
              "ticks": ""
             }
            },
            "type": "scatterternary"
           }
          ],
          "surface": [
           {
            "colorbar": {
             "outlinewidth": 0,
             "ticks": ""
            },
            "colorscale": [
             [
              0,
              "#0d0887"
             ],
             [
              0.1111111111111111,
              "#46039f"
             ],
             [
              0.2222222222222222,
              "#7201a8"
             ],
             [
              0.3333333333333333,
              "#9c179e"
             ],
             [
              0.4444444444444444,
              "#bd3786"
             ],
             [
              0.5555555555555556,
              "#d8576b"
             ],
             [
              0.6666666666666666,
              "#ed7953"
             ],
             [
              0.7777777777777778,
              "#fb9f3a"
             ],
             [
              0.8888888888888888,
              "#fdca26"
             ],
             [
              1,
              "#f0f921"
             ]
            ],
            "type": "surface"
           }
          ],
          "table": [
           {
            "cells": {
             "fill": {
              "color": "#EBF0F8"
             },
             "line": {
              "color": "white"
             }
            },
            "header": {
             "fill": {
              "color": "#C8D4E3"
             },
             "line": {
              "color": "white"
             }
            },
            "type": "table"
           }
          ]
         },
         "layout": {
          "annotationdefaults": {
           "arrowcolor": "#2a3f5f",
           "arrowhead": 0,
           "arrowwidth": 1
          },
          "coloraxis": {
           "colorbar": {
            "outlinewidth": 0,
            "ticks": ""
           }
          },
          "colorscale": {
           "diverging": [
            [
             0,
             "#8e0152"
            ],
            [
             0.1,
             "#c51b7d"
            ],
            [
             0.2,
             "#de77ae"
            ],
            [
             0.3,
             "#f1b6da"
            ],
            [
             0.4,
             "#fde0ef"
            ],
            [
             0.5,
             "#f7f7f7"
            ],
            [
             0.6,
             "#e6f5d0"
            ],
            [
             0.7,
             "#b8e186"
            ],
            [
             0.8,
             "#7fbc41"
            ],
            [
             0.9,
             "#4d9221"
            ],
            [
             1,
             "#276419"
            ]
           ],
           "sequential": [
            [
             0,
             "#0d0887"
            ],
            [
             0.1111111111111111,
             "#46039f"
            ],
            [
             0.2222222222222222,
             "#7201a8"
            ],
            [
             0.3333333333333333,
             "#9c179e"
            ],
            [
             0.4444444444444444,
             "#bd3786"
            ],
            [
             0.5555555555555556,
             "#d8576b"
            ],
            [
             0.6666666666666666,
             "#ed7953"
            ],
            [
             0.7777777777777778,
             "#fb9f3a"
            ],
            [
             0.8888888888888888,
             "#fdca26"
            ],
            [
             1,
             "#f0f921"
            ]
           ],
           "sequentialminus": [
            [
             0,
             "#0d0887"
            ],
            [
             0.1111111111111111,
             "#46039f"
            ],
            [
             0.2222222222222222,
             "#7201a8"
            ],
            [
             0.3333333333333333,
             "#9c179e"
            ],
            [
             0.4444444444444444,
             "#bd3786"
            ],
            [
             0.5555555555555556,
             "#d8576b"
            ],
            [
             0.6666666666666666,
             "#ed7953"
            ],
            [
             0.7777777777777778,
             "#fb9f3a"
            ],
            [
             0.8888888888888888,
             "#fdca26"
            ],
            [
             1,
             "#f0f921"
            ]
           ]
          },
          "colorway": [
           "#636efa",
           "#EF553B",
           "#00cc96",
           "#ab63fa",
           "#FFA15A",
           "#19d3f3",
           "#FF6692",
           "#B6E880",
           "#FF97FF",
           "#FECB52"
          ],
          "font": {
           "color": "#2a3f5f"
          },
          "geo": {
           "bgcolor": "white",
           "lakecolor": "white",
           "landcolor": "#E5ECF6",
           "showlakes": true,
           "showland": true,
           "subunitcolor": "white"
          },
          "hoverlabel": {
           "align": "left"
          },
          "hovermode": "closest",
          "mapbox": {
           "style": "light"
          },
          "paper_bgcolor": "white",
          "plot_bgcolor": "#E5ECF6",
          "polar": {
           "angularaxis": {
            "gridcolor": "white",
            "linecolor": "white",
            "ticks": ""
           },
           "bgcolor": "#E5ECF6",
           "radialaxis": {
            "gridcolor": "white",
            "linecolor": "white",
            "ticks": ""
           }
          },
          "scene": {
           "xaxis": {
            "backgroundcolor": "#E5ECF6",
            "gridcolor": "white",
            "gridwidth": 2,
            "linecolor": "white",
            "showbackground": true,
            "ticks": "",
            "zerolinecolor": "white"
           },
           "yaxis": {
            "backgroundcolor": "#E5ECF6",
            "gridcolor": "white",
            "gridwidth": 2,
            "linecolor": "white",
            "showbackground": true,
            "ticks": "",
            "zerolinecolor": "white"
           },
           "zaxis": {
            "backgroundcolor": "#E5ECF6",
            "gridcolor": "white",
            "gridwidth": 2,
            "linecolor": "white",
            "showbackground": true,
            "ticks": "",
            "zerolinecolor": "white"
           }
          },
          "shapedefaults": {
           "line": {
            "color": "#2a3f5f"
           }
          },
          "ternary": {
           "aaxis": {
            "gridcolor": "white",
            "linecolor": "white",
            "ticks": ""
           },
           "baxis": {
            "gridcolor": "white",
            "linecolor": "white",
            "ticks": ""
           },
           "bgcolor": "#E5ECF6",
           "caxis": {
            "gridcolor": "white",
            "linecolor": "white",
            "ticks": ""
           }
          },
          "title": {
           "x": 0.05
          },
          "xaxis": {
           "automargin": true,
           "gridcolor": "white",
           "linecolor": "white",
           "ticks": "",
           "title": {
            "standoff": 15
           },
           "zerolinecolor": "white",
           "zerolinewidth": 2
          },
          "yaxis": {
           "automargin": true,
           "gridcolor": "white",
           "linecolor": "white",
           "ticks": "",
           "title": {
            "standoff": 15
           },
           "zerolinecolor": "white",
           "zerolinewidth": 2
          }
         }
        }
       }
      },
      "text/html": [
       "<div>                            <div id=\"a678be7c-c611-45b2-b19f-e268a8684c7e\" class=\"plotly-graph-div\" style=\"height:525px; width:100%;\"></div>            <script type=\"text/javascript\">                require([\"plotly\"], function(Plotly) {                    window.PLOTLYENV=window.PLOTLYENV || {};                                    if (document.getElementById(\"a678be7c-c611-45b2-b19f-e268a8684c7e\")) {                    Plotly.newPlot(                        \"a678be7c-c611-45b2-b19f-e268a8684c7e\",                        [{\"hovertemplate\": \"tipo=drinking_water<br>lat=%{lat}<br>lon=%{lon}<extra></extra>\", \"lat\": [40.436855, 40.4401477, 40.454084, 40.4477453, 40.4495597, 40.450262, 40.451191, 40.4522311, 40.4527338, 40.4527671, 40.4530499, 40.4533844, 40.4544427, 40.4561177, 40.4567962, 40.4577754, 40.4587109, 40.459001, 40.4594249, 40.4606112, 40.4618897, 40.4620442, 40.4492799, 40.4497577, 40.449861, 40.4500939, 40.4501866, 40.450413, 40.4504186, 40.4507046, 40.4509135, 40.4510048, 40.4513687, 40.4515356, 40.4516383, 40.4519364, 40.4520844, 40.4521156, 40.4534702, 40.4543398, 40.4544603, 40.457309, 40.4408617, 40.4529528, 40.4446304, 40.4354206, 40.4489957, 40.4529723, 40.4354417, 40.4366217, 40.4349093, 40.4509953, 40.4504927, 40.4515778, 40.434767, 40.434684, 40.4390604, 40.4429124, 40.4521992, 40.4529701, 40.4530041, 40.43258, 40.4434368, 40.4401649, 40.4427019, 40.4395133, 40.4477302, 40.4354916, 40.4465162, 40.4488956, 40.4384182, 40.4552837, 40.4405524, 40.4402659, 40.441708], \"legendgroup\": \"drinking_water\", \"lon\": [-3.8192777, -3.765316, -3.8089868, -3.7892071, -3.7875568, -3.7900143, -3.782137, -3.7923778, -3.7828561, -3.7794478, -3.7902693, -3.7883204, -3.7903483, -3.7819559, -3.7831914, -3.7802169, -3.7853399, -3.7966934, -3.7794198, -3.7865102, -3.7803463, -3.7812268, -3.7693691, -3.7740248, -3.7656286, -3.7724746, -3.7739799, -3.771261, -3.7709395, -3.7739981, -3.7697779, -3.7777305, -3.7771221, -3.7705752, -3.7686139, -3.7787755, -3.7702592, -3.7739966, -3.7760326, -3.7651854, -3.7788297, -3.7655521, -3.8072827, -3.8079484, -3.8131941, -3.8007491, -3.8042881, -3.8079735, -3.8025858, -3.8007385, -3.8044125, -3.7950022, -3.7947449, -3.7946218, -3.8141441, -3.8143451, -3.817311, -3.8145289, -3.8087892, -3.7705908, -3.7706177, -3.793128, -3.8140783, -3.8163059, -3.8142452, -3.8167443, -3.8128739, -3.801606, -3.8056919, -3.8029214, -3.8053137, -3.7665483, -3.7835739, -3.8024438, -3.7959121], \"marker\": {\"color\": \"#636efa\"}, \"mode\": \"markers\", \"name\": \"drinking_water\", \"showlegend\": true, \"subplot\": \"mapbox\", \"type\": \"scattermapbox\"}, {\"hovertemplate\": \"tipo=clinic<br>lat=%{lat}<br>lon=%{lon}<extra></extra>\", \"lat\": [40.4390019, 40.4387882, 40.4351166, 40.4461506, 40.4473515, 40.4351343, 40.4463442, 40.4391582, 40.4359778, 40.4338867, 40.4337088, 40.4359377, 40.435637, 40.4414572, 40.434941, 40.4482077, 40.43253, 40.4322485, 40.4320823, 40.4450316, 40.4339243, 40.4449717, 40.4382793, 40.4518661], \"legendgroup\": \"clinic\", \"lon\": [-3.80238, -3.816941, -3.8108456, -3.8009814, -3.801251, -3.8042632, -3.8008886, -3.7906175, -3.8141764, -3.8069784, -3.8077001, -3.8128319, -3.8099455, -3.8031649, -3.8034373, -3.784649, -3.8082496, -3.807748, -3.8037059, -3.7844374, -3.8061754, -3.7898467, -3.7941449, -3.7848343], \"marker\": {\"color\": \"#EF553B\"}, \"mode\": \"markers\", \"name\": \"clinic\", \"showlegend\": true, \"subplot\": \"mapbox\", \"type\": \"scattermapbox\"}, {\"hovertemplate\": \"tipo=kindergarten<br>lat=%{lat}<br>lon=%{lon}<extra></extra>\", \"lat\": [40.4583377, 40.4581755, 40.4309856, 40.438013, 40.4494617, 40.4366891, 40.4368901, 40.4374922, 40.4379602, 40.4600873, 40.4602341, 40.4600023, 40.4598941, 40.4548461, 40.4612347, 40.4606231, 40.4603371, 40.4432646], \"legendgroup\": \"kindergarten\", \"lon\": [-3.7763869, -3.8041005, -3.816502, -3.7971127, -3.7820985, -3.7937526, -3.7968149, -3.8116243, -3.8081354, -3.7801104, -3.7818613, -3.7806991, -3.7820542, -3.7957349, -3.787613, -3.7834897, -3.7833486, -3.7850005], \"marker\": {\"color\": \"#00cc96\"}, \"mode\": \"markers\", \"name\": \"kindergarten\", \"showlegend\": true, \"subplot\": \"mapbox\", \"type\": \"scattermapbox\"}],                        {\"legend\": {\"title\": {\"text\": \"tipo\"}, \"tracegroupgap\": 0}, \"mapbox\": {\"accesstoken\": \"pk.eyJ1IjoiZGFvcnRpIiwiYSI6ImNrZnF6M3FlczA3cDEyem16YTNzZmV4M2EifQ.846iF0sMSAXv0kwkwUTYjg\", \"center\": {\"lat\": 40.44696330256412, \"lon\": -3.7926241957264972}, \"domain\": {\"x\": [0.0, 1.0], \"y\": [0.0, 1.0]}, \"zoom\": 11}, \"margin\": {\"t\": 60}, \"template\": {\"data\": {\"bar\": [{\"error_x\": {\"color\": \"#2a3f5f\"}, \"error_y\": {\"color\": \"#2a3f5f\"}, \"marker\": {\"line\": {\"color\": \"#E5ECF6\", \"width\": 0.5}}, \"type\": \"bar\"}], \"barpolar\": [{\"marker\": {\"line\": {\"color\": \"#E5ECF6\", \"width\": 0.5}}, \"type\": \"barpolar\"}], \"carpet\": [{\"aaxis\": {\"endlinecolor\": \"#2a3f5f\", \"gridcolor\": \"white\", \"linecolor\": \"white\", \"minorgridcolor\": \"white\", \"startlinecolor\": \"#2a3f5f\"}, \"baxis\": {\"endlinecolor\": \"#2a3f5f\", \"gridcolor\": \"white\", \"linecolor\": \"white\", \"minorgridcolor\": \"white\", \"startlinecolor\": \"#2a3f5f\"}, \"type\": \"carpet\"}], \"choropleth\": [{\"colorbar\": {\"outlinewidth\": 0, \"ticks\": \"\"}, \"type\": \"choropleth\"}], \"contour\": [{\"colorbar\": {\"outlinewidth\": 0, \"ticks\": \"\"}, \"colorscale\": [[0.0, \"#0d0887\"], [0.1111111111111111, \"#46039f\"], [0.2222222222222222, \"#7201a8\"], [0.3333333333333333, \"#9c179e\"], [0.4444444444444444, \"#bd3786\"], [0.5555555555555556, \"#d8576b\"], [0.6666666666666666, \"#ed7953\"], [0.7777777777777778, \"#fb9f3a\"], [0.8888888888888888, \"#fdca26\"], [1.0, \"#f0f921\"]], \"type\": \"contour\"}], \"contourcarpet\": [{\"colorbar\": {\"outlinewidth\": 0, \"ticks\": \"\"}, \"type\": \"contourcarpet\"}], \"heatmap\": [{\"colorbar\": {\"outlinewidth\": 0, \"ticks\": \"\"}, \"colorscale\": [[0.0, \"#0d0887\"], [0.1111111111111111, \"#46039f\"], [0.2222222222222222, \"#7201a8\"], [0.3333333333333333, \"#9c179e\"], [0.4444444444444444, \"#bd3786\"], [0.5555555555555556, \"#d8576b\"], [0.6666666666666666, \"#ed7953\"], [0.7777777777777778, \"#fb9f3a\"], [0.8888888888888888, \"#fdca26\"], [1.0, \"#f0f921\"]], \"type\": \"heatmap\"}], \"heatmapgl\": [{\"colorbar\": {\"outlinewidth\": 0, \"ticks\": \"\"}, \"colorscale\": [[0.0, \"#0d0887\"], [0.1111111111111111, \"#46039f\"], [0.2222222222222222, \"#7201a8\"], [0.3333333333333333, \"#9c179e\"], [0.4444444444444444, \"#bd3786\"], [0.5555555555555556, \"#d8576b\"], [0.6666666666666666, \"#ed7953\"], [0.7777777777777778, \"#fb9f3a\"], [0.8888888888888888, \"#fdca26\"], [1.0, \"#f0f921\"]], \"type\": \"heatmapgl\"}], \"histogram\": [{\"marker\": {\"colorbar\": {\"outlinewidth\": 0, \"ticks\": \"\"}}, \"type\": \"histogram\"}], \"histogram2d\": [{\"colorbar\": {\"outlinewidth\": 0, \"ticks\": \"\"}, \"colorscale\": [[0.0, \"#0d0887\"], [0.1111111111111111, \"#46039f\"], [0.2222222222222222, \"#7201a8\"], [0.3333333333333333, \"#9c179e\"], [0.4444444444444444, \"#bd3786\"], [0.5555555555555556, \"#d8576b\"], [0.6666666666666666, \"#ed7953\"], [0.7777777777777778, \"#fb9f3a\"], [0.8888888888888888, \"#fdca26\"], [1.0, \"#f0f921\"]], \"type\": \"histogram2d\"}], \"histogram2dcontour\": [{\"colorbar\": {\"outlinewidth\": 0, \"ticks\": \"\"}, \"colorscale\": [[0.0, \"#0d0887\"], [0.1111111111111111, \"#46039f\"], [0.2222222222222222, \"#7201a8\"], [0.3333333333333333, \"#9c179e\"], [0.4444444444444444, \"#bd3786\"], [0.5555555555555556, \"#d8576b\"], [0.6666666666666666, \"#ed7953\"], [0.7777777777777778, \"#fb9f3a\"], [0.8888888888888888, \"#fdca26\"], [1.0, \"#f0f921\"]], \"type\": \"histogram2dcontour\"}], \"mesh3d\": [{\"colorbar\": {\"outlinewidth\": 0, \"ticks\": \"\"}, \"type\": \"mesh3d\"}], \"parcoords\": [{\"line\": {\"colorbar\": {\"outlinewidth\": 0, \"ticks\": \"\"}}, \"type\": \"parcoords\"}], \"pie\": [{\"automargin\": true, \"type\": \"pie\"}], \"scatter\": [{\"marker\": {\"colorbar\": {\"outlinewidth\": 0, \"ticks\": \"\"}}, \"type\": \"scatter\"}], \"scatter3d\": [{\"line\": {\"colorbar\": {\"outlinewidth\": 0, \"ticks\": \"\"}}, \"marker\": {\"colorbar\": {\"outlinewidth\": 0, \"ticks\": \"\"}}, \"type\": \"scatter3d\"}], \"scattercarpet\": [{\"marker\": {\"colorbar\": {\"outlinewidth\": 0, \"ticks\": \"\"}}, \"type\": \"scattercarpet\"}], \"scattergeo\": [{\"marker\": {\"colorbar\": {\"outlinewidth\": 0, \"ticks\": \"\"}}, \"type\": \"scattergeo\"}], \"scattergl\": [{\"marker\": {\"colorbar\": {\"outlinewidth\": 0, \"ticks\": \"\"}}, \"type\": \"scattergl\"}], \"scattermapbox\": [{\"marker\": {\"colorbar\": {\"outlinewidth\": 0, \"ticks\": \"\"}}, \"type\": \"scattermapbox\"}], \"scatterpolar\": [{\"marker\": {\"colorbar\": {\"outlinewidth\": 0, \"ticks\": \"\"}}, \"type\": \"scatterpolar\"}], \"scatterpolargl\": [{\"marker\": {\"colorbar\": {\"outlinewidth\": 0, \"ticks\": \"\"}}, \"type\": \"scatterpolargl\"}], \"scatterternary\": [{\"marker\": {\"colorbar\": {\"outlinewidth\": 0, \"ticks\": \"\"}}, \"type\": \"scatterternary\"}], \"surface\": [{\"colorbar\": {\"outlinewidth\": 0, \"ticks\": \"\"}, \"colorscale\": [[0.0, \"#0d0887\"], [0.1111111111111111, \"#46039f\"], [0.2222222222222222, \"#7201a8\"], [0.3333333333333333, \"#9c179e\"], [0.4444444444444444, \"#bd3786\"], [0.5555555555555556, \"#d8576b\"], [0.6666666666666666, \"#ed7953\"], [0.7777777777777778, \"#fb9f3a\"], [0.8888888888888888, \"#fdca26\"], [1.0, \"#f0f921\"]], \"type\": \"surface\"}], \"table\": [{\"cells\": {\"fill\": {\"color\": \"#EBF0F8\"}, \"line\": {\"color\": \"white\"}}, \"header\": {\"fill\": {\"color\": \"#C8D4E3\"}, \"line\": {\"color\": \"white\"}}, \"type\": \"table\"}]}, \"layout\": {\"annotationdefaults\": {\"arrowcolor\": \"#2a3f5f\", \"arrowhead\": 0, \"arrowwidth\": 1}, \"coloraxis\": {\"colorbar\": {\"outlinewidth\": 0, \"ticks\": \"\"}}, \"colorscale\": {\"diverging\": [[0, \"#8e0152\"], [0.1, \"#c51b7d\"], [0.2, \"#de77ae\"], [0.3, \"#f1b6da\"], [0.4, \"#fde0ef\"], [0.5, \"#f7f7f7\"], [0.6, \"#e6f5d0\"], [0.7, \"#b8e186\"], [0.8, \"#7fbc41\"], [0.9, \"#4d9221\"], [1, \"#276419\"]], \"sequential\": [[0.0, \"#0d0887\"], [0.1111111111111111, \"#46039f\"], [0.2222222222222222, \"#7201a8\"], [0.3333333333333333, \"#9c179e\"], [0.4444444444444444, \"#bd3786\"], [0.5555555555555556, \"#d8576b\"], [0.6666666666666666, \"#ed7953\"], [0.7777777777777778, \"#fb9f3a\"], [0.8888888888888888, \"#fdca26\"], [1.0, \"#f0f921\"]], \"sequentialminus\": [[0.0, \"#0d0887\"], [0.1111111111111111, \"#46039f\"], [0.2222222222222222, \"#7201a8\"], [0.3333333333333333, \"#9c179e\"], [0.4444444444444444, \"#bd3786\"], [0.5555555555555556, \"#d8576b\"], [0.6666666666666666, \"#ed7953\"], [0.7777777777777778, \"#fb9f3a\"], [0.8888888888888888, \"#fdca26\"], [1.0, \"#f0f921\"]]}, \"colorway\": [\"#636efa\", \"#EF553B\", \"#00cc96\", \"#ab63fa\", \"#FFA15A\", \"#19d3f3\", \"#FF6692\", \"#B6E880\", \"#FF97FF\", \"#FECB52\"], \"font\": {\"color\": \"#2a3f5f\"}, \"geo\": {\"bgcolor\": \"white\", \"lakecolor\": \"white\", \"landcolor\": \"#E5ECF6\", \"showlakes\": true, \"showland\": true, \"subunitcolor\": \"white\"}, \"hoverlabel\": {\"align\": \"left\"}, \"hovermode\": \"closest\", \"mapbox\": {\"style\": \"light\"}, \"paper_bgcolor\": \"white\", \"plot_bgcolor\": \"#E5ECF6\", \"polar\": {\"angularaxis\": {\"gridcolor\": \"white\", \"linecolor\": \"white\", \"ticks\": \"\"}, \"bgcolor\": \"#E5ECF6\", \"radialaxis\": {\"gridcolor\": \"white\", \"linecolor\": \"white\", \"ticks\": \"\"}}, \"scene\": {\"xaxis\": {\"backgroundcolor\": \"#E5ECF6\", \"gridcolor\": \"white\", \"gridwidth\": 2, \"linecolor\": \"white\", \"showbackground\": true, \"ticks\": \"\", \"zerolinecolor\": \"white\"}, \"yaxis\": {\"backgroundcolor\": \"#E5ECF6\", \"gridcolor\": \"white\", \"gridwidth\": 2, \"linecolor\": \"white\", \"showbackground\": true, \"ticks\": \"\", \"zerolinecolor\": \"white\"}, \"zaxis\": {\"backgroundcolor\": \"#E5ECF6\", \"gridcolor\": \"white\", \"gridwidth\": 2, \"linecolor\": \"white\", \"showbackground\": true, \"ticks\": \"\", \"zerolinecolor\": \"white\"}}, \"shapedefaults\": {\"line\": {\"color\": \"#2a3f5f\"}}, \"ternary\": {\"aaxis\": {\"gridcolor\": \"white\", \"linecolor\": \"white\", \"ticks\": \"\"}, \"baxis\": {\"gridcolor\": \"white\", \"linecolor\": \"white\", \"ticks\": \"\"}, \"bgcolor\": \"#E5ECF6\", \"caxis\": {\"gridcolor\": \"white\", \"linecolor\": \"white\", \"ticks\": \"\"}}, \"title\": {\"x\": 0.05}, \"xaxis\": {\"automargin\": true, \"gridcolor\": \"white\", \"linecolor\": \"white\", \"ticks\": \"\", \"title\": {\"standoff\": 15}, \"zerolinecolor\": \"white\", \"zerolinewidth\": 2}, \"yaxis\": {\"automargin\": true, \"gridcolor\": \"white\", \"linecolor\": \"white\", \"ticks\": \"\", \"title\": {\"standoff\": 15}, \"zerolinecolor\": \"white\", \"zerolinewidth\": 2}}}},                        {\"responsive\": true}                    ).then(function(){\n",
       "                            \n",
       "var gd = document.getElementById('a678be7c-c611-45b2-b19f-e268a8684c7e');\n",
       "var x = new MutationObserver(function (mutations, observer) {{\n",
       "        var display = window.getComputedStyle(gd).display;\n",
       "        if (!display || display === 'none') {{\n",
       "            console.log([gd, 'removed!']);\n",
       "            Plotly.purge(gd);\n",
       "            observer.disconnect();\n",
       "        }}\n",
       "}});\n",
       "\n",
       "// Listen for the removal of the full notebook cells\n",
       "var notebookContainer = gd.closest('#notebook-container');\n",
       "if (notebookContainer) {{\n",
       "    x.observe(notebookContainer, {childList: true});\n",
       "}}\n",
       "\n",
       "// Listen for the clearing of the current output cell\n",
       "var outputEl = gd.closest('.output');\n",
       "if (outputEl) {{\n",
       "    x.observe(outputEl, {childList: true});\n",
       "}}\n",
       "\n",
       "                        })                };                });            </script>        </div>"
      ]
     },
     "metadata": {},
     "output_type": "display_data"
    }
   ],
   "source": [
    "pinta_mapa(df)"
   ]
  },
  {
   "cell_type": "markdown",
   "metadata": {},
   "source": [
    "## Supermercados\n",
    "Para este ejemplo supondrás que trabajas en una cadena de supermercados en la que se está planteando construir un nuevo local en la provincia de Sevilla. Busca mediante la API de Overpass todos los supermercados de la provincia para poder comprobar en qué nucleos urbanos habría poca competencia.\n",
    "\n",
    "En este caso hay que buscar por área, no por cuadrícula! Investiga en la documentación/Stackoverflow cómo se haría eso."
   ]
  },
  {
   "cell_type": "code",
   "execution_count": 132,
   "metadata": {},
   "outputs": [
    {
     "name": "stdout",
     "output_type": "stream",
     "text": [
      "<Response [200]>\n"
     ]
    },
    {
     "data": {
      "text/html": [
       "<div>\n",
       "<style scoped>\n",
       "    .dataframe tbody tr th:only-of-type {\n",
       "        vertical-align: middle;\n",
       "    }\n",
       "\n",
       "    .dataframe tbody tr th {\n",
       "        vertical-align: top;\n",
       "    }\n",
       "\n",
       "    .dataframe thead th {\n",
       "        text-align: right;\n",
       "    }\n",
       "</style>\n",
       "<table border=\"1\" class=\"dataframe\">\n",
       "  <thead>\n",
       "    <tr style=\"text-align: right;\">\n",
       "      <th></th>\n",
       "      <th>tipo</th>\n",
       "      <th>lat</th>\n",
       "      <th>lon</th>\n",
       "      <th>name</th>\n",
       "      <th>address</th>\n",
       "    </tr>\n",
       "  </thead>\n",
       "  <tbody>\n",
       "    <tr>\n",
       "      <th>0</th>\n",
       "      <td>None</td>\n",
       "      <td>37.373002</td>\n",
       "      <td>-6.047204</td>\n",
       "      <td>MAS</td>\n",
       "      <td>NO STREET 9999</td>\n",
       "    </tr>\n",
       "    <tr>\n",
       "      <th>1</th>\n",
       "      <td>None</td>\n",
       "      <td>37.390016</td>\n",
       "      <td>-5.973769</td>\n",
       "      <td>Maxi Dia</td>\n",
       "      <td>NO STREET 9999</td>\n",
       "    </tr>\n",
       "    <tr>\n",
       "      <th>2</th>\n",
       "      <td>None</td>\n",
       "      <td>36.994532</td>\n",
       "      <td>-5.572320</td>\n",
       "      <td>Dia</td>\n",
       "      <td>NO STREET 9999</td>\n",
       "    </tr>\n",
       "    <tr>\n",
       "      <th>3</th>\n",
       "      <td>None</td>\n",
       "      <td>37.406364</td>\n",
       "      <td>-5.976342</td>\n",
       "      <td>El Jamón</td>\n",
       "      <td>NO STREET 9999</td>\n",
       "    </tr>\n",
       "    <tr>\n",
       "      <th>4</th>\n",
       "      <td>None</td>\n",
       "      <td>37.406508</td>\n",
       "      <td>-5.973342</td>\n",
       "      <td>Valdajimena</td>\n",
       "      <td>Avenida de San Juan de la Salle 9999</td>\n",
       "    </tr>\n",
       "    <tr>\n",
       "      <th>...</th>\n",
       "      <td>...</td>\n",
       "      <td>...</td>\n",
       "      <td>...</td>\n",
       "      <td>...</td>\n",
       "      <td>...</td>\n",
       "    </tr>\n",
       "    <tr>\n",
       "      <th>453</th>\n",
       "      <td>None</td>\n",
       "      <td>NaN</td>\n",
       "      <td>NaN</td>\n",
       "      <td>Dia</td>\n",
       "      <td>NO STREET 9999</td>\n",
       "    </tr>\n",
       "    <tr>\n",
       "      <th>454</th>\n",
       "      <td>None</td>\n",
       "      <td>NaN</td>\n",
       "      <td>NaN</td>\n",
       "      <td>Cash Fresh</td>\n",
       "      <td>NO STREET 9999</td>\n",
       "    </tr>\n",
       "    <tr>\n",
       "      <th>455</th>\n",
       "      <td>None</td>\n",
       "      <td>NaN</td>\n",
       "      <td>NaN</td>\n",
       "      <td>Covirán</td>\n",
       "      <td>NO STREET 9999</td>\n",
       "    </tr>\n",
       "    <tr>\n",
       "      <th>456</th>\n",
       "      <td>None</td>\n",
       "      <td>NaN</td>\n",
       "      <td>NaN</td>\n",
       "      <td>Naturalia</td>\n",
       "      <td>Calle Cultura 34</td>\n",
       "    </tr>\n",
       "    <tr>\n",
       "      <th>457</th>\n",
       "      <td>None</td>\n",
       "      <td>NaN</td>\n",
       "      <td>NaN</td>\n",
       "      <td>Cash Fresh</td>\n",
       "      <td>NO STREET 9999</td>\n",
       "    </tr>\n",
       "  </tbody>\n",
       "</table>\n",
       "<p>458 rows × 5 columns</p>\n",
       "</div>"
      ],
      "text/plain": [
       "     tipo        lat       lon         name  \\\n",
       "0    None  37.373002 -6.047204          MAS   \n",
       "1    None  37.390016 -5.973769     Maxi Dia   \n",
       "2    None  36.994532 -5.572320          Dia   \n",
       "3    None  37.406364 -5.976342     El Jamón   \n",
       "4    None  37.406508 -5.973342  Valdajimena   \n",
       "..    ...        ...       ...          ...   \n",
       "453  None        NaN       NaN          Dia   \n",
       "454  None        NaN       NaN   Cash Fresh   \n",
       "455  None        NaN       NaN      Covirán   \n",
       "456  None        NaN       NaN    Naturalia   \n",
       "457  None        NaN       NaN   Cash Fresh   \n",
       "\n",
       "                                  address  \n",
       "0                          NO STREET 9999  \n",
       "1                          NO STREET 9999  \n",
       "2                          NO STREET 9999  \n",
       "3                          NO STREET 9999  \n",
       "4    Avenida de San Juan de la Salle 9999  \n",
       "..                                    ...  \n",
       "453                        NO STREET 9999  \n",
       "454                        NO STREET 9999  \n",
       "455                        NO STREET 9999  \n",
       "456                      Calle Cultura 34  \n",
       "457                        NO STREET 9999  \n",
       "\n",
       "[458 rows x 5 columns]"
      ]
     },
     "execution_count": 132,
     "metadata": {},
     "output_type": "execute_result"
    }
   ],
   "source": [
    "overpass_query = \"\"\"\n",
    "[out:json];\n",
    "area[name=\"Sevilla\"];\n",
    "nwr[shop=supermarket](area);\n",
    "out center;\n",
    "\"\"\"\n",
    "response = requests.get(overpass_url, \n",
    "                        params={'data': overpass_query})\n",
    "print(response)\n",
    "data = response.json()\n",
    "df = json_to_df(data)\n",
    "df"
   ]
  },
  {
   "cell_type": "code",
   "execution_count": 133,
   "metadata": {},
   "outputs": [],
   "source": [
    "df['tipo'] = df['tipo'].fillna(\"supermarket\")\n",
    "df = df.dropna()"
   ]
  },
  {
   "cell_type": "code",
   "execution_count": 134,
   "metadata": {},
   "outputs": [
    {
     "data": {
      "application/vnd.plotly.v1+json": {
       "config": {
        "plotlyServerURL": "https://plot.ly"
       },
       "data": [
        {
         "hovertemplate": "name=%{text}<br>lat=%{lat}<br>lon=%{lon}<extra></extra>",
         "lat": [
          37.3730016,
          37.3900156,
          36.9945325,
          37.4063636,
          37.4065076,
          37.4068889,
          37.381381,
          37.3492941,
          37.3931413,
          37.3916239,
          37.281765,
          37.3945948,
          37.3928078,
          37.3902034,
          37.3968266,
          37.39283,
          37.4000193,
          37.4636269,
          37.3877763,
          37.3782419,
          37.3784637,
          37.4223309,
          37.4210312,
          37.6592193,
          37.4158443,
          37.408912,
          37.4162977,
          37.4322927,
          37.4265448,
          37.3993597,
          37.4032095,
          37.4040568,
          37.3767341,
          37.3758354,
          37.3709299,
          37.3453886,
          37.347762,
          37.3650152,
          37.3666867,
          37.3941226,
          37.3745748,
          37.3821828,
          37.3765331,
          37.3762135,
          37.3828281,
          37.4906658,
          37.2929933,
          37.3880213,
          37.4004138,
          37.4022714,
          37.382216,
          37.3750846,
          37.3838793,
          37.3758889,
          37.41043,
          37.3994984,
          37.4010345,
          37.4117722,
          37.4021436,
          37.3958654,
          37.3732438,
          37.3770745,
          37.3921327,
          37.373167,
          37.395969,
          37.3955684,
          37.3993031,
          37.3661575,
          37.3716058,
          37.3612925,
          37.390219,
          37.4011492,
          37.2697298,
          37.344986,
          37.2756379,
          37.3626648,
          37.4007084,
          37.1744795,
          37.4615531,
          37.1876727,
          37.1851484,
          37.1836702,
          37.1895563,
          37.1797124,
          37.3207532,
          37.285365,
          37.2855656,
          37.3255608,
          37.3353194,
          37.2906251,
          37.3888642,
          37.3878814,
          37.3823229,
          37.2661629,
          37.3327558,
          37.3882714,
          37.295735,
          37.3376348,
          37.3322365,
          37.394668,
          37.387336,
          37.37798,
          37.3501025,
          37.3842002,
          37.3418953,
          37.3828833,
          37.3774228,
          37.3851723,
          37.3838552,
          37.3939616,
          37.3834992,
          37.4066907,
          37.3542265,
          37.3778989,
          37.3439885,
          37.3850834,
          37.3784614,
          37.4245402,
          37.3511902,
          37.3845859,
          37.3829724,
          37.3926659,
          37.487511,
          37.2871942,
          36.9943288,
          37.1615124,
          37.4084798,
          37.3852201,
          37.3387597,
          37.3416599,
          37.3385438,
          37.3876859,
          37.3755246,
          37.3417027,
          37.2838344,
          37.5433022,
          37.3732443,
          37.3585028,
          37.4639055,
          37.3720492,
          37.3730775,
          37.5451547,
          37.3388604,
          37.2902401,
          37.3984032,
          37.328376,
          37.3684704,
          37.5132086,
          37.5161821,
          37.3827647,
          37.3972073,
          37.3986384,
          37.9314768,
          37.4012555,
          37.388112,
          37.3897145,
          37.284377,
          37.3007621,
          37.5395984,
          37.5304428,
          37.5379071,
          37.3816054,
          37.351903,
          37.2962155,
          37.2949076,
          37.2894918,
          37.3846396,
          37.3845658,
          37.3883375,
          37.3901385,
          37.935879,
          37.4010558,
          37.3390588,
          37.2889914,
          37.3704267,
          37.3709517,
          37.3723487,
          37.3718211,
          37.3764664,
          37.377278,
          37.2315496,
          37.2374432,
          37.2374048,
          37.3588512,
          37.3563452,
          37.3757882,
          37.3947584,
          37.3785976,
          37.3775664,
          37.378052,
          37.4024316,
          37.2517534,
          37.3979165,
          37.3455022,
          37.1288919,
          37.1263749,
          37.1278811,
          37.5442913,
          37.5416931,
          37.3755656,
          37.4109179,
          37.3793471,
          37.353053,
          37.4836776,
          37.4844523,
          37.30331,
          37.3596854,
          37.3835149,
          37.3741291,
          37.3826562,
          37.4108539,
          37.9428359,
          37.2238977,
          37.385883,
          37.6601041,
          37.3101139,
          37.3798043,
          37.2783941,
          37.4494613,
          37.6609324,
          37.3720803,
          37.3736999,
          37.3825028,
          37.4247797,
          37.3774904,
          37.365128,
          37.3042312,
          37.3897096,
          37.3858133,
          37.426738,
          37.3023998,
          37.2824923,
          37.3761087,
          37.3874865,
          37.3536782,
          37.100331,
          37.3725826,
          37.3718625,
          37.3040479,
          37.3819894,
          37.3890463,
          37.3585589,
          37.3593174,
          4.2685437,
          4.2645309,
          4.2642887,
          4.2635972,
          37.365246,
          37.355629,
          37.3742039,
          37.3773855,
          37.3123385,
          37.4636663,
          37.4148171,
          37.3813908,
          37.3810371,
          37.3807862,
          37.3932795,
          37.3972674,
          37.3905785,
          36.9283397,
          37.381633,
          37.3223888,
          37.2832311,
          37.3917556,
          37.3858695,
          37.3855691,
          37.337093,
          37.3252963,
          37.3849155,
          37.3945664,
          37.5365141,
          37.2221232,
          37.3798531,
          37.38285,
          37.545211,
          37.7789366,
          37.3662625,
          37.3800582,
          37.4325717,
          37.4717331,
          37.3726496,
          37.4011565,
          37.3605097,
          37.3792072,
          37.381944,
          37.3812806,
          37.3708759,
          37.6598589,
          37.7066017,
          37.5737316,
          37.2828452,
          37.4381841,
          37.3729319,
          37.4065108,
          37.3717263,
          37.3716578,
          37.5447672,
          37.5447161,
          37.4751307,
          37.4643008,
          36.9796885,
          37.3886902,
          37.3795609,
          37.3542239,
          37.3748125,
          37.3791269,
          37.3766656,
          37.3751536,
          37.3777005,
          37.378475,
          37.3753009,
          37.3751423,
          37.3819024,
          37.3817406,
          37.3875216,
          37.2858944,
          37.5367864,
          37.5284996,
          37.5350109,
          37.407151,
          37.3709124,
          37.3712266,
          37.3809175,
          37.3934557,
          37.1285468,
          37.3447542,
          37.3412032,
          37.3500535,
          37.4033923,
          37.3762284,
          37.2943823,
          37.4031917,
          37.4186604,
          37.5155549
         ],
         "legendgroup": "",
         "lon": [
          -6.0472036,
          -5.9737693,
          -5.5723199,
          -5.9763418,
          -5.9733419,
          -5.9724546,
          -5.9794179,
          -5.9768997,
          -5.9815793,
          -5.9813217,
          -5.9369929,
          -5.9910877,
          -5.9863711,
          -5.9903244,
          -5.9906521,
          -5.9835362,
          -5.9856329,
          -5.6474422,
          -5.9819761,
          -6.0119068,
          -6.0119015,
          -5.9613759,
          -5.9637284,
          -5.5271327,
          -5.9700072,
          -5.9769987,
          -5.9644557,
          -5.9793319,
          -5.9860088,
          -5.9779561,
          -5.9683925,
          -5.9654044,
          -5.9803391,
          -5.9763155,
          -5.9789718,
          -5.9807998,
          -5.9803647,
          -5.9790562,
          -5.975481,
          -5.9572429,
          -5.9677453,
          -5.9659946,
          -5.969255,
          -5.9689733,
          -5.9654853,
          -5.9461751,
          -5.9230804,
          -5.9150298,
          -5.925213,
          -5.9268237,
          -5.9532198,
          -5.9538345,
          -5.9469451,
          -5.9545486,
          -5.9250194,
          -5.9527488,
          -5.9406317,
          -5.9196117,
          -5.9206454,
          -5.9241546,
          -6.0446424,
          -6.0456304,
          -6.0305198,
          -6.0300594,
          -5.978107,
          -5.978225,
          -5.9710998,
          -5.9683973,
          -5.9566624,
          -5.9601058,
          -5.9894762,
          -5.9918408,
          -5.9362868,
          -5.932839,
          -5.9277721,
          -6.0439156,
          -5.9270066,
          -5.7767863,
          -6.0095892,
          -5.7877631,
          -5.7736967,
          -5.7765071,
          -5.7780879,
          -5.7962499,
          -6.072243,
          -5.9102831,
          -5.9146873,
          -5.9339584,
          -6.0643473,
          -5.9245229,
          -6.0020476,
          -5.9844847,
          -5.9654876,
          -5.9213596,
          -5.9693451,
          -5.9607582,
          -5.9117565,
          -5.827671,
          -5.834486,
          -5.997403,
          -5.9849974,
          -5.997585,
          -6.0518262,
          -6.0613371,
          -6.0673942,
          -5.9536265,
          -5.9472911,
          -5.9482621,
          -5.9514647,
          -5.9956693,
          -5.9184405,
          -5.9730014,
          -5.8580908,
          -6.0669422,
          -5.9754025,
          -5.9812451,
          -5.9412792,
          -5.9849356,
          -6.0250197,
          -6.0059643,
          -6.0060357,
          -5.9819003,
          -5.9352853,
          -5.9433609,
          -5.5764933,
          -5.9252046,
          -5.910971,
          -5.9772574,
          -5.8401204,
          -5.8334524,
          -5.9266725,
          -5.9673225,
          -6.0045754,
          -5.8303426,
          -5.9377335,
          -5.0762451,
          -5.9952049,
          -5.9859219,
          -5.6447327,
          -5.9620406,
          -5.963688,
          -6.0566456,
          -5.8381685,
          -5.9258418,
          -5.9991195,
          -5.8532728,
          -6.0791734,
          -5.9857917,
          -5.9812268,
          -6.0030198,
          -6.0335377,
          -6.0322142,
          -5.7590353,
          -6.0336533,
          -5.982929,
          -5.99916,
          -5.9267402,
          -4.8833645,
          -5.0880186,
          -5.0856797,
          -5.0728107,
          -5.9649648,
          -5.8454073,
          -6.0530087,
          -6.0556159,
          -6.0526707,
          -6.0103841,
          -6.0134182,
          -6.0807164,
          -5.9706711,
          -5.7598055,
          -5.9257114,
          -5.9300443,
          -5.9269918,
          -4.959488,
          -4.9577282,
          -4.9609931,
          -4.9592467,
          -4.9436485,
          -4.9463952,
          -5.0979443,
          -5.1140827,
          -5.1143778,
          -5.9860648,
          -5.9857084,
          -6.0046336,
          -6.0013408,
          -5.9726165,
          -5.9697255,
          -5.9726701,
          -5.9807553,
          -4.916402,
          -5.9979908,
          -5.9798668,
          -5.4527503,
          -5.4502532,
          -5.4546207,
          -5.0817373,
          -5.0803299,
          -5.9997345,
          -5.9253627,
          -6.0047183,
          -6.0476967,
          -5.9471195,
          -5.9475486,
          -6.3053348,
          -6.3278422,
          -6.0771612,
          -6.0320738,
          -6.0834494,
          -5.9254298,
          -5.7606609,
          -5.3126409,
          -6.0274989,
          -5.5303545,
          -6.1067959,
          -6.0836775,
          -5.9332385,
          -4.8823975,
          -5.5267357,
          -6.0724424,
          -6.0697293,
          -6.0095687,
          -5.9850727,
          -6.0129859,
          -5.9819631,
          -6.3046051,
          -5.9921167,
          -6.0743354,
          -5.9763877,
          -6.2976206,
          -5.9211799,
          -5.9474761,
          -5.9727302,
          -6.0574429,
          -4.9845295,
          -5.9967977,
          -6.0354853,
          -6.297249,
          -6.0039737,
          -6.080157,
          -5.9781164,
          -5.9783584,
          -75.9346416,
          -75.9348948,
          -75.9339817,
          -75.9340334,
          -4.85114,
          -4.985669,
          -6.0028403,
          -5.973638,
          -5.8602342,
          -5.6520452,
          -6.1614621,
          -5.7339377,
          -5.7345929,
          -5.7352893,
          -5.716306,
          -5.7126393,
          -5.9799081,
          -6.0695391,
          -6.0847287,
          -6.06612,
          -5.9313921,
          -5.9804426,
          -6.055347,
          -6.0475562,
          -5.8456912,
          -5.8538032,
          -6.0549346,
          -5.9969563,
          -5.0732017,
          -5.8160429,
          -5.999686,
          -5.9745482,
          -5.0787518,
          -5.3868392,
          -5.9988958,
          -5.9795246,
          -6.0504183,
          -5.6396686,
          -5.9959837,
          -5.9937657,
          -6.0410394,
          -6.0075123,
          -6.0039569,
          -6.0039747,
          -5.9769946,
          -5.5336856,
          -5.350012,
          -5.9153841,
          -5.907662,
          -6.0405927,
          -5.9586408,
          -5.9897152,
          -5.9827216,
          -5.9822434,
          -5.076954,
          -5.0775816,
          -5.6465003,
          -5.3438793,
          -5.938488,
          -6.0084614,
          -5.9188368,
          -5.9763565,
          -6.0000997,
          -5.9990942,
          -6.0038452,
          -5.9983526,
          -5.9984998,
          -5.9993465,
          -5.998974,
          -5.998694,
          -6.001493,
          -6.0013333,
          -6.0532792,
          -5.9157327,
          -6.1584518,
          -6.1528978,
          -6.153677,
          -5.9609781,
          -5.9507914,
          -5.9509086,
          -5.973515,
          -5.9965176,
          -5.45486,
          -6.0456497,
          -6.0597904,
          -6.0491422,
          -5.9693853,
          -5.9702723,
          -4.7614862,
          -5.969346,
          -5.974322,
          -6.2660091
         ],
         "marker": {
          "color": "#636efa"
         },
         "mode": "markers+text",
         "name": "",
         "showlegend": false,
         "subplot": "mapbox",
         "text": [
          "MAS",
          "Maxi Dia",
          "Dia",
          "El Jamón",
          "Valdajimena",
          "Dia",
          "MAS",
          "Mercadona",
          "Supersol",
          "NO NAME",
          "Dia",
          "El Jamón",
          "Masymas",
          "Supersol",
          "Maxi Dia",
          "Dia Market",
          "Dia Market",
          "Mercadona",
          "Maxi Dia",
          "Supermercado El Jamón",
          "Dia Market",
          "NO NAME",
          "NO NAME",
          "Mercadona",
          "NO NAME",
          "NO NAME",
          "NO NAME",
          "NO NAME",
          "NO NAME",
          "Mercadona",
          "NO NAME",
          "NO NAME",
          "NO NAME",
          "NO NAME",
          "Supermercados Mas",
          "NO NAME",
          "Supermercado El Jamón",
          "Mercadona",
          "NO NAME",
          "Maxi Dia",
          "Maxi Dia",
          "OpenCor",
          "M.A.S.",
          "Dia",
          "NO NAME",
          "Dia",
          "Mercadona",
          "NO NAME",
          "Mercadona",
          "Dia",
          "Supersol",
          "NO NAME",
          "NO NAME",
          "El Jamón",
          "NO NAME",
          "NO NAME",
          "NO NAME",
          "NO NAME",
          "Cash Fresh",
          "NO NAME",
          "Mercadona",
          "Mas",
          "Carrefour",
          "Hipercor",
          "Supersol",
          "Dia",
          "NO NAME",
          "NO NAME",
          "Dia",
          "NO NAME",
          "Dia",
          "MAS",
          "Covirán",
          "M.A.S.",
          "Codi",
          "NO NAME",
          "Cash",
          "Mercadona",
          "Maxi Dia",
          "Mercadona",
          "Hipersol",
          "Mercadona",
          "Codi",
          "Supermercado Juani",
          "Mas",
          "Codi",
          "Codi",
          "Mas Olivares",
          "Mercadona",
          "Codi",
          "Mas",
          "El Jamón",
          "Supemercados El Jamón",
          "Bebidas Sur",
          "Lidl",
          "Hipercor Los Arcos",
          "Cash - Hnos López González",
          "Dia",
          "Caliser",
          "Dia",
          "Supermercados Mas",
          "Supersol",
          "Mercadona",
          "Aldi",
          "NO NAME",
          "Dia",
          "Dia",
          "Dia",
          "Cash fresh",
          "Hiper Oriente",
          "Mercadona",
          "MAS",
          "Mercadona",
          "Lidl",
          "Supermercado MAS",
          "Supermercado MAS",
          "MAS",
          "Supermcado \"M.A.S.\"",
          "Mercadona",
          "Supermercados El Jamón",
          "MAS",
          "Supersol",
          "Mercadona",
          "Covirán",
          "NO NAME",
          "Hermanos Páez Martín",
          "Alcampo",
          "Mas",
          "Supermercado M.A.S",
          "Mercadona",
          "Mercadona",
          "Supermercado",
          "Supermercado MAS",
          "Lidl",
          "Carrefour",
          "San Enrique",
          "Supermercados MAS",
          "Supersol",
          "Miguel Angel",
          "Mercadona",
          "ChasLepe",
          "MASS Supermercados",
          "Dia",
          "Covirán",
          "La Ortiga",
          "NO NAME",
          "Supermercados Mas",
          "NO NAME",
          "NO NAME",
          "Maskom",
          "Mercadona",
          "Supermercado Victoriano",
          "Eroski",
          "Dia",
          "Spar",
          "Supermercados MAS",
          "Covirán",
          "Mercadona",
          "Mercadona",
          "Carrefour",
          "Aldi",
          "Dia",
          "Maxi Dia",
          "Lidl",
          "Dia",
          "Mercadona",
          "Dia",
          "Dia",
          "Supermercado Proxim",
          "NO NAME",
          "Dia Market",
          "Bonsabor",
          "Codi",
          "Covirán",
          "NO NAME",
          "NO NAME",
          "Eroski",
          "NO NAME",
          "NO NAME",
          "NO NAME",
          "Eroski",
          "Mercadona",
          "Lidl",
          "MAS&Go",
          "El Jamón",
          "El Jamón",
          "Supermrecados Mas",
          "La Coriana",
          "La China",
          "El Toni",
          "NO NAME",
          "Dia",
          "Supersol",
          "Dia",
          "Dia",
          "Lidl",
          "Urbano Center",
          "San Enrique",
          "Covirán",
          "Lidl",
          "El Jamón",
          "Cash Fresh",
          "Supermercado M.A.S",
          "NO NAME",
          "NO NAME",
          "Mercadona",
          "Badia",
          "MAS",
          "Dia",
          "Maxi Dia",
          "Perfumeria Ana",
          "CASH FRESH",
          "Dia",
          "Maxi Dia",
          "Dia",
          "Dia",
          "Supeco",
          "NO NAME",
          "Minimarket",
          "NICASIO",
          "Alimentación YEN",
          "Hiper Frutas y Pescado Aljarafe",
          "El Jamón",
          "Supersol",
          "Autoservicio Rosa",
          "El Jamón",
          "Covirán",
          "Mas",
          "El Jamón",
          "Mercadona",
          "Dia",
          "Codi",
          "Jamón",
          "Super Oriental",
          "Alimentation biologique",
          "NO NAME",
          "Dia",
          "Mercadona",
          "Covirán",
          "Supermercado Ecológico.Herboteca",
          "Supermercado Noah",
          "Mas",
          "jamón",
          "Autoservicio la miranda",
          "Merkacentro",
          "ARA",
          "D1- De todos",
          "Dia",
          "Alsara",
          "NO NAME",
          "El Colmado de Pimpi",
          "Mercadona",
          "Aldi",
          "NO NAME",
          "Lidl",
          "Mercadona",
          "Carrefour",
          "Supermercado Paz",
          "Mercadona",
          "Mercadona",
          "Aldi",
          "El Molino de Gines",
          "Maxi Dia",
          "Codi",
          "Aldi",
          "Codi",
          "Mercadona",
          "Dia",
          "Aldi",
          "Covirán",
          "Mas&go",
          "Lidl",
          "Ayala",
          "Mercadona",
          "Fresh DIA",
          "Dia",
          "Covirán",
          "Aldi",
          "Dia",
          "Cash Fresh",
          "El Jamón",
          "Lin",
          "Supermercado Alameda",
          "Suma",
          "El Jamón",
          "Supermercado Ecológico Herboteca",
          "Supermercado MAS",
          "Dia",
          "Cash Fresh",
          "cash peñaflor",
          "NO NAME",
          "NO NAME",
          "Supermercado Bazar",
          "El Jamón",
          "Mercadona",
          "Supersol",
          "Mas&Go",
          "SAN ENRIQUE",
          "EL POLVILLO",
          "SuperCarmela",
          "NO NAME",
          "Super Carmela",
          "Dia",
          "NO NAME",
          "Supersol",
          "MAS&Go",
          "MAS & go",
          "MAS",
          "MAS",
          "Dia",
          "Aldi",
          "Covirán",
          "MAS",
          "Dia Market",
          "Supermercados La Cesta",
          "Spar",
          "Supermercados Maxico",
          "Nietas de Maruja",
          "La Esquina Ibérica",
          "El Burrito",
          "Mercadrink",
          "Dia Market",
          "Supersol",
          "supermercado sur",
          "El Corte Ingles",
          "Family Cash",
          "Covirán",
          "Supermercados MAS",
          "Expo",
          "Lidl",
          "Alimentación Mei Bazar",
          "Supermercado Jeromito",
          "Lidl",
          "Carrefour",
          "Día"
         ],
         "type": "scattermapbox"
        }
       ],
       "layout": {
        "legend": {
         "tracegroupgap": 0
        },
        "mapbox": {
         "accesstoken": "pk.eyJ1IjoiZGFvcnRpIiwiYSI6ImNrZnF6M3FlczA3cDEyem16YTNzZmV4M2EifQ.846iF0sMSAXv0kwkwUTYjg",
         "center": {
          "lat": 36.98348426447758,
          "lon": -6.710550519701495
         },
         "domain": {
          "x": [
           0,
           1
          ],
          "y": [
           0,
           1
          ]
         },
         "zoom": 11
        },
        "margin": {
         "t": 60
        },
        "template": {
         "data": {
          "bar": [
           {
            "error_x": {
             "color": "#2a3f5f"
            },
            "error_y": {
             "color": "#2a3f5f"
            },
            "marker": {
             "line": {
              "color": "#E5ECF6",
              "width": 0.5
             }
            },
            "type": "bar"
           }
          ],
          "barpolar": [
           {
            "marker": {
             "line": {
              "color": "#E5ECF6",
              "width": 0.5
             }
            },
            "type": "barpolar"
           }
          ],
          "carpet": [
           {
            "aaxis": {
             "endlinecolor": "#2a3f5f",
             "gridcolor": "white",
             "linecolor": "white",
             "minorgridcolor": "white",
             "startlinecolor": "#2a3f5f"
            },
            "baxis": {
             "endlinecolor": "#2a3f5f",
             "gridcolor": "white",
             "linecolor": "white",
             "minorgridcolor": "white",
             "startlinecolor": "#2a3f5f"
            },
            "type": "carpet"
           }
          ],
          "choropleth": [
           {
            "colorbar": {
             "outlinewidth": 0,
             "ticks": ""
            },
            "type": "choropleth"
           }
          ],
          "contour": [
           {
            "colorbar": {
             "outlinewidth": 0,
             "ticks": ""
            },
            "colorscale": [
             [
              0,
              "#0d0887"
             ],
             [
              0.1111111111111111,
              "#46039f"
             ],
             [
              0.2222222222222222,
              "#7201a8"
             ],
             [
              0.3333333333333333,
              "#9c179e"
             ],
             [
              0.4444444444444444,
              "#bd3786"
             ],
             [
              0.5555555555555556,
              "#d8576b"
             ],
             [
              0.6666666666666666,
              "#ed7953"
             ],
             [
              0.7777777777777778,
              "#fb9f3a"
             ],
             [
              0.8888888888888888,
              "#fdca26"
             ],
             [
              1,
              "#f0f921"
             ]
            ],
            "type": "contour"
           }
          ],
          "contourcarpet": [
           {
            "colorbar": {
             "outlinewidth": 0,
             "ticks": ""
            },
            "type": "contourcarpet"
           }
          ],
          "heatmap": [
           {
            "colorbar": {
             "outlinewidth": 0,
             "ticks": ""
            },
            "colorscale": [
             [
              0,
              "#0d0887"
             ],
             [
              0.1111111111111111,
              "#46039f"
             ],
             [
              0.2222222222222222,
              "#7201a8"
             ],
             [
              0.3333333333333333,
              "#9c179e"
             ],
             [
              0.4444444444444444,
              "#bd3786"
             ],
             [
              0.5555555555555556,
              "#d8576b"
             ],
             [
              0.6666666666666666,
              "#ed7953"
             ],
             [
              0.7777777777777778,
              "#fb9f3a"
             ],
             [
              0.8888888888888888,
              "#fdca26"
             ],
             [
              1,
              "#f0f921"
             ]
            ],
            "type": "heatmap"
           }
          ],
          "heatmapgl": [
           {
            "colorbar": {
             "outlinewidth": 0,
             "ticks": ""
            },
            "colorscale": [
             [
              0,
              "#0d0887"
             ],
             [
              0.1111111111111111,
              "#46039f"
             ],
             [
              0.2222222222222222,
              "#7201a8"
             ],
             [
              0.3333333333333333,
              "#9c179e"
             ],
             [
              0.4444444444444444,
              "#bd3786"
             ],
             [
              0.5555555555555556,
              "#d8576b"
             ],
             [
              0.6666666666666666,
              "#ed7953"
             ],
             [
              0.7777777777777778,
              "#fb9f3a"
             ],
             [
              0.8888888888888888,
              "#fdca26"
             ],
             [
              1,
              "#f0f921"
             ]
            ],
            "type": "heatmapgl"
           }
          ],
          "histogram": [
           {
            "marker": {
             "colorbar": {
              "outlinewidth": 0,
              "ticks": ""
             }
            },
            "type": "histogram"
           }
          ],
          "histogram2d": [
           {
            "colorbar": {
             "outlinewidth": 0,
             "ticks": ""
            },
            "colorscale": [
             [
              0,
              "#0d0887"
             ],
             [
              0.1111111111111111,
              "#46039f"
             ],
             [
              0.2222222222222222,
              "#7201a8"
             ],
             [
              0.3333333333333333,
              "#9c179e"
             ],
             [
              0.4444444444444444,
              "#bd3786"
             ],
             [
              0.5555555555555556,
              "#d8576b"
             ],
             [
              0.6666666666666666,
              "#ed7953"
             ],
             [
              0.7777777777777778,
              "#fb9f3a"
             ],
             [
              0.8888888888888888,
              "#fdca26"
             ],
             [
              1,
              "#f0f921"
             ]
            ],
            "type": "histogram2d"
           }
          ],
          "histogram2dcontour": [
           {
            "colorbar": {
             "outlinewidth": 0,
             "ticks": ""
            },
            "colorscale": [
             [
              0,
              "#0d0887"
             ],
             [
              0.1111111111111111,
              "#46039f"
             ],
             [
              0.2222222222222222,
              "#7201a8"
             ],
             [
              0.3333333333333333,
              "#9c179e"
             ],
             [
              0.4444444444444444,
              "#bd3786"
             ],
             [
              0.5555555555555556,
              "#d8576b"
             ],
             [
              0.6666666666666666,
              "#ed7953"
             ],
             [
              0.7777777777777778,
              "#fb9f3a"
             ],
             [
              0.8888888888888888,
              "#fdca26"
             ],
             [
              1,
              "#f0f921"
             ]
            ],
            "type": "histogram2dcontour"
           }
          ],
          "mesh3d": [
           {
            "colorbar": {
             "outlinewidth": 0,
             "ticks": ""
            },
            "type": "mesh3d"
           }
          ],
          "parcoords": [
           {
            "line": {
             "colorbar": {
              "outlinewidth": 0,
              "ticks": ""
             }
            },
            "type": "parcoords"
           }
          ],
          "pie": [
           {
            "automargin": true,
            "type": "pie"
           }
          ],
          "scatter": [
           {
            "marker": {
             "colorbar": {
              "outlinewidth": 0,
              "ticks": ""
             }
            },
            "type": "scatter"
           }
          ],
          "scatter3d": [
           {
            "line": {
             "colorbar": {
              "outlinewidth": 0,
              "ticks": ""
             }
            },
            "marker": {
             "colorbar": {
              "outlinewidth": 0,
              "ticks": ""
             }
            },
            "type": "scatter3d"
           }
          ],
          "scattercarpet": [
           {
            "marker": {
             "colorbar": {
              "outlinewidth": 0,
              "ticks": ""
             }
            },
            "type": "scattercarpet"
           }
          ],
          "scattergeo": [
           {
            "marker": {
             "colorbar": {
              "outlinewidth": 0,
              "ticks": ""
             }
            },
            "type": "scattergeo"
           }
          ],
          "scattergl": [
           {
            "marker": {
             "colorbar": {
              "outlinewidth": 0,
              "ticks": ""
             }
            },
            "type": "scattergl"
           }
          ],
          "scattermapbox": [
           {
            "marker": {
             "colorbar": {
              "outlinewidth": 0,
              "ticks": ""
             }
            },
            "type": "scattermapbox"
           }
          ],
          "scatterpolar": [
           {
            "marker": {
             "colorbar": {
              "outlinewidth": 0,
              "ticks": ""
             }
            },
            "type": "scatterpolar"
           }
          ],
          "scatterpolargl": [
           {
            "marker": {
             "colorbar": {
              "outlinewidth": 0,
              "ticks": ""
             }
            },
            "type": "scatterpolargl"
           }
          ],
          "scatterternary": [
           {
            "marker": {
             "colorbar": {
              "outlinewidth": 0,
              "ticks": ""
             }
            },
            "type": "scatterternary"
           }
          ],
          "surface": [
           {
            "colorbar": {
             "outlinewidth": 0,
             "ticks": ""
            },
            "colorscale": [
             [
              0,
              "#0d0887"
             ],
             [
              0.1111111111111111,
              "#46039f"
             ],
             [
              0.2222222222222222,
              "#7201a8"
             ],
             [
              0.3333333333333333,
              "#9c179e"
             ],
             [
              0.4444444444444444,
              "#bd3786"
             ],
             [
              0.5555555555555556,
              "#d8576b"
             ],
             [
              0.6666666666666666,
              "#ed7953"
             ],
             [
              0.7777777777777778,
              "#fb9f3a"
             ],
             [
              0.8888888888888888,
              "#fdca26"
             ],
             [
              1,
              "#f0f921"
             ]
            ],
            "type": "surface"
           }
          ],
          "table": [
           {
            "cells": {
             "fill": {
              "color": "#EBF0F8"
             },
             "line": {
              "color": "white"
             }
            },
            "header": {
             "fill": {
              "color": "#C8D4E3"
             },
             "line": {
              "color": "white"
             }
            },
            "type": "table"
           }
          ]
         },
         "layout": {
          "annotationdefaults": {
           "arrowcolor": "#2a3f5f",
           "arrowhead": 0,
           "arrowwidth": 1
          },
          "coloraxis": {
           "colorbar": {
            "outlinewidth": 0,
            "ticks": ""
           }
          },
          "colorscale": {
           "diverging": [
            [
             0,
             "#8e0152"
            ],
            [
             0.1,
             "#c51b7d"
            ],
            [
             0.2,
             "#de77ae"
            ],
            [
             0.3,
             "#f1b6da"
            ],
            [
             0.4,
             "#fde0ef"
            ],
            [
             0.5,
             "#f7f7f7"
            ],
            [
             0.6,
             "#e6f5d0"
            ],
            [
             0.7,
             "#b8e186"
            ],
            [
             0.8,
             "#7fbc41"
            ],
            [
             0.9,
             "#4d9221"
            ],
            [
             1,
             "#276419"
            ]
           ],
           "sequential": [
            [
             0,
             "#0d0887"
            ],
            [
             0.1111111111111111,
             "#46039f"
            ],
            [
             0.2222222222222222,
             "#7201a8"
            ],
            [
             0.3333333333333333,
             "#9c179e"
            ],
            [
             0.4444444444444444,
             "#bd3786"
            ],
            [
             0.5555555555555556,
             "#d8576b"
            ],
            [
             0.6666666666666666,
             "#ed7953"
            ],
            [
             0.7777777777777778,
             "#fb9f3a"
            ],
            [
             0.8888888888888888,
             "#fdca26"
            ],
            [
             1,
             "#f0f921"
            ]
           ],
           "sequentialminus": [
            [
             0,
             "#0d0887"
            ],
            [
             0.1111111111111111,
             "#46039f"
            ],
            [
             0.2222222222222222,
             "#7201a8"
            ],
            [
             0.3333333333333333,
             "#9c179e"
            ],
            [
             0.4444444444444444,
             "#bd3786"
            ],
            [
             0.5555555555555556,
             "#d8576b"
            ],
            [
             0.6666666666666666,
             "#ed7953"
            ],
            [
             0.7777777777777778,
             "#fb9f3a"
            ],
            [
             0.8888888888888888,
             "#fdca26"
            ],
            [
             1,
             "#f0f921"
            ]
           ]
          },
          "colorway": [
           "#636efa",
           "#EF553B",
           "#00cc96",
           "#ab63fa",
           "#FFA15A",
           "#19d3f3",
           "#FF6692",
           "#B6E880",
           "#FF97FF",
           "#FECB52"
          ],
          "font": {
           "color": "#2a3f5f"
          },
          "geo": {
           "bgcolor": "white",
           "lakecolor": "white",
           "landcolor": "#E5ECF6",
           "showlakes": true,
           "showland": true,
           "subunitcolor": "white"
          },
          "hoverlabel": {
           "align": "left"
          },
          "hovermode": "closest",
          "mapbox": {
           "style": "light"
          },
          "paper_bgcolor": "white",
          "plot_bgcolor": "#E5ECF6",
          "polar": {
           "angularaxis": {
            "gridcolor": "white",
            "linecolor": "white",
            "ticks": ""
           },
           "bgcolor": "#E5ECF6",
           "radialaxis": {
            "gridcolor": "white",
            "linecolor": "white",
            "ticks": ""
           }
          },
          "scene": {
           "xaxis": {
            "backgroundcolor": "#E5ECF6",
            "gridcolor": "white",
            "gridwidth": 2,
            "linecolor": "white",
            "showbackground": true,
            "ticks": "",
            "zerolinecolor": "white"
           },
           "yaxis": {
            "backgroundcolor": "#E5ECF6",
            "gridcolor": "white",
            "gridwidth": 2,
            "linecolor": "white",
            "showbackground": true,
            "ticks": "",
            "zerolinecolor": "white"
           },
           "zaxis": {
            "backgroundcolor": "#E5ECF6",
            "gridcolor": "white",
            "gridwidth": 2,
            "linecolor": "white",
            "showbackground": true,
            "ticks": "",
            "zerolinecolor": "white"
           }
          },
          "shapedefaults": {
           "line": {
            "color": "#2a3f5f"
           }
          },
          "ternary": {
           "aaxis": {
            "gridcolor": "white",
            "linecolor": "white",
            "ticks": ""
           },
           "baxis": {
            "gridcolor": "white",
            "linecolor": "white",
            "ticks": ""
           },
           "bgcolor": "#E5ECF6",
           "caxis": {
            "gridcolor": "white",
            "linecolor": "white",
            "ticks": ""
           }
          },
          "title": {
           "x": 0.05
          },
          "xaxis": {
           "automargin": true,
           "gridcolor": "white",
           "linecolor": "white",
           "ticks": "",
           "title": {
            "standoff": 15
           },
           "zerolinecolor": "white",
           "zerolinewidth": 2
          },
          "yaxis": {
           "automargin": true,
           "gridcolor": "white",
           "linecolor": "white",
           "ticks": "",
           "title": {
            "standoff": 15
           },
           "zerolinecolor": "white",
           "zerolinewidth": 2
          }
         }
        }
       }
      },
      "text/html": [
       "<div>                            <div id=\"64556752-a9bc-4d37-ae60-388412d37c4b\" class=\"plotly-graph-div\" style=\"height:525px; width:100%;\"></div>            <script type=\"text/javascript\">                require([\"plotly\"], function(Plotly) {                    window.PLOTLYENV=window.PLOTLYENV || {};                                    if (document.getElementById(\"64556752-a9bc-4d37-ae60-388412d37c4b\")) {                    Plotly.newPlot(                        \"64556752-a9bc-4d37-ae60-388412d37c4b\",                        [{\"hovertemplate\": \"name=%{text}<br>lat=%{lat}<br>lon=%{lon}<extra></extra>\", \"lat\": [37.3730016, 37.3900156, 36.9945325, 37.4063636, 37.4065076, 37.4068889, 37.381381, 37.3492941, 37.3931413, 37.3916239, 37.281765, 37.3945948, 37.3928078, 37.3902034, 37.3968266, 37.39283, 37.4000193, 37.4636269, 37.3877763, 37.3782419, 37.3784637, 37.4223309, 37.4210312, 37.6592193, 37.4158443, 37.408912, 37.4162977, 37.4322927, 37.4265448, 37.3993597, 37.4032095, 37.4040568, 37.3767341, 37.3758354, 37.3709299, 37.3453886, 37.347762, 37.3650152, 37.3666867, 37.3941226, 37.3745748, 37.3821828, 37.3765331, 37.3762135, 37.3828281, 37.4906658, 37.2929933, 37.3880213, 37.4004138, 37.4022714, 37.382216, 37.3750846, 37.3838793, 37.3758889, 37.41043, 37.3994984, 37.4010345, 37.4117722, 37.4021436, 37.3958654, 37.3732438, 37.3770745, 37.3921327, 37.373167, 37.395969, 37.3955684, 37.3993031, 37.3661575, 37.3716058, 37.3612925, 37.390219, 37.4011492, 37.2697298, 37.344986, 37.2756379, 37.3626648, 37.4007084, 37.1744795, 37.4615531, 37.1876727, 37.1851484, 37.1836702, 37.1895563, 37.1797124, 37.3207532, 37.285365, 37.2855656, 37.3255608, 37.3353194, 37.2906251, 37.3888642, 37.3878814, 37.3823229, 37.2661629, 37.3327558, 37.3882714, 37.295735, 37.3376348, 37.3322365, 37.394668, 37.387336, 37.37798, 37.3501025, 37.3842002, 37.3418953, 37.3828833, 37.3774228, 37.3851723, 37.3838552, 37.3939616, 37.3834992, 37.4066907, 37.3542265, 37.3778989, 37.3439885, 37.3850834, 37.3784614, 37.4245402, 37.3511902, 37.3845859, 37.3829724, 37.3926659, 37.487511, 37.2871942, 36.9943288, 37.1615124, 37.4084798, 37.3852201, 37.3387597, 37.3416599, 37.3385438, 37.3876859, 37.3755246, 37.3417027, 37.2838344, 37.5433022, 37.3732443, 37.3585028, 37.4639055, 37.3720492, 37.3730775, 37.5451547, 37.3388604, 37.2902401, 37.3984032, 37.328376, 37.3684704, 37.5132086, 37.5161821, 37.3827647, 37.3972073, 37.3986384, 37.9314768, 37.4012555, 37.388112, 37.3897145, 37.284377, 37.3007621, 37.5395984, 37.5304428, 37.5379071, 37.3816054, 37.351903, 37.2962155, 37.2949076, 37.2894918, 37.3846396, 37.3845658, 37.3883375, 37.3901385, 37.935879, 37.4010558, 37.3390588, 37.2889914, 37.3704267, 37.3709517, 37.3723487, 37.3718211, 37.3764664, 37.377278, 37.2315496, 37.2374432, 37.2374048, 37.3588512, 37.3563452, 37.3757882, 37.3947584, 37.3785976, 37.3775664, 37.378052, 37.4024316, 37.2517534, 37.3979165, 37.3455022, 37.1288919, 37.1263749, 37.1278811, 37.5442913, 37.5416931, 37.3755656, 37.4109179, 37.3793471, 37.353053, 37.4836776, 37.4844523, 37.30331, 37.3596854, 37.3835149, 37.3741291, 37.3826562, 37.4108539, 37.9428359, 37.2238977, 37.385883, 37.6601041, 37.3101139, 37.3798043, 37.2783941, 37.4494613, 37.6609324, 37.3720803, 37.3736999, 37.3825028, 37.4247797, 37.3774904, 37.365128, 37.3042312, 37.3897096, 37.3858133, 37.426738, 37.3023998, 37.2824923, 37.3761087, 37.3874865, 37.3536782, 37.100331, 37.3725826, 37.3718625, 37.3040479, 37.3819894, 37.3890463, 37.3585589, 37.3593174, 4.2685437, 4.2645309, 4.2642887, 4.2635972, 37.365246, 37.355629, 37.3742039, 37.3773855, 37.3123385, 37.4636663, 37.4148171, 37.3813908, 37.3810371, 37.3807862, 37.3932795, 37.3972674, 37.3905785, 36.9283397, 37.381633, 37.3223888, 37.2832311, 37.3917556, 37.3858695, 37.3855691, 37.337093, 37.3252963, 37.3849155, 37.3945664, 37.5365141, 37.2221232, 37.3798531, 37.38285, 37.545211, 37.7789366, 37.3662625, 37.3800582, 37.4325717, 37.4717331, 37.3726496, 37.4011565, 37.3605097, 37.3792072, 37.381944, 37.3812806, 37.3708759, 37.6598589, 37.7066017, 37.5737316, 37.2828452, 37.4381841, 37.3729319, 37.4065108, 37.3717263, 37.3716578, 37.5447672, 37.5447161, 37.4751307, 37.4643008, 36.9796885, 37.3886902, 37.3795609, 37.3542239, 37.3748125, 37.3791269, 37.3766656, 37.3751536, 37.3777005, 37.378475, 37.3753009, 37.3751423, 37.3819024, 37.3817406, 37.3875216, 37.2858944, 37.5367864, 37.5284996, 37.5350109, 37.407151, 37.3709124, 37.3712266, 37.3809175, 37.3934557, 37.1285468, 37.3447542, 37.3412032, 37.3500535, 37.4033923, 37.3762284, 37.2943823, 37.4031917, 37.4186604, 37.5155549], \"legendgroup\": \"\", \"lon\": [-6.0472036, -5.9737693, -5.5723199, -5.9763418, -5.9733419, -5.9724546, -5.9794179, -5.9768997, -5.9815793, -5.9813217, -5.9369929, -5.9910877, -5.9863711, -5.9903244, -5.9906521, -5.9835362, -5.9856329, -5.6474422, -5.9819761, -6.0119068, -6.0119015, -5.9613759, -5.9637284, -5.5271327, -5.9700072, -5.9769987, -5.9644557, -5.9793319, -5.9860088, -5.9779561, -5.9683925, -5.9654044, -5.9803391, -5.9763155, -5.9789718, -5.9807998, -5.9803647, -5.9790562, -5.975481, -5.9572429, -5.9677453, -5.9659946, -5.969255, -5.9689733, -5.9654853, -5.9461751, -5.9230804, -5.9150298, -5.925213, -5.9268237, -5.9532198, -5.9538345, -5.9469451, -5.9545486, -5.9250194, -5.9527488, -5.9406317, -5.9196117, -5.9206454, -5.9241546, -6.0446424, -6.0456304, -6.0305198, -6.0300594, -5.978107, -5.978225, -5.9710998, -5.9683973, -5.9566624, -5.9601058, -5.9894762, -5.9918408, -5.9362868, -5.932839, -5.9277721, -6.0439156, -5.9270066, -5.7767863, -6.0095892, -5.7877631, -5.7736967, -5.7765071, -5.7780879, -5.7962499, -6.072243, -5.9102831, -5.9146873, -5.9339584, -6.0643473, -5.9245229, -6.0020476, -5.9844847, -5.9654876, -5.9213596, -5.9693451, -5.9607582, -5.9117565, -5.827671, -5.834486, -5.997403, -5.9849974, -5.997585, -6.0518262, -6.0613371, -6.0673942, -5.9536265, -5.9472911, -5.9482621, -5.9514647, -5.9956693, -5.9184405, -5.9730014, -5.8580908, -6.0669422, -5.9754025, -5.9812451, -5.9412792, -5.9849356, -6.0250197, -6.0059643, -6.0060357, -5.9819003, -5.9352853, -5.9433609, -5.5764933, -5.9252046, -5.910971, -5.9772574, -5.8401204, -5.8334524, -5.9266725, -5.9673225, -6.0045754, -5.8303426, -5.9377335, -5.0762451, -5.9952049, -5.9859219, -5.6447327, -5.9620406, -5.963688, -6.0566456, -5.8381685, -5.9258418, -5.9991195, -5.8532728, -6.0791734, -5.9857917, -5.9812268, -6.0030198, -6.0335377, -6.0322142, -5.7590353, -6.0336533, -5.982929, -5.99916, -5.9267402, -4.8833645, -5.0880186, -5.0856797, -5.0728107, -5.9649648, -5.8454073, -6.0530087, -6.0556159, -6.0526707, -6.0103841, -6.0134182, -6.0807164, -5.9706711, -5.7598055, -5.9257114, -5.9300443, -5.9269918, -4.959488, -4.9577282, -4.9609931, -4.9592467, -4.9436485, -4.9463952, -5.0979443, -5.1140827, -5.1143778, -5.9860648, -5.9857084, -6.0046336, -6.0013408, -5.9726165, -5.9697255, -5.9726701, -5.9807553, -4.916402, -5.9979908, -5.9798668, -5.4527503, -5.4502532, -5.4546207, -5.0817373, -5.0803299, -5.9997345, -5.9253627, -6.0047183, -6.0476967, -5.9471195, -5.9475486, -6.3053348, -6.3278422, -6.0771612, -6.0320738, -6.0834494, -5.9254298, -5.7606609, -5.3126409, -6.0274989, -5.5303545, -6.1067959, -6.0836775, -5.9332385, -4.8823975, -5.5267357, -6.0724424, -6.0697293, -6.0095687, -5.9850727, -6.0129859, -5.9819631, -6.3046051, -5.9921167, -6.0743354, -5.9763877, -6.2976206, -5.9211799, -5.9474761, -5.9727302, -6.0574429, -4.9845295, -5.9967977, -6.0354853, -6.297249, -6.0039737, -6.080157, -5.9781164, -5.9783584, -75.9346416, -75.9348948, -75.9339817, -75.9340334, -4.85114, -4.985669, -6.0028403, -5.973638, -5.8602342, -5.6520452, -6.1614621, -5.7339377, -5.7345929, -5.7352893, -5.716306, -5.7126393, -5.9799081, -6.0695391, -6.0847287, -6.06612, -5.9313921, -5.9804426, -6.055347, -6.0475562, -5.8456912, -5.8538032, -6.0549346, -5.9969563, -5.0732017, -5.8160429, -5.999686, -5.9745482, -5.0787518, -5.3868392, -5.9988958, -5.9795246, -6.0504183, -5.6396686, -5.9959837, -5.9937657, -6.0410394, -6.0075123, -6.0039569, -6.0039747, -5.9769946, -5.5336856, -5.350012, -5.9153841, -5.907662, -6.0405927, -5.9586408, -5.9897152, -5.9827216, -5.9822434, -5.076954, -5.0775816, -5.6465003, -5.3438793, -5.938488, -6.0084614, -5.9188368, -5.9763565, -6.0000997, -5.9990942, -6.0038452, -5.9983526, -5.9984998, -5.9993465, -5.998974, -5.998694, -6.001493, -6.0013333, -6.0532792, -5.9157327, -6.1584518, -6.1528978, -6.153677, -5.9609781, -5.9507914, -5.9509086, -5.973515, -5.9965176, -5.45486, -6.0456497, -6.0597904, -6.0491422, -5.9693853, -5.9702723, -4.7614862, -5.969346, -5.974322, -6.2660091], \"marker\": {\"color\": \"#636efa\"}, \"mode\": \"markers+text\", \"name\": \"\", \"showlegend\": false, \"subplot\": \"mapbox\", \"text\": [\"MAS\", \"Maxi Dia\", \"Dia\", \"El Jam\\u00f3n\", \"Valdajimena\", \"Dia\", \"MAS\", \"Mercadona\", \"Supersol\", \"NO NAME\", \"Dia\", \"El Jam\\u00f3n\", \"Masymas\", \"Supersol\", \"Maxi Dia\", \"Dia Market\", \"Dia Market\", \"Mercadona\", \"Maxi Dia\", \"Supermercado El Jam\\u00f3n\", \"Dia Market\", \"NO NAME\", \"NO NAME\", \"Mercadona\", \"NO NAME\", \"NO NAME\", \"NO NAME\", \"NO NAME\", \"NO NAME\", \"Mercadona\", \"NO NAME\", \"NO NAME\", \"NO NAME\", \"NO NAME\", \"Supermercados Mas\", \"NO NAME\", \"Supermercado El Jam\\u00f3n\", \"Mercadona\", \"NO NAME\", \"Maxi Dia\", \"Maxi Dia\", \"OpenCor\", \"M.A.S.\", \"Dia\", \"NO NAME\", \"Dia\", \"Mercadona\", \"NO NAME\", \"Mercadona\", \"Dia\", \"Supersol\", \"NO NAME\", \"NO NAME\", \"El Jam\\u00f3n\", \"NO NAME\", \"NO NAME\", \"NO NAME\", \"NO NAME\", \"Cash Fresh\", \"NO NAME\", \"Mercadona\", \"Mas\", \"Carrefour\", \"Hipercor\", \"Supersol\", \"Dia\", \"NO NAME\", \"NO NAME\", \"Dia\", \"NO NAME\", \"Dia\", \"MAS\", \"Covir\\u00e1n\", \"M.A.S.\", \"Codi\", \"NO NAME\", \"Cash\", \"Mercadona\", \"Maxi Dia\", \"Mercadona\", \"Hipersol\", \"Mercadona\", \"Codi\", \"Supermercado Juani\", \"Mas\", \"Codi\", \"Codi\", \"Mas Olivares\", \"Mercadona\", \"Codi\", \"Mas\", \"El Jam\\u00f3n\", \"Supemercados El Jam\\u00f3n\", \"Bebidas Sur\", \"Lidl\", \"Hipercor Los Arcos\", \"Cash - Hnos L\\u00f3pez Gonz\\u00e1lez\", \"Dia\", \"Caliser\", \"Dia\", \"Supermercados Mas\", \"Supersol\", \"Mercadona\", \"Aldi\", \"NO NAME\", \"Dia\", \"Dia\", \"Dia\", \"Cash fresh\", \"Hiper Oriente\", \"Mercadona\", \"MAS\", \"Mercadona\", \"Lidl\", \"Supermercado MAS\", \"Supermercado MAS\", \"MAS\", \"Supermcado \\\"M.A.S.\\\"\", \"Mercadona\", \"Supermercados El Jam\\u00f3n\", \"MAS\", \"Supersol\", \"Mercadona\", \"Covir\\u00e1n\", \"NO NAME\", \"Hermanos P\\u00e1ez Mart\\u00edn\", \"Alcampo\", \"Mas\", \"Supermercado M.A.S\", \"Mercadona\", \"Mercadona\", \"Supermercado\", \"Supermercado MAS\", \"Lidl\", \"Carrefour\", \"San Enrique\", \"Supermercados MAS\", \"Supersol\", \"Miguel Angel\", \"Mercadona\", \"ChasLepe\", \"MASS Supermercados\", \"Dia\", \"Covir\\u00e1n\", \"La Ortiga\", \"NO NAME\", \"Supermercados Mas\", \"NO NAME\", \"NO NAME\", \"Maskom\", \"Mercadona\", \"Supermercado Victoriano\", \"Eroski\", \"Dia\", \"Spar\", \"Supermercados MAS\", \"Covir\\u00e1n\", \"Mercadona\", \"Mercadona\", \"Carrefour\", \"Aldi\", \"Dia\", \"Maxi Dia\", \"Lidl\", \"Dia\", \"Mercadona\", \"Dia\", \"Dia\", \"Supermercado Proxim\", \"NO NAME\", \"Dia Market\", \"Bonsabor\", \"Codi\", \"Covir\\u00e1n\", \"NO NAME\", \"NO NAME\", \"Eroski\", \"NO NAME\", \"NO NAME\", \"NO NAME\", \"Eroski\", \"Mercadona\", \"Lidl\", \"MAS&Go\", \"El Jam\\u00f3n\", \"El Jam\\u00f3n\", \"Supermrecados Mas\", \"La Coriana\", \"La China\", \"El Toni\", \"NO NAME\", \"Dia\", \"Supersol\", \"Dia\", \"Dia\", \"Lidl\", \"Urbano Center\", \"San Enrique\", \"Covir\\u00e1n\", \"Lidl\", \"El Jam\\u00f3n\", \"Cash Fresh\", \"Supermercado M.A.S\", \"NO NAME\", \"NO NAME\", \"Mercadona\", \"Badia\", \"MAS\", \"Dia\", \"Maxi Dia\", \"Perfumeria Ana\", \"CASH FRESH\", \"Dia\", \"Maxi Dia\", \"Dia\", \"Dia\", \"Supeco\", \"NO NAME\", \"Minimarket\", \"NICASIO\", \"Alimentaci\\u00f3n YEN\", \"Hiper Frutas y Pescado Aljarafe\", \"El Jam\\u00f3n\", \"Supersol\", \"Autoservicio Rosa\", \"El Jam\\u00f3n\", \"Covir\\u00e1n\", \"Mas\", \"El Jam\\u00f3n\", \"Mercadona\", \"Dia\", \"Codi\", \"Jam\\u00f3n\", \"Super Oriental\", \"Alimentation biologique\", \"NO NAME\", \"Dia\", \"Mercadona\", \"Covir\\u00e1n\", \"Supermercado Ecol\\u00f3gico.Herboteca\", \"Supermercado Noah\", \"Mas\", \"jam\\u00f3n\", \"Autoservicio la miranda\", \"Merkacentro\", \"ARA\", \"D1- De todos\", \"Dia\", \"Alsara\", \"NO NAME\", \"El Colmado de Pimpi\", \"Mercadona\", \"Aldi\", \"NO NAME\", \"Lidl\", \"Mercadona\", \"Carrefour\", \"Supermercado Paz\", \"Mercadona\", \"Mercadona\", \"Aldi\", \"El Molino de Gines\", \"Maxi Dia\", \"Codi\", \"Aldi\", \"Codi\", \"Mercadona\", \"Dia\", \"Aldi\", \"Covir\\u00e1n\", \"Mas&go\", \"Lidl\", \"Ayala\", \"Mercadona\", \"Fresh DIA\", \"Dia\", \"Covir\\u00e1n\", \"Aldi\", \"Dia\", \"Cash Fresh\", \"El Jam\\u00f3n\", \"Lin\", \"Supermercado Alameda\", \"Suma\", \"El Jam\\u00f3n\", \"Supermercado Ecol\\u00f3gico Herboteca\", \"Supermercado MAS\", \"Dia\", \"Cash Fresh\", \"cash pe\\u00f1aflor\", \"NO NAME\", \"NO NAME\", \"Supermercado Bazar\", \"El Jam\\u00f3n\", \"Mercadona\", \"Supersol\", \"Mas&Go\", \"SAN ENRIQUE\", \"EL POLVILLO\", \"SuperCarmela\", \"NO NAME\", \"Super Carmela\", \"Dia\", \"NO NAME\", \"Supersol\", \"MAS&Go\", \"MAS & go\", \"MAS\", \"MAS\", \"Dia\", \"Aldi\", \"Covir\\u00e1n\", \"MAS\", \"Dia Market\", \"Supermercados La Cesta\", \"Spar\", \"Supermercados Maxico\", \"Nietas de Maruja\", \"La Esquina Ib\\u00e9rica\", \"El Burrito\", \"Mercadrink\", \"Dia Market\", \"Supersol\", \"supermercado sur\", \"El Corte Ingles\", \"Family Cash\", \"Covir\\u00e1n\", \"Supermercados MAS\", \"Expo\", \"Lidl\", \"Alimentaci\\u00f3n Mei Bazar\", \"Supermercado Jeromito\", \"Lidl\", \"Carrefour\", \"D\\u00eda\"], \"type\": \"scattermapbox\"}],                        {\"legend\": {\"tracegroupgap\": 0}, \"mapbox\": {\"accesstoken\": \"pk.eyJ1IjoiZGFvcnRpIiwiYSI6ImNrZnF6M3FlczA3cDEyem16YTNzZmV4M2EifQ.846iF0sMSAXv0kwkwUTYjg\", \"center\": {\"lat\": 36.98348426447758, \"lon\": -6.710550519701495}, \"domain\": {\"x\": [0.0, 1.0], \"y\": [0.0, 1.0]}, \"zoom\": 11}, \"margin\": {\"t\": 60}, \"template\": {\"data\": {\"bar\": [{\"error_x\": {\"color\": \"#2a3f5f\"}, \"error_y\": {\"color\": \"#2a3f5f\"}, \"marker\": {\"line\": {\"color\": \"#E5ECF6\", \"width\": 0.5}}, \"type\": \"bar\"}], \"barpolar\": [{\"marker\": {\"line\": {\"color\": \"#E5ECF6\", \"width\": 0.5}}, \"type\": \"barpolar\"}], \"carpet\": [{\"aaxis\": {\"endlinecolor\": \"#2a3f5f\", \"gridcolor\": \"white\", \"linecolor\": \"white\", \"minorgridcolor\": \"white\", \"startlinecolor\": \"#2a3f5f\"}, \"baxis\": {\"endlinecolor\": \"#2a3f5f\", \"gridcolor\": \"white\", \"linecolor\": \"white\", \"minorgridcolor\": \"white\", \"startlinecolor\": \"#2a3f5f\"}, \"type\": \"carpet\"}], \"choropleth\": [{\"colorbar\": {\"outlinewidth\": 0, \"ticks\": \"\"}, \"type\": \"choropleth\"}], \"contour\": [{\"colorbar\": {\"outlinewidth\": 0, \"ticks\": \"\"}, \"colorscale\": [[0.0, \"#0d0887\"], [0.1111111111111111, \"#46039f\"], [0.2222222222222222, \"#7201a8\"], [0.3333333333333333, \"#9c179e\"], [0.4444444444444444, \"#bd3786\"], [0.5555555555555556, \"#d8576b\"], [0.6666666666666666, \"#ed7953\"], [0.7777777777777778, \"#fb9f3a\"], [0.8888888888888888, \"#fdca26\"], [1.0, \"#f0f921\"]], \"type\": \"contour\"}], \"contourcarpet\": [{\"colorbar\": {\"outlinewidth\": 0, \"ticks\": \"\"}, \"type\": \"contourcarpet\"}], \"heatmap\": [{\"colorbar\": {\"outlinewidth\": 0, \"ticks\": \"\"}, \"colorscale\": [[0.0, \"#0d0887\"], [0.1111111111111111, \"#46039f\"], [0.2222222222222222, \"#7201a8\"], [0.3333333333333333, \"#9c179e\"], [0.4444444444444444, \"#bd3786\"], [0.5555555555555556, \"#d8576b\"], [0.6666666666666666, \"#ed7953\"], [0.7777777777777778, \"#fb9f3a\"], [0.8888888888888888, \"#fdca26\"], [1.0, \"#f0f921\"]], \"type\": \"heatmap\"}], \"heatmapgl\": [{\"colorbar\": {\"outlinewidth\": 0, \"ticks\": \"\"}, \"colorscale\": [[0.0, \"#0d0887\"], [0.1111111111111111, \"#46039f\"], [0.2222222222222222, \"#7201a8\"], [0.3333333333333333, \"#9c179e\"], [0.4444444444444444, \"#bd3786\"], [0.5555555555555556, \"#d8576b\"], [0.6666666666666666, \"#ed7953\"], [0.7777777777777778, \"#fb9f3a\"], [0.8888888888888888, \"#fdca26\"], [1.0, \"#f0f921\"]], \"type\": \"heatmapgl\"}], \"histogram\": [{\"marker\": {\"colorbar\": {\"outlinewidth\": 0, \"ticks\": \"\"}}, \"type\": \"histogram\"}], \"histogram2d\": [{\"colorbar\": {\"outlinewidth\": 0, \"ticks\": \"\"}, \"colorscale\": [[0.0, \"#0d0887\"], [0.1111111111111111, \"#46039f\"], [0.2222222222222222, \"#7201a8\"], [0.3333333333333333, \"#9c179e\"], [0.4444444444444444, \"#bd3786\"], [0.5555555555555556, \"#d8576b\"], [0.6666666666666666, \"#ed7953\"], [0.7777777777777778, \"#fb9f3a\"], [0.8888888888888888, \"#fdca26\"], [1.0, \"#f0f921\"]], \"type\": \"histogram2d\"}], \"histogram2dcontour\": [{\"colorbar\": {\"outlinewidth\": 0, \"ticks\": \"\"}, \"colorscale\": [[0.0, \"#0d0887\"], [0.1111111111111111, \"#46039f\"], [0.2222222222222222, \"#7201a8\"], [0.3333333333333333, \"#9c179e\"], [0.4444444444444444, \"#bd3786\"], [0.5555555555555556, \"#d8576b\"], [0.6666666666666666, \"#ed7953\"], [0.7777777777777778, \"#fb9f3a\"], [0.8888888888888888, \"#fdca26\"], [1.0, \"#f0f921\"]], \"type\": \"histogram2dcontour\"}], \"mesh3d\": [{\"colorbar\": {\"outlinewidth\": 0, \"ticks\": \"\"}, \"type\": \"mesh3d\"}], \"parcoords\": [{\"line\": {\"colorbar\": {\"outlinewidth\": 0, \"ticks\": \"\"}}, \"type\": \"parcoords\"}], \"pie\": [{\"automargin\": true, \"type\": \"pie\"}], \"scatter\": [{\"marker\": {\"colorbar\": {\"outlinewidth\": 0, \"ticks\": \"\"}}, \"type\": \"scatter\"}], \"scatter3d\": [{\"line\": {\"colorbar\": {\"outlinewidth\": 0, \"ticks\": \"\"}}, \"marker\": {\"colorbar\": {\"outlinewidth\": 0, \"ticks\": \"\"}}, \"type\": \"scatter3d\"}], \"scattercarpet\": [{\"marker\": {\"colorbar\": {\"outlinewidth\": 0, \"ticks\": \"\"}}, \"type\": \"scattercarpet\"}], \"scattergeo\": [{\"marker\": {\"colorbar\": {\"outlinewidth\": 0, \"ticks\": \"\"}}, \"type\": \"scattergeo\"}], \"scattergl\": [{\"marker\": {\"colorbar\": {\"outlinewidth\": 0, \"ticks\": \"\"}}, \"type\": \"scattergl\"}], \"scattermapbox\": [{\"marker\": {\"colorbar\": {\"outlinewidth\": 0, \"ticks\": \"\"}}, \"type\": \"scattermapbox\"}], \"scatterpolar\": [{\"marker\": {\"colorbar\": {\"outlinewidth\": 0, \"ticks\": \"\"}}, \"type\": \"scatterpolar\"}], \"scatterpolargl\": [{\"marker\": {\"colorbar\": {\"outlinewidth\": 0, \"ticks\": \"\"}}, \"type\": \"scatterpolargl\"}], \"scatterternary\": [{\"marker\": {\"colorbar\": {\"outlinewidth\": 0, \"ticks\": \"\"}}, \"type\": \"scatterternary\"}], \"surface\": [{\"colorbar\": {\"outlinewidth\": 0, \"ticks\": \"\"}, \"colorscale\": [[0.0, \"#0d0887\"], [0.1111111111111111, \"#46039f\"], [0.2222222222222222, \"#7201a8\"], [0.3333333333333333, \"#9c179e\"], [0.4444444444444444, \"#bd3786\"], [0.5555555555555556, \"#d8576b\"], [0.6666666666666666, \"#ed7953\"], [0.7777777777777778, \"#fb9f3a\"], [0.8888888888888888, \"#fdca26\"], [1.0, \"#f0f921\"]], \"type\": \"surface\"}], \"table\": [{\"cells\": {\"fill\": {\"color\": \"#EBF0F8\"}, \"line\": {\"color\": \"white\"}}, \"header\": {\"fill\": {\"color\": \"#C8D4E3\"}, \"line\": {\"color\": \"white\"}}, \"type\": \"table\"}]}, \"layout\": {\"annotationdefaults\": {\"arrowcolor\": \"#2a3f5f\", \"arrowhead\": 0, \"arrowwidth\": 1}, \"coloraxis\": {\"colorbar\": {\"outlinewidth\": 0, \"ticks\": \"\"}}, \"colorscale\": {\"diverging\": [[0, \"#8e0152\"], [0.1, \"#c51b7d\"], [0.2, \"#de77ae\"], [0.3, \"#f1b6da\"], [0.4, \"#fde0ef\"], [0.5, \"#f7f7f7\"], [0.6, \"#e6f5d0\"], [0.7, \"#b8e186\"], [0.8, \"#7fbc41\"], [0.9, \"#4d9221\"], [1, \"#276419\"]], \"sequential\": [[0.0, \"#0d0887\"], [0.1111111111111111, \"#46039f\"], [0.2222222222222222, \"#7201a8\"], [0.3333333333333333, \"#9c179e\"], [0.4444444444444444, \"#bd3786\"], [0.5555555555555556, \"#d8576b\"], [0.6666666666666666, \"#ed7953\"], [0.7777777777777778, \"#fb9f3a\"], [0.8888888888888888, \"#fdca26\"], [1.0, \"#f0f921\"]], \"sequentialminus\": [[0.0, \"#0d0887\"], [0.1111111111111111, \"#46039f\"], [0.2222222222222222, \"#7201a8\"], [0.3333333333333333, \"#9c179e\"], [0.4444444444444444, \"#bd3786\"], [0.5555555555555556, \"#d8576b\"], [0.6666666666666666, \"#ed7953\"], [0.7777777777777778, \"#fb9f3a\"], [0.8888888888888888, \"#fdca26\"], [1.0, \"#f0f921\"]]}, \"colorway\": [\"#636efa\", \"#EF553B\", \"#00cc96\", \"#ab63fa\", \"#FFA15A\", \"#19d3f3\", \"#FF6692\", \"#B6E880\", \"#FF97FF\", \"#FECB52\"], \"font\": {\"color\": \"#2a3f5f\"}, \"geo\": {\"bgcolor\": \"white\", \"lakecolor\": \"white\", \"landcolor\": \"#E5ECF6\", \"showlakes\": true, \"showland\": true, \"subunitcolor\": \"white\"}, \"hoverlabel\": {\"align\": \"left\"}, \"hovermode\": \"closest\", \"mapbox\": {\"style\": \"light\"}, \"paper_bgcolor\": \"white\", \"plot_bgcolor\": \"#E5ECF6\", \"polar\": {\"angularaxis\": {\"gridcolor\": \"white\", \"linecolor\": \"white\", \"ticks\": \"\"}, \"bgcolor\": \"#E5ECF6\", \"radialaxis\": {\"gridcolor\": \"white\", \"linecolor\": \"white\", \"ticks\": \"\"}}, \"scene\": {\"xaxis\": {\"backgroundcolor\": \"#E5ECF6\", \"gridcolor\": \"white\", \"gridwidth\": 2, \"linecolor\": \"white\", \"showbackground\": true, \"ticks\": \"\", \"zerolinecolor\": \"white\"}, \"yaxis\": {\"backgroundcolor\": \"#E5ECF6\", \"gridcolor\": \"white\", \"gridwidth\": 2, \"linecolor\": \"white\", \"showbackground\": true, \"ticks\": \"\", \"zerolinecolor\": \"white\"}, \"zaxis\": {\"backgroundcolor\": \"#E5ECF6\", \"gridcolor\": \"white\", \"gridwidth\": 2, \"linecolor\": \"white\", \"showbackground\": true, \"ticks\": \"\", \"zerolinecolor\": \"white\"}}, \"shapedefaults\": {\"line\": {\"color\": \"#2a3f5f\"}}, \"ternary\": {\"aaxis\": {\"gridcolor\": \"white\", \"linecolor\": \"white\", \"ticks\": \"\"}, \"baxis\": {\"gridcolor\": \"white\", \"linecolor\": \"white\", \"ticks\": \"\"}, \"bgcolor\": \"#E5ECF6\", \"caxis\": {\"gridcolor\": \"white\", \"linecolor\": \"white\", \"ticks\": \"\"}}, \"title\": {\"x\": 0.05}, \"xaxis\": {\"automargin\": true, \"gridcolor\": \"white\", \"linecolor\": \"white\", \"ticks\": \"\", \"title\": {\"standoff\": 15}, \"zerolinecolor\": \"white\", \"zerolinewidth\": 2}, \"yaxis\": {\"automargin\": true, \"gridcolor\": \"white\", \"linecolor\": \"white\", \"ticks\": \"\", \"title\": {\"standoff\": 15}, \"zerolinecolor\": \"white\", \"zerolinewidth\": 2}}}},                        {\"responsive\": true}                    ).then(function(){\n",
       "                            \n",
       "var gd = document.getElementById('64556752-a9bc-4d37-ae60-388412d37c4b');\n",
       "var x = new MutationObserver(function (mutations, observer) {{\n",
       "        var display = window.getComputedStyle(gd).display;\n",
       "        if (!display || display === 'none') {{\n",
       "            console.log([gd, 'removed!']);\n",
       "            Plotly.purge(gd);\n",
       "            observer.disconnect();\n",
       "        }}\n",
       "}});\n",
       "\n",
       "// Listen for the removal of the full notebook cells\n",
       "var notebookContainer = gd.closest('#notebook-container');\n",
       "if (notebookContainer) {{\n",
       "    x.observe(notebookContainer, {childList: true});\n",
       "}}\n",
       "\n",
       "// Listen for the clearing of the current output cell\n",
       "var outputEl = gd.closest('.output');\n",
       "if (outputEl) {{\n",
       "    x.observe(outputEl, {childList: true});\n",
       "}}\n",
       "\n",
       "                        })                };                });            </script>        </div>"
      ]
     },
     "metadata": {},
     "output_type": "display_data"
    }
   ],
   "source": [
    "pinta_mapa(df)"
   ]
  },
  {
   "cell_type": "markdown",
   "metadata": {},
   "source": [
    "## Etiqueta en el mapa\n",
    "Busca la manera de modificar la función `pinta_mapa()`, de tal manera que cuando pases el ratón por encima de cada punto, aparezca el nombre de cada nodo. Por ejemplo, que en el último apartado aparezcan los nombres de los supermercados."
   ]
  },
  {
   "cell_type": "code",
   "execution_count": 129,
   "metadata": {},
   "outputs": [
    {
     "data": {
      "application/vnd.plotly.v1+json": {
       "config": {
        "plotlyServerURL": "https://plot.ly"
       },
       "data": [
        {
         "hovertemplate": "name=%{text}<br>lat=%{lat}<br>lon=%{lon}<extra></extra>",
         "lat": [
          41.2688839,
          41.5285035,
          42.0998806,
          42.1035448,
          42.1028414,
          41.629379,
          41.5960006,
          41.5466314,
          41.5593401,
          41.5850912,
          41.4879383,
          41.5745382,
          41.3909045,
          41.4901952,
          41.5456067,
          41.6419283,
          41.6638964,
          41.5895605,
          41.6387045,
          41.6130443,
          41.4114165,
          41.5726385,
          41.5737958,
          41.5741404,
          41.5745607,
          41.4468135,
          41.4416041,
          41.4375701,
          41.53179,
          41.5356736,
          41.5368336,
          41.5491815,
          41.5449883,
          41.6237546,
          41.6259995,
          41.5755891,
          41.5008261,
          41.3196946,
          41.3759,
          41.4563057,
          41.3755969,
          41.3735436,
          41.6350749,
          41.3761509,
          41.4909113,
          41.3901775,
          41.4264239,
          41.452488,
          41.4533086,
          41.4938093,
          41.3789612,
          41.4127914,
          41.4124433,
          41.4119681,
          41.4138911,
          41.4416457,
          41.4143907,
          41.4381799,
          41.4457676,
          41.4023418,
          41.4023154,
          41.4024683,
          41.3828116,
          41.3510901,
          41.4546374,
          41.3796932,
          41.3895965,
          41.3747729,
          41.5734724,
          41.3806017,
          41.5040925,
          41.5012604,
          41.5052857,
          41.3952853,
          41.3956814,
          41.4139175,
          41.4795648,
          41.4170051,
          41.4166179,
          41.371244,
          41.3645175,
          41.4985225,
          41.4107728,
          41.3823171,
          41.2004354,
          41.3750143,
          41.5552727,
          41.2819318,
          41.6559559,
          41.2490468,
          41.2472722,
          41.2474213,
          41.2369158,
          41.563923,
          41.6856877,
          41.6874522,
          41.3861533,
          41.3869796,
          41.3851237,
          41.3762412,
          41.3826547,
          41.3860999,
          41.5812267,
          41.5805688,
          41.4065703,
          41.3918433,
          41.4408242,
          41.4114593,
          41.5181269,
          41.559528,
          41.5593032,
          41.2387489,
          41.3061407,
          41.3034718,
          41.2958755,
          41.4482763,
          41.4493333,
          41.4461002,
          41.3771709,
          41.3794968,
          41.3780701,
          41.3776523,
          41.4063957,
          41.3741246,
          41.5649986,
          41.3732668,
          41.4011099,
          41.411092,
          41.4230752,
          41.4222401,
          41.3931773,
          41.3064367,
          41.403107,
          41.3947291,
          41.5103839,
          41.3869304,
          41.4717667,
          41.4715248,
          41.4720551,
          41.4721718,
          41.4822244,
          41.3075734,
          41.388214,
          41.3830876,
          41.5270917,
          41.3072183,
          41.4012482,
          41.4303689,
          41.5528728,
          41.4472012,
          41.4160116,
          41.4080772,
          41.5633229,
          41.3479016,
          41.4356437,
          41.3749129,
          41.5803105,
          41.3824052,
          41.3771825,
          41.4284379,
          41.3715253,
          41.3822852,
          41.3801129,
          41.3803462,
          41.3820067,
          41.3090468,
          41.4052364,
          41.4107795,
          41.5428507,
          41.542547,
          41.5416614,
          41.3773681,
          41.6909622,
          41.4140368,
          41.3798027,
          41.5376229,
          41.6816071,
          41.6846217,
          41.7450043,
          41.7448102,
          41.7449551,
          41.4534739,
          41.5423541,
          41.3955415,
          41.4136707,
          41.3826109,
          41.3820828,
          41.3822443,
          41.434053,
          41.434386,
          41.381252,
          41.3804716,
          41.3836428,
          41.4281908,
          41.4281031,
          41.4278755,
          41.4992167,
          41.3745191,
          41.3738074,
          41.38999,
          41.4061304,
          41.4064398,
          41.3746117,
          41.3794731,
          41.3808774,
          41.5404749,
          41.4279078,
          41.751595,
          41.2228095,
          41.4849016,
          41.4429836,
          41.519497,
          41.4083034,
          41.4095619,
          41.405565,
          41.402391,
          41.4064092,
          41.4117734,
          41.4796972,
          41.227145,
          41.3717889,
          41.5584221,
          41.5766652,
          41.5604581,
          41.5726838,
          41.5747389,
          41.430635,
          41.4804051,
          41.4815619,
          41.3944077,
          41.2186219,
          41.2167157,
          41.37115,
          41.6243014,
          41.5655805,
          41.4059186,
          41.4064566,
          41.2662558,
          41.4004872,
          41.3996987,
          41.3728967,
          41.3911342,
          41.3994289,
          41.4002223,
          41.3991191,
          41.3980381,
          41.4772679,
          41.5395048,
          41.5394209,
          41.4003905,
          41.3720043,
          41.4246854,
          41.3965084,
          41.4003526,
          41.395533,
          41.3693161,
          41.4720622,
          41.4044821,
          41.7332178,
          41.4124764,
          41.540959,
          41.6124975,
          41.4067026,
          41.3963687,
          41.3978028,
          41.428821,
          41.4288231,
          41.4361126,
          41.6165655,
          41.3759207,
          41.390608,
          41.3915206,
          41.3919204,
          41.3816843,
          41.3811131,
          41.4542428,
          41.4513216,
          41.4534736,
          41.4483841,
          41.4526563,
          41.3835125,
          41.3808618,
          41.4390594,
          41.4337299,
          41.527148,
          41.4359056,
          41.4376808,
          41.3712408,
          41.3729104,
          41.3873877,
          41.386858,
          41.3864706,
          41.4506755,
          41.4065935,
          41.3732194,
          41.4058392,
          41.405634,
          41.3760043,
          41.3761001,
          41.3950643,
          41.2823445,
          41.3545649,
          41.2655157,
          41.2829941,
          41.2687794,
          41.3988499,
          41.456866,
          41.5457247,
          41.3801817,
          41.5186211,
          41.7215826,
          41.7227882,
          41.7231036,
          41.55795,
          41.3926915,
          41.3889444,
          41.4489973,
          41.4515556,
          41.412063,
          41.4094587,
          41.410011,
          41.4095087,
          41.3742726,
          41.3877446,
          41.4179507,
          42.1353226,
          41.5517009,
          41.4349161,
          41.3786081,
          41.8822618,
          41.4283381,
          41.4180731,
          41.2177897,
          41.2176974,
          41.3724922,
          41.3762848,
          41.3895216,
          41.3812389,
          41.3774886,
          41.3786743,
          41.4173464,
          41.6881937,
          41.3763778,
          41.3809194,
          41.3835216,
          41.3773917,
          41.3864764,
          41.4106971,
          41.3772015,
          41.3772317,
          41.3837836,
          41.3831846,
          41.3848714,
          41.3862397,
          41.392798,
          41.5069698,
          41.381066,
          41.4510009,
          41.4047978,
          41.4041684,
          41.3946246,
          41.3934697,
          41.3896968,
          41.417008,
          41.4175222,
          41.7342868,
          41.383364,
          41.3876396,
          41.3701514,
          41.74286,
          41.41648,
          41.4175152,
          41.4159831,
          41.4013139,
          41.4028924,
          41.4416172,
          41.4391569,
          41.4422361,
          41.4400902,
          41.5038936,
          41.3605779,
          41.3621011,
          41.728222,
          41.7276508,
          41.7294789,
          41.3798951,
          41.3827326,
          41.3849284,
          41.3697062,
          41.5724368,
          41.3974037,
          41.444568,
          41.3909932,
          41.7520229,
          41.3981285,
          41.3971017,
          41.5411983,
          41.3889714,
          41.3643125,
          41.4137271,
          41.6550181,
          41.6432413,
          41.6522418,
          41.4416774,
          41.4399584,
          41.4371158,
          41.4368357,
          41.5648058,
          41.4200219,
          41.4023159,
          41.4040048,
          41.4023821,
          41.4040084,
          41.4018251,
          41.3991782,
          41.3756747,
          41.3758337,
          41.3762765,
          41.4201316,
          41.413988,
          41.4074359,
          41.4220714,
          41.4221319,
          41.4119453,
          41.3835203,
          41.258659,
          41.2607569,
          41.2593765,
          41.2593302,
          41.4143356,
          41.4010293,
          41.408738,
          41.5796928,
          41.440326,
          41.3544109,
          41.4404854,
          41.3734372,
          41.5405934,
          41.3763656,
          41.6164041,
          41.3484053,
          42.0093388,
          42.0083815,
          42.0090335,
          42.0083044,
          41.3862387,
          41.4504954,
          41.3930166,
          41.391263,
          41.5512963,
          41.5292456,
          41.5298363,
          41.3796399,
          41.3677139,
          41.3673955,
          41.3683975,
          41.3683053,
          41.3681478,
          41.235618,
          41.2367859,
          41.2388486,
          41.9251579,
          41.9247289,
          41.5240613,
          41.4438378,
          41.9212974,
          41.3032652,
          41.4477988,
          41.4377466,
          41.405938,
          41.4063688,
          41.4174459,
          41.4124231,
          41.4129421,
          41.381459,
          41.8277961,
          41.4027825,
          41.3805162,
          41.542302,
          41.5438543,
          41.4906479,
          41.4914073,
          41.5773645,
          41.5780849,
          41.5774344,
          41.4206127,
          41.4985197,
          41.4040266,
          41.7526368,
          41.4283151,
          41.3820675,
          41.4445354,
          41.4432769,
          41.4441022,
          41.4814679,
          41.767344,
          42.0174955,
          41.3721813,
          41.3769353,
          41.3714305,
          41.3776083,
          41.3641292,
          41.3650502,
          41.4400215,
          41.4050395,
          41.4054123,
          41.4045329,
          41.6135365,
          41.6307283,
          41.3794904,
          41.3805804,
          41.387308,
          41.3882152,
          41.3860934,
          41.3860078,
          41.3210514,
          41.3968924,
          41.6629949,
          41.663357,
          41.6633995,
          41.4082199,
          41.4586986,
          41.442599,
          41.4402216,
          42.0401738,
          41.987928,
          41.5702428,
          41.4375487,
          41.3758249,
          41.3602817,
          41.490352,
          41.4915056,
          41.4558189,
          41.6231744,
          41.4181472,
          41.4022225,
          41.3772039,
          41.4255051,
          41.4024638,
          41.4021729,
          41.2799661,
          41.4014001,
          42.2445592,
          41.9308459,
          41.4021919,
          41.4289143,
          41.4854097,
          41.3896311,
          41.3987602,
          41.4798386,
          41.553672,
          41.4138775,
          41.6732285,
          41.3862454,
          41.390614,
          41.3956445,
          41.3845253,
          41.3736866,
          41.3859243,
          41.4332698,
          41.7302721,
          41.7445054,
          41.4257054,
          41.3241688,
          41.3237347,
          41.3242625,
          41.3662761,
          41.4164049,
          41.4183312,
          41.4197657,
          41.501786,
          41.3918035,
          41.4342136,
          41.4404182,
          41.2218361,
          41.221004,
          41.2235887,
          41.2234814,
          41.2280254,
          41.2237192,
          41.2197781,
          41.2238113,
          41.2214717,
          41.2342642,
          41.2203923,
          41.223031,
          41.2203163,
          41.2164384,
          41.2246916,
          41.2245543,
          41.2257901,
          41.2297194,
          41.5428679,
          41.4158211,
          41.4174627,
          41.2199418,
          41.4030164,
          41.3761395,
          41.3827281,
          41.3867942,
          42.0950329,
          41.4076799,
          41.4131069,
          42.0347283,
          41.3788125,
          41.6161219,
          42.0335201,
          41.6152363,
          42.0321175,
          41.3934288,
          41.4218024,
          41.5009232,
          41.4923182,
          41.3671922,
          41.5569979,
          41.6128778,
          41.3774794,
          41.3767305,
          41.3759295,
          41.6114995,
          41.3848443,
          41.3404128,
          41.6151342,
          41.4208674,
          41.421064,
          41.3101318,
          41.3987468,
          41.4115022,
          41.4086255,
          41.4063871,
          41.3757112,
          41.7360844,
          41.3931177,
          41.4593791,
          41.398686,
          41.4091912,
          41.5629729,
          41.3824784,
          41.7228914,
          41.5812804,
          41.4016453,
          41.4021816,
          41.7817093,
          41.5890266,
          41.5884543,
          41.9020254,
          41.90165,
          41.8651036,
          41.8645868,
          41.8636253,
          41.4214112,
          41.4206827,
          41.3971379,
          41.2233117,
          42.0132574,
          41.4577152,
          41.492674,
          41.493205,
          41.4121762,
          41.4075631,
          41.4080919,
          41.4077117,
          41.3872332,
          41.3863467,
          41.4413254,
          41.4374271,
          41.2232441,
          41.2240322,
          41.4388496,
          41.7394008,
          41.4656857,
          41.7367265,
          41.8957674,
          41.5574769,
          41.3757257,
          41.3763035,
          41.7249502,
          41.4065183,
          41.4941878,
          41.2017538,
          41.3789732,
          41.3791256,
          41.8991106,
          41.8974829,
          41.9002935,
          41.899593,
          41.4022843,
          41.4049674,
          41.4049079,
          41.4350274,
          41.2319362,
          41.2321507,
          41.2016247,
          41.2006786,
          41.5267919,
          41.3598799,
          41.387119,
          41.7271022,
          41.3955952,
          41.399285,
          41.3803126,
          41.5762934,
          41.5766579,
          41.3903447,
          41.3740294,
          41.358679,
          41.33159,
          41.4029127,
          41.3962809,
          41.3979078,
          41.4164517,
          41.4195572,
          41.4210894,
          41.4189912,
          41.4241955,
          41.4220878,
          41.4183752,
          41.3751862,
          41.3758472,
          41.3615165,
          41.4194864,
          41.3971739,
          41.4051093,
          41.3894574,
          41.3990208,
          41.4132532,
          41.4110098,
          41.3957647,
          41.3947162,
          41.4177461,
          41.3888364,
          41.3860658,
          41.3592102,
          41.3746609,
          41.3726806,
          41.3860304,
          41.3864886,
          41.4109246,
          41.4109137,
          41.3924929,
          41.4220019,
          41.4124144,
          41.3881292,
          41.4098936,
          41.41357,
          41.3921998,
          41.409253,
          41.4026891,
          41.407284,
          41.4125354,
          41.4031706,
          41.4112658,
          41.3980156,
          41.4139092,
          41.4208873,
          41.3797352,
          41.4151888,
          41.3951944,
          41.4071223,
          41.7515135,
          41.3765785,
          41.4828882,
          41.5016042,
          41.560906,
          41.6154654,
          41.612966,
          41.504404,
          41.4193044,
          41.5767296,
          41.5673488,
          41.6029562,
          41.4076763,
          41.3600188,
          41.384099,
          41.3839862,
          41.3744298,
          41.568289,
          41.5708752,
          41.5698621,
          41.3788135,
          41.370484,
          41.5018093,
          41.5040974,
          41.5010902,
          41.4970001,
          41.4981131,
          41.4987599,
          41.4997965,
          41.505502,
          41.5067134,
          41.4964363,
          41.4958477,
          41.4950461,
          41.4947577,
          41.4922736,
          41.4924343,
          41.4159926,
          41.4122109,
          41.4029558,
          41.3819861,
          41.4023575,
          41.3351672,
          41.2396006,
          41.4387759,
          41.4411154,
          41.5383844,
          41.3419182,
          41.338061,
          41.3865786,
          41.3387527,
          41.3860049,
          41.3889934,
          41.3346698,
          41.7261752,
          41.4362341,
          41.5451385,
          41.3847547,
          41.3534569,
          41.4086286,
          41.4209303,
          41.4379608,
          41.4380153,
          41.4350673,
          41.5547143,
          41.5566091,
          41.3826406,
          41.4068568,
          41.7286696,
          41.3858981,
          41.4338344,
          41.4026504,
          41.4025843,
          41.4031301,
          41.4052752,
          41.4045232,
          41.4065742,
          41.4476987,
          41.4147539,
          41.5762743,
          41.388728,
          41.4928743,
          41.4916468,
          41.4132697,
          41.4688652,
          41.6685071,
          41.4074849,
          41.7241021,
          41.3918148,
          41.4058264,
          41.4006477,
          41.4010493,
          41.4682068,
          41.4725529,
          41.4068477,
          41.407866,
          41.4052831,
          41.4194371,
          41.3862089,
          41.3860977,
          41.3861525,
          41.3797898,
          41.3759466,
          41.3996311,
          41.3903832,
          41.403431,
          41.4038372,
          41.3842948,
          41.3845266,
          41.3841506,
          41.4001056,
          41.4518788,
          41.4017178,
          41.5294813,
          41.4628728,
          41.4628547,
          41.4615723,
          41.4077083,
          42.0083391,
          41.727814,
          41.5300922,
          41.3847635,
          41.5019168,
          41.5027083,
          41.4915589,
          41.382865,
          41.3857346,
          41.5463029,
          41.5121367,
          41.5131399,
          41.5134171,
          41.5133267,
          41.4398098,
          41.3835813,
          41.4396663,
          41.438432,
          41.4695406,
          41.437526,
          41.4376132,
          41.5296742,
          41.6834594,
          41.3759162,
          41.4103144,
          41.3917392,
          41.614364,
          41.5640868,
          41.5668934,
          41.5640748,
          41.5646216,
          41.5286267,
          41.5285544,
          41.528207,
          41.4741916,
          41.5873019,
          41.4040377,
          41.5249539,
          41.7333049,
          41.4468414,
          41.4477437,
          41.3731607,
          41.3729561,
          41.5472094,
          41.5692672,
          41.3858414,
          41.3770692,
          41.3772931,
          41.448787,
          41.4548728,
          41.4486368,
          41.4525524,
          41.6226435,
          41.5182976,
          41.4931948,
          41.4928733,
          41.4907196,
          41.4910993,
          41.5328845,
          41.5376394,
          41.5089559,
          41.3976404,
          41.5702705,
          41.3782082,
          41.4005273,
          41.4835124,
          41.4822864,
          41.5526669,
          41.3980449,
          41.4945978,
          41.3833997,
          42.0135137,
          41.5471975,
          41.547067,
          41.5487231,
          41.5509191,
          41.5512282,
          41.500445,
          41.3835931,
          41.3833212,
          41.3835351,
          41.3844445,
          41.3876829,
          41.498124,
          41.3848919,
          41.4950224,
          41.55025,
          41.5508009,
          41.5517155,
          41.5474393,
          41.6149103,
          41.3789516,
          41.6077667,
          41.5517716,
          41.4457847,
          41.4492026,
          41.5319059,
          41.5310656,
          41.5313106,
          41.3880204,
          41.6370312,
          41.5691165,
          41.5297604,
          41.3488649,
          41.5252512,
          41.4799148,
          41.5168108,
          41.4907321,
          41.6740453,
          41.6731197,
          41.565893,
          41.6263492,
          41.6260524,
          41.6227101,
          41.6376655,
          41.6388064,
          41.6397154,
          41.6398357,
          41.6343814,
          41.6932711,
          41.6970484,
          41.6989089,
          41.7247473,
          41.5423199,
          41.413161,
          41.4065255,
          41.5078688,
          41.5327248,
          41.5360959,
          41.5376779,
          41.5421538,
          41.4351212,
          41.4519854,
          41.4529441,
          41.4256929,
          41.4272012,
          41.4297272,
          41.4960861,
          41.4969366,
          41.5003597,
          41.4953297,
          41.4952393,
          41.4945341,
          41.4874147,
          41.4881756,
          41.4116728,
          41.6143644,
          41.5476243,
          41.5607007,
          41.526915,
          41.44188,
          41.5607722,
          41.447503,
          41.3920837,
          41.3936322,
          41.4221312,
          41.5303606,
          41.5447313,
          41.4025772,
          41.4003102,
          41.4024482,
          41.4490811,
          41.388027,
          41.391962,
          41.3798901,
          41.3919523,
          41.3903769,
          41.3912508,
          41.408634,
          41.3848888,
          41.3851896,
          41.475533,
          41.4750561,
          41.466718,
          41.3996276,
          41.4007176,
          41.3990917,
          41.4007927,
          41.4123752,
          41.2704965,
          41.3800213,
          41.3801743,
          41.4163407,
          41.397182,
          41.3207523,
          41.3858651,
          41.4218962,
          41.4351502,
          41.4302932,
          41.4004787,
          41.3848478,
          41.9397194,
          41.9406791,
          42.2335299,
          41.4234284,
          41.3843365,
          41.6096379,
          41.614633,
          41.3949546,
          41.6394103,
          41.4003675,
          41.3870417,
          41.4156154,
          41.4810527,
          41.4806171,
          41.478788,
          41.6133547,
          41.4081939,
          41.375916,
          41.4028707,
          41.40341,
          41.4257931,
          41.568992,
          41.4115279,
          41.3479198,
          41.383764,
          41.4398705,
          41.4319198,
          41.9321904,
          41.5446675,
          41.4362161,
          41.4014517,
          41.4224192,
          41.3925802,
          41.3895766,
          41.3841025,
          41.3838536,
          41.385669,
          41.3813188,
          41.9308246,
          41.9279072,
          41.9316757,
          41.9320034,
          41.6174189,
          41.5418515,
          41.387584,
          41.3588634,
          41.381875,
          41.4188343,
          41.53011,
          41.3834182,
          41.3605664,
          41.3800054,
          41.3771418,
          41.353897,
          41.3643321,
          41.3635096,
          41.3620599,
          41.3939284,
          41.3960742,
          41.3623277,
          41.3852607,
          41.3925637,
          41.3851648,
          41.3745114,
          41.3906242,
          41.6290424,
          41.3601241,
          41.4910972,
          41.4930039,
          41.3895517,
          41.3957971,
          41.391935,
          41.3998268,
          41.3907371,
          41.6850299,
          41.375457,
          41.4097222,
          41.6814225,
          41.3596647,
          41.4094094,
          41.4098881,
          41.3667154,
          41.4030573,
          41.4056088,
          41.3997169,
          41.3647066,
          41.3869485,
          41.3682545,
          41.3744357,
          41.3754895,
          41.3680788,
          41.3843831,
          41.4800655,
          41.3826531,
          41.4800038,
          41.4034507,
          41.402975,
          41.4822582,
          -23.6196884,
          41.5015412,
          41.4740915,
          41.6888967,
          41.3974206,
          41.3984575,
          41.3832041,
          41.3721415,
          41.8748493,
          41.353139,
          41.3992951,
          41.3990612,
          41.3789866,
          41.3923461,
          41.3703749,
          41.3779699,
          41.4763409,
          41.3712926,
          41.3679752,
          41.3750322,
          41.6890644,
          41.4026072,
          41.9450844,
          41.606992,
          41.39021,
          41.4003043,
          41.6124875,
          41.4044022,
          41.6127993,
          41.2247428,
          41.3638438,
          41.542122,
          41.54283,
          41.6700471,
          41.7961466,
          41.7959736,
          41.7967275,
          41.7974133,
          41.8604615,
          41.474271,
          41.4114789,
          41.7514636,
          41.4045345,
          41.4056747,
          41.4058528,
          41.4060512,
          41.4062668,
          41.4037491,
          41.4017282,
          41.4034926,
          41.4019041,
          41.3987855,
          41.395939,
          41.3944689,
          41.4835557,
          41.5126442,
          41.4126764,
          41.3902776,
          41.3928198,
          41.4053883,
          41.390395,
          41.4080053,
          41.4066542,
          41.4065032,
          41.3280389,
          41.4082521,
          41.6115139,
          41.4099568,
          41.4096043,
          41.465521,
          41.4032265,
          41.4013831,
          41.4005548,
          41.4054596,
          41.3996966,
          41.550205,
          41.4992401,
          41.4067419,
          41.400476,
          41.3821141,
          41.3769909,
          41.3837383,
          41.4212679,
          42.2546409,
          41.4003963,
          41.6924786,
          41.6062569,
          41.6108114,
          41.4904055,
          41.4831862,
          41.4899775,
          41.413891,
          41.4173948,
          41.3788153,
          42.2530615,
          41.3905507,
          41.4363788,
          41.435967,
          41.4548785,
          41.4328743,
          41.3762956,
          41.3751957,
          41.424819,
          41.6031107,
          41.4402181,
          41.365622,
          41.3668509,
          41.2541463,
          41.3698795,
          41.4391367,
          41.4302246,
          41.3983856,
          41.731011,
          41.3910359,
          41.5709492,
          41.5700832,
          41.5694732,
          41.4996797,
          41.7309924,
          41.7297491,
          41.7313409,
          41.4604544,
          41.4244166,
          41.4245353,
          41.6007626,
          41.399,
          41.3890217,
          41.3784,
          41.4287294,
          41.3987367,
          41.4139009,
          41.5631558,
          41.3639312,
          41.3592116,
          41.3905525,
          41.4880454,
          41.488099,
          41.3654304,
          41.4907537,
          41.383163,
          41.3713724,
          41.4032182,
          41.39878,
          41.4356387,
          41.2386371,
          41.3685027,
          41.3718957,
          41.3632399,
          41.4484021,
          41.4470838,
          41.4582202,
          41.4529044,
          41.4476794,
          41.4504246,
          41.453901,
          41.4506249,
          41.4581481,
          41.4534667,
          41.4586104,
          41.4550244,
          41.4485962,
          41.4509358,
          41.4501678,
          41.4491254,
          41.4590343,
          41.4605874,
          41.4471906,
          41.4500587,
          41.4574048,
          41.4599351,
          41.4546111,
          41.4520686,
          41.4551876,
          41.4530637,
          41.4553856,
          41.4506053,
          41.455667,
          41.4475477,
          41.3897506,
          41.3608471,
          41.3620159,
          41.3616557,
          41.3584691,
          41.3584696,
          41.3616663,
          41.3601933,
          41.3602409,
          41.3595691,
          41.3623354,
          41.410823,
          41.4129925,
          41.4198454,
          41.4204896,
          41.3977747,
          41.3907093,
          41.4173813,
          41.4486718,
          41.4074955,
          41.7278572,
          41.3982086,
          41.6053285,
          41.5334319,
          41.4480446,
          41.4474113,
          41.4480446,
          41.4484986,
          41.4474113,
          41.4479212,
          41.4522391,
          41.4487026,
          41.5456792,
          41.6872528,
          41.3750037,
          41.375376,
          41.3794657,
          41.3773026,
          41.3756373,
          41.5805912,
          41.375523,
          41.371474,
          41.3738765,
          41.3747914,
          41.3757382,
          41.494005,
          41.3757186,
          41.3759771,
          41.3752511,
          41.4127158,
          41.9328268,
          41.3467119,
          41.4689038,
          41.468795,
          41.4723493,
          41.4691512,
          41.50197,
          41.5000636,
          41.4636944,
          41.3892087,
          41.3813814,
          41.4098536,
          41.4942692,
          41.4957398,
          41.497797,
          41.4976001
         ],
         "legendgroup": "",
         "lon": [
          2.0112952,
          2.0896983,
          1.8441708,
          1.8533905,
          1.8577599,
          2.6922148,
          2.2842318,
          2.0271622,
          2.0292942,
          1.6259221,
          2.1291803,
          1.6365976,
          2.125693,
          2.1844077,
          2.4310818,
          2.2325513,
          2.2697096,
          2.3224366,
          2.2327588,
          2.2380623,
          2.0176174,
          1.6069816,
          1.6087842,
          1.608323,
          1.6076849,
          2.1747937,
          2.1780626,
          2.1804956,
          2.4319513,
          2.4233525,
          2.4317269,
          2.4403894,
          2.4530837,
          2.6906113,
          2.6885617,
          2.0867729,
          2.0896572,
          2.0899394,
          2.1313,
          2.2276514,
          2.1311301,
          2.1669381,
          2.711885,
          2.1352817,
          2.1846144,
          2.1488058,
          2.229745,
          2.2511798,
          2.2499037,
          2.292389,
          2.1704622,
          2.1974089,
          2.1967739,
          2.1961625,
          2.2020633,
          2.2191905,
          2.0221398,
          2.2168542,
          2.1725927,
          2.1991561,
          2.1452028,
          2.1456319,
          2.0806464,
          2.0306409,
          1.9607952,
          2.171798,
          2.1567671,
          2.16436,
          2.2347458,
          2.1889995,
          2.3929808,
          2.387634,
          2.3897327,
          2.1242464,
          2.1249031,
          2.0157145,
          2.0877751,
          2.1707669,
          2.1701808,
          2.0870803,
          2.0926803,
          2.3802017,
          2.194425,
          2.16861,
          1.6496784,
          2.0858614,
          2.0861552,
          1.9856994,
          2.2229821,
          1.8138661,
          1.8125626,
          1.8109449,
          1.8079435,
          2.0204921,
          2.2861673,
          2.2860368,
          2.144398,
          2.1442296,
          2.1454326,
          2.168762,
          2.171171,
          2.1679417,
          2.0130826,
          2.0236239,
          2.1635248,
          2.152291,
          2.1819658,
          2.1420651,
          2.1252405,
          2.0955916,
          2.0950766,
          1.8088415,
          2.0077361,
          2.0018036,
          2.0075937,
          2.2157456,
          2.2180999,
          2.2170539,
          2.1255716,
          2.1262943,
          2.1269642,
          2.1293602,
          2.1808131,
          2.1307557,
          2.0049872,
          2.1695439,
          2.1599095,
          2.1721017,
          2.1467075,
          2.1441231,
          2.125008,
          1.9949498,
          2.1540234,
          2.133976,
          2.1136245,
          2.1603923,
          2.0916343,
          2.085154,
          2.0799796,
          2.0887941,
          2.0518902,
          2.0025806,
          2.0570332,
          2.1850665,
          2.3671642,
          2.0020148,
          2.151385,
          2.1790779,
          2.0070024,
          2.2151483,
          2.1793486,
          2.1567221,
          2.0089404,
          2.0774181,
          2.1571111,
          2.1196323,
          2.0338152,
          2.1624256,
          2.1121417,
          2.1650436,
          2.0876116,
          2.188448,
          2.1882542,
          2.1887534,
          2.1898797,
          2.0051698,
          2.182648,
          2.1883281,
          1.890426,
          1.8920894,
          1.8964221,
          2.119519,
          2.4895148,
          2.18928,
          2.0690083,
          2.2072036,
          2.4890108,
          2.4839464,
          1.8053719,
          1.8037259,
          1.8065143,
          2.217578,
          2.4509255,
          2.1423536,
          1.9659725,
          2.1360961,
          2.1367034,
          2.1357723,
          2.2184799,
          2.217131,
          2.1267921,
          2.1298667,
          2.1401829,
          2.170384,
          2.1709302,
          2.1742457,
          1.8154767,
          2.1612935,
          2.1609515,
          1.9365358,
          2.2109384,
          2.2101589,
          2.1387862,
          2.1432138,
          2.1780868,
          2.4535686,
          2.1794063,
          1.8747127,
          1.7237237,
          2.04523,
          2.1765635,
          2.4223769,
          2.1472479,
          2.1512953,
          2.1532652,
          2.1482945,
          2.1371428,
          2.1388768,
          2.0686848,
          1.7272617,
          2.1411244,
          2.0934225,
          2.0172243,
          2.0234654,
          2.0130389,
          2.0126789,
          2.2191453,
          1.914264,
          1.9160387,
          2.1273963,
          1.7292644,
          1.7332308,
          2.138379,
          2.6868269,
          2.0114513,
          2.1738847,
          2.1772722,
          1.9712261,
          2.1657166,
          2.1679035,
          2.1256964,
          2.156549,
          2.006351,
          2.006044,
          2.007618,
          2.007296,
          1.9161057,
          2.2124529,
          2.2116215,
          2.2039006,
          2.0756661,
          2.1406086,
          2.1682109,
          2.1658891,
          2.1689106,
          2.0836426,
          2.0908858,
          2.1372386,
          1.5135985,
          1.9686581,
          2.2091409,
          2.5383858,
          2.1516985,
          2.1509481,
          2.1487988,
          2.1819404,
          2.1833245,
          2.1728576,
          2.3025806,
          2.1175772,
          2.1977378,
          2.1907387,
          2.1895606,
          2.1466223,
          2.1456253,
          2.2353776,
          2.2370343,
          2.2352418,
          2.2367572,
          2.2306598,
          2.1536098,
          2.1533419,
          2.1654032,
          2.1485264,
          2.4326335,
          2.1742809,
          2.173662,
          2.1335234,
          2.1056335,
          2.1137462,
          2.1125446,
          2.1133869,
          2.2238752,
          2.1816279,
          2.1218425,
          2.1946428,
          2.1917031,
          2.1229782,
          2.1231318,
          2.0086949,
          1.9745605,
          2.0883201,
          1.9637078,
          1.9873783,
          1.9441716,
          2.1636909,
          2.0431782,
          2.2074101,
          2.1523066,
          1.7077918,
          1.8157288,
          1.8161476,
          1.8411701,
          1.9540532,
          2.1512453,
          2.1614246,
          2.1922102,
          2.1908284,
          2.1607601,
          2.1631237,
          2.1632524,
          2.1628635,
          2.1581681,
          2.1569524,
          2.1490232,
          1.9932433,
          2.1046494,
          2.1697543,
          2.142696,
          2.2431835,
          2.1706584,
          2.1895967,
          1.7321545,
          1.7300275,
          2.0702027,
          2.1496532,
          2.1954414,
          2.1766523,
          2.1644506,
          2.1739648,
          2.1890428,
          2.49237,
          2.1622923,
          2.1622811,
          2.1626252,
          2.1786001,
          2.1507542,
          2.1467858,
          2.1593313,
          2.1602594,
          2.1799953,
          2.1795195,
          2.1797276,
          2.1650882,
          2.1884594,
          1.902422,
          2.0400924,
          2.2064771,
          2.2033032,
          2.1789166,
          2.1706443,
          2.0111234,
          2.0099299,
          2.1839656,
          2.1841954,
          1.8372573,
          2.1397071,
          2.1465409,
          2.1340233,
          1.8042148,
          2.1901456,
          2.197999,
          2.1948556,
          2.1655191,
          2.1702533,
          2.1827397,
          2.1821812,
          2.1848003,
          2.1818189,
          2.1536184,
          2.0824807,
          2.082842,
          1.8381348,
          1.837903,
          1.8364248,
          2.0525163,
          2.0556928,
          2.0736184,
          2.1329222,
          2.0905535,
          2.1217544,
          2.2181037,
          2.1516605,
          1.8784079,
          2.1460844,
          2.144769,
          2.4373572,
          1.9339035,
          2.1276205,
          2.1039419,
          2.7429275,
          2.7385368,
          2.7468982,
          2.2166463,
          2.2150515,
          2.2049224,
          2.2042069,
          2.5151109,
          2.1962763,
          2.1998443,
          2.1595218,
          2.1714302,
          2.1622868,
          2.1546703,
          2.2035839,
          2.1594777,
          2.1597432,
          2.1602502,
          2.187446,
          2.1617533,
          2.1618264,
          2.1811472,
          2.1850064,
          2.160447,
          2.1564657,
          1.7717237,
          1.7694631,
          1.7766974,
          1.7768145,
          2.2005776,
          2.2052715,
          2.1894997,
          2.5120155,
          2.2243594,
          2.0740992,
          2.2213531,
          2.1465907,
          2.4268978,
          2.1658428,
          2.0876817,
          2.1078648,
          2.0280762,
          2.0291136,
          2.0297254,
          2.0299527,
          2.1845656,
          2.2193537,
          2.1858405,
          2.1850318,
          2.4804505,
          2.110055,
          2.1092175,
          2.1462933,
          2.0795549,
          2.0168907,
          2.0167414,
          2.0163925,
          2.0209316,
          1.8091403,
          1.8091858,
          1.8069962,
          2.2836322,
          2.2838209,
          2.1105387,
          2.2247843,
          2.2525702,
          2.009009,
          2.2431215,
          2.2429546,
          2.1534942,
          2.1525491,
          2.1874012,
          2.1382004,
          2.1390855,
          2.1774271,
          1.8927485,
          2.2034307,
          2.1886893,
          2.1114106,
          2.1095393,
          2.1403809,
          2.1373987,
          2.0134879,
          2.0127315,
          2.0160151,
          1.9965475,
          2.1575249,
          2.156774,
          1.9017519,
          2.1709859,
          2.1697622,
          2.2233053,
          2.2239663,
          2.2235282,
          2.3178227,
          2.2527083,
          1.7348888,
          2.0846479,
          2.0848196,
          2.0849819,
          2.175603,
          2.0808167,
          2.0806089,
          2.2161084,
          2.1782408,
          2.1769855,
          2.178466,
          2.6542922,
          2.3012169,
          2.1672795,
          2.167645,
          2.0445002,
          2.0452876,
          2.0459476,
          2.0459234,
          2.0281997,
          2.1667115,
          2.2685158,
          2.2691562,
          2.2692327,
          2.1724743,
          2.2573146,
          2.229622,
          2.2274914,
          2.2733685,
          2.3075231,
          2.0043687,
          2.1936151,
          2.1210506,
          2.0792547,
          2.0207916,
          2.036602,
          2.2583088,
          2.6915283,
          2.1829547,
          2.1638196,
          2.1647548,
          2.1869263,
          2.1631167,
          2.1644554,
          1.9797957,
          2.1645174,
          1.9746179,
          2.2566395,
          2.1648366,
          2.1625316,
          2.1666192,
          2.1438878,
          2.1695787,
          1.8052529,
          2.4013997,
          2.212077,
          2.2820607,
          2.1574827,
          2.1756645,
          2.1583462,
          2.1782537,
          2.1615808,
          2.1783567,
          2.1733389,
          1.8356881,
          1.8054253,
          2.1750622,
          2.0846618,
          2.0836144,
          2.0851724,
          2.1395258,
          2.2064241,
          2.2053724,
          2.2020355,
          1.8144376,
          2.1787023,
          2.2168977,
          2.2184941,
          1.710983,
          1.7163751,
          1.6946451,
          1.717922,
          1.7185623,
          1.7201068,
          1.7270782,
          1.7146059,
          1.7145629,
          1.7279807,
          1.7370116,
          1.7297363,
          1.7219806,
          1.7221715,
          1.7261388,
          1.7196754,
          1.7231747,
          1.7274464,
          2.2650703,
          2.1951019,
          2.2047682,
          1.711999,
          2.1717029,
          2.1493475,
          2.1685458,
          2.167712,
          1.8494439,
          2.189368,
          2.19411,
          1.8799691,
          2.1397696,
          2.6640308,
          1.8800607,
          2.6625199,
          1.8804634,
          2.1882383,
          2.2048464,
          1.812362,
          2.3545102,
          2.1288498,
          1.9870764,
          2.6546867,
          2.1156672,
          2.1143442,
          2.1149871,
          2.6514246,
          2.1321842,
          2.0438559,
          2.0888721,
          2.149578,
          2.1497832,
          2.0143624,
          2.1565983,
          2.171973,
          2.1697112,
          2.1727047,
          2.1893739,
          1.8319787,
          2.1995985,
          2.20759,
          2.1760335,
          2.1786843,
          1.8162547,
          2.1595079,
          1.8247785,
          1.7799999,
          2.1591965,
          2.1603257,
          1.7840551,
          2.5770921,
          2.5781701,
          1.8779808,
          1.879129,
          1.8748481,
          1.8740683,
          1.8746188,
          2.2042005,
          2.2032339,
          2.1514629,
          1.7167342,
          1.8418421,
          2.2409572,
          2.1456962,
          2.1440809,
          2.1394355,
          2.134423,
          2.1366124,
          2.136945,
          2.0401868,
          2.1814403,
          2.1775861,
          2.1730545,
          1.7236811,
          1.7238881,
          2.1727397,
          1.8051784,
          2.2538568,
          1.8435243,
          1.8763869,
          2.0171212,
          2.1645498,
          2.1649387,
          1.8374902,
          2.1345331,
          2.1803846,
          1.6781517,
          2.1570762,
          2.1595395,
          1.8797623,
          1.8777158,
          1.8790745,
          1.8789078,
          2.1345886,
          2.1328276,
          2.1327715,
          2.1816248,
          1.7457217,
          1.7459066,
          1.6502685,
          1.6470425,
          1.6864929,
          2.0774813,
          2.174804,
          1.8207381,
          2.1250024,
          2.1515293,
          2.1477257,
          2.0343661,
          2.0319038,
          2.1459374,
          2.1004381,
          2.129897,
          2.0514408,
          2.1457466,
          2.1751092,
          2.1762919,
          2.1781812,
          2.1726469,
          2.1801945,
          2.1723503,
          2.1774289,
          2.1792425,
          2.1803372,
          2.1643581,
          2.1638533,
          2.0854306,
          2.1757104,
          2.1678246,
          2.1660697,
          2.179799,
          2.1833542,
          2.1808941,
          2.182071,
          2.1824536,
          2.1816505,
          2.1758518,
          2.1647038,
          2.1334388,
          2.0769209,
          2.1450139,
          2.1604875,
          2.1577723,
          2.0465146,
          2.178299,
          2.1787247,
          2.1716917,
          2.1809917,
          2.1762484,
          2.1542336,
          2.1758128,
          2.181018,
          2.1796214,
          2.1849324,
          2.1579126,
          2.167552,
          2.1763615,
          2.1608947,
          2.181729,
          2.1341504,
          2.1812852,
          2.1826106,
          2.163053,
          2.1811358,
          2.1798302,
          2.1552868,
          2.120243,
          2.1693434,
          2.1873574,
          2.3605786,
          2.0285261,
          2.6644445,
          2.6549259,
          2.3956143,
          2.1789367,
          2.0330839,
          2.0243182,
          1.5412697,
          2.1626807,
          2.1394637,
          2.0770669,
          2.0771731,
          2.1162405,
          2.0011256,
          2.0020728,
          2.0027879,
          2.1582721,
          2.1084884,
          2.1566228,
          2.1593935,
          2.1597931,
          2.1607454,
          2.1569017,
          2.1614668,
          2.1622125,
          2.1552977,
          2.1550689,
          2.1625469,
          2.1640436,
          2.1660365,
          2.1668237,
          2.1497474,
          2.1496938,
          2.1758001,
          2.1676327,
          2.1718323,
          2.1564097,
          2.1386801,
          2.0433512,
          1.8166894,
          2.220774,
          2.2234302,
          2.099209,
          1.6929268,
          1.6904556,
          1.610745,
          1.6890074,
          1.6125259,
          2.1778488,
          1.7007985,
          1.8223663,
          2.1896734,
          2.2182866,
          2.1826223,
          1.7332305,
          2.147285,
          2.1830247,
          2.2224299,
          2.2227668,
          2.2197876,
          2.156262,
          2.1554251,
          2.138054,
          2.157354,
          1.8201186,
          2.1746451,
          2.2174714,
          2.1565427,
          2.1566018,
          2.1561415,
          2.1538051,
          2.1546547,
          2.1590318,
          2.2433574,
          2.179306,
          2.5446551,
          2.1954832,
          2.1386127,
          2.1417509,
          2.104669,
          2.0799838,
          1.8544164,
          2.1832843,
          1.827716,
          2.1703133,
          2.1547128,
          2.1590091,
          2.1585072,
          2.0788746,
          2.0794868,
          2.1619196,
          2.1606277,
          2.1615829,
          2.1872308,
          2.1669146,
          2.1671724,
          2.1670462,
          2.1619606,
          2.1536654,
          2.1541322,
          2.1772515,
          2.1334164,
          2.1334124,
          2.1619522,
          2.162532,
          2.1617542,
          2.1531892,
          2.206202,
          2.1669688,
          1.683515,
          2.1707056,
          2.1689067,
          2.1704516,
          2.1633829,
          2.0288951,
          1.8244315,
          2.1208597,
          2.1779109,
          2.1581494,
          2.1574279,
          2.1412757,
          2.160252,
          2.1828163,
          2.1037066,
          2.1922891,
          2.1924286,
          2.1936275,
          2.1925064,
          2.1866616,
          2.1555229,
          2.225223,
          2.2247563,
          2.0802423,
          2.223087,
          2.2246091,
          2.1185339,
          2.2860024,
          2.1156663,
          2.1565212,
          2.1437201,
          2.2810959,
          2.0906079,
          2.0890925,
          2.0901667,
          2.0903276,
          2.1164825,
          2.1150931,
          2.1149161,
          1.9831368,
          2.3251303,
          2.1681771,
          2.1215645,
          1.8228265,
          2.2207991,
          2.2212244,
          2.1719214,
          2.1275651,
          2.2053782,
          2.0250057,
          2.1611972,
          2.1573197,
          2.1638895,
          2.218651,
          2.2160241,
          2.2161943,
          2.2021061,
          2.6735016,
          1.7072912,
          2.1497014,
          2.1478373,
          2.1451149,
          2.1446911,
          2.1835373,
          2.1806419,
          2.387859,
          2.1538433,
          2.5270758,
          2.1594335,
          2.2035587,
          2.2684369,
          2.2679493,
          2.249825,
          2.1941948,
          2.1624891,
          2.1557304,
          1.8395961,
          2.1280813,
          2.1281993,
          2.1280598,
          2.1263218,
          2.1259302,
          1.8294296,
          2.1600233,
          2.1596096,
          2.1587971,
          2.1598361,
          2.1568602,
          2.1607922,
          2.1731905,
          2.036116,
          2.0994723,
          2.1017476,
          2.1012664,
          2.1134965,
          2.6525575,
          2.1622764,
          2.136098,
          2.0821353,
          2.2438964,
          2.249715,
          2.086604,
          2.0840076,
          2.0845628,
          2.1578796,
          2.7172473,
          1.9957993,
          2.1852997,
          1.6947831,
          2.1244186,
          2.0794263,
          2.1312836,
          2.2955585,
          2.2136424,
          2.2143344,
          2.0087554,
          2.6897598,
          2.6886674,
          2.6930547,
          2.7299314,
          2.7327263,
          2.7343666,
          2.7359598,
          2.7250819,
          2.7231286,
          2.7200387,
          2.718998,
          2.6734289,
          2.2637596,
          2.1845122,
          2.167157,
          2.1388466,
          2.1194351,
          2.118955,
          2.1181557,
          2.1109465,
          2.181314,
          2.2364727,
          2.2371818,
          2.1911368,
          2.1910858,
          2.1900149,
          2.1634596,
          2.1577863,
          2.1535672,
          2.1567152,
          2.1587671,
          2.1665428,
          2.0307884,
          2.0310377,
          2.1796633,
          2.2899552,
          2.0259697,
          2.1016665,
          2.1128405,
          2.1975642,
          2.0826031,
          2.2008238,
          2.1451672,
          2.1689099,
          2.156826,
          2.1188843,
          2.099618,
          2.1834034,
          2.1667924,
          2.1373687,
          2.2416983,
          2.1811689,
          2.1521447,
          2.152249,
          2.1467165,
          2.1501894,
          2.1490156,
          2.1579129,
          2.1682174,
          2.0488208,
          2.089786,
          2.0900662,
          2.0809241,
          2.1535665,
          2.1558176,
          2.1220556,
          2.1206843,
          2.1468551,
          1.9794107,
          2.0429367,
          2.1614601,
          2.188263,
          2.1520791,
          2.0110188,
          2.1331163,
          2.1907122,
          2.2194732,
          2.168672,
          2.1564315,
          2.184051,
          2.2545694,
          2.254269,
          1.8793931,
          2.1866095,
          2.1475312,
          1.841541,
          2.0884598,
          2.1570793,
          2.3987608,
          2.1770146,
          2.1371478,
          2.1692626,
          2.0694616,
          2.0695635,
          2.0695555,
          2.0831007,
          2.1518598,
          2.0418016,
          2.1444183,
          2.1485653,
          2.1801389,
          2.0862733,
          2.1902444,
          2.0429538,
          2.1316434,
          2.1886676,
          2.1718528,
          2.2532699,
          2.4473076,
          2.1847265,
          2.1761006,
          2.1579552,
          2.1565817,
          2.1508179,
          2.1331772,
          2.1321858,
          2.1373907,
          2.1807707,
          2.2530851,
          2.2526559,
          2.2530857,
          2.2514597,
          2.0926299,
          2.1171394,
          2.1366856,
          2.1408533,
          2.1420834,
          2.2046354,
          2.0741519,
          2.1589426,
          2.1392235,
          2.1329378,
          2.1342485,
          2.1443387,
          2.1364732,
          2.1369131,
          2.1380088,
          2.1662752,
          2.1668699,
          2.1378184,
          2.1321661,
          2.1679248,
          2.128233,
          2.1304963,
          2.1764571,
          1.8644796,
          2.1410516,
          2.3668013,
          2.2954156,
          2.173886,
          2.1772448,
          2.1720957,
          2.1642997,
          2.1588705,
          2.2866759,
          2.1282776,
          2.1373513,
          2.2863688,
          2.1371038,
          2.1550737,
          2.1558918,
          2.1372686,
          2.1522126,
          2.1621684,
          2.1687027,
          2.1306853,
          2.1297451,
          2.1396644,
          2.1882499,
          2.1894534,
          2.1328741,
          2.1412521,
          2.32117,
          2.1304813,
          2.3230748,
          2.1622315,
          2.1632456,
          2.3185687,
          -46.5524619,
          2.1599998,
          2.0910457,
          2.1627169,
          2.1478384,
          2.1418123,
          2.1305144,
          2.1475164,
          2.2860766,
          2.1099584,
          2.2041516,
          2.1968513,
          2.1548978,
          2.1887696,
          2.1434142,
          2.1625949,
          1.9154149,
          2.1296592,
          2.1412379,
          2.1337906,
          2.4931707,
          2.1531549,
          2.0222776,
          1.9173925,
          2.1240033,
          2.183255,
          2.3047346,
          2.1502091,
          2.6543206,
          1.7263172,
          2.1370552,
          2.2648683,
          2.2661652,
          2.4026765,
          1.9516171,
          1.950622,
          1.9539117,
          1.9539144,
          1.9708465,
          1.9286581,
          2.1735586,
          2.1195563,
          2.1793456,
          2.1791948,
          2.1806835,
          2.1791957,
          2.1793675,
          2.1782736,
          2.1751185,
          2.1774305,
          2.1757782,
          2.1733565,
          2.1693991,
          2.1682575,
          2.1475523,
          2.1066786,
          2.1704059,
          2.162099,
          2.1660379,
          2.1781751,
          2.162835,
          2.1812124,
          2.1844447,
          2.1848523,
          2.098251,
          2.1838243,
          2.2913509,
          2.1860673,
          2.1856318,
          1.8236425,
          2.1763238,
          2.172812,
          2.1717201,
          2.1799406,
          2.168717,
          2.1047432,
          1.8151496,
          2.1760612,
          2.1693312,
          2.1603296,
          2.1637973,
          2.1839471,
          2.1557605,
          1.8626521,
          2.2019551,
          2.4474095,
          1.848878,
          1.8479581,
          2.1467451,
          2.1447227,
          2.1444169,
          2.2171154,
          2.217644,
          2.1777099,
          1.8625214,
          2.160212,
          2.2042257,
          2.2061723,
          2.2064485,
          2.2168175,
          2.1715044,
          2.1624169,
          2.1566642,
          2.2590931,
          2.2193649,
          2.1304735,
          2.1257888,
          1.5925808,
          2.1362596,
          2.1644902,
          2.1724199,
          2.1597404,
          1.8235004,
          2.1977119,
          2.0820138,
          2.0855945,
          2.0888078,
          2.0402721,
          1.8209849,
          1.8246511,
          1.8169981,
          2.1808512,
          2.156446,
          2.1566778,
          2.2906059,
          2.16701,
          1.9420627,
          2.17852,
          2.1875262,
          2.1603613,
          2.1615558,
          2.2289586,
          2.1200073,
          2.1014719,
          2.1624567,
          2.0241258,
          2.0310261,
          2.125955,
          2.1447946,
          2.1275082,
          2.1382497,
          2.1816499,
          2.1768647,
          2.1602948,
          1.8062391,
          2.1409392,
          2.146508,
          2.1103012,
          2.2107559,
          2.2119829,
          2.2025274,
          2.2057702,
          2.2132824,
          2.2193295,
          2.2171931,
          2.2063711,
          2.2047614,
          2.2179885,
          2.2057552,
          2.2099386,
          2.2186968,
          2.2145464,
          2.212107,
          2.2076464,
          2.2048318,
          2.2032617,
          2.2085396,
          2.2047637,
          2.2018133,
          2.2032356,
          2.2055436,
          2.2053857,
          2.2084216,
          2.2126213,
          2.2197191,
          2.209991,
          2.2192162,
          2.2131148,
          2.1205502,
          2.1022997,
          2.1010246,
          2.0995573,
          2.098394,
          2.0980797,
          2.1070844,
          2.1001654,
          2.0985251,
          2.0986,
          2.0952309,
          2.1886651,
          2.1827653,
          2.1748632,
          2.1812647,
          2.1816488,
          2.1727325,
          2.1883954,
          1.9757713,
          2.1587506,
          1.8375037,
          2.1795095,
          2.2836781,
          1.7707818,
          1.9693395,
          1.9741889,
          1.9693395,
          1.9718793,
          1.9741889,
          1.973805,
          1.9690951,
          1.9689529,
          2.4459769,
          2.4898965,
          2.1333089,
          2.1319336,
          2.1296304,
          2.1301192,
          2.1294406,
          1.6294358,
          2.1339427,
          2.1290217,
          2.1290555,
          2.131048,
          2.1241412,
          2.1359911,
          2.1256781,
          2.121989,
          2.126352,
          2.0212564,
          2.2538281,
          2.0293608,
          2.2812414,
          2.2810499,
          2.2847475,
          2.2805845,
          2.1526361,
          2.1571905,
          2.272997,
          2.1761255,
          2.1736146,
          2.2169427,
          2.1495775,
          2.1462409,
          2.142695,
          2.1446154
         ],
         "marker": {
          "color": "#636efa"
         },
         "mode": "markers+text",
         "name": "",
         "showlegend": false,
         "subplot": "mapbox",
         "text": [
          "Eroski",
          "Alcampo",
          "Petit Preu",
          "Caprabo",
          "Super Pedret",
          "Carrefour Market",
          "Carrefour",
          "Caprabo",
          "Lidl",
          "Caprabo",
          "Bonpreu",
          "Mercadona",
          "Open Cor",
          "Condis",
          "NO NAME",
          "Condis",
          "Carrefour",
          "Caprabo",
          "Alimentacio",
          "Condis",
          "Caprabo",
          "Dia",
          "Schleker",
          "Consum",
          "Caprabo",
          "Condis",
          "Consum",
          "Mercadona",
          "Mercat Ambulant Pla d' en Boet",
          "Mercat privat de Cerdanyola",
          "Mercat privat el Pilar",
          "Mercat Ambulant de Cirera Molins",
          "Ambulant de l' Escorxador",
          "Tapias",
          "Caprabo",
          "NO NAME",
          "Condis",
          "Mercadona",
          "Mercadona",
          "Carrefour",
          "Consum",
          "Dia",
          "Lidl",
          "Condis",
          "Vilagut",
          "Dia",
          "Alcampo",
          "Condis",
          "Sorli Discau",
          "Caprabo",
          "Caprabo",
          "Lidl",
          "Bonpreu",
          "Supercor",
          "Condis",
          "Condis",
          "NO NAME",
          "Suma",
          "Condis",
          "Mercadona",
          "Caprabo",
          "Consum",
          "NO NAME",
          "Caprabo",
          "Mercadona",
          "Condis",
          "Jespac",
          "Condis",
          "NO NAME",
          "Caprabo",
          "Can Serrat",
          "Condis",
          "Condis",
          "Caprabo",
          "Congelats la Sirena",
          "Condis",
          "Caprabo",
          "Dia",
          "Segura",
          "Mercadona",
          "Covirán",
          "Sorli",
          "Mercadona",
          "Paki Pintor Fortuny",
          "Carrefour Market",
          "Caprabo",
          "Bon Area",
          "Mercadona",
          "Can Bassa",
          "Caprabo",
          "Lidl",
          "Aldi",
          "Bonpreu",
          "Congelats la Sirena",
          "Bonpreu",
          "Shlecker",
          "Dia",
          "Consum",
          "Caprabo",
          "Dia",
          "Dia",
          "Supermercat Coaliment",
          "Bon Area",
          "Aldi",
          "Bonpreu",
          "Spar",
          "Dia",
          "Jespac",
          "Mercadona",
          "Dia",
          "Spar",
          "Mercadona",
          "Condis",
          "Consum",
          "Barnasud",
          "Condis",
          "Mercadona",
          "Consum",
          "Consum",
          "Consum",
          "Condis",
          "Caprabo",
          "Lidl",
          "Lidl",
          "Mercadona",
          "Condis",
          "Herbodietètica delasmaravilla",
          "Dia",
          "El Refugi de la Vall",
          "Condis",
          "Bonpreu",
          "Consum",
          "Woki Market",
          "OpenCor",
          "Spar",
          "Jespac Supermercats",
          "OpenCor",
          "Mercadona",
          "Condis",
          "Congelats La Sirena",
          "Carrefour",
          "Sorli Discau",
          "Mercadona",
          "mini MIX",
          "supermercat cabrils",
          "Bon Area",
          "Bon Area",
          "Caprabo",
          "Congelats La Sirena",
          "Dia",
          "Condis",
          "Sorli Discau",
          "Casa Evaristo",
          "Mercadona",
          "Condis",
          "Caprabo",
          "NO NAME",
          "Super Casanova",
          "Condis",
          "Mercadona",
          "Mercadona",
          "Dia",
          "Spar",
          "Suma",
          "Condis",
          "Caprabo",
          "Condis",
          "Condis",
          "Condis",
          "NO NAME",
          "proxim",
          "Mercat Villalba",
          "Condis",
          "Bonpreu",
          "Caprabo",
          "Tantinyà",
          "Mercadona",
          "Bonpreu",
          "Supermercat Llobet",
          "Spar",
          "Dia",
          "Sorli Discau",
          "Suma",
          "NO NAME",
          "Condis",
          "Dia",
          "Consum",
          "Condis",
          "Consum",
          "Condis",
          "Mercadona",
          "Caprabo",
          "Carrefour Market",
          "Caprabo",
          "Condis",
          "Caprabo",
          "Condis",
          "Dia",
          "Bon Area",
          "Caprabo",
          "Mercadona",
          "Mercadona",
          "Caprabo",
          "Mercadona",
          "Dia Market",
          "Cooperativa de Consum l'Estrella",
          "Condis",
          "NO NAME",
          "Condis",
          "Caprabo",
          "Condis",
          "NO NAME",
          "Dia",
          "Dia",
          "Dia",
          "Dia",
          "Dia",
          "Dia",
          "Opencor",
          "Supermercats J. Rigual",
          "Condis",
          "Distop",
          "Maximer",
          "Talló",
          "Talló",
          "Talló",
          "Bonpreu",
          "Caprabo",
          "Mercadona",
          "Caprabo",
          "Dia",
          "Supermercats JR",
          "Consum",
          "Spar",
          "Condis",
          "Dia",
          "Caprabo",
          "Coaliment",
          "Lidl",
          "Bonpreu",
          "NO NAME",
          "Bonpreu",
          "Dia",
          "Condis",
          "Bon Area",
          "Condis",
          "Dia",
          "Condis",
          "Dia",
          "Bon Area",
          "Mercadona",
          "Condis",
          "Superestalvi",
          "Caprabo",
          "Caprabo",
          "Dia",
          "Caprabo",
          "Jespac",
          "Casa Florentina",
          "Mercavila",
          "Bon Area",
          "NO NAME",
          "Supermercat",
          "Mercadona",
          "Consum",
          "Lidl",
          "NO NAME",
          "NO NAME",
          "Mercadona",
          "Spar",
          "Consum",
          "Sorli Discau",
          "Caprabo",
          "Consum",
          "Mercadona",
          "Condis",
          "Dia",
          "Super Mercat",
          "Mercadona",
          "Condis",
          "Condis",
          "Mercadona",
          "Esclat",
          "Consum",
          "Mercadona",
          "Consum",
          "Caprabo",
          "Condis",
          "Dia",
          "Badul-a-que",
          "Millor Preu",
          "Condis",
          "Supermercat Navarro",
          "Mercadona",
          "Condis",
          "Keisy",
          "Carrefour",
          "Dia",
          "Caprabo",
          "Suma",
          "Mercadona",
          "Hipercor",
          "Sorli",
          "CC Anec Blau",
          "Spar",
          "Condis",
          "Condis",
          "Sorli Discau",
          "Mercadona",
          "Suma",
          "Mercadona",
          "Aldi",
          "Dia",
          "Condis",
          "Jespac Supermercats",
          "Bonpreu",
          "Mercadona",
          "Pozo",
          "Condis",
          "Dia",
          "Caprabo",
          "Condis",
          "Condis",
          "Bio Space",
          "Super Vallcarca",
          "Supermercat Sant Marc",
          "Supercor",
          "Condis",
          "Open Super",
          "Hipermercat Esclat",
          "Bon Area",
          "Caprabo",
          "Coaliment",
          "Supermercats JR",
          "NO NAME",
          "Mercadona",
          "Max Supermercat",
          "Superservis",
          "Kings 24h",
          "Dia",
          "Caprabo",
          "Dia",
          "B.H.G Supermercat del Món",
          "Consum",
          "Suma",
          "MercaNautic",
          "Caprabo",
          "Suma",
          "Bonpreu",
          "Suma",
          "Argenteria",
          "Coaliment",
          "Supermercat Picasso",
          "NO NAME",
          "Lidl",
          "Caprabo",
          "Expobrill",
          "Eurocity",
          "Lidl",
          "keisy",
          "Mercadona",
          "Suma",
          "Bon Area",
          "Condis",
          "Lidl",
          "Lidl",
          "Mercadona",
          "Mercadona",
          "Catalunya Supermercat",
          "Condis",
          "Condis",
          "Bon Area",
          "Dia",
          "Dia",
          "Consum",
          "Super Moyer",
          "Supermercat SuperDragó",
          "Sorli Discau",
          "Condis",
          "Soni",
          "Caprabo",
          "Alimentación Egea",
          "Bon Area",
          "Condis",
          "Bonpreu",
          "Bonpreu",
          "Mercadona",
          "Caprabo",
          "Bon Area",
          "Supermercats Sorli Discau",
          "Bon Area",
          "Dia",
          "Alimentació La Torra",
          "Consum",
          "Condis",
          "Caprabo",
          "Bonpreu",
          "Bon Area",
          "Mercadona",
          "Condis",
          "Aldi",
          "Condis",
          "Mercadona",
          "Dia",
          "Condis",
          "Condis",
          "Sorli Discau",
          "Sorli Discau",
          "Carrefour Market",
          "rico",
          "Suma",
          "Caprabo",
          "Dia Market",
          "Suma",
          "Fruites I Verdures",
          "Condis",
          "Marcel Herrero Fruteria",
          "La Sirena (Congelados)",
          "Sorli Discau",
          "Consum",
          "Caprabo",
          "Caprabo",
          "Caprabo",
          "Consum",
          "Consum",
          "Can Torreta",
          "Can Torreta",
          "Dia",
          "Bon Area",
          "Dia",
          "Mercadona",
          "Dia",
          "Condis",
          "Sorli Discau",
          "Mercadona",
          "Dia",
          "Suma",
          "Dia Market",
          "Consum",
          "Mercadona",
          "Caprabo",
          "Dia",
          "Supermercat Llobet",
          "Supermercat Schlecker",
          "Spar",
          "Jaime Renobell",
          "Covirán",
          "Mercadona",
          "Sorli discau",
          "Organic vegetables",
          "Dia",
          "Lidl",
          "Condis",
          "Mercadona",
          "A One Mercat",
          "Bon Area",
          "Consum",
          "Condis",
          "mini market",
          "Premmia Mercat",
          "Veritas",
          "NO NAME",
          "NO NAME",
          "Mercadona",
          "Alcampo",
          "Esclat Vic2",
          "Lidl",
          "NO NAME",
          "Mercadona",
          "Caprabo",
          "Condis",
          "Mercadona",
          "Condis",
          "Condis",
          "Super Fresc Supermercat",
          "Dia",
          "Condis",
          "Komesano",
          "Caprabo",
          "Condis",
          "Spar",
          "Caprabo",
          "Condis",
          "Caprabo",
          "Mercadona",
          "Mercadona",
          "Mercadona",
          "Spar",
          "Condis",
          "Pescaderia",
          "Dia",
          "Dia",
          "Condis",
          "Supermercats Legou",
          "Tot Bio Productes Ecologics",
          "Condis",
          "Casa Fígols",
          "Condis",
          "Condis",
          "Bon Area",
          "NO NAME",
          "Condis",
          "Dia",
          "Dia",
          "Casa Ametller",
          "Caprabo",
          "Dia",
          "Dia",
          "Summa",
          "NO NAME",
          "NO NAME",
          "Condis",
          "Condis",
          "Bon Area",
          "Dia",
          "Aldi",
          "Mallorca",
          "Aldi",
          "Dia",
          "Cooperativa Plana de Vic",
          "Mercadona",
          "Mercadona",
          "Mercadona",
          "Condis",
          "Mercadona",
          "Bonpreu",
          "Esclat",
          "Mercadona",
          "Charter",
          "Caprabo",
          "Mercadona",
          "Mercadona",
          "Condis",
          "Dia",
          "Condis",
          "Keisy",
          "Molsa",
          "Mercadona",
          "Supermercado Bailen",
          "Co Aliment",
          "Caprabo",
          "Superprecio",
          "Supermercat Murcarols",
          "Veritas",
          "Condis",
          "Condis",
          "NO NAME",
          "Caprabo",
          "EcoCentre",
          "Aldi",
          "Condis",
          "Mercadona",
          "Nana La Garriga",
          "Depaso",
          "Mercadona",
          "Veritas",
          "Veritas",
          "Condis",
          "Caprabo",
          "Condis",
          "Consum",
          "Bon Area",
          "Lidl",
          "Mercadona",
          "Lidl",
          "Dia",
          "Lidl",
          "Sorli Discau",
          "Sorli Discau",
          "Caprabo",
          "Condis",
          "Condis",
          "Dia",
          "Bon Area",
          "Condis",
          "Mercadona",
          "Cerca plus",
          "Bonpreu",
          "Mercadona",
          "Condis",
          "Bonpreu",
          "Caprabo",
          "Dia Market",
          "La Botiga del Barri",
          "Gros Mercat Cash & Carry",
          "Condis",
          "Caprabo",
          "La botigueta de Ribes Roges",
          "Casa Gil",
          "Supermercats Jr (2)",
          "El petit rebost",
          "Supermercats Jr",
          "Bon Area",
          "Caprabo",
          "Bon Area",
          "Bon Supermercat",
          "Krakoviak",
          "Veritas",
          "Veritas",
          "Woki Organic Market Plaça Catalunya",
          "Xino",
          "Bon Area",
          "Condis",
          "Llobet",
          "Hiper Galicia",
          "Bonpreu",
          "Solergibert",
          "Dia",
          "Bon Area",
          "NO NAME",
          "Dia",
          "Bon Area",
          "Condis",
          "Caprabo",
          "Mercadona",
          "Spar",
          "Badulake Reig",
          "Dia",
          "Almar",
          "Caprabo",
          "Consum",
          "Dia",
          "Condis",
          "Bon Area",
          "Dia",
          "Dia",
          "opencor",
          "Condis",
          "keisy",
          "EL superLatink",
          "NO NAME",
          "Dia",
          "NO NAME",
          "Suma",
          "Sorli Discau",
          "Scorli Discau",
          "Bonpreu",
          "NO NAME",
          "Charter",
          "Cal Carlets",
          "NO NAME",
          "NO NAME",
          "Llobet",
          "Bonpreu",
          "Spar",
          "Consum",
          "NO NAME",
          "Supermercats Llobet",
          "Petit Preu",
          "Condis",
          "Sorli discau",
          "Condis",
          "Caprabo",
          "SB Supermercat",
          "Carn i Bestiar Prat \"Cal Caleio\"",
          "Condis",
          "Caprabo",
          "Condis",
          "Bon Area",
          "NO NAME",
          "Caprabo",
          "Jespac",
          "Lidl",
          "Simply Market",
          "Dia",
          "NO NAME",
          "Pasta italiana Fresquitto",
          "Supermercats Jr",
          "Dia",
          "Llobet",
          "Dia",
          "Esclat - Manresa",
          "Queviures Victoria",
          "Mercadona",
          "Consum",
          "Caprabo",
          "Mengem Bages",
          "Mercadona",
          "Mercadona",
          "Suma",
          "Condis",
          "Condis",
          "Herbolari.",
          "Dia",
          "Supermercat Llobet.",
          "Pintures Domènec. Drogueria.",
          "Veritas",
          "Caprabo",
          "Bon Area",
          "Mercadona",
          "Mercat Municipal La Sinia",
          "Mercadona",
          "Congelados La Sirena",
          "Lidl",
          "Condis",
          "GRA NOA",
          "NO NAME",
          "Bon dia",
          "Veritas",
          "Veritas",
          "Caprabo",
          "Mercadona",
          "Bon Area",
          "Aldi",
          "NO NAME",
          "Carrefour",
          "Alcampo",
          "Food Lion",
          "Honesto",
          "Keisy",
          "Disfruta",
          "Super Verd",
          "Natura Fruts",
          "Holliday",
          "Bon Area",
          "Fresh",
          "Maragall 99",
          "Jespac",
          "NO NAME",
          "Dia",
          "Bon Supermercat",
          "Frutería Primavera",
          "Cermo",
          "Comtal",
          "Condis",
          "Suma",
          "Consum",
          "Mercadona",
          "Bon Area",
          "NO NAME",
          "Veritas",
          "Veritas",
          "Mercadona",
          "Bon Area",
          "Suma",
          "Lidl",
          "Condis",
          "Condis",
          "Dia",
          "Maa Supermercat",
          "Caprabo",
          "Bonpreu",
          "Mercadona",
          "Charter",
          "CoAliment",
          "Supermercat Yangkuang",
          "Condis",
          "Condis",
          "CoAliment",
          "Bonpreu",
          "Punto Fresco",
          "El Graner",
          "Consum",
          "Bon Area",
          "Bonpreu",
          "Cosmo Cash & Carry",
          "Mercat",
          "Mercadona",
          "Organic Market",
          "El call",
          "NO NAME",
          "Condis",
          "Sorli Discau",
          "Consum",
          "Spar",
          "Spar",
          "NO NAME",
          "Carrefour Market",
          "supermercat forn de pa",
          "Carrefour",
          "Bon Area",
          "lo vencill",
          "Condis",
          "Mercat municipal",
          "Condis",
          "Dia",
          "Los Mellizos",
          "Caprabo",
          "Bon Area",
          "The Livingfood",
          "Mercadona",
          "Próxim Ripollet",
          "Supermercats Juma",
          "Covirán",
          "Bon Area",
          "Bon Area",
          "Tutti Frutti",
          "Comestibles Ropero (CoAliment)",
          "Alimentació Pica d'Estats",
          "Condis",
          "Bonpreu",
          "Dia Market",
          "Carnicería Ripollet",
          "Condis",
          "Charter",
          "Bosal Alimentació",
          "Caprabo",
          "Consum",
          "NO NAME",
          "Jardi Fresco. Fruites i verdures",
          "Eroski",
          "Consum",
          "Consum",
          "Suma",
          "Sorli Discau",
          "Mercadona",
          "Mercadona",
          "Maxi Dia",
          "Spar",
          "Simply Market",
          "Covirán",
          "Charter",
          "Mercadona",
          "Caprabo",
          "Bon Area",
          "Bon Area",
          "De tot al Born",
          "Dia",
          "Caprabo",
          "Mercadona",
          "Condis",
          "Caprabo",
          "Lidl",
          "Condis",
          "Bon Area",
          "Bon Area",
          "Suma",
          "Spar",
          "NO NAME",
          "Awami",
          "Le Regioni d'Itàlia",
          "Bon",
          "Manjares",
          "Veritas",
          "Condis",
          "Condis",
          "Bonpreu",
          "Caprabo",
          "Mercadona",
          "London supermercat",
          "Panxa Contenta",
          "El picotí",
          "Crespo",
          "Mercadona",
          "La Grana Ecològica",
          "Dia",
          "Llobet",
          "Sorli Discau",
          "Bonpreu",
          "Veritas",
          "Gràcia",
          "Súper Sant Cugat",
          "Veritas",
          "Pròxim",
          "Qaidre",
          "Alimentació",
          "Consum",
          "Àsia",
          "Dong Fang Extremo Oriente",
          "Coaliment",
          "El Pages d'Or",
          "Grans de la Terra",
          "Al gra",
          "BioBarri",
          "Dia",
          "Coaliment",
          "BCN",
          "DEPASO",
          "Autoservei 24 h",
          "Xavi Street Market",
          "Dia",
          "Veritas",
          "Caprabo",
          "Mercadona",
          "Colmado Can Cuyás",
          "Supermercat S.Z.",
          "Casa Ametller",
          "Supermercat Llobet",
          "la Sirena",
          "Suma",
          "Veritas",
          "Ali Alimentació",
          "Super Afores",
          "2G la granja",
          "Charter",
          "Casa Perris",
          "Cal Blau Sabadell",
          "Dia Market",
          "Caprabo",
          "Bon Area",
          "Mini Mercat",
          "Condis",
          "La Sirena",
          "NO NAME",
          "Supermercat Carnisseria Memhmood",
          "Congelats la Sirena",
          "Dia",
          "Suma",
          "Consum",
          "El Rebost del Pou Calent",
          "Mercadona",
          "NO NAME",
          "Supermercat",
          "Golosinas y helados Eva",
          "Condis",
          "Dia Market",
          "Caprabo",
          "Bon Area",
          "Condis",
          "Rabia Express",
          "Bon Area",
          "Supermercado",
          "Condis",
          "Keisy",
          "express",
          "Caprabo",
          "Supermercats Chaouia",
          "Condis",
          "Lidl",
          "Caprabo",
          "Best Price Supermercat",
          "Dia",
          "Parami",
          "Idoni",
          "Mônmas",
          "Supermercado Jiulong",
          "Condis",
          "Tong Yi",
          "Mercadona",
          "Carrefour Market",
          "NO NAME",
          "Sorli Discau",
          "Alimentació",
          "Covirán",
          "Dia Market",
          "Próxim",
          "Mercadona",
          "Millor preu (Dusa)",
          "Condis",
          "Condis",
          "Yes Future",
          "Bonpreu",
          "Petit Supermercat Tiana",
          "Condis",
          "Mirza",
          "Dia",
          "Tradys",
          "Caprabo",
          "Suma",
          "Covirán",
          "BOOM",
          "NO NAME",
          "Tandy",
          "Condis",
          "Punt Taronja",
          "Supermercat 24h",
          "Veritas",
          "Summa",
          "Aliments i Comestibles del Món",
          "Ca l'Atmetller",
          "Condis",
          "Spar",
          "Mercadona",
          "Dia",
          "Bon Area",
          "Sorli - Discau",
          "Sorli - Discau",
          "Mercadona",
          "Lidl",
          "Dia Market",
          "Consum",
          "Condis",
          "Molsa",
          "Covirán",
          "Bon Area",
          "Condis",
          "Spar",
          "Carrefour",
          "Big Market",
          "Condis",
          "Spar",
          "NO NAME",
          "Condis",
          "Condis",
          "Sorli",
          "Dani",
          "Suma",
          "veritas",
          "Dia Market",
          "Bon Area",
          "deli",
          "Aldi",
          "Supermercat 2002",
          "Gran Pacific",
          "NO NAME",
          "NO NAME",
          "Bonpreu",
          "Dia",
          "Bonpreu",
          "Condis",
          "Dia Market",
          "Condis",
          "Caprabo",
          "Carrefour",
          "Fruiteria i Verdures",
          "Caprabo",
          "Dia Market",
          "Mercat Orient",
          "Mercadona",
          "Suma",
          "Bon Area",
          "Noor Supermercat",
          "Suma",
          "Condis",
          "Euroland",
          "Juma",
          "Condis",
          "Supermercat Ripollet",
          "GOURMET K2",
          "Super Fruits",
          "NO NAME",
          "Condis",
          "NO NAME",
          "Caprabo",
          "Mercadona",
          "Mercat de la Creu Alta",
          "Mercado Municipal",
          "veritas",
          "Mercadona",
          "Sabors del mon",
          "Lidl",
          "Dia",
          "Dia",
          "Bona Compra",
          "Supermercat Sabadell",
          "24h Supermercat con pan",
          "Ametller Origen",
          "Suma",
          "New supermercat 2013",
          "Comercialdos",
          "OBBIO",
          "Casa Artesa",
          "Consum",
          "Con pan",
          "Caprabo",
          "Dia",
          "Covirán",
          "Condis",
          "Fortuna",
          "Pròxim supermercat",
          "Bonprix",
          "Bonpreu",
          "Sorli",
          "Superservis",
          "Supermercat",
          "Caprabo",
          "Sorli Discau",
          "Dia",
          "Consum",
          "Bon Area",
          "Tokyo-Ya",
          "Mercadona",
          "Ametller Origen",
          "Bonpreu",
          "Bon Area",
          "NO NAME",
          "Graneria sala",
          "Aldi",
          "Mercadona",
          "Dia",
          "Petit Preu",
          "Cal Fruitós",
          "Sorli Discau",
          "Cada Día",
          "Bon Area",
          "Caprabo",
          "Bon Area",
          "Mercadona",
          "Dia Market",
          "Jolly Supermarket",
          "Super Cor",
          "Ametller Origen",
          "Ametller Origen",
          "Dia Market",
          "Condis",
          "Mercadona",
          "Taste of America",
          "Superservis",
          "Dia",
          "Supermercado",
          "Sorli Discau",
          "Dusa",
          "Dia Market",
          "Lidl",
          "Mercadona",
          "Supermercat",
          "NO NAME",
          "Condis",
          "Bonpreu",
          "Suma",
          "Condis",
          "Suma",
          "Sorli",
          "Condis",
          "Aldi",
          "NO NAME",
          "Casa Ametller",
          "Euro Supermarket",
          "Casa Espina",
          "Bonpreu",
          "Supermercat Canyameres",
          "Supermercado Carme",
          "Bon Area",
          "Bon Area",
          "Condis",
          "NO NAME",
          "Condis Express",
          "Amarelo",
          "NO NAME",
          "Suma",
          "Dia Market",
          "Mercadona",
          "Sorli Discau",
          "Bonpreu",
          "Condis",
          "NO NAME",
          "Spar",
          "Dia",
          "Lidl",
          "Condis",
          "Condis",
          "Clarel",
          "NO NAME",
          "Bon Area",
          "Sorli Discau",
          "Aldi",
          "Ametller Origen",
          "EuroCity",
          "Maa Supermercat",
          "Coaliment",
          "Pim Pam",
          "Coaliment",
          "Bon Area",
          "Carrefour Market",
          "Cindus Expres",
          "Condis",
          "Caprabo",
          "Dia",
          "NO NAME",
          "Lidl",
          "Sorli Discau",
          "Bruniquer",
          "NO NAME",
          "Condis",
          "Condis",
          "Mercadona",
          "Super",
          "Premmia Mercat",
          "Condis",
          "Lidl",
          "Condis",
          "Consum",
          "Suma",
          "Formatgeria 12 graus",
          "Superestalvi",
          "Bonpreu",
          "Mercadinho Satélite",
          "Caprabo",
          "Dia Market",
          "Condis",
          "Suma",
          "Plusfresc",
          "Bon Area",
          "Caprabo",
          "Bonpreu",
          "Condis",
          "Sorli discau",
          "Proxim",
          "Condis",
          "Caprabo",
          "Condis",
          "Bon Area",
          "Lidl",
          "Condis",
          "Bonpreu",
          "Molsa Bio Sants",
          "Bon Area",
          "Caprabo",
          "Suma",
          "Supermercat Llobet",
          "Condis",
          "Caprabo",
          "Aldi",
          "Rapid",
          "Spar",
          "Supermercats Jr",
          "Bonpreu",
          "Caprabo",
          "Condis",
          "Bonpreu",
          "Condis",
          "Dia",
          "Bon Area",
          "Supermercats Llobet",
          "Condis",
          "Suma",
          "Es",
          "NO NAME",
          "Samya",
          "New lucky",
          "Lucky's",
          "El rincón de la abuela venezolana",
          "sorli discau",
          "Consum",
          "Supermercat",
          "Supermercat",
          "Condis",
          "Supermercat",
          "Supermercat",
          "Supercor",
          "Sorli Discau",
          "Mercadona",
          "Mercadona",
          "Taste of America",
          "Express",
          "Aldi",
          "Express",
          "Condis",
          "Supermercat",
          "Caprabo",
          "Consum",
          "Clic",
          "Bon Area",
          "Autoservicio Súper Loral",
          "Super del Clot",
          "Carcassona",
          "Casa Debasa",
          "Express Supermarket",
          "Charter",
          "Paprika Gourmet",
          "London",
          "Supermercat Pròxim",
          "Alimentació Línea",
          "Molsa",
          "Condis",
          "Dia",
          "Dia",
          "NO NAME",
          "Caprabo",
          "Àrea de Guisona",
          "Dia",
          "Condis",
          "Supermercat ZC",
          "Autoservei Creus",
          "Supermercats Martin",
          "Condis",
          "Condis",
          "Dia",
          "Dia",
          "El Bròquil del Gòtic",
          "Spar",
          "Sorli",
          "Bon Area",
          "Lidl",
          "La Colomenca",
          "L&B",
          "Proxim",
          "Dia",
          "Bon Area",
          "Lidl",
          "Teodosio",
          "Caprabo",
          "Bon Area",
          "El Forn",
          "Caprabo",
          "Lidl",
          "Bon Area",
          "Coaliment",
          "Carrefour",
          "NO NAME",
          "Mercadona",
          "Sorli Discau",
          "Consum",
          "Dia",
          "Supermercats Charter",
          "Caprabo",
          "Llobet",
          "Bon Area",
          "Bon Area",
          "Dia",
          "Mercadona",
          "Sorli Discau",
          "Mercadona",
          "Alcampo",
          "Bonpreu",
          "Condis",
          "Veritas",
          "Dia",
          "Bonpreu",
          "Bonpreu",
          "Condis",
          "Condis",
          "Condis",
          "Cal Vidal",
          "Bon Area",
          "Veritas",
          "Consum",
          "Alcampo",
          "Dia",
          "Bonpreu",
          "Caprabo",
          "Bon Area",
          "Condis",
          "Mercadona",
          "Charter",
          "Condis",
          "Sorli Discau",
          "Sorli Discau",
          "Bon Area",
          "Bon Area",
          "Bon Area",
          "Bon Area",
          "Bon Area",
          "Covirán",
          "Consum",
          "Charter",
          "Dia",
          "Dia",
          "Dia",
          "Dia",
          "Dia",
          "Dia",
          "Condis",
          "Condis",
          "Condis",
          "Condis",
          "Condis",
          "Condis",
          "Condis",
          "Condis",
          "Condis",
          "Condis",
          "Sorli Discau",
          "Suma",
          "Kachafruit",
          "Charter",
          "plusfresc",
          "Dia",
          "Dia",
          "Condis",
          "Lidl",
          "Autoservei Almar",
          "Suma",
          "Bon Àrea",
          "Mercadona",
          "Mercadona",
          "NO NAME",
          "Sorli",
          "Condis",
          "SorliDiscau",
          "Caprabo",
          "Mercadona",
          "Suma",
          "Condis",
          "Mercat de la Sagrada Família",
          "Lidl",
          "Consum",
          "Supermercat Suma",
          "Proxim",
          "Condis",
          "Proxim",
          "Condis",
          "Condis",
          "Suma",
          "Caprabo",
          "La Sirena",
          "Consum",
          "Suma",
          "Bon Area",
          "Ametller Origen",
          "Molsa Eco Vita",
          "Condis",
          "Eurocity",
          "FITO NATURA",
          "La Sirena",
          "Sorli Discau",
          "Dia",
          "Supermercat Oriental",
          "Clarel",
          "Proxim",
          "Caprabo",
          "Casa Ametller",
          "La Sirena",
          "Condis",
          "Caprabo",
          "Condis",
          "Condis",
          "Peix i Marisc",
          "Mercadona",
          "Tinc Tot",
          "Soni",
          "Grup la Granja",
          "Condis",
          "Bon Vecino super asiatico",
          "Supermarket 24h",
          "Alcampo",
          "NO NAME",
          "Sorli Discau",
          "Condis express",
          "Skinder Super"
         ],
         "type": "scattermapbox"
        }
       ],
       "layout": {
        "legend": {
         "tracegroupgap": 0
        },
        "mapbox": {
         "accesstoken": "pk.eyJ1IjoiZGFvcnRpIiwiYSI6ImNrZnF6M3FlczA3cDEyem16YTNzZmV4M2EifQ.846iF0sMSAXv0kwkwUTYjg",
         "center": {
          "lat": 41.416181846382976,
          "lon": 2.0965995212765947
         },
         "domain": {
          "x": [
           0,
           1
          ],
          "y": [
           0,
           1
          ]
         },
         "zoom": 11
        },
        "margin": {
         "t": 60
        },
        "template": {
         "data": {
          "bar": [
           {
            "error_x": {
             "color": "#2a3f5f"
            },
            "error_y": {
             "color": "#2a3f5f"
            },
            "marker": {
             "line": {
              "color": "#E5ECF6",
              "width": 0.5
             }
            },
            "type": "bar"
           }
          ],
          "barpolar": [
           {
            "marker": {
             "line": {
              "color": "#E5ECF6",
              "width": 0.5
             }
            },
            "type": "barpolar"
           }
          ],
          "carpet": [
           {
            "aaxis": {
             "endlinecolor": "#2a3f5f",
             "gridcolor": "white",
             "linecolor": "white",
             "minorgridcolor": "white",
             "startlinecolor": "#2a3f5f"
            },
            "baxis": {
             "endlinecolor": "#2a3f5f",
             "gridcolor": "white",
             "linecolor": "white",
             "minorgridcolor": "white",
             "startlinecolor": "#2a3f5f"
            },
            "type": "carpet"
           }
          ],
          "choropleth": [
           {
            "colorbar": {
             "outlinewidth": 0,
             "ticks": ""
            },
            "type": "choropleth"
           }
          ],
          "contour": [
           {
            "colorbar": {
             "outlinewidth": 0,
             "ticks": ""
            },
            "colorscale": [
             [
              0,
              "#0d0887"
             ],
             [
              0.1111111111111111,
              "#46039f"
             ],
             [
              0.2222222222222222,
              "#7201a8"
             ],
             [
              0.3333333333333333,
              "#9c179e"
             ],
             [
              0.4444444444444444,
              "#bd3786"
             ],
             [
              0.5555555555555556,
              "#d8576b"
             ],
             [
              0.6666666666666666,
              "#ed7953"
             ],
             [
              0.7777777777777778,
              "#fb9f3a"
             ],
             [
              0.8888888888888888,
              "#fdca26"
             ],
             [
              1,
              "#f0f921"
             ]
            ],
            "type": "contour"
           }
          ],
          "contourcarpet": [
           {
            "colorbar": {
             "outlinewidth": 0,
             "ticks": ""
            },
            "type": "contourcarpet"
           }
          ],
          "heatmap": [
           {
            "colorbar": {
             "outlinewidth": 0,
             "ticks": ""
            },
            "colorscale": [
             [
              0,
              "#0d0887"
             ],
             [
              0.1111111111111111,
              "#46039f"
             ],
             [
              0.2222222222222222,
              "#7201a8"
             ],
             [
              0.3333333333333333,
              "#9c179e"
             ],
             [
              0.4444444444444444,
              "#bd3786"
             ],
             [
              0.5555555555555556,
              "#d8576b"
             ],
             [
              0.6666666666666666,
              "#ed7953"
             ],
             [
              0.7777777777777778,
              "#fb9f3a"
             ],
             [
              0.8888888888888888,
              "#fdca26"
             ],
             [
              1,
              "#f0f921"
             ]
            ],
            "type": "heatmap"
           }
          ],
          "heatmapgl": [
           {
            "colorbar": {
             "outlinewidth": 0,
             "ticks": ""
            },
            "colorscale": [
             [
              0,
              "#0d0887"
             ],
             [
              0.1111111111111111,
              "#46039f"
             ],
             [
              0.2222222222222222,
              "#7201a8"
             ],
             [
              0.3333333333333333,
              "#9c179e"
             ],
             [
              0.4444444444444444,
              "#bd3786"
             ],
             [
              0.5555555555555556,
              "#d8576b"
             ],
             [
              0.6666666666666666,
              "#ed7953"
             ],
             [
              0.7777777777777778,
              "#fb9f3a"
             ],
             [
              0.8888888888888888,
              "#fdca26"
             ],
             [
              1,
              "#f0f921"
             ]
            ],
            "type": "heatmapgl"
           }
          ],
          "histogram": [
           {
            "marker": {
             "colorbar": {
              "outlinewidth": 0,
              "ticks": ""
             }
            },
            "type": "histogram"
           }
          ],
          "histogram2d": [
           {
            "colorbar": {
             "outlinewidth": 0,
             "ticks": ""
            },
            "colorscale": [
             [
              0,
              "#0d0887"
             ],
             [
              0.1111111111111111,
              "#46039f"
             ],
             [
              0.2222222222222222,
              "#7201a8"
             ],
             [
              0.3333333333333333,
              "#9c179e"
             ],
             [
              0.4444444444444444,
              "#bd3786"
             ],
             [
              0.5555555555555556,
              "#d8576b"
             ],
             [
              0.6666666666666666,
              "#ed7953"
             ],
             [
              0.7777777777777778,
              "#fb9f3a"
             ],
             [
              0.8888888888888888,
              "#fdca26"
             ],
             [
              1,
              "#f0f921"
             ]
            ],
            "type": "histogram2d"
           }
          ],
          "histogram2dcontour": [
           {
            "colorbar": {
             "outlinewidth": 0,
             "ticks": ""
            },
            "colorscale": [
             [
              0,
              "#0d0887"
             ],
             [
              0.1111111111111111,
              "#46039f"
             ],
             [
              0.2222222222222222,
              "#7201a8"
             ],
             [
              0.3333333333333333,
              "#9c179e"
             ],
             [
              0.4444444444444444,
              "#bd3786"
             ],
             [
              0.5555555555555556,
              "#d8576b"
             ],
             [
              0.6666666666666666,
              "#ed7953"
             ],
             [
              0.7777777777777778,
              "#fb9f3a"
             ],
             [
              0.8888888888888888,
              "#fdca26"
             ],
             [
              1,
              "#f0f921"
             ]
            ],
            "type": "histogram2dcontour"
           }
          ],
          "mesh3d": [
           {
            "colorbar": {
             "outlinewidth": 0,
             "ticks": ""
            },
            "type": "mesh3d"
           }
          ],
          "parcoords": [
           {
            "line": {
             "colorbar": {
              "outlinewidth": 0,
              "ticks": ""
             }
            },
            "type": "parcoords"
           }
          ],
          "pie": [
           {
            "automargin": true,
            "type": "pie"
           }
          ],
          "scatter": [
           {
            "marker": {
             "colorbar": {
              "outlinewidth": 0,
              "ticks": ""
             }
            },
            "type": "scatter"
           }
          ],
          "scatter3d": [
           {
            "line": {
             "colorbar": {
              "outlinewidth": 0,
              "ticks": ""
             }
            },
            "marker": {
             "colorbar": {
              "outlinewidth": 0,
              "ticks": ""
             }
            },
            "type": "scatter3d"
           }
          ],
          "scattercarpet": [
           {
            "marker": {
             "colorbar": {
              "outlinewidth": 0,
              "ticks": ""
             }
            },
            "type": "scattercarpet"
           }
          ],
          "scattergeo": [
           {
            "marker": {
             "colorbar": {
              "outlinewidth": 0,
              "ticks": ""
             }
            },
            "type": "scattergeo"
           }
          ],
          "scattergl": [
           {
            "marker": {
             "colorbar": {
              "outlinewidth": 0,
              "ticks": ""
             }
            },
            "type": "scattergl"
           }
          ],
          "scattermapbox": [
           {
            "marker": {
             "colorbar": {
              "outlinewidth": 0,
              "ticks": ""
             }
            },
            "type": "scattermapbox"
           }
          ],
          "scatterpolar": [
           {
            "marker": {
             "colorbar": {
              "outlinewidth": 0,
              "ticks": ""
             }
            },
            "type": "scatterpolar"
           }
          ],
          "scatterpolargl": [
           {
            "marker": {
             "colorbar": {
              "outlinewidth": 0,
              "ticks": ""
             }
            },
            "type": "scatterpolargl"
           }
          ],
          "scatterternary": [
           {
            "marker": {
             "colorbar": {
              "outlinewidth": 0,
              "ticks": ""
             }
            },
            "type": "scatterternary"
           }
          ],
          "surface": [
           {
            "colorbar": {
             "outlinewidth": 0,
             "ticks": ""
            },
            "colorscale": [
             [
              0,
              "#0d0887"
             ],
             [
              0.1111111111111111,
              "#46039f"
             ],
             [
              0.2222222222222222,
              "#7201a8"
             ],
             [
              0.3333333333333333,
              "#9c179e"
             ],
             [
              0.4444444444444444,
              "#bd3786"
             ],
             [
              0.5555555555555556,
              "#d8576b"
             ],
             [
              0.6666666666666666,
              "#ed7953"
             ],
             [
              0.7777777777777778,
              "#fb9f3a"
             ],
             [
              0.8888888888888888,
              "#fdca26"
             ],
             [
              1,
              "#f0f921"
             ]
            ],
            "type": "surface"
           }
          ],
          "table": [
           {
            "cells": {
             "fill": {
              "color": "#EBF0F8"
             },
             "line": {
              "color": "white"
             }
            },
            "header": {
             "fill": {
              "color": "#C8D4E3"
             },
             "line": {
              "color": "white"
             }
            },
            "type": "table"
           }
          ]
         },
         "layout": {
          "annotationdefaults": {
           "arrowcolor": "#2a3f5f",
           "arrowhead": 0,
           "arrowwidth": 1
          },
          "coloraxis": {
           "colorbar": {
            "outlinewidth": 0,
            "ticks": ""
           }
          },
          "colorscale": {
           "diverging": [
            [
             0,
             "#8e0152"
            ],
            [
             0.1,
             "#c51b7d"
            ],
            [
             0.2,
             "#de77ae"
            ],
            [
             0.3,
             "#f1b6da"
            ],
            [
             0.4,
             "#fde0ef"
            ],
            [
             0.5,
             "#f7f7f7"
            ],
            [
             0.6,
             "#e6f5d0"
            ],
            [
             0.7,
             "#b8e186"
            ],
            [
             0.8,
             "#7fbc41"
            ],
            [
             0.9,
             "#4d9221"
            ],
            [
             1,
             "#276419"
            ]
           ],
           "sequential": [
            [
             0,
             "#0d0887"
            ],
            [
             0.1111111111111111,
             "#46039f"
            ],
            [
             0.2222222222222222,
             "#7201a8"
            ],
            [
             0.3333333333333333,
             "#9c179e"
            ],
            [
             0.4444444444444444,
             "#bd3786"
            ],
            [
             0.5555555555555556,
             "#d8576b"
            ],
            [
             0.6666666666666666,
             "#ed7953"
            ],
            [
             0.7777777777777778,
             "#fb9f3a"
            ],
            [
             0.8888888888888888,
             "#fdca26"
            ],
            [
             1,
             "#f0f921"
            ]
           ],
           "sequentialminus": [
            [
             0,
             "#0d0887"
            ],
            [
             0.1111111111111111,
             "#46039f"
            ],
            [
             0.2222222222222222,
             "#7201a8"
            ],
            [
             0.3333333333333333,
             "#9c179e"
            ],
            [
             0.4444444444444444,
             "#bd3786"
            ],
            [
             0.5555555555555556,
             "#d8576b"
            ],
            [
             0.6666666666666666,
             "#ed7953"
            ],
            [
             0.7777777777777778,
             "#fb9f3a"
            ],
            [
             0.8888888888888888,
             "#fdca26"
            ],
            [
             1,
             "#f0f921"
            ]
           ]
          },
          "colorway": [
           "#636efa",
           "#EF553B",
           "#00cc96",
           "#ab63fa",
           "#FFA15A",
           "#19d3f3",
           "#FF6692",
           "#B6E880",
           "#FF97FF",
           "#FECB52"
          ],
          "font": {
           "color": "#2a3f5f"
          },
          "geo": {
           "bgcolor": "white",
           "lakecolor": "white",
           "landcolor": "#E5ECF6",
           "showlakes": true,
           "showland": true,
           "subunitcolor": "white"
          },
          "hoverlabel": {
           "align": "left"
          },
          "hovermode": "closest",
          "mapbox": {
           "style": "light"
          },
          "paper_bgcolor": "white",
          "plot_bgcolor": "#E5ECF6",
          "polar": {
           "angularaxis": {
            "gridcolor": "white",
            "linecolor": "white",
            "ticks": ""
           },
           "bgcolor": "#E5ECF6",
           "radialaxis": {
            "gridcolor": "white",
            "linecolor": "white",
            "ticks": ""
           }
          },
          "scene": {
           "xaxis": {
            "backgroundcolor": "#E5ECF6",
            "gridcolor": "white",
            "gridwidth": 2,
            "linecolor": "white",
            "showbackground": true,
            "ticks": "",
            "zerolinecolor": "white"
           },
           "yaxis": {
            "backgroundcolor": "#E5ECF6",
            "gridcolor": "white",
            "gridwidth": 2,
            "linecolor": "white",
            "showbackground": true,
            "ticks": "",
            "zerolinecolor": "white"
           },
           "zaxis": {
            "backgroundcolor": "#E5ECF6",
            "gridcolor": "white",
            "gridwidth": 2,
            "linecolor": "white",
            "showbackground": true,
            "ticks": "",
            "zerolinecolor": "white"
           }
          },
          "shapedefaults": {
           "line": {
            "color": "#2a3f5f"
           }
          },
          "ternary": {
           "aaxis": {
            "gridcolor": "white",
            "linecolor": "white",
            "ticks": ""
           },
           "baxis": {
            "gridcolor": "white",
            "linecolor": "white",
            "ticks": ""
           },
           "bgcolor": "#E5ECF6",
           "caxis": {
            "gridcolor": "white",
            "linecolor": "white",
            "ticks": ""
           }
          },
          "title": {
           "x": 0.05
          },
          "xaxis": {
           "automargin": true,
           "gridcolor": "white",
           "linecolor": "white",
           "ticks": "",
           "title": {
            "standoff": 15
           },
           "zerolinecolor": "white",
           "zerolinewidth": 2
          },
          "yaxis": {
           "automargin": true,
           "gridcolor": "white",
           "linecolor": "white",
           "ticks": "",
           "title": {
            "standoff": 15
           },
           "zerolinecolor": "white",
           "zerolinewidth": 2
          }
         }
        }
       }
      },
      "text/html": [
       "<div>                            <div id=\"7c6d32d8-0ce5-4ea7-9e72-93b6018e7d46\" class=\"plotly-graph-div\" style=\"height:525px; width:100%;\"></div>            <script type=\"text/javascript\">                require([\"plotly\"], function(Plotly) {                    window.PLOTLYENV=window.PLOTLYENV || {};                                    if (document.getElementById(\"7c6d32d8-0ce5-4ea7-9e72-93b6018e7d46\")) {                    Plotly.newPlot(                        \"7c6d32d8-0ce5-4ea7-9e72-93b6018e7d46\",                        [{\"hovertemplate\": \"name=%{text}<br>lat=%{lat}<br>lon=%{lon}<extra></extra>\", \"lat\": [41.2688839, 41.5285035, 42.0998806, 42.1035448, 42.1028414, 41.629379, 41.5960006, 41.5466314, 41.5593401, 41.5850912, 41.4879383, 41.5745382, 41.3909045, 41.4901952, 41.5456067, 41.6419283, 41.6638964, 41.5895605, 41.6387045, 41.6130443, 41.4114165, 41.5726385, 41.5737958, 41.5741404, 41.5745607, 41.4468135, 41.4416041, 41.4375701, 41.53179, 41.5356736, 41.5368336, 41.5491815, 41.5449883, 41.6237546, 41.6259995, 41.5755891, 41.5008261, 41.3196946, 41.3759, 41.4563057, 41.3755969, 41.3735436, 41.6350749, 41.3761509, 41.4909113, 41.3901775, 41.4264239, 41.452488, 41.4533086, 41.4938093, 41.3789612, 41.4127914, 41.4124433, 41.4119681, 41.4138911, 41.4416457, 41.4143907, 41.4381799, 41.4457676, 41.4023418, 41.4023154, 41.4024683, 41.3828116, 41.3510901, 41.4546374, 41.3796932, 41.3895965, 41.3747729, 41.5734724, 41.3806017, 41.5040925, 41.5012604, 41.5052857, 41.3952853, 41.3956814, 41.4139175, 41.4795648, 41.4170051, 41.4166179, 41.371244, 41.3645175, 41.4985225, 41.4107728, 41.3823171, 41.2004354, 41.3750143, 41.5552727, 41.2819318, 41.6559559, 41.2490468, 41.2472722, 41.2474213, 41.2369158, 41.563923, 41.6856877, 41.6874522, 41.3861533, 41.3869796, 41.3851237, 41.3762412, 41.3826547, 41.3860999, 41.5812267, 41.5805688, 41.4065703, 41.3918433, 41.4408242, 41.4114593, 41.5181269, 41.559528, 41.5593032, 41.2387489, 41.3061407, 41.3034718, 41.2958755, 41.4482763, 41.4493333, 41.4461002, 41.3771709, 41.3794968, 41.3780701, 41.3776523, 41.4063957, 41.3741246, 41.5649986, 41.3732668, 41.4011099, 41.411092, 41.4230752, 41.4222401, 41.3931773, 41.3064367, 41.403107, 41.3947291, 41.5103839, 41.3869304, 41.4717667, 41.4715248, 41.4720551, 41.4721718, 41.4822244, 41.3075734, 41.388214, 41.3830876, 41.5270917, 41.3072183, 41.4012482, 41.4303689, 41.5528728, 41.4472012, 41.4160116, 41.4080772, 41.5633229, 41.3479016, 41.4356437, 41.3749129, 41.5803105, 41.3824052, 41.3771825, 41.4284379, 41.3715253, 41.3822852, 41.3801129, 41.3803462, 41.3820067, 41.3090468, 41.4052364, 41.4107795, 41.5428507, 41.542547, 41.5416614, 41.3773681, 41.6909622, 41.4140368, 41.3798027, 41.5376229, 41.6816071, 41.6846217, 41.7450043, 41.7448102, 41.7449551, 41.4534739, 41.5423541, 41.3955415, 41.4136707, 41.3826109, 41.3820828, 41.3822443, 41.434053, 41.434386, 41.381252, 41.3804716, 41.3836428, 41.4281908, 41.4281031, 41.4278755, 41.4992167, 41.3745191, 41.3738074, 41.38999, 41.4061304, 41.4064398, 41.3746117, 41.3794731, 41.3808774, 41.5404749, 41.4279078, 41.751595, 41.2228095, 41.4849016, 41.4429836, 41.519497, 41.4083034, 41.4095619, 41.405565, 41.402391, 41.4064092, 41.4117734, 41.4796972, 41.227145, 41.3717889, 41.5584221, 41.5766652, 41.5604581, 41.5726838, 41.5747389, 41.430635, 41.4804051, 41.4815619, 41.3944077, 41.2186219, 41.2167157, 41.37115, 41.6243014, 41.5655805, 41.4059186, 41.4064566, 41.2662558, 41.4004872, 41.3996987, 41.3728967, 41.3911342, 41.3994289, 41.4002223, 41.3991191, 41.3980381, 41.4772679, 41.5395048, 41.5394209, 41.4003905, 41.3720043, 41.4246854, 41.3965084, 41.4003526, 41.395533, 41.3693161, 41.4720622, 41.4044821, 41.7332178, 41.4124764, 41.540959, 41.6124975, 41.4067026, 41.3963687, 41.3978028, 41.428821, 41.4288231, 41.4361126, 41.6165655, 41.3759207, 41.390608, 41.3915206, 41.3919204, 41.3816843, 41.3811131, 41.4542428, 41.4513216, 41.4534736, 41.4483841, 41.4526563, 41.3835125, 41.3808618, 41.4390594, 41.4337299, 41.527148, 41.4359056, 41.4376808, 41.3712408, 41.3729104, 41.3873877, 41.386858, 41.3864706, 41.4506755, 41.4065935, 41.3732194, 41.4058392, 41.405634, 41.3760043, 41.3761001, 41.3950643, 41.2823445, 41.3545649, 41.2655157, 41.2829941, 41.2687794, 41.3988499, 41.456866, 41.5457247, 41.3801817, 41.5186211, 41.7215826, 41.7227882, 41.7231036, 41.55795, 41.3926915, 41.3889444, 41.4489973, 41.4515556, 41.412063, 41.4094587, 41.410011, 41.4095087, 41.3742726, 41.3877446, 41.4179507, 42.1353226, 41.5517009, 41.4349161, 41.3786081, 41.8822618, 41.4283381, 41.4180731, 41.2177897, 41.2176974, 41.3724922, 41.3762848, 41.3895216, 41.3812389, 41.3774886, 41.3786743, 41.4173464, 41.6881937, 41.3763778, 41.3809194, 41.3835216, 41.3773917, 41.3864764, 41.4106971, 41.3772015, 41.3772317, 41.3837836, 41.3831846, 41.3848714, 41.3862397, 41.392798, 41.5069698, 41.381066, 41.4510009, 41.4047978, 41.4041684, 41.3946246, 41.3934697, 41.3896968, 41.417008, 41.4175222, 41.7342868, 41.383364, 41.3876396, 41.3701514, 41.74286, 41.41648, 41.4175152, 41.4159831, 41.4013139, 41.4028924, 41.4416172, 41.4391569, 41.4422361, 41.4400902, 41.5038936, 41.3605779, 41.3621011, 41.728222, 41.7276508, 41.7294789, 41.3798951, 41.3827326, 41.3849284, 41.3697062, 41.5724368, 41.3974037, 41.444568, 41.3909932, 41.7520229, 41.3981285, 41.3971017, 41.5411983, 41.3889714, 41.3643125, 41.4137271, 41.6550181, 41.6432413, 41.6522418, 41.4416774, 41.4399584, 41.4371158, 41.4368357, 41.5648058, 41.4200219, 41.4023159, 41.4040048, 41.4023821, 41.4040084, 41.4018251, 41.3991782, 41.3756747, 41.3758337, 41.3762765, 41.4201316, 41.413988, 41.4074359, 41.4220714, 41.4221319, 41.4119453, 41.3835203, 41.258659, 41.2607569, 41.2593765, 41.2593302, 41.4143356, 41.4010293, 41.408738, 41.5796928, 41.440326, 41.3544109, 41.4404854, 41.3734372, 41.5405934, 41.3763656, 41.6164041, 41.3484053, 42.0093388, 42.0083815, 42.0090335, 42.0083044, 41.3862387, 41.4504954, 41.3930166, 41.391263, 41.5512963, 41.5292456, 41.5298363, 41.3796399, 41.3677139, 41.3673955, 41.3683975, 41.3683053, 41.3681478, 41.235618, 41.2367859, 41.2388486, 41.9251579, 41.9247289, 41.5240613, 41.4438378, 41.9212974, 41.3032652, 41.4477988, 41.4377466, 41.405938, 41.4063688, 41.4174459, 41.4124231, 41.4129421, 41.381459, 41.8277961, 41.4027825, 41.3805162, 41.542302, 41.5438543, 41.4906479, 41.4914073, 41.5773645, 41.5780849, 41.5774344, 41.4206127, 41.4985197, 41.4040266, 41.7526368, 41.4283151, 41.3820675, 41.4445354, 41.4432769, 41.4441022, 41.4814679, 41.767344, 42.0174955, 41.3721813, 41.3769353, 41.3714305, 41.3776083, 41.3641292, 41.3650502, 41.4400215, 41.4050395, 41.4054123, 41.4045329, 41.6135365, 41.6307283, 41.3794904, 41.3805804, 41.387308, 41.3882152, 41.3860934, 41.3860078, 41.3210514, 41.3968924, 41.6629949, 41.663357, 41.6633995, 41.4082199, 41.4586986, 41.442599, 41.4402216, 42.0401738, 41.987928, 41.5702428, 41.4375487, 41.3758249, 41.3602817, 41.490352, 41.4915056, 41.4558189, 41.6231744, 41.4181472, 41.4022225, 41.3772039, 41.4255051, 41.4024638, 41.4021729, 41.2799661, 41.4014001, 42.2445592, 41.9308459, 41.4021919, 41.4289143, 41.4854097, 41.3896311, 41.3987602, 41.4798386, 41.553672, 41.4138775, 41.6732285, 41.3862454, 41.390614, 41.3956445, 41.3845253, 41.3736866, 41.3859243, 41.4332698, 41.7302721, 41.7445054, 41.4257054, 41.3241688, 41.3237347, 41.3242625, 41.3662761, 41.4164049, 41.4183312, 41.4197657, 41.501786, 41.3918035, 41.4342136, 41.4404182, 41.2218361, 41.221004, 41.2235887, 41.2234814, 41.2280254, 41.2237192, 41.2197781, 41.2238113, 41.2214717, 41.2342642, 41.2203923, 41.223031, 41.2203163, 41.2164384, 41.2246916, 41.2245543, 41.2257901, 41.2297194, 41.5428679, 41.4158211, 41.4174627, 41.2199418, 41.4030164, 41.3761395, 41.3827281, 41.3867942, 42.0950329, 41.4076799, 41.4131069, 42.0347283, 41.3788125, 41.6161219, 42.0335201, 41.6152363, 42.0321175, 41.3934288, 41.4218024, 41.5009232, 41.4923182, 41.3671922, 41.5569979, 41.6128778, 41.3774794, 41.3767305, 41.3759295, 41.6114995, 41.3848443, 41.3404128, 41.6151342, 41.4208674, 41.421064, 41.3101318, 41.3987468, 41.4115022, 41.4086255, 41.4063871, 41.3757112, 41.7360844, 41.3931177, 41.4593791, 41.398686, 41.4091912, 41.5629729, 41.3824784, 41.7228914, 41.5812804, 41.4016453, 41.4021816, 41.7817093, 41.5890266, 41.5884543, 41.9020254, 41.90165, 41.8651036, 41.8645868, 41.8636253, 41.4214112, 41.4206827, 41.3971379, 41.2233117, 42.0132574, 41.4577152, 41.492674, 41.493205, 41.4121762, 41.4075631, 41.4080919, 41.4077117, 41.3872332, 41.3863467, 41.4413254, 41.4374271, 41.2232441, 41.2240322, 41.4388496, 41.7394008, 41.4656857, 41.7367265, 41.8957674, 41.5574769, 41.3757257, 41.3763035, 41.7249502, 41.4065183, 41.4941878, 41.2017538, 41.3789732, 41.3791256, 41.8991106, 41.8974829, 41.9002935, 41.899593, 41.4022843, 41.4049674, 41.4049079, 41.4350274, 41.2319362, 41.2321507, 41.2016247, 41.2006786, 41.5267919, 41.3598799, 41.387119, 41.7271022, 41.3955952, 41.399285, 41.3803126, 41.5762934, 41.5766579, 41.3903447, 41.3740294, 41.358679, 41.33159, 41.4029127, 41.3962809, 41.3979078, 41.4164517, 41.4195572, 41.4210894, 41.4189912, 41.4241955, 41.4220878, 41.4183752, 41.3751862, 41.3758472, 41.3615165, 41.4194864, 41.3971739, 41.4051093, 41.3894574, 41.3990208, 41.4132532, 41.4110098, 41.3957647, 41.3947162, 41.4177461, 41.3888364, 41.3860658, 41.3592102, 41.3746609, 41.3726806, 41.3860304, 41.3864886, 41.4109246, 41.4109137, 41.3924929, 41.4220019, 41.4124144, 41.3881292, 41.4098936, 41.41357, 41.3921998, 41.409253, 41.4026891, 41.407284, 41.4125354, 41.4031706, 41.4112658, 41.3980156, 41.4139092, 41.4208873, 41.3797352, 41.4151888, 41.3951944, 41.4071223, 41.7515135, 41.3765785, 41.4828882, 41.5016042, 41.560906, 41.6154654, 41.612966, 41.504404, 41.4193044, 41.5767296, 41.5673488, 41.6029562, 41.4076763, 41.3600188, 41.384099, 41.3839862, 41.3744298, 41.568289, 41.5708752, 41.5698621, 41.3788135, 41.370484, 41.5018093, 41.5040974, 41.5010902, 41.4970001, 41.4981131, 41.4987599, 41.4997965, 41.505502, 41.5067134, 41.4964363, 41.4958477, 41.4950461, 41.4947577, 41.4922736, 41.4924343, 41.4159926, 41.4122109, 41.4029558, 41.3819861, 41.4023575, 41.3351672, 41.2396006, 41.4387759, 41.4411154, 41.5383844, 41.3419182, 41.338061, 41.3865786, 41.3387527, 41.3860049, 41.3889934, 41.3346698, 41.7261752, 41.4362341, 41.5451385, 41.3847547, 41.3534569, 41.4086286, 41.4209303, 41.4379608, 41.4380153, 41.4350673, 41.5547143, 41.5566091, 41.3826406, 41.4068568, 41.7286696, 41.3858981, 41.4338344, 41.4026504, 41.4025843, 41.4031301, 41.4052752, 41.4045232, 41.4065742, 41.4476987, 41.4147539, 41.5762743, 41.388728, 41.4928743, 41.4916468, 41.4132697, 41.4688652, 41.6685071, 41.4074849, 41.7241021, 41.3918148, 41.4058264, 41.4006477, 41.4010493, 41.4682068, 41.4725529, 41.4068477, 41.407866, 41.4052831, 41.4194371, 41.3862089, 41.3860977, 41.3861525, 41.3797898, 41.3759466, 41.3996311, 41.3903832, 41.403431, 41.4038372, 41.3842948, 41.3845266, 41.3841506, 41.4001056, 41.4518788, 41.4017178, 41.5294813, 41.4628728, 41.4628547, 41.4615723, 41.4077083, 42.0083391, 41.727814, 41.5300922, 41.3847635, 41.5019168, 41.5027083, 41.4915589, 41.382865, 41.3857346, 41.5463029, 41.5121367, 41.5131399, 41.5134171, 41.5133267, 41.4398098, 41.3835813, 41.4396663, 41.438432, 41.4695406, 41.437526, 41.4376132, 41.5296742, 41.6834594, 41.3759162, 41.4103144, 41.3917392, 41.614364, 41.5640868, 41.5668934, 41.5640748, 41.5646216, 41.5286267, 41.5285544, 41.528207, 41.4741916, 41.5873019, 41.4040377, 41.5249539, 41.7333049, 41.4468414, 41.4477437, 41.3731607, 41.3729561, 41.5472094, 41.5692672, 41.3858414, 41.3770692, 41.3772931, 41.448787, 41.4548728, 41.4486368, 41.4525524, 41.6226435, 41.5182976, 41.4931948, 41.4928733, 41.4907196, 41.4910993, 41.5328845, 41.5376394, 41.5089559, 41.3976404, 41.5702705, 41.3782082, 41.4005273, 41.4835124, 41.4822864, 41.5526669, 41.3980449, 41.4945978, 41.3833997, 42.0135137, 41.5471975, 41.547067, 41.5487231, 41.5509191, 41.5512282, 41.500445, 41.3835931, 41.3833212, 41.3835351, 41.3844445, 41.3876829, 41.498124, 41.3848919, 41.4950224, 41.55025, 41.5508009, 41.5517155, 41.5474393, 41.6149103, 41.3789516, 41.6077667, 41.5517716, 41.4457847, 41.4492026, 41.5319059, 41.5310656, 41.5313106, 41.3880204, 41.6370312, 41.5691165, 41.5297604, 41.3488649, 41.5252512, 41.4799148, 41.5168108, 41.4907321, 41.6740453, 41.6731197, 41.565893, 41.6263492, 41.6260524, 41.6227101, 41.6376655, 41.6388064, 41.6397154, 41.6398357, 41.6343814, 41.6932711, 41.6970484, 41.6989089, 41.7247473, 41.5423199, 41.413161, 41.4065255, 41.5078688, 41.5327248, 41.5360959, 41.5376779, 41.5421538, 41.4351212, 41.4519854, 41.4529441, 41.4256929, 41.4272012, 41.4297272, 41.4960861, 41.4969366, 41.5003597, 41.4953297, 41.4952393, 41.4945341, 41.4874147, 41.4881756, 41.4116728, 41.6143644, 41.5476243, 41.5607007, 41.526915, 41.44188, 41.5607722, 41.447503, 41.3920837, 41.3936322, 41.4221312, 41.5303606, 41.5447313, 41.4025772, 41.4003102, 41.4024482, 41.4490811, 41.388027, 41.391962, 41.3798901, 41.3919523, 41.3903769, 41.3912508, 41.408634, 41.3848888, 41.3851896, 41.475533, 41.4750561, 41.466718, 41.3996276, 41.4007176, 41.3990917, 41.4007927, 41.4123752, 41.2704965, 41.3800213, 41.3801743, 41.4163407, 41.397182, 41.3207523, 41.3858651, 41.4218962, 41.4351502, 41.4302932, 41.4004787, 41.3848478, 41.9397194, 41.9406791, 42.2335299, 41.4234284, 41.3843365, 41.6096379, 41.614633, 41.3949546, 41.6394103, 41.4003675, 41.3870417, 41.4156154, 41.4810527, 41.4806171, 41.478788, 41.6133547, 41.4081939, 41.375916, 41.4028707, 41.40341, 41.4257931, 41.568992, 41.4115279, 41.3479198, 41.383764, 41.4398705, 41.4319198, 41.9321904, 41.5446675, 41.4362161, 41.4014517, 41.4224192, 41.3925802, 41.3895766, 41.3841025, 41.3838536, 41.385669, 41.3813188, 41.9308246, 41.9279072, 41.9316757, 41.9320034, 41.6174189, 41.5418515, 41.387584, 41.3588634, 41.381875, 41.4188343, 41.53011, 41.3834182, 41.3605664, 41.3800054, 41.3771418, 41.353897, 41.3643321, 41.3635096, 41.3620599, 41.3939284, 41.3960742, 41.3623277, 41.3852607, 41.3925637, 41.3851648, 41.3745114, 41.3906242, 41.6290424, 41.3601241, 41.4910972, 41.4930039, 41.3895517, 41.3957971, 41.391935, 41.3998268, 41.3907371, 41.6850299, 41.375457, 41.4097222, 41.6814225, 41.3596647, 41.4094094, 41.4098881, 41.3667154, 41.4030573, 41.4056088, 41.3997169, 41.3647066, 41.3869485, 41.3682545, 41.3744357, 41.3754895, 41.3680788, 41.3843831, 41.4800655, 41.3826531, 41.4800038, 41.4034507, 41.402975, 41.4822582, -23.6196884, 41.5015412, 41.4740915, 41.6888967, 41.3974206, 41.3984575, 41.3832041, 41.3721415, 41.8748493, 41.353139, 41.3992951, 41.3990612, 41.3789866, 41.3923461, 41.3703749, 41.3779699, 41.4763409, 41.3712926, 41.3679752, 41.3750322, 41.6890644, 41.4026072, 41.9450844, 41.606992, 41.39021, 41.4003043, 41.6124875, 41.4044022, 41.6127993, 41.2247428, 41.3638438, 41.542122, 41.54283, 41.6700471, 41.7961466, 41.7959736, 41.7967275, 41.7974133, 41.8604615, 41.474271, 41.4114789, 41.7514636, 41.4045345, 41.4056747, 41.4058528, 41.4060512, 41.4062668, 41.4037491, 41.4017282, 41.4034926, 41.4019041, 41.3987855, 41.395939, 41.3944689, 41.4835557, 41.5126442, 41.4126764, 41.3902776, 41.3928198, 41.4053883, 41.390395, 41.4080053, 41.4066542, 41.4065032, 41.3280389, 41.4082521, 41.6115139, 41.4099568, 41.4096043, 41.465521, 41.4032265, 41.4013831, 41.4005548, 41.4054596, 41.3996966, 41.550205, 41.4992401, 41.4067419, 41.400476, 41.3821141, 41.3769909, 41.3837383, 41.4212679, 42.2546409, 41.4003963, 41.6924786, 41.6062569, 41.6108114, 41.4904055, 41.4831862, 41.4899775, 41.413891, 41.4173948, 41.3788153, 42.2530615, 41.3905507, 41.4363788, 41.435967, 41.4548785, 41.4328743, 41.3762956, 41.3751957, 41.424819, 41.6031107, 41.4402181, 41.365622, 41.3668509, 41.2541463, 41.3698795, 41.4391367, 41.4302246, 41.3983856, 41.731011, 41.3910359, 41.5709492, 41.5700832, 41.5694732, 41.4996797, 41.7309924, 41.7297491, 41.7313409, 41.4604544, 41.4244166, 41.4245353, 41.6007626, 41.399, 41.3890217, 41.3784, 41.4287294, 41.3987367, 41.4139009, 41.5631558, 41.3639312, 41.3592116, 41.3905525, 41.4880454, 41.488099, 41.3654304, 41.4907537, 41.383163, 41.3713724, 41.4032182, 41.39878, 41.4356387, 41.2386371, 41.3685027, 41.3718957, 41.3632399, 41.4484021, 41.4470838, 41.4582202, 41.4529044, 41.4476794, 41.4504246, 41.453901, 41.4506249, 41.4581481, 41.4534667, 41.4586104, 41.4550244, 41.4485962, 41.4509358, 41.4501678, 41.4491254, 41.4590343, 41.4605874, 41.4471906, 41.4500587, 41.4574048, 41.4599351, 41.4546111, 41.4520686, 41.4551876, 41.4530637, 41.4553856, 41.4506053, 41.455667, 41.4475477, 41.3897506, 41.3608471, 41.3620159, 41.3616557, 41.3584691, 41.3584696, 41.3616663, 41.3601933, 41.3602409, 41.3595691, 41.3623354, 41.410823, 41.4129925, 41.4198454, 41.4204896, 41.3977747, 41.3907093, 41.4173813, 41.4486718, 41.4074955, 41.7278572, 41.3982086, 41.6053285, 41.5334319, 41.4480446, 41.4474113, 41.4480446, 41.4484986, 41.4474113, 41.4479212, 41.4522391, 41.4487026, 41.5456792, 41.6872528, 41.3750037, 41.375376, 41.3794657, 41.3773026, 41.3756373, 41.5805912, 41.375523, 41.371474, 41.3738765, 41.3747914, 41.3757382, 41.494005, 41.3757186, 41.3759771, 41.3752511, 41.4127158, 41.9328268, 41.3467119, 41.4689038, 41.468795, 41.4723493, 41.4691512, 41.50197, 41.5000636, 41.4636944, 41.3892087, 41.3813814, 41.4098536, 41.4942692, 41.4957398, 41.497797, 41.4976001], \"legendgroup\": \"\", \"lon\": [2.0112952, 2.0896983, 1.8441708, 1.8533905, 1.8577599, 2.6922148, 2.2842318, 2.0271622, 2.0292942, 1.6259221, 2.1291803, 1.6365976, 2.125693, 2.1844077, 2.4310818, 2.2325513, 2.2697096, 2.3224366, 2.2327588, 2.2380623, 2.0176174, 1.6069816, 1.6087842, 1.608323, 1.6076849, 2.1747937, 2.1780626, 2.1804956, 2.4319513, 2.4233525, 2.4317269, 2.4403894, 2.4530837, 2.6906113, 2.6885617, 2.0867729, 2.0896572, 2.0899394, 2.1313, 2.2276514, 2.1311301, 2.1669381, 2.711885, 2.1352817, 2.1846144, 2.1488058, 2.229745, 2.2511798, 2.2499037, 2.292389, 2.1704622, 2.1974089, 2.1967739, 2.1961625, 2.2020633, 2.2191905, 2.0221398, 2.2168542, 2.1725927, 2.1991561, 2.1452028, 2.1456319, 2.0806464, 2.0306409, 1.9607952, 2.171798, 2.1567671, 2.16436, 2.2347458, 2.1889995, 2.3929808, 2.387634, 2.3897327, 2.1242464, 2.1249031, 2.0157145, 2.0877751, 2.1707669, 2.1701808, 2.0870803, 2.0926803, 2.3802017, 2.194425, 2.16861, 1.6496784, 2.0858614, 2.0861552, 1.9856994, 2.2229821, 1.8138661, 1.8125626, 1.8109449, 1.8079435, 2.0204921, 2.2861673, 2.2860368, 2.144398, 2.1442296, 2.1454326, 2.168762, 2.171171, 2.1679417, 2.0130826, 2.0236239, 2.1635248, 2.152291, 2.1819658, 2.1420651, 2.1252405, 2.0955916, 2.0950766, 1.8088415, 2.0077361, 2.0018036, 2.0075937, 2.2157456, 2.2180999, 2.2170539, 2.1255716, 2.1262943, 2.1269642, 2.1293602, 2.1808131, 2.1307557, 2.0049872, 2.1695439, 2.1599095, 2.1721017, 2.1467075, 2.1441231, 2.125008, 1.9949498, 2.1540234, 2.133976, 2.1136245, 2.1603923, 2.0916343, 2.085154, 2.0799796, 2.0887941, 2.0518902, 2.0025806, 2.0570332, 2.1850665, 2.3671642, 2.0020148, 2.151385, 2.1790779, 2.0070024, 2.2151483, 2.1793486, 2.1567221, 2.0089404, 2.0774181, 2.1571111, 2.1196323, 2.0338152, 2.1624256, 2.1121417, 2.1650436, 2.0876116, 2.188448, 2.1882542, 2.1887534, 2.1898797, 2.0051698, 2.182648, 2.1883281, 1.890426, 1.8920894, 1.8964221, 2.119519, 2.4895148, 2.18928, 2.0690083, 2.2072036, 2.4890108, 2.4839464, 1.8053719, 1.8037259, 1.8065143, 2.217578, 2.4509255, 2.1423536, 1.9659725, 2.1360961, 2.1367034, 2.1357723, 2.2184799, 2.217131, 2.1267921, 2.1298667, 2.1401829, 2.170384, 2.1709302, 2.1742457, 1.8154767, 2.1612935, 2.1609515, 1.9365358, 2.2109384, 2.2101589, 2.1387862, 2.1432138, 2.1780868, 2.4535686, 2.1794063, 1.8747127, 1.7237237, 2.04523, 2.1765635, 2.4223769, 2.1472479, 2.1512953, 2.1532652, 2.1482945, 2.1371428, 2.1388768, 2.0686848, 1.7272617, 2.1411244, 2.0934225, 2.0172243, 2.0234654, 2.0130389, 2.0126789, 2.2191453, 1.914264, 1.9160387, 2.1273963, 1.7292644, 1.7332308, 2.138379, 2.6868269, 2.0114513, 2.1738847, 2.1772722, 1.9712261, 2.1657166, 2.1679035, 2.1256964, 2.156549, 2.006351, 2.006044, 2.007618, 2.007296, 1.9161057, 2.2124529, 2.2116215, 2.2039006, 2.0756661, 2.1406086, 2.1682109, 2.1658891, 2.1689106, 2.0836426, 2.0908858, 2.1372386, 1.5135985, 1.9686581, 2.2091409, 2.5383858, 2.1516985, 2.1509481, 2.1487988, 2.1819404, 2.1833245, 2.1728576, 2.3025806, 2.1175772, 2.1977378, 2.1907387, 2.1895606, 2.1466223, 2.1456253, 2.2353776, 2.2370343, 2.2352418, 2.2367572, 2.2306598, 2.1536098, 2.1533419, 2.1654032, 2.1485264, 2.4326335, 2.1742809, 2.173662, 2.1335234, 2.1056335, 2.1137462, 2.1125446, 2.1133869, 2.2238752, 2.1816279, 2.1218425, 2.1946428, 2.1917031, 2.1229782, 2.1231318, 2.0086949, 1.9745605, 2.0883201, 1.9637078, 1.9873783, 1.9441716, 2.1636909, 2.0431782, 2.2074101, 2.1523066, 1.7077918, 1.8157288, 1.8161476, 1.8411701, 1.9540532, 2.1512453, 2.1614246, 2.1922102, 2.1908284, 2.1607601, 2.1631237, 2.1632524, 2.1628635, 2.1581681, 2.1569524, 2.1490232, 1.9932433, 2.1046494, 2.1697543, 2.142696, 2.2431835, 2.1706584, 2.1895967, 1.7321545, 1.7300275, 2.0702027, 2.1496532, 2.1954414, 2.1766523, 2.1644506, 2.1739648, 2.1890428, 2.49237, 2.1622923, 2.1622811, 2.1626252, 2.1786001, 2.1507542, 2.1467858, 2.1593313, 2.1602594, 2.1799953, 2.1795195, 2.1797276, 2.1650882, 2.1884594, 1.902422, 2.0400924, 2.2064771, 2.2033032, 2.1789166, 2.1706443, 2.0111234, 2.0099299, 2.1839656, 2.1841954, 1.8372573, 2.1397071, 2.1465409, 2.1340233, 1.8042148, 2.1901456, 2.197999, 2.1948556, 2.1655191, 2.1702533, 2.1827397, 2.1821812, 2.1848003, 2.1818189, 2.1536184, 2.0824807, 2.082842, 1.8381348, 1.837903, 1.8364248, 2.0525163, 2.0556928, 2.0736184, 2.1329222, 2.0905535, 2.1217544, 2.2181037, 2.1516605, 1.8784079, 2.1460844, 2.144769, 2.4373572, 1.9339035, 2.1276205, 2.1039419, 2.7429275, 2.7385368, 2.7468982, 2.2166463, 2.2150515, 2.2049224, 2.2042069, 2.5151109, 2.1962763, 2.1998443, 2.1595218, 2.1714302, 2.1622868, 2.1546703, 2.2035839, 2.1594777, 2.1597432, 2.1602502, 2.187446, 2.1617533, 2.1618264, 2.1811472, 2.1850064, 2.160447, 2.1564657, 1.7717237, 1.7694631, 1.7766974, 1.7768145, 2.2005776, 2.2052715, 2.1894997, 2.5120155, 2.2243594, 2.0740992, 2.2213531, 2.1465907, 2.4268978, 2.1658428, 2.0876817, 2.1078648, 2.0280762, 2.0291136, 2.0297254, 2.0299527, 2.1845656, 2.2193537, 2.1858405, 2.1850318, 2.4804505, 2.110055, 2.1092175, 2.1462933, 2.0795549, 2.0168907, 2.0167414, 2.0163925, 2.0209316, 1.8091403, 1.8091858, 1.8069962, 2.2836322, 2.2838209, 2.1105387, 2.2247843, 2.2525702, 2.009009, 2.2431215, 2.2429546, 2.1534942, 2.1525491, 2.1874012, 2.1382004, 2.1390855, 2.1774271, 1.8927485, 2.2034307, 2.1886893, 2.1114106, 2.1095393, 2.1403809, 2.1373987, 2.0134879, 2.0127315, 2.0160151, 1.9965475, 2.1575249, 2.156774, 1.9017519, 2.1709859, 2.1697622, 2.2233053, 2.2239663, 2.2235282, 2.3178227, 2.2527083, 1.7348888, 2.0846479, 2.0848196, 2.0849819, 2.175603, 2.0808167, 2.0806089, 2.2161084, 2.1782408, 2.1769855, 2.178466, 2.6542922, 2.3012169, 2.1672795, 2.167645, 2.0445002, 2.0452876, 2.0459476, 2.0459234, 2.0281997, 2.1667115, 2.2685158, 2.2691562, 2.2692327, 2.1724743, 2.2573146, 2.229622, 2.2274914, 2.2733685, 2.3075231, 2.0043687, 2.1936151, 2.1210506, 2.0792547, 2.0207916, 2.036602, 2.2583088, 2.6915283, 2.1829547, 2.1638196, 2.1647548, 2.1869263, 2.1631167, 2.1644554, 1.9797957, 2.1645174, 1.9746179, 2.2566395, 2.1648366, 2.1625316, 2.1666192, 2.1438878, 2.1695787, 1.8052529, 2.4013997, 2.212077, 2.2820607, 2.1574827, 2.1756645, 2.1583462, 2.1782537, 2.1615808, 2.1783567, 2.1733389, 1.8356881, 1.8054253, 2.1750622, 2.0846618, 2.0836144, 2.0851724, 2.1395258, 2.2064241, 2.2053724, 2.2020355, 1.8144376, 2.1787023, 2.2168977, 2.2184941, 1.710983, 1.7163751, 1.6946451, 1.717922, 1.7185623, 1.7201068, 1.7270782, 1.7146059, 1.7145629, 1.7279807, 1.7370116, 1.7297363, 1.7219806, 1.7221715, 1.7261388, 1.7196754, 1.7231747, 1.7274464, 2.2650703, 2.1951019, 2.2047682, 1.711999, 2.1717029, 2.1493475, 2.1685458, 2.167712, 1.8494439, 2.189368, 2.19411, 1.8799691, 2.1397696, 2.6640308, 1.8800607, 2.6625199, 1.8804634, 2.1882383, 2.2048464, 1.812362, 2.3545102, 2.1288498, 1.9870764, 2.6546867, 2.1156672, 2.1143442, 2.1149871, 2.6514246, 2.1321842, 2.0438559, 2.0888721, 2.149578, 2.1497832, 2.0143624, 2.1565983, 2.171973, 2.1697112, 2.1727047, 2.1893739, 1.8319787, 2.1995985, 2.20759, 2.1760335, 2.1786843, 1.8162547, 2.1595079, 1.8247785, 1.7799999, 2.1591965, 2.1603257, 1.7840551, 2.5770921, 2.5781701, 1.8779808, 1.879129, 1.8748481, 1.8740683, 1.8746188, 2.2042005, 2.2032339, 2.1514629, 1.7167342, 1.8418421, 2.2409572, 2.1456962, 2.1440809, 2.1394355, 2.134423, 2.1366124, 2.136945, 2.0401868, 2.1814403, 2.1775861, 2.1730545, 1.7236811, 1.7238881, 2.1727397, 1.8051784, 2.2538568, 1.8435243, 1.8763869, 2.0171212, 2.1645498, 2.1649387, 1.8374902, 2.1345331, 2.1803846, 1.6781517, 2.1570762, 2.1595395, 1.8797623, 1.8777158, 1.8790745, 1.8789078, 2.1345886, 2.1328276, 2.1327715, 2.1816248, 1.7457217, 1.7459066, 1.6502685, 1.6470425, 1.6864929, 2.0774813, 2.174804, 1.8207381, 2.1250024, 2.1515293, 2.1477257, 2.0343661, 2.0319038, 2.1459374, 2.1004381, 2.129897, 2.0514408, 2.1457466, 2.1751092, 2.1762919, 2.1781812, 2.1726469, 2.1801945, 2.1723503, 2.1774289, 2.1792425, 2.1803372, 2.1643581, 2.1638533, 2.0854306, 2.1757104, 2.1678246, 2.1660697, 2.179799, 2.1833542, 2.1808941, 2.182071, 2.1824536, 2.1816505, 2.1758518, 2.1647038, 2.1334388, 2.0769209, 2.1450139, 2.1604875, 2.1577723, 2.0465146, 2.178299, 2.1787247, 2.1716917, 2.1809917, 2.1762484, 2.1542336, 2.1758128, 2.181018, 2.1796214, 2.1849324, 2.1579126, 2.167552, 2.1763615, 2.1608947, 2.181729, 2.1341504, 2.1812852, 2.1826106, 2.163053, 2.1811358, 2.1798302, 2.1552868, 2.120243, 2.1693434, 2.1873574, 2.3605786, 2.0285261, 2.6644445, 2.6549259, 2.3956143, 2.1789367, 2.0330839, 2.0243182, 1.5412697, 2.1626807, 2.1394637, 2.0770669, 2.0771731, 2.1162405, 2.0011256, 2.0020728, 2.0027879, 2.1582721, 2.1084884, 2.1566228, 2.1593935, 2.1597931, 2.1607454, 2.1569017, 2.1614668, 2.1622125, 2.1552977, 2.1550689, 2.1625469, 2.1640436, 2.1660365, 2.1668237, 2.1497474, 2.1496938, 2.1758001, 2.1676327, 2.1718323, 2.1564097, 2.1386801, 2.0433512, 1.8166894, 2.220774, 2.2234302, 2.099209, 1.6929268, 1.6904556, 1.610745, 1.6890074, 1.6125259, 2.1778488, 1.7007985, 1.8223663, 2.1896734, 2.2182866, 2.1826223, 1.7332305, 2.147285, 2.1830247, 2.2224299, 2.2227668, 2.2197876, 2.156262, 2.1554251, 2.138054, 2.157354, 1.8201186, 2.1746451, 2.2174714, 2.1565427, 2.1566018, 2.1561415, 2.1538051, 2.1546547, 2.1590318, 2.2433574, 2.179306, 2.5446551, 2.1954832, 2.1386127, 2.1417509, 2.104669, 2.0799838, 1.8544164, 2.1832843, 1.827716, 2.1703133, 2.1547128, 2.1590091, 2.1585072, 2.0788746, 2.0794868, 2.1619196, 2.1606277, 2.1615829, 2.1872308, 2.1669146, 2.1671724, 2.1670462, 2.1619606, 2.1536654, 2.1541322, 2.1772515, 2.1334164, 2.1334124, 2.1619522, 2.162532, 2.1617542, 2.1531892, 2.206202, 2.1669688, 1.683515, 2.1707056, 2.1689067, 2.1704516, 2.1633829, 2.0288951, 1.8244315, 2.1208597, 2.1779109, 2.1581494, 2.1574279, 2.1412757, 2.160252, 2.1828163, 2.1037066, 2.1922891, 2.1924286, 2.1936275, 2.1925064, 2.1866616, 2.1555229, 2.225223, 2.2247563, 2.0802423, 2.223087, 2.2246091, 2.1185339, 2.2860024, 2.1156663, 2.1565212, 2.1437201, 2.2810959, 2.0906079, 2.0890925, 2.0901667, 2.0903276, 2.1164825, 2.1150931, 2.1149161, 1.9831368, 2.3251303, 2.1681771, 2.1215645, 1.8228265, 2.2207991, 2.2212244, 2.1719214, 2.1275651, 2.2053782, 2.0250057, 2.1611972, 2.1573197, 2.1638895, 2.218651, 2.2160241, 2.2161943, 2.2021061, 2.6735016, 1.7072912, 2.1497014, 2.1478373, 2.1451149, 2.1446911, 2.1835373, 2.1806419, 2.387859, 2.1538433, 2.5270758, 2.1594335, 2.2035587, 2.2684369, 2.2679493, 2.249825, 2.1941948, 2.1624891, 2.1557304, 1.8395961, 2.1280813, 2.1281993, 2.1280598, 2.1263218, 2.1259302, 1.8294296, 2.1600233, 2.1596096, 2.1587971, 2.1598361, 2.1568602, 2.1607922, 2.1731905, 2.036116, 2.0994723, 2.1017476, 2.1012664, 2.1134965, 2.6525575, 2.1622764, 2.136098, 2.0821353, 2.2438964, 2.249715, 2.086604, 2.0840076, 2.0845628, 2.1578796, 2.7172473, 1.9957993, 2.1852997, 1.6947831, 2.1244186, 2.0794263, 2.1312836, 2.2955585, 2.2136424, 2.2143344, 2.0087554, 2.6897598, 2.6886674, 2.6930547, 2.7299314, 2.7327263, 2.7343666, 2.7359598, 2.7250819, 2.7231286, 2.7200387, 2.718998, 2.6734289, 2.2637596, 2.1845122, 2.167157, 2.1388466, 2.1194351, 2.118955, 2.1181557, 2.1109465, 2.181314, 2.2364727, 2.2371818, 2.1911368, 2.1910858, 2.1900149, 2.1634596, 2.1577863, 2.1535672, 2.1567152, 2.1587671, 2.1665428, 2.0307884, 2.0310377, 2.1796633, 2.2899552, 2.0259697, 2.1016665, 2.1128405, 2.1975642, 2.0826031, 2.2008238, 2.1451672, 2.1689099, 2.156826, 2.1188843, 2.099618, 2.1834034, 2.1667924, 2.1373687, 2.2416983, 2.1811689, 2.1521447, 2.152249, 2.1467165, 2.1501894, 2.1490156, 2.1579129, 2.1682174, 2.0488208, 2.089786, 2.0900662, 2.0809241, 2.1535665, 2.1558176, 2.1220556, 2.1206843, 2.1468551, 1.9794107, 2.0429367, 2.1614601, 2.188263, 2.1520791, 2.0110188, 2.1331163, 2.1907122, 2.2194732, 2.168672, 2.1564315, 2.184051, 2.2545694, 2.254269, 1.8793931, 2.1866095, 2.1475312, 1.841541, 2.0884598, 2.1570793, 2.3987608, 2.1770146, 2.1371478, 2.1692626, 2.0694616, 2.0695635, 2.0695555, 2.0831007, 2.1518598, 2.0418016, 2.1444183, 2.1485653, 2.1801389, 2.0862733, 2.1902444, 2.0429538, 2.1316434, 2.1886676, 2.1718528, 2.2532699, 2.4473076, 2.1847265, 2.1761006, 2.1579552, 2.1565817, 2.1508179, 2.1331772, 2.1321858, 2.1373907, 2.1807707, 2.2530851, 2.2526559, 2.2530857, 2.2514597, 2.0926299, 2.1171394, 2.1366856, 2.1408533, 2.1420834, 2.2046354, 2.0741519, 2.1589426, 2.1392235, 2.1329378, 2.1342485, 2.1443387, 2.1364732, 2.1369131, 2.1380088, 2.1662752, 2.1668699, 2.1378184, 2.1321661, 2.1679248, 2.128233, 2.1304963, 2.1764571, 1.8644796, 2.1410516, 2.3668013, 2.2954156, 2.173886, 2.1772448, 2.1720957, 2.1642997, 2.1588705, 2.2866759, 2.1282776, 2.1373513, 2.2863688, 2.1371038, 2.1550737, 2.1558918, 2.1372686, 2.1522126, 2.1621684, 2.1687027, 2.1306853, 2.1297451, 2.1396644, 2.1882499, 2.1894534, 2.1328741, 2.1412521, 2.32117, 2.1304813, 2.3230748, 2.1622315, 2.1632456, 2.3185687, -46.5524619, 2.1599998, 2.0910457, 2.1627169, 2.1478384, 2.1418123, 2.1305144, 2.1475164, 2.2860766, 2.1099584, 2.2041516, 2.1968513, 2.1548978, 2.1887696, 2.1434142, 2.1625949, 1.9154149, 2.1296592, 2.1412379, 2.1337906, 2.4931707, 2.1531549, 2.0222776, 1.9173925, 2.1240033, 2.183255, 2.3047346, 2.1502091, 2.6543206, 1.7263172, 2.1370552, 2.2648683, 2.2661652, 2.4026765, 1.9516171, 1.950622, 1.9539117, 1.9539144, 1.9708465, 1.9286581, 2.1735586, 2.1195563, 2.1793456, 2.1791948, 2.1806835, 2.1791957, 2.1793675, 2.1782736, 2.1751185, 2.1774305, 2.1757782, 2.1733565, 2.1693991, 2.1682575, 2.1475523, 2.1066786, 2.1704059, 2.162099, 2.1660379, 2.1781751, 2.162835, 2.1812124, 2.1844447, 2.1848523, 2.098251, 2.1838243, 2.2913509, 2.1860673, 2.1856318, 1.8236425, 2.1763238, 2.172812, 2.1717201, 2.1799406, 2.168717, 2.1047432, 1.8151496, 2.1760612, 2.1693312, 2.1603296, 2.1637973, 2.1839471, 2.1557605, 1.8626521, 2.2019551, 2.4474095, 1.848878, 1.8479581, 2.1467451, 2.1447227, 2.1444169, 2.2171154, 2.217644, 2.1777099, 1.8625214, 2.160212, 2.2042257, 2.2061723, 2.2064485, 2.2168175, 2.1715044, 2.1624169, 2.1566642, 2.2590931, 2.2193649, 2.1304735, 2.1257888, 1.5925808, 2.1362596, 2.1644902, 2.1724199, 2.1597404, 1.8235004, 2.1977119, 2.0820138, 2.0855945, 2.0888078, 2.0402721, 1.8209849, 1.8246511, 1.8169981, 2.1808512, 2.156446, 2.1566778, 2.2906059, 2.16701, 1.9420627, 2.17852, 2.1875262, 2.1603613, 2.1615558, 2.2289586, 2.1200073, 2.1014719, 2.1624567, 2.0241258, 2.0310261, 2.125955, 2.1447946, 2.1275082, 2.1382497, 2.1816499, 2.1768647, 2.1602948, 1.8062391, 2.1409392, 2.146508, 2.1103012, 2.2107559, 2.2119829, 2.2025274, 2.2057702, 2.2132824, 2.2193295, 2.2171931, 2.2063711, 2.2047614, 2.2179885, 2.2057552, 2.2099386, 2.2186968, 2.2145464, 2.212107, 2.2076464, 2.2048318, 2.2032617, 2.2085396, 2.2047637, 2.2018133, 2.2032356, 2.2055436, 2.2053857, 2.2084216, 2.2126213, 2.2197191, 2.209991, 2.2192162, 2.2131148, 2.1205502, 2.1022997, 2.1010246, 2.0995573, 2.098394, 2.0980797, 2.1070844, 2.1001654, 2.0985251, 2.0986, 2.0952309, 2.1886651, 2.1827653, 2.1748632, 2.1812647, 2.1816488, 2.1727325, 2.1883954, 1.9757713, 2.1587506, 1.8375037, 2.1795095, 2.2836781, 1.7707818, 1.9693395, 1.9741889, 1.9693395, 1.9718793, 1.9741889, 1.973805, 1.9690951, 1.9689529, 2.4459769, 2.4898965, 2.1333089, 2.1319336, 2.1296304, 2.1301192, 2.1294406, 1.6294358, 2.1339427, 2.1290217, 2.1290555, 2.131048, 2.1241412, 2.1359911, 2.1256781, 2.121989, 2.126352, 2.0212564, 2.2538281, 2.0293608, 2.2812414, 2.2810499, 2.2847475, 2.2805845, 2.1526361, 2.1571905, 2.272997, 2.1761255, 2.1736146, 2.2169427, 2.1495775, 2.1462409, 2.142695, 2.1446154], \"marker\": {\"color\": \"#636efa\"}, \"mode\": \"markers+text\", \"name\": \"\", \"showlegend\": false, \"subplot\": \"mapbox\", \"text\": [\"Eroski\", \"Alcampo\", \"Petit Preu\", \"Caprabo\", \"Super Pedret\", \"Carrefour Market\", \"Carrefour\", \"Caprabo\", \"Lidl\", \"Caprabo\", \"Bonpreu\", \"Mercadona\", \"Open Cor\", \"Condis\", \"NO NAME\", \"Condis\", \"Carrefour\", \"Caprabo\", \"Alimentacio\", \"Condis\", \"Caprabo\", \"Dia\", \"Schleker\", \"Consum\", \"Caprabo\", \"Condis\", \"Consum\", \"Mercadona\", \"Mercat Ambulant Pla d' en Boet\", \"Mercat privat de Cerdanyola\", \"Mercat privat el Pilar\", \"Mercat Ambulant de Cirera Molins\", \"Ambulant de l' Escorxador\", \"Tapias\", \"Caprabo\", \"NO NAME\", \"Condis\", \"Mercadona\", \"Mercadona\", \"Carrefour\", \"Consum\", \"Dia\", \"Lidl\", \"Condis\", \"Vilagut\", \"Dia\", \"Alcampo\", \"Condis\", \"Sorli Discau\", \"Caprabo\", \"Caprabo\", \"Lidl\", \"Bonpreu\", \"Supercor\", \"Condis\", \"Condis\", \"NO NAME\", \"Suma\", \"Condis\", \"Mercadona\", \"Caprabo\", \"Consum\", \"NO NAME\", \"Caprabo\", \"Mercadona\", \"Condis\", \"Jespac\", \"Condis\", \"NO NAME\", \"Caprabo\", \"Can Serrat\", \"Condis\", \"Condis\", \"Caprabo\", \"Congelats la Sirena\", \"Condis\", \"Caprabo\", \"Dia\", \"Segura\", \"Mercadona\", \"Covir\\u00e1n\", \"Sorli\", \"Mercadona\", \"Paki Pintor Fortuny\", \"Carrefour Market\", \"Caprabo\", \"Bon Area\", \"Mercadona\", \"Can Bassa\", \"Caprabo\", \"Lidl\", \"Aldi\", \"Bonpreu\", \"Congelats la Sirena\", \"Bonpreu\", \"Shlecker\", \"Dia\", \"Consum\", \"Caprabo\", \"Dia\", \"Dia\", \"Supermercat Coaliment\", \"Bon Area\", \"Aldi\", \"Bonpreu\", \"Spar\", \"Dia\", \"Jespac\", \"Mercadona\", \"Dia\", \"Spar\", \"Mercadona\", \"Condis\", \"Consum\", \"Barnasud\", \"Condis\", \"Mercadona\", \"Consum\", \"Consum\", \"Consum\", \"Condis\", \"Caprabo\", \"Lidl\", \"Lidl\", \"Mercadona\", \"Condis\", \"Herbodiet\\u00e8tica delasmaravilla\", \"Dia\", \"El Refugi de la Vall\", \"Condis\", \"Bonpreu\", \"Consum\", \"Woki Market\", \"OpenCor\", \"Spar\", \"Jespac Supermercats\", \"OpenCor\", \"Mercadona\", \"Condis\", \"Congelats La Sirena\", \"Carrefour\", \"Sorli Discau\", \"Mercadona\", \"mini MIX\", \"supermercat cabrils\", \"Bon Area\", \"Bon Area\", \"Caprabo\", \"Congelats La Sirena\", \"Dia\", \"Condis\", \"Sorli Discau\", \"Casa Evaristo\", \"Mercadona\", \"Condis\", \"Caprabo\", \"NO NAME\", \"Super Casanova\", \"Condis\", \"Mercadona\", \"Mercadona\", \"Dia\", \"Spar\", \"Suma\", \"Condis\", \"Caprabo\", \"Condis\", \"Condis\", \"Condis\", \"NO NAME\", \"proxim\", \"Mercat Villalba\", \"Condis\", \"Bonpreu\", \"Caprabo\", \"Tantiny\\u00e0\", \"Mercadona\", \"Bonpreu\", \"Supermercat Llobet\", \"Spar\", \"Dia\", \"Sorli Discau\", \"Suma\", \"NO NAME\", \"Condis\", \"Dia\", \"Consum\", \"Condis\", \"Consum\", \"Condis\", \"Mercadona\", \"Caprabo\", \"Carrefour Market\", \"Caprabo\", \"Condis\", \"Caprabo\", \"Condis\", \"Dia\", \"Bon Area\", \"Caprabo\", \"Mercadona\", \"Mercadona\", \"Caprabo\", \"Mercadona\", \"Dia Market\", \"Cooperativa de Consum l'Estrella\", \"Condis\", \"NO NAME\", \"Condis\", \"Caprabo\", \"Condis\", \"NO NAME\", \"Dia\", \"Dia\", \"Dia\", \"Dia\", \"Dia\", \"Dia\", \"Opencor\", \"Supermercats J. Rigual\", \"Condis\", \"Distop\", \"Maximer\", \"Tall\\u00f3\", \"Tall\\u00f3\", \"Tall\\u00f3\", \"Bonpreu\", \"Caprabo\", \"Mercadona\", \"Caprabo\", \"Dia\", \"Supermercats JR\", \"Consum\", \"Spar\", \"Condis\", \"Dia\", \"Caprabo\", \"Coaliment\", \"Lidl\", \"Bonpreu\", \"NO NAME\", \"Bonpreu\", \"Dia\", \"Condis\", \"Bon Area\", \"Condis\", \"Dia\", \"Condis\", \"Dia\", \"Bon Area\", \"Mercadona\", \"Condis\", \"Superestalvi\", \"Caprabo\", \"Caprabo\", \"Dia\", \"Caprabo\", \"Jespac\", \"Casa Florentina\", \"Mercavila\", \"Bon Area\", \"NO NAME\", \"Supermercat\", \"Mercadona\", \"Consum\", \"Lidl\", \"NO NAME\", \"NO NAME\", \"Mercadona\", \"Spar\", \"Consum\", \"Sorli Discau\", \"Caprabo\", \"Consum\", \"Mercadona\", \"Condis\", \"Dia\", \"Super Mercat\", \"Mercadona\", \"Condis\", \"Condis\", \"Mercadona\", \"Esclat\", \"Consum\", \"Mercadona\", \"Consum\", \"Caprabo\", \"Condis\", \"Dia\", \"Badul-a-que\", \"Millor Preu\", \"Condis\", \"Supermercat Navarro\", \"Mercadona\", \"Condis\", \"Keisy\", \"Carrefour\", \"Dia\", \"Caprabo\", \"Suma\", \"Mercadona\", \"Hipercor\", \"Sorli\", \"CC Anec Blau\", \"Spar\", \"Condis\", \"Condis\", \"Sorli Discau\", \"Mercadona\", \"Suma\", \"Mercadona\", \"Aldi\", \"Dia\", \"Condis\", \"Jespac Supermercats\", \"Bonpreu\", \"Mercadona\", \"Pozo\", \"Condis\", \"Dia\", \"Caprabo\", \"Condis\", \"Condis\", \"Bio Space\", \"Super Vallcarca\", \"Supermercat Sant Marc\", \"Supercor\", \"Condis\", \"Open Super\", \"Hipermercat Esclat\", \"Bon Area\", \"Caprabo\", \"Coaliment\", \"Supermercats JR\", \"NO NAME\", \"Mercadona\", \"Max Supermercat\", \"Superservis\", \"Kings 24h\", \"Dia\", \"Caprabo\", \"Dia\", \"B.H.G Supermercat del M\\u00f3n\", \"Consum\", \"Suma\", \"MercaNautic\", \"Caprabo\", \"Suma\", \"Bonpreu\", \"Suma\", \"Argenteria\", \"Coaliment\", \"Supermercat Picasso\", \"NO NAME\", \"Lidl\", \"Caprabo\", \"Expobrill\", \"Eurocity\", \"Lidl\", \"keisy\", \"Mercadona\", \"Suma\", \"Bon Area\", \"Condis\", \"Lidl\", \"Lidl\", \"Mercadona\", \"Mercadona\", \"Catalunya Supermercat\", \"Condis\", \"Condis\", \"Bon Area\", \"Dia\", \"Dia\", \"Consum\", \"Super Moyer\", \"Supermercat SuperDrag\\u00f3\", \"Sorli Discau\", \"Condis\", \"Soni\", \"Caprabo\", \"Alimentaci\\u00f3n Egea\", \"Bon Area\", \"Condis\", \"Bonpreu\", \"Bonpreu\", \"Mercadona\", \"Caprabo\", \"Bon Area\", \"Supermercats Sorli Discau\", \"Bon Area\", \"Dia\", \"Alimentaci\\u00f3 La Torra\", \"Consum\", \"Condis\", \"Caprabo\", \"Bonpreu\", \"Bon Area\", \"Mercadona\", \"Condis\", \"Aldi\", \"Condis\", \"Mercadona\", \"Dia\", \"Condis\", \"Condis\", \"Sorli Discau\", \"Sorli Discau\", \"Carrefour Market\", \"rico\", \"Suma\", \"Caprabo\", \"Dia Market\", \"Suma\", \"Fruites I Verdures\", \"Condis\", \"Marcel Herrero Fruteria\", \"La Sirena (Congelados)\", \"Sorli Discau\", \"Consum\", \"Caprabo\", \"Caprabo\", \"Caprabo\", \"Consum\", \"Consum\", \"Can Torreta\", \"Can Torreta\", \"Dia\", \"Bon Area\", \"Dia\", \"Mercadona\", \"Dia\", \"Condis\", \"Sorli Discau\", \"Mercadona\", \"Dia\", \"Suma\", \"Dia Market\", \"Consum\", \"Mercadona\", \"Caprabo\", \"Dia\", \"Supermercat Llobet\", \"Supermercat Schlecker\", \"Spar\", \"Jaime Renobell\", \"Covir\\u00e1n\", \"Mercadona\", \"Sorli discau\", \"Organic vegetables\", \"Dia\", \"Lidl\", \"Condis\", \"Mercadona\", \"A One Mercat\", \"Bon Area\", \"Consum\", \"Condis\", \"mini market\", \"Premmia Mercat\", \"Veritas\", \"NO NAME\", \"NO NAME\", \"Mercadona\", \"Alcampo\", \"Esclat Vic2\", \"Lidl\", \"NO NAME\", \"Mercadona\", \"Caprabo\", \"Condis\", \"Mercadona\", \"Condis\", \"Condis\", \"Super Fresc Supermercat\", \"Dia\", \"Condis\", \"Komesano\", \"Caprabo\", \"Condis\", \"Spar\", \"Caprabo\", \"Condis\", \"Caprabo\", \"Mercadona\", \"Mercadona\", \"Mercadona\", \"Spar\", \"Condis\", \"Pescaderia\", \"Dia\", \"Dia\", \"Condis\", \"Supermercats Legou\", \"Tot Bio Productes Ecologics\", \"Condis\", \"Casa F\\u00edgols\", \"Condis\", \"Condis\", \"Bon Area\", \"NO NAME\", \"Condis\", \"Dia\", \"Dia\", \"Casa Ametller\", \"Caprabo\", \"Dia\", \"Dia\", \"Summa\", \"NO NAME\", \"NO NAME\", \"Condis\", \"Condis\", \"Bon Area\", \"Dia\", \"Aldi\", \"Mallorca\", \"Aldi\", \"Dia\", \"Cooperativa Plana de Vic\", \"Mercadona\", \"Mercadona\", \"Mercadona\", \"Condis\", \"Mercadona\", \"Bonpreu\", \"Esclat\", \"Mercadona\", \"Charter\", \"Caprabo\", \"Mercadona\", \"Mercadona\", \"Condis\", \"Dia\", \"Condis\", \"Keisy\", \"Molsa\", \"Mercadona\", \"Supermercado Bailen\", \"Co Aliment\", \"Caprabo\", \"Superprecio\", \"Supermercat Murcarols\", \"Veritas\", \"Condis\", \"Condis\", \"NO NAME\", \"Caprabo\", \"EcoCentre\", \"Aldi\", \"Condis\", \"Mercadona\", \"Nana La Garriga\", \"Depaso\", \"Mercadona\", \"Veritas\", \"Veritas\", \"Condis\", \"Caprabo\", \"Condis\", \"Consum\", \"Bon Area\", \"Lidl\", \"Mercadona\", \"Lidl\", \"Dia\", \"Lidl\", \"Sorli Discau\", \"Sorli Discau\", \"Caprabo\", \"Condis\", \"Condis\", \"Dia\", \"Bon Area\", \"Condis\", \"Mercadona\", \"Cerca plus\", \"Bonpreu\", \"Mercadona\", \"Condis\", \"Bonpreu\", \"Caprabo\", \"Dia Market\", \"La Botiga del Barri\", \"Gros Mercat Cash & Carry\", \"Condis\", \"Caprabo\", \"La botigueta de Ribes Roges\", \"Casa Gil\", \"Supermercats Jr (2)\", \"El petit rebost\", \"Supermercats Jr\", \"Bon Area\", \"Caprabo\", \"Bon Area\", \"Bon Supermercat\", \"Krakoviak\", \"Veritas\", \"Veritas\", \"Woki Organic Market Pla\\u00e7a Catalunya\", \"Xino\", \"Bon Area\", \"Condis\", \"Llobet\", \"Hiper Galicia\", \"Bonpreu\", \"Solergibert\", \"Dia\", \"Bon Area\", \"NO NAME\", \"Dia\", \"Bon Area\", \"Condis\", \"Caprabo\", \"Mercadona\", \"Spar\", \"Badulake Reig\", \"Dia\", \"Almar\", \"Caprabo\", \"Consum\", \"Dia\", \"Condis\", \"Bon Area\", \"Dia\", \"Dia\", \"opencor\", \"Condis\", \"keisy\", \"EL superLatink\", \"NO NAME\", \"Dia\", \"NO NAME\", \"Suma\", \"Sorli Discau\", \"Scorli Discau\", \"Bonpreu\", \"NO NAME\", \"Charter\", \"Cal Carlets\", \"NO NAME\", \"NO NAME\", \"Llobet\", \"Bonpreu\", \"Spar\", \"Consum\", \"NO NAME\", \"Supermercats Llobet\", \"Petit Preu\", \"Condis\", \"Sorli discau\", \"Condis\", \"Caprabo\", \"SB Supermercat\", \"Carn i Bestiar Prat \\\"Cal Caleio\\\"\", \"Condis\", \"Caprabo\", \"Condis\", \"Bon Area\", \"NO NAME\", \"Caprabo\", \"Jespac\", \"Lidl\", \"Simply Market\", \"Dia\", \"NO NAME\", \"Pasta italiana Fresquitto\", \"Supermercats Jr\", \"Dia\", \"Llobet\", \"Dia\", \"Esclat - Manresa\", \"Queviures Victoria\", \"Mercadona\", \"Consum\", \"Caprabo\", \"Mengem Bages\", \"Mercadona\", \"Mercadona\", \"Suma\", \"Condis\", \"Condis\", \"Herbolari.\", \"Dia\", \"Supermercat Llobet.\", \"Pintures Dom\\u00e8nec. Drogueria.\", \"Veritas\", \"Caprabo\", \"Bon Area\", \"Mercadona\", \"Mercat Municipal La Sinia\", \"Mercadona\", \"Congelados La Sirena\", \"Lidl\", \"Condis\", \"GRA NOA\", \"NO NAME\", \"Bon dia\", \"Veritas\", \"Veritas\", \"Caprabo\", \"Mercadona\", \"Bon Area\", \"Aldi\", \"NO NAME\", \"Carrefour\", \"Alcampo\", \"Food Lion\", \"Honesto\", \"Keisy\", \"Disfruta\", \"Super Verd\", \"Natura Fruts\", \"Holliday\", \"Bon Area\", \"Fresh\", \"Maragall 99\", \"Jespac\", \"NO NAME\", \"Dia\", \"Bon Supermercat\", \"Fruter\\u00eda Primavera\", \"Cermo\", \"Comtal\", \"Condis\", \"Suma\", \"Consum\", \"Mercadona\", \"Bon Area\", \"NO NAME\", \"Veritas\", \"Veritas\", \"Mercadona\", \"Bon Area\", \"Suma\", \"Lidl\", \"Condis\", \"Condis\", \"Dia\", \"Maa Supermercat\", \"Caprabo\", \"Bonpreu\", \"Mercadona\", \"Charter\", \"CoAliment\", \"Supermercat Yangkuang\", \"Condis\", \"Condis\", \"CoAliment\", \"Bonpreu\", \"Punto Fresco\", \"El Graner\", \"Consum\", \"Bon Area\", \"Bonpreu\", \"Cosmo Cash & Carry\", \"Mercat\", \"Mercadona\", \"Organic Market\", \"El call\", \"NO NAME\", \"Condis\", \"Sorli Discau\", \"Consum\", \"Spar\", \"Spar\", \"NO NAME\", \"Carrefour Market\", \"supermercat forn de pa\", \"Carrefour\", \"Bon Area\", \"lo vencill\", \"Condis\", \"Mercat municipal\", \"Condis\", \"Dia\", \"Los Mellizos\", \"Caprabo\", \"Bon Area\", \"The Livingfood\", \"Mercadona\", \"Pr\\u00f3xim Ripollet\", \"Supermercats Juma\", \"Covir\\u00e1n\", \"Bon Area\", \"Bon Area\", \"Tutti Frutti\", \"Comestibles Ropero (CoAliment)\", \"Alimentaci\\u00f3 Pica d'Estats\", \"Condis\", \"Bonpreu\", \"Dia Market\", \"Carnicer\\u00eda Ripollet\", \"Condis\", \"Charter\", \"Bosal Alimentaci\\u00f3\", \"Caprabo\", \"Consum\", \"NO NAME\", \"Jardi Fresco. Fruites i verdures\", \"Eroski\", \"Consum\", \"Consum\", \"Suma\", \"Sorli Discau\", \"Mercadona\", \"Mercadona\", \"Maxi Dia\", \"Spar\", \"Simply Market\", \"Covir\\u00e1n\", \"Charter\", \"Mercadona\", \"Caprabo\", \"Bon Area\", \"Bon Area\", \"De tot al Born\", \"Dia\", \"Caprabo\", \"Mercadona\", \"Condis\", \"Caprabo\", \"Lidl\", \"Condis\", \"Bon Area\", \"Bon Area\", \"Suma\", \"Spar\", \"NO NAME\", \"Awami\", \"Le Regioni d'It\\u00e0lia\", \"Bon\", \"Manjares\", \"Veritas\", \"Condis\", \"Condis\", \"Bonpreu\", \"Caprabo\", \"Mercadona\", \"London supermercat\", \"Panxa Contenta\", \"El picot\\u00ed\", \"Crespo\", \"Mercadona\", \"La Grana Ecol\\u00f2gica\", \"Dia\", \"Llobet\", \"Sorli Discau\", \"Bonpreu\", \"Veritas\", \"Gr\\u00e0cia\", \"S\\u00faper Sant Cugat\", \"Veritas\", \"Pr\\u00f2xim\", \"Qaidre\", \"Alimentaci\\u00f3\", \"Consum\", \"\\u00c0sia\", \"Dong Fang Extremo Oriente\", \"Coaliment\", \"El Pages d'Or\", \"Grans de la Terra\", \"Al gra\", \"BioBarri\", \"Dia\", \"Coaliment\", \"BCN\", \"DEPASO\", \"Autoservei 24 h\", \"Xavi Street Market\", \"Dia\", \"Veritas\", \"Caprabo\", \"Mercadona\", \"Colmado Can Cuy\\u00e1s\", \"Supermercat S.Z.\", \"Casa Ametller\", \"Supermercat Llobet\", \"la Sirena\", \"Suma\", \"Veritas\", \"Ali Alimentaci\\u00f3\", \"Super Afores\", \"2G la granja\", \"Charter\", \"Casa Perris\", \"Cal Blau Sabadell\", \"Dia Market\", \"Caprabo\", \"Bon Area\", \"Mini Mercat\", \"Condis\", \"La Sirena\", \"NO NAME\", \"Supermercat Carnisseria Memhmood\", \"Congelats la Sirena\", \"Dia\", \"Suma\", \"Consum\", \"El Rebost del Pou Calent\", \"Mercadona\", \"NO NAME\", \"Supermercat\", \"Golosinas y helados Eva\", \"Condis\", \"Dia Market\", \"Caprabo\", \"Bon Area\", \"Condis\", \"Rabia Express\", \"Bon Area\", \"Supermercado\", \"Condis\", \"Keisy\", \"express\", \"Caprabo\", \"Supermercats Chaouia\", \"Condis\", \"Lidl\", \"Caprabo\", \"Best Price Supermercat\", \"Dia\", \"Parami\", \"Idoni\", \"M\\u00f4nmas\", \"Supermercado Jiulong\", \"Condis\", \"Tong Yi\", \"Mercadona\", \"Carrefour Market\", \"NO NAME\", \"Sorli Discau\", \"Alimentaci\\u00f3\", \"Covir\\u00e1n\", \"Dia Market\", \"Pr\\u00f3xim\", \"Mercadona\", \"Millor preu (Dusa)\", \"Condis\", \"Condis\", \"Yes Future\", \"Bonpreu\", \"Petit Supermercat Tiana\", \"Condis\", \"Mirza\", \"Dia\", \"Tradys\", \"Caprabo\", \"Suma\", \"Covir\\u00e1n\", \"BOOM\", \"NO NAME\", \"Tandy\", \"Condis\", \"Punt Taronja\", \"Supermercat 24h\", \"Veritas\", \"Summa\", \"Aliments i Comestibles del M\\u00f3n\", \"Ca l'Atmetller\", \"Condis\", \"Spar\", \"Mercadona\", \"Dia\", \"Bon Area\", \"Sorli - Discau\", \"Sorli - Discau\", \"Mercadona\", \"Lidl\", \"Dia Market\", \"Consum\", \"Condis\", \"Molsa\", \"Covir\\u00e1n\", \"Bon Area\", \"Condis\", \"Spar\", \"Carrefour\", \"Big Market\", \"Condis\", \"Spar\", \"NO NAME\", \"Condis\", \"Condis\", \"Sorli\", \"Dani\", \"Suma\", \"veritas\", \"Dia Market\", \"Bon Area\", \"deli\", \"Aldi\", \"Supermercat 2002\", \"Gran Pacific\", \"NO NAME\", \"NO NAME\", \"Bonpreu\", \"Dia\", \"Bonpreu\", \"Condis\", \"Dia Market\", \"Condis\", \"Caprabo\", \"Carrefour\", \"Fruiteria i Verdures\", \"Caprabo\", \"Dia Market\", \"Mercat Orient\", \"Mercadona\", \"Suma\", \"Bon Area\", \"Noor Supermercat\", \"Suma\", \"Condis\", \"Euroland\", \"Juma\", \"Condis\", \"Supermercat Ripollet\", \"GOURMET K2\", \"Super Fruits\", \"NO NAME\", \"Condis\", \"NO NAME\", \"Caprabo\", \"Mercadona\", \"Mercat de la Creu Alta\", \"Mercado Municipal\", \"veritas\", \"Mercadona\", \"Sabors del mon\", \"Lidl\", \"Dia\", \"Dia\", \"Bona Compra\", \"Supermercat Sabadell\", \"24h Supermercat con pan\", \"Ametller Origen\", \"Suma\", \"New supermercat 2013\", \"Comercialdos\", \"OBBIO\", \"Casa Artesa\", \"Consum\", \"Con pan\", \"Caprabo\", \"Dia\", \"Covir\\u00e1n\", \"Condis\", \"Fortuna\", \"Pr\\u00f2xim supermercat\", \"Bonprix\", \"Bonpreu\", \"Sorli\", \"Superservis\", \"Supermercat\", \"Caprabo\", \"Sorli Discau\", \"Dia\", \"Consum\", \"Bon Area\", \"Tokyo-Ya\", \"Mercadona\", \"Ametller Origen\", \"Bonpreu\", \"Bon Area\", \"NO NAME\", \"Graneria sala\", \"Aldi\", \"Mercadona\", \"Dia\", \"Petit Preu\", \"Cal Fruit\\u00f3s\", \"Sorli Discau\", \"Cada D\\u00eda\", \"Bon Area\", \"Caprabo\", \"Bon Area\", \"Mercadona\", \"Dia Market\", \"Jolly Supermarket\", \"Super Cor\", \"Ametller Origen\", \"Ametller Origen\", \"Dia Market\", \"Condis\", \"Mercadona\", \"Taste of America\", \"Superservis\", \"Dia\", \"Supermercado\", \"Sorli Discau\", \"Dusa\", \"Dia Market\", \"Lidl\", \"Mercadona\", \"Supermercat\", \"NO NAME\", \"Condis\", \"Bonpreu\", \"Suma\", \"Condis\", \"Suma\", \"Sorli\", \"Condis\", \"Aldi\", \"NO NAME\", \"Casa Ametller\", \"Euro Supermarket\", \"Casa Espina\", \"Bonpreu\", \"Supermercat Canyameres\", \"Supermercado Carme\", \"Bon Area\", \"Bon Area\", \"Condis\", \"NO NAME\", \"Condis Express\", \"Amarelo\", \"NO NAME\", \"Suma\", \"Dia Market\", \"Mercadona\", \"Sorli Discau\", \"Bonpreu\", \"Condis\", \"NO NAME\", \"Spar\", \"Dia\", \"Lidl\", \"Condis\", \"Condis\", \"Clarel\", \"NO NAME\", \"Bon Area\", \"Sorli Discau\", \"Aldi\", \"Ametller Origen\", \"EuroCity\", \"Maa Supermercat\", \"Coaliment\", \"Pim Pam\", \"Coaliment\", \"Bon Area\", \"Carrefour Market\", \"Cindus Expres\", \"Condis\", \"Caprabo\", \"Dia\", \"NO NAME\", \"Lidl\", \"Sorli Discau\", \"Bruniquer\", \"NO NAME\", \"Condis\", \"Condis\", \"Mercadona\", \"Super\", \"Premmia Mercat\", \"Condis\", \"Lidl\", \"Condis\", \"Consum\", \"Suma\", \"Formatgeria 12 graus\", \"Superestalvi\", \"Bonpreu\", \"Mercadinho Sat\\u00e9lite\", \"Caprabo\", \"Dia Market\", \"Condis\", \"Suma\", \"Plusfresc\", \"Bon Area\", \"Caprabo\", \"Bonpreu\", \"Condis\", \"Sorli discau\", \"Proxim\", \"Condis\", \"Caprabo\", \"Condis\", \"Bon Area\", \"Lidl\", \"Condis\", \"Bonpreu\", \"Molsa Bio Sants\", \"Bon Area\", \"Caprabo\", \"Suma\", \"Supermercat Llobet\", \"Condis\", \"Caprabo\", \"Aldi\", \"Rapid\", \"Spar\", \"Supermercats Jr\", \"Bonpreu\", \"Caprabo\", \"Condis\", \"Bonpreu\", \"Condis\", \"Dia\", \"Bon Area\", \"Supermercats Llobet\", \"Condis\", \"Suma\", \"Es\", \"NO NAME\", \"Samya\", \"New lucky\", \"Lucky's\", \"El rinc\\u00f3n de la abuela venezolana\", \"sorli discau\", \"Consum\", \"Supermercat\", \"Supermercat\", \"Condis\", \"Supermercat\", \"Supermercat\", \"Supercor\", \"Sorli Discau\", \"Mercadona\", \"Mercadona\", \"Taste of America\", \"Express\", \"Aldi\", \"Express\", \"Condis\", \"Supermercat\", \"Caprabo\", \"Consum\", \"Clic\", \"Bon Area\", \"Autoservicio S\\u00faper Loral\", \"Super del Clot\", \"Carcassona\", \"Casa Debasa\", \"Express Supermarket\", \"Charter\", \"Paprika Gourmet\", \"London\", \"Supermercat Pr\\u00f2xim\", \"Alimentaci\\u00f3 L\\u00ednea\", \"Molsa\", \"Condis\", \"Dia\", \"Dia\", \"NO NAME\", \"Caprabo\", \"\\u00c0rea de Guisona\", \"Dia\", \"Condis\", \"Supermercat ZC\", \"Autoservei Creus\", \"Supermercats Martin\", \"Condis\", \"Condis\", \"Dia\", \"Dia\", \"El Br\\u00f2quil del G\\u00f2tic\", \"Spar\", \"Sorli\", \"Bon Area\", \"Lidl\", \"La Colomenca\", \"L&B\", \"Proxim\", \"Dia\", \"Bon Area\", \"Lidl\", \"Teodosio\", \"Caprabo\", \"Bon Area\", \"El Forn\", \"Caprabo\", \"Lidl\", \"Bon Area\", \"Coaliment\", \"Carrefour\", \"NO NAME\", \"Mercadona\", \"Sorli Discau\", \"Consum\", \"Dia\", \"Supermercats Charter\", \"Caprabo\", \"Llobet\", \"Bon Area\", \"Bon Area\", \"Dia\", \"Mercadona\", \"Sorli Discau\", \"Mercadona\", \"Alcampo\", \"Bonpreu\", \"Condis\", \"Veritas\", \"Dia\", \"Bonpreu\", \"Bonpreu\", \"Condis\", \"Condis\", \"Condis\", \"Cal Vidal\", \"Bon Area\", \"Veritas\", \"Consum\", \"Alcampo\", \"Dia\", \"Bonpreu\", \"Caprabo\", \"Bon Area\", \"Condis\", \"Mercadona\", \"Charter\", \"Condis\", \"Sorli Discau\", \"Sorli Discau\", \"Bon Area\", \"Bon Area\", \"Bon Area\", \"Bon Area\", \"Bon Area\", \"Covir\\u00e1n\", \"Consum\", \"Charter\", \"Dia\", \"Dia\", \"Dia\", \"Dia\", \"Dia\", \"Dia\", \"Condis\", \"Condis\", \"Condis\", \"Condis\", \"Condis\", \"Condis\", \"Condis\", \"Condis\", \"Condis\", \"Condis\", \"Sorli Discau\", \"Suma\", \"Kachafruit\", \"Charter\", \"plusfresc\", \"Dia\", \"Dia\", \"Condis\", \"Lidl\", \"Autoservei Almar\", \"Suma\", \"Bon \\u00c0rea\", \"Mercadona\", \"Mercadona\", \"NO NAME\", \"Sorli\", \"Condis\", \"SorliDiscau\", \"Caprabo\", \"Mercadona\", \"Suma\", \"Condis\", \"Mercat de la Sagrada Fam\\u00edlia\", \"Lidl\", \"Consum\", \"Supermercat Suma\", \"Proxim\", \"Condis\", \"Proxim\", \"Condis\", \"Condis\", \"Suma\", \"Caprabo\", \"La Sirena\", \"Consum\", \"Suma\", \"Bon Area\", \"Ametller Origen\", \"Molsa Eco Vita\", \"Condis\", \"Eurocity\", \"FITO NATURA\", \"La Sirena\", \"Sorli Discau\", \"Dia\", \"Supermercat Oriental\", \"Clarel\", \"Proxim\", \"Caprabo\", \"Casa Ametller\", \"La Sirena\", \"Condis\", \"Caprabo\", \"Condis\", \"Condis\", \"Peix i Marisc\", \"Mercadona\", \"Tinc Tot\", \"Soni\", \"Grup la Granja\", \"Condis\", \"Bon Vecino super asiatico\", \"Supermarket 24h\", \"Alcampo\", \"NO NAME\", \"Sorli Discau\", \"Condis express\", \"Skinder Super\"], \"type\": \"scattermapbox\"}],                        {\"legend\": {\"tracegroupgap\": 0}, \"mapbox\": {\"accesstoken\": \"pk.eyJ1IjoiZGFvcnRpIiwiYSI6ImNrZnF6M3FlczA3cDEyem16YTNzZmV4M2EifQ.846iF0sMSAXv0kwkwUTYjg\", \"center\": {\"lat\": 41.416181846382976, \"lon\": 2.0965995212765947}, \"domain\": {\"x\": [0.0, 1.0], \"y\": [0.0, 1.0]}, \"zoom\": 11}, \"margin\": {\"t\": 60}, \"template\": {\"data\": {\"bar\": [{\"error_x\": {\"color\": \"#2a3f5f\"}, \"error_y\": {\"color\": \"#2a3f5f\"}, \"marker\": {\"line\": {\"color\": \"#E5ECF6\", \"width\": 0.5}}, \"type\": \"bar\"}], \"barpolar\": [{\"marker\": {\"line\": {\"color\": \"#E5ECF6\", \"width\": 0.5}}, \"type\": \"barpolar\"}], \"carpet\": [{\"aaxis\": {\"endlinecolor\": \"#2a3f5f\", \"gridcolor\": \"white\", \"linecolor\": \"white\", \"minorgridcolor\": \"white\", \"startlinecolor\": \"#2a3f5f\"}, \"baxis\": {\"endlinecolor\": \"#2a3f5f\", \"gridcolor\": \"white\", \"linecolor\": \"white\", \"minorgridcolor\": \"white\", \"startlinecolor\": \"#2a3f5f\"}, \"type\": \"carpet\"}], \"choropleth\": [{\"colorbar\": {\"outlinewidth\": 0, \"ticks\": \"\"}, \"type\": \"choropleth\"}], \"contour\": [{\"colorbar\": {\"outlinewidth\": 0, \"ticks\": \"\"}, \"colorscale\": [[0.0, \"#0d0887\"], [0.1111111111111111, \"#46039f\"], [0.2222222222222222, \"#7201a8\"], [0.3333333333333333, \"#9c179e\"], [0.4444444444444444, \"#bd3786\"], [0.5555555555555556, \"#d8576b\"], [0.6666666666666666, \"#ed7953\"], [0.7777777777777778, \"#fb9f3a\"], [0.8888888888888888, \"#fdca26\"], [1.0, \"#f0f921\"]], \"type\": \"contour\"}], \"contourcarpet\": [{\"colorbar\": {\"outlinewidth\": 0, \"ticks\": \"\"}, \"type\": \"contourcarpet\"}], \"heatmap\": [{\"colorbar\": {\"outlinewidth\": 0, \"ticks\": \"\"}, \"colorscale\": [[0.0, \"#0d0887\"], [0.1111111111111111, \"#46039f\"], [0.2222222222222222, \"#7201a8\"], [0.3333333333333333, \"#9c179e\"], [0.4444444444444444, \"#bd3786\"], [0.5555555555555556, \"#d8576b\"], [0.6666666666666666, \"#ed7953\"], [0.7777777777777778, \"#fb9f3a\"], [0.8888888888888888, \"#fdca26\"], [1.0, \"#f0f921\"]], \"type\": \"heatmap\"}], \"heatmapgl\": [{\"colorbar\": {\"outlinewidth\": 0, \"ticks\": \"\"}, \"colorscale\": [[0.0, \"#0d0887\"], [0.1111111111111111, \"#46039f\"], [0.2222222222222222, \"#7201a8\"], [0.3333333333333333, \"#9c179e\"], [0.4444444444444444, \"#bd3786\"], [0.5555555555555556, \"#d8576b\"], [0.6666666666666666, \"#ed7953\"], [0.7777777777777778, \"#fb9f3a\"], [0.8888888888888888, \"#fdca26\"], [1.0, \"#f0f921\"]], \"type\": \"heatmapgl\"}], \"histogram\": [{\"marker\": {\"colorbar\": {\"outlinewidth\": 0, \"ticks\": \"\"}}, \"type\": \"histogram\"}], \"histogram2d\": [{\"colorbar\": {\"outlinewidth\": 0, \"ticks\": \"\"}, \"colorscale\": [[0.0, \"#0d0887\"], [0.1111111111111111, \"#46039f\"], [0.2222222222222222, \"#7201a8\"], [0.3333333333333333, \"#9c179e\"], [0.4444444444444444, \"#bd3786\"], [0.5555555555555556, \"#d8576b\"], [0.6666666666666666, \"#ed7953\"], [0.7777777777777778, \"#fb9f3a\"], [0.8888888888888888, \"#fdca26\"], [1.0, \"#f0f921\"]], \"type\": \"histogram2d\"}], \"histogram2dcontour\": [{\"colorbar\": {\"outlinewidth\": 0, \"ticks\": \"\"}, \"colorscale\": [[0.0, \"#0d0887\"], [0.1111111111111111, \"#46039f\"], [0.2222222222222222, \"#7201a8\"], [0.3333333333333333, \"#9c179e\"], [0.4444444444444444, \"#bd3786\"], [0.5555555555555556, \"#d8576b\"], [0.6666666666666666, \"#ed7953\"], [0.7777777777777778, \"#fb9f3a\"], [0.8888888888888888, \"#fdca26\"], [1.0, \"#f0f921\"]], \"type\": \"histogram2dcontour\"}], \"mesh3d\": [{\"colorbar\": {\"outlinewidth\": 0, \"ticks\": \"\"}, \"type\": \"mesh3d\"}], \"parcoords\": [{\"line\": {\"colorbar\": {\"outlinewidth\": 0, \"ticks\": \"\"}}, \"type\": \"parcoords\"}], \"pie\": [{\"automargin\": true, \"type\": \"pie\"}], \"scatter\": [{\"marker\": {\"colorbar\": {\"outlinewidth\": 0, \"ticks\": \"\"}}, \"type\": \"scatter\"}], \"scatter3d\": [{\"line\": {\"colorbar\": {\"outlinewidth\": 0, \"ticks\": \"\"}}, \"marker\": {\"colorbar\": {\"outlinewidth\": 0, \"ticks\": \"\"}}, \"type\": \"scatter3d\"}], \"scattercarpet\": [{\"marker\": {\"colorbar\": {\"outlinewidth\": 0, \"ticks\": \"\"}}, \"type\": \"scattercarpet\"}], \"scattergeo\": [{\"marker\": {\"colorbar\": {\"outlinewidth\": 0, \"ticks\": \"\"}}, \"type\": \"scattergeo\"}], \"scattergl\": [{\"marker\": {\"colorbar\": {\"outlinewidth\": 0, \"ticks\": \"\"}}, \"type\": \"scattergl\"}], \"scattermapbox\": [{\"marker\": {\"colorbar\": {\"outlinewidth\": 0, \"ticks\": \"\"}}, \"type\": \"scattermapbox\"}], \"scatterpolar\": [{\"marker\": {\"colorbar\": {\"outlinewidth\": 0, \"ticks\": \"\"}}, \"type\": \"scatterpolar\"}], \"scatterpolargl\": [{\"marker\": {\"colorbar\": {\"outlinewidth\": 0, \"ticks\": \"\"}}, \"type\": \"scatterpolargl\"}], \"scatterternary\": [{\"marker\": {\"colorbar\": {\"outlinewidth\": 0, \"ticks\": \"\"}}, \"type\": \"scatterternary\"}], \"surface\": [{\"colorbar\": {\"outlinewidth\": 0, \"ticks\": \"\"}, \"colorscale\": [[0.0, \"#0d0887\"], [0.1111111111111111, \"#46039f\"], [0.2222222222222222, \"#7201a8\"], [0.3333333333333333, \"#9c179e\"], [0.4444444444444444, \"#bd3786\"], [0.5555555555555556, \"#d8576b\"], [0.6666666666666666, \"#ed7953\"], [0.7777777777777778, \"#fb9f3a\"], [0.8888888888888888, \"#fdca26\"], [1.0, \"#f0f921\"]], \"type\": \"surface\"}], \"table\": [{\"cells\": {\"fill\": {\"color\": \"#EBF0F8\"}, \"line\": {\"color\": \"white\"}}, \"header\": {\"fill\": {\"color\": \"#C8D4E3\"}, \"line\": {\"color\": \"white\"}}, \"type\": \"table\"}]}, \"layout\": {\"annotationdefaults\": {\"arrowcolor\": \"#2a3f5f\", \"arrowhead\": 0, \"arrowwidth\": 1}, \"coloraxis\": {\"colorbar\": {\"outlinewidth\": 0, \"ticks\": \"\"}}, \"colorscale\": {\"diverging\": [[0, \"#8e0152\"], [0.1, \"#c51b7d\"], [0.2, \"#de77ae\"], [0.3, \"#f1b6da\"], [0.4, \"#fde0ef\"], [0.5, \"#f7f7f7\"], [0.6, \"#e6f5d0\"], [0.7, \"#b8e186\"], [0.8, \"#7fbc41\"], [0.9, \"#4d9221\"], [1, \"#276419\"]], \"sequential\": [[0.0, \"#0d0887\"], [0.1111111111111111, \"#46039f\"], [0.2222222222222222, \"#7201a8\"], [0.3333333333333333, \"#9c179e\"], [0.4444444444444444, \"#bd3786\"], [0.5555555555555556, \"#d8576b\"], [0.6666666666666666, \"#ed7953\"], [0.7777777777777778, \"#fb9f3a\"], [0.8888888888888888, \"#fdca26\"], [1.0, \"#f0f921\"]], \"sequentialminus\": [[0.0, \"#0d0887\"], [0.1111111111111111, \"#46039f\"], [0.2222222222222222, \"#7201a8\"], [0.3333333333333333, \"#9c179e\"], [0.4444444444444444, \"#bd3786\"], [0.5555555555555556, \"#d8576b\"], [0.6666666666666666, \"#ed7953\"], [0.7777777777777778, \"#fb9f3a\"], [0.8888888888888888, \"#fdca26\"], [1.0, \"#f0f921\"]]}, \"colorway\": [\"#636efa\", \"#EF553B\", \"#00cc96\", \"#ab63fa\", \"#FFA15A\", \"#19d3f3\", \"#FF6692\", \"#B6E880\", \"#FF97FF\", \"#FECB52\"], \"font\": {\"color\": \"#2a3f5f\"}, \"geo\": {\"bgcolor\": \"white\", \"lakecolor\": \"white\", \"landcolor\": \"#E5ECF6\", \"showlakes\": true, \"showland\": true, \"subunitcolor\": \"white\"}, \"hoverlabel\": {\"align\": \"left\"}, \"hovermode\": \"closest\", \"mapbox\": {\"style\": \"light\"}, \"paper_bgcolor\": \"white\", \"plot_bgcolor\": \"#E5ECF6\", \"polar\": {\"angularaxis\": {\"gridcolor\": \"white\", \"linecolor\": \"white\", \"ticks\": \"\"}, \"bgcolor\": \"#E5ECF6\", \"radialaxis\": {\"gridcolor\": \"white\", \"linecolor\": \"white\", \"ticks\": \"\"}}, \"scene\": {\"xaxis\": {\"backgroundcolor\": \"#E5ECF6\", \"gridcolor\": \"white\", \"gridwidth\": 2, \"linecolor\": \"white\", \"showbackground\": true, \"ticks\": \"\", \"zerolinecolor\": \"white\"}, \"yaxis\": {\"backgroundcolor\": \"#E5ECF6\", \"gridcolor\": \"white\", \"gridwidth\": 2, \"linecolor\": \"white\", \"showbackground\": true, \"ticks\": \"\", \"zerolinecolor\": \"white\"}, \"zaxis\": {\"backgroundcolor\": \"#E5ECF6\", \"gridcolor\": \"white\", \"gridwidth\": 2, \"linecolor\": \"white\", \"showbackground\": true, \"ticks\": \"\", \"zerolinecolor\": \"white\"}}, \"shapedefaults\": {\"line\": {\"color\": \"#2a3f5f\"}}, \"ternary\": {\"aaxis\": {\"gridcolor\": \"white\", \"linecolor\": \"white\", \"ticks\": \"\"}, \"baxis\": {\"gridcolor\": \"white\", \"linecolor\": \"white\", \"ticks\": \"\"}, \"bgcolor\": \"#E5ECF6\", \"caxis\": {\"gridcolor\": \"white\", \"linecolor\": \"white\", \"ticks\": \"\"}}, \"title\": {\"x\": 0.05}, \"xaxis\": {\"automargin\": true, \"gridcolor\": \"white\", \"linecolor\": \"white\", \"ticks\": \"\", \"title\": {\"standoff\": 15}, \"zerolinecolor\": \"white\", \"zerolinewidth\": 2}, \"yaxis\": {\"automargin\": true, \"gridcolor\": \"white\", \"linecolor\": \"white\", \"ticks\": \"\", \"title\": {\"standoff\": 15}, \"zerolinecolor\": \"white\", \"zerolinewidth\": 2}}}},                        {\"responsive\": true}                    ).then(function(){\n",
       "                            \n",
       "var gd = document.getElementById('7c6d32d8-0ce5-4ea7-9e72-93b6018e7d46');\n",
       "var x = new MutationObserver(function (mutations, observer) {{\n",
       "        var display = window.getComputedStyle(gd).display;\n",
       "        if (!display || display === 'none') {{\n",
       "            console.log([gd, 'removed!']);\n",
       "            Plotly.purge(gd);\n",
       "            observer.disconnect();\n",
       "        }}\n",
       "}});\n",
       "\n",
       "// Listen for the removal of the full notebook cells\n",
       "var notebookContainer = gd.closest('#notebook-container');\n",
       "if (notebookContainer) {{\n",
       "    x.observe(notebookContainer, {childList: true});\n",
       "}}\n",
       "\n",
       "// Listen for the clearing of the current output cell\n",
       "var outputEl = gd.closest('.output');\n",
       "if (outputEl) {{\n",
       "    x.observe(outputEl, {childList: true});\n",
       "}}\n",
       "\n",
       "                        })                };                });            </script>        </div>"
      ]
     },
     "metadata": {},
     "output_type": "display_data"
    }
   ],
   "source": [
    "def pinta_mapa(df):\n",
    "    fig = px.scatter_mapbox(df,\n",
    "                            lat=\"lat\",\n",
    "                            lon=\"lon\",\n",
    "                            text = \"name\",\n",
    "                      color_continuous_scale=px.colors.cyclical.IceFire, size_max=15, zoom=11)\n",
    "    fig.update_layout(\n",
    "        mapbox=dict(\n",
    "            accesstoken=mapbox_access_token\n",
    "        )\n",
    "    )\n",
    "\n",
    "    fig.show()\n",
    "pinta_mapa(df)"
   ]
  }
 ],
 "metadata": {
  "kernelspec": {
   "display_name": "Python 3",
   "language": "python",
   "name": "python3"
  },
  "language_info": {
   "codemirror_mode": {
    "name": "ipython",
    "version": 3
   },
   "file_extension": ".py",
   "mimetype": "text/x-python",
   "name": "python",
   "nbconvert_exporter": "python",
   "pygments_lexer": "ipython3",
   "version": "3.8.3"
  }
 },
 "nbformat": 4,
 "nbformat_minor": 4
}
