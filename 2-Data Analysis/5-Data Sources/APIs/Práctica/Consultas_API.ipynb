{
 "cells": [
  {
   "cell_type": "markdown",
   "metadata": {},
   "source": [
    "# Práctica extracción de datos.\n",
    "\n",
    "El objetivo de esta práctica es descargar todos los datos de una API. La SWAPI tiene mucha información sobre el universo star wars. El objetivo de esta práctica es hacer un código para descargar TODOS los datos de SWAPI, y guardarlos en archivos .csv\n",
    "\n",
    "Puedes usar cualquier link de esta lista para acceder a la API:\n",
    "\n",
    "https://swapi.dev/  \n",
    "http://swapi.tech/  \n",
    "https://swapi.py4e.com/"
   ]
  },
  {
   "cell_type": "markdown",
   "metadata": {},
   "source": []
  }
 ],
 "metadata": {
  "language_info": {
   "name": "python"
  },
  "orig_nbformat": 4
 },
 "nbformat": 4,
 "nbformat_minor": 2
}
