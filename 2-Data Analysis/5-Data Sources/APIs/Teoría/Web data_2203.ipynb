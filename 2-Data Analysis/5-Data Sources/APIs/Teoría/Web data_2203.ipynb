{
 "cells": [
  {
   "cell_type": "markdown",
   "metadata": {
    "colab_type": "text",
    "id": "zWl5iuMThonQ"
   },
   "source": [
    "# Bajando datos de diferentes fuentes. Ejemplos"
   ]
  },
  {
   "cell_type": "markdown",
   "metadata": {
    "colab_type": "text",
    "id": "G8fjA0nyhonR"
   },
   "source": [
    "## Bajar datos de Bicimad"
   ]
  },
  {
   "cell_type": "code",
   "execution_count": 1,
   "metadata": {
    "colab": {},
    "colab_type": "code",
    "id": "4xGwVDZxhonR"
   },
   "outputs": [],
   "source": [
    "# Importamos librerias\n",
    "import requests\n",
    "import zipfile\n",
    "import pandas as pd"
   ]
  },
  {
   "cell_type": "code",
   "execution_count": 2,
   "metadata": {},
   "outputs": [],
   "source": [
    "url = \"https://pbs.twimg.com/profile_images/616689518968762368/rkhjKqNb.jpg\"\n",
    "image = requests.get(url)"
   ]
  },
  {
   "cell_type": "code",
   "execution_count": 3,
   "metadata": {},
   "outputs": [],
   "source": [
    "with open(\"mutenroy.jpg\", 'wb') as f:\n",
    "    f.write(image.content)"
   ]
  },
  {
   "cell_type": "code",
   "execution_count": 6,
   "metadata": {
    "tags": []
   },
   "outputs": [],
   "source": [
    "# https://opendata.emtmadrid.es/getattachment/037ee8a5-b824-43b1-ac7b-76225c783993/201810_Usage_Bicimad.aspx\n",
    "\n",
    "\n",
    "url = 'https://opendata.emtmadrid.es/getattachment/037ee8a5-b824-43b1-ac7b-76225c783993/201810_Usage_Bicimad.aspx'\n",
    "\n",
    "r = requests.get(url)"
   ]
  },
  {
   "cell_type": "code",
   "execution_count": 7,
   "metadata": {},
   "outputs": [
    {
     "data": {
      "text/plain": [
       "b'PK\\x03\\x04\\x14\\x00\\x00\\x00\\x08\\x00'"
      ]
     },
     "execution_count": 7,
     "metadata": {},
     "output_type": "execute_result"
    }
   ],
   "source": [
    "r.content[:10]"
   ]
  },
  {
   "cell_type": "code",
   "execution_count": 8,
   "metadata": {},
   "outputs": [],
   "source": [
    "# Guardamos el zip\n",
    "filename = 'bicis.zip'\n",
    "with open(filename, 'wb') as f:\n",
    "   f.write(r.content)"
   ]
  },
  {
   "cell_type": "code",
   "execution_count": 9,
   "metadata": {
    "colab": {},
    "colab_type": "code",
    "id": "uVRFbVZrhonV"
   },
   "outputs": [],
   "source": [
    "# Extraemos lo que hay dentro\n",
    "filename = 'bicis.zip'\n",
    "with zipfile.ZipFile(filename, 'r') as zip_ref:\n",
    "    zip_ref.extractall(\".\")"
   ]
  },
  {
   "cell_type": "code",
   "execution_count": 10,
   "metadata": {
    "colab": {},
    "colab_type": "code",
    "id": "uNGffwephonX"
   },
   "outputs": [],
   "source": [
    "# Leemos los datos\n",
    "datos_bicis = pd.read_json('201810_Usage_Bicimad.json', lines=True, encoding='latin-1', nrows=10000)"
   ]
  },
  {
   "cell_type": "code",
   "execution_count": 11,
   "metadata": {
    "colab": {
     "base_uri": "https://localhost:8080/",
     "height": 309
    },
    "colab_type": "code",
    "id": "CF9u6xluhonZ",
    "outputId": "2e4e08fe-735e-4d35-ced1-2c83fc2fc743"
   },
   "outputs": [
    {
     "data": {
      "text/html": [
       "<div>\n",
       "<style scoped>\n",
       "    .dataframe tbody tr th:only-of-type {\n",
       "        vertical-align: middle;\n",
       "    }\n",
       "\n",
       "    .dataframe tbody tr th {\n",
       "        vertical-align: top;\n",
       "    }\n",
       "\n",
       "    .dataframe thead th {\n",
       "        text-align: right;\n",
       "    }\n",
       "</style>\n",
       "<table border=\"1\" class=\"dataframe\">\n",
       "  <thead>\n",
       "    <tr style=\"text-align: right;\">\n",
       "      <th></th>\n",
       "      <th>_id</th>\n",
       "      <th>user_day_code</th>\n",
       "      <th>idplug_base</th>\n",
       "      <th>track</th>\n",
       "      <th>user_type</th>\n",
       "      <th>idunplug_base</th>\n",
       "      <th>travel_time</th>\n",
       "      <th>idunplug_station</th>\n",
       "      <th>ageRange</th>\n",
       "      <th>idplug_station</th>\n",
       "      <th>unplug_hourTime</th>\n",
       "      <th>zip_code</th>\n",
       "    </tr>\n",
       "  </thead>\n",
       "  <tbody>\n",
       "    <tr>\n",
       "      <th>0</th>\n",
       "      <td>{'$oid': '5bb83a812f3843232804c20e'}</td>\n",
       "      <td>1744f53ab2816608dbad911cfd86d21d29e2780d8e5436...</td>\n",
       "      <td>18</td>\n",
       "      <td>{'type': 'FeatureCollection', 'features': [{'g...</td>\n",
       "      <td>1</td>\n",
       "      <td>2</td>\n",
       "      <td>312</td>\n",
       "      <td>54</td>\n",
       "      <td>4</td>\n",
       "      <td>133</td>\n",
       "      <td>{'$date': '2018-10-01T01:00:00.000+0200'}</td>\n",
       "      <td>28005</td>\n",
       "    </tr>\n",
       "    <tr>\n",
       "      <th>1</th>\n",
       "      <td>{'$oid': '5bb83a812f3843232804c20f'}</td>\n",
       "      <td>29b46c22d367cb8444170edb870805654b4b126659dadb...</td>\n",
       "      <td>1</td>\n",
       "      <td>{'type': 'FeatureCollection', 'features': [{'g...</td>\n",
       "      <td>1</td>\n",
       "      <td>3</td>\n",
       "      <td>280</td>\n",
       "      <td>1</td>\n",
       "      <td>0</td>\n",
       "      <td>59</td>\n",
       "      <td>{'$date': '2018-10-01T01:00:00.000+0200'}</td>\n",
       "      <td></td>\n",
       "    </tr>\n",
       "    <tr>\n",
       "      <th>2</th>\n",
       "      <td>{'$oid': '5bb83a812f3843232804c211'}</td>\n",
       "      <td>0d80203ef0ffd087c99475a82d370e977f09f0cbda57f7...</td>\n",
       "      <td>1</td>\n",
       "      <td>NaN</td>\n",
       "      <td>1</td>\n",
       "      <td>5</td>\n",
       "      <td>276</td>\n",
       "      <td>64</td>\n",
       "      <td>0</td>\n",
       "      <td>74</td>\n",
       "      <td>{'$date': '2018-10-01T01:00:00.000+0200'}</td>\n",
       "      <td></td>\n",
       "    </tr>\n",
       "    <tr>\n",
       "      <th>3</th>\n",
       "      <td>{'$oid': '5bb83a812f3843232804c212'}</td>\n",
       "      <td>b13348d8847744fd858ce3c14b773682f008792b19c0d6...</td>\n",
       "      <td>8</td>\n",
       "      <td>NaN</td>\n",
       "      <td>3</td>\n",
       "      <td>23</td>\n",
       "      <td>20</td>\n",
       "      <td>129</td>\n",
       "      <td>5</td>\n",
       "      <td>129</td>\n",
       "      <td>{'$date': '2018-10-01T01:00:00.000+0200'}</td>\n",
       "      <td></td>\n",
       "    </tr>\n",
       "    <tr>\n",
       "      <th>4</th>\n",
       "      <td>{'$oid': '5bb83a812f3843232804c213'}</td>\n",
       "      <td>7414495448ddcda88650a9b26203719453467f14c60681...</td>\n",
       "      <td>23</td>\n",
       "      <td>{'type': 'FeatureCollection', 'features': [{'g...</td>\n",
       "      <td>1</td>\n",
       "      <td>20</td>\n",
       "      <td>365</td>\n",
       "      <td>134</td>\n",
       "      <td>3</td>\n",
       "      <td>127</td>\n",
       "      <td>{'$date': '2018-10-01T01:00:00.000+0200'}</td>\n",
       "      <td>28005</td>\n",
       "    </tr>\n",
       "  </tbody>\n",
       "</table>\n",
       "</div>"
      ],
      "text/plain": [
       "                                    _id  \\\n",
       "0  {'$oid': '5bb83a812f3843232804c20e'}   \n",
       "1  {'$oid': '5bb83a812f3843232804c20f'}   \n",
       "2  {'$oid': '5bb83a812f3843232804c211'}   \n",
       "3  {'$oid': '5bb83a812f3843232804c212'}   \n",
       "4  {'$oid': '5bb83a812f3843232804c213'}   \n",
       "\n",
       "                                       user_day_code  idplug_base  \\\n",
       "0  1744f53ab2816608dbad911cfd86d21d29e2780d8e5436...           18   \n",
       "1  29b46c22d367cb8444170edb870805654b4b126659dadb...            1   \n",
       "2  0d80203ef0ffd087c99475a82d370e977f09f0cbda57f7...            1   \n",
       "3  b13348d8847744fd858ce3c14b773682f008792b19c0d6...            8   \n",
       "4  7414495448ddcda88650a9b26203719453467f14c60681...           23   \n",
       "\n",
       "                                               track  user_type  \\\n",
       "0  {'type': 'FeatureCollection', 'features': [{'g...          1   \n",
       "1  {'type': 'FeatureCollection', 'features': [{'g...          1   \n",
       "2                                                NaN          1   \n",
       "3                                                NaN          3   \n",
       "4  {'type': 'FeatureCollection', 'features': [{'g...          1   \n",
       "\n",
       "   idunplug_base  travel_time  idunplug_station  ageRange  idplug_station  \\\n",
       "0              2          312                54         4             133   \n",
       "1              3          280                 1         0              59   \n",
       "2              5          276                64         0              74   \n",
       "3             23           20               129         5             129   \n",
       "4             20          365               134         3             127   \n",
       "\n",
       "                             unplug_hourTime zip_code  \n",
       "0  {'$date': '2018-10-01T01:00:00.000+0200'}    28005  \n",
       "1  {'$date': '2018-10-01T01:00:00.000+0200'}           \n",
       "2  {'$date': '2018-10-01T01:00:00.000+0200'}           \n",
       "3  {'$date': '2018-10-01T01:00:00.000+0200'}           \n",
       "4  {'$date': '2018-10-01T01:00:00.000+0200'}    28005  "
      ]
     },
     "execution_count": 11,
     "metadata": {},
     "output_type": "execute_result"
    }
   ],
   "source": [
    "# Vemos qué pinta tienen\n",
    "datos_bicis.head()"
   ]
  },
  {
   "cell_type": "code",
   "execution_count": 19,
   "metadata": {},
   "outputs": [
    {
     "data": {
      "text/plain": [
       "0           [-3.7085730999999997, 40.4037263]\n",
       "1       [-3.70208899972222, 40.4241232997222]\n",
       "2                                         NaN\n",
       "3                                         NaN\n",
       "4              [-3.6861708, 40.3992920997222]\n",
       "                        ...                  \n",
       "9995           [-3.7012998, 40.4265114997222]\n",
       "9996                                      NaN\n",
       "9997          [-3.70059499972222, 40.4572791]\n",
       "9998                                      NaN\n",
       "9999          [-3.70072799972222, 40.4249105]\n",
       "Name: track, Length: 10000, dtype: object"
      ]
     },
     "execution_count": 19,
     "metadata": {},
     "output_type": "execute_result"
    }
   ],
   "source": [
    "datos_bicis['track'].apply(lambda x: x.get(\"features\", None)[0][\"geometry\"][\"coordinates\"] if type(x) == dict else x)"
   ]
  },
  {
   "cell_type": "markdown",
   "metadata": {},
   "source": [
    "# Acceso a archivos de la pagina de datos.gob.es\n",
    "Uno de los mayores catálogos de información pública descargable en España"
   ]
  },
  {
   "cell_type": "code",
   "execution_count": 9,
   "metadata": {},
   "outputs": [],
   "source": [
    "import requests\n",
    "import pandas as pd"
   ]
  },
  {
   "cell_type": "code",
   "execution_count": 1,
   "metadata": {
    "collapsed": true,
    "jupyter": {
     "outputs_hidden": true
    },
    "tags": []
   },
   "outputs": [],
   "source": [
    "# url = \"https://datos.gob.es/es/catalogo/ea0003337-principales-indicadores-de-sostenibilidad1.json\"\n",
    "\n",
    "# url = \"https://data.renfe.com/dataset/928d911e-00ca-437b-be3f-068fc1f97800/resource/63d285e8-9f52-410b-8412-8a8c26f5ddb3/download/consumo-de-agua-y-materiales.csv\"\n",
    "# url = \"https://estadisticas.mecd.gob.es/EducaJaxiPx/files/_px/es/csv_c/Universitaria/Financiacion_gasto/2018/ingresos/l0/Pres_Ingr_PrevDRN_CA.px\"\n",
    "# datos = pd.read_csv(url, )\n",
    "# datos"
   ]
  },
  {
   "cell_type": "code",
   "execution_count": 41,
   "metadata": {},
   "outputs": [
    {
     "name": "stdout",
     "output_type": "stream",
     "text": [
      "200\n"
     ]
    }
   ],
   "source": [
    "url_base = \"https://datos.gob.es/apidata\"\n",
    "dataset_ep = \"/catalog/dataset\"\n",
    "query_params = \"?_pageSize=200\"\n",
    "\n",
    "url = url_base + dataset_ep + query_params\n",
    "\n",
    "data = requests.get(url)\n",
    "print(data.status_code)\n",
    "data_raw = data.json()"
   ]
  },
  {
   "cell_type": "code",
   "execution_count": 55,
   "metadata": {},
   "outputs": [],
   "source": [
    "def get_one_page(page=0, pagesize=200):\n",
    "    url_base = \"https://datos.gob.es/apidata\"\n",
    "    dataset_ep = \"/catalog/dataset\"\n",
    "    query_params = f\"?_pageSize={pagesize}&_page={page}\"\n",
    "\n",
    "    url = url_base + dataset_ep + query_params\n",
    "\n",
    "    data = requests.get(url)\n",
    "    # print(data.status_code)\n",
    "    data_raw = data.json()\n",
    "\n",
    "    d_datasets = {\"Descripcion\": [], \"URL\": [], \"Formato\": []}\n",
    "\n",
    "    for i, item in enumerate(data_raw[\"result\"][\"items\"]):\n",
    "        # print(i)\n",
    "        try:\n",
    "            d_datasets[\"Descripcion\"].append(item[\"title\"][1][\"_value\"])\n",
    "        except IndexError:\n",
    "            d_datasets[\"Descripcion\"].append(item[\"title\"][0][\"_value\"])\n",
    "\n",
    "        url = item[\"distribution\"]\n",
    "        url = url[0][\"accessURL\"] if type(url) == list else url[\"accessURL\"]\n",
    "        d_datasets[\"URL\"].append(url)\n",
    "\n",
    "        formato = item[\"distribution\"]\n",
    "        formato = formato[0][\"format\"][\"value\"] if type(formato) == list else formato[\"format\"][\"value\"]\n",
    "        d_datasets[\"Formato\"].append(formato)\n",
    "\n",
    "    df_datasets = pd.DataFrame(d_datasets)\n",
    "    return df_datasets"
   ]
  },
  {
   "cell_type": "code",
   "execution_count": 54,
   "metadata": {},
   "outputs": [
    {
     "name": "stdout",
     "output_type": "stream",
     "text": [
      "500\n"
     ]
    },
    {
     "ename": "JSONDecodeError",
     "evalue": "Expecting value: line 1 column 1 (char 0)",
     "output_type": "error",
     "traceback": [
      "\u001b[1;31m---------------------------------------------------------------------------\u001b[0m",
      "\u001b[1;31mJSONDecodeError\u001b[0m                           Traceback (most recent call last)",
      "File \u001b[1;32mc:\\Users\\alber\\AppData\\Local\\Programs\\Python\\Python310\\lib\\site-packages\\requests\\models.py:960\u001b[0m, in \u001b[0;36mResponse.json\u001b[1;34m(self, **kwargs)\u001b[0m\n\u001b[0;32m    959\u001b[0m \u001b[39mtry\u001b[39;00m:\n\u001b[1;32m--> 960\u001b[0m     \u001b[39mreturn\u001b[39;00m complexjson\u001b[39m.\u001b[39mloads(\u001b[39mself\u001b[39m\u001b[39m.\u001b[39mcontent\u001b[39m.\u001b[39mdecode(encoding), \u001b[39m*\u001b[39m\u001b[39m*\u001b[39mkwargs)\n\u001b[0;32m    961\u001b[0m \u001b[39mexcept\u001b[39;00m \u001b[39mUnicodeDecodeError\u001b[39;00m:\n\u001b[0;32m    962\u001b[0m     \u001b[39m# Wrong UTF codec detected; usually because it's not UTF-8\u001b[39;00m\n\u001b[0;32m    963\u001b[0m     \u001b[39m# but some other 8-bit codec.  This is an RFC violation,\u001b[39;00m\n\u001b[0;32m    964\u001b[0m     \u001b[39m# and the server didn't bother to tell us what codec *was*\u001b[39;00m\n\u001b[0;32m    965\u001b[0m     \u001b[39m# used.\u001b[39;00m\n",
      "File \u001b[1;32mc:\\Users\\alber\\AppData\\Local\\Programs\\Python\\Python310\\lib\\json\\__init__.py:346\u001b[0m, in \u001b[0;36mloads\u001b[1;34m(s, cls, object_hook, parse_float, parse_int, parse_constant, object_pairs_hook, **kw)\u001b[0m\n\u001b[0;32m    343\u001b[0m \u001b[39mif\u001b[39;00m (\u001b[39mcls\u001b[39m \u001b[39mis\u001b[39;00m \u001b[39mNone\u001b[39;00m \u001b[39mand\u001b[39;00m object_hook \u001b[39mis\u001b[39;00m \u001b[39mNone\u001b[39;00m \u001b[39mand\u001b[39;00m\n\u001b[0;32m    344\u001b[0m         parse_int \u001b[39mis\u001b[39;00m \u001b[39mNone\u001b[39;00m \u001b[39mand\u001b[39;00m parse_float \u001b[39mis\u001b[39;00m \u001b[39mNone\u001b[39;00m \u001b[39mand\u001b[39;00m\n\u001b[0;32m    345\u001b[0m         parse_constant \u001b[39mis\u001b[39;00m \u001b[39mNone\u001b[39;00m \u001b[39mand\u001b[39;00m object_pairs_hook \u001b[39mis\u001b[39;00m \u001b[39mNone\u001b[39;00m \u001b[39mand\u001b[39;00m \u001b[39mnot\u001b[39;00m kw):\n\u001b[1;32m--> 346\u001b[0m     \u001b[39mreturn\u001b[39;00m _default_decoder\u001b[39m.\u001b[39;49mdecode(s)\n\u001b[0;32m    347\u001b[0m \u001b[39mif\u001b[39;00m \u001b[39mcls\u001b[39m \u001b[39mis\u001b[39;00m \u001b[39mNone\u001b[39;00m:\n",
      "File \u001b[1;32mc:\\Users\\alber\\AppData\\Local\\Programs\\Python\\Python310\\lib\\json\\decoder.py:337\u001b[0m, in \u001b[0;36mJSONDecoder.decode\u001b[1;34m(self, s, _w)\u001b[0m\n\u001b[0;32m    333\u001b[0m \u001b[39m\"\"\"Return the Python representation of ``s`` (a ``str`` instance\u001b[39;00m\n\u001b[0;32m    334\u001b[0m \u001b[39mcontaining a JSON document).\u001b[39;00m\n\u001b[0;32m    335\u001b[0m \n\u001b[0;32m    336\u001b[0m \u001b[39m\"\"\"\u001b[39;00m\n\u001b[1;32m--> 337\u001b[0m obj, end \u001b[39m=\u001b[39m \u001b[39mself\u001b[39;49m\u001b[39m.\u001b[39;49mraw_decode(s, idx\u001b[39m=\u001b[39;49m_w(s, \u001b[39m0\u001b[39;49m)\u001b[39m.\u001b[39;49mend())\n\u001b[0;32m    338\u001b[0m end \u001b[39m=\u001b[39m _w(s, end)\u001b[39m.\u001b[39mend()\n",
      "File \u001b[1;32mc:\\Users\\alber\\AppData\\Local\\Programs\\Python\\Python310\\lib\\json\\decoder.py:355\u001b[0m, in \u001b[0;36mJSONDecoder.raw_decode\u001b[1;34m(self, s, idx)\u001b[0m\n\u001b[0;32m    354\u001b[0m \u001b[39mexcept\u001b[39;00m \u001b[39mStopIteration\u001b[39;00m \u001b[39mas\u001b[39;00m err:\n\u001b[1;32m--> 355\u001b[0m     \u001b[39mraise\u001b[39;00m JSONDecodeError(\u001b[39m\"\u001b[39m\u001b[39mExpecting value\u001b[39m\u001b[39m\"\u001b[39m, s, err\u001b[39m.\u001b[39mvalue) \u001b[39mfrom\u001b[39;00m \u001b[39mNone\u001b[39m\n\u001b[0;32m    356\u001b[0m \u001b[39mreturn\u001b[39;00m obj, end\n",
      "\u001b[1;31mJSONDecodeError\u001b[0m: Expecting value: line 1 column 1 (char 0)",
      "\nDuring handling of the above exception, another exception occurred:\n",
      "\u001b[1;31mJSONDecodeError\u001b[0m                           Traceback (most recent call last)",
      "\u001b[1;32mc:\\Users\\alber\\Documents\\GitHub\\TheBridge\\Cursos\\SVL_DS_Febrero23\\2-Data Analysis\\5-Data Sources\\APIs\\Teoría\\Web data_2203.ipynb Cell 18\u001b[0m in \u001b[0;36m1\n\u001b[1;32m----> <a href='vscode-notebook-cell:/c%3A/Users/alber/Documents/GitHub/TheBridge/Cursos/SVL_DS_Febrero23/2-Data%20Analysis/5-Data%20Sources/APIs/Teor%C3%ADa/Web%20data_2203.ipynb#Y100sZmlsZQ%3D%3D?line=0'>1</a>\u001b[0m get_one_page(\u001b[39m1000000000000\u001b[39;49m)\n",
      "\u001b[1;32mc:\\Users\\alber\\Documents\\GitHub\\TheBridge\\Cursos\\SVL_DS_Febrero23\\2-Data Analysis\\5-Data Sources\\APIs\\Teoría\\Web data_2203.ipynb Cell 18\u001b[0m in \u001b[0;36m1\n\u001b[0;32m      <a href='vscode-notebook-cell:/c%3A/Users/alber/Documents/GitHub/TheBridge/Cursos/SVL_DS_Febrero23/2-Data%20Analysis/5-Data%20Sources/APIs/Teor%C3%ADa/Web%20data_2203.ipynb#Y100sZmlsZQ%3D%3D?line=7'>8</a>\u001b[0m data \u001b[39m=\u001b[39m requests\u001b[39m.\u001b[39mget(url)\n\u001b[0;32m      <a href='vscode-notebook-cell:/c%3A/Users/alber/Documents/GitHub/TheBridge/Cursos/SVL_DS_Febrero23/2-Data%20Analysis/5-Data%20Sources/APIs/Teor%C3%ADa/Web%20data_2203.ipynb#Y100sZmlsZQ%3D%3D?line=8'>9</a>\u001b[0m \u001b[39mprint\u001b[39m(data\u001b[39m.\u001b[39mstatus_code)\n\u001b[1;32m---> <a href='vscode-notebook-cell:/c%3A/Users/alber/Documents/GitHub/TheBridge/Cursos/SVL_DS_Febrero23/2-Data%20Analysis/5-Data%20Sources/APIs/Teor%C3%ADa/Web%20data_2203.ipynb#Y100sZmlsZQ%3D%3D?line=9'>10</a>\u001b[0m data_raw \u001b[39m=\u001b[39m data\u001b[39m.\u001b[39;49mjson()\n\u001b[0;32m     <a href='vscode-notebook-cell:/c%3A/Users/alber/Documents/GitHub/TheBridge/Cursos/SVL_DS_Febrero23/2-Data%20Analysis/5-Data%20Sources/APIs/Teor%C3%ADa/Web%20data_2203.ipynb#Y100sZmlsZQ%3D%3D?line=11'>12</a>\u001b[0m d_datasets \u001b[39m=\u001b[39m {\u001b[39m\"\u001b[39m\u001b[39mDescripcion\u001b[39m\u001b[39m\"\u001b[39m: [], \u001b[39m\"\u001b[39m\u001b[39mURL\u001b[39m\u001b[39m\"\u001b[39m: [], \u001b[39m\"\u001b[39m\u001b[39mFormato\u001b[39m\u001b[39m\"\u001b[39m: []}\n\u001b[0;32m     <a href='vscode-notebook-cell:/c%3A/Users/alber/Documents/GitHub/TheBridge/Cursos/SVL_DS_Febrero23/2-Data%20Analysis/5-Data%20Sources/APIs/Teor%C3%ADa/Web%20data_2203.ipynb#Y100sZmlsZQ%3D%3D?line=13'>14</a>\u001b[0m \u001b[39mfor\u001b[39;00m i, item \u001b[39min\u001b[39;00m \u001b[39menumerate\u001b[39m(data_raw[\u001b[39m\"\u001b[39m\u001b[39mresult\u001b[39m\u001b[39m\"\u001b[39m][\u001b[39m\"\u001b[39m\u001b[39mitems\u001b[39m\u001b[39m\"\u001b[39m]):\n\u001b[0;32m     <a href='vscode-notebook-cell:/c%3A/Users/alber/Documents/GitHub/TheBridge/Cursos/SVL_DS_Febrero23/2-Data%20Analysis/5-Data%20Sources/APIs/Teor%C3%ADa/Web%20data_2203.ipynb#Y100sZmlsZQ%3D%3D?line=14'>15</a>\u001b[0m     \u001b[39m# print(i)\u001b[39;00m\n",
      "File \u001b[1;32mc:\\Users\\alber\\AppData\\Local\\Programs\\Python\\Python310\\lib\\site-packages\\requests\\models.py:968\u001b[0m, in \u001b[0;36mResponse.json\u001b[1;34m(self, **kwargs)\u001b[0m\n\u001b[0;32m    966\u001b[0m             \u001b[39mpass\u001b[39;00m\n\u001b[0;32m    967\u001b[0m         \u001b[39mexcept\u001b[39;00m JSONDecodeError \u001b[39mas\u001b[39;00m e:\n\u001b[1;32m--> 968\u001b[0m             \u001b[39mraise\u001b[39;00m RequestsJSONDecodeError(e\u001b[39m.\u001b[39mmsg, e\u001b[39m.\u001b[39mdoc, e\u001b[39m.\u001b[39mpos)\n\u001b[0;32m    970\u001b[0m \u001b[39mtry\u001b[39;00m:\n\u001b[0;32m    971\u001b[0m     \u001b[39mreturn\u001b[39;00m complexjson\u001b[39m.\u001b[39mloads(\u001b[39mself\u001b[39m\u001b[39m.\u001b[39mtext, \u001b[39m*\u001b[39m\u001b[39m*\u001b[39mkwargs)\n",
      "\u001b[1;31mJSONDecodeError\u001b[0m: Expecting value: line 1 column 1 (char 0)"
     ]
    }
   ],
   "source": [
    "get_one_page(1000000000000)"
   ]
  },
  {
   "cell_type": "code",
   "execution_count": 60,
   "metadata": {},
   "outputs": [],
   "source": [
    "from tqdm import tqdm"
   ]
  },
  {
   "cell_type": "code",
   "execution_count": 61,
   "metadata": {},
   "outputs": [
    {
     "name": "stderr",
     "output_type": "stream",
     "text": [
      "Loading...:  83%|████████▎ | 268/321 [09:52<01:57,  2.21s/it]"
     ]
    },
    {
     "name": "stdout",
     "output_type": "stream",
     "text": [
      "Tiene 269 páginas\n"
     ]
    },
    {
     "name": "stderr",
     "output_type": "stream",
     "text": [
      "\n"
     ]
    }
   ],
   "source": [
    "df = pd.DataFrame({\"Descripcion\": [], \"URL\": [], \"Formato\": []})\n",
    "\n",
    "n_pages = 321\n",
    "for n_page in tqdm(range(n_pages), desc=\"Loading...\"):\n",
    "    try:\n",
    "        df = pd.concat([df, get_one_page(n_page)])\n",
    "    except:\n",
    "        print(f\"Tiene {n_page + 1} páginas\")\n",
    "        break\n",
    "    \n",
    "    # df = df.concat(get_one_page(n_page))"
   ]
  },
  {
   "cell_type": "code",
   "execution_count": 30,
   "metadata": {},
   "outputs": [
    {
     "data": {
      "text/plain": [
       "Descripcion                                 Padrón de habitantes\n",
       "URL            https://datosabiertos.rivasciudad.es/dataset/e...\n",
       "Formato                                         application/json\n",
       "Name: 9, dtype: object"
      ]
     },
     "execution_count": 30,
     "metadata": {},
     "output_type": "execute_result"
    }
   ],
   "source": [
    "df_datasets.loc[9, :]"
   ]
  },
  {
   "cell_type": "code",
   "execution_count": 88,
   "metadata": {},
   "outputs": [],
   "source": [
    "df.to_csv(\"gobdata.csv\", index=False, sep=\";\", encoding=\"utf-8\")"
   ]
  },
  {
   "cell_type": "code",
   "execution_count": 12,
   "metadata": {},
   "outputs": [
    {
     "data": {
      "text/html": [
       "<div>\n",
       "<style scoped>\n",
       "    .dataframe tbody tr th:only-of-type {\n",
       "        vertical-align: middle;\n",
       "    }\n",
       "\n",
       "    .dataframe tbody tr th {\n",
       "        vertical-align: top;\n",
       "    }\n",
       "\n",
       "    .dataframe thead th {\n",
       "        text-align: right;\n",
       "    }\n",
       "</style>\n",
       "<table border=\"1\" class=\"dataframe\">\n",
       "  <thead>\n",
       "    <tr style=\"text-align: right;\">\n",
       "      <th></th>\n",
       "      <th>Unnamed: 0</th>\n",
       "      <th>Abs.</th>\n",
       "      <th>Abs..1</th>\n",
       "      <th>Abs..2</th>\n",
       "      <th>Abs..3</th>\n",
       "      <th>% ver</th>\n",
       "      <th>% ver.1</th>\n",
       "      <th>% ver.2</th>\n",
       "      <th>% ver.3</th>\n",
       "      <th>%</th>\n",
       "    </tr>\n",
       "  </thead>\n",
       "  <tbody>\n",
       "    <tr>\n",
       "      <th>0</th>\n",
       "      <td>Centros residenciales</td>\n",
       "      <td>208.0</td>\n",
       "      <td>87.0</td>\n",
       "      <td>91.0</td>\n",
       "      <td>126.0</td>\n",
       "      <td>1.458523</td>\n",
       "      <td>0.593452</td>\n",
       "      <td>0.605496</td>\n",
       "      <td>0.805781</td>\n",
       "      <td>38.461538</td>\n",
       "    </tr>\n",
       "    <tr>\n",
       "      <th>1</th>\n",
       "      <td>Servicios de respiro y apoyo</td>\n",
       "      <td>122.0</td>\n",
       "      <td>92.0</td>\n",
       "      <td>92.0</td>\n",
       "      <td>122.0</td>\n",
       "      <td>0.855480</td>\n",
       "      <td>0.627558</td>\n",
       "      <td>0.612150</td>\n",
       "      <td>0.780201</td>\n",
       "      <td>32.608696</td>\n",
       "    </tr>\n",
       "    <tr>\n",
       "      <th>2</th>\n",
       "      <td>Centros de día asistenciales</td>\n",
       "      <td>4414.0</td>\n",
       "      <td>4464.0</td>\n",
       "      <td>4452.0</td>\n",
       "      <td>4529.0</td>\n",
       "      <td>30.951546</td>\n",
       "      <td>30.450205</td>\n",
       "      <td>29.622729</td>\n",
       "      <td>28.963356</td>\n",
       "      <td>1.729560</td>\n",
       "    </tr>\n",
       "    <tr>\n",
       "      <th>3</th>\n",
       "      <td>Comedores</td>\n",
       "      <td>558.0</td>\n",
       "      <td>658.0</td>\n",
       "      <td>763.0</td>\n",
       "      <td>896.0</td>\n",
       "      <td>3.912769</td>\n",
       "      <td>4.488404</td>\n",
       "      <td>5.076851</td>\n",
       "      <td>5.729999</td>\n",
       "      <td>17.431193</td>\n",
       "    </tr>\n",
       "    <tr>\n",
       "      <th>4</th>\n",
       "      <td>Otros centros no residenciales</td>\n",
       "      <td>138.0</td>\n",
       "      <td>155.0</td>\n",
       "      <td>179.0</td>\n",
       "      <td>174.0</td>\n",
       "      <td>0.967674</td>\n",
       "      <td>1.057299</td>\n",
       "      <td>1.191031</td>\n",
       "      <td>1.112745</td>\n",
       "      <td>-2.793296</td>\n",
       "    </tr>\n",
       "    <tr>\n",
       "      <th>5</th>\n",
       "      <td>TOTAL PERSONAS MAYORES</td>\n",
       "      <td>5440.0</td>\n",
       "      <td>5456.0</td>\n",
       "      <td>5577.0</td>\n",
       "      <td>5847.0</td>\n",
       "      <td>38.145993</td>\n",
       "      <td>37.216917</td>\n",
       "      <td>37.108257</td>\n",
       "      <td>37.392083</td>\n",
       "      <td>4.841313</td>\n",
       "    </tr>\n",
       "    <tr>\n",
       "      <th>6</th>\n",
       "      <td>Centros residenciales</td>\n",
       "      <td>19.0</td>\n",
       "      <td>14.0</td>\n",
       "      <td>8.0</td>\n",
       "      <td>9.0</td>\n",
       "      <td>0.133230</td>\n",
       "      <td>0.095498</td>\n",
       "      <td>0.053230</td>\n",
       "      <td>0.057556</td>\n",
       "      <td>12.500000</td>\n",
       "    </tr>\n",
       "    <tr>\n",
       "      <th>7</th>\n",
       "      <td>Servicio de respiro y apoyo</td>\n",
       "      <td>NaN</td>\n",
       "      <td>NaN</td>\n",
       "      <td>NaN</td>\n",
       "      <td>NaN</td>\n",
       "      <td>0.000000</td>\n",
       "      <td>0.000000</td>\n",
       "      <td>0.000000</td>\n",
       "      <td>0.000000</td>\n",
       "      <td>NaN</td>\n",
       "    </tr>\n",
       "    <tr>\n",
       "      <th>8</th>\n",
       "      <td>Centros de día</td>\n",
       "      <td>2150.0</td>\n",
       "      <td>2106.0</td>\n",
       "      <td>2188.0</td>\n",
       "      <td>2212.0</td>\n",
       "      <td>15.076082</td>\n",
       "      <td>14.365621</td>\n",
       "      <td>14.558520</td>\n",
       "      <td>14.145936</td>\n",
       "      <td>1.096892</td>\n",
       "    </tr>\n",
       "    <tr>\n",
       "      <th>9</th>\n",
       "      <td>Centros de recuperación y atención</td>\n",
       "      <td>821.0</td>\n",
       "      <td>765.0</td>\n",
       "      <td>778.0</td>\n",
       "      <td>805.0</td>\n",
       "      <td>5.756960</td>\n",
       "      <td>5.218281</td>\n",
       "      <td>5.176658</td>\n",
       "      <td>5.148046</td>\n",
       "      <td>3.470437</td>\n",
       "    </tr>\n",
       "    <tr>\n",
       "      <th>10</th>\n",
       "      <td>Centros de día y ocupacionales</td>\n",
       "      <td>2755.0</td>\n",
       "      <td>2803.0</td>\n",
       "      <td>2955.0</td>\n",
       "      <td>2926.0</td>\n",
       "      <td>19.318421</td>\n",
       "      <td>19.120055</td>\n",
       "      <td>19.661987</td>\n",
       "      <td>18.712029</td>\n",
       "      <td>-0.981387</td>\n",
       "    </tr>\n",
       "    <tr>\n",
       "      <th>11</th>\n",
       "      <td>Centros de inserción laboral</td>\n",
       "      <td>1057.0</td>\n",
       "      <td>1368.0</td>\n",
       "      <td>1183.0</td>\n",
       "      <td>1138.0</td>\n",
       "      <td>7.411822</td>\n",
       "      <td>9.331514</td>\n",
       "      <td>7.871449</td>\n",
       "      <td>7.277611</td>\n",
       "      <td>-3.803888</td>\n",
       "    </tr>\n",
       "    <tr>\n",
       "      <th>12</th>\n",
       "      <td>TOTAL DISCAPACIDAD/ENFERMEDAD</td>\n",
       "      <td>6802.0</td>\n",
       "      <td>7056.0</td>\n",
       "      <td>7112.0</td>\n",
       "      <td>7090.0</td>\n",
       "      <td>47.696515</td>\n",
       "      <td>48.130969</td>\n",
       "      <td>47.321844</td>\n",
       "      <td>45.341178</td>\n",
       "      <td>-0.309336</td>\n",
       "    </tr>\n",
       "    <tr>\n",
       "      <th>13</th>\n",
       "      <td>Centros residenciales menores/familia</td>\n",
       "      <td>NaN</td>\n",
       "      <td>4.0</td>\n",
       "      <td>4.0</td>\n",
       "      <td>4.0</td>\n",
       "      <td>0.000000</td>\n",
       "      <td>0.027285</td>\n",
       "      <td>0.026615</td>\n",
       "      <td>0.025580</td>\n",
       "      <td>NaN</td>\n",
       "    </tr>\n",
       "    <tr>\n",
       "      <th>14</th>\n",
       "      <td>Atención diurna para menores/familia</td>\n",
       "      <td>324.0</td>\n",
       "      <td>364.0</td>\n",
       "      <td>427.0</td>\n",
       "      <td>538.0</td>\n",
       "      <td>2.271930</td>\n",
       "      <td>2.482947</td>\n",
       "      <td>2.841174</td>\n",
       "      <td>3.440558</td>\n",
       "      <td>25.995316</td>\n",
       "    </tr>\n",
       "    <tr>\n",
       "      <th>15</th>\n",
       "      <td>TOTAL MENORES/FAMILIAS</td>\n",
       "      <td>324.0</td>\n",
       "      <td>368.0</td>\n",
       "      <td>431.0</td>\n",
       "      <td>542.0</td>\n",
       "      <td>2.271930</td>\n",
       "      <td>2.510232</td>\n",
       "      <td>2.867789</td>\n",
       "      <td>3.466138</td>\n",
       "      <td>25.754060</td>\n",
       "    </tr>\n",
       "    <tr>\n",
       "      <th>16</th>\n",
       "      <td>Alojamiento y centros residenciales</td>\n",
       "      <td>25.0</td>\n",
       "      <td>23.0</td>\n",
       "      <td>23.0</td>\n",
       "      <td>22.0</td>\n",
       "      <td>0.175303</td>\n",
       "      <td>0.156889</td>\n",
       "      <td>0.153037</td>\n",
       "      <td>0.140692</td>\n",
       "      <td>-4.347826</td>\n",
       "    </tr>\n",
       "    <tr>\n",
       "      <th>17</th>\n",
       "      <td>Centros de día</td>\n",
       "      <td>1197.0</td>\n",
       "      <td>1114.0</td>\n",
       "      <td>1233.0</td>\n",
       "      <td>1328.0</td>\n",
       "      <td>8.393521</td>\n",
       "      <td>7.598909</td>\n",
       "      <td>8.204139</td>\n",
       "      <td>8.492678</td>\n",
       "      <td>7.704785</td>\n",
       "    </tr>\n",
       "    <tr>\n",
       "      <th>18</th>\n",
       "      <td>Comedores sociales</td>\n",
       "      <td>473.0</td>\n",
       "      <td>643.0</td>\n",
       "      <td>653.0</td>\n",
       "      <td>808.0</td>\n",
       "      <td>3.316738</td>\n",
       "      <td>4.386085</td>\n",
       "      <td>4.344933</td>\n",
       "      <td>5.167232</td>\n",
       "      <td>23.736600</td>\n",
       "    </tr>\n",
       "    <tr>\n",
       "      <th>19</th>\n",
       "      <td>TOTAL EXCLUSIÓN</td>\n",
       "      <td>1695.0</td>\n",
       "      <td>1780.0</td>\n",
       "      <td>1909.0</td>\n",
       "      <td>2158.0</td>\n",
       "      <td>11.885562</td>\n",
       "      <td>12.141883</td>\n",
       "      <td>12.702109</td>\n",
       "      <td>13.800601</td>\n",
       "      <td>13.043478</td>\n",
       "    </tr>\n",
       "    <tr>\n",
       "      <th>20</th>\n",
       "      <td>TOTAL</td>\n",
       "      <td>14261.0</td>\n",
       "      <td>14660.0</td>\n",
       "      <td>15029.0</td>\n",
       "      <td>15637.0</td>\n",
       "      <td>100.000000</td>\n",
       "      <td>100.000000</td>\n",
       "      <td>100.000000</td>\n",
       "      <td>100.000000</td>\n",
       "      <td>4.045512</td>\n",
       "    </tr>\n",
       "    <tr>\n",
       "      <th>21</th>\n",
       "      <td>Fuente: OEE DIJPS. Estadística de Servicios So...</td>\n",
       "      <td>NaN</td>\n",
       "      <td>NaN</td>\n",
       "      <td>NaN</td>\n",
       "      <td>NaN</td>\n",
       "      <td>NaN</td>\n",
       "      <td>NaN</td>\n",
       "      <td>NaN</td>\n",
       "      <td>NaN</td>\n",
       "      <td>NaN</td>\n",
       "    </tr>\n",
       "  </tbody>\n",
       "</table>\n",
       "</div>"
      ],
      "text/plain": [
       "                                           Unnamed: 0     Abs.   Abs..1  \\\n",
       "0                               Centros residenciales    208.0     87.0   \n",
       "1                        Servicios de respiro y apoyo    122.0     92.0   \n",
       "2                        Centros de día asistenciales   4414.0   4464.0   \n",
       "3                                           Comedores    558.0    658.0   \n",
       "4                      Otros centros no residenciales    138.0    155.0   \n",
       "5                              TOTAL PERSONAS MAYORES   5440.0   5456.0   \n",
       "6                               Centros residenciales     19.0     14.0   \n",
       "7                         Servicio de respiro y apoyo      NaN      NaN   \n",
       "8                                      Centros de día   2150.0   2106.0   \n",
       "9                  Centros de recuperación y atención    821.0    765.0   \n",
       "10                     Centros de día y ocupacionales   2755.0   2803.0   \n",
       "11                       Centros de inserción laboral   1057.0   1368.0   \n",
       "12                      TOTAL DISCAPACIDAD/ENFERMEDAD   6802.0   7056.0   \n",
       "13              Centros residenciales menores/familia      NaN      4.0   \n",
       "14               Atención diurna para menores/familia    324.0    364.0   \n",
       "15                             TOTAL MENORES/FAMILIAS    324.0    368.0   \n",
       "16                Alojamiento y centros residenciales     25.0     23.0   \n",
       "17                                     Centros de día   1197.0   1114.0   \n",
       "18                                 Comedores sociales    473.0    643.0   \n",
       "19                                    TOTAL EXCLUSIÓN   1695.0   1780.0   \n",
       "20                                              TOTAL  14261.0  14660.0   \n",
       "21  Fuente: OEE DIJPS. Estadística de Servicios So...      NaN      NaN   \n",
       "\n",
       "     Abs..2   Abs..3       % ver     % ver.1     % ver.2     % ver.3  \\\n",
       "0      91.0    126.0    1.458523    0.593452    0.605496    0.805781   \n",
       "1      92.0    122.0    0.855480    0.627558    0.612150    0.780201   \n",
       "2    4452.0   4529.0   30.951546   30.450205   29.622729   28.963356   \n",
       "3     763.0    896.0    3.912769    4.488404    5.076851    5.729999   \n",
       "4     179.0    174.0    0.967674    1.057299    1.191031    1.112745   \n",
       "5    5577.0   5847.0   38.145993   37.216917   37.108257   37.392083   \n",
       "6       8.0      9.0    0.133230    0.095498    0.053230    0.057556   \n",
       "7       NaN      NaN    0.000000    0.000000    0.000000    0.000000   \n",
       "8    2188.0   2212.0   15.076082   14.365621   14.558520   14.145936   \n",
       "9     778.0    805.0    5.756960    5.218281    5.176658    5.148046   \n",
       "10   2955.0   2926.0   19.318421   19.120055   19.661987   18.712029   \n",
       "11   1183.0   1138.0    7.411822    9.331514    7.871449    7.277611   \n",
       "12   7112.0   7090.0   47.696515   48.130969   47.321844   45.341178   \n",
       "13      4.0      4.0    0.000000    0.027285    0.026615    0.025580   \n",
       "14    427.0    538.0    2.271930    2.482947    2.841174    3.440558   \n",
       "15    431.0    542.0    2.271930    2.510232    2.867789    3.466138   \n",
       "16     23.0     22.0    0.175303    0.156889    0.153037    0.140692   \n",
       "17   1233.0   1328.0    8.393521    7.598909    8.204139    8.492678   \n",
       "18    653.0    808.0    3.316738    4.386085    4.344933    5.167232   \n",
       "19   1909.0   2158.0   11.885562   12.141883   12.702109   13.800601   \n",
       "20  15029.0  15637.0  100.000000  100.000000  100.000000  100.000000   \n",
       "21      NaN      NaN         NaN         NaN         NaN         NaN   \n",
       "\n",
       "            %  \n",
       "0   38.461538  \n",
       "1   32.608696  \n",
       "2    1.729560  \n",
       "3   17.431193  \n",
       "4   -2.793296  \n",
       "5    4.841313  \n",
       "6   12.500000  \n",
       "7         NaN  \n",
       "8    1.096892  \n",
       "9    3.470437  \n",
       "10  -0.981387  \n",
       "11  -3.803888  \n",
       "12  -0.309336  \n",
       "13        NaN  \n",
       "14  25.995316  \n",
       "15  25.754060  \n",
       "16  -4.347826  \n",
       "17   7.704785  \n",
       "18  23.736600  \n",
       "19  13.043478  \n",
       "20   4.045512  \n",
       "21        NaN  "
      ]
     },
     "execution_count": 12,
     "metadata": {},
     "output_type": "execute_result"
    }
   ],
   "source": [
    "url = 'https://opendata.euskadi.eus/contenidos/estadistica/tablas_essec_2020/es_tblestad/data/2016-2019_Tablas_es-.xlsx'\n",
    "datos_pvasco = pd.read_excel(url, sheet_name='P3', header=2)\n",
    "datos_pvasco"
   ]
  },
  {
   "cell_type": "code",
   "execution_count": 13,
   "metadata": {},
   "outputs": [],
   "source": [
    "lista_hojas = ['P1','P2','P3']\n",
    "\n",
    "for hoja in lista_hojas:\n",
    "    datos_pvasco = pd.read_excel(url, sheet_name=hoja, header=2)\n",
    "    datos_pvasco.to_csv('Pais_vasco_hoja_' + str(hoja) + '.csv')"
   ]
  },
  {
   "cell_type": "code",
   "execution_count": 16,
   "metadata": {
    "collapsed": true,
    "jupyter": {
     "outputs_hidden": true
    },
    "tags": []
   },
   "outputs": [
    {
     "data": {
      "text/plain": [
       "<AxesSubplot: xlabel='Año', ylabel='Aceites/grasas  (kg)'>"
      ]
     },
     "execution_count": 16,
     "metadata": {},
     "output_type": "execute_result"
    },
    {
     "data": {
      "image/png": "[encoded data removed]",
      "text/plain": [
       "<Figure size 432x288 with 1 Axes>"
      ]
     },
     "metadata": {
      "needs_background": "light"
     },
     "output_type": "display_data"
    }
   ],
   "source": [
    "import seaborn as sns\n",
    "sns.barplot(data = datos, x = 'Año', y = 'Aceites/grasas  (kg)')"
   ]
  },
  {
   "cell_type": "markdown",
   "metadata": {
    "colab_type": "text",
    "id": "GnScDfXghonv"
   },
   "source": [
    "## Bajando datos de la calidad del aire"
   ]
  },
  {
   "cell_type": "markdown",
   "metadata": {
    "colab_type": "text",
    "id": "oQL_gonKhonw",
    "tags": []
   },
   "source": [
    "También existe un dataset en Kaggle, pero vamos a ver un ejemplo"
   ]
  },
  {
   "cell_type": "code",
   "execution_count": 17,
   "metadata": {
    "colab": {},
    "colab_type": "code",
    "id": "OPyVBu24honw"
   },
   "outputs": [],
   "source": [
    "import pandas as pd\n",
    "import requests\n",
    "import io\n",
    "import csv\n",
    "\n",
    "url2 = \"http://www.mambiente.munimadrid.es/opendata/horario.txt\"\n",
    "\n",
    "datos=pd.read_csv(url2, header=None)#.content\n"
   ]
  },
  {
   "cell_type": "code",
   "execution_count": 18,
   "metadata": {
    "colab": {},
    "colab_type": "code",
    "collapsed": true,
    "id": "GTd8NHDLhony",
    "jupyter": {
     "outputs_hidden": true
    },
    "outputId": "bc75b9c6-cd36-4c39-ab2a-63dca3342e7a",
    "tags": []
   },
   "outputs": [
    {
     "data": {
      "text/html": [
       "<div>\n",
       "<style scoped>\n",
       "    .dataframe tbody tr th:only-of-type {\n",
       "        vertical-align: middle;\n",
       "    }\n",
       "\n",
       "    .dataframe tbody tr th {\n",
       "        vertical-align: top;\n",
       "    }\n",
       "\n",
       "    .dataframe thead th {\n",
       "        text-align: right;\n",
       "    }\n",
       "</style>\n",
       "<table border=\"1\" class=\"dataframe\">\n",
       "  <thead>\n",
       "    <tr style=\"text-align: right;\">\n",
       "      <th></th>\n",
       "      <th>0</th>\n",
       "      <th>1</th>\n",
       "      <th>2</th>\n",
       "      <th>3</th>\n",
       "      <th>4</th>\n",
       "      <th>5</th>\n",
       "      <th>6</th>\n",
       "      <th>7</th>\n",
       "      <th>8</th>\n",
       "      <th>9</th>\n",
       "      <th>...</th>\n",
       "      <th>47</th>\n",
       "      <th>48</th>\n",
       "      <th>49</th>\n",
       "      <th>50</th>\n",
       "      <th>51</th>\n",
       "      <th>52</th>\n",
       "      <th>53</th>\n",
       "      <th>54</th>\n",
       "      <th>55</th>\n",
       "      <th>56</th>\n",
       "    </tr>\n",
       "  </thead>\n",
       "  <tbody>\n",
       "    <tr>\n",
       "      <th>0</th>\n",
       "      <td>28</td>\n",
       "      <td>79</td>\n",
       "      <td>4</td>\n",
       "      <td>1</td>\n",
       "      <td>38</td>\n",
       "      <td>2</td>\n",
       "      <td>2022</td>\n",
       "      <td>12</td>\n",
       "      <td>5</td>\n",
       "      <td>1.0</td>\n",
       "      <td>...</td>\n",
       "      <td>0</td>\n",
       "      <td>N</td>\n",
       "      <td>0</td>\n",
       "      <td>N</td>\n",
       "      <td>0</td>\n",
       "      <td>N</td>\n",
       "      <td>0</td>\n",
       "      <td>N</td>\n",
       "      <td>0</td>\n",
       "      <td>N</td>\n",
       "    </tr>\n",
       "    <tr>\n",
       "      <th>1</th>\n",
       "      <td>28</td>\n",
       "      <td>79</td>\n",
       "      <td>4</td>\n",
       "      <td>6</td>\n",
       "      <td>48</td>\n",
       "      <td>2</td>\n",
       "      <td>2022</td>\n",
       "      <td>12</td>\n",
       "      <td>5</td>\n",
       "      <td>0.4</td>\n",
       "      <td>...</td>\n",
       "      <td>0</td>\n",
       "      <td>N</td>\n",
       "      <td>0</td>\n",
       "      <td>N</td>\n",
       "      <td>0</td>\n",
       "      <td>N</td>\n",
       "      <td>0</td>\n",
       "      <td>N</td>\n",
       "      <td>0</td>\n",
       "      <td>N</td>\n",
       "    </tr>\n",
       "    <tr>\n",
       "      <th>2</th>\n",
       "      <td>28</td>\n",
       "      <td>79</td>\n",
       "      <td>4</td>\n",
       "      <td>7</td>\n",
       "      <td>8</td>\n",
       "      <td>2</td>\n",
       "      <td>2022</td>\n",
       "      <td>12</td>\n",
       "      <td>5</td>\n",
       "      <td>9.0</td>\n",
       "      <td>...</td>\n",
       "      <td>0</td>\n",
       "      <td>N</td>\n",
       "      <td>0</td>\n",
       "      <td>N</td>\n",
       "      <td>0</td>\n",
       "      <td>N</td>\n",
       "      <td>0</td>\n",
       "      <td>N</td>\n",
       "      <td>0</td>\n",
       "      <td>N</td>\n",
       "    </tr>\n",
       "    <tr>\n",
       "      <th>3</th>\n",
       "      <td>28</td>\n",
       "      <td>79</td>\n",
       "      <td>4</td>\n",
       "      <td>8</td>\n",
       "      <td>8</td>\n",
       "      <td>2</td>\n",
       "      <td>2022</td>\n",
       "      <td>12</td>\n",
       "      <td>5</td>\n",
       "      <td>50.0</td>\n",
       "      <td>...</td>\n",
       "      <td>0</td>\n",
       "      <td>N</td>\n",
       "      <td>0</td>\n",
       "      <td>N</td>\n",
       "      <td>0</td>\n",
       "      <td>N</td>\n",
       "      <td>0</td>\n",
       "      <td>N</td>\n",
       "      <td>0</td>\n",
       "      <td>N</td>\n",
       "    </tr>\n",
       "    <tr>\n",
       "      <th>4</th>\n",
       "      <td>28</td>\n",
       "      <td>79</td>\n",
       "      <td>4</td>\n",
       "      <td>12</td>\n",
       "      <td>8</td>\n",
       "      <td>2</td>\n",
       "      <td>2022</td>\n",
       "      <td>12</td>\n",
       "      <td>5</td>\n",
       "      <td>64.0</td>\n",
       "      <td>...</td>\n",
       "      <td>0</td>\n",
       "      <td>N</td>\n",
       "      <td>0</td>\n",
       "      <td>N</td>\n",
       "      <td>0</td>\n",
       "      <td>N</td>\n",
       "      <td>0</td>\n",
       "      <td>N</td>\n",
       "      <td>0</td>\n",
       "      <td>N</td>\n",
       "    </tr>\n",
       "    <tr>\n",
       "      <th>...</th>\n",
       "      <td>...</td>\n",
       "      <td>...</td>\n",
       "      <td>...</td>\n",
       "      <td>...</td>\n",
       "      <td>...</td>\n",
       "      <td>...</td>\n",
       "      <td>...</td>\n",
       "      <td>...</td>\n",
       "      <td>...</td>\n",
       "      <td>...</td>\n",
       "      <td>...</td>\n",
       "      <td>...</td>\n",
       "      <td>...</td>\n",
       "      <td>...</td>\n",
       "      <td>...</td>\n",
       "      <td>...</td>\n",
       "      <td>...</td>\n",
       "      <td>...</td>\n",
       "      <td>...</td>\n",
       "      <td>...</td>\n",
       "      <td>...</td>\n",
       "    </tr>\n",
       "    <tr>\n",
       "      <th>129</th>\n",
       "      <td>28</td>\n",
       "      <td>79</td>\n",
       "      <td>60</td>\n",
       "      <td>7</td>\n",
       "      <td>8</td>\n",
       "      <td>2</td>\n",
       "      <td>2022</td>\n",
       "      <td>12</td>\n",
       "      <td>5</td>\n",
       "      <td>3.0</td>\n",
       "      <td>...</td>\n",
       "      <td>0</td>\n",
       "      <td>N</td>\n",
       "      <td>0</td>\n",
       "      <td>N</td>\n",
       "      <td>0</td>\n",
       "      <td>N</td>\n",
       "      <td>0</td>\n",
       "      <td>N</td>\n",
       "      <td>0</td>\n",
       "      <td>N</td>\n",
       "    </tr>\n",
       "    <tr>\n",
       "      <th>130</th>\n",
       "      <td>28</td>\n",
       "      <td>79</td>\n",
       "      <td>60</td>\n",
       "      <td>8</td>\n",
       "      <td>8</td>\n",
       "      <td>2</td>\n",
       "      <td>2022</td>\n",
       "      <td>12</td>\n",
       "      <td>5</td>\n",
       "      <td>49.0</td>\n",
       "      <td>...</td>\n",
       "      <td>0</td>\n",
       "      <td>N</td>\n",
       "      <td>0</td>\n",
       "      <td>N</td>\n",
       "      <td>0</td>\n",
       "      <td>N</td>\n",
       "      <td>0</td>\n",
       "      <td>N</td>\n",
       "      <td>0</td>\n",
       "      <td>N</td>\n",
       "    </tr>\n",
       "    <tr>\n",
       "      <th>131</th>\n",
       "      <td>28</td>\n",
       "      <td>79</td>\n",
       "      <td>60</td>\n",
       "      <td>10</td>\n",
       "      <td>47</td>\n",
       "      <td>2</td>\n",
       "      <td>2022</td>\n",
       "      <td>12</td>\n",
       "      <td>5</td>\n",
       "      <td>11.0</td>\n",
       "      <td>...</td>\n",
       "      <td>0</td>\n",
       "      <td>N</td>\n",
       "      <td>0</td>\n",
       "      <td>N</td>\n",
       "      <td>0</td>\n",
       "      <td>N</td>\n",
       "      <td>0</td>\n",
       "      <td>N</td>\n",
       "      <td>0</td>\n",
       "      <td>N</td>\n",
       "    </tr>\n",
       "    <tr>\n",
       "      <th>132</th>\n",
       "      <td>28</td>\n",
       "      <td>79</td>\n",
       "      <td>60</td>\n",
       "      <td>12</td>\n",
       "      <td>8</td>\n",
       "      <td>2</td>\n",
       "      <td>2022</td>\n",
       "      <td>12</td>\n",
       "      <td>5</td>\n",
       "      <td>53.0</td>\n",
       "      <td>...</td>\n",
       "      <td>0</td>\n",
       "      <td>N</td>\n",
       "      <td>0</td>\n",
       "      <td>N</td>\n",
       "      <td>0</td>\n",
       "      <td>N</td>\n",
       "      <td>0</td>\n",
       "      <td>N</td>\n",
       "      <td>0</td>\n",
       "      <td>N</td>\n",
       "    </tr>\n",
       "    <tr>\n",
       "      <th>133</th>\n",
       "      <td>28</td>\n",
       "      <td>79</td>\n",
       "      <td>60</td>\n",
       "      <td>14</td>\n",
       "      <td>6</td>\n",
       "      <td>2</td>\n",
       "      <td>2022</td>\n",
       "      <td>12</td>\n",
       "      <td>5</td>\n",
       "      <td>12.0</td>\n",
       "      <td>...</td>\n",
       "      <td>0</td>\n",
       "      <td>N</td>\n",
       "      <td>0</td>\n",
       "      <td>N</td>\n",
       "      <td>0</td>\n",
       "      <td>N</td>\n",
       "      <td>0</td>\n",
       "      <td>N</td>\n",
       "      <td>0</td>\n",
       "      <td>N</td>\n",
       "    </tr>\n",
       "  </tbody>\n",
       "</table>\n",
       "<p>134 rows × 57 columns</p>\n",
       "</div>"
      ],
      "text/plain": [
       "     0   1   2   3   4   5     6   7   8     9   ... 47  48 49  50 51  52 53  \\\n",
       "0    28  79   4   1  38   2  2022  12   5   1.0  ...  0   N  0   N  0   N  0   \n",
       "1    28  79   4   6  48   2  2022  12   5   0.4  ...  0   N  0   N  0   N  0   \n",
       "2    28  79   4   7   8   2  2022  12   5   9.0  ...  0   N  0   N  0   N  0   \n",
       "3    28  79   4   8   8   2  2022  12   5  50.0  ...  0   N  0   N  0   N  0   \n",
       "4    28  79   4  12   8   2  2022  12   5  64.0  ...  0   N  0   N  0   N  0   \n",
       "..   ..  ..  ..  ..  ..  ..   ...  ..  ..   ...  ... ..  .. ..  .. ..  .. ..   \n",
       "129  28  79  60   7   8   2  2022  12   5   3.0  ...  0   N  0   N  0   N  0   \n",
       "130  28  79  60   8   8   2  2022  12   5  49.0  ...  0   N  0   N  0   N  0   \n",
       "131  28  79  60  10  47   2  2022  12   5  11.0  ...  0   N  0   N  0   N  0   \n",
       "132  28  79  60  12   8   2  2022  12   5  53.0  ...  0   N  0   N  0   N  0   \n",
       "133  28  79  60  14   6   2  2022  12   5  12.0  ...  0   N  0   N  0   N  0   \n",
       "\n",
       "     54 55  56  \n",
       "0     N  0   N  \n",
       "1     N  0   N  \n",
       "2     N  0   N  \n",
       "3     N  0   N  \n",
       "4     N  0   N  \n",
       "..   .. ..  ..  \n",
       "129   N  0   N  \n",
       "130   N  0   N  \n",
       "131   N  0   N  \n",
       "132   N  0   N  \n",
       "133   N  0   N  \n",
       "\n",
       "[134 rows x 57 columns]"
      ]
     },
     "execution_count": 18,
     "metadata": {},
     "output_type": "execute_result"
    }
   ],
   "source": [
    "datos"
   ]
  },
  {
   "cell_type": "markdown",
   "metadata": {},
   "source": [
    "# APIS"
   ]
  },
  {
   "cell_type": "code",
   "execution_count": 25,
   "metadata": {},
   "outputs": [],
   "source": [
    "# Llamamos a la swapi\n",
    "\n",
    "url_swapi = \"https://swapi.dev/api/starships\"\n",
    "\n",
    "\n",
    "response = requests.get(url_swapi) \n",
    "naves = response.json()\n",
    "\n",
    "naves = naves['results']"
   ]
  },
  {
   "cell_type": "code",
   "execution_count": 31,
   "metadata": {},
   "outputs": [
    {
     "data": {
      "text/plain": [
       "list"
      ]
     },
     "execution_count": 31,
     "metadata": {},
     "output_type": "execute_result"
    }
   ],
   "source": [
    "type(naves)"
   ]
  },
  {
   "cell_type": "code",
   "execution_count": 30,
   "metadata": {},
   "outputs": [
    {
     "name": "stdout",
     "output_type": "stream",
     "text": [
      "CR90 corvette\n",
      "Star Destroyer\n",
      "Sentinel-class landing craft\n",
      "Death Star\n",
      "Millennium Falcon\n",
      "Y-wing\n",
      "X-wing\n",
      "TIE Advanced x1\n",
      "Executor\n",
      "Rebel transport\n"
     ]
    }
   ],
   "source": [
    "for nave in naves:\n",
    "    print(nave['name'])"
   ]
  },
  {
   "cell_type": "code",
   "execution_count": 32,
   "metadata": {},
   "outputs": [],
   "source": [
    "url_swapi = \"https://swapi.dev/api/starships/9/\"\n"
   ]
  },
  {
   "cell_type": "code",
   "execution_count": 37,
   "metadata": {},
   "outputs": [],
   "source": [
    "response = requests.get(url_swapi) \n",
    "naves = response.json()\n"
   ]
  },
  {
   "cell_type": "code",
   "execution_count": 39,
   "metadata": {},
   "outputs": [
    {
     "data": {
      "text/plain": [
       "{'name': 'Death Star',\n",
       " 'model': 'DS-1 Orbital Battle Station',\n",
       " 'manufacturer': 'Imperial Department of Military Research, Sienar Fleet Systems',\n",
       " 'cost_in_credits': '1000000000000',\n",
       " 'length': '120000',\n",
       " 'max_atmosphering_speed': 'n/a',\n",
       " 'crew': '342,953',\n",
       " 'passengers': '843,342',\n",
       " 'cargo_capacity': '1000000000000',\n",
       " 'consumables': '3 years',\n",
       " 'hyperdrive_rating': '4.0',\n",
       " 'MGLT': '10',\n",
       " 'starship_class': 'Deep Space Mobile Battlestation',\n",
       " 'pilots': [],\n",
       " 'films': ['https://swapi.dev/api/films/1/'],\n",
       " 'created': '2014-12-10T16:36:50.509000Z',\n",
       " 'edited': '2014-12-20T21:26:24.783000Z',\n",
       " 'url': 'https://swapi.dev/api/starships/9/'}"
      ]
     },
     "execution_count": 39,
     "metadata": {},
     "output_type": "execute_result"
    }
   ],
   "source": [
    "naves"
   ]
  },
  {
   "cell_type": "code",
   "execution_count": null,
   "metadata": {},
   "outputs": [],
   "source": []
  },
  {
   "cell_type": "markdown",
   "metadata": {},
   "source": [
    "## OpenStreetMap"
   ]
  },
  {
   "cell_type": "code",
   "execution_count": 19,
   "metadata": {},
   "outputs": [
    {
     "name": "stdout",
     "output_type": "stream",
     "text": [
      "<Response [200]>\n"
     ]
    }
   ],
   "source": [
    "# Amenities\n",
    "# https://wiki.openstreetmap.org/wiki/Key:amenity\n",
    "\n",
    "import requests\n",
    "import json\n",
    "import pandas as pd\n",
    "overpass_url = \"http://overpass-api.de/api/interpreter\"\n",
    "\n",
    "overpass_query = \"\"\"\n",
    "[out:json];\n",
    "node[\"amenity\"=\"cafe\"]\n",
    "  (40.420801, -3.694702,40.423754, -3.688167); \n",
    "out;\n",
    "\"\"\"\n",
    "response = requests.get(overpass_url, \n",
    "                        params={'data': overpass_query})\n",
    "print(response)\n",
    "data = response.json()"
   ]
  },
  {
   "cell_type": "code",
   "execution_count": 20,
   "metadata": {
    "collapsed": true,
    "jupyter": {
     "outputs_hidden": true
    },
    "tags": []
   },
   "outputs": [
    {
     "data": {
      "text/plain": [
       "{'version': 0.6,\n",
       " 'generator': 'Overpass API 0.7.59 e21c39fe',\n",
       " 'osm3s': {'timestamp_osm_base': '2022-12-05T18:42:08Z',\n",
       "  'copyright': 'The data included in this document is from www.openstreetmap.org. The data is made available under ODbL.'},\n",
       " 'elements': [{'type': 'node',\n",
       "   'id': 2977298934,\n",
       "   'lat': 40.4210523,\n",
       "   'lon': -3.689841,\n",
       "   'tags': {'addr:city': 'Madrid',\n",
       "    'addr:housenumber': '4',\n",
       "    'addr:street': 'Calle de Villalar',\n",
       "    'amenity': 'cafe',\n",
       "    'cuisine': 'regional',\n",
       "    'internet_access': 'yes',\n",
       "    'name': 'Café Villalar',\n",
       "    'payment:bitcoin': 'yes',\n",
       "    'website': 'http://www.cafevillalar.com/'}},\n",
       "  {'type': 'node',\n",
       "   'id': 3426617375,\n",
       "   'lat': 40.4221948,\n",
       "   'lon': -3.6923421,\n",
       "   'tags': {'amenity': 'cafe',\n",
       "    'name': 'Gran Café Gijón',\n",
       "    'phone': '+34 915 215 425',\n",
       "    'website': 'https://cafegijon.com/',\n",
       "    'wikidata': 'Q1025608',\n",
       "    'wikipedia': 'es:Café Gijón'}},\n",
       "  {'type': 'node',\n",
       "   'id': 4703448419,\n",
       "   'lat': 40.4229908,\n",
       "   'lon': -3.6936524,\n",
       "   'tags': {'addr:city': 'Madrid',\n",
       "    'addr:housenumber': '6',\n",
       "    'addr:postcode': '28004',\n",
       "    'addr:street': 'Calle del Marqués de Monasterio',\n",
       "    'amenity': 'cafe',\n",
       "    'contact:facebook': 'https://www.facebook.com/hermanasae',\n",
       "    'contact:instagram': 'https://www.instagram.com/hermanasarce/',\n",
       "    'cuisine': 'cake',\n",
       "    'disused:amenity': 'restaurant',\n",
       "    'name': 'Hermanas Arce',\n",
       "    'old_name': 'Noteolvides',\n",
       "    'opening_hours': 'Tu, We 09:00-17:00; Th, Fr 09:00-17:30; Sa 09:30-17:30'}},\n",
       "  {'type': 'node',\n",
       "   'id': 4778747544,\n",
       "   'lat': 40.4223247,\n",
       "   'lon': -3.6909735,\n",
       "   'tags': {'addr:city': 'Madrid',\n",
       "    'addr:housenumber': '1',\n",
       "    'addr:postcode': '28001',\n",
       "    'addr:street': 'Calle de Recoletos',\n",
       "    'amenity': 'cafe',\n",
       "    'brand': 'Santagloria',\n",
       "    'brand:wikidata': 'Q54606497',\n",
       "    'contact:phone': '+34 914319000',\n",
       "    'contact:website': 'https://www.santagloria.com',\n",
       "    'name': 'Santagloria',\n",
       "    'shop': 'bakery'}},\n",
       "  {'type': 'node',\n",
       "   'id': 9207850217,\n",
       "   'lat': 40.4218751,\n",
       "   'lon': -3.6901227,\n",
       "   'tags': {'amenity': 'cafe', 'name': 'masticar'}}]}"
      ]
     },
     "execution_count": 20,
     "metadata": {},
     "output_type": "execute_result"
    }
   ],
   "source": [
    "data"
   ]
  },
  {
   "cell_type": "code",
   "execution_count": 40,
   "metadata": {},
   "outputs": [
    {
     "data": {
      "text/plain": [
       "dict_keys(['version', 'generator', 'osm3s', 'elements'])"
      ]
     },
     "execution_count": 40,
     "metadata": {},
     "output_type": "execute_result"
    }
   ],
   "source": [
    "data.keys()"
   ]
  },
  {
   "cell_type": "code",
   "execution_count": 41,
   "metadata": {},
   "outputs": [
    {
     "data": {
      "text/plain": [
       "{'timestamp_osm_base': '2022-12-05T18:42:08Z',\n",
       " 'copyright': 'The data included in this document is from www.openstreetmap.org. The data is made available under ODbL.'}"
      ]
     },
     "execution_count": 41,
     "metadata": {},
     "output_type": "execute_result"
    }
   ],
   "source": [
    "data.get('osm3s')"
   ]
  },
  {
   "cell_type": "code",
   "execution_count": 42,
   "metadata": {},
   "outputs": [
    {
     "data": {
      "text/plain": [
       "{'timestamp_osm_base': '2022-12-05T18:42:08Z',\n",
       " 'copyright': 'The data included in this document is from www.openstreetmap.org. The data is made available under ODbL.'}"
      ]
     },
     "execution_count": 42,
     "metadata": {},
     "output_type": "execute_result"
    }
   ],
   "source": [
    "data['osm3s']"
   ]
  },
  {
   "cell_type": "code",
   "execution_count": 43,
   "metadata": {},
   "outputs": [
    {
     "data": {
      "text/plain": [
       "'The data included in this document is from www.openstreetmap.org. The data is made available under ODbL.'"
      ]
     },
     "execution_count": 43,
     "metadata": {},
     "output_type": "execute_result"
    }
   ],
   "source": [
    "data['osm3s']['copyright']"
   ]
  },
  {
   "cell_type": "code",
   "execution_count": 44,
   "metadata": {},
   "outputs": [
    {
     "data": {
      "text/plain": [
       "'Calle de Villalar'"
      ]
     },
     "execution_count": 44,
     "metadata": {},
     "output_type": "execute_result"
    }
   ],
   "source": [
    "data['elements'][0].get('tags').get('addr:street', 34)"
   ]
  },
  {
   "cell_type": "code",
   "execution_count": 45,
   "metadata": {},
   "outputs": [
    {
     "name": "stdout",
     "output_type": "stream",
     "text": [
      "{'type': 'node', 'id': 2977298934, 'lat': 40.4210523, 'lon': -3.689841, 'tags': {'addr:city': 'Madrid', 'addr:housenumber': '4', 'addr:street': 'Calle de Villalar', 'amenity': 'cafe', 'cuisine': 'regional', 'internet_access': 'yes', 'name': 'Café Villalar', 'payment:bitcoin': 'yes', 'website': 'http://www.cafevillalar.com/'}}\n",
      "{'type': 'node', 'id': 3426617375, 'lat': 40.4221948, 'lon': -3.6923421, 'tags': {'amenity': 'cafe', 'name': 'Gran Café Gijón', 'phone': '+34 915 215 425', 'website': 'https://cafegijon.com/', 'wikidata': 'Q1025608', 'wikipedia': 'es:Café Gijón'}}\n",
      "{'type': 'node', 'id': 4703448419, 'lat': 40.4229908, 'lon': -3.6936524, 'tags': {'addr:city': 'Madrid', 'addr:housenumber': '6', 'addr:postcode': '28004', 'addr:street': 'Calle del Marqués de Monasterio', 'amenity': 'cafe', 'contact:facebook': 'https://www.facebook.com/hermanasae', 'contact:instagram': 'https://www.instagram.com/hermanasarce/', 'cuisine': 'cake', 'disused:amenity': 'restaurant', 'name': 'Hermanas Arce', 'old_name': 'Noteolvides', 'opening_hours': 'Tu, We 09:00-17:00; Th, Fr 09:00-17:30; Sa 09:30-17:30'}}\n",
      "{'type': 'node', 'id': 4778747544, 'lat': 40.4223247, 'lon': -3.6909735, 'tags': {'addr:city': 'Madrid', 'addr:housenumber': '1', 'addr:postcode': '28001', 'addr:street': 'Calle de Recoletos', 'amenity': 'cafe', 'brand': 'Santagloria', 'brand:wikidata': 'Q54606497', 'contact:phone': '+34 914319000', 'contact:website': 'https://www.santagloria.com', 'name': 'Santagloria', 'shop': 'bakery'}}\n",
      "{'type': 'node', 'id': 9207850217, 'lat': 40.4218751, 'lon': -3.6901227, 'tags': {'amenity': 'cafe', 'name': 'masticar'}}\n"
     ]
    }
   ],
   "source": [
    "for element in data['elements']:\n",
    "    print(element)"
   ]
  },
  {
   "cell_type": "code",
   "execution_count": 46,
   "metadata": {
    "collapsed": true,
    "jupyter": {
     "outputs_hidden": true
    },
    "tags": []
   },
   "outputs": [],
   "source": [
    "def json_to_dataframe(data_entrada):\n",
    "    elements = data_entrada['elements']\n",
    "    places = {'lat': [], 'lon': [], 'name': [], 'address': []}\n",
    "\n",
    "    for i in elements:\n",
    "        lalitude = i['lat']\n",
    "        longitude = i['lon']\n",
    "        name = i['tags'].get('name')\n",
    "        street = i['tags'].get('addr:street', 'Calle x')\n",
    "        number = i['tags'].get('addr:housenumber', 999)\n",
    "        \n",
    "        places['lat'].append(lalitude)\n",
    "        places['lon'].append(longitude)\n",
    "        places['name'].append(name)\n",
    "        places['address'].append(str(street) + ' ' + str(number))\n",
    "\n",
    "    df = pd.DataFrame(places)\n",
    "    return df"
   ]
  },
  {
   "cell_type": "code",
   "execution_count": 47,
   "metadata": {},
   "outputs": [
    {
     "ename": "NameError",
     "evalue": "name 'data1' is not defined",
     "output_type": "error",
     "traceback": [
      "\u001b[0;31m---------------------------------------------------------------------------\u001b[0m",
      "\u001b[0;31mNameError\u001b[0m                                 Traceback (most recent call last)",
      "\u001b[1;32m/home/carlos/thebridge/repos/DSPT_TBS_SVL_0922/2-Data Analytics/5-Sources/2 - Web/Teoría/Web data.ipynb Celda 42\u001b[0m in \u001b[0;36m<cell line: 1>\u001b[0;34m()\u001b[0m\n\u001b[0;32m----> <a href='vscode-notebook-cell:/home/carlos/thebridge/repos/DSPT_TBS_SVL_0922/2-Data%20Analytics/5-Sources/2%20-%20Web/Teor%C3%ADa/Web%20data.ipynb#X50sZmlsZQ%3D%3D?line=0'>1</a>\u001b[0m lista_responses \u001b[39m=\u001b[39m [data1, data2, data3, data4]\n\u001b[1;32m      <a href='vscode-notebook-cell:/home/carlos/thebridge/repos/DSPT_TBS_SVL_0922/2-Data%20Analytics/5-Sources/2%20-%20Web/Teor%C3%ADa/Web%20data.ipynb#X50sZmlsZQ%3D%3D?line=1'>2</a>\u001b[0m \u001b[39mfor\u001b[39;00m data \u001b[39min\u001b[39;00m lista_responses:\n\u001b[1;32m      <a href='vscode-notebook-cell:/home/carlos/thebridge/repos/DSPT_TBS_SVL_0922/2-Data%20Analytics/5-Sources/2%20-%20Web/Teor%C3%ADa/Web%20data.ipynb#X50sZmlsZQ%3D%3D?line=2'>3</a>\u001b[0m     df_return \u001b[39m=\u001b[39m json_to_dataframe(data)\n",
      "\u001b[0;31mNameError\u001b[0m: name 'data1' is not defined"
     ]
    }
   ],
   "source": [
    "lista_responses = [data1, data2, data3, data4]\n",
    "for data in lista_responses:\n",
    "    df_return = json_to_dataframe(data)\n",
    "    df_results = df_results.concat(df_return)"
   ]
  },
  {
   "cell_type": "code",
   "execution_count": null,
   "metadata": {},
   "outputs": [],
   "source": [
    "places"
   ]
  }
 ],
 "metadata": {
  "colab": {
   "name": "1-DataAccess.ipynb",
   "provenance": []
  },
  "kernelspec": {
   "display_name": "Python 3.8.10 64-bit",
   "language": "python",
   "name": "python3"
  },
  "language_info": {
   "codemirror_mode": {
    "name": "ipython",
    "version": 3
   },
   "file_extension": ".py",
   "mimetype": "text/x-python",
   "name": "python",
   "nbconvert_exporter": "python",
   "pygments_lexer": "ipython3",
   "version": "3.10.8"
  },
  "vscode": {
   "interpreter": {
    "hash": "31f2aee4e71d21fbe5cf8b01ff0e069b9275f58929596ceb00d14d90e3e16cd6"
   }
  }
 },
 "nbformat": 4,
 "nbformat_minor": 4
}
