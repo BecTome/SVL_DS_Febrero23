{
 "cells": [
  {
   "cell_type": "markdown",
   "metadata": {},
   "source": [
    "![imagen](./img/ejercicios.png)"
   ]
  },
  {
   "cell_type": "markdown",
   "metadata": {},
   "source": [
    "# Ejercicios Álgebra\n",
    "## Ecuaciones lineales\n",
    "Para la resolución de ejercicios tendrás que usar la función `linalg.solve` del módulo `numpy`:\n",
    "\n",
    "```Python\n",
    "A = np.array([[a, b],\n",
    "              [c, d]])\n",
    "\n",
    "b = np.array([e, f])\n",
    "\n",
    "x = np.linalg.solve(A, b)\n",
    "\n",
    "```"
   ]
  },
  {
   "cell_type": "markdown",
   "metadata": {},
   "source": [
    "### Ejercicio 1\n",
    "Encontrar dos números cuya suma sea 45 y cuya resta sea 21."
   ]
  },
  {
   "cell_type": "code",
   "execution_count": null,
   "metadata": {},
   "outputs": [],
   "source": []
  },
  {
   "cell_type": "markdown",
   "metadata": {},
   "source": [
    "### Ejercicio 2\n",
    "Hallar un número de dos cifras sabiendo que la suma de las cifras es 12 y que la primera de ellas es el triple de la segunda."
   ]
  },
  {
   "cell_type": "code",
   "execution_count": null,
   "metadata": {},
   "outputs": [],
   "source": []
  },
  {
   "cell_type": "markdown",
   "metadata": {},
   "source": [
    "### Ejercicio 3\n",
    "Alberto y su padre se llevan 25 años de edad. Calcular la edad de Alberto sabiendo que dentro de 15 años la edad de su padre será el doble que la suya."
   ]
  },
  {
   "cell_type": "code",
   "execution_count": null,
   "metadata": {},
   "outputs": [],
   "source": []
  },
  {
   "cell_type": "markdown",
   "metadata": {},
   "source": [
    "### Ejercicio 4\n",
    "Hallar un número de tres cifras sabiendo que la suma de sus cifras es 11, que la suma de la primera y la tercera cifra es 5 y que la segunda cifra es el doble de la tercera."
   ]
  },
  {
   "cell_type": "code",
   "execution_count": null,
   "metadata": {},
   "outputs": [],
   "source": []
  },
  {
   "cell_type": "markdown",
   "metadata": {},
   "source": [
    "### Ejercicion 5\n",
    "En un aula, la asignatura de gimnasia la han aprobado el 62,5% de las alumnas y el 80% de los alumnos, mientras que la asignatura de historia la han aprobado 87,5% de las alumnas y el 60% de los alumnos:\n",
    "\n",
    "| |Gimnasia|Historia|\n",
    "|----|----|----|\n",
    "|Alumnas|62,5%|87,5%|\n",
    "|Alumnos|80%|60%|\n",
    "|Total|26|26|"
   ]
  },
  {
   "cell_type": "code",
   "execution_count": null,
   "metadata": {},
   "outputs": [],
   "source": []
  }
 ],
 "metadata": {
  "kernelspec": {
   "display_name": "Python 3",
   "language": "python",
   "name": "python3"
  },
  "language_info": {
   "codemirror_mode": {
    "name": "ipython",
    "version": 3
   },
   "file_extension": ".py",
   "mimetype": "text/x-python",
   "name": "python",
   "nbconvert_exporter": "python",
   "pygments_lexer": "ipython3",
   "version": "3.8.3"
  }
 },
 "nbformat": 4,
 "nbformat_minor": 4
}
