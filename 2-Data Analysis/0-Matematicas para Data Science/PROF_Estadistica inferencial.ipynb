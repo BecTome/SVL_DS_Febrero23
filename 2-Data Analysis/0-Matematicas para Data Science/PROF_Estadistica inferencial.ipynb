{
 "cells": [
  {
   "cell_type": "markdown",
   "metadata": {},
   "source": [
    "\n",
    "\n",
    "* Introduccioin al sampling\n",
    "* Que es la inferencia estadistica: poblacion/parametro/muestra... Parámetros vs estadísticos\n",
    "* Tipos de muestreo: aleatorio, estratificado, boostrapping\n",
    "* ¿Qué es la distribución muestral?\n",
    "* Qué es un sesgo?\n",
    "* Dos teoremas importantes:\n",
    "    * Ley de los grandes numeros\n",
    "    * Teorema central del límite\n",
    "* Bootstrapping\n",
    "* Intervalos de confianza\n",
    "* Test de hipótesis\n",
    "* ¿Qué es un p-value?\n",
    "   \n"
   ]
  },
  {
   "cell_type": "markdown",
   "metadata": {},
   "source": [
    "# Estadística inferencial\n",
    "**Se llama estadística inferencial o inferencia estadística a la rama de la Estadística encargada de hacer deducciones, es decir, inferir propiedades**, conclusiones y tendencias, a partir de una muestra del conjunto. Su papel es interpretar, hacer proyecciones y comparaciones.\n",
    "\n",
    "## Muestreo\n",
    "![alt text](https://upload.wikimedia.org/wikipedia/commons/b/bf/Simple_random_sampling.PNG)\n",
    "\n",
    "Dado que rara vez tendremos el conjunto de la población para realizar suposiciones, partiremos de una muestra, **una porción de la población, sobre la que trabajaremos con estadísticos para poder llevar a cabo inferencias acerca de los parámetros del conjunto de la población.**\n",
    "\n",
    "Es muy difícil contar con el total de la población para realizar estudios. Muchas veces por motivos económicos, razones prácticas, o porque simplemente por la naturaleza del problema no es necesario.\n",
    "\n",
    "Por ejemplo, ya que es imposible tener los datos de todas las personas que han tenido sanidad publica, tomaremos una muestra significativa de los datos y generalizaremos para el resto de la población los parámetros de estudio.\n",
    "\n",
    "Los conceptos más importantes del muestreo son:\n",
    "\n",
    "* **Población**: conjunto de individuos de interés\n",
    "\n",
    "* **Parámetro**: número que describe alguna característica de la población.\n",
    "\n",
    "* **Muestra**: subconjunto de la población.\n",
    "\n",
    "* **Estadístico**: número que se calcula a partir de los datos de una muestra\n",
    "\n",
    "![imagen](./img/poblac_muestra.jpg)\n",
    "\n",
    "\n",
    "#### Notación del muestreo\n",
    "![imagen](./img/parameters.png)"
   ]
  },
  {
   "cell_type": "markdown",
   "metadata": {},
   "source": [
    "Para poder hacere suposiciones acerca del parámetro de una población, tendremos que obtener una muestra. Hay varias maneras de muestrear una población. La más habitual es mediante **muestreo aleatorio**, mediante el cual le asignamos a cada elemento de la población la misma probabilidad de ser seleccionado. Parece sencillo, pero en muchas ocasiones este muestreo está sesgado.\n",
    "\n",
    "##### ¿Qué es el sesgo?\n",
    "Se trata de una **distorsión no aleatoria que intrododucimos en la forma en que seleccionamos la muestra**. Si el sesgo muestral no se tiene en cuenta, entonces algunas conclusiones propuestas pueden ser erróneas.\n",
    "\n",
    "Por ejemplo, si realizamos una encuesta sobre cómo va el país, no será lo mismo si todos los encuestados son de una clase social determinada, o de un partido político concreto.\n",
    "\n",
    "### Distribución muestral\n",
    "Se trata de la **distribución de un estadístico**. Nos indica cómo varía un estadístico, en función de las diferentes muestras tomadas. Resultado de considerar todas las muestras posibles tomadas de la población. Su estudio permite calcular la probabilidad que se tiene, dada una sola muestra, de acercarse al parámetro de la población. Mediante la distribución muestral se puede estimar el error para un tamaño de muestra dado.\n",
    "\n",
    "Por ejemplo, vamos a generar una población con una distribución normal de media 10 y desviación estándar 20."
   ]
  },
  {
   "cell_type": "code",
   "execution_count": 56,
   "metadata": {},
   "outputs": [
    {
     "name": "stdout",
     "output_type": "stream",
     "text": [
      "La media de la población es: 10.64\n"
     ]
    },
    {
     "data": {
      "image/png": "[encoded data removed]",
      "text/plain": [
       "<Figure size 432x288 with 1 Axes>"
      ]
     },
     "metadata": {
      "needs_background": "light"
     },
     "output_type": "display_data"
    }
   ],
   "source": [
    "import numpy as np\n",
    "import matplotlib.pyplot as plt\n",
    "\n",
    "np.random.seed(42)\n",
    "\n",
    "data = np.random.normal(loc = 10,scale = 20, size=3000)\n",
    "plt.hist(data, bins=30)\n",
    "print(\"La media de la población es:\", round(data.mean(),4))"
   ]
  },
  {
   "cell_type": "markdown",
   "metadata": {},
   "source": [
    "Si tomo una gran cantidad de muestras aleatorias, podré construir una gráfica centrada en el varol original del parámetro, que se corresponderá con la **distribución muestral**."
   ]
  },
  {
   "cell_type": "markdown",
   "metadata": {},
   "source": [
    "Probamos a muestrear la población y graficamos la media de cada muestra."
   ]
  },
  {
   "cell_type": "code",
   "execution_count": 57,
   "metadata": {},
   "outputs": [
    {
     "data": {
      "text/plain": [
       "(array([ 1.,  0.,  1.,  0.,  5.,  3.,  6., 10., 18., 22., 33., 43., 46.,\n",
       "        45., 40., 40., 39., 47., 32., 18., 11., 10., 10.,  8.,  4.,  4.,\n",
       "         1.,  0.,  1.,  2.]),\n",
       " array([-4.08      , -3.04733333, -2.01466667, -0.982     ,  0.05066667,\n",
       "         1.08333333,  2.116     ,  3.14866667,  4.18133333,  5.214     ,\n",
       "         6.24666667,  7.27933333,  8.312     ,  9.34466667, 10.37733333,\n",
       "        11.41      , 12.44266667, 13.47533333, 14.508     , 15.54066667,\n",
       "        16.57333333, 17.606     , 18.63866667, 19.67133333, 20.704     ,\n",
       "        21.73666667, 22.76933333, 23.802     , 24.83466667, 25.86733333,\n",
       "        26.9       ]),\n",
       " <a list of 30 Patch objects>)"
      ]
     },
     "execution_count": 57,
     "metadata": {},
     "output_type": "execute_result"
    },
    {
     "data": {
      "image/png": "[encoded data removed]",
      "text/plain": [
       "<Figure size 432x288 with 1 Axes>"
      ]
     },
     "metadata": {
      "needs_background": "light"
     },
     "output_type": "display_data"
    }
   ],
   "source": [
    "def muestrear(n):\n",
    "    total = []\n",
    "    for i in range(n):\n",
    "        muestra = np.random.choice(data,20).mean()\n",
    "        total.append(round(muestra, 2))\n",
    "    return total\n",
    "\n",
    "plt.hist(muestrear(500), bins=30)   "
   ]
  },
  {
   "cell_type": "markdown",
   "metadata": {},
   "source": [
    "En data science la mayoría de las veces **la calidad es más importante que la calidad**. La calidad implica completitud, limpieza y precisión de cada dato. Muchas veces nos centramos en las tres Vs del Big Data (Volumen, Variedad y Velocidad), pero en ocasiones olvidamos una cuarta V, que sería la **veracidad de los datos**."
   ]
  },
  {
   "cell_type": "markdown",
   "metadata": {},
   "source": [
    "## Teorema del Límite Central\n",
    "**El Teorema del Límite Central afirma que si el tamaño de la muestra es suficientemente grande, entonces la distribución muestral de la media se aproxima a una distribución normal.**\n",
    "\n",
    "El teorema lo podemos aplicar a los estadísticos: **media, proporción muestral, diferencia de medias muestrales y diferencia de proporciones muestrales.**\n",
    "\n",
    "![imagen](./img/Teorema+del+Límite+Central.jpg)\n",
    "\n"
   ]
  },
  {
   "cell_type": "markdown",
   "metadata": {},
   "source": [
    "## Bootstrapping\n",
    "**El bootstrapping es una técnica empleada para calcular la distribución muestral de un estadístico tomando muestras adicionales con reemplazamientos**. De esta manera calculamos el estadístico de cada muestra y obtenemos la distribución.\n",
    "\n",
    "Puesto que es un remuestreo con reemplazamiento, el bootstrapping nos permite estimar la variabilidad del estadístico, utilizando una única muestra. Se trata de una aproximación excelente del proceso de muestreo de una población.\n",
    "\n",
    "![imagen](./img/Bootstrapping.png)\n",
    "\n"
   ]
  },
  {
   "cell_type": "markdown",
   "metadata": {},
   "source": [
    "## Intervalos de confianza\n",
    "**Un intervalo de confianza es un rango de valores que esperamos que contenga el parámetro real.**\n",
    "\n",
    "Por ejemplo, si estamos estudiando los votos que recibirá un candidato a la presidencia del gobierno en la CA de Cataluña, y afirmamos que recibirá un 65% de los votos, nos gustaría saber con qué grado de certeza esta afirmación es válida, o más bien en qué rango de votos nos movemos con un grado de certeza X.\n",
    "\n",
    "**El objetivo de crear un intervalo de confianza (IC) es encontrar un rango de valores posibles para el parámetro real de la población.**\n",
    "\n",
    "Veíamos antes que al obtener el estadístico mediante muestreo podría inducirnos a error, dependiendo de la muestra que estuviésemos observando, por lo que no sabemos si ese estadístico será de los cercanos al parámetro real, o si se encuentra en la cola de la distribución de estadísticos."
   ]
  },
  {
   "cell_type": "code",
   "execution_count": null,
   "metadata": {},
   "outputs": [],
   "source": []
  }
 ],
 "metadata": {
  "kernelspec": {
   "display_name": "Python 3",
   "language": "python",
   "name": "python3"
  },
  "language_info": {
   "codemirror_mode": {
    "name": "ipython",
    "version": 3
   },
   "file_extension": ".py",
   "mimetype": "text/x-python",
   "name": "python",
   "nbconvert_exporter": "python",
   "pygments_lexer": "ipython3",
   "version": "3.8.3"
  }
 },
 "nbformat": 4,
 "nbformat_minor": 4
}
