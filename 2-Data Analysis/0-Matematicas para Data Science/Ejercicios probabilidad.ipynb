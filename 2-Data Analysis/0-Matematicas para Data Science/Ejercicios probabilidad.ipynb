{
 "cells": [
  {
   "cell_type": "markdown",
   "metadata": {},
   "source": [
    "![imagen](./img/ejercicios.png)\n",
    "\n",
    "# Ejercicios probabilidad"
   ]
  },
  {
   "cell_type": "markdown",
   "metadata": {},
   "source": [
    "## Ejercicio 1\n",
    "#### Eventos mutuamente excluyentes\n",
    "En este ejercicio vamos a calcular las probabilidades conjuntas que tienen de ganar la liga de fútbol inglesa tres equipos. Suponiendo que las posibilidades de ganar el torneo para cada equipo serían:\n",
    "\n",
    "* Liverpool: P(A) = 1/3\n",
    "* Manchester City: P(B) = 1/5\n",
    "* Chelsea: P(C) = 1/9\n",
    "\n",
    "Se pide:\n",
    "\n",
    "1. Calcula la probabilidad de que gane la liga el Liverpool o el Manchester City\n",
    "2. Calcula la probabilidad de que gane la liga el Liverpool, el Manchester City o el Chelsea\n",
    "3. ¿Cuál es la probabilidad de que ninguno de estos equipos gane la liga?\n",
    "4. ¿Cuál es la probabilidad de que no ganen ni Liverpool ni Mancherster City?"
   ]
  },
  {
   "cell_type": "code",
   "execution_count": null,
   "metadata": {},
   "outputs": [],
   "source": []
  },
  {
   "cell_type": "markdown",
   "metadata": {},
   "source": [
    "## Ejercicio 2\n",
    "#### Eventos mutuamente excluyentes\n",
    "Para este ejercicio se va a trabajar con una baraja francesa, con las siguientes características:\n",
    "\n",
    "- En una baraja francesa hay diamantes, corazones, picas, y tréboles, siendo los diamantes y los corazones rojos, y las picas y los tréboles negros\n",
    "- La baraja la forman 52 cartas\n",
    "- La probabilidad de que salga un color u otro es de 26/52\n",
    "- La probabilidad de que salga un palo u otro es de 13/52\n",
    "\n",
    "Se pide:\n",
    "\n",
    "1. ¿Cuál es la probabilidad de sacar una carta que sea corazón y de color negro?\n",
    "2. ¿Cuál es la probabilidad de sacar una carta que sea corazón o de color negro?\n",
    "3. ¿Cuál es la probabilidad de sacar una carta que sea corazón y que además sea un rey?\n",
    "4. ¿Cuál es la probabilidad de sacar una carta que sea corazón o que además sea un rey?"
   ]
  },
  {
   "cell_type": "code",
   "execution_count": null,
   "metadata": {},
   "outputs": [],
   "source": []
  },
  {
   "cell_type": "markdown",
   "metadata": {},
   "source": [
    "## Ejercicio 3\n",
    "#### Eventos mutuamente NO excluyentes\n",
    "Un vendedor de zumos decide terminar su jornada y regalar el resto de su mercancía a cada transeunte. Para esto sirve en 15 vasos todo el zumo que no se vendió y les coloca una tapa. Los deja en el mostrador para que cada persona tome el que prefiera.\n",
    "\n",
    "Se sabe que el vendedor pudo llenar:\n",
    "\n",
    "* 3 vasos con zumo de sandía (color rojo) { s1 , s2 , s3 }\n",
    "* 6 vasos con naranja (color anaranjado) { n1 , n2 , n3 , n4 , n5 , n6 }\n",
    "* 3 vasos con mango (color anaranjado) { m1 , m2 , m3 }\n",
    "* 3 vasos con zumo de limón (color verde) { l1, l2 , l3 }\n",
    "\n",
    "Definir la probabilidad de que al tomar un vaso ocurran los siguientes eventos:\n",
    "\n",
    "1. Sea cítrico o anaranjado\n",
    "2. Sea cítrico o verde\n",
    "3. Sea de fruta o verde\n",
    "4. No sea cítrico o sea anaranjado"
   ]
  },
  {
   "cell_type": "code",
   "execution_count": null,
   "metadata": {},
   "outputs": [],
   "source": []
  },
  {
   "cell_type": "markdown",
   "metadata": {},
   "source": [
    "## Ejercicio 4\n",
    "#### Probabilidad condicional\n",
    "Al 25% de tus amigos le gusta la fresa y el chocolate, mientras que al 60% le gusta el chocolate. ¿Cuál es la probabilidad de que a un amigo que le gusta el chocolate, le guste la fresa?"
   ]
  },
  {
   "cell_type": "code",
   "execution_count": null,
   "metadata": {},
   "outputs": [],
   "source": []
  },
  {
   "cell_type": "markdown",
   "metadata": {},
   "source": [
    "## Ejercicio 5\n",
    "#### Probabilidad condicional\n",
    "El 76 % de los estudiantes de Ingeniería Civil han aprobado resistencia de materiales y el 45 % aprobaron estática. Además, el 30 % aprobaron resistencia de materiales y estática. Si Camilo aprobó resistencia de materiales, ¿qué probabilidad tiene de haber aprobado también estática?"
   ]
  },
  {
   "cell_type": "code",
   "execution_count": null,
   "metadata": {},
   "outputs": [],
   "source": []
  },
  {
   "cell_type": "markdown",
   "metadata": {},
   "source": [
    "## Ejercicio 6\n",
    "#### Probabilidad condicional\n",
    "Si un hincha compra una camiseta del Manchester y se da cuenta de que está defectuosa, ¿cuál es la probabilidad de que sea del Manchester?\n",
    "\n",
    "|Equipo/Camisetas|Buenas|Defectuosas|Total|\n",
    "|------|-----|-----|----\n",
    "|Juventus|508|92|600|\n",
    "|Manchester|315|85|400|\n",
    "|Total|823|177|1000|"
   ]
  },
  {
   "cell_type": "code",
   "execution_count": null,
   "metadata": {},
   "outputs": [],
   "source": []
  }
 ],
 "metadata": {
  "kernelspec": {
   "display_name": "Python 3",
   "language": "python",
   "name": "python3"
  },
  "language_info": {
   "codemirror_mode": {
    "name": "ipython",
    "version": 3
   },
   "file_extension": ".py",
   "mimetype": "text/x-python",
   "name": "python",
   "nbconvert_exporter": "python",
   "pygments_lexer": "ipython3",
   "version": "3.8.3"
  }
 },
 "nbformat": 4,
 "nbformat_minor": 4
}
