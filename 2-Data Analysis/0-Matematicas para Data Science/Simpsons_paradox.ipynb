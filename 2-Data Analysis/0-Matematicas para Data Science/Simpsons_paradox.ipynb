{
 "cells": [
  {
   "cell_type": "markdown",
   "metadata": {},
   "source": [
    "# Simpson's Paradox\n",
    "Use `admission_data.csv` for this exercise.\n",
    "\n",
    "No ejecutar ninguna celda"
   ]
  },
  {
   "cell_type": "code",
   "execution_count": 4,
   "metadata": {},
   "outputs": [],
   "source": [
    "import pandas as pd"
   ]
  },
  {
   "cell_type": "code",
   "execution_count": 5,
   "metadata": {},
   "outputs": [
    {
     "data": {
      "text/html": [
       "<div>\n",
       "<style>\n",
       "    .dataframe thead tr:only-child th {\n",
       "        text-align: right;\n",
       "    }\n",
       "\n",
       "    .dataframe thead th {\n",
       "        text-align: left;\n",
       "    }\n",
       "\n",
       "    .dataframe tbody tr th {\n",
       "        vertical-align: top;\n",
       "    }\n",
       "</style>\n",
       "<table border=\"1\" class=\"dataframe\">\n",
       "  <thead>\n",
       "    <tr style=\"text-align: right;\">\n",
       "      <th></th>\n",
       "      <th>student_id</th>\n",
       "      <th>gender</th>\n",
       "      <th>major</th>\n",
       "      <th>admitted</th>\n",
       "    </tr>\n",
       "  </thead>\n",
       "  <tbody>\n",
       "    <tr>\n",
       "      <th>0</th>\n",
       "      <td>35377</td>\n",
       "      <td>female</td>\n",
       "      <td>Chemistry</td>\n",
       "      <td>False</td>\n",
       "    </tr>\n",
       "    <tr>\n",
       "      <th>1</th>\n",
       "      <td>56105</td>\n",
       "      <td>male</td>\n",
       "      <td>Physics</td>\n",
       "      <td>True</td>\n",
       "    </tr>\n",
       "    <tr>\n",
       "      <th>2</th>\n",
       "      <td>31441</td>\n",
       "      <td>female</td>\n",
       "      <td>Chemistry</td>\n",
       "      <td>False</td>\n",
       "    </tr>\n",
       "    <tr>\n",
       "      <th>3</th>\n",
       "      <td>51765</td>\n",
       "      <td>male</td>\n",
       "      <td>Physics</td>\n",
       "      <td>True</td>\n",
       "    </tr>\n",
       "    <tr>\n",
       "      <th>4</th>\n",
       "      <td>53714</td>\n",
       "      <td>female</td>\n",
       "      <td>Physics</td>\n",
       "      <td>True</td>\n",
       "    </tr>\n",
       "  </tbody>\n",
       "</table>\n",
       "</div>"
      ],
      "text/plain": [
       "   student_id  gender      major  admitted\n",
       "0       35377  female  Chemistry     False\n",
       "1       56105    male    Physics      True\n",
       "2       31441  female  Chemistry     False\n",
       "3       51765    male    Physics      True\n",
       "4       53714  female    Physics      True"
      ]
     },
     "execution_count": 5,
     "metadata": {},
     "output_type": "execute_result"
    }
   ],
   "source": [
    "# Load and view first few lines of dataset\n"
   ]
  },
  {
   "cell_type": "code",
   "execution_count": 7,
   "metadata": {},
   "outputs": [
    {
     "name": "stdout",
     "output_type": "stream",
     "text": [
      "<class 'pandas.core.frame.DataFrame'>\n",
      "RangeIndex: 500 entries, 0 to 499\n",
      "Data columns (total 4 columns):\n",
      "student_id    500 non-null int64\n",
      "gender        500 non-null object\n",
      "major         500 non-null object\n",
      "admitted      500 non-null bool\n",
      "dtypes: bool(1), int64(1), object(2)\n",
      "memory usage: 12.3+ KB\n"
     ]
    }
   ],
   "source": []
  },
  {
   "cell_type": "markdown",
   "metadata": {},
   "source": [
    "### Proportion and admission rate for each gender"
   ]
  },
  {
   "cell_type": "code",
   "execution_count": 9,
   "metadata": {},
   "outputs": [],
   "source": [
    "# get number of males and females in list\n",
    " \n",
    "#get total number of values in gender column in variable\n"
   ]
  },
  {
   "cell_type": "code",
   "execution_count": 10,
   "metadata": {},
   "outputs": [
    {
     "data": {
      "text/plain": [
       "female    257\n",
       "male      243\n",
       "Name: gender, dtype: int64"
      ]
     },
     "execution_count": 10,
     "metadata": {},
     "output_type": "execute_result"
    }
   ],
   "source": []
  },
  {
   "cell_type": "code",
   "execution_count": 11,
   "metadata": {},
   "outputs": [
    {
     "name": "stdout",
     "output_type": "stream",
     "text": [
      "Proportion of females is 51.4%\n",
      "Proportion of females is 0.514%\n"
     ]
    }
   ],
   "source": [
    "# Proportion of students that are female\n"
   ]
  },
  {
   "cell_type": "code",
   "execution_count": 12,
   "metadata": {},
   "outputs": [
    {
     "name": "stdout",
     "output_type": "stream",
     "text": [
      "Proportion of males is 48.6%\n",
      "Proportion of males is 0.486%\n"
     ]
    }
   ],
   "source": [
    "# Proportion of students that are male\n"
   ]
  },
  {
   "cell_type": "code",
   "execution_count": 13,
   "metadata": {},
   "outputs": [
    {
     "data": {
      "text/plain": [
       "gender  admitted\n",
       "female  False       183\n",
       "        True         74\n",
       "male    False       125\n",
       "        True        118\n",
       "Name: admitted, dtype: int64"
      ]
     },
     "execution_count": 13,
     "metadata": {},
     "output_type": "execute_result"
    }
   ],
   "source": [
    "#To view statistics based on gender, we group by gender variable\n",
    "# Next we use value_counts() function to see the numbers\n"
   ]
  },
  {
   "cell_type": "code",
   "execution_count": 15,
   "metadata": {},
   "outputs": [
    {
     "name": "stdout",
     "output_type": "stream",
     "text": [
      "Number of female students are 257\n"
     ]
    }
   ],
   "source": [
    "# count of females\n",
    "# https://chrisalbon.com/python/pandas_selecting_rows_on_conditions.html\n"
   ]
  },
  {
   "cell_type": "code",
   "execution_count": 16,
   "metadata": {},
   "outputs": [
    {
     "name": "stdout",
     "output_type": "stream",
     "text": [
      "Number of male students are 243\n"
     ]
    }
   ],
   "source": [
    "#count of males\n"
   ]
  },
  {
   "cell_type": "code",
   "execution_count": 17,
   "metadata": {},
   "outputs": [
    {
     "name": "stdout",
     "output_type": "stream",
     "text": [
      "Female admission rate is 29.0%\n"
     ]
    }
   ],
   "source": [
    "# Admission rate for females\n"
   ]
  },
  {
   "cell_type": "code",
   "execution_count": 18,
   "metadata": {},
   "outputs": [
    {
     "name": "stdout",
     "output_type": "stream",
     "text": [
      "Male admission rate is 48.56%\n"
     ]
    }
   ],
   "source": [
    "# Admission rate for males\n"
   ]
  },
  {
   "cell_type": "code",
   "execution_count": 19,
   "metadata": {},
   "outputs": [
    {
     "name": "stdout",
     "output_type": "stream",
     "text": [
      "Total admission proportions\n",
      "Female: 0.28793774319066145\n",
      "Male: 0.48559670781893005\n"
     ]
    }
   ],
   "source": [
    "print('Total admission proportions')\n"
   ]
  },
  {
   "cell_type": "markdown",
   "metadata": {},
   "source": [
    "### Proportion and admission rate for physics majors of each gender"
   ]
  },
  {
   "cell_type": "code",
   "execution_count": 20,
   "metadata": {},
   "outputs": [
    {
     "name": "stdout",
     "output_type": "stream",
     "text": [
      "<class 'pandas.core.frame.DataFrame'>\n",
      "MultiIndex: 4 entries, (Chemistry, female) to (Physics, male)\n",
      "Data columns (total 8 columns):\n",
      "(student_id, count)    4 non-null float64\n",
      "(student_id, mean)     4 non-null float64\n",
      "(student_id, std)      4 non-null float64\n",
      "(student_id, min)      4 non-null float64\n",
      "(student_id, 25%)      4 non-null float64\n",
      "(student_id, 50%)      4 non-null float64\n",
      "(student_id, 75%)      4 non-null float64\n",
      "(student_id, max)      4 non-null float64\n",
      "dtypes: float64(8)\n",
      "memory usage: 405.0+ bytes\n"
     ]
    }
   ],
   "source": [
    "# group by major and gender to get counts of students in each cohort\n"
   ]
  },
  {
   "cell_type": "code",
   "execution_count": 21,
   "metadata": {},
   "outputs": [
    {
     "name": "stdout",
     "output_type": "stream",
     "text": [
      "Number of females with Physics major is 31\n",
      "Proportion of female candidates in Physics is 12.06%\n"
     ]
    }
   ],
   "source": [
    "# What proportion of female students are majoring in physics?\n",
    "\n",
    "# First, get count of females in Physics major \n",
    "\n",
    "\n",
    "#now evaluate proportion of female candidates in Phsics\n"
   ]
  },
  {
   "cell_type": "code",
   "execution_count": 22,
   "metadata": {},
   "outputs": [
    {
     "name": "stdout",
     "output_type": "stream",
     "text": [
      "Number of males with Physics major is 225\n",
      "Proportion of male candidates in Physics is 92.59%\n"
     ]
    }
   ],
   "source": [
    "# What proportion of male students are majoring in physics?\n",
    "\n",
    "# first,get count of males in Physics major \n",
    "\n",
    "\n",
    "#now evaluate proportion of male candidates in Physics\n"
   ]
  },
  {
   "cell_type": "code",
   "execution_count": 23,
   "metadata": {},
   "outputs": [
    {
     "name": "stdout",
     "output_type": "stream",
     "text": [
      "Proportion of female candidates admitted in Physics is 74.19%\n"
     ]
    }
   ],
   "source": [
    "# Admission rate for female physics majors\n",
    "# compute count of females in Physics who got admitted\n",
    "\n",
    "\n",
    "#now evaluate proportion of admitted female candidates in Phsics\n"
   ]
  },
  {
   "cell_type": "code",
   "execution_count": 24,
   "metadata": {},
   "outputs": [
    {
     "name": "stdout",
     "output_type": "stream",
     "text": [
      "Proportion of male candidates admitted in Physics is 51.56%\n"
     ]
    }
   ],
   "source": [
    "# Admission rate for male physics majors\n",
    "# compute count of females in Physics who got admitted\n",
    "\n",
    "\n",
    "#now evaluate proportion of admitted male candidates in Phsics\n"
   ]
  },
  {
   "cell_type": "markdown",
   "metadata": {},
   "source": [
    "### Proportion and admission rate for chemistry majors of each gender"
   ]
  },
  {
   "cell_type": "code",
   "execution_count": 25,
   "metadata": {},
   "outputs": [
    {
     "name": "stdout",
     "output_type": "stream",
     "text": [
      "Number of females with Chemistry major is 226\n",
      "Proportion of female candidates in Chemistry is 87.94%\n"
     ]
    }
   ],
   "source": [
    "# What proportion of female students are majoring in chemistry?\n",
    "\n",
    "# First, get count of females in Chemistry major \n",
    "\n",
    "\n",
    "#now evaluate proportion of female candidates in Chemistry\n"
   ]
  },
  {
   "cell_type": "code",
   "execution_count": 26,
   "metadata": {},
   "outputs": [
    {
     "name": "stdout",
     "output_type": "stream",
     "text": [
      "Number of males with Chemistry major is 18\n",
      "Proportion of male candidates in Chemistry is 7.41%\n"
     ]
    }
   ],
   "source": [
    "# What proportion of male students are majoring in chemistry?\n",
    "# First, get count of females in Chemistry major \n",
    "\n",
    "\n",
    "#now evaluate proportion of male candidates in Chemistry\n"
   ]
  },
  {
   "cell_type": "code",
   "execution_count": 27,
   "metadata": {},
   "outputs": [
    {
     "name": "stdout",
     "output_type": "stream",
     "text": [
      "Proportion of female candidates admitted in chemistry is 22.57%\n"
     ]
    }
   ],
   "source": [
    "# Admission rate for female chemistry majors\n",
    "\n",
    "# compute count of females in chemistry who got admitted\n",
    "\n",
    "\n",
    "#now evaluate proportion of admitted female candidates in chemistry\n"
   ]
  },
  {
   "cell_type": "code",
   "execution_count": 28,
   "metadata": {},
   "outputs": [
    {
     "name": "stdout",
     "output_type": "stream",
     "text": [
      "Proportion of male candidates admitted in chemistry is 11.11%\n"
     ]
    }
   ],
   "source": [
    "# Admission rate for male chemistry majors\n",
    "# compute count of males in chemistry who got admitted\n",
    "\n",
    "\n",
    "#now evaluate proportion of admitted male candidates in chemistry\n"
   ]
  },
  {
   "cell_type": "markdown",
   "metadata": {},
   "source": [
    "### Admission rate for each major"
   ]
  },
  {
   "cell_type": "code",
   "execution_count": 29,
   "metadata": {},
   "outputs": [
    {
     "name": "stdout",
     "output_type": "stream",
     "text": [
      "Proportion of candidates admitted in Physics is 54.3%\n"
     ]
    }
   ],
   "source": [
    "# Admission rate for physics majors\n",
    "# compute count of students in Physics who got admitted\n",
    "\n",
    "\n",
    "#now evaluate proportion of admitted candidates in Phsics\n"
   ]
  },
  {
   "cell_type": "code",
   "execution_count": 30,
   "metadata": {},
   "outputs": [
    {
     "name": "stdout",
     "output_type": "stream",
     "text": [
      "Proportion of candidates admitted in Chemistry is 21.72%\n"
     ]
    }
   ],
   "source": [
    "# Admission rate for chemistry majors\n",
    "# compute count of students in Chemistry who got admitted\n",
    "\n",
    "\n",
    "#now evaluate proportion of admitted candidates in Chemistry\n"
   ]
  },
  {
   "cell_type": "markdown",
   "metadata": {},
   "source": [
    "#### Testing: Double check vlaues by computing non-admittance values"
   ]
  },
  {
   "cell_type": "code",
   "execution_count": 31,
   "metadata": {},
   "outputs": [
    {
     "name": "stdout",
     "output_type": "stream",
     "text": [
      "Values computed for Physics admitted candidates is Correct\n",
      "Values computed for Chemistry admitted candidates is Correct\n"
     ]
    }
   ],
   "source": [
    "# double check values for physics admittance\n",
    "\n",
    "\n",
    "\n",
    "# double check values for Chemistry admittance\n"
   ]
  },
  {
   "cell_type": "code",
   "execution_count": 32,
   "metadata": {},
   "outputs": [
    {
     "name": "stdout",
     "output_type": "stream",
     "text": [
      "Values computed for admitted candidates is Correct\n"
     ]
    }
   ],
   "source": [
    "# double check not admitted candidates\n",
    "# candidates not admitted to Physics\n",
    "\n",
    "# candidates not admitted to Chemistry\n",
    "\n",
    "# compare if admitted and non-admitted candidate counts equal total number of students\n"
   ]
  }
 ],
 "metadata": {
  "kernelspec": {
   "display_name": "Python 3",
   "language": "python",
   "name": "python3"
  },
  "language_info": {
   "codemirror_mode": {
    "name": "ipython",
    "version": 3
   },
   "file_extension": ".py",
   "mimetype": "text/x-python",
   "name": "python",
   "nbconvert_exporter": "python",
   "pygments_lexer": "ipython3",
   "version": "3.7.6"
  }
 },
 "nbformat": 4,
 "nbformat_minor": 4
}
