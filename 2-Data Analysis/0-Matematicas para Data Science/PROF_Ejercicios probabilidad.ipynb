{
 "cells": [
  {
   "cell_type": "markdown",
   "metadata": {},
   "source": [
    "![imagen](./img/ejercicios.png)\n",
    "\n",
    "# Ejercicios probabilidad"
   ]
  },
  {
   "cell_type": "markdown",
   "metadata": {},
   "source": [
    "## Ejercicio 1\n",
    "#### Eventos mutuamente excluyentes\n",
    "En este ejercicio vamos a calcular las probabilidades conjuntas que tienen de ganar la liga de fútbol inglesa tres equipos. Suponiendo que las posibilidades de ganar el torneo para cada equipo serían:\n",
    "\n",
    "* Liverpool: P(A) = 1/3\n",
    "* Manchester City: P(B) = 1/5\n",
    "* Chelsea: P(C) = 1/9\n",
    "\n",
    "Se pide:\n",
    "\n",
    "1. Calcula la probabilidad de que gane la liga el Liverpool o el Manchester City\n",
    "2. Calcula la probabilidad de que gane la liga el Liverpool, el Manchester City o el Chelsea\n",
    "3. ¿Cuál es la probabilidad de que ninguno de estos equipos gane la liga?\n",
    "4. ¿Cuál es la probabilidad de que no ganen ni Liverpool ni Mancherster City?"
   ]
  },
  {
   "cell_type": "code",
   "execution_count": 3,
   "metadata": {},
   "outputs": [
    {
     "name": "stdout",
     "output_type": "stream",
     "text": [
      "0.5333333333333333\n",
      "0.6444444444444444\n",
      "0.3555555555555556\n",
      "0.4666666666666667\n"
     ]
    }
   ],
   "source": [
    "# 1. P(A U B)\n",
    "p_1 = 1/3 + 1/5\n",
    "print(p_1)\n",
    "\n",
    "# 2. P(A U B U C)\n",
    "p_2 = 1/3 + 1/5 + 1/9\n",
    "print(p_2)\n",
    "\n",
    "# 3.    [1 - P(A U B U C)]\n",
    "p_3 = 1 - p_2\n",
    "print(p_3)\n",
    "\n",
    "# 4.    [1 - P(A U B)]\n",
    "p_4 = 1 - p_1\n",
    "print(p_4)"
   ]
  },
  {
   "cell_type": "markdown",
   "metadata": {},
   "source": [
    "## Ejercicio 2\n",
    "#### Eventos mutuamente excluyentes\n",
    "Para este ejercicio se va a trabajar con una baraja francesa, con las siguientes características:\n",
    "\n",
    "- En una baraja francesa hay diamantes, corazones, picas, y tréboles, siendo los diamantes y los corazones rojos, y las picas y los tréboles negros\n",
    "- La baraja la forman 52 cartas\n",
    "- La probabilidad de que salga un color u otro es de 26/52\n",
    "- La probabilidad de que salga un palo u otro es de 13/52\n",
    "\n",
    "Se pide:\n",
    "\n",
    "1. ¿Cuál es la probabilidad de sacar una carta que sea corazón y de color negro?\n",
    "2. ¿Cuál es la probabilidad de sacar una carta que sea corazón o de color negro?\n",
    "3. ¿Cuál es la probabilidad de sacar una carta que sea corazón y que además sea un rey?\n",
    "4. ¿Cuál es la probabilidad de sacar una carta que sea corazón o que además sea un rey?"
   ]
  },
  {
   "cell_type": "code",
   "execution_count": 5,
   "metadata": {},
   "outputs": [
    {
     "name": "stdout",
     "output_type": "stream",
     "text": [
      "0\n",
      "0.75\n",
      "0.25\n",
      "1\n"
     ]
    }
   ],
   "source": [
    "# Siendo H sacar un corazon y B una carta negra\n",
    "# 1. P(H and B)\n",
    "p_1 = 0\n",
    "print(p_1)\n",
    "\n",
    "# 2. P(H or B)\n",
    "p_2 = 13/52 + 26/52\n",
    "print(p_2)"
   ]
  },
  {
   "cell_type": "code",
   "execution_count": 7,
   "metadata": {},
   "outputs": [
    {
     "name": "stdout",
     "output_type": "stream",
     "text": [
      "0.019230769230769232\n",
      "0.3076923076923077\n"
     ]
    }
   ],
   "source": [
    "'''\n",
    "NO son mutuamente excluyentes\n",
    "Siendo H sacar un corazon y B un rey\n",
    "'''\n",
    "# 3. P(H and B)\n",
    "# Un unico rey de corazones\n",
    "p_3 = 1/52\n",
    "print(p_3)\n",
    "\n",
    "# 4. P(H or B) = P(H) + P(B) - P (H and B)\n",
    "p_2 = 13/52 + 4/52 - p_3\n",
    "print(p_2)"
   ]
  },
  {
   "cell_type": "markdown",
   "metadata": {},
   "source": [
    "## Ejercicio 3\n",
    "#### Eventos mutuamente NO excluyentes\n",
    "Un vendedor de zumos decide terminar su jornada y regalar el resto de su mercancía a cada transeunte. Para esto sirve en 15 vasos todo el zumo que no se vendió y les coloca una tapa. Los deja en el mostrador para que cada persona tome el que prefiera.\n",
    "\n",
    "Se sabe que el vendedor pudo llenar:\n",
    "\n",
    "* 3 vasos con zumo de sandía (color rojo) { s1 , s2 , s3 }\n",
    "* 6 vasos con naranja (color anaranjado) { n1 , n2 , n3 , n4 , n5 , n6 }\n",
    "* 3 vasos con mango (color anaranjado) { m1 , m2 , m3 }\n",
    "* 3 vasos con zumo de limón (color verde) { l1, l2 , l3 }\n",
    "\n",
    "Definir la probabilidad de que al tomar un vaso ocurran los siguientes eventos:\n",
    "\n",
    "1. Sea cítrico o anaranjado\n",
    "2. Sea cítrico o verde\n",
    "3. Sea de fruta o verde\n",
    "4. No sea cítrico o sea anaranjado"
   ]
  },
  {
   "cell_type": "code",
   "execution_count": 11,
   "metadata": {},
   "outputs": [
    {
     "name": "stdout",
     "output_type": "stream",
     "text": [
      "0.7999999999999999\n"
     ]
    }
   ],
   "source": [
    "'''\n",
    "A : { sea cítrico } = { n1 , n2 , n3 , n4 , n5 , n6 , l1, l2 , l3 }\n",
    "B : { sea de color anaranjado } = { n1 , n2 , n3 , n4 , n5 , n6 , m1 , m2 , m3 }\n",
    "A ∩ B : { n1 , n2 , n3 , n4 , n5 , n6 }\n",
    "'''\n",
    "P_A = 9 / 15\n",
    "P_B = 9 / 15\n",
    "P_AyB = 6 / 15\n",
    "P_AoB = P_A + P_B - P_AyB\n",
    "\n",
    "print(P_AoB)"
   ]
  },
  {
   "cell_type": "code",
   "execution_count": 12,
   "metadata": {},
   "outputs": [
    {
     "name": "stdout",
     "output_type": "stream",
     "text": [
      "0.6000000000000001\n"
     ]
    }
   ],
   "source": [
    "'''\n",
    "A : { sea cítrico } = { n1 , n2 , n3 , n4 , n5 , n6 , l1, l2 , l3 }\n",
    "B : { sea de color verde } = { l1, l2 , l3 }\n",
    "A ∩ B : { l1, l2 , l3 }\n",
    "'''\n",
    "P_A = 9 / 15\n",
    "P_B = 3 / 15\n",
    "P_AyB = 3 / 15\n",
    "P_AoB = P_A + P_B - P_AyB\n",
    "\n",
    "print(P_AoB)"
   ]
  },
  {
   "cell_type": "code",
   "execution_count": 13,
   "metadata": {},
   "outputs": [
    {
     "name": "stdout",
     "output_type": "stream",
     "text": [
      "1.0\n"
     ]
    }
   ],
   "source": [
    "'''\n",
    "A : { sea de fruta } = { n1 , n2 , n3 , n4 , n5 , n6 , l1, l2 , l3 , m1 , m2 , m3 , s1 , s2 , s3 }\n",
    "B : { sea de color verde } = { l1, l2 , l3 }\n",
    "A ∩ B : { l1, l2 , l3 }\n",
    "'''\n",
    "P_A = 15 / 15\n",
    "P_B = 3 / 15\n",
    "P_AyB = 3 / 15\n",
    "P_AoB = P_A + P_B - P_AyB\n",
    "\n",
    "print(P_AoB)"
   ]
  },
  {
   "cell_type": "code",
   "execution_count": 14,
   "metadata": {},
   "outputs": [
    {
     "name": "stdout",
     "output_type": "stream",
     "text": [
      "0.8\n"
     ]
    }
   ],
   "source": [
    "'''\n",
    "A : { no sea cítrico } = { m1 , m2 , m3 , s1 , s2 , s3 }\n",
    "B : { sea de color anaranjado } = { n1 , n2 , n3 , n4 , n5 , n6 , m1 , m2 , m3 }\n",
    "A ∩ B : { m1 , m2 , m3 }\n",
    "'''\n",
    "P_A = 6 / 15\n",
    "P_B = 9 / 15\n",
    "P_AyB = 3 / 15\n",
    "P_AoB = P_A + P_B - P_AyB\n",
    "\n",
    "print(P_AoB)"
   ]
  },
  {
   "cell_type": "markdown",
   "metadata": {},
   "source": [
    "## Ejercicio 4\n",
    "#### Probabilidad condicional\n",
    "Al 25% de tus amigos le gusta la fresa y el chocolate, mientras que al 60% le gusta el chocolate. ¿Cuál es la probabilidad de que a un amigo que le gusta el chocolate, le guste la fresa?"
   ]
  },
  {
   "cell_type": "code",
   "execution_count": 5,
   "metadata": {},
   "outputs": [
    {
     "name": "stdout",
     "output_type": "stream",
     "text": [
      "0.4166666666666667\n"
     ]
    }
   ],
   "source": [
    "'''\n",
    "Vamos a trabajar con 2 eventos: que a un amigo le guste la fresa, y que a un amigo le guste el chocolate.\n",
    "\n",
    "    Evento A: que a un amigo le gusten las fresas. P(A) = ?\n",
    "    Evento B: que a un amigo le guste el chocolate. P(B) = 60 %.\n",
    "    Evento A y B: que a un amigo le guste la fresa y el chocolate. P(A∩B) = 25 %.\n",
    "\n",
    "Ahora calculamos la probabilidad de que a un amigo le guste la fresa, dado que le gusta el chocolate.\n",
    "Prob de A cond a B es el cociente entre la intereseccion de A con B, entre P(B)\n",
    "'''\n",
    "# Prob de A condicionado a B\n",
    "P_A_B = 0.25/0.60\n",
    "print(P_A_B)"
   ]
  },
  {
   "cell_type": "markdown",
   "metadata": {},
   "source": [
    "## Ejercicio 5\n",
    "#### Probabilidad condicional\n",
    "El 76 % de los estudiantes de Ingeniería Civil han aprobado resistencia de materiales y el 45 % aprobaron estática. Además, el 30 % aprobaron resistencia de materiales y estática. Si Camilo aprobó resistencia de materiales, ¿qué probabilidad tiene de haber aprobado también estática?"
   ]
  },
  {
   "cell_type": "code",
   "execution_count": 4,
   "metadata": {},
   "outputs": [
    {
     "name": "stdout",
     "output_type": "stream",
     "text": [
      "0.39473684210526316\n"
     ]
    }
   ],
   "source": [
    "'''\n",
    "Solución:\n",
    "Vamos a trabajar con 2 eventos: aprobar resistencia de materiales, y aprobar estática.\n",
    "\n",
    "    Evento A: aprobar resistencia de materiales. P(A) = 76 %.\n",
    "    Evento B: aprobar estática. P(B) = 45 %.\n",
    "    Evento A y B: aprobar resistencia de materiales y estática. P(A∩B) = 30 %, y es lo mismo que: P(B∩A) = 30 % \n",
    "\n",
    "Ahora calculamos la probabilidad de aprobar estática, dado que se aprobó resistencia de materiales.\n",
    "'''\n",
    "\n",
    "# Prob de B condicionado a A\n",
    "P_B_A = 0.30/0.76\n",
    "print(P_B_A)"
   ]
  },
  {
   "cell_type": "markdown",
   "metadata": {},
   "source": [
    "## Ejercicio 6\n",
    "#### Probabilidad condicional\n",
    "Si un hincha compra una camiseta del Manchester y se da cuenta de que está defectuosa, ¿cuál es la probabilidad de que sea del Manchester?\n",
    "\n",
    "|Equipo/Camisetas|Buenas|Defectuosas|Total|\n",
    "|------|-----|-----|----\n",
    "|Juventus|508|92|600|\n",
    "|Manchester|315|85|400|\n",
    "|Total|823|177|1000|"
   ]
  },
  {
   "cell_type": "code",
   "execution_count": 6,
   "metadata": {},
   "outputs": [
    {
     "data": {
      "text/plain": [
       "0.48022598870056504"
      ]
     },
     "execution_count": 6,
     "metadata": {},
     "output_type": "execute_result"
    }
   ],
   "source": [
    "'''\n",
    "Probabilidad de M condicionado a que está defectuosa es el cociente entre la interseccion\n",
    "de que sea de M, con que sea defectuosa (85/1000) y P(Defectuosa) = 177/1000\n",
    "'''\n",
    "P_M_D = (85/1000)/(177/1000)\n",
    "P_M_D"
   ]
  }
 ],
 "metadata": {
  "kernelspec": {
   "display_name": "Python 3",
   "language": "python",
   "name": "python3"
  },
  "language_info": {
   "codemirror_mode": {
    "name": "ipython",
    "version": 3
   },
   "file_extension": ".py",
   "mimetype": "text/x-python",
   "name": "python",
   "nbconvert_exporter": "python",
   "pygments_lexer": "ipython3",
   "version": "3.8.3"
  }
 },
 "nbformat": 4,
 "nbformat_minor": 4
}
