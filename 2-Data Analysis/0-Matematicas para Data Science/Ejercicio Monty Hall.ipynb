{
 "cells": [
  {
   "cell_type": "markdown",
   "metadata": {},
   "source": [
    "![imagen](./img/monty_hall.jpg)\n",
    "# Ejercicio Monty Hall\n",
    "Implementa un programa que simule el problema de las puertas del concurso de Monty Hall. El programa tendrá un parámetro (cambiar o no cambiar puerta).\n",
    "\n",
    "Una vez lo tengas creado, ejecútalo iterativamente, primero cambiando la puerta, y luego sin cambiar, para así observar cuántas veces aciertas o te equivocas en cada caso.\n",
    "\n",
    "Recuerda que en el programa hay tres puertas, en una hay un coche y en las otras dos hay cabras. El concursante elige una puerta, y acto seguido el presentador abre otra puerta donde hay una cabra. A continuación el presentador pregunta si el concursante quiere continuar con la decisión original, o cambiar de puerta. ¿Qué harías? Demuestra tu hipótesis con código y estadística."
   ]
  },
  {
   "cell_type": "code",
   "execution_count": 7,
   "metadata": {},
   "outputs": [],
   "source": [
    "# Para elegir una puerta aleatoriamente utiliza el siguiente codigo\n",
    "# Escoge aleatoriamente un numero del 1 al 3, ambos incluidos.\n",
    "import numpy as np\n",
    "puerta = np.random.randint(1,4)"
   ]
  }
 ],
 "metadata": {
  "kernelspec": {
   "display_name": "Python 3",
   "language": "python",
   "name": "python3"
  },
  "language_info": {
   "codemirror_mode": {
    "name": "ipython",
    "version": 3
   },
   "file_extension": ".py",
   "mimetype": "text/x-python",
   "name": "python",
   "nbconvert_exporter": "python",
   "pygments_lexer": "ipython3",
   "version": "3.8.3"
  }
 },
 "nbformat": 4,
 "nbformat_minor": 4
}
