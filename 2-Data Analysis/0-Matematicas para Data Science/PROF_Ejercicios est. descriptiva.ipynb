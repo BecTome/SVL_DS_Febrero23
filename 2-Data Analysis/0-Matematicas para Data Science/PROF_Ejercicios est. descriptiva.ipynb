{
 "cells": [
  {
   "cell_type": "markdown",
   "metadata": {},
   "source": [
    "![imagen](./img/ejercicios.png)\n",
    "\n",
    "# Ejercicios estadística descriptiva"
   ]
  },
  {
   "cell_type": "code",
   "execution_count": 2,
   "metadata": {},
   "outputs": [],
   "source": [
    "import numpy as np\n",
    "import matplotlib.pyplot as plt\n",
    "import matplotlib.pyplot as plt"
   ]
  },
  {
   "cell_type": "markdown",
   "metadata": {},
   "source": [
    "## Ejercicio 1\n",
    "Para este ejercicio hay que razonar sin programar la pinta tienen los datos (media, asimetria, valores extremos, outliers...)\n",
    "\n",
    "### Banco\n",
    "La cantidad de dinero que se suele pedir en el banco Atope de Billets sigue la siguiente distribución. ¿Qué podemos sacar en claro de la distribución?"
   ]
  },
  {
   "cell_type": "code",
   "execution_count": 22,
   "metadata": {
    "jupyter": {
     "source_hidden": true
    }
   },
   "outputs": [
    {
     "data": {
      "image/png": "[encoded data removed]",
      "text/plain": [
       "<Figure size 432x288 with 1 Axes>"
      ]
     },
     "metadata": {
      "needs_background": "light"
     },
     "output_type": "display_data"
    }
   ],
   "source": [
    "datos_banco = np.random.normal(250000, 30000, 5000)\n",
    "plt.hist(datos_banco, 70, histtype=\"stepfilled\", alpha=.7);"
   ]
  },
  {
   "cell_type": "markdown",
   "metadata": {},
   "source": [
    "**Responde aquí**"
   ]
  },
  {
   "cell_type": "markdown",
   "metadata": {},
   "source": [
    "### Cirujía\n",
    "Suponiendo que el tiempo de supervivencia tras una operación quirúrgica de cerebro sigue la siguiente distribución. ¿Qué podemos sacar en claro?"
   ]
  },
  {
   "cell_type": "code",
   "execution_count": 21,
   "metadata": {
    "jupyter": {
     "source_hidden": true
    }
   },
   "outputs": [
    {
     "data": {
      "image/png": "[encoded data removed]",
      "text/plain": [
       "<Figure size 432x288 with 1 Axes>"
      ]
     },
     "metadata": {
      "needs_background": "light"
     },
     "output_type": "display_data"
    }
   ],
   "source": [
    "from scipy import stats\n",
    "x = stats.gamma(5).rvs(5000)\n",
    "plt.hist(x, 70, histtype=\"stepfilled\", alpha=.7);"
   ]
  },
  {
   "cell_type": "markdown",
   "metadata": {},
   "source": [
    "**Responde aquí**"
   ]
  },
  {
   "cell_type": "markdown",
   "metadata": {},
   "source": [
    "### Salarios\n",
    "¿Qué podemos afirmar sobre la distribución de salarios, que quedaría representada de la siguiente manera?"
   ]
  },
  {
   "cell_type": "code",
   "execution_count": 32,
   "metadata": {
    "jupyter": {
     "source_hidden": true
    }
   },
   "outputs": [
    {
     "data": {
      "image/png": "[encoded data removed]",
      "text/plain": [
       "<Figure size 432x288 with 1 Axes>"
      ]
     },
     "metadata": {
      "needs_background": "light"
     },
     "output_type": "display_data"
    }
   ],
   "source": [
    "datos_banco = np.random.lognormal(10, 1, 5000)\n",
    "plt.hist(datos_banco, 70, histtype=\"stepfilled\", alpha=.7);"
   ]
  },
  {
   "cell_type": "markdown",
   "metadata": {},
   "source": [
    "## Ejercicio 2\n",
    "Para este ejercicio no se pueden utilizar librerías ni funciones ya predefinidas. Solo las *built-in* de Python (sum, len, sort...). Math valdria si tienes que realizar alguna raiz cuadrada\n",
    "\n",
    "Dados los siguientes datos de retrasos en vuelos de la compañia *Más vale tarde que nunca*:\n",
    "\n",
    "```Python\n",
    "retr = [3, 1, 1, 2, 4, 5, 6, 4, 7, 4, 5, 6, 4, 5, 6, 7, 4]\n",
    "```\n",
    "\n",
    "Se pide\n",
    "* Calcular la media\n",
    "* Calcular la moda\n",
    "* Calcular la mediana\n",
    "* Calcular el mayor retraso, el menor y el rango de la variable\n",
    "* Calcula la varianza\n",
    "* Calcular la desviación típica\n",
    "* Prueba a calcular su histograma\n",
    "* Interpreta los resultados"
   ]
  },
  {
   "cell_type": "code",
   "execution_count": 43,
   "metadata": {},
   "outputs": [
    {
     "name": "stdout",
     "output_type": "stream",
     "text": [
      "Media: 4.35\n"
     ]
    }
   ],
   "source": [
    "# Media\n",
    "retr = [3, 1, 1, 2, 4, 5, 6, 4, 7, 4, 5, 6, 4, 5, 6, 7, 4]\n",
    "print(\"Media:\", round(sum(retr)/len(retr), 2))"
   ]
  },
  {
   "cell_type": "code",
   "execution_count": 45,
   "metadata": {},
   "outputs": [
    {
     "name": "stdout",
     "output_type": "stream",
     "text": [
      "4\n"
     ]
    }
   ],
   "source": [
    "# Moda\n",
    "max_num = retr[0]\n",
    "max_count = 1\n",
    "\n",
    "for i in set(retr):\n",
    "    conteo = retr.count(i)\n",
    "    \n",
    "    if conteo > max_count:\n",
    "        max_num = i\n",
    "        max_count = conteo\n",
    "        \n",
    "print(max_num)"
   ]
  },
  {
   "cell_type": "code",
   "execution_count": 50,
   "metadata": {},
   "outputs": [
    {
     "name": "stdout",
     "output_type": "stream",
     "text": [
      "[1, 1, 2, 3, 4, 4, 4, 4, 4, 5, 5, 5, 6, 6, 6, 7, 7]\n"
     ]
    },
    {
     "data": {
      "text/plain": [
       "4"
      ]
     },
     "execution_count": 50,
     "metadata": {},
     "output_type": "execute_result"
    }
   ],
   "source": [
    "# Mediana\n",
    "retr.sort()\n",
    "print(retr)\n",
    "retr[int(len(retr)/2)]"
   ]
  },
  {
   "cell_type": "code",
   "execution_count": 51,
   "metadata": {},
   "outputs": [
    {
     "name": "stdout",
     "output_type": "stream",
     "text": [
      "Mayor retraso: 7\n",
      "Menor retraso: 1\n",
      "Rango de los retrasos: 6\n"
     ]
    }
   ],
   "source": [
    "retr.sort()\n",
    "\n",
    "# Mayor retraso\n",
    "print(\"Mayor retraso:\", retr[-1])\n",
    "\n",
    "# Menor retraso\n",
    "print(\"Menor retraso:\", retr[0])\n",
    "\n",
    "# Rango\n",
    "print(\"Rango de los retrasos:\", retr[-1] - retr[0])\n"
   ]
  },
  {
   "cell_type": "code",
   "execution_count": 56,
   "metadata": {},
   "outputs": [
    {
     "name": "stdout",
     "output_type": "stream",
     "text": [
      "3.1695501730103817\n",
      "3.169550173010381\n"
     ]
    }
   ],
   "source": [
    "# Varianza\n",
    "media = sum(retr)/len(retr)\n",
    "varianza = 0\n",
    "\n",
    "for i in retr:\n",
    "    varianza = varianza + (i - media)**2\n",
    "    \n",
    "varianza = varianza/len(retr)\n",
    "print(varianza)\n",
    "\n",
    "print(np.array(retr).var())"
   ]
  },
  {
   "cell_type": "code",
   "execution_count": 57,
   "metadata": {},
   "outputs": [
    {
     "name": "stdout",
     "output_type": "stream",
     "text": [
      "1.7803230529907716\n",
      "1.7803230529907714\n"
     ]
    }
   ],
   "source": [
    "# Desviacion tipica\n",
    "import math\n",
    "\n",
    "media = sum(retr)/len(retr)\n",
    "stdev = 0\n",
    "\n",
    "for i in retr:\n",
    "    stdev = stdev + (i - media)**2\n",
    "\n",
    "    \n",
    "stdev = math.sqrt(stdev/len(retr))\n",
    "print(stdev)\n",
    "\n",
    "print(np.array(retr).std())"
   ]
  },
  {
   "cell_type": "code",
   "execution_count": 59,
   "metadata": {},
   "outputs": [
    {
     "data": {
      "image/png": "[encoded data removed]",
      "text/plain": [
       "<Figure size 432x288 with 1 Axes>"
      ]
     },
     "metadata": {
      "needs_background": "light"
     },
     "output_type": "display_data"
    }
   ],
   "source": [
    "plt.hist(retr, 4,histtype=\"stepfilled\", alpha=.7);"
   ]
  },
  {
   "cell_type": "code",
   "execution_count": null,
   "metadata": {},
   "outputs": [],
   "source": []
  }
 ],
 "metadata": {
  "kernelspec": {
   "display_name": "Python 3",
   "language": "python",
   "name": "python3"
  },
  "language_info": {
   "codemirror_mode": {
    "name": "ipython",
    "version": 3
   },
   "file_extension": ".py",
   "mimetype": "text/x-python",
   "name": "python",
   "nbconvert_exporter": "python",
   "pygments_lexer": "ipython3",
   "version": "3.8.3"
  }
 },
 "nbformat": 4,
 "nbformat_minor": 4
}
