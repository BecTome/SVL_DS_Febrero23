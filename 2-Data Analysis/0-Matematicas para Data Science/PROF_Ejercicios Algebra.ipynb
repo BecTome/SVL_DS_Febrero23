{
 "cells": [
  {
   "cell_type": "markdown",
   "metadata": {},
   "source": [
    "![imagen](./img/ejercicios.png)"
   ]
  },
  {
   "cell_type": "markdown",
   "metadata": {},
   "source": [
    "# Ejercicios Álgebra\n",
    "## Ecuaciones lineales\n",
    "Para la resolución de ejercicios tendrás que usar la función `linalg.solve` del módulo `numpy`:\n",
    "\n",
    "```Python\n",
    "A = np.array([[a, b],\n",
    "              [c, d]])\n",
    "\n",
    "b = np.array([e, f])\n",
    "\n",
    "x = np.linalg.solve(A, b)\n",
    "\n",
    "```"
   ]
  },
  {
   "cell_type": "markdown",
   "metadata": {},
   "source": [
    "### Ejercicio 1\n",
    "Encontrar dos números cuya suma sea 45 y cuya resta sea 21."
   ]
  },
  {
   "cell_type": "code",
   "execution_count": 1,
   "metadata": {},
   "outputs": [
    {
     "data": {
      "text/plain": [
       "array([33., 12.])"
      ]
     },
     "execution_count": 1,
     "metadata": {},
     "output_type": "execute_result"
    }
   ],
   "source": [
    "'''\n",
    "x + y = 45\n",
    "x - y = 21\n",
    "'''\n",
    "\n",
    "import numpy as np\n",
    "\n",
    "A = np.array([[1, 1],\n",
    "              [1, -1]])\n",
    "\n",
    "b = np.array([45, 21])\n",
    "\n",
    "x = np.linalg.solve(A, b)\n",
    "x"
   ]
  },
  {
   "cell_type": "markdown",
   "metadata": {},
   "source": [
    "### Ejercicio 2\n",
    "Hallar un número de dos cifras sabiendo que la suma de las cifras es 12 y que la primera de ellas es el triple de la segunda."
   ]
  },
  {
   "cell_type": "code",
   "execution_count": 2,
   "metadata": {},
   "outputs": [
    {
     "data": {
      "text/plain": [
       "array([9., 3.])"
      ]
     },
     "execution_count": 2,
     "metadata": {},
     "output_type": "execute_result"
    }
   ],
   "source": [
    "'''\n",
    "x + y = 12\n",
    "x = 3y\n",
    "'''\n",
    "\n",
    "A = np.array([[1, 1],\n",
    "              [1, -3]])\n",
    "\n",
    "b = np.array([12, 0])\n",
    "\n",
    "x = np.linalg.solve(A, b)\n",
    "x"
   ]
  },
  {
   "cell_type": "markdown",
   "metadata": {},
   "source": [
    "### Ejercicio 3\n",
    "Alberto y su padre se llevan 25 años de edad. Calcular la edad de Alberto sabiendo que dentro de 15 años la edad de su padre será el doble que la suya."
   ]
  },
  {
   "cell_type": "code",
   "execution_count": 3,
   "metadata": {},
   "outputs": [
    {
     "data": {
      "text/plain": [
       "array([10., 35.])"
      ]
     },
     "execution_count": 3,
     "metadata": {},
     "output_type": "execute_result"
    }
   ],
   "source": [
    "'''\n",
    "x + 25 = y\n",
    "2*(x + 15) = (y + 15) ----> 2x = y - 15\n",
    "'''\n",
    "\n",
    "A = np.array([[1, -1],\n",
    "              [2, -1]])\n",
    "\n",
    "b = np.array([-25, -15])\n",
    "\n",
    "x = np.linalg.solve(A, b)\n",
    "x"
   ]
  },
  {
   "cell_type": "markdown",
   "metadata": {},
   "source": [
    "### Ejercicio 4\n",
    "Hallar un número de tres cifras sabiendo que la suma de sus cifras es 11, que la suma de la primera y la tercera cifra es 5 y que la segunda cifra es el doble de la tercera."
   ]
  },
  {
   "cell_type": "code",
   "execution_count": 4,
   "metadata": {},
   "outputs": [
    {
     "data": {
      "text/plain": [
       "array([2., 6., 3.])"
      ]
     },
     "execution_count": 4,
     "metadata": {},
     "output_type": "execute_result"
    }
   ],
   "source": [
    "'''\n",
    "x + y + z = 11\n",
    "x + z = 5\n",
    "y = 2*z\n",
    "'''\n",
    "\n",
    "A = np.array([[1, 1, 1],\n",
    "              [1, 0, 1],\n",
    "              [0, 1, -2]])\n",
    "\n",
    "b = np.array([11, 5, 0])\n",
    "\n",
    "x = np.linalg.solve(A, b)\n",
    "x"
   ]
  },
  {
   "cell_type": "markdown",
   "metadata": {},
   "source": [
    "### Ejercicion 5\n",
    "En un aula, la asignatura de gimnasia la han aprobado el 62,5% de las alumnas y el 80% de los alumnos, mientras que la asignatura de historia la han aprobado 87,5% de las alumnas y el 60% de los alumnos:\n",
    "\n",
    "| |Gimnasia|Historia|\n",
    "|----|----|----|\n",
    "|Alumnas|62,5%|87,5%|\n",
    "|Alumnos|80%|60%|\n",
    "|Total|26|26|"
   ]
  },
  {
   "cell_type": "code",
   "execution_count": 5,
   "metadata": {},
   "outputs": [
    {
     "data": {
      "text/plain": [
       "array([16., 20.])"
      ]
     },
     "execution_count": 5,
     "metadata": {},
     "output_type": "execute_result"
    }
   ],
   "source": [
    "'''\n",
    "0.625x + 0.8y = 26\n",
    "0.875x + 0.6y = 26\n",
    "'''\n",
    "\n",
    "A = np.array([[0.625, 0.8],\n",
    "              [0.875, 0.6]])\n",
    "\n",
    "b = np.array([26, 26])\n",
    "\n",
    "x = np.linalg.solve(A, b)\n",
    "x"
   ]
  }
 ],
 "metadata": {
  "kernelspec": {
   "display_name": "Python 3",
   "language": "python",
   "name": "python3"
  },
  "language_info": {
   "codemirror_mode": {
    "name": "ipython",
    "version": 3
   },
   "file_extension": ".py",
   "mimetype": "text/x-python",
   "name": "python",
   "nbconvert_exporter": "python",
   "pygments_lexer": "ipython3",
   "version": "3.7.6"
  }
 },
 "nbformat": 4,
 "nbformat_minor": 4
}
