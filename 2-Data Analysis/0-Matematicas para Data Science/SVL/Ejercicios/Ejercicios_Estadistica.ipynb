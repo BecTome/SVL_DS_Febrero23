{
 "cells": [
  {
   "cell_type": "markdown",
   "metadata": {},
   "source": [
    "# Ejercicios de Estadística Descriptiva"
   ]
  },
  {
   "cell_type": "markdown",
   "metadata": {},
   "source": [
    "## Univariante"
   ]
  },
  {
   "cell_type": "markdown",
   "metadata": {},
   "source": [
    "# Ejercicio 1\n",
    "\n",
    "Las cifras dadas en la tabla adjunta corresponden a miligramos de hidroxiprolina absorbidos por 1 miligramo de masa intestinal, analizados en distintos pacientes:\n",
    "\n",
    "| hidroxipolina (mg) | 77.3 | 61.2 | 82.4 | 75.9 | 61 | 70.2 | 65 | 80 |\n",
    "|--------------------|------|------|------|------|----|------|----|----|\n",
    "| nº pacientes       | 3    | 10   | 15   | 13   | 8  | 5    | 2  | 0  |\n",
    "\n",
    "Se pide:\n",
    "\n",
    "1. Confeccionar la tabla de frecuencias.\n",
    "2. Calcular la media, mediana, moda y cuartiles.\n",
    "3. Calcular la desviación típica de la muestra.\n",
    "4. ¿Qué porcentaje de observaciones se concentra en el intervalo $(x −5\\sigma,x +5\\sigma)$?"
   ]
  },
  {
   "cell_type": "code",
   "execution_count": null,
   "metadata": {},
   "outputs": [],
   "source": []
  },
  {
   "cell_type": "markdown",
   "metadata": {},
   "source": [
    "# Multivariante"
   ]
  },
  {
   "cell_type": "markdown",
   "metadata": {},
   "source": [
    "# Ejercicio 2"
   ]
  },
  {
   "cell_type": "markdown",
   "metadata": {},
   "source": [
    "Los valores del pH sanguíneo de 32 individuos son los siguientes:\n",
    "\n",
    "|7.33 |7.31 |7.26 |7.33 |7.37 |7.27 |7.30 |7.33|\n",
    "|-----|-----|-----|-----|-----|-----|-----|----|\n",
    "|7.33 |7.32 |7.35 |7.39 |7.33 |7.38 |7.33 |7.31|\n",
    "|7.37 |7.35 |7.34 |7.32 |7.29 |7.35 |7.38 |7.32|\n",
    "|7.32 |7.33 |7.32 |7.40 |7.33 |7.32 |7.34 |7.33|\n",
    "\n",
    "1. Agrupar los datos en 5 intervalos y confeccionar la tabla de frecuencias.\n",
    "2. Calcular la media aritmética, la moda y la mediana.\n",
    "3. Hallar el tercer decil.\n",
    "4. Determinar el porcentaje de individuos que se concentra fuera del intervalo $(x −4\\sigma,x +4\\sigma)$"
   ]
  },
  {
   "cell_type": "markdown",
   "metadata": {},
   "source": [
    "# Ejercicio 3"
   ]
  },
  {
   "cell_type": "markdown",
   "metadata": {},
   "source": [
    "En pacientes con distrofia muscular progresiva (enfermedad de Duchenne), la actividad de creatinquinasa sérica se eleva llamativamente sobre el valor normal de 50 unidades por litro. Los siguientes\n",
    "datos son niveles séricos de creatinquinasa (en unidades por litro) medidos en 24 jóvenes pacientes con la enfermedad confirmada:\n",
    "\n",
    "|3720 |3795 |3340 |5600 |3800 |3580|\n",
    "|-----|-----|-----|-----|-----|----|\n",
    "|5500 |2000 |1570 |2360 |1500 |1840|\n",
    "|3725 |3790 |3345 |3805 |5595 |3575|\n",
    "|1995 |5505 |2055 |1575 |1835 |1505|\n",
    "\n",
    "Se pide:\n",
    "\n",
    "1. Agrupar los datos en 5 intervalos de clase.\n",
    "2. Determinar la media y la desviación típica. Calcular la moda y la mediana.\n",
    "3. Determinar el tercer cuartil, el séptimo decil y el centil 25."
   ]
  },
  {
   "cell_type": "markdown",
   "metadata": {},
   "source": []
  }
 ],
 "metadata": {
  "kernelspec": {
   "display_name": "Python 3.10.8 64-bit",
   "language": "python",
   "name": "python3"
  },
  "language_info": {
   "name": "python",
   "version": "3.10.8"
  },
  "orig_nbformat": 4,
  "vscode": {
   "interpreter": {
    "hash": "7600a12950a547366bb7a6732117e300ffd26224351912980486e1126c5d0f9a"
   }
  }
 },
 "nbformat": 4,
 "nbformat_minor": 2
}
