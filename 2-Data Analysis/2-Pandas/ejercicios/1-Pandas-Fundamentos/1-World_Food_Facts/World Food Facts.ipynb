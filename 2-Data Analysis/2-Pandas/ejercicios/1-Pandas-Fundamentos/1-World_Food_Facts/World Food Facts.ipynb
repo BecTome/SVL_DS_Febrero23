{
 "cells": [
  {
   "cell_type": "markdown",
   "metadata": {},
   "source": [
    "# Ex1 - Getting and knowing your Data"
   ]
  },
  {
   "cell_type": "markdown",
   "metadata": {},
   "source": [
    "### Step 1. Go to https://www.kaggle.com/openfoodfacts/world-food-facts/data (Done)"
   ]
  },
  {
   "cell_type": "markdown",
   "metadata": {},
   "source": [
    "###  Step 2. Download the dataset to your computer and unzip it. (Done)"
   ]
  },
  {
   "cell_type": "markdown",
   "metadata": {},
   "source": [
    "### Step 3. Use the csv file and assign it to a dataframe called food"
   ]
  },
  {
   "cell_type": "code",
   "execution_count": 1,
   "metadata": {},
   "outputs": [],
   "source": [
    "import pandas as pd"
   ]
  },
  {
   "cell_type": "code",
   "execution_count": 2,
   "metadata": {},
   "outputs": [
    {
     "data": {
      "text/html": [
       "<div>\n",
       "<style scoped>\n",
       "    .dataframe tbody tr th:only-of-type {\n",
       "        vertical-align: middle;\n",
       "    }\n",
       "\n",
       "    .dataframe tbody tr th {\n",
       "        vertical-align: top;\n",
       "    }\n",
       "\n",
       "    .dataframe thead th {\n",
       "        text-align: right;\n",
       "    }\n",
       "</style>\n",
       "<table border=\"1\" class=\"dataframe\">\n",
       "  <thead>\n",
       "    <tr style=\"text-align: right;\">\n",
       "      <th></th>\n",
       "      <th>code</th>\n",
       "      <th>url</th>\n",
       "      <th>creator</th>\n",
       "      <th>created_t</th>\n",
       "      <th>created_datetime</th>\n",
       "      <th>last_modified_t</th>\n",
       "      <th>last_modified_datetime</th>\n",
       "      <th>product_name</th>\n",
       "      <th>generic_name</th>\n",
       "      <th>quantity</th>\n",
       "      <th>...</th>\n",
       "      <th>fruits-vegetables-nuts_100g</th>\n",
       "      <th>fruits-vegetables-nuts-estimate_100g</th>\n",
       "      <th>collagen-meat-protein-ratio_100g</th>\n",
       "      <th>cocoa_100g</th>\n",
       "      <th>chlorophyl_100g</th>\n",
       "      <th>carbon-footprint_100g</th>\n",
       "      <th>nutrition-score-fr_100g</th>\n",
       "      <th>nutrition-score-uk_100g</th>\n",
       "      <th>glycemic-index_100g</th>\n",
       "      <th>water-hardness_100g</th>\n",
       "    </tr>\n",
       "  </thead>\n",
       "  <tbody>\n",
       "    <tr>\n",
       "      <th>0</th>\n",
       "      <td>3087</td>\n",
       "      <td>http://world-en.openfoodfacts.org/product/0000...</td>\n",
       "      <td>openfoodfacts-contributors</td>\n",
       "      <td>1474103866</td>\n",
       "      <td>2016-09-17T09:17:46Z</td>\n",
       "      <td>1474103893</td>\n",
       "      <td>2016-09-17T09:18:13Z</td>\n",
       "      <td>Farine de blé noir</td>\n",
       "      <td>NaN</td>\n",
       "      <td>1kg</td>\n",
       "      <td>...</td>\n",
       "      <td>NaN</td>\n",
       "      <td>NaN</td>\n",
       "      <td>NaN</td>\n",
       "      <td>NaN</td>\n",
       "      <td>NaN</td>\n",
       "      <td>NaN</td>\n",
       "      <td>NaN</td>\n",
       "      <td>NaN</td>\n",
       "      <td>NaN</td>\n",
       "      <td>NaN</td>\n",
       "    </tr>\n",
       "    <tr>\n",
       "      <th>1</th>\n",
       "      <td>4530</td>\n",
       "      <td>http://world-en.openfoodfacts.org/product/0000...</td>\n",
       "      <td>usda-ndb-import</td>\n",
       "      <td>1489069957</td>\n",
       "      <td>2017-03-09T14:32:37Z</td>\n",
       "      <td>1489069957</td>\n",
       "      <td>2017-03-09T14:32:37Z</td>\n",
       "      <td>Banana Chips Sweetened (Whole)</td>\n",
       "      <td>NaN</td>\n",
       "      <td>NaN</td>\n",
       "      <td>...</td>\n",
       "      <td>NaN</td>\n",
       "      <td>NaN</td>\n",
       "      <td>NaN</td>\n",
       "      <td>NaN</td>\n",
       "      <td>NaN</td>\n",
       "      <td>NaN</td>\n",
       "      <td>14.0</td>\n",
       "      <td>14.0</td>\n",
       "      <td>NaN</td>\n",
       "      <td>NaN</td>\n",
       "    </tr>\n",
       "    <tr>\n",
       "      <th>2</th>\n",
       "      <td>4559</td>\n",
       "      <td>http://world-en.openfoodfacts.org/product/0000...</td>\n",
       "      <td>usda-ndb-import</td>\n",
       "      <td>1489069957</td>\n",
       "      <td>2017-03-09T14:32:37Z</td>\n",
       "      <td>1489069957</td>\n",
       "      <td>2017-03-09T14:32:37Z</td>\n",
       "      <td>Peanuts</td>\n",
       "      <td>NaN</td>\n",
       "      <td>NaN</td>\n",
       "      <td>...</td>\n",
       "      <td>NaN</td>\n",
       "      <td>NaN</td>\n",
       "      <td>NaN</td>\n",
       "      <td>NaN</td>\n",
       "      <td>NaN</td>\n",
       "      <td>NaN</td>\n",
       "      <td>0.0</td>\n",
       "      <td>0.0</td>\n",
       "      <td>NaN</td>\n",
       "      <td>NaN</td>\n",
       "    </tr>\n",
       "    <tr>\n",
       "      <th>3</th>\n",
       "      <td>16087</td>\n",
       "      <td>http://world-en.openfoodfacts.org/product/0000...</td>\n",
       "      <td>usda-ndb-import</td>\n",
       "      <td>1489055731</td>\n",
       "      <td>2017-03-09T10:35:31Z</td>\n",
       "      <td>1489055731</td>\n",
       "      <td>2017-03-09T10:35:31Z</td>\n",
       "      <td>Organic Salted Nut Mix</td>\n",
       "      <td>NaN</td>\n",
       "      <td>NaN</td>\n",
       "      <td>...</td>\n",
       "      <td>NaN</td>\n",
       "      <td>NaN</td>\n",
       "      <td>NaN</td>\n",
       "      <td>NaN</td>\n",
       "      <td>NaN</td>\n",
       "      <td>NaN</td>\n",
       "      <td>12.0</td>\n",
       "      <td>12.0</td>\n",
       "      <td>NaN</td>\n",
       "      <td>NaN</td>\n",
       "    </tr>\n",
       "    <tr>\n",
       "      <th>4</th>\n",
       "      <td>16094</td>\n",
       "      <td>http://world-en.openfoodfacts.org/product/0000...</td>\n",
       "      <td>usda-ndb-import</td>\n",
       "      <td>1489055653</td>\n",
       "      <td>2017-03-09T10:34:13Z</td>\n",
       "      <td>1489055653</td>\n",
       "      <td>2017-03-09T10:34:13Z</td>\n",
       "      <td>Organic Polenta</td>\n",
       "      <td>NaN</td>\n",
       "      <td>NaN</td>\n",
       "      <td>...</td>\n",
       "      <td>NaN</td>\n",
       "      <td>NaN</td>\n",
       "      <td>NaN</td>\n",
       "      <td>NaN</td>\n",
       "      <td>NaN</td>\n",
       "      <td>NaN</td>\n",
       "      <td>NaN</td>\n",
       "      <td>NaN</td>\n",
       "      <td>NaN</td>\n",
       "      <td>NaN</td>\n",
       "    </tr>\n",
       "    <tr>\n",
       "      <th>...</th>\n",
       "      <td>...</td>\n",
       "      <td>...</td>\n",
       "      <td>...</td>\n",
       "      <td>...</td>\n",
       "      <td>...</td>\n",
       "      <td>...</td>\n",
       "      <td>...</td>\n",
       "      <td>...</td>\n",
       "      <td>...</td>\n",
       "      <td>...</td>\n",
       "      <td>...</td>\n",
       "      <td>...</td>\n",
       "      <td>...</td>\n",
       "      <td>...</td>\n",
       "      <td>...</td>\n",
       "      <td>...</td>\n",
       "      <td>...</td>\n",
       "      <td>...</td>\n",
       "      <td>...</td>\n",
       "      <td>...</td>\n",
       "      <td>...</td>\n",
       "    </tr>\n",
       "    <tr>\n",
       "      <th>95</th>\n",
       "      <td>34715</td>\n",
       "      <td>http://world-en.openfoodfacts.org/product/0000...</td>\n",
       "      <td>usda-ndb-import</td>\n",
       "      <td>1489055715</td>\n",
       "      <td>2017-03-09T10:35:15Z</td>\n",
       "      <td>1489055715</td>\n",
       "      <td>2017-03-09T10:35:15Z</td>\n",
       "      <td>Organic Pecan Halves</td>\n",
       "      <td>NaN</td>\n",
       "      <td>NaN</td>\n",
       "      <td>...</td>\n",
       "      <td>NaN</td>\n",
       "      <td>NaN</td>\n",
       "      <td>NaN</td>\n",
       "      <td>NaN</td>\n",
       "      <td>NaN</td>\n",
       "      <td>NaN</td>\n",
       "      <td>NaN</td>\n",
       "      <td>NaN</td>\n",
       "      <td>NaN</td>\n",
       "      <td>NaN</td>\n",
       "    </tr>\n",
       "    <tr>\n",
       "      <th>96</th>\n",
       "      <td>34784</td>\n",
       "      <td>http://world-en.openfoodfacts.org/product/0000...</td>\n",
       "      <td>usda-ndb-import</td>\n",
       "      <td>1489138485</td>\n",
       "      <td>2017-03-10T09:34:45Z</td>\n",
       "      <td>1489138485</td>\n",
       "      <td>2017-03-10T09:34:45Z</td>\n",
       "      <td>Unsalted Dry Roasted Almonds</td>\n",
       "      <td>NaN</td>\n",
       "      <td>NaN</td>\n",
       "      <td>...</td>\n",
       "      <td>NaN</td>\n",
       "      <td>NaN</td>\n",
       "      <td>NaN</td>\n",
       "      <td>NaN</td>\n",
       "      <td>NaN</td>\n",
       "      <td>NaN</td>\n",
       "      <td>NaN</td>\n",
       "      <td>NaN</td>\n",
       "      <td>NaN</td>\n",
       "      <td>NaN</td>\n",
       "    </tr>\n",
       "    <tr>\n",
       "      <th>97</th>\n",
       "      <td>34791</td>\n",
       "      <td>http://world-en.openfoodfacts.org/product/0000...</td>\n",
       "      <td>usda-ndb-import</td>\n",
       "      <td>1489055720</td>\n",
       "      <td>2017-03-09T10:35:20Z</td>\n",
       "      <td>1489055720</td>\n",
       "      <td>2017-03-09T10:35:20Z</td>\n",
       "      <td>Organic Raw Pumpkin Seeds</td>\n",
       "      <td>NaN</td>\n",
       "      <td>NaN</td>\n",
       "      <td>...</td>\n",
       "      <td>NaN</td>\n",
       "      <td>NaN</td>\n",
       "      <td>NaN</td>\n",
       "      <td>NaN</td>\n",
       "      <td>NaN</td>\n",
       "      <td>NaN</td>\n",
       "      <td>12.0</td>\n",
       "      <td>12.0</td>\n",
       "      <td>NaN</td>\n",
       "      <td>NaN</td>\n",
       "    </tr>\n",
       "    <tr>\n",
       "      <th>98</th>\n",
       "      <td>35071</td>\n",
       "      <td>http://world-en.openfoodfacts.org/product/0000...</td>\n",
       "      <td>usda-ndb-import</td>\n",
       "      <td>1489138484</td>\n",
       "      <td>2017-03-10T09:34:44Z</td>\n",
       "      <td>1489138484</td>\n",
       "      <td>2017-03-10T09:34:44Z</td>\n",
       "      <td>Organic Extra Virgin Olive Oil</td>\n",
       "      <td>NaN</td>\n",
       "      <td>NaN</td>\n",
       "      <td>...</td>\n",
       "      <td>NaN</td>\n",
       "      <td>NaN</td>\n",
       "      <td>NaN</td>\n",
       "      <td>NaN</td>\n",
       "      <td>NaN</td>\n",
       "      <td>NaN</td>\n",
       "      <td>NaN</td>\n",
       "      <td>NaN</td>\n",
       "      <td>NaN</td>\n",
       "      <td>NaN</td>\n",
       "    </tr>\n",
       "    <tr>\n",
       "      <th>99</th>\n",
       "      <td>35170</td>\n",
       "      <td>http://world-en.openfoodfacts.org/product/0000...</td>\n",
       "      <td>usda-ndb-import</td>\n",
       "      <td>1489138488</td>\n",
       "      <td>2017-03-10T09:34:48Z</td>\n",
       "      <td>1489138488</td>\n",
       "      <td>2017-03-10T09:34:48Z</td>\n",
       "      <td>Liquid Aminos</td>\n",
       "      <td>NaN</td>\n",
       "      <td>NaN</td>\n",
       "      <td>...</td>\n",
       "      <td>NaN</td>\n",
       "      <td>NaN</td>\n",
       "      <td>NaN</td>\n",
       "      <td>NaN</td>\n",
       "      <td>NaN</td>\n",
       "      <td>NaN</td>\n",
       "      <td>NaN</td>\n",
       "      <td>NaN</td>\n",
       "      <td>NaN</td>\n",
       "      <td>NaN</td>\n",
       "    </tr>\n",
       "  </tbody>\n",
       "</table>\n",
       "<p>100 rows × 163 columns</p>\n",
       "</div>"
      ],
      "text/plain": [
       "     code                                                url  \\\n",
       "0    3087  http://world-en.openfoodfacts.org/product/0000...   \n",
       "1    4530  http://world-en.openfoodfacts.org/product/0000...   \n",
       "2    4559  http://world-en.openfoodfacts.org/product/0000...   \n",
       "3   16087  http://world-en.openfoodfacts.org/product/0000...   \n",
       "4   16094  http://world-en.openfoodfacts.org/product/0000...   \n",
       "..    ...                                                ...   \n",
       "95  34715  http://world-en.openfoodfacts.org/product/0000...   \n",
       "96  34784  http://world-en.openfoodfacts.org/product/0000...   \n",
       "97  34791  http://world-en.openfoodfacts.org/product/0000...   \n",
       "98  35071  http://world-en.openfoodfacts.org/product/0000...   \n",
       "99  35170  http://world-en.openfoodfacts.org/product/0000...   \n",
       "\n",
       "                       creator   created_t      created_datetime  \\\n",
       "0   openfoodfacts-contributors  1474103866  2016-09-17T09:17:46Z   \n",
       "1              usda-ndb-import  1489069957  2017-03-09T14:32:37Z   \n",
       "2              usda-ndb-import  1489069957  2017-03-09T14:32:37Z   \n",
       "3              usda-ndb-import  1489055731  2017-03-09T10:35:31Z   \n",
       "4              usda-ndb-import  1489055653  2017-03-09T10:34:13Z   \n",
       "..                         ...         ...                   ...   \n",
       "95             usda-ndb-import  1489055715  2017-03-09T10:35:15Z   \n",
       "96             usda-ndb-import  1489138485  2017-03-10T09:34:45Z   \n",
       "97             usda-ndb-import  1489055720  2017-03-09T10:35:20Z   \n",
       "98             usda-ndb-import  1489138484  2017-03-10T09:34:44Z   \n",
       "99             usda-ndb-import  1489138488  2017-03-10T09:34:48Z   \n",
       "\n",
       "    last_modified_t last_modified_datetime                    product_name  \\\n",
       "0        1474103893   2016-09-17T09:18:13Z              Farine de blé noir   \n",
       "1        1489069957   2017-03-09T14:32:37Z  Banana Chips Sweetened (Whole)   \n",
       "2        1489069957   2017-03-09T14:32:37Z                         Peanuts   \n",
       "3        1489055731   2017-03-09T10:35:31Z          Organic Salted Nut Mix   \n",
       "4        1489055653   2017-03-09T10:34:13Z                 Organic Polenta   \n",
       "..              ...                    ...                             ...   \n",
       "95       1489055715   2017-03-09T10:35:15Z            Organic Pecan Halves   \n",
       "96       1489138485   2017-03-10T09:34:45Z    Unsalted Dry Roasted Almonds   \n",
       "97       1489055720   2017-03-09T10:35:20Z       Organic Raw Pumpkin Seeds   \n",
       "98       1489138484   2017-03-10T09:34:44Z  Organic Extra Virgin Olive Oil   \n",
       "99       1489138488   2017-03-10T09:34:48Z                   Liquid Aminos   \n",
       "\n",
       "    generic_name quantity  ... fruits-vegetables-nuts_100g  \\\n",
       "0            NaN      1kg  ...                         NaN   \n",
       "1            NaN      NaN  ...                         NaN   \n",
       "2            NaN      NaN  ...                         NaN   \n",
       "3            NaN      NaN  ...                         NaN   \n",
       "4            NaN      NaN  ...                         NaN   \n",
       "..           ...      ...  ...                         ...   \n",
       "95           NaN      NaN  ...                         NaN   \n",
       "96           NaN      NaN  ...                         NaN   \n",
       "97           NaN      NaN  ...                         NaN   \n",
       "98           NaN      NaN  ...                         NaN   \n",
       "99           NaN      NaN  ...                         NaN   \n",
       "\n",
       "   fruits-vegetables-nuts-estimate_100g collagen-meat-protein-ratio_100g  \\\n",
       "0                                   NaN                              NaN   \n",
       "1                                   NaN                              NaN   \n",
       "2                                   NaN                              NaN   \n",
       "3                                   NaN                              NaN   \n",
       "4                                   NaN                              NaN   \n",
       "..                                  ...                              ...   \n",
       "95                                  NaN                              NaN   \n",
       "96                                  NaN                              NaN   \n",
       "97                                  NaN                              NaN   \n",
       "98                                  NaN                              NaN   \n",
       "99                                  NaN                              NaN   \n",
       "\n",
       "   cocoa_100g chlorophyl_100g carbon-footprint_100g nutrition-score-fr_100g  \\\n",
       "0         NaN             NaN                   NaN                     NaN   \n",
       "1         NaN             NaN                   NaN                    14.0   \n",
       "2         NaN             NaN                   NaN                     0.0   \n",
       "3         NaN             NaN                   NaN                    12.0   \n",
       "4         NaN             NaN                   NaN                     NaN   \n",
       "..        ...             ...                   ...                     ...   \n",
       "95        NaN             NaN                   NaN                     NaN   \n",
       "96        NaN             NaN                   NaN                     NaN   \n",
       "97        NaN             NaN                   NaN                    12.0   \n",
       "98        NaN             NaN                   NaN                     NaN   \n",
       "99        NaN             NaN                   NaN                     NaN   \n",
       "\n",
       "    nutrition-score-uk_100g  glycemic-index_100g  water-hardness_100g  \n",
       "0                       NaN                  NaN                  NaN  \n",
       "1                      14.0                  NaN                  NaN  \n",
       "2                       0.0                  NaN                  NaN  \n",
       "3                      12.0                  NaN                  NaN  \n",
       "4                       NaN                  NaN                  NaN  \n",
       "..                      ...                  ...                  ...  \n",
       "95                      NaN                  NaN                  NaN  \n",
       "96                      NaN                  NaN                  NaN  \n",
       "97                     12.0                  NaN                  NaN  \n",
       "98                      NaN                  NaN                  NaN  \n",
       "99                      NaN                  NaN                  NaN  \n",
       "\n",
       "[100 rows x 163 columns]"
      ]
     },
     "execution_count": 2,
     "metadata": {},
     "output_type": "execute_result"
    }
   ],
   "source": [
    "# food = pd.read_csv(\"food_100.csv\").drop(columns=['Unnamed: 0'])\n",
    "food = pd.read_csv(\"food_100.csv\", index_col = \"Unnamed: 0\")\n",
    "food"
   ]
  },
  {
   "cell_type": "markdown",
   "metadata": {},
   "source": [
    "### Step 4. See the first 5 entries"
   ]
  },
  {
   "cell_type": "code",
   "execution_count": 6,
   "metadata": {},
   "outputs": [
    {
     "data": {
      "text/html": [
       "<div>\n",
       "<style scoped>\n",
       "    .dataframe tbody tr th:only-of-type {\n",
       "        vertical-align: middle;\n",
       "    }\n",
       "\n",
       "    .dataframe tbody tr th {\n",
       "        vertical-align: top;\n",
       "    }\n",
       "\n",
       "    .dataframe thead th {\n",
       "        text-align: right;\n",
       "    }\n",
       "</style>\n",
       "<table border=\"1\" class=\"dataframe\">\n",
       "  <thead>\n",
       "    <tr style=\"text-align: right;\">\n",
       "      <th></th>\n",
       "      <th>code</th>\n",
       "      <th>url</th>\n",
       "      <th>creator</th>\n",
       "      <th>created_t</th>\n",
       "      <th>created_datetime</th>\n",
       "      <th>last_modified_t</th>\n",
       "      <th>last_modified_datetime</th>\n",
       "      <th>product_name</th>\n",
       "      <th>generic_name</th>\n",
       "      <th>quantity</th>\n",
       "      <th>...</th>\n",
       "      <th>fruits-vegetables-nuts_100g</th>\n",
       "      <th>fruits-vegetables-nuts-estimate_100g</th>\n",
       "      <th>collagen-meat-protein-ratio_100g</th>\n",
       "      <th>cocoa_100g</th>\n",
       "      <th>chlorophyl_100g</th>\n",
       "      <th>carbon-footprint_100g</th>\n",
       "      <th>nutrition-score-fr_100g</th>\n",
       "      <th>nutrition-score-uk_100g</th>\n",
       "      <th>glycemic-index_100g</th>\n",
       "      <th>water-hardness_100g</th>\n",
       "    </tr>\n",
       "  </thead>\n",
       "  <tbody>\n",
       "    <tr>\n",
       "      <th>0</th>\n",
       "      <td>3087</td>\n",
       "      <td>http://world-en.openfoodfacts.org/product/0000...</td>\n",
       "      <td>openfoodfacts-contributors</td>\n",
       "      <td>1474103866</td>\n",
       "      <td>2016-09-17T09:17:46Z</td>\n",
       "      <td>1474103893</td>\n",
       "      <td>2016-09-17T09:18:13Z</td>\n",
       "      <td>Farine de blé noir</td>\n",
       "      <td>NaN</td>\n",
       "      <td>1kg</td>\n",
       "      <td>...</td>\n",
       "      <td>NaN</td>\n",
       "      <td>NaN</td>\n",
       "      <td>NaN</td>\n",
       "      <td>NaN</td>\n",
       "      <td>NaN</td>\n",
       "      <td>NaN</td>\n",
       "      <td>NaN</td>\n",
       "      <td>NaN</td>\n",
       "      <td>NaN</td>\n",
       "      <td>NaN</td>\n",
       "    </tr>\n",
       "    <tr>\n",
       "      <th>1</th>\n",
       "      <td>4530</td>\n",
       "      <td>http://world-en.openfoodfacts.org/product/0000...</td>\n",
       "      <td>usda-ndb-import</td>\n",
       "      <td>1489069957</td>\n",
       "      <td>2017-03-09T14:32:37Z</td>\n",
       "      <td>1489069957</td>\n",
       "      <td>2017-03-09T14:32:37Z</td>\n",
       "      <td>Banana Chips Sweetened (Whole)</td>\n",
       "      <td>NaN</td>\n",
       "      <td>NaN</td>\n",
       "      <td>...</td>\n",
       "      <td>NaN</td>\n",
       "      <td>NaN</td>\n",
       "      <td>NaN</td>\n",
       "      <td>NaN</td>\n",
       "      <td>NaN</td>\n",
       "      <td>NaN</td>\n",
       "      <td>14.0</td>\n",
       "      <td>14.0</td>\n",
       "      <td>NaN</td>\n",
       "      <td>NaN</td>\n",
       "    </tr>\n",
       "    <tr>\n",
       "      <th>2</th>\n",
       "      <td>4559</td>\n",
       "      <td>http://world-en.openfoodfacts.org/product/0000...</td>\n",
       "      <td>usda-ndb-import</td>\n",
       "      <td>1489069957</td>\n",
       "      <td>2017-03-09T14:32:37Z</td>\n",
       "      <td>1489069957</td>\n",
       "      <td>2017-03-09T14:32:37Z</td>\n",
       "      <td>Peanuts</td>\n",
       "      <td>NaN</td>\n",
       "      <td>NaN</td>\n",
       "      <td>...</td>\n",
       "      <td>NaN</td>\n",
       "      <td>NaN</td>\n",
       "      <td>NaN</td>\n",
       "      <td>NaN</td>\n",
       "      <td>NaN</td>\n",
       "      <td>NaN</td>\n",
       "      <td>0.0</td>\n",
       "      <td>0.0</td>\n",
       "      <td>NaN</td>\n",
       "      <td>NaN</td>\n",
       "    </tr>\n",
       "    <tr>\n",
       "      <th>3</th>\n",
       "      <td>16087</td>\n",
       "      <td>http://world-en.openfoodfacts.org/product/0000...</td>\n",
       "      <td>usda-ndb-import</td>\n",
       "      <td>1489055731</td>\n",
       "      <td>2017-03-09T10:35:31Z</td>\n",
       "      <td>1489055731</td>\n",
       "      <td>2017-03-09T10:35:31Z</td>\n",
       "      <td>Organic Salted Nut Mix</td>\n",
       "      <td>NaN</td>\n",
       "      <td>NaN</td>\n",
       "      <td>...</td>\n",
       "      <td>NaN</td>\n",
       "      <td>NaN</td>\n",
       "      <td>NaN</td>\n",
       "      <td>NaN</td>\n",
       "      <td>NaN</td>\n",
       "      <td>NaN</td>\n",
       "      <td>12.0</td>\n",
       "      <td>12.0</td>\n",
       "      <td>NaN</td>\n",
       "      <td>NaN</td>\n",
       "    </tr>\n",
       "    <tr>\n",
       "      <th>4</th>\n",
       "      <td>16094</td>\n",
       "      <td>http://world-en.openfoodfacts.org/product/0000...</td>\n",
       "      <td>usda-ndb-import</td>\n",
       "      <td>1489055653</td>\n",
       "      <td>2017-03-09T10:34:13Z</td>\n",
       "      <td>1489055653</td>\n",
       "      <td>2017-03-09T10:34:13Z</td>\n",
       "      <td>Organic Polenta</td>\n",
       "      <td>NaN</td>\n",
       "      <td>NaN</td>\n",
       "      <td>...</td>\n",
       "      <td>NaN</td>\n",
       "      <td>NaN</td>\n",
       "      <td>NaN</td>\n",
       "      <td>NaN</td>\n",
       "      <td>NaN</td>\n",
       "      <td>NaN</td>\n",
       "      <td>NaN</td>\n",
       "      <td>NaN</td>\n",
       "      <td>NaN</td>\n",
       "      <td>NaN</td>\n",
       "    </tr>\n",
       "  </tbody>\n",
       "</table>\n",
       "<p>5 rows × 163 columns</p>\n",
       "</div>"
      ],
      "text/plain": [
       "    code                                                url  \\\n",
       "0   3087  http://world-en.openfoodfacts.org/product/0000...   \n",
       "1   4530  http://world-en.openfoodfacts.org/product/0000...   \n",
       "2   4559  http://world-en.openfoodfacts.org/product/0000...   \n",
       "3  16087  http://world-en.openfoodfacts.org/product/0000...   \n",
       "4  16094  http://world-en.openfoodfacts.org/product/0000...   \n",
       "\n",
       "                      creator   created_t      created_datetime  \\\n",
       "0  openfoodfacts-contributors  1474103866  2016-09-17T09:17:46Z   \n",
       "1             usda-ndb-import  1489069957  2017-03-09T14:32:37Z   \n",
       "2             usda-ndb-import  1489069957  2017-03-09T14:32:37Z   \n",
       "3             usda-ndb-import  1489055731  2017-03-09T10:35:31Z   \n",
       "4             usda-ndb-import  1489055653  2017-03-09T10:34:13Z   \n",
       "\n",
       "   last_modified_t last_modified_datetime                    product_name  \\\n",
       "0       1474103893   2016-09-17T09:18:13Z              Farine de blé noir   \n",
       "1       1489069957   2017-03-09T14:32:37Z  Banana Chips Sweetened (Whole)   \n",
       "2       1489069957   2017-03-09T14:32:37Z                         Peanuts   \n",
       "3       1489055731   2017-03-09T10:35:31Z          Organic Salted Nut Mix   \n",
       "4       1489055653   2017-03-09T10:34:13Z                 Organic Polenta   \n",
       "\n",
       "   generic_name quantity  ... fruits-vegetables-nuts_100g  \\\n",
       "0           NaN      1kg  ...                         NaN   \n",
       "1           NaN      NaN  ...                         NaN   \n",
       "2           NaN      NaN  ...                         NaN   \n",
       "3           NaN      NaN  ...                         NaN   \n",
       "4           NaN      NaN  ...                         NaN   \n",
       "\n",
       "  fruits-vegetables-nuts-estimate_100g collagen-meat-protein-ratio_100g  \\\n",
       "0                                  NaN                              NaN   \n",
       "1                                  NaN                              NaN   \n",
       "2                                  NaN                              NaN   \n",
       "3                                  NaN                              NaN   \n",
       "4                                  NaN                              NaN   \n",
       "\n",
       "  cocoa_100g chlorophyl_100g carbon-footprint_100g nutrition-score-fr_100g  \\\n",
       "0        NaN             NaN                   NaN                     NaN   \n",
       "1        NaN             NaN                   NaN                    14.0   \n",
       "2        NaN             NaN                   NaN                     0.0   \n",
       "3        NaN             NaN                   NaN                    12.0   \n",
       "4        NaN             NaN                   NaN                     NaN   \n",
       "\n",
       "   nutrition-score-uk_100g  glycemic-index_100g  water-hardness_100g  \n",
       "0                      NaN                  NaN                  NaN  \n",
       "1                     14.0                  NaN                  NaN  \n",
       "2                      0.0                  NaN                  NaN  \n",
       "3                     12.0                  NaN                  NaN  \n",
       "4                      NaN                  NaN                  NaN  \n",
       "\n",
       "[5 rows x 163 columns]"
      ]
     },
     "execution_count": 6,
     "metadata": {},
     "output_type": "execute_result"
    }
   ],
   "source": [
    "food.head()"
   ]
  },
  {
   "cell_type": "markdown",
   "metadata": {},
   "source": [
    "### Step 5. What is the number of observations in the dataset?"
   ]
  },
  {
   "cell_type": "code",
   "execution_count": 4,
   "metadata": {},
   "outputs": [
    {
     "data": {
      "text/plain": [
       "(100, 163)"
      ]
     },
     "execution_count": 4,
     "metadata": {},
     "output_type": "execute_result"
    }
   ],
   "source": [
    "food.shape"
   ]
  },
  {
   "cell_type": "code",
   "execution_count": 5,
   "metadata": {},
   "outputs": [
    {
     "data": {
      "text/plain": [
       "100"
      ]
     },
     "execution_count": 5,
     "metadata": {},
     "output_type": "execute_result"
    }
   ],
   "source": [
    "len(food)"
   ]
  },
  {
   "cell_type": "code",
   "execution_count": 6,
   "metadata": {},
   "outputs": [
    {
     "name": "stdout",
     "output_type": "stream",
     "text": [
      "<class 'pandas.core.frame.DataFrame'>\n",
      "Int64Index: 100 entries, 0 to 99\n",
      "Columns: 163 entries, code to water-hardness_100g\n",
      "dtypes: float64(125), int64(3), object(35)\n",
      "memory usage: 128.1+ KB\n"
     ]
    }
   ],
   "source": [
    "food.info()"
   ]
  },
  {
   "cell_type": "markdown",
   "metadata": {},
   "source": [
    "### Step 6. What is the number of columns in the dataset?"
   ]
  },
  {
   "cell_type": "code",
   "execution_count": 15,
   "metadata": {},
   "outputs": [
    {
     "data": {
      "text/plain": [
       "163"
      ]
     },
     "execution_count": 15,
     "metadata": {},
     "output_type": "execute_result"
    }
   ],
   "source": [
    "food.shape[1]"
   ]
  },
  {
   "cell_type": "code",
   "execution_count": 16,
   "metadata": {},
   "outputs": [
    {
     "data": {
      "text/plain": [
       "163"
      ]
     },
     "execution_count": 16,
     "metadata": {},
     "output_type": "execute_result"
    }
   ],
   "source": [
    "len(food.columns)"
   ]
  },
  {
   "cell_type": "markdown",
   "metadata": {},
   "source": [
    "### Step 7. Print the name of all the columns."
   ]
  },
  {
   "cell_type": "code",
   "execution_count": 18,
   "metadata": {},
   "outputs": [
    {
     "name": "stdout",
     "output_type": "stream",
     "text": [
      "Index(['code', 'url', 'creator', 'created_t', 'created_datetime',\n",
      "       'last_modified_t', 'last_modified_datetime', 'product_name',\n",
      "       'generic_name', 'quantity',\n",
      "       ...\n",
      "       'fruits-vegetables-nuts_100g', 'fruits-vegetables-nuts-estimate_100g',\n",
      "       'collagen-meat-protein-ratio_100g', 'cocoa_100g', 'chlorophyl_100g',\n",
      "       'carbon-footprint_100g', 'nutrition-score-fr_100g',\n",
      "       'nutrition-score-uk_100g', 'glycemic-index_100g',\n",
      "       'water-hardness_100g'],\n",
      "      dtype='object', length=163)\n"
     ]
    }
   ],
   "source": [
    "print(food.columns)"
   ]
  },
  {
   "cell_type": "code",
   "execution_count": 7,
   "metadata": {},
   "outputs": [
    {
     "name": "stdout",
     "output_type": "stream",
     "text": [
      "code\n",
      "url\n",
      "creator\n",
      "created_t\n",
      "created_datetime\n",
      "last_modified_t\n",
      "last_modified_datetime\n",
      "product_name\n",
      "generic_name\n",
      "quantity\n",
      "packaging\n",
      "packaging_tags\n",
      "brands\n",
      "brands_tags\n",
      "categories\n",
      "categories_tags\n",
      "categories_en\n",
      "origins\n",
      "origins_tags\n",
      "manufacturing_places\n",
      "manufacturing_places_tags\n",
      "labels\n",
      "labels_tags\n",
      "labels_en\n",
      "emb_codes\n",
      "emb_codes_tags\n",
      "first_packaging_code_geo\n",
      "cities\n",
      "cities_tags\n",
      "purchase_places\n",
      "stores\n",
      "countries\n",
      "countries_tags\n",
      "countries_en\n",
      "ingredients_text\n",
      "allergens\n",
      "allergens_en\n",
      "traces\n",
      "traces_tags\n",
      "traces_en\n",
      "serving_size\n",
      "no_nutriments\n",
      "additives_n\n",
      "additives\n",
      "additives_tags\n",
      "additives_en\n",
      "ingredients_from_palm_oil_n\n",
      "ingredients_from_palm_oil\n",
      "ingredients_from_palm_oil_tags\n",
      "ingredients_that_may_be_from_palm_oil_n\n",
      "ingredients_that_may_be_from_palm_oil\n",
      "ingredients_that_may_be_from_palm_oil_tags\n",
      "nutrition_grade_uk\n",
      "nutrition_grade_fr\n",
      "pnns_groups_1\n",
      "pnns_groups_2\n",
      "states\n",
      "states_tags\n",
      "states_en\n",
      "main_category\n",
      "main_category_en\n",
      "image_url\n",
      "image_small_url\n",
      "energy_100g\n",
      "energy-from-fat_100g\n",
      "fat_100g\n",
      "saturated-fat_100g\n",
      "-butyric-acid_100g\n",
      "-caproic-acid_100g\n",
      "-caprylic-acid_100g\n",
      "-capric-acid_100g\n",
      "-lauric-acid_100g\n",
      "-myristic-acid_100g\n",
      "-palmitic-acid_100g\n",
      "-stearic-acid_100g\n",
      "-arachidic-acid_100g\n",
      "-behenic-acid_100g\n",
      "-lignoceric-acid_100g\n",
      "-cerotic-acid_100g\n",
      "-montanic-acid_100g\n",
      "-melissic-acid_100g\n",
      "monounsaturated-fat_100g\n",
      "polyunsaturated-fat_100g\n",
      "omega-3-fat_100g\n",
      "-alpha-linolenic-acid_100g\n",
      "-eicosapentaenoic-acid_100g\n",
      "-docosahexaenoic-acid_100g\n",
      "omega-6-fat_100g\n",
      "-linoleic-acid_100g\n",
      "-arachidonic-acid_100g\n",
      "-gamma-linolenic-acid_100g\n",
      "-dihomo-gamma-linolenic-acid_100g\n",
      "omega-9-fat_100g\n",
      "-oleic-acid_100g\n",
      "-elaidic-acid_100g\n",
      "-gondoic-acid_100g\n",
      "-mead-acid_100g\n",
      "-erucic-acid_100g\n",
      "-nervonic-acid_100g\n",
      "trans-fat_100g\n",
      "cholesterol_100g\n",
      "carbohydrates_100g\n",
      "sugars_100g\n",
      "-sucrose_100g\n",
      "-glucose_100g\n",
      "-fructose_100g\n",
      "-lactose_100g\n",
      "-maltose_100g\n",
      "-maltodextrins_100g\n",
      "starch_100g\n",
      "polyols_100g\n",
      "fiber_100g\n",
      "proteins_100g\n",
      "casein_100g\n",
      "serum-proteins_100g\n",
      "nucleotides_100g\n",
      "salt_100g\n",
      "sodium_100g\n",
      "alcohol_100g\n",
      "vitamin-a_100g\n",
      "beta-carotene_100g\n",
      "vitamin-d_100g\n",
      "vitamin-e_100g\n",
      "vitamin-k_100g\n",
      "vitamin-c_100g\n",
      "vitamin-b1_100g\n",
      "vitamin-b2_100g\n",
      "vitamin-pp_100g\n",
      "vitamin-b6_100g\n",
      "vitamin-b9_100g\n",
      "folates_100g\n",
      "vitamin-b12_100g\n",
      "biotin_100g\n",
      "pantothenic-acid_100g\n",
      "silica_100g\n",
      "bicarbonate_100g\n",
      "potassium_100g\n",
      "chloride_100g\n",
      "calcium_100g\n",
      "phosphorus_100g\n",
      "iron_100g\n",
      "magnesium_100g\n",
      "zinc_100g\n",
      "copper_100g\n",
      "manganese_100g\n",
      "fluoride_100g\n",
      "selenium_100g\n",
      "chromium_100g\n",
      "molybdenum_100g\n",
      "iodine_100g\n",
      "caffeine_100g\n",
      "taurine_100g\n",
      "ph_100g\n",
      "fruits-vegetables-nuts_100g\n",
      "fruits-vegetables-nuts-estimate_100g\n",
      "collagen-meat-protein-ratio_100g\n",
      "cocoa_100g\n",
      "chlorophyl_100g\n",
      "carbon-footprint_100g\n",
      "nutrition-score-fr_100g\n",
      "nutrition-score-uk_100g\n",
      "glycemic-index_100g\n",
      "water-hardness_100g\n"
     ]
    }
   ],
   "source": [
    "for columna in food.columns:\n",
    "    print(columna)"
   ]
  },
  {
   "cell_type": "markdown",
   "metadata": {},
   "source": [
    "### Step 8. What is the name of 105th column?"
   ]
  },
  {
   "cell_type": "code",
   "execution_count": 22,
   "metadata": {},
   "outputs": [
    {
     "data": {
      "text/plain": [
       "'-glucose_100g'"
      ]
     },
     "execution_count": 22,
     "metadata": {},
     "output_type": "execute_result"
    }
   ],
   "source": [
    "food.columns[104]"
   ]
  },
  {
   "cell_type": "markdown",
   "metadata": {},
   "source": [
    "### Step 9. What is the type of the observations of the 105th column?"
   ]
  },
  {
   "cell_type": "code",
   "execution_count": 8,
   "metadata": {},
   "outputs": [
    {
     "data": {
      "text/plain": [
       "dtype('float64')"
      ]
     },
     "execution_count": 8,
     "metadata": {},
     "output_type": "execute_result"
    }
   ],
   "source": [
    "food.dtypes[food.columns[104]]"
   ]
  },
  {
   "cell_type": "markdown",
   "metadata": {},
   "source": [
    "### Step 10. How is the dataset indexed?"
   ]
  },
  {
   "cell_type": "code",
   "execution_count": 28,
   "metadata": {},
   "outputs": [
    {
     "data": {
      "text/plain": [
       "Int64Index([ 0,  1,  2,  3,  4,  5,  6,  7,  8,  9, 10, 11, 12, 13, 14, 15, 16,\n",
       "            17, 18, 19, 20, 21, 22, 23, 24, 25, 26, 27, 28, 29, 30, 31, 32, 33,\n",
       "            34, 35, 36, 37, 38, 39, 40, 41, 42, 43, 44, 45, 46, 47, 48, 49, 50,\n",
       "            51, 52, 53, 54, 55, 56, 57, 58, 59, 60, 61, 62, 63, 64, 65, 66, 67,\n",
       "            68, 69, 70, 71, 72, 73, 74, 75, 76, 77, 78, 79, 80, 81, 82, 83, 84,\n",
       "            85, 86, 87, 88, 89, 90, 91, 92, 93, 94, 95, 96, 97, 98, 99],\n",
       "           dtype='int64')"
      ]
     },
     "execution_count": 28,
     "metadata": {},
     "output_type": "execute_result"
    }
   ],
   "source": [
    "food.index"
   ]
  },
  {
   "cell_type": "markdown",
   "metadata": {},
   "source": [
    "### Step 11. What is the product name of the 19th observation?"
   ]
  },
  {
   "cell_type": "code",
   "execution_count": 9,
   "metadata": {},
   "outputs": [
    {
     "data": {
      "text/plain": [
       "'Lotus Organic Brown Jasmine Rice'"
      ]
     },
     "execution_count": 9,
     "metadata": {},
     "output_type": "execute_result"
    }
   ],
   "source": [
    "food.loc[18,'product_name']"
   ]
  },
  {
   "cell_type": "code",
   "execution_count": 31,
   "metadata": {},
   "outputs": [
    {
     "data": {
      "text/plain": [
       "7"
      ]
     },
     "execution_count": 31,
     "metadata": {},
     "output_type": "execute_result"
    }
   ],
   "source": [
    "food.columns.get_loc(\"product_name\")"
   ]
  },
  {
   "cell_type": "code",
   "execution_count": 32,
   "metadata": {},
   "outputs": [
    {
     "data": {
      "text/plain": [
       "'Lotus Organic Brown Jasmine Rice'"
      ]
     },
     "execution_count": 32,
     "metadata": {},
     "output_type": "execute_result"
    }
   ],
   "source": [
    "food.iloc[18,7]"
   ]
  }
 ],
 "metadata": {
  "anaconda-cloud": {},
  "kernelspec": {
   "display_name": "Python 3.7.9 64-bit",
   "language": "python",
   "name": "python3"
  },
  "language_info": {
   "codemirror_mode": {
    "name": "ipython",
    "version": 3
   },
   "file_extension": ".py",
   "mimetype": "text/x-python",
   "name": "python",
   "nbconvert_exporter": "python",
   "pygments_lexer": "ipython3",
   "version": "3.7.9"
  },
  "vscode": {
   "interpreter": {
    "hash": "ec2a379ed5c25334a484232182c9d38ef8bd9861e2542d0c517568c4f99a9a7c"
   }
  }
 },
 "nbformat": 4,
 "nbformat_minor": 4
}
