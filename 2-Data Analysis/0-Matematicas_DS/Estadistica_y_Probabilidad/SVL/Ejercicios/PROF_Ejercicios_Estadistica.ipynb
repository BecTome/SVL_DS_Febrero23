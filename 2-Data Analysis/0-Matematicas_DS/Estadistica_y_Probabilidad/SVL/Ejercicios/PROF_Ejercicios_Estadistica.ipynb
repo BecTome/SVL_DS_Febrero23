{
 "cells": [
  {
   "cell_type": "markdown",
   "metadata": {},
   "source": [
    "# Ejercicios de Estadística Descriptiva"
   ]
  },
  {
   "cell_type": "markdown",
   "metadata": {},
   "source": [
    "## Univariante"
   ]
  },
  {
   "cell_type": "code",
   "execution_count": 1,
   "metadata": {},
   "outputs": [],
   "source": [
    "import pandas as pd\n",
    "import numpy as np"
   ]
  },
  {
   "cell_type": "markdown",
   "metadata": {},
   "source": [
    "# Ejercicio 1\n",
    "\n",
    "Las cifras dadas en la tabla adjunta corresponden a miligramos de hidroxiprolina absorbidos por 1 miligramo de masa intestinal, analizados en distintos pacientes:\n",
    "\n",
    "| hidroxipolina (mg) | 77.3 | 61.2 | 82.4 | 75.9 | 61 | 70.2 | 65 | 80 |\n",
    "|--------------------|------|------|------|------|----|------|----|----|\n",
    "| nº pacientes       | 3    | 10   | 15   | 13   | 8  | 5    | 2  | 0  |\n",
    "\n",
    "Se pide:\n",
    "\n",
    "1. Confeccionar la tabla de frecuencias.\n",
    "2. Calcular la media, mediana, moda y cuartiles.\n",
    "3. Calcular la desviación típica de la muestra.\n",
    "4. ¿Qué porcentaje de observaciones se concentra en el intervalo $(x −5\\sigma,x +5\\sigma)$?"
   ]
  },
  {
   "cell_type": "markdown",
   "metadata": {},
   "source": [
    "#### 1. Tabla de Frecuencias"
   ]
  },
  {
   "cell_type": "code",
   "execution_count": 5,
   "metadata": {},
   "outputs": [
    {
     "data": {
      "text/html": [
       "<div>\n",
       "<style scoped>\n",
       "    .dataframe tbody tr th:only-of-type {\n",
       "        vertical-align: middle;\n",
       "    }\n",
       "\n",
       "    .dataframe tbody tr th {\n",
       "        vertical-align: top;\n",
       "    }\n",
       "\n",
       "    .dataframe thead th {\n",
       "        text-align: right;\n",
       "    }\n",
       "</style>\n",
       "<table border=\"1\" class=\"dataframe\">\n",
       "  <thead>\n",
       "    <tr style=\"text-align: right;\">\n",
       "      <th></th>\n",
       "      <th>x_i</th>\n",
       "      <th>n_i</th>\n",
       "    </tr>\n",
       "  </thead>\n",
       "  <tbody>\n",
       "    <tr>\n",
       "      <th>4</th>\n",
       "      <td>61.0</td>\n",
       "      <td>8</td>\n",
       "    </tr>\n",
       "    <tr>\n",
       "      <th>1</th>\n",
       "      <td>61.2</td>\n",
       "      <td>10</td>\n",
       "    </tr>\n",
       "    <tr>\n",
       "      <th>6</th>\n",
       "      <td>65.0</td>\n",
       "      <td>2</td>\n",
       "    </tr>\n",
       "    <tr>\n",
       "      <th>5</th>\n",
       "      <td>70.2</td>\n",
       "      <td>5</td>\n",
       "    </tr>\n",
       "    <tr>\n",
       "      <th>3</th>\n",
       "      <td>75.9</td>\n",
       "      <td>13</td>\n",
       "    </tr>\n",
       "    <tr>\n",
       "      <th>0</th>\n",
       "      <td>77.3</td>\n",
       "      <td>3</td>\n",
       "    </tr>\n",
       "    <tr>\n",
       "      <th>7</th>\n",
       "      <td>80.0</td>\n",
       "      <td>0</td>\n",
       "    </tr>\n",
       "    <tr>\n",
       "      <th>2</th>\n",
       "      <td>82.4</td>\n",
       "      <td>15</td>\n",
       "    </tr>\n",
       "  </tbody>\n",
       "</table>\n",
       "</div>"
      ],
      "text/plain": [
       "    x_i  n_i\n",
       "4  61.0    8\n",
       "1  61.2   10\n",
       "6  65.0    2\n",
       "5  70.2    5\n",
       "3  75.9   13\n",
       "0  77.3    3\n",
       "7  80.0    0\n",
       "2  82.4   15"
      ]
     },
     "execution_count": 5,
     "metadata": {},
     "output_type": "execute_result"
    }
   ],
   "source": [
    "ls_data = [77.3, 61.2, 82.4, 75.9, 61, 70.2, 65, 80]\n",
    "ls_count_data = [3, 10, 15, 13, 8, 5, 2, 0]\n",
    "\n",
    "df_freq = pd.DataFrame({'x_i': ls_data, 'n_i': ls_count_data})\n",
    "df_freq = df_freq.sort_values(by='x_i')\n",
    "df_freq"
   ]
  },
  {
   "cell_type": "code",
   "execution_count": 6,
   "metadata": {},
   "outputs": [
    {
     "data": {
      "text/html": [
       "<div>\n",
       "<style scoped>\n",
       "    .dataframe tbody tr th:only-of-type {\n",
       "        vertical-align: middle;\n",
       "    }\n",
       "\n",
       "    .dataframe tbody tr th {\n",
       "        vertical-align: top;\n",
       "    }\n",
       "\n",
       "    .dataframe thead th {\n",
       "        text-align: right;\n",
       "    }\n",
       "</style>\n",
       "<table border=\"1\" class=\"dataframe\">\n",
       "  <thead>\n",
       "    <tr style=\"text-align: right;\">\n",
       "      <th></th>\n",
       "      <th>x_i</th>\n",
       "      <th>n_i</th>\n",
       "      <th>N_i</th>\n",
       "      <th>f_i</th>\n",
       "      <th>F_i</th>\n",
       "    </tr>\n",
       "  </thead>\n",
       "  <tbody>\n",
       "    <tr>\n",
       "      <th>4</th>\n",
       "      <td>61.0</td>\n",
       "      <td>8</td>\n",
       "      <td>8</td>\n",
       "      <td>0.142857</td>\n",
       "      <td>0.142857</td>\n",
       "    </tr>\n",
       "    <tr>\n",
       "      <th>1</th>\n",
       "      <td>61.2</td>\n",
       "      <td>10</td>\n",
       "      <td>18</td>\n",
       "      <td>0.178571</td>\n",
       "      <td>0.321429</td>\n",
       "    </tr>\n",
       "    <tr>\n",
       "      <th>6</th>\n",
       "      <td>65.0</td>\n",
       "      <td>2</td>\n",
       "      <td>20</td>\n",
       "      <td>0.035714</td>\n",
       "      <td>0.357143</td>\n",
       "    </tr>\n",
       "    <tr>\n",
       "      <th>5</th>\n",
       "      <td>70.2</td>\n",
       "      <td>5</td>\n",
       "      <td>25</td>\n",
       "      <td>0.089286</td>\n",
       "      <td>0.446429</td>\n",
       "    </tr>\n",
       "    <tr>\n",
       "      <th>3</th>\n",
       "      <td>75.9</td>\n",
       "      <td>13</td>\n",
       "      <td>38</td>\n",
       "      <td>0.232143</td>\n",
       "      <td>0.678571</td>\n",
       "    </tr>\n",
       "    <tr>\n",
       "      <th>0</th>\n",
       "      <td>77.3</td>\n",
       "      <td>3</td>\n",
       "      <td>41</td>\n",
       "      <td>0.053571</td>\n",
       "      <td>0.732143</td>\n",
       "    </tr>\n",
       "    <tr>\n",
       "      <th>7</th>\n",
       "      <td>80.0</td>\n",
       "      <td>0</td>\n",
       "      <td>41</td>\n",
       "      <td>0.000000</td>\n",
       "      <td>0.732143</td>\n",
       "    </tr>\n",
       "    <tr>\n",
       "      <th>2</th>\n",
       "      <td>82.4</td>\n",
       "      <td>15</td>\n",
       "      <td>56</td>\n",
       "      <td>0.267857</td>\n",
       "      <td>1.000000</td>\n",
       "    </tr>\n",
       "  </tbody>\n",
       "</table>\n",
       "</div>"
      ],
      "text/plain": [
       "    x_i  n_i  N_i       f_i       F_i\n",
       "4  61.0    8    8  0.142857  0.142857\n",
       "1  61.2   10   18  0.178571  0.321429\n",
       "6  65.0    2   20  0.035714  0.357143\n",
       "5  70.2    5   25  0.089286  0.446429\n",
       "3  75.9   13   38  0.232143  0.678571\n",
       "0  77.3    3   41  0.053571  0.732143\n",
       "7  80.0    0   41  0.000000  0.732143\n",
       "2  82.4   15   56  0.267857  1.000000"
      ]
     },
     "execution_count": 6,
     "metadata": {},
     "output_type": "execute_result"
    }
   ],
   "source": [
    "N = df_freq['n_i'].sum()\n",
    "df_freq['N_i'] = df_freq['n_i'].cumsum()\n",
    "df_freq['f_i'] = df_freq['n_i'] / N\n",
    "df_freq['F_i'] = df_freq['f_i'].cumsum()\n",
    "df_freq"
   ]
  },
  {
   "cell_type": "code",
   "execution_count": 8,
   "metadata": {},
   "outputs": [
    {
     "data": {
      "text/html": [
       "<div>\n",
       "<style scoped>\n",
       "    .dataframe tbody tr th:only-of-type {\n",
       "        vertical-align: middle;\n",
       "    }\n",
       "\n",
       "    .dataframe tbody tr th {\n",
       "        vertical-align: top;\n",
       "    }\n",
       "\n",
       "    .dataframe thead th {\n",
       "        text-align: right;\n",
       "    }\n",
       "</style>\n",
       "<table border=\"1\" class=\"dataframe\">\n",
       "  <thead>\n",
       "    <tr style=\"text-align: right;\">\n",
       "      <th></th>\n",
       "      <th>x_i</th>\n",
       "      <th>n_i</th>\n",
       "      <th>N_i</th>\n",
       "      <th>f_i</th>\n",
       "      <th>F_i</th>\n",
       "      <th>x_i*n_i</th>\n",
       "    </tr>\n",
       "  </thead>\n",
       "  <tbody>\n",
       "    <tr>\n",
       "      <th>4</th>\n",
       "      <td>61.0</td>\n",
       "      <td>8</td>\n",
       "      <td>8</td>\n",
       "      <td>0.142857</td>\n",
       "      <td>0.142857</td>\n",
       "      <td>488.0</td>\n",
       "    </tr>\n",
       "    <tr>\n",
       "      <th>1</th>\n",
       "      <td>61.2</td>\n",
       "      <td>10</td>\n",
       "      <td>18</td>\n",
       "      <td>0.178571</td>\n",
       "      <td>0.321429</td>\n",
       "      <td>612.0</td>\n",
       "    </tr>\n",
       "    <tr>\n",
       "      <th>6</th>\n",
       "      <td>65.0</td>\n",
       "      <td>2</td>\n",
       "      <td>20</td>\n",
       "      <td>0.035714</td>\n",
       "      <td>0.357143</td>\n",
       "      <td>130.0</td>\n",
       "    </tr>\n",
       "    <tr>\n",
       "      <th>5</th>\n",
       "      <td>70.2</td>\n",
       "      <td>5</td>\n",
       "      <td>25</td>\n",
       "      <td>0.089286</td>\n",
       "      <td>0.446429</td>\n",
       "      <td>351.0</td>\n",
       "    </tr>\n",
       "    <tr>\n",
       "      <th>3</th>\n",
       "      <td>75.9</td>\n",
       "      <td>13</td>\n",
       "      <td>38</td>\n",
       "      <td>0.232143</td>\n",
       "      <td>0.678571</td>\n",
       "      <td>986.7</td>\n",
       "    </tr>\n",
       "    <tr>\n",
       "      <th>0</th>\n",
       "      <td>77.3</td>\n",
       "      <td>3</td>\n",
       "      <td>41</td>\n",
       "      <td>0.053571</td>\n",
       "      <td>0.732143</td>\n",
       "      <td>231.9</td>\n",
       "    </tr>\n",
       "    <tr>\n",
       "      <th>7</th>\n",
       "      <td>80.0</td>\n",
       "      <td>0</td>\n",
       "      <td>41</td>\n",
       "      <td>0.000000</td>\n",
       "      <td>0.732143</td>\n",
       "      <td>0.0</td>\n",
       "    </tr>\n",
       "    <tr>\n",
       "      <th>2</th>\n",
       "      <td>82.4</td>\n",
       "      <td>15</td>\n",
       "      <td>56</td>\n",
       "      <td>0.267857</td>\n",
       "      <td>1.000000</td>\n",
       "      <td>1236.0</td>\n",
       "    </tr>\n",
       "  </tbody>\n",
       "</table>\n",
       "</div>"
      ],
      "text/plain": [
       "    x_i  n_i  N_i       f_i       F_i  x_i*n_i\n",
       "4  61.0    8    8  0.142857  0.142857    488.0\n",
       "1  61.2   10   18  0.178571  0.321429    612.0\n",
       "6  65.0    2   20  0.035714  0.357143    130.0\n",
       "5  70.2    5   25  0.089286  0.446429    351.0\n",
       "3  75.9   13   38  0.232143  0.678571    986.7\n",
       "0  77.3    3   41  0.053571  0.732143    231.9\n",
       "7  80.0    0   41  0.000000  0.732143      0.0\n",
       "2  82.4   15   56  0.267857  1.000000   1236.0"
      ]
     },
     "execution_count": 8,
     "metadata": {},
     "output_type": "execute_result"
    }
   ],
   "source": [
    "df_freq['x_i*n_i'] = df_freq['x_i'] * df_freq['n_i']\n",
    "df_freq"
   ]
  },
  {
   "cell_type": "markdown",
   "metadata": {},
   "source": [
    "#### 2. Media, mediana, moda y cuartiles"
   ]
  },
  {
   "cell_type": "code",
   "execution_count": 9,
   "metadata": {},
   "outputs": [
    {
     "data": {
      "text/plain": [
       "72.06428571428572"
      ]
     },
     "execution_count": 9,
     "metadata": {},
     "output_type": "execute_result"
    }
   ],
   "source": [
    "# Calculamos la media ponderando cada valor por su frecuencia\n",
    "avg = df_freq['x_i*n_i'].sum() / N\n",
    "avg"
   ]
  },
  {
   "cell_type": "code",
   "execution_count": 20,
   "metadata": {},
   "outputs": [
    {
     "data": {
      "text/plain": [
       "75.9"
      ]
     },
     "execution_count": 20,
     "metadata": {},
     "output_type": "execute_result"
    }
   ],
   "source": [
    "# Calculamos la mediana a partir de las F_i\n",
    "median = df_freq[df_freq['F_i'] > .5].iloc[0, 0]\n",
    "median"
   ]
  },
  {
   "cell_type": "code",
   "execution_count": 21,
   "metadata": {},
   "outputs": [
    {
     "name": "stdout",
     "output_type": "stream",
     "text": [
      "61.2 82.4\n"
     ]
    }
   ],
   "source": [
    "# Los cuartiles los sacamos de manera análoga\n",
    "q1 = df_freq[df_freq['F_i'] > .25].iloc[0, 0]\n",
    "q3 = df_freq[df_freq['F_i'] > .75].iloc[0, 0]\n",
    "print(q1, q3)"
   ]
  },
  {
   "cell_type": "markdown",
   "metadata": {},
   "source": [
    "#### 3. Desviación estándar"
   ]
  },
  {
   "cell_type": "code",
   "execution_count": 23,
   "metadata": {},
   "outputs": [
    {
     "name": "stdout",
     "output_type": "stream",
     "text": [
      "74.15658163265289\n",
      "74.15658163265309\n"
     ]
    }
   ],
   "source": [
    "# Podemos calcular la varianza y después la desv típica\n",
    "\n",
    "## Fórmula \\sigma^2 = mean(x^2) - mean(x)^2\n",
    "var = (df_freq['x_i']**2 * df_freq['n_i']).sum() / N - avg**2\n",
    "print(var)\n",
    "\n",
    "## Fórmula \\sigma^2 = mean((x - mean(x))^2)\n",
    "df_freq['(x_i - avg)'] = df_freq['x_i'] - avg\n",
    "df_freq['(x_i - avg)^2'] = df_freq['(x_i - avg)']**2\n",
    "var = (df_freq['(x_i - avg)^2'] * df_freq['n_i']).sum() / N\n",
    "print(var)"
   ]
  },
  {
   "cell_type": "code",
   "execution_count": 24,
   "metadata": {},
   "outputs": [
    {
     "data": {
      "text/plain": [
       "8.611421580241737"
      ]
     },
     "execution_count": 24,
     "metadata": {},
     "output_type": "execute_result"
    }
   ],
   "source": [
    "std = np.sqrt(var)\n",
    "std"
   ]
  },
  {
   "cell_type": "markdown",
   "metadata": {},
   "source": [
    "#### 4. Porcentaje de observaciones en la media +- 5 std"
   ]
  },
  {
   "cell_type": "code",
   "execution_count": 25,
   "metadata": {},
   "outputs": [
    {
     "name": "stdout",
     "output_type": "stream",
     "text": [
      "0.96\n"
     ]
    }
   ],
   "source": [
    "# Aplicamos la fórmula del teorema de Chebyshev\n",
    "prob = 1 - 1/5**2\n",
    "print(prob)"
   ]
  },
  {
   "cell_type": "code",
   "execution_count": 27,
   "metadata": {},
   "outputs": [
    {
     "name": "stdout",
     "output_type": "stream",
     "text": [
      "El 96.00% de las observaciones que hagamos estarán en 72.06+-43.06\n"
     ]
    }
   ],
   "source": [
    "print(f'El {prob:.2%} de las observaciones que hagamos estarán en {avg:.2f}+-{5*std:.2f}')"
   ]
  },
  {
   "cell_type": "markdown",
   "metadata": {},
   "source": [
    "# Multivariante"
   ]
  },
  {
   "cell_type": "markdown",
   "metadata": {},
   "source": [
    "# Ejercicio 2"
   ]
  },
  {
   "cell_type": "markdown",
   "metadata": {},
   "source": [
    "Los valores del pH sanguíneo de 32 individuos son los siguientes:\n",
    "\n",
    "|7.33 |7.31 |7.26 |7.33 |7.37 |7.27 |7.30 |7.33|\n",
    "|-----|-----|-----|-----|-----|-----|-----|----|\n",
    "|7.33 |7.32 |7.35 |7.39 |7.33 |7.38 |7.33 |7.31|\n",
    "|7.37 |7.35 |7.34 |7.32 |7.29 |7.35 |7.38 |7.32|\n",
    "|7.32 |7.33 |7.32 |7.40 |7.33 |7.32 |7.34 |7.33|\n",
    "\n",
    "1. Agrupar los datos en 5 intervalos y confeccionar la tabla de frecuencias.\n",
    "2. Calcular la media aritmética, la moda y la mediana.\n",
    "3. Hallar el tercer decil.\n",
    "4. Determinar el porcentaje de individuos que se concentra fuera del intervalo $(x −4\\sigma,x +4\\sigma)$"
   ]
  },
  {
   "cell_type": "markdown",
   "metadata": {},
   "source": [
    "# Ejercicio 3"
   ]
  },
  {
   "cell_type": "markdown",
   "metadata": {},
   "source": [
    "En pacientes con distrofia muscular progresiva (enfermedad de Duchenne), la actividad de creatinquinasa sérica se eleva llamativamente sobre el valor normal de 50 unidades por litro. Los siguientes\n",
    "datos son niveles séricos de creatinquinasa (en unidades por litro) medidos en 24 jóvenes pacientes con la enfermedad confirmada:\n",
    "\n",
    "|3720 |3795 |3340 |5600 |3800 |3580|\n",
    "|-----|-----|-----|-----|-----|----|\n",
    "|5500 |2000 |1570 |2360 |1500 |1840|\n",
    "|3725 |3790 |3345 |3805 |5595 |3575|\n",
    "|1995 |5505 |2055 |1575 |1835 |1505|\n",
    "\n",
    "Se pide:\n",
    "\n",
    "1. Agrupar los datos en 5 intervalos de clase.\n",
    "2. Determinar la media y la desviación típica. Calcular la moda y la mediana.\n",
    "3. Determinar el tercer cuartil, el séptimo decil y el centil 25."
   ]
  },
  {
   "cell_type": "markdown",
   "metadata": {},
   "source": []
  }
 ],
 "metadata": {
  "kernelspec": {
   "display_name": "Python 3.10.8 64-bit",
   "language": "python",
   "name": "python3"
  },
  "language_info": {
   "codemirror_mode": {
    "name": "ipython",
    "version": 3
   },
   "file_extension": ".py",
   "mimetype": "text/x-python",
   "name": "python",
   "nbconvert_exporter": "python",
   "pygments_lexer": "ipython3",
   "version": "3.10.8"
  },
  "orig_nbformat": 4,
  "vscode": {
   "interpreter": {
    "hash": "7600a12950a547366bb7a6732117e300ffd26224351912980486e1126c5d0f9a"
   }
  }
 },
 "nbformat": 4,
 "nbformat_minor": 2
}
