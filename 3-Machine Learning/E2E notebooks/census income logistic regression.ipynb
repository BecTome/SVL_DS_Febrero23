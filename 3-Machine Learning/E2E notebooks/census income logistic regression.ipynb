{
  "nbformat": 4,
  "nbformat_minor": 0,
  "metadata": {
    "colab": {
      "name": "US Income Final.ipynb",
      "version": "0.3.2",
      "provenance": [],
      "toc_visible": true
    },
    "kernelspec": {
      "name": "python3",
      "display_name": "Python 3"
    }
  },
  "cells": [
    {
      "metadata": {
        "id": "bd8dOd6qOZYV",
        "colab_type": "text"
      },
      "cell_type": "markdown",
      "source": [
        "# Introduction"
      ]
    },
    {
      "metadata": {
        "id": "eyS7Q6eAO_C4",
        "colab_type": "text"
      },
      "cell_type": "markdown",
      "source": [
        "In this notebook we will analyze the [Census Dataset](https://archive.ics.uci.edu/ml/datasets/census+income) from UCI Machine Learning Repository.  \n",
        "\n",
        "The dataset contains three files: \n",
        "\n",
        "\n",
        "*   [adult.data](https://archive.ics.uci.edu/ml/machine-learning-databases/adult/adult.data) - training set\n",
        "*   [adult.names](https://archive.ics.uci.edu/ml/machine-learning-databases/adult/adult.names) - dataset description\n",
        "*   [adult.test](https://archive.ics.uci.edu/ml/machine-learning-databases/adult/adult.test) - test set \n",
        "\n",
        "\n",
        "The data contains anonymous information such as age, occupation, education, working class, etc. The goal is to train a binary classifier to predict the income which has two possible values '>50K' and '<50K'. There are 48842 instances and 14 attributes in the dataset. The data contains a good blend of categorical, numerical and missing values. \n",
        "\n",
        "We will use **Logistic Regression** to train our model\n",
        "\n",
        "\n",
        "\n"
      ]
    },
    {
      "metadata": {
        "id": "vxpjSwAvOGZH",
        "colab_type": "text"
      },
      "cell_type": "markdown",
      "source": [
        "# Table of Contents"
      ]
    },
    {
      "metadata": {
        "id": "LZEHqmDfN7W8",
        "colab_type": "toc"
      },
      "cell_type": "markdown",
      "source": [
        ">[Importing Libraries](#scrollTo=_2oUOp-mixIv)\n",
        "\n",
        ">[Loading Data](#scrollTo=YVVEtK34i4bV)\n",
        "\n",
        ">[Exploratory Data Analysis](#scrollTo=nNnaPdClkRvC)\n",
        "\n",
        ">>[Cleaning the data](#scrollTo=v8xSbpLqkVon)\n",
        "\n",
        ">>[Handing Numerical Attributes](#scrollTo=uOcQwld3ZR0S)\n",
        "\n",
        ">>[Handling Categorical Attributes](#scrollTo=Ncrvd9RUtDw2)\n",
        "\n",
        ">[Creating Pipelines](#scrollTo=cvjQA0Be3Uzh)\n",
        "\n",
        ">>[ColumnSelector Pipeline](#scrollTo=IWt8funH3bZ6)\n",
        "\n",
        ">>[Numerical Data Pipeline](#scrollTo=jX_o4-r33sWi)\n",
        "\n",
        ">>[Categorical Data Pipeline](#scrollTo=3w-s2TdM3ywN)\n",
        "\n",
        ">>[Feature Union](#scrollTo=mylHVn8V4J8c)\n",
        "\n",
        ">[Building the Model](#scrollTo=gG9VsQO638lz)\n",
        "\n",
        ">>[Preparing the data for training](#scrollTo=vgqQ_Ops4N8I)\n",
        "\n",
        ">>[Training the model](#scrollTo=Wdy7WaYV4TXp)\n",
        "\n",
        ">>[Testing the model](#scrollTo=g6v5c2pj4Wlh)\n",
        "\n",
        ">>[Model Evaluation](#scrollTo=9V6q50qi4apQ)\n",
        "\n",
        ">[Fine Tuning the Model](#scrollTo=nDa6q_oX4faX)\n",
        "\n",
        ">[Final Remarks](#scrollTo=4GgWdPa54m5X)\n",
        "\n",
        ">[Exploratory Data Aanalysis](#scrollTo=G03yuo9v6tbp)\n",
        "\n",
        ">>[Capital Loss](#scrollTo=eERnMy00fI7c)\n",
        "\n",
        ">>[Hours-per-week](#scrollTo=WfcbzsjPgOQL)\n",
        "\n"
      ]
    },
    {
      "metadata": {
        "id": "_2oUOp-mixIv",
        "colab_type": "text"
      },
      "cell_type": "markdown",
      "source": [
        "# 1. Importing Libraries"
      ]
    },
    {
      "metadata": {
        "id": "O_h3GW7YI3SY",
        "colab_type": "code",
        "colab": {}
      },
      "cell_type": "code",
      "source": [
        "import numpy as np\n",
        "import pandas as pd\n",
        "import io\n",
        "import requests\n",
        "import seaborn as sns\n",
        "from matplotlib import pyplot as plt\n",
        "import pickle\n",
        "from pandas.api.types import CategoricalDtype\n",
        "\n",
        "from sklearn.base import BaseEstimator, TransformerMixin\n",
        "from sklearn.pipeline import Pipeline\n",
        "from sklearn.metrics import accuracy_score\n",
        "from sklearn.linear_model import LogisticRegression\n",
        "from sklearn.model_selection import GridSearchCV\n",
        "from sklearn.metrics import classification_report\n",
        "from sklearn.metrics import confusion_matrix\n",
        "from sklearn.preprocessing import StandardScaler\n",
        "from sklearn.pipeline import FeatureUnion\n",
        "from sklearn.model_selection import cross_val_score\n",
        "\n",
        "%matplotlib inline"
      ],
      "execution_count": 0,
      "outputs": []
    },
    {
      "metadata": {
        "id": "YVVEtK34i4bV",
        "colab_type": "text"
      },
      "cell_type": "markdown",
      "source": [
        "# Loading Data"
      ]
    },
    {
      "metadata": {
        "id": "mrFjx7nUs08M",
        "colab_type": "text"
      },
      "cell_type": "markdown",
      "source": [
        "*   The train and test dataset doesn't come with the column names by default. Hence we assign the column names manually\n",
        "*   There are ceratain instances where there are  whitespaces before and after the data values. You can pass a regex to the **sep** paramter to the pandas [read_csv](https://pandas.pydata.org/pandas-docs/stable/generated/pandas.read_csv.html) function. We will use the separator as \\* , *\n",
        "\n",
        "*   The missing values in the dataset are indicated by **'?'**. We will use **na_values** parameter to indicate the missing values \n",
        "*   The test dataset contains some weird first row, hence we will use **skiprows=1** to skip the first row\n",
        "\n",
        "\n"
      ]
    },
    {
      "metadata": {
        "id": "P33SbAllaHLf",
        "colab_type": "code",
        "outputId": "3f130f3c-3190-4a0b-d3af-1e40dd0c41e1",
        "colab": {
          "base_uri": "https://localhost:8080/",
          "height": 105
        }
      },
      "cell_type": "code",
      "source": [
        "columns = [\"age\", \"workClass\", \"fnlwgt\", \"education\", \"education-num\",\n",
        "           \"marital-status\", \"occupation\", \"relationship\", \"race\", \"sex\", \n",
        "           \"capital-gain\", \"capital-loss\", \"hours-per-week\", \"native-country\", \"income\"]\n",
        "\n",
        "train_data = pd.read_csv('adult.data', names = columns, sep=' *, *', na_values='?')\n",
        "test_data = pd.read_csv('adult.test', names = columns, sep=' *, *', skiprows =1, na_values='?')"
      ],
      "execution_count": 89,
      "outputs": [
        {
          "output_type": "stream",
          "text": [
            "/usr/local/lib/python3.6/dist-packages/ipykernel_launcher.py:5: ParserWarning: Falling back to the 'python' engine because the 'c' engine does not support regex separators (separators > 1 char and different from '\\s+' are interpreted as regex); you can avoid this warning by specifying engine='python'.\n",
            "  \"\"\"\n",
            "/usr/local/lib/python3.6/dist-packages/ipykernel_launcher.py:6: ParserWarning: Falling back to the 'python' engine because the 'c' engine does not support regex separators (separators > 1 char and different from '\\s+' are interpreted as regex); you can avoid this warning by specifying engine='python'.\n",
            "  \n"
          ],
          "name": "stderr"
        }
      ]
    },
    {
      "metadata": {
        "id": "_tfBvG3Vvg0X",
        "colab_type": "text"
      },
      "cell_type": "markdown",
      "source": [
        "Let's look at the first 5 rows of the training data"
      ]
    },
    {
      "metadata": {
        "colab_type": "code",
        "outputId": "6283391a-319c-46bd-c15e-82b845424584",
        "id": "Kh6uDBUC-xy1",
        "colab": {
          "base_uri": "https://localhost:8080/",
          "height": 394
        }
      },
      "cell_type": "code",
      "source": [
        "train_data.head()"
      ],
      "execution_count": 90,
      "outputs": [
        {
          "output_type": "execute_result",
          "data": {
            "text/html": [
              "<div>\n",
              "<style scoped>\n",
              "    .dataframe tbody tr th:only-of-type {\n",
              "        vertical-align: middle;\n",
              "    }\n",
              "\n",
              "    .dataframe tbody tr th {\n",
              "        vertical-align: top;\n",
              "    }\n",
              "\n",
              "    .dataframe thead th {\n",
              "        text-align: right;\n",
              "    }\n",
              "</style>\n",
              "<table border=\"1\" class=\"dataframe\">\n",
              "  <thead>\n",
              "    <tr style=\"text-align: right;\">\n",
              "      <th></th>\n",
              "      <th>age</th>\n",
              "      <th>workClass</th>\n",
              "      <th>fnlwgt</th>\n",
              "      <th>education</th>\n",
              "      <th>education-num</th>\n",
              "      <th>marital-status</th>\n",
              "      <th>occupation</th>\n",
              "      <th>relationship</th>\n",
              "      <th>race</th>\n",
              "      <th>sex</th>\n",
              "      <th>capital-gain</th>\n",
              "      <th>capital-loss</th>\n",
              "      <th>hours-per-week</th>\n",
              "      <th>native-country</th>\n",
              "      <th>income</th>\n",
              "    </tr>\n",
              "  </thead>\n",
              "  <tbody>\n",
              "    <tr>\n",
              "      <th>0</th>\n",
              "      <td>39</td>\n",
              "      <td>State-gov</td>\n",
              "      <td>77516</td>\n",
              "      <td>Bachelors</td>\n",
              "      <td>13</td>\n",
              "      <td>Never-married</td>\n",
              "      <td>Adm-clerical</td>\n",
              "      <td>Not-in-family</td>\n",
              "      <td>White</td>\n",
              "      <td>Male</td>\n",
              "      <td>2174</td>\n",
              "      <td>0</td>\n",
              "      <td>40</td>\n",
              "      <td>United-States</td>\n",
              "      <td>&lt;=50K</td>\n",
              "    </tr>\n",
              "    <tr>\n",
              "      <th>1</th>\n",
              "      <td>50</td>\n",
              "      <td>Self-emp-not-inc</td>\n",
              "      <td>83311</td>\n",
              "      <td>Bachelors</td>\n",
              "      <td>13</td>\n",
              "      <td>Married-civ-spouse</td>\n",
              "      <td>Exec-managerial</td>\n",
              "      <td>Husband</td>\n",
              "      <td>White</td>\n",
              "      <td>Male</td>\n",
              "      <td>0</td>\n",
              "      <td>0</td>\n",
              "      <td>13</td>\n",
              "      <td>United-States</td>\n",
              "      <td>&lt;=50K</td>\n",
              "    </tr>\n",
              "    <tr>\n",
              "      <th>2</th>\n",
              "      <td>38</td>\n",
              "      <td>Private</td>\n",
              "      <td>215646</td>\n",
              "      <td>HS-grad</td>\n",
              "      <td>9</td>\n",
              "      <td>Divorced</td>\n",
              "      <td>Handlers-cleaners</td>\n",
              "      <td>Not-in-family</td>\n",
              "      <td>White</td>\n",
              "      <td>Male</td>\n",
              "      <td>0</td>\n",
              "      <td>0</td>\n",
              "      <td>40</td>\n",
              "      <td>United-States</td>\n",
              "      <td>&lt;=50K</td>\n",
              "    </tr>\n",
              "    <tr>\n",
              "      <th>3</th>\n",
              "      <td>53</td>\n",
              "      <td>Private</td>\n",
              "      <td>234721</td>\n",
              "      <td>11th</td>\n",
              "      <td>7</td>\n",
              "      <td>Married-civ-spouse</td>\n",
              "      <td>Handlers-cleaners</td>\n",
              "      <td>Husband</td>\n",
              "      <td>Black</td>\n",
              "      <td>Male</td>\n",
              "      <td>0</td>\n",
              "      <td>0</td>\n",
              "      <td>40</td>\n",
              "      <td>United-States</td>\n",
              "      <td>&lt;=50K</td>\n",
              "    </tr>\n",
              "    <tr>\n",
              "      <th>4</th>\n",
              "      <td>28</td>\n",
              "      <td>Private</td>\n",
              "      <td>338409</td>\n",
              "      <td>Bachelors</td>\n",
              "      <td>13</td>\n",
              "      <td>Married-civ-spouse</td>\n",
              "      <td>Prof-specialty</td>\n",
              "      <td>Wife</td>\n",
              "      <td>Black</td>\n",
              "      <td>Female</td>\n",
              "      <td>0</td>\n",
              "      <td>0</td>\n",
              "      <td>40</td>\n",
              "      <td>Cuba</td>\n",
              "      <td>&lt;=50K</td>\n",
              "    </tr>\n",
              "  </tbody>\n",
              "</table>\n",
              "</div>"
            ],
            "text/plain": [
              "   age         workClass  fnlwgt  education  education-num  \\\n",
              "0   39         State-gov   77516  Bachelors             13   \n",
              "1   50  Self-emp-not-inc   83311  Bachelors             13   \n",
              "2   38           Private  215646    HS-grad              9   \n",
              "3   53           Private  234721       11th              7   \n",
              "4   28           Private  338409  Bachelors             13   \n",
              "\n",
              "       marital-status         occupation   relationship   race     sex  \\\n",
              "0       Never-married       Adm-clerical  Not-in-family  White    Male   \n",
              "1  Married-civ-spouse    Exec-managerial        Husband  White    Male   \n",
              "2            Divorced  Handlers-cleaners  Not-in-family  White    Male   \n",
              "3  Married-civ-spouse  Handlers-cleaners        Husband  Black    Male   \n",
              "4  Married-civ-spouse     Prof-specialty           Wife  Black  Female   \n",
              "\n",
              "   capital-gain  capital-loss  hours-per-week native-country income  \n",
              "0          2174             0              40  United-States  <=50K  \n",
              "1             0             0              13  United-States  <=50K  \n",
              "2             0             0              40  United-States  <=50K  \n",
              "3             0             0              40  United-States  <=50K  \n",
              "4             0             0              40           Cuba  <=50K  "
            ]
          },
          "metadata": {
            "tags": []
          },
          "execution_count": 90
        }
      ]
    },
    {
      "metadata": {
        "id": "skn_0bEFvn6K",
        "colab_type": "text"
      },
      "cell_type": "markdown",
      "source": [
        "Similarly, we look at the first 5 rows of the test dataset"
      ]
    },
    {
      "metadata": {
        "colab_type": "code",
        "outputId": "5636fde5-c49b-4557-9e94-ed9f56961193",
        "id": "AzzXNMNL-xG7",
        "colab": {
          "base_uri": "https://localhost:8080/",
          "height": 394
        }
      },
      "cell_type": "code",
      "source": [
        "test_data.head()"
      ],
      "execution_count": 91,
      "outputs": [
        {
          "output_type": "execute_result",
          "data": {
            "text/html": [
              "<div>\n",
              "<style scoped>\n",
              "    .dataframe tbody tr th:only-of-type {\n",
              "        vertical-align: middle;\n",
              "    }\n",
              "\n",
              "    .dataframe tbody tr th {\n",
              "        vertical-align: top;\n",
              "    }\n",
              "\n",
              "    .dataframe thead th {\n",
              "        text-align: right;\n",
              "    }\n",
              "</style>\n",
              "<table border=\"1\" class=\"dataframe\">\n",
              "  <thead>\n",
              "    <tr style=\"text-align: right;\">\n",
              "      <th></th>\n",
              "      <th>age</th>\n",
              "      <th>workClass</th>\n",
              "      <th>fnlwgt</th>\n",
              "      <th>education</th>\n",
              "      <th>education-num</th>\n",
              "      <th>marital-status</th>\n",
              "      <th>occupation</th>\n",
              "      <th>relationship</th>\n",
              "      <th>race</th>\n",
              "      <th>sex</th>\n",
              "      <th>capital-gain</th>\n",
              "      <th>capital-loss</th>\n",
              "      <th>hours-per-week</th>\n",
              "      <th>native-country</th>\n",
              "      <th>income</th>\n",
              "    </tr>\n",
              "  </thead>\n",
              "  <tbody>\n",
              "    <tr>\n",
              "      <th>0</th>\n",
              "      <td>25</td>\n",
              "      <td>Private</td>\n",
              "      <td>226802</td>\n",
              "      <td>11th</td>\n",
              "      <td>7</td>\n",
              "      <td>Never-married</td>\n",
              "      <td>Machine-op-inspct</td>\n",
              "      <td>Own-child</td>\n",
              "      <td>Black</td>\n",
              "      <td>Male</td>\n",
              "      <td>0</td>\n",
              "      <td>0</td>\n",
              "      <td>40</td>\n",
              "      <td>United-States</td>\n",
              "      <td>&lt;=50K.</td>\n",
              "    </tr>\n",
              "    <tr>\n",
              "      <th>1</th>\n",
              "      <td>38</td>\n",
              "      <td>Private</td>\n",
              "      <td>89814</td>\n",
              "      <td>HS-grad</td>\n",
              "      <td>9</td>\n",
              "      <td>Married-civ-spouse</td>\n",
              "      <td>Farming-fishing</td>\n",
              "      <td>Husband</td>\n",
              "      <td>White</td>\n",
              "      <td>Male</td>\n",
              "      <td>0</td>\n",
              "      <td>0</td>\n",
              "      <td>50</td>\n",
              "      <td>United-States</td>\n",
              "      <td>&lt;=50K.</td>\n",
              "    </tr>\n",
              "    <tr>\n",
              "      <th>2</th>\n",
              "      <td>28</td>\n",
              "      <td>Local-gov</td>\n",
              "      <td>336951</td>\n",
              "      <td>Assoc-acdm</td>\n",
              "      <td>12</td>\n",
              "      <td>Married-civ-spouse</td>\n",
              "      <td>Protective-serv</td>\n",
              "      <td>Husband</td>\n",
              "      <td>White</td>\n",
              "      <td>Male</td>\n",
              "      <td>0</td>\n",
              "      <td>0</td>\n",
              "      <td>40</td>\n",
              "      <td>United-States</td>\n",
              "      <td>&gt;50K.</td>\n",
              "    </tr>\n",
              "    <tr>\n",
              "      <th>3</th>\n",
              "      <td>44</td>\n",
              "      <td>Private</td>\n",
              "      <td>160323</td>\n",
              "      <td>Some-college</td>\n",
              "      <td>10</td>\n",
              "      <td>Married-civ-spouse</td>\n",
              "      <td>Machine-op-inspct</td>\n",
              "      <td>Husband</td>\n",
              "      <td>Black</td>\n",
              "      <td>Male</td>\n",
              "      <td>7688</td>\n",
              "      <td>0</td>\n",
              "      <td>40</td>\n",
              "      <td>United-States</td>\n",
              "      <td>&gt;50K.</td>\n",
              "    </tr>\n",
              "    <tr>\n",
              "      <th>4</th>\n",
              "      <td>18</td>\n",
              "      <td>NaN</td>\n",
              "      <td>103497</td>\n",
              "      <td>Some-college</td>\n",
              "      <td>10</td>\n",
              "      <td>Never-married</td>\n",
              "      <td>NaN</td>\n",
              "      <td>Own-child</td>\n",
              "      <td>White</td>\n",
              "      <td>Female</td>\n",
              "      <td>0</td>\n",
              "      <td>0</td>\n",
              "      <td>30</td>\n",
              "      <td>United-States</td>\n",
              "      <td>&lt;=50K.</td>\n",
              "    </tr>\n",
              "  </tbody>\n",
              "</table>\n",
              "</div>"
            ],
            "text/plain": [
              "   age  workClass  fnlwgt     education  education-num      marital-status  \\\n",
              "0   25    Private  226802          11th              7       Never-married   \n",
              "1   38    Private   89814       HS-grad              9  Married-civ-spouse   \n",
              "2   28  Local-gov  336951    Assoc-acdm             12  Married-civ-spouse   \n",
              "3   44    Private  160323  Some-college             10  Married-civ-spouse   \n",
              "4   18        NaN  103497  Some-college             10       Never-married   \n",
              "\n",
              "          occupation relationship   race     sex  capital-gain  capital-loss  \\\n",
              "0  Machine-op-inspct    Own-child  Black    Male             0             0   \n",
              "1    Farming-fishing      Husband  White    Male             0             0   \n",
              "2    Protective-serv      Husband  White    Male             0             0   \n",
              "3  Machine-op-inspct      Husband  Black    Male          7688             0   \n",
              "4                NaN    Own-child  White  Female             0             0   \n",
              "\n",
              "   hours-per-week native-country  income  \n",
              "0              40  United-States  <=50K.  \n",
              "1              50  United-States  <=50K.  \n",
              "2              40  United-States   >50K.  \n",
              "3              40  United-States   >50K.  \n",
              "4              30  United-States  <=50K.  "
            ]
          },
          "metadata": {
            "tags": []
          },
          "execution_count": 91
        }
      ]
    },
    {
      "metadata": {
        "id": "_kZKKIb8vx2K",
        "colab_type": "text"
      },
      "cell_type": "markdown",
      "source": [
        "Both the train and the test dataset contains the predictor variable '**income**'. This needs to be removed before the data is passed to a machine-learning model"
      ]
    },
    {
      "metadata": {
        "id": "nNnaPdClkRvC",
        "colab_type": "text"
      },
      "cell_type": "markdown",
      "source": [
        "# Exploratory Data Analysis"
      ]
    },
    {
      "metadata": {
        "id": "v8xSbpLqkVon",
        "colab_type": "text"
      },
      "cell_type": "markdown",
      "source": [
        "## Cleaning the data"
      ]
    },
    {
      "metadata": {
        "id": "kp09FXSZwH3z",
        "colab_type": "text"
      },
      "cell_type": "markdown",
      "source": [
        "Let's look for any missing values in both the train and the test dataset. We need to fill/remove these values "
      ]
    },
    {
      "metadata": {
        "id": "kba0Hvcb4uW9",
        "colab_type": "code",
        "outputId": "ce2f9f82-09ea-4fc9-d043-6019008e07f3",
        "colab": {
          "base_uri": "https://localhost:8080/",
          "height": 377
        }
      },
      "cell_type": "code",
      "source": [
        "train_data.info()"
      ],
      "execution_count": 92,
      "outputs": [
        {
          "output_type": "stream",
          "text": [
            "<class 'pandas.core.frame.DataFrame'>\n",
            "RangeIndex: 32561 entries, 0 to 32560\n",
            "Data columns (total 15 columns):\n",
            "age               32561 non-null int64\n",
            "workClass         30725 non-null object\n",
            "fnlwgt            32561 non-null int64\n",
            "education         32561 non-null object\n",
            "education-num     32561 non-null int64\n",
            "marital-status    32561 non-null object\n",
            "occupation        30718 non-null object\n",
            "relationship      32561 non-null object\n",
            "race              32561 non-null object\n",
            "sex               32561 non-null object\n",
            "capital-gain      32561 non-null int64\n",
            "capital-loss      32561 non-null int64\n",
            "hours-per-week    32561 non-null int64\n",
            "native-country    31978 non-null object\n",
            "income            32561 non-null object\n",
            "dtypes: int64(6), object(9)\n",
            "memory usage: 3.7+ MB\n"
          ],
          "name": "stdout"
        }
      ]
    },
    {
      "metadata": {
        "id": "nSA95wuHwZbl",
        "colab_type": "text"
      },
      "cell_type": "markdown",
      "source": [
        "**Observations**\n",
        "\n",
        "*   There are in total **32561** samples in the train data set\n",
        "*  There are both categorical and numerical attributes in the dataset\n",
        "* The columns **workClass**, **occupation**, **native-country** have missing values\n",
        "\n"
      ]
    },
    {
      "metadata": {
        "id": "bE0pPx_WkKuU",
        "colab_type": "code",
        "outputId": "4fdb88b5-775e-4a15-9619-432c712b3c96",
        "colab": {
          "base_uri": "https://localhost:8080/",
          "height": 377
        }
      },
      "cell_type": "code",
      "source": [
        "test_data.info()"
      ],
      "execution_count": 93,
      "outputs": [
        {
          "output_type": "stream",
          "text": [
            "<class 'pandas.core.frame.DataFrame'>\n",
            "RangeIndex: 16281 entries, 0 to 16280\n",
            "Data columns (total 15 columns):\n",
            "age               16281 non-null int64\n",
            "workClass         15318 non-null object\n",
            "fnlwgt            16281 non-null int64\n",
            "education         16281 non-null object\n",
            "education-num     16281 non-null int64\n",
            "marital-status    16281 non-null object\n",
            "occupation        15315 non-null object\n",
            "relationship      16281 non-null object\n",
            "race              16281 non-null object\n",
            "sex               16281 non-null object\n",
            "capital-gain      16281 non-null int64\n",
            "capital-loss      16281 non-null int64\n",
            "hours-per-week    16281 non-null int64\n",
            "native-country    16007 non-null object\n",
            "income            16281 non-null object\n",
            "dtypes: int64(6), object(9)\n",
            "memory usage: 1.9+ MB\n"
          ],
          "name": "stdout"
        }
      ]
    },
    {
      "metadata": {
        "id": "xsgzGfjOxJIv",
        "colab_type": "text"
      },
      "cell_type": "markdown",
      "source": [
        "**Observations**\n",
        "\n",
        "* There are in total 16281  samples in the test data set\n",
        "* There are both categorical and numerical attributes in the dataset\n",
        "* There are no missing values"
      ]
    },
    {
      "metadata": {
        "id": "uOcQwld3ZR0S",
        "colab_type": "text"
      },
      "cell_type": "markdown",
      "source": [
        "## Handing Numerical Attributes"
      ]
    },
    {
      "metadata": {
        "id": "TtzYigO5xwi3",
        "colab_type": "text"
      },
      "cell_type": "markdown",
      "source": [
        "We will select all the numerical attributes from the dataset using [select_dtypes](https://pandas.pydata.org/pandas-docs/stable/generated/pandas.DataFrame.select_dtypes.html) function from the pandas dataframe library "
      ]
    },
    {
      "metadata": {
        "id": "LWdg0QamqEdi",
        "colab_type": "code",
        "outputId": "303b5a58-077f-4a72-cfae-b2708737fd52",
        "colab": {
          "base_uri": "https://localhost:8080/",
          "height": 88
        }
      },
      "cell_type": "code",
      "source": [
        "num_attributes = train_data.select_dtypes(include=['int'])\n",
        "print(num_attributes.columns)"
      ],
      "execution_count": 94,
      "outputs": [
        {
          "output_type": "stream",
          "text": [
            "Index(['age', 'fnlwgt', 'education-num', 'capital-gain', 'capital-loss',\n",
            "       'hours-per-week'],\n",
            "      dtype='object')\n"
          ],
          "name": "stdout"
        }
      ]
    },
    {
      "metadata": {
        "id": "Yfzy1-Lj_MVI",
        "colab_type": "text"
      },
      "cell_type": "markdown",
      "source": [
        "The variables **age**, **hours-per-week** are self-explanatory. \n",
        "\n",
        "\n",
        "\n",
        "*   **fnlwgt**: sampling weight\n",
        "*  ** education-num**: number of years of education in total\n",
        "* **capital-gain/capital-loss**: income from investment sources other than salary/wages\n",
        "\n",
        "fnlwgt is not related to the target variable **income** and will be removed before building the model\n",
        "\n"
      ]
    },
    {
      "metadata": {
        "id": "k5cWm7n7AD9L",
        "colab_type": "text"
      },
      "cell_type": "markdown",
      "source": [
        "**Data Visualizations**"
      ]
    },
    {
      "metadata": {
        "id": "m6IDOUpy2Y_t",
        "colab_type": "code",
        "outputId": "b88a9979-78cb-4447-e8f8-ae7de357c34d",
        "colab": {
          "base_uri": "https://localhost:8080/",
          "height": 745
        }
      },
      "cell_type": "code",
      "source": [
        "num_attributes.hist(figsize=(10,10))"
      ],
      "execution_count": 95,
      "outputs": [
        {
          "output_type": "execute_result",
          "data": {
            "text/plain": [
              "array([[<matplotlib.axes._subplots.AxesSubplot object at 0x7f91d2c569b0>,\n",
              "        <matplotlib.axes._subplots.AxesSubplot object at 0x7f91cf33e748>],\n",
              "       [<matplotlib.axes._subplots.AxesSubplot object at 0x7f91cf310748>,\n",
              "        <matplotlib.axes._subplots.AxesSubplot object at 0x7f91d6b31c50>],\n",
              "       [<matplotlib.axes._subplots.AxesSubplot object at 0x7f91d29edcf8>,\n",
              "        <matplotlib.axes._subplots.AxesSubplot object at 0x7f91d29edd30>]],\n",
              "      dtype=object)"
            ]
          },
          "metadata": {
            "tags": []
          },
          "execution_count": 95
        },
        {
          "output_type": "display_data",
          "data": {
            "image/png": "[encoded data removed]",
            "text/plain": [
              "<matplotlib.figure.Figure at 0x7f91d2ca2e10>"
            ]
          },
          "metadata": {
            "tags": []
          }
        }
      ]
    },
    {
      "metadata": {
        "id": "JJurqE1f3UPl",
        "colab_type": "code",
        "outputId": "562bab24-7a77-4d8f-b153-e9aa95b6b85e",
        "colab": {
          "base_uri": "https://localhost:8080/",
          "height": 334
        }
      },
      "cell_type": "code",
      "source": [
        "num_attributes.describe()"
      ],
      "execution_count": 96,
      "outputs": [
        {
          "output_type": "execute_result",
          "data": {
            "text/html": [
              "<div>\n",
              "<style scoped>\n",
              "    .dataframe tbody tr th:only-of-type {\n",
              "        vertical-align: middle;\n",
              "    }\n",
              "\n",
              "    .dataframe tbody tr th {\n",
              "        vertical-align: top;\n",
              "    }\n",
              "\n",
              "    .dataframe thead th {\n",
              "        text-align: right;\n",
              "    }\n",
              "</style>\n",
              "<table border=\"1\" class=\"dataframe\">\n",
              "  <thead>\n",
              "    <tr style=\"text-align: right;\">\n",
              "      <th></th>\n",
              "      <th>age</th>\n",
              "      <th>fnlwgt</th>\n",
              "      <th>education-num</th>\n",
              "      <th>capital-gain</th>\n",
              "      <th>capital-loss</th>\n",
              "      <th>hours-per-week</th>\n",
              "    </tr>\n",
              "  </thead>\n",
              "  <tbody>\n",
              "    <tr>\n",
              "      <th>count</th>\n",
              "      <td>32561.000000</td>\n",
              "      <td>3.256100e+04</td>\n",
              "      <td>32561.000000</td>\n",
              "      <td>32561.000000</td>\n",
              "      <td>32561.000000</td>\n",
              "      <td>32561.000000</td>\n",
              "    </tr>\n",
              "    <tr>\n",
              "      <th>mean</th>\n",
              "      <td>38.581647</td>\n",
              "      <td>1.897784e+05</td>\n",
              "      <td>10.080679</td>\n",
              "      <td>1077.648844</td>\n",
              "      <td>87.303830</td>\n",
              "      <td>40.437456</td>\n",
              "    </tr>\n",
              "    <tr>\n",
              "      <th>std</th>\n",
              "      <td>13.640433</td>\n",
              "      <td>1.055500e+05</td>\n",
              "      <td>2.572720</td>\n",
              "      <td>7385.292085</td>\n",
              "      <td>402.960219</td>\n",
              "      <td>12.347429</td>\n",
              "    </tr>\n",
              "    <tr>\n",
              "      <th>min</th>\n",
              "      <td>17.000000</td>\n",
              "      <td>1.228500e+04</td>\n",
              "      <td>1.000000</td>\n",
              "      <td>0.000000</td>\n",
              "      <td>0.000000</td>\n",
              "      <td>1.000000</td>\n",
              "    </tr>\n",
              "    <tr>\n",
              "      <th>25%</th>\n",
              "      <td>28.000000</td>\n",
              "      <td>1.178270e+05</td>\n",
              "      <td>9.000000</td>\n",
              "      <td>0.000000</td>\n",
              "      <td>0.000000</td>\n",
              "      <td>40.000000</td>\n",
              "    </tr>\n",
              "    <tr>\n",
              "      <th>50%</th>\n",
              "      <td>37.000000</td>\n",
              "      <td>1.783560e+05</td>\n",
              "      <td>10.000000</td>\n",
              "      <td>0.000000</td>\n",
              "      <td>0.000000</td>\n",
              "      <td>40.000000</td>\n",
              "    </tr>\n",
              "    <tr>\n",
              "      <th>75%</th>\n",
              "      <td>48.000000</td>\n",
              "      <td>2.370510e+05</td>\n",
              "      <td>12.000000</td>\n",
              "      <td>0.000000</td>\n",
              "      <td>0.000000</td>\n",
              "      <td>45.000000</td>\n",
              "    </tr>\n",
              "    <tr>\n",
              "      <th>max</th>\n",
              "      <td>90.000000</td>\n",
              "      <td>1.484705e+06</td>\n",
              "      <td>16.000000</td>\n",
              "      <td>99999.000000</td>\n",
              "      <td>4356.000000</td>\n",
              "      <td>99.000000</td>\n",
              "    </tr>\n",
              "  </tbody>\n",
              "</table>\n",
              "</div>"
            ],
            "text/plain": [
              "                age        fnlwgt  education-num  capital-gain  capital-loss  \\\n",
              "count  32561.000000  3.256100e+04   32561.000000  32561.000000  32561.000000   \n",
              "mean      38.581647  1.897784e+05      10.080679   1077.648844     87.303830   \n",
              "std       13.640433  1.055500e+05       2.572720   7385.292085    402.960219   \n",
              "min       17.000000  1.228500e+04       1.000000      0.000000      0.000000   \n",
              "25%       28.000000  1.178270e+05       9.000000      0.000000      0.000000   \n",
              "50%       37.000000  1.783560e+05      10.000000      0.000000      0.000000   \n",
              "75%       48.000000  2.370510e+05      12.000000      0.000000      0.000000   \n",
              "max       90.000000  1.484705e+06      16.000000  99999.000000   4356.000000   \n",
              "\n",
              "       hours-per-week  \n",
              "count    32561.000000  \n",
              "mean        40.437456  \n",
              "std         12.347429  \n",
              "min          1.000000  \n",
              "25%         40.000000  \n",
              "50%         40.000000  \n",
              "75%         45.000000  \n",
              "max         99.000000  "
            ]
          },
          "metadata": {
            "tags": []
          },
          "execution_count": 96
        }
      ]
    },
    {
      "metadata": {
        "id": "vbUXDMne10Zg",
        "colab_type": "text"
      },
      "cell_type": "markdown",
      "source": [
        "**Observations**\n",
        "\n",
        "* None of the numerical attributes have missing values \n",
        "* The values are on different scales. Many machine learning models require the features to be on the same scale. \n",
        "* We can see that there are many outliers present in the data, we will use [StandardScaler](http://scikit-learn.org/stable/modules/generated/sklearn.preprocessing.StandardScaler.html) from sklearn library"
      ]
    },
    {
      "metadata": {
        "id": "Ncrvd9RUtDw2",
        "colab_type": "text"
      },
      "cell_type": "markdown",
      "source": [
        "## Handling Categorical Attributes\n"
      ]
    },
    {
      "metadata": {
        "id": "gunQra7ckaaQ",
        "colab_type": "code",
        "outputId": "5b617f5d-f22f-4462-e0b3-4e221bf02764",
        "colab": {
          "base_uri": "https://localhost:8080/",
          "height": 68
        }
      },
      "cell_type": "code",
      "source": [
        "cat_attributes = train_data.select_dtypes(include=['object'])\n",
        "print(cat_attributes.columns)"
      ],
      "execution_count": 97,
      "outputs": [
        {
          "output_type": "stream",
          "text": [
            "Index(['workClass', 'education', 'marital-status', 'occupation',\n",
            "       'relationship', 'race', 'sex', 'native-country', 'income'],\n",
            "      dtype='object')\n"
          ],
          "name": "stdout"
        }
      ]
    },
    {
      "metadata": {
        "id": "FZdLSa5k4-Iz",
        "colab_type": "text"
      },
      "cell_type": "markdown",
      "source": [
        "**Data-visualizations**"
      ]
    },
    {
      "metadata": {
        "id": "srcQz7Lg5BkB",
        "colab_type": "code",
        "outputId": "c15708c3-58b6-45e6-95b8-b1e2f758ffca",
        "colab": {
          "base_uri": "https://localhost:8080/",
          "height": 459
        }
      },
      "cell_type": "code",
      "source": [
        "sns.set(rc={'figure.figsize':(8,6)})\n",
        "sns.countplot(y='workClass', hue='income', data = cat_attributes)"
      ],
      "execution_count": 98,
      "outputs": [
        {
          "output_type": "stream",
          "text": [
            "/usr/local/lib/python3.6/dist-packages/seaborn/categorical.py:1468: FutureWarning: remove_na is deprecated and is a private function. Do not use.\n",
            "  stat_data = remove_na(group_data[hue_mask])\n"
          ],
          "name": "stderr"
        },
        {
          "output_type": "execute_result",
          "data": {
            "text/plain": [
              "<matplotlib.axes._subplots.AxesSubplot at 0x7f91d2a222e8>"
            ]
          },
          "metadata": {
            "tags": []
          },
          "execution_count": 98
        },
        {
          "output_type": "display_data",
          "data": {
            "image/png": "[encoded data removed]",
            "text/plain": [
              "<matplotlib.figure.Figure at 0x7f91d2cdae48>"
            ]
          },
          "metadata": {
            "tags": []
          }
        }
      ]
    },
    {
      "metadata": {
        "id": "jUX4_Egs636a",
        "colab_type": "code",
        "outputId": "d16ab6cb-40e2-4a32-e7c1-f4f483b6e40b",
        "colab": {
          "base_uri": "https://localhost:8080/",
          "height": 459
        }
      },
      "cell_type": "code",
      "source": [
        "sns.countplot(y='occupation', hue='income', data=cat_attributes)"
      ],
      "execution_count": 99,
      "outputs": [
        {
          "output_type": "stream",
          "text": [
            "/usr/local/lib/python3.6/dist-packages/seaborn/categorical.py:1468: FutureWarning: remove_na is deprecated and is a private function. Do not use.\n",
            "  stat_data = remove_na(group_data[hue_mask])\n"
          ],
          "name": "stderr"
        },
        {
          "output_type": "execute_result",
          "data": {
            "text/plain": [
              "<matplotlib.axes._subplots.AxesSubplot at 0x7f91d2a25a20>"
            ]
          },
          "metadata": {
            "tags": []
          },
          "execution_count": 99
        },
        {
          "output_type": "display_data",
          "data": {
            "image/png": "[encoded data removed]",
            "text/plain": [
              "<matplotlib.figure.Figure at 0x7f91d2ad4a90>"
            ]
          },
          "metadata": {
            "tags": []
          }
        }
      ]
    },
    {
      "metadata": {
        "id": "OOoxNjFHAOfd",
        "colab_type": "text"
      },
      "cell_type": "markdown",
      "source": [
        "**Observations**\n",
        "\n",
        "* All the variables are self-explanatory. \n",
        "* The column **education** is just a string representation of the column  **education-num**. We will drop the **education** column \n",
        "* The variables **workClass**, **occupation**, **native-country** have missing values. We will replace the missing values in each column with the **most_frequent** occurring value of that column.\n",
        "\n"
      ]
    },
    {
      "metadata": {
        "id": "8EQnBD5h7zsL",
        "colab_type": "text"
      },
      "cell_type": "markdown",
      "source": [
        "\n",
        "\n",
        "\n",
        "\n",
        "We need to handle the numerical and categorical attributes differently.  Numerical attributes needs to be scaled, where as we need to fill the missing values and then encode the categorical values into numerical values.  To apply these sequence of transformations we will use the sklearn [Pipeline](http://scikit-learn.org/stable/modules/generated/sklearn.pipeline.Pipeline.html).  We will also build custom transformers that can be directly used with Pipeline"
      ]
    },
    {
      "metadata": {
        "id": "cvjQA0Be3Uzh",
        "colab_type": "text"
      },
      "cell_type": "markdown",
      "source": [
        "# Creating Pipelines"
      ]
    },
    {
      "metadata": {
        "id": "-TrrPqNi9zVG",
        "colab_type": "text"
      },
      "cell_type": "markdown",
      "source": [
        "sklearn has many in-built transformers. However, if the in-built ones doesn't get the job done for you, you can build a custom transformer. All you need to do is to inherit [BaseEstimator](http://scikit-learn.org/stable/modules/generated/sklearn.base.BaseEstimator.html) and [TransformerMixin](http://scikit-learn.org/stable/modules/generated/sklearn.base.TransformerMixin.html) classes. You also need to implement the **fit** and **transform** methods. \n",
        "* **fit** - should return an instance of self and you can add the logic in \n",
        "* **transform** - add the logic here."
      ]
    },
    {
      "metadata": {
        "id": "IWt8funH3bZ6",
        "colab_type": "text"
      },
      "cell_type": "markdown",
      "source": [
        "## ColumnSelector Pipeline\n"
      ]
    },
    {
      "metadata": {
        "id": "FZPkF20v9BT0",
        "colab_type": "text"
      },
      "cell_type": "markdown",
      "source": [
        "sklearn doesn't provide libraries to directly manipulate with pandas dataframe. We will write our own Custom Transformer which will select the corresponding attributes (either numerical or categorical)"
      ]
    },
    {
      "metadata": {
        "id": "2UqgeFtj4snX",
        "colab_type": "code",
        "colab": {}
      },
      "cell_type": "code",
      "source": [
        "class ColumnsSelector(BaseEstimator, TransformerMixin):\n",
        "  \n",
        "  def __init__(self, type):\n",
        "    self.type = type\n",
        "  \n",
        "  def fit(self, X, y=None):\n",
        "    return self\n",
        "  \n",
        "  def transform(self,X):\n",
        "    return X.select_dtypes(include=[self.type])"
      ],
      "execution_count": 0,
      "outputs": []
    },
    {
      "metadata": {
        "id": "jX_o4-r33sWi",
        "colab_type": "text"
      },
      "cell_type": "markdown",
      "source": [
        "## Numerical Data Pipeline"
      ]
    },
    {
      "metadata": {
        "id": "mukeNstn--eS",
        "colab_type": "text"
      },
      "cell_type": "markdown",
      "source": [
        "For the numerical data, we select the numerical attributes using the **ColumnsSelector** transformer defined above and then scale the values using the Standard Scaler"
      ]
    },
    {
      "metadata": {
        "id": "suoFirzK55IR",
        "colab_type": "code",
        "colab": {}
      },
      "cell_type": "code",
      "source": [
        "num_pipeline = Pipeline(steps=[\n",
        "    (\"num_attr_selector\", ColumnsSelector(type='int')),\n",
        "    (\"scaler\", StandardScaler())\n",
        "])"
      ],
      "execution_count": 0,
      "outputs": []
    },
    {
      "metadata": {
        "id": "3w-s2TdM3ywN",
        "colab_type": "text"
      },
      "cell_type": "markdown",
      "source": [
        "## Categorical Data Pipeline"
      ]
    },
    {
      "metadata": {
        "id": "tGklO9OxVOBj",
        "colab_type": "text"
      },
      "cell_type": "markdown",
      "source": [
        "### Handling missing values"
      ]
    },
    {
      "metadata": {
        "id": "VTKYq7kI_Y5t",
        "colab_type": "text"
      },
      "cell_type": "markdown",
      "source": [
        "We need to replace the missing values in the categorical columns. We will replace the missing values with the most frequently occuring value in each column.  sklearn comes with [Imputer](http://scikit-learn.org/stable/modules/generated/sklearn.preprocessing.Imputer.html#) to handle missing values. However,  **Imputer** works only with numerical values. We will write a custom transformer which will accept a list of columns for which you need to replace the missing values and the strategy used to fill the missing values\n"
      ]
    },
    {
      "metadata": {
        "id": "x7nDCL9k7taJ",
        "colab_type": "code",
        "colab": {}
      },
      "cell_type": "code",
      "source": [
        "class CategoricalImputer(BaseEstimator, TransformerMixin):\n",
        "  \n",
        "  def __init__(self, columns = None, strategy='most_frequent'):\n",
        "    self.columns = columns\n",
        "    self.strategy = strategy\n",
        "    \n",
        "    \n",
        "  def fit(self,X, y=None):\n",
        "    if self.columns is None:\n",
        "      self.columns = X.columns\n",
        "    \n",
        "    if self.strategy is 'most_frequent':\n",
        "      self.fill = {column: X[column].value_counts().index[0] for column in self.columns}\n",
        "    else:\n",
        "      self.fill ={column: '0' for column in self.columns}\n",
        "      \n",
        "    return self\n",
        "      \n",
        "  def transform(self,X):\n",
        "    X_copy = X.copy()\n",
        "    for column in self.columns:\n",
        "      X_copy[column] = X_copy[column].fillna(self.fill[column])\n",
        "    return X_copy"
      ],
      "execution_count": 0,
      "outputs": []
    },
    {
      "metadata": {
        "id": "3YKKIsBmVX3U",
        "colab_type": "text"
      },
      "cell_type": "markdown",
      "source": [
        "### Encoding categorical values to numerical "
      ]
    },
    {
      "metadata": {
        "id": "_3lrjs0KA5cl",
        "colab_type": "text"
      },
      "cell_type": "markdown",
      "source": [
        "All the machine learning models expects numerical values. We need to convert the categorical columns to numerical values. We will use [pd.get_dummies](https://pandas.pydata.org/pandas-docs/stable/generated/pandas.get_dummies.html). This is similar to using [OneHotEncoder](http://scikit-learn.org/stable/modules/generated/sklearn.preprocessing.OneHotEncoder.html) except that OneHotEncoder requires numerical columns. \n",
        "\n",
        "\\\\\n",
        "\n",
        "We need to merge the train and test dataset before using pd.get_dummies as there might be classes in the test dataset that might not be present in the training dataset. But, we need to pass only the encoded train data to further transformers in the pipeline when we train the model. For this in the fit method we will concatenate the train and test dataset and find out all the possible values for a column. In the transform method, when we pass either the train dataset, we will convert each column to [Categorical](https://pandas.pydata.org/pandas-docs/stable/generated/pandas.api.types.CategoricalDtype.html) Type and specify the list of categories that the column can take. pd.get_dummies will create an column of all zeros for the category not present in the list of categories.\n",
        "\n",
        "\\\\\n",
        "\n",
        "The transformer also takes an argument **dropFirst** which indicates whether we should drop the first column after creating dummy columns using pd.get_dummies. By default, the value is set to **True**"
      ]
    },
    {
      "metadata": {
        "id": "0Iz6tsXE7t5Y",
        "colab_type": "code",
        "colab": {}
      },
      "cell_type": "code",
      "source": [
        "class CategoricalEncoder(BaseEstimator, TransformerMixin):\n",
        "  \n",
        "  def __init__(self, dropFirst=True):\n",
        "    self.categories=dict()\n",
        "    self.dropFirst=dropFirst\n",
        "    \n",
        "  def fit(self, X, y=None):\n",
        "    join_df = pd.concat([train_data, test_data])\n",
        "    join_df = join_df.select_dtypes(include=['object'])\n",
        "    for column in join_df.columns:\n",
        "      self.categories[column] = join_df[column].value_counts().index.tolist()\n",
        "    return self\n",
        "    \n",
        "  def transform(self, X):\n",
        "    X_copy = X.copy()\n",
        "    X_copy = X_copy.select_dtypes(include=['object'])\n",
        "    for column in X_copy.columns:\n",
        "      X_copy[column] = X_copy[column].astype({column: CategoricalDtype(self.categories[column])})\n",
        "    return pd.get_dummies(X_copy, drop_first=self.dropFirst)\n",
        " "
      ],
      "execution_count": 0,
      "outputs": []
    },
    {
      "metadata": {
        "id": "GjwBYD8FCyJv",
        "colab_type": "text"
      },
      "cell_type": "markdown",
      "source": [
        "We create our pipeline for handling the categorical attributes. First transformer is to select the categorical attributed from the dataframe and then we replace the missing values and then encode the categorical features to numerical features."
      ]
    },
    {
      "metadata": {
        "id": "qU4SA4quW8y6",
        "colab_type": "text"
      },
      "cell_type": "markdown",
      "source": [
        "### Complete Categorical Pipeline"
      ]
    },
    {
      "metadata": {
        "id": "lE_y4xnuXDdp",
        "colab_type": "text"
      },
      "cell_type": "markdown",
      "source": [
        "We select the categorical attributes using the **ColumnsSelector** transformer we defined above. The missing values are replaced by the **CategoricalImputer** pipeline and finally we encode the categorical values to numerical values using the **CategoricalEncoder** transformer. "
      ]
    },
    {
      "metadata": {
        "id": "dha7AEkQ74uo",
        "colab_type": "code",
        "colab": {}
      },
      "cell_type": "code",
      "source": [
        "cat_pipeline = Pipeline(steps=[\n",
        "    (\"cat_attr_selector\", ColumnsSelector(type='object')),\n",
        "    (\"cat_imputer\", CategoricalImputer(columns=['workClass','occupation', 'native-country'])),\n",
        "    (\"encoder\", CategoricalEncoder(dropFirst=True))\n",
        "])"
      ],
      "execution_count": 0,
      "outputs": []
    },
    {
      "metadata": {
        "id": "mylHVn8V4J8c",
        "colab_type": "text"
      },
      "cell_type": "markdown",
      "source": [
        "## Complete Pipeline"
      ]
    },
    {
      "metadata": {
        "id": "HZh9YPQzDXv7",
        "colab_type": "text"
      },
      "cell_type": "markdown",
      "source": [
        "We have two transformer pipeline i.e, **num_pipeline** and **cat_pipeline**. We can merge them using  [FeatureUnion](http://scikit-learn.org/stable/modules/generated/sklearn.pipeline.FeatureUnion.html)."
      ]
    },
    {
      "metadata": {
        "id": "-wGXYdk-9dIF",
        "colab_type": "code",
        "colab": {}
      },
      "cell_type": "code",
      "source": [
        "full_pipeline = FeatureUnion([(\"num_pipe\", num_pipeline), (\"cat_pipeline\", cat_pipeline)])"
      ],
      "execution_count": 0,
      "outputs": []
    },
    {
      "metadata": {
        "id": "gG9VsQO638lz",
        "colab_type": "text"
      },
      "cell_type": "markdown",
      "source": [
        "# Building the Model"
      ]
    },
    {
      "metadata": {
        "id": "KzCuxMqED7BT",
        "colab_type": "text"
      },
      "cell_type": "markdown",
      "source": [
        "We now have all the pipelines for preprocessing our data, next step is to prepare the data to be passed to the model. "
      ]
    },
    {
      "metadata": {
        "id": "drFWoWtAD1v4",
        "colab_type": "code",
        "colab": {}
      },
      "cell_type": "code",
      "source": [
        "train_data.drop(['fnlwgt', 'education'], axis=1, inplace=True)\n",
        "test_data.drop(['fnlwgt', 'education'], axis=1, inplace=True)"
      ],
      "execution_count": 0,
      "outputs": []
    },
    {
      "metadata": {
        "id": "vgqQ_Ops4N8I",
        "colab_type": "text"
      },
      "cell_type": "markdown",
      "source": [
        "## Preparing the data for training"
      ]
    },
    {
      "metadata": {
        "id": "h4WHkqV_A49Y",
        "colab_type": "code",
        "outputId": "0f255ec6-5224-402e-a8fc-a964880e5b5b",
        "colab": {
          "base_uri": "https://localhost:8080/",
          "height": 85
        }
      },
      "cell_type": "code",
      "source": [
        "# copy the data before preprocessing\n",
        "train_copy = train_data.copy()\n",
        "\n",
        "# convert the income column to 0 or 1 and then drop the column for the feature vectors\n",
        "train_copy[\"income\"] = train_copy[\"income\"].apply(lambda x:0 if x=='<=50K' else 1)\n",
        "\n",
        "# creating the feature vector \n",
        "X_train = train_copy.drop('income', axis =1)\n",
        "\n",
        "# target values\n",
        "Y_train = train_copy['income']\n",
        "\n",
        "print(X_train.columns)"
      ],
      "execution_count": 107,
      "outputs": [
        {
          "output_type": "stream",
          "text": [
            "Index(['age', 'workClass', 'education-num', 'marital-status', 'occupation',\n",
            "       'relationship', 'race', 'sex', 'capital-gain', 'capital-loss',\n",
            "       'hours-per-week', 'native-country'],\n",
            "      dtype='object')\n"
          ],
          "name": "stdout"
        }
      ]
    },
    {
      "metadata": {
        "id": "Wdy7WaYV4TXp",
        "colab_type": "text"
      },
      "cell_type": "markdown",
      "source": [
        "## Training the model"
      ]
    },
    {
      "metadata": {
        "id": "eatCoCzaDHGs",
        "colab_type": "code",
        "outputId": "4c2909ea-4d70-4405-b465-43290a4c89ce",
        "colab": {
          "base_uri": "https://localhost:8080/",
          "height": 34
        }
      },
      "cell_type": "code",
      "source": [
        "# set parameter type_df as train for categorical encoder \n",
        "# we can set parameter using the name of the transformer while defining the pipeline\n",
        "# syntax:  name_of_the_transformer__<param_name> = <param_value>\n",
        "\n",
        "# pass the data through the full_pipeline\n",
        "X_train_processed = full_pipeline.fit_transform(X_train)\n",
        "print(X_train_processed.shape)"
      ],
      "execution_count": 108,
      "outputs": [
        {
          "output_type": "stream",
          "text": [
            "(32561, 81)\n"
          ],
          "name": "stdout"
        }
      ]
    },
    {
      "metadata": {
        "id": "l-F_DGBHQ1jJ",
        "colab_type": "code",
        "outputId": "a6ff61ec-0a0b-4e89-c969-865d82f81f46",
        "colab": {
          "base_uri": "https://localhost:8080/",
          "height": 85
        }
      },
      "cell_type": "code",
      "source": [
        "model = LogisticRegression(random_state=0)\n",
        "model.fit(X_train_processed, Y_train)"
      ],
      "execution_count": 109,
      "outputs": [
        {
          "output_type": "execute_result",
          "data": {
            "text/plain": [
              "LogisticRegression(C=1.0, class_weight=None, dual=False, fit_intercept=True,\n",
              "          intercept_scaling=1, max_iter=100, multi_class='ovr', n_jobs=1,\n",
              "          penalty='l2', random_state=0, solver='liblinear', tol=0.0001,\n",
              "          verbose=0, warm_start=False)"
            ]
          },
          "metadata": {
            "tags": []
          },
          "execution_count": 109
        }
      ]
    },
    {
      "metadata": {
        "id": "CMISJGmyUv3r",
        "colab_type": "code",
        "outputId": "1b340c2a-7a66-42b2-c213-2cc9318fb57c",
        "colab": {
          "base_uri": "https://localhost:8080/",
          "height": 306
        }
      },
      "cell_type": "code",
      "source": [
        "model.coef_"
      ],
      "execution_count": 110,
      "outputs": [
        {
          "output_type": "execute_result",
          "data": {
            "text/plain": [
              "array([[ 0.31304242,  0.77344716,  2.30441938,  0.26043707,  0.39254144,\n",
              "        -0.4079881 , -0.05828018, -0.17633528,  0.22113266,  0.56465761,\n",
              "        -0.98710677, -0.23255675, -2.11664928, -1.62787779, -1.7151368 ,\n",
              "        -1.51746496, -1.6409283 ,  0.34017528, -0.17281349,  0.49450202,\n",
              "        -0.26302255,  0.01141396, -1.06791699, -0.50045569, -0.3420081 ,\n",
              "        -0.8938855 , -1.29266206,  0.35676903,  0.24188197, -1.8155616 ,\n",
              "        -0.46463658,  0.01074821, -1.1776929 , -0.13114022,  1.2809861 ,\n",
              "        -0.70915063, -0.17240314, -0.0624236 , -0.58612256, -0.44965801,\n",
              "        -0.83356401, -0.5741302 ,  0.38579902,  0.26318979, -0.42386037,\n",
              "         0.1099926 , -0.60201572, -0.30350144,  0.24602018,  0.13474449,\n",
              "        -0.59161906, -0.99086739, -0.09340008,  0.62648037, -1.18545106,\n",
              "         0.25911012, -0.20886377, -0.11056239, -0.94233795, -1.42583946,\n",
              "        -0.14771781, -0.16215946,  0.04851737, -0.08921733, -0.61738066,\n",
              "        -0.85975572, -0.53189494, -0.26227567,  0.33955128,  0.2570904 ,\n",
              "        -0.0684248 , -0.41779865,  0.9495679 , -0.25318315, -0.75207167,\n",
              "        -0.35160152,  0.31470184, -0.11856684, -0.28764723, -0.19879262,\n",
              "        -0.0232827 ]])"
            ]
          },
          "metadata": {
            "tags": []
          },
          "execution_count": 110
        }
      ]
    },
    {
      "metadata": {
        "id": "UobZOX1gme1H",
        "colab_type": "text"
      },
      "cell_type": "markdown",
      "source": [
        "# Testing the model"
      ]
    },
    {
      "metadata": {
        "id": "-SHFkhpDmilI",
        "colab_type": "text"
      },
      "cell_type": "markdown",
      "source": [
        "We need to use the same pipeline for preprocessing the test data set before testing the model"
      ]
    },
    {
      "metadata": {
        "id": "eHbLZRvqVsQG",
        "colab_type": "code",
        "outputId": "07e224fa-65bc-4c7f-a6ca-cd0a4b658fb7",
        "colab": {
          "base_uri": "https://localhost:8080/",
          "height": 85
        }
      },
      "cell_type": "code",
      "source": [
        "# take a copy of the test data set\n",
        "test_copy = test_data.copy()\n",
        "\n",
        "# convert the income column to 0 or 1\n",
        "test_copy[\"income\"] = test_copy[\"income\"].apply(lambda x:0 if x=='<=50K.' else 1)\n",
        "\n",
        "# separating the feature vecotrs and the target values\n",
        "X_test = test_copy.drop('income', axis =1)\n",
        "Y_test = test_copy['income']\n",
        "\n",
        "X_test.columns"
      ],
      "execution_count": 111,
      "outputs": [
        {
          "output_type": "execute_result",
          "data": {
            "text/plain": [
              "Index(['age', 'workClass', 'education-num', 'marital-status', 'occupation',\n",
              "       'relationship', 'race', 'sex', 'capital-gain', 'capital-loss',\n",
              "       'hours-per-week', 'native-country'],\n",
              "      dtype='object')"
            ]
          },
          "metadata": {
            "tags": []
          },
          "execution_count": 111
        }
      ]
    },
    {
      "metadata": {
        "id": "ZauHRTXaWkiO",
        "colab_type": "code",
        "outputId": "1a819264-da96-4b92-976d-108491b75897",
        "colab": {
          "base_uri": "https://localhost:8080/",
          "height": 34
        }
      },
      "cell_type": "code",
      "source": [
        "# preprocess the test data using the full pipeline\n",
        "# here we set the type_df param to 'test'\n",
        "X_test_processed = full_pipeline.fit_transform(X_test)\n",
        "X_test_processed.shape"
      ],
      "execution_count": 112,
      "outputs": [
        {
          "output_type": "execute_result",
          "data": {
            "text/plain": [
              "(16281, 81)"
            ]
          },
          "metadata": {
            "tags": []
          },
          "execution_count": 112
        }
      ]
    },
    {
      "metadata": {
        "id": "PAnOIVEwVejs",
        "colab_type": "code",
        "outputId": "235bac39-66d7-410f-e990-0d909794f384",
        "colab": {
          "base_uri": "https://localhost:8080/",
          "height": 34
        }
      },
      "cell_type": "code",
      "source": [
        "predicted_classes = model.predict(X_test_processed)\n",
        "print(predicted_classes)"
      ],
      "execution_count": 113,
      "outputs": [
        {
          "output_type": "stream",
          "text": [
            "[0 0 0 ... 1 0 1]\n"
          ],
          "name": "stdout"
        }
      ]
    },
    {
      "metadata": {
        "id": "9V6q50qi4apQ",
        "colab_type": "text"
      },
      "cell_type": "markdown",
      "source": [
        "# Model Evaluation"
      ]
    },
    {
      "metadata": {
        "id": "Qy_Ue2sgoOP_",
        "colab_type": "text"
      },
      "cell_type": "markdown",
      "source": [
        "We will use [accuracy_score](http://scikit-learn.org/stable/modules/generated/sklearn.metrics.accuracy_score.html) from sklearn to find the accuracy of the model "
      ]
    },
    {
      "metadata": {
        "id": "Q6JY3QLfbdZG",
        "colab_type": "code",
        "outputId": "85081ced-0cfb-4316-eb9e-338a555a6e55",
        "colab": {
          "base_uri": "https://localhost:8080/",
          "height": 34
        }
      },
      "cell_type": "code",
      "source": [
        "accuracy_score(predicted_classes, Y_test.values)"
      ],
      "execution_count": 114,
      "outputs": [
        {
          "output_type": "execute_result",
          "data": {
            "text/plain": [
              "0.8524660647380382"
            ]
          },
          "metadata": {
            "tags": []
          },
          "execution_count": 114
        }
      ]
    },
    {
      "metadata": {
        "id": "kTLKejSWtDjK",
        "colab_type": "text"
      },
      "cell_type": "markdown",
      "source": [
        "Let's plot the [confusion_matrix](http://scikit-learn.org/stable/modules/generated/sklearn.metrics.confusion_matrix.html) "
      ]
    },
    {
      "metadata": {
        "id": "JQa5pt-8pKnd",
        "colab_type": "code",
        "outputId": "2dd273cd-570b-4cd8-e4b3-879e19f0caec",
        "colab": {
          "base_uri": "https://localhost:8080/",
          "height": 439
        }
      },
      "cell_type": "code",
      "source": [
        "sns.set(rc={'figure.figsize':(8,6)})\n",
        "cfm = confusion_matrix(predicted_classes, Y_test.values)\n",
        "sns.heatmap(cfm, annot=True)\n",
        "print(cfm)\n",
        "plt.xlabel('Predicted classes')\n",
        "plt.ylabel('Actual classes')"
      ],
      "execution_count": 115,
      "outputs": [
        {
          "output_type": "stream",
          "text": [
            "[[11583  1550]\n",
            " [  852  2296]]\n"
          ],
          "name": "stdout"
        },
        {
          "output_type": "execute_result",
          "data": {
            "text/plain": [
              "Text(51,0.5,'Actual classes')"
            ]
          },
          "metadata": {
            "tags": []
          },
          "execution_count": 115
        },
        {
          "output_type": "display_data",
          "data": {
            "image/png": "[encoded data removed]",
            "text/plain": [
              "<matplotlib.figure.Figure at 0x7f91d2ad4550>"
            ]
          },
          "metadata": {
            "tags": []
          }
        }
      ]
    },
    {
      "metadata": {
        "id": "nLrx56yxtOXo",
        "colab_type": "text"
      },
      "cell_type": "markdown",
      "source": [
        "**Interpretation**\n",
        "\n",
        "* Y-axis represents the actual classes\n",
        "* X-axis represents the predicted classes\n",
        "* **11620** times when the model correctly predicted 0 when the actual class was 0 (**True Negatives**)\n",
        "* **1587** times the model  predicted 0 when the actual class was 1 (**False Negatives**)\n",
        "* **815** times the model  predicted 1 when the actual class was 0 (**False Positives**)\n",
        "* **2259** times the model correctly predicted 1 when the actual class was 1 (**True Positives**) "
      ]
    },
    {
      "metadata": {
        "id": "TEYzV5EIF_VV",
        "colab_type": "text"
      },
      "cell_type": "markdown",
      "source": [
        "# Cross Validation"
      ]
    },
    {
      "metadata": {
        "id": "yKEGAx1BGItM",
        "colab_type": "text"
      },
      "cell_type": "markdown",
      "source": [
        "We will use [StratifiedKFold](http://scikit-learn.org/stable/modules/generated/sklearn.model_selection.StratifiedKFold.html) to divide our dataset into k folds. In each iteration, k-1 folds are used as training set and the remaining is used as the training set to validate the model. We use StratifiedKFold because it preserves the percentage of samples of each class. \n",
        "\n",
        "\\\\\n",
        "\n",
        "If we use [KFold](http://scikit-learn.org/stable/modules/generated/sklearn.model_selection.KFold.html), we might run the risk of introducing sampling bias i.e, the train set might contain a large  number of samples where income is greater than 50K and the test set contains more samples where income is less than 50K. In this case, the model build from training data will not generalize well for test dataset. Whereas StratifiedKFold will ensure that there are enough samples of each class in both the train and test dataset."
      ]
    },
    {
      "metadata": {
        "id": "xWWCua7SGOU2",
        "colab_type": "text"
      },
      "cell_type": "markdown",
      "source": [
        "We will use [cross_val_score](http://scikit-learn.org/stable/modules/generated/sklearn.model_selection.cross_val_score.html) function from the sklearn library to compute scores for each cross-validation. The parameter **cv** determines the cross-validation strategy."
      ]
    },
    {
      "metadata": {
        "id": "dnc0j6aNGPxJ",
        "colab_type": "code",
        "outputId": "9cbe1746-7e52-4325-a57f-750dc18c43ea",
        "colab": {
          "base_uri": "https://localhost:8080/",
          "height": 51
        }
      },
      "cell_type": "code",
      "source": [
        "cross_val_model = LogisticRegression(random_state=0)\n",
        "scores = cross_val_score(cross_val_model, X_train_processed, Y_train, cv=5)\n",
        "print(scores)\n",
        "print(np.mean(scores))"
      ],
      "execution_count": 116,
      "outputs": [
        {
          "output_type": "stream",
          "text": [
            "[0.84707508 0.84920147 0.85257985 0.85350123 0.8519656 ]\n",
            "0.8508646475712343\n"
          ],
          "name": "stdout"
        }
      ]
    },
    {
      "metadata": {
        "id": "nDa6q_oX4faX",
        "colab_type": "text"
      },
      "cell_type": "markdown",
      "source": [
        "# Fine Tuning the Model"
      ]
    },
    {
      "metadata": {
        "id": "ZSN3-zqAb6uX",
        "colab_type": "text"
      },
      "cell_type": "markdown",
      "source": [
        "By default Logistic Regression takes the below parameters\n",
        "\n",
        "LogisticRegression(**C=1.0, class_weight=None, dual=False, fit_intercept=True,\n",
        "          intercept_scaling=1, max_iter=100, multi_class='ovr', n_jobs=1,\n",
        "          penalty='l2', random_state=None, solver='liblinear', tol=0.0001,\n",
        "          verbose=0, warm_start=False**)\n",
        "          \n",
        "We can fine-tune our model by playing around with the parameters. sklearn comes with [GridSearchCV](http://scikit-learn.org/stable/modules/generated/sklearn.model_selection.GridSearchCV.html) to do an exhaustive search\n",
        "over specified parameter values for an estimator.\n",
        "          "
      ]
    },
    {
      "metadata": {
        "id": "UdMET-iwcGCj",
        "colab_type": "text"
      },
      "cell_type": "markdown",
      "source": [
        "Creating the hyperparameter space"
      ]
    },
    {
      "metadata": {
        "id": "EPDFSirs3TvK",
        "colab_type": "code",
        "colab": {}
      },
      "cell_type": "code",
      "source": [
        "penalty = ['l1', 'l2']\n",
        "C = np.logspace(0, 4, 10)\n",
        "random_state=[0]\n",
        "\n",
        "# creating a dictionary of hyperparameters\n",
        "hyperparameters = dict(C=C, penalty=penalty, random_state=random_state)"
      ],
      "execution_count": 0,
      "outputs": []
    },
    {
      "metadata": {
        "id": "l0xWtMEuvov2",
        "colab_type": "text"
      },
      "cell_type": "markdown",
      "source": [
        "Using [GridSearchCV](http://scikit-learn.org/stable/modules/generated/sklearn.model_selection.GridSearchCV.html) to find the optimal parameters"
      ]
    },
    {
      "metadata": {
        "id": "3ker91g-cjeD",
        "colab_type": "code",
        "outputId": "5342c87c-4bd2-4f56-ebe3-9ef42c3381c6",
        "colab": {
          "base_uri": "https://localhost:8080/",
          "height": 51
        }
      },
      "cell_type": "code",
      "source": [
        "clf = GridSearchCV(estimator = model, param_grid = hyperparameters, cv=5)\n",
        "best_model = clf.fit(X_train_processed, Y_train)\n",
        "print('Best Penalty:', best_model.best_estimator_.get_params()['penalty'])\n",
        "print('Best C:', best_model.best_estimator_.get_params()['C'])"
      ],
      "execution_count": 118,
      "outputs": [
        {
          "output_type": "stream",
          "text": [
            "Best Penalty: l1\n",
            "Best C: 1.0\n"
          ],
          "name": "stdout"
        }
      ]
    },
    {
      "metadata": {
        "id": "TjIvchTqwmRe",
        "colab_type": "text"
      },
      "cell_type": "markdown",
      "source": [
        "Predicting using the best model parameters"
      ]
    },
    {
      "metadata": {
        "id": "oWHcBkNZdYzA",
        "colab_type": "code",
        "outputId": "4c3fc314-895b-44a4-a9bb-1fb96b79d76e",
        "colab": {
          "base_uri": "https://localhost:8080/",
          "height": 34
        }
      },
      "cell_type": "code",
      "source": [
        "best_predicted_values = best_model.predict(X_test_processed)\n",
        "print(best_predicted_values)"
      ],
      "execution_count": 119,
      "outputs": [
        {
          "output_type": "stream",
          "text": [
            "[0 0 0 ... 1 0 1]\n"
          ],
          "name": "stdout"
        }
      ]
    },
    {
      "metadata": {
        "id": "CeOBQDIAdh9j",
        "colab_type": "code",
        "outputId": "1b9c6639-2a2d-44cc-c28b-0884de30ea3e",
        "colab": {
          "base_uri": "https://localhost:8080/",
          "height": 34
        }
      },
      "cell_type": "code",
      "source": [
        "accuracy_score(best_predicted_values, Y_test.values)"
      ],
      "execution_count": 120,
      "outputs": [
        {
          "output_type": "execute_result",
          "data": {
            "text/plain": [
              "0.8523432221608009"
            ]
          },
          "metadata": {
            "tags": []
          },
          "execution_count": 120
        }
      ]
    },
    {
      "metadata": {
        "id": "nDEZDAV3hIh8",
        "colab_type": "text"
      },
      "cell_type": "markdown",
      "source": [
        "# Saving the model to pickle\n"
      ]
    },
    {
      "metadata": {
        "id": "396Eb9DkYise",
        "colab_type": "text"
      },
      "cell_type": "markdown",
      "source": [
        "We have done all the hard work of creating and testing the model. It would be good if we could save the model for future uses rather than retrain it. We will save our model in the [pickle](https://docs.python.org/2/library/pickle.html). "
      ]
    },
    {
      "metadata": {
        "id": "tfJ7xJxey-Zy",
        "colab_type": "code",
        "colab": {}
      },
      "cell_type": "code",
      "source": [
        "filename = 'final_model.sav'\n",
        "pickle.dump(model, open(filename, 'wb'))"
      ],
      "execution_count": 0,
      "outputs": []
    },
    {
      "metadata": {
        "id": "QUZ-Bseb04bA",
        "colab_type": "text"
      },
      "cell_type": "markdown",
      "source": [
        "Loading the model from pickle"
      ]
    },
    {
      "metadata": {
        "id": "B3YEWFvx07iy",
        "colab_type": "code",
        "outputId": "edbedb9a-71d3-46f2-8636-bdbafe86fc1b",
        "colab": {
          "base_uri": "https://localhost:8080/",
          "height": 85
        }
      },
      "cell_type": "code",
      "source": [
        "saved_model = pickle.load(open(filename, 'rb')) \n",
        "print(saved_model)"
      ],
      "execution_count": 122,
      "outputs": [
        {
          "output_type": "stream",
          "text": [
            "LogisticRegression(C=1.0, class_weight=None, dual=False, fit_intercept=True,\n",
            "          intercept_scaling=1, max_iter=100, multi_class='ovr', n_jobs=1,\n",
            "          penalty='l2', random_state=0, solver='liblinear', tol=0.0001,\n",
            "          verbose=0, warm_start=False)\n"
          ],
          "name": "stdout"
        }
      ]
    },
    {
      "metadata": {
        "id": "J8pet9cm1R0t",
        "colab_type": "text"
      },
      "cell_type": "markdown",
      "source": [
        "Now you can predict using the saved model. "
      ]
    }
  ]
}