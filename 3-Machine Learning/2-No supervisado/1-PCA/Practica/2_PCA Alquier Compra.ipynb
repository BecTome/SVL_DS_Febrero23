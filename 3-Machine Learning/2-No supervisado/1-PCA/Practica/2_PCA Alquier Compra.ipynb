{
 "cells": [
  {
   "cell_type": "markdown",
   "metadata": {},
   "source": [
    "# Ejercicio PCA (Principal Component Analysis)\n",
    "En este ejercicio vas a trabajar con un dataset de información de ciudadanos como el estado civil, número de hijos, qué gastos e ingresos tiene, etc...\n",
    "\n",
    "Se cuenta con un target, que es si el ciudadano va a alquilar o a comprar una vivienda. Para ello,  con PCA"
   ]
  },
  {
   "cell_type": "markdown",
   "metadata": {},
   "source": [
    "### Importamos librerias\n",
    "Principales librerías que usarás durante el notebook."
   ]
  },
  {
   "cell_type": "code",
   "execution_count": null,
   "metadata": {
    "ExecuteTime": {
     "end_time": "2018-10-08T14:32:36.607020Z",
     "start_time": "2018-10-08T14:32:28.345589Z"
    }
   },
   "outputs": [],
   "source": [
    "import pandas as pd\n",
    "import numpy as np\n",
    "import matplotlib.pyplot as plt\n",
    "%matplotlib inline\n",
    "plt.rcParams['figure.figsize'] = (16, 9)\n",
    "plt.style.use('ggplot')\n",
    "\n",
    "from sklearn.decomposition import PCA\n",
    "from sklearn.preprocessing import StandardScaler\n",
    "from sklearn.pipeline import Pipeline\n",
    "from sklearn.model_selection import GridSearchCV\n",
    "\n",
    "from sklearn.model_selection import train_test_split\n",
    "from sklearn.metrics import classification_report\n",
    "from sklearn.metrics import confusion_matrix\n",
    "from sklearn.neighbors import KNeighborsClassifier"
   ]
  },
  {
   "cell_type": "markdown",
   "metadata": {},
   "source": [
    "### Cargamos datos de entrada\n",
    "1. Carga el csv *comprar_alquilar.csv*\n",
    "2. Obtén la información básica: columnas, dimensiones, descripción de las variables, missings..."
   ]
  },
  {
   "cell_type": "code",
   "execution_count": null,
   "metadata": {
    "ExecuteTime": {
     "end_time": "2018-10-08T14:32:36.786815Z",
     "start_time": "2018-10-08T14:32:36.610868Z"
    }
   },
   "outputs": [],
   "source": []
  },
  {
   "cell_type": "markdown",
   "metadata": {},
   "source": [
    "### Visualicemos las dimensiones\n",
    "Realiza un análisis univariante. Realiza la gráfica que consideres para cada varaible, diferenciando por colores el target (*comprar*)."
   ]
  },
  {
   "cell_type": "code",
   "execution_count": null,
   "metadata": {
    "ExecuteTime": {
     "end_time": "2018-10-08T14:32:41.251348Z",
     "start_time": "2018-10-08T14:32:36.791824Z"
    }
   },
   "outputs": [],
   "source": []
  },
  {
   "cell_type": "markdown",
   "metadata": {},
   "source": [
    "## Estandariza los datos\n",
    "Como el objetivo de estos primeros apartados no es encontrar el mejor modelo con el mejor accuracy, por sencillez, no es necesario dividir en train y test."
   ]
  },
  {
   "cell_type": "code",
   "execution_count": null,
   "metadata": {
    "ExecuteTime": {
     "end_time": "2018-10-08T14:32:41.912248Z",
     "start_time": "2018-10-08T14:32:41.895141Z"
    }
   },
   "outputs": [],
   "source": []
  },
  {
   "cell_type": "markdown",
   "metadata": {},
   "source": [
    "## Aplicamos PCA\n",
    "Aplica el algoritmo de PCA para 9 components, es decir, para todas las features"
   ]
  },
  {
   "cell_type": "code",
   "execution_count": null,
   "metadata": {
    "ExecuteTime": {
     "end_time": "2018-10-08T14:32:41.946179Z",
     "start_time": "2018-10-08T14:32:41.915977Z"
    }
   },
   "outputs": [],
   "source": []
  },
  {
   "cell_type": "markdown",
   "metadata": {},
   "source": [
    "### Veamos cuántos buenos predictores son las nuevas dimensiones\n",
    "Responde a las siguientes preguntas:\n",
    "1. ¿Cuánta varianza explica cada Principal Component?\n",
    "2. ¿Y de manera acumulada empezando por el PC1?\n",
    "3. ¿Cuánta varianza explicarían sólo 5 componentes?"
   ]
  },
  {
   "cell_type": "code",
   "execution_count": null,
   "metadata": {
    "ExecuteTime": {
     "end_time": "2018-10-08T14:32:41.967301Z",
     "start_time": "2018-10-08T14:32:41.949323Z"
    }
   },
   "outputs": [],
   "source": []
  },
  {
   "cell_type": "markdown",
   "metadata": {},
   "source": [
    "### Graficamos la variacion explicada acumulada\n",
    "Representa en un diagrama de lineas la evolución de la varianza acumulada en función de los PC"
   ]
  },
  {
   "cell_type": "code",
   "execution_count": null,
   "metadata": {
    "ExecuteTime": {
     "end_time": "2018-10-08T14:32:42.230724Z",
     "start_time": "2018-10-08T14:32:41.978652Z"
    }
   },
   "outputs": [],
   "source": []
  },
  {
   "cell_type": "markdown",
   "metadata": {},
   "source": [
    "### Veamos la correlación entre las nuevas componentes y las dimensiones originales\n",
    "Representa en un mapa de calor los PCA vs las variables originales. Esta información la puedes obtener del atributo de PCA *components_*."
   ]
  },
  {
   "cell_type": "code",
   "execution_count": null,
   "metadata": {
    "ExecuteTime": {
     "end_time": "2018-10-08T14:32:42.848773Z",
     "start_time": "2018-10-08T14:32:42.531140Z"
    }
   },
   "outputs": [],
   "source": []
  },
  {
   "cell_type": "markdown",
   "metadata": {},
   "source": [
    "## Predicciones\n",
    "1. Divide en train y test\n",
    "2. Prepara un pipeline compuesto por:\n",
    "    - StandardScaler,\n",
    "    - PCA de 5 componentes\n",
    "    - KNN con 3 vecinos\n",
    "3. Entrena\n",
    "4. Predice en test\n",
    "5. Calcula el accuracy score en train y test\n",
    "6. Representa la matriz de confusión\n",
    "7. ¿Qué combinación de vecinos y componentes mejoraría el accuracy en test?"
   ]
  },
  {
   "cell_type": "code",
   "execution_count": null,
   "metadata": {},
   "outputs": [],
   "source": []
  }
 ],
 "metadata": {
  "kernelspec": {
   "display_name": "Python 3",
   "language": "python",
   "name": "python3"
  },
  "language_info": {
   "codemirror_mode": {
    "name": "ipython",
    "version": 3
   },
   "file_extension": ".py",
   "mimetype": "text/x-python",
   "name": "python",
   "nbconvert_exporter": "python",
   "pygments_lexer": "ipython3",
   "version": "3.8.5"
  }
 },
 "nbformat": 4,
 "nbformat_minor": 4
}
