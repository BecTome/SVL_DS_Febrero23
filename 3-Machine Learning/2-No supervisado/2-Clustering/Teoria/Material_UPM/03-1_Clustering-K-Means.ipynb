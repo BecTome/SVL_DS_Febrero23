{
 "cells": [
  {
   "attachments": {},
   "cell_type": "markdown",
   "metadata": {},
   "source": [
    "# 03.1 Aprendizaje no supervisado. Clustering "
   ]
  },
  {
   "cell_type": "code",
   "execution_count": 1,
   "metadata": {},
   "outputs": [],
   "source": [
    "import matplotlib.pyplot as plt \n",
    "%matplotlib inline\n",
    "import pandas as pd\n",
    "import numpy as np\n",
    "from skimage import io\n",
    "from IPython import display"
   ]
  },
  {
   "attachments": {},
   "cell_type": "markdown",
   "metadata": {},
   "source": [
    "## Aprendizaje no supervisado\n",
    "\n",
    "- Aquí partimos de un conjunto de __validación__ que no ha sido clasificado previamente.\n",
    "- Este conjunto de __validación__ está formado por $N$ registros $\\{ x^1, ..., x^i, ..., x^N \\}$, cada una de las cuales está descrito por un vector de $n$ atributos, por tanto $x^i \\in R^n$.\n",
    "- Al no existir la matriz $y$ con la variable objetivo, no existe un conjunto de entrenamiento.\n",
    "- Los métodos no supervisados pretenden \"aprender\" relaciones entre los datos y clasificarlos \"sin usar conocimiento previo\".\n",
    "- Estos métodos se basan en buscar __estructuras__, __patrones__ o __características__ que sirvan para aprender posibles relaciones en los datos."
   ]
  },
  {
   "attachments": {},
   "cell_type": "markdown",
   "metadata": {},
   "source": [
    "## Clustering\n",
    "\n",
    "__Clustering__ se refiere a las técnicas para encontrar __subgrupos o clusters__ en conjunto de datos. Cuando se hace un cluster se buscan particiones en las que las observaciones sean similares entre sí. \n",
    "\n",
    "El clustering busca encontrar subgrupos homogéneos en las observaciones. \n",
    "\n",
    "Para realizar las agrupaciones utilizamos las __distancias__ o __similitudes__ entre los vectores de atributos $x$ asociados a distintos registros.\n",
    "\n",
    "Un ejemplo de clustering para el grupo Iris:\n",
    "\n",
    "<img src=\"images/Clustering_Iris.png\" width=\"500px\">\n",
    "\n",
    "O un ejemplo de agrupación de semillas:\n",
    "\n",
    "<img src=\"./images/Clustering_Semillas.png\" width=\"500px\">\n",
    "\n",
    "O finalmente un ejemplo de cultivos celulares:\n",
    "\n",
    "<img src=\"./images/Clustering_CultCell.png\" width=\"500px\">\n"
   ]
  },
  {
   "attachments": {},
   "cell_type": "markdown",
   "metadata": {},
   "source": [
    "Las __redes de coexpresión génica (GCN)__ son una herramienta fundamental para caracterizar genes mediante el estudio de sus patrones de correlación. Los genes __se agrupan en función de su similitud__ formando módulos (grupos). Se asume que los genes que se encuentran en el mismo módulo están __relacionados con un fenotipo determinado__, una enfermedad o tienen una función similar. Los métodos habituales para generar GCN usan algoritmos de __clustering__."
   ]
  },
  {
   "attachments": {},
   "cell_type": "markdown",
   "metadata": {},
   "source": [
    "### Objetivo\n",
    "\n",
    "Dadas N observaciones (registros) de n atributos, queremos asignarlas a K __grupos__ de forma que:\n",
    "\n",
    "- __Cada__ elemento esté asignado a un __único__ grupo.\n",
    "- __Todo__ elemento esté asignado a __algún__ grupo.\n",
    "- Cada grupo sea internamente __homogéneo__.\n",
    "- Los grupos sean distintos (__separados__) entre sí.\n",
    "\n",
    "A veces la primera de las condiciones se relaja (\"análisis de grupos difusos\" o \"_fuzzy cluster analysis_\").\n"
   ]
  },
  {
   "attachments": {},
   "cell_type": "markdown",
   "metadata": {},
   "source": [
    "### Métodos de agrupamiento\n",
    "\n",
    "- __Métodos de partición__. Tenemos datos heterogéneos y queremos __dividirlos__ en un número de grupos conocido de antemano (__K-means__).\n",
    "- __Métodos jerárquicos__. Se descomponen __jerárquicamente__ los datos de acuerdo con su proximidad o similitud. Inspirados en el paradigma Darwiniano (__hipótesis similaridad - proximidad evolutiva en filogenias__)\n",
    "- __Métodos basados en densidades__. Utilizan el grado de aglomeración de los datos para estimar los grupos (__DBSCAN__).\n",
    "- __Métodos basados en distribuciones__. Proponen un modelo como hipótesis y se busca el mejor ajuste de los datos (\"__Gaussian mixture models__\", ajustados mediante el algoritmo de \"expectation-maximization\")."
   ]
  },
  {
   "attachments": {},
   "cell_type": "markdown",
   "metadata": {},
   "source": [
    "### Similitud y distancia\n",
    "\n",
    "__¿Cómo asignamos una observación a un grupo?__\n",
    "\n",
    "- En función de la __distancia__ de esa observación a los elementos del grupo.\n",
    "- En función de la __similitud__ de esa observación a los elementos del grupo.\n",
    "\n",
    "En un espacio vectorial se define una __distancia__ $d_{ij}$ entre dos vectores $x^{(i)}$ y $x^{(j)}$ si cumple:\n",
    "- $d_{ij} \\ge 0$. Además si $d(u, v) = 0 \\rightarrow u=v$ (__definida positiva__).\n",
    "- $d_{ij} = d_{ji}$ o __propiedad simétrica__.\n",
    "- $d_{ij} + d_{jk} \\ge d_{ik}$ o __propiedad triangular__.\n",
    "\n",
    "Las medidas de distancia son útiles cuando los atributos son __cuantitativos__ exclusivamente.\n",
    "\n",
    "__Ejemplos de distancia__:\n",
    "\n",
    "- Distancia __euclídea__:\n",
    "\n",
    "$$d_{ij} = \\sqrt{ \\sum_{p=1}^n (x_p^{(i)}-x_p^{(j)})^2}$$\n",
    "\n",
    "- Distancia rectangular __(Manhattan)__:\n",
    "\n",
    "$$d_{ij} = \\sum_{p=1}^n \\begin{vmatrix}x_p^{(i)}-x_p^{(j)}\\end{vmatrix}$$\n",
    "\n",
    "- Distancia __Mahalanobis__:\n",
    "\n",
    "$$d_{ij} = (x^{(i)}-x^{(j)})^T \\Gamma ^{-1} (x^{(i)}-x^{(j)})$$\n",
    "\n",
    "Siendo $\\Gamma$ la matriz de varianzas y covarianzas."
   ]
  },
  {
   "attachments": {},
   "cell_type": "markdown",
   "metadata": {},
   "source": [
    "### Similitud\n",
    "\n",
    "En el espacio vectorial $\\mathcal{R}^n$ se define la __similitud__ entre dos vectores $u$ y $v$ como\n",
    "\n",
    "- $0 \\le s_{ij} \\le 1$\n",
    "- $s_{ij} = s_{ji}$\n",
    "- $s_{ii}=1$\n",
    "\n",
    "Por ejemplo el __coeficiente de Gower__ se puede emplear para calcular la similitud tanto para propiedades continuas como discretas:\n",
    "\n",
    "$$s_{ij}=\\frac{\\sum_{k=1}^n w_k^{ij}s_k^{ij}}{\\sum_{k=1}^n w_k^{ij}} \\qquad  s_p^{ij} = 1 - \\frac{|x_p^i - x_p^j|}{rango(p)} $$\n",
    "\n",
    "Siendo $s_p^{ij}$ la similitud entre los registros i y j para el atributo p, $w_k^{ij} \\in \\{0,1\\}$ (según esté el atributo incluido o no), y el rango del atributo\n",
    "\n",
    "$$rango(p)=\\displaystyle\\max_{i \\in \\{1,...,N\\}}x_p^i - \\min_{i \\in \\{1,...,N\\}} x_p^i $$\n",
    "\n",
    "Las medidas de similitud son útiles cuando los atributos son __categóricos__ (o de ambos tipos).\n",
    "\n",
    "En el caso de usar una similitud los algoritmos de clustering seran igual pero sustituyendo la matriz de distancia por una de similitud. La diagonal principal serían _unos_ y el cálculo de las similitudes entre dos elementos sería como se indica en el ejemplo que aparece a continuación.\n",
    "\n",
    "Se calcula la similitud entre las variedades __Canilla/Trad__ y __Criollo__. Se consideran todas los atributos incluidos entre las dos variedades consideradas.\n",
    "\n",
    "<img src=\"images/Calculo_Similitud.png\" width=\"700px\">"
   ]
  },
  {
   "attachments": {},
   "cell_type": "markdown",
   "metadata": {},
   "source": [
    "## Clustering K-Medias\n",
    "\n",
    "El __algoritmo K-Means o K-Medias__ propuesto por __Lloyd__ pretende partir un conjunto de <b>$N$</b> registros u observaciones en <b>$K$</b> grupos, de forma que su distancia al centroide de cada grupo sea mínima (o la similitud con respecto al centroide sea máxima). Los pasos del algoritmo son: \n",
    "\n",
    "1. Se seleccionan aleatoriamente <b>$K$</b> centroides.\n",
    "2. Se asigna cada uno de los restantes <b>$N$</b> puntos al centroide <b>$C_i$</b> más cercano, $j=(1,...,K)$\n",
    "3. Recalcular los centroides según se cambios puntos en cada grupo\n",
    "4. Repetir los puntos 2 y 3 hasta que los grupos no cambien o se supere una tolerancia de usuario o un número máximo de iteraciones.\n",
    "\n",
    "__El algoritmo mínimiza la Suma de las distancias al cuadrado entre cada punto y su centroide__\n"
   ]
  },
  {
   "attachments": {},
   "cell_type": "markdown",
   "metadata": {},
   "source": [
    "__Resumiendo gráficamente los pasos del algoritmo__\n",
    "\n",
    "<img src=\"images/Kmedias-esquema.png\" width=\"900px\">"
   ]
  },
  {
   "attachments": {},
   "cell_type": "markdown",
   "metadata": {},
   "source": [
    "__Observaciones sobre el algoritmo K-Medias:__\n",
    "\n",
    "- Algoritmo abordable con una __programación estándar__ aunque conviene estructurar las n observaciones en un __árbol kd__ donde los puntos d-dimensionales se dividen en k medianas sucesivas, lo que facilita las búsquedas.\n",
    "\n",
    "- El algoritmo es __muy dependiente de la elección random de los primeros K puntos como centroides iniciales__.\n",
    "\n",
    "- Matemáticamente equivale a dividir el espacio de atributos en __polígonos o celdas de Voronoi__."
   ]
  },
  {
   "attachments": {},
   "cell_type": "markdown",
   "metadata": {},
   "source": [
    "### Estandarización de atributos\n",
    "\n",
    "__La suma de cuadrados NO es invariante bajo cambios de escala:__\n",
    "\n",
    "- Si las unidades de medida de los atributos son __distintas__, el resultado de K-means puede depender de cambios irrelevantes en la escala de medida.\n",
    "- Entonces conviene estandarizar cada atributo de forma __univariante__: restamos la media y dividimos entre la desviación típica. Así las medidas de distancia __tienen sentido__.\n",
    "\n",
    "__Cuando tenemos las mismas unidades suele ser mejor no estandarizar:__\n",
    "\n",
    "<img src=\"images/Kmedias-standarizado.png\" width=\"700px\">"
   ]
  },
  {
   "attachments": {},
   "cell_type": "markdown",
   "metadata": {},
   "source": [
    "### Pros y contras de K-Medias\n",
    "\n",
    "__Ventajas__:\n",
    "\n",
    "- Es __eficiente__ (converge rápidamente).\n",
    "- La busqueda __heurística__ termina en un óptimo local.\n",
    "\n",
    "__Desventajas__:\n",
    "\n",
    "- No __robusto__ frente a observaciones __atípicas__.\n",
    "- No aplicable si las variables son __categóricas__ (necesitamos que la media esté definida).\n",
    "- No funciona si se buscan grupos __no convexos__.\n",
    "- El número de grupos K __no es un resultado del método__ (debe especificarse al inicio).\n"
   ]
  },
  {
   "attachments": {},
   "cell_type": "markdown",
   "metadata": {},
   "source": [
    "## Segmentación de los datos Iris con K-means\n",
    "\n",
    "__Se utilizan los 4 atributos del sépalo y pétalo (alto y largo) para segmentar en 3 grupos__"
   ]
  },
  {
   "cell_type": "code",
   "execution_count": 2,
   "metadata": {},
   "outputs": [
    {
     "data": {
      "text/html": [
       "<div>\n",
       "<style scoped>\n",
       "    .dataframe tbody tr th:only-of-type {\n",
       "        vertical-align: middle;\n",
       "    }\n",
       "\n",
       "    .dataframe tbody tr th {\n",
       "        vertical-align: top;\n",
       "    }\n",
       "\n",
       "    .dataframe thead th {\n",
       "        text-align: right;\n",
       "    }\n",
       "</style>\n",
       "<table border=\"1\" class=\"dataframe\">\n",
       "  <thead>\n",
       "    <tr style=\"text-align: right;\">\n",
       "      <th></th>\n",
       "      <th>sepal length (cm)</th>\n",
       "      <th>sepal width (cm)</th>\n",
       "      <th>petal length (cm)</th>\n",
       "      <th>petal width (cm)</th>\n",
       "      <th>target</th>\n",
       "    </tr>\n",
       "  </thead>\n",
       "  <tbody>\n",
       "    <tr>\n",
       "      <th>0</th>\n",
       "      <td>5.1</td>\n",
       "      <td>3.5</td>\n",
       "      <td>1.4</td>\n",
       "      <td>0.2</td>\n",
       "      <td>0</td>\n",
       "    </tr>\n",
       "    <tr>\n",
       "      <th>1</th>\n",
       "      <td>4.9</td>\n",
       "      <td>3.0</td>\n",
       "      <td>1.4</td>\n",
       "      <td>0.2</td>\n",
       "      <td>0</td>\n",
       "    </tr>\n",
       "    <tr>\n",
       "      <th>2</th>\n",
       "      <td>4.7</td>\n",
       "      <td>3.2</td>\n",
       "      <td>1.3</td>\n",
       "      <td>0.2</td>\n",
       "      <td>0</td>\n",
       "    </tr>\n",
       "    <tr>\n",
       "      <th>3</th>\n",
       "      <td>4.6</td>\n",
       "      <td>3.1</td>\n",
       "      <td>1.5</td>\n",
       "      <td>0.2</td>\n",
       "      <td>0</td>\n",
       "    </tr>\n",
       "    <tr>\n",
       "      <th>4</th>\n",
       "      <td>5.0</td>\n",
       "      <td>3.6</td>\n",
       "      <td>1.4</td>\n",
       "      <td>0.2</td>\n",
       "      <td>0</td>\n",
       "    </tr>\n",
       "  </tbody>\n",
       "</table>\n",
       "</div>"
      ],
      "text/plain": [
       "   sepal length (cm)  sepal width (cm)  petal length (cm)  petal width (cm)  \\\n",
       "0                5.1               3.5                1.4               0.2   \n",
       "1                4.9               3.0                1.4               0.2   \n",
       "2                4.7               3.2                1.3               0.2   \n",
       "3                4.6               3.1                1.5               0.2   \n",
       "4                5.0               3.6                1.4               0.2   \n",
       "\n",
       "   target  \n",
       "0       0  \n",
       "1       0  \n",
       "2       0  \n",
       "3       0  \n",
       "4       0  "
      ]
     },
     "execution_count": 2,
     "metadata": {},
     "output_type": "execute_result"
    }
   ],
   "source": [
    "from sklearn.datasets import load_iris\n",
    "import pandas as pd\n",
    "iris = load_iris()\n",
    "df = pd.DataFrame(iris.data, columns=iris.feature_names)\n",
    "df['target']=iris['target']\n",
    "df.head()"
   ]
  },
  {
   "cell_type": "code",
   "execution_count": 3,
   "metadata": {},
   "outputs": [],
   "source": [
    "X = df.values[:,0:4]\n",
    "y = df.values[:,4]"
   ]
  },
  {
   "cell_type": "code",
   "execution_count": 4,
   "metadata": {},
   "outputs": [
    {
     "data": {
      "image/png": "[encoded data removed]",
      "text/plain": [
       "<Figure size 560x400 with 1 Axes>"
      ]
     },
     "metadata": {
      "needs_background": "light"
     },
     "output_type": "display_data"
    }
   ],
   "source": [
    "import matplotlib.pyplot as plt\n",
    "clases = iris['target_names']\n",
    "marcas = ['*', 'o', 's']\n",
    "color = ['red', 'green', 'blue']\n",
    "plt.figure(figsize=(7, 5), dpi=80)\n",
    "for i in range(len(clases)):\n",
    "    plt.scatter(X[y==i,2], X[y==i,3], c=color[i], alpha=0.5, marker=marcas[i], label=clases[i])\n",
    "plt.xlabel(\"Longitud de pétalo\")\n",
    "plt.ylabel(\"Ancho de pétalo\")\n",
    "plt.legend(loc='upper left')\n",
    "plt.show()"
   ]
  },
  {
   "attachments": {},
   "cell_type": "markdown",
   "metadata": {},
   "source": [
    "Se llevará a cabo una agrupación de 3 grupos (__n_cluster__), se ejecuta el algoritmo 10 veces (__n_init__) independientemente con diferentes centroides aleatorios para elegir el modelo final que tiene el SSE más bajo. Se elege una tolerancia (__tol__) de 0.0001 ($10^{-4}$) para controlar la convergencia de los mínimos cuadrados.\n",
    "\n",
    "Un problema con k-means es que uno o más grupos pueden estar vacíos. Sin embargo, en la implementación actual de kmeans en scikit-learn, si un grupo está vacío, el algoritmo tomará la muestra más cercana al centroide del grupo vacío. Luego reasignará el centroide para que sea el punto más alejado.\n",
    "\n",
    "La variable __init__ permite indica el tipo de \n",
    "- '__k-means++__': selecciona los centros de clúster iniciales para el agrupamiento de k-means de una manera inteligente para acelerar la convergencia. \n",
    "- '__random__': elija n_clusters observaciones (filas) al azar de los datos para los centroides iniciales.\n",
    "- '__ndarray__': debe tener forma (n_clusters, n_features) y en el se proporcionan los centros iniciales.\n",
    "- '__callable__': se le pasa el nombre de una rutina externa que realiza la inicialización."
   ]
  },
  {
   "cell_type": "code",
   "execution_count": 5,
   "metadata": {},
   "outputs": [],
   "source": [
    "from sklearn.cluster import KMeans\n",
    "km = KMeans(n_clusters=3, init='random', n_init=10, max_iter=300, tol=1e-04, random_state=1)\n",
    "y_km = km.fit_predict(X)"
   ]
  },
  {
   "attachments": {},
   "cell_type": "markdown",
   "metadata": {},
   "source": [
    "__La inercia es la suma de la distancia al cuadrado entre cada punto y su centroide__"
   ]
  },
  {
   "cell_type": "code",
   "execution_count": 6,
   "metadata": {},
   "outputs": [
    {
     "name": "stdout",
     "output_type": "stream",
     "text": [
      "78.851441426146\n",
      "[6.85       3.07368421 5.74210526 2.07105263] 23.879473684210524\n",
      "[5.006 3.428 1.462 0.246] 39.03047368421053\n",
      "[5.9016129  2.7483871  4.39354839 1.43387097] 78.85144142614607\n",
      "78.85144142614607\n"
     ]
    }
   ],
   "source": [
    "print(km.inertia_)\n",
    "iner = 0\n",
    "for et in np.unique(y_km):\n",
    "    centr = km.cluster_centers_[et]\n",
    "    for x in X[y_km==et]:\n",
    "        iner += ((centr[0]-x[0])**2 + (centr[1]-x[1])**2 + (centr[2]-x[2])**2 + (centr[3]-x[3])**2)\n",
    "    print(centr,iner)\n",
    "print(iner)"
   ]
  },
  {
   "attachments": {},
   "cell_type": "markdown",
   "metadata": {},
   "source": [
    "__Podemos mostrar las coordenadas de los centroides__\n",
    "\n",
    "Directamente mostrando la variable <b>cluster_centers_</b> que aparece en el objeto que hemos creado con KMeans o algo más vistoso con un DataFrame:"
   ]
  },
  {
   "cell_type": "code",
   "execution_count": 7,
   "metadata": {},
   "outputs": [
    {
     "data": {
      "text/html": [
       "<div>\n",
       "<style scoped>\n",
       "    .dataframe tbody tr th:only-of-type {\n",
       "        vertical-align: middle;\n",
       "    }\n",
       "\n",
       "    .dataframe tbody tr th {\n",
       "        vertical-align: top;\n",
       "    }\n",
       "\n",
       "    .dataframe thead th {\n",
       "        text-align: right;\n",
       "    }\n",
       "</style>\n",
       "<table border=\"1\" class=\"dataframe\">\n",
       "  <thead>\n",
       "    <tr style=\"text-align: right;\">\n",
       "      <th></th>\n",
       "      <th>sepal length (cm)</th>\n",
       "      <th>sepal width (cm)</th>\n",
       "      <th>petal length (cm)</th>\n",
       "      <th>petal width (cm)</th>\n",
       "    </tr>\n",
       "  </thead>\n",
       "  <tbody>\n",
       "    <tr>\n",
       "      <th>0</th>\n",
       "      <td>6.850000</td>\n",
       "      <td>3.073684</td>\n",
       "      <td>5.742105</td>\n",
       "      <td>2.071053</td>\n",
       "    </tr>\n",
       "    <tr>\n",
       "      <th>1</th>\n",
       "      <td>5.006000</td>\n",
       "      <td>3.428000</td>\n",
       "      <td>1.462000</td>\n",
       "      <td>0.246000</td>\n",
       "    </tr>\n",
       "    <tr>\n",
       "      <th>2</th>\n",
       "      <td>5.901613</td>\n",
       "      <td>2.748387</td>\n",
       "      <td>4.393548</td>\n",
       "      <td>1.433871</td>\n",
       "    </tr>\n",
       "  </tbody>\n",
       "</table>\n",
       "</div>"
      ],
      "text/plain": [
       "   sepal length (cm)  sepal width (cm)  petal length (cm)  petal width (cm)\n",
       "0           6.850000          3.073684           5.742105          2.071053\n",
       "1           5.006000          3.428000           1.462000          0.246000\n",
       "2           5.901613          2.748387           4.393548          1.433871"
      ]
     },
     "execution_count": 7,
     "metadata": {},
     "output_type": "execute_result"
    }
   ],
   "source": [
    "pd.DataFrame(columns=df.columns[0:4],index = np.arange(3),data = km.cluster_centers_)"
   ]
  },
  {
   "attachments": {},
   "cell_type": "markdown",
   "metadata": {},
   "source": [
    "La visualización del ajuste realizado es el siguiente:"
   ]
  },
  {
   "cell_type": "code",
   "execution_count": 8,
   "metadata": {},
   "outputs": [
    {
     "data": {
      "image/png": "[encoded data removed]",
      "text/plain": [
       "<Figure size 560x400 with 1 Axes>"
      ]
     },
     "metadata": {
      "needs_background": "light"
     },
     "output_type": "display_data"
    }
   ],
   "source": [
    "import matplotlib.pyplot as plt\n",
    "clases = iris['target_names']\n",
    "clases = ['virginica','setosa','versicolor']\n",
    "marcas = ['*', 'o', 's']\n",
    "color = ['red', 'green', 'blue']\n",
    "plt.figure(figsize=(7, 5), dpi=80)\n",
    "for i in range(len(clases)):\n",
    "    plt.scatter(X[y_km==i,2], X[y_km==i,3], c=color[i], alpha=0.5, marker=marcas[i], label=clases[i])\n",
    "plt.xlabel(\"Longitud de pétalo\")\n",
    "plt.ylabel(\"Ancho de pétalo\")\n",
    "plt.legend(loc='upper left')\n",
    "plt.show()"
   ]
  },
  {
   "attachments": {},
   "cell_type": "markdown",
   "metadata": {},
   "source": [
    "## Medidas de validación interna\n",
    "\n",
    "__Objetivos__:\n",
    "\n",
    "- Queremos grupos __homogéneos__.\n",
    "- Tienen que estar __bien separados__ entre sí.\n",
    "\n",
    "__En K-means__:\n",
    "\n",
    "- Buscamos el menor cociente entre la variabilidad __intra__-grupo y la variabilidad __total__ (grupos homogéneos).\n",
    "- Buscamos el mayor cociente posible entre la variabilidad __entre__ grupos y la variabilidad __total__ (grupos separados).\n"
   ]
  },
  {
   "attachments": {},
   "cell_type": "markdown",
   "metadata": {},
   "source": [
    "### Método del codo\n",
    "\n",
    "Para cuantificar la calidad de la agrupación, necesitamos utilizar métricas intrínsecas, como el SSE (suma de la distancia al cuadrado de cada uno de las observaciones a su centroide) dentro del cluster. El SSE midel la distorsión, y permite comparar el rendimiento de diferentes agrupaciones de k-medias. No es necesirio calcular de forma explícita el SSE dentro del clúster cuando usamos scikit-learn, ya que es accesible a través del atributo __inertia___ después de ajustar un modelo KMeans.\n",
    "\n",
    "Se puede graficar el nº de Clusters contra el SSE interno, lo que nos permite obtener el nº de cluster optimo. Se denomina __método del codo__ por la forma que adopta el gráfico, ya que en el cambio brusco de la pendiente se situa el óptimo (en nuestro ejemplo se ve que está entre 2 y 3): "
   ]
  },
  {
   "cell_type": "code",
   "execution_count": 10,
   "metadata": {},
   "outputs": [
    {
     "name": "stderr",
     "output_type": "stream",
     "text": [
      "C:\\Users\\valer_z\\anaconda3\\lib\\site-packages\\sklearn\\cluster\\_kmeans.py:881: UserWarning: KMeans is known to have a memory leak on Windows with MKL, when there are less chunks than available threads. You can avoid it by setting the environment variable OMP_NUM_THREADS=1.\n",
      "  warnings.warn(\n"
     ]
    },
    {
     "data": {
      "image/png": "[encoded data removed]",
      "text/plain": [
       "<Figure size 560x320 with 1 Axes>"
      ]
     },
     "metadata": {
      "needs_background": "light"
     },
     "output_type": "display_data"
    }
   ],
   "source": [
    "distortions = []\n",
    "for i in range(1, 11):\n",
    "    km = KMeans(n_clusters=i, init='k-means++', max_iter=300, tol=1e-04, random_state=1)\n",
    "    km.fit(X)\n",
    "    distortions.append(km.inertia_)\n",
    "plt.figure(figsize=(7, 4), dpi=80)\n",
    "plt.plot(range(1,11), distortions, label=\"SSE vs k\")\n",
    "plt.xlabel(\"Número de Clusters\")\n",
    "plt.ylabel(\"Distorsión\")\n",
    "plt.legend(loc='upper right')\n",
    "plt.show()"
   ]
  },
  {
   "attachments": {},
   "cell_type": "markdown",
   "metadata": {},
   "source": [
    "Se puede calcular el __SSE relativo__ dividiendo por el SSE total, calculándolo para K = 1 "
   ]
  },
  {
   "cell_type": "code",
   "execution_count": 11,
   "metadata": {},
   "outputs": [
    {
     "name": "stderr",
     "output_type": "stream",
     "text": [
      "C:\\Users\\valer_z\\anaconda3\\lib\\site-packages\\sklearn\\cluster\\_kmeans.py:881: UserWarning: KMeans is known to have a memory leak on Windows with MKL, when there are less chunks than available threads. You can avoid it by setting the environment variable OMP_NUM_THREADS=1.\n",
      "  warnings.warn(\n",
      "C:\\Users\\valer_z\\anaconda3\\lib\\site-packages\\sklearn\\cluster\\_kmeans.py:881: UserWarning: KMeans is known to have a memory leak on Windows with MKL, when there are less chunks than available threads. You can avoid it by setting the environment variable OMP_NUM_THREADS=1.\n",
      "  warnings.warn(\n"
     ]
    },
    {
     "data": {
      "image/png": "[encoded data removed]",
      "text/plain": [
       "<Figure size 560x320 with 1 Axes>"
      ]
     },
     "metadata": {
      "needs_background": "light"
     },
     "output_type": "display_data"
    }
   ],
   "source": [
    "km = KMeans(n_clusters=1, init='k-means++', max_iter=300, tol=1e-04, random_state=1)\n",
    "km.fit(X)\n",
    "SSE_total = km.inertia_\n",
    "distortions = []\n",
    "for i in range(1, 11):\n",
    "    km = KMeans(n_clusters=i, init='k-means++', max_iter=300, tol=1e-04, random_state=1)\n",
    "    km.fit(X)\n",
    "    distortions.append(km.inertia_/SSE_total)\n",
    "\n",
    "plt.figure(figsize=(7, 4), dpi=80)\n",
    "plt.plot(range(1,11), distortions, label=\"SSE vs k\")\n",
    "plt.xlabel(\"Número de Clusters\")\n",
    "plt.ylabel(\"Distorsión\")\n",
    "plt.legend(loc='upper right')\n",
    "plt.show()"
   ]
  },
  {
   "attachments": {},
   "cell_type": "markdown",
   "metadata": {},
   "source": [
    "### Criterio de la silueta\n",
    "\n",
    "El __coeficiente de silueta__ se calcula utilizando la __distancia media dentro del grupo (a)__ y la __distancia media del grupo más cercano (b)__ para cada muestra $x_i$ del conjunto $X$. \n",
    "\n",
    "Para cada $x_i$ se calcula $a_i$ como la distancia media al resto de puntos de su grupo. Y se calcula $b_i$ como la distancia media al siguiente grupo más cercano. Siendo el valor de la silueta en $x_i$, si el grupo al que pertenece tiene más de 1 punto:\n",
    "\n",
    "$$s_i = \\frac{b_i-a_i}{max\\{a_i,b_i\\}}$$\n",
    "\n",
    "En el caso que $x_i$ sea un punto aislado, $s_i=0$\n",
    "\n",
    "Si $a_i=b_i$ se cumple que $s_i=0$ y en general se cumple $-1 \\le s_i \\le 1$.\n",
    "\n",
    "Si $a_i << b_i$ el valor de $s_i$ se acerca a 1. Como $a_i$ mide la disimilitud de la muestra $i$ con respecto a su grupo y $b_i$ mide la disimilitud en el grupo vecino, cuando $s_i$ se acerca a 1 indica que $i$ está bien emparejado. \n",
    "\n",
    "Si $a_i >> b_i$ lleva a que $s_i$ esté cerca de -1, lo que indican muestras mal emparejadas.\n",
    "\n",
    "El __coeficiente de silueta__ para una agrupación en $k$ grupos es el __promedio__ de todos los valores $s_i$\n",
    "\n",
    "__El mejor valor es 1 y el peor valor es -1__. Los valores cercanos a 0 indican clústeres superpuestos. Los valores negativos generalmente indican que una muestra se ha asignado al conglomerado equivocado, ya que un conglomerado diferente es más similar."
   ]
  },
  {
   "cell_type": "code",
   "execution_count": 25,
   "metadata": {},
   "outputs": [
    {
     "data": {
      "image/png": "[encoded data removed]",
      "text/plain": [
       "<Figure size 560x320 with 1 Axes>"
      ]
     },
     "metadata": {
      "needs_background": "light"
     },
     "output_type": "display_data"
    }
   ],
   "source": [
    "from sklearn.cluster import KMeans\n",
    "import sklearn.metrics as metrics\n",
    "siluetas = []\n",
    "for i in range(2, 10):\n",
    "    km = KMeans(n_clusters=i, init='k-means++', max_iter=300, tol=1e-04, random_state=1)\n",
    "    km.fit(X)\n",
    "    silueta = metrics.silhouette_score(X,km.labels_,metric=\"euclidean\")\n",
    "    siluetas.append(silueta)\n",
    "\n",
    "plt.figure(figsize=(7, 4), dpi=80)\n",
    "plt.plot(range(2,10), siluetas, label=\"Silueta vs K\")\n",
    "plt.xlabel(\"Número de Clusters\")\n",
    "plt.ylabel(\"Silueta\")\n",
    "plt.legend(loc='upper right')\n",
    "plt.show()"
   ]
  },
  {
   "attachments": {},
   "cell_type": "markdown",
   "metadata": {},
   "source": [
    "__Para obtener el código de silueta__ $s_i$ de todos los registros de __X__ es necesario usar la librería:\n",
    "\n",
    "sklearn.metrics.silhouette_samples\n",
    "\n",
    "Se pueden mostrar la lista de $s_i$ en un gráfico para varios valores de k:"
   ]
  },
  {
   "cell_type": "code",
   "execution_count": 24,
   "metadata": {},
   "outputs": [
    {
     "data": {
      "image/png": "[encoded data removed]",
      "text/plain": [
       "<Figure size 432x648 with 4 Axes>"
      ]
     },
     "metadata": {
      "needs_background": "light"
     },
     "output_type": "display_data"
    }
   ],
   "source": [
    "from sklearn.cluster import KMeans\n",
    "import sklearn.metrics as metrics\n",
    "siluetas = []\n",
    "fig, axs = plt.subplots(4, sharex=True, figsize=(6,9))\n",
    "for i in range(2, 6):\n",
    "    km = KMeans(n_clusters=i, init='k-means++', max_iter=300, tol=1e-04, random_state=1)\n",
    "    km.fit(X)\n",
    "    siluetas = metrics.silhouette_samples(X,km.labels_,metric=\"euclidean\")\n",
    "    silueta = metrics.silhouette_score(X,km.labels_,metric=\"euclidean\")\n",
    "    axs[i-2].plot(siluetas)\n",
    "    axs[i-2].set_title(\"Grupos K={:} - Coeficiente de silueta={:.3}\".format(i, silueta))\n"
   ]
  },
  {
   "attachments": {},
   "cell_type": "markdown",
   "metadata": {},
   "source": [
    "__El criterio de la silueta__ nos da el mejor número de grupos en __2__."
   ]
  },
  {
   "attachments": {},
   "cell_type": "markdown",
   "metadata": {},
   "source": [
    "## Resolución del algoritmo K-Means con un desarrollo propio\n",
    "\n",
    "\n",
    "<span style='color:Red'> <font size=\"3\"> <b>Información Complementaria:</b> Código con un desarrollo básico del algoritmo K-Means </font> </span>"
   ]
  },
  {
   "cell_type": "code",
   "execution_count": 12,
   "metadata": {},
   "outputs": [],
   "source": [
    "from random import randint\n",
    "import numpy as np\n",
    "class KMedias:\n",
    "    def __init__(self, n_clusters=3, max_iter=300, tol=1e-04, random_state=0):\n",
    "        self.n_clusters=n_clusters\n",
    "        self.max_iter=max_iter\n",
    "        self.tol=tol\n",
    "        self.random_state=random_state\n",
    "    \n",
    "    def clusterCercano(self, x):\n",
    "        i_min=-1\n",
    "        dis_min=-1\n",
    "        for k in (range(self.n_clusters)):\n",
    "            dist = np.linalg.norm(x-self.centroids[k]) ## Se calcula la distancia euclidea entre punto y centroide\n",
    "            #print(k, self.centroids[k], x, x-self.centroids[k], dist)\n",
    "            if (dis_min>dist or i_min==-1):\n",
    "                i_min=k\n",
    "                dis_min=dist\n",
    "        #print(\"clusterCercano\", x, i_min)\n",
    "        return i_min\n",
    "    \n",
    "    def regeneraCentroide(self, ik):\n",
    "        tot = 0\n",
    "        for i in range(len(self.y)):\n",
    "            if self.y[i]==ik:\n",
    "                self.centroids[ik] = (self.X[i] + tot*self.centroids[ik])/(tot+1)\n",
    "                tot+=1\n",
    "        #print(\"regeneraCentroide\", ik, self.centroids[ik], tot)\n",
    "            \n",
    "    \n",
    "    def fit(self, X):\n",
    "        N = len(X)\n",
    "        d = len(X[0])\n",
    "        self.X = X\n",
    "        #print(\"Dimensiones\", N, d)\n",
    "        self.centroids = [[0 for i in range(d)] for j in range(self.n_clusters)]\n",
    "        self.y = [-1 for i in range(N)]   ## Todos los puntos con -1 : desasignados\n",
    "        for i in range(self.n_clusters):   ## Se toma los n_clusters vértices iniciales aleatorios\n",
    "            ix = randint(int(i*N/self.n_clusters),int((i+1)*N/self.n_clusters))\n",
    "            self.y[ix]=int(i)\n",
    "            self.centroids[i]=X[ix]\n",
    "            #print(\"Centroid Inicial\", i, ix, self.centroids[i])\n",
    "        ## Todos los centroides no asignados se insertan en uno de los cluster\n",
    "        for i in range(N):\n",
    "            if self.y[i]==-1:\n",
    "                k = self.clusterCercano(X[i])\n",
    "                self.y[i]=int(k)\n",
    "                self.regeneraCentroide(k)\n",
    "        ## Se itera para balancear los puntos entre los clusters\n",
    "        it=0\n",
    "        cambios=True\n",
    "        while it <= self.max_iter and cambios==True:\n",
    "            print(\"Iteracion...\", it)\n",
    "            cambios = False\n",
    "            for i in range(N):\n",
    "                if self.clusterCercano(X[i]) != self.y[i]:\n",
    "                    w_y = self.y[i]\n",
    "                    self.y[i]=self.clusterCercano(X[i])\n",
    "                    self.regeneraCentroide(w_y)\n",
    "                    self.regeneraCentroide(self.y[i])\n",
    "                    cambios=True\n",
    "            it+=1\n",
    "\n",
    "        return np.asarray(self.y)\n"
   ]
  },
  {
   "cell_type": "code",
   "execution_count": 13,
   "metadata": {},
   "outputs": [
    {
     "name": "stdout",
     "output_type": "stream",
     "text": [
      "Iteracion... 0\n",
      "Iteracion... 1\n",
      "Iteracion... 2\n",
      "Iteracion... 3\n",
      "Iteracion... 4\n",
      "Iteracion... 5\n"
     ]
    }
   ],
   "source": [
    "kmed = KMedias(n_clusters=3, max_iter=20, tol=1e-04, random_state=0)\n",
    "y_kmed = kmed.fit(X)"
   ]
  },
  {
   "cell_type": "code",
   "execution_count": 14,
   "metadata": {},
   "outputs": [
    {
     "data": {
      "image/png": "[encoded data removed]",
      "text/plain": [
       "<Figure size 560x400 with 1 Axes>"
      ]
     },
     "metadata": {
      "needs_background": "light"
     },
     "output_type": "display_data"
    }
   ],
   "source": [
    "import matplotlib.pyplot as plt\n",
    "clases = iris['target_names']\n",
    "clases = ['setosa','versicolor','virginica']\n",
    "marcas = ['*', 'o', 's']\n",
    "color = ['red', 'green', 'blue']\n",
    "plt.figure(figsize=(7, 5), dpi=80)\n",
    "for i in range(len(clases)):\n",
    "    plt.scatter(X[y_kmed==i,2], X[y_kmed==i,3], c=color[i], alpha=0.5, marker=marcas[i], label=clases[i])\n",
    "plt.xlabel(\"Longitud de pétalo\")\n",
    "plt.ylabel(\"Ancho de pétalo\")\n",
    "plt.legend(loc='upper left')\n",
    "plt.show()"
   ]
  },
  {
   "attachments": {},
   "cell_type": "markdown",
   "metadata": {},
   "source": [
    "## Modelos de Agrupación Probabilísticos (distribución gaussiana)\n",
    "\n",
    "Los métodos de agrupación basado en __similitudes o distancias__ son métodos heurísticos de fácil implementación, pero adolecen de falta de base estadística sobre la que aplicar inferencia sobre una población a partir de una muestra. Los métodos de __agrupación probabilísticos__ suplen esta carencia asumiendo que existe una probabilidad de distribución subyacente. Se dice aquí que el clustering es _difuso_ o _borroso_ (\"__fuzzy__\"), pues cada observación tiene una probabilidad de pertenecer a un grupo.\n",
    "\n",
    "Los __modelos de mezcla__ finitos se utilizan para clasificar variables en grupos proporcionando una representación natural de la heterogeneidad de los datos con un número finito de \"variables latentes\" (no se observadas) y que se deducen, mediante un modelo matemático, de otras variables observadas.\n",
    "\n",
    "El algoritmo de __Expectación-Maximización__ consta de los siguientes pasos:\n",
    "\n",
    "- __Inicialización__ : Se actualizan los parámetros con unos valores iniciales. Por ejemplo se generan K grupos con K-Means.\n",
    "- __Itera hasta convergencia__ : Si no hay convergencia se detiene la iteración o hasta superar un valor de pasos.\n",
    "    * __Paso E - Expectación__ : Se actualizan las variables del modelo estadístico con los datos observados,\n",
    "    * __Paso M _ Maximización__ : Se actualizan los parámetros a partir de los datos completos generados en la expectativa.\n",
    "\n",
    "Un modelo gaussiano univariante tiene una función de densidad que depende de dos variables $\\mu$ y $\\sigma$. Si fuera $n$-variante, tendremos un vector de medias $n$-dimensional ($\\mu$) y una matriz $n \\times n$ de covarianzas ($\\Sigma$) respectivamente.\n",
    "\n",
    "Para $K$ mezclas gaussianas en el paso inicial $m=0$ se adoptan valores de las probabilidades de pertenencia (pesos) a una mezcla $w_j^{(0)}$, medias $\\mu_j^{(0)}$ y covarianzas $\\Sigma_j^{(0)}$, siendo $j=1, ...,K$. Lo que permite hacer un cálculo de la __log-verosimilitud__ (siendo $\\phi$ la función de distribución gaussiana):\n",
    "\n",
    "$$\\mathcal{L}^{(0)}=\\frac{1}{N} \\sum^N_{i=1} log (\\sum^K_{j=1} w_j^{(0)} \\phi(x_i|\\mu_j^{(0)}, \\Sigma_j^{(0)}))$$\n",
    "\n",
    "En el __paso E__ (de expectación), se calcula la probabilidad $\\gamma_{ij}$ de que el i-ésimo elemento pertenezca a la mezcla j-esima:\n",
    "\n",
    "$$\\gamma_{ij}^{(m)} = \\frac{w_j^{(m)} \\phi(x_i|\\mu_j^{(m)}, \\Sigma_j^{(m)})}{\\sum_{k=1}^K w_k^{(m)} \\phi(x_i|\\mu_k^{(m)}, \\Sigma_k^{(m)})} $$\n",
    "\n",
    "Y la suma de las probabilidades de los $N$ elementos en cada uno de los $K$ grupos:\n",
    "\n",
    "$$n_j^{(m)} = \\sum_{i=1}^N \\gamma_{ij}^{(m)}, j=1, ...K$$\n",
    "\n",
    "En el __paso M__ (de maximización) se re-estiman los parámetros para una nueva etapa del algoritmo. En el caso de las mezclas gaussianas, los nuevos valores resultan (para $j=1, ...K$):\n",
    "\n",
    "$$ w_j^{(m+1)}=\\frac{n_j^{(m)}}{N} $$\n",
    "\n",
    "$$ \\mu_j^{(m+1)} = \\frac{1}{n_j^{(m)}} \\sum_{i=1}^N \\gamma_{ij}^{(m)} x_i$$\n",
    "\n",
    "$$ \\Sigma_j^{(m+1)} = \\frac{1}{n_j^{(m)}} \\sum_{i=1}^N \\gamma_{ij}^{(m)} (x_i - \\mu_j^{(m+1)})(x_i - \\mu_j^{(m+1)})^T$$\n",
    "\n",
    "Se calcula la __nueva función de log-verosimilitud__:\n",
    "\n",
    "$$\\mathcal{L}^{(m+1)}=\\frac{1}{N} \\sum^N_{i=1} log (\\sum^K_{j=1} w_j^{(m+1)} \\phi(x_i|\\mu_j^{(m+1)}, \\Sigma_j^{(m+1)}))$$\n",
    "\n",
    "Se controla la __convergencia__ volviendo al paso E en función de un umbral $\\delta$ siempre que se cumpla:\n",
    "\n",
    "$$|\\mathcal{L}^{(m+1)}-\\mathcal{L}^{(m)}|>\\delta$$\n",
    "\n",
    "En caso de que la diferencia entre las dos log-verosimilitudes hubiera quedado por debajo del umbral, el algoritmo terminaría."
   ]
  },
  {
   "attachments": {},
   "cell_type": "markdown",
   "metadata": {},
   "source": [
    "### Implementación en sk-learn\n",
    "\n",
    "El algoritmo __Gaussian mixture models (GMM)__, que se encuentra implementado en la librería __sklearn.cluster.GaussianMixture()__, teniendo el constructor los siguientes parámetros básicos:\n",
    "\n",
    "- __n_components__: Número de distribuciones normales (o Clusters).\n",
    "- __n_iter__: número máximo de ejecuciones de los pasos de esperanza y maximización a realizar en el caso de que no converjan las medias de las distribuciones normales\n",
    "- __init_params__: El método utilizado para inicializar los pesos, las medias y las precisiones. Puede ser 'kmeans' o 'random'"
   ]
  },
  {
   "cell_type": "code",
   "execution_count": 15,
   "metadata": {},
   "outputs": [
    {
     "data": {
      "text/plain": [
       "GaussianMixture(n_components=3)"
      ]
     },
     "execution_count": 15,
     "metadata": {},
     "output_type": "execute_result"
    }
   ],
   "source": [
    "from sklearn.mixture import GaussianMixture\n",
    "num_clusters = 3\n",
    "gmm = GaussianMixture(n_components=num_clusters, init_params='kmeans')\n",
    "gmm.fit(X)"
   ]
  },
  {
   "attachments": {},
   "cell_type": "markdown",
   "metadata": {},
   "source": [
    "__Se tiene los valores medios de cada cluster__"
   ]
  },
  {
   "cell_type": "code",
   "execution_count": 16,
   "metadata": {},
   "outputs": [
    {
     "data": {
      "text/plain": [
       "array([[5.006     , 3.428     , 1.462     , 0.246     ],\n",
       "       [6.54639415, 2.94946365, 5.48364578, 1.98726565],\n",
       "       [5.9170732 , 2.77804839, 4.20540364, 1.29848217]])"
      ]
     },
     "execution_count": 16,
     "metadata": {},
     "output_type": "execute_result"
    }
   ],
   "source": [
    "gmm.means_"
   ]
  },
  {
   "attachments": {},
   "cell_type": "markdown",
   "metadata": {},
   "source": [
    "__La matrices de covarianzas de cada grupo__\n",
    "\n",
    "Por ejemplo, la matriz del primer grupo:"
   ]
  },
  {
   "cell_type": "code",
   "execution_count": 17,
   "metadata": {},
   "outputs": [
    {
     "data": {
      "text/plain": [
       "array([[0.121765, 0.097232, 0.016028, 0.010124],\n",
       "       [0.097232, 0.140817, 0.011464, 0.009112],\n",
       "       [0.016028, 0.011464, 0.029557, 0.005948],\n",
       "       [0.010124, 0.009112, 0.005948, 0.010885]])"
      ]
     },
     "execution_count": 17,
     "metadata": {},
     "output_type": "execute_result"
    }
   ],
   "source": [
    "gmm.covariances_[0]"
   ]
  },
  {
   "attachments": {},
   "cell_type": "markdown",
   "metadata": {},
   "source": [
    "__La probabilidad de pertenencia a cada cluster__"
   ]
  },
  {
   "cell_type": "code",
   "execution_count": 18,
   "metadata": {},
   "outputs": [
    {
     "data": {
      "text/plain": [
       "array([0.33333333, 0.36539575, 0.30127092])"
      ]
     },
     "execution_count": 18,
     "metadata": {},
     "output_type": "execute_result"
    }
   ],
   "source": [
    "gmm.weights_"
   ]
  },
  {
   "attachments": {},
   "cell_type": "markdown",
   "metadata": {},
   "source": [
    "__Log-verosimilitud del modelo__\n",
    "\n",
    "Lo calculamos de acuerdo a la ecuación planteada anteriormente"
   ]
  },
  {
   "cell_type": "code",
   "execution_count": 19,
   "metadata": {},
   "outputs": [
    {
     "data": {
      "text/plain": [
       "-1.2013110850984163"
      ]
     },
     "execution_count": 19,
     "metadata": {},
     "output_type": "execute_result"
    }
   ],
   "source": [
    "from scipy.stats import multivariate_normal as MN\n",
    "logVer=0\n",
    "for x in X:\n",
    "    Verosi=0\n",
    "    for vMedia, mCov, peso in zip(gmm.means_, gmm.covariances_, gmm.weights_):\n",
    "        Verosi += MN.pdf(x, mean=vMedia, cov=mCov)*peso\n",
    "    logVer += np.log(Verosi)\n",
    "logVer/X.shape[0]"
   ]
  },
  {
   "attachments": {},
   "cell_type": "markdown",
   "metadata": {},
   "source": [
    "La __log-verosimilitud__ del modelo se puede recuperar desde el método __gmm.score()__"
   ]
  },
  {
   "cell_type": "code",
   "execution_count": 20,
   "metadata": {},
   "outputs": [
    {
     "data": {
      "text/plain": [
       "-1.2013110850984177"
      ]
     },
     "execution_count": 20,
     "metadata": {},
     "output_type": "execute_result"
    }
   ],
   "source": [
    "gmm.score(X)"
   ]
  },
  {
   "attachments": {},
   "cell_type": "markdown",
   "metadata": {},
   "source": [
    "__Con el método predict() se obtienen los clusters__"
   ]
  },
  {
   "cell_type": "code",
   "execution_count": 21,
   "metadata": {},
   "outputs": [],
   "source": [
    "y_gmm = gmm.predict(X)"
   ]
  },
  {
   "attachments": {},
   "cell_type": "markdown",
   "metadata": {},
   "source": [
    "__Desde Pyplot se imprime los clusters con los datos de la distribución gaussiana__\n",
    "\n",
    "- Se hace uso de una función a la medida de Dibujo de Elipses "
   ]
  },
  {
   "cell_type": "code",
   "execution_count": 3,
   "metadata": {},
   "outputs": [
    {
     "name": "stdout",
     "output_type": "stream",
     "text": [
      "load done!\n"
     ]
    }
   ],
   "source": [
    "%run 03-0_ClusteringUtilidades.ipynb"
   ]
  },
  {
   "cell_type": "code",
   "execution_count": 23,
   "metadata": {},
   "outputs": [
    {
     "data": {
      "image/png": "[encoded data removed]",
      "text/plain": [
       "<Figure size 720x504 with 1 Axes>"
      ]
     },
     "metadata": {
      "needs_background": "light"
     },
     "output_type": "display_data"
    }
   ],
   "source": [
    "import numpy as np\n",
    "import matplotlib.pyplot as plt\n",
    "colors = [\"red\", \"blue\", \"green\"]\n",
    "\n",
    "fig, ax = plt.subplots(subplot_kw={'aspect': 'equal'}, figsize=(10.0,7.0))\n",
    "for k, col in zip(range(len(np.unique(y))), colors):\n",
    "    ## Lista de Trues para las posiciones de la etiqueta en curso\n",
    "    my_members = (y_gmm == k)\n",
    "\n",
    "    ## El centroide en negro y más grande\n",
    "    centroid = gmm.means_[k]\n",
    "    #p.scatter(centroid[0],centroid[1], marker=\"asterisk\", size=12, legend_label=\"centroides\", fill_color=col)\n",
    "    #p.scatter(X[my_members, 0], X[my_members, 1], marker=\"circle\", size=5, fill_color=col, legend_label=\"Grupo %d\" % k)\n",
    "    #plt.scatter(x, y, s=area, c=colors, alpha=0.5)\n",
    "    plt.scatter(centroid[2],centroid[3], marker=\"x\", label=\"centroides\", color=\"black\", s=100)\n",
    "    plt.scatter(X[my_members, 2], X[my_members, 3], marker=\"o\", color=col, s=20, label=\"Grupo %d\" % k)\n",
    "make_ellipses(gmm, ax)\n",
    "plt.show()"
   ]
  },
  {
   "attachments": {},
   "cell_type": "markdown",
   "metadata": {},
   "source": [
    "### Elección del número de Clusters en clustering probabilísticos\n",
    "\n",
    "Elegimos el modelo que __minimiza__ el índice __BIC__ (__criterio de información bayesiano__)\n",
    "\n",
    "$$BIC=p \\cdot ln(N) - 2 \\cdot ln(\\mathcal{L})$$\n",
    "\n",
    "Donde __p__ y __N__ son, respectivamente, el número de parámetros libres y el total de registros del conjunto __X__ y $\\mathcal{L}$ la función de verosimilitud del modelo.\n",
    "\n",
    "El índice __BIC__ se obtiene con el método __bic(X)__ de la clase __GaussianMixture__:"
   ]
  },
  {
   "cell_type": "code",
   "execution_count": 25,
   "metadata": {},
   "outputs": [
    {
     "name": "stderr",
     "output_type": "stream",
     "text": [
      "C:\\Users\\valer_z\\anaconda3\\lib\\site-packages\\sklearn\\cluster\\_kmeans.py:881: UserWarning: KMeans is known to have a memory leak on Windows with MKL, when there are less chunks than available threads. You can avoid it by setting the environment variable OMP_NUM_THREADS=1.\n",
      "  warnings.warn(\n"
     ]
    },
    {
     "data": {
      "image/png": "[encoded data removed]",
      "text/plain": [
       "<Figure size 560x320 with 1 Axes>"
      ]
     },
     "metadata": {
      "needs_background": "light"
     },
     "output_type": "display_data"
    }
   ],
   "source": [
    "from sklearn.preprocessing import StandardScaler\n",
    "scaler = StandardScaler()\n",
    "X_scaled = scaler.fit_transform(X)\n",
    "bic = []\n",
    "for i in range(1, 11):\n",
    "    ##covariance_type=\"full\"\n",
    "    ## n_components : nº de clusters\n",
    "    ## cov_params = n_components * n_features * (n_features + 1) / 2.0\n",
    "    ## mean_params = n_features * self.n_components\n",
    "    ## p (Nº de parámetros libres) --> _n_parameters =  int(cov_params + mean_params + self.n_components - 1)\n",
    "    gmm = GaussianMixture(n_components=i, init_params='kmeans')\n",
    "    gmm.fit(X)\n",
    "    bic.append(gmm.bic(X))\n",
    "    wbic = gmm._n_parameters()*np.log(X.shape[0])-2*gmm.score(X)*X.shape[0]\n",
    "    #print(\"Log-Verosimilitud Promedio\", gmm.score(X_scaled), \"Parámetros libres\", gmm._n_parameters(),\"bic\", gmm.bic(X_scaled), wbic)\n",
    "\n",
    "plt.figure(figsize=(7, 4), dpi=80)\n",
    "plt.plot(range(1,11), bic, label=\"BIC vs k\")\n",
    "plt.xlabel(\"Número de Clusters\")\n",
    "plt.ylabel(\"BIC\")\n",
    "plt.legend(loc='upper right')\n",
    "plt.show()    "
   ]
  },
  {
   "attachments": {},
   "cell_type": "markdown",
   "metadata": {},
   "source": [
    "## Medidas de validación externas\n",
    "\n",
    "__INDICE DE RAND__: es una medida de __similitud entre dos particiones__.\n",
    "\n",
    "Dadas dos particiones\n",
    "\n",
    "$$X={X_1, ..., X_K}$$\n",
    "$$Y={Y_1, ..., Y_Q}$$\n",
    "\n",
    "Se definen las cantidades:\n",
    "\n",
    "- <b>$N_{00}$</b> es el número de pares de instancias que están en el __mismo__ subconjunto de $X$ y en el __mismo__ subconjunto de $Y$.\n",
    "- <b>$N_{11}$</b> es el número de pares de instancias que están en __distintos__ subconjuntos de $X$ y en __distintos__ subconjuntos de $Y$.\n",
    "- <b>$N_{01}$</b> es el número de pares de instancias que están en el __mismo__ subconjunto de $X$ y en __distintos__ subconjuntos de $Y$.\n",
    "- <b>$N_{10}$</b> es el número de pares de instancias que están en __distintos__ subconjuntos de $X$ y en el __mismo__ subconjunto de $Y$.\n",
    "\n",
    "Dada la definición de estos 4 números se tiene:\n",
    "\n",
    "- <b>$N_{00} + N_{11}$</b> es una medida del número de aciertos entre las dos particiones $X$ e $Y$.\n",
    "- <b>$N_{01} + N_{10}$</b> es una medida del número de fallos entre $X$ e $Y$ .\n",
    "- Definimos:\n",
    "\n",
    "$$R = \\frac{N_{00} + N_{11}}{N_{00} + N_{11} + N_{01} + N_{10}}=\\frac{N_{00} + N_{11}}{\\binom{N}{2}}$$\n",
    "\n",
    "- El denominador $a+b+c+d = \\binom{N}{2}$ es el número total de pares de instancias posibles. \n",
    "- El __Índice de Rand ajustado (ARI)__ normaliza numerador y denominador teniendo en cuenta los valores esperados cuando las particiones X e Y se hacen al azar.\n",
    "\n",
    "$$ARI  = \\frac{R - R_{Experado}}{max(R) - R_{Experado}} = \\frac{2(N_{00}N_{11}-N_{01}N_{10})}{(N_{00}+N_{01})(N_{01}+N_{11})+(N_{00}+N_{10})(N_{10}+N_{11})} $$\n",
    "\n",
    "El índice ARI tendrá un valor cercano a 0,0 para el etiquetado aleatorio independientemente del número de agrupaciones y muestras y exactamente 1,0 cuando las agrupaciones son idénticas.\n",
    "\n",
    "Si comparamos con una partición fiable __previa__ (hecha por expertos), interesa que ARI sea cercano a 1.\n",
    "\n",
    "La librería __sklearn.metrics.cluster__ contiene métricas de evaluación para los resultados del análisis de clusters. Hay dos formas de evaluación:\n",
    "\n",
    "- __supervisado__, que utiliza valores de clase correctos para cada muestra.\n",
    "\n",
    "- __sin supervisión__, mide la \"calidad\" intrínseca del propio modelo.\n",
    "\n",
    "Así dentro de esta librería tenemos las clases:\n",
    "\n",
    "- __rand_score__: que calcula el Índice Rand. A partir de una lista de etiquetas real y predicha.\n",
    "- __adjusted_rand_score__: que calcula el Índice ARI. También a partir de una lista de etiquetas real y predicha\n",
    "\n",
    "Se muestra algo de código para ver en que consiste el índice Rand estándar y ajustado. Pero lo calcularemos a través de las librerías __sklearn.metrics.cluster.rand_score__ y __sklearn.metrics.cluster.adjusted_rand_score__:"
   ]
  },
  {
   "cell_type": "code",
   "execution_count": 60,
   "metadata": {},
   "outputs": [],
   "source": [
    "def RandIndex(y1, y2):\n",
    "    N00,N01,N10,N11=0,0,0,0\n",
    "    assert (np.size(y1) ==  np.size(y2)),\"El tamaño de los clusters debe ser idéntico\"\n",
    "    N=np.size(y1)\n",
    "    for i in range(N):\n",
    "        for j in range(N):\n",
    "            if i==j:\n",
    "                pass\n",
    "            elif y1[i]==y1[j] and y2[i]==y2[j]:\n",
    "                N00+=1\n",
    "            elif y1[i]==y1[j] and y2[i]!=y2[j]:\n",
    "                N01+=1\n",
    "            elif y1[i]!=y1[j] and y2[i]==y2[j]:\n",
    "                N10+=1\n",
    "            else:\n",
    "                N11+=1\n",
    "    return (N00+N11)/(N00+N11+N10+N01)\n",
    "\n",
    "def AdjustedRandIndex(y1, y2):\n",
    "    N00,N01,N10,N11=0,0,0,0\n",
    "    assert (np.size(y1) ==  np.size(y2)),\"El tamaño de los clusters debe ser idéntico\"\n",
    "    N=np.size(y1)\n",
    "    for i in range(N):\n",
    "        for j in range(N):\n",
    "            if i==j:\n",
    "                pass\n",
    "            elif y1[i]==y1[j] and y2[i]==y2[j]:\n",
    "                N00+=1\n",
    "            elif y1[i]==y1[j] and y2[i]!=y2[j]:\n",
    "                N01+=1\n",
    "            elif y1[i]!=y1[j] and y2[i]==y2[j]:\n",
    "                N10+=1\n",
    "            else:\n",
    "                N11+=1\n",
    "    return 2*(N00*N11-N01*N10)/((N00+N01)*(N01+N11)+(N00+N10)*(N10+N11))"
   ]
  },
  {
   "attachments": {},
   "cell_type": "markdown",
   "metadata": {},
   "source": [
    "__Vamos a validar el cluster obtenido contra el valor real de la etiqueta del conjunto Iris__"
   ]
  },
  {
   "cell_type": "code",
   "execution_count": 61,
   "metadata": {},
   "outputs": [
    {
     "name": "stdout",
     "output_type": "stream",
     "text": [
      "KMeans    R_Libreria=0.880   R_propia=0.880\n",
      "KMeans  ARI_Libreria=0.730 ARI_propia=0.730\n"
     ]
    }
   ],
   "source": [
    "from sklearn.metrics.cluster import rand_score\n",
    "from sklearn.metrics.cluster import adjusted_rand_score\n",
    "print(\"KMeans    R_Libreria=%.3f   R_propia=%.3f\" %(rand_score(labels_true=y, labels_pred=y_km), RandIndex(y, y_km)))\n",
    "print(\"KMeans  ARI_Libreria=%.3f ARI_propia=%.3f\" %(adjusted_rand_score(labels_true=y, labels_pred=y_km), AdjustedRandIndex(y, y_km)))"
   ]
  },
  {
   "cell_type": "code",
   "execution_count": 62,
   "metadata": {},
   "outputs": [
    {
     "data": {
      "text/plain": [
       "(0.5, 0.5)"
      ]
     },
     "execution_count": 62,
     "metadata": {},
     "output_type": "execute_result"
    }
   ],
   "source": [
    "RandIndex([0,0,1,1], [0,1,1,1]), rand_score([0,0,1,1], [0,1,1,1])"
   ]
  },
  {
   "cell_type": "code",
   "execution_count": 63,
   "metadata": {},
   "outputs": [
    {
     "name": "stdout",
     "output_type": "stream",
     "text": [
      "KMeans  R=0.880 ARI=0.730\n",
      "GaussMM R=0.957 ARI=0.904\n"
     ]
    }
   ],
   "source": [
    "from sklearn.metrics.cluster import rand_score\n",
    "from sklearn.metrics.cluster import adjusted_rand_score\n",
    "y_gmm = gmm.predict(X)\n",
    "print(\"KMeans  R=%.3f ARI=%.3f\" %(rand_score(labels_true=y, labels_pred=y_km), adjusted_rand_score(labels_true=y, labels_pred=y_km)))\n",
    "print(\"GaussMM R=%.3f ARI=%.3f\" %(rand_score(labels_true=y, labels_pred=y_gmm), adjusted_rand_score(labels_true=y, labels_pred=y_gmm)))"
   ]
  },
  {
   "attachments": {},
   "cell_type": "markdown",
   "metadata": {},
   "source": [
    "__INDICE VI (VARIACIÓN DE LA INFORMACIÓN) DE MARINA MEILĂ__\n",
    "\n",
    "El __Índice VI__ {cite:p}`Meila_2003` es una medida de la __distancia (\"disimilaridad\") entre dos particiones__.\n",
    "\n",
    "- Mide la cantidad de \"información\" ganada o perdida al pasar del agrupamiento $X$ a $Y$ .\n",
    "- Se define como suma de dos \"entropías condicionadas\":\n",
    "\n",
    "$$VI(X,Y) = H(X|Y) + H(Y|X)$$\n",
    "\n",
    "- $H(X|Y)$ mide la cantidad de información sobre $X$ que __perdemos__ al pasar de $X$ a $Y$.\n",
    "- $H(Y|X)$ mide la cantidad de información sobre $Y$ que __ganamos__ al pasar de $X$ a $Y$.\n",
    "\n",
    "El __índice VI__ resulta ser ({cite:p}`bielza2020data` - pp 462):\n",
    "\n",
    "$$VI(X,Y) = H(X) + H(Y) - 2*IM(X, Y)$$\n",
    "\n",
    "Siendo $H(X)$ y $H(Y)$ la entropia de cada cluster e $IM(X, Y)$ la información mutua.\n",
    "\n",
    "Si comparamos con una partición fiable __previa__ (hecha por expertos), interesa que VI sea pequeño.\n",
    "\n",
    "El __índice VI__ es posible calcular de la forma que se indica a continuación (la rutina propia __informacionMutua__ coincide con  __sklearn.metrics.cluster.mutual_info_score__, por lo que se puede sustituir).\n",
    "\n",
    "A partir del índice VI estándar es posible definir:\n",
    "- __Indice VI ajustado__: dividiendo por el logaritmo neperiano de $N$ ({cite:p}`Meila_2007`). Implementación propia en __adjustedVariationInformation__.\n",
    "- __Indice VI normalizado__: dividiendo por la suma de las entropias de $X$ e $Y$ ({cite:p}`bielza2020data` - pp 462; {cite:p}`Wu_2009`). Implementación propia en __normalizedVariationInformation__."
   ]
  },
  {
   "cell_type": "code",
   "execution_count": 29,
   "metadata": {},
   "outputs": [],
   "source": [
    "import numpy as np\n",
    "from sklearn.metrics.cluster import mutual_info_score\n",
    "def EntropiaCluster(y):\n",
    "    n = np.size(y)\n",
    "    etiquetas = np.unique(y)\n",
    "    entropia=0\n",
    "    for et in etiquetas:\n",
    "        fr = np.size(y[y==et])/n\n",
    "        entropia += -fr*np.log(fr)\n",
    "    return entropia\n",
    "def probEtiqueta(y, et):\n",
    "    return np.size(y[y==et])/np.size(y)\n",
    "def probConjunta(y1, y2, et1, et2):\n",
    "    ## Se parte que el nº de elementos en y1 e y2 es el mismo\n",
    "    return np.size(y1[(y1==et1)*(y2==et2)])/np.size(y1)\n",
    "def informacionMutua(y1, y2):\n",
    "    etiquetas1 = np.unique(y1)\n",
    "    etiquetas2 = np.unique(y2)\n",
    "    \n",
    "    infoMutua=0\n",
    "    for et1 in etiquetas1:\n",
    "        for et2 in etiquetas2:\n",
    "            if probConjunta(y1, y2, et1, et2)>0:\n",
    "                infoMutua += probConjunta(y1, y2, et1, et2)*np.log(probConjunta(y1, y2, et1, et2)/(probEtiqueta(y1, et1)*probEtiqueta(y2, et2)))\n",
    "    return infoMutua\n",
    "def variationInformation(y1, y2):\n",
    "    return EntropiaCluster(y1) + EntropiaCluster(y2) - 2*informacionMutua(y1, y2)\n",
    "    #eturn EntropiaCluster(y1) + EntropiaCluster(y2) - 2*mutual_info_score(y1, y2)\n",
    "\n",
    "def adjustedVariationInformation(y1, y2):\n",
    "    return variationInformation(y1, y2) / np.log(np.size(y1))\n",
    "\n",
    "def normalizedVariationInformation(y1, y2):\n",
    "    return variationInformation(y1, y2) / (EntropiaCluster(y1) + EntropiaCluster(y2))"
   ]
  },
  {
   "cell_type": "code",
   "execution_count": 34,
   "metadata": {},
   "outputs": [
    {
     "name": "stdout",
     "output_type": "stream",
     "text": [
      "KMeans  VI=0.527 AVI=0.105  NVI=0.242\n",
      "GaussMM VI=0.668 AVI=0.133  NVI=0.390\n"
     ]
    }
   ],
   "source": [
    "print(\"KMeans  VI=%.3f AVI=%.3f  NVI=%.3f\" %(variationInformation(y, y_km), adjustedVariationInformation(y, y_km), \n",
    "                                             normalizedVariationInformation(y, y_km)))\n",
    "print(\"GaussMM VI=%.3f AVI=%.3f  NVI=%.3f\" %(variationInformation(y, y_gmm), adjustedVariationInformation(y, y_gmm), \n",
    "                                             normalizedVariationInformation(y, y_gmm)))"
   ]
  },
  {
   "attachments": {},
   "cell_type": "markdown",
   "metadata": {},
   "source": [
    "El __VI__ y el __AVI__ cumplen ser una distancia  (Meilă, 2007). Tienen las propiedades __reflexiva__, __simétrica__ y __triangular__.\n",
    "\n",
    "Ademas el valor de __VI__ depende solo del tamaño relativo de los grupos. No depende directamente del número de observaciones del conjunto de datos. Se cumple:\n",
    "\n",
    "- $VI(X,Y) \\le ln(N)$\n",
    "- $VI(X,Y) \\le 2 \\cdot ln(K)$"
   ]
  },
  {
   "cell_type": "code",
   "execution_count": 139,
   "metadata": {},
   "outputs": [
    {
     "name": "stdout",
     "output_type": "stream",
     "text": [
      "Reflexiva  VI(y,y)=0.00000\n",
      "Simétrica  VI(y,y_km)=0.52665  VI(y_km,y)=0.52665\n",
      "Triangular VI(y,y_km) + VI(y_km,y_gmm)=1.03944 >= VI(y,y_gmm)=0.53218\n"
     ]
    }
   ],
   "source": [
    "print(\"Reflexiva  VI(y,y)=%.5f\" %(variationInformation(y, y)))\n",
    "print(\"Simétrica  VI(y,y_km)=%.5f  VI(y_km,y)=%.5f\" %(variationInformation(y, y_km), variationInformation(y_km, y)))\n",
    "print(\"Triangular VI(y,y_km) + VI(y_km,y_gmm)=%.5f >= VI(y,y_gmm)=%.5f\" % (variationInformation(y, y_km) \n",
    "                + variationInformation(y_km, y_gmm), variationInformation(y, y_gmm)))"
   ]
  },
  {
   "cell_type": "code",
   "execution_count": null,
   "metadata": {},
   "outputs": [],
   "source": []
  }
 ],
 "metadata": {
  "kernelspec": {
   "display_name": "Python 3",
   "language": "python",
   "name": "python3"
  },
  "language_info": {
   "codemirror_mode": {
    "name": "ipython",
    "version": 3
   },
   "file_extension": ".py",
   "mimetype": "text/x-python",
   "name": "python",
   "nbconvert_exporter": "python",
   "pygments_lexer": "ipython3",
   "version": "3.10.8"
  }
 },
 "nbformat": 4,
 "nbformat_minor": 4
}
