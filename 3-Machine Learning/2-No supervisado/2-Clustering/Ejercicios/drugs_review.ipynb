{
 "cells": [
  {
   "attachments": {},
   "cell_type": "markdown",
   "metadata": {},
   "source": [
    "### Importa los datos\n",
    "Dataset con diferentes fármacos, sus efectos y ratings de los clientes.\n",
    "\n",
    "Importa el dataset *drugLibTrain_raw.tsv*"
   ]
  },
  {
   "cell_type": "code",
   "execution_count": 1,
   "metadata": {},
   "outputs": [],
   "source": [
    "import matplotlib.pyplot as plt"
   ]
  },
  {
   "cell_type": "code",
   "execution_count": 4,
   "metadata": {},
   "outputs": [
    {
     "data": {
      "text/html": [
       "<div>\n",
       "<style scoped>\n",
       "    .dataframe tbody tr th:only-of-type {\n",
       "        vertical-align: middle;\n",
       "    }\n",
       "\n",
       "    .dataframe tbody tr th {\n",
       "        vertical-align: top;\n",
       "    }\n",
       "\n",
       "    .dataframe thead th {\n",
       "        text-align: right;\n",
       "    }\n",
       "</style>\n",
       "<table border=\"1\" class=\"dataframe\">\n",
       "  <thead>\n",
       "    <tr style=\"text-align: right;\">\n",
       "      <th></th>\n",
       "      <th>rating</th>\n",
       "      <th>effectiveness</th>\n",
       "      <th>sideEffects</th>\n",
       "      <th>condition</th>\n",
       "      <th>benefitsReview</th>\n",
       "      <th>sideEffectsReview</th>\n",
       "      <th>commentsReview</th>\n",
       "    </tr>\n",
       "    <tr>\n",
       "      <th>urlDrugName</th>\n",
       "      <th></th>\n",
       "      <th></th>\n",
       "      <th></th>\n",
       "      <th></th>\n",
       "      <th></th>\n",
       "      <th></th>\n",
       "      <th></th>\n",
       "    </tr>\n",
       "  </thead>\n",
       "  <tbody>\n",
       "    <tr>\n",
       "      <th>enalapril</th>\n",
       "      <td>4</td>\n",
       "      <td>Highly Effective</td>\n",
       "      <td>Mild Side Effects</td>\n",
       "      <td>management of congestive heart failure</td>\n",
       "      <td>slowed the progression of left ventricular dys...</td>\n",
       "      <td>cough, hypotension , proteinuria, impotence , ...</td>\n",
       "      <td>monitor blood pressure , weight and asses for ...</td>\n",
       "    </tr>\n",
       "    <tr>\n",
       "      <th>ortho-tri-cyclen</th>\n",
       "      <td>1</td>\n",
       "      <td>Highly Effective</td>\n",
       "      <td>Severe Side Effects</td>\n",
       "      <td>birth prevention</td>\n",
       "      <td>Although this type of birth control has more c...</td>\n",
       "      <td>Heavy Cycle, Cramps, Hot Flashes, Fatigue, Lon...</td>\n",
       "      <td>I Hate This Birth Control, I Would Not Suggest...</td>\n",
       "    </tr>\n",
       "    <tr>\n",
       "      <th>ponstel</th>\n",
       "      <td>10</td>\n",
       "      <td>Highly Effective</td>\n",
       "      <td>No Side Effects</td>\n",
       "      <td>menstrual cramps</td>\n",
       "      <td>I was used to having cramps so badly that they...</td>\n",
       "      <td>Heavier bleeding and clotting than normal.</td>\n",
       "      <td>I took 2 pills at the onset of my menstrual cr...</td>\n",
       "    </tr>\n",
       "    <tr>\n",
       "      <th>prilosec</th>\n",
       "      <td>3</td>\n",
       "      <td>Marginally Effective</td>\n",
       "      <td>Mild Side Effects</td>\n",
       "      <td>acid reflux</td>\n",
       "      <td>The acid reflux went away for a few months aft...</td>\n",
       "      <td>Constipation, dry mouth and some mild dizzines...</td>\n",
       "      <td>I was given Prilosec prescription at a dose of...</td>\n",
       "    </tr>\n",
       "    <tr>\n",
       "      <th>lyrica</th>\n",
       "      <td>2</td>\n",
       "      <td>Marginally Effective</td>\n",
       "      <td>Severe Side Effects</td>\n",
       "      <td>fibromyalgia</td>\n",
       "      <td>I think that the Lyrica was starting to help w...</td>\n",
       "      <td>I felt extremely drugged and dopey.  Could not...</td>\n",
       "      <td>See above</td>\n",
       "    </tr>\n",
       "    <tr>\n",
       "      <th>...</th>\n",
       "      <td>...</td>\n",
       "      <td>...</td>\n",
       "      <td>...</td>\n",
       "      <td>...</td>\n",
       "      <td>...</td>\n",
       "      <td>...</td>\n",
       "      <td>...</td>\n",
       "    </tr>\n",
       "    <tr>\n",
       "      <th>vyvanse</th>\n",
       "      <td>10</td>\n",
       "      <td>Highly Effective</td>\n",
       "      <td>Mild Side Effects</td>\n",
       "      <td>adhd</td>\n",
       "      <td>Increased focus, attention, productivity. Bett...</td>\n",
       "      <td>Restless legs at night, insomnia, headache (so...</td>\n",
       "      <td>I took adderall once as a child, and it made m...</td>\n",
       "    </tr>\n",
       "    <tr>\n",
       "      <th>zoloft</th>\n",
       "      <td>1</td>\n",
       "      <td>Ineffective</td>\n",
       "      <td>Extremely Severe Side Effects</td>\n",
       "      <td>depression</td>\n",
       "      <td>Emotions were somewhat blunted. Less moodiness.</td>\n",
       "      <td>Weight gain, extreme tiredness during the day,...</td>\n",
       "      <td>I was on Zoloft for about 2 years total. I am ...</td>\n",
       "    </tr>\n",
       "    <tr>\n",
       "      <th>climara</th>\n",
       "      <td>2</td>\n",
       "      <td>Marginally Effective</td>\n",
       "      <td>Moderate Side Effects</td>\n",
       "      <td>total hysterctomy</td>\n",
       "      <td>---</td>\n",
       "      <td>Constant issues with the patch not staying on....</td>\n",
       "      <td>---</td>\n",
       "    </tr>\n",
       "    <tr>\n",
       "      <th>trileptal</th>\n",
       "      <td>8</td>\n",
       "      <td>Considerably Effective</td>\n",
       "      <td>Mild Side Effects</td>\n",
       "      <td>epilepsy</td>\n",
       "      <td>Controlled complex partial seizures.</td>\n",
       "      <td>Dizziness, fatigue, nausea</td>\n",
       "      <td>Started at 2 doses of 300 mg a day and worked ...</td>\n",
       "    </tr>\n",
       "    <tr>\n",
       "      <th>micardis</th>\n",
       "      <td>4</td>\n",
       "      <td>Moderately Effective</td>\n",
       "      <td>Moderate Side Effects</td>\n",
       "      <td>high blood pressure</td>\n",
       "      <td>The drug Micardis did seem to alleviate my hig...</td>\n",
       "      <td>I find when I am taking Micardis that I tend t...</td>\n",
       "      <td>I take Micardis in pill form once daily.</td>\n",
       "    </tr>\n",
       "  </tbody>\n",
       "</table>\n",
       "<p>3107 rows × 7 columns</p>\n",
       "</div>"
      ],
      "text/plain": [
       "                  rating           effectiveness  \\\n",
       "urlDrugName                                        \n",
       "enalapril              4        Highly Effective   \n",
       "ortho-tri-cyclen       1        Highly Effective   \n",
       "ponstel               10        Highly Effective   \n",
       "prilosec               3    Marginally Effective   \n",
       "lyrica                 2    Marginally Effective   \n",
       "...                  ...                     ...   \n",
       "vyvanse               10        Highly Effective   \n",
       "zoloft                 1             Ineffective   \n",
       "climara                2    Marginally Effective   \n",
       "trileptal              8  Considerably Effective   \n",
       "micardis               4    Moderately Effective   \n",
       "\n",
       "                                    sideEffects  \\\n",
       "urlDrugName                                       \n",
       "enalapril                     Mild Side Effects   \n",
       "ortho-tri-cyclen            Severe Side Effects   \n",
       "ponstel                         No Side Effects   \n",
       "prilosec                      Mild Side Effects   \n",
       "lyrica                      Severe Side Effects   \n",
       "...                                         ...   \n",
       "vyvanse                       Mild Side Effects   \n",
       "zoloft            Extremely Severe Side Effects   \n",
       "climara                   Moderate Side Effects   \n",
       "trileptal                     Mild Side Effects   \n",
       "micardis                  Moderate Side Effects   \n",
       "\n",
       "                                               condition  \\\n",
       "urlDrugName                                                \n",
       "enalapril         management of congestive heart failure   \n",
       "ortho-tri-cyclen                        birth prevention   \n",
       "ponstel                                 menstrual cramps   \n",
       "prilosec                                     acid reflux   \n",
       "lyrica                                      fibromyalgia   \n",
       "...                                                  ...   \n",
       "vyvanse                                             adhd   \n",
       "zoloft                                        depression   \n",
       "climara                                total hysterctomy   \n",
       "trileptal                                       epilepsy   \n",
       "micardis                             high blood pressure   \n",
       "\n",
       "                                                     benefitsReview  \\\n",
       "urlDrugName                                                           \n",
       "enalapril         slowed the progression of left ventricular dys...   \n",
       "ortho-tri-cyclen  Although this type of birth control has more c...   \n",
       "ponstel           I was used to having cramps so badly that they...   \n",
       "prilosec          The acid reflux went away for a few months aft...   \n",
       "lyrica            I think that the Lyrica was starting to help w...   \n",
       "...                                                             ...   \n",
       "vyvanse           Increased focus, attention, productivity. Bett...   \n",
       "zoloft              Emotions were somewhat blunted. Less moodiness.   \n",
       "climara                                                         ---   \n",
       "trileptal                      Controlled complex partial seizures.   \n",
       "micardis          The drug Micardis did seem to alleviate my hig...   \n",
       "\n",
       "                                                  sideEffectsReview  \\\n",
       "urlDrugName                                                           \n",
       "enalapril         cough, hypotension , proteinuria, impotence , ...   \n",
       "ortho-tri-cyclen  Heavy Cycle, Cramps, Hot Flashes, Fatigue, Lon...   \n",
       "ponstel                  Heavier bleeding and clotting than normal.   \n",
       "prilosec          Constipation, dry mouth and some mild dizzines...   \n",
       "lyrica            I felt extremely drugged and dopey.  Could not...   \n",
       "...                                                             ...   \n",
       "vyvanse           Restless legs at night, insomnia, headache (so...   \n",
       "zoloft            Weight gain, extreme tiredness during the day,...   \n",
       "climara           Constant issues with the patch not staying on....   \n",
       "trileptal                                Dizziness, fatigue, nausea   \n",
       "micardis          I find when I am taking Micardis that I tend t...   \n",
       "\n",
       "                                                     commentsReview  \n",
       "urlDrugName                                                          \n",
       "enalapril         monitor blood pressure , weight and asses for ...  \n",
       "ortho-tri-cyclen  I Hate This Birth Control, I Would Not Suggest...  \n",
       "ponstel           I took 2 pills at the onset of my menstrual cr...  \n",
       "prilosec          I was given Prilosec prescription at a dose of...  \n",
       "lyrica                                                    See above  \n",
       "...                                                             ...  \n",
       "vyvanse           I took adderall once as a child, and it made m...  \n",
       "zoloft            I was on Zoloft for about 2 years total. I am ...  \n",
       "climara                                                         ---  \n",
       "trileptal         Started at 2 doses of 300 mg a day and worked ...  \n",
       "micardis                   I take Micardis in pill form once daily.  \n",
       "\n",
       "[3107 rows x 7 columns]"
      ]
     },
     "execution_count": 4,
     "metadata": {},
     "output_type": "execute_result"
    }
   ],
   "source": [
    "import pandas as pd\n",
    "df = pd.read_csv('data/drugLibTrain_raw.csv', sep=',', index_col=0)\n",
    "df"
   ]
  },
  {
   "attachments": {},
   "cell_type": "markdown",
   "metadata": {
    "colab_type": "text",
    "id": "OhaWDPt-8ZlT"
   },
   "source": [
    "### Descriptive Analysis"
   ]
  },
  {
   "attachments": {},
   "cell_type": "markdown",
   "metadata": {},
   "source": [
    "Quedate únicamente con las columnas que podamos manejar: Columnas numéricas y columnas categoricas con pocas categorias (menos de 10)"
   ]
  },
  {
   "attachments": {},
   "cell_type": "markdown",
   "metadata": {},
   "source": [
    "#### Transforma las columnas categoricas\n",
    "\n",
    "Transforma las columnas categoricas a numericas mediante dummies"
   ]
  },
  {
   "attachments": {},
   "cell_type": "markdown",
   "metadata": {
    "colab_type": "text",
    "id": "HtBmwGdNnUGf"
   },
   "source": [
    "#### Evalua cual es la mejor K\n",
    "\n",
    "Utiliza silhouette_score para evaluar cual es la mejor K. Evalua como mucho K = 20"
   ]
  },
  {
   "attachments": {},
   "cell_type": "markdown",
   "metadata": {},
   "source": [
    "#### Genera el K Means "
   ]
  },
  {
   "attachments": {},
   "cell_type": "markdown",
   "metadata": {},
   "source": [
    "#### Muestra en un gráfico de tartas la distribución de los distintos clusters"
   ]
  }
 ],
 "metadata": {
  "colab": {
   "collapsed_sections": [],
   "name": "kmeans-user-clustering.ipynb",
   "provenance": []
  },
  "kernelspec": {
   "display_name": "Python 3",
   "language": "python",
   "name": "python3"
  },
  "language_info": {
   "codemirror_mode": {
    "name": "ipython",
    "version": 3
   },
   "file_extension": ".py",
   "mimetype": "text/x-python",
   "name": "python",
   "nbconvert_exporter": "python",
   "pygments_lexer": "ipython3",
   "version": "3.10.8"
  },
  "nbTranslate": {
   "displayLangs": [
    "*"
   ],
   "hotkey": "alt-t",
   "langInMainMenu": true,
   "sourceLang": "en",
   "targetLang": "fr",
   "useGoogleTranslate": true
  },
  "varInspector": {
   "cols": {
    "lenName": 16,
    "lenType": 16,
    "lenVar": 40
   },
   "kernels_config": {
    "python": {
     "delete_cmd_postfix": "",
     "delete_cmd_prefix": "del ",
     "library": "var_list.py",
     "varRefreshCmd": "print(var_dic_list())"
    },
    "r": {
     "delete_cmd_postfix": ") ",
     "delete_cmd_prefix": "rm(",
     "library": "var_list.r",
     "varRefreshCmd": "cat(var_dic_list()) "
    }
   },
   "types_to_exclude": [
    "module",
    "function",
    "builtin_function_or_method",
    "instance",
    "_Feature"
   ],
   "window_display": false
  },
  "vscode": {
   "interpreter": {
    "hash": "31f2aee4e71d21fbe5cf8b01ff0e069b9275f58929596ceb00d14d90e3e16cd6"
   }
  }
 },
 "nbformat": 4,
 "nbformat_minor": 4
}
