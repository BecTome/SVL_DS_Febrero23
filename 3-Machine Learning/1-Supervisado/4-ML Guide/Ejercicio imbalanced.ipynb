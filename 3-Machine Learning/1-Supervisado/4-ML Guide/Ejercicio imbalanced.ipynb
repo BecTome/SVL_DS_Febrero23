{
 "cells": [
  {
   "cell_type": "markdown",
   "metadata": {},
   "source": [
    "## Imbalanced exercise\n",
    "Para este ejercicio vas a utilizar un dataset de transacciones realizadas con tarjetas de crédito de varias empresas europeas en septiembre de 2013. El objetivo es detectar lo mejor posible las transacciones fraudulentas (target Class). El problema es que el dataset está muy desbalanceado por lo que los modelos se suelen sesgar más hacia la clase mayoritaria.\n",
    "\n",
    "Prueba varias técnicas de muestreo (upsampling, downsampling, SMOTE...) para determinar el mejor modelo. ¿Cómo determinamos el mejor modelo? Habrá que elegir una métrica, ¿cuál?\n",
    "\n",
    "No es necesario complicarse con el modelo. Utiliza una regresión logística y como apartado opcional un SVC y un RandomForestClassifier.\n",
    "\n",
    "NOTA: el dataset está sacado de un [concurso de Kaggle](https://www.kaggle.com/mlg-ulb/creditcardfraud)."
   ]
  },
  {
   "cell_type": "code",
   "execution_count": null,
   "metadata": {},
   "outputs": [],
   "source": []
  }
 ],
 "metadata": {
  "kernelspec": {
   "display_name": "Python 3",
   "language": "python",
   "name": "python3"
  },
  "language_info": {
   "codemirror_mode": {
    "name": "ipython",
    "version": 3
   },
   "file_extension": ".py",
   "mimetype": "text/x-python",
   "name": "python",
   "nbconvert_exporter": "python",
   "pygments_lexer": "ipython3",
   "version": "3.8.3"
  }
 },
 "nbformat": 4,
 "nbformat_minor": 4
}
