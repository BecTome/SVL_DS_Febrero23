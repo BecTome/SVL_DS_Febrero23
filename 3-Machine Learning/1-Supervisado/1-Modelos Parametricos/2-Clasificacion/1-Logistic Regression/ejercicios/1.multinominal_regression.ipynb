{
 "cells": [
  {
   "cell_type": "markdown",
   "metadata": {},
   "source": [
    "1. \n",
    "\n",
    "En el archivo \"logistic_regression_df_class\" hemos visto un ejemplo multiclase. Realiza un análisis con regresión linear multinominal teniendo como target la columna \"duración\". Es decir, averigua cuánto aumentan o disminuyen la duración cuando se aumenta una unidad los valores de las demás columnas.\n",
    "\n",
    "- ¿Qué acierto tiene? (score)\n",
    "- ¿Cuál es el RMSE? ¿Dirías que es un valor alto?\n",
    "- Viendo la matriz de correlación, ¿tienen coherencia los resultados de la regresión?\n",
    "- ¿Es la regresión un buen método para este dataset?"
   ]
  },
  {
   "cell_type": "code",
   "execution_count": null,
   "metadata": {},
   "outputs": [],
   "source": [
    "import pandas as pd\n",
    "import numpy as np\n",
    "import matplotlib.pyplot as plt\n",
    "import seaborn as sns\n",
    "\n",
    "from sklearn.linear_model import LinearRegression\n",
    "from sklearn.model_selection import train_test_split\n",
    "from sklearn.metrics import mean_squared_error "
   ]
  }
 ],
 "metadata": {
  "kernelspec": {
   "display_name": "Python 3",
   "language": "python",
   "name": "python3"
  },
  "language_info": {
   "codemirror_mode": {
    "name": "ipython",
    "version": 3
   },
   "file_extension": ".py",
   "mimetype": "text/x-python",
   "name": "python",
   "nbconvert_exporter": "python",
   "pygments_lexer": "ipython3",
   "version": "3.8.5"
  }
 },
 "nbformat": 4,
 "nbformat_minor": 4
}
