{
 "cells": [
  {
   "cell_type": "markdown",
   "metadata": {
    "_cell_guid": "39b08738-02bc-4f7f-bfa5-f0e8afb94037",
    "_uuid": "40228e8478617fa52cb27da39bedbc4d2eea8831"
   },
   "source": [
    "## **Predicting Housing Prices for regions in the USA.**\n",
    "\n",
    "The data contains the following columns:\n",
    "\n",
    "* 'Avg. Area Income': Avg. Income of residents of the city house is located in.\n",
    "* 'Avg. Area House Age': Avg Age of Houses in same city\n",
    "* 'Avg. Area Number of Rooms': Avg Number of Rooms for Houses in same city\n",
    "* 'Avg. Area Number of Bedrooms': Avg Number of Bedrooms for Houses in same city\n",
    "* 'Area Population': Population of city house is located in\n",
    "* 'Price': Price that the house sold at\n",
    "* 'Address': Address for the house"
   ]
  },
  {
   "cell_type": "code",
   "execution_count": null,
   "metadata": {
    "_cell_guid": "4afddcca-ebe2-4b81-9bcf-700841c8cd9c",
    "_uuid": "a41cbd7e7ee45d1859b75c11db843b2ca1ce06ef"
   },
   "outputs": [],
   "source": [
    "# importing librarires\n",
    "import numpy as np # linear algebra\n",
    "import pandas as pd # data processing, CSV file I/O (e.g. pd.read_csv)\n",
    "import matplotlib.pyplot as plt\n",
    "import seaborn as sns\n",
    "sns.set_style('whitegrid')"
   ]
  },
  {
   "cell_type": "code",
   "execution_count": null,
   "metadata": {
    "_cell_guid": "499a4b39-04ab-4fae-82e9-51255ee1cf8b",
    "_uuid": "df7d07be0d1051cdf43415d65fb1f4b13bac86c6"
   },
   "outputs": [],
   "source": [
    "# loading csv data to dataframe \n",
    "USA_Housing = pd.read_csv('data/USA_Housing.csv')\n",
    "# checking out the Data\n",
    "USA_Housing.head()\n"
   ]
  },
  {
   "cell_type": "code",
   "execution_count": null,
   "metadata": {
    "_cell_guid": "8ce3aa20-a38a-4eec-8c49-f737d0de3b76",
    "_uuid": "9c566b7f3356b0d66f0b9c6213f38b42b343cb9f",
    "tags": []
   },
   "outputs": [],
   "source": [
    "#checking columns and total records\n"
   ]
  },
  {
   "cell_type": "markdown",
   "metadata": {
    "_cell_guid": "87810e67-48af-4eda-b000-6ba92b68340b",
    "_uuid": "655d6deb9b354bb3997090ae09418b85609884fb"
   },
   "source": [
    " **Generating descriptive statistics that summarize the central tendency, dispersion and shape of a dataset’s distribution, excluding NaN value.\n",
    "**"
   ]
  },
  {
   "cell_type": "code",
   "execution_count": null,
   "metadata": {
    "_cell_guid": "d76c0b52-60a6-463a-82e8-5b37a6b12505",
    "_uuid": "a18b840ef25937bb6a8b93d0b04aff9e9dff8b9b"
   },
   "outputs": [],
   "source": []
  },
  {
   "cell_type": "markdown",
   "metadata": {
    "_cell_guid": "6794ac1f-314c-4ea0-8ba5-846af088f796",
    "_uuid": "2b29b661fedaf0996cb6611f1b9266ca2acf0c0a"
   },
   "source": [
    "## **Exploratory Data Analysis**\n",
    "\n",
    "\n",
    "**Visualizing the Entire Data using pairplot**\n",
    "\n",
    "Exploring types of relationship across the entire dataset"
   ]
  },
  {
   "cell_type": "code",
   "execution_count": null,
   "metadata": {
    "_cell_guid": "6f974993-1d64-4609-8bd3-1706803ce65f",
    "_uuid": "cbbb789ff8f4008140eae0c7c4adb1a44040115a"
   },
   "outputs": [],
   "source": []
  },
  {
   "cell_type": "markdown",
   "metadata": {
    "_cell_guid": "bddc4904-7efb-4908-918b-d6fbc121f61c",
    "_uuid": "acb72d9982bd0cfc576ef98e0d3f3ed0b0714f50"
   },
   "source": [
    "## **Distribution of Housing Price Across USA**"
   ]
  },
  {
   "cell_type": "code",
   "execution_count": null,
   "metadata": {
    "_cell_guid": "2490599a-6697-450d-9023-de9cf8984580",
    "_uuid": "b4422e7a9dea5637f81896db69f9fbf05477783a"
   },
   "outputs": [],
   "source": []
  },
  {
   "cell_type": "code",
   "execution_count": null,
   "metadata": {
    "_cell_guid": "7d3b7184-c402-466e-838c-1aee80e44a97",
    "_uuid": "8e0e0981fd053bf585ac03835c54a66f56717c24"
   },
   "outputs": [],
   "source": [
    "#Displaying correlation among all the columns \n"
   ]
  },
  {
   "cell_type": "markdown",
   "metadata": {
    "_cell_guid": "0a9e9e3d-706e-4344-ba63-5062a9d2381d",
    "_uuid": "aefd7c0cb13223fdecf7f596772fd4bc3616b8ad"
   },
   "source": [
    "## **Displaying correlation among all the columns using Heat Map**\n"
   ]
  },
  {
   "cell_type": "code",
   "execution_count": null,
   "metadata": {
    "_cell_guid": "5eaf9095-f4a1-4d4b-bf9f-59ca3b99e89f",
    "_uuid": "0982f0877b4101fdf1e577161025d1bd3960ab41"
   },
   "outputs": [],
   "source": []
  },
  {
   "cell_type": "markdown",
   "metadata": {
    "_cell_guid": "9be82a37-6e10-4c6a-acb1-f4c08b2ecb4a",
    "_uuid": "449bcb976ab031fda3834e0c0b9a7a0370377df8"
   },
   "source": [
    "## **Training a Linear Regression Model**\n",
    "\n",
    "[](http://)We will need to first split up our data into an X array that contains the features to train on, and a y array with the target variable, in this case the Price column. We will toss out the Address column because it only has text info that the linear regression model can't use.\n",
    "\n",
    "### X and y arrays"
   ]
  },
  {
   "cell_type": "code",
   "execution_count": null,
   "metadata": {
    "_cell_guid": "9947efd6-52a1-43f0-bd11-b7b993c1f60e",
    "_uuid": "5bb4d56e492fbf7c04fda4edb22891c3d53f3559"
   },
   "outputs": [],
   "source": [
    "#Getting all Coulmn names\n",
    "USA_Housing.columns"
   ]
  },
  {
   "cell_type": "markdown",
   "metadata": {},
   "source": [
    "y = a + b1*X + b2*X"
   ]
  },
  {
   "cell_type": "code",
   "execution_count": null,
   "metadata": {
    "_cell_guid": "633cf4c6-9adc-44d0-8698-84c7c6113551",
    "_uuid": "f8215a5800c6fadc3e1ddfdc2ea57675bb21c6fc"
   },
   "outputs": [],
   "source": [
    "# Columns as Features\n",
    "X = USA_Housing[['Avg. Area Income', 'Avg. Area House Age', 'Avg. Area Number of Rooms',\n",
    "       'Avg. Area Number of Bedrooms', 'Area Population']]"
   ]
  },
  {
   "cell_type": "code",
   "execution_count": null,
   "metadata": {
    "_cell_guid": "71a57750-199a-405f-9839-e5499059f1cf",
    "_uuid": "4173965bca7c30b5e9d47b2b467c31b42d3da03b"
   },
   "outputs": [],
   "source": [
    "# Price is my Target Variable, what we trying to predict\n",
    "y = USA_Housing['Price']"
   ]
  },
  {
   "cell_type": "code",
   "execution_count": null,
   "metadata": {},
   "outputs": [],
   "source": [
    "X"
   ]
  },
  {
   "cell_type": "code",
   "execution_count": null,
   "metadata": {},
   "outputs": [],
   "source": [
    "y"
   ]
  },
  {
   "cell_type": "markdown",
   "metadata": {
    "_cell_guid": "2e3608c6-f1a5-4842-94f7-055a62a76860",
    "_uuid": "50907f122ca73e22537f17474350b2a6d45ed173"
   },
   "source": [
    "## **Training the Model**\n",
    "\n",
    "Now that we've explored the data a bit, let's go ahead and split the data into training and testing sets.\n"
   ]
  },
  {
   "cell_type": "code",
   "execution_count": null,
   "metadata": {
    "_cell_guid": "517f5fa6-0b7c-4dac-9ee4-af2d3f00e8a4",
    "_uuid": "32ab8878f1023ee5069d2b02669101bf06dfc35b"
   },
   "outputs": [],
   "source": []
  },
  {
   "cell_type": "code",
   "execution_count": null,
   "metadata": {},
   "outputs": [],
   "source": []
  },
  {
   "cell_type": "code",
   "execution_count": null,
   "metadata": {},
   "outputs": [],
   "source": []
  },
  {
   "cell_type": "code",
   "execution_count": null,
   "metadata": {},
   "outputs": [],
   "source": []
  },
  {
   "cell_type": "code",
   "execution_count": null,
   "metadata": {},
   "outputs": [],
   "source": []
  },
  {
   "cell_type": "code",
   "execution_count": null,
   "metadata": {},
   "outputs": [],
   "source": []
  },
  {
   "cell_type": "code",
   "execution_count": null,
   "metadata": {
    "_cell_guid": "e605abf7-6166-465e-a9dc-a9d96b2c3012",
    "_uuid": "3ab04a9368f6500bedec7c0325a38c46d137a007"
   },
   "outputs": [],
   "source": [
    "#importing the Linear Regression Algorithm\n"
   ]
  },
  {
   "cell_type": "code",
   "execution_count": null,
   "metadata": {
    "_cell_guid": "36099f3b-4b4f-4a38-a3f2-e1b9000f505c",
    "_uuid": "8519b12790d7944488c5e0e7efd6c192b6ee2e47"
   },
   "outputs": [],
   "source": [
    "#creating LinearRegression Object\n"
   ]
  },
  {
   "cell_type": "code",
   "execution_count": null,
   "metadata": {
    "_cell_guid": "e6b9fddf-67c4-4cc9-9387-0d92418bb1c8",
    "_uuid": "be32db6f168500931a2472a8a124a4f05170ad44"
   },
   "outputs": [],
   "source": [
    "#Training the Data Model\n"
   ]
  },
  {
   "cell_type": "markdown",
   "metadata": {
    "_cell_guid": "b998c215-f4cd-4702-ad9b-d84fef38dcb8",
    "_uuid": "1c1d9d1bd6278f877243b6b4cd50f57c233d955a"
   },
   "source": [
    " ## **Model Evaluation**\n",
    "\n",
    "\n",
    "Let's evaluate the model by checking out it's coefficients "
   ]
  },
  {
   "cell_type": "markdown",
   "metadata": {},
   "source": [
    "y = a + bX + ..."
   ]
  },
  {
   "cell_type": "code",
   "execution_count": null,
   "metadata": {
    "_cell_guid": "bfb731df-105a-45de-8cab-81fa8246711a",
    "_uuid": "53e58674f9aa4fdcc3045ce94d05d76e84f42ffa",
    "tags": []
   },
   "outputs": [],
   "source": [
    "#Displaying the Intercept\n"
   ]
  },
  {
   "cell_type": "code",
   "execution_count": null,
   "metadata": {},
   "outputs": [],
   "source": []
  },
  {
   "cell_type": "code",
   "execution_count": null,
   "metadata": {
    "_cell_guid": "5b39c8b9-242f-4fb7-aacf-db6e6b089383",
    "_uuid": "7c18eb3337b7d3b783ea0d24852197bbc74321f2"
   },
   "outputs": [],
   "source": []
  },
  {
   "cell_type": "markdown",
   "metadata": {
    "_cell_guid": "2068ce9e-711f-4d7f-a4d8-7c9ad15227da",
    "_uuid": "c1aebaee6b43d1a52f95cef159636bed5af0d761"
   },
   "source": [
    "**Interpreting the coefficients:**\n",
    "\n",
    "- Holding all other features fixed, a 1 unit increase in **Avg. Area Income** is associated with an **increase of \\$21.62**.\n",
    "- Holding all other features fixed, a 1 unit increase in **Avg. Area House Age** is associated with an **increase of \\$165590.39**.\n",
    "- Holding all other features fixed, a 1 unit increase in **Avg. Area Number of Rooms** is associated with an **increase of \\$119827.78**.\n",
    "- Holding all other features fixed, a 1 unit increase in **Avg. Area Number of Bedrooms** is associated with an **increase of \\$2361.09**.\n",
    "- Holding all other features fixed, a 1 unit increase in **Area Population** is associated with an **increase of \\$15.21**.\n"
   ]
  },
  {
   "cell_type": "code",
   "execution_count": null,
   "metadata": {},
   "outputs": [],
   "source": [
    "import statsmodels.api as sm\n",
    "\n",
    "X2 = sm.add_constant(X_train)\n",
    "est = sm.OLS(y_train, X2)\n",
    "est2 = est.fit()\n",
    "print(est2.summary())"
   ]
  },
  {
   "cell_type": "markdown",
   "metadata": {
    "_cell_guid": "154749cb-5fc3-41f2-ba42-3b8d00c9383c",
    "_uuid": "311d8ce9f893ba490d63fec7e7ab72fe8197ee57"
   },
   "source": [
    "## **Predictions from our Model**\n",
    "\n",
    "Let's grab predictions off our test set and see how well it did!"
   ]
  },
  {
   "cell_type": "code",
   "execution_count": null,
   "metadata": {},
   "outputs": [],
   "source": [
    "X_test"
   ]
  },
  {
   "cell_type": "code",
   "execution_count": null,
   "metadata": {},
   "outputs": [],
   "source": []
  },
  {
   "cell_type": "code",
   "execution_count": null,
   "metadata": {
    "_cell_guid": "70353e22-4691-431f-b79e-def0e162ba69",
    "_uuid": "a8122dab1ca74f007caeec4a2f8bc874e90da602"
   },
   "outputs": [],
   "source": []
  },
  {
   "cell_type": "code",
   "execution_count": null,
   "metadata": {},
   "outputs": [],
   "source": []
  },
  {
   "cell_type": "markdown",
   "metadata": {
    "_cell_guid": "bcfa7a0f-b686-4354-a30c-d528e5d399bd",
    "_uuid": "823b56a976fd6bee5e91558dd79a75927b1ee9c9"
   },
   "source": [
    "## **Residual Histogram**\n",
    "\n",
    "**Ploting a histogram of the residuals and making sure it looks normally distributed.** If not, linear regression is nos appropiate for this analysis. Normally distribution of residuals is an assumption for Linear Regression."
   ]
  },
  {
   "cell_type": "code",
   "execution_count": null,
   "metadata": {
    "_cell_guid": "fdf61a9d-604b-4d7d-8592-b4a2b23e3aab",
    "_uuid": "c20291641abe589d074fa8469a92efb87fdf9aca"
   },
   "outputs": [],
   "source": []
  },
  {
   "cell_type": "markdown",
   "metadata": {
    "_cell_guid": "4b1d4254-1bf6-40f2-b542-a83d7af37a7e",
    "_uuid": "7a90d53d89145b7e3234192dd1721221e27eef0f"
   },
   "source": [
    "**Calculating the Mean Absolute Error, Mean Squared Error, and the Root Mean Squared Error**\n",
    "\n",
    "- **MAE** is the easiest to understand, because it's the average error.\n",
    "- **MSE** is more popular than MAE, because MSE \"punishes\" larger errors, which tends to be useful in the real world.\n",
    "- **RMSE** is even more popular than MSE, because RMSE is interpretable in the \"y\" units.\n",
    "\n",
    "All of these are **loss functions**, because we want to minimize them."
   ]
  },
  {
   "cell_type": "code",
   "execution_count": null,
   "metadata": {
    "_cell_guid": "22c82573-8927-452e-81fd-d05a08ce8ab3",
    "_uuid": "437c31ff994f4306ea482af4cd4e7d3249e4d481"
   },
   "outputs": [],
   "source": []
  },
  {
   "cell_type": "code",
   "execution_count": null,
   "metadata": {
    "_cell_guid": "a9ab78ac-5e05-46bb-8cf3-4bd527634824",
    "_uuid": "18fb337c53bab99260f860d682f191752adfb0b0",
    "tags": []
   },
   "outputs": [],
   "source": []
  },
  {
   "cell_type": "code",
   "execution_count": null,
   "metadata": {},
   "outputs": [],
   "source": [
    "# R^2\n",
    "lm.score(X_train, y_train) * 100 # Entrenamiento"
   ]
  },
  {
   "cell_type": "code",
   "execution_count": null,
   "metadata": {},
   "outputs": [],
   "source": [
    "lm.score(X_test, y_test) * 100  # Test"
   ]
  },
  {
   "cell_type": "markdown",
   "metadata": {},
   "source": [
    "## Feature importance"
   ]
  },
  {
   "cell_type": "code",
   "execution_count": null,
   "metadata": {},
   "outputs": [],
   "source": []
  },
  {
   "cell_type": "markdown",
   "metadata": {},
   "source": [
    "y = w1.X1 + w2.X2 + w3.X3\n",
    "\n",
    "One extra room increases the price (Y) in 2300, and one extra dollar un area income increases price in 21. This is the meaning of the coefficents, bur **does it mean that the number of bedrooms is much important than the area income?**\n",
    "\n",
    "Absolutly no. You must standarize the coefficents for better understanding the importance of each one. Two options:\n",
    "1. Standarize features before training\n",
    "2. Multiply each feature coefficent by it's standard deviation value and divide by the target standard deviation."
   ]
  },
  {
   "cell_type": "code",
   "execution_count": null,
   "metadata": {},
   "outputs": [],
   "source": [
    "stdevs = []\n",
    "for i in X_train.columns:\n",
    "    stdev = USA_Housing[i].std()\n",
    "    stdevs.append(stdev)\n",
    "\n",
    "features[\"stdev\"] = np.array(stdevs).reshape(-1,1)\n",
    "features[\"importance\"] = features[\"coefficient\"] * features[\"stdev\"]\n",
    "features['importance_standarized'] = features['importance'] / y_train.std()\n",
    "features"
   ]
  },
  {
   "cell_type": "code",
   "execution_count": null,
   "metadata": {},
   "outputs": [],
   "source": [
    "import matplotlib.pyplot as plt\n",
    "features = features.sort_values('importance_standarized', ascending=True)\n",
    "plt.barh(features.index, features.importance_standarized);"
   ]
  },
  {
   "cell_type": "markdown",
   "metadata": {},
   "source": [
    "## Removing noise\n",
    "Let's try a new model without the `Avg. Area Number of Bedrooms`"
   ]
  },
  {
   "cell_type": "code",
   "execution_count": null,
   "metadata": {},
   "outputs": [],
   "source": [
    "X = USA_Housing[['Avg. Area Income', 'Avg. Area House Age',\n",
    "                 'Avg. Area Number of Rooms', 'Area Population']]\n",
    "\n",
    "y = USA_Housing['Price']\n",
    "\n",
    "\n",
    "from sklearn.model_selection import train_test_split\n",
    "X_train, X_test, y_train, y_test = train_test_split(X,\n",
    "                                                    y,\n",
    "                                                    test_size=0.3,\n",
    "                                                    random_state=42)\n",
    "\n",
    "lm = LinearRegression(n_jobs=-1) \n",
    "lm.fit(X_train, y_train)\n",
    "\n",
    "predictions = lm.predict(X_test)\n",
    "predictions\n",
    "\n",
    "# A little bit lower without Avg. Area Number of Bedrooms\n",
    "print('MAE:', metrics.mean_absolute_error(y_test, predictions))\n",
    "print('MSE:', metrics.mean_squared_error(y_test, predictions))\n",
    "print('RMSE:', np.sqrt(metrics.mean_squared_error(y_test, predictions)))"
   ]
  }
 ],
 "metadata": {
  "kernelspec": {
   "display_name": "Python 3",
   "language": "python",
   "name": "python3"
  },
  "language_info": {
   "codemirror_mode": {
    "name": "ipython",
    "version": 3
   },
   "file_extension": ".py",
   "mimetype": "text/x-python",
   "name": "python",
   "nbconvert_exporter": "python",
   "pygments_lexer": "ipython3",
   "version": "3.8.5"
  }
 },
 "nbformat": 4,
 "nbformat_minor": 4
}
