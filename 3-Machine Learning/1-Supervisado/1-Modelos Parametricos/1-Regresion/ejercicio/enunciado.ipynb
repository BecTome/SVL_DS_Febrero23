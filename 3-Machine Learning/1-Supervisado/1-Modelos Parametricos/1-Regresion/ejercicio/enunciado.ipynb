{
 "cells": [
  {
   "attachments": {},
   "cell_type": "markdown",
   "metadata": {},
   "source": [
    "# Ejercicio Regresión.\n",
    "\n",
    "El objetivo de este ejercicio es analizar y crear modelos de  regresión a partir del dataset Car Prices, con el fin de obtener predicciones sobre el __precio__ de un vehiculo. \n",
    "\n",
    "\n",
    "\n",
    "Ejercicios: \n",
    "1. Realizar un EDA del dataset. Detalla las conclusiones que considere más importantes. \n",
    "2. Realizar las modificaciones al dataset pertinentes. (Ej: Imputar nulos, eliminar variables, corregir valores, etc.)\n",
    "3. Crear un modelo de regresión lineal con una sola variable, la que mejor resultados obtenga. Para realizar comparativas, utilice la métrica MAE. \n",
    "4. Crear un modelo de regresión lineal (sin limitaciones de variables)\n",
    "5. Probar con otros modelos de regresión. \n",
    "6. Determinar cual es el mejor modelo de los que ha probado, explicando el por qué. "
   ]
  }
 ],
 "metadata": {
  "kernelspec": {
   "display_name": "Python 3",
   "language": "python",
   "name": "python3"
  },
  "language_info": {
   "name": "python",
   "version": "3.8.10 (default, Nov 14 2022, 12:59:47) \n[GCC 9.4.0]"
  },
  "orig_nbformat": 4,
  "vscode": {
   "interpreter": {
    "hash": "31f2aee4e71d21fbe5cf8b01ff0e069b9275f58929596ceb00d14d90e3e16cd6"
   }
  }
 },
 "nbformat": 4,
 "nbformat_minor": 2
}
