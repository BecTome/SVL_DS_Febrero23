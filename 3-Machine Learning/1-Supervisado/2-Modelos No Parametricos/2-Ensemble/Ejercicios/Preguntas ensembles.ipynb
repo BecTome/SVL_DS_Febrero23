{
 "cells": [
  {
   "attachments": {},
   "cell_type": "markdown",
   "metadata": {},
   "source": [
    "## Ejercicios de razonar\n",
    "Para estos ejercicios no hace falta escribir ni una línea de código. Simmplemente hay que responder a las preguntas.\n",
    "\n",
    "### Pregunta 1\n",
    "**Si entrenas 5 modelos diferentes y obtienes en los 5 un 95% de acierto, ¿sería posible combinar los 5 modelos para mejorar ese porcentaje?**"
   ]
  },
  {
   "cell_type": "code",
   "execution_count": null,
   "metadata": {},
   "outputs": [],
   "source": [
    "# Q: <!-- **Si entrenas 5 modelos diferentes y obtienes en los 5 un 95% de acierto, ¿sería posible combinar los 5 modelos para mejorar ese porcentaje?** -->\n",
    "\n",
    "# A: <!-- Si, se puede combinar los 5 modelos para mejorar el porcentaje. -->"
   ]
  },
  {
   "attachments": {},
   "cell_type": "markdown",
   "metadata": {},
   "source": [
    "### Pregunta 2\n",
    "**¿Cuál es la diferencia entre un hard y un soft voting classifier?**"
   ]
  },
  {
   "attachments": {},
   "cell_type": "markdown",
   "metadata": {},
   "source": []
  },
  {
   "attachments": {},
   "cell_type": "markdown",
   "metadata": {},
   "source": [
    "### Pregunta 3\n",
    "**Para mejorar los tiempos de entrenamiento, se suelen paralelizar los procesos de ejecución en el ordenador (un proceso por core) para que entrene más rápido. ¿Sería posible paralelizar el entrenamiento de los algoritmos de bagging vistos en clase? ¿Y los de boosting?**"
   ]
  },
  {
   "attachments": {},
   "cell_type": "markdown",
   "metadata": {},
   "source": []
  },
  {
   "attachments": {},
   "cell_type": "markdown",
   "metadata": {},
   "source": [
    "### Pregunta 4\n",
    "**¿Qué podríamos modificar en nuestro algoritmo de AdaBoost para mejorarlo en el caso de que se produzca underfitting?**"
   ]
  },
  {
   "attachments": {},
   "cell_type": "markdown",
   "metadata": {},
   "source": []
  },
  {
   "attachments": {},
   "cell_type": "markdown",
   "metadata": {},
   "source": [
    "### Pregunta 5\n",
    "**¿Qué podemos hacer si tenemos overfitting en GradientBoosting?**"
   ]
  },
  {
   "attachments": {},
   "cell_type": "markdown",
   "metadata": {},
   "source": []
  }
 ],
 "metadata": {
  "kernelspec": {
   "display_name": "Python 3",
   "language": "python",
   "name": "python3"
  },
  "language_info": {
   "codemirror_mode": {
    "name": "ipython",
    "version": 3
   },
   "file_extension": ".py",
   "mimetype": "text/x-python",
   "name": "python",
   "nbconvert_exporter": "python",
   "pygments_lexer": "ipython3",
   "version": "3.10.8"
  }
 },
 "nbformat": 4,
 "nbformat_minor": 4
}
