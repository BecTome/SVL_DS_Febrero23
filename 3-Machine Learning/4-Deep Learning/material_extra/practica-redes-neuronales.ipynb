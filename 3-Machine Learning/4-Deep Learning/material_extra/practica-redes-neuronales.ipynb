{
 "cells": [
  {
   "cell_type": "markdown",
   "metadata": {},
   "source": [
    "# Inteligencia Artificial\n",
    "### Grado Ingeniería Informática Tecnologías Informáticas \n",
    "\n",
    "### Práctica redes neuronales"
   ]
  },
  {
   "cell_type": "code",
   "execution_count": null,
   "metadata": {},
   "outputs": [],
   "source": [
    "import random, math"
   ]
  },
  {
   "cell_type": "markdown",
   "metadata": {},
   "source": [
    "En esta práctica vamos a implementar algunas ideas básicas del tema 7 (Introducción a las Redes Neuronales). En concreto:\n",
    "\n",
    "- Cómo calcular la salida de una red neuronal a a partir de una entrada dada.\n",
    "- Cómo usar redes neuronales como clasificadores.\n",
    "- Medir el rendimiento de una red sobre un conjutnto de ejemplos.\n",
    "- Medir el error cuadrático que comete una red sobre un conjunto de ejemplos. \n",
    "- Aprendizaje en redes neuronales (sólo en el caso particular de perceptrones)"
   ]
  },
  {
   "cell_type": "markdown",
   "metadata": {},
   "source": [
    "### Parte 1: cálculo de la salida de una red"
   ]
  },
  {
   "cell_type": "markdown",
   "metadata": {},
   "source": [
    "#### Ejercicio 1"
   ]
  },
  {
   "cell_type": "markdown",
   "metadata": {},
   "source": [
    "Definir en python las funciones de activación `relu` y `sigmoide`"
   ]
  },
  {
   "cell_type": "code",
   "execution_count": null,
   "metadata": {},
   "outputs": [],
   "source": [
    "##### Solución: \n",
    "\n",
    "\n",
    "\n",
    "\n",
    "\n",
    "\n"
   ]
  },
  {
   "cell_type": "markdown",
   "metadata": {},
   "source": [
    "#### Ejercicio 2"
   ]
  },
  {
   "cell_type": "markdown",
   "metadata": {},
   "source": [
    "Vamos a implementar en este ejercicio el cálculo que realiza una red neuronal multicapa hacia adelante, con la siguiente estructura:\n",
    "\n",
    "- Una capa de entrada de 16 unidades (numeradas de la 1 a la 16)\n",
    "- Una capa oculta intermedia de 3 unidades (numeradas 17, 18 y 19), con función de activación ReLU. \n",
    "- Una capa de salida con una única unidad (la número 20), con el sigmoide como función de activación. "
   ]
  },
  {
   "cell_type": "markdown",
   "metadata": {},
   "source": [
    "<img src=\"http://www.cs.us.es/~jruiz/repository/imagenes/red_votos.png\" width=\"40%\">"
   ]
  },
  {
   "cell_type": "markdown",
   "metadata": {},
   "source": [
    "Lo que siguen son los pesos (y umbrales) de esta red, que llamaremos `rv1`. Usaremos el convenio según el cual la variable `rv1_pesos<i>` tiene asignados la lista de los pesos de las conexiones que llegan a la unidad $i$. Igualmente la variable `rv1_umbral<i>` referencia al peso umbral de la unidad $i$. "
   ]
  },
  {
   "cell_type": "code",
   "execution_count": null,
   "metadata": {},
   "outputs": [],
   "source": [
    "# Capa oculta 1\n",
    "rv1_pesos17=[0.57,1.39,0.4,2.1,1.71,0.30,1.55,0.73,1.49,3.07,1.69,1.2,1.82,0.2,0.13,0.38]\n",
    "rv1_umbral17=-0.6\n",
    "rv1_pesos18=[0.57,1.39,0.41,2.1,1.71,0.31,1.55,0.74,1.49,3.07,1.69,1.2,1.82,0.21,0.13,0.38]\n",
    "rv1_umbral18=-0.22\n",
    "rv1_pesos19=[0.71,1.80,-5.67,5.77,1.52,2.04,0.45,0.67,-2.22,2.27,-2.41,-1.44,1.92,-2.95,2.01,2.62]\n",
    "rv1_umbral19=-2.03\n",
    "# Capa de salida\n",
    "rv1_pesos20=[-3.14,3.97,-2.81]\n",
    "rv1_umbral20=1.8"
   ]
  },
  {
   "cell_type": "markdown",
   "metadata": {},
   "source": [
    "Se pide implementar una función `f_rv1(l)` que lleva a cabo el cálculo que realiza la red `rv1`, recibiendo como entrada una lista `l` con 16 números."
   ]
  },
  {
   "cell_type": "code",
   "execution_count": null,
   "metadata": {},
   "outputs": [],
   "source": [
    "# Solución:\n",
    "\n",
    "\n",
    "\n",
    "\n",
    "\n",
    "\n"
   ]
  },
  {
   "cell_type": "markdown",
   "metadata": {},
   "source": [
    "Ejemplos:"
   ]
  },
  {
   "cell_type": "code",
   "execution_count": null,
   "metadata": {},
   "outputs": [],
   "source": [
    "#f_rv1([-1,  1, -1, -1,  1,  1, -1, -1,  0, -1, -1,  1,  1,  1, -1,  1])\n",
    "# Resultado: 0.8581489350995123\n",
    "\n",
    "#f_rv1([-2.12, 3.2, -1.5, 2.3,  8.4, -3.1, -1.21, 0.34,  0.21, -2.65, -4.1,  2.1,  6.7,  5.2, -8.345,  11.41])\n",
    "# Resultado: 3.1810610757510064e-41"
   ]
  },
  {
   "cell_type": "markdown",
   "metadata": {},
   "source": [
    "#### Ejercicio 3\n",
    "\n",
    "Implementar ahora la función `f_rv2` que calcula la salida de una red que llamaremos `rv2`, que tiene la misma estructura que la red `rv1`del ejercicio anterior, pero con los siguientes pesos:"
   ]
  },
  {
   "cell_type": "code",
   "execution_count": null,
   "metadata": {},
   "outputs": [],
   "source": [
    "# Capa oculta 1\n",
    "rv2_pesos17=[2.19,-0.42,-0.13,2.67,-1.35,2.2,-1.55,2.06,-1.94,0.38,-0.69,-0.91,-0.85,-1.94,0.12,-0.15]\n",
    "rv2_umbral17=1.81\n",
    "rv2_pesos18=[-2.07,-2.59,-2.59,-2.69,1.77,-2.59,-2.87,2.72,1.0,-2.53,-2.5,-1.17,-1.24,1.03,-0.95,2.62]\n",
    "rv2_umbral18=2.08\n",
    "rv2_pesos19=[-0.87,-2.58,2.62,2.84,-1.15,0.4,-0.57,2.73,-1.0,0.81,-1.31,2.0,1.46,-2.15,-0.66,-2.34]\n",
    "rv2_umbral19=-0.07\n",
    "# Capa de salida\n",
    "rv2_pesos20=[2.02, -1.04, 0.02]\n",
    "rv2_umbral20=3.11"
   ]
  },
  {
   "cell_type": "code",
   "execution_count": null,
   "metadata": {},
   "outputs": [],
   "source": [
    "# Solución:\n",
    "\n",
    "\n",
    "\n",
    "\n",
    "\n",
    "\n"
   ]
  },
  {
   "cell_type": "markdown",
   "metadata": {},
   "source": [
    "Ejemplos:"
   ]
  },
  {
   "cell_type": "code",
   "execution_count": null,
   "metadata": {},
   "outputs": [],
   "source": [
    "# f_rv2([-1,  1, -1, -1,  1,  1, -1, -1,  0, -1, -1,  1,  1,  1, -1,  1])\n",
    "# Resultado: 2.0083337163682923e-05\n",
    "\n",
    "# f_rv2([-2.12, 3.2, -1.5, 2.3,  8.4, -3.1, -1.21, 0.34,  0.21, -2.65, -4.1,  2.1,  6.7,  5.2, -8.345,  11.41])\n",
    "# Resultado: 3.1810610757510064e-41"
   ]
  },
  {
   "cell_type": "markdown",
   "metadata": {},
   "source": [
    "***"
   ]
  },
  {
   "cell_type": "markdown",
   "metadata": {},
   "source": [
    "Vamos ahora a considerar una estructura de red que tiene más de una unidad en la capa de salida y que usa _softmax_ para transformar la salida de la última capa a una distribución de probabilidad. "
   ]
  },
  {
   "cell_type": "markdown",
   "metadata": {},
   "source": [
    "#### Ejercicio 4"
   ]
  },
  {
   "cell_type": "markdown",
   "metadata": {},
   "source": [
    "Definir en python la función `softmax(l)`, donde `l` es la lista de sus argumentos."
   ]
  },
  {
   "cell_type": "code",
   "execution_count": null,
   "metadata": {},
   "outputs": [],
   "source": [
    "# Solución:\n",
    "\n",
    "\n",
    "\n",
    "\n",
    "\n"
   ]
  },
  {
   "cell_type": "markdown",
   "metadata": {},
   "source": [
    "Ejemplos:"
   ]
  },
  {
   "cell_type": "code",
   "execution_count": null,
   "metadata": {},
   "outputs": [],
   "source": [
    "# softmax([9,3,6,-2,1])\n",
    "# Resultado: \n",
    "# [0.9500122688103602,\n",
    "#  0.002354844979173426,\n",
    "#  0.04729832577757093,\n",
    "#  1.5866820660733065e-05,\n",
    "#  0.0003186936122347509]\n",
    "\n",
    "\n",
    "# softmax([2.8,-0.25,3.25,4.145,3.12,-5.21,0.1])\n",
    "# Resultado:\n",
    "#[0.12660594814771753,\n",
    "# 0.005995921525796463,\n",
    "# 0.1985576512356019,\n",
    "# 0.4859372461404638,\n",
    "# 0.17435256632430038,\n",
    "# 4.204896495025608e-05,\n",
    "# 0.00850861766116953]\n"
   ]
  },
  {
   "cell_type": "markdown",
   "metadata": {},
   "source": [
    "#### Ejercicio 5"
   ]
  },
  {
   "cell_type": "markdown",
   "metadata": {},
   "source": [
    "Consideremos una red neuronal multicapa hacia adelante, `ri1` con la siguiente estructura:\n",
    "\n",
    "- Una capa de entrada de 4 unidades (numeradas de la 1 a la 4)\n",
    "- Una capas oculta de 2 unidades (unidades 5 y 6), con función de activación ReLU.\n",
    "- Otra capa oculta igual a la anterior (unidades 6 y 7)\n",
    "- Una capa de salida con tres unidades(unidades 8, 9 y 10), que usa softmax. "
   ]
  },
  {
   "cell_type": "markdown",
   "metadata": {},
   "source": [
    "<img src=\"http://www.cs.us.es/~jruiz/repository/imagenes/red_iris.png\" width=\"40%\">"
   ]
  },
  {
   "cell_type": "markdown",
   "metadata": {},
   "source": [
    "Los pesos de la red `ri1` son los siguientes:"
   ]
  },
  {
   "cell_type": "code",
   "execution_count": null,
   "metadata": {},
   "outputs": [],
   "source": [
    "# Capa oculta 1\n",
    "ri1_pesos5=[1.55, 0.76, 1.91, 0.18]\n",
    "ri1_umbral5=-0.47\n",
    "ri1_pesos6=[-0.31, -0.94, 1.47, -1.53]\n",
    "ri1_umbral6=2.21\n",
    "\n",
    "# Capa oculta 2\n",
    "ri1_pesos7=[-2.93, 1.23]\n",
    "ri1_umbral7=1.12\n",
    "ri1_pesos8=[2.21, 0.93]\n",
    "ri1_umbral8=-2.03\n",
    "\n",
    "# Capa de salida\n",
    "ri1_pesos9=[0.69, -2.64]\n",
    "ri1_umbral9=0.35\n",
    "ri1_pesos10=[-1.16, 2.94]\n",
    "ri1_umbral10=-1.47\n",
    "ri1_pesos11=[0.33, -1.69]\n",
    "ri1_umbral11=-0.2"
   ]
  },
  {
   "cell_type": "markdown",
   "metadata": {},
   "source": [
    "Se pide implementar una función `f_ri1(l)` que lleva a cabo el cálculo que realiza la red ri1, recibiendo como entrada una lista l con 4 números."
   ]
  },
  {
   "cell_type": "code",
   "execution_count": null,
   "metadata": {},
   "outputs": [],
   "source": [
    "# Solución:\n",
    "\n",
    "\n",
    "\n",
    "\n",
    "\n",
    "\n",
    "\n",
    "\n",
    "\n",
    "\n",
    "\n"
   ]
  },
  {
   "cell_type": "markdown",
   "metadata": {},
   "source": [
    "Ejemplos:"
   ]
  },
  {
   "cell_type": "code",
   "execution_count": null,
   "metadata": {},
   "outputs": [],
   "source": [
    "# f_ri1([0.34,-0.25,1.45,6.89])\n",
    "# Resultado: [8.864658601047536e-16, 0.9999999999997443, 2.547083041003686e-13]\n",
    "\n",
    "# f_ri1([-3.21,-0.89,-5.21,3.51])\n",
    "# Resultado: [0.7112831207942694, 0.014513373741990734, 0.27420350546373984]\n",
    "\n",
    "# f_ri1([6.0,2.2,4.0,1.0])\n",
    "# Resultado: [4.488792822216351e-99, 1.0, 1.9572652640765038e-82]"
   ]
  },
  {
   "cell_type": "markdown",
   "metadata": {},
   "source": [
    "#### Ejercicio 6"
   ]
  },
  {
   "cell_type": "markdown",
   "metadata": {},
   "source": [
    "Definir ahora la correspondiente función `f_ri2(l)` para otra red `ri2` con la misma estructura que la anterior, pero con un conjunto de pesos diferente:"
   ]
  },
  {
   "cell_type": "code",
   "execution_count": null,
   "metadata": {},
   "outputs": [],
   "source": [
    "# Capa oculta 1\n",
    "ri2_pesos5=[-0.93,-0.48,-0.47,-0.18]\n",
    "ri2_umbral5=0.72\n",
    "ri2_pesos6=[-1.18, -0.66, 2.40, 2.65]\n",
    "ri2_umbral6=-0.83\n",
    "\n",
    "# Capa oculta 2\n",
    "ri2_pesos7=[0.2,-0.62]\n",
    "ri2_umbral7=-1.33\n",
    "ri2_pesos8=[-0.05,1.22]\n",
    "ri2_umbral8=-1.52\n",
    "\n",
    "# Capa de salida\n",
    "ri2_pesos9=[-0.94,-10.15]\n",
    "ri2_umbral9=4.92\n",
    "ri2_pesos10=[0.51,6.02]\n",
    "ri2_umbral10=-1.38\n",
    "ri2_pesos11=[0.71,6.64]\n",
    "ri2_umbral11=-3.84"
   ]
  },
  {
   "cell_type": "code",
   "execution_count": null,
   "metadata": {},
   "outputs": [],
   "source": [
    "# Solución:\n",
    "\n",
    "\n",
    "\n",
    "\n",
    "\n",
    "\n",
    "\n",
    "\n",
    "\n",
    "\n"
   ]
  },
  {
   "cell_type": "markdown",
   "metadata": {},
   "source": [
    "Ejemplos:"
   ]
  },
  {
   "cell_type": "code",
   "execution_count": null,
   "metadata": {},
   "outputs": [],
   "source": [
    "# f_ri2([0.34,-0.25,1.45,6.89])\n",
    "# Resultado: [9.70850404721349e-170, 4.861650436751122e-06, 0.9999951383495632]\n",
    "\n",
    "# f_ri2([-3.21,-0.89,-5.21,3.51])\n",
    "# Resultado: [0.9980107755155126, 0.00183265195460546, 0.00015657252988188292]\n",
    "\n",
    "# f_ri2([6.0,2.2,4.0,1.0])\n",
    "# Resultado: [3.5877536494889878e-12, 0.7716967371564146, 0.2283032628399975]"
   ]
  },
  {
   "cell_type": "markdown",
   "metadata": {},
   "source": [
    "***"
   ]
  },
  {
   "cell_type": "markdown",
   "metadata": {},
   "source": [
    "### Parte 2: redes neuronales como clasificadores"
   ]
  },
  {
   "cell_type": "markdown",
   "metadata": {},
   "source": [
    "En esta segunda parte veremos cómo usar las redes anteriores como clasificadores en problemas de clasificación dados por conjuntos de datos. En esta práctica concretamente usaremos dos conjuntos de datos muy conocidos: el conjunto de datos de los votos y el del iris. El primero de ellos es un problema de clasificación binaria y el segundo es multiclase (tres clases).   "
   ]
  },
  {
   "cell_type": "markdown",
   "metadata": {},
   "source": [
    "### El conjunto de datos _Votos_ "
   ]
  },
  {
   "cell_type": "markdown",
   "metadata": {},
   "source": [
    "Datos sobre votos de cada uno de los 435 congresitas de Estados Unidos en 16 votaciones realizadas durante 1984, clasificados según su partido (republicano o demócrata) (Más información en  http://archive.ics.uci.edu/ml/datasets/Congressional+Voting+Records)\n",
    "\n",
    "El valor de cada votación lo codificamos numéricamente de la siguiente manera: \n",
    "\n",
    " - 1: voto sí\n",
    " - -1: voto no\n",
    " - 0: \"Present\" (similar a la abstención)\n",
    "\n",
    "El partido lo codificamos de la siguiente manera:\n",
    "\n",
    "- 0: republicano\n",
    "- 1: demócrata"
   ]
  },
  {
   "cell_type": "markdown",
   "metadata": {},
   "source": [
    "Lo que sigue es un subconjunto de 109 ejemplos del _dataset_ original. Los ejemplos y la correspondiente clasificación están separados pero en el mismo orden:"
   ]
  },
  {
   "cell_type": "code",
   "execution_count": null,
   "metadata": {},
   "outputs": [],
   "source": [
    "ejemplos_votos=[\n",
    " [-1, -1, 1, -1, -1, 1, 1, 1, 1, 1, 1, -1, 1, 1, -1, 1],\n",
    " [1, -1, 1, -1, -1, -1, 1, 1, 1, -1, -1, -1, -1, -1, 1, 0],\n",
    " [1, 1, 1, -1, -1, 1, 0, 1, -1, -1, 1, 1, -1, 1, -1, 0],\n",
    " [1, -1, 1, 1, -1, -1, -1, 1, 1, 1, -1, -1, -1, 1, 1, 1],\n",
    " [0, 0, 0, -1, -1, -1, 1, 1, 1, 1, -1, -1, 1, -1, 1, 1],\n",
    " [-1, 1, 1, -1, -1, -1, 1, 1, 1, -1, -1, -1, 1, -1, 0, 0],\n",
    " [1, -1, 1, -1, -1, 0, 1, 1, 1, -1, 0, 0, -1, 0, 0, 0],\n",
    " [-1, -1, -1, 1, 1, 1, -1, -1, -1, -1, -1, 1, 1, 1, -1, -1],\n",
    " [-1, 0, 0, 0, 0, 0, 0, 0, 0, 0, 0, 0, 0, 1, 0, 0],\n",
    " [1, -1, -1, 1, 1, 1, -1, -1, -1, -1, 1, 1, 1, 1, -1, -1],\n",
    " [-1, 1, -1, 1, 1, -1, -1, -1, -1, -1, 0, 0, 1, 1, -1, -1],\n",
    " [-1, -1, 1, -1, -1, -1, 1, 1, 1, -1, -1, -1, -1, 1, 1, 1],\n",
    " [-1, 1, 1, -1, -1, 1, 1, 1, -1, 1, -1, -1, -1, -1, 1, 1],\n",
    " [1, 1, -1, -1, 1, 1, -1, -1, -1, 1, 1, 1, 1, 1, -1, 0],\n",
    " [-1, 1, -1, 1, 1, 1, -1, 0, -1, 1, -1, 1, 1, 1, -1, 0],\n",
    " [-1, 1, -1, 1, 1, 1, -1, -1, -1, 1, -1, 1, 1, 1, -1, -1],\n",
    " [1, 1, 1, 1, 1, 1, 1, 1, -1, 1, -1, -1, 1, 1, -1, 1],\n",
    " [-1, -1, 1, -1, -1, -1, 1, 1, 1, -1, -1, 0, -1, -1, 1, 1],\n",
    " [1, 1, -1, -1, -1, -1, 1, 1, 0, -1, 1, -1, -1, -1, 1, 0],\n",
    " [-1, 1, -1, 1, 1, 1, -1, -1, -1, 1, -1, 0, 1, 1, -1, -1],\n",
    " [1, 1, 1, -1, -1, 0, 1, 1, 1, 1, -1, -1, -1, -1, 1, 0],\n",
    " [-1, -1, 0, -1, 1, 1, -1, -1, -1, -1, 1, 1, 1, 1, -1, 1],\n",
    " [-1, -1, -1, 1, 1, 1, -1, -1, -1, 1, -1, 1, -1, 1, -1, 1],\n",
    " [-1, -1, 1, -1, -1, 1, 1, 1, 1, -1, 1, 1, -1, 1, 1, 0],\n",
    " [1, 1, 1, -1, -1, -1, 1, 1, 1, -1, -1, -1, 0, 0, 1, 1],\n",
    " [-1, 1, -1, 1, -1, 1, 1, 1, 1, -1, 1, -1, 1, -1, 1, 0],\n",
    " [-1, 1, -1, 1, 1, 1, -1, 0, -1, -1, 0, 0, 0, 1, -1, 0],\n",
    " [1, 1, 1, -1, 1, 1, -1, -1, -1, 1, 1, -1, 1, 1, -1, 1],\n",
    " [-1, -1, -1, 1, 1, 1, -1, -1, -1, -1, -1, 1, 1, 1, 1, -1],\n",
    " [1, 1, -1, -1, -1, -1, -1, 1, 1, -1, 1, -1, -1, -1, 1, -1],\n",
    " [-1, 1, -1, 1, 1, 1, -1, -1, -1, -1, -1, 1, 1, 1, -1, 0],\n",
    " [1, -1, 1, -1, -1, -1, 1, 1, 1, 1, -1, 1, -1, -1, 1, 0],\n",
    " [1, 1, 1, -1, -1, 1, 0, 1, 1, -1, 1, -1, 1, -1, 1, 1],\n",
    " [-1, 1, 1, -1, 1, 1, -1, -1, -1, 1, 1, 1, 1, 1, -1, 0],\n",
    " [1, 1, -1, 1, 1, 1, -1, -1, -1, -1, -1, -1, 1, 1, -1, 1],\n",
    " [-1, 1, 1, -1, -1, -1, 1, 1, 1, 1, -1, -1, -1, -1, 1, 1],\n",
    " [-1, -1, -1, 1, 1, 1, -1, -1, -1, 1, -1, 1, 1, 1, -1, 0],\n",
    " [-1, 1, -1, -1, 1, 1, -1, -1, 0, -1, -1, 1, 1, 1, -1, 1],\n",
    " [1, 1, 1, -1, -1, -1, 1, 1, 1, 1, 1, -1, 1, -1, -1, 1],\n",
    " [-1, 1, 1, -1, 0, 1, 1, 1, 1, 1, 1, -1, -1, 0, -1, 0],\n",
    " [-1, -1, 1, 1, 1, 1, 1, -1, -1, 1, 1, 1, 1, 1, -1, 1],\n",
    " [1, 1, -1, -1, 1, 0, -1, -1, -1, -1, 1, -1, 1, 1, -1, 1],\n",
    " [-1, 1, 1, -1, -1, 1, 1, 1, 1, 1, -1, -1, 1, 1, 1, 1],\n",
    " [1, 1, -1, 1, 1, 1, -1, -1, -1, 1, 1, -1, 1, -1, -1, -1],\n",
    " [-1, 1, -1, 1, 1, 1, -1, -1, -1, 1, 1, 1, 1, 1, -1, 1],\n",
    " [-1, 1, 1, 1, 1, 1, 1, 1, 1, -1, -1, 1, 1, 1, -1, 1],\n",
    " [1, -1, 1, -1, 1, 1, 1, -1, 0, -1, 1, -1, 1, 1, 1, 0],\n",
    " [-1, 1, 1, -1, -1, 1, -1, 1, 1, -1, 1, -1, 1, -1, 1, 1],\n",
    " [-1, 1, -1, 1, 1, 1, -1, -1, -1, 1, -1, 1, 1, 0, -1, 0],\n",
    " [-1, 1, 1, -1, -1, 1, -1, 1, 1, -1, 1, -1, 0, 0, 0, 0],\n",
    " [-1, -1, -1, 1, 1, 1, -1, -1, -1, 1, -1, 1, 1, 1, -1, -1],\n",
    " [1, 1, 1, -1, 0, 1, -1, 0, -1, -1, 1, -1, 1, 1, -1, 0],\n",
    " [1, -1, 1, -1, -1, -1, 1, 1, 1, 1, -1, -1, -1, -1, 1, 1],\n",
    " [-1, 1, 1, -1, 1, 1, -1, 1, -1, -1, -1, -1, -1, -1, -1, 1],\n",
    " [-1, -1, -1, 1, 1, 1, -1, -1, -1, -1, -1, 1, 1, 1, -1, 0],\n",
    " [1, 0, 1, -1, -1, -1, 1, 1, 1, -1, 1, -1, -1, -1, 1, 1],\n",
    " [-1, 1, -1, 1, 1, 1, -1, -1, -1, -1, -1, -1, 0, 1, 1, 1],\n",
    " [1, 1, 1, -1, 1, 1, 1, 1, -1, 1, 1, -1, -1, -1, 1, 0],\n",
    " [-1, -1, 1, -1, -1, 1, 1, 1, 1, 1, 1, -1, -1, -1, 0, 1],\n",
    " [1, 1, -1, 1, 1, 1, -1, 0, -1, -1, 1, 1, 1, 1, -1, -1],\n",
    " [-1, -1, 1, -1, -1, -1, 1, 1, 1, 1, 1, -1, 0, -1, 1, 0],\n",
    " [1, 1, 1, -1, -1, -1, 1, 1, 1, -1, 1, -1, -1, -1, -1, 1],\n",
    " [-1, 1, -1, 1, 1, 1, -1, -1, -1, -1, -1, 1, 1, 1, -1, -1],\n",
    " [1, -1, -1, -1, 1, 1, -1, -1, -1, -1, 1, 1, -1, 1, -1, 1],\n",
    " [-1, -1, 1, -1, -1, 1, 1, 0, 1, 1, 1, -1, -1, -1, 1, 1],\n",
    " [-1, 1, -1, -1, 1, 1, -1, -1, -1, -1, -1, 1, 1, 1, 1, 1],\n",
    " [-1, 1, -1, 1, 1, 1, -1, -1, -1, 1, -1, 1, 1, 1, -1, 0],\n",
    " [-1, 1, 1, -1, 1, 0, 1, -1, -1, 1, 1, -1, 1, -1, 1, 1],\n",
    " [-1, 0, -1, 1, 1, 1, -1, -1, -1, 1, -1, 1, 1, 1, -1, -1],\n",
    " [1, 1, -1, 1, 1, 1, 1, -1, -1, -1, -1, 1, 1, 1, -1, 1],\n",
    " [1, 1, -1, 1, 1, 1, -1, -1, -1, 1, -1, 1, 1, 1, -1, 1],\n",
    " [1, -1, 1, -1, -1, -1, 1, 1, 1, 1, -1, -1, -1, -1, 1, 1],\n",
    " [-1, -1, -1, 1, 1, 1, -1, -1, -1, -1, -1, 1, 1, 1, -1, 1],\n",
    " [-1, -1, -1, 1, 1, 1, 1, -1, -1, 1, -1, 1, -1, 1, 1, 1],\n",
    " [-1, 1, -1, 1, 1, 1, -1, -1, -1, -1, -1, 1, 1, 1, -1, -1],\n",
    " [-1, -1, -1, 1, 1, 1, 1, 1, 1, 1, -1, 1, 1, 1, 0, 1],\n",
    " [1, 1, 1, 0, -1, 1, 1, 1, 1, -1, 1, -1, 1, -1, 0, 1],\n",
    " [1, -1, -1, 1, 1, 1, -1, -1, -1, 1, -1, 0, 1, 1, -1, -1],\n",
    " [1, -1, -1, -1, -1, -1, 1, 1, 1, 1, -1, -1, -1, -1, 1, 1],\n",
    " [1, 1, 0, 0, 0, 1, -1, -1, -1, -1, 1, -1, 1, -1, -1, 1],\n",
    " [-1, -1, 1, 1, 1, 1, -1, -1, 1, 1, -1, 1, 1, 1, -1, 1],\n",
    " [-1, 0, -1, 1, 1, 1, -1, -1, -1, -1, -1, 1, 1, 1, -1, -1],\n",
    " [1, 1, 1, -1, -1, -1, 1, 1, 1, -1, -1, -1, -1, -1, 0, 0],\n",
    " [1, -1, 1, -1, -1, 1, 1, 1, 1, 1, 1, -1, -1, 1, 1, 1],\n",
    " [1, -1, 1, -1, -1, -1, 1, 1, 1, -1, 1, -1, -1, -1, 1, 1],\n",
    " [1, 1, 1, -1, -1, -1, 1, 1, 0, -1, 1, -1, -1, -1, 1, 0],\n",
    " [1, -1, 1, -1, -1, -1, 1, 1, 1, 1, -1, -1, -1, -1, 1, 0],\n",
    " [1, 1, 1, -1, 1, 1, -1, -1, -1, -1, 1, 0, 1, 1, 1, 1],\n",
    " [-1, 1, -1, 1, 1, 1, -1, -1, 1, 1, -1, 1, 1, 1, -1, 1],\n",
    " [-1, 1, 1, -1, -1, -1, -1, 1, 1, -1, 1, -1, -1, 1, 1, 1],\n",
    " [1, 1, 1, -1, 1, 1, -1, 1, 1, -1, 1, -1, -1, 1, -1, 0],\n",
    " [1, -1, 1, -1, -1, -1, 1, 1, 1, -1, 1, -1, -1, -1, 1, 0],\n",
    " [-1, 1, -1, 1, 1, 1, -1, -1, -1, -1, -1, 1, 1, 1, -1, 1],\n",
    " [1, 1, -1, 1, 1, 1, -1, -1, -1, -1, 1, -1, 1, 1, -1, 0],\n",
    " [-1, 1, 1, -1, 1, 1, -1, -1, -1, -1, -1, -1, 1, 1, 1, 1],\n",
    " [1, 1, -1, 1, 1, 1, -1, -1, -1, -1, 1, -1, 1, 1, -1, 1],\n",
    " [-1, -1, -1, 1, 1, 1, -1, -1, -1, 1, -1, 1, 1, 1, 1, -1],\n",
    " [-1, -1, -1, 1, 1, 1, -1, -1, -1, 1, -1, 1, -1, 1, -1, 1],\n",
    " [-1, 1, -1, 1, 1, 1, -1, -1, -1, -1, -1, -1, 1, 1, 0, 1],\n",
    " [-1, 0, -1, -1, -1, 1, 1, 1, 1, 1, -1, -1, -1, 1, -1, 0],\n",
    " [1, -1, 1, -1, -1, 1, 1, 1, 1, 1, -1, -1, 1, -1, -1, 1],\n",
    " [1, 0, 1, -1, -1, -1, 1, 1, 1, -1, -1, 0, -1, -1, 1, 1],\n",
    " [1, 0, 1, -1, -1, -1, 1, 1, 1, -1, -1, -1, 1, -1, 1, 1],\n",
    " [-1, -1, 1, -1, -1, -1, 1, 1, 1, -1, -1, -1, -1, -1, 1, 0],\n",
    " [1, 1, 1, -1, -1, 0, 1, 1, -1, -1, 1, -1, -1, -1, 1, 1],\n",
    " [-1, -1, -1, 1, 1, 1, -1, -1, -1, -1, -1, 1, 1, 1, -1, 1],\n",
    " [-1, 1, 1, -1, -1, 0, 1, 1, 1, 1, 1, -1, 0, 1, 1, 1],\n",
    " [-1, 1, -1, 1, 1, 1, -1, -1, -1, -1, -1, 1, 0, 0, -1, 0],\n",
    " [-1, -1, 1, 1, 1, 1, -1, -1, -1, 1, -1, 1, 1, 1, 1, 1]]   "
   ]
  },
  {
   "cell_type": "code",
   "execution_count": null,
   "metadata": {},
   "outputs": [],
   "source": [
    "clases_votos=[1, 1, 1, 0, 1, 1, 1, 0, 0, 0, 0, 1, 1, 1, 0, 0, 0, 1, 1, 0, 1, 1,\n",
    "  0, 1, 1, 1, 0, 1, 0, 1, 0, 1, 1, 1, 0, 1, 0, 1, 1, 1, 0, 1, 1, 0,\n",
    "  0, 0, 1, 1, 0, 1, 0, 1, 1, 1, 0, 1, 1, 1, 1, 0, 1, 1, 0, 1, 1, 1,\n",
    "  0, 1, 0, 0, 0, 1, 0, 0, 0, 0, 1, 0, 1, 1, 0, 0, 1, 1, 1, 1, 1, 1,\n",
    "  0, 1, 1, 1, 0, 1, 1, 0, 0, 0, 0, 1, 1, 1, 1, 1, 1, 0, 1, 0, 0]"
   ]
  },
  {
   "cell_type": "markdown",
   "metadata": {},
   "source": [
    "***"
   ]
  },
  {
   "cell_type": "markdown",
   "metadata": {},
   "source": [
    "### El conjunto de datos _Iris_"
   ]
  },
  {
   "cell_type": "markdown",
   "metadata": {},
   "source": [
    "Datos sobre la planta de iris y su clasificación entres tipos distintos. Los datos reflejan medidas de la flor de una planta de iris, y su clasificación entre los tipos _Setosa_, _Virgínica_ o _Versicolor_.\n",
    "\n",
    "Los cuatro atributos son:\n",
    "\n",
    "- longitud de sépalo\n",
    "- anchura de sépalo\n",
    "- longitud de pétalo \n",
    "- anchura de pétalo\n",
    "\n",
    "La clasificación se codifica de la siguiente manera:\n",
    "\n",
    "- 0: Iris Setosa\n",
    "- 1: Iris Versicolour\n",
    "- 2: Iris Virginica"
   ]
  },
  {
   "cell_type": "markdown",
   "metadata": {},
   "source": [
    "Lo que sigue es un subconjunto de 75 ejemplos del dataset original. Los ejemplos y la correspondiente clasificación están separados pero en el mismo orden:"
   ]
  },
  {
   "cell_type": "code",
   "execution_count": null,
   "metadata": {},
   "outputs": [],
   "source": [
    "ejemplos_iris=[\n",
    "       [5.8, 2.8, 5.1, 2.4],\n",
    "       [6. , 2.2, 4. , 1. ],\n",
    "       [5.5, 4.2, 1.4, 0.2],\n",
    "       [7.3, 2.9, 6.3, 1.8],\n",
    "       [5. , 3.4, 1.5, 0.2],\n",
    "       [6.3, 3.3, 6. , 2.5],\n",
    "       [5. , 3.5, 1.3, 0.3],\n",
    "       [6.7, 3.1, 4.7, 1.5],\n",
    "       [6.8, 2.8, 4.8, 1.4],\n",
    "       [6.1, 2.8, 4. , 1.3],\n",
    "       [6.1, 2.6, 5.6, 1.4],\n",
    "       [6.4, 3.2, 4.5, 1.5],\n",
    "       [6.1, 2.8, 4.7, 1.2],\n",
    "       [6.5, 2.8, 4.6, 1.5],\n",
    "       [6.1, 2.9, 4.7, 1.4],\n",
    "       [4.9, 3.6, 1.4, 0.1],\n",
    "       [6. , 2.9, 4.5, 1.5],\n",
    "       [5.5, 2.6, 4.4, 1.2],\n",
    "       [4.8, 3. , 1.4, 0.3],\n",
    "       [5.4, 3.9, 1.3, 0.4],\n",
    "       [5.6, 2.8, 4.9, 2. ],\n",
    "       [5.6, 3. , 4.5, 1.5],\n",
    "       [4.8, 3.4, 1.9, 0.2],\n",
    "       [4.4, 2.9, 1.4, 0.2],\n",
    "       [6.2, 2.8, 4.8, 1.8],\n",
    "       [4.6, 3.6, 1. , 0.2],\n",
    "       [5.1, 3.8, 1.9, 0.4],\n",
    "       [6.2, 2.9, 4.3, 1.3],\n",
    "       [5. , 2.3, 3.3, 1. ],\n",
    "       [5. , 3.4, 1.6, 0.4],\n",
    "       [6.4, 3.1, 5.5, 1.8],\n",
    "       [5.4, 3. , 4.5, 1.5],\n",
    "       [5.2, 3.5, 1.5, 0.2],\n",
    "       [6.1, 3. , 4.9, 1.8],\n",
    "       [6.4, 2.8, 5.6, 2.2],\n",
    "       [5.2, 2.7, 3.9, 1.4],\n",
    "       [5.7, 3.8, 1.7, 0.3],\n",
    "       [6. , 2.7, 5.1, 1.6],\n",
    "       [5.9, 3. , 4.2, 1.5],\n",
    "       [5.8, 2.6, 4. , 1.2],\n",
    "       [6.8, 3. , 5.5, 2.1],\n",
    "       [4.7, 3.2, 1.3, 0.2],\n",
    "       [6.9, 3.1, 5.1, 2.3],\n",
    "       [5. , 3.5, 1.6, 0.6],\n",
    "       [5.4, 3.7, 1.5, 0.2],\n",
    "       [5. , 2. , 3.5, 1. ],\n",
    "       [6.5, 3. , 5.5, 1.8],\n",
    "       [6.7, 3.3, 5.7, 2.5],\n",
    "       [6. , 2.2, 5. , 1.5],\n",
    "       [6.7, 2.5, 5.8, 1.8],\n",
    "       [5.6, 2.5, 3.9, 1.1],\n",
    "       [7.7, 3. , 6.1, 2.3],\n",
    "       [6.3, 3.3, 4.7, 1.6],\n",
    "       [5.5, 2.4, 3.8, 1.1],\n",
    "       [6.3, 2.7, 4.9, 1.8],\n",
    "       [6.3, 2.8, 5.1, 1.5],\n",
    "       [4.9, 2.5, 4.5, 1.7],\n",
    "       [6.3, 2.5, 5. , 1.9],\n",
    "       [7. , 3.2, 4.7, 1.4],\n",
    "       [6.5, 3. , 5.2, 2. ],\n",
    "       [6. , 3.4, 4.5, 1.6],\n",
    "       [4.8, 3.1, 1.6, 0.2],\n",
    "       [5.8, 2.7, 5.1, 1.9],\n",
    "       [5.6, 2.7, 4.2, 1.3],\n",
    "       [5.6, 2.9, 3.6, 1.3],\n",
    "       [5.5, 2.5, 4. , 1.3],\n",
    "       [6.1, 3. , 4.6, 1.4],\n",
    "       [7.2, 3.2, 6. , 1.8],\n",
    "       [5.3, 3.7, 1.5, 0.2],\n",
    "       [4.3, 3. , 1.1, 0.1],\n",
    "       [6.4, 2.7, 5.3, 1.9],\n",
    "       [5.7, 3. , 4.2, 1.2],\n",
    "       [5.4, 3.4, 1.7, 0.2],\n",
    "       [5.7, 4.4, 1.5, 0.4],\n",
    "       [6.9, 3.1, 4.9, 1.5]]"
   ]
  },
  {
   "cell_type": "code",
   "execution_count": null,
   "metadata": {},
   "outputs": [],
   "source": [
    "clases_iris=[2, 1, 0, 2, 0, 2, 0, 1, 1, 1, 2, 1, 1, 1, 1, 0, 1, 1, 0, 0, 2, 1,\n",
    "       0, 0, 2, 0, 0, 1, 1, 0, 2, 1, 0, 2, 2, 1, 0, 1, 1, 1, 2, 0, 2, 0,\n",
    "       0, 1, 2, 2, 2, 2, 1, 2, 1, 1, 2, 2, 2, 2, 1, 2, 1, 0, 2, 1, 1, 1,\n",
    "       1, 2, 0, 0, 2, 1, 0, 0, 1]"
   ]
  },
  {
   "cell_type": "markdown",
   "metadata": {},
   "source": [
    "***"
   ]
  },
  {
   "cell_type": "markdown",
   "metadata": {},
   "source": [
    "#### Ejercicio 6"
   ]
  },
  {
   "cell_type": "markdown",
   "metadata": {},
   "source": [
    "- Definir una función `predict_bin(f_red,ejemplo)` que recibe una función `f_red` que implementa una red neuronal con una única unidad de salida con sigmoide (como por ejemplo `f_rv1`o `f_rv2`), y devuelve la clase (0 ó 1) que la red predice para un `ejemplo` de entrada.\n",
    "- Definir una función `aciertos_bin(f_red,X,y)` que calcula la proporción de aciertos que la red implementada por `f_red` en la clasificación del conjunto de datos dado por `X` (ejemplos) e `y` (clases respectivas). \n",
    "- Definir una función `error_cuadrático(f_red,X,y)`, que con los mismos argumentos que la anterior, calcula el error cuadrático que se comete. "
   ]
  },
  {
   "cell_type": "code",
   "execution_count": null,
   "metadata": {},
   "outputs": [],
   "source": [
    "# Solución: \n",
    "\n",
    "\n",
    "\n",
    "\n",
    "\n",
    "\n",
    "\n",
    "\n"
   ]
  },
  {
   "cell_type": "markdown",
   "metadata": {},
   "source": [
    "Ejemplos con `predict_bin`:"
   ]
  },
  {
   "cell_type": "code",
   "execution_count": null,
   "metadata": {},
   "outputs": [],
   "source": [
    "# Predicción con rv1 para votos, para el ejemplo de índice 12\n",
    "# -----------------------------------------------------------\n",
    "\n",
    "# predict_bin(f_rv1,ejemplos_votos[12])\n",
    "# Resultado: 0 (es decir, republicano)\n",
    "# Nótese que es una predicción equivocada, ya que clases_votos[12] es 1 (es decir, demócrata)\n",
    "\n",
    "# predict_bin(f_rv2,ejemplos_votos[12])\n",
    "# Resultado: 1 (predicción acertada en este caso)"
   ]
  },
  {
   "cell_type": "markdown",
   "metadata": {},
   "source": [
    "\n",
    "Resultados de aciertos y error cuadrático:"
   ]
  },
  {
   "cell_type": "code",
   "execution_count": null,
   "metadata": {},
   "outputs": [],
   "source": [
    "# aciertos_bin(f_rv1,ejemplos_votos,clases_votos)\n",
    "# Resultado: 0.8807339449541285\n",
    "\n",
    "# aciertos_bin(f_rv2,ejemplos_votos,clases_votos)\n",
    "# Resultado: 0.5045871559633027\n",
    "\n",
    "# error_cuadrático(f_rv1,ejemplos_votos,clases_votos)\n",
    "# Resultado: 6.691748794128554\n",
    "\n",
    "# error_cuadrático(f_rv2,ejemplos_votos,clases_votos)\n",
    "# Resultado: 24.736655240424312\n"
   ]
  },
  {
   "cell_type": "markdown",
   "metadata": {},
   "source": [
    "A la vista de los resultados, contestar a las siguientes preguntas:\n",
    "\n",
    "- ¿qué red (`rv1` o `rv2`) es mejor como clasificador en el problema de los votos? \n",
    "- ¿qué relación existe entre el porcentaje de aciertos y el error cuadrático? "
   ]
  },
  {
   "cell_type": "markdown",
   "metadata": {},
   "source": [
    "#### Ejercicio 7"
   ]
  },
  {
   "cell_type": "markdown",
   "metadata": {},
   "source": [
    "- Definir una función `predict_multiclase(f_red,ejemplo)` que recibe una función `f_red` que implementa una red neuronal con más de dos unidades de salida con softmax (como por ejemplo `f_ri1`o `f_ri2`), y devuelve la clase (0,1,2,...) que la red predice para un `ejemplo` de entrada.\n",
    "- Definir una función `aciertos_multiclase(f_red,X,y)` que calcula la proporción de aciertos que la red implementada por `f_red` en la clasificación del conjunto de datos dado por `X` (ejemplos) e `y` (clases respectivas). \n",
    "- Decidir qué red (`ri1` o `ri2`) es mejor como clasificador para el problema de clasificar la planta del iris.  "
   ]
  },
  {
   "cell_type": "code",
   "execution_count": null,
   "metadata": {},
   "outputs": [],
   "source": [
    "# Solución: \n",
    "\n",
    "\n",
    "\n",
    "\n",
    "\n",
    "\n",
    "\n",
    "\n",
    "\n"
   ]
  },
  {
   "cell_type": "markdown",
   "metadata": {},
   "source": [
    "-------------------------------"
   ]
  },
  {
   "cell_type": "markdown",
   "metadata": {},
   "source": [
    "### Parte 3: Aprendizaje del perceptrón"
   ]
  },
  {
   "cell_type": "markdown",
   "metadata": {},
   "source": [
    "En esta última parte vamos a dedicarlas a algoritmos de aprendizaje de los pesos de una red. Es decir, tratar de encontrar los pesos que hacen que la correspondiente red sea un buen clasificador. \n",
    "\n",
    "En las diapositivas del tema se han visto en detalle algoritmos para el caso de red más sencillo: redes con una capa de entrada de $n$ unidades, sin capas ocultas, y con una única unidad de salida, usadas para clasificación binaria. En lo que sigue implementaremos los dos siguientes algoritmos:\n",
    "\n",
    "- Entrenamiento del perceptrón con función de activación umbral\n",
    "- Entrenamiento del perceptrón con sigmoide, usando la regla delta.\n"
   ]
  },
  {
   "cell_type": "markdown",
   "metadata": {},
   "source": [
    "A partir de ahora, identificaremos un perceptron de $n$ entradas con un vector de $n$ pesos $w=(w_1,\\ldots,w_n)$, junto con el peso umbral $w_0$"
   ]
  },
  {
   "cell_type": "markdown",
   "metadata": {},
   "source": [
    "#### Ejercicio 8"
   ]
  },
  {
   "cell_type": "markdown",
   "metadata": {},
   "source": [
    "Definir una función `salida_perceptron_umbral(w0,w,ej)` que devuelve la salida de un perceptrón (dado por el peso umbral `w0` y el vector de pesos `w`) sobre un ejemplo de entrada `ej`, suponiendo que el perceptrón usa la función umbral como función de activación. "
   ]
  },
  {
   "cell_type": "code",
   "execution_count": null,
   "metadata": {},
   "outputs": [],
   "source": [
    "# Solución:\n",
    "\n",
    "\n",
    "\n",
    "\n",
    "\n",
    "\n"
   ]
  },
  {
   "cell_type": "markdown",
   "metadata": {},
   "source": [
    "Ejemplos:"
   ]
  },
  {
   "cell_type": "code",
   "execution_count": null,
   "metadata": {},
   "outputs": [],
   "source": [
    "# salida_perceptron_umbral(3.2,[-1.23,2.34,-0.45],[0.7,-3.21,1.1])\n",
    "# Resultado: 0\n",
    "\n",
    "# salida_perceptron_umbral(3.2,[-1.23,2.34,-0.45],[-1.6,3.21,-1.1])\n",
    "# Resultado: 1"
   ]
  },
  {
   "cell_type": "markdown",
   "metadata": {},
   "source": [
    "#### Ejercicio 9"
   ]
  },
  {
   "cell_type": "markdown",
   "metadata": {},
   "source": [
    "Implementar una clase `Clasificador_Perceptron_Umbral` con dos métodos:\n",
    "\n",
    "- Método `entrena(entr,clas_entr,n_epochs,tasa)` que entrena el perceptrón umbral aplicando el algoritmo correspondiente que se ha visto en las diapositivas del tema 7. Los argumentos son `entr` (ejemplos de entrenamiento), `clas_entr` (clasificación de los ejemplos del conjunto de entrenamiento), `n_epochs` (número de epochs) y `tasa` (tasa de aprendizaje).  \n",
    "\n",
    "- Método `clasifica(ej)` que devuelve la predicción que sobre un ejemplo `ej`hace el perceptrón una vez se ha entrenado previamente. "
   ]
  },
  {
   "cell_type": "code",
   "execution_count": null,
   "metadata": {},
   "outputs": [],
   "source": [
    "# Solución: \n",
    "# ---------\n",
    "\n",
    "\n",
    "\n",
    "\n",
    "\n",
    "\n",
    "\n",
    "\n",
    "\n"
   ]
  },
  {
   "cell_type": "markdown",
   "metadata": {},
   "source": [
    "Ejemplo de entrenamiento de un perceptrón con los datos de _Votos_:"
   ]
  },
  {
   "cell_type": "code",
   "execution_count": null,
   "metadata": {},
   "outputs": [],
   "source": [
    "# Ejemplo\n",
    "\n",
    "# cpuv=Clasificador_Perceptron_Umbral()\n",
    "# cpuv.entrena(ejemplos_votos,clases_votos,tasa=0.1,n_epochs=50)\n",
    "\n",
    "# Función para medir el porcentaje de aciertos de un clasificador\n",
    "# def rendimiento(clf,X,y):\n",
    "#     return sum(yi==clf.clasifica(xi) for xi,yi in zip(X,y))/len(y)\n",
    "\n",
    "# rendimiento(cpuv,ejemplos_votos,clases_votos)\n",
    "\n",
    "# Resultado: 1.0 \n",
    "\n",
    "# Nota: es decir, se ha encontrado un perceptrón que \n",
    "#       se ha adaptado perfectamente al conjunto de entre)\n"
   ]
  },
  {
   "cell_type": "markdown",
   "metadata": {},
   "source": [
    "Estudiar el comportamiento del algoritmo de entrenamiento probando con distintos valores de tasa y número de epochs."
   ]
  },
  {
   "cell_type": "markdown",
   "metadata": {},
   "source": [
    "-------------------------"
   ]
  },
  {
   "cell_type": "markdown",
   "metadata": {},
   "source": [
    "#### Ejercicio 10"
   ]
  },
  {
   "cell_type": "markdown",
   "metadata": {},
   "source": [
    "Implementar una clase `Clasificador_Perceptron_Regla_Delta`, análoga a la del ejercicio anterior, pero implementando el algoritmo de entrenamiento de la _regla Delta_ para perceptrones que usan el sigmoide como función de activación, tal y como se describe en las diapositivas del tema 7. "
   ]
  },
  {
   "cell_type": "code",
   "execution_count": null,
   "metadata": {},
   "outputs": [],
   "source": [
    "# Solución:\n",
    "# =========\n",
    "\n",
    "\n",
    "\n",
    "\n",
    "\n",
    "\n",
    "\n",
    "\n",
    "\n"
   ]
  },
  {
   "cell_type": "markdown",
   "metadata": {},
   "source": [
    "Ejemplo de entrenamiento con los datos de *Votos*: "
   ]
  },
  {
   "cell_type": "code",
   "execution_count": null,
   "metadata": {},
   "outputs": [],
   "source": [
    "# Ejemplo:\n",
    "\n",
    "# cpdv=Clasificador_Perceptron_Regla_Delta()\n",
    "# cpdv.entrena(ejemplos_votos,clases_votos,tasa=0.01,n_epochs=100)\n",
    "\n",
    "# rendimiento(cpdv,ejemplos_votos,clases_votos)\n",
    "# Resultado: 0.9724770642201835"
   ]
  },
  {
   "cell_type": "markdown",
   "metadata": {},
   "source": [
    "Igual que en el ejercicio anterior, experimentar con distintos valores de tasa y epochs. "
   ]
  }
 ],
 "metadata": {
  "kernelspec": {
   "display_name": "Python 3",
   "language": "python",
   "name": "python3"
  },
  "language_info": {
   "codemirror_mode": {
    "name": "ipython",
    "version": 3
   },
   "file_extension": ".py",
   "mimetype": "text/x-python",
   "name": "python",
   "nbconvert_exporter": "python",
   "pygments_lexer": "ipython3",
   "version": "3.7.4"
  }
 },
 "nbformat": 4,
 "nbformat_minor": 2
}
