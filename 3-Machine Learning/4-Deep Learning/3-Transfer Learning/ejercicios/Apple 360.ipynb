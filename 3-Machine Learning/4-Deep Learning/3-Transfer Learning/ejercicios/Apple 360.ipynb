{
 "cells": [
  {
   "cell_type": "markdown",
   "metadata": {},
   "source": [
    "## Apple 360\n",
    "\n",
    "En este ejercicio vas a montar un clasificador de manzanas mediante un dataset de imágenes. El dataset se compone de 9 tipos diferentes con aproximadamente unas 200 imágenes por cada tipo. Tendrás que montar un modelo de deep learning que utilice **transfer learning**. Se sugiere empezar con una red ResNet50 con imagenet.\n",
    "\n",
    "El clasificador debe constar también de ***image augmentation*** para que se entrene con una mayor cantidad de casos y perspectivas de las frutas.\n",
    "\n",
    "El dataset original proviene del [concurso de Kaggle Fruits 360](https://www.kaggle.com/moltean/fruits), pero adaptado para la clasificación de una menor cantidad de casos (sólo las manzanas).\n",
    "\n",
    "Se recomienda utilizar una solución de procesado y entrenamiento en la nube como Google Colab para minimizar la velocidad de entrenamieto del modelo.\n",
    "\n",
    "**Los datos los tienes disponibles en Google Classroom**"
   ]
  }
 ],
 "metadata": {
  "kernelspec": {
   "display_name": "Python 3",
   "language": "python",
   "name": "python3"
  },
  "language_info": {
   "codemirror_mode": {
    "name": "ipython",
    "version": 3
   },
   "file_extension": ".py",
   "mimetype": "text/x-python",
   "name": "python",
   "nbconvert_exporter": "python",
   "pygments_lexer": "ipython3",
   "version": "3.8.5"
  }
 },
 "nbformat": 4,
 "nbformat_minor": 4
}
